{
 "cells": [
  {
   "cell_type": "markdown",
   "metadata": {},
   "source": [
    "# Introduction to Lotka-Volterra Competition"
   ]
  },
  {
   "cell_type": "code",
   "execution_count": 2,
   "metadata": {},
   "outputs": [],
   "source": [
    "using Parameters\n",
    "using DifferentialEquations\n",
    "using ForwardDiff\n",
    "using Plots\n",
    "using Interact"
   ]
  },
  {
   "cell_type": "markdown",
   "metadata": {},
   "source": [
    "# Introduction/Overview\n",
    "This notebook is simply looking at the two species L-V competiti9on model. Here, we are exploring the geometry and dynamics of this model."
   ]
  },
  {
   "cell_type": "markdown",
   "metadata": {},
   "source": [
    "# Model and Equilibria\n",
    "The model we will use is the classical LV competition model:"
   ]
  },
  {
   "cell_type": "code",
   "execution_count": 3,
   "metadata": {},
   "outputs": [
    {
     "data": {
      "text/plain": [
       "lv_comp (generic function with 2 methods)"
      ]
     },
     "execution_count": 3,
     "metadata": {},
     "output_type": "execute_result"
    }
   ],
   "source": [
    "# Inplace definition (the `du` array is passed to the function and changed), the default way to define this in Julia.\n",
    "function lv_comp(du, u, p, t)\n",
    "    @unpack r1, r2, α12, α21, K1, K2 = p\n",
    "    du[1] = u[1] * r1 * (1 - (u[1] + α12 * u[2]) / K1)\n",
    "    du[2] = u[2] * r2 * (1 - (u[2] + α21 * u[1]) / K2)\n",
    "    return\n",
    "end\n",
    "\n",
    "# Make a version that allocates the output `du`, useful for symbolic calculations\n",
    "function lv_comp(u, p, t)\n",
    "    du = similar(u)\n",
    "    lv_comp(du, u, p, t)\n",
    "    return du\n",
    "end"
   ]
  },
  {
   "cell_type": "markdown",
   "metadata": {},
   "source": [
    "# Model Parameters"
   ]
  },
  {
   "cell_type": "code",
   "execution_count": 4,
   "metadata": {},
   "outputs": [
    {
     "data": {
      "text/plain": [
       "LVPar"
      ]
     },
     "execution_count": 4,
     "metadata": {},
     "output_type": "execute_result"
    }
   ],
   "source": [
    "@with_kw mutable struct LVPar\n",
    "    α12 = 0.8\n",
    "    α21 = 0.3\n",
    "    r1 = 1.0\n",
    "    r2 = 2.0\n",
    "    K1 = 1.5\n",
    "    K2 = 1.0\n",
    "end"
   ]
  },
  {
   "cell_type": "markdown",
   "metadata": {},
   "source": [
    "# Evaluationg the model -- time series"
   ]
  },
  {
   "cell_type": "code",
   "execution_count": 5,
   "metadata": {},
   "outputs": [
    {
     "data": {
      "application/vnd.webio.node+json": {
       "children": [
        {
         "children": [
          {
           "children": [
            {
             "children": [
              {
               "children": [
                {
                 "children": [
                  "α12"
                 ],
                 "instanceArgs": {
                  "namespace": "html",
                  "tag": "label"
                 },
                 "nodeType": "DOM",
                 "props": {
                  "className": "interact ",
                  "style": {
                   "padding": "5px 10px 0px 10px"
                  }
                 },
                 "type": "node"
                }
               ],
               "instanceArgs": {
                "namespace": "html",
                "tag": "div"
               },
               "nodeType": "DOM",
               "props": {
                "className": "interact-flex-row-left"
               },
               "type": "node"
              },
              {
               "children": [
                {
                 "children": [],
                 "instanceArgs": {
                  "namespace": "html",
                  "tag": "input"
                 },
                 "nodeType": "DOM",
                 "props": {
                  "attributes": {
                   "data-bind": "numericValue: index, valueUpdate: 'input', event: {change: function (){this.changes(this.changes()+1)}}",
                   "orient": "horizontal",
                   "type": "range"
                  },
                  "className": "slider slider is-fullwidth",
                  "max": 191,
                  "min": 1,
                  "step": 1,
                  "style": {}
                 },
                 "type": "node"
                }
               ],
               "instanceArgs": {
                "namespace": "html",
                "tag": "div"
               },
               "nodeType": "DOM",
               "props": {
                "className": "interact-flex-row-center"
               },
               "type": "node"
              },
              {
               "children": [
                {
                 "children": [],
                 "instanceArgs": {
                  "namespace": "html",
                  "tag": "p"
                 },
                 "nodeType": "DOM",
                 "props": {
                  "attributes": {
                   "data-bind": "text: formatted_val"
                  }
                 },
                 "type": "node"
                }
               ],
               "instanceArgs": {
                "namespace": "html",
                "tag": "div"
               },
               "nodeType": "DOM",
               "props": {
                "className": "interact-flex-row-right"
               },
               "type": "node"
              }
             ],
             "instanceArgs": {
              "namespace": "html",
              "tag": "div"
             },
             "nodeType": "DOM",
             "props": {
              "className": "interact-flex-row interact-widget"
             },
             "type": "node"
            }
           ],
           "instanceArgs": {
            "handlers": {
             "changes": [
              "(function (val){return (val!=this.model[\"changes\"]()) ? (this.valueFromJulia[\"changes\"]=true, this.model[\"changes\"](val)) : undefined})"
             ],
             "index": [
              "(function (val){return (val!=this.model[\"index\"]()) ? (this.valueFromJulia[\"index\"]=true, this.model[\"index\"](val)) : undefined})"
             ]
            },
            "id": "11756259643883916071",
            "imports": {
             "data": [
              {
               "name": "knockout",
               "type": "js",
               "url": "/assetserver/fd311416c3fbf748771c2940b2ca4b79c53d1ab2-knockout.js"
              },
              {
               "name": "knockout_punches",
               "type": "js",
               "url": "/assetserver/148711b519458f42f1e7a22e5bdf7a74f9d5f8e0-knockout_punches.js"
              },
              {
               "name": null,
               "type": "js",
               "url": "/assetserver/96387ddaa2b47f2577dbef3402b61deb55b692cb-all.js"
              },
              {
               "name": null,
               "type": "css",
               "url": "/assetserver/1205e2cb75bbf44a95189d9e430e22f4b3018051-style.css"
              },
              {
               "name": null,
               "type": "css",
               "url": "/assetserver/e47939cc599f2b791e3e3e81f0cfd77c1a048dd3-bulma_confined.min.css"
              }
             ],
             "type": "async_block"
            },
            "mount_callbacks": [
             "function () {\n    var handler = (function (ko, koPunches) {\n    ko.punches.enableAll();\n    ko.bindingHandlers.numericValue = {\n        init: function(element, valueAccessor, allBindings, data, context) {\n            var stringified = ko.observable(ko.unwrap(valueAccessor()));\n            stringified.subscribe(function(value) {\n                var val = parseFloat(value);\n                if (!isNaN(val)) {\n                    valueAccessor()(val);\n                }\n            });\n            valueAccessor().subscribe(function(value) {\n                var str = JSON.stringify(value);\n                if ((str == \"0\") && ([\"-0\", \"-0.\"].indexOf(stringified()) >= 0))\n                     return;\n                 if ([\"null\", \"\"].indexOf(str) >= 0)\n                     return;\n                stringified(str);\n            });\n            ko.applyBindingsToNode(\n                element,\n                {\n                    value: stringified,\n                    valueUpdate: allBindings.get('valueUpdate'),\n                },\n                context,\n            );\n        }\n    };\n    var json_data = {\"formatted_vals\":[\"0.1\",\"0.11\",\"0.12\",\"0.13\",\"0.14\",\"0.15\",\"0.16\",\"0.17\",\"0.18\",\"0.19\",\"0.2\",\"0.21\",\"0.22\",\"0.23\",\"0.24\",\"0.25\",\"0.26\",\"0.27\",\"0.28\",\"0.29\",\"0.3\",\"0.31\",\"0.32\",\"0.33\",\"0.34\",\"0.35\",\"0.36\",\"0.37\",\"0.38\",\"0.39\",\"0.4\",\"0.41\",\"0.42\",\"0.43\",\"0.44\",\"0.45\",\"0.46\",\"0.47\",\"0.48\",\"0.49\",\"0.5\",\"0.51\",\"0.52\",\"0.53\",\"0.54\",\"0.55\",\"0.56\",\"0.57\",\"0.58\",\"0.59\",\"0.6\",\"0.61\",\"0.62\",\"0.63\",\"0.64\",\"0.65\",\"0.66\",\"0.67\",\"0.68\",\"0.69\",\"0.7\",\"0.71\",\"0.72\",\"0.73\",\"0.74\",\"0.75\",\"0.76\",\"0.77\",\"0.78\",\"0.79\",\"0.8\",\"0.81\",\"0.82\",\"0.83\",\"0.84\",\"0.85\",\"0.86\",\"0.87\",\"0.88\",\"0.89\",\"0.9\",\"0.91\",\"0.92\",\"0.93\",\"0.94\",\"0.95\",\"0.96\",\"0.97\",\"0.98\",\"0.99\",\"1.0\",\"1.01\",\"1.02\",\"1.03\",\"1.04\",\"1.05\",\"1.06\",\"1.07\",\"1.08\",\"1.09\",\"1.1\",\"1.11\",\"1.12\",\"1.13\",\"1.14\",\"1.15\",\"1.16\",\"1.17\",\"1.18\",\"1.19\",\"1.2\",\"1.21\",\"1.22\",\"1.23\",\"1.24\",\"1.25\",\"1.26\",\"1.27\",\"1.28\",\"1.29\",\"1.3\",\"1.31\",\"1.32\",\"1.33\",\"1.34\",\"1.35\",\"1.36\",\"1.37\",\"1.38\",\"1.39\",\"1.4\",\"1.41\",\"1.42\",\"1.43\",\"1.44\",\"1.45\",\"1.46\",\"1.47\",\"1.48\",\"1.49\",\"1.5\",\"1.51\",\"1.52\",\"1.53\",\"1.54\",\"1.55\",\"1.56\",\"1.57\",\"1.58\",\"1.59\",\"1.6\",\"1.61\",\"1.62\",\"1.63\",\"1.64\",\"1.65\",\"1.66\",\"1.67\",\"1.68\",\"1.69\",\"1.7\",\"1.71\",\"1.72\",\"1.73\",\"1.74\",\"1.75\",\"1.76\",\"1.77\",\"1.78\",\"1.79\",\"1.8\",\"1.81\",\"1.82\",\"1.83\",\"1.84\",\"1.85\",\"1.86\",\"1.87\",\"1.88\",\"1.89\",\"1.9\",\"1.91\",\"1.92\",\"1.93\",\"1.94\",\"1.95\",\"1.96\",\"1.97\",\"1.98\",\"1.99\",\"2.0\"],\"changes\":WebIO.getval({\"name\":\"changes\",\"scope\":\"11756259643883916071\",\"id\":\"ob_03\",\"type\":\"observable\"}),\"index\":WebIO.getval({\"name\":\"index\",\"scope\":\"11756259643883916071\",\"id\":\"ob_02\",\"type\":\"observable\"})};\n    var self = this;\n    function AppViewModel() {\n        for (var key in json_data) {\n            var el = json_data[key];\n            this[key] = Array.isArray(el) ? ko.observableArray(el) : ko.observable(el);\n        }\n        \n        [this[\"formatted_val\"]=ko.computed(    function(){\n        return this.formatted_vals()[parseInt(this.index())-(1)];\n    }\n,this)]\n        [this[\"changes\"].subscribe((function (val){!(this.valueFromJulia[\"changes\"]) ? (WebIO.setval({\"name\":\"changes\",\"scope\":\"11756259643883916071\",\"id\":\"ob_03\",\"type\":\"observable\"},val)) : undefined; return this.valueFromJulia[\"changes\"]=false}),self),this[\"index\"].subscribe((function (val){!(this.valueFromJulia[\"index\"]) ? (WebIO.setval({\"name\":\"index\",\"scope\":\"11756259643883916071\",\"id\":\"ob_02\",\"type\":\"observable\"},val)) : undefined; return this.valueFromJulia[\"index\"]=false}),self)]\n        \n    }\n    self.model = new AppViewModel();\n    self.valueFromJulia = {};\n    for (var key in json_data) {\n        self.valueFromJulia[key] = false;\n    }\n    ko.applyBindings(self.model, self.dom);\n}\n);\n    (WebIO.importBlock({\"data\":[{\"name\":\"knockout\",\"type\":\"js\",\"url\":\"/assetserver/fd311416c3fbf748771c2940b2ca4b79c53d1ab2-knockout.js\"},{\"name\":\"knockout_punches\",\"type\":\"js\",\"url\":\"/assetserver/148711b519458f42f1e7a22e5bdf7a74f9d5f8e0-knockout_punches.js\"}],\"type\":\"async_block\"})).then((imports) => handler.apply(this, imports));\n}\n"
            ],
            "observables": {
             "changes": {
              "id": "ob_03",
              "sync": false,
              "value": 0
             },
             "index": {
              "id": "ob_02",
              "sync": true,
              "value": 71
             }
            },
            "systemjs_options": null
           },
           "nodeType": "Scope",
           "props": {},
           "type": "node"
          }
         ],
         "instanceArgs": {
          "namespace": "html",
          "tag": "div"
         },
         "nodeType": "DOM",
         "props": {
          "className": "field interact-widget"
         },
         "type": "node"
        },
        {
         "children": [
          {
           "children": [
            {
             "children": [
              {
               "children": [
                {
                 "children": [
                  "α21"
                 ],
                 "instanceArgs": {
                  "namespace": "html",
                  "tag": "label"
                 },
                 "nodeType": "DOM",
                 "props": {
                  "className": "interact ",
                  "style": {
                   "padding": "5px 10px 0px 10px"
                  }
                 },
                 "type": "node"
                }
               ],
               "instanceArgs": {
                "namespace": "html",
                "tag": "div"
               },
               "nodeType": "DOM",
               "props": {
                "className": "interact-flex-row-left"
               },
               "type": "node"
              },
              {
               "children": [
                {
                 "children": [],
                 "instanceArgs": {
                  "namespace": "html",
                  "tag": "input"
                 },
                 "nodeType": "DOM",
                 "props": {
                  "attributes": {
                   "data-bind": "numericValue: index, valueUpdate: 'input', event: {change: function (){this.changes(this.changes()+1)}}",
                   "orient": "horizontal",
                   "type": "range"
                  },
                  "className": "slider slider is-fullwidth",
                  "max": 191,
                  "min": 1,
                  "step": 1,
                  "style": {}
                 },
                 "type": "node"
                }
               ],
               "instanceArgs": {
                "namespace": "html",
                "tag": "div"
               },
               "nodeType": "DOM",
               "props": {
                "className": "interact-flex-row-center"
               },
               "type": "node"
              },
              {
               "children": [
                {
                 "children": [],
                 "instanceArgs": {
                  "namespace": "html",
                  "tag": "p"
                 },
                 "nodeType": "DOM",
                 "props": {
                  "attributes": {
                   "data-bind": "text: formatted_val"
                  }
                 },
                 "type": "node"
                }
               ],
               "instanceArgs": {
                "namespace": "html",
                "tag": "div"
               },
               "nodeType": "DOM",
               "props": {
                "className": "interact-flex-row-right"
               },
               "type": "node"
              }
             ],
             "instanceArgs": {
              "namespace": "html",
              "tag": "div"
             },
             "nodeType": "DOM",
             "props": {
              "className": "interact-flex-row interact-widget"
             },
             "type": "node"
            }
           ],
           "instanceArgs": {
            "handlers": {
             "changes": [
              "(function (val){return (val!=this.model[\"changes\"]()) ? (this.valueFromJulia[\"changes\"]=true, this.model[\"changes\"](val)) : undefined})"
             ],
             "index": [
              "(function (val){return (val!=this.model[\"index\"]()) ? (this.valueFromJulia[\"index\"]=true, this.model[\"index\"](val)) : undefined})"
             ]
            },
            "id": "4668872470954038922",
            "imports": {
             "data": [
              {
               "name": "knockout",
               "type": "js",
               "url": "/assetserver/fd311416c3fbf748771c2940b2ca4b79c53d1ab2-knockout.js"
              },
              {
               "name": "knockout_punches",
               "type": "js",
               "url": "/assetserver/148711b519458f42f1e7a22e5bdf7a74f9d5f8e0-knockout_punches.js"
              },
              {
               "name": null,
               "type": "js",
               "url": "/assetserver/96387ddaa2b47f2577dbef3402b61deb55b692cb-all.js"
              },
              {
               "name": null,
               "type": "css",
               "url": "/assetserver/1205e2cb75bbf44a95189d9e430e22f4b3018051-style.css"
              },
              {
               "name": null,
               "type": "css",
               "url": "/assetserver/e47939cc599f2b791e3e3e81f0cfd77c1a048dd3-bulma_confined.min.css"
              }
             ],
             "type": "async_block"
            },
            "mount_callbacks": [
             "function () {\n    var handler = (function (ko, koPunches) {\n    ko.punches.enableAll();\n    ko.bindingHandlers.numericValue = {\n        init: function(element, valueAccessor, allBindings, data, context) {\n            var stringified = ko.observable(ko.unwrap(valueAccessor()));\n            stringified.subscribe(function(value) {\n                var val = parseFloat(value);\n                if (!isNaN(val)) {\n                    valueAccessor()(val);\n                }\n            });\n            valueAccessor().subscribe(function(value) {\n                var str = JSON.stringify(value);\n                if ((str == \"0\") && ([\"-0\", \"-0.\"].indexOf(stringified()) >= 0))\n                     return;\n                 if ([\"null\", \"\"].indexOf(str) >= 0)\n                     return;\n                stringified(str);\n            });\n            ko.applyBindingsToNode(\n                element,\n                {\n                    value: stringified,\n                    valueUpdate: allBindings.get('valueUpdate'),\n                },\n                context,\n            );\n        }\n    };\n    var json_data = {\"formatted_vals\":[\"0.1\",\"0.11\",\"0.12\",\"0.13\",\"0.14\",\"0.15\",\"0.16\",\"0.17\",\"0.18\",\"0.19\",\"0.2\",\"0.21\",\"0.22\",\"0.23\",\"0.24\",\"0.25\",\"0.26\",\"0.27\",\"0.28\",\"0.29\",\"0.3\",\"0.31\",\"0.32\",\"0.33\",\"0.34\",\"0.35\",\"0.36\",\"0.37\",\"0.38\",\"0.39\",\"0.4\",\"0.41\",\"0.42\",\"0.43\",\"0.44\",\"0.45\",\"0.46\",\"0.47\",\"0.48\",\"0.49\",\"0.5\",\"0.51\",\"0.52\",\"0.53\",\"0.54\",\"0.55\",\"0.56\",\"0.57\",\"0.58\",\"0.59\",\"0.6\",\"0.61\",\"0.62\",\"0.63\",\"0.64\",\"0.65\",\"0.66\",\"0.67\",\"0.68\",\"0.69\",\"0.7\",\"0.71\",\"0.72\",\"0.73\",\"0.74\",\"0.75\",\"0.76\",\"0.77\",\"0.78\",\"0.79\",\"0.8\",\"0.81\",\"0.82\",\"0.83\",\"0.84\",\"0.85\",\"0.86\",\"0.87\",\"0.88\",\"0.89\",\"0.9\",\"0.91\",\"0.92\",\"0.93\",\"0.94\",\"0.95\",\"0.96\",\"0.97\",\"0.98\",\"0.99\",\"1.0\",\"1.01\",\"1.02\",\"1.03\",\"1.04\",\"1.05\",\"1.06\",\"1.07\",\"1.08\",\"1.09\",\"1.1\",\"1.11\",\"1.12\",\"1.13\",\"1.14\",\"1.15\",\"1.16\",\"1.17\",\"1.18\",\"1.19\",\"1.2\",\"1.21\",\"1.22\",\"1.23\",\"1.24\",\"1.25\",\"1.26\",\"1.27\",\"1.28\",\"1.29\",\"1.3\",\"1.31\",\"1.32\",\"1.33\",\"1.34\",\"1.35\",\"1.36\",\"1.37\",\"1.38\",\"1.39\",\"1.4\",\"1.41\",\"1.42\",\"1.43\",\"1.44\",\"1.45\",\"1.46\",\"1.47\",\"1.48\",\"1.49\",\"1.5\",\"1.51\",\"1.52\",\"1.53\",\"1.54\",\"1.55\",\"1.56\",\"1.57\",\"1.58\",\"1.59\",\"1.6\",\"1.61\",\"1.62\",\"1.63\",\"1.64\",\"1.65\",\"1.66\",\"1.67\",\"1.68\",\"1.69\",\"1.7\",\"1.71\",\"1.72\",\"1.73\",\"1.74\",\"1.75\",\"1.76\",\"1.77\",\"1.78\",\"1.79\",\"1.8\",\"1.81\",\"1.82\",\"1.83\",\"1.84\",\"1.85\",\"1.86\",\"1.87\",\"1.88\",\"1.89\",\"1.9\",\"1.91\",\"1.92\",\"1.93\",\"1.94\",\"1.95\",\"1.96\",\"1.97\",\"1.98\",\"1.99\",\"2.0\"],\"changes\":WebIO.getval({\"name\":\"changes\",\"scope\":\"4668872470954038922\",\"id\":\"ob_06\",\"type\":\"observable\"}),\"index\":WebIO.getval({\"name\":\"index\",\"scope\":\"4668872470954038922\",\"id\":\"ob_05\",\"type\":\"observable\"})};\n    var self = this;\n    function AppViewModel() {\n        for (var key in json_data) {\n            var el = json_data[key];\n            this[key] = Array.isArray(el) ? ko.observableArray(el) : ko.observable(el);\n        }\n        \n        [this[\"formatted_val\"]=ko.computed(    function(){\n        return this.formatted_vals()[parseInt(this.index())-(1)];\n    }\n,this)]\n        [this[\"changes\"].subscribe((function (val){!(this.valueFromJulia[\"changes\"]) ? (WebIO.setval({\"name\":\"changes\",\"scope\":\"4668872470954038922\",\"id\":\"ob_06\",\"type\":\"observable\"},val)) : undefined; return this.valueFromJulia[\"changes\"]=false}),self),this[\"index\"].subscribe((function (val){!(this.valueFromJulia[\"index\"]) ? (WebIO.setval({\"name\":\"index\",\"scope\":\"4668872470954038922\",\"id\":\"ob_05\",\"type\":\"observable\"},val)) : undefined; return this.valueFromJulia[\"index\"]=false}),self)]\n        \n    }\n    self.model = new AppViewModel();\n    self.valueFromJulia = {};\n    for (var key in json_data) {\n        self.valueFromJulia[key] = false;\n    }\n    ko.applyBindings(self.model, self.dom);\n}\n);\n    (WebIO.importBlock({\"data\":[{\"name\":\"knockout\",\"type\":\"js\",\"url\":\"/assetserver/fd311416c3fbf748771c2940b2ca4b79c53d1ab2-knockout.js\"},{\"name\":\"knockout_punches\",\"type\":\"js\",\"url\":\"/assetserver/148711b519458f42f1e7a22e5bdf7a74f9d5f8e0-knockout_punches.js\"}],\"type\":\"async_block\"})).then((imports) => handler.apply(this, imports));\n}\n"
            ],
            "observables": {
             "changes": {
              "id": "ob_06",
              "sync": false,
              "value": 0
             },
             "index": {
              "id": "ob_05",
              "sync": true,
              "value": 21
             }
            },
            "systemjs_options": null
           },
           "nodeType": "Scope",
           "props": {},
           "type": "node"
          }
         ],
         "instanceArgs": {
          "namespace": "html",
          "tag": "div"
         },
         "nodeType": "DOM",
         "props": {
          "className": "field interact-widget"
         },
         "type": "node"
        },
        {
         "children": [
          {
           "children": [
            {
             "children": [
              {
               "children": [
                {
                 "children": [
                  "K1"
                 ],
                 "instanceArgs": {
                  "namespace": "html",
                  "tag": "label"
                 },
                 "nodeType": "DOM",
                 "props": {
                  "className": "interact ",
                  "style": {
                   "padding": "5px 10px 0px 10px"
                  }
                 },
                 "type": "node"
                }
               ],
               "instanceArgs": {
                "namespace": "html",
                "tag": "div"
               },
               "nodeType": "DOM",
               "props": {
                "className": "interact-flex-row-left"
               },
               "type": "node"
              },
              {
               "children": [
                {
                 "children": [],
                 "instanceArgs": {
                  "namespace": "html",
                  "tag": "input"
                 },
                 "nodeType": "DOM",
                 "props": {
                  "attributes": {
                   "data-bind": "numericValue: index, valueUpdate: 'input', event: {change: function (){this.changes(this.changes()+1)}}",
                   "orient": "horizontal",
                   "type": "range"
                  },
                  "className": "slider slider is-fullwidth",
                  "max": 291,
                  "min": 1,
                  "step": 1,
                  "style": {}
                 },
                 "type": "node"
                }
               ],
               "instanceArgs": {
                "namespace": "html",
                "tag": "div"
               },
               "nodeType": "DOM",
               "props": {
                "className": "interact-flex-row-center"
               },
               "type": "node"
              },
              {
               "children": [
                {
                 "children": [],
                 "instanceArgs": {
                  "namespace": "html",
                  "tag": "p"
                 },
                 "nodeType": "DOM",
                 "props": {
                  "attributes": {
                   "data-bind": "text: formatted_val"
                  }
                 },
                 "type": "node"
                }
               ],
               "instanceArgs": {
                "namespace": "html",
                "tag": "div"
               },
               "nodeType": "DOM",
               "props": {
                "className": "interact-flex-row-right"
               },
               "type": "node"
              }
             ],
             "instanceArgs": {
              "namespace": "html",
              "tag": "div"
             },
             "nodeType": "DOM",
             "props": {
              "className": "interact-flex-row interact-widget"
             },
             "type": "node"
            }
           ],
           "instanceArgs": {
            "handlers": {
             "changes": [
              "(function (val){return (val!=this.model[\"changes\"]()) ? (this.valueFromJulia[\"changes\"]=true, this.model[\"changes\"](val)) : undefined})"
             ],
             "index": [
              "(function (val){return (val!=this.model[\"index\"]()) ? (this.valueFromJulia[\"index\"]=true, this.model[\"index\"](val)) : undefined})"
             ]
            },
            "id": "630978131963730347",
            "imports": {
             "data": [
              {
               "name": "knockout",
               "type": "js",
               "url": "/assetserver/fd311416c3fbf748771c2940b2ca4b79c53d1ab2-knockout.js"
              },
              {
               "name": "knockout_punches",
               "type": "js",
               "url": "/assetserver/148711b519458f42f1e7a22e5bdf7a74f9d5f8e0-knockout_punches.js"
              },
              {
               "name": null,
               "type": "js",
               "url": "/assetserver/96387ddaa2b47f2577dbef3402b61deb55b692cb-all.js"
              },
              {
               "name": null,
               "type": "css",
               "url": "/assetserver/1205e2cb75bbf44a95189d9e430e22f4b3018051-style.css"
              },
              {
               "name": null,
               "type": "css",
               "url": "/assetserver/e47939cc599f2b791e3e3e81f0cfd77c1a048dd3-bulma_confined.min.css"
              }
             ],
             "type": "async_block"
            },
            "mount_callbacks": [
             "function () {\n    var handler = (function (ko, koPunches) {\n    ko.punches.enableAll();\n    ko.bindingHandlers.numericValue = {\n        init: function(element, valueAccessor, allBindings, data, context) {\n            var stringified = ko.observable(ko.unwrap(valueAccessor()));\n            stringified.subscribe(function(value) {\n                var val = parseFloat(value);\n                if (!isNaN(val)) {\n                    valueAccessor()(val);\n                }\n            });\n            valueAccessor().subscribe(function(value) {\n                var str = JSON.stringify(value);\n                if ((str == \"0\") && ([\"-0\", \"-0.\"].indexOf(stringified()) >= 0))\n                     return;\n                 if ([\"null\", \"\"].indexOf(str) >= 0)\n                     return;\n                stringified(str);\n            });\n            ko.applyBindingsToNode(\n                element,\n                {\n                    value: stringified,\n                    valueUpdate: allBindings.get('valueUpdate'),\n                },\n                context,\n            );\n        }\n    };\n    var json_data = {\"formatted_vals\":[\"0.1\",\"0.11\",\"0.12\",\"0.13\",\"0.14\",\"0.15\",\"0.16\",\"0.17\",\"0.18\",\"0.19\",\"0.2\",\"0.21\",\"0.22\",\"0.23\",\"0.24\",\"0.25\",\"0.26\",\"0.27\",\"0.28\",\"0.29\",\"0.3\",\"0.31\",\"0.32\",\"0.33\",\"0.34\",\"0.35\",\"0.36\",\"0.37\",\"0.38\",\"0.39\",\"0.4\",\"0.41\",\"0.42\",\"0.43\",\"0.44\",\"0.45\",\"0.46\",\"0.47\",\"0.48\",\"0.49\",\"0.5\",\"0.51\",\"0.52\",\"0.53\",\"0.54\",\"0.55\",\"0.56\",\"0.57\",\"0.58\",\"0.59\",\"0.6\",\"0.61\",\"0.62\",\"0.63\",\"0.64\",\"0.65\",\"0.66\",\"0.67\",\"0.68\",\"0.69\",\"0.7\",\"0.71\",\"0.72\",\"0.73\",\"0.74\",\"0.75\",\"0.76\",\"0.77\",\"0.78\",\"0.79\",\"0.8\",\"0.81\",\"0.82\",\"0.83\",\"0.84\",\"0.85\",\"0.86\",\"0.87\",\"0.88\",\"0.89\",\"0.9\",\"0.91\",\"0.92\",\"0.93\",\"0.94\",\"0.95\",\"0.96\",\"0.97\",\"0.98\",\"0.99\",\"1.0\",\"1.01\",\"1.02\",\"1.03\",\"1.04\",\"1.05\",\"1.06\",\"1.07\",\"1.08\",\"1.09\",\"1.1\",\"1.11\",\"1.12\",\"1.13\",\"1.14\",\"1.15\",\"1.16\",\"1.17\",\"1.18\",\"1.19\",\"1.2\",\"1.21\",\"1.22\",\"1.23\",\"1.24\",\"1.25\",\"1.26\",\"1.27\",\"1.28\",\"1.29\",\"1.3\",\"1.31\",\"1.32\",\"1.33\",\"1.34\",\"1.35\",\"1.36\",\"1.37\",\"1.38\",\"1.39\",\"1.4\",\"1.41\",\"1.42\",\"1.43\",\"1.44\",\"1.45\",\"1.46\",\"1.47\",\"1.48\",\"1.49\",\"1.5\",\"1.51\",\"1.52\",\"1.53\",\"1.54\",\"1.55\",\"1.56\",\"1.57\",\"1.58\",\"1.59\",\"1.6\",\"1.61\",\"1.62\",\"1.63\",\"1.64\",\"1.65\",\"1.66\",\"1.67\",\"1.68\",\"1.69\",\"1.7\",\"1.71\",\"1.72\",\"1.73\",\"1.74\",\"1.75\",\"1.76\",\"1.77\",\"1.78\",\"1.79\",\"1.8\",\"1.81\",\"1.82\",\"1.83\",\"1.84\",\"1.85\",\"1.86\",\"1.87\",\"1.88\",\"1.89\",\"1.9\",\"1.91\",\"1.92\",\"1.93\",\"1.94\",\"1.95\",\"1.96\",\"1.97\",\"1.98\",\"1.99\",\"2.0\",\"2.01\",\"2.02\",\"2.03\",\"2.04\",\"2.05\",\"2.06\",\"2.07\",\"2.08\",\"2.09\",\"2.1\",\"2.11\",\"2.12\",\"2.13\",\"2.14\",\"2.15\",\"2.16\",\"2.17\",\"2.18\",\"2.19\",\"2.2\",\"2.21\",\"2.22\",\"2.23\",\"2.24\",\"2.25\",\"2.26\",\"2.27\",\"2.28\",\"2.29\",\"2.3\",\"2.31\",\"2.32\",\"2.33\",\"2.34\",\"2.35\",\"2.36\",\"2.37\",\"2.38\",\"2.39\",\"2.4\",\"2.41\",\"2.42\",\"2.43\",\"2.44\",\"2.45\",\"2.46\",\"2.47\",\"2.48\",\"2.49\",\"2.5\",\"2.51\",\"2.52\",\"2.53\",\"2.54\",\"2.55\",\"2.56\",\"2.57\",\"2.58\",\"2.59\",\"2.6\",\"2.61\",\"2.62\",\"2.63\",\"2.64\",\"2.65\",\"2.66\",\"2.67\",\"2.68\",\"2.69\",\"2.7\",\"2.71\",\"2.72\",\"2.73\",\"2.74\",\"2.75\",\"2.76\",\"2.77\",\"2.78\",\"2.79\",\"2.8\",\"2.81\",\"2.82\",\"2.83\",\"2.84\",\"2.85\",\"2.86\",\"2.87\",\"2.88\",\"2.89\",\"2.9\",\"2.91\",\"2.92\",\"2.93\",\"2.94\",\"2.95\",\"2.96\",\"2.97\",\"2.98\",\"2.99\",\"3.0\"],\"changes\":WebIO.getval({\"name\":\"changes\",\"scope\":\"630978131963730347\",\"id\":\"ob_09\",\"type\":\"observable\"}),\"index\":WebIO.getval({\"name\":\"index\",\"scope\":\"630978131963730347\",\"id\":\"ob_08\",\"type\":\"observable\"})};\n    var self = this;\n    function AppViewModel() {\n        for (var key in json_data) {\n            var el = json_data[key];\n            this[key] = Array.isArray(el) ? ko.observableArray(el) : ko.observable(el);\n        }\n        \n        [this[\"formatted_val\"]=ko.computed(    function(){\n        return this.formatted_vals()[parseInt(this.index())-(1)];\n    }\n,this)]\n        [this[\"changes\"].subscribe((function (val){!(this.valueFromJulia[\"changes\"]) ? (WebIO.setval({\"name\":\"changes\",\"scope\":\"630978131963730347\",\"id\":\"ob_09\",\"type\":\"observable\"},val)) : undefined; return this.valueFromJulia[\"changes\"]=false}),self),this[\"index\"].subscribe((function (val){!(this.valueFromJulia[\"index\"]) ? (WebIO.setval({\"name\":\"index\",\"scope\":\"630978131963730347\",\"id\":\"ob_08\",\"type\":\"observable\"},val)) : undefined; return this.valueFromJulia[\"index\"]=false}),self)]\n        \n    }\n    self.model = new AppViewModel();\n    self.valueFromJulia = {};\n    for (var key in json_data) {\n        self.valueFromJulia[key] = false;\n    }\n    ko.applyBindings(self.model, self.dom);\n}\n);\n    (WebIO.importBlock({\"data\":[{\"name\":\"knockout\",\"type\":\"js\",\"url\":\"/assetserver/fd311416c3fbf748771c2940b2ca4b79c53d1ab2-knockout.js\"},{\"name\":\"knockout_punches\",\"type\":\"js\",\"url\":\"/assetserver/148711b519458f42f1e7a22e5bdf7a74f9d5f8e0-knockout_punches.js\"}],\"type\":\"async_block\"})).then((imports) => handler.apply(this, imports));\n}\n"
            ],
            "observables": {
             "changes": {
              "id": "ob_09",
              "sync": false,
              "value": 0
             },
             "index": {
              "id": "ob_08",
              "sync": true,
              "value": 141
             }
            },
            "systemjs_options": null
           },
           "nodeType": "Scope",
           "props": {},
           "type": "node"
          }
         ],
         "instanceArgs": {
          "namespace": "html",
          "tag": "div"
         },
         "nodeType": "DOM",
         "props": {
          "className": "field interact-widget"
         },
         "type": "node"
        },
        {
         "children": [
          {
           "children": [
            {
             "children": [
              {
               "children": [
                {
                 "children": [
                  "K2"
                 ],
                 "instanceArgs": {
                  "namespace": "html",
                  "tag": "label"
                 },
                 "nodeType": "DOM",
                 "props": {
                  "className": "interact ",
                  "style": {
                   "padding": "5px 10px 0px 10px"
                  }
                 },
                 "type": "node"
                }
               ],
               "instanceArgs": {
                "namespace": "html",
                "tag": "div"
               },
               "nodeType": "DOM",
               "props": {
                "className": "interact-flex-row-left"
               },
               "type": "node"
              },
              {
               "children": [
                {
                 "children": [],
                 "instanceArgs": {
                  "namespace": "html",
                  "tag": "input"
                 },
                 "nodeType": "DOM",
                 "props": {
                  "attributes": {
                   "data-bind": "numericValue: index, valueUpdate: 'input', event: {change: function (){this.changes(this.changes()+1)}}",
                   "orient": "horizontal",
                   "type": "range"
                  },
                  "className": "slider slider is-fullwidth",
                  "max": 291,
                  "min": 1,
                  "step": 1,
                  "style": {}
                 },
                 "type": "node"
                }
               ],
               "instanceArgs": {
                "namespace": "html",
                "tag": "div"
               },
               "nodeType": "DOM",
               "props": {
                "className": "interact-flex-row-center"
               },
               "type": "node"
              },
              {
               "children": [
                {
                 "children": [],
                 "instanceArgs": {
                  "namespace": "html",
                  "tag": "p"
                 },
                 "nodeType": "DOM",
                 "props": {
                  "attributes": {
                   "data-bind": "text: formatted_val"
                  }
                 },
                 "type": "node"
                }
               ],
               "instanceArgs": {
                "namespace": "html",
                "tag": "div"
               },
               "nodeType": "DOM",
               "props": {
                "className": "interact-flex-row-right"
               },
               "type": "node"
              }
             ],
             "instanceArgs": {
              "namespace": "html",
              "tag": "div"
             },
             "nodeType": "DOM",
             "props": {
              "className": "interact-flex-row interact-widget"
             },
             "type": "node"
            }
           ],
           "instanceArgs": {
            "handlers": {
             "changes": [
              "(function (val){return (val!=this.model[\"changes\"]()) ? (this.valueFromJulia[\"changes\"]=true, this.model[\"changes\"](val)) : undefined})"
             ],
             "index": [
              "(function (val){return (val!=this.model[\"index\"]()) ? (this.valueFromJulia[\"index\"]=true, this.model[\"index\"](val)) : undefined})"
             ]
            },
            "id": "1681171009397840378",
            "imports": {
             "data": [
              {
               "name": "knockout",
               "type": "js",
               "url": "/assetserver/fd311416c3fbf748771c2940b2ca4b79c53d1ab2-knockout.js"
              },
              {
               "name": "knockout_punches",
               "type": "js",
               "url": "/assetserver/148711b519458f42f1e7a22e5bdf7a74f9d5f8e0-knockout_punches.js"
              },
              {
               "name": null,
               "type": "js",
               "url": "/assetserver/96387ddaa2b47f2577dbef3402b61deb55b692cb-all.js"
              },
              {
               "name": null,
               "type": "css",
               "url": "/assetserver/1205e2cb75bbf44a95189d9e430e22f4b3018051-style.css"
              },
              {
               "name": null,
               "type": "css",
               "url": "/assetserver/e47939cc599f2b791e3e3e81f0cfd77c1a048dd3-bulma_confined.min.css"
              }
             ],
             "type": "async_block"
            },
            "mount_callbacks": [
             "function () {\n    var handler = (function (ko, koPunches) {\n    ko.punches.enableAll();\n    ko.bindingHandlers.numericValue = {\n        init: function(element, valueAccessor, allBindings, data, context) {\n            var stringified = ko.observable(ko.unwrap(valueAccessor()));\n            stringified.subscribe(function(value) {\n                var val = parseFloat(value);\n                if (!isNaN(val)) {\n                    valueAccessor()(val);\n                }\n            });\n            valueAccessor().subscribe(function(value) {\n                var str = JSON.stringify(value);\n                if ((str == \"0\") && ([\"-0\", \"-0.\"].indexOf(stringified()) >= 0))\n                     return;\n                 if ([\"null\", \"\"].indexOf(str) >= 0)\n                     return;\n                stringified(str);\n            });\n            ko.applyBindingsToNode(\n                element,\n                {\n                    value: stringified,\n                    valueUpdate: allBindings.get('valueUpdate'),\n                },\n                context,\n            );\n        }\n    };\n    var json_data = {\"formatted_vals\":[\"0.1\",\"0.11\",\"0.12\",\"0.13\",\"0.14\",\"0.15\",\"0.16\",\"0.17\",\"0.18\",\"0.19\",\"0.2\",\"0.21\",\"0.22\",\"0.23\",\"0.24\",\"0.25\",\"0.26\",\"0.27\",\"0.28\",\"0.29\",\"0.3\",\"0.31\",\"0.32\",\"0.33\",\"0.34\",\"0.35\",\"0.36\",\"0.37\",\"0.38\",\"0.39\",\"0.4\",\"0.41\",\"0.42\",\"0.43\",\"0.44\",\"0.45\",\"0.46\",\"0.47\",\"0.48\",\"0.49\",\"0.5\",\"0.51\",\"0.52\",\"0.53\",\"0.54\",\"0.55\",\"0.56\",\"0.57\",\"0.58\",\"0.59\",\"0.6\",\"0.61\",\"0.62\",\"0.63\",\"0.64\",\"0.65\",\"0.66\",\"0.67\",\"0.68\",\"0.69\",\"0.7\",\"0.71\",\"0.72\",\"0.73\",\"0.74\",\"0.75\",\"0.76\",\"0.77\",\"0.78\",\"0.79\",\"0.8\",\"0.81\",\"0.82\",\"0.83\",\"0.84\",\"0.85\",\"0.86\",\"0.87\",\"0.88\",\"0.89\",\"0.9\",\"0.91\",\"0.92\",\"0.93\",\"0.94\",\"0.95\",\"0.96\",\"0.97\",\"0.98\",\"0.99\",\"1.0\",\"1.01\",\"1.02\",\"1.03\",\"1.04\",\"1.05\",\"1.06\",\"1.07\",\"1.08\",\"1.09\",\"1.1\",\"1.11\",\"1.12\",\"1.13\",\"1.14\",\"1.15\",\"1.16\",\"1.17\",\"1.18\",\"1.19\",\"1.2\",\"1.21\",\"1.22\",\"1.23\",\"1.24\",\"1.25\",\"1.26\",\"1.27\",\"1.28\",\"1.29\",\"1.3\",\"1.31\",\"1.32\",\"1.33\",\"1.34\",\"1.35\",\"1.36\",\"1.37\",\"1.38\",\"1.39\",\"1.4\",\"1.41\",\"1.42\",\"1.43\",\"1.44\",\"1.45\",\"1.46\",\"1.47\",\"1.48\",\"1.49\",\"1.5\",\"1.51\",\"1.52\",\"1.53\",\"1.54\",\"1.55\",\"1.56\",\"1.57\",\"1.58\",\"1.59\",\"1.6\",\"1.61\",\"1.62\",\"1.63\",\"1.64\",\"1.65\",\"1.66\",\"1.67\",\"1.68\",\"1.69\",\"1.7\",\"1.71\",\"1.72\",\"1.73\",\"1.74\",\"1.75\",\"1.76\",\"1.77\",\"1.78\",\"1.79\",\"1.8\",\"1.81\",\"1.82\",\"1.83\",\"1.84\",\"1.85\",\"1.86\",\"1.87\",\"1.88\",\"1.89\",\"1.9\",\"1.91\",\"1.92\",\"1.93\",\"1.94\",\"1.95\",\"1.96\",\"1.97\",\"1.98\",\"1.99\",\"2.0\",\"2.01\",\"2.02\",\"2.03\",\"2.04\",\"2.05\",\"2.06\",\"2.07\",\"2.08\",\"2.09\",\"2.1\",\"2.11\",\"2.12\",\"2.13\",\"2.14\",\"2.15\",\"2.16\",\"2.17\",\"2.18\",\"2.19\",\"2.2\",\"2.21\",\"2.22\",\"2.23\",\"2.24\",\"2.25\",\"2.26\",\"2.27\",\"2.28\",\"2.29\",\"2.3\",\"2.31\",\"2.32\",\"2.33\",\"2.34\",\"2.35\",\"2.36\",\"2.37\",\"2.38\",\"2.39\",\"2.4\",\"2.41\",\"2.42\",\"2.43\",\"2.44\",\"2.45\",\"2.46\",\"2.47\",\"2.48\",\"2.49\",\"2.5\",\"2.51\",\"2.52\",\"2.53\",\"2.54\",\"2.55\",\"2.56\",\"2.57\",\"2.58\",\"2.59\",\"2.6\",\"2.61\",\"2.62\",\"2.63\",\"2.64\",\"2.65\",\"2.66\",\"2.67\",\"2.68\",\"2.69\",\"2.7\",\"2.71\",\"2.72\",\"2.73\",\"2.74\",\"2.75\",\"2.76\",\"2.77\",\"2.78\",\"2.79\",\"2.8\",\"2.81\",\"2.82\",\"2.83\",\"2.84\",\"2.85\",\"2.86\",\"2.87\",\"2.88\",\"2.89\",\"2.9\",\"2.91\",\"2.92\",\"2.93\",\"2.94\",\"2.95\",\"2.96\",\"2.97\",\"2.98\",\"2.99\",\"3.0\"],\"changes\":WebIO.getval({\"name\":\"changes\",\"scope\":\"1681171009397840378\",\"id\":\"ob_12\",\"type\":\"observable\"}),\"index\":WebIO.getval({\"name\":\"index\",\"scope\":\"1681171009397840378\",\"id\":\"ob_11\",\"type\":\"observable\"})};\n    var self = this;\n    function AppViewModel() {\n        for (var key in json_data) {\n            var el = json_data[key];\n            this[key] = Array.isArray(el) ? ko.observableArray(el) : ko.observable(el);\n        }\n        \n        [this[\"formatted_val\"]=ko.computed(    function(){\n        return this.formatted_vals()[parseInt(this.index())-(1)];\n    }\n,this)]\n        [this[\"changes\"].subscribe((function (val){!(this.valueFromJulia[\"changes\"]) ? (WebIO.setval({\"name\":\"changes\",\"scope\":\"1681171009397840378\",\"id\":\"ob_12\",\"type\":\"observable\"},val)) : undefined; return this.valueFromJulia[\"changes\"]=false}),self),this[\"index\"].subscribe((function (val){!(this.valueFromJulia[\"index\"]) ? (WebIO.setval({\"name\":\"index\",\"scope\":\"1681171009397840378\",\"id\":\"ob_11\",\"type\":\"observable\"},val)) : undefined; return this.valueFromJulia[\"index\"]=false}),self)]\n        \n    }\n    self.model = new AppViewModel();\n    self.valueFromJulia = {};\n    for (var key in json_data) {\n        self.valueFromJulia[key] = false;\n    }\n    ko.applyBindings(self.model, self.dom);\n}\n);\n    (WebIO.importBlock({\"data\":[{\"name\":\"knockout\",\"type\":\"js\",\"url\":\"/assetserver/fd311416c3fbf748771c2940b2ca4b79c53d1ab2-knockout.js\"},{\"name\":\"knockout_punches\",\"type\":\"js\",\"url\":\"/assetserver/148711b519458f42f1e7a22e5bdf7a74f9d5f8e0-knockout_punches.js\"}],\"type\":\"async_block\"})).then((imports) => handler.apply(this, imports));\n}\n"
            ],
            "observables": {
             "changes": {
              "id": "ob_12",
              "sync": false,
              "value": 0
             },
             "index": {
              "id": "ob_11",
              "sync": true,
              "value": 91
             }
            },
            "systemjs_options": null
           },
           "nodeType": "Scope",
           "props": {},
           "type": "node"
          }
         ],
         "instanceArgs": {
          "namespace": "html",
          "tag": "div"
         },
         "nodeType": "DOM",
         "props": {
          "className": "field interact-widget"
         },
         "type": "node"
        },
        {
         "children": [
          {
           "children": [
            {
             "children": [
              {
               "children": [
                {
                 "children": [
                  "r1"
                 ],
                 "instanceArgs": {
                  "namespace": "html",
                  "tag": "label"
                 },
                 "nodeType": "DOM",
                 "props": {
                  "className": "interact ",
                  "style": {
                   "padding": "5px 10px 0px 10px"
                  }
                 },
                 "type": "node"
                }
               ],
               "instanceArgs": {
                "namespace": "html",
                "tag": "div"
               },
               "nodeType": "DOM",
               "props": {
                "className": "interact-flex-row-left"
               },
               "type": "node"
              },
              {
               "children": [
                {
                 "children": [],
                 "instanceArgs": {
                  "namespace": "html",
                  "tag": "input"
                 },
                 "nodeType": "DOM",
                 "props": {
                  "attributes": {
                   "data-bind": "numericValue: index, valueUpdate: 'input', event: {change: function (){this.changes(this.changes()+1)}}",
                   "orient": "horizontal",
                   "type": "range"
                  },
                  "className": "slider slider is-fullwidth",
                  "max": 991,
                  "min": 1,
                  "step": 1,
                  "style": {}
                 },
                 "type": "node"
                }
               ],
               "instanceArgs": {
                "namespace": "html",
                "tag": "div"
               },
               "nodeType": "DOM",
               "props": {
                "className": "interact-flex-row-center"
               },
               "type": "node"
              },
              {
               "children": [
                {
                 "children": [],
                 "instanceArgs": {
                  "namespace": "html",
                  "tag": "p"
                 },
                 "nodeType": "DOM",
                 "props": {
                  "attributes": {
                   "data-bind": "text: formatted_val"
                  }
                 },
                 "type": "node"
                }
               ],
               "instanceArgs": {
                "namespace": "html",
                "tag": "div"
               },
               "nodeType": "DOM",
               "props": {
                "className": "interact-flex-row-right"
               },
               "type": "node"
              }
             ],
             "instanceArgs": {
              "namespace": "html",
              "tag": "div"
             },
             "nodeType": "DOM",
             "props": {
              "className": "interact-flex-row interact-widget"
             },
             "type": "node"
            }
           ],
           "instanceArgs": {
            "handlers": {
             "changes": [
              "(function (val){return (val!=this.model[\"changes\"]()) ? (this.valueFromJulia[\"changes\"]=true, this.model[\"changes\"](val)) : undefined})"
             ],
             "index": [
              "(function (val){return (val!=this.model[\"index\"]()) ? (this.valueFromJulia[\"index\"]=true, this.model[\"index\"](val)) : undefined})"
             ]
            },
            "id": "15698831480548399323",
            "imports": {
             "data": [
              {
               "name": "knockout",
               "type": "js",
               "url": "/assetserver/fd311416c3fbf748771c2940b2ca4b79c53d1ab2-knockout.js"
              },
              {
               "name": "knockout_punches",
               "type": "js",
               "url": "/assetserver/148711b519458f42f1e7a22e5bdf7a74f9d5f8e0-knockout_punches.js"
              },
              {
               "name": null,
               "type": "js",
               "url": "/assetserver/96387ddaa2b47f2577dbef3402b61deb55b692cb-all.js"
              },
              {
               "name": null,
               "type": "css",
               "url": "/assetserver/1205e2cb75bbf44a95189d9e430e22f4b3018051-style.css"
              },
              {
               "name": null,
               "type": "css",
               "url": "/assetserver/e47939cc599f2b791e3e3e81f0cfd77c1a048dd3-bulma_confined.min.css"
              }
             ],
             "type": "async_block"
            },
            "mount_callbacks": [
             "function () {\n    var handler = (function (ko, koPunches) {\n    ko.punches.enableAll();\n    ko.bindingHandlers.numericValue = {\n        init: function(element, valueAccessor, allBindings, data, context) {\n            var stringified = ko.observable(ko.unwrap(valueAccessor()));\n            stringified.subscribe(function(value) {\n                var val = parseFloat(value);\n                if (!isNaN(val)) {\n                    valueAccessor()(val);\n                }\n            });\n            valueAccessor().subscribe(function(value) {\n                var str = JSON.stringify(value);\n                if ((str == \"0\") && ([\"-0\", \"-0.\"].indexOf(stringified()) >= 0))\n                     return;\n                 if ([\"null\", \"\"].indexOf(str) >= 0)\n                     return;\n                stringified(str);\n            });\n            ko.applyBindingsToNode(\n                element,\n                {\n                    value: stringified,\n                    valueUpdate: allBindings.get('valueUpdate'),\n                },\n                context,\n            );\n        }\n    };\n    var json_data = {\"formatted_vals\":[\"0.1\",\"0.11\",\"0.12\",\"0.13\",\"0.14\",\"0.15\",\"0.16\",\"0.17\",\"0.18\",\"0.19\",\"0.2\",\"0.21\",\"0.22\",\"0.23\",\"0.24\",\"0.25\",\"0.26\",\"0.27\",\"0.28\",\"0.29\",\"0.3\",\"0.31\",\"0.32\",\"0.33\",\"0.34\",\"0.35\",\"0.36\",\"0.37\",\"0.38\",\"0.39\",\"0.4\",\"0.41\",\"0.42\",\"0.43\",\"0.44\",\"0.45\",\"0.46\",\"0.47\",\"0.48\",\"0.49\",\"0.5\",\"0.51\",\"0.52\",\"0.53\",\"0.54\",\"0.55\",\"0.56\",\"0.57\",\"0.58\",\"0.59\",\"0.6\",\"0.61\",\"0.62\",\"0.63\",\"0.64\",\"0.65\",\"0.66\",\"0.67\",\"0.68\",\"0.69\",\"0.7\",\"0.71\",\"0.72\",\"0.73\",\"0.74\",\"0.75\",\"0.76\",\"0.77\",\"0.78\",\"0.79\",\"0.8\",\"0.81\",\"0.82\",\"0.83\",\"0.84\",\"0.85\",\"0.86\",\"0.87\",\"0.88\",\"0.89\",\"0.9\",\"0.91\",\"0.92\",\"0.93\",\"0.94\",\"0.95\",\"0.96\",\"0.97\",\"0.98\",\"0.99\",\"1.0\",\"1.01\",\"1.02\",\"1.03\",\"1.04\",\"1.05\",\"1.06\",\"1.07\",\"1.08\",\"1.09\",\"1.1\",\"1.11\",\"1.12\",\"1.13\",\"1.14\",\"1.15\",\"1.16\",\"1.17\",\"1.18\",\"1.19\",\"1.2\",\"1.21\",\"1.22\",\"1.23\",\"1.24\",\"1.25\",\"1.26\",\"1.27\",\"1.28\",\"1.29\",\"1.3\",\"1.31\",\"1.32\",\"1.33\",\"1.34\",\"1.35\",\"1.36\",\"1.37\",\"1.38\",\"1.39\",\"1.4\",\"1.41\",\"1.42\",\"1.43\",\"1.44\",\"1.45\",\"1.46\",\"1.47\",\"1.48\",\"1.49\",\"1.5\",\"1.51\",\"1.52\",\"1.53\",\"1.54\",\"1.55\",\"1.56\",\"1.57\",\"1.58\",\"1.59\",\"1.6\",\"1.61\",\"1.62\",\"1.63\",\"1.64\",\"1.65\",\"1.66\",\"1.67\",\"1.68\",\"1.69\",\"1.7\",\"1.71\",\"1.72\",\"1.73\",\"1.74\",\"1.75\",\"1.76\",\"1.77\",\"1.78\",\"1.79\",\"1.8\",\"1.81\",\"1.82\",\"1.83\",\"1.84\",\"1.85\",\"1.86\",\"1.87\",\"1.88\",\"1.89\",\"1.9\",\"1.91\",\"1.92\",\"1.93\",\"1.94\",\"1.95\",\"1.96\",\"1.97\",\"1.98\",\"1.99\",\"2.0\",\"2.01\",\"2.02\",\"2.03\",\"2.04\",\"2.05\",\"2.06\",\"2.07\",\"2.08\",\"2.09\",\"2.1\",\"2.11\",\"2.12\",\"2.13\",\"2.14\",\"2.15\",\"2.16\",\"2.17\",\"2.18\",\"2.19\",\"2.2\",\"2.21\",\"2.22\",\"2.23\",\"2.24\",\"2.25\",\"2.26\",\"2.27\",\"2.28\",\"2.29\",\"2.3\",\"2.31\",\"2.32\",\"2.33\",\"2.34\",\"2.35\",\"2.36\",\"2.37\",\"2.38\",\"2.39\",\"2.4\",\"2.41\",\"2.42\",\"2.43\",\"2.44\",\"2.45\",\"2.46\",\"2.47\",\"2.48\",\"2.49\",\"2.5\",\"2.51\",\"2.52\",\"2.53\",\"2.54\",\"2.55\",\"2.56\",\"2.57\",\"2.58\",\"2.59\",\"2.6\",\"2.61\",\"2.62\",\"2.63\",\"2.64\",\"2.65\",\"2.66\",\"2.67\",\"2.68\",\"2.69\",\"2.7\",\"2.71\",\"2.72\",\"2.73\",\"2.74\",\"2.75\",\"2.76\",\"2.77\",\"2.78\",\"2.79\",\"2.8\",\"2.81\",\"2.82\",\"2.83\",\"2.84\",\"2.85\",\"2.86\",\"2.87\",\"2.88\",\"2.89\",\"2.9\",\"2.91\",\"2.92\",\"2.93\",\"2.94\",\"2.95\",\"2.96\",\"2.97\",\"2.98\",\"2.99\",\"3.0\",\"3.01\",\"3.02\",\"3.03\",\"3.04\",\"3.05\",\"3.06\",\"3.07\",\"3.08\",\"3.09\",\"3.1\",\"3.11\",\"3.12\",\"3.13\",\"3.14\",\"3.15\",\"3.16\",\"3.17\",\"3.18\",\"3.19\",\"3.2\",\"3.21\",\"3.22\",\"3.23\",\"3.24\",\"3.25\",\"3.26\",\"3.27\",\"3.28\",\"3.29\",\"3.3\",\"3.31\",\"3.32\",\"3.33\",\"3.34\",\"3.35\",\"3.36\",\"3.37\",\"3.38\",\"3.39\",\"3.4\",\"3.41\",\"3.42\",\"3.43\",\"3.44\",\"3.45\",\"3.46\",\"3.47\",\"3.48\",\"3.49\",\"3.5\",\"3.51\",\"3.52\",\"3.53\",\"3.54\",\"3.55\",\"3.56\",\"3.57\",\"3.58\",\"3.59\",\"3.6\",\"3.61\",\"3.62\",\"3.63\",\"3.64\",\"3.65\",\"3.66\",\"3.67\",\"3.68\",\"3.69\",\"3.7\",\"3.71\",\"3.72\",\"3.73\",\"3.74\",\"3.75\",\"3.76\",\"3.77\",\"3.78\",\"3.79\",\"3.8\",\"3.81\",\"3.82\",\"3.83\",\"3.84\",\"3.85\",\"3.86\",\"3.87\",\"3.88\",\"3.89\",\"3.9\",\"3.91\",\"3.92\",\"3.93\",\"3.94\",\"3.95\",\"3.96\",\"3.97\",\"3.98\",\"3.99\",\"4.0\",\"4.01\",\"4.02\",\"4.03\",\"4.04\",\"4.05\",\"4.06\",\"4.07\",\"4.08\",\"4.09\",\"4.1\",\"4.11\",\"4.12\",\"4.13\",\"4.14\",\"4.15\",\"4.16\",\"4.17\",\"4.18\",\"4.19\",\"4.2\",\"4.21\",\"4.22\",\"4.23\",\"4.24\",\"4.25\",\"4.26\",\"4.27\",\"4.28\",\"4.29\",\"4.3\",\"4.31\",\"4.32\",\"4.33\",\"4.34\",\"4.35\",\"4.36\",\"4.37\",\"4.38\",\"4.39\",\"4.4\",\"4.41\",\"4.42\",\"4.43\",\"4.44\",\"4.45\",\"4.46\",\"4.47\",\"4.48\",\"4.49\",\"4.5\",\"4.51\",\"4.52\",\"4.53\",\"4.54\",\"4.55\",\"4.56\",\"4.57\",\"4.58\",\"4.59\",\"4.6\",\"4.61\",\"4.62\",\"4.63\",\"4.64\",\"4.65\",\"4.66\",\"4.67\",\"4.68\",\"4.69\",\"4.7\",\"4.71\",\"4.72\",\"4.73\",\"4.74\",\"4.75\",\"4.76\",\"4.77\",\"4.78\",\"4.79\",\"4.8\",\"4.81\",\"4.82\",\"4.83\",\"4.84\",\"4.85\",\"4.86\",\"4.87\",\"4.88\",\"4.89\",\"4.9\",\"4.91\",\"4.92\",\"4.93\",\"4.94\",\"4.95\",\"4.96\",\"4.97\",\"4.98\",\"4.99\",\"5.0\",\"5.01\",\"5.02\",\"5.03\",\"5.04\",\"5.05\",\"5.06\",\"5.07\",\"5.08\",\"5.09\",\"5.1\",\"5.11\",\"5.12\",\"5.13\",\"5.14\",\"5.15\",\"5.16\",\"5.17\",\"5.18\",\"5.19\",\"5.2\",\"5.21\",\"5.22\",\"5.23\",\"5.24\",\"5.25\",\"5.26\",\"5.27\",\"5.28\",\"5.29\",\"5.3\",\"5.31\",\"5.32\",\"5.33\",\"5.34\",\"5.35\",\"5.36\",\"5.37\",\"5.38\",\"5.39\",\"5.4\",\"5.41\",\"5.42\",\"5.43\",\"5.44\",\"5.45\",\"5.46\",\"5.47\",\"5.48\",\"5.49\",\"5.5\",\"5.51\",\"5.52\",\"5.53\",\"5.54\",\"5.55\",\"5.56\",\"5.57\",\"5.58\",\"5.59\",\"5.6\",\"5.61\",\"5.62\",\"5.63\",\"5.64\",\"5.65\",\"5.66\",\"5.67\",\"5.68\",\"5.69\",\"5.7\",\"5.71\",\"5.72\",\"5.73\",\"5.74\",\"5.75\",\"5.76\",\"5.77\",\"5.78\",\"5.79\",\"5.8\",\"5.81\",\"5.82\",\"5.83\",\"5.84\",\"5.85\",\"5.86\",\"5.87\",\"5.88\",\"5.89\",\"5.9\",\"5.91\",\"5.92\",\"5.93\",\"5.94\",\"5.95\",\"5.96\",\"5.97\",\"5.98\",\"5.99\",\"6.0\",\"6.01\",\"6.02\",\"6.03\",\"6.04\",\"6.05\",\"6.06\",\"6.07\",\"6.08\",\"6.09\",\"6.1\",\"6.11\",\"6.12\",\"6.13\",\"6.14\",\"6.15\",\"6.16\",\"6.17\",\"6.18\",\"6.19\",\"6.2\",\"6.21\",\"6.22\",\"6.23\",\"6.24\",\"6.25\",\"6.26\",\"6.27\",\"6.28\",\"6.29\",\"6.3\",\"6.31\",\"6.32\",\"6.33\",\"6.34\",\"6.35\",\"6.36\",\"6.37\",\"6.38\",\"6.39\",\"6.4\",\"6.41\",\"6.42\",\"6.43\",\"6.44\",\"6.45\",\"6.46\",\"6.47\",\"6.48\",\"6.49\",\"6.5\",\"6.51\",\"6.52\",\"6.53\",\"6.54\",\"6.55\",\"6.56\",\"6.57\",\"6.58\",\"6.59\",\"6.6\",\"6.61\",\"6.62\",\"6.63\",\"6.64\",\"6.65\",\"6.66\",\"6.67\",\"6.68\",\"6.69\",\"6.7\",\"6.71\",\"6.72\",\"6.73\",\"6.74\",\"6.75\",\"6.76\",\"6.77\",\"6.78\",\"6.79\",\"6.8\",\"6.81\",\"6.82\",\"6.83\",\"6.84\",\"6.85\",\"6.86\",\"6.87\",\"6.88\",\"6.89\",\"6.9\",\"6.91\",\"6.92\",\"6.93\",\"6.94\",\"6.95\",\"6.96\",\"6.97\",\"6.98\",\"6.99\",\"7.0\",\"7.01\",\"7.02\",\"7.03\",\"7.04\",\"7.05\",\"7.06\",\"7.07\",\"7.08\",\"7.09\",\"7.1\",\"7.11\",\"7.12\",\"7.13\",\"7.14\",\"7.15\",\"7.16\",\"7.17\",\"7.18\",\"7.19\",\"7.2\",\"7.21\",\"7.22\",\"7.23\",\"7.24\",\"7.25\",\"7.26\",\"7.27\",\"7.28\",\"7.29\",\"7.3\",\"7.31\",\"7.32\",\"7.33\",\"7.34\",\"7.35\",\"7.36\",\"7.37\",\"7.38\",\"7.39\",\"7.4\",\"7.41\",\"7.42\",\"7.43\",\"7.44\",\"7.45\",\"7.46\",\"7.47\",\"7.48\",\"7.49\",\"7.5\",\"7.51\",\"7.52\",\"7.53\",\"7.54\",\"7.55\",\"7.56\",\"7.57\",\"7.58\",\"7.59\",\"7.6\",\"7.61\",\"7.62\",\"7.63\",\"7.64\",\"7.65\",\"7.66\",\"7.67\",\"7.68\",\"7.69\",\"7.7\",\"7.71\",\"7.72\",\"7.73\",\"7.74\",\"7.75\",\"7.76\",\"7.77\",\"7.78\",\"7.79\",\"7.8\",\"7.81\",\"7.82\",\"7.83\",\"7.84\",\"7.85\",\"7.86\",\"7.87\",\"7.88\",\"7.89\",\"7.9\",\"7.91\",\"7.92\",\"7.93\",\"7.94\",\"7.95\",\"7.96\",\"7.97\",\"7.98\",\"7.99\",\"8.0\",\"8.01\",\"8.02\",\"8.03\",\"8.04\",\"8.05\",\"8.06\",\"8.07\",\"8.08\",\"8.09\",\"8.1\",\"8.11\",\"8.12\",\"8.13\",\"8.14\",\"8.15\",\"8.16\",\"8.17\",\"8.18\",\"8.19\",\"8.2\",\"8.21\",\"8.22\",\"8.23\",\"8.24\",\"8.25\",\"8.26\",\"8.27\",\"8.28\",\"8.29\",\"8.3\",\"8.31\",\"8.32\",\"8.33\",\"8.34\",\"8.35\",\"8.36\",\"8.37\",\"8.38\",\"8.39\",\"8.4\",\"8.41\",\"8.42\",\"8.43\",\"8.44\",\"8.45\",\"8.46\",\"8.47\",\"8.48\",\"8.49\",\"8.5\",\"8.51\",\"8.52\",\"8.53\",\"8.54\",\"8.55\",\"8.56\",\"8.57\",\"8.58\",\"8.59\",\"8.6\",\"8.61\",\"8.62\",\"8.63\",\"8.64\",\"8.65\",\"8.66\",\"8.67\",\"8.68\",\"8.69\",\"8.7\",\"8.71\",\"8.72\",\"8.73\",\"8.74\",\"8.75\",\"8.76\",\"8.77\",\"8.78\",\"8.79\",\"8.8\",\"8.81\",\"8.82\",\"8.83\",\"8.84\",\"8.85\",\"8.86\",\"8.87\",\"8.88\",\"8.89\",\"8.9\",\"8.91\",\"8.92\",\"8.93\",\"8.94\",\"8.95\",\"8.96\",\"8.97\",\"8.98\",\"8.99\",\"9.0\",\"9.01\",\"9.02\",\"9.03\",\"9.04\",\"9.05\",\"9.06\",\"9.07\",\"9.08\",\"9.09\",\"9.1\",\"9.11\",\"9.12\",\"9.13\",\"9.14\",\"9.15\",\"9.16\",\"9.17\",\"9.18\",\"9.19\",\"9.2\",\"9.21\",\"9.22\",\"9.23\",\"9.24\",\"9.25\",\"9.26\",\"9.27\",\"9.28\",\"9.29\",\"9.3\",\"9.31\",\"9.32\",\"9.33\",\"9.34\",\"9.35\",\"9.36\",\"9.37\",\"9.38\",\"9.39\",\"9.4\",\"9.41\",\"9.42\",\"9.43\",\"9.44\",\"9.45\",\"9.46\",\"9.47\",\"9.48\",\"9.49\",\"9.5\",\"9.51\",\"9.52\",\"9.53\",\"9.54\",\"9.55\",\"9.56\",\"9.57\",\"9.58\",\"9.59\",\"9.6\",\"9.61\",\"9.62\",\"9.63\",\"9.64\",\"9.65\",\"9.66\",\"9.67\",\"9.68\",\"9.69\",\"9.7\",\"9.71\",\"9.72\",\"9.73\",\"9.74\",\"9.75\",\"9.76\",\"9.77\",\"9.78\",\"9.79\",\"9.8\",\"9.81\",\"9.82\",\"9.83\",\"9.84\",\"9.85\",\"9.86\",\"9.87\",\"9.88\",\"9.89\",\"9.9\",\"9.91\",\"9.92\",\"9.93\",\"9.94\",\"9.95\",\"9.96\",\"9.97\",\"9.98\",\"9.99\",\"10.0\"],\"changes\":WebIO.getval({\"name\":\"changes\",\"scope\":\"15698831480548399323\",\"id\":\"ob_15\",\"type\":\"observable\"}),\"index\":WebIO.getval({\"name\":\"index\",\"scope\":\"15698831480548399323\",\"id\":\"ob_14\",\"type\":\"observable\"})};\n    var self = this;\n    function AppViewModel() {\n        for (var key in json_data) {\n            var el = json_data[key];\n            this[key] = Array.isArray(el) ? ko.observableArray(el) : ko.observable(el);\n        }\n        \n        [this[\"formatted_val\"]=ko.computed(    function(){\n        return this.formatted_vals()[parseInt(this.index())-(1)];\n    }\n,this)]\n        [this[\"changes\"].subscribe((function (val){!(this.valueFromJulia[\"changes\"]) ? (WebIO.setval({\"name\":\"changes\",\"scope\":\"15698831480548399323\",\"id\":\"ob_15\",\"type\":\"observable\"},val)) : undefined; return this.valueFromJulia[\"changes\"]=false}),self),this[\"index\"].subscribe((function (val){!(this.valueFromJulia[\"index\"]) ? (WebIO.setval({\"name\":\"index\",\"scope\":\"15698831480548399323\",\"id\":\"ob_14\",\"type\":\"observable\"},val)) : undefined; return this.valueFromJulia[\"index\"]=false}),self)]\n        \n    }\n    self.model = new AppViewModel();\n    self.valueFromJulia = {};\n    for (var key in json_data) {\n        self.valueFromJulia[key] = false;\n    }\n    ko.applyBindings(self.model, self.dom);\n}\n);\n    (WebIO.importBlock({\"data\":[{\"name\":\"knockout\",\"type\":\"js\",\"url\":\"/assetserver/fd311416c3fbf748771c2940b2ca4b79c53d1ab2-knockout.js\"},{\"name\":\"knockout_punches\",\"type\":\"js\",\"url\":\"/assetserver/148711b519458f42f1e7a22e5bdf7a74f9d5f8e0-knockout_punches.js\"}],\"type\":\"async_block\"})).then((imports) => handler.apply(this, imports));\n}\n"
            ],
            "observables": {
             "changes": {
              "id": "ob_15",
              "sync": false,
              "value": 0
             },
             "index": {
              "id": "ob_14",
              "sync": true,
              "value": 91
             }
            },
            "systemjs_options": null
           },
           "nodeType": "Scope",
           "props": {},
           "type": "node"
          }
         ],
         "instanceArgs": {
          "namespace": "html",
          "tag": "div"
         },
         "nodeType": "DOM",
         "props": {
          "className": "field interact-widget"
         },
         "type": "node"
        },
        {
         "children": [
          {
           "children": [
            {
             "children": [
              {
               "children": [
                {
                 "children": [
                  "r2"
                 ],
                 "instanceArgs": {
                  "namespace": "html",
                  "tag": "label"
                 },
                 "nodeType": "DOM",
                 "props": {
                  "className": "interact ",
                  "style": {
                   "padding": "5px 10px 0px 10px"
                  }
                 },
                 "type": "node"
                }
               ],
               "instanceArgs": {
                "namespace": "html",
                "tag": "div"
               },
               "nodeType": "DOM",
               "props": {
                "className": "interact-flex-row-left"
               },
               "type": "node"
              },
              {
               "children": [
                {
                 "children": [],
                 "instanceArgs": {
                  "namespace": "html",
                  "tag": "input"
                 },
                 "nodeType": "DOM",
                 "props": {
                  "attributes": {
                   "data-bind": "numericValue: index, valueUpdate: 'input', event: {change: function (){this.changes(this.changes()+1)}}",
                   "orient": "horizontal",
                   "type": "range"
                  },
                  "className": "slider slider is-fullwidth",
                  "max": 991,
                  "min": 1,
                  "step": 1,
                  "style": {}
                 },
                 "type": "node"
                }
               ],
               "instanceArgs": {
                "namespace": "html",
                "tag": "div"
               },
               "nodeType": "DOM",
               "props": {
                "className": "interact-flex-row-center"
               },
               "type": "node"
              },
              {
               "children": [
                {
                 "children": [],
                 "instanceArgs": {
                  "namespace": "html",
                  "tag": "p"
                 },
                 "nodeType": "DOM",
                 "props": {
                  "attributes": {
                   "data-bind": "text: formatted_val"
                  }
                 },
                 "type": "node"
                }
               ],
               "instanceArgs": {
                "namespace": "html",
                "tag": "div"
               },
               "nodeType": "DOM",
               "props": {
                "className": "interact-flex-row-right"
               },
               "type": "node"
              }
             ],
             "instanceArgs": {
              "namespace": "html",
              "tag": "div"
             },
             "nodeType": "DOM",
             "props": {
              "className": "interact-flex-row interact-widget"
             },
             "type": "node"
            }
           ],
           "instanceArgs": {
            "handlers": {
             "changes": [
              "(function (val){return (val!=this.model[\"changes\"]()) ? (this.valueFromJulia[\"changes\"]=true, this.model[\"changes\"](val)) : undefined})"
             ],
             "index": [
              "(function (val){return (val!=this.model[\"index\"]()) ? (this.valueFromJulia[\"index\"]=true, this.model[\"index\"](val)) : undefined})"
             ]
            },
            "id": "9079989127869400802",
            "imports": {
             "data": [
              {
               "name": "knockout",
               "type": "js",
               "url": "/assetserver/fd311416c3fbf748771c2940b2ca4b79c53d1ab2-knockout.js"
              },
              {
               "name": "knockout_punches",
               "type": "js",
               "url": "/assetserver/148711b519458f42f1e7a22e5bdf7a74f9d5f8e0-knockout_punches.js"
              },
              {
               "name": null,
               "type": "js",
               "url": "/assetserver/96387ddaa2b47f2577dbef3402b61deb55b692cb-all.js"
              },
              {
               "name": null,
               "type": "css",
               "url": "/assetserver/1205e2cb75bbf44a95189d9e430e22f4b3018051-style.css"
              },
              {
               "name": null,
               "type": "css",
               "url": "/assetserver/e47939cc599f2b791e3e3e81f0cfd77c1a048dd3-bulma_confined.min.css"
              }
             ],
             "type": "async_block"
            },
            "mount_callbacks": [
             "function () {\n    var handler = (function (ko, koPunches) {\n    ko.punches.enableAll();\n    ko.bindingHandlers.numericValue = {\n        init: function(element, valueAccessor, allBindings, data, context) {\n            var stringified = ko.observable(ko.unwrap(valueAccessor()));\n            stringified.subscribe(function(value) {\n                var val = parseFloat(value);\n                if (!isNaN(val)) {\n                    valueAccessor()(val);\n                }\n            });\n            valueAccessor().subscribe(function(value) {\n                var str = JSON.stringify(value);\n                if ((str == \"0\") && ([\"-0\", \"-0.\"].indexOf(stringified()) >= 0))\n                     return;\n                 if ([\"null\", \"\"].indexOf(str) >= 0)\n                     return;\n                stringified(str);\n            });\n            ko.applyBindingsToNode(\n                element,\n                {\n                    value: stringified,\n                    valueUpdate: allBindings.get('valueUpdate'),\n                },\n                context,\n            );\n        }\n    };\n    var json_data = {\"formatted_vals\":[\"0.1\",\"0.11\",\"0.12\",\"0.13\",\"0.14\",\"0.15\",\"0.16\",\"0.17\",\"0.18\",\"0.19\",\"0.2\",\"0.21\",\"0.22\",\"0.23\",\"0.24\",\"0.25\",\"0.26\",\"0.27\",\"0.28\",\"0.29\",\"0.3\",\"0.31\",\"0.32\",\"0.33\",\"0.34\",\"0.35\",\"0.36\",\"0.37\",\"0.38\",\"0.39\",\"0.4\",\"0.41\",\"0.42\",\"0.43\",\"0.44\",\"0.45\",\"0.46\",\"0.47\",\"0.48\",\"0.49\",\"0.5\",\"0.51\",\"0.52\",\"0.53\",\"0.54\",\"0.55\",\"0.56\",\"0.57\",\"0.58\",\"0.59\",\"0.6\",\"0.61\",\"0.62\",\"0.63\",\"0.64\",\"0.65\",\"0.66\",\"0.67\",\"0.68\",\"0.69\",\"0.7\",\"0.71\",\"0.72\",\"0.73\",\"0.74\",\"0.75\",\"0.76\",\"0.77\",\"0.78\",\"0.79\",\"0.8\",\"0.81\",\"0.82\",\"0.83\",\"0.84\",\"0.85\",\"0.86\",\"0.87\",\"0.88\",\"0.89\",\"0.9\",\"0.91\",\"0.92\",\"0.93\",\"0.94\",\"0.95\",\"0.96\",\"0.97\",\"0.98\",\"0.99\",\"1.0\",\"1.01\",\"1.02\",\"1.03\",\"1.04\",\"1.05\",\"1.06\",\"1.07\",\"1.08\",\"1.09\",\"1.1\",\"1.11\",\"1.12\",\"1.13\",\"1.14\",\"1.15\",\"1.16\",\"1.17\",\"1.18\",\"1.19\",\"1.2\",\"1.21\",\"1.22\",\"1.23\",\"1.24\",\"1.25\",\"1.26\",\"1.27\",\"1.28\",\"1.29\",\"1.3\",\"1.31\",\"1.32\",\"1.33\",\"1.34\",\"1.35\",\"1.36\",\"1.37\",\"1.38\",\"1.39\",\"1.4\",\"1.41\",\"1.42\",\"1.43\",\"1.44\",\"1.45\",\"1.46\",\"1.47\",\"1.48\",\"1.49\",\"1.5\",\"1.51\",\"1.52\",\"1.53\",\"1.54\",\"1.55\",\"1.56\",\"1.57\",\"1.58\",\"1.59\",\"1.6\",\"1.61\",\"1.62\",\"1.63\",\"1.64\",\"1.65\",\"1.66\",\"1.67\",\"1.68\",\"1.69\",\"1.7\",\"1.71\",\"1.72\",\"1.73\",\"1.74\",\"1.75\",\"1.76\",\"1.77\",\"1.78\",\"1.79\",\"1.8\",\"1.81\",\"1.82\",\"1.83\",\"1.84\",\"1.85\",\"1.86\",\"1.87\",\"1.88\",\"1.89\",\"1.9\",\"1.91\",\"1.92\",\"1.93\",\"1.94\",\"1.95\",\"1.96\",\"1.97\",\"1.98\",\"1.99\",\"2.0\",\"2.01\",\"2.02\",\"2.03\",\"2.04\",\"2.05\",\"2.06\",\"2.07\",\"2.08\",\"2.09\",\"2.1\",\"2.11\",\"2.12\",\"2.13\",\"2.14\",\"2.15\",\"2.16\",\"2.17\",\"2.18\",\"2.19\",\"2.2\",\"2.21\",\"2.22\",\"2.23\",\"2.24\",\"2.25\",\"2.26\",\"2.27\",\"2.28\",\"2.29\",\"2.3\",\"2.31\",\"2.32\",\"2.33\",\"2.34\",\"2.35\",\"2.36\",\"2.37\",\"2.38\",\"2.39\",\"2.4\",\"2.41\",\"2.42\",\"2.43\",\"2.44\",\"2.45\",\"2.46\",\"2.47\",\"2.48\",\"2.49\",\"2.5\",\"2.51\",\"2.52\",\"2.53\",\"2.54\",\"2.55\",\"2.56\",\"2.57\",\"2.58\",\"2.59\",\"2.6\",\"2.61\",\"2.62\",\"2.63\",\"2.64\",\"2.65\",\"2.66\",\"2.67\",\"2.68\",\"2.69\",\"2.7\",\"2.71\",\"2.72\",\"2.73\",\"2.74\",\"2.75\",\"2.76\",\"2.77\",\"2.78\",\"2.79\",\"2.8\",\"2.81\",\"2.82\",\"2.83\",\"2.84\",\"2.85\",\"2.86\",\"2.87\",\"2.88\",\"2.89\",\"2.9\",\"2.91\",\"2.92\",\"2.93\",\"2.94\",\"2.95\",\"2.96\",\"2.97\",\"2.98\",\"2.99\",\"3.0\",\"3.01\",\"3.02\",\"3.03\",\"3.04\",\"3.05\",\"3.06\",\"3.07\",\"3.08\",\"3.09\",\"3.1\",\"3.11\",\"3.12\",\"3.13\",\"3.14\",\"3.15\",\"3.16\",\"3.17\",\"3.18\",\"3.19\",\"3.2\",\"3.21\",\"3.22\",\"3.23\",\"3.24\",\"3.25\",\"3.26\",\"3.27\",\"3.28\",\"3.29\",\"3.3\",\"3.31\",\"3.32\",\"3.33\",\"3.34\",\"3.35\",\"3.36\",\"3.37\",\"3.38\",\"3.39\",\"3.4\",\"3.41\",\"3.42\",\"3.43\",\"3.44\",\"3.45\",\"3.46\",\"3.47\",\"3.48\",\"3.49\",\"3.5\",\"3.51\",\"3.52\",\"3.53\",\"3.54\",\"3.55\",\"3.56\",\"3.57\",\"3.58\",\"3.59\",\"3.6\",\"3.61\",\"3.62\",\"3.63\",\"3.64\",\"3.65\",\"3.66\",\"3.67\",\"3.68\",\"3.69\",\"3.7\",\"3.71\",\"3.72\",\"3.73\",\"3.74\",\"3.75\",\"3.76\",\"3.77\",\"3.78\",\"3.79\",\"3.8\",\"3.81\",\"3.82\",\"3.83\",\"3.84\",\"3.85\",\"3.86\",\"3.87\",\"3.88\",\"3.89\",\"3.9\",\"3.91\",\"3.92\",\"3.93\",\"3.94\",\"3.95\",\"3.96\",\"3.97\",\"3.98\",\"3.99\",\"4.0\",\"4.01\",\"4.02\",\"4.03\",\"4.04\",\"4.05\",\"4.06\",\"4.07\",\"4.08\",\"4.09\",\"4.1\",\"4.11\",\"4.12\",\"4.13\",\"4.14\",\"4.15\",\"4.16\",\"4.17\",\"4.18\",\"4.19\",\"4.2\",\"4.21\",\"4.22\",\"4.23\",\"4.24\",\"4.25\",\"4.26\",\"4.27\",\"4.28\",\"4.29\",\"4.3\",\"4.31\",\"4.32\",\"4.33\",\"4.34\",\"4.35\",\"4.36\",\"4.37\",\"4.38\",\"4.39\",\"4.4\",\"4.41\",\"4.42\",\"4.43\",\"4.44\",\"4.45\",\"4.46\",\"4.47\",\"4.48\",\"4.49\",\"4.5\",\"4.51\",\"4.52\",\"4.53\",\"4.54\",\"4.55\",\"4.56\",\"4.57\",\"4.58\",\"4.59\",\"4.6\",\"4.61\",\"4.62\",\"4.63\",\"4.64\",\"4.65\",\"4.66\",\"4.67\",\"4.68\",\"4.69\",\"4.7\",\"4.71\",\"4.72\",\"4.73\",\"4.74\",\"4.75\",\"4.76\",\"4.77\",\"4.78\",\"4.79\",\"4.8\",\"4.81\",\"4.82\",\"4.83\",\"4.84\",\"4.85\",\"4.86\",\"4.87\",\"4.88\",\"4.89\",\"4.9\",\"4.91\",\"4.92\",\"4.93\",\"4.94\",\"4.95\",\"4.96\",\"4.97\",\"4.98\",\"4.99\",\"5.0\",\"5.01\",\"5.02\",\"5.03\",\"5.04\",\"5.05\",\"5.06\",\"5.07\",\"5.08\",\"5.09\",\"5.1\",\"5.11\",\"5.12\",\"5.13\",\"5.14\",\"5.15\",\"5.16\",\"5.17\",\"5.18\",\"5.19\",\"5.2\",\"5.21\",\"5.22\",\"5.23\",\"5.24\",\"5.25\",\"5.26\",\"5.27\",\"5.28\",\"5.29\",\"5.3\",\"5.31\",\"5.32\",\"5.33\",\"5.34\",\"5.35\",\"5.36\",\"5.37\",\"5.38\",\"5.39\",\"5.4\",\"5.41\",\"5.42\",\"5.43\",\"5.44\",\"5.45\",\"5.46\",\"5.47\",\"5.48\",\"5.49\",\"5.5\",\"5.51\",\"5.52\",\"5.53\",\"5.54\",\"5.55\",\"5.56\",\"5.57\",\"5.58\",\"5.59\",\"5.6\",\"5.61\",\"5.62\",\"5.63\",\"5.64\",\"5.65\",\"5.66\",\"5.67\",\"5.68\",\"5.69\",\"5.7\",\"5.71\",\"5.72\",\"5.73\",\"5.74\",\"5.75\",\"5.76\",\"5.77\",\"5.78\",\"5.79\",\"5.8\",\"5.81\",\"5.82\",\"5.83\",\"5.84\",\"5.85\",\"5.86\",\"5.87\",\"5.88\",\"5.89\",\"5.9\",\"5.91\",\"5.92\",\"5.93\",\"5.94\",\"5.95\",\"5.96\",\"5.97\",\"5.98\",\"5.99\",\"6.0\",\"6.01\",\"6.02\",\"6.03\",\"6.04\",\"6.05\",\"6.06\",\"6.07\",\"6.08\",\"6.09\",\"6.1\",\"6.11\",\"6.12\",\"6.13\",\"6.14\",\"6.15\",\"6.16\",\"6.17\",\"6.18\",\"6.19\",\"6.2\",\"6.21\",\"6.22\",\"6.23\",\"6.24\",\"6.25\",\"6.26\",\"6.27\",\"6.28\",\"6.29\",\"6.3\",\"6.31\",\"6.32\",\"6.33\",\"6.34\",\"6.35\",\"6.36\",\"6.37\",\"6.38\",\"6.39\",\"6.4\",\"6.41\",\"6.42\",\"6.43\",\"6.44\",\"6.45\",\"6.46\",\"6.47\",\"6.48\",\"6.49\",\"6.5\",\"6.51\",\"6.52\",\"6.53\",\"6.54\",\"6.55\",\"6.56\",\"6.57\",\"6.58\",\"6.59\",\"6.6\",\"6.61\",\"6.62\",\"6.63\",\"6.64\",\"6.65\",\"6.66\",\"6.67\",\"6.68\",\"6.69\",\"6.7\",\"6.71\",\"6.72\",\"6.73\",\"6.74\",\"6.75\",\"6.76\",\"6.77\",\"6.78\",\"6.79\",\"6.8\",\"6.81\",\"6.82\",\"6.83\",\"6.84\",\"6.85\",\"6.86\",\"6.87\",\"6.88\",\"6.89\",\"6.9\",\"6.91\",\"6.92\",\"6.93\",\"6.94\",\"6.95\",\"6.96\",\"6.97\",\"6.98\",\"6.99\",\"7.0\",\"7.01\",\"7.02\",\"7.03\",\"7.04\",\"7.05\",\"7.06\",\"7.07\",\"7.08\",\"7.09\",\"7.1\",\"7.11\",\"7.12\",\"7.13\",\"7.14\",\"7.15\",\"7.16\",\"7.17\",\"7.18\",\"7.19\",\"7.2\",\"7.21\",\"7.22\",\"7.23\",\"7.24\",\"7.25\",\"7.26\",\"7.27\",\"7.28\",\"7.29\",\"7.3\",\"7.31\",\"7.32\",\"7.33\",\"7.34\",\"7.35\",\"7.36\",\"7.37\",\"7.38\",\"7.39\",\"7.4\",\"7.41\",\"7.42\",\"7.43\",\"7.44\",\"7.45\",\"7.46\",\"7.47\",\"7.48\",\"7.49\",\"7.5\",\"7.51\",\"7.52\",\"7.53\",\"7.54\",\"7.55\",\"7.56\",\"7.57\",\"7.58\",\"7.59\",\"7.6\",\"7.61\",\"7.62\",\"7.63\",\"7.64\",\"7.65\",\"7.66\",\"7.67\",\"7.68\",\"7.69\",\"7.7\",\"7.71\",\"7.72\",\"7.73\",\"7.74\",\"7.75\",\"7.76\",\"7.77\",\"7.78\",\"7.79\",\"7.8\",\"7.81\",\"7.82\",\"7.83\",\"7.84\",\"7.85\",\"7.86\",\"7.87\",\"7.88\",\"7.89\",\"7.9\",\"7.91\",\"7.92\",\"7.93\",\"7.94\",\"7.95\",\"7.96\",\"7.97\",\"7.98\",\"7.99\",\"8.0\",\"8.01\",\"8.02\",\"8.03\",\"8.04\",\"8.05\",\"8.06\",\"8.07\",\"8.08\",\"8.09\",\"8.1\",\"8.11\",\"8.12\",\"8.13\",\"8.14\",\"8.15\",\"8.16\",\"8.17\",\"8.18\",\"8.19\",\"8.2\",\"8.21\",\"8.22\",\"8.23\",\"8.24\",\"8.25\",\"8.26\",\"8.27\",\"8.28\",\"8.29\",\"8.3\",\"8.31\",\"8.32\",\"8.33\",\"8.34\",\"8.35\",\"8.36\",\"8.37\",\"8.38\",\"8.39\",\"8.4\",\"8.41\",\"8.42\",\"8.43\",\"8.44\",\"8.45\",\"8.46\",\"8.47\",\"8.48\",\"8.49\",\"8.5\",\"8.51\",\"8.52\",\"8.53\",\"8.54\",\"8.55\",\"8.56\",\"8.57\",\"8.58\",\"8.59\",\"8.6\",\"8.61\",\"8.62\",\"8.63\",\"8.64\",\"8.65\",\"8.66\",\"8.67\",\"8.68\",\"8.69\",\"8.7\",\"8.71\",\"8.72\",\"8.73\",\"8.74\",\"8.75\",\"8.76\",\"8.77\",\"8.78\",\"8.79\",\"8.8\",\"8.81\",\"8.82\",\"8.83\",\"8.84\",\"8.85\",\"8.86\",\"8.87\",\"8.88\",\"8.89\",\"8.9\",\"8.91\",\"8.92\",\"8.93\",\"8.94\",\"8.95\",\"8.96\",\"8.97\",\"8.98\",\"8.99\",\"9.0\",\"9.01\",\"9.02\",\"9.03\",\"9.04\",\"9.05\",\"9.06\",\"9.07\",\"9.08\",\"9.09\",\"9.1\",\"9.11\",\"9.12\",\"9.13\",\"9.14\",\"9.15\",\"9.16\",\"9.17\",\"9.18\",\"9.19\",\"9.2\",\"9.21\",\"9.22\",\"9.23\",\"9.24\",\"9.25\",\"9.26\",\"9.27\",\"9.28\",\"9.29\",\"9.3\",\"9.31\",\"9.32\",\"9.33\",\"9.34\",\"9.35\",\"9.36\",\"9.37\",\"9.38\",\"9.39\",\"9.4\",\"9.41\",\"9.42\",\"9.43\",\"9.44\",\"9.45\",\"9.46\",\"9.47\",\"9.48\",\"9.49\",\"9.5\",\"9.51\",\"9.52\",\"9.53\",\"9.54\",\"9.55\",\"9.56\",\"9.57\",\"9.58\",\"9.59\",\"9.6\",\"9.61\",\"9.62\",\"9.63\",\"9.64\",\"9.65\",\"9.66\",\"9.67\",\"9.68\",\"9.69\",\"9.7\",\"9.71\",\"9.72\",\"9.73\",\"9.74\",\"9.75\",\"9.76\",\"9.77\",\"9.78\",\"9.79\",\"9.8\",\"9.81\",\"9.82\",\"9.83\",\"9.84\",\"9.85\",\"9.86\",\"9.87\",\"9.88\",\"9.89\",\"9.9\",\"9.91\",\"9.92\",\"9.93\",\"9.94\",\"9.95\",\"9.96\",\"9.97\",\"9.98\",\"9.99\",\"10.0\"],\"changes\":WebIO.getval({\"name\":\"changes\",\"scope\":\"9079989127869400802\",\"id\":\"ob_18\",\"type\":\"observable\"}),\"index\":WebIO.getval({\"name\":\"index\",\"scope\":\"9079989127869400802\",\"id\":\"ob_17\",\"type\":\"observable\"})};\n    var self = this;\n    function AppViewModel() {\n        for (var key in json_data) {\n            var el = json_data[key];\n            this[key] = Array.isArray(el) ? ko.observableArray(el) : ko.observable(el);\n        }\n        \n        [this[\"formatted_val\"]=ko.computed(    function(){\n        return this.formatted_vals()[parseInt(this.index())-(1)];\n    }\n,this)]\n        [this[\"changes\"].subscribe((function (val){!(this.valueFromJulia[\"changes\"]) ? (WebIO.setval({\"name\":\"changes\",\"scope\":\"9079989127869400802\",\"id\":\"ob_18\",\"type\":\"observable\"},val)) : undefined; return this.valueFromJulia[\"changes\"]=false}),self),this[\"index\"].subscribe((function (val){!(this.valueFromJulia[\"index\"]) ? (WebIO.setval({\"name\":\"index\",\"scope\":\"9079989127869400802\",\"id\":\"ob_17\",\"type\":\"observable\"},val)) : undefined; return this.valueFromJulia[\"index\"]=false}),self)]\n        \n    }\n    self.model = new AppViewModel();\n    self.valueFromJulia = {};\n    for (var key in json_data) {\n        self.valueFromJulia[key] = false;\n    }\n    ko.applyBindings(self.model, self.dom);\n}\n);\n    (WebIO.importBlock({\"data\":[{\"name\":\"knockout\",\"type\":\"js\",\"url\":\"/assetserver/fd311416c3fbf748771c2940b2ca4b79c53d1ab2-knockout.js\"},{\"name\":\"knockout_punches\",\"type\":\"js\",\"url\":\"/assetserver/148711b519458f42f1e7a22e5bdf7a74f9d5f8e0-knockout_punches.js\"}],\"type\":\"async_block\"})).then((imports) => handler.apply(this, imports));\n}\n"
            ],
            "observables": {
             "changes": {
              "id": "ob_18",
              "sync": false,
              "value": 0
             },
             "index": {
              "id": "ob_17",
              "sync": true,
              "value": 191
             }
            },
            "systemjs_options": null
           },
           "nodeType": "Scope",
           "props": {},
           "type": "node"
          }
         ],
         "instanceArgs": {
          "namespace": "html",
          "tag": "div"
         },
         "nodeType": "DOM",
         "props": {
          "className": "field interact-widget"
         },
         "type": "node"
        },
        {
         "children": [
          {
           "children": [],
           "instanceArgs": {
            "id": "ob_24",
            "name": "obs-node"
           },
           "nodeType": "ObservableNode",
           "props": {},
           "type": "node"
          }
         ],
         "instanceArgs": {
          "handlers": {},
          "id": "13391992943732984689",
          "imports": {
           "data": [],
           "type": "async_block"
          },
          "mount_callbacks": [],
          "observables": {
           "obs-node": {
            "id": "ob_24",
            "sync": false,
            "value": {
             "children": [
              {
               "children": [],
               "instanceArgs": {
                "namespace": "html",
                "tag": "div"
               },
               "nodeType": "DOM",
               "props": {
                "setInnerHtml": "<?xml version=\"1.0\" encoding=\"utf-8\"?>\n<svg xmlns=\"http://www.w3.org/2000/svg\" xmlns:xlink=\"http://www.w3.org/1999/xlink\" width=\"600\" height=\"400\" viewBox=\"0 0 2400 1600\">\n<defs>\n  <clipPath id=\"clip4700\">\n    <rect x=\"0\" y=\"0\" width=\"2400\" height=\"1600\"/>\n  </clipPath>\n</defs>\n<polygon clip-path=\"url(#clip4700)\" points=\"\n0,1600 2400,1600 2400,0 0,0 \n  \" fill=\"#ffffff\" fill-rule=\"evenodd\" fill-opacity=\"1\"/>\n<defs>\n  <clipPath id=\"clip4701\">\n    <rect x=\"480\" y=\"0\" width=\"1681\" height=\"1600\"/>\n  </clipPath>\n</defs>\n<polygon clip-path=\"url(#clip4700)\" points=\"\n215.754,1425.62 2352.76,1425.62 2352.76,47.2441 215.754,47.2441 \n  \" fill=\"#ffffff\" fill-rule=\"evenodd\" fill-opacity=\"1\"/>\n<defs>\n  <clipPath id=\"clip4702\">\n    <rect x=\"215\" y=\"47\" width=\"2138\" height=\"1379\"/>\n  </clipPath>\n</defs>\n<polyline clip-path=\"url(#clip4702)\" style=\"stroke:#000000; stroke-width:2; stroke-opacity:0.1; fill:none\" points=\"\n  215.754,1425.62 215.754,47.2441 \n  \"/>\n<polyline clip-path=\"url(#clip4702)\" style=\"stroke:#000000; stroke-width:2; stroke-opacity:0.1; fill:none\" points=\"\n  643.154,1425.62 643.154,47.2441 \n  \"/>\n<polyline clip-path=\"url(#clip4702)\" style=\"stroke:#000000; stroke-width:2; stroke-opacity:0.1; fill:none\" points=\"\n  1070.55,1425.62 1070.55,47.2441 \n  \"/>\n<polyline clip-path=\"url(#clip4702)\" style=\"stroke:#000000; stroke-width:2; stroke-opacity:0.1; fill:none\" points=\"\n  1497.96,1425.62 1497.96,47.2441 \n  \"/>\n<polyline clip-path=\"url(#clip4702)\" style=\"stroke:#000000; stroke-width:2; stroke-opacity:0.1; fill:none\" points=\"\n  1925.36,1425.62 1925.36,47.2441 \n  \"/>\n<polyline clip-path=\"url(#clip4702)\" style=\"stroke:#000000; stroke-width:2; stroke-opacity:0.1; fill:none\" points=\"\n  2352.76,1425.62 2352.76,47.2441 \n  \"/>\n<polyline clip-path=\"url(#clip4702)\" style=\"stroke:#000000; stroke-width:2; stroke-opacity:0.1; fill:none\" points=\"\n  215.754,1386.61 2352.76,1386.61 \n  \"/>\n<polyline clip-path=\"url(#clip4702)\" style=\"stroke:#000000; stroke-width:2; stroke-opacity:0.1; fill:none\" points=\"\n  215.754,1077.77 2352.76,1077.77 \n  \"/>\n<polyline clip-path=\"url(#clip4702)\" style=\"stroke:#000000; stroke-width:2; stroke-opacity:0.1; fill:none\" points=\"\n  215.754,768.94 2352.76,768.94 \n  \"/>\n<polyline clip-path=\"url(#clip4702)\" style=\"stroke:#000000; stroke-width:2; stroke-opacity:0.1; fill:none\" points=\"\n  215.754,460.106 2352.76,460.106 \n  \"/>\n<polyline clip-path=\"url(#clip4702)\" style=\"stroke:#000000; stroke-width:2; stroke-opacity:0.1; fill:none\" points=\"\n  215.754,151.272 2352.76,151.272 \n  \"/>\n<polyline clip-path=\"url(#clip4700)\" style=\"stroke:#000000; stroke-width:4; stroke-opacity:1; fill:none\" points=\"\n  215.754,1425.62 2352.76,1425.62 \n  \"/>\n<polyline clip-path=\"url(#clip4700)\" style=\"stroke:#000000; stroke-width:4; stroke-opacity:1; fill:none\" points=\"\n  215.754,1425.62 215.754,47.2441 \n  \"/>\n<polyline clip-path=\"url(#clip4700)\" style=\"stroke:#000000; stroke-width:4; stroke-opacity:1; fill:none\" points=\"\n  215.754,1425.62 215.754,1404.94 \n  \"/>\n<polyline clip-path=\"url(#clip4700)\" style=\"stroke:#000000; stroke-width:4; stroke-opacity:1; fill:none\" points=\"\n  643.154,1425.62 643.154,1404.94 \n  \"/>\n<polyline clip-path=\"url(#clip4700)\" style=\"stroke:#000000; stroke-width:4; stroke-opacity:1; fill:none\" points=\"\n  1070.55,1425.62 1070.55,1404.94 \n  \"/>\n<polyline clip-path=\"url(#clip4700)\" style=\"stroke:#000000; stroke-width:4; stroke-opacity:1; fill:none\" points=\"\n  1497.96,1425.62 1497.96,1404.94 \n  \"/>\n<polyline clip-path=\"url(#clip4700)\" style=\"stroke:#000000; stroke-width:4; stroke-opacity:1; fill:none\" points=\"\n  1925.36,1425.62 1925.36,1404.94 \n  \"/>\n<polyline clip-path=\"url(#clip4700)\" style=\"stroke:#000000; stroke-width:4; stroke-opacity:1; fill:none\" points=\"\n  2352.76,1425.62 2352.76,1404.94 \n  \"/>\n<polyline clip-path=\"url(#clip4700)\" style=\"stroke:#000000; stroke-width:4; stroke-opacity:1; fill:none\" points=\"\n  215.754,1386.61 247.809,1386.61 \n  \"/>\n<polyline clip-path=\"url(#clip4700)\" style=\"stroke:#000000; stroke-width:4; stroke-opacity:1; fill:none\" points=\"\n  215.754,1077.77 247.809,1077.77 \n  \"/>\n<polyline clip-path=\"url(#clip4700)\" style=\"stroke:#000000; stroke-width:4; stroke-opacity:1; fill:none\" points=\"\n  215.754,768.94 247.809,768.94 \n  \"/>\n<polyline clip-path=\"url(#clip4700)\" style=\"stroke:#000000; stroke-width:4; stroke-opacity:1; fill:none\" points=\"\n  215.754,460.106 247.809,460.106 \n  \"/>\n<polyline clip-path=\"url(#clip4700)\" style=\"stroke:#000000; stroke-width:4; stroke-opacity:1; fill:none\" points=\"\n  215.754,151.272 247.809,151.272 \n  \"/>\n<g clip-path=\"url(#clip4700)\">\n<text style=\"fill:#000000; fill-opacity:1; font-family:Arial,Helvetica Neue,Helvetica,sans-serif; font-size:48px; text-anchor:middle;\" transform=\"rotate(0, 215.754, 1479.62)\" x=\"215.754\" y=\"1479.62\">0</text>\n</g>\n<g clip-path=\"url(#clip4700)\">\n<text style=\"fill:#000000; fill-opacity:1; font-family:Arial,Helvetica Neue,Helvetica,sans-serif; font-size:48px; text-anchor:middle;\" transform=\"rotate(0, 643.154, 1479.62)\" x=\"643.154\" y=\"1479.62\">20</text>\n</g>\n<g clip-path=\"url(#clip4700)\">\n<text style=\"fill:#000000; fill-opacity:1; font-family:Arial,Helvetica Neue,Helvetica,sans-serif; font-size:48px; text-anchor:middle;\" transform=\"rotate(0, 1070.55, 1479.62)\" x=\"1070.55\" y=\"1479.62\">40</text>\n</g>\n<g clip-path=\"url(#clip4700)\">\n<text style=\"fill:#000000; fill-opacity:1; font-family:Arial,Helvetica Neue,Helvetica,sans-serif; font-size:48px; text-anchor:middle;\" transform=\"rotate(0, 1497.96, 1479.62)\" x=\"1497.96\" y=\"1479.62\">60</text>\n</g>\n<g clip-path=\"url(#clip4700)\">\n<text style=\"fill:#000000; fill-opacity:1; font-family:Arial,Helvetica Neue,Helvetica,sans-serif; font-size:48px; text-anchor:middle;\" transform=\"rotate(0, 1925.36, 1479.62)\" x=\"1925.36\" y=\"1479.62\">80</text>\n</g>\n<g clip-path=\"url(#clip4700)\">\n<text style=\"fill:#000000; fill-opacity:1; font-family:Arial,Helvetica Neue,Helvetica,sans-serif; font-size:48px; text-anchor:middle;\" transform=\"rotate(0, 2352.76, 1479.62)\" x=\"2352.76\" y=\"1479.62\">100</text>\n</g>\n<g clip-path=\"url(#clip4700)\">\n<text style=\"fill:#000000; fill-opacity:1; font-family:Arial,Helvetica Neue,Helvetica,sans-serif; font-size:48px; text-anchor:end;\" transform=\"rotate(0, 191.754, 1404.11)\" x=\"191.754\" y=\"1404.11\">0.5</text>\n</g>\n<g clip-path=\"url(#clip4700)\">\n<text style=\"fill:#000000; fill-opacity:1; font-family:Arial,Helvetica Neue,Helvetica,sans-serif; font-size:48px; text-anchor:end;\" transform=\"rotate(0, 191.754, 1095.27)\" x=\"191.754\" y=\"1095.27\">0.6</text>\n</g>\n<g clip-path=\"url(#clip4700)\">\n<text style=\"fill:#000000; fill-opacity:1; font-family:Arial,Helvetica Neue,Helvetica,sans-serif; font-size:48px; text-anchor:end;\" transform=\"rotate(0, 191.754, 786.44)\" x=\"191.754\" y=\"786.44\">0.7</text>\n</g>\n<g clip-path=\"url(#clip4700)\">\n<text style=\"fill:#000000; fill-opacity:1; font-family:Arial,Helvetica Neue,Helvetica,sans-serif; font-size:48px; text-anchor:end;\" transform=\"rotate(0, 191.754, 477.606)\" x=\"191.754\" y=\"477.606\">0.8</text>\n</g>\n<g clip-path=\"url(#clip4700)\">\n<text style=\"fill:#000000; fill-opacity:1; font-family:Arial,Helvetica Neue,Helvetica,sans-serif; font-size:48px; text-anchor:end;\" transform=\"rotate(0, 191.754, 168.772)\" x=\"191.754\" y=\"168.772\">0.9</text>\n</g>\n<g clip-path=\"url(#clip4700)\">\n<text style=\"fill:#000000; fill-opacity:1; font-family:Arial,Helvetica Neue,Helvetica,sans-serif; font-size:66px; text-anchor:middle;\" transform=\"rotate(0, 1284.25, 1559.48)\" x=\"1284.25\" y=\"1559.48\">time</text>\n</g>\n<g clip-path=\"url(#clip4700)\">\n<text style=\"fill:#000000; fill-opacity:1; font-family:Arial,Helvetica Neue,Helvetica,sans-serif; font-size:66px; text-anchor:middle;\" transform=\"rotate(-90, 89.2861, 736.431)\" x=\"89.2861\" y=\"736.431\">Density</text>\n</g>\n<polyline clip-path=\"url(#clip4702)\" style=\"stroke:#009af9; stroke-width:12; stroke-opacity:1; fill:none\" points=\"\n  215.754,1386.61 217.893,1326.06 220.032,1268.21 222.172,1213.21 224.311,1161.11 226.45,1111.92 228.589,1065.56 230.728,1021.93 232.867,980.897 235.006,942.294 \n  237.145,905.958 239.285,871.718 241.424,839.412 243.563,808.881 245.702,779.977 247.841,752.567 249.98,726.526 252.119,701.744 254.259,678.12 256.398,655.566 \n  258.537,634.003 260.676,613.36 262.815,593.576 264.954,574.595 267.093,556.368 269.233,538.852 271.372,522.006 273.511,505.798 275.65,490.194 277.789,475.166 \n  279.928,460.688 282.067,446.738 284.207,433.291 286.346,420.33 288.485,407.834 290.624,395.786 292.763,384.17 294.902,372.97 297.041,362.172 299.181,351.761 \n  301.32,341.725 303.459,332.049 305.598,322.723 307.737,313.733 309.876,305.07 312.015,296.721 314.155,288.677 316.294,280.927 318.433,273.461 320.572,266.269 \n  322.711,259.343 324.85,252.672 326.989,246.249 329.129,240.065 331.268,234.111 333.407,228.38 335.546,222.864 337.685,217.555 339.824,212.446 341.963,207.53 \n  344.103,202.801 346.242,198.25 348.381,193.873 350.52,189.662 352.659,185.612 354.798,181.718 356.937,177.972 359.077,174.37 361.216,170.907 363.355,167.577 \n  365.494,164.376 367.633,161.299 369.772,158.34 371.911,155.497 374.051,152.763 376.19,150.136 378.329,147.611 380.468,145.185 382.607,142.853 384.746,140.613 \n  386.885,138.46 389.025,136.391 391.164,134.403 393.303,132.493 395.442,130.659 397.581,128.896 399.72,127.202 401.859,125.576 403.998,124.013 406.138,122.512 \n  408.277,121.07 410.416,119.685 412.555,118.354 414.694,117.077 416.833,115.849 418.972,114.671 421.112,113.539 423.251,112.451 425.39,111.407 427.529,110.404 \n  429.668,109.441 431.807,108.517 433.946,107.629 436.086,106.776 438.225,105.957 440.364,105.17 442.503,104.415 444.642,103.69 446.781,102.994 448.92,102.325 \n  451.06,101.683 453.199,101.067 455.338,100.475 457.477,99.9068 459.616,99.3612 461.755,98.8373 463.894,98.3343 466.034,97.8513 468.173,97.3876 470.312,96.9424 \n  472.451,96.515 474.59,96.1046 476.729,95.7106 478.868,95.3324 481.008,94.9692 483.147,94.6206 485.286,94.2858 487.425,93.9644 489.564,93.6559 491.703,93.3597 \n  493.842,93.0754 495.982,92.8024 498.121,92.5403 500.26,92.2887 502.399,92.0471 504.538,91.8152 506.677,91.5926 508.816,91.3789 510.956,91.1737 513.095,90.9767 \n  515.234,90.7877 517.373,90.6061 519.512,90.4319 521.651,90.2646 523.79,90.104 525.93,89.9498 528.069,89.8018 530.208,89.6598 532.347,89.5234 534.486,89.3925 \n  536.625,89.2668 538.764,89.1461 540.904,89.0303 543.043,88.9191 545.182,88.8124 547.321,88.7099 549.46,88.6115 551.599,88.5171 553.738,88.4265 555.877,88.3395 \n  558.017,88.2559 560.156,88.1758 562.295,88.0988 564.434,88.0249 566.573,87.954 568.712,87.8859 570.851,87.8205 572.991,87.7578 575.13,87.6976 577.269,87.6398 \n  579.408,87.5843 581.547,87.531 583.686,87.4798 585.825,87.4308 587.965,87.3836 590.104,87.3384 592.243,87.295 594.382,87.2533 596.521,87.2133 598.66,87.1749 \n  600.799,87.138 602.939,87.1026 605.078,87.0686 607.217,87.036 609.356,87.0047 611.495,86.9746 613.634,86.9458 615.773,86.9181 617.913,86.8915 620.052,86.866 \n  622.191,86.8415 624.33,86.818 626.469,86.7954 628.608,86.7737 630.747,86.7529 632.887,86.733 635.026,86.7138 637.165,86.6954 639.304,86.6777 641.443,86.6608 \n  643.582,86.6445 645.721,86.6289 647.861,86.6139 650,86.5995 652.139,86.5857 654.278,86.5724 656.417,86.5597 658.556,86.5475 660.695,86.5357 662.835,86.5245 \n  664.974,86.5137 667.113,86.5033 669.252,86.4933 671.391,86.4838 673.53,86.4746 675.669,86.4658 677.809,86.4573 679.948,86.4492 682.087,86.4414 684.226,86.4339 \n  686.365,86.4268 688.504,86.4199 690.643,86.4132 692.783,86.4069 694.922,86.4008 697.061,86.3949 699.2,86.3893 701.339,86.3839 703.478,86.3788 705.617,86.3738 \n  707.757,86.369 709.896,86.3644 712.035,86.36 714.174,86.3558 716.313,86.3518 718.452,86.3479 720.591,86.3442 722.73,86.3406 724.87,86.3371 727.009,86.3338 \n  729.148,86.3307 731.287,86.3276 733.426,86.3247 735.565,86.3219 737.704,86.3192 739.844,86.3166 741.983,86.3141 744.122,86.3118 746.261,86.3095 748.4,86.3073 \n  750.539,86.3052 752.678,86.3032 754.818,86.3012 756.957,86.2994 759.096,86.2976 761.235,86.2958 763.374,86.2942 765.513,86.2926 767.652,86.2911 769.792,86.2896 \n  771.931,86.2882 774.07,86.2869 776.209,86.2856 778.348,86.2844 780.487,86.2832 782.626,86.282 784.766,86.281 786.905,86.2799 789.044,86.2789 791.183,86.2779 \n  793.322,86.277 795.461,86.2761 797.6,86.2753 799.74,86.2744 801.879,86.2737 804.018,86.2729 806.157,86.2722 808.296,86.2715 810.435,86.2708 812.574,86.2702 \n  814.714,86.2696 816.853,86.269 818.992,86.2684 821.131,86.2679 823.27,86.2673 825.409,86.2669 827.548,86.2664 829.688,86.2659 831.827,86.2655 833.966,86.2651 \n  836.105,86.2647 838.244,86.2643 840.383,86.264 842.522,86.2636 844.662,86.2633 846.801,86.263 848.94,86.2626 851.079,86.2623 853.218,86.262 855.357,86.2618 \n  857.496,86.2615 859.636,86.2612 861.775,86.261 863.914,86.2607 866.053,86.2605 868.192,86.2602 870.331,86.26 872.47,86.2598 874.61,86.2596 876.749,86.2594 \n  878.888,86.2592 881.027,86.259 883.166,86.2588 885.305,86.2587 887.444,86.2585 889.583,86.2583 891.723,86.2582 893.862,86.258 896.001,86.2579 898.14,86.2577 \n  900.279,86.2576 902.418,86.2574 904.557,86.2573 906.697,86.2572 908.836,86.257 910.975,86.2569 913.114,86.2568 915.253,86.2566 917.392,86.2565 919.531,86.2564 \n  921.671,86.2563 923.81,86.2563 925.949,86.2562 928.088,86.2561 930.227,86.2561 932.366,86.256 934.505,86.256 936.645,86.256 938.784,86.2559 940.923,86.2559 \n  943.062,86.2559 945.201,86.2559 947.34,86.2558 949.479,86.2558 951.619,86.2558 953.758,86.2557 955.897,86.2557 958.036,86.2557 960.175,86.2557 962.314,86.2557 \n  964.453,86.2557 966.593,86.2557 968.732,86.2557 970.871,86.2557 973.01,86.2557 975.149,86.2557 977.288,86.2557 979.427,86.2556 981.567,86.2556 983.706,86.2556 \n  985.845,86.2556 987.984,86.2556 990.123,86.2555 992.262,86.2555 994.401,86.2555 996.541,86.2554 998.68,86.2554 1000.82,86.2554 1002.96,86.2553 1005.1,86.2553 \n  1007.24,86.2552 1009.38,86.2552 1011.51,86.2552 1013.65,86.2552 1015.79,86.2551 1017.93,86.2551 1020.07,86.2551 1022.21,86.2551 1024.35,86.255 1026.49,86.255 \n  1028.63,86.255 1030.77,86.255 1032.91,86.2549 1035.05,86.2549 1037.18,86.2549 1039.32,86.2549 1041.46,86.2549 1043.6,86.2548 1045.74,86.2548 1047.88,86.2548 \n  1050.02,86.2548 1052.16,86.2548 1054.3,86.2548 1056.44,86.2549 1058.58,86.2549 1060.71,86.2549 1062.85,86.2549 1064.99,86.2549 1067.13,86.2549 1069.27,86.2549 \n  1071.41,86.2549 1073.55,86.2549 1075.69,86.2549 1077.83,86.2549 1079.97,86.2549 1082.11,86.2549 1084.25,86.2549 1086.38,86.2549 1088.52,86.2549 1090.66,86.2549 \n  1092.8,86.2549 1094.94,86.2549 1097.08,86.2549 1099.22,86.2549 1101.36,86.2549 1103.5,86.2549 1105.64,86.2549 1107.78,86.2549 1109.92,86.2549 1112.05,86.2549 \n  1114.19,86.2549 1116.33,86.2549 1118.47,86.2549 1120.61,86.2549 1122.75,86.2549 1124.89,86.2548 1127.03,86.2548 1129.17,86.2548 1131.31,86.2548 1133.45,86.2548 \n  1135.58,86.2548 1137.72,86.2548 1139.86,86.2548 1142,86.2548 1144.14,86.2548 1146.28,86.2548 1148.42,86.2548 1150.56,86.2548 1152.7,86.2548 1154.84,86.2547 \n  1156.98,86.2547 1159.12,86.2547 1161.25,86.2547 1163.39,86.2547 1165.53,86.2548 1167.67,86.2548 1169.81,86.2548 1171.95,86.2548 1174.09,86.2548 1176.23,86.2548 \n  1178.37,86.2548 1180.51,86.2548 1182.65,86.2548 1184.78,86.2548 1186.92,86.2548 1189.06,86.2548 1191.2,86.2548 1193.34,86.2548 1195.48,86.2548 1197.62,86.2548 \n  1199.76,86.2548 1201.9,86.2548 1204.04,86.2548 1206.18,86.2548 1208.32,86.2548 1210.45,86.2549 1212.59,86.2549 1214.73,86.2549 1216.87,86.2549 1219.01,86.2549 \n  1221.15,86.2549 1223.29,86.2549 1225.43,86.2548 1227.57,86.2548 1229.71,86.2548 1231.85,86.2548 1233.99,86.2548 1236.12,86.2548 1238.26,86.2548 1240.4,86.2548 \n  1242.54,86.2548 1244.68,86.2548 1246.82,86.2548 1248.96,86.2548 1251.1,86.2548 1253.24,86.2548 1255.38,86.2548 1257.52,86.2548 1259.65,86.2548 1261.79,86.2548 \n  1263.93,86.2547 1266.07,86.2547 1268.21,86.2547 1270.35,86.2547 1272.49,86.2547 1274.63,86.2547 1276.77,86.2547 1278.91,86.2547 1281.05,86.2547 1283.19,86.2547 \n  1285.32,86.2547 1287.46,86.2547 1289.6,86.2547 1291.74,86.2547 1293.88,86.2547 1296.02,86.2548 1298.16,86.2548 1300.3,86.2548 1302.44,86.2548 1304.58,86.2548 \n  1306.72,86.2548 1308.86,86.2548 1310.99,86.2548 1313.13,86.2548 1315.27,86.2548 1317.41,86.2548 1319.55,86.2548 1321.69,86.2548 1323.83,86.2548 1325.97,86.2548 \n  1328.11,86.2549 1330.25,86.2549 1332.39,86.2549 1334.52,86.2549 1336.66,86.2549 1338.8,86.2549 1340.94,86.2549 1343.08,86.2549 1345.22,86.2549 1347.36,86.2549 \n  1349.5,86.2549 1351.64,86.2548 1353.78,86.2548 1355.92,86.2548 1358.06,86.2548 1360.19,86.2548 1362.33,86.2548 1364.47,86.2548 1366.61,86.2548 1368.75,86.2548 \n  1370.89,86.2548 1373.03,86.2548 1375.17,86.2548 1377.31,86.2548 1379.45,86.2548 1381.59,86.2548 1383.73,86.2547 1385.86,86.2547 1388,86.2547 1390.14,86.2547 \n  1392.28,86.2547 1394.42,86.2547 1396.56,86.2547 1398.7,86.2547 1400.84,86.2547 1402.98,86.2547 1405.12,86.2547 1407.26,86.2547 1409.39,86.2547 1411.53,86.2547 \n  1413.67,86.2547 1415.81,86.2547 1417.95,86.2547 1420.09,86.2548 1422.23,86.2548 1424.37,86.2548 1426.51,86.2548 1428.65,86.2548 1430.79,86.2548 1432.93,86.2548 \n  1435.06,86.2548 1437.2,86.2548 1439.34,86.2548 1441.48,86.2548 1443.62,86.2548 1445.76,86.2548 1447.9,86.2549 1450.04,86.2549 1452.18,86.2549 1454.32,86.2549 \n  1456.46,86.2549 1458.59,86.2549 1460.73,86.2549 1462.87,86.2549 1465.01,86.2549 1467.15,86.2549 1469.29,86.2549 1471.43,86.2548 1473.57,86.2548 1475.71,86.2548 \n  1477.85,86.2548 1479.99,86.2548 1482.13,86.2548 1484.26,86.2548 1486.4,86.2548 1488.54,86.2548 1490.68,86.2548 1492.82,86.2548 1494.96,86.2548 1497.1,86.2548 \n  1499.24,86.2548 1501.38,86.2548 1503.52,86.2548 1505.66,86.2548 1507.8,86.2548 1509.93,86.2548 1512.07,86.2548 1514.21,86.2548 1516.35,86.2548 1518.49,86.2548 \n  1520.63,86.2548 1522.77,86.2548 1524.91,86.2548 1527.05,86.2548 1529.19,86.2548 1531.33,86.2548 1533.46,86.2548 1535.6,86.2548 1537.74,86.2548 1539.88,86.2548 \n  1542.02,86.2548 1544.16,86.2548 1546.3,86.2548 1548.44,86.2548 1550.58,86.2548 1552.72,86.2548 1554.86,86.2548 1557,86.2548 1559.13,86.2548 1561.27,86.2548 \n  1563.41,86.2548 1565.55,86.2548 1567.69,86.2548 1569.83,86.2548 1571.97,86.2548 1574.11,86.2548 1576.25,86.2548 1578.39,86.2548 1580.53,86.2548 1582.67,86.2548 \n  1584.8,86.2548 1586.94,86.2548 1589.08,86.2548 1591.22,86.2548 1593.36,86.2548 1595.5,86.2548 1597.64,86.2548 1599.78,86.2548 1601.92,86.2548 1604.06,86.2548 \n  1606.2,86.2548 1608.33,86.2548 1610.47,86.2548 1612.61,86.2548 1614.75,86.2548 1616.89,86.2548 1619.03,86.2548 1621.17,86.2548 1623.31,86.2548 1625.45,86.2548 \n  1627.59,86.2548 1629.73,86.2548 1631.87,86.2548 1634,86.2548 1636.14,86.2548 1638.28,86.2548 1640.42,86.2548 1642.56,86.2548 1644.7,86.2548 1646.84,86.2548 \n  1648.98,86.2548 1651.12,86.2548 1653.26,86.2548 1655.4,86.2548 1657.54,86.2548 1659.67,86.2548 1661.81,86.2548 1663.95,86.2548 1666.09,86.2548 1668.23,86.2548 \n  1670.37,86.2548 1672.51,86.2548 1674.65,86.2548 1676.79,86.2548 1678.93,86.2548 1681.07,86.2548 1683.2,86.2548 1685.34,86.2548 1687.48,86.2548 1689.62,86.2548 \n  1691.76,86.2548 1693.9,86.2548 1696.04,86.2548 1698.18,86.2548 1700.32,86.2548 1702.46,86.2548 1704.6,86.2548 1706.74,86.2548 1708.87,86.2548 1711.01,86.2548 \n  1713.15,86.2548 1715.29,86.2548 1717.43,86.2548 1719.57,86.2548 1721.71,86.2548 1723.85,86.2548 1725.99,86.2548 1728.13,86.2548 1730.27,86.2548 1732.41,86.2548 \n  1734.54,86.2548 1736.68,86.2548 1738.82,86.2548 1740.96,86.2548 1743.1,86.2548 1745.24,86.2548 1747.38,86.2548 1749.52,86.2548 1751.66,86.2548 1753.8,86.2548 \n  1755.94,86.2548 1758.07,86.2548 1760.21,86.2548 1762.35,86.2548 1764.49,86.2548 1766.63,86.2548 1768.77,86.2548 1770.91,86.2548 1773.05,86.2548 1775.19,86.2548 \n  1777.33,86.2548 1779.47,86.2548 1781.61,86.2548 1783.74,86.2548 1785.88,86.2548 1788.02,86.2548 1790.16,86.2548 1792.3,86.2548 1794.44,86.2548 1796.58,86.2548 \n  1798.72,86.2548 1800.86,86.2548 1803,86.2548 1805.14,86.2548 1807.27,86.2548 1809.41,86.2548 1811.55,86.2548 1813.69,86.2548 1815.83,86.2548 1817.97,86.2548 \n  1820.11,86.2548 1822.25,86.2548 1824.39,86.2548 1826.53,86.2548 1828.67,86.2548 1830.81,86.2548 1832.94,86.2548 1835.08,86.2548 1837.22,86.2548 1839.36,86.2548 \n  1841.5,86.2548 1843.64,86.2548 1845.78,86.2548 1847.92,86.2548 1850.06,86.2548 1852.2,86.2548 1854.34,86.2548 1856.48,86.2548 1858.61,86.2548 1860.75,86.2548 \n  1862.89,86.2548 1865.03,86.2548 1867.17,86.2548 1869.31,86.2548 1871.45,86.2548 1873.59,86.2548 1875.73,86.2548 1877.87,86.2548 1880.01,86.2548 1882.14,86.2548 \n  1884.28,86.2548 1886.42,86.2548 1888.56,86.2548 1890.7,86.2548 1892.84,86.2548 1894.98,86.2548 1897.12,86.2548 1899.26,86.2548 1901.4,86.2548 1903.54,86.2548 \n  1905.68,86.2548 1907.81,86.2548 1909.95,86.2548 1912.09,86.2548 1914.23,86.2548 1916.37,86.2548 1918.51,86.2548 1920.65,86.2548 1922.79,86.2548 1924.93,86.2548 \n  1927.07,86.2548 1929.21,86.2548 1931.35,86.2548 1933.48,86.2548 1935.62,86.2548 1937.76,86.2548 1939.9,86.2548 1942.04,86.2548 1944.18,86.2548 1946.32,86.2548 \n  1948.46,86.2548 1950.6,86.2548 1952.74,86.2548 1954.88,86.2548 1957.01,86.2548 1959.15,86.2548 1961.29,86.2548 1963.43,86.2548 1965.57,86.2548 1967.71,86.2548 \n  1969.85,86.2548 1971.99,86.2548 1974.13,86.2548 1976.27,86.2548 1978.41,86.2548 1980.55,86.2548 1982.68,86.2548 1984.82,86.2548 1986.96,86.2548 1989.1,86.2548 \n  1991.24,86.2548 1993.38,86.2548 1995.52,86.2548 1997.66,86.2548 1999.8,86.2548 2001.94,86.2548 2004.08,86.2548 2006.22,86.2548 2008.35,86.2548 2010.49,86.2548 \n  2012.63,86.2548 2014.77,86.2548 2016.91,86.2548 2019.05,86.2548 2021.19,86.2548 2023.33,86.2548 2025.47,86.2548 2027.61,86.2548 2029.75,86.2548 2031.88,86.2548 \n  2034.02,86.2548 2036.16,86.2548 2038.3,86.2548 2040.44,86.2548 2042.58,86.2548 2044.72,86.2548 2046.86,86.2548 2049,86.2548 2051.14,86.2548 2053.28,86.2548 \n  2055.42,86.2548 2057.55,86.2548 2059.69,86.2548 2061.83,86.2548 2063.97,86.2548 2066.11,86.2548 2068.25,86.2548 2070.39,86.2548 2072.53,86.2548 2074.67,86.2548 \n  2076.81,86.2548 2078.95,86.2548 2081.09,86.2548 2083.22,86.2548 2085.36,86.2548 2087.5,86.2548 2089.64,86.2548 2091.78,86.2548 2093.92,86.2548 2096.06,86.2548 \n  2098.2,86.2548 2100.34,86.2548 2102.48,86.2548 2104.62,86.2548 2106.75,86.2548 2108.89,86.2548 2111.03,86.2548 2113.17,86.2548 2115.31,86.2548 2117.45,86.2548 \n  2119.59,86.2548 2121.73,86.2548 2123.87,86.2548 2126.01,86.2548 2128.15,86.2548 2130.29,86.2548 2132.42,86.2548 2134.56,86.2548 2136.7,86.2548 2138.84,86.2548 \n  2140.98,86.2548 2143.12,86.2548 2145.26,86.2548 2147.4,86.2548 2149.54,86.2548 2151.68,86.2548 2153.82,86.2548 2155.95,86.2548 2158.09,86.2548 2160.23,86.2548 \n  2162.37,86.2548 2164.51,86.2548 2166.65,86.2548 2168.79,86.2548 2170.93,86.2548 2173.07,86.2548 2175.21,86.2548 2177.35,86.2548 2179.49,86.2548 2181.62,86.2548 \n  2183.76,86.2548 2185.9,86.2548 2188.04,86.2548 2190.18,86.2548 2192.32,86.2548 2194.46,86.2548 2196.6,86.2548 2198.74,86.2548 2200.88,86.2548 2203.02,86.2548 \n  2205.16,86.2548 2207.29,86.2548 2209.43,86.2548 2211.57,86.2548 2213.71,86.2548 2215.85,86.2548 2217.99,86.2548 2220.13,86.2548 2222.27,86.2548 2224.41,86.2548 \n  2226.55,86.2548 2228.69,86.2548 2230.82,86.2548 2232.96,86.2548 2235.1,86.2548 2237.24,86.2548 2239.38,86.2548 2241.52,86.2548 2243.66,86.2548 2245.8,86.2548 \n  2247.94,86.2548 2250.08,86.2548 2252.22,86.2548 2254.36,86.2548 2256.49,86.2548 2258.63,86.2548 2260.77,86.2548 2262.91,86.2548 2265.05,86.2548 2267.19,86.2548 \n  2269.33,86.2548 2271.47,86.2548 2273.61,86.2548 2275.75,86.2548 2277.89,86.2548 2280.03,86.2548 2282.16,86.2548 2284.3,86.2548 2286.44,86.2548 2288.58,86.2548 \n  2290.72,86.2548 2292.86,86.2548 2295,86.2548 2297.14,86.2548 2299.28,86.2548 2301.42,86.2548 2303.56,86.2548 2305.69,86.2548 2307.83,86.2548 2309.97,86.2548 \n  2312.11,86.2548 2314.25,86.2548 2316.39,86.2548 2318.53,86.2548 2320.67,86.2548 2322.81,86.2548 2324.95,86.2548 2327.09,86.2548 2329.23,86.2548 2331.36,86.2548 \n  2333.5,86.2548 2335.64,86.2548 2337.78,86.2548 2339.92,86.2548 2342.06,86.2548 2344.2,86.2548 2346.34,86.2548 2348.48,86.2548 2350.62,86.2548 2352.76,86.2548 \n  \n  \"/>\n<polyline clip-path=\"url(#clip4702)\" style=\"stroke:#e26f46; stroke-width:12; stroke-opacity:1; fill:none\" points=\"\n  215.754,1386.61 217.893,1281.21 220.032,1182.27 222.172,1090.83 224.311,1007.55 226.45,932.74 228.589,866.415 230.728,808.326 232.867,758.037 235.006,714.984 \n  237.145,678.527 239.285,647.994 241.424,622.714 243.563,602.042 245.702,585.375 247.841,572.16 249.98,561.899 252.119,554.151 254.259,548.528 256.398,544.691 \n  258.537,542.347 260.676,541.245 262.815,541.171 264.954,541.941 267.093,543.401 269.233,545.418 271.372,547.882 273.511,550.699 275.65,553.793 277.789,557.096 \n  279.928,560.554 282.067,564.123 284.207,567.762 286.346,571.442 288.485,575.136 290.624,578.822 292.763,582.483 294.902,586.106 297.041,589.677 299.181,593.188 \n  301.32,596.632 303.459,600.002 305.598,603.295 307.737,606.507 309.876,609.636 312.015,612.68 314.155,615.639 316.294,618.512 318.433,621.3 320.572,624.002 \n  322.711,626.62 324.85,629.155 326.989,631.608 329.129,633.981 331.268,636.275 333.407,638.493 335.546,640.634 337.685,642.703 339.824,644.7 341.963,646.627 \n  344.103,648.487 346.242,650.281 348.381,652.011 350.52,653.679 352.659,655.287 354.798,656.836 356.937,658.33 359.077,659.769 361.216,661.155 363.355,662.49 \n  365.494,663.775 367.633,665.013 369.772,666.205 371.911,667.352 374.051,668.456 376.19,669.519 378.329,670.542 380.468,671.526 382.607,672.473 384.746,673.383 \n  386.885,674.26 389.025,675.102 391.164,675.913 393.303,676.693 395.442,677.442 397.581,678.163 399.72,678.856 401.859,679.522 403.998,680.163 406.138,680.779 \n  408.277,681.371 410.416,681.94 412.555,682.487 414.694,683.012 416.833,683.518 418.972,684.003 421.112,684.47 423.251,684.918 425.39,685.349 427.529,685.763 \n  429.668,686.16 431.807,686.542 433.946,686.91 436.086,687.262 438.225,687.601 440.364,687.927 442.503,688.239 444.642,688.54 446.781,688.828 448.92,689.105 \n  451.06,689.371 453.199,689.627 455.338,689.873 457.477,690.109 459.616,690.335 461.755,690.553 463.894,690.762 466.034,690.962 468.173,691.155 470.312,691.34 \n  472.451,691.518 474.59,691.688 476.729,691.852 478.868,692.01 481.008,692.161 483.147,692.306 485.286,692.445 487.425,692.579 489.564,692.707 491.703,692.831 \n  493.842,692.949 495.982,693.063 498.121,693.172 500.26,693.277 502.399,693.378 504.538,693.474 506.677,693.567 508.816,693.656 510.956,693.742 513.095,693.824 \n  515.234,693.903 517.373,693.978 519.512,694.051 521.651,694.121 523.79,694.188 525.93,694.252 528.069,694.314 530.208,694.373 532.347,694.43 534.486,694.485 \n  536.625,694.537 538.764,694.588 540.904,694.636 543.043,694.682 545.182,694.727 547.321,694.77 549.46,694.811 551.599,694.85 553.738,694.888 555.877,694.924 \n  558.017,694.959 560.156,694.993 562.295,695.025 564.434,695.056 566.573,695.085 568.712,695.114 570.851,695.141 572.991,695.167 575.13,695.192 577.269,695.217 \n  579.408,695.24 581.547,695.262 583.686,695.283 585.825,695.304 587.965,695.324 590.104,695.343 592.243,695.361 594.382,695.378 596.521,695.395 598.66,695.411 \n  600.799,695.426 602.939,695.441 605.078,695.455 607.217,695.469 609.356,695.482 611.495,695.494 613.634,695.507 615.773,695.518 617.913,695.529 620.052,695.54 \n  622.191,695.55 624.33,695.56 626.469,695.569 628.608,695.578 630.747,695.587 632.887,695.595 635.026,695.603 637.165,695.611 639.304,695.619 641.443,695.626 \n  643.582,695.632 645.721,695.639 647.861,695.645 650,695.651 652.139,695.657 654.278,695.663 656.417,695.668 658.556,695.673 660.695,695.678 662.835,695.683 \n  664.974,695.687 667.113,695.691 669.252,695.696 671.391,695.7 673.53,695.703 675.669,695.707 677.809,695.711 679.948,695.714 682.087,695.717 684.226,695.72 \n  686.365,695.723 688.504,695.726 690.643,695.729 692.783,695.732 694.922,695.734 697.061,695.737 699.2,695.739 701.339,695.741 703.478,695.744 705.617,695.746 \n  707.757,695.748 709.896,695.75 712.035,695.751 714.174,695.753 716.313,695.755 718.452,695.756 720.591,695.758 722.73,695.76 724.87,695.761 727.009,695.762 \n  729.148,695.764 731.287,695.765 733.426,695.766 735.565,695.767 737.704,695.768 739.844,695.77 741.983,695.771 744.122,695.772 746.261,695.772 748.4,695.773 \n  750.539,695.774 752.678,695.775 754.818,695.776 756.957,695.777 759.096,695.777 761.235,695.778 763.374,695.779 765.513,695.779 767.652,695.78 769.792,695.781 \n  771.931,695.781 774.07,695.782 776.209,695.782 778.348,695.783 780.487,695.783 782.626,695.784 784.766,695.784 786.905,695.785 789.044,695.785 791.183,695.786 \n  793.322,695.786 795.461,695.786 797.6,695.787 799.74,695.787 801.879,695.787 804.018,695.788 806.157,695.788 808.296,695.788 810.435,695.789 812.574,695.789 \n  814.714,695.789 816.853,695.789 818.992,695.79 821.131,695.79 823.27,695.79 825.409,695.79 827.548,695.791 829.688,695.791 831.827,695.791 833.966,695.791 \n  836.105,695.791 838.244,695.792 840.383,695.792 842.522,695.792 844.662,695.792 846.801,695.792 848.94,695.793 851.079,695.793 853.218,695.793 855.357,695.793 \n  857.496,695.793 859.636,695.793 861.775,695.793 863.914,695.793 866.053,695.793 868.192,695.793 870.331,695.793 872.47,695.794 874.61,695.794 876.749,695.794 \n  878.888,695.794 881.027,695.794 883.166,695.794 885.305,695.794 887.444,695.794 889.583,695.794 891.723,695.794 893.862,695.794 896.001,695.794 898.14,695.794 \n  900.279,695.794 902.418,695.794 904.557,695.794 906.697,695.794 908.836,695.794 910.975,695.794 913.114,695.794 915.253,695.794 917.392,695.794 919.531,695.794 \n  921.671,695.794 923.81,695.794 925.949,695.794 928.088,695.794 930.227,695.794 932.366,695.794 934.505,695.794 936.645,695.794 938.784,695.794 940.923,695.794 \n  943.062,695.794 945.201,695.795 947.34,695.795 949.479,695.795 951.619,695.795 953.758,695.795 955.897,695.795 958.036,695.795 960.175,695.795 962.314,695.795 \n  964.453,695.795 966.593,695.795 968.732,695.795 970.871,695.795 973.01,695.795 975.149,695.795 977.288,695.796 979.427,695.796 981.567,695.796 983.706,695.796 \n  985.845,695.796 987.984,695.796 990.123,695.796 992.262,695.796 994.401,695.796 996.541,695.796 998.68,695.796 1000.82,695.795 1002.96,695.795 1005.1,695.795 \n  1007.24,695.795 1009.38,695.795 1011.51,695.795 1013.65,695.795 1015.79,695.795 1017.93,695.795 1020.07,695.795 1022.21,695.795 1024.35,695.795 1026.49,695.795 \n  1028.63,695.795 1030.77,695.795 1032.91,695.795 1035.05,695.795 1037.18,695.795 1039.32,695.795 1041.46,695.795 1043.6,695.795 1045.74,695.795 1047.88,695.795 \n  1050.02,695.795 1052.16,695.795 1054.3,695.795 1056.44,695.795 1058.58,695.795 1060.71,695.795 1062.85,695.795 1064.99,695.795 1067.13,695.795 1069.27,695.795 \n  1071.41,695.795 1073.55,695.795 1075.69,695.795 1077.83,695.795 1079.97,695.795 1082.11,695.795 1084.25,695.795 1086.38,695.795 1088.52,695.795 1090.66,695.795 \n  1092.8,695.795 1094.94,695.795 1097.08,695.795 1099.22,695.795 1101.36,695.795 1103.5,695.795 1105.64,695.795 1107.78,695.795 1109.92,695.795 1112.05,695.795 \n  1114.19,695.795 1116.33,695.795 1118.47,695.795 1120.61,695.795 1122.75,695.795 1124.89,695.795 1127.03,695.795 1129.17,695.795 1131.31,695.795 1133.45,695.795 \n  1135.58,695.795 1137.72,695.795 1139.86,695.795 1142,695.795 1144.14,695.795 1146.28,695.795 1148.42,695.795 1150.56,695.795 1152.7,695.795 1154.84,695.795 \n  1156.98,695.795 1159.12,695.795 1161.25,695.795 1163.39,695.795 1165.53,695.795 1167.67,695.795 1169.81,695.795 1171.95,695.795 1174.09,695.795 1176.23,695.795 \n  1178.37,695.795 1180.51,695.795 1182.65,695.795 1184.78,695.795 1186.92,695.795 1189.06,695.795 1191.2,695.795 1193.34,695.795 1195.48,695.795 1197.62,695.795 \n  1199.76,695.795 1201.9,695.795 1204.04,695.795 1206.18,695.795 1208.32,695.795 1210.45,695.795 1212.59,695.795 1214.73,695.796 1216.87,695.796 1219.01,695.796 \n  1221.15,695.795 1223.29,695.795 1225.43,695.795 1227.57,695.795 1229.71,695.795 1231.85,695.795 1233.99,695.795 1236.12,695.795 1238.26,695.795 1240.4,695.795 \n  1242.54,695.795 1244.68,695.795 1246.82,695.795 1248.96,695.795 1251.1,695.795 1253.24,695.795 1255.38,695.795 1257.52,695.795 1259.65,695.795 1261.79,695.795 \n  1263.93,695.795 1266.07,695.795 1268.21,695.795 1270.35,695.795 1272.49,695.795 1274.63,695.795 1276.77,695.795 1278.91,695.795 1281.05,695.795 1283.19,695.795 \n  1285.32,695.795 1287.46,695.795 1289.6,695.795 1291.74,695.795 1293.88,695.795 1296.02,695.795 1298.16,695.795 1300.3,695.795 1302.44,695.795 1304.58,695.795 \n  1306.72,695.795 1308.86,695.795 1310.99,695.795 1313.13,695.795 1315.27,695.795 1317.41,695.795 1319.55,695.795 1321.69,695.795 1323.83,695.795 1325.97,695.795 \n  1328.11,695.796 1330.25,695.796 1332.39,695.796 1334.52,695.796 1336.66,695.796 1338.8,695.796 1340.94,695.796 1343.08,695.796 1345.22,695.796 1347.36,695.796 \n  1349.5,695.796 1351.64,695.795 1353.78,695.795 1355.92,695.795 1358.06,695.795 1360.19,695.795 1362.33,695.795 1364.47,695.795 1366.61,695.795 1368.75,695.795 \n  1370.89,695.795 1373.03,695.795 1375.17,695.795 1377.31,695.795 1379.45,695.795 1381.59,695.795 1383.73,695.795 1385.86,695.795 1388,695.795 1390.14,695.795 \n  1392.28,695.795 1394.42,695.795 1396.56,695.795 1398.7,695.795 1400.84,695.795 1402.98,695.795 1405.12,695.795 1407.26,695.795 1409.39,695.795 1411.53,695.795 \n  1413.67,695.795 1415.81,695.795 1417.95,695.795 1420.09,695.795 1422.23,695.795 1424.37,695.795 1426.51,695.795 1428.65,695.795 1430.79,695.795 1432.93,695.795 \n  1435.06,695.795 1437.2,695.795 1439.34,695.795 1441.48,695.795 1443.62,695.795 1445.76,695.795 1447.9,695.795 1450.04,695.796 1452.18,695.796 1454.32,695.796 \n  1456.46,695.796 1458.59,695.796 1460.73,695.796 1462.87,695.796 1465.01,695.796 1467.15,695.796 1469.29,695.796 1471.43,695.795 1473.57,695.795 1475.71,695.795 \n  1477.85,695.795 1479.99,695.795 1482.13,695.795 1484.26,695.795 1486.4,695.795 1488.54,695.795 1490.68,695.795 1492.82,695.795 1494.96,695.795 1497.1,695.795 \n  1499.24,695.795 1501.38,695.795 1503.52,695.795 1505.66,695.795 1507.8,695.795 1509.93,695.795 1512.07,695.795 1514.21,695.795 1516.35,695.795 1518.49,695.795 \n  1520.63,695.795 1522.77,695.795 1524.91,695.795 1527.05,695.795 1529.19,695.795 1531.33,695.795 1533.46,695.795 1535.6,695.795 1537.74,695.795 1539.88,695.795 \n  1542.02,695.795 1544.16,695.795 1546.3,695.795 1548.44,695.795 1550.58,695.795 1552.72,695.795 1554.86,695.795 1557,695.795 1559.13,695.795 1561.27,695.795 \n  1563.41,695.795 1565.55,695.795 1567.69,695.795 1569.83,695.795 1571.97,695.795 1574.11,695.795 1576.25,695.795 1578.39,695.795 1580.53,695.795 1582.67,695.795 \n  1584.8,695.795 1586.94,695.795 1589.08,695.795 1591.22,695.795 1593.36,695.795 1595.5,695.795 1597.64,695.795 1599.78,695.795 1601.92,695.795 1604.06,695.795 \n  1606.2,695.795 1608.33,695.795 1610.47,695.795 1612.61,695.795 1614.75,695.795 1616.89,695.795 1619.03,695.795 1621.17,695.795 1623.31,695.795 1625.45,695.795 \n  1627.59,695.795 1629.73,695.795 1631.87,695.795 1634,695.795 1636.14,695.795 1638.28,695.795 1640.42,695.795 1642.56,695.795 1644.7,695.795 1646.84,695.795 \n  1648.98,695.795 1651.12,695.795 1653.26,695.795 1655.4,695.795 1657.54,695.795 1659.67,695.795 1661.81,695.795 1663.95,695.795 1666.09,695.795 1668.23,695.795 \n  1670.37,695.795 1672.51,695.795 1674.65,695.795 1676.79,695.795 1678.93,695.795 1681.07,695.795 1683.2,695.795 1685.34,695.795 1687.48,695.795 1689.62,695.795 \n  1691.76,695.795 1693.9,695.795 1696.04,695.795 1698.18,695.795 1700.32,695.795 1702.46,695.795 1704.6,695.795 1706.74,695.795 1708.87,695.795 1711.01,695.795 \n  1713.15,695.795 1715.29,695.795 1717.43,695.795 1719.57,695.795 1721.71,695.795 1723.85,695.795 1725.99,695.795 1728.13,695.795 1730.27,695.795 1732.41,695.795 \n  1734.54,695.795 1736.68,695.795 1738.82,695.795 1740.96,695.795 1743.1,695.795 1745.24,695.795 1747.38,695.795 1749.52,695.795 1751.66,695.795 1753.8,695.795 \n  1755.94,695.795 1758.07,695.795 1760.21,695.795 1762.35,695.795 1764.49,695.795 1766.63,695.795 1768.77,695.795 1770.91,695.795 1773.05,695.795 1775.19,695.795 \n  1777.33,695.795 1779.47,695.795 1781.61,695.795 1783.74,695.795 1785.88,695.795 1788.02,695.795 1790.16,695.795 1792.3,695.795 1794.44,695.795 1796.58,695.795 \n  1798.72,695.795 1800.86,695.795 1803,695.795 1805.14,695.795 1807.27,695.795 1809.41,695.795 1811.55,695.795 1813.69,695.795 1815.83,695.795 1817.97,695.795 \n  1820.11,695.795 1822.25,695.795 1824.39,695.795 1826.53,695.795 1828.67,695.795 1830.81,695.795 1832.94,695.795 1835.08,695.795 1837.22,695.795 1839.36,695.795 \n  1841.5,695.795 1843.64,695.795 1845.78,695.795 1847.92,695.795 1850.06,695.795 1852.2,695.795 1854.34,695.795 1856.48,695.795 1858.61,695.795 1860.75,695.795 \n  1862.89,695.795 1865.03,695.795 1867.17,695.795 1869.31,695.795 1871.45,695.795 1873.59,695.795 1875.73,695.795 1877.87,695.795 1880.01,695.795 1882.14,695.795 \n  1884.28,695.795 1886.42,695.795 1888.56,695.795 1890.7,695.795 1892.84,695.795 1894.98,695.795 1897.12,695.795 1899.26,695.795 1901.4,695.795 1903.54,695.795 \n  1905.68,695.795 1907.81,695.795 1909.95,695.795 1912.09,695.795 1914.23,695.795 1916.37,695.795 1918.51,695.795 1920.65,695.795 1922.79,695.795 1924.93,695.795 \n  1927.07,695.795 1929.21,695.795 1931.35,695.795 1933.48,695.795 1935.62,695.795 1937.76,695.795 1939.9,695.795 1942.04,695.795 1944.18,695.795 1946.32,695.795 \n  1948.46,695.795 1950.6,695.795 1952.74,695.795 1954.88,695.795 1957.01,695.795 1959.15,695.795 1961.29,695.795 1963.43,695.795 1965.57,695.795 1967.71,695.795 \n  1969.85,695.795 1971.99,695.795 1974.13,695.795 1976.27,695.795 1978.41,695.795 1980.55,695.795 1982.68,695.795 1984.82,695.795 1986.96,695.795 1989.1,695.795 \n  1991.24,695.795 1993.38,695.795 1995.52,695.795 1997.66,695.795 1999.8,695.795 2001.94,695.795 2004.08,695.795 2006.22,695.795 2008.35,695.795 2010.49,695.795 \n  2012.63,695.795 2014.77,695.795 2016.91,695.795 2019.05,695.795 2021.19,695.795 2023.33,695.795 2025.47,695.795 2027.61,695.795 2029.75,695.795 2031.88,695.795 \n  2034.02,695.795 2036.16,695.795 2038.3,695.795 2040.44,695.795 2042.58,695.795 2044.72,695.795 2046.86,695.795 2049,695.795 2051.14,695.795 2053.28,695.795 \n  2055.42,695.795 2057.55,695.795 2059.69,695.795 2061.83,695.795 2063.97,695.795 2066.11,695.795 2068.25,695.795 2070.39,695.795 2072.53,695.795 2074.67,695.795 \n  2076.81,695.795 2078.95,695.795 2081.09,695.795 2083.22,695.795 2085.36,695.795 2087.5,695.795 2089.64,695.795 2091.78,695.795 2093.92,695.795 2096.06,695.795 \n  2098.2,695.795 2100.34,695.795 2102.48,695.795 2104.62,695.795 2106.75,695.795 2108.89,695.795 2111.03,695.795 2113.17,695.795 2115.31,695.795 2117.45,695.795 \n  2119.59,695.795 2121.73,695.795 2123.87,695.795 2126.01,695.795 2128.15,695.795 2130.29,695.795 2132.42,695.795 2134.56,695.795 2136.7,695.795 2138.84,695.795 \n  2140.98,695.795 2143.12,695.795 2145.26,695.795 2147.4,695.795 2149.54,695.795 2151.68,695.795 2153.82,695.795 2155.95,695.795 2158.09,695.795 2160.23,695.795 \n  2162.37,695.795 2164.51,695.795 2166.65,695.795 2168.79,695.795 2170.93,695.795 2173.07,695.795 2175.21,695.795 2177.35,695.795 2179.49,695.795 2181.62,695.795 \n  2183.76,695.795 2185.9,695.795 2188.04,695.795 2190.18,695.795 2192.32,695.795 2194.46,695.795 2196.6,695.795 2198.74,695.795 2200.88,695.795 2203.02,695.795 \n  2205.16,695.795 2207.29,695.795 2209.43,695.795 2211.57,695.795 2213.71,695.795 2215.85,695.795 2217.99,695.795 2220.13,695.795 2222.27,695.795 2224.41,695.795 \n  2226.55,695.795 2228.69,695.795 2230.82,695.795 2232.96,695.795 2235.1,695.795 2237.24,695.795 2239.38,695.795 2241.52,695.795 2243.66,695.795 2245.8,695.795 \n  2247.94,695.795 2250.08,695.795 2252.22,695.795 2254.36,695.795 2256.49,695.795 2258.63,695.795 2260.77,695.795 2262.91,695.795 2265.05,695.795 2267.19,695.795 \n  2269.33,695.795 2271.47,695.795 2273.61,695.795 2275.75,695.795 2277.89,695.795 2280.03,695.795 2282.16,695.795 2284.3,695.795 2286.44,695.795 2288.58,695.795 \n  2290.72,695.795 2292.86,695.795 2295,695.795 2297.14,695.795 2299.28,695.795 2301.42,695.795 2303.56,695.795 2305.69,695.795 2307.83,695.795 2309.97,695.795 \n  2312.11,695.795 2314.25,695.795 2316.39,695.795 2318.53,695.795 2320.67,695.795 2322.81,695.795 2324.95,695.795 2327.09,695.795 2329.23,695.795 2331.36,695.795 \n  2333.5,695.795 2335.64,695.795 2337.78,695.795 2339.92,695.795 2342.06,695.795 2344.2,695.795 2346.34,695.795 2348.48,695.795 2350.62,695.795 2352.76,695.795 \n  \n  \"/>\n<polygon clip-path=\"url(#clip4700)\" points=\"\n1941.79,312.204 2280.76,312.204 2280.76,130.764 1941.79,130.764 \n  \" fill=\"#ffffff\" fill-rule=\"evenodd\" fill-opacity=\"1\"/>\n<polyline clip-path=\"url(#clip4700)\" style=\"stroke:#000000; stroke-width:4; stroke-opacity:1; fill:none\" points=\"\n  1941.79,312.204 2280.76,312.204 2280.76,130.764 1941.79,130.764 1941.79,312.204 \n  \"/>\n<polyline clip-path=\"url(#clip4700)\" style=\"stroke:#009af9; stroke-width:12; stroke-opacity:1; fill:none\" points=\"\n  1965.79,191.244 2109.79,191.244 \n  \"/>\n<g clip-path=\"url(#clip4700)\">\n<text style=\"fill:#000000; fill-opacity:1; font-family:Arial,Helvetica Neue,Helvetica,sans-serif; font-size:48px; text-anchor:start;\" transform=\"rotate(0, 2133.79, 208.744)\" x=\"2133.79\" y=\"208.744\">u1(t)</text>\n</g>\n<polyline clip-path=\"url(#clip4700)\" style=\"stroke:#e26f46; stroke-width:12; stroke-opacity:1; fill:none\" points=\"\n  1965.79,251.724 2109.79,251.724 \n  \"/>\n<g clip-path=\"url(#clip4700)\">\n<text style=\"fill:#000000; fill-opacity:1; font-family:Arial,Helvetica Neue,Helvetica,sans-serif; font-size:48px; text-anchor:start;\" transform=\"rotate(0, 2133.79, 269.224)\" x=\"2133.79\" y=\"269.224\">u2(t)</text>\n</g>\n</svg>\n"
               },
               "type": "node"
              }
             ],
             "instanceArgs": {
              "namespace": "html",
              "tag": "div"
             },
             "nodeType": "DOM",
             "props": {
              "className": "interact-flex-row interact-widget"
             },
             "type": "node"
            }
           }
          },
          "systemjs_options": null
         },
         "nodeType": "Scope",
         "props": {},
         "type": "node"
        }
       ],
       "instanceArgs": {
        "namespace": "html",
        "tag": "div"
       },
       "nodeType": "DOM",
       "props": {},
       "type": "node"
      },
      "text/html": [
       "<div\n",
       "    class=\"webio-mountpoint\"\n",
       "    data-webio-mountpoint=\"5161130122120292986\"\n",
       ">\n",
       "    <script>\n",
       "    if (window.require && require.defined && require.defined(\"nbextensions/webio-jupyter-notebook\")) {\n",
       "        console.log(\"Jupyter WebIO extension detected, not mounting.\");\n",
       "    } else if (window.WebIO) {\n",
       "        WebIO.mount(\n",
       "            document.querySelector('[data-webio-mountpoint=\"5161130122120292986\"]'),\n",
       "            {\"props\":{},\"nodeType\":\"DOM\",\"type\":\"node\",\"instanceArgs\":{\"namespace\":\"html\",\"tag\":\"div\"},\"children\":[{\"props\":{\"className\":\"field interact-widget\"},\"nodeType\":\"DOM\",\"type\":\"node\",\"instanceArgs\":{\"namespace\":\"html\",\"tag\":\"div\"},\"children\":[{\"props\":{},\"nodeType\":\"Scope\",\"type\":\"node\",\"instanceArgs\":{\"imports\":{\"data\":[{\"name\":\"knockout\",\"type\":\"js\",\"url\":\"\\/assetserver\\/fd311416c3fbf748771c2940b2ca4b79c53d1ab2-knockout.js\"},{\"name\":\"knockout_punches\",\"type\":\"js\",\"url\":\"\\/assetserver\\/148711b519458f42f1e7a22e5bdf7a74f9d5f8e0-knockout_punches.js\"},{\"name\":null,\"type\":\"js\",\"url\":\"\\/assetserver\\/96387ddaa2b47f2577dbef3402b61deb55b692cb-all.js\"},{\"name\":null,\"type\":\"css\",\"url\":\"\\/assetserver\\/1205e2cb75bbf44a95189d9e430e22f4b3018051-style.css\"},{\"name\":null,\"type\":\"css\",\"url\":\"\\/assetserver\\/e47939cc599f2b791e3e3e81f0cfd77c1a048dd3-bulma_confined.min.css\"}],\"type\":\"async_block\"},\"id\":\"11756259643883916071\",\"handlers\":{\"changes\":[\"(function (val){return (val!=this.model[\\\"changes\\\"]()) ? (this.valueFromJulia[\\\"changes\\\"]=true, this.model[\\\"changes\\\"](val)) : undefined})\"],\"index\":[\"(function (val){return (val!=this.model[\\\"index\\\"]()) ? (this.valueFromJulia[\\\"index\\\"]=true, this.model[\\\"index\\\"](val)) : undefined})\"]},\"systemjs_options\":null,\"mount_callbacks\":[\"function () {\\n    var handler = (function (ko, koPunches) {\\n    ko.punches.enableAll();\\n    ko.bindingHandlers.numericValue = {\\n        init: function(element, valueAccessor, allBindings, data, context) {\\n            var stringified = ko.observable(ko.unwrap(valueAccessor()));\\n            stringified.subscribe(function(value) {\\n                var val = parseFloat(value);\\n                if (!isNaN(val)) {\\n                    valueAccessor()(val);\\n                }\\n            });\\n            valueAccessor().subscribe(function(value) {\\n                var str = JSON.stringify(value);\\n                if ((str == \\\"0\\\") && ([\\\"-0\\\", \\\"-0.\\\"].indexOf(stringified()) >= 0))\\n                     return;\\n                 if ([\\\"null\\\", \\\"\\\"].indexOf(str) >= 0)\\n                     return;\\n                stringified(str);\\n            });\\n            ko.applyBindingsToNode(\\n                element,\\n                {\\n                    value: stringified,\\n                    valueUpdate: allBindings.get('valueUpdate'),\\n                },\\n                context,\\n            );\\n        }\\n    };\\n    var json_data = {\\\"formatted_vals\\\":[\\\"0.1\\\",\\\"0.11\\\",\\\"0.12\\\",\\\"0.13\\\",\\\"0.14\\\",\\\"0.15\\\",\\\"0.16\\\",\\\"0.17\\\",\\\"0.18\\\",\\\"0.19\\\",\\\"0.2\\\",\\\"0.21\\\",\\\"0.22\\\",\\\"0.23\\\",\\\"0.24\\\",\\\"0.25\\\",\\\"0.26\\\",\\\"0.27\\\",\\\"0.28\\\",\\\"0.29\\\",\\\"0.3\\\",\\\"0.31\\\",\\\"0.32\\\",\\\"0.33\\\",\\\"0.34\\\",\\\"0.35\\\",\\\"0.36\\\",\\\"0.37\\\",\\\"0.38\\\",\\\"0.39\\\",\\\"0.4\\\",\\\"0.41\\\",\\\"0.42\\\",\\\"0.43\\\",\\\"0.44\\\",\\\"0.45\\\",\\\"0.46\\\",\\\"0.47\\\",\\\"0.48\\\",\\\"0.49\\\",\\\"0.5\\\",\\\"0.51\\\",\\\"0.52\\\",\\\"0.53\\\",\\\"0.54\\\",\\\"0.55\\\",\\\"0.56\\\",\\\"0.57\\\",\\\"0.58\\\",\\\"0.59\\\",\\\"0.6\\\",\\\"0.61\\\",\\\"0.62\\\",\\\"0.63\\\",\\\"0.64\\\",\\\"0.65\\\",\\\"0.66\\\",\\\"0.67\\\",\\\"0.68\\\",\\\"0.69\\\",\\\"0.7\\\",\\\"0.71\\\",\\\"0.72\\\",\\\"0.73\\\",\\\"0.74\\\",\\\"0.75\\\",\\\"0.76\\\",\\\"0.77\\\",\\\"0.78\\\",\\\"0.79\\\",\\\"0.8\\\",\\\"0.81\\\",\\\"0.82\\\",\\\"0.83\\\",\\\"0.84\\\",\\\"0.85\\\",\\\"0.86\\\",\\\"0.87\\\",\\\"0.88\\\",\\\"0.89\\\",\\\"0.9\\\",\\\"0.91\\\",\\\"0.92\\\",\\\"0.93\\\",\\\"0.94\\\",\\\"0.95\\\",\\\"0.96\\\",\\\"0.97\\\",\\\"0.98\\\",\\\"0.99\\\",\\\"1.0\\\",\\\"1.01\\\",\\\"1.02\\\",\\\"1.03\\\",\\\"1.04\\\",\\\"1.05\\\",\\\"1.06\\\",\\\"1.07\\\",\\\"1.08\\\",\\\"1.09\\\",\\\"1.1\\\",\\\"1.11\\\",\\\"1.12\\\",\\\"1.13\\\",\\\"1.14\\\",\\\"1.15\\\",\\\"1.16\\\",\\\"1.17\\\",\\\"1.18\\\",\\\"1.19\\\",\\\"1.2\\\",\\\"1.21\\\",\\\"1.22\\\",\\\"1.23\\\",\\\"1.24\\\",\\\"1.25\\\",\\\"1.26\\\",\\\"1.27\\\",\\\"1.28\\\",\\\"1.29\\\",\\\"1.3\\\",\\\"1.31\\\",\\\"1.32\\\",\\\"1.33\\\",\\\"1.34\\\",\\\"1.35\\\",\\\"1.36\\\",\\\"1.37\\\",\\\"1.38\\\",\\\"1.39\\\",\\\"1.4\\\",\\\"1.41\\\",\\\"1.42\\\",\\\"1.43\\\",\\\"1.44\\\",\\\"1.45\\\",\\\"1.46\\\",\\\"1.47\\\",\\\"1.48\\\",\\\"1.49\\\",\\\"1.5\\\",\\\"1.51\\\",\\\"1.52\\\",\\\"1.53\\\",\\\"1.54\\\",\\\"1.55\\\",\\\"1.56\\\",\\\"1.57\\\",\\\"1.58\\\",\\\"1.59\\\",\\\"1.6\\\",\\\"1.61\\\",\\\"1.62\\\",\\\"1.63\\\",\\\"1.64\\\",\\\"1.65\\\",\\\"1.66\\\",\\\"1.67\\\",\\\"1.68\\\",\\\"1.69\\\",\\\"1.7\\\",\\\"1.71\\\",\\\"1.72\\\",\\\"1.73\\\",\\\"1.74\\\",\\\"1.75\\\",\\\"1.76\\\",\\\"1.77\\\",\\\"1.78\\\",\\\"1.79\\\",\\\"1.8\\\",\\\"1.81\\\",\\\"1.82\\\",\\\"1.83\\\",\\\"1.84\\\",\\\"1.85\\\",\\\"1.86\\\",\\\"1.87\\\",\\\"1.88\\\",\\\"1.89\\\",\\\"1.9\\\",\\\"1.91\\\",\\\"1.92\\\",\\\"1.93\\\",\\\"1.94\\\",\\\"1.95\\\",\\\"1.96\\\",\\\"1.97\\\",\\\"1.98\\\",\\\"1.99\\\",\\\"2.0\\\"],\\\"changes\\\":WebIO.getval({\\\"name\\\":\\\"changes\\\",\\\"scope\\\":\\\"11756259643883916071\\\",\\\"id\\\":\\\"ob_03\\\",\\\"type\\\":\\\"observable\\\"}),\\\"index\\\":WebIO.getval({\\\"name\\\":\\\"index\\\",\\\"scope\\\":\\\"11756259643883916071\\\",\\\"id\\\":\\\"ob_02\\\",\\\"type\\\":\\\"observable\\\"})};\\n    var self = this;\\n    function AppViewModel() {\\n        for (var key in json_data) {\\n            var el = json_data[key];\\n            this[key] = Array.isArray(el) ? ko.observableArray(el) : ko.observable(el);\\n        }\\n        \\n        [this[\\\"formatted_val\\\"]=ko.computed(    function(){\\n        return this.formatted_vals()[parseInt(this.index())-(1)];\\n    }\\n,this)]\\n        [this[\\\"changes\\\"].subscribe((function (val){!(this.valueFromJulia[\\\"changes\\\"]) ? (WebIO.setval({\\\"name\\\":\\\"changes\\\",\\\"scope\\\":\\\"11756259643883916071\\\",\\\"id\\\":\\\"ob_03\\\",\\\"type\\\":\\\"observable\\\"},val)) : undefined; return this.valueFromJulia[\\\"changes\\\"]=false}),self),this[\\\"index\\\"].subscribe((function (val){!(this.valueFromJulia[\\\"index\\\"]) ? (WebIO.setval({\\\"name\\\":\\\"index\\\",\\\"scope\\\":\\\"11756259643883916071\\\",\\\"id\\\":\\\"ob_02\\\",\\\"type\\\":\\\"observable\\\"},val)) : undefined; return this.valueFromJulia[\\\"index\\\"]=false}),self)]\\n        \\n    }\\n    self.model = new AppViewModel();\\n    self.valueFromJulia = {};\\n    for (var key in json_data) {\\n        self.valueFromJulia[key] = false;\\n    }\\n    ko.applyBindings(self.model, self.dom);\\n}\\n);\\n    (WebIO.importBlock({\\\"data\\\":[{\\\"name\\\":\\\"knockout\\\",\\\"type\\\":\\\"js\\\",\\\"url\\\":\\\"\\/assetserver\\/fd311416c3fbf748771c2940b2ca4b79c53d1ab2-knockout.js\\\"},{\\\"name\\\":\\\"knockout_punches\\\",\\\"type\\\":\\\"js\\\",\\\"url\\\":\\\"\\/assetserver\\/148711b519458f42f1e7a22e5bdf7a74f9d5f8e0-knockout_punches.js\\\"}],\\\"type\\\":\\\"async_block\\\"})).then((imports) => handler.apply(this, imports));\\n}\\n\"],\"observables\":{\"changes\":{\"sync\":false,\"id\":\"ob_03\",\"value\":0},\"index\":{\"sync\":true,\"id\":\"ob_02\",\"value\":71}}},\"children\":[{\"props\":{\"className\":\"interact-flex-row interact-widget\"},\"nodeType\":\"DOM\",\"type\":\"node\",\"instanceArgs\":{\"namespace\":\"html\",\"tag\":\"div\"},\"children\":[{\"props\":{\"className\":\"interact-flex-row-left\"},\"nodeType\":\"DOM\",\"type\":\"node\",\"instanceArgs\":{\"namespace\":\"html\",\"tag\":\"div\"},\"children\":[{\"props\":{\"className\":\"interact \",\"style\":{\"padding\":\"5px 10px 0px 10px\"}},\"nodeType\":\"DOM\",\"type\":\"node\",\"instanceArgs\":{\"namespace\":\"html\",\"tag\":\"label\"},\"children\":[\"α12\"]}]},{\"props\":{\"className\":\"interact-flex-row-center\"},\"nodeType\":\"DOM\",\"type\":\"node\",\"instanceArgs\":{\"namespace\":\"html\",\"tag\":\"div\"},\"children\":[{\"props\":{\"max\":191,\"min\":1,\"attributes\":{\"type\":\"range\",\"data-bind\":\"numericValue: index, valueUpdate: 'input', event: {change: function (){this.changes(this.changes()+1)}}\",\"orient\":\"horizontal\"},\"step\":1,\"className\":\"slider slider is-fullwidth\",\"style\":{}},\"nodeType\":\"DOM\",\"type\":\"node\",\"instanceArgs\":{\"namespace\":\"html\",\"tag\":\"input\"},\"children\":[]}]},{\"props\":{\"className\":\"interact-flex-row-right\"},\"nodeType\":\"DOM\",\"type\":\"node\",\"instanceArgs\":{\"namespace\":\"html\",\"tag\":\"div\"},\"children\":[{\"props\":{\"attributes\":{\"data-bind\":\"text: formatted_val\"}},\"nodeType\":\"DOM\",\"type\":\"node\",\"instanceArgs\":{\"namespace\":\"html\",\"tag\":\"p\"},\"children\":[]}]}]}]}]},{\"props\":{\"className\":\"field interact-widget\"},\"nodeType\":\"DOM\",\"type\":\"node\",\"instanceArgs\":{\"namespace\":\"html\",\"tag\":\"div\"},\"children\":[{\"props\":{},\"nodeType\":\"Scope\",\"type\":\"node\",\"instanceArgs\":{\"imports\":{\"data\":[{\"name\":\"knockout\",\"type\":\"js\",\"url\":\"\\/assetserver\\/fd311416c3fbf748771c2940b2ca4b79c53d1ab2-knockout.js\"},{\"name\":\"knockout_punches\",\"type\":\"js\",\"url\":\"\\/assetserver\\/148711b519458f42f1e7a22e5bdf7a74f9d5f8e0-knockout_punches.js\"},{\"name\":null,\"type\":\"js\",\"url\":\"\\/assetserver\\/96387ddaa2b47f2577dbef3402b61deb55b692cb-all.js\"},{\"name\":null,\"type\":\"css\",\"url\":\"\\/assetserver\\/1205e2cb75bbf44a95189d9e430e22f4b3018051-style.css\"},{\"name\":null,\"type\":\"css\",\"url\":\"\\/assetserver\\/e47939cc599f2b791e3e3e81f0cfd77c1a048dd3-bulma_confined.min.css\"}],\"type\":\"async_block\"},\"id\":\"4668872470954038922\",\"handlers\":{\"changes\":[\"(function (val){return (val!=this.model[\\\"changes\\\"]()) ? (this.valueFromJulia[\\\"changes\\\"]=true, this.model[\\\"changes\\\"](val)) : undefined})\"],\"index\":[\"(function (val){return (val!=this.model[\\\"index\\\"]()) ? (this.valueFromJulia[\\\"index\\\"]=true, this.model[\\\"index\\\"](val)) : undefined})\"]},\"systemjs_options\":null,\"mount_callbacks\":[\"function () {\\n    var handler = (function (ko, koPunches) {\\n    ko.punches.enableAll();\\n    ko.bindingHandlers.numericValue = {\\n        init: function(element, valueAccessor, allBindings, data, context) {\\n            var stringified = ko.observable(ko.unwrap(valueAccessor()));\\n            stringified.subscribe(function(value) {\\n                var val = parseFloat(value);\\n                if (!isNaN(val)) {\\n                    valueAccessor()(val);\\n                }\\n            });\\n            valueAccessor().subscribe(function(value) {\\n                var str = JSON.stringify(value);\\n                if ((str == \\\"0\\\") && ([\\\"-0\\\", \\\"-0.\\\"].indexOf(stringified()) >= 0))\\n                     return;\\n                 if ([\\\"null\\\", \\\"\\\"].indexOf(str) >= 0)\\n                     return;\\n                stringified(str);\\n            });\\n            ko.applyBindingsToNode(\\n                element,\\n                {\\n                    value: stringified,\\n                    valueUpdate: allBindings.get('valueUpdate'),\\n                },\\n                context,\\n            );\\n        }\\n    };\\n    var json_data = {\\\"formatted_vals\\\":[\\\"0.1\\\",\\\"0.11\\\",\\\"0.12\\\",\\\"0.13\\\",\\\"0.14\\\",\\\"0.15\\\",\\\"0.16\\\",\\\"0.17\\\",\\\"0.18\\\",\\\"0.19\\\",\\\"0.2\\\",\\\"0.21\\\",\\\"0.22\\\",\\\"0.23\\\",\\\"0.24\\\",\\\"0.25\\\",\\\"0.26\\\",\\\"0.27\\\",\\\"0.28\\\",\\\"0.29\\\",\\\"0.3\\\",\\\"0.31\\\",\\\"0.32\\\",\\\"0.33\\\",\\\"0.34\\\",\\\"0.35\\\",\\\"0.36\\\",\\\"0.37\\\",\\\"0.38\\\",\\\"0.39\\\",\\\"0.4\\\",\\\"0.41\\\",\\\"0.42\\\",\\\"0.43\\\",\\\"0.44\\\",\\\"0.45\\\",\\\"0.46\\\",\\\"0.47\\\",\\\"0.48\\\",\\\"0.49\\\",\\\"0.5\\\",\\\"0.51\\\",\\\"0.52\\\",\\\"0.53\\\",\\\"0.54\\\",\\\"0.55\\\",\\\"0.56\\\",\\\"0.57\\\",\\\"0.58\\\",\\\"0.59\\\",\\\"0.6\\\",\\\"0.61\\\",\\\"0.62\\\",\\\"0.63\\\",\\\"0.64\\\",\\\"0.65\\\",\\\"0.66\\\",\\\"0.67\\\",\\\"0.68\\\",\\\"0.69\\\",\\\"0.7\\\",\\\"0.71\\\",\\\"0.72\\\",\\\"0.73\\\",\\\"0.74\\\",\\\"0.75\\\",\\\"0.76\\\",\\\"0.77\\\",\\\"0.78\\\",\\\"0.79\\\",\\\"0.8\\\",\\\"0.81\\\",\\\"0.82\\\",\\\"0.83\\\",\\\"0.84\\\",\\\"0.85\\\",\\\"0.86\\\",\\\"0.87\\\",\\\"0.88\\\",\\\"0.89\\\",\\\"0.9\\\",\\\"0.91\\\",\\\"0.92\\\",\\\"0.93\\\",\\\"0.94\\\",\\\"0.95\\\",\\\"0.96\\\",\\\"0.97\\\",\\\"0.98\\\",\\\"0.99\\\",\\\"1.0\\\",\\\"1.01\\\",\\\"1.02\\\",\\\"1.03\\\",\\\"1.04\\\",\\\"1.05\\\",\\\"1.06\\\",\\\"1.07\\\",\\\"1.08\\\",\\\"1.09\\\",\\\"1.1\\\",\\\"1.11\\\",\\\"1.12\\\",\\\"1.13\\\",\\\"1.14\\\",\\\"1.15\\\",\\\"1.16\\\",\\\"1.17\\\",\\\"1.18\\\",\\\"1.19\\\",\\\"1.2\\\",\\\"1.21\\\",\\\"1.22\\\",\\\"1.23\\\",\\\"1.24\\\",\\\"1.25\\\",\\\"1.26\\\",\\\"1.27\\\",\\\"1.28\\\",\\\"1.29\\\",\\\"1.3\\\",\\\"1.31\\\",\\\"1.32\\\",\\\"1.33\\\",\\\"1.34\\\",\\\"1.35\\\",\\\"1.36\\\",\\\"1.37\\\",\\\"1.38\\\",\\\"1.39\\\",\\\"1.4\\\",\\\"1.41\\\",\\\"1.42\\\",\\\"1.43\\\",\\\"1.44\\\",\\\"1.45\\\",\\\"1.46\\\",\\\"1.47\\\",\\\"1.48\\\",\\\"1.49\\\",\\\"1.5\\\",\\\"1.51\\\",\\\"1.52\\\",\\\"1.53\\\",\\\"1.54\\\",\\\"1.55\\\",\\\"1.56\\\",\\\"1.57\\\",\\\"1.58\\\",\\\"1.59\\\",\\\"1.6\\\",\\\"1.61\\\",\\\"1.62\\\",\\\"1.63\\\",\\\"1.64\\\",\\\"1.65\\\",\\\"1.66\\\",\\\"1.67\\\",\\\"1.68\\\",\\\"1.69\\\",\\\"1.7\\\",\\\"1.71\\\",\\\"1.72\\\",\\\"1.73\\\",\\\"1.74\\\",\\\"1.75\\\",\\\"1.76\\\",\\\"1.77\\\",\\\"1.78\\\",\\\"1.79\\\",\\\"1.8\\\",\\\"1.81\\\",\\\"1.82\\\",\\\"1.83\\\",\\\"1.84\\\",\\\"1.85\\\",\\\"1.86\\\",\\\"1.87\\\",\\\"1.88\\\",\\\"1.89\\\",\\\"1.9\\\",\\\"1.91\\\",\\\"1.92\\\",\\\"1.93\\\",\\\"1.94\\\",\\\"1.95\\\",\\\"1.96\\\",\\\"1.97\\\",\\\"1.98\\\",\\\"1.99\\\",\\\"2.0\\\"],\\\"changes\\\":WebIO.getval({\\\"name\\\":\\\"changes\\\",\\\"scope\\\":\\\"4668872470954038922\\\",\\\"id\\\":\\\"ob_06\\\",\\\"type\\\":\\\"observable\\\"}),\\\"index\\\":WebIO.getval({\\\"name\\\":\\\"index\\\",\\\"scope\\\":\\\"4668872470954038922\\\",\\\"id\\\":\\\"ob_05\\\",\\\"type\\\":\\\"observable\\\"})};\\n    var self = this;\\n    function AppViewModel() {\\n        for (var key in json_data) {\\n            var el = json_data[key];\\n            this[key] = Array.isArray(el) ? ko.observableArray(el) : ko.observable(el);\\n        }\\n        \\n        [this[\\\"formatted_val\\\"]=ko.computed(    function(){\\n        return this.formatted_vals()[parseInt(this.index())-(1)];\\n    }\\n,this)]\\n        [this[\\\"changes\\\"].subscribe((function (val){!(this.valueFromJulia[\\\"changes\\\"]) ? (WebIO.setval({\\\"name\\\":\\\"changes\\\",\\\"scope\\\":\\\"4668872470954038922\\\",\\\"id\\\":\\\"ob_06\\\",\\\"type\\\":\\\"observable\\\"},val)) : undefined; return this.valueFromJulia[\\\"changes\\\"]=false}),self),this[\\\"index\\\"].subscribe((function (val){!(this.valueFromJulia[\\\"index\\\"]) ? (WebIO.setval({\\\"name\\\":\\\"index\\\",\\\"scope\\\":\\\"4668872470954038922\\\",\\\"id\\\":\\\"ob_05\\\",\\\"type\\\":\\\"observable\\\"},val)) : undefined; return this.valueFromJulia[\\\"index\\\"]=false}),self)]\\n        \\n    }\\n    self.model = new AppViewModel();\\n    self.valueFromJulia = {};\\n    for (var key in json_data) {\\n        self.valueFromJulia[key] = false;\\n    }\\n    ko.applyBindings(self.model, self.dom);\\n}\\n);\\n    (WebIO.importBlock({\\\"data\\\":[{\\\"name\\\":\\\"knockout\\\",\\\"type\\\":\\\"js\\\",\\\"url\\\":\\\"\\/assetserver\\/fd311416c3fbf748771c2940b2ca4b79c53d1ab2-knockout.js\\\"},{\\\"name\\\":\\\"knockout_punches\\\",\\\"type\\\":\\\"js\\\",\\\"url\\\":\\\"\\/assetserver\\/148711b519458f42f1e7a22e5bdf7a74f9d5f8e0-knockout_punches.js\\\"}],\\\"type\\\":\\\"async_block\\\"})).then((imports) => handler.apply(this, imports));\\n}\\n\"],\"observables\":{\"changes\":{\"sync\":false,\"id\":\"ob_06\",\"value\":0},\"index\":{\"sync\":true,\"id\":\"ob_05\",\"value\":21}}},\"children\":[{\"props\":{\"className\":\"interact-flex-row interact-widget\"},\"nodeType\":\"DOM\",\"type\":\"node\",\"instanceArgs\":{\"namespace\":\"html\",\"tag\":\"div\"},\"children\":[{\"props\":{\"className\":\"interact-flex-row-left\"},\"nodeType\":\"DOM\",\"type\":\"node\",\"instanceArgs\":{\"namespace\":\"html\",\"tag\":\"div\"},\"children\":[{\"props\":{\"className\":\"interact \",\"style\":{\"padding\":\"5px 10px 0px 10px\"}},\"nodeType\":\"DOM\",\"type\":\"node\",\"instanceArgs\":{\"namespace\":\"html\",\"tag\":\"label\"},\"children\":[\"α21\"]}]},{\"props\":{\"className\":\"interact-flex-row-center\"},\"nodeType\":\"DOM\",\"type\":\"node\",\"instanceArgs\":{\"namespace\":\"html\",\"tag\":\"div\"},\"children\":[{\"props\":{\"max\":191,\"min\":1,\"attributes\":{\"type\":\"range\",\"data-bind\":\"numericValue: index, valueUpdate: 'input', event: {change: function (){this.changes(this.changes()+1)}}\",\"orient\":\"horizontal\"},\"step\":1,\"className\":\"slider slider is-fullwidth\",\"style\":{}},\"nodeType\":\"DOM\",\"type\":\"node\",\"instanceArgs\":{\"namespace\":\"html\",\"tag\":\"input\"},\"children\":[]}]},{\"props\":{\"className\":\"interact-flex-row-right\"},\"nodeType\":\"DOM\",\"type\":\"node\",\"instanceArgs\":{\"namespace\":\"html\",\"tag\":\"div\"},\"children\":[{\"props\":{\"attributes\":{\"data-bind\":\"text: formatted_val\"}},\"nodeType\":\"DOM\",\"type\":\"node\",\"instanceArgs\":{\"namespace\":\"html\",\"tag\":\"p\"},\"children\":[]}]}]}]}]},{\"props\":{\"className\":\"field interact-widget\"},\"nodeType\":\"DOM\",\"type\":\"node\",\"instanceArgs\":{\"namespace\":\"html\",\"tag\":\"div\"},\"children\":[{\"props\":{},\"nodeType\":\"Scope\",\"type\":\"node\",\"instanceArgs\":{\"imports\":{\"data\":[{\"name\":\"knockout\",\"type\":\"js\",\"url\":\"\\/assetserver\\/fd311416c3fbf748771c2940b2ca4b79c53d1ab2-knockout.js\"},{\"name\":\"knockout_punches\",\"type\":\"js\",\"url\":\"\\/assetserver\\/148711b519458f42f1e7a22e5bdf7a74f9d5f8e0-knockout_punches.js\"},{\"name\":null,\"type\":\"js\",\"url\":\"\\/assetserver\\/96387ddaa2b47f2577dbef3402b61deb55b692cb-all.js\"},{\"name\":null,\"type\":\"css\",\"url\":\"\\/assetserver\\/1205e2cb75bbf44a95189d9e430e22f4b3018051-style.css\"},{\"name\":null,\"type\":\"css\",\"url\":\"\\/assetserver\\/e47939cc599f2b791e3e3e81f0cfd77c1a048dd3-bulma_confined.min.css\"}],\"type\":\"async_block\"},\"id\":\"630978131963730347\",\"handlers\":{\"changes\":[\"(function (val){return (val!=this.model[\\\"changes\\\"]()) ? (this.valueFromJulia[\\\"changes\\\"]=true, this.model[\\\"changes\\\"](val)) : undefined})\"],\"index\":[\"(function (val){return (val!=this.model[\\\"index\\\"]()) ? (this.valueFromJulia[\\\"index\\\"]=true, this.model[\\\"index\\\"](val)) : undefined})\"]},\"systemjs_options\":null,\"mount_callbacks\":[\"function () {\\n    var handler = (function (ko, koPunches) {\\n    ko.punches.enableAll();\\n    ko.bindingHandlers.numericValue = {\\n        init: function(element, valueAccessor, allBindings, data, context) {\\n            var stringified = ko.observable(ko.unwrap(valueAccessor()));\\n            stringified.subscribe(function(value) {\\n                var val = parseFloat(value);\\n                if (!isNaN(val)) {\\n                    valueAccessor()(val);\\n                }\\n            });\\n            valueAccessor().subscribe(function(value) {\\n                var str = JSON.stringify(value);\\n                if ((str == \\\"0\\\") && ([\\\"-0\\\", \\\"-0.\\\"].indexOf(stringified()) >= 0))\\n                     return;\\n                 if ([\\\"null\\\", \\\"\\\"].indexOf(str) >= 0)\\n                     return;\\n                stringified(str);\\n            });\\n            ko.applyBindingsToNode(\\n                element,\\n                {\\n                    value: stringified,\\n                    valueUpdate: allBindings.get('valueUpdate'),\\n                },\\n                context,\\n            );\\n        }\\n    };\\n    var json_data = {\\\"formatted_vals\\\":[\\\"0.1\\\",\\\"0.11\\\",\\\"0.12\\\",\\\"0.13\\\",\\\"0.14\\\",\\\"0.15\\\",\\\"0.16\\\",\\\"0.17\\\",\\\"0.18\\\",\\\"0.19\\\",\\\"0.2\\\",\\\"0.21\\\",\\\"0.22\\\",\\\"0.23\\\",\\\"0.24\\\",\\\"0.25\\\",\\\"0.26\\\",\\\"0.27\\\",\\\"0.28\\\",\\\"0.29\\\",\\\"0.3\\\",\\\"0.31\\\",\\\"0.32\\\",\\\"0.33\\\",\\\"0.34\\\",\\\"0.35\\\",\\\"0.36\\\",\\\"0.37\\\",\\\"0.38\\\",\\\"0.39\\\",\\\"0.4\\\",\\\"0.41\\\",\\\"0.42\\\",\\\"0.43\\\",\\\"0.44\\\",\\\"0.45\\\",\\\"0.46\\\",\\\"0.47\\\",\\\"0.48\\\",\\\"0.49\\\",\\\"0.5\\\",\\\"0.51\\\",\\\"0.52\\\",\\\"0.53\\\",\\\"0.54\\\",\\\"0.55\\\",\\\"0.56\\\",\\\"0.57\\\",\\\"0.58\\\",\\\"0.59\\\",\\\"0.6\\\",\\\"0.61\\\",\\\"0.62\\\",\\\"0.63\\\",\\\"0.64\\\",\\\"0.65\\\",\\\"0.66\\\",\\\"0.67\\\",\\\"0.68\\\",\\\"0.69\\\",\\\"0.7\\\",\\\"0.71\\\",\\\"0.72\\\",\\\"0.73\\\",\\\"0.74\\\",\\\"0.75\\\",\\\"0.76\\\",\\\"0.77\\\",\\\"0.78\\\",\\\"0.79\\\",\\\"0.8\\\",\\\"0.81\\\",\\\"0.82\\\",\\\"0.83\\\",\\\"0.84\\\",\\\"0.85\\\",\\\"0.86\\\",\\\"0.87\\\",\\\"0.88\\\",\\\"0.89\\\",\\\"0.9\\\",\\\"0.91\\\",\\\"0.92\\\",\\\"0.93\\\",\\\"0.94\\\",\\\"0.95\\\",\\\"0.96\\\",\\\"0.97\\\",\\\"0.98\\\",\\\"0.99\\\",\\\"1.0\\\",\\\"1.01\\\",\\\"1.02\\\",\\\"1.03\\\",\\\"1.04\\\",\\\"1.05\\\",\\\"1.06\\\",\\\"1.07\\\",\\\"1.08\\\",\\\"1.09\\\",\\\"1.1\\\",\\\"1.11\\\",\\\"1.12\\\",\\\"1.13\\\",\\\"1.14\\\",\\\"1.15\\\",\\\"1.16\\\",\\\"1.17\\\",\\\"1.18\\\",\\\"1.19\\\",\\\"1.2\\\",\\\"1.21\\\",\\\"1.22\\\",\\\"1.23\\\",\\\"1.24\\\",\\\"1.25\\\",\\\"1.26\\\",\\\"1.27\\\",\\\"1.28\\\",\\\"1.29\\\",\\\"1.3\\\",\\\"1.31\\\",\\\"1.32\\\",\\\"1.33\\\",\\\"1.34\\\",\\\"1.35\\\",\\\"1.36\\\",\\\"1.37\\\",\\\"1.38\\\",\\\"1.39\\\",\\\"1.4\\\",\\\"1.41\\\",\\\"1.42\\\",\\\"1.43\\\",\\\"1.44\\\",\\\"1.45\\\",\\\"1.46\\\",\\\"1.47\\\",\\\"1.48\\\",\\\"1.49\\\",\\\"1.5\\\",\\\"1.51\\\",\\\"1.52\\\",\\\"1.53\\\",\\\"1.54\\\",\\\"1.55\\\",\\\"1.56\\\",\\\"1.57\\\",\\\"1.58\\\",\\\"1.59\\\",\\\"1.6\\\",\\\"1.61\\\",\\\"1.62\\\",\\\"1.63\\\",\\\"1.64\\\",\\\"1.65\\\",\\\"1.66\\\",\\\"1.67\\\",\\\"1.68\\\",\\\"1.69\\\",\\\"1.7\\\",\\\"1.71\\\",\\\"1.72\\\",\\\"1.73\\\",\\\"1.74\\\",\\\"1.75\\\",\\\"1.76\\\",\\\"1.77\\\",\\\"1.78\\\",\\\"1.79\\\",\\\"1.8\\\",\\\"1.81\\\",\\\"1.82\\\",\\\"1.83\\\",\\\"1.84\\\",\\\"1.85\\\",\\\"1.86\\\",\\\"1.87\\\",\\\"1.88\\\",\\\"1.89\\\",\\\"1.9\\\",\\\"1.91\\\",\\\"1.92\\\",\\\"1.93\\\",\\\"1.94\\\",\\\"1.95\\\",\\\"1.96\\\",\\\"1.97\\\",\\\"1.98\\\",\\\"1.99\\\",\\\"2.0\\\",\\\"2.01\\\",\\\"2.02\\\",\\\"2.03\\\",\\\"2.04\\\",\\\"2.05\\\",\\\"2.06\\\",\\\"2.07\\\",\\\"2.08\\\",\\\"2.09\\\",\\\"2.1\\\",\\\"2.11\\\",\\\"2.12\\\",\\\"2.13\\\",\\\"2.14\\\",\\\"2.15\\\",\\\"2.16\\\",\\\"2.17\\\",\\\"2.18\\\",\\\"2.19\\\",\\\"2.2\\\",\\\"2.21\\\",\\\"2.22\\\",\\\"2.23\\\",\\\"2.24\\\",\\\"2.25\\\",\\\"2.26\\\",\\\"2.27\\\",\\\"2.28\\\",\\\"2.29\\\",\\\"2.3\\\",\\\"2.31\\\",\\\"2.32\\\",\\\"2.33\\\",\\\"2.34\\\",\\\"2.35\\\",\\\"2.36\\\",\\\"2.37\\\",\\\"2.38\\\",\\\"2.39\\\",\\\"2.4\\\",\\\"2.41\\\",\\\"2.42\\\",\\\"2.43\\\",\\\"2.44\\\",\\\"2.45\\\",\\\"2.46\\\",\\\"2.47\\\",\\\"2.48\\\",\\\"2.49\\\",\\\"2.5\\\",\\\"2.51\\\",\\\"2.52\\\",\\\"2.53\\\",\\\"2.54\\\",\\\"2.55\\\",\\\"2.56\\\",\\\"2.57\\\",\\\"2.58\\\",\\\"2.59\\\",\\\"2.6\\\",\\\"2.61\\\",\\\"2.62\\\",\\\"2.63\\\",\\\"2.64\\\",\\\"2.65\\\",\\\"2.66\\\",\\\"2.67\\\",\\\"2.68\\\",\\\"2.69\\\",\\\"2.7\\\",\\\"2.71\\\",\\\"2.72\\\",\\\"2.73\\\",\\\"2.74\\\",\\\"2.75\\\",\\\"2.76\\\",\\\"2.77\\\",\\\"2.78\\\",\\\"2.79\\\",\\\"2.8\\\",\\\"2.81\\\",\\\"2.82\\\",\\\"2.83\\\",\\\"2.84\\\",\\\"2.85\\\",\\\"2.86\\\",\\\"2.87\\\",\\\"2.88\\\",\\\"2.89\\\",\\\"2.9\\\",\\\"2.91\\\",\\\"2.92\\\",\\\"2.93\\\",\\\"2.94\\\",\\\"2.95\\\",\\\"2.96\\\",\\\"2.97\\\",\\\"2.98\\\",\\\"2.99\\\",\\\"3.0\\\"],\\\"changes\\\":WebIO.getval({\\\"name\\\":\\\"changes\\\",\\\"scope\\\":\\\"630978131963730347\\\",\\\"id\\\":\\\"ob_09\\\",\\\"type\\\":\\\"observable\\\"}),\\\"index\\\":WebIO.getval({\\\"name\\\":\\\"index\\\",\\\"scope\\\":\\\"630978131963730347\\\",\\\"id\\\":\\\"ob_08\\\",\\\"type\\\":\\\"observable\\\"})};\\n    var self = this;\\n    function AppViewModel() {\\n        for (var key in json_data) {\\n            var el = json_data[key];\\n            this[key] = Array.isArray(el) ? ko.observableArray(el) : ko.observable(el);\\n        }\\n        \\n        [this[\\\"formatted_val\\\"]=ko.computed(    function(){\\n        return this.formatted_vals()[parseInt(this.index())-(1)];\\n    }\\n,this)]\\n        [this[\\\"changes\\\"].subscribe((function (val){!(this.valueFromJulia[\\\"changes\\\"]) ? (WebIO.setval({\\\"name\\\":\\\"changes\\\",\\\"scope\\\":\\\"630978131963730347\\\",\\\"id\\\":\\\"ob_09\\\",\\\"type\\\":\\\"observable\\\"},val)) : undefined; return this.valueFromJulia[\\\"changes\\\"]=false}),self),this[\\\"index\\\"].subscribe((function (val){!(this.valueFromJulia[\\\"index\\\"]) ? (WebIO.setval({\\\"name\\\":\\\"index\\\",\\\"scope\\\":\\\"630978131963730347\\\",\\\"id\\\":\\\"ob_08\\\",\\\"type\\\":\\\"observable\\\"},val)) : undefined; return this.valueFromJulia[\\\"index\\\"]=false}),self)]\\n        \\n    }\\n    self.model = new AppViewModel();\\n    self.valueFromJulia = {};\\n    for (var key in json_data) {\\n        self.valueFromJulia[key] = false;\\n    }\\n    ko.applyBindings(self.model, self.dom);\\n}\\n);\\n    (WebIO.importBlock({\\\"data\\\":[{\\\"name\\\":\\\"knockout\\\",\\\"type\\\":\\\"js\\\",\\\"url\\\":\\\"\\/assetserver\\/fd311416c3fbf748771c2940b2ca4b79c53d1ab2-knockout.js\\\"},{\\\"name\\\":\\\"knockout_punches\\\",\\\"type\\\":\\\"js\\\",\\\"url\\\":\\\"\\/assetserver\\/148711b519458f42f1e7a22e5bdf7a74f9d5f8e0-knockout_punches.js\\\"}],\\\"type\\\":\\\"async_block\\\"})).then((imports) => handler.apply(this, imports));\\n}\\n\"],\"observables\":{\"changes\":{\"sync\":false,\"id\":\"ob_09\",\"value\":0},\"index\":{\"sync\":true,\"id\":\"ob_08\",\"value\":141}}},\"children\":[{\"props\":{\"className\":\"interact-flex-row interact-widget\"},\"nodeType\":\"DOM\",\"type\":\"node\",\"instanceArgs\":{\"namespace\":\"html\",\"tag\":\"div\"},\"children\":[{\"props\":{\"className\":\"interact-flex-row-left\"},\"nodeType\":\"DOM\",\"type\":\"node\",\"instanceArgs\":{\"namespace\":\"html\",\"tag\":\"div\"},\"children\":[{\"props\":{\"className\":\"interact \",\"style\":{\"padding\":\"5px 10px 0px 10px\"}},\"nodeType\":\"DOM\",\"type\":\"node\",\"instanceArgs\":{\"namespace\":\"html\",\"tag\":\"label\"},\"children\":[\"K1\"]}]},{\"props\":{\"className\":\"interact-flex-row-center\"},\"nodeType\":\"DOM\",\"type\":\"node\",\"instanceArgs\":{\"namespace\":\"html\",\"tag\":\"div\"},\"children\":[{\"props\":{\"max\":291,\"min\":1,\"attributes\":{\"type\":\"range\",\"data-bind\":\"numericValue: index, valueUpdate: 'input', event: {change: function (){this.changes(this.changes()+1)}}\",\"orient\":\"horizontal\"},\"step\":1,\"className\":\"slider slider is-fullwidth\",\"style\":{}},\"nodeType\":\"DOM\",\"type\":\"node\",\"instanceArgs\":{\"namespace\":\"html\",\"tag\":\"input\"},\"children\":[]}]},{\"props\":{\"className\":\"interact-flex-row-right\"},\"nodeType\":\"DOM\",\"type\":\"node\",\"instanceArgs\":{\"namespace\":\"html\",\"tag\":\"div\"},\"children\":[{\"props\":{\"attributes\":{\"data-bind\":\"text: formatted_val\"}},\"nodeType\":\"DOM\",\"type\":\"node\",\"instanceArgs\":{\"namespace\":\"html\",\"tag\":\"p\"},\"children\":[]}]}]}]}]},{\"props\":{\"className\":\"field interact-widget\"},\"nodeType\":\"DOM\",\"type\":\"node\",\"instanceArgs\":{\"namespace\":\"html\",\"tag\":\"div\"},\"children\":[{\"props\":{},\"nodeType\":\"Scope\",\"type\":\"node\",\"instanceArgs\":{\"imports\":{\"data\":[{\"name\":\"knockout\",\"type\":\"js\",\"url\":\"\\/assetserver\\/fd311416c3fbf748771c2940b2ca4b79c53d1ab2-knockout.js\"},{\"name\":\"knockout_punches\",\"type\":\"js\",\"url\":\"\\/assetserver\\/148711b519458f42f1e7a22e5bdf7a74f9d5f8e0-knockout_punches.js\"},{\"name\":null,\"type\":\"js\",\"url\":\"\\/assetserver\\/96387ddaa2b47f2577dbef3402b61deb55b692cb-all.js\"},{\"name\":null,\"type\":\"css\",\"url\":\"\\/assetserver\\/1205e2cb75bbf44a95189d9e430e22f4b3018051-style.css\"},{\"name\":null,\"type\":\"css\",\"url\":\"\\/assetserver\\/e47939cc599f2b791e3e3e81f0cfd77c1a048dd3-bulma_confined.min.css\"}],\"type\":\"async_block\"},\"id\":\"1681171009397840378\",\"handlers\":{\"changes\":[\"(function (val){return (val!=this.model[\\\"changes\\\"]()) ? (this.valueFromJulia[\\\"changes\\\"]=true, this.model[\\\"changes\\\"](val)) : undefined})\"],\"index\":[\"(function (val){return (val!=this.model[\\\"index\\\"]()) ? (this.valueFromJulia[\\\"index\\\"]=true, this.model[\\\"index\\\"](val)) : undefined})\"]},\"systemjs_options\":null,\"mount_callbacks\":[\"function () {\\n    var handler = (function (ko, koPunches) {\\n    ko.punches.enableAll();\\n    ko.bindingHandlers.numericValue = {\\n        init: function(element, valueAccessor, allBindings, data, context) {\\n            var stringified = ko.observable(ko.unwrap(valueAccessor()));\\n            stringified.subscribe(function(value) {\\n                var val = parseFloat(value);\\n                if (!isNaN(val)) {\\n                    valueAccessor()(val);\\n                }\\n            });\\n            valueAccessor().subscribe(function(value) {\\n                var str = JSON.stringify(value);\\n                if ((str == \\\"0\\\") && ([\\\"-0\\\", \\\"-0.\\\"].indexOf(stringified()) >= 0))\\n                     return;\\n                 if ([\\\"null\\\", \\\"\\\"].indexOf(str) >= 0)\\n                     return;\\n                stringified(str);\\n            });\\n            ko.applyBindingsToNode(\\n                element,\\n                {\\n                    value: stringified,\\n                    valueUpdate: allBindings.get('valueUpdate'),\\n                },\\n                context,\\n            );\\n        }\\n    };\\n    var json_data = {\\\"formatted_vals\\\":[\\\"0.1\\\",\\\"0.11\\\",\\\"0.12\\\",\\\"0.13\\\",\\\"0.14\\\",\\\"0.15\\\",\\\"0.16\\\",\\\"0.17\\\",\\\"0.18\\\",\\\"0.19\\\",\\\"0.2\\\",\\\"0.21\\\",\\\"0.22\\\",\\\"0.23\\\",\\\"0.24\\\",\\\"0.25\\\",\\\"0.26\\\",\\\"0.27\\\",\\\"0.28\\\",\\\"0.29\\\",\\\"0.3\\\",\\\"0.31\\\",\\\"0.32\\\",\\\"0.33\\\",\\\"0.34\\\",\\\"0.35\\\",\\\"0.36\\\",\\\"0.37\\\",\\\"0.38\\\",\\\"0.39\\\",\\\"0.4\\\",\\\"0.41\\\",\\\"0.42\\\",\\\"0.43\\\",\\\"0.44\\\",\\\"0.45\\\",\\\"0.46\\\",\\\"0.47\\\",\\\"0.48\\\",\\\"0.49\\\",\\\"0.5\\\",\\\"0.51\\\",\\\"0.52\\\",\\\"0.53\\\",\\\"0.54\\\",\\\"0.55\\\",\\\"0.56\\\",\\\"0.57\\\",\\\"0.58\\\",\\\"0.59\\\",\\\"0.6\\\",\\\"0.61\\\",\\\"0.62\\\",\\\"0.63\\\",\\\"0.64\\\",\\\"0.65\\\",\\\"0.66\\\",\\\"0.67\\\",\\\"0.68\\\",\\\"0.69\\\",\\\"0.7\\\",\\\"0.71\\\",\\\"0.72\\\",\\\"0.73\\\",\\\"0.74\\\",\\\"0.75\\\",\\\"0.76\\\",\\\"0.77\\\",\\\"0.78\\\",\\\"0.79\\\",\\\"0.8\\\",\\\"0.81\\\",\\\"0.82\\\",\\\"0.83\\\",\\\"0.84\\\",\\\"0.85\\\",\\\"0.86\\\",\\\"0.87\\\",\\\"0.88\\\",\\\"0.89\\\",\\\"0.9\\\",\\\"0.91\\\",\\\"0.92\\\",\\\"0.93\\\",\\\"0.94\\\",\\\"0.95\\\",\\\"0.96\\\",\\\"0.97\\\",\\\"0.98\\\",\\\"0.99\\\",\\\"1.0\\\",\\\"1.01\\\",\\\"1.02\\\",\\\"1.03\\\",\\\"1.04\\\",\\\"1.05\\\",\\\"1.06\\\",\\\"1.07\\\",\\\"1.08\\\",\\\"1.09\\\",\\\"1.1\\\",\\\"1.11\\\",\\\"1.12\\\",\\\"1.13\\\",\\\"1.14\\\",\\\"1.15\\\",\\\"1.16\\\",\\\"1.17\\\",\\\"1.18\\\",\\\"1.19\\\",\\\"1.2\\\",\\\"1.21\\\",\\\"1.22\\\",\\\"1.23\\\",\\\"1.24\\\",\\\"1.25\\\",\\\"1.26\\\",\\\"1.27\\\",\\\"1.28\\\",\\\"1.29\\\",\\\"1.3\\\",\\\"1.31\\\",\\\"1.32\\\",\\\"1.33\\\",\\\"1.34\\\",\\\"1.35\\\",\\\"1.36\\\",\\\"1.37\\\",\\\"1.38\\\",\\\"1.39\\\",\\\"1.4\\\",\\\"1.41\\\",\\\"1.42\\\",\\\"1.43\\\",\\\"1.44\\\",\\\"1.45\\\",\\\"1.46\\\",\\\"1.47\\\",\\\"1.48\\\",\\\"1.49\\\",\\\"1.5\\\",\\\"1.51\\\",\\\"1.52\\\",\\\"1.53\\\",\\\"1.54\\\",\\\"1.55\\\",\\\"1.56\\\",\\\"1.57\\\",\\\"1.58\\\",\\\"1.59\\\",\\\"1.6\\\",\\\"1.61\\\",\\\"1.62\\\",\\\"1.63\\\",\\\"1.64\\\",\\\"1.65\\\",\\\"1.66\\\",\\\"1.67\\\",\\\"1.68\\\",\\\"1.69\\\",\\\"1.7\\\",\\\"1.71\\\",\\\"1.72\\\",\\\"1.73\\\",\\\"1.74\\\",\\\"1.75\\\",\\\"1.76\\\",\\\"1.77\\\",\\\"1.78\\\",\\\"1.79\\\",\\\"1.8\\\",\\\"1.81\\\",\\\"1.82\\\",\\\"1.83\\\",\\\"1.84\\\",\\\"1.85\\\",\\\"1.86\\\",\\\"1.87\\\",\\\"1.88\\\",\\\"1.89\\\",\\\"1.9\\\",\\\"1.91\\\",\\\"1.92\\\",\\\"1.93\\\",\\\"1.94\\\",\\\"1.95\\\",\\\"1.96\\\",\\\"1.97\\\",\\\"1.98\\\",\\\"1.99\\\",\\\"2.0\\\",\\\"2.01\\\",\\\"2.02\\\",\\\"2.03\\\",\\\"2.04\\\",\\\"2.05\\\",\\\"2.06\\\",\\\"2.07\\\",\\\"2.08\\\",\\\"2.09\\\",\\\"2.1\\\",\\\"2.11\\\",\\\"2.12\\\",\\\"2.13\\\",\\\"2.14\\\",\\\"2.15\\\",\\\"2.16\\\",\\\"2.17\\\",\\\"2.18\\\",\\\"2.19\\\",\\\"2.2\\\",\\\"2.21\\\",\\\"2.22\\\",\\\"2.23\\\",\\\"2.24\\\",\\\"2.25\\\",\\\"2.26\\\",\\\"2.27\\\",\\\"2.28\\\",\\\"2.29\\\",\\\"2.3\\\",\\\"2.31\\\",\\\"2.32\\\",\\\"2.33\\\",\\\"2.34\\\",\\\"2.35\\\",\\\"2.36\\\",\\\"2.37\\\",\\\"2.38\\\",\\\"2.39\\\",\\\"2.4\\\",\\\"2.41\\\",\\\"2.42\\\",\\\"2.43\\\",\\\"2.44\\\",\\\"2.45\\\",\\\"2.46\\\",\\\"2.47\\\",\\\"2.48\\\",\\\"2.49\\\",\\\"2.5\\\",\\\"2.51\\\",\\\"2.52\\\",\\\"2.53\\\",\\\"2.54\\\",\\\"2.55\\\",\\\"2.56\\\",\\\"2.57\\\",\\\"2.58\\\",\\\"2.59\\\",\\\"2.6\\\",\\\"2.61\\\",\\\"2.62\\\",\\\"2.63\\\",\\\"2.64\\\",\\\"2.65\\\",\\\"2.66\\\",\\\"2.67\\\",\\\"2.68\\\",\\\"2.69\\\",\\\"2.7\\\",\\\"2.71\\\",\\\"2.72\\\",\\\"2.73\\\",\\\"2.74\\\",\\\"2.75\\\",\\\"2.76\\\",\\\"2.77\\\",\\\"2.78\\\",\\\"2.79\\\",\\\"2.8\\\",\\\"2.81\\\",\\\"2.82\\\",\\\"2.83\\\",\\\"2.84\\\",\\\"2.85\\\",\\\"2.86\\\",\\\"2.87\\\",\\\"2.88\\\",\\\"2.89\\\",\\\"2.9\\\",\\\"2.91\\\",\\\"2.92\\\",\\\"2.93\\\",\\\"2.94\\\",\\\"2.95\\\",\\\"2.96\\\",\\\"2.97\\\",\\\"2.98\\\",\\\"2.99\\\",\\\"3.0\\\"],\\\"changes\\\":WebIO.getval({\\\"name\\\":\\\"changes\\\",\\\"scope\\\":\\\"1681171009397840378\\\",\\\"id\\\":\\\"ob_12\\\",\\\"type\\\":\\\"observable\\\"}),\\\"index\\\":WebIO.getval({\\\"name\\\":\\\"index\\\",\\\"scope\\\":\\\"1681171009397840378\\\",\\\"id\\\":\\\"ob_11\\\",\\\"type\\\":\\\"observable\\\"})};\\n    var self = this;\\n    function AppViewModel() {\\n        for (var key in json_data) {\\n            var el = json_data[key];\\n            this[key] = Array.isArray(el) ? ko.observableArray(el) : ko.observable(el);\\n        }\\n        \\n        [this[\\\"formatted_val\\\"]=ko.computed(    function(){\\n        return this.formatted_vals()[parseInt(this.index())-(1)];\\n    }\\n,this)]\\n        [this[\\\"changes\\\"].subscribe((function (val){!(this.valueFromJulia[\\\"changes\\\"]) ? (WebIO.setval({\\\"name\\\":\\\"changes\\\",\\\"scope\\\":\\\"1681171009397840378\\\",\\\"id\\\":\\\"ob_12\\\",\\\"type\\\":\\\"observable\\\"},val)) : undefined; return this.valueFromJulia[\\\"changes\\\"]=false}),self),this[\\\"index\\\"].subscribe((function (val){!(this.valueFromJulia[\\\"index\\\"]) ? (WebIO.setval({\\\"name\\\":\\\"index\\\",\\\"scope\\\":\\\"1681171009397840378\\\",\\\"id\\\":\\\"ob_11\\\",\\\"type\\\":\\\"observable\\\"},val)) : undefined; return this.valueFromJulia[\\\"index\\\"]=false}),self)]\\n        \\n    }\\n    self.model = new AppViewModel();\\n    self.valueFromJulia = {};\\n    for (var key in json_data) {\\n        self.valueFromJulia[key] = false;\\n    }\\n    ko.applyBindings(self.model, self.dom);\\n}\\n);\\n    (WebIO.importBlock({\\\"data\\\":[{\\\"name\\\":\\\"knockout\\\",\\\"type\\\":\\\"js\\\",\\\"url\\\":\\\"\\/assetserver\\/fd311416c3fbf748771c2940b2ca4b79c53d1ab2-knockout.js\\\"},{\\\"name\\\":\\\"knockout_punches\\\",\\\"type\\\":\\\"js\\\",\\\"url\\\":\\\"\\/assetserver\\/148711b519458f42f1e7a22e5bdf7a74f9d5f8e0-knockout_punches.js\\\"}],\\\"type\\\":\\\"async_block\\\"})).then((imports) => handler.apply(this, imports));\\n}\\n\"],\"observables\":{\"changes\":{\"sync\":false,\"id\":\"ob_12\",\"value\":0},\"index\":{\"sync\":true,\"id\":\"ob_11\",\"value\":91}}},\"children\":[{\"props\":{\"className\":\"interact-flex-row interact-widget\"},\"nodeType\":\"DOM\",\"type\":\"node\",\"instanceArgs\":{\"namespace\":\"html\",\"tag\":\"div\"},\"children\":[{\"props\":{\"className\":\"interact-flex-row-left\"},\"nodeType\":\"DOM\",\"type\":\"node\",\"instanceArgs\":{\"namespace\":\"html\",\"tag\":\"div\"},\"children\":[{\"props\":{\"className\":\"interact \",\"style\":{\"padding\":\"5px 10px 0px 10px\"}},\"nodeType\":\"DOM\",\"type\":\"node\",\"instanceArgs\":{\"namespace\":\"html\",\"tag\":\"label\"},\"children\":[\"K2\"]}]},{\"props\":{\"className\":\"interact-flex-row-center\"},\"nodeType\":\"DOM\",\"type\":\"node\",\"instanceArgs\":{\"namespace\":\"html\",\"tag\":\"div\"},\"children\":[{\"props\":{\"max\":291,\"min\":1,\"attributes\":{\"type\":\"range\",\"data-bind\":\"numericValue: index, valueUpdate: 'input', event: {change: function (){this.changes(this.changes()+1)}}\",\"orient\":\"horizontal\"},\"step\":1,\"className\":\"slider slider is-fullwidth\",\"style\":{}},\"nodeType\":\"DOM\",\"type\":\"node\",\"instanceArgs\":{\"namespace\":\"html\",\"tag\":\"input\"},\"children\":[]}]},{\"props\":{\"className\":\"interact-flex-row-right\"},\"nodeType\":\"DOM\",\"type\":\"node\",\"instanceArgs\":{\"namespace\":\"html\",\"tag\":\"div\"},\"children\":[{\"props\":{\"attributes\":{\"data-bind\":\"text: formatted_val\"}},\"nodeType\":\"DOM\",\"type\":\"node\",\"instanceArgs\":{\"namespace\":\"html\",\"tag\":\"p\"},\"children\":[]}]}]}]}]},{\"props\":{\"className\":\"field interact-widget\"},\"nodeType\":\"DOM\",\"type\":\"node\",\"instanceArgs\":{\"namespace\":\"html\",\"tag\":\"div\"},\"children\":[{\"props\":{},\"nodeType\":\"Scope\",\"type\":\"node\",\"instanceArgs\":{\"imports\":{\"data\":[{\"name\":\"knockout\",\"type\":\"js\",\"url\":\"\\/assetserver\\/fd311416c3fbf748771c2940b2ca4b79c53d1ab2-knockout.js\"},{\"name\":\"knockout_punches\",\"type\":\"js\",\"url\":\"\\/assetserver\\/148711b519458f42f1e7a22e5bdf7a74f9d5f8e0-knockout_punches.js\"},{\"name\":null,\"type\":\"js\",\"url\":\"\\/assetserver\\/96387ddaa2b47f2577dbef3402b61deb55b692cb-all.js\"},{\"name\":null,\"type\":\"css\",\"url\":\"\\/assetserver\\/1205e2cb75bbf44a95189d9e430e22f4b3018051-style.css\"},{\"name\":null,\"type\":\"css\",\"url\":\"\\/assetserver\\/e47939cc599f2b791e3e3e81f0cfd77c1a048dd3-bulma_confined.min.css\"}],\"type\":\"async_block\"},\"id\":\"15698831480548399323\",\"handlers\":{\"changes\":[\"(function (val){return (val!=this.model[\\\"changes\\\"]()) ? (this.valueFromJulia[\\\"changes\\\"]=true, this.model[\\\"changes\\\"](val)) : undefined})\"],\"index\":[\"(function (val){return (val!=this.model[\\\"index\\\"]()) ? (this.valueFromJulia[\\\"index\\\"]=true, this.model[\\\"index\\\"](val)) : undefined})\"]},\"systemjs_options\":null,\"mount_callbacks\":[\"function () {\\n    var handler = (function (ko, koPunches) {\\n    ko.punches.enableAll();\\n    ko.bindingHandlers.numericValue = {\\n        init: function(element, valueAccessor, allBindings, data, context) {\\n            var stringified = ko.observable(ko.unwrap(valueAccessor()));\\n            stringified.subscribe(function(value) {\\n                var val = parseFloat(value);\\n                if (!isNaN(val)) {\\n                    valueAccessor()(val);\\n                }\\n            });\\n            valueAccessor().subscribe(function(value) {\\n                var str = JSON.stringify(value);\\n                if ((str == \\\"0\\\") && ([\\\"-0\\\", \\\"-0.\\\"].indexOf(stringified()) >= 0))\\n                     return;\\n                 if ([\\\"null\\\", \\\"\\\"].indexOf(str) >= 0)\\n                     return;\\n                stringified(str);\\n            });\\n            ko.applyBindingsToNode(\\n                element,\\n                {\\n                    value: stringified,\\n                    valueUpdate: allBindings.get('valueUpdate'),\\n                },\\n                context,\\n            );\\n        }\\n    };\\n    var json_data = {\\\"formatted_vals\\\":[\\\"0.1\\\",\\\"0.11\\\",\\\"0.12\\\",\\\"0.13\\\",\\\"0.14\\\",\\\"0.15\\\",\\\"0.16\\\",\\\"0.17\\\",\\\"0.18\\\",\\\"0.19\\\",\\\"0.2\\\",\\\"0.21\\\",\\\"0.22\\\",\\\"0.23\\\",\\\"0.24\\\",\\\"0.25\\\",\\\"0.26\\\",\\\"0.27\\\",\\\"0.28\\\",\\\"0.29\\\",\\\"0.3\\\",\\\"0.31\\\",\\\"0.32\\\",\\\"0.33\\\",\\\"0.34\\\",\\\"0.35\\\",\\\"0.36\\\",\\\"0.37\\\",\\\"0.38\\\",\\\"0.39\\\",\\\"0.4\\\",\\\"0.41\\\",\\\"0.42\\\",\\\"0.43\\\",\\\"0.44\\\",\\\"0.45\\\",\\\"0.46\\\",\\\"0.47\\\",\\\"0.48\\\",\\\"0.49\\\",\\\"0.5\\\",\\\"0.51\\\",\\\"0.52\\\",\\\"0.53\\\",\\\"0.54\\\",\\\"0.55\\\",\\\"0.56\\\",\\\"0.57\\\",\\\"0.58\\\",\\\"0.59\\\",\\\"0.6\\\",\\\"0.61\\\",\\\"0.62\\\",\\\"0.63\\\",\\\"0.64\\\",\\\"0.65\\\",\\\"0.66\\\",\\\"0.67\\\",\\\"0.68\\\",\\\"0.69\\\",\\\"0.7\\\",\\\"0.71\\\",\\\"0.72\\\",\\\"0.73\\\",\\\"0.74\\\",\\\"0.75\\\",\\\"0.76\\\",\\\"0.77\\\",\\\"0.78\\\",\\\"0.79\\\",\\\"0.8\\\",\\\"0.81\\\",\\\"0.82\\\",\\\"0.83\\\",\\\"0.84\\\",\\\"0.85\\\",\\\"0.86\\\",\\\"0.87\\\",\\\"0.88\\\",\\\"0.89\\\",\\\"0.9\\\",\\\"0.91\\\",\\\"0.92\\\",\\\"0.93\\\",\\\"0.94\\\",\\\"0.95\\\",\\\"0.96\\\",\\\"0.97\\\",\\\"0.98\\\",\\\"0.99\\\",\\\"1.0\\\",\\\"1.01\\\",\\\"1.02\\\",\\\"1.03\\\",\\\"1.04\\\",\\\"1.05\\\",\\\"1.06\\\",\\\"1.07\\\",\\\"1.08\\\",\\\"1.09\\\",\\\"1.1\\\",\\\"1.11\\\",\\\"1.12\\\",\\\"1.13\\\",\\\"1.14\\\",\\\"1.15\\\",\\\"1.16\\\",\\\"1.17\\\",\\\"1.18\\\",\\\"1.19\\\",\\\"1.2\\\",\\\"1.21\\\",\\\"1.22\\\",\\\"1.23\\\",\\\"1.24\\\",\\\"1.25\\\",\\\"1.26\\\",\\\"1.27\\\",\\\"1.28\\\",\\\"1.29\\\",\\\"1.3\\\",\\\"1.31\\\",\\\"1.32\\\",\\\"1.33\\\",\\\"1.34\\\",\\\"1.35\\\",\\\"1.36\\\",\\\"1.37\\\",\\\"1.38\\\",\\\"1.39\\\",\\\"1.4\\\",\\\"1.41\\\",\\\"1.42\\\",\\\"1.43\\\",\\\"1.44\\\",\\\"1.45\\\",\\\"1.46\\\",\\\"1.47\\\",\\\"1.48\\\",\\\"1.49\\\",\\\"1.5\\\",\\\"1.51\\\",\\\"1.52\\\",\\\"1.53\\\",\\\"1.54\\\",\\\"1.55\\\",\\\"1.56\\\",\\\"1.57\\\",\\\"1.58\\\",\\\"1.59\\\",\\\"1.6\\\",\\\"1.61\\\",\\\"1.62\\\",\\\"1.63\\\",\\\"1.64\\\",\\\"1.65\\\",\\\"1.66\\\",\\\"1.67\\\",\\\"1.68\\\",\\\"1.69\\\",\\\"1.7\\\",\\\"1.71\\\",\\\"1.72\\\",\\\"1.73\\\",\\\"1.74\\\",\\\"1.75\\\",\\\"1.76\\\",\\\"1.77\\\",\\\"1.78\\\",\\\"1.79\\\",\\\"1.8\\\",\\\"1.81\\\",\\\"1.82\\\",\\\"1.83\\\",\\\"1.84\\\",\\\"1.85\\\",\\\"1.86\\\",\\\"1.87\\\",\\\"1.88\\\",\\\"1.89\\\",\\\"1.9\\\",\\\"1.91\\\",\\\"1.92\\\",\\\"1.93\\\",\\\"1.94\\\",\\\"1.95\\\",\\\"1.96\\\",\\\"1.97\\\",\\\"1.98\\\",\\\"1.99\\\",\\\"2.0\\\",\\\"2.01\\\",\\\"2.02\\\",\\\"2.03\\\",\\\"2.04\\\",\\\"2.05\\\",\\\"2.06\\\",\\\"2.07\\\",\\\"2.08\\\",\\\"2.09\\\",\\\"2.1\\\",\\\"2.11\\\",\\\"2.12\\\",\\\"2.13\\\",\\\"2.14\\\",\\\"2.15\\\",\\\"2.16\\\",\\\"2.17\\\",\\\"2.18\\\",\\\"2.19\\\",\\\"2.2\\\",\\\"2.21\\\",\\\"2.22\\\",\\\"2.23\\\",\\\"2.24\\\",\\\"2.25\\\",\\\"2.26\\\",\\\"2.27\\\",\\\"2.28\\\",\\\"2.29\\\",\\\"2.3\\\",\\\"2.31\\\",\\\"2.32\\\",\\\"2.33\\\",\\\"2.34\\\",\\\"2.35\\\",\\\"2.36\\\",\\\"2.37\\\",\\\"2.38\\\",\\\"2.39\\\",\\\"2.4\\\",\\\"2.41\\\",\\\"2.42\\\",\\\"2.43\\\",\\\"2.44\\\",\\\"2.45\\\",\\\"2.46\\\",\\\"2.47\\\",\\\"2.48\\\",\\\"2.49\\\",\\\"2.5\\\",\\\"2.51\\\",\\\"2.52\\\",\\\"2.53\\\",\\\"2.54\\\",\\\"2.55\\\",\\\"2.56\\\",\\\"2.57\\\",\\\"2.58\\\",\\\"2.59\\\",\\\"2.6\\\",\\\"2.61\\\",\\\"2.62\\\",\\\"2.63\\\",\\\"2.64\\\",\\\"2.65\\\",\\\"2.66\\\",\\\"2.67\\\",\\\"2.68\\\",\\\"2.69\\\",\\\"2.7\\\",\\\"2.71\\\",\\\"2.72\\\",\\\"2.73\\\",\\\"2.74\\\",\\\"2.75\\\",\\\"2.76\\\",\\\"2.77\\\",\\\"2.78\\\",\\\"2.79\\\",\\\"2.8\\\",\\\"2.81\\\",\\\"2.82\\\",\\\"2.83\\\",\\\"2.84\\\",\\\"2.85\\\",\\\"2.86\\\",\\\"2.87\\\",\\\"2.88\\\",\\\"2.89\\\",\\\"2.9\\\",\\\"2.91\\\",\\\"2.92\\\",\\\"2.93\\\",\\\"2.94\\\",\\\"2.95\\\",\\\"2.96\\\",\\\"2.97\\\",\\\"2.98\\\",\\\"2.99\\\",\\\"3.0\\\",\\\"3.01\\\",\\\"3.02\\\",\\\"3.03\\\",\\\"3.04\\\",\\\"3.05\\\",\\\"3.06\\\",\\\"3.07\\\",\\\"3.08\\\",\\\"3.09\\\",\\\"3.1\\\",\\\"3.11\\\",\\\"3.12\\\",\\\"3.13\\\",\\\"3.14\\\",\\\"3.15\\\",\\\"3.16\\\",\\\"3.17\\\",\\\"3.18\\\",\\\"3.19\\\",\\\"3.2\\\",\\\"3.21\\\",\\\"3.22\\\",\\\"3.23\\\",\\\"3.24\\\",\\\"3.25\\\",\\\"3.26\\\",\\\"3.27\\\",\\\"3.28\\\",\\\"3.29\\\",\\\"3.3\\\",\\\"3.31\\\",\\\"3.32\\\",\\\"3.33\\\",\\\"3.34\\\",\\\"3.35\\\",\\\"3.36\\\",\\\"3.37\\\",\\\"3.38\\\",\\\"3.39\\\",\\\"3.4\\\",\\\"3.41\\\",\\\"3.42\\\",\\\"3.43\\\",\\\"3.44\\\",\\\"3.45\\\",\\\"3.46\\\",\\\"3.47\\\",\\\"3.48\\\",\\\"3.49\\\",\\\"3.5\\\",\\\"3.51\\\",\\\"3.52\\\",\\\"3.53\\\",\\\"3.54\\\",\\\"3.55\\\",\\\"3.56\\\",\\\"3.57\\\",\\\"3.58\\\",\\\"3.59\\\",\\\"3.6\\\",\\\"3.61\\\",\\\"3.62\\\",\\\"3.63\\\",\\\"3.64\\\",\\\"3.65\\\",\\\"3.66\\\",\\\"3.67\\\",\\\"3.68\\\",\\\"3.69\\\",\\\"3.7\\\",\\\"3.71\\\",\\\"3.72\\\",\\\"3.73\\\",\\\"3.74\\\",\\\"3.75\\\",\\\"3.76\\\",\\\"3.77\\\",\\\"3.78\\\",\\\"3.79\\\",\\\"3.8\\\",\\\"3.81\\\",\\\"3.82\\\",\\\"3.83\\\",\\\"3.84\\\",\\\"3.85\\\",\\\"3.86\\\",\\\"3.87\\\",\\\"3.88\\\",\\\"3.89\\\",\\\"3.9\\\",\\\"3.91\\\",\\\"3.92\\\",\\\"3.93\\\",\\\"3.94\\\",\\\"3.95\\\",\\\"3.96\\\",\\\"3.97\\\",\\\"3.98\\\",\\\"3.99\\\",\\\"4.0\\\",\\\"4.01\\\",\\\"4.02\\\",\\\"4.03\\\",\\\"4.04\\\",\\\"4.05\\\",\\\"4.06\\\",\\\"4.07\\\",\\\"4.08\\\",\\\"4.09\\\",\\\"4.1\\\",\\\"4.11\\\",\\\"4.12\\\",\\\"4.13\\\",\\\"4.14\\\",\\\"4.15\\\",\\\"4.16\\\",\\\"4.17\\\",\\\"4.18\\\",\\\"4.19\\\",\\\"4.2\\\",\\\"4.21\\\",\\\"4.22\\\",\\\"4.23\\\",\\\"4.24\\\",\\\"4.25\\\",\\\"4.26\\\",\\\"4.27\\\",\\\"4.28\\\",\\\"4.29\\\",\\\"4.3\\\",\\\"4.31\\\",\\\"4.32\\\",\\\"4.33\\\",\\\"4.34\\\",\\\"4.35\\\",\\\"4.36\\\",\\\"4.37\\\",\\\"4.38\\\",\\\"4.39\\\",\\\"4.4\\\",\\\"4.41\\\",\\\"4.42\\\",\\\"4.43\\\",\\\"4.44\\\",\\\"4.45\\\",\\\"4.46\\\",\\\"4.47\\\",\\\"4.48\\\",\\\"4.49\\\",\\\"4.5\\\",\\\"4.51\\\",\\\"4.52\\\",\\\"4.53\\\",\\\"4.54\\\",\\\"4.55\\\",\\\"4.56\\\",\\\"4.57\\\",\\\"4.58\\\",\\\"4.59\\\",\\\"4.6\\\",\\\"4.61\\\",\\\"4.62\\\",\\\"4.63\\\",\\\"4.64\\\",\\\"4.65\\\",\\\"4.66\\\",\\\"4.67\\\",\\\"4.68\\\",\\\"4.69\\\",\\\"4.7\\\",\\\"4.71\\\",\\\"4.72\\\",\\\"4.73\\\",\\\"4.74\\\",\\\"4.75\\\",\\\"4.76\\\",\\\"4.77\\\",\\\"4.78\\\",\\\"4.79\\\",\\\"4.8\\\",\\\"4.81\\\",\\\"4.82\\\",\\\"4.83\\\",\\\"4.84\\\",\\\"4.85\\\",\\\"4.86\\\",\\\"4.87\\\",\\\"4.88\\\",\\\"4.89\\\",\\\"4.9\\\",\\\"4.91\\\",\\\"4.92\\\",\\\"4.93\\\",\\\"4.94\\\",\\\"4.95\\\",\\\"4.96\\\",\\\"4.97\\\",\\\"4.98\\\",\\\"4.99\\\",\\\"5.0\\\",\\\"5.01\\\",\\\"5.02\\\",\\\"5.03\\\",\\\"5.04\\\",\\\"5.05\\\",\\\"5.06\\\",\\\"5.07\\\",\\\"5.08\\\",\\\"5.09\\\",\\\"5.1\\\",\\\"5.11\\\",\\\"5.12\\\",\\\"5.13\\\",\\\"5.14\\\",\\\"5.15\\\",\\\"5.16\\\",\\\"5.17\\\",\\\"5.18\\\",\\\"5.19\\\",\\\"5.2\\\",\\\"5.21\\\",\\\"5.22\\\",\\\"5.23\\\",\\\"5.24\\\",\\\"5.25\\\",\\\"5.26\\\",\\\"5.27\\\",\\\"5.28\\\",\\\"5.29\\\",\\\"5.3\\\",\\\"5.31\\\",\\\"5.32\\\",\\\"5.33\\\",\\\"5.34\\\",\\\"5.35\\\",\\\"5.36\\\",\\\"5.37\\\",\\\"5.38\\\",\\\"5.39\\\",\\\"5.4\\\",\\\"5.41\\\",\\\"5.42\\\",\\\"5.43\\\",\\\"5.44\\\",\\\"5.45\\\",\\\"5.46\\\",\\\"5.47\\\",\\\"5.48\\\",\\\"5.49\\\",\\\"5.5\\\",\\\"5.51\\\",\\\"5.52\\\",\\\"5.53\\\",\\\"5.54\\\",\\\"5.55\\\",\\\"5.56\\\",\\\"5.57\\\",\\\"5.58\\\",\\\"5.59\\\",\\\"5.6\\\",\\\"5.61\\\",\\\"5.62\\\",\\\"5.63\\\",\\\"5.64\\\",\\\"5.65\\\",\\\"5.66\\\",\\\"5.67\\\",\\\"5.68\\\",\\\"5.69\\\",\\\"5.7\\\",\\\"5.71\\\",\\\"5.72\\\",\\\"5.73\\\",\\\"5.74\\\",\\\"5.75\\\",\\\"5.76\\\",\\\"5.77\\\",\\\"5.78\\\",\\\"5.79\\\",\\\"5.8\\\",\\\"5.81\\\",\\\"5.82\\\",\\\"5.83\\\",\\\"5.84\\\",\\\"5.85\\\",\\\"5.86\\\",\\\"5.87\\\",\\\"5.88\\\",\\\"5.89\\\",\\\"5.9\\\",\\\"5.91\\\",\\\"5.92\\\",\\\"5.93\\\",\\\"5.94\\\",\\\"5.95\\\",\\\"5.96\\\",\\\"5.97\\\",\\\"5.98\\\",\\\"5.99\\\",\\\"6.0\\\",\\\"6.01\\\",\\\"6.02\\\",\\\"6.03\\\",\\\"6.04\\\",\\\"6.05\\\",\\\"6.06\\\",\\\"6.07\\\",\\\"6.08\\\",\\\"6.09\\\",\\\"6.1\\\",\\\"6.11\\\",\\\"6.12\\\",\\\"6.13\\\",\\\"6.14\\\",\\\"6.15\\\",\\\"6.16\\\",\\\"6.17\\\",\\\"6.18\\\",\\\"6.19\\\",\\\"6.2\\\",\\\"6.21\\\",\\\"6.22\\\",\\\"6.23\\\",\\\"6.24\\\",\\\"6.25\\\",\\\"6.26\\\",\\\"6.27\\\",\\\"6.28\\\",\\\"6.29\\\",\\\"6.3\\\",\\\"6.31\\\",\\\"6.32\\\",\\\"6.33\\\",\\\"6.34\\\",\\\"6.35\\\",\\\"6.36\\\",\\\"6.37\\\",\\\"6.38\\\",\\\"6.39\\\",\\\"6.4\\\",\\\"6.41\\\",\\\"6.42\\\",\\\"6.43\\\",\\\"6.44\\\",\\\"6.45\\\",\\\"6.46\\\",\\\"6.47\\\",\\\"6.48\\\",\\\"6.49\\\",\\\"6.5\\\",\\\"6.51\\\",\\\"6.52\\\",\\\"6.53\\\",\\\"6.54\\\",\\\"6.55\\\",\\\"6.56\\\",\\\"6.57\\\",\\\"6.58\\\",\\\"6.59\\\",\\\"6.6\\\",\\\"6.61\\\",\\\"6.62\\\",\\\"6.63\\\",\\\"6.64\\\",\\\"6.65\\\",\\\"6.66\\\",\\\"6.67\\\",\\\"6.68\\\",\\\"6.69\\\",\\\"6.7\\\",\\\"6.71\\\",\\\"6.72\\\",\\\"6.73\\\",\\\"6.74\\\",\\\"6.75\\\",\\\"6.76\\\",\\\"6.77\\\",\\\"6.78\\\",\\\"6.79\\\",\\\"6.8\\\",\\\"6.81\\\",\\\"6.82\\\",\\\"6.83\\\",\\\"6.84\\\",\\\"6.85\\\",\\\"6.86\\\",\\\"6.87\\\",\\\"6.88\\\",\\\"6.89\\\",\\\"6.9\\\",\\\"6.91\\\",\\\"6.92\\\",\\\"6.93\\\",\\\"6.94\\\",\\\"6.95\\\",\\\"6.96\\\",\\\"6.97\\\",\\\"6.98\\\",\\\"6.99\\\",\\\"7.0\\\",\\\"7.01\\\",\\\"7.02\\\",\\\"7.03\\\",\\\"7.04\\\",\\\"7.05\\\",\\\"7.06\\\",\\\"7.07\\\",\\\"7.08\\\",\\\"7.09\\\",\\\"7.1\\\",\\\"7.11\\\",\\\"7.12\\\",\\\"7.13\\\",\\\"7.14\\\",\\\"7.15\\\",\\\"7.16\\\",\\\"7.17\\\",\\\"7.18\\\",\\\"7.19\\\",\\\"7.2\\\",\\\"7.21\\\",\\\"7.22\\\",\\\"7.23\\\",\\\"7.24\\\",\\\"7.25\\\",\\\"7.26\\\",\\\"7.27\\\",\\\"7.28\\\",\\\"7.29\\\",\\\"7.3\\\",\\\"7.31\\\",\\\"7.32\\\",\\\"7.33\\\",\\\"7.34\\\",\\\"7.35\\\",\\\"7.36\\\",\\\"7.37\\\",\\\"7.38\\\",\\\"7.39\\\",\\\"7.4\\\",\\\"7.41\\\",\\\"7.42\\\",\\\"7.43\\\",\\\"7.44\\\",\\\"7.45\\\",\\\"7.46\\\",\\\"7.47\\\",\\\"7.48\\\",\\\"7.49\\\",\\\"7.5\\\",\\\"7.51\\\",\\\"7.52\\\",\\\"7.53\\\",\\\"7.54\\\",\\\"7.55\\\",\\\"7.56\\\",\\\"7.57\\\",\\\"7.58\\\",\\\"7.59\\\",\\\"7.6\\\",\\\"7.61\\\",\\\"7.62\\\",\\\"7.63\\\",\\\"7.64\\\",\\\"7.65\\\",\\\"7.66\\\",\\\"7.67\\\",\\\"7.68\\\",\\\"7.69\\\",\\\"7.7\\\",\\\"7.71\\\",\\\"7.72\\\",\\\"7.73\\\",\\\"7.74\\\",\\\"7.75\\\",\\\"7.76\\\",\\\"7.77\\\",\\\"7.78\\\",\\\"7.79\\\",\\\"7.8\\\",\\\"7.81\\\",\\\"7.82\\\",\\\"7.83\\\",\\\"7.84\\\",\\\"7.85\\\",\\\"7.86\\\",\\\"7.87\\\",\\\"7.88\\\",\\\"7.89\\\",\\\"7.9\\\",\\\"7.91\\\",\\\"7.92\\\",\\\"7.93\\\",\\\"7.94\\\",\\\"7.95\\\",\\\"7.96\\\",\\\"7.97\\\",\\\"7.98\\\",\\\"7.99\\\",\\\"8.0\\\",\\\"8.01\\\",\\\"8.02\\\",\\\"8.03\\\",\\\"8.04\\\",\\\"8.05\\\",\\\"8.06\\\",\\\"8.07\\\",\\\"8.08\\\",\\\"8.09\\\",\\\"8.1\\\",\\\"8.11\\\",\\\"8.12\\\",\\\"8.13\\\",\\\"8.14\\\",\\\"8.15\\\",\\\"8.16\\\",\\\"8.17\\\",\\\"8.18\\\",\\\"8.19\\\",\\\"8.2\\\",\\\"8.21\\\",\\\"8.22\\\",\\\"8.23\\\",\\\"8.24\\\",\\\"8.25\\\",\\\"8.26\\\",\\\"8.27\\\",\\\"8.28\\\",\\\"8.29\\\",\\\"8.3\\\",\\\"8.31\\\",\\\"8.32\\\",\\\"8.33\\\",\\\"8.34\\\",\\\"8.35\\\",\\\"8.36\\\",\\\"8.37\\\",\\\"8.38\\\",\\\"8.39\\\",\\\"8.4\\\",\\\"8.41\\\",\\\"8.42\\\",\\\"8.43\\\",\\\"8.44\\\",\\\"8.45\\\",\\\"8.46\\\",\\\"8.47\\\",\\\"8.48\\\",\\\"8.49\\\",\\\"8.5\\\",\\\"8.51\\\",\\\"8.52\\\",\\\"8.53\\\",\\\"8.54\\\",\\\"8.55\\\",\\\"8.56\\\",\\\"8.57\\\",\\\"8.58\\\",\\\"8.59\\\",\\\"8.6\\\",\\\"8.61\\\",\\\"8.62\\\",\\\"8.63\\\",\\\"8.64\\\",\\\"8.65\\\",\\\"8.66\\\",\\\"8.67\\\",\\\"8.68\\\",\\\"8.69\\\",\\\"8.7\\\",\\\"8.71\\\",\\\"8.72\\\",\\\"8.73\\\",\\\"8.74\\\",\\\"8.75\\\",\\\"8.76\\\",\\\"8.77\\\",\\\"8.78\\\",\\\"8.79\\\",\\\"8.8\\\",\\\"8.81\\\",\\\"8.82\\\",\\\"8.83\\\",\\\"8.84\\\",\\\"8.85\\\",\\\"8.86\\\",\\\"8.87\\\",\\\"8.88\\\",\\\"8.89\\\",\\\"8.9\\\",\\\"8.91\\\",\\\"8.92\\\",\\\"8.93\\\",\\\"8.94\\\",\\\"8.95\\\",\\\"8.96\\\",\\\"8.97\\\",\\\"8.98\\\",\\\"8.99\\\",\\\"9.0\\\",\\\"9.01\\\",\\\"9.02\\\",\\\"9.03\\\",\\\"9.04\\\",\\\"9.05\\\",\\\"9.06\\\",\\\"9.07\\\",\\\"9.08\\\",\\\"9.09\\\",\\\"9.1\\\",\\\"9.11\\\",\\\"9.12\\\",\\\"9.13\\\",\\\"9.14\\\",\\\"9.15\\\",\\\"9.16\\\",\\\"9.17\\\",\\\"9.18\\\",\\\"9.19\\\",\\\"9.2\\\",\\\"9.21\\\",\\\"9.22\\\",\\\"9.23\\\",\\\"9.24\\\",\\\"9.25\\\",\\\"9.26\\\",\\\"9.27\\\",\\\"9.28\\\",\\\"9.29\\\",\\\"9.3\\\",\\\"9.31\\\",\\\"9.32\\\",\\\"9.33\\\",\\\"9.34\\\",\\\"9.35\\\",\\\"9.36\\\",\\\"9.37\\\",\\\"9.38\\\",\\\"9.39\\\",\\\"9.4\\\",\\\"9.41\\\",\\\"9.42\\\",\\\"9.43\\\",\\\"9.44\\\",\\\"9.45\\\",\\\"9.46\\\",\\\"9.47\\\",\\\"9.48\\\",\\\"9.49\\\",\\\"9.5\\\",\\\"9.51\\\",\\\"9.52\\\",\\\"9.53\\\",\\\"9.54\\\",\\\"9.55\\\",\\\"9.56\\\",\\\"9.57\\\",\\\"9.58\\\",\\\"9.59\\\",\\\"9.6\\\",\\\"9.61\\\",\\\"9.62\\\",\\\"9.63\\\",\\\"9.64\\\",\\\"9.65\\\",\\\"9.66\\\",\\\"9.67\\\",\\\"9.68\\\",\\\"9.69\\\",\\\"9.7\\\",\\\"9.71\\\",\\\"9.72\\\",\\\"9.73\\\",\\\"9.74\\\",\\\"9.75\\\",\\\"9.76\\\",\\\"9.77\\\",\\\"9.78\\\",\\\"9.79\\\",\\\"9.8\\\",\\\"9.81\\\",\\\"9.82\\\",\\\"9.83\\\",\\\"9.84\\\",\\\"9.85\\\",\\\"9.86\\\",\\\"9.87\\\",\\\"9.88\\\",\\\"9.89\\\",\\\"9.9\\\",\\\"9.91\\\",\\\"9.92\\\",\\\"9.93\\\",\\\"9.94\\\",\\\"9.95\\\",\\\"9.96\\\",\\\"9.97\\\",\\\"9.98\\\",\\\"9.99\\\",\\\"10.0\\\"],\\\"changes\\\":WebIO.getval({\\\"name\\\":\\\"changes\\\",\\\"scope\\\":\\\"15698831480548399323\\\",\\\"id\\\":\\\"ob_15\\\",\\\"type\\\":\\\"observable\\\"}),\\\"index\\\":WebIO.getval({\\\"name\\\":\\\"index\\\",\\\"scope\\\":\\\"15698831480548399323\\\",\\\"id\\\":\\\"ob_14\\\",\\\"type\\\":\\\"observable\\\"})};\\n    var self = this;\\n    function AppViewModel() {\\n        for (var key in json_data) {\\n            var el = json_data[key];\\n            this[key] = Array.isArray(el) ? ko.observableArray(el) : ko.observable(el);\\n        }\\n        \\n        [this[\\\"formatted_val\\\"]=ko.computed(    function(){\\n        return this.formatted_vals()[parseInt(this.index())-(1)];\\n    }\\n,this)]\\n        [this[\\\"changes\\\"].subscribe((function (val){!(this.valueFromJulia[\\\"changes\\\"]) ? (WebIO.setval({\\\"name\\\":\\\"changes\\\",\\\"scope\\\":\\\"15698831480548399323\\\",\\\"id\\\":\\\"ob_15\\\",\\\"type\\\":\\\"observable\\\"},val)) : undefined; return this.valueFromJulia[\\\"changes\\\"]=false}),self),this[\\\"index\\\"].subscribe((function (val){!(this.valueFromJulia[\\\"index\\\"]) ? (WebIO.setval({\\\"name\\\":\\\"index\\\",\\\"scope\\\":\\\"15698831480548399323\\\",\\\"id\\\":\\\"ob_14\\\",\\\"type\\\":\\\"observable\\\"},val)) : undefined; return this.valueFromJulia[\\\"index\\\"]=false}),self)]\\n        \\n    }\\n    self.model = new AppViewModel();\\n    self.valueFromJulia = {};\\n    for (var key in json_data) {\\n        self.valueFromJulia[key] = false;\\n    }\\n    ko.applyBindings(self.model, self.dom);\\n}\\n);\\n    (WebIO.importBlock({\\\"data\\\":[{\\\"name\\\":\\\"knockout\\\",\\\"type\\\":\\\"js\\\",\\\"url\\\":\\\"\\/assetserver\\/fd311416c3fbf748771c2940b2ca4b79c53d1ab2-knockout.js\\\"},{\\\"name\\\":\\\"knockout_punches\\\",\\\"type\\\":\\\"js\\\",\\\"url\\\":\\\"\\/assetserver\\/148711b519458f42f1e7a22e5bdf7a74f9d5f8e0-knockout_punches.js\\\"}],\\\"type\\\":\\\"async_block\\\"})).then((imports) => handler.apply(this, imports));\\n}\\n\"],\"observables\":{\"changes\":{\"sync\":false,\"id\":\"ob_15\",\"value\":0},\"index\":{\"sync\":true,\"id\":\"ob_14\",\"value\":91}}},\"children\":[{\"props\":{\"className\":\"interact-flex-row interact-widget\"},\"nodeType\":\"DOM\",\"type\":\"node\",\"instanceArgs\":{\"namespace\":\"html\",\"tag\":\"div\"},\"children\":[{\"props\":{\"className\":\"interact-flex-row-left\"},\"nodeType\":\"DOM\",\"type\":\"node\",\"instanceArgs\":{\"namespace\":\"html\",\"tag\":\"div\"},\"children\":[{\"props\":{\"className\":\"interact \",\"style\":{\"padding\":\"5px 10px 0px 10px\"}},\"nodeType\":\"DOM\",\"type\":\"node\",\"instanceArgs\":{\"namespace\":\"html\",\"tag\":\"label\"},\"children\":[\"r1\"]}]},{\"props\":{\"className\":\"interact-flex-row-center\"},\"nodeType\":\"DOM\",\"type\":\"node\",\"instanceArgs\":{\"namespace\":\"html\",\"tag\":\"div\"},\"children\":[{\"props\":{\"max\":991,\"min\":1,\"attributes\":{\"type\":\"range\",\"data-bind\":\"numericValue: index, valueUpdate: 'input', event: {change: function (){this.changes(this.changes()+1)}}\",\"orient\":\"horizontal\"},\"step\":1,\"className\":\"slider slider is-fullwidth\",\"style\":{}},\"nodeType\":\"DOM\",\"type\":\"node\",\"instanceArgs\":{\"namespace\":\"html\",\"tag\":\"input\"},\"children\":[]}]},{\"props\":{\"className\":\"interact-flex-row-right\"},\"nodeType\":\"DOM\",\"type\":\"node\",\"instanceArgs\":{\"namespace\":\"html\",\"tag\":\"div\"},\"children\":[{\"props\":{\"attributes\":{\"data-bind\":\"text: formatted_val\"}},\"nodeType\":\"DOM\",\"type\":\"node\",\"instanceArgs\":{\"namespace\":\"html\",\"tag\":\"p\"},\"children\":[]}]}]}]}]},{\"props\":{\"className\":\"field interact-widget\"},\"nodeType\":\"DOM\",\"type\":\"node\",\"instanceArgs\":{\"namespace\":\"html\",\"tag\":\"div\"},\"children\":[{\"props\":{},\"nodeType\":\"Scope\",\"type\":\"node\",\"instanceArgs\":{\"imports\":{\"data\":[{\"name\":\"knockout\",\"type\":\"js\",\"url\":\"\\/assetserver\\/fd311416c3fbf748771c2940b2ca4b79c53d1ab2-knockout.js\"},{\"name\":\"knockout_punches\",\"type\":\"js\",\"url\":\"\\/assetserver\\/148711b519458f42f1e7a22e5bdf7a74f9d5f8e0-knockout_punches.js\"},{\"name\":null,\"type\":\"js\",\"url\":\"\\/assetserver\\/96387ddaa2b47f2577dbef3402b61deb55b692cb-all.js\"},{\"name\":null,\"type\":\"css\",\"url\":\"\\/assetserver\\/1205e2cb75bbf44a95189d9e430e22f4b3018051-style.css\"},{\"name\":null,\"type\":\"css\",\"url\":\"\\/assetserver\\/e47939cc599f2b791e3e3e81f0cfd77c1a048dd3-bulma_confined.min.css\"}],\"type\":\"async_block\"},\"id\":\"9079989127869400802\",\"handlers\":{\"changes\":[\"(function (val){return (val!=this.model[\\\"changes\\\"]()) ? (this.valueFromJulia[\\\"changes\\\"]=true, this.model[\\\"changes\\\"](val)) : undefined})\"],\"index\":[\"(function (val){return (val!=this.model[\\\"index\\\"]()) ? (this.valueFromJulia[\\\"index\\\"]=true, this.model[\\\"index\\\"](val)) : undefined})\"]},\"systemjs_options\":null,\"mount_callbacks\":[\"function () {\\n    var handler = (function (ko, koPunches) {\\n    ko.punches.enableAll();\\n    ko.bindingHandlers.numericValue = {\\n        init: function(element, valueAccessor, allBindings, data, context) {\\n            var stringified = ko.observable(ko.unwrap(valueAccessor()));\\n            stringified.subscribe(function(value) {\\n                var val = parseFloat(value);\\n                if (!isNaN(val)) {\\n                    valueAccessor()(val);\\n                }\\n            });\\n            valueAccessor().subscribe(function(value) {\\n                var str = JSON.stringify(value);\\n                if ((str == \\\"0\\\") && ([\\\"-0\\\", \\\"-0.\\\"].indexOf(stringified()) >= 0))\\n                     return;\\n                 if ([\\\"null\\\", \\\"\\\"].indexOf(str) >= 0)\\n                     return;\\n                stringified(str);\\n            });\\n            ko.applyBindingsToNode(\\n                element,\\n                {\\n                    value: stringified,\\n                    valueUpdate: allBindings.get('valueUpdate'),\\n                },\\n                context,\\n            );\\n        }\\n    };\\n    var json_data = {\\\"formatted_vals\\\":[\\\"0.1\\\",\\\"0.11\\\",\\\"0.12\\\",\\\"0.13\\\",\\\"0.14\\\",\\\"0.15\\\",\\\"0.16\\\",\\\"0.17\\\",\\\"0.18\\\",\\\"0.19\\\",\\\"0.2\\\",\\\"0.21\\\",\\\"0.22\\\",\\\"0.23\\\",\\\"0.24\\\",\\\"0.25\\\",\\\"0.26\\\",\\\"0.27\\\",\\\"0.28\\\",\\\"0.29\\\",\\\"0.3\\\",\\\"0.31\\\",\\\"0.32\\\",\\\"0.33\\\",\\\"0.34\\\",\\\"0.35\\\",\\\"0.36\\\",\\\"0.37\\\",\\\"0.38\\\",\\\"0.39\\\",\\\"0.4\\\",\\\"0.41\\\",\\\"0.42\\\",\\\"0.43\\\",\\\"0.44\\\",\\\"0.45\\\",\\\"0.46\\\",\\\"0.47\\\",\\\"0.48\\\",\\\"0.49\\\",\\\"0.5\\\",\\\"0.51\\\",\\\"0.52\\\",\\\"0.53\\\",\\\"0.54\\\",\\\"0.55\\\",\\\"0.56\\\",\\\"0.57\\\",\\\"0.58\\\",\\\"0.59\\\",\\\"0.6\\\",\\\"0.61\\\",\\\"0.62\\\",\\\"0.63\\\",\\\"0.64\\\",\\\"0.65\\\",\\\"0.66\\\",\\\"0.67\\\",\\\"0.68\\\",\\\"0.69\\\",\\\"0.7\\\",\\\"0.71\\\",\\\"0.72\\\",\\\"0.73\\\",\\\"0.74\\\",\\\"0.75\\\",\\\"0.76\\\",\\\"0.77\\\",\\\"0.78\\\",\\\"0.79\\\",\\\"0.8\\\",\\\"0.81\\\",\\\"0.82\\\",\\\"0.83\\\",\\\"0.84\\\",\\\"0.85\\\",\\\"0.86\\\",\\\"0.87\\\",\\\"0.88\\\",\\\"0.89\\\",\\\"0.9\\\",\\\"0.91\\\",\\\"0.92\\\",\\\"0.93\\\",\\\"0.94\\\",\\\"0.95\\\",\\\"0.96\\\",\\\"0.97\\\",\\\"0.98\\\",\\\"0.99\\\",\\\"1.0\\\",\\\"1.01\\\",\\\"1.02\\\",\\\"1.03\\\",\\\"1.04\\\",\\\"1.05\\\",\\\"1.06\\\",\\\"1.07\\\",\\\"1.08\\\",\\\"1.09\\\",\\\"1.1\\\",\\\"1.11\\\",\\\"1.12\\\",\\\"1.13\\\",\\\"1.14\\\",\\\"1.15\\\",\\\"1.16\\\",\\\"1.17\\\",\\\"1.18\\\",\\\"1.19\\\",\\\"1.2\\\",\\\"1.21\\\",\\\"1.22\\\",\\\"1.23\\\",\\\"1.24\\\",\\\"1.25\\\",\\\"1.26\\\",\\\"1.27\\\",\\\"1.28\\\",\\\"1.29\\\",\\\"1.3\\\",\\\"1.31\\\",\\\"1.32\\\",\\\"1.33\\\",\\\"1.34\\\",\\\"1.35\\\",\\\"1.36\\\",\\\"1.37\\\",\\\"1.38\\\",\\\"1.39\\\",\\\"1.4\\\",\\\"1.41\\\",\\\"1.42\\\",\\\"1.43\\\",\\\"1.44\\\",\\\"1.45\\\",\\\"1.46\\\",\\\"1.47\\\",\\\"1.48\\\",\\\"1.49\\\",\\\"1.5\\\",\\\"1.51\\\",\\\"1.52\\\",\\\"1.53\\\",\\\"1.54\\\",\\\"1.55\\\",\\\"1.56\\\",\\\"1.57\\\",\\\"1.58\\\",\\\"1.59\\\",\\\"1.6\\\",\\\"1.61\\\",\\\"1.62\\\",\\\"1.63\\\",\\\"1.64\\\",\\\"1.65\\\",\\\"1.66\\\",\\\"1.67\\\",\\\"1.68\\\",\\\"1.69\\\",\\\"1.7\\\",\\\"1.71\\\",\\\"1.72\\\",\\\"1.73\\\",\\\"1.74\\\",\\\"1.75\\\",\\\"1.76\\\",\\\"1.77\\\",\\\"1.78\\\",\\\"1.79\\\",\\\"1.8\\\",\\\"1.81\\\",\\\"1.82\\\",\\\"1.83\\\",\\\"1.84\\\",\\\"1.85\\\",\\\"1.86\\\",\\\"1.87\\\",\\\"1.88\\\",\\\"1.89\\\",\\\"1.9\\\",\\\"1.91\\\",\\\"1.92\\\",\\\"1.93\\\",\\\"1.94\\\",\\\"1.95\\\",\\\"1.96\\\",\\\"1.97\\\",\\\"1.98\\\",\\\"1.99\\\",\\\"2.0\\\",\\\"2.01\\\",\\\"2.02\\\",\\\"2.03\\\",\\\"2.04\\\",\\\"2.05\\\",\\\"2.06\\\",\\\"2.07\\\",\\\"2.08\\\",\\\"2.09\\\",\\\"2.1\\\",\\\"2.11\\\",\\\"2.12\\\",\\\"2.13\\\",\\\"2.14\\\",\\\"2.15\\\",\\\"2.16\\\",\\\"2.17\\\",\\\"2.18\\\",\\\"2.19\\\",\\\"2.2\\\",\\\"2.21\\\",\\\"2.22\\\",\\\"2.23\\\",\\\"2.24\\\",\\\"2.25\\\",\\\"2.26\\\",\\\"2.27\\\",\\\"2.28\\\",\\\"2.29\\\",\\\"2.3\\\",\\\"2.31\\\",\\\"2.32\\\",\\\"2.33\\\",\\\"2.34\\\",\\\"2.35\\\",\\\"2.36\\\",\\\"2.37\\\",\\\"2.38\\\",\\\"2.39\\\",\\\"2.4\\\",\\\"2.41\\\",\\\"2.42\\\",\\\"2.43\\\",\\\"2.44\\\",\\\"2.45\\\",\\\"2.46\\\",\\\"2.47\\\",\\\"2.48\\\",\\\"2.49\\\",\\\"2.5\\\",\\\"2.51\\\",\\\"2.52\\\",\\\"2.53\\\",\\\"2.54\\\",\\\"2.55\\\",\\\"2.56\\\",\\\"2.57\\\",\\\"2.58\\\",\\\"2.59\\\",\\\"2.6\\\",\\\"2.61\\\",\\\"2.62\\\",\\\"2.63\\\",\\\"2.64\\\",\\\"2.65\\\",\\\"2.66\\\",\\\"2.67\\\",\\\"2.68\\\",\\\"2.69\\\",\\\"2.7\\\",\\\"2.71\\\",\\\"2.72\\\",\\\"2.73\\\",\\\"2.74\\\",\\\"2.75\\\",\\\"2.76\\\",\\\"2.77\\\",\\\"2.78\\\",\\\"2.79\\\",\\\"2.8\\\",\\\"2.81\\\",\\\"2.82\\\",\\\"2.83\\\",\\\"2.84\\\",\\\"2.85\\\",\\\"2.86\\\",\\\"2.87\\\",\\\"2.88\\\",\\\"2.89\\\",\\\"2.9\\\",\\\"2.91\\\",\\\"2.92\\\",\\\"2.93\\\",\\\"2.94\\\",\\\"2.95\\\",\\\"2.96\\\",\\\"2.97\\\",\\\"2.98\\\",\\\"2.99\\\",\\\"3.0\\\",\\\"3.01\\\",\\\"3.02\\\",\\\"3.03\\\",\\\"3.04\\\",\\\"3.05\\\",\\\"3.06\\\",\\\"3.07\\\",\\\"3.08\\\",\\\"3.09\\\",\\\"3.1\\\",\\\"3.11\\\",\\\"3.12\\\",\\\"3.13\\\",\\\"3.14\\\",\\\"3.15\\\",\\\"3.16\\\",\\\"3.17\\\",\\\"3.18\\\",\\\"3.19\\\",\\\"3.2\\\",\\\"3.21\\\",\\\"3.22\\\",\\\"3.23\\\",\\\"3.24\\\",\\\"3.25\\\",\\\"3.26\\\",\\\"3.27\\\",\\\"3.28\\\",\\\"3.29\\\",\\\"3.3\\\",\\\"3.31\\\",\\\"3.32\\\",\\\"3.33\\\",\\\"3.34\\\",\\\"3.35\\\",\\\"3.36\\\",\\\"3.37\\\",\\\"3.38\\\",\\\"3.39\\\",\\\"3.4\\\",\\\"3.41\\\",\\\"3.42\\\",\\\"3.43\\\",\\\"3.44\\\",\\\"3.45\\\",\\\"3.46\\\",\\\"3.47\\\",\\\"3.48\\\",\\\"3.49\\\",\\\"3.5\\\",\\\"3.51\\\",\\\"3.52\\\",\\\"3.53\\\",\\\"3.54\\\",\\\"3.55\\\",\\\"3.56\\\",\\\"3.57\\\",\\\"3.58\\\",\\\"3.59\\\",\\\"3.6\\\",\\\"3.61\\\",\\\"3.62\\\",\\\"3.63\\\",\\\"3.64\\\",\\\"3.65\\\",\\\"3.66\\\",\\\"3.67\\\",\\\"3.68\\\",\\\"3.69\\\",\\\"3.7\\\",\\\"3.71\\\",\\\"3.72\\\",\\\"3.73\\\",\\\"3.74\\\",\\\"3.75\\\",\\\"3.76\\\",\\\"3.77\\\",\\\"3.78\\\",\\\"3.79\\\",\\\"3.8\\\",\\\"3.81\\\",\\\"3.82\\\",\\\"3.83\\\",\\\"3.84\\\",\\\"3.85\\\",\\\"3.86\\\",\\\"3.87\\\",\\\"3.88\\\",\\\"3.89\\\",\\\"3.9\\\",\\\"3.91\\\",\\\"3.92\\\",\\\"3.93\\\",\\\"3.94\\\",\\\"3.95\\\",\\\"3.96\\\",\\\"3.97\\\",\\\"3.98\\\",\\\"3.99\\\",\\\"4.0\\\",\\\"4.01\\\",\\\"4.02\\\",\\\"4.03\\\",\\\"4.04\\\",\\\"4.05\\\",\\\"4.06\\\",\\\"4.07\\\",\\\"4.08\\\",\\\"4.09\\\",\\\"4.1\\\",\\\"4.11\\\",\\\"4.12\\\",\\\"4.13\\\",\\\"4.14\\\",\\\"4.15\\\",\\\"4.16\\\",\\\"4.17\\\",\\\"4.18\\\",\\\"4.19\\\",\\\"4.2\\\",\\\"4.21\\\",\\\"4.22\\\",\\\"4.23\\\",\\\"4.24\\\",\\\"4.25\\\",\\\"4.26\\\",\\\"4.27\\\",\\\"4.28\\\",\\\"4.29\\\",\\\"4.3\\\",\\\"4.31\\\",\\\"4.32\\\",\\\"4.33\\\",\\\"4.34\\\",\\\"4.35\\\",\\\"4.36\\\",\\\"4.37\\\",\\\"4.38\\\",\\\"4.39\\\",\\\"4.4\\\",\\\"4.41\\\",\\\"4.42\\\",\\\"4.43\\\",\\\"4.44\\\",\\\"4.45\\\",\\\"4.46\\\",\\\"4.47\\\",\\\"4.48\\\",\\\"4.49\\\",\\\"4.5\\\",\\\"4.51\\\",\\\"4.52\\\",\\\"4.53\\\",\\\"4.54\\\",\\\"4.55\\\",\\\"4.56\\\",\\\"4.57\\\",\\\"4.58\\\",\\\"4.59\\\",\\\"4.6\\\",\\\"4.61\\\",\\\"4.62\\\",\\\"4.63\\\",\\\"4.64\\\",\\\"4.65\\\",\\\"4.66\\\",\\\"4.67\\\",\\\"4.68\\\",\\\"4.69\\\",\\\"4.7\\\",\\\"4.71\\\",\\\"4.72\\\",\\\"4.73\\\",\\\"4.74\\\",\\\"4.75\\\",\\\"4.76\\\",\\\"4.77\\\",\\\"4.78\\\",\\\"4.79\\\",\\\"4.8\\\",\\\"4.81\\\",\\\"4.82\\\",\\\"4.83\\\",\\\"4.84\\\",\\\"4.85\\\",\\\"4.86\\\",\\\"4.87\\\",\\\"4.88\\\",\\\"4.89\\\",\\\"4.9\\\",\\\"4.91\\\",\\\"4.92\\\",\\\"4.93\\\",\\\"4.94\\\",\\\"4.95\\\",\\\"4.96\\\",\\\"4.97\\\",\\\"4.98\\\",\\\"4.99\\\",\\\"5.0\\\",\\\"5.01\\\",\\\"5.02\\\",\\\"5.03\\\",\\\"5.04\\\",\\\"5.05\\\",\\\"5.06\\\",\\\"5.07\\\",\\\"5.08\\\",\\\"5.09\\\",\\\"5.1\\\",\\\"5.11\\\",\\\"5.12\\\",\\\"5.13\\\",\\\"5.14\\\",\\\"5.15\\\",\\\"5.16\\\",\\\"5.17\\\",\\\"5.18\\\",\\\"5.19\\\",\\\"5.2\\\",\\\"5.21\\\",\\\"5.22\\\",\\\"5.23\\\",\\\"5.24\\\",\\\"5.25\\\",\\\"5.26\\\",\\\"5.27\\\",\\\"5.28\\\",\\\"5.29\\\",\\\"5.3\\\",\\\"5.31\\\",\\\"5.32\\\",\\\"5.33\\\",\\\"5.34\\\",\\\"5.35\\\",\\\"5.36\\\",\\\"5.37\\\",\\\"5.38\\\",\\\"5.39\\\",\\\"5.4\\\",\\\"5.41\\\",\\\"5.42\\\",\\\"5.43\\\",\\\"5.44\\\",\\\"5.45\\\",\\\"5.46\\\",\\\"5.47\\\",\\\"5.48\\\",\\\"5.49\\\",\\\"5.5\\\",\\\"5.51\\\",\\\"5.52\\\",\\\"5.53\\\",\\\"5.54\\\",\\\"5.55\\\",\\\"5.56\\\",\\\"5.57\\\",\\\"5.58\\\",\\\"5.59\\\",\\\"5.6\\\",\\\"5.61\\\",\\\"5.62\\\",\\\"5.63\\\",\\\"5.64\\\",\\\"5.65\\\",\\\"5.66\\\",\\\"5.67\\\",\\\"5.68\\\",\\\"5.69\\\",\\\"5.7\\\",\\\"5.71\\\",\\\"5.72\\\",\\\"5.73\\\",\\\"5.74\\\",\\\"5.75\\\",\\\"5.76\\\",\\\"5.77\\\",\\\"5.78\\\",\\\"5.79\\\",\\\"5.8\\\",\\\"5.81\\\",\\\"5.82\\\",\\\"5.83\\\",\\\"5.84\\\",\\\"5.85\\\",\\\"5.86\\\",\\\"5.87\\\",\\\"5.88\\\",\\\"5.89\\\",\\\"5.9\\\",\\\"5.91\\\",\\\"5.92\\\",\\\"5.93\\\",\\\"5.94\\\",\\\"5.95\\\",\\\"5.96\\\",\\\"5.97\\\",\\\"5.98\\\",\\\"5.99\\\",\\\"6.0\\\",\\\"6.01\\\",\\\"6.02\\\",\\\"6.03\\\",\\\"6.04\\\",\\\"6.05\\\",\\\"6.06\\\",\\\"6.07\\\",\\\"6.08\\\",\\\"6.09\\\",\\\"6.1\\\",\\\"6.11\\\",\\\"6.12\\\",\\\"6.13\\\",\\\"6.14\\\",\\\"6.15\\\",\\\"6.16\\\",\\\"6.17\\\",\\\"6.18\\\",\\\"6.19\\\",\\\"6.2\\\",\\\"6.21\\\",\\\"6.22\\\",\\\"6.23\\\",\\\"6.24\\\",\\\"6.25\\\",\\\"6.26\\\",\\\"6.27\\\",\\\"6.28\\\",\\\"6.29\\\",\\\"6.3\\\",\\\"6.31\\\",\\\"6.32\\\",\\\"6.33\\\",\\\"6.34\\\",\\\"6.35\\\",\\\"6.36\\\",\\\"6.37\\\",\\\"6.38\\\",\\\"6.39\\\",\\\"6.4\\\",\\\"6.41\\\",\\\"6.42\\\",\\\"6.43\\\",\\\"6.44\\\",\\\"6.45\\\",\\\"6.46\\\",\\\"6.47\\\",\\\"6.48\\\",\\\"6.49\\\",\\\"6.5\\\",\\\"6.51\\\",\\\"6.52\\\",\\\"6.53\\\",\\\"6.54\\\",\\\"6.55\\\",\\\"6.56\\\",\\\"6.57\\\",\\\"6.58\\\",\\\"6.59\\\",\\\"6.6\\\",\\\"6.61\\\",\\\"6.62\\\",\\\"6.63\\\",\\\"6.64\\\",\\\"6.65\\\",\\\"6.66\\\",\\\"6.67\\\",\\\"6.68\\\",\\\"6.69\\\",\\\"6.7\\\",\\\"6.71\\\",\\\"6.72\\\",\\\"6.73\\\",\\\"6.74\\\",\\\"6.75\\\",\\\"6.76\\\",\\\"6.77\\\",\\\"6.78\\\",\\\"6.79\\\",\\\"6.8\\\",\\\"6.81\\\",\\\"6.82\\\",\\\"6.83\\\",\\\"6.84\\\",\\\"6.85\\\",\\\"6.86\\\",\\\"6.87\\\",\\\"6.88\\\",\\\"6.89\\\",\\\"6.9\\\",\\\"6.91\\\",\\\"6.92\\\",\\\"6.93\\\",\\\"6.94\\\",\\\"6.95\\\",\\\"6.96\\\",\\\"6.97\\\",\\\"6.98\\\",\\\"6.99\\\",\\\"7.0\\\",\\\"7.01\\\",\\\"7.02\\\",\\\"7.03\\\",\\\"7.04\\\",\\\"7.05\\\",\\\"7.06\\\",\\\"7.07\\\",\\\"7.08\\\",\\\"7.09\\\",\\\"7.1\\\",\\\"7.11\\\",\\\"7.12\\\",\\\"7.13\\\",\\\"7.14\\\",\\\"7.15\\\",\\\"7.16\\\",\\\"7.17\\\",\\\"7.18\\\",\\\"7.19\\\",\\\"7.2\\\",\\\"7.21\\\",\\\"7.22\\\",\\\"7.23\\\",\\\"7.24\\\",\\\"7.25\\\",\\\"7.26\\\",\\\"7.27\\\",\\\"7.28\\\",\\\"7.29\\\",\\\"7.3\\\",\\\"7.31\\\",\\\"7.32\\\",\\\"7.33\\\",\\\"7.34\\\",\\\"7.35\\\",\\\"7.36\\\",\\\"7.37\\\",\\\"7.38\\\",\\\"7.39\\\",\\\"7.4\\\",\\\"7.41\\\",\\\"7.42\\\",\\\"7.43\\\",\\\"7.44\\\",\\\"7.45\\\",\\\"7.46\\\",\\\"7.47\\\",\\\"7.48\\\",\\\"7.49\\\",\\\"7.5\\\",\\\"7.51\\\",\\\"7.52\\\",\\\"7.53\\\",\\\"7.54\\\",\\\"7.55\\\",\\\"7.56\\\",\\\"7.57\\\",\\\"7.58\\\",\\\"7.59\\\",\\\"7.6\\\",\\\"7.61\\\",\\\"7.62\\\",\\\"7.63\\\",\\\"7.64\\\",\\\"7.65\\\",\\\"7.66\\\",\\\"7.67\\\",\\\"7.68\\\",\\\"7.69\\\",\\\"7.7\\\",\\\"7.71\\\",\\\"7.72\\\",\\\"7.73\\\",\\\"7.74\\\",\\\"7.75\\\",\\\"7.76\\\",\\\"7.77\\\",\\\"7.78\\\",\\\"7.79\\\",\\\"7.8\\\",\\\"7.81\\\",\\\"7.82\\\",\\\"7.83\\\",\\\"7.84\\\",\\\"7.85\\\",\\\"7.86\\\",\\\"7.87\\\",\\\"7.88\\\",\\\"7.89\\\",\\\"7.9\\\",\\\"7.91\\\",\\\"7.92\\\",\\\"7.93\\\",\\\"7.94\\\",\\\"7.95\\\",\\\"7.96\\\",\\\"7.97\\\",\\\"7.98\\\",\\\"7.99\\\",\\\"8.0\\\",\\\"8.01\\\",\\\"8.02\\\",\\\"8.03\\\",\\\"8.04\\\",\\\"8.05\\\",\\\"8.06\\\",\\\"8.07\\\",\\\"8.08\\\",\\\"8.09\\\",\\\"8.1\\\",\\\"8.11\\\",\\\"8.12\\\",\\\"8.13\\\",\\\"8.14\\\",\\\"8.15\\\",\\\"8.16\\\",\\\"8.17\\\",\\\"8.18\\\",\\\"8.19\\\",\\\"8.2\\\",\\\"8.21\\\",\\\"8.22\\\",\\\"8.23\\\",\\\"8.24\\\",\\\"8.25\\\",\\\"8.26\\\",\\\"8.27\\\",\\\"8.28\\\",\\\"8.29\\\",\\\"8.3\\\",\\\"8.31\\\",\\\"8.32\\\",\\\"8.33\\\",\\\"8.34\\\",\\\"8.35\\\",\\\"8.36\\\",\\\"8.37\\\",\\\"8.38\\\",\\\"8.39\\\",\\\"8.4\\\",\\\"8.41\\\",\\\"8.42\\\",\\\"8.43\\\",\\\"8.44\\\",\\\"8.45\\\",\\\"8.46\\\",\\\"8.47\\\",\\\"8.48\\\",\\\"8.49\\\",\\\"8.5\\\",\\\"8.51\\\",\\\"8.52\\\",\\\"8.53\\\",\\\"8.54\\\",\\\"8.55\\\",\\\"8.56\\\",\\\"8.57\\\",\\\"8.58\\\",\\\"8.59\\\",\\\"8.6\\\",\\\"8.61\\\",\\\"8.62\\\",\\\"8.63\\\",\\\"8.64\\\",\\\"8.65\\\",\\\"8.66\\\",\\\"8.67\\\",\\\"8.68\\\",\\\"8.69\\\",\\\"8.7\\\",\\\"8.71\\\",\\\"8.72\\\",\\\"8.73\\\",\\\"8.74\\\",\\\"8.75\\\",\\\"8.76\\\",\\\"8.77\\\",\\\"8.78\\\",\\\"8.79\\\",\\\"8.8\\\",\\\"8.81\\\",\\\"8.82\\\",\\\"8.83\\\",\\\"8.84\\\",\\\"8.85\\\",\\\"8.86\\\",\\\"8.87\\\",\\\"8.88\\\",\\\"8.89\\\",\\\"8.9\\\",\\\"8.91\\\",\\\"8.92\\\",\\\"8.93\\\",\\\"8.94\\\",\\\"8.95\\\",\\\"8.96\\\",\\\"8.97\\\",\\\"8.98\\\",\\\"8.99\\\",\\\"9.0\\\",\\\"9.01\\\",\\\"9.02\\\",\\\"9.03\\\",\\\"9.04\\\",\\\"9.05\\\",\\\"9.06\\\",\\\"9.07\\\",\\\"9.08\\\",\\\"9.09\\\",\\\"9.1\\\",\\\"9.11\\\",\\\"9.12\\\",\\\"9.13\\\",\\\"9.14\\\",\\\"9.15\\\",\\\"9.16\\\",\\\"9.17\\\",\\\"9.18\\\",\\\"9.19\\\",\\\"9.2\\\",\\\"9.21\\\",\\\"9.22\\\",\\\"9.23\\\",\\\"9.24\\\",\\\"9.25\\\",\\\"9.26\\\",\\\"9.27\\\",\\\"9.28\\\",\\\"9.29\\\",\\\"9.3\\\",\\\"9.31\\\",\\\"9.32\\\",\\\"9.33\\\",\\\"9.34\\\",\\\"9.35\\\",\\\"9.36\\\",\\\"9.37\\\",\\\"9.38\\\",\\\"9.39\\\",\\\"9.4\\\",\\\"9.41\\\",\\\"9.42\\\",\\\"9.43\\\",\\\"9.44\\\",\\\"9.45\\\",\\\"9.46\\\",\\\"9.47\\\",\\\"9.48\\\",\\\"9.49\\\",\\\"9.5\\\",\\\"9.51\\\",\\\"9.52\\\",\\\"9.53\\\",\\\"9.54\\\",\\\"9.55\\\",\\\"9.56\\\",\\\"9.57\\\",\\\"9.58\\\",\\\"9.59\\\",\\\"9.6\\\",\\\"9.61\\\",\\\"9.62\\\",\\\"9.63\\\",\\\"9.64\\\",\\\"9.65\\\",\\\"9.66\\\",\\\"9.67\\\",\\\"9.68\\\",\\\"9.69\\\",\\\"9.7\\\",\\\"9.71\\\",\\\"9.72\\\",\\\"9.73\\\",\\\"9.74\\\",\\\"9.75\\\",\\\"9.76\\\",\\\"9.77\\\",\\\"9.78\\\",\\\"9.79\\\",\\\"9.8\\\",\\\"9.81\\\",\\\"9.82\\\",\\\"9.83\\\",\\\"9.84\\\",\\\"9.85\\\",\\\"9.86\\\",\\\"9.87\\\",\\\"9.88\\\",\\\"9.89\\\",\\\"9.9\\\",\\\"9.91\\\",\\\"9.92\\\",\\\"9.93\\\",\\\"9.94\\\",\\\"9.95\\\",\\\"9.96\\\",\\\"9.97\\\",\\\"9.98\\\",\\\"9.99\\\",\\\"10.0\\\"],\\\"changes\\\":WebIO.getval({\\\"name\\\":\\\"changes\\\",\\\"scope\\\":\\\"9079989127869400802\\\",\\\"id\\\":\\\"ob_18\\\",\\\"type\\\":\\\"observable\\\"}),\\\"index\\\":WebIO.getval({\\\"name\\\":\\\"index\\\",\\\"scope\\\":\\\"9079989127869400802\\\",\\\"id\\\":\\\"ob_17\\\",\\\"type\\\":\\\"observable\\\"})};\\n    var self = this;\\n    function AppViewModel() {\\n        for (var key in json_data) {\\n            var el = json_data[key];\\n            this[key] = Array.isArray(el) ? ko.observableArray(el) : ko.observable(el);\\n        }\\n        \\n        [this[\\\"formatted_val\\\"]=ko.computed(    function(){\\n        return this.formatted_vals()[parseInt(this.index())-(1)];\\n    }\\n,this)]\\n        [this[\\\"changes\\\"].subscribe((function (val){!(this.valueFromJulia[\\\"changes\\\"]) ? (WebIO.setval({\\\"name\\\":\\\"changes\\\",\\\"scope\\\":\\\"9079989127869400802\\\",\\\"id\\\":\\\"ob_18\\\",\\\"type\\\":\\\"observable\\\"},val)) : undefined; return this.valueFromJulia[\\\"changes\\\"]=false}),self),this[\\\"index\\\"].subscribe((function (val){!(this.valueFromJulia[\\\"index\\\"]) ? (WebIO.setval({\\\"name\\\":\\\"index\\\",\\\"scope\\\":\\\"9079989127869400802\\\",\\\"id\\\":\\\"ob_17\\\",\\\"type\\\":\\\"observable\\\"},val)) : undefined; return this.valueFromJulia[\\\"index\\\"]=false}),self)]\\n        \\n    }\\n    self.model = new AppViewModel();\\n    self.valueFromJulia = {};\\n    for (var key in json_data) {\\n        self.valueFromJulia[key] = false;\\n    }\\n    ko.applyBindings(self.model, self.dom);\\n}\\n);\\n    (WebIO.importBlock({\\\"data\\\":[{\\\"name\\\":\\\"knockout\\\",\\\"type\\\":\\\"js\\\",\\\"url\\\":\\\"\\/assetserver\\/fd311416c3fbf748771c2940b2ca4b79c53d1ab2-knockout.js\\\"},{\\\"name\\\":\\\"knockout_punches\\\",\\\"type\\\":\\\"js\\\",\\\"url\\\":\\\"\\/assetserver\\/148711b519458f42f1e7a22e5bdf7a74f9d5f8e0-knockout_punches.js\\\"}],\\\"type\\\":\\\"async_block\\\"})).then((imports) => handler.apply(this, imports));\\n}\\n\"],\"observables\":{\"changes\":{\"sync\":false,\"id\":\"ob_18\",\"value\":0},\"index\":{\"sync\":true,\"id\":\"ob_17\",\"value\":191}}},\"children\":[{\"props\":{\"className\":\"interact-flex-row interact-widget\"},\"nodeType\":\"DOM\",\"type\":\"node\",\"instanceArgs\":{\"namespace\":\"html\",\"tag\":\"div\"},\"children\":[{\"props\":{\"className\":\"interact-flex-row-left\"},\"nodeType\":\"DOM\",\"type\":\"node\",\"instanceArgs\":{\"namespace\":\"html\",\"tag\":\"div\"},\"children\":[{\"props\":{\"className\":\"interact \",\"style\":{\"padding\":\"5px 10px 0px 10px\"}},\"nodeType\":\"DOM\",\"type\":\"node\",\"instanceArgs\":{\"namespace\":\"html\",\"tag\":\"label\"},\"children\":[\"r2\"]}]},{\"props\":{\"className\":\"interact-flex-row-center\"},\"nodeType\":\"DOM\",\"type\":\"node\",\"instanceArgs\":{\"namespace\":\"html\",\"tag\":\"div\"},\"children\":[{\"props\":{\"max\":991,\"min\":1,\"attributes\":{\"type\":\"range\",\"data-bind\":\"numericValue: index, valueUpdate: 'input', event: {change: function (){this.changes(this.changes()+1)}}\",\"orient\":\"horizontal\"},\"step\":1,\"className\":\"slider slider is-fullwidth\",\"style\":{}},\"nodeType\":\"DOM\",\"type\":\"node\",\"instanceArgs\":{\"namespace\":\"html\",\"tag\":\"input\"},\"children\":[]}]},{\"props\":{\"className\":\"interact-flex-row-right\"},\"nodeType\":\"DOM\",\"type\":\"node\",\"instanceArgs\":{\"namespace\":\"html\",\"tag\":\"div\"},\"children\":[{\"props\":{\"attributes\":{\"data-bind\":\"text: formatted_val\"}},\"nodeType\":\"DOM\",\"type\":\"node\",\"instanceArgs\":{\"namespace\":\"html\",\"tag\":\"p\"},\"children\":[]}]}]}]}]},{\"props\":{},\"nodeType\":\"Scope\",\"type\":\"node\",\"instanceArgs\":{\"imports\":{\"data\":[],\"type\":\"async_block\"},\"id\":\"15840686194917441072\",\"handlers\":{},\"systemjs_options\":null,\"mount_callbacks\":[],\"observables\":{\"obs-node\":{\"sync\":false,\"id\":\"ob_22\",\"value\":{\"props\":{\"className\":\"interact-flex-row interact-widget\"},\"nodeType\":\"DOM\",\"type\":\"node\",\"instanceArgs\":{\"namespace\":\"html\",\"tag\":\"div\"},\"children\":[{\"props\":{\"setInnerHtml\":\"<?xml version=\\\"1.0\\\" encoding=\\\"utf-8\\\"?>\\n<svg xmlns=\\\"http:\\/\\/www.w3.org\\/2000\\/svg\\\" xmlns:xlink=\\\"http:\\/\\/www.w3.org\\/1999\\/xlink\\\" width=\\\"600\\\" height=\\\"400\\\" viewBox=\\\"0 0 2400 1600\\\">\\n<defs>\\n  <clipPath id=\\\"clip4300\\\">\\n    <rect x=\\\"0\\\" y=\\\"0\\\" width=\\\"2400\\\" height=\\\"1600\\\"\\/>\\n  <\\/clipPath>\\n<\\/defs>\\n<polygon clip-path=\\\"url(#clip4300)\\\" points=\\\"\\n0,1600 2400,1600 2400,0 0,0 \\n  \\\" fill=\\\"#ffffff\\\" fill-rule=\\\"evenodd\\\" fill-opacity=\\\"1\\\"\\/>\\n<defs>\\n  <clipPath id=\\\"clip4301\\\">\\n    <rect x=\\\"480\\\" y=\\\"0\\\" width=\\\"1681\\\" height=\\\"1600\\\"\\/>\\n  <\\/clipPath>\\n<\\/defs>\\n<polygon clip-path=\\\"url(#clip4300)\\\" points=\\\"\\n215.754,1425.62 2352.76,1425.62 2352.76,47.2441 215.754,47.2441 \\n  \\\" fill=\\\"#ffffff\\\" fill-rule=\\\"evenodd\\\" fill-opacity=\\\"1\\\"\\/>\\n<defs>\\n  <clipPath id=\\\"clip4302\\\">\\n    <rect x=\\\"215\\\" y=\\\"47\\\" width=\\\"2138\\\" height=\\\"1379\\\"\\/>\\n  <\\/clipPath>\\n<\\/defs>\\n<polyline clip-path=\\\"url(#clip4302)\\\" style=\\\"stroke:#000000; stroke-width:2; stroke-opacity:0.1; fill:none\\\" points=\\\"\\n  215.754,1425.62 215.754,47.2441 \\n  \\\"\\/>\\n<polyline clip-path=\\\"url(#clip4302)\\\" style=\\\"stroke:#000000; stroke-width:2; stroke-opacity:0.1; fill:none\\\" points=\\\"\\n  643.154,1425.62 643.154,47.2441 \\n  \\\"\\/>\\n<polyline clip-path=\\\"url(#clip4302)\\\" style=\\\"stroke:#000000; stroke-width:2; stroke-opacity:0.1; fill:none\\\" points=\\\"\\n  1070.55,1425.62 1070.55,47.2441 \\n  \\\"\\/>\\n<polyline clip-path=\\\"url(#clip4302)\\\" style=\\\"stroke:#000000; stroke-width:2; stroke-opacity:0.1; fill:none\\\" points=\\\"\\n  1497.96,1425.62 1497.96,47.2441 \\n  \\\"\\/>\\n<polyline clip-path=\\\"url(#clip4302)\\\" style=\\\"stroke:#000000; stroke-width:2; stroke-opacity:0.1; fill:none\\\" points=\\\"\\n  1925.36,1425.62 1925.36,47.2441 \\n  \\\"\\/>\\n<polyline clip-path=\\\"url(#clip4302)\\\" style=\\\"stroke:#000000; stroke-width:2; stroke-opacity:0.1; fill:none\\\" points=\\\"\\n  2352.76,1425.62 2352.76,47.2441 \\n  \\\"\\/>\\n<polyline clip-path=\\\"url(#clip4302)\\\" style=\\\"stroke:#000000; stroke-width:2; stroke-opacity:0.1; fill:none\\\" points=\\\"\\n  215.754,1386.61 2352.76,1386.61 \\n  \\\"\\/>\\n<polyline clip-path=\\\"url(#clip4302)\\\" style=\\\"stroke:#000000; stroke-width:2; stroke-opacity:0.1; fill:none\\\" points=\\\"\\n  215.754,1077.77 2352.76,1077.77 \\n  \\\"\\/>\\n<polyline clip-path=\\\"url(#clip4302)\\\" style=\\\"stroke:#000000; stroke-width:2; stroke-opacity:0.1; fill:none\\\" points=\\\"\\n  215.754,768.94 2352.76,768.94 \\n  \\\"\\/>\\n<polyline clip-path=\\\"url(#clip4302)\\\" style=\\\"stroke:#000000; stroke-width:2; stroke-opacity:0.1; fill:none\\\" points=\\\"\\n  215.754,460.106 2352.76,460.106 \\n  \\\"\\/>\\n<polyline clip-path=\\\"url(#clip4302)\\\" style=\\\"stroke:#000000; stroke-width:2; stroke-opacity:0.1; fill:none\\\" points=\\\"\\n  215.754,151.272 2352.76,151.272 \\n  \\\"\\/>\\n<polyline clip-path=\\\"url(#clip4300)\\\" style=\\\"stroke:#000000; stroke-width:4; stroke-opacity:1; fill:none\\\" points=\\\"\\n  215.754,1425.62 2352.76,1425.62 \\n  \\\"\\/>\\n<polyline clip-path=\\\"url(#clip4300)\\\" style=\\\"stroke:#000000; stroke-width:4; stroke-opacity:1; fill:none\\\" points=\\\"\\n  215.754,1425.62 215.754,47.2441 \\n  \\\"\\/>\\n<polyline clip-path=\\\"url(#clip4300)\\\" style=\\\"stroke:#000000; stroke-width:4; stroke-opacity:1; fill:none\\\" points=\\\"\\n  215.754,1425.62 215.754,1404.94 \\n  \\\"\\/>\\n<polyline clip-path=\\\"url(#clip4300)\\\" style=\\\"stroke:#000000; stroke-width:4; stroke-opacity:1; fill:none\\\" points=\\\"\\n  643.154,1425.62 643.154,1404.94 \\n  \\\"\\/>\\n<polyline clip-path=\\\"url(#clip4300)\\\" style=\\\"stroke:#000000; stroke-width:4; stroke-opacity:1; fill:none\\\" points=\\\"\\n  1070.55,1425.62 1070.55,1404.94 \\n  \\\"\\/>\\n<polyline clip-path=\\\"url(#clip4300)\\\" style=\\\"stroke:#000000; stroke-width:4; stroke-opacity:1; fill:none\\\" points=\\\"\\n  1497.96,1425.62 1497.96,1404.94 \\n  \\\"\\/>\\n<polyline clip-path=\\\"url(#clip4300)\\\" style=\\\"stroke:#000000; stroke-width:4; stroke-opacity:1; fill:none\\\" points=\\\"\\n  1925.36,1425.62 1925.36,1404.94 \\n  \\\"\\/>\\n<polyline clip-path=\\\"url(#clip4300)\\\" style=\\\"stroke:#000000; stroke-width:4; stroke-opacity:1; fill:none\\\" points=\\\"\\n  2352.76,1425.62 2352.76,1404.94 \\n  \\\"\\/>\\n<polyline clip-path=\\\"url(#clip4300)\\\" style=\\\"stroke:#000000; stroke-width:4; stroke-opacity:1; fill:none\\\" points=\\\"\\n  215.754,1386.61 247.809,1386.61 \\n  \\\"\\/>\\n<polyline clip-path=\\\"url(#clip4300)\\\" style=\\\"stroke:#000000; stroke-width:4; stroke-opacity:1; fill:none\\\" points=\\\"\\n  215.754,1077.77 247.809,1077.77 \\n  \\\"\\/>\\n<polyline clip-path=\\\"url(#clip4300)\\\" style=\\\"stroke:#000000; stroke-width:4; stroke-opacity:1; fill:none\\\" points=\\\"\\n  215.754,768.94 247.809,768.94 \\n  \\\"\\/>\\n<polyline clip-path=\\\"url(#clip4300)\\\" style=\\\"stroke:#000000; stroke-width:4; stroke-opacity:1; fill:none\\\" points=\\\"\\n  215.754,460.106 247.809,460.106 \\n  \\\"\\/>\\n<polyline clip-path=\\\"url(#clip4300)\\\" style=\\\"stroke:#000000; stroke-width:4; stroke-opacity:1; fill:none\\\" points=\\\"\\n  215.754,151.272 247.809,151.272 \\n  \\\"\\/>\\n<g clip-path=\\\"url(#clip4300)\\\">\\n<text style=\\\"fill:#000000; fill-opacity:1; font-family:Arial,Helvetica Neue,Helvetica,sans-serif; font-size:48px; text-anchor:middle;\\\" transform=\\\"rotate(0, 215.754, 1479.62)\\\" x=\\\"215.754\\\" y=\\\"1479.62\\\">0<\\/text>\\n<\\/g>\\n<g clip-path=\\\"url(#clip4300)\\\">\\n<text style=\\\"fill:#000000; fill-opacity:1; font-family:Arial,Helvetica Neue,Helvetica,sans-serif; font-size:48px; text-anchor:middle;\\\" transform=\\\"rotate(0, 643.154, 1479.62)\\\" x=\\\"643.154\\\" y=\\\"1479.62\\\">20<\\/text>\\n<\\/g>\\n<g clip-path=\\\"url(#clip4300)\\\">\\n<text style=\\\"fill:#000000; fill-opacity:1; font-family:Arial,Helvetica Neue,Helvetica,sans-serif; font-size:48px; text-anchor:middle;\\\" transform=\\\"rotate(0, 1070.55, 1479.62)\\\" x=\\\"1070.55\\\" y=\\\"1479.62\\\">40<\\/text>\\n<\\/g>\\n<g clip-path=\\\"url(#clip4300)\\\">\\n<text style=\\\"fill:#000000; fill-opacity:1; font-family:Arial,Helvetica Neue,Helvetica,sans-serif; font-size:48px; text-anchor:middle;\\\" transform=\\\"rotate(0, 1497.96, 1479.62)\\\" x=\\\"1497.96\\\" y=\\\"1479.62\\\">60<\\/text>\\n<\\/g>\\n<g clip-path=\\\"url(#clip4300)\\\">\\n<text style=\\\"fill:#000000; fill-opacity:1; font-family:Arial,Helvetica Neue,Helvetica,sans-serif; font-size:48px; text-anchor:middle;\\\" transform=\\\"rotate(0, 1925.36, 1479.62)\\\" x=\\\"1925.36\\\" y=\\\"1479.62\\\">80<\\/text>\\n<\\/g>\\n<g clip-path=\\\"url(#clip4300)\\\">\\n<text style=\\\"fill:#000000; fill-opacity:1; font-family:Arial,Helvetica Neue,Helvetica,sans-serif; font-size:48px; text-anchor:middle;\\\" transform=\\\"rotate(0, 2352.76, 1479.62)\\\" x=\\\"2352.76\\\" y=\\\"1479.62\\\">100<\\/text>\\n<\\/g>\\n<g clip-path=\\\"url(#clip4300)\\\">\\n<text style=\\\"fill:#000000; fill-opacity:1; font-family:Arial,Helvetica Neue,Helvetica,sans-serif; font-size:48px; text-anchor:end;\\\" transform=\\\"rotate(0, 191.754, 1404.11)\\\" x=\\\"191.754\\\" y=\\\"1404.11\\\">0.5<\\/text>\\n<\\/g>\\n<g clip-path=\\\"url(#clip4300)\\\">\\n<text style=\\\"fill:#000000; fill-opacity:1; font-family:Arial,Helvetica Neue,Helvetica,sans-serif; font-size:48px; text-anchor:end;\\\" transform=\\\"rotate(0, 191.754, 1095.27)\\\" x=\\\"191.754\\\" y=\\\"1095.27\\\">0.6<\\/text>\\n<\\/g>\\n<g clip-path=\\\"url(#clip4300)\\\">\\n<text style=\\\"fill:#000000; fill-opacity:1; font-family:Arial,Helvetica Neue,Helvetica,sans-serif; font-size:48px; text-anchor:end;\\\" transform=\\\"rotate(0, 191.754, 786.44)\\\" x=\\\"191.754\\\" y=\\\"786.44\\\">0.7<\\/text>\\n<\\/g>\\n<g clip-path=\\\"url(#clip4300)\\\">\\n<text style=\\\"fill:#000000; fill-opacity:1; font-family:Arial,Helvetica Neue,Helvetica,sans-serif; font-size:48px; text-anchor:end;\\\" transform=\\\"rotate(0, 191.754, 477.606)\\\" x=\\\"191.754\\\" y=\\\"477.606\\\">0.8<\\/text>\\n<\\/g>\\n<g clip-path=\\\"url(#clip4300)\\\">\\n<text style=\\\"fill:#000000; fill-opacity:1; font-family:Arial,Helvetica Neue,Helvetica,sans-serif; font-size:48px; text-anchor:end;\\\" transform=\\\"rotate(0, 191.754, 168.772)\\\" x=\\\"191.754\\\" y=\\\"168.772\\\">0.9<\\/text>\\n<\\/g>\\n<g clip-path=\\\"url(#clip4300)\\\">\\n<text style=\\\"fill:#000000; fill-opacity:1; font-family:Arial,Helvetica Neue,Helvetica,sans-serif; font-size:66px; text-anchor:middle;\\\" transform=\\\"rotate(0, 1284.25, 1559.48)\\\" x=\\\"1284.25\\\" y=\\\"1559.48\\\">time<\\/text>\\n<\\/g>\\n<g clip-path=\\\"url(#clip4300)\\\">\\n<text style=\\\"fill:#000000; fill-opacity:1; font-family:Arial,Helvetica Neue,Helvetica,sans-serif; font-size:66px; text-anchor:middle;\\\" transform=\\\"rotate(-90, 89.2861, 736.431)\\\" x=\\\"89.2861\\\" y=\\\"736.431\\\">Density<\\/text>\\n<\\/g>\\n<polyline clip-path=\\\"url(#clip4302)\\\" style=\\\"stroke:#009af9; stroke-width:12; stroke-opacity:1; fill:none\\\" points=\\\"\\n  215.754,1386.61 217.893,1326.06 220.032,1268.21 222.172,1213.21 224.311,1161.11 226.45,1111.92 228.589,1065.56 230.728,1021.93 232.867,980.897 235.006,942.294 \\n  237.145,905.958 239.285,871.718 241.424,839.412 243.563,808.881 245.702,779.977 247.841,752.567 249.98,726.526 252.119,701.744 254.259,678.12 256.398,655.566 \\n  258.537,634.003 260.676,613.36 262.815,593.576 264.954,574.595 267.093,556.368 269.233,538.852 271.372,522.006 273.511,505.798 275.65,490.194 277.789,475.166 \\n  279.928,460.688 282.067,446.738 284.207,433.291 286.346,420.33 288.485,407.834 290.624,395.786 292.763,384.17 294.902,372.97 297.041,362.172 299.181,351.761 \\n  301.32,341.725 303.459,332.049 305.598,322.723 307.737,313.733 309.876,305.07 312.015,296.721 314.155,288.677 316.294,280.927 318.433,273.461 320.572,266.269 \\n  322.711,259.343 324.85,252.672 326.989,246.249 329.129,240.065 331.268,234.111 333.407,228.38 335.546,222.864 337.685,217.555 339.824,212.446 341.963,207.53 \\n  344.103,202.801 346.242,198.25 348.381,193.873 350.52,189.662 352.659,185.612 354.798,181.718 356.937,177.972 359.077,174.37 361.216,170.907 363.355,167.577 \\n  365.494,164.376 367.633,161.299 369.772,158.34 371.911,155.497 374.051,152.763 376.19,150.136 378.329,147.611 380.468,145.185 382.607,142.853 384.746,140.613 \\n  386.885,138.46 389.025,136.391 391.164,134.403 393.303,132.493 395.442,130.659 397.581,128.896 399.72,127.202 401.859,125.576 403.998,124.013 406.138,122.512 \\n  408.277,121.07 410.416,119.685 412.555,118.354 414.694,117.077 416.833,115.849 418.972,114.671 421.112,113.539 423.251,112.451 425.39,111.407 427.529,110.404 \\n  429.668,109.441 431.807,108.517 433.946,107.629 436.086,106.776 438.225,105.957 440.364,105.17 442.503,104.415 444.642,103.69 446.781,102.994 448.92,102.325 \\n  451.06,101.683 453.199,101.067 455.338,100.475 457.477,99.9068 459.616,99.3612 461.755,98.8373 463.894,98.3343 466.034,97.8513 468.173,97.3876 470.312,96.9424 \\n  472.451,96.515 474.59,96.1046 476.729,95.7106 478.868,95.3324 481.008,94.9692 483.147,94.6206 485.286,94.2858 487.425,93.9644 489.564,93.6559 491.703,93.3597 \\n  493.842,93.0754 495.982,92.8024 498.121,92.5403 500.26,92.2887 502.399,92.0471 504.538,91.8152 506.677,91.5926 508.816,91.3789 510.956,91.1737 513.095,90.9767 \\n  515.234,90.7877 517.373,90.6061 519.512,90.4319 521.651,90.2646 523.79,90.104 525.93,89.9498 528.069,89.8018 530.208,89.6598 532.347,89.5234 534.486,89.3925 \\n  536.625,89.2668 538.764,89.1461 540.904,89.0303 543.043,88.9191 545.182,88.8124 547.321,88.7099 549.46,88.6115 551.599,88.5171 553.738,88.4265 555.877,88.3395 \\n  558.017,88.2559 560.156,88.1758 562.295,88.0988 564.434,88.0249 566.573,87.954 568.712,87.8859 570.851,87.8205 572.991,87.7578 575.13,87.6976 577.269,87.6398 \\n  579.408,87.5843 581.547,87.531 583.686,87.4798 585.825,87.4308 587.965,87.3836 590.104,87.3384 592.243,87.295 594.382,87.2533 596.521,87.2133 598.66,87.1749 \\n  600.799,87.138 602.939,87.1026 605.078,87.0686 607.217,87.036 609.356,87.0047 611.495,86.9746 613.634,86.9458 615.773,86.9181 617.913,86.8915 620.052,86.866 \\n  622.191,86.8415 624.33,86.818 626.469,86.7954 628.608,86.7737 630.747,86.7529 632.887,86.733 635.026,86.7138 637.165,86.6954 639.304,86.6777 641.443,86.6608 \\n  643.582,86.6445 645.721,86.6289 647.861,86.6139 650,86.5995 652.139,86.5857 654.278,86.5724 656.417,86.5597 658.556,86.5475 660.695,86.5357 662.835,86.5245 \\n  664.974,86.5137 667.113,86.5033 669.252,86.4933 671.391,86.4838 673.53,86.4746 675.669,86.4658 677.809,86.4573 679.948,86.4492 682.087,86.4414 684.226,86.4339 \\n  686.365,86.4268 688.504,86.4199 690.643,86.4132 692.783,86.4069 694.922,86.4008 697.061,86.3949 699.2,86.3893 701.339,86.3839 703.478,86.3788 705.617,86.3738 \\n  707.757,86.369 709.896,86.3644 712.035,86.36 714.174,86.3558 716.313,86.3518 718.452,86.3479 720.591,86.3442 722.73,86.3406 724.87,86.3371 727.009,86.3338 \\n  729.148,86.3307 731.287,86.3276 733.426,86.3247 735.565,86.3219 737.704,86.3192 739.844,86.3166 741.983,86.3141 744.122,86.3118 746.261,86.3095 748.4,86.3073 \\n  750.539,86.3052 752.678,86.3032 754.818,86.3012 756.957,86.2994 759.096,86.2976 761.235,86.2958 763.374,86.2942 765.513,86.2926 767.652,86.2911 769.792,86.2896 \\n  771.931,86.2882 774.07,86.2869 776.209,86.2856 778.348,86.2844 780.487,86.2832 782.626,86.282 784.766,86.281 786.905,86.2799 789.044,86.2789 791.183,86.2779 \\n  793.322,86.277 795.461,86.2761 797.6,86.2753 799.74,86.2744 801.879,86.2737 804.018,86.2729 806.157,86.2722 808.296,86.2715 810.435,86.2708 812.574,86.2702 \\n  814.714,86.2696 816.853,86.269 818.992,86.2684 821.131,86.2679 823.27,86.2673 825.409,86.2669 827.548,86.2664 829.688,86.2659 831.827,86.2655 833.966,86.2651 \\n  836.105,86.2647 838.244,86.2643 840.383,86.264 842.522,86.2636 844.662,86.2633 846.801,86.263 848.94,86.2626 851.079,86.2623 853.218,86.262 855.357,86.2618 \\n  857.496,86.2615 859.636,86.2612 861.775,86.261 863.914,86.2607 866.053,86.2605 868.192,86.2602 870.331,86.26 872.47,86.2598 874.61,86.2596 876.749,86.2594 \\n  878.888,86.2592 881.027,86.259 883.166,86.2588 885.305,86.2587 887.444,86.2585 889.583,86.2583 891.723,86.2582 893.862,86.258 896.001,86.2579 898.14,86.2577 \\n  900.279,86.2576 902.418,86.2574 904.557,86.2573 906.697,86.2572 908.836,86.257 910.975,86.2569 913.114,86.2568 915.253,86.2566 917.392,86.2565 919.531,86.2564 \\n  921.671,86.2563 923.81,86.2563 925.949,86.2562 928.088,86.2561 930.227,86.2561 932.366,86.256 934.505,86.256 936.645,86.256 938.784,86.2559 940.923,86.2559 \\n  943.062,86.2559 945.201,86.2559 947.34,86.2558 949.479,86.2558 951.619,86.2558 953.758,86.2557 955.897,86.2557 958.036,86.2557 960.175,86.2557 962.314,86.2557 \\n  964.453,86.2557 966.593,86.2557 968.732,86.2557 970.871,86.2557 973.01,86.2557 975.149,86.2557 977.288,86.2557 979.427,86.2556 981.567,86.2556 983.706,86.2556 \\n  985.845,86.2556 987.984,86.2556 990.123,86.2555 992.262,86.2555 994.401,86.2555 996.541,86.2554 998.68,86.2554 1000.82,86.2554 1002.96,86.2553 1005.1,86.2553 \\n  1007.24,86.2552 1009.38,86.2552 1011.51,86.2552 1013.65,86.2552 1015.79,86.2551 1017.93,86.2551 1020.07,86.2551 1022.21,86.2551 1024.35,86.255 1026.49,86.255 \\n  1028.63,86.255 1030.77,86.255 1032.91,86.2549 1035.05,86.2549 1037.18,86.2549 1039.32,86.2549 1041.46,86.2549 1043.6,86.2548 1045.74,86.2548 1047.88,86.2548 \\n  1050.02,86.2548 1052.16,86.2548 1054.3,86.2548 1056.44,86.2549 1058.58,86.2549 1060.71,86.2549 1062.85,86.2549 1064.99,86.2549 1067.13,86.2549 1069.27,86.2549 \\n  1071.41,86.2549 1073.55,86.2549 1075.69,86.2549 1077.83,86.2549 1079.97,86.2549 1082.11,86.2549 1084.25,86.2549 1086.38,86.2549 1088.52,86.2549 1090.66,86.2549 \\n  1092.8,86.2549 1094.94,86.2549 1097.08,86.2549 1099.22,86.2549 1101.36,86.2549 1103.5,86.2549 1105.64,86.2549 1107.78,86.2549 1109.92,86.2549 1112.05,86.2549 \\n  1114.19,86.2549 1116.33,86.2549 1118.47,86.2549 1120.61,86.2549 1122.75,86.2549 1124.89,86.2548 1127.03,86.2548 1129.17,86.2548 1131.31,86.2548 1133.45,86.2548 \\n  1135.58,86.2548 1137.72,86.2548 1139.86,86.2548 1142,86.2548 1144.14,86.2548 1146.28,86.2548 1148.42,86.2548 1150.56,86.2548 1152.7,86.2548 1154.84,86.2547 \\n  1156.98,86.2547 1159.12,86.2547 1161.25,86.2547 1163.39,86.2547 1165.53,86.2548 1167.67,86.2548 1169.81,86.2548 1171.95,86.2548 1174.09,86.2548 1176.23,86.2548 \\n  1178.37,86.2548 1180.51,86.2548 1182.65,86.2548 1184.78,86.2548 1186.92,86.2548 1189.06,86.2548 1191.2,86.2548 1193.34,86.2548 1195.48,86.2548 1197.62,86.2548 \\n  1199.76,86.2548 1201.9,86.2548 1204.04,86.2548 1206.18,86.2548 1208.32,86.2548 1210.45,86.2549 1212.59,86.2549 1214.73,86.2549 1216.87,86.2549 1219.01,86.2549 \\n  1221.15,86.2549 1223.29,86.2549 1225.43,86.2548 1227.57,86.2548 1229.71,86.2548 1231.85,86.2548 1233.99,86.2548 1236.12,86.2548 1238.26,86.2548 1240.4,86.2548 \\n  1242.54,86.2548 1244.68,86.2548 1246.82,86.2548 1248.96,86.2548 1251.1,86.2548 1253.24,86.2548 1255.38,86.2548 1257.52,86.2548 1259.65,86.2548 1261.79,86.2548 \\n  1263.93,86.2547 1266.07,86.2547 1268.21,86.2547 1270.35,86.2547 1272.49,86.2547 1274.63,86.2547 1276.77,86.2547 1278.91,86.2547 1281.05,86.2547 1283.19,86.2547 \\n  1285.32,86.2547 1287.46,86.2547 1289.6,86.2547 1291.74,86.2547 1293.88,86.2547 1296.02,86.2548 1298.16,86.2548 1300.3,86.2548 1302.44,86.2548 1304.58,86.2548 \\n  1306.72,86.2548 1308.86,86.2548 1310.99,86.2548 1313.13,86.2548 1315.27,86.2548 1317.41,86.2548 1319.55,86.2548 1321.69,86.2548 1323.83,86.2548 1325.97,86.2548 \\n  1328.11,86.2549 1330.25,86.2549 1332.39,86.2549 1334.52,86.2549 1336.66,86.2549 1338.8,86.2549 1340.94,86.2549 1343.08,86.2549 1345.22,86.2549 1347.36,86.2549 \\n  1349.5,86.2549 1351.64,86.2548 1353.78,86.2548 1355.92,86.2548 1358.06,86.2548 1360.19,86.2548 1362.33,86.2548 1364.47,86.2548 1366.61,86.2548 1368.75,86.2548 \\n  1370.89,86.2548 1373.03,86.2548 1375.17,86.2548 1377.31,86.2548 1379.45,86.2548 1381.59,86.2548 1383.73,86.2547 1385.86,86.2547 1388,86.2547 1390.14,86.2547 \\n  1392.28,86.2547 1394.42,86.2547 1396.56,86.2547 1398.7,86.2547 1400.84,86.2547 1402.98,86.2547 1405.12,86.2547 1407.26,86.2547 1409.39,86.2547 1411.53,86.2547 \\n  1413.67,86.2547 1415.81,86.2547 1417.95,86.2547 1420.09,86.2548 1422.23,86.2548 1424.37,86.2548 1426.51,86.2548 1428.65,86.2548 1430.79,86.2548 1432.93,86.2548 \\n  1435.06,86.2548 1437.2,86.2548 1439.34,86.2548 1441.48,86.2548 1443.62,86.2548 1445.76,86.2548 1447.9,86.2549 1450.04,86.2549 1452.18,86.2549 1454.32,86.2549 \\n  1456.46,86.2549 1458.59,86.2549 1460.73,86.2549 1462.87,86.2549 1465.01,86.2549 1467.15,86.2549 1469.29,86.2549 1471.43,86.2548 1473.57,86.2548 1475.71,86.2548 \\n  1477.85,86.2548 1479.99,86.2548 1482.13,86.2548 1484.26,86.2548 1486.4,86.2548 1488.54,86.2548 1490.68,86.2548 1492.82,86.2548 1494.96,86.2548 1497.1,86.2548 \\n  1499.24,86.2548 1501.38,86.2548 1503.52,86.2548 1505.66,86.2548 1507.8,86.2548 1509.93,86.2548 1512.07,86.2548 1514.21,86.2548 1516.35,86.2548 1518.49,86.2548 \\n  1520.63,86.2548 1522.77,86.2548 1524.91,86.2548 1527.05,86.2548 1529.19,86.2548 1531.33,86.2548 1533.46,86.2548 1535.6,86.2548 1537.74,86.2548 1539.88,86.2548 \\n  1542.02,86.2548 1544.16,86.2548 1546.3,86.2548 1548.44,86.2548 1550.58,86.2548 1552.72,86.2548 1554.86,86.2548 1557,86.2548 1559.13,86.2548 1561.27,86.2548 \\n  1563.41,86.2548 1565.55,86.2548 1567.69,86.2548 1569.83,86.2548 1571.97,86.2548 1574.11,86.2548 1576.25,86.2548 1578.39,86.2548 1580.53,86.2548 1582.67,86.2548 \\n  1584.8,86.2548 1586.94,86.2548 1589.08,86.2548 1591.22,86.2548 1593.36,86.2548 1595.5,86.2548 1597.64,86.2548 1599.78,86.2548 1601.92,86.2548 1604.06,86.2548 \\n  1606.2,86.2548 1608.33,86.2548 1610.47,86.2548 1612.61,86.2548 1614.75,86.2548 1616.89,86.2548 1619.03,86.2548 1621.17,86.2548 1623.31,86.2548 1625.45,86.2548 \\n  1627.59,86.2548 1629.73,86.2548 1631.87,86.2548 1634,86.2548 1636.14,86.2548 1638.28,86.2548 1640.42,86.2548 1642.56,86.2548 1644.7,86.2548 1646.84,86.2548 \\n  1648.98,86.2548 1651.12,86.2548 1653.26,86.2548 1655.4,86.2548 1657.54,86.2548 1659.67,86.2548 1661.81,86.2548 1663.95,86.2548 1666.09,86.2548 1668.23,86.2548 \\n  1670.37,86.2548 1672.51,86.2548 1674.65,86.2548 1676.79,86.2548 1678.93,86.2548 1681.07,86.2548 1683.2,86.2548 1685.34,86.2548 1687.48,86.2548 1689.62,86.2548 \\n  1691.76,86.2548 1693.9,86.2548 1696.04,86.2548 1698.18,86.2548 1700.32,86.2548 1702.46,86.2548 1704.6,86.2548 1706.74,86.2548 1708.87,86.2548 1711.01,86.2548 \\n  1713.15,86.2548 1715.29,86.2548 1717.43,86.2548 1719.57,86.2548 1721.71,86.2548 1723.85,86.2548 1725.99,86.2548 1728.13,86.2548 1730.27,86.2548 1732.41,86.2548 \\n  1734.54,86.2548 1736.68,86.2548 1738.82,86.2548 1740.96,86.2548 1743.1,86.2548 1745.24,86.2548 1747.38,86.2548 1749.52,86.2548 1751.66,86.2548 1753.8,86.2548 \\n  1755.94,86.2548 1758.07,86.2548 1760.21,86.2548 1762.35,86.2548 1764.49,86.2548 1766.63,86.2548 1768.77,86.2548 1770.91,86.2548 1773.05,86.2548 1775.19,86.2548 \\n  1777.33,86.2548 1779.47,86.2548 1781.61,86.2548 1783.74,86.2548 1785.88,86.2548 1788.02,86.2548 1790.16,86.2548 1792.3,86.2548 1794.44,86.2548 1796.58,86.2548 \\n  1798.72,86.2548 1800.86,86.2548 1803,86.2548 1805.14,86.2548 1807.27,86.2548 1809.41,86.2548 1811.55,86.2548 1813.69,86.2548 1815.83,86.2548 1817.97,86.2548 \\n  1820.11,86.2548 1822.25,86.2548 1824.39,86.2548 1826.53,86.2548 1828.67,86.2548 1830.81,86.2548 1832.94,86.2548 1835.08,86.2548 1837.22,86.2548 1839.36,86.2548 \\n  1841.5,86.2548 1843.64,86.2548 1845.78,86.2548 1847.92,86.2548 1850.06,86.2548 1852.2,86.2548 1854.34,86.2548 1856.48,86.2548 1858.61,86.2548 1860.75,86.2548 \\n  1862.89,86.2548 1865.03,86.2548 1867.17,86.2548 1869.31,86.2548 1871.45,86.2548 1873.59,86.2548 1875.73,86.2548 1877.87,86.2548 1880.01,86.2548 1882.14,86.2548 \\n  1884.28,86.2548 1886.42,86.2548 1888.56,86.2548 1890.7,86.2548 1892.84,86.2548 1894.98,86.2548 1897.12,86.2548 1899.26,86.2548 1901.4,86.2548 1903.54,86.2548 \\n  1905.68,86.2548 1907.81,86.2548 1909.95,86.2548 1912.09,86.2548 1914.23,86.2548 1916.37,86.2548 1918.51,86.2548 1920.65,86.2548 1922.79,86.2548 1924.93,86.2548 \\n  1927.07,86.2548 1929.21,86.2548 1931.35,86.2548 1933.48,86.2548 1935.62,86.2548 1937.76,86.2548 1939.9,86.2548 1942.04,86.2548 1944.18,86.2548 1946.32,86.2548 \\n  1948.46,86.2548 1950.6,86.2548 1952.74,86.2548 1954.88,86.2548 1957.01,86.2548 1959.15,86.2548 1961.29,86.2548 1963.43,86.2548 1965.57,86.2548 1967.71,86.2548 \\n  1969.85,86.2548 1971.99,86.2548 1974.13,86.2548 1976.27,86.2548 1978.41,86.2548 1980.55,86.2548 1982.68,86.2548 1984.82,86.2548 1986.96,86.2548 1989.1,86.2548 \\n  1991.24,86.2548 1993.38,86.2548 1995.52,86.2548 1997.66,86.2548 1999.8,86.2548 2001.94,86.2548 2004.08,86.2548 2006.22,86.2548 2008.35,86.2548 2010.49,86.2548 \\n  2012.63,86.2548 2014.77,86.2548 2016.91,86.2548 2019.05,86.2548 2021.19,86.2548 2023.33,86.2548 2025.47,86.2548 2027.61,86.2548 2029.75,86.2548 2031.88,86.2548 \\n  2034.02,86.2548 2036.16,86.2548 2038.3,86.2548 2040.44,86.2548 2042.58,86.2548 2044.72,86.2548 2046.86,86.2548 2049,86.2548 2051.14,86.2548 2053.28,86.2548 \\n  2055.42,86.2548 2057.55,86.2548 2059.69,86.2548 2061.83,86.2548 2063.97,86.2548 2066.11,86.2548 2068.25,86.2548 2070.39,86.2548 2072.53,86.2548 2074.67,86.2548 \\n  2076.81,86.2548 2078.95,86.2548 2081.09,86.2548 2083.22,86.2548 2085.36,86.2548 2087.5,86.2548 2089.64,86.2548 2091.78,86.2548 2093.92,86.2548 2096.06,86.2548 \\n  2098.2,86.2548 2100.34,86.2548 2102.48,86.2548 2104.62,86.2548 2106.75,86.2548 2108.89,86.2548 2111.03,86.2548 2113.17,86.2548 2115.31,86.2548 2117.45,86.2548 \\n  2119.59,86.2548 2121.73,86.2548 2123.87,86.2548 2126.01,86.2548 2128.15,86.2548 2130.29,86.2548 2132.42,86.2548 2134.56,86.2548 2136.7,86.2548 2138.84,86.2548 \\n  2140.98,86.2548 2143.12,86.2548 2145.26,86.2548 2147.4,86.2548 2149.54,86.2548 2151.68,86.2548 2153.82,86.2548 2155.95,86.2548 2158.09,86.2548 2160.23,86.2548 \\n  2162.37,86.2548 2164.51,86.2548 2166.65,86.2548 2168.79,86.2548 2170.93,86.2548 2173.07,86.2548 2175.21,86.2548 2177.35,86.2548 2179.49,86.2548 2181.62,86.2548 \\n  2183.76,86.2548 2185.9,86.2548 2188.04,86.2548 2190.18,86.2548 2192.32,86.2548 2194.46,86.2548 2196.6,86.2548 2198.74,86.2548 2200.88,86.2548 2203.02,86.2548 \\n  2205.16,86.2548 2207.29,86.2548 2209.43,86.2548 2211.57,86.2548 2213.71,86.2548 2215.85,86.2548 2217.99,86.2548 2220.13,86.2548 2222.27,86.2548 2224.41,86.2548 \\n  2226.55,86.2548 2228.69,86.2548 2230.82,86.2548 2232.96,86.2548 2235.1,86.2548 2237.24,86.2548 2239.38,86.2548 2241.52,86.2548 2243.66,86.2548 2245.8,86.2548 \\n  2247.94,86.2548 2250.08,86.2548 2252.22,86.2548 2254.36,86.2548 2256.49,86.2548 2258.63,86.2548 2260.77,86.2548 2262.91,86.2548 2265.05,86.2548 2267.19,86.2548 \\n  2269.33,86.2548 2271.47,86.2548 2273.61,86.2548 2275.75,86.2548 2277.89,86.2548 2280.03,86.2548 2282.16,86.2548 2284.3,86.2548 2286.44,86.2548 2288.58,86.2548 \\n  2290.72,86.2548 2292.86,86.2548 2295,86.2548 2297.14,86.2548 2299.28,86.2548 2301.42,86.2548 2303.56,86.2548 2305.69,86.2548 2307.83,86.2548 2309.97,86.2548 \\n  2312.11,86.2548 2314.25,86.2548 2316.39,86.2548 2318.53,86.2548 2320.67,86.2548 2322.81,86.2548 2324.95,86.2548 2327.09,86.2548 2329.23,86.2548 2331.36,86.2548 \\n  2333.5,86.2548 2335.64,86.2548 2337.78,86.2548 2339.92,86.2548 2342.06,86.2548 2344.2,86.2548 2346.34,86.2548 2348.48,86.2548 2350.62,86.2548 2352.76,86.2548 \\n  \\n  \\\"\\/>\\n<polyline clip-path=\\\"url(#clip4302)\\\" style=\\\"stroke:#e26f46; stroke-width:12; stroke-opacity:1; fill:none\\\" points=\\\"\\n  215.754,1386.61 217.893,1281.21 220.032,1182.27 222.172,1090.83 224.311,1007.55 226.45,932.74 228.589,866.415 230.728,808.326 232.867,758.037 235.006,714.984 \\n  237.145,678.527 239.285,647.994 241.424,622.714 243.563,602.042 245.702,585.375 247.841,572.16 249.98,561.899 252.119,554.151 254.259,548.528 256.398,544.691 \\n  258.537,542.347 260.676,541.245 262.815,541.171 264.954,541.941 267.093,543.401 269.233,545.418 271.372,547.882 273.511,550.699 275.65,553.793 277.789,557.096 \\n  279.928,560.554 282.067,564.123 284.207,567.762 286.346,571.442 288.485,575.136 290.624,578.822 292.763,582.483 294.902,586.106 297.041,589.677 299.181,593.188 \\n  301.32,596.632 303.459,600.002 305.598,603.295 307.737,606.507 309.876,609.636 312.015,612.68 314.155,615.639 316.294,618.512 318.433,621.3 320.572,624.002 \\n  322.711,626.62 324.85,629.155 326.989,631.608 329.129,633.981 331.268,636.275 333.407,638.493 335.546,640.634 337.685,642.703 339.824,644.7 341.963,646.627 \\n  344.103,648.487 346.242,650.281 348.381,652.011 350.52,653.679 352.659,655.287 354.798,656.836 356.937,658.33 359.077,659.769 361.216,661.155 363.355,662.49 \\n  365.494,663.775 367.633,665.013 369.772,666.205 371.911,667.352 374.051,668.456 376.19,669.519 378.329,670.542 380.468,671.526 382.607,672.473 384.746,673.383 \\n  386.885,674.26 389.025,675.102 391.164,675.913 393.303,676.693 395.442,677.442 397.581,678.163 399.72,678.856 401.859,679.522 403.998,680.163 406.138,680.779 \\n  408.277,681.371 410.416,681.94 412.555,682.487 414.694,683.012 416.833,683.518 418.972,684.003 421.112,684.47 423.251,684.918 425.39,685.349 427.529,685.763 \\n  429.668,686.16 431.807,686.542 433.946,686.91 436.086,687.262 438.225,687.601 440.364,687.927 442.503,688.239 444.642,688.54 446.781,688.828 448.92,689.105 \\n  451.06,689.371 453.199,689.627 455.338,689.873 457.477,690.109 459.616,690.335 461.755,690.553 463.894,690.762 466.034,690.962 468.173,691.155 470.312,691.34 \\n  472.451,691.518 474.59,691.688 476.729,691.852 478.868,692.01 481.008,692.161 483.147,692.306 485.286,692.445 487.425,692.579 489.564,692.707 491.703,692.831 \\n  493.842,692.949 495.982,693.063 498.121,693.172 500.26,693.277 502.399,693.378 504.538,693.474 506.677,693.567 508.816,693.656 510.956,693.742 513.095,693.824 \\n  515.234,693.903 517.373,693.978 519.512,694.051 521.651,694.121 523.79,694.188 525.93,694.252 528.069,694.314 530.208,694.373 532.347,694.43 534.486,694.485 \\n  536.625,694.537 538.764,694.588 540.904,694.636 543.043,694.682 545.182,694.727 547.321,694.77 549.46,694.811 551.599,694.85 553.738,694.888 555.877,694.924 \\n  558.017,694.959 560.156,694.993 562.295,695.025 564.434,695.056 566.573,695.085 568.712,695.114 570.851,695.141 572.991,695.167 575.13,695.192 577.269,695.217 \\n  579.408,695.24 581.547,695.262 583.686,695.283 585.825,695.304 587.965,695.324 590.104,695.343 592.243,695.361 594.382,695.378 596.521,695.395 598.66,695.411 \\n  600.799,695.426 602.939,695.441 605.078,695.455 607.217,695.469 609.356,695.482 611.495,695.494 613.634,695.507 615.773,695.518 617.913,695.529 620.052,695.54 \\n  622.191,695.55 624.33,695.56 626.469,695.569 628.608,695.578 630.747,695.587 632.887,695.595 635.026,695.603 637.165,695.611 639.304,695.619 641.443,695.626 \\n  643.582,695.632 645.721,695.639 647.861,695.645 650,695.651 652.139,695.657 654.278,695.663 656.417,695.668 658.556,695.673 660.695,695.678 662.835,695.683 \\n  664.974,695.687 667.113,695.691 669.252,695.696 671.391,695.7 673.53,695.703 675.669,695.707 677.809,695.711 679.948,695.714 682.087,695.717 684.226,695.72 \\n  686.365,695.723 688.504,695.726 690.643,695.729 692.783,695.732 694.922,695.734 697.061,695.737 699.2,695.739 701.339,695.741 703.478,695.744 705.617,695.746 \\n  707.757,695.748 709.896,695.75 712.035,695.751 714.174,695.753 716.313,695.755 718.452,695.756 720.591,695.758 722.73,695.76 724.87,695.761 727.009,695.762 \\n  729.148,695.764 731.287,695.765 733.426,695.766 735.565,695.767 737.704,695.768 739.844,695.77 741.983,695.771 744.122,695.772 746.261,695.772 748.4,695.773 \\n  750.539,695.774 752.678,695.775 754.818,695.776 756.957,695.777 759.096,695.777 761.235,695.778 763.374,695.779 765.513,695.779 767.652,695.78 769.792,695.781 \\n  771.931,695.781 774.07,695.782 776.209,695.782 778.348,695.783 780.487,695.783 782.626,695.784 784.766,695.784 786.905,695.785 789.044,695.785 791.183,695.786 \\n  793.322,695.786 795.461,695.786 797.6,695.787 799.74,695.787 801.879,695.787 804.018,695.788 806.157,695.788 808.296,695.788 810.435,695.789 812.574,695.789 \\n  814.714,695.789 816.853,695.789 818.992,695.79 821.131,695.79 823.27,695.79 825.409,695.79 827.548,695.791 829.688,695.791 831.827,695.791 833.966,695.791 \\n  836.105,695.791 838.244,695.792 840.383,695.792 842.522,695.792 844.662,695.792 846.801,695.792 848.94,695.793 851.079,695.793 853.218,695.793 855.357,695.793 \\n  857.496,695.793 859.636,695.793 861.775,695.793 863.914,695.793 866.053,695.793 868.192,695.793 870.331,695.793 872.47,695.794 874.61,695.794 876.749,695.794 \\n  878.888,695.794 881.027,695.794 883.166,695.794 885.305,695.794 887.444,695.794 889.583,695.794 891.723,695.794 893.862,695.794 896.001,695.794 898.14,695.794 \\n  900.279,695.794 902.418,695.794 904.557,695.794 906.697,695.794 908.836,695.794 910.975,695.794 913.114,695.794 915.253,695.794 917.392,695.794 919.531,695.794 \\n  921.671,695.794 923.81,695.794 925.949,695.794 928.088,695.794 930.227,695.794 932.366,695.794 934.505,695.794 936.645,695.794 938.784,695.794 940.923,695.794 \\n  943.062,695.794 945.201,695.795 947.34,695.795 949.479,695.795 951.619,695.795 953.758,695.795 955.897,695.795 958.036,695.795 960.175,695.795 962.314,695.795 \\n  964.453,695.795 966.593,695.795 968.732,695.795 970.871,695.795 973.01,695.795 975.149,695.795 977.288,695.796 979.427,695.796 981.567,695.796 983.706,695.796 \\n  985.845,695.796 987.984,695.796 990.123,695.796 992.262,695.796 994.401,695.796 996.541,695.796 998.68,695.796 1000.82,695.795 1002.96,695.795 1005.1,695.795 \\n  1007.24,695.795 1009.38,695.795 1011.51,695.795 1013.65,695.795 1015.79,695.795 1017.93,695.795 1020.07,695.795 1022.21,695.795 1024.35,695.795 1026.49,695.795 \\n  1028.63,695.795 1030.77,695.795 1032.91,695.795 1035.05,695.795 1037.18,695.795 1039.32,695.795 1041.46,695.795 1043.6,695.795 1045.74,695.795 1047.88,695.795 \\n  1050.02,695.795 1052.16,695.795 1054.3,695.795 1056.44,695.795 1058.58,695.795 1060.71,695.795 1062.85,695.795 1064.99,695.795 1067.13,695.795 1069.27,695.795 \\n  1071.41,695.795 1073.55,695.795 1075.69,695.795 1077.83,695.795 1079.97,695.795 1082.11,695.795 1084.25,695.795 1086.38,695.795 1088.52,695.795 1090.66,695.795 \\n  1092.8,695.795 1094.94,695.795 1097.08,695.795 1099.22,695.795 1101.36,695.795 1103.5,695.795 1105.64,695.795 1107.78,695.795 1109.92,695.795 1112.05,695.795 \\n  1114.19,695.795 1116.33,695.795 1118.47,695.795 1120.61,695.795 1122.75,695.795 1124.89,695.795 1127.03,695.795 1129.17,695.795 1131.31,695.795 1133.45,695.795 \\n  1135.58,695.795 1137.72,695.795 1139.86,695.795 1142,695.795 1144.14,695.795 1146.28,695.795 1148.42,695.795 1150.56,695.795 1152.7,695.795 1154.84,695.795 \\n  1156.98,695.795 1159.12,695.795 1161.25,695.795 1163.39,695.795 1165.53,695.795 1167.67,695.795 1169.81,695.795 1171.95,695.795 1174.09,695.795 1176.23,695.795 \\n  1178.37,695.795 1180.51,695.795 1182.65,695.795 1184.78,695.795 1186.92,695.795 1189.06,695.795 1191.2,695.795 1193.34,695.795 1195.48,695.795 1197.62,695.795 \\n  1199.76,695.795 1201.9,695.795 1204.04,695.795 1206.18,695.795 1208.32,695.795 1210.45,695.795 1212.59,695.795 1214.73,695.796 1216.87,695.796 1219.01,695.796 \\n  1221.15,695.795 1223.29,695.795 1225.43,695.795 1227.57,695.795 1229.71,695.795 1231.85,695.795 1233.99,695.795 1236.12,695.795 1238.26,695.795 1240.4,695.795 \\n  1242.54,695.795 1244.68,695.795 1246.82,695.795 1248.96,695.795 1251.1,695.795 1253.24,695.795 1255.38,695.795 1257.52,695.795 1259.65,695.795 1261.79,695.795 \\n  1263.93,695.795 1266.07,695.795 1268.21,695.795 1270.35,695.795 1272.49,695.795 1274.63,695.795 1276.77,695.795 1278.91,695.795 1281.05,695.795 1283.19,695.795 \\n  1285.32,695.795 1287.46,695.795 1289.6,695.795 1291.74,695.795 1293.88,695.795 1296.02,695.795 1298.16,695.795 1300.3,695.795 1302.44,695.795 1304.58,695.795 \\n  1306.72,695.795 1308.86,695.795 1310.99,695.795 1313.13,695.795 1315.27,695.795 1317.41,695.795 1319.55,695.795 1321.69,695.795 1323.83,695.795 1325.97,695.795 \\n  1328.11,695.796 1330.25,695.796 1332.39,695.796 1334.52,695.796 1336.66,695.796 1338.8,695.796 1340.94,695.796 1343.08,695.796 1345.22,695.796 1347.36,695.796 \\n  1349.5,695.796 1351.64,695.795 1353.78,695.795 1355.92,695.795 1358.06,695.795 1360.19,695.795 1362.33,695.795 1364.47,695.795 1366.61,695.795 1368.75,695.795 \\n  1370.89,695.795 1373.03,695.795 1375.17,695.795 1377.31,695.795 1379.45,695.795 1381.59,695.795 1383.73,695.795 1385.86,695.795 1388,695.795 1390.14,695.795 \\n  1392.28,695.795 1394.42,695.795 1396.56,695.795 1398.7,695.795 1400.84,695.795 1402.98,695.795 1405.12,695.795 1407.26,695.795 1409.39,695.795 1411.53,695.795 \\n  1413.67,695.795 1415.81,695.795 1417.95,695.795 1420.09,695.795 1422.23,695.795 1424.37,695.795 1426.51,695.795 1428.65,695.795 1430.79,695.795 1432.93,695.795 \\n  1435.06,695.795 1437.2,695.795 1439.34,695.795 1441.48,695.795 1443.62,695.795 1445.76,695.795 1447.9,695.795 1450.04,695.796 1452.18,695.796 1454.32,695.796 \\n  1456.46,695.796 1458.59,695.796 1460.73,695.796 1462.87,695.796 1465.01,695.796 1467.15,695.796 1469.29,695.796 1471.43,695.795 1473.57,695.795 1475.71,695.795 \\n  1477.85,695.795 1479.99,695.795 1482.13,695.795 1484.26,695.795 1486.4,695.795 1488.54,695.795 1490.68,695.795 1492.82,695.795 1494.96,695.795 1497.1,695.795 \\n  1499.24,695.795 1501.38,695.795 1503.52,695.795 1505.66,695.795 1507.8,695.795 1509.93,695.795 1512.07,695.795 1514.21,695.795 1516.35,695.795 1518.49,695.795 \\n  1520.63,695.795 1522.77,695.795 1524.91,695.795 1527.05,695.795 1529.19,695.795 1531.33,695.795 1533.46,695.795 1535.6,695.795 1537.74,695.795 1539.88,695.795 \\n  1542.02,695.795 1544.16,695.795 1546.3,695.795 1548.44,695.795 1550.58,695.795 1552.72,695.795 1554.86,695.795 1557,695.795 1559.13,695.795 1561.27,695.795 \\n  1563.41,695.795 1565.55,695.795 1567.69,695.795 1569.83,695.795 1571.97,695.795 1574.11,695.795 1576.25,695.795 1578.39,695.795 1580.53,695.795 1582.67,695.795 \\n  1584.8,695.795 1586.94,695.795 1589.08,695.795 1591.22,695.795 1593.36,695.795 1595.5,695.795 1597.64,695.795 1599.78,695.795 1601.92,695.795 1604.06,695.795 \\n  1606.2,695.795 1608.33,695.795 1610.47,695.795 1612.61,695.795 1614.75,695.795 1616.89,695.795 1619.03,695.795 1621.17,695.795 1623.31,695.795 1625.45,695.795 \\n  1627.59,695.795 1629.73,695.795 1631.87,695.795 1634,695.795 1636.14,695.795 1638.28,695.795 1640.42,695.795 1642.56,695.795 1644.7,695.795 1646.84,695.795 \\n  1648.98,695.795 1651.12,695.795 1653.26,695.795 1655.4,695.795 1657.54,695.795 1659.67,695.795 1661.81,695.795 1663.95,695.795 1666.09,695.795 1668.23,695.795 \\n  1670.37,695.795 1672.51,695.795 1674.65,695.795 1676.79,695.795 1678.93,695.795 1681.07,695.795 1683.2,695.795 1685.34,695.795 1687.48,695.795 1689.62,695.795 \\n  1691.76,695.795 1693.9,695.795 1696.04,695.795 1698.18,695.795 1700.32,695.795 1702.46,695.795 1704.6,695.795 1706.74,695.795 1708.87,695.795 1711.01,695.795 \\n  1713.15,695.795 1715.29,695.795 1717.43,695.795 1719.57,695.795 1721.71,695.795 1723.85,695.795 1725.99,695.795 1728.13,695.795 1730.27,695.795 1732.41,695.795 \\n  1734.54,695.795 1736.68,695.795 1738.82,695.795 1740.96,695.795 1743.1,695.795 1745.24,695.795 1747.38,695.795 1749.52,695.795 1751.66,695.795 1753.8,695.795 \\n  1755.94,695.795 1758.07,695.795 1760.21,695.795 1762.35,695.795 1764.49,695.795 1766.63,695.795 1768.77,695.795 1770.91,695.795 1773.05,695.795 1775.19,695.795 \\n  1777.33,695.795 1779.47,695.795 1781.61,695.795 1783.74,695.795 1785.88,695.795 1788.02,695.795 1790.16,695.795 1792.3,695.795 1794.44,695.795 1796.58,695.795 \\n  1798.72,695.795 1800.86,695.795 1803,695.795 1805.14,695.795 1807.27,695.795 1809.41,695.795 1811.55,695.795 1813.69,695.795 1815.83,695.795 1817.97,695.795 \\n  1820.11,695.795 1822.25,695.795 1824.39,695.795 1826.53,695.795 1828.67,695.795 1830.81,695.795 1832.94,695.795 1835.08,695.795 1837.22,695.795 1839.36,695.795 \\n  1841.5,695.795 1843.64,695.795 1845.78,695.795 1847.92,695.795 1850.06,695.795 1852.2,695.795 1854.34,695.795 1856.48,695.795 1858.61,695.795 1860.75,695.795 \\n  1862.89,695.795 1865.03,695.795 1867.17,695.795 1869.31,695.795 1871.45,695.795 1873.59,695.795 1875.73,695.795 1877.87,695.795 1880.01,695.795 1882.14,695.795 \\n  1884.28,695.795 1886.42,695.795 1888.56,695.795 1890.7,695.795 1892.84,695.795 1894.98,695.795 1897.12,695.795 1899.26,695.795 1901.4,695.795 1903.54,695.795 \\n  1905.68,695.795 1907.81,695.795 1909.95,695.795 1912.09,695.795 1914.23,695.795 1916.37,695.795 1918.51,695.795 1920.65,695.795 1922.79,695.795 1924.93,695.795 \\n  1927.07,695.795 1929.21,695.795 1931.35,695.795 1933.48,695.795 1935.62,695.795 1937.76,695.795 1939.9,695.795 1942.04,695.795 1944.18,695.795 1946.32,695.795 \\n  1948.46,695.795 1950.6,695.795 1952.74,695.795 1954.88,695.795 1957.01,695.795 1959.15,695.795 1961.29,695.795 1963.43,695.795 1965.57,695.795 1967.71,695.795 \\n  1969.85,695.795 1971.99,695.795 1974.13,695.795 1976.27,695.795 1978.41,695.795 1980.55,695.795 1982.68,695.795 1984.82,695.795 1986.96,695.795 1989.1,695.795 \\n  1991.24,695.795 1993.38,695.795 1995.52,695.795 1997.66,695.795 1999.8,695.795 2001.94,695.795 2004.08,695.795 2006.22,695.795 2008.35,695.795 2010.49,695.795 \\n  2012.63,695.795 2014.77,695.795 2016.91,695.795 2019.05,695.795 2021.19,695.795 2023.33,695.795 2025.47,695.795 2027.61,695.795 2029.75,695.795 2031.88,695.795 \\n  2034.02,695.795 2036.16,695.795 2038.3,695.795 2040.44,695.795 2042.58,695.795 2044.72,695.795 2046.86,695.795 2049,695.795 2051.14,695.795 2053.28,695.795 \\n  2055.42,695.795 2057.55,695.795 2059.69,695.795 2061.83,695.795 2063.97,695.795 2066.11,695.795 2068.25,695.795 2070.39,695.795 2072.53,695.795 2074.67,695.795 \\n  2076.81,695.795 2078.95,695.795 2081.09,695.795 2083.22,695.795 2085.36,695.795 2087.5,695.795 2089.64,695.795 2091.78,695.795 2093.92,695.795 2096.06,695.795 \\n  2098.2,695.795 2100.34,695.795 2102.48,695.795 2104.62,695.795 2106.75,695.795 2108.89,695.795 2111.03,695.795 2113.17,695.795 2115.31,695.795 2117.45,695.795 \\n  2119.59,695.795 2121.73,695.795 2123.87,695.795 2126.01,695.795 2128.15,695.795 2130.29,695.795 2132.42,695.795 2134.56,695.795 2136.7,695.795 2138.84,695.795 \\n  2140.98,695.795 2143.12,695.795 2145.26,695.795 2147.4,695.795 2149.54,695.795 2151.68,695.795 2153.82,695.795 2155.95,695.795 2158.09,695.795 2160.23,695.795 \\n  2162.37,695.795 2164.51,695.795 2166.65,695.795 2168.79,695.795 2170.93,695.795 2173.07,695.795 2175.21,695.795 2177.35,695.795 2179.49,695.795 2181.62,695.795 \\n  2183.76,695.795 2185.9,695.795 2188.04,695.795 2190.18,695.795 2192.32,695.795 2194.46,695.795 2196.6,695.795 2198.74,695.795 2200.88,695.795 2203.02,695.795 \\n  2205.16,695.795 2207.29,695.795 2209.43,695.795 2211.57,695.795 2213.71,695.795 2215.85,695.795 2217.99,695.795 2220.13,695.795 2222.27,695.795 2224.41,695.795 \\n  2226.55,695.795 2228.69,695.795 2230.82,695.795 2232.96,695.795 2235.1,695.795 2237.24,695.795 2239.38,695.795 2241.52,695.795 2243.66,695.795 2245.8,695.795 \\n  2247.94,695.795 2250.08,695.795 2252.22,695.795 2254.36,695.795 2256.49,695.795 2258.63,695.795 2260.77,695.795 2262.91,695.795 2265.05,695.795 2267.19,695.795 \\n  2269.33,695.795 2271.47,695.795 2273.61,695.795 2275.75,695.795 2277.89,695.795 2280.03,695.795 2282.16,695.795 2284.3,695.795 2286.44,695.795 2288.58,695.795 \\n  2290.72,695.795 2292.86,695.795 2295,695.795 2297.14,695.795 2299.28,695.795 2301.42,695.795 2303.56,695.795 2305.69,695.795 2307.83,695.795 2309.97,695.795 \\n  2312.11,695.795 2314.25,695.795 2316.39,695.795 2318.53,695.795 2320.67,695.795 2322.81,695.795 2324.95,695.795 2327.09,695.795 2329.23,695.795 2331.36,695.795 \\n  2333.5,695.795 2335.64,695.795 2337.78,695.795 2339.92,695.795 2342.06,695.795 2344.2,695.795 2346.34,695.795 2348.48,695.795 2350.62,695.795 2352.76,695.795 \\n  \\n  \\\"\\/>\\n<polygon clip-path=\\\"url(#clip4300)\\\" points=\\\"\\n1941.79,312.204 2280.76,312.204 2280.76,130.764 1941.79,130.764 \\n  \\\" fill=\\\"#ffffff\\\" fill-rule=\\\"evenodd\\\" fill-opacity=\\\"1\\\"\\/>\\n<polyline clip-path=\\\"url(#clip4300)\\\" style=\\\"stroke:#000000; stroke-width:4; stroke-opacity:1; fill:none\\\" points=\\\"\\n  1941.79,312.204 2280.76,312.204 2280.76,130.764 1941.79,130.764 1941.79,312.204 \\n  \\\"\\/>\\n<polyline clip-path=\\\"url(#clip4300)\\\" style=\\\"stroke:#009af9; stroke-width:12; stroke-opacity:1; fill:none\\\" points=\\\"\\n  1965.79,191.244 2109.79,191.244 \\n  \\\"\\/>\\n<g clip-path=\\\"url(#clip4300)\\\">\\n<text style=\\\"fill:#000000; fill-opacity:1; font-family:Arial,Helvetica Neue,Helvetica,sans-serif; font-size:48px; text-anchor:start;\\\" transform=\\\"rotate(0, 2133.79, 208.744)\\\" x=\\\"2133.79\\\" y=\\\"208.744\\\">u1(t)<\\/text>\\n<\\/g>\\n<polyline clip-path=\\\"url(#clip4300)\\\" style=\\\"stroke:#e26f46; stroke-width:12; stroke-opacity:1; fill:none\\\" points=\\\"\\n  1965.79,251.724 2109.79,251.724 \\n  \\\"\\/>\\n<g clip-path=\\\"url(#clip4300)\\\">\\n<text style=\\\"fill:#000000; fill-opacity:1; font-family:Arial,Helvetica Neue,Helvetica,sans-serif; font-size:48px; text-anchor:start;\\\" transform=\\\"rotate(0, 2133.79, 269.224)\\\" x=\\\"2133.79\\\" y=\\\"269.224\\\">u2(t)<\\/text>\\n<\\/g>\\n<\\/svg>\\n\"},\"nodeType\":\"DOM\",\"type\":\"node\",\"instanceArgs\":{\"namespace\":\"html\",\"tag\":\"div\"},\"children\":[]}]}}}},\"children\":[{\"props\":{},\"nodeType\":\"ObservableNode\",\"type\":\"node\",\"instanceArgs\":{\"id\":\"ob_22\",\"name\":\"obs-node\"},\"children\":[]}]}]},\n",
       "            window,\n",
       "        );\n",
       "    } else {\n",
       "        document\n",
       "            .querySelector('[data-webio-mountpoint=\"5161130122120292986\"]')\n",
       "            .innerHTML = (\n",
       "                '<strong>WebIO not detected. Please read ' +\n",
       "                '<a href=\"https://juliagizmos.github.io/WebIO.jl/latest/troubleshooting/not-detected/\">the troubleshooting guide</a> ' +\n",
       "                'for more information on how to resolve this issue.' +\n",
       "                '</strong>'\n",
       "            );\n",
       "    }\n",
       "    </script>\n",
       "</div>\n"
      ],
      "text/plain": [
       "Node{WebIO.DOM}(WebIO.DOM(:html, :div), Any[Node{DOM}(DOM(:html, :div), Any[Scope(Node{DOM}(DOM(:html, :div), Any[Node{DOM}(DOM(:html, :div), Any[Node{DOM}(DOM(:html, :label), Any[\"α12\"], Dict{Symbol,Any}(:className=>\"interact \",:style=>Dict{Any,Any}(:padding=>\"5px 10px 0px 10px\")))], Dict{Symbol,Any}(:className=>\"interact-flex-row-left\")), Node{DOM}(DOM(:html, :div), Any[Node{DOM}(DOM(:html, :input), Any[], Dict{Symbol,Any}(:max=>191,:min=>1,:attributes=>Dict{Any,Any}(:type=>\"range\",Symbol(\"data-bind\")=>\"numericValue: index, valueUpdate: 'input', event: {change: function (){this.changes(this.changes()+1)}}\",\"orient\"=>\"horizontal\"),:step=>1,:className=>\"slider slider is-fullwidth\",:style=>Dict{Any,Any}()))], Dict{Symbol,Any}(:className=>\"interact-flex-row-center\")), Node{DOM}(DOM(:html, :div), Any[Node{DOM}(DOM(:html, :p), Any[], Dict{Symbol,Any}(:attributes=>Dict(\"data-bind\"=>\"text: formatted_val\")))], Dict{Symbol,Any}(:className=>\"interact-flex-row-right\"))], Dict{Symbol,Any}(:className=>\"interact-flex-row interact-widget\")), Dict{String,Tuple{Observables.AbstractObservable,Union{Nothing, Bool}}}(\"changes\"=>(Observable{Int64} with 1 listeners. Value:\n",
       "0, nothing),\"index\"=>(Observable{Any} with 2 listeners. Value:\n",
       "71, nothing)), Set(String[]), nothing, Asset[Asset(\"js\", \"knockout\", \"C:\\\\Users\\\\gabri\\\\.julia\\\\packages\\\\Knockout\\\\1sDlc\\\\src\\\\..\\\\assets\\\\knockout.js\"), Asset(\"js\", \"knockout_punches\", \"C:\\\\Users\\\\gabri\\\\.julia\\\\packages\\\\Knockout\\\\1sDlc\\\\src\\\\..\\\\assets\\\\knockout_punches.js\"), Asset(\"js\", nothing, \"C:\\\\Users\\\\gabri\\\\.julia\\\\packages\\\\InteractBase\\\\9mFwe\\\\src\\\\..\\\\assets\\\\all.js\"), Asset(\"css\", nothing, \"C:\\\\Users\\\\gabri\\\\.julia\\\\packages\\\\InteractBase\\\\9mFwe\\\\src\\\\..\\\\assets\\\\style.css\"), Asset(\"css\", nothing, \"C:\\\\Users\\\\gabri\\\\.julia\\\\packages\\\\Interact\\\\SbgIk\\\\src\\\\..\\\\assets\\\\bulma_confined.min.css\")], Dict{Any,Any}(\"changes\"=>Any[JSString(\"(function (val){return (val!=this.model[\\\"changes\\\"]()) ? (this.valueFromJulia[\\\"changes\\\"]=true, this.model[\\\"changes\\\"](val)) : undefined})\")],\"index\"=>Any[JSString(\"(function (val){return (val!=this.model[\\\"index\\\"]()) ? (this.valueFromJulia[\\\"index\\\"]=true, this.model[\\\"index\\\"](val)) : undefined})\")]), ConnectionPool(Channel{Any}(sz_max:32,sz_curr:0), Set(AbstractConnection[]), Condition(Any[Task (runnable) @0x000000002d0836b0])), WebIO.JSString[JSString(\"function () {\\n    var handler = (function (ko, koPunches) {\\n    ko.punches.enableAll();\\n    ko.bindingHandlers.numericValue = {\\n        init: function(element, valueAccessor, allBindings, data, context) {\\n            var stringified = ko.observable(ko.unwrap(valueAccessor()));\\n            stringified.subscribe(function(value) {\\n                var val = parseFloat(value);\\n                if (!isNaN(val)) {\\n                    valueAccessor()(val);\\n                }\\n            });\\n            valueAccessor().subscribe(function(value) {\\n                var str = JSON.stringify(value);\\n                if ((str == \\\"0\\\") && ([\\\"-0\\\", \\\"-0.\\\"].indexOf(stringified()) >= 0))\\n                     return;\\n                 if ([\\\"null\\\", \\\"\\\"].indexOf(str) >= 0)\\n                     return;\\n                stringified(str);\\n            });\\n            ko.applyBindingsToNode(\\n                element,\\n                {\\n                    value: stringified,\\n                    valueUpdate: allBindings.get('valueUpdate'),\\n                },\\n                context,\\n            );\\n        }\\n    };\\n    var json_data = {\\\"formatted_vals\\\":[\\\"0.1\\\",\\\"0.11\\\",\\\"0.12\\\",\\\"0.13\\\",\\\"0.14\\\",\\\"0.15\\\",\\\"0.16\\\",\\\"0.17\\\",\\\"0.18\\\",\\\"0.19\\\",\\\"0.2\\\",\\\"0.21\\\",\\\"0.22\\\",\\\"0.23\\\",\\\"0.24\\\",\\\"0.25\\\",\\\"0.26\\\",\\\"0.27\\\",\\\"0.28\\\",\\\"0.29\\\",\\\"0.3\\\",\\\"0.31\\\",\\\"0.32\\\",\\\"0.33\\\",\\\"0.34\\\",\\\"0.35\\\",\\\"0.36\\\",\\\"0.37\\\",\\\"0.38\\\",\\\"0.39\\\",\\\"0.4\\\",\\\"0.41\\\",\\\"0.42\\\",\\\"0.43\\\",\\\"0.44\\\",\\\"0.45\\\",\\\"0.46\\\",\\\"0.47\\\",\\\"0.48\\\",\\\"0.49\\\",\\\"0.5\\\",\\\"0.51\\\",\\\"0.52\\\",\\\"0.53\\\",\\\"0.54\\\",\\\"0.55\\\",\\\"0.56\\\",\\\"0.57\\\",\\\"0.58\\\",\\\"0.59\\\",\\\"0.6\\\",\\\"0.61\\\",\\\"0.62\\\",\\\"0.63\\\",\\\"0.64\\\",\\\"0.65\\\",\\\"0.66\\\",\\\"0.67\\\",\\\"0.68\\\",\\\"0.69\\\",\\\"0.7\\\",\\\"0.71\\\",\\\"0.72\\\",\\\"0.73\\\",\\\"0.74\\\",\\\"0.75\\\",\\\"0.76\\\",\\\"0.77\\\",\\\"0.78\\\",\\\"0.79\\\",\\\"0.8\\\",\\\"0.81\\\",\\\"0.82\\\",\\\"0.83\\\",\\\"0.84\\\",\\\"0.85\\\",\\\"0.86\\\",\\\"0.87\\\",\\\"0.88\\\",\\\"0.89\\\",\\\"0.9\\\",\\\"0.91\\\",\\\"0.92\\\",\\\"0.93\\\",\\\"0.94\\\",\\\"0.95\\\",\\\"0.96\\\",\\\"0.97\\\",\\\"0.98\\\",\\\"0.99\\\",\\\"1.0\\\",\\\"1.01\\\",\\\"1.02\\\",\\\"1.03\\\",\\\"1.04\\\",\\\"1.05\\\",\\\"1.06\\\",\\\"1.07\\\",\\\"1.08\\\",\\\"1.09\\\",\\\"1.1\\\",\\\"1.11\\\",\\\"1.12\\\",\\\"1.13\\\",\\\"1.14\\\",\\\"1.15\\\",\\\"1.16\\\",\\\"1.17\\\",\\\"1.18\\\",\\\"1.19\\\",\\\"1.2\\\",\\\"1.21\\\",\\\"1.22\\\",\\\"1.23\\\",\\\"1.24\\\",\\\"1.25\\\",\\\"1.26\\\",\\\"1.27\\\",\\\"1.28\\\",\\\"1.29\\\",\\\"1.3\\\",\\\"1.31\\\",\\\"1.32\\\",\\\"1.33\\\",\\\"1.34\\\",\\\"1.35\\\",\\\"1.36\\\",\\\"1.37\\\",\\\"1.38\\\",\\\"1.39\\\",\\\"1.4\\\",\\\"1.41\\\",\\\"1.42\\\",\\\"1.43\\\",\\\"1.44\\\",\\\"1.45\\\",\\\"1.46\\\",\\\"1.47\\\",\\\"1.48\\\",\\\"1.49\\\",\\\"1.5\\\",\\\"1.51\\\",\\\"1.52\\\",\\\"1.53\\\",\\\"1.54\\\",\\\"1.55\\\",\\\"1.56\\\",\\\"1.57\\\",\\\"1.58\\\",\\\"1.59\\\",\\\"1.6\\\",\\\"1.61\\\",\\\"1.62\\\",\\\"1.63\\\",\\\"1.64\\\",\\\"1.65\\\",\\\"1.66\\\",\\\"1.67\\\",\\\"1.68\\\",\\\"1.69\\\",\\\"1.7\\\",\\\"1.71\\\",\\\"1.72\\\",\\\"1.73\\\",\\\"1.74\\\",\\\"1.75\\\",\\\"1.76\\\",\\\"1.77\\\",\\\"1.78\\\",\\\"1.79\\\",\\\"1.8\\\",\\\"1.81\\\",\\\"1.82\\\",\\\"1.83\\\",\\\"1.84\\\",\\\"1.85\\\",\\\"1.86\\\",\\\"1.87\\\",\\\"1.88\\\",\\\"1.89\\\",\\\"1.9\\\",\\\"1.91\\\",\\\"1.92\\\",\\\"1.93\\\",\\\"1.94\\\",\\\"1.95\\\",\\\"1.96\\\",\\\"1.97\\\",\\\"1.98\\\",\\\"1.99\\\",\\\"2.0\\\"],\\\"changes\\\":WebIO.getval({\\\"name\\\":\\\"changes\\\",\\\"scope\\\":\\\"11756259643883916071\\\",\\\"id\\\":\\\"ob_03\\\",\\\"type\\\":\\\"observable\\\"}),\\\"index\\\":WebIO.getval({\\\"name\\\":\\\"index\\\",\\\"scope\\\":\\\"11756259643883916071\\\",\\\"id\\\":\\\"ob_02\\\",\\\"type\\\":\\\"observable\\\"})};\\n    var self = this;\\n    function AppViewModel() {\\n        for (var key in json_data) {\\n            var el = json_data[key];\\n            this[key] = Array.isArray(el) ? ko.observableArray(el) : ko.observable(el);\\n        }\\n        \\n        [this[\\\"formatted_val\\\"]=ko.computed(    function(){\\n        return this.formatted_vals()[parseInt(this.index())-(1)];\\n    }\\n,this)]\\n        [this[\\\"changes\\\"].subscribe((function (val){!(this.valueFromJulia[\\\"changes\\\"]) ? (WebIO.setval({\\\"name\\\":\\\"changes\\\",\\\"scope\\\":\\\"11756259643883916071\\\",\\\"id\\\":\\\"ob_03\\\",\\\"type\\\":\\\"observable\\\"},val)) : undefined; return this.valueFromJulia[\\\"changes\\\"]=false}),self),this[\\\"index\\\"].subscribe((function (val){!(this.valueFromJulia[\\\"index\\\"]) ? (WebIO.setval({\\\"name\\\":\\\"index\\\",\\\"scope\\\":\\\"11756259643883916071\\\",\\\"id\\\":\\\"ob_02\\\",\\\"type\\\":\\\"observable\\\"},val)) : undefined; return this.valueFromJulia[\\\"index\\\"]=false}),self)]\\n        \\n    }\\n    self.model = new AppViewModel();\\n    self.valueFromJulia = {};\\n    for (var key in json_data) {\\n        self.valueFromJulia[key] = false;\\n    }\\n    ko.applyBindings(self.model, self.dom);\\n}\\n);\\n    (WebIO.importBlock({\\\"data\\\":[{\\\"name\\\":\\\"knockout\\\",\\\"type\\\":\\\"js\\\",\\\"url\\\":\\\"/assetserver/fd311416c3fbf748771c2940b2ca4b79c53d1ab2-knockout.js\\\"},{\\\"name\\\":\\\"knockout_punches\\\",\\\"type\\\":\\\"js\\\",\\\"url\\\":\\\"/assetserver/148711b519458f42f1e7a22e5bdf7a74f9d5f8e0-knockout_punches.js\\\"}],\\\"type\\\":\\\"async_block\\\"})).then((imports) => handler.apply(this, imports));\\n}\\n\")])], Dict{Symbol,Any}(:className=>\"field interact-widget\")), Node{DOM}(DOM(:html, :div), Any[Scope(Node{DOM}(DOM(:html, :div), Any[Node{DOM}(DOM(:html, :div), Any[Node{DOM}(DOM(:html, :label), Any[\"α21\"], Dict{Symbol,Any}(:className=>\"interact \",:style=>Dict{Any,Any}(:padding=>\"5px 10px 0px 10px\")))], Dict{Symbol,Any}(:className=>\"interact-flex-row-left\")), Node{DOM}(DOM(:html, :div), Any[Node{DOM}(DOM(:html, :input), Any[], Dict{Symbol,Any}(:max=>191,:min=>1,:attributes=>Dict{Any,Any}(:type=>\"range\",Symbol(\"data-bind\")=>\"numericValue: index, valueUpdate: 'input', event: {change: function (){this.changes(this.changes()+1)}}\",\"orient\"=>\"horizontal\"),:step=>1,:className=>\"slider slider is-fullwidth\",:style=>Dict{Any,Any}()))], Dict{Symbol,Any}(:className=>\"interact-flex-row-center\")), Node{DOM}(DOM(:html, :div), Any[Node{DOM}(DOM(:html, :p), Any[], Dict{Symbol,Any}(:attributes=>Dict(\"data-bind\"=>\"text: formatted_val\")))], Dict{Symbol,Any}(:className=>\"interact-flex-row-right\"))], Dict{Symbol,Any}(:className=>\"interact-flex-row interact-widget\")), Dict{String,Tuple{Observables.AbstractObservable,Union{Nothing, Bool}}}(\"changes\"=>(Observable{Int64} with 1 listeners. Value:\n",
       "0, nothing),\"index\"=>(Observable{Any} with 2 listeners. Value:\n",
       "21, nothing)), Set(String[]), nothing, Asset[Asset(\"js\", \"knockout\", \"C:\\\\Users\\\\gabri\\\\.julia\\\\packages\\\\Knockout\\\\1sDlc\\\\src\\\\..\\\\assets\\\\knockout.js\"), Asset(\"js\", \"knockout_punches\", \"C:\\\\Users\\\\gabri\\\\.julia\\\\packages\\\\Knockout\\\\1sDlc\\\\src\\\\..\\\\assets\\\\knockout_punches.js\"), Asset(\"js\", nothing, \"C:\\\\Users\\\\gabri\\\\.julia\\\\packages\\\\InteractBase\\\\9mFwe\\\\src\\\\..\\\\assets\\\\all.js\"), Asset(\"css\", nothing, \"C:\\\\Users\\\\gabri\\\\.julia\\\\packages\\\\InteractBase\\\\9mFwe\\\\src\\\\..\\\\assets\\\\style.css\"), Asset(\"css\", nothing, \"C:\\\\Users\\\\gabri\\\\.julia\\\\packages\\\\Interact\\\\SbgIk\\\\src\\\\..\\\\assets\\\\bulma_confined.min.css\")], Dict{Any,Any}(\"changes\"=>Any[JSString(\"(function (val){return (val!=this.model[\\\"changes\\\"]()) ? (this.valueFromJulia[\\\"changes\\\"]=true, this.model[\\\"changes\\\"](val)) : undefined})\")],\"index\"=>Any[JSString(\"(function (val){return (val!=this.model[\\\"index\\\"]()) ? (this.valueFromJulia[\\\"index\\\"]=true, this.model[\\\"index\\\"](val)) : undefined})\")]), ConnectionPool(Channel{Any}(sz_max:32,sz_curr:0), Set(AbstractConnection[]), Condition(Any[Task (runnable) @0x000000002d07e850])), WebIO.JSString[JSString(\"function () {\\n    var handler = (function (ko, koPunches) {\\n    ko.punches.enableAll();\\n    ko.bindingHandlers.numericValue = {\\n        init: function(element, valueAccessor, allBindings, data, context) {\\n            var stringified = ko.observable(ko.unwrap(valueAccessor()));\\n            stringified.subscribe(function(value) {\\n                var val = parseFloat(value);\\n                if (!isNaN(val)) {\\n                    valueAccessor()(val);\\n                }\\n            });\\n            valueAccessor().subscribe(function(value) {\\n                var str = JSON.stringify(value);\\n                if ((str == \\\"0\\\") && ([\\\"-0\\\", \\\"-0.\\\"].indexOf(stringified()) >= 0))\\n                     return;\\n                 if ([\\\"null\\\", \\\"\\\"].indexOf(str) >= 0)\\n                     return;\\n                stringified(str);\\n            });\\n            ko.applyBindingsToNode(\\n                element,\\n                {\\n                    value: stringified,\\n                    valueUpdate: allBindings.get('valueUpdate'),\\n                },\\n                context,\\n            );\\n        }\\n    };\\n    var json_data = {\\\"formatted_vals\\\":[\\\"0.1\\\",\\\"0.11\\\",\\\"0.12\\\",\\\"0.13\\\",\\\"0.14\\\",\\\"0.15\\\",\\\"0.16\\\",\\\"0.17\\\",\\\"0.18\\\",\\\"0.19\\\",\\\"0.2\\\",\\\"0.21\\\",\\\"0.22\\\",\\\"0.23\\\",\\\"0.24\\\",\\\"0.25\\\",\\\"0.26\\\",\\\"0.27\\\",\\\"0.28\\\",\\\"0.29\\\",\\\"0.3\\\",\\\"0.31\\\",\\\"0.32\\\",\\\"0.33\\\",\\\"0.34\\\",\\\"0.35\\\",\\\"0.36\\\",\\\"0.37\\\",\\\"0.38\\\",\\\"0.39\\\",\\\"0.4\\\",\\\"0.41\\\",\\\"0.42\\\",\\\"0.43\\\",\\\"0.44\\\",\\\"0.45\\\",\\\"0.46\\\",\\\"0.47\\\",\\\"0.48\\\",\\\"0.49\\\",\\\"0.5\\\",\\\"0.51\\\",\\\"0.52\\\",\\\"0.53\\\",\\\"0.54\\\",\\\"0.55\\\",\\\"0.56\\\",\\\"0.57\\\",\\\"0.58\\\",\\\"0.59\\\",\\\"0.6\\\",\\\"0.61\\\",\\\"0.62\\\",\\\"0.63\\\",\\\"0.64\\\",\\\"0.65\\\",\\\"0.66\\\",\\\"0.67\\\",\\\"0.68\\\",\\\"0.69\\\",\\\"0.7\\\",\\\"0.71\\\",\\\"0.72\\\",\\\"0.73\\\",\\\"0.74\\\",\\\"0.75\\\",\\\"0.76\\\",\\\"0.77\\\",\\\"0.78\\\",\\\"0.79\\\",\\\"0.8\\\",\\\"0.81\\\",\\\"0.82\\\",\\\"0.83\\\",\\\"0.84\\\",\\\"0.85\\\",\\\"0.86\\\",\\\"0.87\\\",\\\"0.88\\\",\\\"0.89\\\",\\\"0.9\\\",\\\"0.91\\\",\\\"0.92\\\",\\\"0.93\\\",\\\"0.94\\\",\\\"0.95\\\",\\\"0.96\\\",\\\"0.97\\\",\\\"0.98\\\",\\\"0.99\\\",\\\"1.0\\\",\\\"1.01\\\",\\\"1.02\\\",\\\"1.03\\\",\\\"1.04\\\",\\\"1.05\\\",\\\"1.06\\\",\\\"1.07\\\",\\\"1.08\\\",\\\"1.09\\\",\\\"1.1\\\",\\\"1.11\\\",\\\"1.12\\\",\\\"1.13\\\",\\\"1.14\\\",\\\"1.15\\\",\\\"1.16\\\",\\\"1.17\\\",\\\"1.18\\\",\\\"1.19\\\",\\\"1.2\\\",\\\"1.21\\\",\\\"1.22\\\",\\\"1.23\\\",\\\"1.24\\\",\\\"1.25\\\",\\\"1.26\\\",\\\"1.27\\\",\\\"1.28\\\",\\\"1.29\\\",\\\"1.3\\\",\\\"1.31\\\",\\\"1.32\\\",\\\"1.33\\\",\\\"1.34\\\",\\\"1.35\\\",\\\"1.36\\\",\\\"1.37\\\",\\\"1.38\\\",\\\"1.39\\\",\\\"1.4\\\",\\\"1.41\\\",\\\"1.42\\\",\\\"1.43\\\",\\\"1.44\\\",\\\"1.45\\\",\\\"1.46\\\",\\\"1.47\\\",\\\"1.48\\\",\\\"1.49\\\",\\\"1.5\\\",\\\"1.51\\\",\\\"1.52\\\",\\\"1.53\\\",\\\"1.54\\\",\\\"1.55\\\",\\\"1.56\\\",\\\"1.57\\\",\\\"1.58\\\",\\\"1.59\\\",\\\"1.6\\\",\\\"1.61\\\",\\\"1.62\\\",\\\"1.63\\\",\\\"1.64\\\",\\\"1.65\\\",\\\"1.66\\\",\\\"1.67\\\",\\\"1.68\\\",\\\"1.69\\\",\\\"1.7\\\",\\\"1.71\\\",\\\"1.72\\\",\\\"1.73\\\",\\\"1.74\\\",\\\"1.75\\\",\\\"1.76\\\",\\\"1.77\\\",\\\"1.78\\\",\\\"1.79\\\",\\\"1.8\\\",\\\"1.81\\\",\\\"1.82\\\",\\\"1.83\\\",\\\"1.84\\\",\\\"1.85\\\",\\\"1.86\\\",\\\"1.87\\\",\\\"1.88\\\",\\\"1.89\\\",\\\"1.9\\\",\\\"1.91\\\",\\\"1.92\\\",\\\"1.93\\\",\\\"1.94\\\",\\\"1.95\\\",\\\"1.96\\\",\\\"1.97\\\",\\\"1.98\\\",\\\"1.99\\\",\\\"2.0\\\"],\\\"changes\\\":WebIO.getval({\\\"name\\\":\\\"changes\\\",\\\"scope\\\":\\\"4668872470954038922\\\",\\\"id\\\":\\\"ob_06\\\",\\\"type\\\":\\\"observable\\\"}),\\\"index\\\":WebIO.getval({\\\"name\\\":\\\"index\\\",\\\"scope\\\":\\\"4668872470954038922\\\",\\\"id\\\":\\\"ob_05\\\",\\\"type\\\":\\\"observable\\\"})};\\n    var self = this;\\n    function AppViewModel() {\\n        for (var key in json_data) {\\n            var el = json_data[key];\\n            this[key] = Array.isArray(el) ? ko.observableArray(el) : ko.observable(el);\\n        }\\n        \\n        [this[\\\"formatted_val\\\"]=ko.computed(    function(){\\n        return this.formatted_vals()[parseInt(this.index())-(1)];\\n    }\\n,this)]\\n        [this[\\\"changes\\\"].subscribe((function (val){!(this.valueFromJulia[\\\"changes\\\"]) ? (WebIO.setval({\\\"name\\\":\\\"changes\\\",\\\"scope\\\":\\\"4668872470954038922\\\",\\\"id\\\":\\\"ob_06\\\",\\\"type\\\":\\\"observable\\\"},val)) : undefined; return this.valueFromJulia[\\\"changes\\\"]=false}),self),this[\\\"index\\\"].subscribe((function (val){!(this.valueFromJulia[\\\"index\\\"]) ? (WebIO.setval({\\\"name\\\":\\\"index\\\",\\\"scope\\\":\\\"4668872470954038922\\\",\\\"id\\\":\\\"ob_05\\\",\\\"type\\\":\\\"observable\\\"},val)) : undefined; return this.valueFromJulia[\\\"index\\\"]=false}),self)]\\n        \\n    }\\n    self.model = new AppViewModel();\\n    self.valueFromJulia = {};\\n    for (var key in json_data) {\\n        self.valueFromJulia[key] = false;\\n    }\\n    ko.applyBindings(self.model, self.dom);\\n}\\n);\\n    (WebIO.importBlock({\\\"data\\\":[{\\\"name\\\":\\\"knockout\\\",\\\"type\\\":\\\"js\\\",\\\"url\\\":\\\"/assetserver/fd311416c3fbf748771c2940b2ca4b79c53d1ab2-knockout.js\\\"},{\\\"name\\\":\\\"knockout_punches\\\",\\\"type\\\":\\\"js\\\",\\\"url\\\":\\\"/assetserver/148711b519458f42f1e7a22e5bdf7a74f9d5f8e0-knockout_punches.js\\\"}],\\\"type\\\":\\\"async_block\\\"})).then((imports) => handler.apply(this, imports));\\n}\\n\")])], Dict{Symbol,Any}(:className=>\"field interact-widget\")), Node{DOM}(DOM(:html, :div), Any[Scope(Node{DOM}(DOM(:html, :div), Any[Node{DOM}(DOM(:html, :div), Any[Node{DOM}(DOM(:html, :label), Any[\"K1\"], Dict{Symbol,Any}(:className=>\"interact \",:style=>Dict{Any,Any}(:padding=>\"5px 10px 0px 10px\")))], Dict{Symbol,Any}(:className=>\"interact-flex-row-left\")), Node{DOM}(DOM(:html, :div), Any[Node{DOM}(DOM(:html, :input), Any[], Dict{Symbol,Any}(:max=>291,:min=>1,:attributes=>Dict{Any,Any}(:type=>\"range\",Symbol(\"data-bind\")=>\"numericValue: index, valueUpdate: 'input', event: {change: function (){this.changes(this.changes()+1)}}\",\"orient\"=>\"horizontal\"),:step=>1,:className=>\"slider slider is-fullwidth\",:style=>Dict{Any,Any}()))], Dict{Symbol,Any}(:className=>\"interact-flex-row-center\")), Node{DOM}(DOM(:html, :div), Any[Node{DOM}(DOM(:html, :p), Any[], Dict{Symbol,Any}(:attributes=>Dict(\"data-bind\"=>\"text: formatted_val\")))], Dict{Symbol,Any}(:className=>\"interact-flex-row-right\"))], Dict{Symbol,Any}(:className=>\"interact-flex-row interact-widget\")), Dict{String,Tuple{Observables.AbstractObservable,Union{Nothing, Bool}}}(\"changes\"=>(Observable{Int64} with 1 listeners. Value:\n",
       "0, nothing),\"index\"=>(Observable{Any} with 2 listeners. Value:\n",
       "141, nothing)), Set(String[]), nothing, Asset[Asset(\"js\", \"knockout\", \"C:\\\\Users\\\\gabri\\\\.julia\\\\packages\\\\Knockout\\\\1sDlc\\\\src\\\\..\\\\assets\\\\knockout.js\"), Asset(\"js\", \"knockout_punches\", \"C:\\\\Users\\\\gabri\\\\.julia\\\\packages\\\\Knockout\\\\1sDlc\\\\src\\\\..\\\\assets\\\\knockout_punches.js\"), Asset(\"js\", nothing, \"C:\\\\Users\\\\gabri\\\\.julia\\\\packages\\\\InteractBase\\\\9mFwe\\\\src\\\\..\\\\assets\\\\all.js\"), Asset(\"css\", nothing, \"C:\\\\Users\\\\gabri\\\\.julia\\\\packages\\\\InteractBase\\\\9mFwe\\\\src\\\\..\\\\assets\\\\style.css\"), Asset(\"css\", nothing, \"C:\\\\Users\\\\gabri\\\\.julia\\\\packages\\\\Interact\\\\SbgIk\\\\src\\\\..\\\\assets\\\\bulma_confined.min.css\")], Dict{Any,Any}(\"changes\"=>Any[JSString(\"(function (val){return (val!=this.model[\\\"changes\\\"]()) ? (this.valueFromJulia[\\\"changes\\\"]=true, this.model[\\\"changes\\\"](val)) : undefined})\")],\"index\"=>Any[JSString(\"(function (val){return (val!=this.model[\\\"index\\\"]()) ? (this.valueFromJulia[\\\"index\\\"]=true, this.model[\\\"index\\\"](val)) : undefined})\")]), ConnectionPool(Channel{Any}(sz_max:32,sz_curr:0), Set(AbstractConnection[]), Condition(Any[Task (runnable) @0x000000002d07f6b0])), WebIO.JSString[JSString(\"function () {\\n    var handler = (function (ko, koPunches) {\\n    ko.punches.enableAll();\\n    ko.bindingHandlers.numericValue = {\\n        init: function(element, valueAccessor, allBindings, data, context) {\\n            var stringified = ko.observable(ko.unwrap(valueAccessor()));\\n            stringified.subscribe(function(value) {\\n                var val = parseFloat(value);\\n                if (!isNaN(val)) {\\n                    valueAccessor()(val);\\n                }\\n            });\\n            valueAccessor().subscribe(function(value) {\\n                var str = JSON.stringify(value);\\n                if ((str == \\\"0\\\") && ([\\\"-0\\\", \\\"-0.\\\"].indexOf(stringified()) >= 0))\\n                     return;\\n                 if ([\\\"null\\\", \\\"\\\"].indexOf(str) >= 0)\\n                     return;\\n                stringified(str);\\n            });\\n            ko.applyBindingsToNode(\\n                element,\\n                {\\n                    value: stringified,\\n                    valueUpdate: allBindings.get('valueUpdate'),\\n                },\\n                context,\\n            );\\n        }\\n    };\\n    var json_data = {\\\"formatted_vals\\\":[\\\"0.1\\\",\\\"0.11\\\",\\\"0.12\\\",\\\"0.13\\\",\\\"0.14\\\",\\\"0.15\\\",\\\"0.16\\\",\\\"0.17\\\",\\\"0.18\\\",\\\"0.19\\\",\\\"0.2\\\",\\\"0.21\\\",\\\"0.22\\\",\\\"0.23\\\",\\\"0.24\\\",\\\"0.25\\\",\\\"0.26\\\",\\\"0.27\\\",\\\"0.28\\\",\\\"0.29\\\",\\\"0.3\\\",\\\"0.31\\\",\\\"0.32\\\",\\\"0.33\\\",\\\"0.34\\\",\\\"0.35\\\",\\\"0.36\\\",\\\"0.37\\\",\\\"0.38\\\",\\\"0.39\\\",\\\"0.4\\\",\\\"0.41\\\",\\\"0.42\\\",\\\"0.43\\\",\\\"0.44\\\",\\\"0.45\\\",\\\"0.46\\\",\\\"0.47\\\",\\\"0.48\\\",\\\"0.49\\\",\\\"0.5\\\",\\\"0.51\\\",\\\"0.52\\\",\\\"0.53\\\",\\\"0.54\\\",\\\"0.55\\\",\\\"0.56\\\",\\\"0.57\\\",\\\"0.58\\\",\\\"0.59\\\",\\\"0.6\\\",\\\"0.61\\\",\\\"0.62\\\",\\\"0.63\\\",\\\"0.64\\\",\\\"0.65\\\",\\\"0.66\\\",\\\"0.67\\\",\\\"0.68\\\",\\\"0.69\\\",\\\"0.7\\\",\\\"0.71\\\",\\\"0.72\\\",\\\"0.73\\\",\\\"0.74\\\",\\\"0.75\\\",\\\"0.76\\\",\\\"0.77\\\",\\\"0.78\\\",\\\"0.79\\\",\\\"0.8\\\",\\\"0.81\\\",\\\"0.82\\\",\\\"0.83\\\",\\\"0.84\\\",\\\"0.85\\\",\\\"0.86\\\",\\\"0.87\\\",\\\"0.88\\\",\\\"0.89\\\",\\\"0.9\\\",\\\"0.91\\\",\\\"0.92\\\",\\\"0.93\\\",\\\"0.94\\\",\\\"0.95\\\",\\\"0.96\\\",\\\"0.97\\\",\\\"0.98\\\",\\\"0.99\\\",\\\"1.0\\\",\\\"1.01\\\",\\\"1.02\\\",\\\"1.03\\\",\\\"1.04\\\",\\\"1.05\\\",\\\"1.06\\\",\\\"1.07\\\",\\\"1.08\\\",\\\"1.09\\\",\\\"1.1\\\",\\\"1.11\\\",\\\"1.12\\\",\\\"1.13\\\",\\\"1.14\\\",\\\"1.15\\\",\\\"1.16\\\",\\\"1.17\\\",\\\"1.18\\\",\\\"1.19\\\",\\\"1.2\\\",\\\"1.21\\\",\\\"1.22\\\",\\\"1.23\\\",\\\"1.24\\\",\\\"1.25\\\",\\\"1.26\\\",\\\"1.27\\\",\\\"1.28\\\",\\\"1.29\\\",\\\"1.3\\\",\\\"1.31\\\",\\\"1.32\\\",\\\"1.33\\\",\\\"1.34\\\",\\\"1.35\\\",\\\"1.36\\\",\\\"1.37\\\",\\\"1.38\\\",\\\"1.39\\\",\\\"1.4\\\",\\\"1.41\\\",\\\"1.42\\\",\\\"1.43\\\",\\\"1.44\\\",\\\"1.45\\\",\\\"1.46\\\",\\\"1.47\\\",\\\"1.48\\\",\\\"1.49\\\",\\\"1.5\\\",\\\"1.51\\\",\\\"1.52\\\",\\\"1.53\\\",\\\"1.54\\\",\\\"1.55\\\",\\\"1.56\\\",\\\"1.57\\\",\\\"1.58\\\",\\\"1.59\\\",\\\"1.6\\\",\\\"1.61\\\",\\\"1.62\\\",\\\"1.63\\\",\\\"1.64\\\",\\\"1.65\\\",\\\"1.66\\\",\\\"1.67\\\",\\\"1.68\\\",\\\"1.69\\\",\\\"1.7\\\",\\\"1.71\\\",\\\"1.72\\\",\\\"1.73\\\",\\\"1.74\\\",\\\"1.75\\\",\\\"1.76\\\",\\\"1.77\\\",\\\"1.78\\\",\\\"1.79\\\",\\\"1.8\\\",\\\"1.81\\\",\\\"1.82\\\",\\\"1.83\\\",\\\"1.84\\\",\\\"1.85\\\",\\\"1.86\\\",\\\"1.87\\\",\\\"1.88\\\",\\\"1.89\\\",\\\"1.9\\\",\\\"1.91\\\",\\\"1.92\\\",\\\"1.93\\\",\\\"1.94\\\",\\\"1.95\\\",\\\"1.96\\\",\\\"1.97\\\",\\\"1.98\\\",\\\"1.99\\\",\\\"2.0\\\",\\\"2.01\\\",\\\"2.02\\\",\\\"2.03\\\",\\\"2.04\\\",\\\"2.05\\\",\\\"2.06\\\",\\\"2.07\\\",\\\"2.08\\\",\\\"2.09\\\",\\\"2.1\\\",\\\"2.11\\\",\\\"2.12\\\",\\\"2.13\\\",\\\"2.14\\\",\\\"2.15\\\",\\\"2.16\\\",\\\"2.17\\\",\\\"2.18\\\",\\\"2.19\\\",\\\"2.2\\\",\\\"2.21\\\",\\\"2.22\\\",\\\"2.23\\\",\\\"2.24\\\",\\\"2.25\\\",\\\"2.26\\\",\\\"2.27\\\",\\\"2.28\\\",\\\"2.29\\\",\\\"2.3\\\",\\\"2.31\\\",\\\"2.32\\\",\\\"2.33\\\",\\\"2.34\\\",\\\"2.35\\\",\\\"2.36\\\",\\\"2.37\\\",\\\"2.38\\\",\\\"2.39\\\",\\\"2.4\\\",\\\"2.41\\\",\\\"2.42\\\",\\\"2.43\\\",\\\"2.44\\\",\\\"2.45\\\",\\\"2.46\\\",\\\"2.47\\\",\\\"2.48\\\",\\\"2.49\\\",\\\"2.5\\\",\\\"2.51\\\",\\\"2.52\\\",\\\"2.53\\\",\\\"2.54\\\",\\\"2.55\\\",\\\"2.56\\\",\\\"2.57\\\",\\\"2.58\\\",\\\"2.59\\\",\\\"2.6\\\",\\\"2.61\\\",\\\"2.62\\\",\\\"2.63\\\",\\\"2.64\\\",\\\"2.65\\\",\\\"2.66\\\",\\\"2.67\\\",\\\"2.68\\\",\\\"2.69\\\",\\\"2.7\\\",\\\"2.71\\\",\\\"2.72\\\",\\\"2.73\\\",\\\"2.74\\\",\\\"2.75\\\",\\\"2.76\\\",\\\"2.77\\\",\\\"2.78\\\",\\\"2.79\\\",\\\"2.8\\\",\\\"2.81\\\",\\\"2.82\\\",\\\"2.83\\\",\\\"2.84\\\",\\\"2.85\\\",\\\"2.86\\\",\\\"2.87\\\",\\\"2.88\\\",\\\"2.89\\\",\\\"2.9\\\",\\\"2.91\\\",\\\"2.92\\\",\\\"2.93\\\",\\\"2.94\\\",\\\"2.95\\\",\\\"2.96\\\",\\\"2.97\\\",\\\"2.98\\\",\\\"2.99\\\",\\\"3.0\\\"],\\\"changes\\\":WebIO.getval({\\\"name\\\":\\\"changes\\\",\\\"scope\\\":\\\"630978131963730347\\\",\\\"id\\\":\\\"ob_09\\\",\\\"type\\\":\\\"observable\\\"}),\\\"index\\\":WebIO.getval({\\\"name\\\":\\\"index\\\",\\\"scope\\\":\\\"630978131963730347\\\",\\\"id\\\":\\\"ob_08\\\",\\\"type\\\":\\\"observable\\\"})};\\n    var self = this;\\n    function AppViewModel() {\\n        for (var key in json_data) {\\n            var el = json_data[key];\\n            this[key] = Array.isArray(el) ? ko.observableArray(el) : ko.observable(el);\\n        }\\n        \\n        [this[\\\"formatted_val\\\"]=ko.computed(    function(){\\n        return this.formatted_vals()[parseInt(this.index())-(1)];\\n    }\\n,this)]\\n        [this[\\\"changes\\\"].subscribe((function (val){!(this.valueFromJulia[\\\"changes\\\"]) ? (WebIO.setval({\\\"name\\\":\\\"changes\\\",\\\"scope\\\":\\\"630978131963730347\\\",\\\"id\\\":\\\"ob_09\\\",\\\"type\\\":\\\"observable\\\"},val)) : undefined; return this.valueFromJulia[\\\"changes\\\"]=false}),self),this[\\\"index\\\"].subscribe((function (val){!(this.valueFromJulia[\\\"index\\\"]) ? (WebIO.setval({\\\"name\\\":\\\"index\\\",\\\"scope\\\":\\\"630978131963730347\\\",\\\"id\\\":\\\"ob_08\\\",\\\"type\\\":\\\"observable\\\"},val)) : undefined; return this.valueFromJulia[\\\"index\\\"]=false}),self)]\\n        \\n    }\\n    self.model = new AppViewModel();\\n    self.valueFromJulia = {};\\n    for (var key in json_data) {\\n        self.valueFromJulia[key] = false;\\n    }\\n    ko.applyBindings(self.model, self.dom);\\n}\\n);\\n    (WebIO.importBlock({\\\"data\\\":[{\\\"name\\\":\\\"knockout\\\",\\\"type\\\":\\\"js\\\",\\\"url\\\":\\\"/assetserver/fd311416c3fbf748771c2940b2ca4b79c53d1ab2-knockout.js\\\"},{\\\"name\\\":\\\"knockout_punches\\\",\\\"type\\\":\\\"js\\\",\\\"url\\\":\\\"/assetserver/148711b519458f42f1e7a22e5bdf7a74f9d5f8e0-knockout_punches.js\\\"}],\\\"type\\\":\\\"async_block\\\"})).then((imports) => handler.apply(this, imports));\\n}\\n\")])], Dict{Symbol,Any}(:className=>\"field interact-widget\")), Node{DOM}(DOM(:html, :div), Any[Scope(Node{DOM}(DOM(:html, :div), Any[Node{DOM}(DOM(:html, :div), Any[Node{DOM}(DOM(:html, :label), Any[\"K2\"], Dict{Symbol,Any}(:className=>\"interact \",:style=>Dict{Any,Any}(:padding=>\"5px 10px 0px 10px\")))], Dict{Symbol,Any}(:className=>\"interact-flex-row-left\")), Node{DOM}(DOM(:html, :div), Any[Node{DOM}(DOM(:html, :input), Any[], Dict{Symbol,Any}(:max=>291,:min=>1,:attributes=>Dict{Any,Any}(:type=>\"range\",Symbol(\"data-bind\")=>\"numericValue: index, valueUpdate: 'input', event: {change: function (){this.changes(this.changes()+1)}}\",\"orient\"=>\"horizontal\"),:step=>1,:className=>\"slider slider is-fullwidth\",:style=>Dict{Any,Any}()))], Dict{Symbol,Any}(:className=>\"interact-flex-row-center\")), Node{DOM}(DOM(:html, :div), Any[Node{DOM}(DOM(:html, :p), Any[], Dict{Symbol,Any}(:attributes=>Dict(\"data-bind\"=>\"text: formatted_val\")))], Dict{Symbol,Any}(:className=>\"interact-flex-row-right\"))], Dict{Symbol,Any}(:className=>\"interact-flex-row interact-widget\")), Dict{String,Tuple{Observables.AbstractObservable,Union{Nothing, Bool}}}(\"changes\"=>(Observable{Int64} with 1 listeners. Value:\n",
       "0, nothing),\"index\"=>(Observable{Any} with 2 listeners. Value:\n",
       "91, nothing)), Set(String[]), nothing, Asset[Asset(\"js\", \"knockout\", \"C:\\\\Users\\\\gabri\\\\.julia\\\\packages\\\\Knockout\\\\1sDlc\\\\src\\\\..\\\\assets\\\\knockout.js\"), Asset(\"js\", \"knockout_punches\", \"C:\\\\Users\\\\gabri\\\\.julia\\\\packages\\\\Knockout\\\\1sDlc\\\\src\\\\..\\\\assets\\\\knockout_punches.js\"), Asset(\"js\", nothing, \"C:\\\\Users\\\\gabri\\\\.julia\\\\packages\\\\InteractBase\\\\9mFwe\\\\src\\\\..\\\\assets\\\\all.js\"), Asset(\"css\", nothing, \"C:\\\\Users\\\\gabri\\\\.julia\\\\packages\\\\InteractBase\\\\9mFwe\\\\src\\\\..\\\\assets\\\\style.css\"), Asset(\"css\", nothing, \"C:\\\\Users\\\\gabri\\\\.julia\\\\packages\\\\Interact\\\\SbgIk\\\\src\\\\..\\\\assets\\\\bulma_confined.min.css\")], Dict{Any,Any}(\"changes\"=>Any[JSString(\"(function (val){return (val!=this.model[\\\"changes\\\"]()) ? (this.valueFromJulia[\\\"changes\\\"]=true, this.model[\\\"changes\\\"](val)) : undefined})\")],\"index\"=>Any[JSString(\"(function (val){return (val!=this.model[\\\"index\\\"]()) ? (this.valueFromJulia[\\\"index\\\"]=true, this.model[\\\"index\\\"](val)) : undefined})\")]), ConnectionPool(Channel{Any}(sz_max:32,sz_curr:0), Set(AbstractConnection[]), Condition(Any[Task (runnable) @0x000000002d083990])), WebIO.JSString[JSString(\"function () {\\n    var handler = (function (ko, koPunches) {\\n    ko.punches.enableAll();\\n    ko.bindingHandlers.numericValue = {\\n        init: function(element, valueAccessor, allBindings, data, context) {\\n            var stringified = ko.observable(ko.unwrap(valueAccessor()));\\n            stringified.subscribe(function(value) {\\n                var val = parseFloat(value);\\n                if (!isNaN(val)) {\\n                    valueAccessor()(val);\\n                }\\n            });\\n            valueAccessor().subscribe(function(value) {\\n                var str = JSON.stringify(value);\\n                if ((str == \\\"0\\\") && ([\\\"-0\\\", \\\"-0.\\\"].indexOf(stringified()) >= 0))\\n                     return;\\n                 if ([\\\"null\\\", \\\"\\\"].indexOf(str) >= 0)\\n                     return;\\n                stringified(str);\\n            });\\n            ko.applyBindingsToNode(\\n                element,\\n                {\\n                    value: stringified,\\n                    valueUpdate: allBindings.get('valueUpdate'),\\n                },\\n                context,\\n            );\\n        }\\n    };\\n    var json_data = {\\\"formatted_vals\\\":[\\\"0.1\\\",\\\"0.11\\\",\\\"0.12\\\",\\\"0.13\\\",\\\"0.14\\\",\\\"0.15\\\",\\\"0.16\\\",\\\"0.17\\\",\\\"0.18\\\",\\\"0.19\\\",\\\"0.2\\\",\\\"0.21\\\",\\\"0.22\\\",\\\"0.23\\\",\\\"0.24\\\",\\\"0.25\\\",\\\"0.26\\\",\\\"0.27\\\",\\\"0.28\\\",\\\"0.29\\\",\\\"0.3\\\",\\\"0.31\\\",\\\"0.32\\\",\\\"0.33\\\",\\\"0.34\\\",\\\"0.35\\\",\\\"0.36\\\",\\\"0.37\\\",\\\"0.38\\\",\\\"0.39\\\",\\\"0.4\\\",\\\"0.41\\\",\\\"0.42\\\",\\\"0.43\\\",\\\"0.44\\\",\\\"0.45\\\",\\\"0.46\\\",\\\"0.47\\\",\\\"0.48\\\",\\\"0.49\\\",\\\"0.5\\\",\\\"0.51\\\",\\\"0.52\\\",\\\"0.53\\\",\\\"0.54\\\",\\\"0.55\\\",\\\"0.56\\\",\\\"0.57\\\",\\\"0.58\\\",\\\"0.59\\\",\\\"0.6\\\",\\\"0.61\\\",\\\"0.62\\\",\\\"0.63\\\",\\\"0.64\\\",\\\"0.65\\\",\\\"0.66\\\",\\\"0.67\\\",\\\"0.68\\\",\\\"0.69\\\",\\\"0.7\\\",\\\"0.71\\\",\\\"0.72\\\",\\\"0.73\\\",\\\"0.74\\\",\\\"0.75\\\",\\\"0.76\\\",\\\"0.77\\\",\\\"0.78\\\",\\\"0.79\\\",\\\"0.8\\\",\\\"0.81\\\",\\\"0.82\\\",\\\"0.83\\\",\\\"0.84\\\",\\\"0.85\\\",\\\"0.86\\\",\\\"0.87\\\",\\\"0.88\\\",\\\"0.89\\\",\\\"0.9\\\",\\\"0.91\\\",\\\"0.92\\\",\\\"0.93\\\",\\\"0.94\\\",\\\"0.95\\\",\\\"0.96\\\",\\\"0.97\\\",\\\"0.98\\\",\\\"0.99\\\",\\\"1.0\\\",\\\"1.01\\\",\\\"1.02\\\",\\\"1.03\\\",\\\"1.04\\\",\\\"1.05\\\",\\\"1.06\\\",\\\"1.07\\\",\\\"1.08\\\",\\\"1.09\\\",\\\"1.1\\\",\\\"1.11\\\",\\\"1.12\\\",\\\"1.13\\\",\\\"1.14\\\",\\\"1.15\\\",\\\"1.16\\\",\\\"1.17\\\",\\\"1.18\\\",\\\"1.19\\\",\\\"1.2\\\",\\\"1.21\\\",\\\"1.22\\\",\\\"1.23\\\",\\\"1.24\\\",\\\"1.25\\\",\\\"1.26\\\",\\\"1.27\\\",\\\"1.28\\\",\\\"1.29\\\",\\\"1.3\\\",\\\"1.31\\\",\\\"1.32\\\",\\\"1.33\\\",\\\"1.34\\\",\\\"1.35\\\",\\\"1.36\\\",\\\"1.37\\\",\\\"1.38\\\",\\\"1.39\\\",\\\"1.4\\\",\\\"1.41\\\",\\\"1.42\\\",\\\"1.43\\\",\\\"1.44\\\",\\\"1.45\\\",\\\"1.46\\\",\\\"1.47\\\",\\\"1.48\\\",\\\"1.49\\\",\\\"1.5\\\",\\\"1.51\\\",\\\"1.52\\\",\\\"1.53\\\",\\\"1.54\\\",\\\"1.55\\\",\\\"1.56\\\",\\\"1.57\\\",\\\"1.58\\\",\\\"1.59\\\",\\\"1.6\\\",\\\"1.61\\\",\\\"1.62\\\",\\\"1.63\\\",\\\"1.64\\\",\\\"1.65\\\",\\\"1.66\\\",\\\"1.67\\\",\\\"1.68\\\",\\\"1.69\\\",\\\"1.7\\\",\\\"1.71\\\",\\\"1.72\\\",\\\"1.73\\\",\\\"1.74\\\",\\\"1.75\\\",\\\"1.76\\\",\\\"1.77\\\",\\\"1.78\\\",\\\"1.79\\\",\\\"1.8\\\",\\\"1.81\\\",\\\"1.82\\\",\\\"1.83\\\",\\\"1.84\\\",\\\"1.85\\\",\\\"1.86\\\",\\\"1.87\\\",\\\"1.88\\\",\\\"1.89\\\",\\\"1.9\\\",\\\"1.91\\\",\\\"1.92\\\",\\\"1.93\\\",\\\"1.94\\\",\\\"1.95\\\",\\\"1.96\\\",\\\"1.97\\\",\\\"1.98\\\",\\\"1.99\\\",\\\"2.0\\\",\\\"2.01\\\",\\\"2.02\\\",\\\"2.03\\\",\\\"2.04\\\",\\\"2.05\\\",\\\"2.06\\\",\\\"2.07\\\",\\\"2.08\\\",\\\"2.09\\\",\\\"2.1\\\",\\\"2.11\\\",\\\"2.12\\\",\\\"2.13\\\",\\\"2.14\\\",\\\"2.15\\\",\\\"2.16\\\",\\\"2.17\\\",\\\"2.18\\\",\\\"2.19\\\",\\\"2.2\\\",\\\"2.21\\\",\\\"2.22\\\",\\\"2.23\\\",\\\"2.24\\\",\\\"2.25\\\",\\\"2.26\\\",\\\"2.27\\\",\\\"2.28\\\",\\\"2.29\\\",\\\"2.3\\\",\\\"2.31\\\",\\\"2.32\\\",\\\"2.33\\\",\\\"2.34\\\",\\\"2.35\\\",\\\"2.36\\\",\\\"2.37\\\",\\\"2.38\\\",\\\"2.39\\\",\\\"2.4\\\",\\\"2.41\\\",\\\"2.42\\\",\\\"2.43\\\",\\\"2.44\\\",\\\"2.45\\\",\\\"2.46\\\",\\\"2.47\\\",\\\"2.48\\\",\\\"2.49\\\",\\\"2.5\\\",\\\"2.51\\\",\\\"2.52\\\",\\\"2.53\\\",\\\"2.54\\\",\\\"2.55\\\",\\\"2.56\\\",\\\"2.57\\\",\\\"2.58\\\",\\\"2.59\\\",\\\"2.6\\\",\\\"2.61\\\",\\\"2.62\\\",\\\"2.63\\\",\\\"2.64\\\",\\\"2.65\\\",\\\"2.66\\\",\\\"2.67\\\",\\\"2.68\\\",\\\"2.69\\\",\\\"2.7\\\",\\\"2.71\\\",\\\"2.72\\\",\\\"2.73\\\",\\\"2.74\\\",\\\"2.75\\\",\\\"2.76\\\",\\\"2.77\\\",\\\"2.78\\\",\\\"2.79\\\",\\\"2.8\\\",\\\"2.81\\\",\\\"2.82\\\",\\\"2.83\\\",\\\"2.84\\\",\\\"2.85\\\",\\\"2.86\\\",\\\"2.87\\\",\\\"2.88\\\",\\\"2.89\\\",\\\"2.9\\\",\\\"2.91\\\",\\\"2.92\\\",\\\"2.93\\\",\\\"2.94\\\",\\\"2.95\\\",\\\"2.96\\\",\\\"2.97\\\",\\\"2.98\\\",\\\"2.99\\\",\\\"3.0\\\"],\\\"changes\\\":WebIO.getval({\\\"name\\\":\\\"changes\\\",\\\"scope\\\":\\\"1681171009397840378\\\",\\\"id\\\":\\\"ob_12\\\",\\\"type\\\":\\\"observable\\\"}),\\\"index\\\":WebIO.getval({\\\"name\\\":\\\"index\\\",\\\"scope\\\":\\\"1681171009397840378\\\",\\\"id\\\":\\\"ob_11\\\",\\\"type\\\":\\\"observable\\\"})};\\n    var self = this;\\n    function AppViewModel() {\\n        for (var key in json_data) {\\n            var el = json_data[key];\\n            this[key] = Array.isArray(el) ? ko.observableArray(el) : ko.observable(el);\\n        }\\n        \\n        [this[\\\"formatted_val\\\"]=ko.computed(    function(){\\n        return this.formatted_vals()[parseInt(this.index())-(1)];\\n    }\\n,this)]\\n        [this[\\\"changes\\\"].subscribe((function (val){!(this.valueFromJulia[\\\"changes\\\"]) ? (WebIO.setval({\\\"name\\\":\\\"changes\\\",\\\"scope\\\":\\\"1681171009397840378\\\",\\\"id\\\":\\\"ob_12\\\",\\\"type\\\":\\\"observable\\\"},val)) : undefined; return this.valueFromJulia[\\\"changes\\\"]=false}),self),this[\\\"index\\\"].subscribe((function (val){!(this.valueFromJulia[\\\"index\\\"]) ? (WebIO.setval({\\\"name\\\":\\\"index\\\",\\\"scope\\\":\\\"1681171009397840378\\\",\\\"id\\\":\\\"ob_11\\\",\\\"type\\\":\\\"observable\\\"},val)) : undefined; return this.valueFromJulia[\\\"index\\\"]=false}),self)]\\n        \\n    }\\n    self.model = new AppViewModel();\\n    self.valueFromJulia = {};\\n    for (var key in json_data) {\\n        self.valueFromJulia[key] = false;\\n    }\\n    ko.applyBindings(self.model, self.dom);\\n}\\n);\\n    (WebIO.importBlock({\\\"data\\\":[{\\\"name\\\":\\\"knockout\\\",\\\"type\\\":\\\"js\\\",\\\"url\\\":\\\"/assetserver/fd311416c3fbf748771c2940b2ca4b79c53d1ab2-knockout.js\\\"},{\\\"name\\\":\\\"knockout_punches\\\",\\\"type\\\":\\\"js\\\",\\\"url\\\":\\\"/assetserver/148711b519458f42f1e7a22e5bdf7a74f9d5f8e0-knockout_punches.js\\\"}],\\\"type\\\":\\\"async_block\\\"})).then((imports) => handler.apply(this, imports));\\n}\\n\")])], Dict{Symbol,Any}(:className=>\"field interact-widget\")), Node{DOM}(DOM(:html, :div), Any[Scope(Node{DOM}(DOM(:html, :div), Any[Node{DOM}(DOM(:html, :div), Any[Node{DOM}(DOM(:html, :label), Any[\"r1\"], Dict{Symbol,Any}(:className=>\"interact \",:style=>Dict{Any,Any}(:padding=>\"5px 10px 0px 10px\")))], Dict{Symbol,Any}(:className=>\"interact-flex-row-left\")), Node{DOM}(DOM(:html, :div), Any[Node{DOM}(DOM(:html, :input), Any[], Dict{Symbol,Any}(:max=>991,:min=>1,:attributes=>Dict{Any,Any}(:type=>\"range\",Symbol(\"data-bind\")=>\"numericValue: index, valueUpdate: 'input', event: {change: function (){this.changes(this.changes()+1)}}\",\"orient\"=>\"horizontal\"),:step=>1,:className=>\"slider slider is-fullwidth\",:style=>Dict{Any,Any}()))], Dict{Symbol,Any}(:className=>\"interact-flex-row-center\")), Node{DOM}(DOM(:html, :div), Any[Node{DOM}(DOM(:html, :p), Any[], Dict{Symbol,Any}(:attributes=>Dict(\"data-bind\"=>\"text: formatted_val\")))], Dict{Symbol,Any}(:className=>\"interact-flex-row-right\"))], Dict{Symbol,Any}(:className=>\"interact-flex-row interact-widget\")), Dict{String,Tuple{Observables.AbstractObservable,Union{Nothing, Bool}}}(\"changes\"=>(Observable{Int64} with 1 listeners. Value:\n",
       "0, nothing),\"index\"=>(Observable{Any} with 2 listeners. Value:\n",
       "91, nothing)), Set(String[]), nothing, Asset[Asset(\"js\", \"knockout\", \"C:\\\\Users\\\\gabri\\\\.julia\\\\packages\\\\Knockout\\\\1sDlc\\\\src\\\\..\\\\assets\\\\knockout.js\"), Asset(\"js\", \"knockout_punches\", \"C:\\\\Users\\\\gabri\\\\.julia\\\\packages\\\\Knockout\\\\1sDlc\\\\src\\\\..\\\\assets\\\\knockout_punches.js\"), Asset(\"js\", nothing, \"C:\\\\Users\\\\gabri\\\\.julia\\\\packages\\\\InteractBase\\\\9mFwe\\\\src\\\\..\\\\assets\\\\all.js\"), Asset(\"css\", nothing, \"C:\\\\Users\\\\gabri\\\\.julia\\\\packages\\\\InteractBase\\\\9mFwe\\\\src\\\\..\\\\assets\\\\style.css\"), Asset(\"css\", nothing, \"C:\\\\Users\\\\gabri\\\\.julia\\\\packages\\\\Interact\\\\SbgIk\\\\src\\\\..\\\\assets\\\\bulma_confined.min.css\")], Dict{Any,Any}(\"changes\"=>Any[JSString(\"(function (val){return (val!=this.model[\\\"changes\\\"]()) ? (this.valueFromJulia[\\\"changes\\\"]=true, this.model[\\\"changes\\\"](val)) : undefined})\")],\"index\"=>Any[JSString(\"(function (val){return (val!=this.model[\\\"index\\\"]()) ? (this.valueFromJulia[\\\"index\\\"]=true, this.model[\\\"index\\\"](val)) : undefined})\")]), ConnectionPool(Channel{Any}(sz_max:32,sz_curr:0), Set(AbstractConnection[]), Condition(Any[Task (runnable) @0x000000002d083c70])), WebIO.JSString[JSString(\"function () {\\n    var handler = (function (ko, koPunches) {\\n    ko.punches.enableAll();\\n    ko.bindingHandlers.numericValue = {\\n        init: function(element, valueAccessor, allBindings, data, context) {\\n            var stringified = ko.observable(ko.unwrap(valueAccessor()));\\n            stringified.subscribe(function(value) {\\n                var val = parseFloat(value);\\n                if (!isNaN(val)) {\\n                    valueAccessor()(val);\\n                }\\n            });\\n            valueAccessor().subscribe(function(value) {\\n                var str = JSON.stringify(value);\\n                if ((str == \\\"0\\\") && ([\\\"-0\\\", \\\"-0.\\\"].indexOf(stringified()) >= 0))\\n                     return;\\n                 if ([\\\"null\\\", \\\"\\\"].indexOf(str) >= 0)\\n                     return;\\n                stringified(str);\\n            });\\n            ko.applyBindingsToNode(\\n                element,\\n                {\\n                    value: stringified,\\n                    valueUpdate: allBindings.get('valueUpdate'),\\n                },\\n                context,\\n            );\\n        }\\n    };\\n    var json_data = {\\\"formatted_vals\\\":[\\\"0.1\\\",\\\"0.11\\\",\\\"0.12\\\",\\\"0.13\\\",\\\"0.14\\\",\\\"0.15\\\",\\\"0.16\\\",\\\"0.17\\\",\\\"0.18\\\",\\\"0.19\\\",\\\"0.2\\\",\\\"0.21\\\",\\\"0.22\\\",\\\"0.23\\\",\\\"0.24\\\",\\\"0.25\\\",\\\"0.26\\\",\\\"0.27\\\",\\\"0.28\\\",\\\"0.29\\\",\\\"0.3\\\",\\\"0.31\\\",\\\"0.32\\\",\\\"0.33\\\",\\\"0.34\\\",\\\"0.35\\\",\\\"0.36\\\",\\\"0.37\\\",\\\"0.38\\\",\\\"0.39\\\",\\\"0.4\\\",\\\"0.41\\\",\\\"0.42\\\",\\\"0.43\\\",\\\"0.44\\\",\\\"0.45\\\",\\\"0.46\\\",\\\"0.47\\\",\\\"0.48\\\",\\\"0.49\\\",\\\"0.5\\\",\\\"0.51\\\",\\\"0.52\\\",\\\"0.53\\\",\\\"0.54\\\",\\\"0.55\\\",\\\"0.56\\\",\\\"0.57\\\",\\\"0.58\\\",\\\"0.59\\\",\\\"0.6\\\",\\\"0.61\\\",\\\"0.62\\\",\\\"0.63\\\",\\\"0.64\\\",\\\"0.65\\\",\\\"0.66\\\",\\\"0.67\\\",\\\"0.68\\\",\\\"0.69\\\",\\\"0.7\\\",\\\"0.71\\\",\\\"0.72\\\",\\\"0.73\\\",\\\"0.74\\\",\\\"0.75\\\",\\\"0.76\\\",\\\"0.77\\\",\\\"0.78\\\",\\\"0.79\\\",\\\"0.8\\\",\\\"0.81\\\",\\\"0.82\\\",\\\"0.83\\\",\\\"0.84\\\",\\\"0.85\\\",\\\"0.86\\\",\\\"0.87\\\",\\\"0.88\\\",\\\"0.89\\\",\\\"0.9\\\",\\\"0.91\\\",\\\"0.92\\\",\\\"0.93\\\",\\\"0.94\\\",\\\"0.95\\\",\\\"0.96\\\",\\\"0.97\\\",\\\"0.98\\\",\\\"0.99\\\",\\\"1.0\\\",\\\"1.01\\\",\\\"1.02\\\",\\\"1.03\\\",\\\"1.04\\\",\\\"1.05\\\",\\\"1.06\\\",\\\"1.07\\\",\\\"1.08\\\",\\\"1.09\\\",\\\"1.1\\\",\\\"1.11\\\",\\\"1.12\\\",\\\"1.13\\\",\\\"1.14\\\",\\\"1.15\\\",\\\"1.16\\\",\\\"1.17\\\",\\\"1.18\\\",\\\"1.19\\\",\\\"1.2\\\",\\\"1.21\\\",\\\"1.22\\\",\\\"1.23\\\",\\\"1.24\\\",\\\"1.25\\\",\\\"1.26\\\",\\\"1.27\\\",\\\"1.28\\\",\\\"1.29\\\",\\\"1.3\\\",\\\"1.31\\\",\\\"1.32\\\",\\\"1.33\\\",\\\"1.34\\\",\\\"1.35\\\",\\\"1.36\\\",\\\"1.37\\\",\\\"1.38\\\",\\\"1.39\\\",\\\"1.4\\\",\\\"1.41\\\",\\\"1.42\\\",\\\"1.43\\\",\\\"1.44\\\",\\\"1.45\\\",\\\"1.46\\\",\\\"1.47\\\",\\\"1.48\\\",\\\"1.49\\\",\\\"1.5\\\",\\\"1.51\\\",\\\"1.52\\\",\\\"1.53\\\",\\\"1.54\\\",\\\"1.55\\\",\\\"1.56\\\",\\\"1.57\\\",\\\"1.58\\\",\\\"1.59\\\",\\\"1.6\\\",\\\"1.61\\\",\\\"1.62\\\",\\\"1.63\\\",\\\"1.64\\\",\\\"1.65\\\",\\\"1.66\\\",\\\"1.67\\\",\\\"1.68\\\",\\\"1.69\\\",\\\"1.7\\\",\\\"1.71\\\",\\\"1.72\\\",\\\"1.73\\\",\\\"1.74\\\",\\\"1.75\\\",\\\"1.76\\\",\\\"1.77\\\",\\\"1.78\\\",\\\"1.79\\\",\\\"1.8\\\",\\\"1.81\\\",\\\"1.82\\\",\\\"1.83\\\",\\\"1.84\\\",\\\"1.85\\\",\\\"1.86\\\",\\\"1.87\\\",\\\"1.88\\\",\\\"1.89\\\",\\\"1.9\\\",\\\"1.91\\\",\\\"1.92\\\",\\\"1.93\\\",\\\"1.94\\\",\\\"1.95\\\",\\\"1.96\\\",\\\"1.97\\\",\\\"1.98\\\",\\\"1.99\\\",\\\"2.0\\\",\\\"2.01\\\",\\\"2.02\\\",\\\"2.03\\\",\\\"2.04\\\",\\\"2.05\\\",\\\"2.06\\\",\\\"2.07\\\",\\\"2.08\\\",\\\"2.09\\\",\\\"2.1\\\",\\\"2.11\\\",\\\"2.12\\\",\\\"2.13\\\",\\\"2.14\\\",\\\"2.15\\\",\\\"2.16\\\",\\\"2.17\\\",\\\"2.18\\\",\\\"2.19\\\",\\\"2.2\\\",\\\"2.21\\\",\\\"2.22\\\",\\\"2.23\\\",\\\"2.24\\\",\\\"2.25\\\",\\\"2.26\\\",\\\"2.27\\\",\\\"2.28\\\",\\\"2.29\\\",\\\"2.3\\\",\\\"2.31\\\",\\\"2.32\\\",\\\"2.33\\\",\\\"2.34\\\",\\\"2.35\\\",\\\"2.36\\\",\\\"2.37\\\",\\\"2.38\\\",\\\"2.39\\\",\\\"2.4\\\",\\\"2.41\\\",\\\"2.42\\\",\\\"2.43\\\",\\\"2.44\\\",\\\"2.45\\\",\\\"2.46\\\",\\\"2.47\\\",\\\"2.48\\\",\\\"2.49\\\",\\\"2.5\\\",\\\"2.51\\\",\\\"2.52\\\",\\\"2.53\\\",\\\"2.54\\\",\\\"2.55\\\",\\\"2.56\\\",\\\"2.57\\\",\\\"2.58\\\",\\\"2.59\\\",\\\"2.6\\\",\\\"2.61\\\",\\\"2.62\\\",\\\"2.63\\\",\\\"2.64\\\",\\\"2.65\\\",\\\"2.66\\\",\\\"2.67\\\",\\\"2.68\\\",\\\"2.69\\\",\\\"2.7\\\",\\\"2.71\\\",\\\"2.72\\\",\\\"2.73\\\",\\\"2.74\\\",\\\"2.75\\\",\\\"2.76\\\",\\\"2.77\\\",\\\"2.78\\\",\\\"2.79\\\",\\\"2.8\\\",\\\"2.81\\\",\\\"2.82\\\",\\\"2.83\\\",\\\"2.84\\\",\\\"2.85\\\",\\\"2.86\\\",\\\"2.87\\\",\\\"2.88\\\",\\\"2.89\\\",\\\"2.9\\\",\\\"2.91\\\",\\\"2.92\\\",\\\"2.93\\\",\\\"2.94\\\",\\\"2.95\\\",\\\"2.96\\\",\\\"2.97\\\",\\\"2.98\\\",\\\"2.99\\\",\\\"3.0\\\",\\\"3.01\\\",\\\"3.02\\\",\\\"3.03\\\",\\\"3.04\\\",\\\"3.05\\\",\\\"3.06\\\",\\\"3.07\\\",\\\"3.08\\\",\\\"3.09\\\",\\\"3.1\\\",\\\"3.11\\\",\\\"3.12\\\",\\\"3.13\\\",\\\"3.14\\\",\\\"3.15\\\",\\\"3.16\\\",\\\"3.17\\\",\\\"3.18\\\",\\\"3.19\\\",\\\"3.2\\\",\\\"3.21\\\",\\\"3.22\\\",\\\"3.23\\\",\\\"3.24\\\",\\\"3.25\\\",\\\"3.26\\\",\\\"3.27\\\",\\\"3.28\\\",\\\"3.29\\\",\\\"3.3\\\",\\\"3.31\\\",\\\"3.32\\\",\\\"3.33\\\",\\\"3.34\\\",\\\"3.35\\\",\\\"3.36\\\",\\\"3.37\\\",\\\"3.38\\\",\\\"3.39\\\",\\\"3.4\\\",\\\"3.41\\\",\\\"3.42\\\",\\\"3.43\\\",\\\"3.44\\\",\\\"3.45\\\",\\\"3.46\\\",\\\"3.47\\\",\\\"3.48\\\",\\\"3.49\\\",\\\"3.5\\\",\\\"3.51\\\",\\\"3.52\\\",\\\"3.53\\\",\\\"3.54\\\",\\\"3.55\\\",\\\"3.56\\\",\\\"3.57\\\",\\\"3.58\\\",\\\"3.59\\\",\\\"3.6\\\",\\\"3.61\\\",\\\"3.62\\\",\\\"3.63\\\",\\\"3.64\\\",\\\"3.65\\\",\\\"3.66\\\",\\\"3.67\\\",\\\"3.68\\\",\\\"3.69\\\",\\\"3.7\\\",\\\"3.71\\\",\\\"3.72\\\",\\\"3.73\\\",\\\"3.74\\\",\\\"3.75\\\",\\\"3.76\\\",\\\"3.77\\\",\\\"3.78\\\",\\\"3.79\\\",\\\"3.8\\\",\\\"3.81\\\",\\\"3.82\\\",\\\"3.83\\\",\\\"3.84\\\",\\\"3.85\\\",\\\"3.86\\\",\\\"3.87\\\",\\\"3.88\\\",\\\"3.89\\\",\\\"3.9\\\",\\\"3.91\\\",\\\"3.92\\\",\\\"3.93\\\",\\\"3.94\\\",\\\"3.95\\\",\\\"3.96\\\",\\\"3.97\\\",\\\"3.98\\\",\\\"3.99\\\",\\\"4.0\\\",\\\"4.01\\\",\\\"4.02\\\",\\\"4.03\\\",\\\"4.04\\\",\\\"4.05\\\",\\\"4.06\\\",\\\"4.07\\\",\\\"4.08\\\",\\\"4.09\\\",\\\"4.1\\\",\\\"4.11\\\",\\\"4.12\\\",\\\"4.13\\\",\\\"4.14\\\",\\\"4.15\\\",\\\"4.16\\\",\\\"4.17\\\",\\\"4.18\\\",\\\"4.19\\\",\\\"4.2\\\",\\\"4.21\\\",\\\"4.22\\\",\\\"4.23\\\",\\\"4.24\\\",\\\"4.25\\\",\\\"4.26\\\",\\\"4.27\\\",\\\"4.28\\\",\\\"4.29\\\",\\\"4.3\\\",\\\"4.31\\\",\\\"4.32\\\",\\\"4.33\\\",\\\"4.34\\\",\\\"4.35\\\",\\\"4.36\\\",\\\"4.37\\\",\\\"4.38\\\",\\\"4.39\\\",\\\"4.4\\\",\\\"4.41\\\",\\\"4.42\\\",\\\"4.43\\\",\\\"4.44\\\",\\\"4.45\\\",\\\"4.46\\\",\\\"4.47\\\",\\\"4.48\\\",\\\"4.49\\\",\\\"4.5\\\",\\\"4.51\\\",\\\"4.52\\\",\\\"4.53\\\",\\\"4.54\\\",\\\"4.55\\\",\\\"4.56\\\",\\\"4.57\\\",\\\"4.58\\\",\\\"4.59\\\",\\\"4.6\\\",\\\"4.61\\\",\\\"4.62\\\",\\\"4.63\\\",\\\"4.64\\\",\\\"4.65\\\",\\\"4.66\\\",\\\"4.67\\\",\\\"4.68\\\",\\\"4.69\\\",\\\"4.7\\\",\\\"4.71\\\",\\\"4.72\\\",\\\"4.73\\\",\\\"4.74\\\",\\\"4.75\\\",\\\"4.76\\\",\\\"4.77\\\",\\\"4.78\\\",\\\"4.79\\\",\\\"4.8\\\",\\\"4.81\\\",\\\"4.82\\\",\\\"4.83\\\",\\\"4.84\\\",\\\"4.85\\\",\\\"4.86\\\",\\\"4.87\\\",\\\"4.88\\\",\\\"4.89\\\",\\\"4.9\\\",\\\"4.91\\\",\\\"4.92\\\",\\\"4.93\\\",\\\"4.94\\\",\\\"4.95\\\",\\\"4.96\\\",\\\"4.97\\\",\\\"4.98\\\",\\\"4.99\\\",\\\"5.0\\\",\\\"5.01\\\",\\\"5.02\\\",\\\"5.03\\\",\\\"5.04\\\",\\\"5.05\\\",\\\"5.06\\\",\\\"5.07\\\",\\\"5.08\\\",\\\"5.09\\\",\\\"5.1\\\",\\\"5.11\\\",\\\"5.12\\\",\\\"5.13\\\",\\\"5.14\\\",\\\"5.15\\\",\\\"5.16\\\",\\\"5.17\\\",\\\"5.18\\\",\\\"5.19\\\",\\\"5.2\\\",\\\"5.21\\\",\\\"5.22\\\",\\\"5.23\\\",\\\"5.24\\\",\\\"5.25\\\",\\\"5.26\\\",\\\"5.27\\\",\\\"5.28\\\",\\\"5.29\\\",\\\"5.3\\\",\\\"5.31\\\",\\\"5.32\\\",\\\"5.33\\\",\\\"5.34\\\",\\\"5.35\\\",\\\"5.36\\\",\\\"5.37\\\",\\\"5.38\\\",\\\"5.39\\\",\\\"5.4\\\",\\\"5.41\\\",\\\"5.42\\\",\\\"5.43\\\",\\\"5.44\\\",\\\"5.45\\\",\\\"5.46\\\",\\\"5.47\\\",\\\"5.48\\\",\\\"5.49\\\",\\\"5.5\\\",\\\"5.51\\\",\\\"5.52\\\",\\\"5.53\\\",\\\"5.54\\\",\\\"5.55\\\",\\\"5.56\\\",\\\"5.57\\\",\\\"5.58\\\",\\\"5.59\\\",\\\"5.6\\\",\\\"5.61\\\",\\\"5.62\\\",\\\"5.63\\\",\\\"5.64\\\",\\\"5.65\\\",\\\"5.66\\\",\\\"5.67\\\",\\\"5.68\\\",\\\"5.69\\\",\\\"5.7\\\",\\\"5.71\\\",\\\"5.72\\\",\\\"5.73\\\",\\\"5.74\\\",\\\"5.75\\\",\\\"5.76\\\",\\\"5.77\\\",\\\"5.78\\\",\\\"5.79\\\",\\\"5.8\\\",\\\"5.81\\\",\\\"5.82\\\",\\\"5.83\\\",\\\"5.84\\\",\\\"5.85\\\",\\\"5.86\\\",\\\"5.87\\\",\\\"5.88\\\",\\\"5.89\\\",\\\"5.9\\\",\\\"5.91\\\",\\\"5.92\\\",\\\"5.93\\\",\\\"5.94\\\",\\\"5.95\\\",\\\"5.96\\\",\\\"5.97\\\",\\\"5.98\\\",\\\"5.99\\\",\\\"6.0\\\",\\\"6.01\\\",\\\"6.02\\\",\\\"6.03\\\",\\\"6.04\\\",\\\"6.05\\\",\\\"6.06\\\",\\\"6.07\\\",\\\"6.08\\\",\\\"6.09\\\",\\\"6.1\\\",\\\"6.11\\\",\\\"6.12\\\",\\\"6.13\\\",\\\"6.14\\\",\\\"6.15\\\",\\\"6.16\\\",\\\"6.17\\\",\\\"6.18\\\",\\\"6.19\\\",\\\"6.2\\\",\\\"6.21\\\",\\\"6.22\\\",\\\"6.23\\\",\\\"6.24\\\",\\\"6.25\\\",\\\"6.26\\\",\\\"6.27\\\",\\\"6.28\\\",\\\"6.29\\\",\\\"6.3\\\",\\\"6.31\\\",\\\"6.32\\\",\\\"6.33\\\",\\\"6.34\\\",\\\"6.35\\\",\\\"6.36\\\",\\\"6.37\\\",\\\"6.38\\\",\\\"6.39\\\",\\\"6.4\\\",\\\"6.41\\\",\\\"6.42\\\",\\\"6.43\\\",\\\"6.44\\\",\\\"6.45\\\",\\\"6.46\\\",\\\"6.47\\\",\\\"6.48\\\",\\\"6.49\\\",\\\"6.5\\\",\\\"6.51\\\",\\\"6.52\\\",\\\"6.53\\\",\\\"6.54\\\",\\\"6.55\\\",\\\"6.56\\\",\\\"6.57\\\",\\\"6.58\\\",\\\"6.59\\\",\\\"6.6\\\",\\\"6.61\\\",\\\"6.62\\\",\\\"6.63\\\",\\\"6.64\\\",\\\"6.65\\\",\\\"6.66\\\",\\\"6.67\\\",\\\"6.68\\\",\\\"6.69\\\",\\\"6.7\\\",\\\"6.71\\\",\\\"6.72\\\",\\\"6.73\\\",\\\"6.74\\\",\\\"6.75\\\",\\\"6.76\\\",\\\"6.77\\\",\\\"6.78\\\",\\\"6.79\\\",\\\"6.8\\\",\\\"6.81\\\",\\\"6.82\\\",\\\"6.83\\\",\\\"6.84\\\",\\\"6.85\\\",\\\"6.86\\\",\\\"6.87\\\",\\\"6.88\\\",\\\"6.89\\\",\\\"6.9\\\",\\\"6.91\\\",\\\"6.92\\\",\\\"6.93\\\",\\\"6.94\\\",\\\"6.95\\\",\\\"6.96\\\",\\\"6.97\\\",\\\"6.98\\\",\\\"6.99\\\",\\\"7.0\\\",\\\"7.01\\\",\\\"7.02\\\",\\\"7.03\\\",\\\"7.04\\\",\\\"7.05\\\",\\\"7.06\\\",\\\"7.07\\\",\\\"7.08\\\",\\\"7.09\\\",\\\"7.1\\\",\\\"7.11\\\",\\\"7.12\\\",\\\"7.13\\\",\\\"7.14\\\",\\\"7.15\\\",\\\"7.16\\\",\\\"7.17\\\",\\\"7.18\\\",\\\"7.19\\\",\\\"7.2\\\",\\\"7.21\\\",\\\"7.22\\\",\\\"7.23\\\",\\\"7.24\\\",\\\"7.25\\\",\\\"7.26\\\",\\\"7.27\\\",\\\"7.28\\\",\\\"7.29\\\",\\\"7.3\\\",\\\"7.31\\\",\\\"7.32\\\",\\\"7.33\\\",\\\"7.34\\\",\\\"7.35\\\",\\\"7.36\\\",\\\"7.37\\\",\\\"7.38\\\",\\\"7.39\\\",\\\"7.4\\\",\\\"7.41\\\",\\\"7.42\\\",\\\"7.43\\\",\\\"7.44\\\",\\\"7.45\\\",\\\"7.46\\\",\\\"7.47\\\",\\\"7.48\\\",\\\"7.49\\\",\\\"7.5\\\",\\\"7.51\\\",\\\"7.52\\\",\\\"7.53\\\",\\\"7.54\\\",\\\"7.55\\\",\\\"7.56\\\",\\\"7.57\\\",\\\"7.58\\\",\\\"7.59\\\",\\\"7.6\\\",\\\"7.61\\\",\\\"7.62\\\",\\\"7.63\\\",\\\"7.64\\\",\\\"7.65\\\",\\\"7.66\\\",\\\"7.67\\\",\\\"7.68\\\",\\\"7.69\\\",\\\"7.7\\\",\\\"7.71\\\",\\\"7.72\\\",\\\"7.73\\\",\\\"7.74\\\",\\\"7.75\\\",\\\"7.76\\\",\\\"7.77\\\",\\\"7.78\\\",\\\"7.79\\\",\\\"7.8\\\",\\\"7.81\\\",\\\"7.82\\\",\\\"7.83\\\",\\\"7.84\\\",\\\"7.85\\\",\\\"7.86\\\",\\\"7.87\\\",\\\"7.88\\\",\\\"7.89\\\",\\\"7.9\\\",\\\"7.91\\\",\\\"7.92\\\",\\\"7.93\\\",\\\"7.94\\\",\\\"7.95\\\",\\\"7.96\\\",\\\"7.97\\\",\\\"7.98\\\",\\\"7.99\\\",\\\"8.0\\\",\\\"8.01\\\",\\\"8.02\\\",\\\"8.03\\\",\\\"8.04\\\",\\\"8.05\\\",\\\"8.06\\\",\\\"8.07\\\",\\\"8.08\\\",\\\"8.09\\\",\\\"8.1\\\",\\\"8.11\\\",\\\"8.12\\\",\\\"8.13\\\",\\\"8.14\\\",\\\"8.15\\\",\\\"8.16\\\",\\\"8.17\\\",\\\"8.18\\\",\\\"8.19\\\",\\\"8.2\\\",\\\"8.21\\\",\\\"8.22\\\",\\\"8.23\\\",\\\"8.24\\\",\\\"8.25\\\",\\\"8.26\\\",\\\"8.27\\\",\\\"8.28\\\",\\\"8.29\\\",\\\"8.3\\\",\\\"8.31\\\",\\\"8.32\\\",\\\"8.33\\\",\\\"8.34\\\",\\\"8.35\\\",\\\"8.36\\\",\\\"8.37\\\",\\\"8.38\\\",\\\"8.39\\\",\\\"8.4\\\",\\\"8.41\\\",\\\"8.42\\\",\\\"8.43\\\",\\\"8.44\\\",\\\"8.45\\\",\\\"8.46\\\",\\\"8.47\\\",\\\"8.48\\\",\\\"8.49\\\",\\\"8.5\\\",\\\"8.51\\\",\\\"8.52\\\",\\\"8.53\\\",\\\"8.54\\\",\\\"8.55\\\",\\\"8.56\\\",\\\"8.57\\\",\\\"8.58\\\",\\\"8.59\\\",\\\"8.6\\\",\\\"8.61\\\",\\\"8.62\\\",\\\"8.63\\\",\\\"8.64\\\",\\\"8.65\\\",\\\"8.66\\\",\\\"8.67\\\",\\\"8.68\\\",\\\"8.69\\\",\\\"8.7\\\",\\\"8.71\\\",\\\"8.72\\\",\\\"8.73\\\",\\\"8.74\\\",\\\"8.75\\\",\\\"8.76\\\",\\\"8.77\\\",\\\"8.78\\\",\\\"8.79\\\",\\\"8.8\\\",\\\"8.81\\\",\\\"8.82\\\",\\\"8.83\\\",\\\"8.84\\\",\\\"8.85\\\",\\\"8.86\\\",\\\"8.87\\\",\\\"8.88\\\",\\\"8.89\\\",\\\"8.9\\\",\\\"8.91\\\",\\\"8.92\\\",\\\"8.93\\\",\\\"8.94\\\",\\\"8.95\\\",\\\"8.96\\\",\\\"8.97\\\",\\\"8.98\\\",\\\"8.99\\\",\\\"9.0\\\",\\\"9.01\\\",\\\"9.02\\\",\\\"9.03\\\",\\\"9.04\\\",\\\"9.05\\\",\\\"9.06\\\",\\\"9.07\\\",\\\"9.08\\\",\\\"9.09\\\",\\\"9.1\\\",\\\"9.11\\\",\\\"9.12\\\",\\\"9.13\\\",\\\"9.14\\\",\\\"9.15\\\",\\\"9.16\\\",\\\"9.17\\\",\\\"9.18\\\",\\\"9.19\\\",\\\"9.2\\\",\\\"9.21\\\",\\\"9.22\\\",\\\"9.23\\\",\\\"9.24\\\",\\\"9.25\\\",\\\"9.26\\\",\\\"9.27\\\",\\\"9.28\\\",\\\"9.29\\\",\\\"9.3\\\",\\\"9.31\\\",\\\"9.32\\\",\\\"9.33\\\",\\\"9.34\\\",\\\"9.35\\\",\\\"9.36\\\",\\\"9.37\\\",\\\"9.38\\\",\\\"9.39\\\",\\\"9.4\\\",\\\"9.41\\\",\\\"9.42\\\",\\\"9.43\\\",\\\"9.44\\\",\\\"9.45\\\",\\\"9.46\\\",\\\"9.47\\\",\\\"9.48\\\",\\\"9.49\\\",\\\"9.5\\\",\\\"9.51\\\",\\\"9.52\\\",\\\"9.53\\\",\\\"9.54\\\",\\\"9.55\\\",\\\"9.56\\\",\\\"9.57\\\",\\\"9.58\\\",\\\"9.59\\\",\\\"9.6\\\",\\\"9.61\\\",\\\"9.62\\\",\\\"9.63\\\",\\\"9.64\\\",\\\"9.65\\\",\\\"9.66\\\",\\\"9.67\\\",\\\"9.68\\\",\\\"9.69\\\",\\\"9.7\\\",\\\"9.71\\\",\\\"9.72\\\",\\\"9.73\\\",\\\"9.74\\\",\\\"9.75\\\",\\\"9.76\\\",\\\"9.77\\\",\\\"9.78\\\",\\\"9.79\\\",\\\"9.8\\\",\\\"9.81\\\",\\\"9.82\\\",\\\"9.83\\\",\\\"9.84\\\",\\\"9.85\\\",\\\"9.86\\\",\\\"9.87\\\",\\\"9.88\\\",\\\"9.89\\\",\\\"9.9\\\",\\\"9.91\\\",\\\"9.92\\\",\\\"9.93\\\",\\\"9.94\\\",\\\"9.95\\\",\\\"9.96\\\",\\\"9.97\\\",\\\"9.98\\\",\\\"9.99\\\",\\\"10.0\\\"],\\\"changes\\\":WebIO.getval({\\\"name\\\":\\\"changes\\\",\\\"scope\\\":\\\"15698831480548399323\\\",\\\"id\\\":\\\"ob_15\\\",\\\"type\\\":\\\"observable\\\"}),\\\"index\\\":WebIO.getval({\\\"name\\\":\\\"index\\\",\\\"scope\\\":\\\"15698831480548399323\\\",\\\"id\\\":\\\"ob_14\\\",\\\"type\\\":\\\"observable\\\"})};\\n    var self = this;\\n    function AppViewModel() {\\n        for (var key in json_data) {\\n            var el = json_data[key];\\n            this[key] = Array.isArray(el) ? ko.observableArray(el) : ko.observable(el);\\n        }\\n        \\n        [this[\\\"formatted_val\\\"]=ko.computed(    function(){\\n        return this.formatted_vals()[parseInt(this.index())-(1)];\\n    }\\n,this)]\\n        [this[\\\"changes\\\"].subscribe((function (val){!(this.valueFromJulia[\\\"changes\\\"]) ? (WebIO.setval({\\\"name\\\":\\\"changes\\\",\\\"scope\\\":\\\"15698831480548399323\\\",\\\"id\\\":\\\"ob_15\\\",\\\"type\\\":\\\"observable\\\"},val)) : undefined; return this.valueFromJulia[\\\"changes\\\"]=false}),self),this[\\\"index\\\"].subscribe((function (val){!(this.valueFromJulia[\\\"index\\\"]) ? (WebIO.setval({\\\"name\\\":\\\"index\\\",\\\"scope\\\":\\\"15698831480548399323\\\",\\\"id\\\":\\\"ob_14\\\",\\\"type\\\":\\\"observable\\\"},val)) : undefined; return this.valueFromJulia[\\\"index\\\"]=false}),self)]\\n        \\n    }\\n    self.model = new AppViewModel();\\n    self.valueFromJulia = {};\\n    for (var key in json_data) {\\n        self.valueFromJulia[key] = false;\\n    }\\n    ko.applyBindings(self.model, self.dom);\\n}\\n);\\n    (WebIO.importBlock({\\\"data\\\":[{\\\"name\\\":\\\"knockout\\\",\\\"type\\\":\\\"js\\\",\\\"url\\\":\\\"/assetserver/fd311416c3fbf748771c2940b2ca4b79c53d1ab2-knockout.js\\\"},{\\\"name\\\":\\\"knockout_punches\\\",\\\"type\\\":\\\"js\\\",\\\"url\\\":\\\"/assetserver/148711b519458f42f1e7a22e5bdf7a74f9d5f8e0-knockout_punches.js\\\"}],\\\"type\\\":\\\"async_block\\\"})).then((imports) => handler.apply(this, imports));\\n}\\n\")])], Dict{Symbol,Any}(:className=>\"field interact-widget\")), Node{DOM}(DOM(:html, :div), Any[Scope(Node{DOM}(DOM(:html, :div), Any[Node{DOM}(DOM(:html, :div), Any[Node{DOM}(DOM(:html, :label), Any[\"r2\"], Dict{Symbol,Any}(:className=>\"interact \",:style=>Dict{Any,Any}(:padding=>\"5px 10px 0px 10px\")))], Dict{Symbol,Any}(:className=>\"interact-flex-row-left\")), Node{DOM}(DOM(:html, :div), Any[Node{DOM}(DOM(:html, :input), Any[], Dict{Symbol,Any}(:max=>991,:min=>1,:attributes=>Dict{Any,Any}(:type=>\"range\",Symbol(\"data-bind\")=>\"numericValue: index, valueUpdate: 'input', event: {change: function (){this.changes(this.changes()+1)}}\",\"orient\"=>\"horizontal\"),:step=>1,:className=>\"slider slider is-fullwidth\",:style=>Dict{Any,Any}()))], Dict{Symbol,Any}(:className=>\"interact-flex-row-center\")), Node{DOM}(DOM(:html, :div), Any[Node{DOM}(DOM(:html, :p), Any[], Dict{Symbol,Any}(:attributes=>Dict(\"data-bind\"=>\"text: formatted_val\")))], Dict{Symbol,Any}(:className=>\"interact-flex-row-right\"))], Dict{Symbol,Any}(:className=>\"interact-flex-row interact-widget\")), Dict{String,Tuple{Observables.AbstractObservable,Union{Nothing, Bool}}}(\"changes\"=>(Observable{Int64} with 1 listeners. Value:\n",
       "0, nothing),\"index\"=>(Observable{Any} with 2 listeners. Value:\n",
       "191, nothing)), Set(String[]), nothing, Asset[Asset(\"js\", \"knockout\", \"C:\\\\Users\\\\gabri\\\\.julia\\\\packages\\\\Knockout\\\\1sDlc\\\\src\\\\..\\\\assets\\\\knockout.js\"), Asset(\"js\", \"knockout_punches\", \"C:\\\\Users\\\\gabri\\\\.julia\\\\packages\\\\Knockout\\\\1sDlc\\\\src\\\\..\\\\assets\\\\knockout_punches.js\"), Asset(\"js\", nothing, \"C:\\\\Users\\\\gabri\\\\.julia\\\\packages\\\\InteractBase\\\\9mFwe\\\\src\\\\..\\\\assets\\\\all.js\"), Asset(\"css\", nothing, \"C:\\\\Users\\\\gabri\\\\.julia\\\\packages\\\\InteractBase\\\\9mFwe\\\\src\\\\..\\\\assets\\\\style.css\"), Asset(\"css\", nothing, \"C:\\\\Users\\\\gabri\\\\.julia\\\\packages\\\\Interact\\\\SbgIk\\\\src\\\\..\\\\assets\\\\bulma_confined.min.css\")], Dict{Any,Any}(\"changes\"=>Any[JSString(\"(function (val){return (val!=this.model[\\\"changes\\\"]()) ? (this.valueFromJulia[\\\"changes\\\"]=true, this.model[\\\"changes\\\"](val)) : undefined})\")],\"index\"=>Any[JSString(\"(function (val){return (val!=this.model[\\\"index\\\"]()) ? (this.valueFromJulia[\\\"index\\\"]=true, this.model[\\\"index\\\"](val)) : undefined})\")]), ConnectionPool(Channel{Any}(sz_max:32,sz_curr:0), Set(AbstractConnection[]), Condition(Any[Task (runnable) @0x000000002d086290])), WebIO.JSString[JSString(\"function () {\\n    var handler = (function (ko, koPunches) {\\n    ko.punches.enableAll();\\n    ko.bindingHandlers.numericValue = {\\n        init: function(element, valueAccessor, allBindings, data, context) {\\n            var stringified = ko.observable(ko.unwrap(valueAccessor()));\\n            stringified.subscribe(function(value) {\\n                var val = parseFloat(value);\\n                if (!isNaN(val)) {\\n                    valueAccessor()(val);\\n                }\\n            });\\n            valueAccessor().subscribe(function(value) {\\n                var str = JSON.stringify(value);\\n                if ((str == \\\"0\\\") && ([\\\"-0\\\", \\\"-0.\\\"].indexOf(stringified()) >= 0))\\n                     return;\\n                 if ([\\\"null\\\", \\\"\\\"].indexOf(str) >= 0)\\n                     return;\\n                stringified(str);\\n            });\\n            ko.applyBindingsToNode(\\n                element,\\n                {\\n                    value: stringified,\\n                    valueUpdate: allBindings.get('valueUpdate'),\\n                },\\n                context,\\n            );\\n        }\\n    };\\n    var json_data = {\\\"formatted_vals\\\":[\\\"0.1\\\",\\\"0.11\\\",\\\"0.12\\\",\\\"0.13\\\",\\\"0.14\\\",\\\"0.15\\\",\\\"0.16\\\",\\\"0.17\\\",\\\"0.18\\\",\\\"0.19\\\",\\\"0.2\\\",\\\"0.21\\\",\\\"0.22\\\",\\\"0.23\\\",\\\"0.24\\\",\\\"0.25\\\",\\\"0.26\\\",\\\"0.27\\\",\\\"0.28\\\",\\\"0.29\\\",\\\"0.3\\\",\\\"0.31\\\",\\\"0.32\\\",\\\"0.33\\\",\\\"0.34\\\",\\\"0.35\\\",\\\"0.36\\\",\\\"0.37\\\",\\\"0.38\\\",\\\"0.39\\\",\\\"0.4\\\",\\\"0.41\\\",\\\"0.42\\\",\\\"0.43\\\",\\\"0.44\\\",\\\"0.45\\\",\\\"0.46\\\",\\\"0.47\\\",\\\"0.48\\\",\\\"0.49\\\",\\\"0.5\\\",\\\"0.51\\\",\\\"0.52\\\",\\\"0.53\\\",\\\"0.54\\\",\\\"0.55\\\",\\\"0.56\\\",\\\"0.57\\\",\\\"0.58\\\",\\\"0.59\\\",\\\"0.6\\\",\\\"0.61\\\",\\\"0.62\\\",\\\"0.63\\\",\\\"0.64\\\",\\\"0.65\\\",\\\"0.66\\\",\\\"0.67\\\",\\\"0.68\\\",\\\"0.69\\\",\\\"0.7\\\",\\\"0.71\\\",\\\"0.72\\\",\\\"0.73\\\",\\\"0.74\\\",\\\"0.75\\\",\\\"0.76\\\",\\\"0.77\\\",\\\"0.78\\\",\\\"0.79\\\",\\\"0.8\\\",\\\"0.81\\\",\\\"0.82\\\",\\\"0.83\\\",\\\"0.84\\\",\\\"0.85\\\",\\\"0.86\\\",\\\"0.87\\\",\\\"0.88\\\",\\\"0.89\\\",\\\"0.9\\\",\\\"0.91\\\",\\\"0.92\\\",\\\"0.93\\\",\\\"0.94\\\",\\\"0.95\\\",\\\"0.96\\\",\\\"0.97\\\",\\\"0.98\\\",\\\"0.99\\\",\\\"1.0\\\",\\\"1.01\\\",\\\"1.02\\\",\\\"1.03\\\",\\\"1.04\\\",\\\"1.05\\\",\\\"1.06\\\",\\\"1.07\\\",\\\"1.08\\\",\\\"1.09\\\",\\\"1.1\\\",\\\"1.11\\\",\\\"1.12\\\",\\\"1.13\\\",\\\"1.14\\\",\\\"1.15\\\",\\\"1.16\\\",\\\"1.17\\\",\\\"1.18\\\",\\\"1.19\\\",\\\"1.2\\\",\\\"1.21\\\",\\\"1.22\\\",\\\"1.23\\\",\\\"1.24\\\",\\\"1.25\\\",\\\"1.26\\\",\\\"1.27\\\",\\\"1.28\\\",\\\"1.29\\\",\\\"1.3\\\",\\\"1.31\\\",\\\"1.32\\\",\\\"1.33\\\",\\\"1.34\\\",\\\"1.35\\\",\\\"1.36\\\",\\\"1.37\\\",\\\"1.38\\\",\\\"1.39\\\",\\\"1.4\\\",\\\"1.41\\\",\\\"1.42\\\",\\\"1.43\\\",\\\"1.44\\\",\\\"1.45\\\",\\\"1.46\\\",\\\"1.47\\\",\\\"1.48\\\",\\\"1.49\\\",\\\"1.5\\\",\\\"1.51\\\",\\\"1.52\\\",\\\"1.53\\\",\\\"1.54\\\",\\\"1.55\\\",\\\"1.56\\\",\\\"1.57\\\",\\\"1.58\\\",\\\"1.59\\\",\\\"1.6\\\",\\\"1.61\\\",\\\"1.62\\\",\\\"1.63\\\",\\\"1.64\\\",\\\"1.65\\\",\\\"1.66\\\",\\\"1.67\\\",\\\"1.68\\\",\\\"1.69\\\",\\\"1.7\\\",\\\"1.71\\\",\\\"1.72\\\",\\\"1.73\\\",\\\"1.74\\\",\\\"1.75\\\",\\\"1.76\\\",\\\"1.77\\\",\\\"1.78\\\",\\\"1.79\\\",\\\"1.8\\\",\\\"1.81\\\",\\\"1.82\\\",\\\"1.83\\\",\\\"1.84\\\",\\\"1.85\\\",\\\"1.86\\\",\\\"1.87\\\",\\\"1.88\\\",\\\"1.89\\\",\\\"1.9\\\",\\\"1.91\\\",\\\"1.92\\\",\\\"1.93\\\",\\\"1.94\\\",\\\"1.95\\\",\\\"1.96\\\",\\\"1.97\\\",\\\"1.98\\\",\\\"1.99\\\",\\\"2.0\\\",\\\"2.01\\\",\\\"2.02\\\",\\\"2.03\\\",\\\"2.04\\\",\\\"2.05\\\",\\\"2.06\\\",\\\"2.07\\\",\\\"2.08\\\",\\\"2.09\\\",\\\"2.1\\\",\\\"2.11\\\",\\\"2.12\\\",\\\"2.13\\\",\\\"2.14\\\",\\\"2.15\\\",\\\"2.16\\\",\\\"2.17\\\",\\\"2.18\\\",\\\"2.19\\\",\\\"2.2\\\",\\\"2.21\\\",\\\"2.22\\\",\\\"2.23\\\",\\\"2.24\\\",\\\"2.25\\\",\\\"2.26\\\",\\\"2.27\\\",\\\"2.28\\\",\\\"2.29\\\",\\\"2.3\\\",\\\"2.31\\\",\\\"2.32\\\",\\\"2.33\\\",\\\"2.34\\\",\\\"2.35\\\",\\\"2.36\\\",\\\"2.37\\\",\\\"2.38\\\",\\\"2.39\\\",\\\"2.4\\\",\\\"2.41\\\",\\\"2.42\\\",\\\"2.43\\\",\\\"2.44\\\",\\\"2.45\\\",\\\"2.46\\\",\\\"2.47\\\",\\\"2.48\\\",\\\"2.49\\\",\\\"2.5\\\",\\\"2.51\\\",\\\"2.52\\\",\\\"2.53\\\",\\\"2.54\\\",\\\"2.55\\\",\\\"2.56\\\",\\\"2.57\\\",\\\"2.58\\\",\\\"2.59\\\",\\\"2.6\\\",\\\"2.61\\\",\\\"2.62\\\",\\\"2.63\\\",\\\"2.64\\\",\\\"2.65\\\",\\\"2.66\\\",\\\"2.67\\\",\\\"2.68\\\",\\\"2.69\\\",\\\"2.7\\\",\\\"2.71\\\",\\\"2.72\\\",\\\"2.73\\\",\\\"2.74\\\",\\\"2.75\\\",\\\"2.76\\\",\\\"2.77\\\",\\\"2.78\\\",\\\"2.79\\\",\\\"2.8\\\",\\\"2.81\\\",\\\"2.82\\\",\\\"2.83\\\",\\\"2.84\\\",\\\"2.85\\\",\\\"2.86\\\",\\\"2.87\\\",\\\"2.88\\\",\\\"2.89\\\",\\\"2.9\\\",\\\"2.91\\\",\\\"2.92\\\",\\\"2.93\\\",\\\"2.94\\\",\\\"2.95\\\",\\\"2.96\\\",\\\"2.97\\\",\\\"2.98\\\",\\\"2.99\\\",\\\"3.0\\\",\\\"3.01\\\",\\\"3.02\\\",\\\"3.03\\\",\\\"3.04\\\",\\\"3.05\\\",\\\"3.06\\\",\\\"3.07\\\",\\\"3.08\\\",\\\"3.09\\\",\\\"3.1\\\",\\\"3.11\\\",\\\"3.12\\\",\\\"3.13\\\",\\\"3.14\\\",\\\"3.15\\\",\\\"3.16\\\",\\\"3.17\\\",\\\"3.18\\\",\\\"3.19\\\",\\\"3.2\\\",\\\"3.21\\\",\\\"3.22\\\",\\\"3.23\\\",\\\"3.24\\\",\\\"3.25\\\",\\\"3.26\\\",\\\"3.27\\\",\\\"3.28\\\",\\\"3.29\\\",\\\"3.3\\\",\\\"3.31\\\",\\\"3.32\\\",\\\"3.33\\\",\\\"3.34\\\",\\\"3.35\\\",\\\"3.36\\\",\\\"3.37\\\",\\\"3.38\\\",\\\"3.39\\\",\\\"3.4\\\",\\\"3.41\\\",\\\"3.42\\\",\\\"3.43\\\",\\\"3.44\\\",\\\"3.45\\\",\\\"3.46\\\",\\\"3.47\\\",\\\"3.48\\\",\\\"3.49\\\",\\\"3.5\\\",\\\"3.51\\\",\\\"3.52\\\",\\\"3.53\\\",\\\"3.54\\\",\\\"3.55\\\",\\\"3.56\\\",\\\"3.57\\\",\\\"3.58\\\",\\\"3.59\\\",\\\"3.6\\\",\\\"3.61\\\",\\\"3.62\\\",\\\"3.63\\\",\\\"3.64\\\",\\\"3.65\\\",\\\"3.66\\\",\\\"3.67\\\",\\\"3.68\\\",\\\"3.69\\\",\\\"3.7\\\",\\\"3.71\\\",\\\"3.72\\\",\\\"3.73\\\",\\\"3.74\\\",\\\"3.75\\\",\\\"3.76\\\",\\\"3.77\\\",\\\"3.78\\\",\\\"3.79\\\",\\\"3.8\\\",\\\"3.81\\\",\\\"3.82\\\",\\\"3.83\\\",\\\"3.84\\\",\\\"3.85\\\",\\\"3.86\\\",\\\"3.87\\\",\\\"3.88\\\",\\\"3.89\\\",\\\"3.9\\\",\\\"3.91\\\",\\\"3.92\\\",\\\"3.93\\\",\\\"3.94\\\",\\\"3.95\\\",\\\"3.96\\\",\\\"3.97\\\",\\\"3.98\\\",\\\"3.99\\\",\\\"4.0\\\",\\\"4.01\\\",\\\"4.02\\\",\\\"4.03\\\",\\\"4.04\\\",\\\"4.05\\\",\\\"4.06\\\",\\\"4.07\\\",\\\"4.08\\\",\\\"4.09\\\",\\\"4.1\\\",\\\"4.11\\\",\\\"4.12\\\",\\\"4.13\\\",\\\"4.14\\\",\\\"4.15\\\",\\\"4.16\\\",\\\"4.17\\\",\\\"4.18\\\",\\\"4.19\\\",\\\"4.2\\\",\\\"4.21\\\",\\\"4.22\\\",\\\"4.23\\\",\\\"4.24\\\",\\\"4.25\\\",\\\"4.26\\\",\\\"4.27\\\",\\\"4.28\\\",\\\"4.29\\\",\\\"4.3\\\",\\\"4.31\\\",\\\"4.32\\\",\\\"4.33\\\",\\\"4.34\\\",\\\"4.35\\\",\\\"4.36\\\",\\\"4.37\\\",\\\"4.38\\\",\\\"4.39\\\",\\\"4.4\\\",\\\"4.41\\\",\\\"4.42\\\",\\\"4.43\\\",\\\"4.44\\\",\\\"4.45\\\",\\\"4.46\\\",\\\"4.47\\\",\\\"4.48\\\",\\\"4.49\\\",\\\"4.5\\\",\\\"4.51\\\",\\\"4.52\\\",\\\"4.53\\\",\\\"4.54\\\",\\\"4.55\\\",\\\"4.56\\\",\\\"4.57\\\",\\\"4.58\\\",\\\"4.59\\\",\\\"4.6\\\",\\\"4.61\\\",\\\"4.62\\\",\\\"4.63\\\",\\\"4.64\\\",\\\"4.65\\\",\\\"4.66\\\",\\\"4.67\\\",\\\"4.68\\\",\\\"4.69\\\",\\\"4.7\\\",\\\"4.71\\\",\\\"4.72\\\",\\\"4.73\\\",\\\"4.74\\\",\\\"4.75\\\",\\\"4.76\\\",\\\"4.77\\\",\\\"4.78\\\",\\\"4.79\\\",\\\"4.8\\\",\\\"4.81\\\",\\\"4.82\\\",\\\"4.83\\\",\\\"4.84\\\",\\\"4.85\\\",\\\"4.86\\\",\\\"4.87\\\",\\\"4.88\\\",\\\"4.89\\\",\\\"4.9\\\",\\\"4.91\\\",\\\"4.92\\\",\\\"4.93\\\",\\\"4.94\\\",\\\"4.95\\\",\\\"4.96\\\",\\\"4.97\\\",\\\"4.98\\\",\\\"4.99\\\",\\\"5.0\\\",\\\"5.01\\\",\\\"5.02\\\",\\\"5.03\\\",\\\"5.04\\\",\\\"5.05\\\",\\\"5.06\\\",\\\"5.07\\\",\\\"5.08\\\",\\\"5.09\\\",\\\"5.1\\\",\\\"5.11\\\",\\\"5.12\\\",\\\"5.13\\\",\\\"5.14\\\",\\\"5.15\\\",\\\"5.16\\\",\\\"5.17\\\",\\\"5.18\\\",\\\"5.19\\\",\\\"5.2\\\",\\\"5.21\\\",\\\"5.22\\\",\\\"5.23\\\",\\\"5.24\\\",\\\"5.25\\\",\\\"5.26\\\",\\\"5.27\\\",\\\"5.28\\\",\\\"5.29\\\",\\\"5.3\\\",\\\"5.31\\\",\\\"5.32\\\",\\\"5.33\\\",\\\"5.34\\\",\\\"5.35\\\",\\\"5.36\\\",\\\"5.37\\\",\\\"5.38\\\",\\\"5.39\\\",\\\"5.4\\\",\\\"5.41\\\",\\\"5.42\\\",\\\"5.43\\\",\\\"5.44\\\",\\\"5.45\\\",\\\"5.46\\\",\\\"5.47\\\",\\\"5.48\\\",\\\"5.49\\\",\\\"5.5\\\",\\\"5.51\\\",\\\"5.52\\\",\\\"5.53\\\",\\\"5.54\\\",\\\"5.55\\\",\\\"5.56\\\",\\\"5.57\\\",\\\"5.58\\\",\\\"5.59\\\",\\\"5.6\\\",\\\"5.61\\\",\\\"5.62\\\",\\\"5.63\\\",\\\"5.64\\\",\\\"5.65\\\",\\\"5.66\\\",\\\"5.67\\\",\\\"5.68\\\",\\\"5.69\\\",\\\"5.7\\\",\\\"5.71\\\",\\\"5.72\\\",\\\"5.73\\\",\\\"5.74\\\",\\\"5.75\\\",\\\"5.76\\\",\\\"5.77\\\",\\\"5.78\\\",\\\"5.79\\\",\\\"5.8\\\",\\\"5.81\\\",\\\"5.82\\\",\\\"5.83\\\",\\\"5.84\\\",\\\"5.85\\\",\\\"5.86\\\",\\\"5.87\\\",\\\"5.88\\\",\\\"5.89\\\",\\\"5.9\\\",\\\"5.91\\\",\\\"5.92\\\",\\\"5.93\\\",\\\"5.94\\\",\\\"5.95\\\",\\\"5.96\\\",\\\"5.97\\\",\\\"5.98\\\",\\\"5.99\\\",\\\"6.0\\\",\\\"6.01\\\",\\\"6.02\\\",\\\"6.03\\\",\\\"6.04\\\",\\\"6.05\\\",\\\"6.06\\\",\\\"6.07\\\",\\\"6.08\\\",\\\"6.09\\\",\\\"6.1\\\",\\\"6.11\\\",\\\"6.12\\\",\\\"6.13\\\",\\\"6.14\\\",\\\"6.15\\\",\\\"6.16\\\",\\\"6.17\\\",\\\"6.18\\\",\\\"6.19\\\",\\\"6.2\\\",\\\"6.21\\\",\\\"6.22\\\",\\\"6.23\\\",\\\"6.24\\\",\\\"6.25\\\",\\\"6.26\\\",\\\"6.27\\\",\\\"6.28\\\",\\\"6.29\\\",\\\"6.3\\\",\\\"6.31\\\",\\\"6.32\\\",\\\"6.33\\\",\\\"6.34\\\",\\\"6.35\\\",\\\"6.36\\\",\\\"6.37\\\",\\\"6.38\\\",\\\"6.39\\\",\\\"6.4\\\",\\\"6.41\\\",\\\"6.42\\\",\\\"6.43\\\",\\\"6.44\\\",\\\"6.45\\\",\\\"6.46\\\",\\\"6.47\\\",\\\"6.48\\\",\\\"6.49\\\",\\\"6.5\\\",\\\"6.51\\\",\\\"6.52\\\",\\\"6.53\\\",\\\"6.54\\\",\\\"6.55\\\",\\\"6.56\\\",\\\"6.57\\\",\\\"6.58\\\",\\\"6.59\\\",\\\"6.6\\\",\\\"6.61\\\",\\\"6.62\\\",\\\"6.63\\\",\\\"6.64\\\",\\\"6.65\\\",\\\"6.66\\\",\\\"6.67\\\",\\\"6.68\\\",\\\"6.69\\\",\\\"6.7\\\",\\\"6.71\\\",\\\"6.72\\\",\\\"6.73\\\",\\\"6.74\\\",\\\"6.75\\\",\\\"6.76\\\",\\\"6.77\\\",\\\"6.78\\\",\\\"6.79\\\",\\\"6.8\\\",\\\"6.81\\\",\\\"6.82\\\",\\\"6.83\\\",\\\"6.84\\\",\\\"6.85\\\",\\\"6.86\\\",\\\"6.87\\\",\\\"6.88\\\",\\\"6.89\\\",\\\"6.9\\\",\\\"6.91\\\",\\\"6.92\\\",\\\"6.93\\\",\\\"6.94\\\",\\\"6.95\\\",\\\"6.96\\\",\\\"6.97\\\",\\\"6.98\\\",\\\"6.99\\\",\\\"7.0\\\",\\\"7.01\\\",\\\"7.02\\\",\\\"7.03\\\",\\\"7.04\\\",\\\"7.05\\\",\\\"7.06\\\",\\\"7.07\\\",\\\"7.08\\\",\\\"7.09\\\",\\\"7.1\\\",\\\"7.11\\\",\\\"7.12\\\",\\\"7.13\\\",\\\"7.14\\\",\\\"7.15\\\",\\\"7.16\\\",\\\"7.17\\\",\\\"7.18\\\",\\\"7.19\\\",\\\"7.2\\\",\\\"7.21\\\",\\\"7.22\\\",\\\"7.23\\\",\\\"7.24\\\",\\\"7.25\\\",\\\"7.26\\\",\\\"7.27\\\",\\\"7.28\\\",\\\"7.29\\\",\\\"7.3\\\",\\\"7.31\\\",\\\"7.32\\\",\\\"7.33\\\",\\\"7.34\\\",\\\"7.35\\\",\\\"7.36\\\",\\\"7.37\\\",\\\"7.38\\\",\\\"7.39\\\",\\\"7.4\\\",\\\"7.41\\\",\\\"7.42\\\",\\\"7.43\\\",\\\"7.44\\\",\\\"7.45\\\",\\\"7.46\\\",\\\"7.47\\\",\\\"7.48\\\",\\\"7.49\\\",\\\"7.5\\\",\\\"7.51\\\",\\\"7.52\\\",\\\"7.53\\\",\\\"7.54\\\",\\\"7.55\\\",\\\"7.56\\\",\\\"7.57\\\",\\\"7.58\\\",\\\"7.59\\\",\\\"7.6\\\",\\\"7.61\\\",\\\"7.62\\\",\\\"7.63\\\",\\\"7.64\\\",\\\"7.65\\\",\\\"7.66\\\",\\\"7.67\\\",\\\"7.68\\\",\\\"7.69\\\",\\\"7.7\\\",\\\"7.71\\\",\\\"7.72\\\",\\\"7.73\\\",\\\"7.74\\\",\\\"7.75\\\",\\\"7.76\\\",\\\"7.77\\\",\\\"7.78\\\",\\\"7.79\\\",\\\"7.8\\\",\\\"7.81\\\",\\\"7.82\\\",\\\"7.83\\\",\\\"7.84\\\",\\\"7.85\\\",\\\"7.86\\\",\\\"7.87\\\",\\\"7.88\\\",\\\"7.89\\\",\\\"7.9\\\",\\\"7.91\\\",\\\"7.92\\\",\\\"7.93\\\",\\\"7.94\\\",\\\"7.95\\\",\\\"7.96\\\",\\\"7.97\\\",\\\"7.98\\\",\\\"7.99\\\",\\\"8.0\\\",\\\"8.01\\\",\\\"8.02\\\",\\\"8.03\\\",\\\"8.04\\\",\\\"8.05\\\",\\\"8.06\\\",\\\"8.07\\\",\\\"8.08\\\",\\\"8.09\\\",\\\"8.1\\\",\\\"8.11\\\",\\\"8.12\\\",\\\"8.13\\\",\\\"8.14\\\",\\\"8.15\\\",\\\"8.16\\\",\\\"8.17\\\",\\\"8.18\\\",\\\"8.19\\\",\\\"8.2\\\",\\\"8.21\\\",\\\"8.22\\\",\\\"8.23\\\",\\\"8.24\\\",\\\"8.25\\\",\\\"8.26\\\",\\\"8.27\\\",\\\"8.28\\\",\\\"8.29\\\",\\\"8.3\\\",\\\"8.31\\\",\\\"8.32\\\",\\\"8.33\\\",\\\"8.34\\\",\\\"8.35\\\",\\\"8.36\\\",\\\"8.37\\\",\\\"8.38\\\",\\\"8.39\\\",\\\"8.4\\\",\\\"8.41\\\",\\\"8.42\\\",\\\"8.43\\\",\\\"8.44\\\",\\\"8.45\\\",\\\"8.46\\\",\\\"8.47\\\",\\\"8.48\\\",\\\"8.49\\\",\\\"8.5\\\",\\\"8.51\\\",\\\"8.52\\\",\\\"8.53\\\",\\\"8.54\\\",\\\"8.55\\\",\\\"8.56\\\",\\\"8.57\\\",\\\"8.58\\\",\\\"8.59\\\",\\\"8.6\\\",\\\"8.61\\\",\\\"8.62\\\",\\\"8.63\\\",\\\"8.64\\\",\\\"8.65\\\",\\\"8.66\\\",\\\"8.67\\\",\\\"8.68\\\",\\\"8.69\\\",\\\"8.7\\\",\\\"8.71\\\",\\\"8.72\\\",\\\"8.73\\\",\\\"8.74\\\",\\\"8.75\\\",\\\"8.76\\\",\\\"8.77\\\",\\\"8.78\\\",\\\"8.79\\\",\\\"8.8\\\",\\\"8.81\\\",\\\"8.82\\\",\\\"8.83\\\",\\\"8.84\\\",\\\"8.85\\\",\\\"8.86\\\",\\\"8.87\\\",\\\"8.88\\\",\\\"8.89\\\",\\\"8.9\\\",\\\"8.91\\\",\\\"8.92\\\",\\\"8.93\\\",\\\"8.94\\\",\\\"8.95\\\",\\\"8.96\\\",\\\"8.97\\\",\\\"8.98\\\",\\\"8.99\\\",\\\"9.0\\\",\\\"9.01\\\",\\\"9.02\\\",\\\"9.03\\\",\\\"9.04\\\",\\\"9.05\\\",\\\"9.06\\\",\\\"9.07\\\",\\\"9.08\\\",\\\"9.09\\\",\\\"9.1\\\",\\\"9.11\\\",\\\"9.12\\\",\\\"9.13\\\",\\\"9.14\\\",\\\"9.15\\\",\\\"9.16\\\",\\\"9.17\\\",\\\"9.18\\\",\\\"9.19\\\",\\\"9.2\\\",\\\"9.21\\\",\\\"9.22\\\",\\\"9.23\\\",\\\"9.24\\\",\\\"9.25\\\",\\\"9.26\\\",\\\"9.27\\\",\\\"9.28\\\",\\\"9.29\\\",\\\"9.3\\\",\\\"9.31\\\",\\\"9.32\\\",\\\"9.33\\\",\\\"9.34\\\",\\\"9.35\\\",\\\"9.36\\\",\\\"9.37\\\",\\\"9.38\\\",\\\"9.39\\\",\\\"9.4\\\",\\\"9.41\\\",\\\"9.42\\\",\\\"9.43\\\",\\\"9.44\\\",\\\"9.45\\\",\\\"9.46\\\",\\\"9.47\\\",\\\"9.48\\\",\\\"9.49\\\",\\\"9.5\\\",\\\"9.51\\\",\\\"9.52\\\",\\\"9.53\\\",\\\"9.54\\\",\\\"9.55\\\",\\\"9.56\\\",\\\"9.57\\\",\\\"9.58\\\",\\\"9.59\\\",\\\"9.6\\\",\\\"9.61\\\",\\\"9.62\\\",\\\"9.63\\\",\\\"9.64\\\",\\\"9.65\\\",\\\"9.66\\\",\\\"9.67\\\",\\\"9.68\\\",\\\"9.69\\\",\\\"9.7\\\",\\\"9.71\\\",\\\"9.72\\\",\\\"9.73\\\",\\\"9.74\\\",\\\"9.75\\\",\\\"9.76\\\",\\\"9.77\\\",\\\"9.78\\\",\\\"9.79\\\",\\\"9.8\\\",\\\"9.81\\\",\\\"9.82\\\",\\\"9.83\\\",\\\"9.84\\\",\\\"9.85\\\",\\\"9.86\\\",\\\"9.87\\\",\\\"9.88\\\",\\\"9.89\\\",\\\"9.9\\\",\\\"9.91\\\",\\\"9.92\\\",\\\"9.93\\\",\\\"9.94\\\",\\\"9.95\\\",\\\"9.96\\\",\\\"9.97\\\",\\\"9.98\\\",\\\"9.99\\\",\\\"10.0\\\"],\\\"changes\\\":WebIO.getval({\\\"name\\\":\\\"changes\\\",\\\"scope\\\":\\\"9079989127869400802\\\",\\\"id\\\":\\\"ob_18\\\",\\\"type\\\":\\\"observable\\\"}),\\\"index\\\":WebIO.getval({\\\"name\\\":\\\"index\\\",\\\"scope\\\":\\\"9079989127869400802\\\",\\\"id\\\":\\\"ob_17\\\",\\\"type\\\":\\\"observable\\\"})};\\n    var self = this;\\n    function AppViewModel() {\\n        for (var key in json_data) {\\n            var el = json_data[key];\\n            this[key] = Array.isArray(el) ? ko.observableArray(el) : ko.observable(el);\\n        }\\n        \\n        [this[\\\"formatted_val\\\"]=ko.computed(    function(){\\n        return this.formatted_vals()[parseInt(this.index())-(1)];\\n    }\\n,this)]\\n        [this[\\\"changes\\\"].subscribe((function (val){!(this.valueFromJulia[\\\"changes\\\"]) ? (WebIO.setval({\\\"name\\\":\\\"changes\\\",\\\"scope\\\":\\\"9079989127869400802\\\",\\\"id\\\":\\\"ob_18\\\",\\\"type\\\":\\\"observable\\\"},val)) : undefined; return this.valueFromJulia[\\\"changes\\\"]=false}),self),this[\\\"index\\\"].subscribe((function (val){!(this.valueFromJulia[\\\"index\\\"]) ? (WebIO.setval({\\\"name\\\":\\\"index\\\",\\\"scope\\\":\\\"9079989127869400802\\\",\\\"id\\\":\\\"ob_17\\\",\\\"type\\\":\\\"observable\\\"},val)) : undefined; return this.valueFromJulia[\\\"index\\\"]=false}),self)]\\n        \\n    }\\n    self.model = new AppViewModel();\\n    self.valueFromJulia = {};\\n    for (var key in json_data) {\\n        self.valueFromJulia[key] = false;\\n    }\\n    ko.applyBindings(self.model, self.dom);\\n}\\n);\\n    (WebIO.importBlock({\\\"data\\\":[{\\\"name\\\":\\\"knockout\\\",\\\"type\\\":\\\"js\\\",\\\"url\\\":\\\"/assetserver/fd311416c3fbf748771c2940b2ca4b79c53d1ab2-knockout.js\\\"},{\\\"name\\\":\\\"knockout_punches\\\",\\\"type\\\":\\\"js\\\",\\\"url\\\":\\\"/assetserver/148711b519458f42f1e7a22e5bdf7a74f9d5f8e0-knockout_punches.js\\\"}],\\\"type\\\":\\\"async_block\\\"})).then((imports) => handler.apply(this, imports));\\n}\\n\")])], Dict{Symbol,Any}(:className=>\"field interact-widget\")), Observable{Any} with 0 listeners. Value:\n",
       "Node{DOM}(DOM(:html, :div), Any[Plot{Plots.GRBackend() n=2}], Dict{Symbol,Any}(:className=>\"interact-flex-row interact-widget\"))], Dict{Symbol,Any}())"
      ]
     },
     "execution_count": 5,
     "metadata": {
      "application/vnd.webio.node+json": {
       "kernelId": "a445dc7a-9576-47c1-b775-dcef5588fd4c"
      }
     },
     "output_type": "execute_result"
    }
   ],
   "source": [
    "u0 = [0.5, 0.5]\n",
    "t_span = (0.0, 100.0)\n",
    "\n",
    "@manipulate for α12 in slider(0.1:0.01:2.0; label = \"α12\", value = 0.8), \n",
    "                α21 in slider(0.1:0.01:2.0; label = \"α21\", value = 0.3), \n",
    "                K1 in slider(0.1:0.01:3.0; label = \"K1\", value = 1.5), \n",
    "                K2 in slider(0.1:0.01:3.0; label = \"K2\", value = 1.0),\n",
    "                r1 in slider(0.1:0.01:10.0; label = \"r1\", value = 1.0),\n",
    "                r2 in slider(0.1:0.01:10.0; label = \"r2\", value = 2.0)\n",
    "    p = LVPar(α12 = α12, α21 = α21, K1 = K1, K2 = K2, r1 = r1, r2 = r2)\n",
    "    prob = ODEProblem(lv_comp, u0, t_span, p)\n",
    "    sol = solve(prob, reltol = 1e-8)\n",
    "    plot(sol)\n",
    "    xlabel!(\"time\")\n",
    "    ylabel!(\"Density\")\n",
    "end"
   ]
  },
  {
   "cell_type": "markdown",
   "metadata": {},
   "source": [
    "# Equilibria and Isoclines"
   ]
  },
  {
   "cell_type": "markdown",
   "metadata": {},
   "source": [
    "From the above equations we can generate the Jacobian:"
   ]
  },
  {
   "cell_type": "code",
   "execution_count": 6,
   "metadata": {},
   "outputs": [
    {
     "data": {
      "text/plain": [
       "jac (generic function with 1 method)"
      ]
     },
     "execution_count": 6,
     "metadata": {},
     "output_type": "execute_result"
    }
   ],
   "source": [
    "# Make a numerical (not symbolic version using the ForwardDiff.jl library. This is what you will want to do most of the time)\n",
    "jac(u, p) = ForwardDiff.jacobian(u -> lv_comp(u, p, NaN), u)"
   ]
  },
  {
   "cell_type": "code",
   "execution_count": 7,
   "metadata": {},
   "outputs": [
    {
     "data": {
      "text/plain": [
       "2×2 Array{Float64,2}:\n",
       "  0.0666667  -0.266667\n",
       " -0.3        -0.3     "
      ]
     },
     "execution_count": 7,
     "metadata": {},
     "output_type": "execute_result"
    }
   ],
   "source": [
    "# Here we have the jacobian evaluated at the point `u = [0.5, 0.5]`, with the parameter set `par`\n",
    "jac([0.5, 0.5], LVPar())"
   ]
  },
  {
   "cell_type": "markdown",
   "metadata": {},
   "source": [
    "First solve for $f_1$ and $f_2$ to determine when functions are equal to 0 (i.e., when $du_1/dt$ and $du_2/dt = 0$). These are known as the isoclines, or nullclines, and describe the set of solutions when $u_1$ and $u_2$ do not change."
   ]
  },
  {
   "cell_type": "code",
   "execution_count": 8,
   "metadata": {},
   "outputs": [
    {
     "name": "stderr",
     "output_type": "stream",
     "text": [
      "WARNING: using SymPy.solve in module Main conflicts with an existing identifier.\n"
     ]
    }
   ],
   "source": [
    "# We need to use a library for Symbolic calculations, a very common one is SymPy from the python language. Luckily Julia\n",
    "# has excellent support for it.\n",
    "using SymPy"
   ]
  },
  {
   "cell_type": "code",
   "execution_count": 9,
   "metadata": {},
   "outputs": [],
   "source": [
    "# We want to deal with all of these as symbolic variables, which are not the default type in Julia, unlike Mathematica.\n",
    "@vars u1 u2\n",
    "@vars r1 r2 a12 a21 K1 K2\n",
    "# We need to make a symbolic parameter list, as `LVPar` is numeric\n",
    "spar = Dict(\n",
    "    :α12 => a12,\n",
    "    :α21 => a21,\n",
    "    :r1 => r1,\n",
    "    :r2 => r2,\n",
    "    :K1 => K1,\n",
    "    :K2 => K2);"
   ]
  },
  {
   "cell_type": "code",
   "execution_count": 11,
   "metadata": {},
   "outputs": [
    {
     "data": {
      "text/latex": [
       "\\[ \\left[ \\begin{array}{r}r_{1} u_{1} \\left(1 - \\frac{a_{12} u_{2} + u_{1}}{K_{1}}\\right)\\\\r_{2} u_{2} \\left(1 - \\frac{a_{21} u_{1} + u_{2}}{K_{2}}\\right)\\end{array} \\right] \\]"
      ],
      "text/plain": [
       "2-element Array{Sym,1}:\n",
       " r1*u1*(1 - (a12*u2 + u1)/K1)\n",
       " r2*u2*(1 - (a21*u1 + u2)/K2)"
      ]
     },
     "execution_count": 11,
     "metadata": {},
     "output_type": "execute_result"
    }
   ],
   "source": [
    "# we need to make symbolic versions of the model equations. We do this by calling the function with the symbolic parameters.\n",
    "# the last parameter could be anythign as the time (`t`) argument is not used. I have set it to `NaN` which is a name for\n",
    "# not a number.\n",
    "f1, f2 = lv_comp([u1, u2], spar, NaN)"
   ]
  },
  {
   "cell_type": "code",
   "execution_count": 12,
   "metadata": {},
   "outputs": [
    {
     "data": {
      "text/latex": [
       "\\[ \\left[ \\begin{array}{r}0\\\\K_{1} - a_{12} u_{2}\\end{array} \\right] \\]"
      ],
      "text/plain": [
       "2-element Array{Sym,1}:\n",
       "           0\n",
       " K1 - a12*u2"
      ]
     },
     "execution_count": 12,
     "metadata": {},
     "output_type": "execute_result"
    }
   ],
   "source": [
    "sympy.solve(f1, u1)"
   ]
  },
  {
   "cell_type": "code",
   "execution_count": 13,
   "metadata": {},
   "outputs": [
    {
     "data": {
      "text/latex": [
       "\\[ \\left[ \\begin{array}{r}\\frac{K_{1} - u_{1}}{a_{12}}\\end{array} \\right] \\]"
      ],
      "text/plain": [
       "1-element Array{Sym,1}:\n",
       " (K1 - u1)/a12"
      ]
     },
     "execution_count": 13,
     "metadata": {},
     "output_type": "execute_result"
    }
   ],
   "source": [
    "sympy.solve(f1, u2)"
   ]
  },
  {
   "cell_type": "code",
   "execution_count": 14,
   "metadata": {},
   "outputs": [
    {
     "data": {
      "text/latex": [
       "\\[ \\left[ \\begin{array}{r}\\frac{K_{2} - u_{2}}{a_{21}}\\end{array} \\right] \\]"
      ],
      "text/plain": [
       "1-element Array{Sym,1}:\n",
       " (K2 - u2)/a21"
      ]
     },
     "execution_count": 14,
     "metadata": {},
     "output_type": "execute_result"
    }
   ],
   "source": [
    "sympy.solve(f2, u1)"
   ]
  },
  {
   "cell_type": "code",
   "execution_count": 15,
   "metadata": {},
   "outputs": [
    {
     "data": {
      "text/latex": [
       "\\[ \\left[ \\begin{array}{r}0\\\\K_{2} - a_{21} u_{1}\\end{array} \\right] \\]"
      ],
      "text/plain": [
       "2-element Array{Sym,1}:\n",
       "           0\n",
       " K2 - a21*u1"
      ]
     },
     "execution_count": 15,
     "metadata": {},
     "output_type": "execute_result"
    }
   ],
   "source": [
    "sympy.solve(f2, u2)"
   ]
  },
  {
   "cell_type": "markdown",
   "metadata": {},
   "source": [
    "We want to solve our equations for $u_1$ so that we can plot the isoclines as a function of $u_1$ ($u_1$ on the y-axis), but here I am keeping all possible solutions, with respect to both $u_1$ and $u_2$. You should be able to see that the first two solutions ($u_1 = K_1 - \\alpha_{12}u_2$ and $u_2 = (K_1 - u_1)/\\alpha_{12}$) are equivalent.\n",
    "\n",
    "The solutions $u_1 = K_1 - \\alpha_{12}u_2$ and $u_1 = (K_2 - u_2)/\\alpha_{21}$ are the equations for our isoclines for $du_1/dt = 0$ and $du_2/dt = 0$, respectively. We can find the interior equilibrium where these lines intersect (i.e., both $u_1$ and $u_2$ do not change). In this case we get one interior equilibrium, but note that in more complicated models we can get more interior equilibria."
   ]
  },
  {
   "cell_type": "markdown",
   "metadata": {},
   "source": [
    "## Now plot the isoclines\n",
    "We will again use the `manipulate` function to see how our parameters change the isoclines. This can immediately tell us a lot about our equilibria and stability."
   ]
  },
  {
   "cell_type": "code",
   "execution_count": 16,
   "metadata": {},
   "outputs": [
    {
     "data": {
      "text/plain": [
       "iso2 (generic function with 1 method)"
      ]
     },
     "execution_count": 16,
     "metadata": {},
     "output_type": "execute_result"
    }
   ],
   "source": [
    "function iso1(u2, p)\n",
    "    @unpack α12, K1 = p\n",
    "    return K1 - α12 * u2 / K1\n",
    "end\n",
    "\n",
    "function iso2(u2, p)\n",
    "    @unpack α21, K2 = p\n",
    "    return (K2 - u2) / α21\n",
    "end"
   ]
  },
  {
   "cell_type": "code",
   "execution_count": 17,
   "metadata": {},
   "outputs": [
    {
     "data": {
      "application/vnd.webio.node+json": {
       "children": [
        {
         "children": [
          {
           "children": [
            {
             "children": [
              {
               "children": [
                {
                 "children": [
                  "α12"
                 ],
                 "instanceArgs": {
                  "namespace": "html",
                  "tag": "label"
                 },
                 "nodeType": "DOM",
                 "props": {
                  "className": "interact ",
                  "style": {
                   "padding": "5px 10px 0px 10px"
                  }
                 },
                 "type": "node"
                }
               ],
               "instanceArgs": {
                "namespace": "html",
                "tag": "div"
               },
               "nodeType": "DOM",
               "props": {
                "className": "interact-flex-row-left"
               },
               "type": "node"
              },
              {
               "children": [
                {
                 "children": [],
                 "instanceArgs": {
                  "namespace": "html",
                  "tag": "input"
                 },
                 "nodeType": "DOM",
                 "props": {
                  "attributes": {
                   "data-bind": "numericValue: index, valueUpdate: 'input', event: {change: function (){this.changes(this.changes()+1)}}",
                   "orient": "horizontal",
                   "type": "range"
                  },
                  "className": "slider slider is-fullwidth",
                  "max": 91,
                  "min": 1,
                  "step": 1,
                  "style": {}
                 },
                 "type": "node"
                }
               ],
               "instanceArgs": {
                "namespace": "html",
                "tag": "div"
               },
               "nodeType": "DOM",
               "props": {
                "className": "interact-flex-row-center"
               },
               "type": "node"
              },
              {
               "children": [
                {
                 "children": [],
                 "instanceArgs": {
                  "namespace": "html",
                  "tag": "p"
                 },
                 "nodeType": "DOM",
                 "props": {
                  "attributes": {
                   "data-bind": "text: formatted_val"
                  }
                 },
                 "type": "node"
                }
               ],
               "instanceArgs": {
                "namespace": "html",
                "tag": "div"
               },
               "nodeType": "DOM",
               "props": {
                "className": "interact-flex-row-right"
               },
               "type": "node"
              }
             ],
             "instanceArgs": {
              "namespace": "html",
              "tag": "div"
             },
             "nodeType": "DOM",
             "props": {
              "className": "interact-flex-row interact-widget"
             },
             "type": "node"
            }
           ],
           "instanceArgs": {
            "handlers": {
             "changes": [
              "(function (val){return (val!=this.model[\"changes\"]()) ? (this.valueFromJulia[\"changes\"]=true, this.model[\"changes\"](val)) : undefined})"
             ],
             "index": [
              "(function (val){return (val!=this.model[\"index\"]()) ? (this.valueFromJulia[\"index\"]=true, this.model[\"index\"](val)) : undefined})"
             ]
            },
            "id": "7337179859241363623",
            "imports": {
             "data": [
              {
               "name": "knockout",
               "type": "js",
               "url": "/assetserver/fd311416c3fbf748771c2940b2ca4b79c53d1ab2-knockout.js"
              },
              {
               "name": "knockout_punches",
               "type": "js",
               "url": "/assetserver/148711b519458f42f1e7a22e5bdf7a74f9d5f8e0-knockout_punches.js"
              },
              {
               "name": null,
               "type": "js",
               "url": "/assetserver/96387ddaa2b47f2577dbef3402b61deb55b692cb-all.js"
              },
              {
               "name": null,
               "type": "css",
               "url": "/assetserver/1205e2cb75bbf44a95189d9e430e22f4b3018051-style.css"
              },
              {
               "name": null,
               "type": "css",
               "url": "/assetserver/e47939cc599f2b791e3e3e81f0cfd77c1a048dd3-bulma_confined.min.css"
              }
             ],
             "type": "async_block"
            },
            "mount_callbacks": [
             "function () {\n    var handler = (function (ko, koPunches) {\n    ko.punches.enableAll();\n    ko.bindingHandlers.numericValue = {\n        init: function(element, valueAccessor, allBindings, data, context) {\n            var stringified = ko.observable(ko.unwrap(valueAccessor()));\n            stringified.subscribe(function(value) {\n                var val = parseFloat(value);\n                if (!isNaN(val)) {\n                    valueAccessor()(val);\n                }\n            });\n            valueAccessor().subscribe(function(value) {\n                var str = JSON.stringify(value);\n                if ((str == \"0\") && ([\"-0\", \"-0.\"].indexOf(stringified()) >= 0))\n                     return;\n                 if ([\"null\", \"\"].indexOf(str) >= 0)\n                     return;\n                stringified(str);\n            });\n            ko.applyBindingsToNode(\n                element,\n                {\n                    value: stringified,\n                    valueUpdate: allBindings.get('valueUpdate'),\n                },\n                context,\n            );\n        }\n    };\n    var json_data = {\"formatted_vals\":[\"0.1\",\"0.11\",\"0.12\",\"0.13\",\"0.14\",\"0.15\",\"0.16\",\"0.17\",\"0.18\",\"0.19\",\"0.2\",\"0.21\",\"0.22\",\"0.23\",\"0.24\",\"0.25\",\"0.26\",\"0.27\",\"0.28\",\"0.29\",\"0.3\",\"0.31\",\"0.32\",\"0.33\",\"0.34\",\"0.35\",\"0.36\",\"0.37\",\"0.38\",\"0.39\",\"0.4\",\"0.41\",\"0.42\",\"0.43\",\"0.44\",\"0.45\",\"0.46\",\"0.47\",\"0.48\",\"0.49\",\"0.5\",\"0.51\",\"0.52\",\"0.53\",\"0.54\",\"0.55\",\"0.56\",\"0.57\",\"0.58\",\"0.59\",\"0.6\",\"0.61\",\"0.62\",\"0.63\",\"0.64\",\"0.65\",\"0.66\",\"0.67\",\"0.68\",\"0.69\",\"0.7\",\"0.71\",\"0.72\",\"0.73\",\"0.74\",\"0.75\",\"0.76\",\"0.77\",\"0.78\",\"0.79\",\"0.8\",\"0.81\",\"0.82\",\"0.83\",\"0.84\",\"0.85\",\"0.86\",\"0.87\",\"0.88\",\"0.89\",\"0.9\",\"0.91\",\"0.92\",\"0.93\",\"0.94\",\"0.95\",\"0.96\",\"0.97\",\"0.98\",\"0.99\",\"1.0\"],\"changes\":WebIO.getval({\"name\":\"changes\",\"scope\":\"7337179859241363623\",\"id\":\"ob_27\",\"type\":\"observable\"}),\"index\":WebIO.getval({\"name\":\"index\",\"scope\":\"7337179859241363623\",\"id\":\"ob_26\",\"type\":\"observable\"})};\n    var self = this;\n    function AppViewModel() {\n        for (var key in json_data) {\n            var el = json_data[key];\n            this[key] = Array.isArray(el) ? ko.observableArray(el) : ko.observable(el);\n        }\n        \n        [this[\"formatted_val\"]=ko.computed(    function(){\n        return this.formatted_vals()[parseInt(this.index())-(1)];\n    }\n,this)]\n        [this[\"changes\"].subscribe((function (val){!(this.valueFromJulia[\"changes\"]) ? (WebIO.setval({\"name\":\"changes\",\"scope\":\"7337179859241363623\",\"id\":\"ob_27\",\"type\":\"observable\"},val)) : undefined; return this.valueFromJulia[\"changes\"]=false}),self),this[\"index\"].subscribe((function (val){!(this.valueFromJulia[\"index\"]) ? (WebIO.setval({\"name\":\"index\",\"scope\":\"7337179859241363623\",\"id\":\"ob_26\",\"type\":\"observable\"},val)) : undefined; return this.valueFromJulia[\"index\"]=false}),self)]\n        \n    }\n    self.model = new AppViewModel();\n    self.valueFromJulia = {};\n    for (var key in json_data) {\n        self.valueFromJulia[key] = false;\n    }\n    ko.applyBindings(self.model, self.dom);\n}\n);\n    (WebIO.importBlock({\"data\":[{\"name\":\"knockout\",\"type\":\"js\",\"url\":\"/assetserver/fd311416c3fbf748771c2940b2ca4b79c53d1ab2-knockout.js\"},{\"name\":\"knockout_punches\",\"type\":\"js\",\"url\":\"/assetserver/148711b519458f42f1e7a22e5bdf7a74f9d5f8e0-knockout_punches.js\"}],\"type\":\"async_block\"})).then((imports) => handler.apply(this, imports));\n}\n"
            ],
            "observables": {
             "changes": {
              "id": "ob_27",
              "sync": false,
              "value": 0
             },
             "index": {
              "id": "ob_26",
              "sync": true,
              "value": 71
             }
            },
            "systemjs_options": null
           },
           "nodeType": "Scope",
           "props": {},
           "type": "node"
          }
         ],
         "instanceArgs": {
          "namespace": "html",
          "tag": "div"
         },
         "nodeType": "DOM",
         "props": {
          "className": "field interact-widget"
         },
         "type": "node"
        },
        {
         "children": [
          {
           "children": [
            {
             "children": [
              {
               "children": [
                {
                 "children": [
                  "α21"
                 ],
                 "instanceArgs": {
                  "namespace": "html",
                  "tag": "label"
                 },
                 "nodeType": "DOM",
                 "props": {
                  "className": "interact ",
                  "style": {
                   "padding": "5px 10px 0px 10px"
                  }
                 },
                 "type": "node"
                }
               ],
               "instanceArgs": {
                "namespace": "html",
                "tag": "div"
               },
               "nodeType": "DOM",
               "props": {
                "className": "interact-flex-row-left"
               },
               "type": "node"
              },
              {
               "children": [
                {
                 "children": [],
                 "instanceArgs": {
                  "namespace": "html",
                  "tag": "input"
                 },
                 "nodeType": "DOM",
                 "props": {
                  "attributes": {
                   "data-bind": "numericValue: index, valueUpdate: 'input', event: {change: function (){this.changes(this.changes()+1)}}",
                   "orient": "horizontal",
                   "type": "range"
                  },
                  "className": "slider slider is-fullwidth",
                  "max": 91,
                  "min": 1,
                  "step": 1,
                  "style": {}
                 },
                 "type": "node"
                }
               ],
               "instanceArgs": {
                "namespace": "html",
                "tag": "div"
               },
               "nodeType": "DOM",
               "props": {
                "className": "interact-flex-row-center"
               },
               "type": "node"
              },
              {
               "children": [
                {
                 "children": [],
                 "instanceArgs": {
                  "namespace": "html",
                  "tag": "p"
                 },
                 "nodeType": "DOM",
                 "props": {
                  "attributes": {
                   "data-bind": "text: formatted_val"
                  }
                 },
                 "type": "node"
                }
               ],
               "instanceArgs": {
                "namespace": "html",
                "tag": "div"
               },
               "nodeType": "DOM",
               "props": {
                "className": "interact-flex-row-right"
               },
               "type": "node"
              }
             ],
             "instanceArgs": {
              "namespace": "html",
              "tag": "div"
             },
             "nodeType": "DOM",
             "props": {
              "className": "interact-flex-row interact-widget"
             },
             "type": "node"
            }
           ],
           "instanceArgs": {
            "handlers": {
             "changes": [
              "(function (val){return (val!=this.model[\"changes\"]()) ? (this.valueFromJulia[\"changes\"]=true, this.model[\"changes\"](val)) : undefined})"
             ],
             "index": [
              "(function (val){return (val!=this.model[\"index\"]()) ? (this.valueFromJulia[\"index\"]=true, this.model[\"index\"](val)) : undefined})"
             ]
            },
            "id": "3808146200388026543",
            "imports": {
             "data": [
              {
               "name": "knockout",
               "type": "js",
               "url": "/assetserver/fd311416c3fbf748771c2940b2ca4b79c53d1ab2-knockout.js"
              },
              {
               "name": "knockout_punches",
               "type": "js",
               "url": "/assetserver/148711b519458f42f1e7a22e5bdf7a74f9d5f8e0-knockout_punches.js"
              },
              {
               "name": null,
               "type": "js",
               "url": "/assetserver/96387ddaa2b47f2577dbef3402b61deb55b692cb-all.js"
              },
              {
               "name": null,
               "type": "css",
               "url": "/assetserver/1205e2cb75bbf44a95189d9e430e22f4b3018051-style.css"
              },
              {
               "name": null,
               "type": "css",
               "url": "/assetserver/e47939cc599f2b791e3e3e81f0cfd77c1a048dd3-bulma_confined.min.css"
              }
             ],
             "type": "async_block"
            },
            "mount_callbacks": [
             "function () {\n    var handler = (function (ko, koPunches) {\n    ko.punches.enableAll();\n    ko.bindingHandlers.numericValue = {\n        init: function(element, valueAccessor, allBindings, data, context) {\n            var stringified = ko.observable(ko.unwrap(valueAccessor()));\n            stringified.subscribe(function(value) {\n                var val = parseFloat(value);\n                if (!isNaN(val)) {\n                    valueAccessor()(val);\n                }\n            });\n            valueAccessor().subscribe(function(value) {\n                var str = JSON.stringify(value);\n                if ((str == \"0\") && ([\"-0\", \"-0.\"].indexOf(stringified()) >= 0))\n                     return;\n                 if ([\"null\", \"\"].indexOf(str) >= 0)\n                     return;\n                stringified(str);\n            });\n            ko.applyBindingsToNode(\n                element,\n                {\n                    value: stringified,\n                    valueUpdate: allBindings.get('valueUpdate'),\n                },\n                context,\n            );\n        }\n    };\n    var json_data = {\"formatted_vals\":[\"0.1\",\"0.11\",\"0.12\",\"0.13\",\"0.14\",\"0.15\",\"0.16\",\"0.17\",\"0.18\",\"0.19\",\"0.2\",\"0.21\",\"0.22\",\"0.23\",\"0.24\",\"0.25\",\"0.26\",\"0.27\",\"0.28\",\"0.29\",\"0.3\",\"0.31\",\"0.32\",\"0.33\",\"0.34\",\"0.35\",\"0.36\",\"0.37\",\"0.38\",\"0.39\",\"0.4\",\"0.41\",\"0.42\",\"0.43\",\"0.44\",\"0.45\",\"0.46\",\"0.47\",\"0.48\",\"0.49\",\"0.5\",\"0.51\",\"0.52\",\"0.53\",\"0.54\",\"0.55\",\"0.56\",\"0.57\",\"0.58\",\"0.59\",\"0.6\",\"0.61\",\"0.62\",\"0.63\",\"0.64\",\"0.65\",\"0.66\",\"0.67\",\"0.68\",\"0.69\",\"0.7\",\"0.71\",\"0.72\",\"0.73\",\"0.74\",\"0.75\",\"0.76\",\"0.77\",\"0.78\",\"0.79\",\"0.8\",\"0.81\",\"0.82\",\"0.83\",\"0.84\",\"0.85\",\"0.86\",\"0.87\",\"0.88\",\"0.89\",\"0.9\",\"0.91\",\"0.92\",\"0.93\",\"0.94\",\"0.95\",\"0.96\",\"0.97\",\"0.98\",\"0.99\",\"1.0\"],\"changes\":WebIO.getval({\"name\":\"changes\",\"scope\":\"3808146200388026543\",\"id\":\"ob_30\",\"type\":\"observable\"}),\"index\":WebIO.getval({\"name\":\"index\",\"scope\":\"3808146200388026543\",\"id\":\"ob_29\",\"type\":\"observable\"})};\n    var self = this;\n    function AppViewModel() {\n        for (var key in json_data) {\n            var el = json_data[key];\n            this[key] = Array.isArray(el) ? ko.observableArray(el) : ko.observable(el);\n        }\n        \n        [this[\"formatted_val\"]=ko.computed(    function(){\n        return this.formatted_vals()[parseInt(this.index())-(1)];\n    }\n,this)]\n        [this[\"changes\"].subscribe((function (val){!(this.valueFromJulia[\"changes\"]) ? (WebIO.setval({\"name\":\"changes\",\"scope\":\"3808146200388026543\",\"id\":\"ob_30\",\"type\":\"observable\"},val)) : undefined; return this.valueFromJulia[\"changes\"]=false}),self),this[\"index\"].subscribe((function (val){!(this.valueFromJulia[\"index\"]) ? (WebIO.setval({\"name\":\"index\",\"scope\":\"3808146200388026543\",\"id\":\"ob_29\",\"type\":\"observable\"},val)) : undefined; return this.valueFromJulia[\"index\"]=false}),self)]\n        \n    }\n    self.model = new AppViewModel();\n    self.valueFromJulia = {};\n    for (var key in json_data) {\n        self.valueFromJulia[key] = false;\n    }\n    ko.applyBindings(self.model, self.dom);\n}\n);\n    (WebIO.importBlock({\"data\":[{\"name\":\"knockout\",\"type\":\"js\",\"url\":\"/assetserver/fd311416c3fbf748771c2940b2ca4b79c53d1ab2-knockout.js\"},{\"name\":\"knockout_punches\",\"type\":\"js\",\"url\":\"/assetserver/148711b519458f42f1e7a22e5bdf7a74f9d5f8e0-knockout_punches.js\"}],\"type\":\"async_block\"})).then((imports) => handler.apply(this, imports));\n}\n"
            ],
            "observables": {
             "changes": {
              "id": "ob_30",
              "sync": false,
              "value": 0
             },
             "index": {
              "id": "ob_29",
              "sync": true,
              "value": 21
             }
            },
            "systemjs_options": null
           },
           "nodeType": "Scope",
           "props": {},
           "type": "node"
          }
         ],
         "instanceArgs": {
          "namespace": "html",
          "tag": "div"
         },
         "nodeType": "DOM",
         "props": {
          "className": "field interact-widget"
         },
         "type": "node"
        },
        {
         "children": [
          {
           "children": [
            {
             "children": [
              {
               "children": [
                {
                 "children": [
                  "K1"
                 ],
                 "instanceArgs": {
                  "namespace": "html",
                  "tag": "label"
                 },
                 "nodeType": "DOM",
                 "props": {
                  "className": "interact ",
                  "style": {
                   "padding": "5px 10px 0px 10px"
                  }
                 },
                 "type": "node"
                }
               ],
               "instanceArgs": {
                "namespace": "html",
                "tag": "div"
               },
               "nodeType": "DOM",
               "props": {
                "className": "interact-flex-row-left"
               },
               "type": "node"
              },
              {
               "children": [
                {
                 "children": [],
                 "instanceArgs": {
                  "namespace": "html",
                  "tag": "input"
                 },
                 "nodeType": "DOM",
                 "props": {
                  "attributes": {
                   "data-bind": "numericValue: index, valueUpdate: 'input', event: {change: function (){this.changes(this.changes()+1)}}",
                   "orient": "horizontal",
                   "type": "range"
                  },
                  "className": "slider slider is-fullwidth",
                  "max": 191,
                  "min": 1,
                  "step": 1,
                  "style": {}
                 },
                 "type": "node"
                }
               ],
               "instanceArgs": {
                "namespace": "html",
                "tag": "div"
               },
               "nodeType": "DOM",
               "props": {
                "className": "interact-flex-row-center"
               },
               "type": "node"
              },
              {
               "children": [
                {
                 "children": [],
                 "instanceArgs": {
                  "namespace": "html",
                  "tag": "p"
                 },
                 "nodeType": "DOM",
                 "props": {
                  "attributes": {
                   "data-bind": "text: formatted_val"
                  }
                 },
                 "type": "node"
                }
               ],
               "instanceArgs": {
                "namespace": "html",
                "tag": "div"
               },
               "nodeType": "DOM",
               "props": {
                "className": "interact-flex-row-right"
               },
               "type": "node"
              }
             ],
             "instanceArgs": {
              "namespace": "html",
              "tag": "div"
             },
             "nodeType": "DOM",
             "props": {
              "className": "interact-flex-row interact-widget"
             },
             "type": "node"
            }
           ],
           "instanceArgs": {
            "handlers": {
             "changes": [
              "(function (val){return (val!=this.model[\"changes\"]()) ? (this.valueFromJulia[\"changes\"]=true, this.model[\"changes\"](val)) : undefined})"
             ],
             "index": [
              "(function (val){return (val!=this.model[\"index\"]()) ? (this.valueFromJulia[\"index\"]=true, this.model[\"index\"](val)) : undefined})"
             ]
            },
            "id": "17113378502831011110",
            "imports": {
             "data": [
              {
               "name": "knockout",
               "type": "js",
               "url": "/assetserver/fd311416c3fbf748771c2940b2ca4b79c53d1ab2-knockout.js"
              },
              {
               "name": "knockout_punches",
               "type": "js",
               "url": "/assetserver/148711b519458f42f1e7a22e5bdf7a74f9d5f8e0-knockout_punches.js"
              },
              {
               "name": null,
               "type": "js",
               "url": "/assetserver/96387ddaa2b47f2577dbef3402b61deb55b692cb-all.js"
              },
              {
               "name": null,
               "type": "css",
               "url": "/assetserver/1205e2cb75bbf44a95189d9e430e22f4b3018051-style.css"
              },
              {
               "name": null,
               "type": "css",
               "url": "/assetserver/e47939cc599f2b791e3e3e81f0cfd77c1a048dd3-bulma_confined.min.css"
              }
             ],
             "type": "async_block"
            },
            "mount_callbacks": [
             "function () {\n    var handler = (function (ko, koPunches) {\n    ko.punches.enableAll();\n    ko.bindingHandlers.numericValue = {\n        init: function(element, valueAccessor, allBindings, data, context) {\n            var stringified = ko.observable(ko.unwrap(valueAccessor()));\n            stringified.subscribe(function(value) {\n                var val = parseFloat(value);\n                if (!isNaN(val)) {\n                    valueAccessor()(val);\n                }\n            });\n            valueAccessor().subscribe(function(value) {\n                var str = JSON.stringify(value);\n                if ((str == \"0\") && ([\"-0\", \"-0.\"].indexOf(stringified()) >= 0))\n                     return;\n                 if ([\"null\", \"\"].indexOf(str) >= 0)\n                     return;\n                stringified(str);\n            });\n            ko.applyBindingsToNode(\n                element,\n                {\n                    value: stringified,\n                    valueUpdate: allBindings.get('valueUpdate'),\n                },\n                context,\n            );\n        }\n    };\n    var json_data = {\"formatted_vals\":[\"0.1\",\"0.11\",\"0.12\",\"0.13\",\"0.14\",\"0.15\",\"0.16\",\"0.17\",\"0.18\",\"0.19\",\"0.2\",\"0.21\",\"0.22\",\"0.23\",\"0.24\",\"0.25\",\"0.26\",\"0.27\",\"0.28\",\"0.29\",\"0.3\",\"0.31\",\"0.32\",\"0.33\",\"0.34\",\"0.35\",\"0.36\",\"0.37\",\"0.38\",\"0.39\",\"0.4\",\"0.41\",\"0.42\",\"0.43\",\"0.44\",\"0.45\",\"0.46\",\"0.47\",\"0.48\",\"0.49\",\"0.5\",\"0.51\",\"0.52\",\"0.53\",\"0.54\",\"0.55\",\"0.56\",\"0.57\",\"0.58\",\"0.59\",\"0.6\",\"0.61\",\"0.62\",\"0.63\",\"0.64\",\"0.65\",\"0.66\",\"0.67\",\"0.68\",\"0.69\",\"0.7\",\"0.71\",\"0.72\",\"0.73\",\"0.74\",\"0.75\",\"0.76\",\"0.77\",\"0.78\",\"0.79\",\"0.8\",\"0.81\",\"0.82\",\"0.83\",\"0.84\",\"0.85\",\"0.86\",\"0.87\",\"0.88\",\"0.89\",\"0.9\",\"0.91\",\"0.92\",\"0.93\",\"0.94\",\"0.95\",\"0.96\",\"0.97\",\"0.98\",\"0.99\",\"1.0\",\"1.01\",\"1.02\",\"1.03\",\"1.04\",\"1.05\",\"1.06\",\"1.07\",\"1.08\",\"1.09\",\"1.1\",\"1.11\",\"1.12\",\"1.13\",\"1.14\",\"1.15\",\"1.16\",\"1.17\",\"1.18\",\"1.19\",\"1.2\",\"1.21\",\"1.22\",\"1.23\",\"1.24\",\"1.25\",\"1.26\",\"1.27\",\"1.28\",\"1.29\",\"1.3\",\"1.31\",\"1.32\",\"1.33\",\"1.34\",\"1.35\",\"1.36\",\"1.37\",\"1.38\",\"1.39\",\"1.4\",\"1.41\",\"1.42\",\"1.43\",\"1.44\",\"1.45\",\"1.46\",\"1.47\",\"1.48\",\"1.49\",\"1.5\",\"1.51\",\"1.52\",\"1.53\",\"1.54\",\"1.55\",\"1.56\",\"1.57\",\"1.58\",\"1.59\",\"1.6\",\"1.61\",\"1.62\",\"1.63\",\"1.64\",\"1.65\",\"1.66\",\"1.67\",\"1.68\",\"1.69\",\"1.7\",\"1.71\",\"1.72\",\"1.73\",\"1.74\",\"1.75\",\"1.76\",\"1.77\",\"1.78\",\"1.79\",\"1.8\",\"1.81\",\"1.82\",\"1.83\",\"1.84\",\"1.85\",\"1.86\",\"1.87\",\"1.88\",\"1.89\",\"1.9\",\"1.91\",\"1.92\",\"1.93\",\"1.94\",\"1.95\",\"1.96\",\"1.97\",\"1.98\",\"1.99\",\"2.0\"],\"changes\":WebIO.getval({\"name\":\"changes\",\"scope\":\"17113378502831011110\",\"id\":\"ob_33\",\"type\":\"observable\"}),\"index\":WebIO.getval({\"name\":\"index\",\"scope\":\"17113378502831011110\",\"id\":\"ob_32\",\"type\":\"observable\"})};\n    var self = this;\n    function AppViewModel() {\n        for (var key in json_data) {\n            var el = json_data[key];\n            this[key] = Array.isArray(el) ? ko.observableArray(el) : ko.observable(el);\n        }\n        \n        [this[\"formatted_val\"]=ko.computed(    function(){\n        return this.formatted_vals()[parseInt(this.index())-(1)];\n    }\n,this)]\n        [this[\"changes\"].subscribe((function (val){!(this.valueFromJulia[\"changes\"]) ? (WebIO.setval({\"name\":\"changes\",\"scope\":\"17113378502831011110\",\"id\":\"ob_33\",\"type\":\"observable\"},val)) : undefined; return this.valueFromJulia[\"changes\"]=false}),self),this[\"index\"].subscribe((function (val){!(this.valueFromJulia[\"index\"]) ? (WebIO.setval({\"name\":\"index\",\"scope\":\"17113378502831011110\",\"id\":\"ob_32\",\"type\":\"observable\"},val)) : undefined; return this.valueFromJulia[\"index\"]=false}),self)]\n        \n    }\n    self.model = new AppViewModel();\n    self.valueFromJulia = {};\n    for (var key in json_data) {\n        self.valueFromJulia[key] = false;\n    }\n    ko.applyBindings(self.model, self.dom);\n}\n);\n    (WebIO.importBlock({\"data\":[{\"name\":\"knockout\",\"type\":\"js\",\"url\":\"/assetserver/fd311416c3fbf748771c2940b2ca4b79c53d1ab2-knockout.js\"},{\"name\":\"knockout_punches\",\"type\":\"js\",\"url\":\"/assetserver/148711b519458f42f1e7a22e5bdf7a74f9d5f8e0-knockout_punches.js\"}],\"type\":\"async_block\"})).then((imports) => handler.apply(this, imports));\n}\n"
            ],
            "observables": {
             "changes": {
              "id": "ob_33",
              "sync": false,
              "value": 0
             },
             "index": {
              "id": "ob_32",
              "sync": true,
              "value": 141
             }
            },
            "systemjs_options": null
           },
           "nodeType": "Scope",
           "props": {},
           "type": "node"
          }
         ],
         "instanceArgs": {
          "namespace": "html",
          "tag": "div"
         },
         "nodeType": "DOM",
         "props": {
          "className": "field interact-widget"
         },
         "type": "node"
        },
        {
         "children": [
          {
           "children": [
            {
             "children": [
              {
               "children": [
                {
                 "children": [
                  "K2"
                 ],
                 "instanceArgs": {
                  "namespace": "html",
                  "tag": "label"
                 },
                 "nodeType": "DOM",
                 "props": {
                  "className": "interact ",
                  "style": {
                   "padding": "5px 10px 0px 10px"
                  }
                 },
                 "type": "node"
                }
               ],
               "instanceArgs": {
                "namespace": "html",
                "tag": "div"
               },
               "nodeType": "DOM",
               "props": {
                "className": "interact-flex-row-left"
               },
               "type": "node"
              },
              {
               "children": [
                {
                 "children": [],
                 "instanceArgs": {
                  "namespace": "html",
                  "tag": "input"
                 },
                 "nodeType": "DOM",
                 "props": {
                  "attributes": {
                   "data-bind": "numericValue: index, valueUpdate: 'input', event: {change: function (){this.changes(this.changes()+1)}}",
                   "orient": "horizontal",
                   "type": "range"
                  },
                  "className": "slider slider is-fullwidth",
                  "max": 191,
                  "min": 1,
                  "step": 1,
                  "style": {}
                 },
                 "type": "node"
                }
               ],
               "instanceArgs": {
                "namespace": "html",
                "tag": "div"
               },
               "nodeType": "DOM",
               "props": {
                "className": "interact-flex-row-center"
               },
               "type": "node"
              },
              {
               "children": [
                {
                 "children": [],
                 "instanceArgs": {
                  "namespace": "html",
                  "tag": "p"
                 },
                 "nodeType": "DOM",
                 "props": {
                  "attributes": {
                   "data-bind": "text: formatted_val"
                  }
                 },
                 "type": "node"
                }
               ],
               "instanceArgs": {
                "namespace": "html",
                "tag": "div"
               },
               "nodeType": "DOM",
               "props": {
                "className": "interact-flex-row-right"
               },
               "type": "node"
              }
             ],
             "instanceArgs": {
              "namespace": "html",
              "tag": "div"
             },
             "nodeType": "DOM",
             "props": {
              "className": "interact-flex-row interact-widget"
             },
             "type": "node"
            }
           ],
           "instanceArgs": {
            "handlers": {
             "changes": [
              "(function (val){return (val!=this.model[\"changes\"]()) ? (this.valueFromJulia[\"changes\"]=true, this.model[\"changes\"](val)) : undefined})"
             ],
             "index": [
              "(function (val){return (val!=this.model[\"index\"]()) ? (this.valueFromJulia[\"index\"]=true, this.model[\"index\"](val)) : undefined})"
             ]
            },
            "id": "15396934786850674188",
            "imports": {
             "data": [
              {
               "name": "knockout",
               "type": "js",
               "url": "/assetserver/fd311416c3fbf748771c2940b2ca4b79c53d1ab2-knockout.js"
              },
              {
               "name": "knockout_punches",
               "type": "js",
               "url": "/assetserver/148711b519458f42f1e7a22e5bdf7a74f9d5f8e0-knockout_punches.js"
              },
              {
               "name": null,
               "type": "js",
               "url": "/assetserver/96387ddaa2b47f2577dbef3402b61deb55b692cb-all.js"
              },
              {
               "name": null,
               "type": "css",
               "url": "/assetserver/1205e2cb75bbf44a95189d9e430e22f4b3018051-style.css"
              },
              {
               "name": null,
               "type": "css",
               "url": "/assetserver/e47939cc599f2b791e3e3e81f0cfd77c1a048dd3-bulma_confined.min.css"
              }
             ],
             "type": "async_block"
            },
            "mount_callbacks": [
             "function () {\n    var handler = (function (ko, koPunches) {\n    ko.punches.enableAll();\n    ko.bindingHandlers.numericValue = {\n        init: function(element, valueAccessor, allBindings, data, context) {\n            var stringified = ko.observable(ko.unwrap(valueAccessor()));\n            stringified.subscribe(function(value) {\n                var val = parseFloat(value);\n                if (!isNaN(val)) {\n                    valueAccessor()(val);\n                }\n            });\n            valueAccessor().subscribe(function(value) {\n                var str = JSON.stringify(value);\n                if ((str == \"0\") && ([\"-0\", \"-0.\"].indexOf(stringified()) >= 0))\n                     return;\n                 if ([\"null\", \"\"].indexOf(str) >= 0)\n                     return;\n                stringified(str);\n            });\n            ko.applyBindingsToNode(\n                element,\n                {\n                    value: stringified,\n                    valueUpdate: allBindings.get('valueUpdate'),\n                },\n                context,\n            );\n        }\n    };\n    var json_data = {\"formatted_vals\":[\"0.1\",\"0.11\",\"0.12\",\"0.13\",\"0.14\",\"0.15\",\"0.16\",\"0.17\",\"0.18\",\"0.19\",\"0.2\",\"0.21\",\"0.22\",\"0.23\",\"0.24\",\"0.25\",\"0.26\",\"0.27\",\"0.28\",\"0.29\",\"0.3\",\"0.31\",\"0.32\",\"0.33\",\"0.34\",\"0.35\",\"0.36\",\"0.37\",\"0.38\",\"0.39\",\"0.4\",\"0.41\",\"0.42\",\"0.43\",\"0.44\",\"0.45\",\"0.46\",\"0.47\",\"0.48\",\"0.49\",\"0.5\",\"0.51\",\"0.52\",\"0.53\",\"0.54\",\"0.55\",\"0.56\",\"0.57\",\"0.58\",\"0.59\",\"0.6\",\"0.61\",\"0.62\",\"0.63\",\"0.64\",\"0.65\",\"0.66\",\"0.67\",\"0.68\",\"0.69\",\"0.7\",\"0.71\",\"0.72\",\"0.73\",\"0.74\",\"0.75\",\"0.76\",\"0.77\",\"0.78\",\"0.79\",\"0.8\",\"0.81\",\"0.82\",\"0.83\",\"0.84\",\"0.85\",\"0.86\",\"0.87\",\"0.88\",\"0.89\",\"0.9\",\"0.91\",\"0.92\",\"0.93\",\"0.94\",\"0.95\",\"0.96\",\"0.97\",\"0.98\",\"0.99\",\"1.0\",\"1.01\",\"1.02\",\"1.03\",\"1.04\",\"1.05\",\"1.06\",\"1.07\",\"1.08\",\"1.09\",\"1.1\",\"1.11\",\"1.12\",\"1.13\",\"1.14\",\"1.15\",\"1.16\",\"1.17\",\"1.18\",\"1.19\",\"1.2\",\"1.21\",\"1.22\",\"1.23\",\"1.24\",\"1.25\",\"1.26\",\"1.27\",\"1.28\",\"1.29\",\"1.3\",\"1.31\",\"1.32\",\"1.33\",\"1.34\",\"1.35\",\"1.36\",\"1.37\",\"1.38\",\"1.39\",\"1.4\",\"1.41\",\"1.42\",\"1.43\",\"1.44\",\"1.45\",\"1.46\",\"1.47\",\"1.48\",\"1.49\",\"1.5\",\"1.51\",\"1.52\",\"1.53\",\"1.54\",\"1.55\",\"1.56\",\"1.57\",\"1.58\",\"1.59\",\"1.6\",\"1.61\",\"1.62\",\"1.63\",\"1.64\",\"1.65\",\"1.66\",\"1.67\",\"1.68\",\"1.69\",\"1.7\",\"1.71\",\"1.72\",\"1.73\",\"1.74\",\"1.75\",\"1.76\",\"1.77\",\"1.78\",\"1.79\",\"1.8\",\"1.81\",\"1.82\",\"1.83\",\"1.84\",\"1.85\",\"1.86\",\"1.87\",\"1.88\",\"1.89\",\"1.9\",\"1.91\",\"1.92\",\"1.93\",\"1.94\",\"1.95\",\"1.96\",\"1.97\",\"1.98\",\"1.99\",\"2.0\"],\"changes\":WebIO.getval({\"name\":\"changes\",\"scope\":\"15396934786850674188\",\"id\":\"ob_36\",\"type\":\"observable\"}),\"index\":WebIO.getval({\"name\":\"index\",\"scope\":\"15396934786850674188\",\"id\":\"ob_35\",\"type\":\"observable\"})};\n    var self = this;\n    function AppViewModel() {\n        for (var key in json_data) {\n            var el = json_data[key];\n            this[key] = Array.isArray(el) ? ko.observableArray(el) : ko.observable(el);\n        }\n        \n        [this[\"formatted_val\"]=ko.computed(    function(){\n        return this.formatted_vals()[parseInt(this.index())-(1)];\n    }\n,this)]\n        [this[\"changes\"].subscribe((function (val){!(this.valueFromJulia[\"changes\"]) ? (WebIO.setval({\"name\":\"changes\",\"scope\":\"15396934786850674188\",\"id\":\"ob_36\",\"type\":\"observable\"},val)) : undefined; return this.valueFromJulia[\"changes\"]=false}),self),this[\"index\"].subscribe((function (val){!(this.valueFromJulia[\"index\"]) ? (WebIO.setval({\"name\":\"index\",\"scope\":\"15396934786850674188\",\"id\":\"ob_35\",\"type\":\"observable\"},val)) : undefined; return this.valueFromJulia[\"index\"]=false}),self)]\n        \n    }\n    self.model = new AppViewModel();\n    self.valueFromJulia = {};\n    for (var key in json_data) {\n        self.valueFromJulia[key] = false;\n    }\n    ko.applyBindings(self.model, self.dom);\n}\n);\n    (WebIO.importBlock({\"data\":[{\"name\":\"knockout\",\"type\":\"js\",\"url\":\"/assetserver/fd311416c3fbf748771c2940b2ca4b79c53d1ab2-knockout.js\"},{\"name\":\"knockout_punches\",\"type\":\"js\",\"url\":\"/assetserver/148711b519458f42f1e7a22e5bdf7a74f9d5f8e0-knockout_punches.js\"}],\"type\":\"async_block\"})).then((imports) => handler.apply(this, imports));\n}\n"
            ],
            "observables": {
             "changes": {
              "id": "ob_36",
              "sync": false,
              "value": 0
             },
             "index": {
              "id": "ob_35",
              "sync": true,
              "value": 91
             }
            },
            "systemjs_options": null
           },
           "nodeType": "Scope",
           "props": {},
           "type": "node"
          }
         ],
         "instanceArgs": {
          "namespace": "html",
          "tag": "div"
         },
         "nodeType": "DOM",
         "props": {
          "className": "field interact-widget"
         },
         "type": "node"
        },
        {
         "children": [
          {
           "children": [],
           "instanceArgs": {
            "id": "ob_42",
            "name": "obs-node"
           },
           "nodeType": "ObservableNode",
           "props": {},
           "type": "node"
          }
         ],
         "instanceArgs": {
          "handlers": {},
          "id": "8332555158571875810",
          "imports": {
           "data": [],
           "type": "async_block"
          },
          "mount_callbacks": [],
          "observables": {
           "obs-node": {
            "id": "ob_42",
            "sync": false,
            "value": {
             "children": [
              {
               "children": [],
               "instanceArgs": {
                "namespace": "html",
                "tag": "div"
               },
               "nodeType": "DOM",
               "props": {
                "setInnerHtml": "<?xml version=\"1.0\" encoding=\"utf-8\"?>\n<svg xmlns=\"http://www.w3.org/2000/svg\" xmlns:xlink=\"http://www.w3.org/1999/xlink\" width=\"600\" height=\"400\" viewBox=\"0 0 2400 1600\">\n<defs>\n  <clipPath id=\"clip1900\">\n    <rect x=\"0\" y=\"0\" width=\"2400\" height=\"1600\"/>\n  </clipPath>\n</defs>\n<polygon clip-path=\"url(#clip1900)\" points=\"\n0,1600 2400,1600 2400,0 0,0 \n  \" fill=\"#ffffff\" fill-rule=\"evenodd\" fill-opacity=\"1\"/>\n<defs>\n  <clipPath id=\"clip1901\">\n    <rect x=\"480\" y=\"0\" width=\"1681\" height=\"1600\"/>\n  </clipPath>\n</defs>\n<polygon clip-path=\"url(#clip1900)\" points=\"\n175.611,1425.62 2352.76,1425.62 2352.76,47.2441 175.611,47.2441 \n  \" fill=\"#ffffff\" fill-rule=\"evenodd\" fill-opacity=\"1\"/>\n<defs>\n  <clipPath id=\"clip1902\">\n    <rect x=\"175\" y=\"47\" width=\"2178\" height=\"1379\"/>\n  </clipPath>\n</defs>\n<polyline clip-path=\"url(#clip1902)\" style=\"stroke:#000000; stroke-width:2; stroke-opacity:0.1; fill:none\" points=\"\n  175.611,1425.62 175.611,47.2441 \n  \"/>\n<polyline clip-path=\"url(#clip1902)\" style=\"stroke:#000000; stroke-width:2; stroke-opacity:0.1; fill:none\" points=\"\n  901.326,1425.62 901.326,47.2441 \n  \"/>\n<polyline clip-path=\"url(#clip1902)\" style=\"stroke:#000000; stroke-width:2; stroke-opacity:0.1; fill:none\" points=\"\n  1627.04,1425.62 1627.04,47.2441 \n  \"/>\n<polyline clip-path=\"url(#clip1902)\" style=\"stroke:#000000; stroke-width:2; stroke-opacity:0.1; fill:none\" points=\"\n  2352.76,1425.62 2352.76,47.2441 \n  \"/>\n<polyline clip-path=\"url(#clip1902)\" style=\"stroke:#000000; stroke-width:2; stroke-opacity:0.1; fill:none\" points=\"\n  175.611,1425.62 2352.76,1425.62 \n  \"/>\n<polyline clip-path=\"url(#clip1902)\" style=\"stroke:#000000; stroke-width:2; stroke-opacity:0.1; fill:none\" points=\"\n  175.611,1149.94 2352.76,1149.94 \n  \"/>\n<polyline clip-path=\"url(#clip1902)\" style=\"stroke:#000000; stroke-width:2; stroke-opacity:0.1; fill:none\" points=\"\n  175.611,874.269 2352.76,874.269 \n  \"/>\n<polyline clip-path=\"url(#clip1902)\" style=\"stroke:#000000; stroke-width:2; stroke-opacity:0.1; fill:none\" points=\"\n  175.611,598.594 2352.76,598.594 \n  \"/>\n<polyline clip-path=\"url(#clip1902)\" style=\"stroke:#000000; stroke-width:2; stroke-opacity:0.1; fill:none\" points=\"\n  175.611,322.919 2352.76,322.919 \n  \"/>\n<polyline clip-path=\"url(#clip1902)\" style=\"stroke:#000000; stroke-width:2; stroke-opacity:0.1; fill:none\" points=\"\n  175.611,47.2441 2352.76,47.2441 \n  \"/>\n<polyline clip-path=\"url(#clip1900)\" style=\"stroke:#000000; stroke-width:4; stroke-opacity:1; fill:none\" points=\"\n  175.611,1425.62 2352.76,1425.62 \n  \"/>\n<polyline clip-path=\"url(#clip1900)\" style=\"stroke:#000000; stroke-width:4; stroke-opacity:1; fill:none\" points=\"\n  175.611,1425.62 175.611,47.2441 \n  \"/>\n<polyline clip-path=\"url(#clip1900)\" style=\"stroke:#000000; stroke-width:4; stroke-opacity:1; fill:none\" points=\"\n  175.611,1425.62 175.611,1404.94 \n  \"/>\n<polyline clip-path=\"url(#clip1900)\" style=\"stroke:#000000; stroke-width:4; stroke-opacity:1; fill:none\" points=\"\n  901.326,1425.62 901.326,1404.94 \n  \"/>\n<polyline clip-path=\"url(#clip1900)\" style=\"stroke:#000000; stroke-width:4; stroke-opacity:1; fill:none\" points=\"\n  1627.04,1425.62 1627.04,1404.94 \n  \"/>\n<polyline clip-path=\"url(#clip1900)\" style=\"stroke:#000000; stroke-width:4; stroke-opacity:1; fill:none\" points=\"\n  2352.76,1425.62 2352.76,1404.94 \n  \"/>\n<polyline clip-path=\"url(#clip1900)\" style=\"stroke:#000000; stroke-width:4; stroke-opacity:1; fill:none\" points=\"\n  175.611,1425.62 208.268,1425.62 \n  \"/>\n<polyline clip-path=\"url(#clip1900)\" style=\"stroke:#000000; stroke-width:4; stroke-opacity:1; fill:none\" points=\"\n  175.611,1149.94 208.268,1149.94 \n  \"/>\n<polyline clip-path=\"url(#clip1900)\" style=\"stroke:#000000; stroke-width:4; stroke-opacity:1; fill:none\" points=\"\n  175.611,874.269 208.268,874.269 \n  \"/>\n<polyline clip-path=\"url(#clip1900)\" style=\"stroke:#000000; stroke-width:4; stroke-opacity:1; fill:none\" points=\"\n  175.611,598.594 208.268,598.594 \n  \"/>\n<polyline clip-path=\"url(#clip1900)\" style=\"stroke:#000000; stroke-width:4; stroke-opacity:1; fill:none\" points=\"\n  175.611,322.919 208.268,322.919 \n  \"/>\n<polyline clip-path=\"url(#clip1900)\" style=\"stroke:#000000; stroke-width:4; stroke-opacity:1; fill:none\" points=\"\n  175.611,47.2441 208.268,47.2441 \n  \"/>\n<g clip-path=\"url(#clip1900)\">\n<text style=\"fill:#000000; fill-opacity:1; font-family:Arial,Helvetica Neue,Helvetica,sans-serif; font-size:48px; text-anchor:middle;\" transform=\"rotate(0, 175.611, 1479.62)\" x=\"175.611\" y=\"1479.62\">0</text>\n</g>\n<g clip-path=\"url(#clip1900)\">\n<text style=\"fill:#000000; fill-opacity:1; font-family:Arial,Helvetica Neue,Helvetica,sans-serif; font-size:48px; text-anchor:middle;\" transform=\"rotate(0, 901.326, 1479.62)\" x=\"901.326\" y=\"1479.62\">1</text>\n</g>\n<g clip-path=\"url(#clip1900)\">\n<text style=\"fill:#000000; fill-opacity:1; font-family:Arial,Helvetica Neue,Helvetica,sans-serif; font-size:48px; text-anchor:middle;\" transform=\"rotate(0, 1627.04, 1479.62)\" x=\"1627.04\" y=\"1479.62\">2</text>\n</g>\n<g clip-path=\"url(#clip1900)\">\n<text style=\"fill:#000000; fill-opacity:1; font-family:Arial,Helvetica Neue,Helvetica,sans-serif; font-size:48px; text-anchor:middle;\" transform=\"rotate(0, 2352.76, 1479.62)\" x=\"2352.76\" y=\"1479.62\">3</text>\n</g>\n<g clip-path=\"url(#clip1900)\">\n<text style=\"fill:#000000; fill-opacity:1; font-family:Arial,Helvetica Neue,Helvetica,sans-serif; font-size:48px; text-anchor:end;\" transform=\"rotate(0, 151.611, 1443.12)\" x=\"151.611\" y=\"1443.12\">0</text>\n</g>\n<g clip-path=\"url(#clip1900)\">\n<text style=\"fill:#000000; fill-opacity:1; font-family:Arial,Helvetica Neue,Helvetica,sans-serif; font-size:48px; text-anchor:end;\" transform=\"rotate(0, 151.611, 1167.44)\" x=\"151.611\" y=\"1167.44\">1</text>\n</g>\n<g clip-path=\"url(#clip1900)\">\n<text style=\"fill:#000000; fill-opacity:1; font-family:Arial,Helvetica Neue,Helvetica,sans-serif; font-size:48px; text-anchor:end;\" transform=\"rotate(0, 151.611, 891.769)\" x=\"151.611\" y=\"891.769\">2</text>\n</g>\n<g clip-path=\"url(#clip1900)\">\n<text style=\"fill:#000000; fill-opacity:1; font-family:Arial,Helvetica Neue,Helvetica,sans-serif; font-size:48px; text-anchor:end;\" transform=\"rotate(0, 151.611, 616.094)\" x=\"151.611\" y=\"616.094\">3</text>\n</g>\n<g clip-path=\"url(#clip1900)\">\n<text style=\"fill:#000000; fill-opacity:1; font-family:Arial,Helvetica Neue,Helvetica,sans-serif; font-size:48px; text-anchor:end;\" transform=\"rotate(0, 151.611, 340.419)\" x=\"151.611\" y=\"340.419\">4</text>\n</g>\n<g clip-path=\"url(#clip1900)\">\n<text style=\"fill:#000000; fill-opacity:1; font-family:Arial,Helvetica Neue,Helvetica,sans-serif; font-size:48px; text-anchor:end;\" transform=\"rotate(0, 151.611, 64.7441)\" x=\"151.611\" y=\"64.7441\">5</text>\n</g>\n<g clip-path=\"url(#clip1900)\">\n<text style=\"fill:#000000; fill-opacity:1; font-family:Arial,Helvetica Neue,Helvetica,sans-serif; font-size:66px; text-anchor:middle;\" transform=\"rotate(0, 1264.18, 1559.48)\" x=\"1264.18\" y=\"1559.48\">u2</text>\n</g>\n<g clip-path=\"url(#clip1900)\">\n<text style=\"fill:#000000; fill-opacity:1; font-family:Arial,Helvetica Neue,Helvetica,sans-serif; font-size:66px; text-anchor:middle;\" transform=\"rotate(-90, 89.2861, 736.431)\" x=\"89.2861\" y=\"736.431\">u1</text>\n</g>\n<polyline clip-path=\"url(#clip1902)\" style=\"stroke:#009af9; stroke-width:4; stroke-opacity:1; fill:none\" points=\"\n  175.611,1012.11 212.263,1019.53 248.915,1026.96 285.567,1034.38 322.22,1041.81 358.872,1049.23 395.524,1056.66 432.177,1064.09 468.829,1071.51 505.481,1078.94 \n  542.133,1086.36 578.786,1093.79 615.438,1101.21 652.09,1108.64 688.742,1116.06 725.395,1123.49 762.047,1130.92 798.699,1138.34 835.352,1145.77 872.004,1153.19 \n  908.656,1160.62 945.308,1168.04 981.961,1175.47 1018.61,1182.89 1055.27,1190.32 1091.92,1197.75 1128.57,1205.17 1165.22,1212.6 1201.87,1220.02 1238.53,1227.45 \n  1275.18,1234.87 1311.83,1242.3 1348.48,1249.73 1385.14,1257.15 1421.79,1264.58 1458.44,1272 1495.09,1279.43 1531.74,1286.85 1568.4,1294.28 1605.05,1301.7 \n  1641.7,1309.13 1678.35,1316.56 1715.01,1323.98 1751.66,1331.41 1788.31,1338.83 1824.96,1346.26 1861.62,1353.68 1898.27,1361.11 1934.92,1368.53 1971.57,1375.96 \n  2008.22,1383.39 2044.88,1390.81 2081.53,1398.24 2118.18,1405.66 2154.83,1413.09 2191.49,1420.51 2228.14,1427.94 2264.79,1435.36 2301.44,1442.79 2338.09,1450.22 \n  2374.75,1457.64 2411.4,1465.07 2448.05,1472.49 2484.7,1479.92 2521.36,1487.34 2558.01,1494.77 2594.66,1502.19 2631.31,1509.62 2667.97,1517.05 2704.62,1524.47 \n  2741.27,1531.9 2777.92,1539.32 2814.57,1546.75 2851.23,1554.17 2887.88,1561.6 2924.53,1569.03 2961.18,1576.45 2997.84,1583.88 3034.49,1591.3 3071.14,1598.73 \n  3107.79,1606.15 3144.45,1613.58 3181.1,1621 3217.75,1628.43 3254.4,1635.86 3291.05,1643.28 3327.71,1650.71 3364.36,1658.13 3401.01,1665.56 3437.66,1672.98 \n  3474.32,1680.41 3510.97,1687.83 3547.62,1695.26 3584.27,1702.69 3620.92,1710.11 3657.58,1717.54 3694.23,1724.96 3730.88,1732.39 3767.53,1739.81 3804.19,1747.24 \n  \n  \"/>\n<polyline clip-path=\"url(#clip1902)\" style=\"stroke:#e26f46; stroke-width:4; stroke-opacity:1; fill:none\" points=\"\n  175.611,506.702 212.263,553.112 248.915,599.522 285.567,645.932 322.22,692.342 358.872,738.752 395.524,785.162 432.177,831.572 468.829,877.982 505.481,924.392 \n  542.133,970.801 578.786,1017.21 615.438,1063.62 652.09,1110.03 688.742,1156.44 725.395,1202.85 762.047,1249.26 798.699,1295.67 835.352,1342.08 872.004,1388.49 \n  908.656,1434.9 945.308,1481.31 981.961,1527.72 1018.61,1574.13 1055.27,1620.54 1091.92,1666.95 1128.57,1713.36 1165.22,1759.77 1201.87,1806.18 1238.53,1852.59 \n  1275.18,1899 1311.83,1945.41 1348.48,1991.82 1385.14,2038.23 1421.79,2084.64 1458.44,2131.05 1495.09,2177.46 1531.74,2223.87 1568.4,2270.28 1605.05,2316.69 \n  1641.7,2363.1 1678.35,2409.51 1715.01,2455.92 1751.66,2502.33 1788.31,2548.74 1824.96,2595.15 1861.62,2641.56 1898.27,2687.97 1934.92,2734.38 1971.57,2780.79 \n  2008.22,2827.2 2044.88,2873.61 2081.53,2920.02 2118.18,2966.43 2154.83,3012.84 2191.49,3059.25 2228.14,3105.66 2264.79,3152.07 2301.44,3198.48 2338.09,3244.89 \n  2374.75,3291.3 2411.4,3337.71 2448.05,3384.12 2484.7,3430.53 2521.36,3476.94 2558.01,3523.35 2594.66,3569.76 2631.31,3616.17 2667.97,3662.58 2704.62,3708.99 \n  2741.27,3755.4 2777.92,3801.81 2814.57,3848.22 2851.23,3894.63 2887.88,3941.04 2924.53,3987.45 2961.18,4033.86 2997.84,4080.27 3034.49,4126.68 3071.14,4173.09 \n  3107.79,4219.5 3144.45,4265.91 3181.1,4312.32 3217.75,4358.73 3254.4,4405.14 3291.05,4451.55 3327.71,4497.96 3364.36,4544.37 3401.01,4590.77 3437.66,4637.18 \n  3474.32,4683.59 3510.97,4730 3547.62,4776.41 3584.27,4822.82 3620.92,4869.23 3657.58,4915.64 3694.23,4962.05 3730.88,5008.46 3767.53,5054.87 3804.19,5101.28 \n  \n  \"/>\n<polygon clip-path=\"url(#clip1900)\" points=\"\n1905.6,312.204 2280.76,312.204 2280.76,130.764 1905.6,130.764 \n  \" fill=\"#ffffff\" fill-rule=\"evenodd\" fill-opacity=\"1\"/>\n<polyline clip-path=\"url(#clip1900)\" style=\"stroke:#000000; stroke-width:4; stroke-opacity:1; fill:none\" points=\"\n  1905.6,312.204 2280.76,312.204 2280.76,130.764 1905.6,130.764 1905.6,312.204 \n  \"/>\n<polyline clip-path=\"url(#clip1900)\" style=\"stroke:#009af9; stroke-width:4; stroke-opacity:1; fill:none\" points=\"\n  1929.6,191.244 2073.6,191.244 \n  \"/>\n<g clip-path=\"url(#clip1900)\">\n<text style=\"fill:#000000; fill-opacity:1; font-family:Arial,Helvetica Neue,Helvetica,sans-serif; font-size:48px; text-anchor:start;\" transform=\"rotate(0, 2097.6, 208.744)\" x=\"2097.6\" y=\"208.744\">u1 = 0</text>\n</g>\n<polyline clip-path=\"url(#clip1900)\" style=\"stroke:#e26f46; stroke-width:4; stroke-opacity:1; fill:none\" points=\"\n  1929.6,251.724 2073.6,251.724 \n  \"/>\n<g clip-path=\"url(#clip1900)\">\n<text style=\"fill:#000000; fill-opacity:1; font-family:Arial,Helvetica Neue,Helvetica,sans-serif; font-size:48px; text-anchor:start;\" transform=\"rotate(0, 2097.6, 269.224)\" x=\"2097.6\" y=\"269.224\">u2 = 0</text>\n</g>\n</svg>\n"
               },
               "type": "node"
              }
             ],
             "instanceArgs": {
              "namespace": "html",
              "tag": "div"
             },
             "nodeType": "DOM",
             "props": {
              "className": "interact-flex-row interact-widget"
             },
             "type": "node"
            }
           }
          },
          "systemjs_options": null
         },
         "nodeType": "Scope",
         "props": {},
         "type": "node"
        }
       ],
       "instanceArgs": {
        "namespace": "html",
        "tag": "div"
       },
       "nodeType": "DOM",
       "props": {},
       "type": "node"
      },
      "text/html": [
       "<div\n",
       "    class=\"webio-mountpoint\"\n",
       "    data-webio-mountpoint=\"16628053870642972162\"\n",
       ">\n",
       "    <script>\n",
       "    if (window.require && require.defined && require.defined(\"nbextensions/webio-jupyter-notebook\")) {\n",
       "        console.log(\"Jupyter WebIO extension detected, not mounting.\");\n",
       "    } else if (window.WebIO) {\n",
       "        WebIO.mount(\n",
       "            document.querySelector('[data-webio-mountpoint=\"16628053870642972162\"]'),\n",
       "            {\"props\":{},\"nodeType\":\"DOM\",\"type\":\"node\",\"instanceArgs\":{\"namespace\":\"html\",\"tag\":\"div\"},\"children\":[{\"props\":{\"className\":\"field interact-widget\"},\"nodeType\":\"DOM\",\"type\":\"node\",\"instanceArgs\":{\"namespace\":\"html\",\"tag\":\"div\"},\"children\":[{\"props\":{},\"nodeType\":\"Scope\",\"type\":\"node\",\"instanceArgs\":{\"imports\":{\"data\":[{\"name\":\"knockout\",\"type\":\"js\",\"url\":\"\\/assetserver\\/fd311416c3fbf748771c2940b2ca4b79c53d1ab2-knockout.js\"},{\"name\":\"knockout_punches\",\"type\":\"js\",\"url\":\"\\/assetserver\\/148711b519458f42f1e7a22e5bdf7a74f9d5f8e0-knockout_punches.js\"},{\"name\":null,\"type\":\"js\",\"url\":\"\\/assetserver\\/96387ddaa2b47f2577dbef3402b61deb55b692cb-all.js\"},{\"name\":null,\"type\":\"css\",\"url\":\"\\/assetserver\\/1205e2cb75bbf44a95189d9e430e22f4b3018051-style.css\"},{\"name\":null,\"type\":\"css\",\"url\":\"\\/assetserver\\/e47939cc599f2b791e3e3e81f0cfd77c1a048dd3-bulma_confined.min.css\"}],\"type\":\"async_block\"},\"id\":\"7337179859241363623\",\"handlers\":{\"changes\":[\"(function (val){return (val!=this.model[\\\"changes\\\"]()) ? (this.valueFromJulia[\\\"changes\\\"]=true, this.model[\\\"changes\\\"](val)) : undefined})\"],\"index\":[\"(function (val){return (val!=this.model[\\\"index\\\"]()) ? (this.valueFromJulia[\\\"index\\\"]=true, this.model[\\\"index\\\"](val)) : undefined})\"]},\"systemjs_options\":null,\"mount_callbacks\":[\"function () {\\n    var handler = (function (ko, koPunches) {\\n    ko.punches.enableAll();\\n    ko.bindingHandlers.numericValue = {\\n        init: function(element, valueAccessor, allBindings, data, context) {\\n            var stringified = ko.observable(ko.unwrap(valueAccessor()));\\n            stringified.subscribe(function(value) {\\n                var val = parseFloat(value);\\n                if (!isNaN(val)) {\\n                    valueAccessor()(val);\\n                }\\n            });\\n            valueAccessor().subscribe(function(value) {\\n                var str = JSON.stringify(value);\\n                if ((str == \\\"0\\\") && ([\\\"-0\\\", \\\"-0.\\\"].indexOf(stringified()) >= 0))\\n                     return;\\n                 if ([\\\"null\\\", \\\"\\\"].indexOf(str) >= 0)\\n                     return;\\n                stringified(str);\\n            });\\n            ko.applyBindingsToNode(\\n                element,\\n                {\\n                    value: stringified,\\n                    valueUpdate: allBindings.get('valueUpdate'),\\n                },\\n                context,\\n            );\\n        }\\n    };\\n    var json_data = {\\\"formatted_vals\\\":[\\\"0.1\\\",\\\"0.11\\\",\\\"0.12\\\",\\\"0.13\\\",\\\"0.14\\\",\\\"0.15\\\",\\\"0.16\\\",\\\"0.17\\\",\\\"0.18\\\",\\\"0.19\\\",\\\"0.2\\\",\\\"0.21\\\",\\\"0.22\\\",\\\"0.23\\\",\\\"0.24\\\",\\\"0.25\\\",\\\"0.26\\\",\\\"0.27\\\",\\\"0.28\\\",\\\"0.29\\\",\\\"0.3\\\",\\\"0.31\\\",\\\"0.32\\\",\\\"0.33\\\",\\\"0.34\\\",\\\"0.35\\\",\\\"0.36\\\",\\\"0.37\\\",\\\"0.38\\\",\\\"0.39\\\",\\\"0.4\\\",\\\"0.41\\\",\\\"0.42\\\",\\\"0.43\\\",\\\"0.44\\\",\\\"0.45\\\",\\\"0.46\\\",\\\"0.47\\\",\\\"0.48\\\",\\\"0.49\\\",\\\"0.5\\\",\\\"0.51\\\",\\\"0.52\\\",\\\"0.53\\\",\\\"0.54\\\",\\\"0.55\\\",\\\"0.56\\\",\\\"0.57\\\",\\\"0.58\\\",\\\"0.59\\\",\\\"0.6\\\",\\\"0.61\\\",\\\"0.62\\\",\\\"0.63\\\",\\\"0.64\\\",\\\"0.65\\\",\\\"0.66\\\",\\\"0.67\\\",\\\"0.68\\\",\\\"0.69\\\",\\\"0.7\\\",\\\"0.71\\\",\\\"0.72\\\",\\\"0.73\\\",\\\"0.74\\\",\\\"0.75\\\",\\\"0.76\\\",\\\"0.77\\\",\\\"0.78\\\",\\\"0.79\\\",\\\"0.8\\\",\\\"0.81\\\",\\\"0.82\\\",\\\"0.83\\\",\\\"0.84\\\",\\\"0.85\\\",\\\"0.86\\\",\\\"0.87\\\",\\\"0.88\\\",\\\"0.89\\\",\\\"0.9\\\",\\\"0.91\\\",\\\"0.92\\\",\\\"0.93\\\",\\\"0.94\\\",\\\"0.95\\\",\\\"0.96\\\",\\\"0.97\\\",\\\"0.98\\\",\\\"0.99\\\",\\\"1.0\\\"],\\\"changes\\\":WebIO.getval({\\\"name\\\":\\\"changes\\\",\\\"scope\\\":\\\"7337179859241363623\\\",\\\"id\\\":\\\"ob_27\\\",\\\"type\\\":\\\"observable\\\"}),\\\"index\\\":WebIO.getval({\\\"name\\\":\\\"index\\\",\\\"scope\\\":\\\"7337179859241363623\\\",\\\"id\\\":\\\"ob_26\\\",\\\"type\\\":\\\"observable\\\"})};\\n    var self = this;\\n    function AppViewModel() {\\n        for (var key in json_data) {\\n            var el = json_data[key];\\n            this[key] = Array.isArray(el) ? ko.observableArray(el) : ko.observable(el);\\n        }\\n        \\n        [this[\\\"formatted_val\\\"]=ko.computed(    function(){\\n        return this.formatted_vals()[parseInt(this.index())-(1)];\\n    }\\n,this)]\\n        [this[\\\"changes\\\"].subscribe((function (val){!(this.valueFromJulia[\\\"changes\\\"]) ? (WebIO.setval({\\\"name\\\":\\\"changes\\\",\\\"scope\\\":\\\"7337179859241363623\\\",\\\"id\\\":\\\"ob_27\\\",\\\"type\\\":\\\"observable\\\"},val)) : undefined; return this.valueFromJulia[\\\"changes\\\"]=false}),self),this[\\\"index\\\"].subscribe((function (val){!(this.valueFromJulia[\\\"index\\\"]) ? (WebIO.setval({\\\"name\\\":\\\"index\\\",\\\"scope\\\":\\\"7337179859241363623\\\",\\\"id\\\":\\\"ob_26\\\",\\\"type\\\":\\\"observable\\\"},val)) : undefined; return this.valueFromJulia[\\\"index\\\"]=false}),self)]\\n        \\n    }\\n    self.model = new AppViewModel();\\n    self.valueFromJulia = {};\\n    for (var key in json_data) {\\n        self.valueFromJulia[key] = false;\\n    }\\n    ko.applyBindings(self.model, self.dom);\\n}\\n);\\n    (WebIO.importBlock({\\\"data\\\":[{\\\"name\\\":\\\"knockout\\\",\\\"type\\\":\\\"js\\\",\\\"url\\\":\\\"\\/assetserver\\/fd311416c3fbf748771c2940b2ca4b79c53d1ab2-knockout.js\\\"},{\\\"name\\\":\\\"knockout_punches\\\",\\\"type\\\":\\\"js\\\",\\\"url\\\":\\\"\\/assetserver\\/148711b519458f42f1e7a22e5bdf7a74f9d5f8e0-knockout_punches.js\\\"}],\\\"type\\\":\\\"async_block\\\"})).then((imports) => handler.apply(this, imports));\\n}\\n\"],\"observables\":{\"changes\":{\"sync\":false,\"id\":\"ob_27\",\"value\":0},\"index\":{\"sync\":true,\"id\":\"ob_26\",\"value\":71}}},\"children\":[{\"props\":{\"className\":\"interact-flex-row interact-widget\"},\"nodeType\":\"DOM\",\"type\":\"node\",\"instanceArgs\":{\"namespace\":\"html\",\"tag\":\"div\"},\"children\":[{\"props\":{\"className\":\"interact-flex-row-left\"},\"nodeType\":\"DOM\",\"type\":\"node\",\"instanceArgs\":{\"namespace\":\"html\",\"tag\":\"div\"},\"children\":[{\"props\":{\"className\":\"interact \",\"style\":{\"padding\":\"5px 10px 0px 10px\"}},\"nodeType\":\"DOM\",\"type\":\"node\",\"instanceArgs\":{\"namespace\":\"html\",\"tag\":\"label\"},\"children\":[\"α12\"]}]},{\"props\":{\"className\":\"interact-flex-row-center\"},\"nodeType\":\"DOM\",\"type\":\"node\",\"instanceArgs\":{\"namespace\":\"html\",\"tag\":\"div\"},\"children\":[{\"props\":{\"max\":91,\"min\":1,\"attributes\":{\"type\":\"range\",\"data-bind\":\"numericValue: index, valueUpdate: 'input', event: {change: function (){this.changes(this.changes()+1)}}\",\"orient\":\"horizontal\"},\"step\":1,\"className\":\"slider slider is-fullwidth\",\"style\":{}},\"nodeType\":\"DOM\",\"type\":\"node\",\"instanceArgs\":{\"namespace\":\"html\",\"tag\":\"input\"},\"children\":[]}]},{\"props\":{\"className\":\"interact-flex-row-right\"},\"nodeType\":\"DOM\",\"type\":\"node\",\"instanceArgs\":{\"namespace\":\"html\",\"tag\":\"div\"},\"children\":[{\"props\":{\"attributes\":{\"data-bind\":\"text: formatted_val\"}},\"nodeType\":\"DOM\",\"type\":\"node\",\"instanceArgs\":{\"namespace\":\"html\",\"tag\":\"p\"},\"children\":[]}]}]}]}]},{\"props\":{\"className\":\"field interact-widget\"},\"nodeType\":\"DOM\",\"type\":\"node\",\"instanceArgs\":{\"namespace\":\"html\",\"tag\":\"div\"},\"children\":[{\"props\":{},\"nodeType\":\"Scope\",\"type\":\"node\",\"instanceArgs\":{\"imports\":{\"data\":[{\"name\":\"knockout\",\"type\":\"js\",\"url\":\"\\/assetserver\\/fd311416c3fbf748771c2940b2ca4b79c53d1ab2-knockout.js\"},{\"name\":\"knockout_punches\",\"type\":\"js\",\"url\":\"\\/assetserver\\/148711b519458f42f1e7a22e5bdf7a74f9d5f8e0-knockout_punches.js\"},{\"name\":null,\"type\":\"js\",\"url\":\"\\/assetserver\\/96387ddaa2b47f2577dbef3402b61deb55b692cb-all.js\"},{\"name\":null,\"type\":\"css\",\"url\":\"\\/assetserver\\/1205e2cb75bbf44a95189d9e430e22f4b3018051-style.css\"},{\"name\":null,\"type\":\"css\",\"url\":\"\\/assetserver\\/e47939cc599f2b791e3e3e81f0cfd77c1a048dd3-bulma_confined.min.css\"}],\"type\":\"async_block\"},\"id\":\"3808146200388026543\",\"handlers\":{\"changes\":[\"(function (val){return (val!=this.model[\\\"changes\\\"]()) ? (this.valueFromJulia[\\\"changes\\\"]=true, this.model[\\\"changes\\\"](val)) : undefined})\"],\"index\":[\"(function (val){return (val!=this.model[\\\"index\\\"]()) ? (this.valueFromJulia[\\\"index\\\"]=true, this.model[\\\"index\\\"](val)) : undefined})\"]},\"systemjs_options\":null,\"mount_callbacks\":[\"function () {\\n    var handler = (function (ko, koPunches) {\\n    ko.punches.enableAll();\\n    ko.bindingHandlers.numericValue = {\\n        init: function(element, valueAccessor, allBindings, data, context) {\\n            var stringified = ko.observable(ko.unwrap(valueAccessor()));\\n            stringified.subscribe(function(value) {\\n                var val = parseFloat(value);\\n                if (!isNaN(val)) {\\n                    valueAccessor()(val);\\n                }\\n            });\\n            valueAccessor().subscribe(function(value) {\\n                var str = JSON.stringify(value);\\n                if ((str == \\\"0\\\") && ([\\\"-0\\\", \\\"-0.\\\"].indexOf(stringified()) >= 0))\\n                     return;\\n                 if ([\\\"null\\\", \\\"\\\"].indexOf(str) >= 0)\\n                     return;\\n                stringified(str);\\n            });\\n            ko.applyBindingsToNode(\\n                element,\\n                {\\n                    value: stringified,\\n                    valueUpdate: allBindings.get('valueUpdate'),\\n                },\\n                context,\\n            );\\n        }\\n    };\\n    var json_data = {\\\"formatted_vals\\\":[\\\"0.1\\\",\\\"0.11\\\",\\\"0.12\\\",\\\"0.13\\\",\\\"0.14\\\",\\\"0.15\\\",\\\"0.16\\\",\\\"0.17\\\",\\\"0.18\\\",\\\"0.19\\\",\\\"0.2\\\",\\\"0.21\\\",\\\"0.22\\\",\\\"0.23\\\",\\\"0.24\\\",\\\"0.25\\\",\\\"0.26\\\",\\\"0.27\\\",\\\"0.28\\\",\\\"0.29\\\",\\\"0.3\\\",\\\"0.31\\\",\\\"0.32\\\",\\\"0.33\\\",\\\"0.34\\\",\\\"0.35\\\",\\\"0.36\\\",\\\"0.37\\\",\\\"0.38\\\",\\\"0.39\\\",\\\"0.4\\\",\\\"0.41\\\",\\\"0.42\\\",\\\"0.43\\\",\\\"0.44\\\",\\\"0.45\\\",\\\"0.46\\\",\\\"0.47\\\",\\\"0.48\\\",\\\"0.49\\\",\\\"0.5\\\",\\\"0.51\\\",\\\"0.52\\\",\\\"0.53\\\",\\\"0.54\\\",\\\"0.55\\\",\\\"0.56\\\",\\\"0.57\\\",\\\"0.58\\\",\\\"0.59\\\",\\\"0.6\\\",\\\"0.61\\\",\\\"0.62\\\",\\\"0.63\\\",\\\"0.64\\\",\\\"0.65\\\",\\\"0.66\\\",\\\"0.67\\\",\\\"0.68\\\",\\\"0.69\\\",\\\"0.7\\\",\\\"0.71\\\",\\\"0.72\\\",\\\"0.73\\\",\\\"0.74\\\",\\\"0.75\\\",\\\"0.76\\\",\\\"0.77\\\",\\\"0.78\\\",\\\"0.79\\\",\\\"0.8\\\",\\\"0.81\\\",\\\"0.82\\\",\\\"0.83\\\",\\\"0.84\\\",\\\"0.85\\\",\\\"0.86\\\",\\\"0.87\\\",\\\"0.88\\\",\\\"0.89\\\",\\\"0.9\\\",\\\"0.91\\\",\\\"0.92\\\",\\\"0.93\\\",\\\"0.94\\\",\\\"0.95\\\",\\\"0.96\\\",\\\"0.97\\\",\\\"0.98\\\",\\\"0.99\\\",\\\"1.0\\\"],\\\"changes\\\":WebIO.getval({\\\"name\\\":\\\"changes\\\",\\\"scope\\\":\\\"3808146200388026543\\\",\\\"id\\\":\\\"ob_30\\\",\\\"type\\\":\\\"observable\\\"}),\\\"index\\\":WebIO.getval({\\\"name\\\":\\\"index\\\",\\\"scope\\\":\\\"3808146200388026543\\\",\\\"id\\\":\\\"ob_29\\\",\\\"type\\\":\\\"observable\\\"})};\\n    var self = this;\\n    function AppViewModel() {\\n        for (var key in json_data) {\\n            var el = json_data[key];\\n            this[key] = Array.isArray(el) ? ko.observableArray(el) : ko.observable(el);\\n        }\\n        \\n        [this[\\\"formatted_val\\\"]=ko.computed(    function(){\\n        return this.formatted_vals()[parseInt(this.index())-(1)];\\n    }\\n,this)]\\n        [this[\\\"changes\\\"].subscribe((function (val){!(this.valueFromJulia[\\\"changes\\\"]) ? (WebIO.setval({\\\"name\\\":\\\"changes\\\",\\\"scope\\\":\\\"3808146200388026543\\\",\\\"id\\\":\\\"ob_30\\\",\\\"type\\\":\\\"observable\\\"},val)) : undefined; return this.valueFromJulia[\\\"changes\\\"]=false}),self),this[\\\"index\\\"].subscribe((function (val){!(this.valueFromJulia[\\\"index\\\"]) ? (WebIO.setval({\\\"name\\\":\\\"index\\\",\\\"scope\\\":\\\"3808146200388026543\\\",\\\"id\\\":\\\"ob_29\\\",\\\"type\\\":\\\"observable\\\"},val)) : undefined; return this.valueFromJulia[\\\"index\\\"]=false}),self)]\\n        \\n    }\\n    self.model = new AppViewModel();\\n    self.valueFromJulia = {};\\n    for (var key in json_data) {\\n        self.valueFromJulia[key] = false;\\n    }\\n    ko.applyBindings(self.model, self.dom);\\n}\\n);\\n    (WebIO.importBlock({\\\"data\\\":[{\\\"name\\\":\\\"knockout\\\",\\\"type\\\":\\\"js\\\",\\\"url\\\":\\\"\\/assetserver\\/fd311416c3fbf748771c2940b2ca4b79c53d1ab2-knockout.js\\\"},{\\\"name\\\":\\\"knockout_punches\\\",\\\"type\\\":\\\"js\\\",\\\"url\\\":\\\"\\/assetserver\\/148711b519458f42f1e7a22e5bdf7a74f9d5f8e0-knockout_punches.js\\\"}],\\\"type\\\":\\\"async_block\\\"})).then((imports) => handler.apply(this, imports));\\n}\\n\"],\"observables\":{\"changes\":{\"sync\":false,\"id\":\"ob_30\",\"value\":0},\"index\":{\"sync\":true,\"id\":\"ob_29\",\"value\":21}}},\"children\":[{\"props\":{\"className\":\"interact-flex-row interact-widget\"},\"nodeType\":\"DOM\",\"type\":\"node\",\"instanceArgs\":{\"namespace\":\"html\",\"tag\":\"div\"},\"children\":[{\"props\":{\"className\":\"interact-flex-row-left\"},\"nodeType\":\"DOM\",\"type\":\"node\",\"instanceArgs\":{\"namespace\":\"html\",\"tag\":\"div\"},\"children\":[{\"props\":{\"className\":\"interact \",\"style\":{\"padding\":\"5px 10px 0px 10px\"}},\"nodeType\":\"DOM\",\"type\":\"node\",\"instanceArgs\":{\"namespace\":\"html\",\"tag\":\"label\"},\"children\":[\"α21\"]}]},{\"props\":{\"className\":\"interact-flex-row-center\"},\"nodeType\":\"DOM\",\"type\":\"node\",\"instanceArgs\":{\"namespace\":\"html\",\"tag\":\"div\"},\"children\":[{\"props\":{\"max\":91,\"min\":1,\"attributes\":{\"type\":\"range\",\"data-bind\":\"numericValue: index, valueUpdate: 'input', event: {change: function (){this.changes(this.changes()+1)}}\",\"orient\":\"horizontal\"},\"step\":1,\"className\":\"slider slider is-fullwidth\",\"style\":{}},\"nodeType\":\"DOM\",\"type\":\"node\",\"instanceArgs\":{\"namespace\":\"html\",\"tag\":\"input\"},\"children\":[]}]},{\"props\":{\"className\":\"interact-flex-row-right\"},\"nodeType\":\"DOM\",\"type\":\"node\",\"instanceArgs\":{\"namespace\":\"html\",\"tag\":\"div\"},\"children\":[{\"props\":{\"attributes\":{\"data-bind\":\"text: formatted_val\"}},\"nodeType\":\"DOM\",\"type\":\"node\",\"instanceArgs\":{\"namespace\":\"html\",\"tag\":\"p\"},\"children\":[]}]}]}]}]},{\"props\":{\"className\":\"field interact-widget\"},\"nodeType\":\"DOM\",\"type\":\"node\",\"instanceArgs\":{\"namespace\":\"html\",\"tag\":\"div\"},\"children\":[{\"props\":{},\"nodeType\":\"Scope\",\"type\":\"node\",\"instanceArgs\":{\"imports\":{\"data\":[{\"name\":\"knockout\",\"type\":\"js\",\"url\":\"\\/assetserver\\/fd311416c3fbf748771c2940b2ca4b79c53d1ab2-knockout.js\"},{\"name\":\"knockout_punches\",\"type\":\"js\",\"url\":\"\\/assetserver\\/148711b519458f42f1e7a22e5bdf7a74f9d5f8e0-knockout_punches.js\"},{\"name\":null,\"type\":\"js\",\"url\":\"\\/assetserver\\/96387ddaa2b47f2577dbef3402b61deb55b692cb-all.js\"},{\"name\":null,\"type\":\"css\",\"url\":\"\\/assetserver\\/1205e2cb75bbf44a95189d9e430e22f4b3018051-style.css\"},{\"name\":null,\"type\":\"css\",\"url\":\"\\/assetserver\\/e47939cc599f2b791e3e3e81f0cfd77c1a048dd3-bulma_confined.min.css\"}],\"type\":\"async_block\"},\"id\":\"17113378502831011110\",\"handlers\":{\"changes\":[\"(function (val){return (val!=this.model[\\\"changes\\\"]()) ? (this.valueFromJulia[\\\"changes\\\"]=true, this.model[\\\"changes\\\"](val)) : undefined})\"],\"index\":[\"(function (val){return (val!=this.model[\\\"index\\\"]()) ? (this.valueFromJulia[\\\"index\\\"]=true, this.model[\\\"index\\\"](val)) : undefined})\"]},\"systemjs_options\":null,\"mount_callbacks\":[\"function () {\\n    var handler = (function (ko, koPunches) {\\n    ko.punches.enableAll();\\n    ko.bindingHandlers.numericValue = {\\n        init: function(element, valueAccessor, allBindings, data, context) {\\n            var stringified = ko.observable(ko.unwrap(valueAccessor()));\\n            stringified.subscribe(function(value) {\\n                var val = parseFloat(value);\\n                if (!isNaN(val)) {\\n                    valueAccessor()(val);\\n                }\\n            });\\n            valueAccessor().subscribe(function(value) {\\n                var str = JSON.stringify(value);\\n                if ((str == \\\"0\\\") && ([\\\"-0\\\", \\\"-0.\\\"].indexOf(stringified()) >= 0))\\n                     return;\\n                 if ([\\\"null\\\", \\\"\\\"].indexOf(str) >= 0)\\n                     return;\\n                stringified(str);\\n            });\\n            ko.applyBindingsToNode(\\n                element,\\n                {\\n                    value: stringified,\\n                    valueUpdate: allBindings.get('valueUpdate'),\\n                },\\n                context,\\n            );\\n        }\\n    };\\n    var json_data = {\\\"formatted_vals\\\":[\\\"0.1\\\",\\\"0.11\\\",\\\"0.12\\\",\\\"0.13\\\",\\\"0.14\\\",\\\"0.15\\\",\\\"0.16\\\",\\\"0.17\\\",\\\"0.18\\\",\\\"0.19\\\",\\\"0.2\\\",\\\"0.21\\\",\\\"0.22\\\",\\\"0.23\\\",\\\"0.24\\\",\\\"0.25\\\",\\\"0.26\\\",\\\"0.27\\\",\\\"0.28\\\",\\\"0.29\\\",\\\"0.3\\\",\\\"0.31\\\",\\\"0.32\\\",\\\"0.33\\\",\\\"0.34\\\",\\\"0.35\\\",\\\"0.36\\\",\\\"0.37\\\",\\\"0.38\\\",\\\"0.39\\\",\\\"0.4\\\",\\\"0.41\\\",\\\"0.42\\\",\\\"0.43\\\",\\\"0.44\\\",\\\"0.45\\\",\\\"0.46\\\",\\\"0.47\\\",\\\"0.48\\\",\\\"0.49\\\",\\\"0.5\\\",\\\"0.51\\\",\\\"0.52\\\",\\\"0.53\\\",\\\"0.54\\\",\\\"0.55\\\",\\\"0.56\\\",\\\"0.57\\\",\\\"0.58\\\",\\\"0.59\\\",\\\"0.6\\\",\\\"0.61\\\",\\\"0.62\\\",\\\"0.63\\\",\\\"0.64\\\",\\\"0.65\\\",\\\"0.66\\\",\\\"0.67\\\",\\\"0.68\\\",\\\"0.69\\\",\\\"0.7\\\",\\\"0.71\\\",\\\"0.72\\\",\\\"0.73\\\",\\\"0.74\\\",\\\"0.75\\\",\\\"0.76\\\",\\\"0.77\\\",\\\"0.78\\\",\\\"0.79\\\",\\\"0.8\\\",\\\"0.81\\\",\\\"0.82\\\",\\\"0.83\\\",\\\"0.84\\\",\\\"0.85\\\",\\\"0.86\\\",\\\"0.87\\\",\\\"0.88\\\",\\\"0.89\\\",\\\"0.9\\\",\\\"0.91\\\",\\\"0.92\\\",\\\"0.93\\\",\\\"0.94\\\",\\\"0.95\\\",\\\"0.96\\\",\\\"0.97\\\",\\\"0.98\\\",\\\"0.99\\\",\\\"1.0\\\",\\\"1.01\\\",\\\"1.02\\\",\\\"1.03\\\",\\\"1.04\\\",\\\"1.05\\\",\\\"1.06\\\",\\\"1.07\\\",\\\"1.08\\\",\\\"1.09\\\",\\\"1.1\\\",\\\"1.11\\\",\\\"1.12\\\",\\\"1.13\\\",\\\"1.14\\\",\\\"1.15\\\",\\\"1.16\\\",\\\"1.17\\\",\\\"1.18\\\",\\\"1.19\\\",\\\"1.2\\\",\\\"1.21\\\",\\\"1.22\\\",\\\"1.23\\\",\\\"1.24\\\",\\\"1.25\\\",\\\"1.26\\\",\\\"1.27\\\",\\\"1.28\\\",\\\"1.29\\\",\\\"1.3\\\",\\\"1.31\\\",\\\"1.32\\\",\\\"1.33\\\",\\\"1.34\\\",\\\"1.35\\\",\\\"1.36\\\",\\\"1.37\\\",\\\"1.38\\\",\\\"1.39\\\",\\\"1.4\\\",\\\"1.41\\\",\\\"1.42\\\",\\\"1.43\\\",\\\"1.44\\\",\\\"1.45\\\",\\\"1.46\\\",\\\"1.47\\\",\\\"1.48\\\",\\\"1.49\\\",\\\"1.5\\\",\\\"1.51\\\",\\\"1.52\\\",\\\"1.53\\\",\\\"1.54\\\",\\\"1.55\\\",\\\"1.56\\\",\\\"1.57\\\",\\\"1.58\\\",\\\"1.59\\\",\\\"1.6\\\",\\\"1.61\\\",\\\"1.62\\\",\\\"1.63\\\",\\\"1.64\\\",\\\"1.65\\\",\\\"1.66\\\",\\\"1.67\\\",\\\"1.68\\\",\\\"1.69\\\",\\\"1.7\\\",\\\"1.71\\\",\\\"1.72\\\",\\\"1.73\\\",\\\"1.74\\\",\\\"1.75\\\",\\\"1.76\\\",\\\"1.77\\\",\\\"1.78\\\",\\\"1.79\\\",\\\"1.8\\\",\\\"1.81\\\",\\\"1.82\\\",\\\"1.83\\\",\\\"1.84\\\",\\\"1.85\\\",\\\"1.86\\\",\\\"1.87\\\",\\\"1.88\\\",\\\"1.89\\\",\\\"1.9\\\",\\\"1.91\\\",\\\"1.92\\\",\\\"1.93\\\",\\\"1.94\\\",\\\"1.95\\\",\\\"1.96\\\",\\\"1.97\\\",\\\"1.98\\\",\\\"1.99\\\",\\\"2.0\\\"],\\\"changes\\\":WebIO.getval({\\\"name\\\":\\\"changes\\\",\\\"scope\\\":\\\"17113378502831011110\\\",\\\"id\\\":\\\"ob_33\\\",\\\"type\\\":\\\"observable\\\"}),\\\"index\\\":WebIO.getval({\\\"name\\\":\\\"index\\\",\\\"scope\\\":\\\"17113378502831011110\\\",\\\"id\\\":\\\"ob_32\\\",\\\"type\\\":\\\"observable\\\"})};\\n    var self = this;\\n    function AppViewModel() {\\n        for (var key in json_data) {\\n            var el = json_data[key];\\n            this[key] = Array.isArray(el) ? ko.observableArray(el) : ko.observable(el);\\n        }\\n        \\n        [this[\\\"formatted_val\\\"]=ko.computed(    function(){\\n        return this.formatted_vals()[parseInt(this.index())-(1)];\\n    }\\n,this)]\\n        [this[\\\"changes\\\"].subscribe((function (val){!(this.valueFromJulia[\\\"changes\\\"]) ? (WebIO.setval({\\\"name\\\":\\\"changes\\\",\\\"scope\\\":\\\"17113378502831011110\\\",\\\"id\\\":\\\"ob_33\\\",\\\"type\\\":\\\"observable\\\"},val)) : undefined; return this.valueFromJulia[\\\"changes\\\"]=false}),self),this[\\\"index\\\"].subscribe((function (val){!(this.valueFromJulia[\\\"index\\\"]) ? (WebIO.setval({\\\"name\\\":\\\"index\\\",\\\"scope\\\":\\\"17113378502831011110\\\",\\\"id\\\":\\\"ob_32\\\",\\\"type\\\":\\\"observable\\\"},val)) : undefined; return this.valueFromJulia[\\\"index\\\"]=false}),self)]\\n        \\n    }\\n    self.model = new AppViewModel();\\n    self.valueFromJulia = {};\\n    for (var key in json_data) {\\n        self.valueFromJulia[key] = false;\\n    }\\n    ko.applyBindings(self.model, self.dom);\\n}\\n);\\n    (WebIO.importBlock({\\\"data\\\":[{\\\"name\\\":\\\"knockout\\\",\\\"type\\\":\\\"js\\\",\\\"url\\\":\\\"\\/assetserver\\/fd311416c3fbf748771c2940b2ca4b79c53d1ab2-knockout.js\\\"},{\\\"name\\\":\\\"knockout_punches\\\",\\\"type\\\":\\\"js\\\",\\\"url\\\":\\\"\\/assetserver\\/148711b519458f42f1e7a22e5bdf7a74f9d5f8e0-knockout_punches.js\\\"}],\\\"type\\\":\\\"async_block\\\"})).then((imports) => handler.apply(this, imports));\\n}\\n\"],\"observables\":{\"changes\":{\"sync\":false,\"id\":\"ob_33\",\"value\":0},\"index\":{\"sync\":true,\"id\":\"ob_32\",\"value\":141}}},\"children\":[{\"props\":{\"className\":\"interact-flex-row interact-widget\"},\"nodeType\":\"DOM\",\"type\":\"node\",\"instanceArgs\":{\"namespace\":\"html\",\"tag\":\"div\"},\"children\":[{\"props\":{\"className\":\"interact-flex-row-left\"},\"nodeType\":\"DOM\",\"type\":\"node\",\"instanceArgs\":{\"namespace\":\"html\",\"tag\":\"div\"},\"children\":[{\"props\":{\"className\":\"interact \",\"style\":{\"padding\":\"5px 10px 0px 10px\"}},\"nodeType\":\"DOM\",\"type\":\"node\",\"instanceArgs\":{\"namespace\":\"html\",\"tag\":\"label\"},\"children\":[\"K1\"]}]},{\"props\":{\"className\":\"interact-flex-row-center\"},\"nodeType\":\"DOM\",\"type\":\"node\",\"instanceArgs\":{\"namespace\":\"html\",\"tag\":\"div\"},\"children\":[{\"props\":{\"max\":191,\"min\":1,\"attributes\":{\"type\":\"range\",\"data-bind\":\"numericValue: index, valueUpdate: 'input', event: {change: function (){this.changes(this.changes()+1)}}\",\"orient\":\"horizontal\"},\"step\":1,\"className\":\"slider slider is-fullwidth\",\"style\":{}},\"nodeType\":\"DOM\",\"type\":\"node\",\"instanceArgs\":{\"namespace\":\"html\",\"tag\":\"input\"},\"children\":[]}]},{\"props\":{\"className\":\"interact-flex-row-right\"},\"nodeType\":\"DOM\",\"type\":\"node\",\"instanceArgs\":{\"namespace\":\"html\",\"tag\":\"div\"},\"children\":[{\"props\":{\"attributes\":{\"data-bind\":\"text: formatted_val\"}},\"nodeType\":\"DOM\",\"type\":\"node\",\"instanceArgs\":{\"namespace\":\"html\",\"tag\":\"p\"},\"children\":[]}]}]}]}]},{\"props\":{\"className\":\"field interact-widget\"},\"nodeType\":\"DOM\",\"type\":\"node\",\"instanceArgs\":{\"namespace\":\"html\",\"tag\":\"div\"},\"children\":[{\"props\":{},\"nodeType\":\"Scope\",\"type\":\"node\",\"instanceArgs\":{\"imports\":{\"data\":[{\"name\":\"knockout\",\"type\":\"js\",\"url\":\"\\/assetserver\\/fd311416c3fbf748771c2940b2ca4b79c53d1ab2-knockout.js\"},{\"name\":\"knockout_punches\",\"type\":\"js\",\"url\":\"\\/assetserver\\/148711b519458f42f1e7a22e5bdf7a74f9d5f8e0-knockout_punches.js\"},{\"name\":null,\"type\":\"js\",\"url\":\"\\/assetserver\\/96387ddaa2b47f2577dbef3402b61deb55b692cb-all.js\"},{\"name\":null,\"type\":\"css\",\"url\":\"\\/assetserver\\/1205e2cb75bbf44a95189d9e430e22f4b3018051-style.css\"},{\"name\":null,\"type\":\"css\",\"url\":\"\\/assetserver\\/e47939cc599f2b791e3e3e81f0cfd77c1a048dd3-bulma_confined.min.css\"}],\"type\":\"async_block\"},\"id\":\"15396934786850674188\",\"handlers\":{\"changes\":[\"(function (val){return (val!=this.model[\\\"changes\\\"]()) ? (this.valueFromJulia[\\\"changes\\\"]=true, this.model[\\\"changes\\\"](val)) : undefined})\"],\"index\":[\"(function (val){return (val!=this.model[\\\"index\\\"]()) ? (this.valueFromJulia[\\\"index\\\"]=true, this.model[\\\"index\\\"](val)) : undefined})\"]},\"systemjs_options\":null,\"mount_callbacks\":[\"function () {\\n    var handler = (function (ko, koPunches) {\\n    ko.punches.enableAll();\\n    ko.bindingHandlers.numericValue = {\\n        init: function(element, valueAccessor, allBindings, data, context) {\\n            var stringified = ko.observable(ko.unwrap(valueAccessor()));\\n            stringified.subscribe(function(value) {\\n                var val = parseFloat(value);\\n                if (!isNaN(val)) {\\n                    valueAccessor()(val);\\n                }\\n            });\\n            valueAccessor().subscribe(function(value) {\\n                var str = JSON.stringify(value);\\n                if ((str == \\\"0\\\") && ([\\\"-0\\\", \\\"-0.\\\"].indexOf(stringified()) >= 0))\\n                     return;\\n                 if ([\\\"null\\\", \\\"\\\"].indexOf(str) >= 0)\\n                     return;\\n                stringified(str);\\n            });\\n            ko.applyBindingsToNode(\\n                element,\\n                {\\n                    value: stringified,\\n                    valueUpdate: allBindings.get('valueUpdate'),\\n                },\\n                context,\\n            );\\n        }\\n    };\\n    var json_data = {\\\"formatted_vals\\\":[\\\"0.1\\\",\\\"0.11\\\",\\\"0.12\\\",\\\"0.13\\\",\\\"0.14\\\",\\\"0.15\\\",\\\"0.16\\\",\\\"0.17\\\",\\\"0.18\\\",\\\"0.19\\\",\\\"0.2\\\",\\\"0.21\\\",\\\"0.22\\\",\\\"0.23\\\",\\\"0.24\\\",\\\"0.25\\\",\\\"0.26\\\",\\\"0.27\\\",\\\"0.28\\\",\\\"0.29\\\",\\\"0.3\\\",\\\"0.31\\\",\\\"0.32\\\",\\\"0.33\\\",\\\"0.34\\\",\\\"0.35\\\",\\\"0.36\\\",\\\"0.37\\\",\\\"0.38\\\",\\\"0.39\\\",\\\"0.4\\\",\\\"0.41\\\",\\\"0.42\\\",\\\"0.43\\\",\\\"0.44\\\",\\\"0.45\\\",\\\"0.46\\\",\\\"0.47\\\",\\\"0.48\\\",\\\"0.49\\\",\\\"0.5\\\",\\\"0.51\\\",\\\"0.52\\\",\\\"0.53\\\",\\\"0.54\\\",\\\"0.55\\\",\\\"0.56\\\",\\\"0.57\\\",\\\"0.58\\\",\\\"0.59\\\",\\\"0.6\\\",\\\"0.61\\\",\\\"0.62\\\",\\\"0.63\\\",\\\"0.64\\\",\\\"0.65\\\",\\\"0.66\\\",\\\"0.67\\\",\\\"0.68\\\",\\\"0.69\\\",\\\"0.7\\\",\\\"0.71\\\",\\\"0.72\\\",\\\"0.73\\\",\\\"0.74\\\",\\\"0.75\\\",\\\"0.76\\\",\\\"0.77\\\",\\\"0.78\\\",\\\"0.79\\\",\\\"0.8\\\",\\\"0.81\\\",\\\"0.82\\\",\\\"0.83\\\",\\\"0.84\\\",\\\"0.85\\\",\\\"0.86\\\",\\\"0.87\\\",\\\"0.88\\\",\\\"0.89\\\",\\\"0.9\\\",\\\"0.91\\\",\\\"0.92\\\",\\\"0.93\\\",\\\"0.94\\\",\\\"0.95\\\",\\\"0.96\\\",\\\"0.97\\\",\\\"0.98\\\",\\\"0.99\\\",\\\"1.0\\\",\\\"1.01\\\",\\\"1.02\\\",\\\"1.03\\\",\\\"1.04\\\",\\\"1.05\\\",\\\"1.06\\\",\\\"1.07\\\",\\\"1.08\\\",\\\"1.09\\\",\\\"1.1\\\",\\\"1.11\\\",\\\"1.12\\\",\\\"1.13\\\",\\\"1.14\\\",\\\"1.15\\\",\\\"1.16\\\",\\\"1.17\\\",\\\"1.18\\\",\\\"1.19\\\",\\\"1.2\\\",\\\"1.21\\\",\\\"1.22\\\",\\\"1.23\\\",\\\"1.24\\\",\\\"1.25\\\",\\\"1.26\\\",\\\"1.27\\\",\\\"1.28\\\",\\\"1.29\\\",\\\"1.3\\\",\\\"1.31\\\",\\\"1.32\\\",\\\"1.33\\\",\\\"1.34\\\",\\\"1.35\\\",\\\"1.36\\\",\\\"1.37\\\",\\\"1.38\\\",\\\"1.39\\\",\\\"1.4\\\",\\\"1.41\\\",\\\"1.42\\\",\\\"1.43\\\",\\\"1.44\\\",\\\"1.45\\\",\\\"1.46\\\",\\\"1.47\\\",\\\"1.48\\\",\\\"1.49\\\",\\\"1.5\\\",\\\"1.51\\\",\\\"1.52\\\",\\\"1.53\\\",\\\"1.54\\\",\\\"1.55\\\",\\\"1.56\\\",\\\"1.57\\\",\\\"1.58\\\",\\\"1.59\\\",\\\"1.6\\\",\\\"1.61\\\",\\\"1.62\\\",\\\"1.63\\\",\\\"1.64\\\",\\\"1.65\\\",\\\"1.66\\\",\\\"1.67\\\",\\\"1.68\\\",\\\"1.69\\\",\\\"1.7\\\",\\\"1.71\\\",\\\"1.72\\\",\\\"1.73\\\",\\\"1.74\\\",\\\"1.75\\\",\\\"1.76\\\",\\\"1.77\\\",\\\"1.78\\\",\\\"1.79\\\",\\\"1.8\\\",\\\"1.81\\\",\\\"1.82\\\",\\\"1.83\\\",\\\"1.84\\\",\\\"1.85\\\",\\\"1.86\\\",\\\"1.87\\\",\\\"1.88\\\",\\\"1.89\\\",\\\"1.9\\\",\\\"1.91\\\",\\\"1.92\\\",\\\"1.93\\\",\\\"1.94\\\",\\\"1.95\\\",\\\"1.96\\\",\\\"1.97\\\",\\\"1.98\\\",\\\"1.99\\\",\\\"2.0\\\"],\\\"changes\\\":WebIO.getval({\\\"name\\\":\\\"changes\\\",\\\"scope\\\":\\\"15396934786850674188\\\",\\\"id\\\":\\\"ob_36\\\",\\\"type\\\":\\\"observable\\\"}),\\\"index\\\":WebIO.getval({\\\"name\\\":\\\"index\\\",\\\"scope\\\":\\\"15396934786850674188\\\",\\\"id\\\":\\\"ob_35\\\",\\\"type\\\":\\\"observable\\\"})};\\n    var self = this;\\n    function AppViewModel() {\\n        for (var key in json_data) {\\n            var el = json_data[key];\\n            this[key] = Array.isArray(el) ? ko.observableArray(el) : ko.observable(el);\\n        }\\n        \\n        [this[\\\"formatted_val\\\"]=ko.computed(    function(){\\n        return this.formatted_vals()[parseInt(this.index())-(1)];\\n    }\\n,this)]\\n        [this[\\\"changes\\\"].subscribe((function (val){!(this.valueFromJulia[\\\"changes\\\"]) ? (WebIO.setval({\\\"name\\\":\\\"changes\\\",\\\"scope\\\":\\\"15396934786850674188\\\",\\\"id\\\":\\\"ob_36\\\",\\\"type\\\":\\\"observable\\\"},val)) : undefined; return this.valueFromJulia[\\\"changes\\\"]=false}),self),this[\\\"index\\\"].subscribe((function (val){!(this.valueFromJulia[\\\"index\\\"]) ? (WebIO.setval({\\\"name\\\":\\\"index\\\",\\\"scope\\\":\\\"15396934786850674188\\\",\\\"id\\\":\\\"ob_35\\\",\\\"type\\\":\\\"observable\\\"},val)) : undefined; return this.valueFromJulia[\\\"index\\\"]=false}),self)]\\n        \\n    }\\n    self.model = new AppViewModel();\\n    self.valueFromJulia = {};\\n    for (var key in json_data) {\\n        self.valueFromJulia[key] = false;\\n    }\\n    ko.applyBindings(self.model, self.dom);\\n}\\n);\\n    (WebIO.importBlock({\\\"data\\\":[{\\\"name\\\":\\\"knockout\\\",\\\"type\\\":\\\"js\\\",\\\"url\\\":\\\"\\/assetserver\\/fd311416c3fbf748771c2940b2ca4b79c53d1ab2-knockout.js\\\"},{\\\"name\\\":\\\"knockout_punches\\\",\\\"type\\\":\\\"js\\\",\\\"url\\\":\\\"\\/assetserver\\/148711b519458f42f1e7a22e5bdf7a74f9d5f8e0-knockout_punches.js\\\"}],\\\"type\\\":\\\"async_block\\\"})).then((imports) => handler.apply(this, imports));\\n}\\n\"],\"observables\":{\"changes\":{\"sync\":false,\"id\":\"ob_36\",\"value\":0},\"index\":{\"sync\":true,\"id\":\"ob_35\",\"value\":91}}},\"children\":[{\"props\":{\"className\":\"interact-flex-row interact-widget\"},\"nodeType\":\"DOM\",\"type\":\"node\",\"instanceArgs\":{\"namespace\":\"html\",\"tag\":\"div\"},\"children\":[{\"props\":{\"className\":\"interact-flex-row-left\"},\"nodeType\":\"DOM\",\"type\":\"node\",\"instanceArgs\":{\"namespace\":\"html\",\"tag\":\"div\"},\"children\":[{\"props\":{\"className\":\"interact \",\"style\":{\"padding\":\"5px 10px 0px 10px\"}},\"nodeType\":\"DOM\",\"type\":\"node\",\"instanceArgs\":{\"namespace\":\"html\",\"tag\":\"label\"},\"children\":[\"K2\"]}]},{\"props\":{\"className\":\"interact-flex-row-center\"},\"nodeType\":\"DOM\",\"type\":\"node\",\"instanceArgs\":{\"namespace\":\"html\",\"tag\":\"div\"},\"children\":[{\"props\":{\"max\":191,\"min\":1,\"attributes\":{\"type\":\"range\",\"data-bind\":\"numericValue: index, valueUpdate: 'input', event: {change: function (){this.changes(this.changes()+1)}}\",\"orient\":\"horizontal\"},\"step\":1,\"className\":\"slider slider is-fullwidth\",\"style\":{}},\"nodeType\":\"DOM\",\"type\":\"node\",\"instanceArgs\":{\"namespace\":\"html\",\"tag\":\"input\"},\"children\":[]}]},{\"props\":{\"className\":\"interact-flex-row-right\"},\"nodeType\":\"DOM\",\"type\":\"node\",\"instanceArgs\":{\"namespace\":\"html\",\"tag\":\"div\"},\"children\":[{\"props\":{\"attributes\":{\"data-bind\":\"text: formatted_val\"}},\"nodeType\":\"DOM\",\"type\":\"node\",\"instanceArgs\":{\"namespace\":\"html\",\"tag\":\"p\"},\"children\":[]}]}]}]}]},{\"props\":{},\"nodeType\":\"Scope\",\"type\":\"node\",\"instanceArgs\":{\"imports\":{\"data\":[],\"type\":\"async_block\"},\"id\":\"8581564993542571606\",\"handlers\":{},\"systemjs_options\":null,\"mount_callbacks\":[],\"observables\":{\"obs-node\":{\"sync\":false,\"id\":\"ob_40\",\"value\":{\"props\":{\"className\":\"interact-flex-row interact-widget\"},\"nodeType\":\"DOM\",\"type\":\"node\",\"instanceArgs\":{\"namespace\":\"html\",\"tag\":\"div\"},\"children\":[{\"props\":{\"setInnerHtml\":\"<?xml version=\\\"1.0\\\" encoding=\\\"utf-8\\\"?>\\n<svg xmlns=\\\"http:\\/\\/www.w3.org\\/2000\\/svg\\\" xmlns:xlink=\\\"http:\\/\\/www.w3.org\\/1999\\/xlink\\\" width=\\\"600\\\" height=\\\"400\\\" viewBox=\\\"0 0 2400 1600\\\">\\n<defs>\\n  <clipPath id=\\\"clip1500\\\">\\n    <rect x=\\\"0\\\" y=\\\"0\\\" width=\\\"2400\\\" height=\\\"1600\\\"\\/>\\n  <\\/clipPath>\\n<\\/defs>\\n<polygon clip-path=\\\"url(#clip1500)\\\" points=\\\"\\n0,1600 2400,1600 2400,0 0,0 \\n  \\\" fill=\\\"#ffffff\\\" fill-rule=\\\"evenodd\\\" fill-opacity=\\\"1\\\"\\/>\\n<defs>\\n  <clipPath id=\\\"clip1501\\\">\\n    <rect x=\\\"480\\\" y=\\\"0\\\" width=\\\"1681\\\" height=\\\"1600\\\"\\/>\\n  <\\/clipPath>\\n<\\/defs>\\n<polygon clip-path=\\\"url(#clip1500)\\\" points=\\\"\\n175.611,1425.62 2352.76,1425.62 2352.76,47.2441 175.611,47.2441 \\n  \\\" fill=\\\"#ffffff\\\" fill-rule=\\\"evenodd\\\" fill-opacity=\\\"1\\\"\\/>\\n<defs>\\n  <clipPath id=\\\"clip1502\\\">\\n    <rect x=\\\"175\\\" y=\\\"47\\\" width=\\\"2178\\\" height=\\\"1379\\\"\\/>\\n  <\\/clipPath>\\n<\\/defs>\\n<polyline clip-path=\\\"url(#clip1502)\\\" style=\\\"stroke:#000000; stroke-width:2; stroke-opacity:0.1; fill:none\\\" points=\\\"\\n  175.611,1425.62 175.611,47.2441 \\n  \\\"\\/>\\n<polyline clip-path=\\\"url(#clip1502)\\\" style=\\\"stroke:#000000; stroke-width:2; stroke-opacity:0.1; fill:none\\\" points=\\\"\\n  901.326,1425.62 901.326,47.2441 \\n  \\\"\\/>\\n<polyline clip-path=\\\"url(#clip1502)\\\" style=\\\"stroke:#000000; stroke-width:2; stroke-opacity:0.1; fill:none\\\" points=\\\"\\n  1627.04,1425.62 1627.04,47.2441 \\n  \\\"\\/>\\n<polyline clip-path=\\\"url(#clip1502)\\\" style=\\\"stroke:#000000; stroke-width:2; stroke-opacity:0.1; fill:none\\\" points=\\\"\\n  2352.76,1425.62 2352.76,47.2441 \\n  \\\"\\/>\\n<polyline clip-path=\\\"url(#clip1502)\\\" style=\\\"stroke:#000000; stroke-width:2; stroke-opacity:0.1; fill:none\\\" points=\\\"\\n  175.611,1425.62 2352.76,1425.62 \\n  \\\"\\/>\\n<polyline clip-path=\\\"url(#clip1502)\\\" style=\\\"stroke:#000000; stroke-width:2; stroke-opacity:0.1; fill:none\\\" points=\\\"\\n  175.611,1149.94 2352.76,1149.94 \\n  \\\"\\/>\\n<polyline clip-path=\\\"url(#clip1502)\\\" style=\\\"stroke:#000000; stroke-width:2; stroke-opacity:0.1; fill:none\\\" points=\\\"\\n  175.611,874.269 2352.76,874.269 \\n  \\\"\\/>\\n<polyline clip-path=\\\"url(#clip1502)\\\" style=\\\"stroke:#000000; stroke-width:2; stroke-opacity:0.1; fill:none\\\" points=\\\"\\n  175.611,598.594 2352.76,598.594 \\n  \\\"\\/>\\n<polyline clip-path=\\\"url(#clip1502)\\\" style=\\\"stroke:#000000; stroke-width:2; stroke-opacity:0.1; fill:none\\\" points=\\\"\\n  175.611,322.919 2352.76,322.919 \\n  \\\"\\/>\\n<polyline clip-path=\\\"url(#clip1502)\\\" style=\\\"stroke:#000000; stroke-width:2; stroke-opacity:0.1; fill:none\\\" points=\\\"\\n  175.611,47.2441 2352.76,47.2441 \\n  \\\"\\/>\\n<polyline clip-path=\\\"url(#clip1500)\\\" style=\\\"stroke:#000000; stroke-width:4; stroke-opacity:1; fill:none\\\" points=\\\"\\n  175.611,1425.62 2352.76,1425.62 \\n  \\\"\\/>\\n<polyline clip-path=\\\"url(#clip1500)\\\" style=\\\"stroke:#000000; stroke-width:4; stroke-opacity:1; fill:none\\\" points=\\\"\\n  175.611,1425.62 175.611,47.2441 \\n  \\\"\\/>\\n<polyline clip-path=\\\"url(#clip1500)\\\" style=\\\"stroke:#000000; stroke-width:4; stroke-opacity:1; fill:none\\\" points=\\\"\\n  175.611,1425.62 175.611,1404.94 \\n  \\\"\\/>\\n<polyline clip-path=\\\"url(#clip1500)\\\" style=\\\"stroke:#000000; stroke-width:4; stroke-opacity:1; fill:none\\\" points=\\\"\\n  901.326,1425.62 901.326,1404.94 \\n  \\\"\\/>\\n<polyline clip-path=\\\"url(#clip1500)\\\" style=\\\"stroke:#000000; stroke-width:4; stroke-opacity:1; fill:none\\\" points=\\\"\\n  1627.04,1425.62 1627.04,1404.94 \\n  \\\"\\/>\\n<polyline clip-path=\\\"url(#clip1500)\\\" style=\\\"stroke:#000000; stroke-width:4; stroke-opacity:1; fill:none\\\" points=\\\"\\n  2352.76,1425.62 2352.76,1404.94 \\n  \\\"\\/>\\n<polyline clip-path=\\\"url(#clip1500)\\\" style=\\\"stroke:#000000; stroke-width:4; stroke-opacity:1; fill:none\\\" points=\\\"\\n  175.611,1425.62 208.268,1425.62 \\n  \\\"\\/>\\n<polyline clip-path=\\\"url(#clip1500)\\\" style=\\\"stroke:#000000; stroke-width:4; stroke-opacity:1; fill:none\\\" points=\\\"\\n  175.611,1149.94 208.268,1149.94 \\n  \\\"\\/>\\n<polyline clip-path=\\\"url(#clip1500)\\\" style=\\\"stroke:#000000; stroke-width:4; stroke-opacity:1; fill:none\\\" points=\\\"\\n  175.611,874.269 208.268,874.269 \\n  \\\"\\/>\\n<polyline clip-path=\\\"url(#clip1500)\\\" style=\\\"stroke:#000000; stroke-width:4; stroke-opacity:1; fill:none\\\" points=\\\"\\n  175.611,598.594 208.268,598.594 \\n  \\\"\\/>\\n<polyline clip-path=\\\"url(#clip1500)\\\" style=\\\"stroke:#000000; stroke-width:4; stroke-opacity:1; fill:none\\\" points=\\\"\\n  175.611,322.919 208.268,322.919 \\n  \\\"\\/>\\n<polyline clip-path=\\\"url(#clip1500)\\\" style=\\\"stroke:#000000; stroke-width:4; stroke-opacity:1; fill:none\\\" points=\\\"\\n  175.611,47.2441 208.268,47.2441 \\n  \\\"\\/>\\n<g clip-path=\\\"url(#clip1500)\\\">\\n<text style=\\\"fill:#000000; fill-opacity:1; font-family:Arial,Helvetica Neue,Helvetica,sans-serif; font-size:48px; text-anchor:middle;\\\" transform=\\\"rotate(0, 175.611, 1479.62)\\\" x=\\\"175.611\\\" y=\\\"1479.62\\\">0<\\/text>\\n<\\/g>\\n<g clip-path=\\\"url(#clip1500)\\\">\\n<text style=\\\"fill:#000000; fill-opacity:1; font-family:Arial,Helvetica Neue,Helvetica,sans-serif; font-size:48px; text-anchor:middle;\\\" transform=\\\"rotate(0, 901.326, 1479.62)\\\" x=\\\"901.326\\\" y=\\\"1479.62\\\">1<\\/text>\\n<\\/g>\\n<g clip-path=\\\"url(#clip1500)\\\">\\n<text style=\\\"fill:#000000; fill-opacity:1; font-family:Arial,Helvetica Neue,Helvetica,sans-serif; font-size:48px; text-anchor:middle;\\\" transform=\\\"rotate(0, 1627.04, 1479.62)\\\" x=\\\"1627.04\\\" y=\\\"1479.62\\\">2<\\/text>\\n<\\/g>\\n<g clip-path=\\\"url(#clip1500)\\\">\\n<text style=\\\"fill:#000000; fill-opacity:1; font-family:Arial,Helvetica Neue,Helvetica,sans-serif; font-size:48px; text-anchor:middle;\\\" transform=\\\"rotate(0, 2352.76, 1479.62)\\\" x=\\\"2352.76\\\" y=\\\"1479.62\\\">3<\\/text>\\n<\\/g>\\n<g clip-path=\\\"url(#clip1500)\\\">\\n<text style=\\\"fill:#000000; fill-opacity:1; font-family:Arial,Helvetica Neue,Helvetica,sans-serif; font-size:48px; text-anchor:end;\\\" transform=\\\"rotate(0, 151.611, 1443.12)\\\" x=\\\"151.611\\\" y=\\\"1443.12\\\">0<\\/text>\\n<\\/g>\\n<g clip-path=\\\"url(#clip1500)\\\">\\n<text style=\\\"fill:#000000; fill-opacity:1; font-family:Arial,Helvetica Neue,Helvetica,sans-serif; font-size:48px; text-anchor:end;\\\" transform=\\\"rotate(0, 151.611, 1167.44)\\\" x=\\\"151.611\\\" y=\\\"1167.44\\\">1<\\/text>\\n<\\/g>\\n<g clip-path=\\\"url(#clip1500)\\\">\\n<text style=\\\"fill:#000000; fill-opacity:1; font-family:Arial,Helvetica Neue,Helvetica,sans-serif; font-size:48px; text-anchor:end;\\\" transform=\\\"rotate(0, 151.611, 891.769)\\\" x=\\\"151.611\\\" y=\\\"891.769\\\">2<\\/text>\\n<\\/g>\\n<g clip-path=\\\"url(#clip1500)\\\">\\n<text style=\\\"fill:#000000; fill-opacity:1; font-family:Arial,Helvetica Neue,Helvetica,sans-serif; font-size:48px; text-anchor:end;\\\" transform=\\\"rotate(0, 151.611, 616.094)\\\" x=\\\"151.611\\\" y=\\\"616.094\\\">3<\\/text>\\n<\\/g>\\n<g clip-path=\\\"url(#clip1500)\\\">\\n<text style=\\\"fill:#000000; fill-opacity:1; font-family:Arial,Helvetica Neue,Helvetica,sans-serif; font-size:48px; text-anchor:end;\\\" transform=\\\"rotate(0, 151.611, 340.419)\\\" x=\\\"151.611\\\" y=\\\"340.419\\\">4<\\/text>\\n<\\/g>\\n<g clip-path=\\\"url(#clip1500)\\\">\\n<text style=\\\"fill:#000000; fill-opacity:1; font-family:Arial,Helvetica Neue,Helvetica,sans-serif; font-size:48px; text-anchor:end;\\\" transform=\\\"rotate(0, 151.611, 64.7441)\\\" x=\\\"151.611\\\" y=\\\"64.7441\\\">5<\\/text>\\n<\\/g>\\n<g clip-path=\\\"url(#clip1500)\\\">\\n<text style=\\\"fill:#000000; fill-opacity:1; font-family:Arial,Helvetica Neue,Helvetica,sans-serif; font-size:66px; text-anchor:middle;\\\" transform=\\\"rotate(0, 1264.18, 1559.48)\\\" x=\\\"1264.18\\\" y=\\\"1559.48\\\">u2<\\/text>\\n<\\/g>\\n<g clip-path=\\\"url(#clip1500)\\\">\\n<text style=\\\"fill:#000000; fill-opacity:1; font-family:Arial,Helvetica Neue,Helvetica,sans-serif; font-size:66px; text-anchor:middle;\\\" transform=\\\"rotate(-90, 89.2861, 736.431)\\\" x=\\\"89.2861\\\" y=\\\"736.431\\\">u1<\\/text>\\n<\\/g>\\n<polyline clip-path=\\\"url(#clip1502)\\\" style=\\\"stroke:#009af9; stroke-width:4; stroke-opacity:1; fill:none\\\" points=\\\"\\n  175.611,1012.11 212.263,1019.53 248.915,1026.96 285.567,1034.38 322.22,1041.81 358.872,1049.23 395.524,1056.66 432.177,1064.09 468.829,1071.51 505.481,1078.94 \\n  542.133,1086.36 578.786,1093.79 615.438,1101.21 652.09,1108.64 688.742,1116.06 725.395,1123.49 762.047,1130.92 798.699,1138.34 835.352,1145.77 872.004,1153.19 \\n  908.656,1160.62 945.308,1168.04 981.961,1175.47 1018.61,1182.89 1055.27,1190.32 1091.92,1197.75 1128.57,1205.17 1165.22,1212.6 1201.87,1220.02 1238.53,1227.45 \\n  1275.18,1234.87 1311.83,1242.3 1348.48,1249.73 1385.14,1257.15 1421.79,1264.58 1458.44,1272 1495.09,1279.43 1531.74,1286.85 1568.4,1294.28 1605.05,1301.7 \\n  1641.7,1309.13 1678.35,1316.56 1715.01,1323.98 1751.66,1331.41 1788.31,1338.83 1824.96,1346.26 1861.62,1353.68 1898.27,1361.11 1934.92,1368.53 1971.57,1375.96 \\n  2008.22,1383.39 2044.88,1390.81 2081.53,1398.24 2118.18,1405.66 2154.83,1413.09 2191.49,1420.51 2228.14,1427.94 2264.79,1435.36 2301.44,1442.79 2338.09,1450.22 \\n  2374.75,1457.64 2411.4,1465.07 2448.05,1472.49 2484.7,1479.92 2521.36,1487.34 2558.01,1494.77 2594.66,1502.19 2631.31,1509.62 2667.97,1517.05 2704.62,1524.47 \\n  2741.27,1531.9 2777.92,1539.32 2814.57,1546.75 2851.23,1554.17 2887.88,1561.6 2924.53,1569.03 2961.18,1576.45 2997.84,1583.88 3034.49,1591.3 3071.14,1598.73 \\n  3107.79,1606.15 3144.45,1613.58 3181.1,1621 3217.75,1628.43 3254.4,1635.86 3291.05,1643.28 3327.71,1650.71 3364.36,1658.13 3401.01,1665.56 3437.66,1672.98 \\n  3474.32,1680.41 3510.97,1687.83 3547.62,1695.26 3584.27,1702.69 3620.92,1710.11 3657.58,1717.54 3694.23,1724.96 3730.88,1732.39 3767.53,1739.81 3804.19,1747.24 \\n  \\n  \\\"\\/>\\n<polyline clip-path=\\\"url(#clip1502)\\\" style=\\\"stroke:#e26f46; stroke-width:4; stroke-opacity:1; fill:none\\\" points=\\\"\\n  175.611,506.702 212.263,553.112 248.915,599.522 285.567,645.932 322.22,692.342 358.872,738.752 395.524,785.162 432.177,831.572 468.829,877.982 505.481,924.392 \\n  542.133,970.801 578.786,1017.21 615.438,1063.62 652.09,1110.03 688.742,1156.44 725.395,1202.85 762.047,1249.26 798.699,1295.67 835.352,1342.08 872.004,1388.49 \\n  908.656,1434.9 945.308,1481.31 981.961,1527.72 1018.61,1574.13 1055.27,1620.54 1091.92,1666.95 1128.57,1713.36 1165.22,1759.77 1201.87,1806.18 1238.53,1852.59 \\n  1275.18,1899 1311.83,1945.41 1348.48,1991.82 1385.14,2038.23 1421.79,2084.64 1458.44,2131.05 1495.09,2177.46 1531.74,2223.87 1568.4,2270.28 1605.05,2316.69 \\n  1641.7,2363.1 1678.35,2409.51 1715.01,2455.92 1751.66,2502.33 1788.31,2548.74 1824.96,2595.15 1861.62,2641.56 1898.27,2687.97 1934.92,2734.38 1971.57,2780.79 \\n  2008.22,2827.2 2044.88,2873.61 2081.53,2920.02 2118.18,2966.43 2154.83,3012.84 2191.49,3059.25 2228.14,3105.66 2264.79,3152.07 2301.44,3198.48 2338.09,3244.89 \\n  2374.75,3291.3 2411.4,3337.71 2448.05,3384.12 2484.7,3430.53 2521.36,3476.94 2558.01,3523.35 2594.66,3569.76 2631.31,3616.17 2667.97,3662.58 2704.62,3708.99 \\n  2741.27,3755.4 2777.92,3801.81 2814.57,3848.22 2851.23,3894.63 2887.88,3941.04 2924.53,3987.45 2961.18,4033.86 2997.84,4080.27 3034.49,4126.68 3071.14,4173.09 \\n  3107.79,4219.5 3144.45,4265.91 3181.1,4312.32 3217.75,4358.73 3254.4,4405.14 3291.05,4451.55 3327.71,4497.96 3364.36,4544.37 3401.01,4590.77 3437.66,4637.18 \\n  3474.32,4683.59 3510.97,4730 3547.62,4776.41 3584.27,4822.82 3620.92,4869.23 3657.58,4915.64 3694.23,4962.05 3730.88,5008.46 3767.53,5054.87 3804.19,5101.28 \\n  \\n  \\\"\\/>\\n<polygon clip-path=\\\"url(#clip1500)\\\" points=\\\"\\n1905.6,312.204 2280.76,312.204 2280.76,130.764 1905.6,130.764 \\n  \\\" fill=\\\"#ffffff\\\" fill-rule=\\\"evenodd\\\" fill-opacity=\\\"1\\\"\\/>\\n<polyline clip-path=\\\"url(#clip1500)\\\" style=\\\"stroke:#000000; stroke-width:4; stroke-opacity:1; fill:none\\\" points=\\\"\\n  1905.6,312.204 2280.76,312.204 2280.76,130.764 1905.6,130.764 1905.6,312.204 \\n  \\\"\\/>\\n<polyline clip-path=\\\"url(#clip1500)\\\" style=\\\"stroke:#009af9; stroke-width:4; stroke-opacity:1; fill:none\\\" points=\\\"\\n  1929.6,191.244 2073.6,191.244 \\n  \\\"\\/>\\n<g clip-path=\\\"url(#clip1500)\\\">\\n<text style=\\\"fill:#000000; fill-opacity:1; font-family:Arial,Helvetica Neue,Helvetica,sans-serif; font-size:48px; text-anchor:start;\\\" transform=\\\"rotate(0, 2097.6, 208.744)\\\" x=\\\"2097.6\\\" y=\\\"208.744\\\">u1 = 0<\\/text>\\n<\\/g>\\n<polyline clip-path=\\\"url(#clip1500)\\\" style=\\\"stroke:#e26f46; stroke-width:4; stroke-opacity:1; fill:none\\\" points=\\\"\\n  1929.6,251.724 2073.6,251.724 \\n  \\\"\\/>\\n<g clip-path=\\\"url(#clip1500)\\\">\\n<text style=\\\"fill:#000000; fill-opacity:1; font-family:Arial,Helvetica Neue,Helvetica,sans-serif; font-size:48px; text-anchor:start;\\\" transform=\\\"rotate(0, 2097.6, 269.224)\\\" x=\\\"2097.6\\\" y=\\\"269.224\\\">u2 = 0<\\/text>\\n<\\/g>\\n<\\/svg>\\n\"},\"nodeType\":\"DOM\",\"type\":\"node\",\"instanceArgs\":{\"namespace\":\"html\",\"tag\":\"div\"},\"children\":[]}]}}}},\"children\":[{\"props\":{},\"nodeType\":\"ObservableNode\",\"type\":\"node\",\"instanceArgs\":{\"id\":\"ob_40\",\"name\":\"obs-node\"},\"children\":[]}]}]},\n",
       "            window,\n",
       "        );\n",
       "    } else {\n",
       "        document\n",
       "            .querySelector('[data-webio-mountpoint=\"16628053870642972162\"]')\n",
       "            .innerHTML = (\n",
       "                '<strong>WebIO not detected. Please read ' +\n",
       "                '<a href=\"https://juliagizmos.github.io/WebIO.jl/latest/troubleshooting/not-detected/\">the troubleshooting guide</a> ' +\n",
       "                'for more information on how to resolve this issue.' +\n",
       "                '</strong>'\n",
       "            );\n",
       "    }\n",
       "    </script>\n",
       "</div>\n"
      ],
      "text/plain": [
       "Node{WebIO.DOM}(WebIO.DOM(:html, :div), Any[Node{DOM}(DOM(:html, :div), Any[Scope(Node{DOM}(DOM(:html, :div), Any[Node{DOM}(DOM(:html, :div), Any[Node{DOM}(DOM(:html, :label), Any[\"α12\"], Dict{Symbol,Any}(:className=>\"interact \",:style=>Dict{Any,Any}(:padding=>\"5px 10px 0px 10px\")))], Dict{Symbol,Any}(:className=>\"interact-flex-row-left\")), Node{DOM}(DOM(:html, :div), Any[Node{DOM}(DOM(:html, :input), Any[], Dict{Symbol,Any}(:max=>91,:min=>1,:attributes=>Dict{Any,Any}(:type=>\"range\",Symbol(\"data-bind\")=>\"numericValue: index, valueUpdate: 'input', event: {change: function (){this.changes(this.changes()+1)}}\",\"orient\"=>\"horizontal\"),:step=>1,:className=>\"slider slider is-fullwidth\",:style=>Dict{Any,Any}()))], Dict{Symbol,Any}(:className=>\"interact-flex-row-center\")), Node{DOM}(DOM(:html, :div), Any[Node{DOM}(DOM(:html, :p), Any[], Dict{Symbol,Any}(:attributes=>Dict(\"data-bind\"=>\"text: formatted_val\")))], Dict{Symbol,Any}(:className=>\"interact-flex-row-right\"))], Dict{Symbol,Any}(:className=>\"interact-flex-row interact-widget\")), Dict{String,Tuple{Observables.AbstractObservable,Union{Nothing, Bool}}}(\"changes\"=>(Observable{Int64} with 1 listeners. Value:\n",
       "0, nothing),\"index\"=>(Observable{Any} with 2 listeners. Value:\n",
       "71, nothing)), Set(String[]), nothing, Asset[Asset(\"js\", \"knockout\", \"C:\\\\Users\\\\gabri\\\\.julia\\\\packages\\\\Knockout\\\\1sDlc\\\\src\\\\..\\\\assets\\\\knockout.js\"), Asset(\"js\", \"knockout_punches\", \"C:\\\\Users\\\\gabri\\\\.julia\\\\packages\\\\Knockout\\\\1sDlc\\\\src\\\\..\\\\assets\\\\knockout_punches.js\"), Asset(\"js\", nothing, \"C:\\\\Users\\\\gabri\\\\.julia\\\\packages\\\\InteractBase\\\\9mFwe\\\\src\\\\..\\\\assets\\\\all.js\"), Asset(\"css\", nothing, \"C:\\\\Users\\\\gabri\\\\.julia\\\\packages\\\\InteractBase\\\\9mFwe\\\\src\\\\..\\\\assets\\\\style.css\"), Asset(\"css\", nothing, \"C:\\\\Users\\\\gabri\\\\.julia\\\\packages\\\\Interact\\\\SbgIk\\\\src\\\\..\\\\assets\\\\bulma_confined.min.css\")], Dict{Any,Any}(\"changes\"=>Any[JSString(\"(function (val){return (val!=this.model[\\\"changes\\\"]()) ? (this.valueFromJulia[\\\"changes\\\"]=true, this.model[\\\"changes\\\"](val)) : undefined})\")],\"index\"=>Any[JSString(\"(function (val){return (val!=this.model[\\\"index\\\"]()) ? (this.valueFromJulia[\\\"index\\\"]=true, this.model[\\\"index\\\"](val)) : undefined})\")]), ConnectionPool(Channel{Any}(sz_max:32,sz_curr:0), Set(AbstractConnection[]), Condition(Any[Task (runnable) @0x000000002d0a9710])), WebIO.JSString[JSString(\"function () {\\n    var handler = (function (ko, koPunches) {\\n    ko.punches.enableAll();\\n    ko.bindingHandlers.numericValue = {\\n        init: function(element, valueAccessor, allBindings, data, context) {\\n            var stringified = ko.observable(ko.unwrap(valueAccessor()));\\n            stringified.subscribe(function(value) {\\n                var val = parseFloat(value);\\n                if (!isNaN(val)) {\\n                    valueAccessor()(val);\\n                }\\n            });\\n            valueAccessor().subscribe(function(value) {\\n                var str = JSON.stringify(value);\\n                if ((str == \\\"0\\\") && ([\\\"-0\\\", \\\"-0.\\\"].indexOf(stringified()) >= 0))\\n                     return;\\n                 if ([\\\"null\\\", \\\"\\\"].indexOf(str) >= 0)\\n                     return;\\n                stringified(str);\\n            });\\n            ko.applyBindingsToNode(\\n                element,\\n                {\\n                    value: stringified,\\n                    valueUpdate: allBindings.get('valueUpdate'),\\n                },\\n                context,\\n            );\\n        }\\n    };\\n    var json_data = {\\\"formatted_vals\\\":[\\\"0.1\\\",\\\"0.11\\\",\\\"0.12\\\",\\\"0.13\\\",\\\"0.14\\\",\\\"0.15\\\",\\\"0.16\\\",\\\"0.17\\\",\\\"0.18\\\",\\\"0.19\\\",\\\"0.2\\\",\\\"0.21\\\",\\\"0.22\\\",\\\"0.23\\\",\\\"0.24\\\",\\\"0.25\\\",\\\"0.26\\\",\\\"0.27\\\",\\\"0.28\\\",\\\"0.29\\\",\\\"0.3\\\",\\\"0.31\\\",\\\"0.32\\\",\\\"0.33\\\",\\\"0.34\\\",\\\"0.35\\\",\\\"0.36\\\",\\\"0.37\\\",\\\"0.38\\\",\\\"0.39\\\",\\\"0.4\\\",\\\"0.41\\\",\\\"0.42\\\",\\\"0.43\\\",\\\"0.44\\\",\\\"0.45\\\",\\\"0.46\\\",\\\"0.47\\\",\\\"0.48\\\",\\\"0.49\\\",\\\"0.5\\\",\\\"0.51\\\",\\\"0.52\\\",\\\"0.53\\\",\\\"0.54\\\",\\\"0.55\\\",\\\"0.56\\\",\\\"0.57\\\",\\\"0.58\\\",\\\"0.59\\\",\\\"0.6\\\",\\\"0.61\\\",\\\"0.62\\\",\\\"0.63\\\",\\\"0.64\\\",\\\"0.65\\\",\\\"0.66\\\",\\\"0.67\\\",\\\"0.68\\\",\\\"0.69\\\",\\\"0.7\\\",\\\"0.71\\\",\\\"0.72\\\",\\\"0.73\\\",\\\"0.74\\\",\\\"0.75\\\",\\\"0.76\\\",\\\"0.77\\\",\\\"0.78\\\",\\\"0.79\\\",\\\"0.8\\\",\\\"0.81\\\",\\\"0.82\\\",\\\"0.83\\\",\\\"0.84\\\",\\\"0.85\\\",\\\"0.86\\\",\\\"0.87\\\",\\\"0.88\\\",\\\"0.89\\\",\\\"0.9\\\",\\\"0.91\\\",\\\"0.92\\\",\\\"0.93\\\",\\\"0.94\\\",\\\"0.95\\\",\\\"0.96\\\",\\\"0.97\\\",\\\"0.98\\\",\\\"0.99\\\",\\\"1.0\\\"],\\\"changes\\\":WebIO.getval({\\\"name\\\":\\\"changes\\\",\\\"scope\\\":\\\"7337179859241363623\\\",\\\"id\\\":\\\"ob_27\\\",\\\"type\\\":\\\"observable\\\"}),\\\"index\\\":WebIO.getval({\\\"name\\\":\\\"index\\\",\\\"scope\\\":\\\"7337179859241363623\\\",\\\"id\\\":\\\"ob_26\\\",\\\"type\\\":\\\"observable\\\"})};\\n    var self = this;\\n    function AppViewModel() {\\n        for (var key in json_data) {\\n            var el = json_data[key];\\n            this[key] = Array.isArray(el) ? ko.observableArray(el) : ko.observable(el);\\n        }\\n        \\n        [this[\\\"formatted_val\\\"]=ko.computed(    function(){\\n        return this.formatted_vals()[parseInt(this.index())-(1)];\\n    }\\n,this)]\\n        [this[\\\"changes\\\"].subscribe((function (val){!(this.valueFromJulia[\\\"changes\\\"]) ? (WebIO.setval({\\\"name\\\":\\\"changes\\\",\\\"scope\\\":\\\"7337179859241363623\\\",\\\"id\\\":\\\"ob_27\\\",\\\"type\\\":\\\"observable\\\"},val)) : undefined; return this.valueFromJulia[\\\"changes\\\"]=false}),self),this[\\\"index\\\"].subscribe((function (val){!(this.valueFromJulia[\\\"index\\\"]) ? (WebIO.setval({\\\"name\\\":\\\"index\\\",\\\"scope\\\":\\\"7337179859241363623\\\",\\\"id\\\":\\\"ob_26\\\",\\\"type\\\":\\\"observable\\\"},val)) : undefined; return this.valueFromJulia[\\\"index\\\"]=false}),self)]\\n        \\n    }\\n    self.model = new AppViewModel();\\n    self.valueFromJulia = {};\\n    for (var key in json_data) {\\n        self.valueFromJulia[key] = false;\\n    }\\n    ko.applyBindings(self.model, self.dom);\\n}\\n);\\n    (WebIO.importBlock({\\\"data\\\":[{\\\"name\\\":\\\"knockout\\\",\\\"type\\\":\\\"js\\\",\\\"url\\\":\\\"/assetserver/fd311416c3fbf748771c2940b2ca4b79c53d1ab2-knockout.js\\\"},{\\\"name\\\":\\\"knockout_punches\\\",\\\"type\\\":\\\"js\\\",\\\"url\\\":\\\"/assetserver/148711b519458f42f1e7a22e5bdf7a74f9d5f8e0-knockout_punches.js\\\"}],\\\"type\\\":\\\"async_block\\\"})).then((imports) => handler.apply(this, imports));\\n}\\n\")])], Dict{Symbol,Any}(:className=>\"field interact-widget\")), Node{DOM}(DOM(:html, :div), Any[Scope(Node{DOM}(DOM(:html, :div), Any[Node{DOM}(DOM(:html, :div), Any[Node{DOM}(DOM(:html, :label), Any[\"α21\"], Dict{Symbol,Any}(:className=>\"interact \",:style=>Dict{Any,Any}(:padding=>\"5px 10px 0px 10px\")))], Dict{Symbol,Any}(:className=>\"interact-flex-row-left\")), Node{DOM}(DOM(:html, :div), Any[Node{DOM}(DOM(:html, :input), Any[], Dict{Symbol,Any}(:max=>91,:min=>1,:attributes=>Dict{Any,Any}(:type=>\"range\",Symbol(\"data-bind\")=>\"numericValue: index, valueUpdate: 'input', event: {change: function (){this.changes(this.changes()+1)}}\",\"orient\"=>\"horizontal\"),:step=>1,:className=>\"slider slider is-fullwidth\",:style=>Dict{Any,Any}()))], Dict{Symbol,Any}(:className=>\"interact-flex-row-center\")), Node{DOM}(DOM(:html, :div), Any[Node{DOM}(DOM(:html, :p), Any[], Dict{Symbol,Any}(:attributes=>Dict(\"data-bind\"=>\"text: formatted_val\")))], Dict{Symbol,Any}(:className=>\"interact-flex-row-right\"))], Dict{Symbol,Any}(:className=>\"interact-flex-row interact-widget\")), Dict{String,Tuple{Observables.AbstractObservable,Union{Nothing, Bool}}}(\"changes\"=>(Observable{Int64} with 1 listeners. Value:\n",
       "0, nothing),\"index\"=>(Observable{Any} with 2 listeners. Value:\n",
       "21, nothing)), Set(String[]), nothing, Asset[Asset(\"js\", \"knockout\", \"C:\\\\Users\\\\gabri\\\\.julia\\\\packages\\\\Knockout\\\\1sDlc\\\\src\\\\..\\\\assets\\\\knockout.js\"), Asset(\"js\", \"knockout_punches\", \"C:\\\\Users\\\\gabri\\\\.julia\\\\packages\\\\Knockout\\\\1sDlc\\\\src\\\\..\\\\assets\\\\knockout_punches.js\"), Asset(\"js\", nothing, \"C:\\\\Users\\\\gabri\\\\.julia\\\\packages\\\\InteractBase\\\\9mFwe\\\\src\\\\..\\\\assets\\\\all.js\"), Asset(\"css\", nothing, \"C:\\\\Users\\\\gabri\\\\.julia\\\\packages\\\\InteractBase\\\\9mFwe\\\\src\\\\..\\\\assets\\\\style.css\"), Asset(\"css\", nothing, \"C:\\\\Users\\\\gabri\\\\.julia\\\\packages\\\\Interact\\\\SbgIk\\\\src\\\\..\\\\assets\\\\bulma_confined.min.css\")], Dict{Any,Any}(\"changes\"=>Any[JSString(\"(function (val){return (val!=this.model[\\\"changes\\\"]()) ? (this.valueFromJulia[\\\"changes\\\"]=true, this.model[\\\"changes\\\"](val)) : undefined})\")],\"index\"=>Any[JSString(\"(function (val){return (val!=this.model[\\\"index\\\"]()) ? (this.valueFromJulia[\\\"index\\\"]=true, this.model[\\\"index\\\"](val)) : undefined})\")]), ConnectionPool(Channel{Any}(sz_max:32,sz_curr:0), Set(AbstractConnection[]), Condition(Any[Task (runnable) @0x000000002d08cb90])), WebIO.JSString[JSString(\"function () {\\n    var handler = (function (ko, koPunches) {\\n    ko.punches.enableAll();\\n    ko.bindingHandlers.numericValue = {\\n        init: function(element, valueAccessor, allBindings, data, context) {\\n            var stringified = ko.observable(ko.unwrap(valueAccessor()));\\n            stringified.subscribe(function(value) {\\n                var val = parseFloat(value);\\n                if (!isNaN(val)) {\\n                    valueAccessor()(val);\\n                }\\n            });\\n            valueAccessor().subscribe(function(value) {\\n                var str = JSON.stringify(value);\\n                if ((str == \\\"0\\\") && ([\\\"-0\\\", \\\"-0.\\\"].indexOf(stringified()) >= 0))\\n                     return;\\n                 if ([\\\"null\\\", \\\"\\\"].indexOf(str) >= 0)\\n                     return;\\n                stringified(str);\\n            });\\n            ko.applyBindingsToNode(\\n                element,\\n                {\\n                    value: stringified,\\n                    valueUpdate: allBindings.get('valueUpdate'),\\n                },\\n                context,\\n            );\\n        }\\n    };\\n    var json_data = {\\\"formatted_vals\\\":[\\\"0.1\\\",\\\"0.11\\\",\\\"0.12\\\",\\\"0.13\\\",\\\"0.14\\\",\\\"0.15\\\",\\\"0.16\\\",\\\"0.17\\\",\\\"0.18\\\",\\\"0.19\\\",\\\"0.2\\\",\\\"0.21\\\",\\\"0.22\\\",\\\"0.23\\\",\\\"0.24\\\",\\\"0.25\\\",\\\"0.26\\\",\\\"0.27\\\",\\\"0.28\\\",\\\"0.29\\\",\\\"0.3\\\",\\\"0.31\\\",\\\"0.32\\\",\\\"0.33\\\",\\\"0.34\\\",\\\"0.35\\\",\\\"0.36\\\",\\\"0.37\\\",\\\"0.38\\\",\\\"0.39\\\",\\\"0.4\\\",\\\"0.41\\\",\\\"0.42\\\",\\\"0.43\\\",\\\"0.44\\\",\\\"0.45\\\",\\\"0.46\\\",\\\"0.47\\\",\\\"0.48\\\",\\\"0.49\\\",\\\"0.5\\\",\\\"0.51\\\",\\\"0.52\\\",\\\"0.53\\\",\\\"0.54\\\",\\\"0.55\\\",\\\"0.56\\\",\\\"0.57\\\",\\\"0.58\\\",\\\"0.59\\\",\\\"0.6\\\",\\\"0.61\\\",\\\"0.62\\\",\\\"0.63\\\",\\\"0.64\\\",\\\"0.65\\\",\\\"0.66\\\",\\\"0.67\\\",\\\"0.68\\\",\\\"0.69\\\",\\\"0.7\\\",\\\"0.71\\\",\\\"0.72\\\",\\\"0.73\\\",\\\"0.74\\\",\\\"0.75\\\",\\\"0.76\\\",\\\"0.77\\\",\\\"0.78\\\",\\\"0.79\\\",\\\"0.8\\\",\\\"0.81\\\",\\\"0.82\\\",\\\"0.83\\\",\\\"0.84\\\",\\\"0.85\\\",\\\"0.86\\\",\\\"0.87\\\",\\\"0.88\\\",\\\"0.89\\\",\\\"0.9\\\",\\\"0.91\\\",\\\"0.92\\\",\\\"0.93\\\",\\\"0.94\\\",\\\"0.95\\\",\\\"0.96\\\",\\\"0.97\\\",\\\"0.98\\\",\\\"0.99\\\",\\\"1.0\\\"],\\\"changes\\\":WebIO.getval({\\\"name\\\":\\\"changes\\\",\\\"scope\\\":\\\"3808146200388026543\\\",\\\"id\\\":\\\"ob_30\\\",\\\"type\\\":\\\"observable\\\"}),\\\"index\\\":WebIO.getval({\\\"name\\\":\\\"index\\\",\\\"scope\\\":\\\"3808146200388026543\\\",\\\"id\\\":\\\"ob_29\\\",\\\"type\\\":\\\"observable\\\"})};\\n    var self = this;\\n    function AppViewModel() {\\n        for (var key in json_data) {\\n            var el = json_data[key];\\n            this[key] = Array.isArray(el) ? ko.observableArray(el) : ko.observable(el);\\n        }\\n        \\n        [this[\\\"formatted_val\\\"]=ko.computed(    function(){\\n        return this.formatted_vals()[parseInt(this.index())-(1)];\\n    }\\n,this)]\\n        [this[\\\"changes\\\"].subscribe((function (val){!(this.valueFromJulia[\\\"changes\\\"]) ? (WebIO.setval({\\\"name\\\":\\\"changes\\\",\\\"scope\\\":\\\"3808146200388026543\\\",\\\"id\\\":\\\"ob_30\\\",\\\"type\\\":\\\"observable\\\"},val)) : undefined; return this.valueFromJulia[\\\"changes\\\"]=false}),self),this[\\\"index\\\"].subscribe((function (val){!(this.valueFromJulia[\\\"index\\\"]) ? (WebIO.setval({\\\"name\\\":\\\"index\\\",\\\"scope\\\":\\\"3808146200388026543\\\",\\\"id\\\":\\\"ob_29\\\",\\\"type\\\":\\\"observable\\\"},val)) : undefined; return this.valueFromJulia[\\\"index\\\"]=false}),self)]\\n        \\n    }\\n    self.model = new AppViewModel();\\n    self.valueFromJulia = {};\\n    for (var key in json_data) {\\n        self.valueFromJulia[key] = false;\\n    }\\n    ko.applyBindings(self.model, self.dom);\\n}\\n);\\n    (WebIO.importBlock({\\\"data\\\":[{\\\"name\\\":\\\"knockout\\\",\\\"type\\\":\\\"js\\\",\\\"url\\\":\\\"/assetserver/fd311416c3fbf748771c2940b2ca4b79c53d1ab2-knockout.js\\\"},{\\\"name\\\":\\\"knockout_punches\\\",\\\"type\\\":\\\"js\\\",\\\"url\\\":\\\"/assetserver/148711b519458f42f1e7a22e5bdf7a74f9d5f8e0-knockout_punches.js\\\"}],\\\"type\\\":\\\"async_block\\\"})).then((imports) => handler.apply(this, imports));\\n}\\n\")])], Dict{Symbol,Any}(:className=>\"field interact-widget\")), Node{DOM}(DOM(:html, :div), Any[Scope(Node{DOM}(DOM(:html, :div), Any[Node{DOM}(DOM(:html, :div), Any[Node{DOM}(DOM(:html, :label), Any[\"K1\"], Dict{Symbol,Any}(:className=>\"interact \",:style=>Dict{Any,Any}(:padding=>\"5px 10px 0px 10px\")))], Dict{Symbol,Any}(:className=>\"interact-flex-row-left\")), Node{DOM}(DOM(:html, :div), Any[Node{DOM}(DOM(:html, :input), Any[], Dict{Symbol,Any}(:max=>191,:min=>1,:attributes=>Dict{Any,Any}(:type=>\"range\",Symbol(\"data-bind\")=>\"numericValue: index, valueUpdate: 'input', event: {change: function (){this.changes(this.changes()+1)}}\",\"orient\"=>\"horizontal\"),:step=>1,:className=>\"slider slider is-fullwidth\",:style=>Dict{Any,Any}()))], Dict{Symbol,Any}(:className=>\"interact-flex-row-center\")), Node{DOM}(DOM(:html, :div), Any[Node{DOM}(DOM(:html, :p), Any[], Dict{Symbol,Any}(:attributes=>Dict(\"data-bind\"=>\"text: formatted_val\")))], Dict{Symbol,Any}(:className=>\"interact-flex-row-right\"))], Dict{Symbol,Any}(:className=>\"interact-flex-row interact-widget\")), Dict{String,Tuple{Observables.AbstractObservable,Union{Nothing, Bool}}}(\"changes\"=>(Observable{Int64} with 1 listeners. Value:\n",
       "0, nothing),\"index\"=>(Observable{Any} with 2 listeners. Value:\n",
       "141, nothing)), Set(String[]), nothing, Asset[Asset(\"js\", \"knockout\", \"C:\\\\Users\\\\gabri\\\\.julia\\\\packages\\\\Knockout\\\\1sDlc\\\\src\\\\..\\\\assets\\\\knockout.js\"), Asset(\"js\", \"knockout_punches\", \"C:\\\\Users\\\\gabri\\\\.julia\\\\packages\\\\Knockout\\\\1sDlc\\\\src\\\\..\\\\assets\\\\knockout_punches.js\"), Asset(\"js\", nothing, \"C:\\\\Users\\\\gabri\\\\.julia\\\\packages\\\\InteractBase\\\\9mFwe\\\\src\\\\..\\\\assets\\\\all.js\"), Asset(\"css\", nothing, \"C:\\\\Users\\\\gabri\\\\.julia\\\\packages\\\\InteractBase\\\\9mFwe\\\\src\\\\..\\\\assets\\\\style.css\"), Asset(\"css\", nothing, \"C:\\\\Users\\\\gabri\\\\.julia\\\\packages\\\\Interact\\\\SbgIk\\\\src\\\\..\\\\assets\\\\bulma_confined.min.css\")], Dict{Any,Any}(\"changes\"=>Any[JSString(\"(function (val){return (val!=this.model[\\\"changes\\\"]()) ? (this.valueFromJulia[\\\"changes\\\"]=true, this.model[\\\"changes\\\"](val)) : undefined})\")],\"index\"=>Any[JSString(\"(function (val){return (val!=this.model[\\\"index\\\"]()) ? (this.valueFromJulia[\\\"index\\\"]=true, this.model[\\\"index\\\"](val)) : undefined})\")]), ConnectionPool(Channel{Any}(sz_max:32,sz_curr:0), Set(AbstractConnection[]), Condition(Any[Task (runnable) @0x000000002d08ce70])), WebIO.JSString[JSString(\"function () {\\n    var handler = (function (ko, koPunches) {\\n    ko.punches.enableAll();\\n    ko.bindingHandlers.numericValue = {\\n        init: function(element, valueAccessor, allBindings, data, context) {\\n            var stringified = ko.observable(ko.unwrap(valueAccessor()));\\n            stringified.subscribe(function(value) {\\n                var val = parseFloat(value);\\n                if (!isNaN(val)) {\\n                    valueAccessor()(val);\\n                }\\n            });\\n            valueAccessor().subscribe(function(value) {\\n                var str = JSON.stringify(value);\\n                if ((str == \\\"0\\\") && ([\\\"-0\\\", \\\"-0.\\\"].indexOf(stringified()) >= 0))\\n                     return;\\n                 if ([\\\"null\\\", \\\"\\\"].indexOf(str) >= 0)\\n                     return;\\n                stringified(str);\\n            });\\n            ko.applyBindingsToNode(\\n                element,\\n                {\\n                    value: stringified,\\n                    valueUpdate: allBindings.get('valueUpdate'),\\n                },\\n                context,\\n            );\\n        }\\n    };\\n    var json_data = {\\\"formatted_vals\\\":[\\\"0.1\\\",\\\"0.11\\\",\\\"0.12\\\",\\\"0.13\\\",\\\"0.14\\\",\\\"0.15\\\",\\\"0.16\\\",\\\"0.17\\\",\\\"0.18\\\",\\\"0.19\\\",\\\"0.2\\\",\\\"0.21\\\",\\\"0.22\\\",\\\"0.23\\\",\\\"0.24\\\",\\\"0.25\\\",\\\"0.26\\\",\\\"0.27\\\",\\\"0.28\\\",\\\"0.29\\\",\\\"0.3\\\",\\\"0.31\\\",\\\"0.32\\\",\\\"0.33\\\",\\\"0.34\\\",\\\"0.35\\\",\\\"0.36\\\",\\\"0.37\\\",\\\"0.38\\\",\\\"0.39\\\",\\\"0.4\\\",\\\"0.41\\\",\\\"0.42\\\",\\\"0.43\\\",\\\"0.44\\\",\\\"0.45\\\",\\\"0.46\\\",\\\"0.47\\\",\\\"0.48\\\",\\\"0.49\\\",\\\"0.5\\\",\\\"0.51\\\",\\\"0.52\\\",\\\"0.53\\\",\\\"0.54\\\",\\\"0.55\\\",\\\"0.56\\\",\\\"0.57\\\",\\\"0.58\\\",\\\"0.59\\\",\\\"0.6\\\",\\\"0.61\\\",\\\"0.62\\\",\\\"0.63\\\",\\\"0.64\\\",\\\"0.65\\\",\\\"0.66\\\",\\\"0.67\\\",\\\"0.68\\\",\\\"0.69\\\",\\\"0.7\\\",\\\"0.71\\\",\\\"0.72\\\",\\\"0.73\\\",\\\"0.74\\\",\\\"0.75\\\",\\\"0.76\\\",\\\"0.77\\\",\\\"0.78\\\",\\\"0.79\\\",\\\"0.8\\\",\\\"0.81\\\",\\\"0.82\\\",\\\"0.83\\\",\\\"0.84\\\",\\\"0.85\\\",\\\"0.86\\\",\\\"0.87\\\",\\\"0.88\\\",\\\"0.89\\\",\\\"0.9\\\",\\\"0.91\\\",\\\"0.92\\\",\\\"0.93\\\",\\\"0.94\\\",\\\"0.95\\\",\\\"0.96\\\",\\\"0.97\\\",\\\"0.98\\\",\\\"0.99\\\",\\\"1.0\\\",\\\"1.01\\\",\\\"1.02\\\",\\\"1.03\\\",\\\"1.04\\\",\\\"1.05\\\",\\\"1.06\\\",\\\"1.07\\\",\\\"1.08\\\",\\\"1.09\\\",\\\"1.1\\\",\\\"1.11\\\",\\\"1.12\\\",\\\"1.13\\\",\\\"1.14\\\",\\\"1.15\\\",\\\"1.16\\\",\\\"1.17\\\",\\\"1.18\\\",\\\"1.19\\\",\\\"1.2\\\",\\\"1.21\\\",\\\"1.22\\\",\\\"1.23\\\",\\\"1.24\\\",\\\"1.25\\\",\\\"1.26\\\",\\\"1.27\\\",\\\"1.28\\\",\\\"1.29\\\",\\\"1.3\\\",\\\"1.31\\\",\\\"1.32\\\",\\\"1.33\\\",\\\"1.34\\\",\\\"1.35\\\",\\\"1.36\\\",\\\"1.37\\\",\\\"1.38\\\",\\\"1.39\\\",\\\"1.4\\\",\\\"1.41\\\",\\\"1.42\\\",\\\"1.43\\\",\\\"1.44\\\",\\\"1.45\\\",\\\"1.46\\\",\\\"1.47\\\",\\\"1.48\\\",\\\"1.49\\\",\\\"1.5\\\",\\\"1.51\\\",\\\"1.52\\\",\\\"1.53\\\",\\\"1.54\\\",\\\"1.55\\\",\\\"1.56\\\",\\\"1.57\\\",\\\"1.58\\\",\\\"1.59\\\",\\\"1.6\\\",\\\"1.61\\\",\\\"1.62\\\",\\\"1.63\\\",\\\"1.64\\\",\\\"1.65\\\",\\\"1.66\\\",\\\"1.67\\\",\\\"1.68\\\",\\\"1.69\\\",\\\"1.7\\\",\\\"1.71\\\",\\\"1.72\\\",\\\"1.73\\\",\\\"1.74\\\",\\\"1.75\\\",\\\"1.76\\\",\\\"1.77\\\",\\\"1.78\\\",\\\"1.79\\\",\\\"1.8\\\",\\\"1.81\\\",\\\"1.82\\\",\\\"1.83\\\",\\\"1.84\\\",\\\"1.85\\\",\\\"1.86\\\",\\\"1.87\\\",\\\"1.88\\\",\\\"1.89\\\",\\\"1.9\\\",\\\"1.91\\\",\\\"1.92\\\",\\\"1.93\\\",\\\"1.94\\\",\\\"1.95\\\",\\\"1.96\\\",\\\"1.97\\\",\\\"1.98\\\",\\\"1.99\\\",\\\"2.0\\\"],\\\"changes\\\":WebIO.getval({\\\"name\\\":\\\"changes\\\",\\\"scope\\\":\\\"17113378502831011110\\\",\\\"id\\\":\\\"ob_33\\\",\\\"type\\\":\\\"observable\\\"}),\\\"index\\\":WebIO.getval({\\\"name\\\":\\\"index\\\",\\\"scope\\\":\\\"17113378502831011110\\\",\\\"id\\\":\\\"ob_32\\\",\\\"type\\\":\\\"observable\\\"})};\\n    var self = this;\\n    function AppViewModel() {\\n        for (var key in json_data) {\\n            var el = json_data[key];\\n            this[key] = Array.isArray(el) ? ko.observableArray(el) : ko.observable(el);\\n        }\\n        \\n        [this[\\\"formatted_val\\\"]=ko.computed(    function(){\\n        return this.formatted_vals()[parseInt(this.index())-(1)];\\n    }\\n,this)]\\n        [this[\\\"changes\\\"].subscribe((function (val){!(this.valueFromJulia[\\\"changes\\\"]) ? (WebIO.setval({\\\"name\\\":\\\"changes\\\",\\\"scope\\\":\\\"17113378502831011110\\\",\\\"id\\\":\\\"ob_33\\\",\\\"type\\\":\\\"observable\\\"},val)) : undefined; return this.valueFromJulia[\\\"changes\\\"]=false}),self),this[\\\"index\\\"].subscribe((function (val){!(this.valueFromJulia[\\\"index\\\"]) ? (WebIO.setval({\\\"name\\\":\\\"index\\\",\\\"scope\\\":\\\"17113378502831011110\\\",\\\"id\\\":\\\"ob_32\\\",\\\"type\\\":\\\"observable\\\"},val)) : undefined; return this.valueFromJulia[\\\"index\\\"]=false}),self)]\\n        \\n    }\\n    self.model = new AppViewModel();\\n    self.valueFromJulia = {};\\n    for (var key in json_data) {\\n        self.valueFromJulia[key] = false;\\n    }\\n    ko.applyBindings(self.model, self.dom);\\n}\\n);\\n    (WebIO.importBlock({\\\"data\\\":[{\\\"name\\\":\\\"knockout\\\",\\\"type\\\":\\\"js\\\",\\\"url\\\":\\\"/assetserver/fd311416c3fbf748771c2940b2ca4b79c53d1ab2-knockout.js\\\"},{\\\"name\\\":\\\"knockout_punches\\\",\\\"type\\\":\\\"js\\\",\\\"url\\\":\\\"/assetserver/148711b519458f42f1e7a22e5bdf7a74f9d5f8e0-knockout_punches.js\\\"}],\\\"type\\\":\\\"async_block\\\"})).then((imports) => handler.apply(this, imports));\\n}\\n\")])], Dict{Symbol,Any}(:className=>\"field interact-widget\")), Node{DOM}(DOM(:html, :div), Any[Scope(Node{DOM}(DOM(:html, :div), Any[Node{DOM}(DOM(:html, :div), Any[Node{DOM}(DOM(:html, :label), Any[\"K2\"], Dict{Symbol,Any}(:className=>\"interact \",:style=>Dict{Any,Any}(:padding=>\"5px 10px 0px 10px\")))], Dict{Symbol,Any}(:className=>\"interact-flex-row-left\")), Node{DOM}(DOM(:html, :div), Any[Node{DOM}(DOM(:html, :input), Any[], Dict{Symbol,Any}(:max=>191,:min=>1,:attributes=>Dict{Any,Any}(:type=>\"range\",Symbol(\"data-bind\")=>\"numericValue: index, valueUpdate: 'input', event: {change: function (){this.changes(this.changes()+1)}}\",\"orient\"=>\"horizontal\"),:step=>1,:className=>\"slider slider is-fullwidth\",:style=>Dict{Any,Any}()))], Dict{Symbol,Any}(:className=>\"interact-flex-row-center\")), Node{DOM}(DOM(:html, :div), Any[Node{DOM}(DOM(:html, :p), Any[], Dict{Symbol,Any}(:attributes=>Dict(\"data-bind\"=>\"text: formatted_val\")))], Dict{Symbol,Any}(:className=>\"interact-flex-row-right\"))], Dict{Symbol,Any}(:className=>\"interact-flex-row interact-widget\")), Dict{String,Tuple{Observables.AbstractObservable,Union{Nothing, Bool}}}(\"changes\"=>(Observable{Int64} with 1 listeners. Value:\n",
       "0, nothing),\"index\"=>(Observable{Any} with 2 listeners. Value:\n",
       "91, nothing)), Set(String[]), nothing, Asset[Asset(\"js\", \"knockout\", \"C:\\\\Users\\\\gabri\\\\.julia\\\\packages\\\\Knockout\\\\1sDlc\\\\src\\\\..\\\\assets\\\\knockout.js\"), Asset(\"js\", \"knockout_punches\", \"C:\\\\Users\\\\gabri\\\\.julia\\\\packages\\\\Knockout\\\\1sDlc\\\\src\\\\..\\\\assets\\\\knockout_punches.js\"), Asset(\"js\", nothing, \"C:\\\\Users\\\\gabri\\\\.julia\\\\packages\\\\InteractBase\\\\9mFwe\\\\src\\\\..\\\\assets\\\\all.js\"), Asset(\"css\", nothing, \"C:\\\\Users\\\\gabri\\\\.julia\\\\packages\\\\InteractBase\\\\9mFwe\\\\src\\\\..\\\\assets\\\\style.css\"), Asset(\"css\", nothing, \"C:\\\\Users\\\\gabri\\\\.julia\\\\packages\\\\Interact\\\\SbgIk\\\\src\\\\..\\\\assets\\\\bulma_confined.min.css\")], Dict{Any,Any}(\"changes\"=>Any[JSString(\"(function (val){return (val!=this.model[\\\"changes\\\"]()) ? (this.valueFromJulia[\\\"changes\\\"]=true, this.model[\\\"changes\\\"](val)) : undefined})\")],\"index\"=>Any[JSString(\"(function (val){return (val!=this.model[\\\"index\\\"]()) ? (this.valueFromJulia[\\\"index\\\"]=true, this.model[\\\"index\\\"](val)) : undefined})\")]), ConnectionPool(Channel{Any}(sz_max:32,sz_curr:0), Set(AbstractConnection[]), Condition(Any[Task (runnable) @0x000000002d08f990])), WebIO.JSString[JSString(\"function () {\\n    var handler = (function (ko, koPunches) {\\n    ko.punches.enableAll();\\n    ko.bindingHandlers.numericValue = {\\n        init: function(element, valueAccessor, allBindings, data, context) {\\n            var stringified = ko.observable(ko.unwrap(valueAccessor()));\\n            stringified.subscribe(function(value) {\\n                var val = parseFloat(value);\\n                if (!isNaN(val)) {\\n                    valueAccessor()(val);\\n                }\\n            });\\n            valueAccessor().subscribe(function(value) {\\n                var str = JSON.stringify(value);\\n                if ((str == \\\"0\\\") && ([\\\"-0\\\", \\\"-0.\\\"].indexOf(stringified()) >= 0))\\n                     return;\\n                 if ([\\\"null\\\", \\\"\\\"].indexOf(str) >= 0)\\n                     return;\\n                stringified(str);\\n            });\\n            ko.applyBindingsToNode(\\n                element,\\n                {\\n                    value: stringified,\\n                    valueUpdate: allBindings.get('valueUpdate'),\\n                },\\n                context,\\n            );\\n        }\\n    };\\n    var json_data = {\\\"formatted_vals\\\":[\\\"0.1\\\",\\\"0.11\\\",\\\"0.12\\\",\\\"0.13\\\",\\\"0.14\\\",\\\"0.15\\\",\\\"0.16\\\",\\\"0.17\\\",\\\"0.18\\\",\\\"0.19\\\",\\\"0.2\\\",\\\"0.21\\\",\\\"0.22\\\",\\\"0.23\\\",\\\"0.24\\\",\\\"0.25\\\",\\\"0.26\\\",\\\"0.27\\\",\\\"0.28\\\",\\\"0.29\\\",\\\"0.3\\\",\\\"0.31\\\",\\\"0.32\\\",\\\"0.33\\\",\\\"0.34\\\",\\\"0.35\\\",\\\"0.36\\\",\\\"0.37\\\",\\\"0.38\\\",\\\"0.39\\\",\\\"0.4\\\",\\\"0.41\\\",\\\"0.42\\\",\\\"0.43\\\",\\\"0.44\\\",\\\"0.45\\\",\\\"0.46\\\",\\\"0.47\\\",\\\"0.48\\\",\\\"0.49\\\",\\\"0.5\\\",\\\"0.51\\\",\\\"0.52\\\",\\\"0.53\\\",\\\"0.54\\\",\\\"0.55\\\",\\\"0.56\\\",\\\"0.57\\\",\\\"0.58\\\",\\\"0.59\\\",\\\"0.6\\\",\\\"0.61\\\",\\\"0.62\\\",\\\"0.63\\\",\\\"0.64\\\",\\\"0.65\\\",\\\"0.66\\\",\\\"0.67\\\",\\\"0.68\\\",\\\"0.69\\\",\\\"0.7\\\",\\\"0.71\\\",\\\"0.72\\\",\\\"0.73\\\",\\\"0.74\\\",\\\"0.75\\\",\\\"0.76\\\",\\\"0.77\\\",\\\"0.78\\\",\\\"0.79\\\",\\\"0.8\\\",\\\"0.81\\\",\\\"0.82\\\",\\\"0.83\\\",\\\"0.84\\\",\\\"0.85\\\",\\\"0.86\\\",\\\"0.87\\\",\\\"0.88\\\",\\\"0.89\\\",\\\"0.9\\\",\\\"0.91\\\",\\\"0.92\\\",\\\"0.93\\\",\\\"0.94\\\",\\\"0.95\\\",\\\"0.96\\\",\\\"0.97\\\",\\\"0.98\\\",\\\"0.99\\\",\\\"1.0\\\",\\\"1.01\\\",\\\"1.02\\\",\\\"1.03\\\",\\\"1.04\\\",\\\"1.05\\\",\\\"1.06\\\",\\\"1.07\\\",\\\"1.08\\\",\\\"1.09\\\",\\\"1.1\\\",\\\"1.11\\\",\\\"1.12\\\",\\\"1.13\\\",\\\"1.14\\\",\\\"1.15\\\",\\\"1.16\\\",\\\"1.17\\\",\\\"1.18\\\",\\\"1.19\\\",\\\"1.2\\\",\\\"1.21\\\",\\\"1.22\\\",\\\"1.23\\\",\\\"1.24\\\",\\\"1.25\\\",\\\"1.26\\\",\\\"1.27\\\",\\\"1.28\\\",\\\"1.29\\\",\\\"1.3\\\",\\\"1.31\\\",\\\"1.32\\\",\\\"1.33\\\",\\\"1.34\\\",\\\"1.35\\\",\\\"1.36\\\",\\\"1.37\\\",\\\"1.38\\\",\\\"1.39\\\",\\\"1.4\\\",\\\"1.41\\\",\\\"1.42\\\",\\\"1.43\\\",\\\"1.44\\\",\\\"1.45\\\",\\\"1.46\\\",\\\"1.47\\\",\\\"1.48\\\",\\\"1.49\\\",\\\"1.5\\\",\\\"1.51\\\",\\\"1.52\\\",\\\"1.53\\\",\\\"1.54\\\",\\\"1.55\\\",\\\"1.56\\\",\\\"1.57\\\",\\\"1.58\\\",\\\"1.59\\\",\\\"1.6\\\",\\\"1.61\\\",\\\"1.62\\\",\\\"1.63\\\",\\\"1.64\\\",\\\"1.65\\\",\\\"1.66\\\",\\\"1.67\\\",\\\"1.68\\\",\\\"1.69\\\",\\\"1.7\\\",\\\"1.71\\\",\\\"1.72\\\",\\\"1.73\\\",\\\"1.74\\\",\\\"1.75\\\",\\\"1.76\\\",\\\"1.77\\\",\\\"1.78\\\",\\\"1.79\\\",\\\"1.8\\\",\\\"1.81\\\",\\\"1.82\\\",\\\"1.83\\\",\\\"1.84\\\",\\\"1.85\\\",\\\"1.86\\\",\\\"1.87\\\",\\\"1.88\\\",\\\"1.89\\\",\\\"1.9\\\",\\\"1.91\\\",\\\"1.92\\\",\\\"1.93\\\",\\\"1.94\\\",\\\"1.95\\\",\\\"1.96\\\",\\\"1.97\\\",\\\"1.98\\\",\\\"1.99\\\",\\\"2.0\\\"],\\\"changes\\\":WebIO.getval({\\\"name\\\":\\\"changes\\\",\\\"scope\\\":\\\"15396934786850674188\\\",\\\"id\\\":\\\"ob_36\\\",\\\"type\\\":\\\"observable\\\"}),\\\"index\\\":WebIO.getval({\\\"name\\\":\\\"index\\\",\\\"scope\\\":\\\"15396934786850674188\\\",\\\"id\\\":\\\"ob_35\\\",\\\"type\\\":\\\"observable\\\"})};\\n    var self = this;\\n    function AppViewModel() {\\n        for (var key in json_data) {\\n            var el = json_data[key];\\n            this[key] = Array.isArray(el) ? ko.observableArray(el) : ko.observable(el);\\n        }\\n        \\n        [this[\\\"formatted_val\\\"]=ko.computed(    function(){\\n        return this.formatted_vals()[parseInt(this.index())-(1)];\\n    }\\n,this)]\\n        [this[\\\"changes\\\"].subscribe((function (val){!(this.valueFromJulia[\\\"changes\\\"]) ? (WebIO.setval({\\\"name\\\":\\\"changes\\\",\\\"scope\\\":\\\"15396934786850674188\\\",\\\"id\\\":\\\"ob_36\\\",\\\"type\\\":\\\"observable\\\"},val)) : undefined; return this.valueFromJulia[\\\"changes\\\"]=false}),self),this[\\\"index\\\"].subscribe((function (val){!(this.valueFromJulia[\\\"index\\\"]) ? (WebIO.setval({\\\"name\\\":\\\"index\\\",\\\"scope\\\":\\\"15396934786850674188\\\",\\\"id\\\":\\\"ob_35\\\",\\\"type\\\":\\\"observable\\\"},val)) : undefined; return this.valueFromJulia[\\\"index\\\"]=false}),self)]\\n        \\n    }\\n    self.model = new AppViewModel();\\n    self.valueFromJulia = {};\\n    for (var key in json_data) {\\n        self.valueFromJulia[key] = false;\\n    }\\n    ko.applyBindings(self.model, self.dom);\\n}\\n);\\n    (WebIO.importBlock({\\\"data\\\":[{\\\"name\\\":\\\"knockout\\\",\\\"type\\\":\\\"js\\\",\\\"url\\\":\\\"/assetserver/fd311416c3fbf748771c2940b2ca4b79c53d1ab2-knockout.js\\\"},{\\\"name\\\":\\\"knockout_punches\\\",\\\"type\\\":\\\"js\\\",\\\"url\\\":\\\"/assetserver/148711b519458f42f1e7a22e5bdf7a74f9d5f8e0-knockout_punches.js\\\"}],\\\"type\\\":\\\"async_block\\\"})).then((imports) => handler.apply(this, imports));\\n}\\n\")])], Dict{Symbol,Any}(:className=>\"field interact-widget\")), Observable{Any} with 0 listeners. Value:\n",
       "Node{DOM}(DOM(:html, :div), Any[Plot{Plots.GRBackend() n=2}], Dict{Symbol,Any}(:className=>\"interact-flex-row interact-widget\"))], Dict{Symbol,Any}())"
      ]
     },
     "execution_count": 17,
     "metadata": {
      "application/vnd.webio.node+json": {
       "kernelId": "a445dc7a-9576-47c1-b775-dcef5588fd4c"
      }
     },
     "output_type": "execute_result"
    }
   ],
   "source": [
    "u2s = range(0, 5, length = 100)\n",
    "@manipulate for α12 in slider(0.1:0.01:1.0; label = \"α12\", value = 0.8), \n",
    "                α21 in slider(0.1:0.01:1.0; label = \"α21\", value = 0.3), \n",
    "                K1 in slider(0.1:0.01:2.0; label = \"K1\", value = 1.5), \n",
    "                K2 in slider(0.1:0.01:2.0; label = \"K2\", value = 1.0)\n",
    "    p = LVPar(α12 = α12, α21 = α21, K1 = K1, K2 = K2)\n",
    "    plot(u2s, [iso1(u2, p) for u2 in u2s], label = \"u1 = 0\")\n",
    "    plot!(u2s, [iso2(u2, p) for u2 in u2s], label = \"u2 = 0\")\n",
    "    xlims!(0, 3)\n",
    "    ylims!(0, 5)\n",
    "    xlabel!(\"u2\")\n",
    "    ylabel!(\"u1\")\n",
    "end"
   ]
  },
  {
   "cell_type": "code",
   "execution_count": null,
   "metadata": {},
   "outputs": [],
   "source": []
  }
 ],
 "metadata": {
  "@webio": {
   "lastCommId": "a3a67fde281d4b0c84d45df56208f6a0",
   "lastKernelId": "a445dc7a-9576-47c1-b775-dcef5588fd4c"
  },
  "kernelspec": {
   "display_name": "Julia 1.1.0",
   "language": "julia",
   "name": "julia-1.1"
  },
  "language_info": {
   "file_extension": ".jl",
   "mimetype": "application/julia",
   "name": "julia",
   "version": "1.1.0"
  }
 },
 "nbformat": 4,
 "nbformat_minor": 2
}
