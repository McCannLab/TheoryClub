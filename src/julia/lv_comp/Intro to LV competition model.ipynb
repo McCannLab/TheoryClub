{
 "cells": [
  {
   "cell_type": "markdown",
   "metadata": {},
   "source": [
    "# Introduction to Lotka-Volterra Competition"
   ]
  },
  {
   "cell_type": "code",
   "execution_count": 1,
   "metadata": {},
   "outputs": [
    {
     "data": {
      "text/html": [
       "<script>\n",
       "// Immediately-invoked-function-expression to avoid global variables.\n",
       "(function() {\n",
       "    var warning_div = document.getElementById(\"webio-warning-3748251494008147273\");\n",
       "    var hide = function () {\n",
       "        var script = document.getElementById(\"webio-setup-5685832915087881640\");\n",
       "        var parent = script && script.parentElement;\n",
       "        var grandparent = parent && parent.parentElement;\n",
       "        if (grandparent) {\n",
       "            grandparent.style.display = \"none\";\n",
       "        }\n",
       "        warning_div.style.display = \"none\";\n",
       "    };\n",
       "    if (typeof Jupyter !== \"undefined\") {\n",
       "        console.log(\"WebIO detected Jupyter notebook environment.\");\n",
       "        // Jupyter notebook.\n",
       "        var extensions = (\n",
       "            Jupyter\n",
       "            && Jupyter.notebook.config.data\n",
       "            && Jupyter.notebook.config.data.load_extensions\n",
       "        );\n",
       "        if (extensions && extensions[\"webio-jupyter-notebook\"]) {\n",
       "            // Extension already loaded.\n",
       "            console.log(\"Jupyter WebIO nbextension detected; not loading ad-hoc.\");\n",
       "            hide();\n",
       "            return;\n",
       "        }\n",
       "    } else if (window.location.pathname.includes(\"/lab\")) {\n",
       "        // Guessing JupyterLa\n",
       "        console.log(\"Jupyter Lab detected; make sure the @webio/jupyter-lab-provider labextension is installed.\");\n",
       "        hide();\n",
       "        return;\n",
       "    }\n",
       "})();\n",
       "\n",
       "</script>\n",
       "<p\n",
       "    id=\"webio-warning-3748251494008147273\"\n",
       "    class=\"output_text output_stderr\"\n",
       "    style=\"padding: 1em; font-weight: bold;\"\n",
       ">\n",
       "    Unable to load WebIO. Please make sure WebIO works for your Jupyter client.\n",
       "    For troubleshooting, please see <a href=\"https://juliagizmos.github.io/WebIO.jl/latest/providers/ijulia/\">\n",
       "    the WebIO/IJulia documentation</a>.\n",
       "    <!-- TODO: link to installation docs. -->\n",
       "</p>\n"
      ],
      "text/plain": [
       "HTML{String}(\"<script>\\n// Immediately-invoked-function-expression to avoid global variables.\\n(function() {\\n    var warning_div = document.getElementById(\\\"webio-warning-3748251494008147273\\\");\\n    var hide = function () {\\n        var script = document.getElementById(\\\"webio-setup-5685832915087881640\\\");\\n        var parent = script && script.parentElement;\\n        var grandparent = parent && parent.parentElement;\\n        if (grandparent) {\\n            grandparent.style.display = \\\"none\\\";\\n        }\\n        warning_div.style.display = \\\"none\\\";\\n    };\\n    if (typeof Jupyter !== \\\"undefined\\\") {\\n        console.log(\\\"WebIO detected Jupyter notebook environment.\\\");\\n        // Jupyter notebook.\\n        var extensions = (\\n            Jupyter\\n            && Jupyter.notebook.config.data\\n            && Jupyter.notebook.config.data.load_extensions\\n        );\\n        if (extensions && extensions[\\\"webio-jupyter-notebook\\\"]) {\\n            // Extension already loaded.\\n            console.log(\\\"Jupyter WebIO nbextension detected; not loading ad-hoc.\\\");\\n            hide();\\n            return;\\n        }\\n    } else if (window.location.pathname.includes(\\\"/lab\\\")) {\\n        // Guessing JupyterLa\\n        console.log(\\\"Jupyter Lab detected; make sure the @webio/jupyter-lab-provider labextension is installed.\\\");\\n        hide();\\n        return;\\n    }\\n})();\\n\\n</script>\\n<p\\n    id=\\\"webio-warning-3748251494008147273\\\"\\n    class=\\\"output_text output_stderr\\\"\\n    style=\\\"padding: 1em; font-weight: bold;\\\"\\n>\\n    Unable to load WebIO. Please make sure WebIO works for your Jupyter client.\\n    For troubleshooting, please see <a href=\\\"https://juliagizmos.github.io/WebIO.jl/latest/providers/ijulia/\\\">\\n    the WebIO/IJulia documentation</a>.\\n    <!-- TODO: link to installation docs. -->\\n</p>\\n\")"
      ]
     },
     "metadata": {},
     "output_type": "display_data"
    }
   ],
   "source": [
    "using Parameters\n",
    "using DifferentialEquations\n",
    "using ForwardDiff\n",
    "using PyPlot\n",
    "using Interact"
   ]
  },
  {
   "cell_type": "markdown",
   "metadata": {},
   "source": [
    "# Introduction/Overview\n",
    "This notebook is simply looking at the two species L-V competiti9on model. Here, we are exploring the geometry and dynamics of this model."
   ]
  },
  {
   "cell_type": "markdown",
   "metadata": {},
   "source": [
    "# Model and Equilibria\n",
    "The model we will use is the classical LV competition model:"
   ]
  },
  {
   "cell_type": "code",
   "execution_count": 2,
   "metadata": {},
   "outputs": [
    {
     "data": {
      "text/plain": [
       "lv_comp (generic function with 2 methods)"
      ]
     },
     "execution_count": 2,
     "metadata": {},
     "output_type": "execute_result"
    }
   ],
   "source": [
    "# Inplace definition (the `du` array is passed to the function and changed), the default way to define this in Julia.\n",
    "function lv_comp(du, u, p, t)\n",
    "    @unpack r1, r2, α12, α21, K1, K2 = p\n",
    "    du[1] = u[1] * r1 * (1 - (u[1] + α12 * u[2]) / K1)\n",
    "    du[2] = u[2] * r2 * (1 - (u[2] + α21 * u[1]) / K2)\n",
    "    return\n",
    "end\n",
    "\n",
    "# Make a version that allocates the output `du`, useful for symbolic calculations\n",
    "function lv_comp(u, p, t)\n",
    "    du = similar(u)\n",
    "    lv_comp(du, u, p, t)\n",
    "    return du\n",
    "end"
   ]
  },
  {
   "cell_type": "markdown",
   "metadata": {},
   "source": [
    "# Model Parameters"
   ]
  },
  {
   "cell_type": "code",
   "execution_count": 3,
   "metadata": {},
   "outputs": [
    {
     "data": {
      "text/plain": [
       "LVPar"
      ]
     },
     "execution_count": 3,
     "metadata": {},
     "output_type": "execute_result"
    }
   ],
   "source": [
    "@with_kw mutable struct LVPar\n",
    "    α12 = 0.8\n",
    "    α21 = 0.3\n",
    "    r1 = 1.0\n",
    "    r2 = 2.0\n",
    "    K1 = 1.5\n",
    "    K2 = 1.0\n",
    "end"
   ]
  },
  {
   "cell_type": "markdown",
   "metadata": {},
   "source": [
    "# Evaluationg the model -- time series"
   ]
  },
  {
   "cell_type": "code",
   "execution_count": 6,
   "metadata": {},
   "outputs": [
    {
     "data": {
      "application/vnd.webio.node+json": {
       "children": [
        {
         "children": [
          {
           "children": [
            {
             "children": [
              {
               "children": [
                {
                 "children": [
                  "α12"
                 ],
                 "instanceArgs": {
                  "namespace": "html",
                  "tag": "label"
                 },
                 "nodeType": "DOM",
                 "props": {
                  "className": "interact ",
                  "style": {
                   "padding": "5px 10px 0px 10px"
                  }
                 },
                 "type": "node"
                }
               ],
               "instanceArgs": {
                "namespace": "html",
                "tag": "div"
               },
               "nodeType": "DOM",
               "props": {
                "className": "interact-flex-row-left"
               },
               "type": "node"
              },
              {
               "children": [
                {
                 "children": [],
                 "instanceArgs": {
                  "namespace": "html",
                  "tag": "input"
                 },
                 "nodeType": "DOM",
                 "props": {
                  "attributes": {
                   "data-bind": "numericValue: index, valueUpdate: 'input', event: {change: function (){this.changes(this.changes()+1)}}",
                   "orient": "horizontal",
                   "type": "range"
                  },
                  "className": "slider slider is-fullwidth",
                  "max": 191,
                  "min": 1,
                  "step": 1,
                  "style": {}
                 },
                 "type": "node"
                }
               ],
               "instanceArgs": {
                "namespace": "html",
                "tag": "div"
               },
               "nodeType": "DOM",
               "props": {
                "className": "interact-flex-row-center"
               },
               "type": "node"
              },
              {
               "children": [
                {
                 "children": [],
                 "instanceArgs": {
                  "namespace": "html",
                  "tag": "p"
                 },
                 "nodeType": "DOM",
                 "props": {
                  "attributes": {
                   "data-bind": "text: formatted_val"
                  }
                 },
                 "type": "node"
                }
               ],
               "instanceArgs": {
                "namespace": "html",
                "tag": "div"
               },
               "nodeType": "DOM",
               "props": {
                "className": "interact-flex-row-right"
               },
               "type": "node"
              }
             ],
             "instanceArgs": {
              "namespace": "html",
              "tag": "div"
             },
             "nodeType": "DOM",
             "props": {
              "className": "interact-flex-row interact-widget"
             },
             "type": "node"
            }
           ],
           "instanceArgs": {
            "handlers": {
             "changes": [
              "(function (val){return (val!=this.model[\"changes\"]()) ? (this.valueFromJulia[\"changes\"]=true, this.model[\"changes\"](val)) : undefined})"
             ],
             "index": [
              "(function (val){return (val!=this.model[\"index\"]()) ? (this.valueFromJulia[\"index\"]=true, this.model[\"index\"](val)) : undefined})"
             ]
            },
            "id": "15777858450175548464",
            "imports": {
             "data": [
              {
               "name": "knockout",
               "type": "js",
               "url": "/assetserver/bd369c9f3f65592d9de5e32611a3bd7919ce27e4-knockout.js"
              },
              {
               "name": "knockout_punches",
               "type": "js",
               "url": "/assetserver/3b50d12153ead1bb599ff862de1cdc44df7d6b87-knockout_punches.js"
              },
              {
               "name": null,
               "type": "js",
               "url": "/assetserver/aa3951d9fb8679dff984ddfbf8b5e84bb80c8a32-all.js"
              },
              {
               "name": null,
               "type": "css",
               "url": "/assetserver/4d4e4f0d7e5786bcd65343de06f7537c7cc0439b-style.css"
              },
              {
               "name": null,
               "type": "css",
               "url": "/assetserver/29cbe869a436f8975bf1b635e657ff2c60889af7-bulma_confined.min.css"
              }
             ],
             "type": "async_block"
            },
            "mount_callbacks": [
             "function () {\n    var handler = (function (ko, koPunches) {\n    ko.punches.enableAll();\n    ko.bindingHandlers.numericValue = {\n        init: function(element, valueAccessor, allBindings, data, context) {\n            var stringified = ko.observable(ko.unwrap(valueAccessor()));\n            stringified.subscribe(function(value) {\n                var val = parseFloat(value);\n                if (!isNaN(val)) {\n                    valueAccessor()(val);\n                }\n            });\n            valueAccessor().subscribe(function(value) {\n                var str = JSON.stringify(value);\n                if ((str == \"0\") && ([\"-0\", \"-0.\"].indexOf(stringified()) >= 0))\n                     return;\n                 if ([\"null\", \"\"].indexOf(str) >= 0)\n                     return;\n                stringified(str);\n            });\n            ko.applyBindingsToNode(\n                element,\n                {\n                    value: stringified,\n                    valueUpdate: allBindings.get('valueUpdate'),\n                },\n                context,\n            );\n        }\n    };\n    var json_data = {\"formatted_vals\":[\"0.1\",\"0.11\",\"0.12\",\"0.13\",\"0.14\",\"0.15\",\"0.16\",\"0.17\",\"0.18\",\"0.19\",\"0.2\",\"0.21\",\"0.22\",\"0.23\",\"0.24\",\"0.25\",\"0.26\",\"0.27\",\"0.28\",\"0.29\",\"0.3\",\"0.31\",\"0.32\",\"0.33\",\"0.34\",\"0.35\",\"0.36\",\"0.37\",\"0.38\",\"0.39\",\"0.4\",\"0.41\",\"0.42\",\"0.43\",\"0.44\",\"0.45\",\"0.46\",\"0.47\",\"0.48\",\"0.49\",\"0.5\",\"0.51\",\"0.52\",\"0.53\",\"0.54\",\"0.55\",\"0.56\",\"0.57\",\"0.58\",\"0.59\",\"0.6\",\"0.61\",\"0.62\",\"0.63\",\"0.64\",\"0.65\",\"0.66\",\"0.67\",\"0.68\",\"0.69\",\"0.7\",\"0.71\",\"0.72\",\"0.73\",\"0.74\",\"0.75\",\"0.76\",\"0.77\",\"0.78\",\"0.79\",\"0.8\",\"0.81\",\"0.82\",\"0.83\",\"0.84\",\"0.85\",\"0.86\",\"0.87\",\"0.88\",\"0.89\",\"0.9\",\"0.91\",\"0.92\",\"0.93\",\"0.94\",\"0.95\",\"0.96\",\"0.97\",\"0.98\",\"0.99\",\"1.0\",\"1.01\",\"1.02\",\"1.03\",\"1.04\",\"1.05\",\"1.06\",\"1.07\",\"1.08\",\"1.09\",\"1.1\",\"1.11\",\"1.12\",\"1.13\",\"1.14\",\"1.15\",\"1.16\",\"1.17\",\"1.18\",\"1.19\",\"1.2\",\"1.21\",\"1.22\",\"1.23\",\"1.24\",\"1.25\",\"1.26\",\"1.27\",\"1.28\",\"1.29\",\"1.3\",\"1.31\",\"1.32\",\"1.33\",\"1.34\",\"1.35\",\"1.36\",\"1.37\",\"1.38\",\"1.39\",\"1.4\",\"1.41\",\"1.42\",\"1.43\",\"1.44\",\"1.45\",\"1.46\",\"1.47\",\"1.48\",\"1.49\",\"1.5\",\"1.51\",\"1.52\",\"1.53\",\"1.54\",\"1.55\",\"1.56\",\"1.57\",\"1.58\",\"1.59\",\"1.6\",\"1.61\",\"1.62\",\"1.63\",\"1.64\",\"1.65\",\"1.66\",\"1.67\",\"1.68\",\"1.69\",\"1.7\",\"1.71\",\"1.72\",\"1.73\",\"1.74\",\"1.75\",\"1.76\",\"1.77\",\"1.78\",\"1.79\",\"1.8\",\"1.81\",\"1.82\",\"1.83\",\"1.84\",\"1.85\",\"1.86\",\"1.87\",\"1.88\",\"1.89\",\"1.9\",\"1.91\",\"1.92\",\"1.93\",\"1.94\",\"1.95\",\"1.96\",\"1.97\",\"1.98\",\"1.99\",\"2.0\"],\"changes\":WebIO.getval({\"name\":\"changes\",\"scope\":\"15777858450175548464\",\"id\":\"ob_45\",\"type\":\"observable\"}),\"index\":WebIO.getval({\"name\":\"index\",\"scope\":\"15777858450175548464\",\"id\":\"ob_44\",\"type\":\"observable\"})};\n    var self = this;\n    function AppViewModel() {\n        for (var key in json_data) {\n            var el = json_data[key];\n            this[key] = Array.isArray(el) ? ko.observableArray(el) : ko.observable(el);\n        }\n        \n        [this[\"formatted_val\"]=ko.computed(    function(){\n        return this.formatted_vals()[parseInt(this.index())-(1)];\n    }\n,this)]\n        [this[\"changes\"].subscribe((function (val){!(this.valueFromJulia[\"changes\"]) ? (WebIO.setval({\"name\":\"changes\",\"scope\":\"15777858450175548464\",\"id\":\"ob_45\",\"type\":\"observable\"},val)) : undefined; return this.valueFromJulia[\"changes\"]=false}),self),this[\"index\"].subscribe((function (val){!(this.valueFromJulia[\"index\"]) ? (WebIO.setval({\"name\":\"index\",\"scope\":\"15777858450175548464\",\"id\":\"ob_44\",\"type\":\"observable\"},val)) : undefined; return this.valueFromJulia[\"index\"]=false}),self)]\n        \n    }\n    self.model = new AppViewModel();\n    self.valueFromJulia = {};\n    for (var key in json_data) {\n        self.valueFromJulia[key] = false;\n    }\n    ko.applyBindings(self.model, self.dom);\n}\n);\n    (WebIO.importBlock({\"data\":[{\"name\":\"knockout\",\"type\":\"js\",\"url\":\"/assetserver/bd369c9f3f65592d9de5e32611a3bd7919ce27e4-knockout.js\"},{\"name\":\"knockout_punches\",\"type\":\"js\",\"url\":\"/assetserver/3b50d12153ead1bb599ff862de1cdc44df7d6b87-knockout_punches.js\"}],\"type\":\"async_block\"})).then((imports) => handler.apply(this, imports));\n}\n"
            ],
            "observables": {
             "changes": {
              "id": "ob_45",
              "sync": false,
              "value": 0
             },
             "index": {
              "id": "ob_44",
              "sync": true,
              "value": 71
             }
            },
            "systemjs_options": null
           },
           "nodeType": "Scope",
           "props": {},
           "type": "node"
          }
         ],
         "instanceArgs": {
          "namespace": "html",
          "tag": "div"
         },
         "nodeType": "DOM",
         "props": {
          "className": "field interact-widget"
         },
         "type": "node"
        },
        {
         "children": [
          {
           "children": [
            {
             "children": [
              {
               "children": [
                {
                 "children": [
                  "α21"
                 ],
                 "instanceArgs": {
                  "namespace": "html",
                  "tag": "label"
                 },
                 "nodeType": "DOM",
                 "props": {
                  "className": "interact ",
                  "style": {
                   "padding": "5px 10px 0px 10px"
                  }
                 },
                 "type": "node"
                }
               ],
               "instanceArgs": {
                "namespace": "html",
                "tag": "div"
               },
               "nodeType": "DOM",
               "props": {
                "className": "interact-flex-row-left"
               },
               "type": "node"
              },
              {
               "children": [
                {
                 "children": [],
                 "instanceArgs": {
                  "namespace": "html",
                  "tag": "input"
                 },
                 "nodeType": "DOM",
                 "props": {
                  "attributes": {
                   "data-bind": "numericValue: index, valueUpdate: 'input', event: {change: function (){this.changes(this.changes()+1)}}",
                   "orient": "horizontal",
                   "type": "range"
                  },
                  "className": "slider slider is-fullwidth",
                  "max": 191,
                  "min": 1,
                  "step": 1,
                  "style": {}
                 },
                 "type": "node"
                }
               ],
               "instanceArgs": {
                "namespace": "html",
                "tag": "div"
               },
               "nodeType": "DOM",
               "props": {
                "className": "interact-flex-row-center"
               },
               "type": "node"
              },
              {
               "children": [
                {
                 "children": [],
                 "instanceArgs": {
                  "namespace": "html",
                  "tag": "p"
                 },
                 "nodeType": "DOM",
                 "props": {
                  "attributes": {
                   "data-bind": "text: formatted_val"
                  }
                 },
                 "type": "node"
                }
               ],
               "instanceArgs": {
                "namespace": "html",
                "tag": "div"
               },
               "nodeType": "DOM",
               "props": {
                "className": "interact-flex-row-right"
               },
               "type": "node"
              }
             ],
             "instanceArgs": {
              "namespace": "html",
              "tag": "div"
             },
             "nodeType": "DOM",
             "props": {
              "className": "interact-flex-row interact-widget"
             },
             "type": "node"
            }
           ],
           "instanceArgs": {
            "handlers": {
             "changes": [
              "(function (val){return (val!=this.model[\"changes\"]()) ? (this.valueFromJulia[\"changes\"]=true, this.model[\"changes\"](val)) : undefined})"
             ],
             "index": [
              "(function (val){return (val!=this.model[\"index\"]()) ? (this.valueFromJulia[\"index\"]=true, this.model[\"index\"](val)) : undefined})"
             ]
            },
            "id": "5575372336974442177",
            "imports": {
             "data": [
              {
               "name": "knockout",
               "type": "js",
               "url": "/assetserver/bd369c9f3f65592d9de5e32611a3bd7919ce27e4-knockout.js"
              },
              {
               "name": "knockout_punches",
               "type": "js",
               "url": "/assetserver/3b50d12153ead1bb599ff862de1cdc44df7d6b87-knockout_punches.js"
              },
              {
               "name": null,
               "type": "js",
               "url": "/assetserver/aa3951d9fb8679dff984ddfbf8b5e84bb80c8a32-all.js"
              },
              {
               "name": null,
               "type": "css",
               "url": "/assetserver/4d4e4f0d7e5786bcd65343de06f7537c7cc0439b-style.css"
              },
              {
               "name": null,
               "type": "css",
               "url": "/assetserver/29cbe869a436f8975bf1b635e657ff2c60889af7-bulma_confined.min.css"
              }
             ],
             "type": "async_block"
            },
            "mount_callbacks": [
             "function () {\n    var handler = (function (ko, koPunches) {\n    ko.punches.enableAll();\n    ko.bindingHandlers.numericValue = {\n        init: function(element, valueAccessor, allBindings, data, context) {\n            var stringified = ko.observable(ko.unwrap(valueAccessor()));\n            stringified.subscribe(function(value) {\n                var val = parseFloat(value);\n                if (!isNaN(val)) {\n                    valueAccessor()(val);\n                }\n            });\n            valueAccessor().subscribe(function(value) {\n                var str = JSON.stringify(value);\n                if ((str == \"0\") && ([\"-0\", \"-0.\"].indexOf(stringified()) >= 0))\n                     return;\n                 if ([\"null\", \"\"].indexOf(str) >= 0)\n                     return;\n                stringified(str);\n            });\n            ko.applyBindingsToNode(\n                element,\n                {\n                    value: stringified,\n                    valueUpdate: allBindings.get('valueUpdate'),\n                },\n                context,\n            );\n        }\n    };\n    var json_data = {\"formatted_vals\":[\"0.1\",\"0.11\",\"0.12\",\"0.13\",\"0.14\",\"0.15\",\"0.16\",\"0.17\",\"0.18\",\"0.19\",\"0.2\",\"0.21\",\"0.22\",\"0.23\",\"0.24\",\"0.25\",\"0.26\",\"0.27\",\"0.28\",\"0.29\",\"0.3\",\"0.31\",\"0.32\",\"0.33\",\"0.34\",\"0.35\",\"0.36\",\"0.37\",\"0.38\",\"0.39\",\"0.4\",\"0.41\",\"0.42\",\"0.43\",\"0.44\",\"0.45\",\"0.46\",\"0.47\",\"0.48\",\"0.49\",\"0.5\",\"0.51\",\"0.52\",\"0.53\",\"0.54\",\"0.55\",\"0.56\",\"0.57\",\"0.58\",\"0.59\",\"0.6\",\"0.61\",\"0.62\",\"0.63\",\"0.64\",\"0.65\",\"0.66\",\"0.67\",\"0.68\",\"0.69\",\"0.7\",\"0.71\",\"0.72\",\"0.73\",\"0.74\",\"0.75\",\"0.76\",\"0.77\",\"0.78\",\"0.79\",\"0.8\",\"0.81\",\"0.82\",\"0.83\",\"0.84\",\"0.85\",\"0.86\",\"0.87\",\"0.88\",\"0.89\",\"0.9\",\"0.91\",\"0.92\",\"0.93\",\"0.94\",\"0.95\",\"0.96\",\"0.97\",\"0.98\",\"0.99\",\"1.0\",\"1.01\",\"1.02\",\"1.03\",\"1.04\",\"1.05\",\"1.06\",\"1.07\",\"1.08\",\"1.09\",\"1.1\",\"1.11\",\"1.12\",\"1.13\",\"1.14\",\"1.15\",\"1.16\",\"1.17\",\"1.18\",\"1.19\",\"1.2\",\"1.21\",\"1.22\",\"1.23\",\"1.24\",\"1.25\",\"1.26\",\"1.27\",\"1.28\",\"1.29\",\"1.3\",\"1.31\",\"1.32\",\"1.33\",\"1.34\",\"1.35\",\"1.36\",\"1.37\",\"1.38\",\"1.39\",\"1.4\",\"1.41\",\"1.42\",\"1.43\",\"1.44\",\"1.45\",\"1.46\",\"1.47\",\"1.48\",\"1.49\",\"1.5\",\"1.51\",\"1.52\",\"1.53\",\"1.54\",\"1.55\",\"1.56\",\"1.57\",\"1.58\",\"1.59\",\"1.6\",\"1.61\",\"1.62\",\"1.63\",\"1.64\",\"1.65\",\"1.66\",\"1.67\",\"1.68\",\"1.69\",\"1.7\",\"1.71\",\"1.72\",\"1.73\",\"1.74\",\"1.75\",\"1.76\",\"1.77\",\"1.78\",\"1.79\",\"1.8\",\"1.81\",\"1.82\",\"1.83\",\"1.84\",\"1.85\",\"1.86\",\"1.87\",\"1.88\",\"1.89\",\"1.9\",\"1.91\",\"1.92\",\"1.93\",\"1.94\",\"1.95\",\"1.96\",\"1.97\",\"1.98\",\"1.99\",\"2.0\"],\"changes\":WebIO.getval({\"name\":\"changes\",\"scope\":\"5575372336974442177\",\"id\":\"ob_48\",\"type\":\"observable\"}),\"index\":WebIO.getval({\"name\":\"index\",\"scope\":\"5575372336974442177\",\"id\":\"ob_47\",\"type\":\"observable\"})};\n    var self = this;\n    function AppViewModel() {\n        for (var key in json_data) {\n            var el = json_data[key];\n            this[key] = Array.isArray(el) ? ko.observableArray(el) : ko.observable(el);\n        }\n        \n        [this[\"formatted_val\"]=ko.computed(    function(){\n        return this.formatted_vals()[parseInt(this.index())-(1)];\n    }\n,this)]\n        [this[\"changes\"].subscribe((function (val){!(this.valueFromJulia[\"changes\"]) ? (WebIO.setval({\"name\":\"changes\",\"scope\":\"5575372336974442177\",\"id\":\"ob_48\",\"type\":\"observable\"},val)) : undefined; return this.valueFromJulia[\"changes\"]=false}),self),this[\"index\"].subscribe((function (val){!(this.valueFromJulia[\"index\"]) ? (WebIO.setval({\"name\":\"index\",\"scope\":\"5575372336974442177\",\"id\":\"ob_47\",\"type\":\"observable\"},val)) : undefined; return this.valueFromJulia[\"index\"]=false}),self)]\n        \n    }\n    self.model = new AppViewModel();\n    self.valueFromJulia = {};\n    for (var key in json_data) {\n        self.valueFromJulia[key] = false;\n    }\n    ko.applyBindings(self.model, self.dom);\n}\n);\n    (WebIO.importBlock({\"data\":[{\"name\":\"knockout\",\"type\":\"js\",\"url\":\"/assetserver/bd369c9f3f65592d9de5e32611a3bd7919ce27e4-knockout.js\"},{\"name\":\"knockout_punches\",\"type\":\"js\",\"url\":\"/assetserver/3b50d12153ead1bb599ff862de1cdc44df7d6b87-knockout_punches.js\"}],\"type\":\"async_block\"})).then((imports) => handler.apply(this, imports));\n}\n"
            ],
            "observables": {
             "changes": {
              "id": "ob_48",
              "sync": false,
              "value": 0
             },
             "index": {
              "id": "ob_47",
              "sync": true,
              "value": 21
             }
            },
            "systemjs_options": null
           },
           "nodeType": "Scope",
           "props": {},
           "type": "node"
          }
         ],
         "instanceArgs": {
          "namespace": "html",
          "tag": "div"
         },
         "nodeType": "DOM",
         "props": {
          "className": "field interact-widget"
         },
         "type": "node"
        },
        {
         "children": [
          {
           "children": [
            {
             "children": [
              {
               "children": [
                {
                 "children": [
                  "K1"
                 ],
                 "instanceArgs": {
                  "namespace": "html",
                  "tag": "label"
                 },
                 "nodeType": "DOM",
                 "props": {
                  "className": "interact ",
                  "style": {
                   "padding": "5px 10px 0px 10px"
                  }
                 },
                 "type": "node"
                }
               ],
               "instanceArgs": {
                "namespace": "html",
                "tag": "div"
               },
               "nodeType": "DOM",
               "props": {
                "className": "interact-flex-row-left"
               },
               "type": "node"
              },
              {
               "children": [
                {
                 "children": [],
                 "instanceArgs": {
                  "namespace": "html",
                  "tag": "input"
                 },
                 "nodeType": "DOM",
                 "props": {
                  "attributes": {
                   "data-bind": "numericValue: index, valueUpdate: 'input', event: {change: function (){this.changes(this.changes()+1)}}",
                   "orient": "horizontal",
                   "type": "range"
                  },
                  "className": "slider slider is-fullwidth",
                  "max": 291,
                  "min": 1,
                  "step": 1,
                  "style": {}
                 },
                 "type": "node"
                }
               ],
               "instanceArgs": {
                "namespace": "html",
                "tag": "div"
               },
               "nodeType": "DOM",
               "props": {
                "className": "interact-flex-row-center"
               },
               "type": "node"
              },
              {
               "children": [
                {
                 "children": [],
                 "instanceArgs": {
                  "namespace": "html",
                  "tag": "p"
                 },
                 "nodeType": "DOM",
                 "props": {
                  "attributes": {
                   "data-bind": "text: formatted_val"
                  }
                 },
                 "type": "node"
                }
               ],
               "instanceArgs": {
                "namespace": "html",
                "tag": "div"
               },
               "nodeType": "DOM",
               "props": {
                "className": "interact-flex-row-right"
               },
               "type": "node"
              }
             ],
             "instanceArgs": {
              "namespace": "html",
              "tag": "div"
             },
             "nodeType": "DOM",
             "props": {
              "className": "interact-flex-row interact-widget"
             },
             "type": "node"
            }
           ],
           "instanceArgs": {
            "handlers": {
             "changes": [
              "(function (val){return (val!=this.model[\"changes\"]()) ? (this.valueFromJulia[\"changes\"]=true, this.model[\"changes\"](val)) : undefined})"
             ],
             "index": [
              "(function (val){return (val!=this.model[\"index\"]()) ? (this.valueFromJulia[\"index\"]=true, this.model[\"index\"](val)) : undefined})"
             ]
            },
            "id": "11841928071573098154",
            "imports": {
             "data": [
              {
               "name": "knockout",
               "type": "js",
               "url": "/assetserver/bd369c9f3f65592d9de5e32611a3bd7919ce27e4-knockout.js"
              },
              {
               "name": "knockout_punches",
               "type": "js",
               "url": "/assetserver/3b50d12153ead1bb599ff862de1cdc44df7d6b87-knockout_punches.js"
              },
              {
               "name": null,
               "type": "js",
               "url": "/assetserver/aa3951d9fb8679dff984ddfbf8b5e84bb80c8a32-all.js"
              },
              {
               "name": null,
               "type": "css",
               "url": "/assetserver/4d4e4f0d7e5786bcd65343de06f7537c7cc0439b-style.css"
              },
              {
               "name": null,
               "type": "css",
               "url": "/assetserver/29cbe869a436f8975bf1b635e657ff2c60889af7-bulma_confined.min.css"
              }
             ],
             "type": "async_block"
            },
            "mount_callbacks": [
             "function () {\n    var handler = (function (ko, koPunches) {\n    ko.punches.enableAll();\n    ko.bindingHandlers.numericValue = {\n        init: function(element, valueAccessor, allBindings, data, context) {\n            var stringified = ko.observable(ko.unwrap(valueAccessor()));\n            stringified.subscribe(function(value) {\n                var val = parseFloat(value);\n                if (!isNaN(val)) {\n                    valueAccessor()(val);\n                }\n            });\n            valueAccessor().subscribe(function(value) {\n                var str = JSON.stringify(value);\n                if ((str == \"0\") && ([\"-0\", \"-0.\"].indexOf(stringified()) >= 0))\n                     return;\n                 if ([\"null\", \"\"].indexOf(str) >= 0)\n                     return;\n                stringified(str);\n            });\n            ko.applyBindingsToNode(\n                element,\n                {\n                    value: stringified,\n                    valueUpdate: allBindings.get('valueUpdate'),\n                },\n                context,\n            );\n        }\n    };\n    var json_data = {\"formatted_vals\":[\"0.1\",\"0.11\",\"0.12\",\"0.13\",\"0.14\",\"0.15\",\"0.16\",\"0.17\",\"0.18\",\"0.19\",\"0.2\",\"0.21\",\"0.22\",\"0.23\",\"0.24\",\"0.25\",\"0.26\",\"0.27\",\"0.28\",\"0.29\",\"0.3\",\"0.31\",\"0.32\",\"0.33\",\"0.34\",\"0.35\",\"0.36\",\"0.37\",\"0.38\",\"0.39\",\"0.4\",\"0.41\",\"0.42\",\"0.43\",\"0.44\",\"0.45\",\"0.46\",\"0.47\",\"0.48\",\"0.49\",\"0.5\",\"0.51\",\"0.52\",\"0.53\",\"0.54\",\"0.55\",\"0.56\",\"0.57\",\"0.58\",\"0.59\",\"0.6\",\"0.61\",\"0.62\",\"0.63\",\"0.64\",\"0.65\",\"0.66\",\"0.67\",\"0.68\",\"0.69\",\"0.7\",\"0.71\",\"0.72\",\"0.73\",\"0.74\",\"0.75\",\"0.76\",\"0.77\",\"0.78\",\"0.79\",\"0.8\",\"0.81\",\"0.82\",\"0.83\",\"0.84\",\"0.85\",\"0.86\",\"0.87\",\"0.88\",\"0.89\",\"0.9\",\"0.91\",\"0.92\",\"0.93\",\"0.94\",\"0.95\",\"0.96\",\"0.97\",\"0.98\",\"0.99\",\"1.0\",\"1.01\",\"1.02\",\"1.03\",\"1.04\",\"1.05\",\"1.06\",\"1.07\",\"1.08\",\"1.09\",\"1.1\",\"1.11\",\"1.12\",\"1.13\",\"1.14\",\"1.15\",\"1.16\",\"1.17\",\"1.18\",\"1.19\",\"1.2\",\"1.21\",\"1.22\",\"1.23\",\"1.24\",\"1.25\",\"1.26\",\"1.27\",\"1.28\",\"1.29\",\"1.3\",\"1.31\",\"1.32\",\"1.33\",\"1.34\",\"1.35\",\"1.36\",\"1.37\",\"1.38\",\"1.39\",\"1.4\",\"1.41\",\"1.42\",\"1.43\",\"1.44\",\"1.45\",\"1.46\",\"1.47\",\"1.48\",\"1.49\",\"1.5\",\"1.51\",\"1.52\",\"1.53\",\"1.54\",\"1.55\",\"1.56\",\"1.57\",\"1.58\",\"1.59\",\"1.6\",\"1.61\",\"1.62\",\"1.63\",\"1.64\",\"1.65\",\"1.66\",\"1.67\",\"1.68\",\"1.69\",\"1.7\",\"1.71\",\"1.72\",\"1.73\",\"1.74\",\"1.75\",\"1.76\",\"1.77\",\"1.78\",\"1.79\",\"1.8\",\"1.81\",\"1.82\",\"1.83\",\"1.84\",\"1.85\",\"1.86\",\"1.87\",\"1.88\",\"1.89\",\"1.9\",\"1.91\",\"1.92\",\"1.93\",\"1.94\",\"1.95\",\"1.96\",\"1.97\",\"1.98\",\"1.99\",\"2.0\",\"2.01\",\"2.02\",\"2.03\",\"2.04\",\"2.05\",\"2.06\",\"2.07\",\"2.08\",\"2.09\",\"2.1\",\"2.11\",\"2.12\",\"2.13\",\"2.14\",\"2.15\",\"2.16\",\"2.17\",\"2.18\",\"2.19\",\"2.2\",\"2.21\",\"2.22\",\"2.23\",\"2.24\",\"2.25\",\"2.26\",\"2.27\",\"2.28\",\"2.29\",\"2.3\",\"2.31\",\"2.32\",\"2.33\",\"2.34\",\"2.35\",\"2.36\",\"2.37\",\"2.38\",\"2.39\",\"2.4\",\"2.41\",\"2.42\",\"2.43\",\"2.44\",\"2.45\",\"2.46\",\"2.47\",\"2.48\",\"2.49\",\"2.5\",\"2.51\",\"2.52\",\"2.53\",\"2.54\",\"2.55\",\"2.56\",\"2.57\",\"2.58\",\"2.59\",\"2.6\",\"2.61\",\"2.62\",\"2.63\",\"2.64\",\"2.65\",\"2.66\",\"2.67\",\"2.68\",\"2.69\",\"2.7\",\"2.71\",\"2.72\",\"2.73\",\"2.74\",\"2.75\",\"2.76\",\"2.77\",\"2.78\",\"2.79\",\"2.8\",\"2.81\",\"2.82\",\"2.83\",\"2.84\",\"2.85\",\"2.86\",\"2.87\",\"2.88\",\"2.89\",\"2.9\",\"2.91\",\"2.92\",\"2.93\",\"2.94\",\"2.95\",\"2.96\",\"2.97\",\"2.98\",\"2.99\",\"3.0\"],\"changes\":WebIO.getval({\"name\":\"changes\",\"scope\":\"11841928071573098154\",\"id\":\"ob_51\",\"type\":\"observable\"}),\"index\":WebIO.getval({\"name\":\"index\",\"scope\":\"11841928071573098154\",\"id\":\"ob_50\",\"type\":\"observable\"})};\n    var self = this;\n    function AppViewModel() {\n        for (var key in json_data) {\n            var el = json_data[key];\n            this[key] = Array.isArray(el) ? ko.observableArray(el) : ko.observable(el);\n        }\n        \n        [this[\"formatted_val\"]=ko.computed(    function(){\n        return this.formatted_vals()[parseInt(this.index())-(1)];\n    }\n,this)]\n        [this[\"changes\"].subscribe((function (val){!(this.valueFromJulia[\"changes\"]) ? (WebIO.setval({\"name\":\"changes\",\"scope\":\"11841928071573098154\",\"id\":\"ob_51\",\"type\":\"observable\"},val)) : undefined; return this.valueFromJulia[\"changes\"]=false}),self),this[\"index\"].subscribe((function (val){!(this.valueFromJulia[\"index\"]) ? (WebIO.setval({\"name\":\"index\",\"scope\":\"11841928071573098154\",\"id\":\"ob_50\",\"type\":\"observable\"},val)) : undefined; return this.valueFromJulia[\"index\"]=false}),self)]\n        \n    }\n    self.model = new AppViewModel();\n    self.valueFromJulia = {};\n    for (var key in json_data) {\n        self.valueFromJulia[key] = false;\n    }\n    ko.applyBindings(self.model, self.dom);\n}\n);\n    (WebIO.importBlock({\"data\":[{\"name\":\"knockout\",\"type\":\"js\",\"url\":\"/assetserver/bd369c9f3f65592d9de5e32611a3bd7919ce27e4-knockout.js\"},{\"name\":\"knockout_punches\",\"type\":\"js\",\"url\":\"/assetserver/3b50d12153ead1bb599ff862de1cdc44df7d6b87-knockout_punches.js\"}],\"type\":\"async_block\"})).then((imports) => handler.apply(this, imports));\n}\n"
            ],
            "observables": {
             "changes": {
              "id": "ob_51",
              "sync": false,
              "value": 0
             },
             "index": {
              "id": "ob_50",
              "sync": true,
              "value": 141
             }
            },
            "systemjs_options": null
           },
           "nodeType": "Scope",
           "props": {},
           "type": "node"
          }
         ],
         "instanceArgs": {
          "namespace": "html",
          "tag": "div"
         },
         "nodeType": "DOM",
         "props": {
          "className": "field interact-widget"
         },
         "type": "node"
        },
        {
         "children": [
          {
           "children": [
            {
             "children": [
              {
               "children": [
                {
                 "children": [
                  "K2"
                 ],
                 "instanceArgs": {
                  "namespace": "html",
                  "tag": "label"
                 },
                 "nodeType": "DOM",
                 "props": {
                  "className": "interact ",
                  "style": {
                   "padding": "5px 10px 0px 10px"
                  }
                 },
                 "type": "node"
                }
               ],
               "instanceArgs": {
                "namespace": "html",
                "tag": "div"
               },
               "nodeType": "DOM",
               "props": {
                "className": "interact-flex-row-left"
               },
               "type": "node"
              },
              {
               "children": [
                {
                 "children": [],
                 "instanceArgs": {
                  "namespace": "html",
                  "tag": "input"
                 },
                 "nodeType": "DOM",
                 "props": {
                  "attributes": {
                   "data-bind": "numericValue: index, valueUpdate: 'input', event: {change: function (){this.changes(this.changes()+1)}}",
                   "orient": "horizontal",
                   "type": "range"
                  },
                  "className": "slider slider is-fullwidth",
                  "max": 291,
                  "min": 1,
                  "step": 1,
                  "style": {}
                 },
                 "type": "node"
                }
               ],
               "instanceArgs": {
                "namespace": "html",
                "tag": "div"
               },
               "nodeType": "DOM",
               "props": {
                "className": "interact-flex-row-center"
               },
               "type": "node"
              },
              {
               "children": [
                {
                 "children": [],
                 "instanceArgs": {
                  "namespace": "html",
                  "tag": "p"
                 },
                 "nodeType": "DOM",
                 "props": {
                  "attributes": {
                   "data-bind": "text: formatted_val"
                  }
                 },
                 "type": "node"
                }
               ],
               "instanceArgs": {
                "namespace": "html",
                "tag": "div"
               },
               "nodeType": "DOM",
               "props": {
                "className": "interact-flex-row-right"
               },
               "type": "node"
              }
             ],
             "instanceArgs": {
              "namespace": "html",
              "tag": "div"
             },
             "nodeType": "DOM",
             "props": {
              "className": "interact-flex-row interact-widget"
             },
             "type": "node"
            }
           ],
           "instanceArgs": {
            "handlers": {
             "changes": [
              "(function (val){return (val!=this.model[\"changes\"]()) ? (this.valueFromJulia[\"changes\"]=true, this.model[\"changes\"](val)) : undefined})"
             ],
             "index": [
              "(function (val){return (val!=this.model[\"index\"]()) ? (this.valueFromJulia[\"index\"]=true, this.model[\"index\"](val)) : undefined})"
             ]
            },
            "id": "449194311925730872",
            "imports": {
             "data": [
              {
               "name": "knockout",
               "type": "js",
               "url": "/assetserver/bd369c9f3f65592d9de5e32611a3bd7919ce27e4-knockout.js"
              },
              {
               "name": "knockout_punches",
               "type": "js",
               "url": "/assetserver/3b50d12153ead1bb599ff862de1cdc44df7d6b87-knockout_punches.js"
              },
              {
               "name": null,
               "type": "js",
               "url": "/assetserver/aa3951d9fb8679dff984ddfbf8b5e84bb80c8a32-all.js"
              },
              {
               "name": null,
               "type": "css",
               "url": "/assetserver/4d4e4f0d7e5786bcd65343de06f7537c7cc0439b-style.css"
              },
              {
               "name": null,
               "type": "css",
               "url": "/assetserver/29cbe869a436f8975bf1b635e657ff2c60889af7-bulma_confined.min.css"
              }
             ],
             "type": "async_block"
            },
            "mount_callbacks": [
             "function () {\n    var handler = (function (ko, koPunches) {\n    ko.punches.enableAll();\n    ko.bindingHandlers.numericValue = {\n        init: function(element, valueAccessor, allBindings, data, context) {\n            var stringified = ko.observable(ko.unwrap(valueAccessor()));\n            stringified.subscribe(function(value) {\n                var val = parseFloat(value);\n                if (!isNaN(val)) {\n                    valueAccessor()(val);\n                }\n            });\n            valueAccessor().subscribe(function(value) {\n                var str = JSON.stringify(value);\n                if ((str == \"0\") && ([\"-0\", \"-0.\"].indexOf(stringified()) >= 0))\n                     return;\n                 if ([\"null\", \"\"].indexOf(str) >= 0)\n                     return;\n                stringified(str);\n            });\n            ko.applyBindingsToNode(\n                element,\n                {\n                    value: stringified,\n                    valueUpdate: allBindings.get('valueUpdate'),\n                },\n                context,\n            );\n        }\n    };\n    var json_data = {\"formatted_vals\":[\"0.1\",\"0.11\",\"0.12\",\"0.13\",\"0.14\",\"0.15\",\"0.16\",\"0.17\",\"0.18\",\"0.19\",\"0.2\",\"0.21\",\"0.22\",\"0.23\",\"0.24\",\"0.25\",\"0.26\",\"0.27\",\"0.28\",\"0.29\",\"0.3\",\"0.31\",\"0.32\",\"0.33\",\"0.34\",\"0.35\",\"0.36\",\"0.37\",\"0.38\",\"0.39\",\"0.4\",\"0.41\",\"0.42\",\"0.43\",\"0.44\",\"0.45\",\"0.46\",\"0.47\",\"0.48\",\"0.49\",\"0.5\",\"0.51\",\"0.52\",\"0.53\",\"0.54\",\"0.55\",\"0.56\",\"0.57\",\"0.58\",\"0.59\",\"0.6\",\"0.61\",\"0.62\",\"0.63\",\"0.64\",\"0.65\",\"0.66\",\"0.67\",\"0.68\",\"0.69\",\"0.7\",\"0.71\",\"0.72\",\"0.73\",\"0.74\",\"0.75\",\"0.76\",\"0.77\",\"0.78\",\"0.79\",\"0.8\",\"0.81\",\"0.82\",\"0.83\",\"0.84\",\"0.85\",\"0.86\",\"0.87\",\"0.88\",\"0.89\",\"0.9\",\"0.91\",\"0.92\",\"0.93\",\"0.94\",\"0.95\",\"0.96\",\"0.97\",\"0.98\",\"0.99\",\"1.0\",\"1.01\",\"1.02\",\"1.03\",\"1.04\",\"1.05\",\"1.06\",\"1.07\",\"1.08\",\"1.09\",\"1.1\",\"1.11\",\"1.12\",\"1.13\",\"1.14\",\"1.15\",\"1.16\",\"1.17\",\"1.18\",\"1.19\",\"1.2\",\"1.21\",\"1.22\",\"1.23\",\"1.24\",\"1.25\",\"1.26\",\"1.27\",\"1.28\",\"1.29\",\"1.3\",\"1.31\",\"1.32\",\"1.33\",\"1.34\",\"1.35\",\"1.36\",\"1.37\",\"1.38\",\"1.39\",\"1.4\",\"1.41\",\"1.42\",\"1.43\",\"1.44\",\"1.45\",\"1.46\",\"1.47\",\"1.48\",\"1.49\",\"1.5\",\"1.51\",\"1.52\",\"1.53\",\"1.54\",\"1.55\",\"1.56\",\"1.57\",\"1.58\",\"1.59\",\"1.6\",\"1.61\",\"1.62\",\"1.63\",\"1.64\",\"1.65\",\"1.66\",\"1.67\",\"1.68\",\"1.69\",\"1.7\",\"1.71\",\"1.72\",\"1.73\",\"1.74\",\"1.75\",\"1.76\",\"1.77\",\"1.78\",\"1.79\",\"1.8\",\"1.81\",\"1.82\",\"1.83\",\"1.84\",\"1.85\",\"1.86\",\"1.87\",\"1.88\",\"1.89\",\"1.9\",\"1.91\",\"1.92\",\"1.93\",\"1.94\",\"1.95\",\"1.96\",\"1.97\",\"1.98\",\"1.99\",\"2.0\",\"2.01\",\"2.02\",\"2.03\",\"2.04\",\"2.05\",\"2.06\",\"2.07\",\"2.08\",\"2.09\",\"2.1\",\"2.11\",\"2.12\",\"2.13\",\"2.14\",\"2.15\",\"2.16\",\"2.17\",\"2.18\",\"2.19\",\"2.2\",\"2.21\",\"2.22\",\"2.23\",\"2.24\",\"2.25\",\"2.26\",\"2.27\",\"2.28\",\"2.29\",\"2.3\",\"2.31\",\"2.32\",\"2.33\",\"2.34\",\"2.35\",\"2.36\",\"2.37\",\"2.38\",\"2.39\",\"2.4\",\"2.41\",\"2.42\",\"2.43\",\"2.44\",\"2.45\",\"2.46\",\"2.47\",\"2.48\",\"2.49\",\"2.5\",\"2.51\",\"2.52\",\"2.53\",\"2.54\",\"2.55\",\"2.56\",\"2.57\",\"2.58\",\"2.59\",\"2.6\",\"2.61\",\"2.62\",\"2.63\",\"2.64\",\"2.65\",\"2.66\",\"2.67\",\"2.68\",\"2.69\",\"2.7\",\"2.71\",\"2.72\",\"2.73\",\"2.74\",\"2.75\",\"2.76\",\"2.77\",\"2.78\",\"2.79\",\"2.8\",\"2.81\",\"2.82\",\"2.83\",\"2.84\",\"2.85\",\"2.86\",\"2.87\",\"2.88\",\"2.89\",\"2.9\",\"2.91\",\"2.92\",\"2.93\",\"2.94\",\"2.95\",\"2.96\",\"2.97\",\"2.98\",\"2.99\",\"3.0\"],\"changes\":WebIO.getval({\"name\":\"changes\",\"scope\":\"449194311925730872\",\"id\":\"ob_54\",\"type\":\"observable\"}),\"index\":WebIO.getval({\"name\":\"index\",\"scope\":\"449194311925730872\",\"id\":\"ob_53\",\"type\":\"observable\"})};\n    var self = this;\n    function AppViewModel() {\n        for (var key in json_data) {\n            var el = json_data[key];\n            this[key] = Array.isArray(el) ? ko.observableArray(el) : ko.observable(el);\n        }\n        \n        [this[\"formatted_val\"]=ko.computed(    function(){\n        return this.formatted_vals()[parseInt(this.index())-(1)];\n    }\n,this)]\n        [this[\"changes\"].subscribe((function (val){!(this.valueFromJulia[\"changes\"]) ? (WebIO.setval({\"name\":\"changes\",\"scope\":\"449194311925730872\",\"id\":\"ob_54\",\"type\":\"observable\"},val)) : undefined; return this.valueFromJulia[\"changes\"]=false}),self),this[\"index\"].subscribe((function (val){!(this.valueFromJulia[\"index\"]) ? (WebIO.setval({\"name\":\"index\",\"scope\":\"449194311925730872\",\"id\":\"ob_53\",\"type\":\"observable\"},val)) : undefined; return this.valueFromJulia[\"index\"]=false}),self)]\n        \n    }\n    self.model = new AppViewModel();\n    self.valueFromJulia = {};\n    for (var key in json_data) {\n        self.valueFromJulia[key] = false;\n    }\n    ko.applyBindings(self.model, self.dom);\n}\n);\n    (WebIO.importBlock({\"data\":[{\"name\":\"knockout\",\"type\":\"js\",\"url\":\"/assetserver/bd369c9f3f65592d9de5e32611a3bd7919ce27e4-knockout.js\"},{\"name\":\"knockout_punches\",\"type\":\"js\",\"url\":\"/assetserver/3b50d12153ead1bb599ff862de1cdc44df7d6b87-knockout_punches.js\"}],\"type\":\"async_block\"})).then((imports) => handler.apply(this, imports));\n}\n"
            ],
            "observables": {
             "changes": {
              "id": "ob_54",
              "sync": false,
              "value": 0
             },
             "index": {
              "id": "ob_53",
              "sync": true,
              "value": 91
             }
            },
            "systemjs_options": null
           },
           "nodeType": "Scope",
           "props": {},
           "type": "node"
          }
         ],
         "instanceArgs": {
          "namespace": "html",
          "tag": "div"
         },
         "nodeType": "DOM",
         "props": {
          "className": "field interact-widget"
         },
         "type": "node"
        },
        {
         "children": [
          {
           "children": [
            {
             "children": [
              {
               "children": [
                {
                 "children": [
                  "r1"
                 ],
                 "instanceArgs": {
                  "namespace": "html",
                  "tag": "label"
                 },
                 "nodeType": "DOM",
                 "props": {
                  "className": "interact ",
                  "style": {
                   "padding": "5px 10px 0px 10px"
                  }
                 },
                 "type": "node"
                }
               ],
               "instanceArgs": {
                "namespace": "html",
                "tag": "div"
               },
               "nodeType": "DOM",
               "props": {
                "className": "interact-flex-row-left"
               },
               "type": "node"
              },
              {
               "children": [
                {
                 "children": [],
                 "instanceArgs": {
                  "namespace": "html",
                  "tag": "input"
                 },
                 "nodeType": "DOM",
                 "props": {
                  "attributes": {
                   "data-bind": "numericValue: index, valueUpdate: 'input', event: {change: function (){this.changes(this.changes()+1)}}",
                   "orient": "horizontal",
                   "type": "range"
                  },
                  "className": "slider slider is-fullwidth",
                  "max": 991,
                  "min": 1,
                  "step": 1,
                  "style": {}
                 },
                 "type": "node"
                }
               ],
               "instanceArgs": {
                "namespace": "html",
                "tag": "div"
               },
               "nodeType": "DOM",
               "props": {
                "className": "interact-flex-row-center"
               },
               "type": "node"
              },
              {
               "children": [
                {
                 "children": [],
                 "instanceArgs": {
                  "namespace": "html",
                  "tag": "p"
                 },
                 "nodeType": "DOM",
                 "props": {
                  "attributes": {
                   "data-bind": "text: formatted_val"
                  }
                 },
                 "type": "node"
                }
               ],
               "instanceArgs": {
                "namespace": "html",
                "tag": "div"
               },
               "nodeType": "DOM",
               "props": {
                "className": "interact-flex-row-right"
               },
               "type": "node"
              }
             ],
             "instanceArgs": {
              "namespace": "html",
              "tag": "div"
             },
             "nodeType": "DOM",
             "props": {
              "className": "interact-flex-row interact-widget"
             },
             "type": "node"
            }
           ],
           "instanceArgs": {
            "handlers": {
             "changes": [
              "(function (val){return (val!=this.model[\"changes\"]()) ? (this.valueFromJulia[\"changes\"]=true, this.model[\"changes\"](val)) : undefined})"
             ],
             "index": [
              "(function (val){return (val!=this.model[\"index\"]()) ? (this.valueFromJulia[\"index\"]=true, this.model[\"index\"](val)) : undefined})"
             ]
            },
            "id": "11878974999193548570",
            "imports": {
             "data": [
              {
               "name": "knockout",
               "type": "js",
               "url": "/assetserver/bd369c9f3f65592d9de5e32611a3bd7919ce27e4-knockout.js"
              },
              {
               "name": "knockout_punches",
               "type": "js",
               "url": "/assetserver/3b50d12153ead1bb599ff862de1cdc44df7d6b87-knockout_punches.js"
              },
              {
               "name": null,
               "type": "js",
               "url": "/assetserver/aa3951d9fb8679dff984ddfbf8b5e84bb80c8a32-all.js"
              },
              {
               "name": null,
               "type": "css",
               "url": "/assetserver/4d4e4f0d7e5786bcd65343de06f7537c7cc0439b-style.css"
              },
              {
               "name": null,
               "type": "css",
               "url": "/assetserver/29cbe869a436f8975bf1b635e657ff2c60889af7-bulma_confined.min.css"
              }
             ],
             "type": "async_block"
            },
            "mount_callbacks": [
             "function () {\n    var handler = (function (ko, koPunches) {\n    ko.punches.enableAll();\n    ko.bindingHandlers.numericValue = {\n        init: function(element, valueAccessor, allBindings, data, context) {\n            var stringified = ko.observable(ko.unwrap(valueAccessor()));\n            stringified.subscribe(function(value) {\n                var val = parseFloat(value);\n                if (!isNaN(val)) {\n                    valueAccessor()(val);\n                }\n            });\n            valueAccessor().subscribe(function(value) {\n                var str = JSON.stringify(value);\n                if ((str == \"0\") && ([\"-0\", \"-0.\"].indexOf(stringified()) >= 0))\n                     return;\n                 if ([\"null\", \"\"].indexOf(str) >= 0)\n                     return;\n                stringified(str);\n            });\n            ko.applyBindingsToNode(\n                element,\n                {\n                    value: stringified,\n                    valueUpdate: allBindings.get('valueUpdate'),\n                },\n                context,\n            );\n        }\n    };\n    var json_data = {\"formatted_vals\":[\"0.1\",\"0.11\",\"0.12\",\"0.13\",\"0.14\",\"0.15\",\"0.16\",\"0.17\",\"0.18\",\"0.19\",\"0.2\",\"0.21\",\"0.22\",\"0.23\",\"0.24\",\"0.25\",\"0.26\",\"0.27\",\"0.28\",\"0.29\",\"0.3\",\"0.31\",\"0.32\",\"0.33\",\"0.34\",\"0.35\",\"0.36\",\"0.37\",\"0.38\",\"0.39\",\"0.4\",\"0.41\",\"0.42\",\"0.43\",\"0.44\",\"0.45\",\"0.46\",\"0.47\",\"0.48\",\"0.49\",\"0.5\",\"0.51\",\"0.52\",\"0.53\",\"0.54\",\"0.55\",\"0.56\",\"0.57\",\"0.58\",\"0.59\",\"0.6\",\"0.61\",\"0.62\",\"0.63\",\"0.64\",\"0.65\",\"0.66\",\"0.67\",\"0.68\",\"0.69\",\"0.7\",\"0.71\",\"0.72\",\"0.73\",\"0.74\",\"0.75\",\"0.76\",\"0.77\",\"0.78\",\"0.79\",\"0.8\",\"0.81\",\"0.82\",\"0.83\",\"0.84\",\"0.85\",\"0.86\",\"0.87\",\"0.88\",\"0.89\",\"0.9\",\"0.91\",\"0.92\",\"0.93\",\"0.94\",\"0.95\",\"0.96\",\"0.97\",\"0.98\",\"0.99\",\"1.0\",\"1.01\",\"1.02\",\"1.03\",\"1.04\",\"1.05\",\"1.06\",\"1.07\",\"1.08\",\"1.09\",\"1.1\",\"1.11\",\"1.12\",\"1.13\",\"1.14\",\"1.15\",\"1.16\",\"1.17\",\"1.18\",\"1.19\",\"1.2\",\"1.21\",\"1.22\",\"1.23\",\"1.24\",\"1.25\",\"1.26\",\"1.27\",\"1.28\",\"1.29\",\"1.3\",\"1.31\",\"1.32\",\"1.33\",\"1.34\",\"1.35\",\"1.36\",\"1.37\",\"1.38\",\"1.39\",\"1.4\",\"1.41\",\"1.42\",\"1.43\",\"1.44\",\"1.45\",\"1.46\",\"1.47\",\"1.48\",\"1.49\",\"1.5\",\"1.51\",\"1.52\",\"1.53\",\"1.54\",\"1.55\",\"1.56\",\"1.57\",\"1.58\",\"1.59\",\"1.6\",\"1.61\",\"1.62\",\"1.63\",\"1.64\",\"1.65\",\"1.66\",\"1.67\",\"1.68\",\"1.69\",\"1.7\",\"1.71\",\"1.72\",\"1.73\",\"1.74\",\"1.75\",\"1.76\",\"1.77\",\"1.78\",\"1.79\",\"1.8\",\"1.81\",\"1.82\",\"1.83\",\"1.84\",\"1.85\",\"1.86\",\"1.87\",\"1.88\",\"1.89\",\"1.9\",\"1.91\",\"1.92\",\"1.93\",\"1.94\",\"1.95\",\"1.96\",\"1.97\",\"1.98\",\"1.99\",\"2.0\",\"2.01\",\"2.02\",\"2.03\",\"2.04\",\"2.05\",\"2.06\",\"2.07\",\"2.08\",\"2.09\",\"2.1\",\"2.11\",\"2.12\",\"2.13\",\"2.14\",\"2.15\",\"2.16\",\"2.17\",\"2.18\",\"2.19\",\"2.2\",\"2.21\",\"2.22\",\"2.23\",\"2.24\",\"2.25\",\"2.26\",\"2.27\",\"2.28\",\"2.29\",\"2.3\",\"2.31\",\"2.32\",\"2.33\",\"2.34\",\"2.35\",\"2.36\",\"2.37\",\"2.38\",\"2.39\",\"2.4\",\"2.41\",\"2.42\",\"2.43\",\"2.44\",\"2.45\",\"2.46\",\"2.47\",\"2.48\",\"2.49\",\"2.5\",\"2.51\",\"2.52\",\"2.53\",\"2.54\",\"2.55\",\"2.56\",\"2.57\",\"2.58\",\"2.59\",\"2.6\",\"2.61\",\"2.62\",\"2.63\",\"2.64\",\"2.65\",\"2.66\",\"2.67\",\"2.68\",\"2.69\",\"2.7\",\"2.71\",\"2.72\",\"2.73\",\"2.74\",\"2.75\",\"2.76\",\"2.77\",\"2.78\",\"2.79\",\"2.8\",\"2.81\",\"2.82\",\"2.83\",\"2.84\",\"2.85\",\"2.86\",\"2.87\",\"2.88\",\"2.89\",\"2.9\",\"2.91\",\"2.92\",\"2.93\",\"2.94\",\"2.95\",\"2.96\",\"2.97\",\"2.98\",\"2.99\",\"3.0\",\"3.01\",\"3.02\",\"3.03\",\"3.04\",\"3.05\",\"3.06\",\"3.07\",\"3.08\",\"3.09\",\"3.1\",\"3.11\",\"3.12\",\"3.13\",\"3.14\",\"3.15\",\"3.16\",\"3.17\",\"3.18\",\"3.19\",\"3.2\",\"3.21\",\"3.22\",\"3.23\",\"3.24\",\"3.25\",\"3.26\",\"3.27\",\"3.28\",\"3.29\",\"3.3\",\"3.31\",\"3.32\",\"3.33\",\"3.34\",\"3.35\",\"3.36\",\"3.37\",\"3.38\",\"3.39\",\"3.4\",\"3.41\",\"3.42\",\"3.43\",\"3.44\",\"3.45\",\"3.46\",\"3.47\",\"3.48\",\"3.49\",\"3.5\",\"3.51\",\"3.52\",\"3.53\",\"3.54\",\"3.55\",\"3.56\",\"3.57\",\"3.58\",\"3.59\",\"3.6\",\"3.61\",\"3.62\",\"3.63\",\"3.64\",\"3.65\",\"3.66\",\"3.67\",\"3.68\",\"3.69\",\"3.7\",\"3.71\",\"3.72\",\"3.73\",\"3.74\",\"3.75\",\"3.76\",\"3.77\",\"3.78\",\"3.79\",\"3.8\",\"3.81\",\"3.82\",\"3.83\",\"3.84\",\"3.85\",\"3.86\",\"3.87\",\"3.88\",\"3.89\",\"3.9\",\"3.91\",\"3.92\",\"3.93\",\"3.94\",\"3.95\",\"3.96\",\"3.97\",\"3.98\",\"3.99\",\"4.0\",\"4.01\",\"4.02\",\"4.03\",\"4.04\",\"4.05\",\"4.06\",\"4.07\",\"4.08\",\"4.09\",\"4.1\",\"4.11\",\"4.12\",\"4.13\",\"4.14\",\"4.15\",\"4.16\",\"4.17\",\"4.18\",\"4.19\",\"4.2\",\"4.21\",\"4.22\",\"4.23\",\"4.24\",\"4.25\",\"4.26\",\"4.27\",\"4.28\",\"4.29\",\"4.3\",\"4.31\",\"4.32\",\"4.33\",\"4.34\",\"4.35\",\"4.36\",\"4.37\",\"4.38\",\"4.39\",\"4.4\",\"4.41\",\"4.42\",\"4.43\",\"4.44\",\"4.45\",\"4.46\",\"4.47\",\"4.48\",\"4.49\",\"4.5\",\"4.51\",\"4.52\",\"4.53\",\"4.54\",\"4.55\",\"4.56\",\"4.57\",\"4.58\",\"4.59\",\"4.6\",\"4.61\",\"4.62\",\"4.63\",\"4.64\",\"4.65\",\"4.66\",\"4.67\",\"4.68\",\"4.69\",\"4.7\",\"4.71\",\"4.72\",\"4.73\",\"4.74\",\"4.75\",\"4.76\",\"4.77\",\"4.78\",\"4.79\",\"4.8\",\"4.81\",\"4.82\",\"4.83\",\"4.84\",\"4.85\",\"4.86\",\"4.87\",\"4.88\",\"4.89\",\"4.9\",\"4.91\",\"4.92\",\"4.93\",\"4.94\",\"4.95\",\"4.96\",\"4.97\",\"4.98\",\"4.99\",\"5.0\",\"5.01\",\"5.02\",\"5.03\",\"5.04\",\"5.05\",\"5.06\",\"5.07\",\"5.08\",\"5.09\",\"5.1\",\"5.11\",\"5.12\",\"5.13\",\"5.14\",\"5.15\",\"5.16\",\"5.17\",\"5.18\",\"5.19\",\"5.2\",\"5.21\",\"5.22\",\"5.23\",\"5.24\",\"5.25\",\"5.26\",\"5.27\",\"5.28\",\"5.29\",\"5.3\",\"5.31\",\"5.32\",\"5.33\",\"5.34\",\"5.35\",\"5.36\",\"5.37\",\"5.38\",\"5.39\",\"5.4\",\"5.41\",\"5.42\",\"5.43\",\"5.44\",\"5.45\",\"5.46\",\"5.47\",\"5.48\",\"5.49\",\"5.5\",\"5.51\",\"5.52\",\"5.53\",\"5.54\",\"5.55\",\"5.56\",\"5.57\",\"5.58\",\"5.59\",\"5.6\",\"5.61\",\"5.62\",\"5.63\",\"5.64\",\"5.65\",\"5.66\",\"5.67\",\"5.68\",\"5.69\",\"5.7\",\"5.71\",\"5.72\",\"5.73\",\"5.74\",\"5.75\",\"5.76\",\"5.77\",\"5.78\",\"5.79\",\"5.8\",\"5.81\",\"5.82\",\"5.83\",\"5.84\",\"5.85\",\"5.86\",\"5.87\",\"5.88\",\"5.89\",\"5.9\",\"5.91\",\"5.92\",\"5.93\",\"5.94\",\"5.95\",\"5.96\",\"5.97\",\"5.98\",\"5.99\",\"6.0\",\"6.01\",\"6.02\",\"6.03\",\"6.04\",\"6.05\",\"6.06\",\"6.07\",\"6.08\",\"6.09\",\"6.1\",\"6.11\",\"6.12\",\"6.13\",\"6.14\",\"6.15\",\"6.16\",\"6.17\",\"6.18\",\"6.19\",\"6.2\",\"6.21\",\"6.22\",\"6.23\",\"6.24\",\"6.25\",\"6.26\",\"6.27\",\"6.28\",\"6.29\",\"6.3\",\"6.31\",\"6.32\",\"6.33\",\"6.34\",\"6.35\",\"6.36\",\"6.37\",\"6.38\",\"6.39\",\"6.4\",\"6.41\",\"6.42\",\"6.43\",\"6.44\",\"6.45\",\"6.46\",\"6.47\",\"6.48\",\"6.49\",\"6.5\",\"6.51\",\"6.52\",\"6.53\",\"6.54\",\"6.55\",\"6.56\",\"6.57\",\"6.58\",\"6.59\",\"6.6\",\"6.61\",\"6.62\",\"6.63\",\"6.64\",\"6.65\",\"6.66\",\"6.67\",\"6.68\",\"6.69\",\"6.7\",\"6.71\",\"6.72\",\"6.73\",\"6.74\",\"6.75\",\"6.76\",\"6.77\",\"6.78\",\"6.79\",\"6.8\",\"6.81\",\"6.82\",\"6.83\",\"6.84\",\"6.85\",\"6.86\",\"6.87\",\"6.88\",\"6.89\",\"6.9\",\"6.91\",\"6.92\",\"6.93\",\"6.94\",\"6.95\",\"6.96\",\"6.97\",\"6.98\",\"6.99\",\"7.0\",\"7.01\",\"7.02\",\"7.03\",\"7.04\",\"7.05\",\"7.06\",\"7.07\",\"7.08\",\"7.09\",\"7.1\",\"7.11\",\"7.12\",\"7.13\",\"7.14\",\"7.15\",\"7.16\",\"7.17\",\"7.18\",\"7.19\",\"7.2\",\"7.21\",\"7.22\",\"7.23\",\"7.24\",\"7.25\",\"7.26\",\"7.27\",\"7.28\",\"7.29\",\"7.3\",\"7.31\",\"7.32\",\"7.33\",\"7.34\",\"7.35\",\"7.36\",\"7.37\",\"7.38\",\"7.39\",\"7.4\",\"7.41\",\"7.42\",\"7.43\",\"7.44\",\"7.45\",\"7.46\",\"7.47\",\"7.48\",\"7.49\",\"7.5\",\"7.51\",\"7.52\",\"7.53\",\"7.54\",\"7.55\",\"7.56\",\"7.57\",\"7.58\",\"7.59\",\"7.6\",\"7.61\",\"7.62\",\"7.63\",\"7.64\",\"7.65\",\"7.66\",\"7.67\",\"7.68\",\"7.69\",\"7.7\",\"7.71\",\"7.72\",\"7.73\",\"7.74\",\"7.75\",\"7.76\",\"7.77\",\"7.78\",\"7.79\",\"7.8\",\"7.81\",\"7.82\",\"7.83\",\"7.84\",\"7.85\",\"7.86\",\"7.87\",\"7.88\",\"7.89\",\"7.9\",\"7.91\",\"7.92\",\"7.93\",\"7.94\",\"7.95\",\"7.96\",\"7.97\",\"7.98\",\"7.99\",\"8.0\",\"8.01\",\"8.02\",\"8.03\",\"8.04\",\"8.05\",\"8.06\",\"8.07\",\"8.08\",\"8.09\",\"8.1\",\"8.11\",\"8.12\",\"8.13\",\"8.14\",\"8.15\",\"8.16\",\"8.17\",\"8.18\",\"8.19\",\"8.2\",\"8.21\",\"8.22\",\"8.23\",\"8.24\",\"8.25\",\"8.26\",\"8.27\",\"8.28\",\"8.29\",\"8.3\",\"8.31\",\"8.32\",\"8.33\",\"8.34\",\"8.35\",\"8.36\",\"8.37\",\"8.38\",\"8.39\",\"8.4\",\"8.41\",\"8.42\",\"8.43\",\"8.44\",\"8.45\",\"8.46\",\"8.47\",\"8.48\",\"8.49\",\"8.5\",\"8.51\",\"8.52\",\"8.53\",\"8.54\",\"8.55\",\"8.56\",\"8.57\",\"8.58\",\"8.59\",\"8.6\",\"8.61\",\"8.62\",\"8.63\",\"8.64\",\"8.65\",\"8.66\",\"8.67\",\"8.68\",\"8.69\",\"8.7\",\"8.71\",\"8.72\",\"8.73\",\"8.74\",\"8.75\",\"8.76\",\"8.77\",\"8.78\",\"8.79\",\"8.8\",\"8.81\",\"8.82\",\"8.83\",\"8.84\",\"8.85\",\"8.86\",\"8.87\",\"8.88\",\"8.89\",\"8.9\",\"8.91\",\"8.92\",\"8.93\",\"8.94\",\"8.95\",\"8.96\",\"8.97\",\"8.98\",\"8.99\",\"9.0\",\"9.01\",\"9.02\",\"9.03\",\"9.04\",\"9.05\",\"9.06\",\"9.07\",\"9.08\",\"9.09\",\"9.1\",\"9.11\",\"9.12\",\"9.13\",\"9.14\",\"9.15\",\"9.16\",\"9.17\",\"9.18\",\"9.19\",\"9.2\",\"9.21\",\"9.22\",\"9.23\",\"9.24\",\"9.25\",\"9.26\",\"9.27\",\"9.28\",\"9.29\",\"9.3\",\"9.31\",\"9.32\",\"9.33\",\"9.34\",\"9.35\",\"9.36\",\"9.37\",\"9.38\",\"9.39\",\"9.4\",\"9.41\",\"9.42\",\"9.43\",\"9.44\",\"9.45\",\"9.46\",\"9.47\",\"9.48\",\"9.49\",\"9.5\",\"9.51\",\"9.52\",\"9.53\",\"9.54\",\"9.55\",\"9.56\",\"9.57\",\"9.58\",\"9.59\",\"9.6\",\"9.61\",\"9.62\",\"9.63\",\"9.64\",\"9.65\",\"9.66\",\"9.67\",\"9.68\",\"9.69\",\"9.7\",\"9.71\",\"9.72\",\"9.73\",\"9.74\",\"9.75\",\"9.76\",\"9.77\",\"9.78\",\"9.79\",\"9.8\",\"9.81\",\"9.82\",\"9.83\",\"9.84\",\"9.85\",\"9.86\",\"9.87\",\"9.88\",\"9.89\",\"9.9\",\"9.91\",\"9.92\",\"9.93\",\"9.94\",\"9.95\",\"9.96\",\"9.97\",\"9.98\",\"9.99\",\"10.0\"],\"changes\":WebIO.getval({\"name\":\"changes\",\"scope\":\"11878974999193548570\",\"id\":\"ob_57\",\"type\":\"observable\"}),\"index\":WebIO.getval({\"name\":\"index\",\"scope\":\"11878974999193548570\",\"id\":\"ob_56\",\"type\":\"observable\"})};\n    var self = this;\n    function AppViewModel() {\n        for (var key in json_data) {\n            var el = json_data[key];\n            this[key] = Array.isArray(el) ? ko.observableArray(el) : ko.observable(el);\n        }\n        \n        [this[\"formatted_val\"]=ko.computed(    function(){\n        return this.formatted_vals()[parseInt(this.index())-(1)];\n    }\n,this)]\n        [this[\"changes\"].subscribe((function (val){!(this.valueFromJulia[\"changes\"]) ? (WebIO.setval({\"name\":\"changes\",\"scope\":\"11878974999193548570\",\"id\":\"ob_57\",\"type\":\"observable\"},val)) : undefined; return this.valueFromJulia[\"changes\"]=false}),self),this[\"index\"].subscribe((function (val){!(this.valueFromJulia[\"index\"]) ? (WebIO.setval({\"name\":\"index\",\"scope\":\"11878974999193548570\",\"id\":\"ob_56\",\"type\":\"observable\"},val)) : undefined; return this.valueFromJulia[\"index\"]=false}),self)]\n        \n    }\n    self.model = new AppViewModel();\n    self.valueFromJulia = {};\n    for (var key in json_data) {\n        self.valueFromJulia[key] = false;\n    }\n    ko.applyBindings(self.model, self.dom);\n}\n);\n    (WebIO.importBlock({\"data\":[{\"name\":\"knockout\",\"type\":\"js\",\"url\":\"/assetserver/bd369c9f3f65592d9de5e32611a3bd7919ce27e4-knockout.js\"},{\"name\":\"knockout_punches\",\"type\":\"js\",\"url\":\"/assetserver/3b50d12153ead1bb599ff862de1cdc44df7d6b87-knockout_punches.js\"}],\"type\":\"async_block\"})).then((imports) => handler.apply(this, imports));\n}\n"
            ],
            "observables": {
             "changes": {
              "id": "ob_57",
              "sync": false,
              "value": 0
             },
             "index": {
              "id": "ob_56",
              "sync": true,
              "value": 91
             }
            },
            "systemjs_options": null
           },
           "nodeType": "Scope",
           "props": {},
           "type": "node"
          }
         ],
         "instanceArgs": {
          "namespace": "html",
          "tag": "div"
         },
         "nodeType": "DOM",
         "props": {
          "className": "field interact-widget"
         },
         "type": "node"
        },
        {
         "children": [
          {
           "children": [
            {
             "children": [
              {
               "children": [
                {
                 "children": [
                  "r2"
                 ],
                 "instanceArgs": {
                  "namespace": "html",
                  "tag": "label"
                 },
                 "nodeType": "DOM",
                 "props": {
                  "className": "interact ",
                  "style": {
                   "padding": "5px 10px 0px 10px"
                  }
                 },
                 "type": "node"
                }
               ],
               "instanceArgs": {
                "namespace": "html",
                "tag": "div"
               },
               "nodeType": "DOM",
               "props": {
                "className": "interact-flex-row-left"
               },
               "type": "node"
              },
              {
               "children": [
                {
                 "children": [],
                 "instanceArgs": {
                  "namespace": "html",
                  "tag": "input"
                 },
                 "nodeType": "DOM",
                 "props": {
                  "attributes": {
                   "data-bind": "numericValue: index, valueUpdate: 'input', event: {change: function (){this.changes(this.changes()+1)}}",
                   "orient": "horizontal",
                   "type": "range"
                  },
                  "className": "slider slider is-fullwidth",
                  "max": 991,
                  "min": 1,
                  "step": 1,
                  "style": {}
                 },
                 "type": "node"
                }
               ],
               "instanceArgs": {
                "namespace": "html",
                "tag": "div"
               },
               "nodeType": "DOM",
               "props": {
                "className": "interact-flex-row-center"
               },
               "type": "node"
              },
              {
               "children": [
                {
                 "children": [],
                 "instanceArgs": {
                  "namespace": "html",
                  "tag": "p"
                 },
                 "nodeType": "DOM",
                 "props": {
                  "attributes": {
                   "data-bind": "text: formatted_val"
                  }
                 },
                 "type": "node"
                }
               ],
               "instanceArgs": {
                "namespace": "html",
                "tag": "div"
               },
               "nodeType": "DOM",
               "props": {
                "className": "interact-flex-row-right"
               },
               "type": "node"
              }
             ],
             "instanceArgs": {
              "namespace": "html",
              "tag": "div"
             },
             "nodeType": "DOM",
             "props": {
              "className": "interact-flex-row interact-widget"
             },
             "type": "node"
            }
           ],
           "instanceArgs": {
            "handlers": {
             "changes": [
              "(function (val){return (val!=this.model[\"changes\"]()) ? (this.valueFromJulia[\"changes\"]=true, this.model[\"changes\"](val)) : undefined})"
             ],
             "index": [
              "(function (val){return (val!=this.model[\"index\"]()) ? (this.valueFromJulia[\"index\"]=true, this.model[\"index\"](val)) : undefined})"
             ]
            },
            "id": "10647274643376008625",
            "imports": {
             "data": [
              {
               "name": "knockout",
               "type": "js",
               "url": "/assetserver/bd369c9f3f65592d9de5e32611a3bd7919ce27e4-knockout.js"
              },
              {
               "name": "knockout_punches",
               "type": "js",
               "url": "/assetserver/3b50d12153ead1bb599ff862de1cdc44df7d6b87-knockout_punches.js"
              },
              {
               "name": null,
               "type": "js",
               "url": "/assetserver/aa3951d9fb8679dff984ddfbf8b5e84bb80c8a32-all.js"
              },
              {
               "name": null,
               "type": "css",
               "url": "/assetserver/4d4e4f0d7e5786bcd65343de06f7537c7cc0439b-style.css"
              },
              {
               "name": null,
               "type": "css",
               "url": "/assetserver/29cbe869a436f8975bf1b635e657ff2c60889af7-bulma_confined.min.css"
              }
             ],
             "type": "async_block"
            },
            "mount_callbacks": [
             "function () {\n    var handler = (function (ko, koPunches) {\n    ko.punches.enableAll();\n    ko.bindingHandlers.numericValue = {\n        init: function(element, valueAccessor, allBindings, data, context) {\n            var stringified = ko.observable(ko.unwrap(valueAccessor()));\n            stringified.subscribe(function(value) {\n                var val = parseFloat(value);\n                if (!isNaN(val)) {\n                    valueAccessor()(val);\n                }\n            });\n            valueAccessor().subscribe(function(value) {\n                var str = JSON.stringify(value);\n                if ((str == \"0\") && ([\"-0\", \"-0.\"].indexOf(stringified()) >= 0))\n                     return;\n                 if ([\"null\", \"\"].indexOf(str) >= 0)\n                     return;\n                stringified(str);\n            });\n            ko.applyBindingsToNode(\n                element,\n                {\n                    value: stringified,\n                    valueUpdate: allBindings.get('valueUpdate'),\n                },\n                context,\n            );\n        }\n    };\n    var json_data = {\"formatted_vals\":[\"0.1\",\"0.11\",\"0.12\",\"0.13\",\"0.14\",\"0.15\",\"0.16\",\"0.17\",\"0.18\",\"0.19\",\"0.2\",\"0.21\",\"0.22\",\"0.23\",\"0.24\",\"0.25\",\"0.26\",\"0.27\",\"0.28\",\"0.29\",\"0.3\",\"0.31\",\"0.32\",\"0.33\",\"0.34\",\"0.35\",\"0.36\",\"0.37\",\"0.38\",\"0.39\",\"0.4\",\"0.41\",\"0.42\",\"0.43\",\"0.44\",\"0.45\",\"0.46\",\"0.47\",\"0.48\",\"0.49\",\"0.5\",\"0.51\",\"0.52\",\"0.53\",\"0.54\",\"0.55\",\"0.56\",\"0.57\",\"0.58\",\"0.59\",\"0.6\",\"0.61\",\"0.62\",\"0.63\",\"0.64\",\"0.65\",\"0.66\",\"0.67\",\"0.68\",\"0.69\",\"0.7\",\"0.71\",\"0.72\",\"0.73\",\"0.74\",\"0.75\",\"0.76\",\"0.77\",\"0.78\",\"0.79\",\"0.8\",\"0.81\",\"0.82\",\"0.83\",\"0.84\",\"0.85\",\"0.86\",\"0.87\",\"0.88\",\"0.89\",\"0.9\",\"0.91\",\"0.92\",\"0.93\",\"0.94\",\"0.95\",\"0.96\",\"0.97\",\"0.98\",\"0.99\",\"1.0\",\"1.01\",\"1.02\",\"1.03\",\"1.04\",\"1.05\",\"1.06\",\"1.07\",\"1.08\",\"1.09\",\"1.1\",\"1.11\",\"1.12\",\"1.13\",\"1.14\",\"1.15\",\"1.16\",\"1.17\",\"1.18\",\"1.19\",\"1.2\",\"1.21\",\"1.22\",\"1.23\",\"1.24\",\"1.25\",\"1.26\",\"1.27\",\"1.28\",\"1.29\",\"1.3\",\"1.31\",\"1.32\",\"1.33\",\"1.34\",\"1.35\",\"1.36\",\"1.37\",\"1.38\",\"1.39\",\"1.4\",\"1.41\",\"1.42\",\"1.43\",\"1.44\",\"1.45\",\"1.46\",\"1.47\",\"1.48\",\"1.49\",\"1.5\",\"1.51\",\"1.52\",\"1.53\",\"1.54\",\"1.55\",\"1.56\",\"1.57\",\"1.58\",\"1.59\",\"1.6\",\"1.61\",\"1.62\",\"1.63\",\"1.64\",\"1.65\",\"1.66\",\"1.67\",\"1.68\",\"1.69\",\"1.7\",\"1.71\",\"1.72\",\"1.73\",\"1.74\",\"1.75\",\"1.76\",\"1.77\",\"1.78\",\"1.79\",\"1.8\",\"1.81\",\"1.82\",\"1.83\",\"1.84\",\"1.85\",\"1.86\",\"1.87\",\"1.88\",\"1.89\",\"1.9\",\"1.91\",\"1.92\",\"1.93\",\"1.94\",\"1.95\",\"1.96\",\"1.97\",\"1.98\",\"1.99\",\"2.0\",\"2.01\",\"2.02\",\"2.03\",\"2.04\",\"2.05\",\"2.06\",\"2.07\",\"2.08\",\"2.09\",\"2.1\",\"2.11\",\"2.12\",\"2.13\",\"2.14\",\"2.15\",\"2.16\",\"2.17\",\"2.18\",\"2.19\",\"2.2\",\"2.21\",\"2.22\",\"2.23\",\"2.24\",\"2.25\",\"2.26\",\"2.27\",\"2.28\",\"2.29\",\"2.3\",\"2.31\",\"2.32\",\"2.33\",\"2.34\",\"2.35\",\"2.36\",\"2.37\",\"2.38\",\"2.39\",\"2.4\",\"2.41\",\"2.42\",\"2.43\",\"2.44\",\"2.45\",\"2.46\",\"2.47\",\"2.48\",\"2.49\",\"2.5\",\"2.51\",\"2.52\",\"2.53\",\"2.54\",\"2.55\",\"2.56\",\"2.57\",\"2.58\",\"2.59\",\"2.6\",\"2.61\",\"2.62\",\"2.63\",\"2.64\",\"2.65\",\"2.66\",\"2.67\",\"2.68\",\"2.69\",\"2.7\",\"2.71\",\"2.72\",\"2.73\",\"2.74\",\"2.75\",\"2.76\",\"2.77\",\"2.78\",\"2.79\",\"2.8\",\"2.81\",\"2.82\",\"2.83\",\"2.84\",\"2.85\",\"2.86\",\"2.87\",\"2.88\",\"2.89\",\"2.9\",\"2.91\",\"2.92\",\"2.93\",\"2.94\",\"2.95\",\"2.96\",\"2.97\",\"2.98\",\"2.99\",\"3.0\",\"3.01\",\"3.02\",\"3.03\",\"3.04\",\"3.05\",\"3.06\",\"3.07\",\"3.08\",\"3.09\",\"3.1\",\"3.11\",\"3.12\",\"3.13\",\"3.14\",\"3.15\",\"3.16\",\"3.17\",\"3.18\",\"3.19\",\"3.2\",\"3.21\",\"3.22\",\"3.23\",\"3.24\",\"3.25\",\"3.26\",\"3.27\",\"3.28\",\"3.29\",\"3.3\",\"3.31\",\"3.32\",\"3.33\",\"3.34\",\"3.35\",\"3.36\",\"3.37\",\"3.38\",\"3.39\",\"3.4\",\"3.41\",\"3.42\",\"3.43\",\"3.44\",\"3.45\",\"3.46\",\"3.47\",\"3.48\",\"3.49\",\"3.5\",\"3.51\",\"3.52\",\"3.53\",\"3.54\",\"3.55\",\"3.56\",\"3.57\",\"3.58\",\"3.59\",\"3.6\",\"3.61\",\"3.62\",\"3.63\",\"3.64\",\"3.65\",\"3.66\",\"3.67\",\"3.68\",\"3.69\",\"3.7\",\"3.71\",\"3.72\",\"3.73\",\"3.74\",\"3.75\",\"3.76\",\"3.77\",\"3.78\",\"3.79\",\"3.8\",\"3.81\",\"3.82\",\"3.83\",\"3.84\",\"3.85\",\"3.86\",\"3.87\",\"3.88\",\"3.89\",\"3.9\",\"3.91\",\"3.92\",\"3.93\",\"3.94\",\"3.95\",\"3.96\",\"3.97\",\"3.98\",\"3.99\",\"4.0\",\"4.01\",\"4.02\",\"4.03\",\"4.04\",\"4.05\",\"4.06\",\"4.07\",\"4.08\",\"4.09\",\"4.1\",\"4.11\",\"4.12\",\"4.13\",\"4.14\",\"4.15\",\"4.16\",\"4.17\",\"4.18\",\"4.19\",\"4.2\",\"4.21\",\"4.22\",\"4.23\",\"4.24\",\"4.25\",\"4.26\",\"4.27\",\"4.28\",\"4.29\",\"4.3\",\"4.31\",\"4.32\",\"4.33\",\"4.34\",\"4.35\",\"4.36\",\"4.37\",\"4.38\",\"4.39\",\"4.4\",\"4.41\",\"4.42\",\"4.43\",\"4.44\",\"4.45\",\"4.46\",\"4.47\",\"4.48\",\"4.49\",\"4.5\",\"4.51\",\"4.52\",\"4.53\",\"4.54\",\"4.55\",\"4.56\",\"4.57\",\"4.58\",\"4.59\",\"4.6\",\"4.61\",\"4.62\",\"4.63\",\"4.64\",\"4.65\",\"4.66\",\"4.67\",\"4.68\",\"4.69\",\"4.7\",\"4.71\",\"4.72\",\"4.73\",\"4.74\",\"4.75\",\"4.76\",\"4.77\",\"4.78\",\"4.79\",\"4.8\",\"4.81\",\"4.82\",\"4.83\",\"4.84\",\"4.85\",\"4.86\",\"4.87\",\"4.88\",\"4.89\",\"4.9\",\"4.91\",\"4.92\",\"4.93\",\"4.94\",\"4.95\",\"4.96\",\"4.97\",\"4.98\",\"4.99\",\"5.0\",\"5.01\",\"5.02\",\"5.03\",\"5.04\",\"5.05\",\"5.06\",\"5.07\",\"5.08\",\"5.09\",\"5.1\",\"5.11\",\"5.12\",\"5.13\",\"5.14\",\"5.15\",\"5.16\",\"5.17\",\"5.18\",\"5.19\",\"5.2\",\"5.21\",\"5.22\",\"5.23\",\"5.24\",\"5.25\",\"5.26\",\"5.27\",\"5.28\",\"5.29\",\"5.3\",\"5.31\",\"5.32\",\"5.33\",\"5.34\",\"5.35\",\"5.36\",\"5.37\",\"5.38\",\"5.39\",\"5.4\",\"5.41\",\"5.42\",\"5.43\",\"5.44\",\"5.45\",\"5.46\",\"5.47\",\"5.48\",\"5.49\",\"5.5\",\"5.51\",\"5.52\",\"5.53\",\"5.54\",\"5.55\",\"5.56\",\"5.57\",\"5.58\",\"5.59\",\"5.6\",\"5.61\",\"5.62\",\"5.63\",\"5.64\",\"5.65\",\"5.66\",\"5.67\",\"5.68\",\"5.69\",\"5.7\",\"5.71\",\"5.72\",\"5.73\",\"5.74\",\"5.75\",\"5.76\",\"5.77\",\"5.78\",\"5.79\",\"5.8\",\"5.81\",\"5.82\",\"5.83\",\"5.84\",\"5.85\",\"5.86\",\"5.87\",\"5.88\",\"5.89\",\"5.9\",\"5.91\",\"5.92\",\"5.93\",\"5.94\",\"5.95\",\"5.96\",\"5.97\",\"5.98\",\"5.99\",\"6.0\",\"6.01\",\"6.02\",\"6.03\",\"6.04\",\"6.05\",\"6.06\",\"6.07\",\"6.08\",\"6.09\",\"6.1\",\"6.11\",\"6.12\",\"6.13\",\"6.14\",\"6.15\",\"6.16\",\"6.17\",\"6.18\",\"6.19\",\"6.2\",\"6.21\",\"6.22\",\"6.23\",\"6.24\",\"6.25\",\"6.26\",\"6.27\",\"6.28\",\"6.29\",\"6.3\",\"6.31\",\"6.32\",\"6.33\",\"6.34\",\"6.35\",\"6.36\",\"6.37\",\"6.38\",\"6.39\",\"6.4\",\"6.41\",\"6.42\",\"6.43\",\"6.44\",\"6.45\",\"6.46\",\"6.47\",\"6.48\",\"6.49\",\"6.5\",\"6.51\",\"6.52\",\"6.53\",\"6.54\",\"6.55\",\"6.56\",\"6.57\",\"6.58\",\"6.59\",\"6.6\",\"6.61\",\"6.62\",\"6.63\",\"6.64\",\"6.65\",\"6.66\",\"6.67\",\"6.68\",\"6.69\",\"6.7\",\"6.71\",\"6.72\",\"6.73\",\"6.74\",\"6.75\",\"6.76\",\"6.77\",\"6.78\",\"6.79\",\"6.8\",\"6.81\",\"6.82\",\"6.83\",\"6.84\",\"6.85\",\"6.86\",\"6.87\",\"6.88\",\"6.89\",\"6.9\",\"6.91\",\"6.92\",\"6.93\",\"6.94\",\"6.95\",\"6.96\",\"6.97\",\"6.98\",\"6.99\",\"7.0\",\"7.01\",\"7.02\",\"7.03\",\"7.04\",\"7.05\",\"7.06\",\"7.07\",\"7.08\",\"7.09\",\"7.1\",\"7.11\",\"7.12\",\"7.13\",\"7.14\",\"7.15\",\"7.16\",\"7.17\",\"7.18\",\"7.19\",\"7.2\",\"7.21\",\"7.22\",\"7.23\",\"7.24\",\"7.25\",\"7.26\",\"7.27\",\"7.28\",\"7.29\",\"7.3\",\"7.31\",\"7.32\",\"7.33\",\"7.34\",\"7.35\",\"7.36\",\"7.37\",\"7.38\",\"7.39\",\"7.4\",\"7.41\",\"7.42\",\"7.43\",\"7.44\",\"7.45\",\"7.46\",\"7.47\",\"7.48\",\"7.49\",\"7.5\",\"7.51\",\"7.52\",\"7.53\",\"7.54\",\"7.55\",\"7.56\",\"7.57\",\"7.58\",\"7.59\",\"7.6\",\"7.61\",\"7.62\",\"7.63\",\"7.64\",\"7.65\",\"7.66\",\"7.67\",\"7.68\",\"7.69\",\"7.7\",\"7.71\",\"7.72\",\"7.73\",\"7.74\",\"7.75\",\"7.76\",\"7.77\",\"7.78\",\"7.79\",\"7.8\",\"7.81\",\"7.82\",\"7.83\",\"7.84\",\"7.85\",\"7.86\",\"7.87\",\"7.88\",\"7.89\",\"7.9\",\"7.91\",\"7.92\",\"7.93\",\"7.94\",\"7.95\",\"7.96\",\"7.97\",\"7.98\",\"7.99\",\"8.0\",\"8.01\",\"8.02\",\"8.03\",\"8.04\",\"8.05\",\"8.06\",\"8.07\",\"8.08\",\"8.09\",\"8.1\",\"8.11\",\"8.12\",\"8.13\",\"8.14\",\"8.15\",\"8.16\",\"8.17\",\"8.18\",\"8.19\",\"8.2\",\"8.21\",\"8.22\",\"8.23\",\"8.24\",\"8.25\",\"8.26\",\"8.27\",\"8.28\",\"8.29\",\"8.3\",\"8.31\",\"8.32\",\"8.33\",\"8.34\",\"8.35\",\"8.36\",\"8.37\",\"8.38\",\"8.39\",\"8.4\",\"8.41\",\"8.42\",\"8.43\",\"8.44\",\"8.45\",\"8.46\",\"8.47\",\"8.48\",\"8.49\",\"8.5\",\"8.51\",\"8.52\",\"8.53\",\"8.54\",\"8.55\",\"8.56\",\"8.57\",\"8.58\",\"8.59\",\"8.6\",\"8.61\",\"8.62\",\"8.63\",\"8.64\",\"8.65\",\"8.66\",\"8.67\",\"8.68\",\"8.69\",\"8.7\",\"8.71\",\"8.72\",\"8.73\",\"8.74\",\"8.75\",\"8.76\",\"8.77\",\"8.78\",\"8.79\",\"8.8\",\"8.81\",\"8.82\",\"8.83\",\"8.84\",\"8.85\",\"8.86\",\"8.87\",\"8.88\",\"8.89\",\"8.9\",\"8.91\",\"8.92\",\"8.93\",\"8.94\",\"8.95\",\"8.96\",\"8.97\",\"8.98\",\"8.99\",\"9.0\",\"9.01\",\"9.02\",\"9.03\",\"9.04\",\"9.05\",\"9.06\",\"9.07\",\"9.08\",\"9.09\",\"9.1\",\"9.11\",\"9.12\",\"9.13\",\"9.14\",\"9.15\",\"9.16\",\"9.17\",\"9.18\",\"9.19\",\"9.2\",\"9.21\",\"9.22\",\"9.23\",\"9.24\",\"9.25\",\"9.26\",\"9.27\",\"9.28\",\"9.29\",\"9.3\",\"9.31\",\"9.32\",\"9.33\",\"9.34\",\"9.35\",\"9.36\",\"9.37\",\"9.38\",\"9.39\",\"9.4\",\"9.41\",\"9.42\",\"9.43\",\"9.44\",\"9.45\",\"9.46\",\"9.47\",\"9.48\",\"9.49\",\"9.5\",\"9.51\",\"9.52\",\"9.53\",\"9.54\",\"9.55\",\"9.56\",\"9.57\",\"9.58\",\"9.59\",\"9.6\",\"9.61\",\"9.62\",\"9.63\",\"9.64\",\"9.65\",\"9.66\",\"9.67\",\"9.68\",\"9.69\",\"9.7\",\"9.71\",\"9.72\",\"9.73\",\"9.74\",\"9.75\",\"9.76\",\"9.77\",\"9.78\",\"9.79\",\"9.8\",\"9.81\",\"9.82\",\"9.83\",\"9.84\",\"9.85\",\"9.86\",\"9.87\",\"9.88\",\"9.89\",\"9.9\",\"9.91\",\"9.92\",\"9.93\",\"9.94\",\"9.95\",\"9.96\",\"9.97\",\"9.98\",\"9.99\",\"10.0\"],\"changes\":WebIO.getval({\"name\":\"changes\",\"scope\":\"10647274643376008625\",\"id\":\"ob_60\",\"type\":\"observable\"}),\"index\":WebIO.getval({\"name\":\"index\",\"scope\":\"10647274643376008625\",\"id\":\"ob_59\",\"type\":\"observable\"})};\n    var self = this;\n    function AppViewModel() {\n        for (var key in json_data) {\n            var el = json_data[key];\n            this[key] = Array.isArray(el) ? ko.observableArray(el) : ko.observable(el);\n        }\n        \n        [this[\"formatted_val\"]=ko.computed(    function(){\n        return this.formatted_vals()[parseInt(this.index())-(1)];\n    }\n,this)]\n        [this[\"changes\"].subscribe((function (val){!(this.valueFromJulia[\"changes\"]) ? (WebIO.setval({\"name\":\"changes\",\"scope\":\"10647274643376008625\",\"id\":\"ob_60\",\"type\":\"observable\"},val)) : undefined; return this.valueFromJulia[\"changes\"]=false}),self),this[\"index\"].subscribe((function (val){!(this.valueFromJulia[\"index\"]) ? (WebIO.setval({\"name\":\"index\",\"scope\":\"10647274643376008625\",\"id\":\"ob_59\",\"type\":\"observable\"},val)) : undefined; return this.valueFromJulia[\"index\"]=false}),self)]\n        \n    }\n    self.model = new AppViewModel();\n    self.valueFromJulia = {};\n    for (var key in json_data) {\n        self.valueFromJulia[key] = false;\n    }\n    ko.applyBindings(self.model, self.dom);\n}\n);\n    (WebIO.importBlock({\"data\":[{\"name\":\"knockout\",\"type\":\"js\",\"url\":\"/assetserver/bd369c9f3f65592d9de5e32611a3bd7919ce27e4-knockout.js\"},{\"name\":\"knockout_punches\",\"type\":\"js\",\"url\":\"/assetserver/3b50d12153ead1bb599ff862de1cdc44df7d6b87-knockout_punches.js\"}],\"type\":\"async_block\"})).then((imports) => handler.apply(this, imports));\n}\n"
            ],
            "observables": {
             "changes": {
              "id": "ob_60",
              "sync": false,
              "value": 0
             },
             "index": {
              "id": "ob_59",
              "sync": true,
              "value": 191
             }
            },
            "systemjs_options": null
           },
           "nodeType": "Scope",
           "props": {},
           "type": "node"
          }
         ],
         "instanceArgs": {
          "namespace": "html",
          "tag": "div"
         },
         "nodeType": "DOM",
         "props": {
          "className": "field interact-widget"
         },
         "type": "node"
        },
        {
         "children": [
          {
           "children": [],
           "instanceArgs": {
            "id": "ob_66",
            "name": "obs-node"
           },
           "nodeType": "ObservableNode",
           "props": {},
           "type": "node"
          }
         ],
         "instanceArgs": {
          "handlers": {},
          "id": "16510058086476177725",
          "imports": {
           "data": [],
           "type": "async_block"
          },
          "mount_callbacks": [],
          "observables": {
           "obs-node": {
            "id": "ob_66",
            "sync": false,
            "value": {
             "children": [
              {
               "children": [],
               "instanceArgs": {
                "namespace": "html",
                "tag": "div"
               },
               "nodeType": "DOM",
               "props": {
                "setInnerHtml": "<img src='data:image/png;base64,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'></img>"
               },
               "type": "node"
              }
             ],
             "instanceArgs": {
              "namespace": "html",
              "tag": "div"
             },
             "nodeType": "DOM",
             "props": {
              "className": "interact-flex-row interact-widget"
             },
             "type": "node"
            }
           }
          },
          "systemjs_options": null
         },
         "nodeType": "Scope",
         "props": {},
         "type": "node"
        }
       ],
       "instanceArgs": {
        "namespace": "html",
        "tag": "div"
       },
       "nodeType": "DOM",
       "props": {},
       "type": "node"
      },
      "text/html": [
       "<div\n",
       "    class=\"webio-mountpoint\"\n",
       "    data-webio-mountpoint=\"17498327555768521166\"\n",
       ">\n",
       "    <script>\n",
       "    if (window.require && require.defined && require.defined(\"nbextensions/webio-jupyter-notebook\")) {\n",
       "        console.log(\"Jupyter WebIO extension detected, not mounting.\");\n",
       "    } else if (window.WebIO) {\n",
       "        WebIO.mount(\n",
       "            document.querySelector('[data-webio-mountpoint=\"17498327555768521166\"]'),\n",
       "            {\"props\":{},\"nodeType\":\"DOM\",\"type\":\"node\",\"instanceArgs\":{\"namespace\":\"html\",\"tag\":\"div\"},\"children\":[{\"props\":{\"className\":\"field interact-widget\"},\"nodeType\":\"DOM\",\"type\":\"node\",\"instanceArgs\":{\"namespace\":\"html\",\"tag\":\"div\"},\"children\":[{\"props\":{},\"nodeType\":\"Scope\",\"type\":\"node\",\"instanceArgs\":{\"imports\":{\"data\":[{\"name\":\"knockout\",\"type\":\"js\",\"url\":\"\\/assetserver\\/bd369c9f3f65592d9de5e32611a3bd7919ce27e4-knockout.js\"},{\"name\":\"knockout_punches\",\"type\":\"js\",\"url\":\"\\/assetserver\\/3b50d12153ead1bb599ff862de1cdc44df7d6b87-knockout_punches.js\"},{\"name\":null,\"type\":\"js\",\"url\":\"\\/assetserver\\/aa3951d9fb8679dff984ddfbf8b5e84bb80c8a32-all.js\"},{\"name\":null,\"type\":\"css\",\"url\":\"\\/assetserver\\/4d4e4f0d7e5786bcd65343de06f7537c7cc0439b-style.css\"},{\"name\":null,\"type\":\"css\",\"url\":\"\\/assetserver\\/29cbe869a436f8975bf1b635e657ff2c60889af7-bulma_confined.min.css\"}],\"type\":\"async_block\"},\"id\":\"15777858450175548464\",\"handlers\":{\"changes\":[\"(function (val){return (val!=this.model[\\\"changes\\\"]()) ? (this.valueFromJulia[\\\"changes\\\"]=true, this.model[\\\"changes\\\"](val)) : undefined})\"],\"index\":[\"(function (val){return (val!=this.model[\\\"index\\\"]()) ? (this.valueFromJulia[\\\"index\\\"]=true, this.model[\\\"index\\\"](val)) : undefined})\"]},\"systemjs_options\":null,\"mount_callbacks\":[\"function () {\\n    var handler = (function (ko, koPunches) {\\n    ko.punches.enableAll();\\n    ko.bindingHandlers.numericValue = {\\n        init: function(element, valueAccessor, allBindings, data, context) {\\n            var stringified = ko.observable(ko.unwrap(valueAccessor()));\\n            stringified.subscribe(function(value) {\\n                var val = parseFloat(value);\\n                if (!isNaN(val)) {\\n                    valueAccessor()(val);\\n                }\\n            });\\n            valueAccessor().subscribe(function(value) {\\n                var str = JSON.stringify(value);\\n                if ((str == \\\"0\\\") && ([\\\"-0\\\", \\\"-0.\\\"].indexOf(stringified()) >= 0))\\n                     return;\\n                 if ([\\\"null\\\", \\\"\\\"].indexOf(str) >= 0)\\n                     return;\\n                stringified(str);\\n            });\\n            ko.applyBindingsToNode(\\n                element,\\n                {\\n                    value: stringified,\\n                    valueUpdate: allBindings.get('valueUpdate'),\\n                },\\n                context,\\n            );\\n        }\\n    };\\n    var json_data = {\\\"formatted_vals\\\":[\\\"0.1\\\",\\\"0.11\\\",\\\"0.12\\\",\\\"0.13\\\",\\\"0.14\\\",\\\"0.15\\\",\\\"0.16\\\",\\\"0.17\\\",\\\"0.18\\\",\\\"0.19\\\",\\\"0.2\\\",\\\"0.21\\\",\\\"0.22\\\",\\\"0.23\\\",\\\"0.24\\\",\\\"0.25\\\",\\\"0.26\\\",\\\"0.27\\\",\\\"0.28\\\",\\\"0.29\\\",\\\"0.3\\\",\\\"0.31\\\",\\\"0.32\\\",\\\"0.33\\\",\\\"0.34\\\",\\\"0.35\\\",\\\"0.36\\\",\\\"0.37\\\",\\\"0.38\\\",\\\"0.39\\\",\\\"0.4\\\",\\\"0.41\\\",\\\"0.42\\\",\\\"0.43\\\",\\\"0.44\\\",\\\"0.45\\\",\\\"0.46\\\",\\\"0.47\\\",\\\"0.48\\\",\\\"0.49\\\",\\\"0.5\\\",\\\"0.51\\\",\\\"0.52\\\",\\\"0.53\\\",\\\"0.54\\\",\\\"0.55\\\",\\\"0.56\\\",\\\"0.57\\\",\\\"0.58\\\",\\\"0.59\\\",\\\"0.6\\\",\\\"0.61\\\",\\\"0.62\\\",\\\"0.63\\\",\\\"0.64\\\",\\\"0.65\\\",\\\"0.66\\\",\\\"0.67\\\",\\\"0.68\\\",\\\"0.69\\\",\\\"0.7\\\",\\\"0.71\\\",\\\"0.72\\\",\\\"0.73\\\",\\\"0.74\\\",\\\"0.75\\\",\\\"0.76\\\",\\\"0.77\\\",\\\"0.78\\\",\\\"0.79\\\",\\\"0.8\\\",\\\"0.81\\\",\\\"0.82\\\",\\\"0.83\\\",\\\"0.84\\\",\\\"0.85\\\",\\\"0.86\\\",\\\"0.87\\\",\\\"0.88\\\",\\\"0.89\\\",\\\"0.9\\\",\\\"0.91\\\",\\\"0.92\\\",\\\"0.93\\\",\\\"0.94\\\",\\\"0.95\\\",\\\"0.96\\\",\\\"0.97\\\",\\\"0.98\\\",\\\"0.99\\\",\\\"1.0\\\",\\\"1.01\\\",\\\"1.02\\\",\\\"1.03\\\",\\\"1.04\\\",\\\"1.05\\\",\\\"1.06\\\",\\\"1.07\\\",\\\"1.08\\\",\\\"1.09\\\",\\\"1.1\\\",\\\"1.11\\\",\\\"1.12\\\",\\\"1.13\\\",\\\"1.14\\\",\\\"1.15\\\",\\\"1.16\\\",\\\"1.17\\\",\\\"1.18\\\",\\\"1.19\\\",\\\"1.2\\\",\\\"1.21\\\",\\\"1.22\\\",\\\"1.23\\\",\\\"1.24\\\",\\\"1.25\\\",\\\"1.26\\\",\\\"1.27\\\",\\\"1.28\\\",\\\"1.29\\\",\\\"1.3\\\",\\\"1.31\\\",\\\"1.32\\\",\\\"1.33\\\",\\\"1.34\\\",\\\"1.35\\\",\\\"1.36\\\",\\\"1.37\\\",\\\"1.38\\\",\\\"1.39\\\",\\\"1.4\\\",\\\"1.41\\\",\\\"1.42\\\",\\\"1.43\\\",\\\"1.44\\\",\\\"1.45\\\",\\\"1.46\\\",\\\"1.47\\\",\\\"1.48\\\",\\\"1.49\\\",\\\"1.5\\\",\\\"1.51\\\",\\\"1.52\\\",\\\"1.53\\\",\\\"1.54\\\",\\\"1.55\\\",\\\"1.56\\\",\\\"1.57\\\",\\\"1.58\\\",\\\"1.59\\\",\\\"1.6\\\",\\\"1.61\\\",\\\"1.62\\\",\\\"1.63\\\",\\\"1.64\\\",\\\"1.65\\\",\\\"1.66\\\",\\\"1.67\\\",\\\"1.68\\\",\\\"1.69\\\",\\\"1.7\\\",\\\"1.71\\\",\\\"1.72\\\",\\\"1.73\\\",\\\"1.74\\\",\\\"1.75\\\",\\\"1.76\\\",\\\"1.77\\\",\\\"1.78\\\",\\\"1.79\\\",\\\"1.8\\\",\\\"1.81\\\",\\\"1.82\\\",\\\"1.83\\\",\\\"1.84\\\",\\\"1.85\\\",\\\"1.86\\\",\\\"1.87\\\",\\\"1.88\\\",\\\"1.89\\\",\\\"1.9\\\",\\\"1.91\\\",\\\"1.92\\\",\\\"1.93\\\",\\\"1.94\\\",\\\"1.95\\\",\\\"1.96\\\",\\\"1.97\\\",\\\"1.98\\\",\\\"1.99\\\",\\\"2.0\\\"],\\\"changes\\\":WebIO.getval({\\\"name\\\":\\\"changes\\\",\\\"scope\\\":\\\"15777858450175548464\\\",\\\"id\\\":\\\"ob_45\\\",\\\"type\\\":\\\"observable\\\"}),\\\"index\\\":WebIO.getval({\\\"name\\\":\\\"index\\\",\\\"scope\\\":\\\"15777858450175548464\\\",\\\"id\\\":\\\"ob_44\\\",\\\"type\\\":\\\"observable\\\"})};\\n    var self = this;\\n    function AppViewModel() {\\n        for (var key in json_data) {\\n            var el = json_data[key];\\n            this[key] = Array.isArray(el) ? ko.observableArray(el) : ko.observable(el);\\n        }\\n        \\n        [this[\\\"formatted_val\\\"]=ko.computed(    function(){\\n        return this.formatted_vals()[parseInt(this.index())-(1)];\\n    }\\n,this)]\\n        [this[\\\"changes\\\"].subscribe((function (val){!(this.valueFromJulia[\\\"changes\\\"]) ? (WebIO.setval({\\\"name\\\":\\\"changes\\\",\\\"scope\\\":\\\"15777858450175548464\\\",\\\"id\\\":\\\"ob_45\\\",\\\"type\\\":\\\"observable\\\"},val)) : undefined; return this.valueFromJulia[\\\"changes\\\"]=false}),self),this[\\\"index\\\"].subscribe((function (val){!(this.valueFromJulia[\\\"index\\\"]) ? (WebIO.setval({\\\"name\\\":\\\"index\\\",\\\"scope\\\":\\\"15777858450175548464\\\",\\\"id\\\":\\\"ob_44\\\",\\\"type\\\":\\\"observable\\\"},val)) : undefined; return this.valueFromJulia[\\\"index\\\"]=false}),self)]\\n        \\n    }\\n    self.model = new AppViewModel();\\n    self.valueFromJulia = {};\\n    for (var key in json_data) {\\n        self.valueFromJulia[key] = false;\\n    }\\n    ko.applyBindings(self.model, self.dom);\\n}\\n);\\n    (WebIO.importBlock({\\\"data\\\":[{\\\"name\\\":\\\"knockout\\\",\\\"type\\\":\\\"js\\\",\\\"url\\\":\\\"\\/assetserver\\/bd369c9f3f65592d9de5e32611a3bd7919ce27e4-knockout.js\\\"},{\\\"name\\\":\\\"knockout_punches\\\",\\\"type\\\":\\\"js\\\",\\\"url\\\":\\\"\\/assetserver\\/3b50d12153ead1bb599ff862de1cdc44df7d6b87-knockout_punches.js\\\"}],\\\"type\\\":\\\"async_block\\\"})).then((imports) => handler.apply(this, imports));\\n}\\n\"],\"observables\":{\"changes\":{\"sync\":false,\"id\":\"ob_45\",\"value\":0},\"index\":{\"sync\":true,\"id\":\"ob_44\",\"value\":71}}},\"children\":[{\"props\":{\"className\":\"interact-flex-row interact-widget\"},\"nodeType\":\"DOM\",\"type\":\"node\",\"instanceArgs\":{\"namespace\":\"html\",\"tag\":\"div\"},\"children\":[{\"props\":{\"className\":\"interact-flex-row-left\"},\"nodeType\":\"DOM\",\"type\":\"node\",\"instanceArgs\":{\"namespace\":\"html\",\"tag\":\"div\"},\"children\":[{\"props\":{\"className\":\"interact \",\"style\":{\"padding\":\"5px 10px 0px 10px\"}},\"nodeType\":\"DOM\",\"type\":\"node\",\"instanceArgs\":{\"namespace\":\"html\",\"tag\":\"label\"},\"children\":[\"α12\"]}]},{\"props\":{\"className\":\"interact-flex-row-center\"},\"nodeType\":\"DOM\",\"type\":\"node\",\"instanceArgs\":{\"namespace\":\"html\",\"tag\":\"div\"},\"children\":[{\"props\":{\"max\":191,\"min\":1,\"attributes\":{\"type\":\"range\",\"data-bind\":\"numericValue: index, valueUpdate: 'input', event: {change: function (){this.changes(this.changes()+1)}}\",\"orient\":\"horizontal\"},\"step\":1,\"className\":\"slider slider is-fullwidth\",\"style\":{}},\"nodeType\":\"DOM\",\"type\":\"node\",\"instanceArgs\":{\"namespace\":\"html\",\"tag\":\"input\"},\"children\":[]}]},{\"props\":{\"className\":\"interact-flex-row-right\"},\"nodeType\":\"DOM\",\"type\":\"node\",\"instanceArgs\":{\"namespace\":\"html\",\"tag\":\"div\"},\"children\":[{\"props\":{\"attributes\":{\"data-bind\":\"text: formatted_val\"}},\"nodeType\":\"DOM\",\"type\":\"node\",\"instanceArgs\":{\"namespace\":\"html\",\"tag\":\"p\"},\"children\":[]}]}]}]}]},{\"props\":{\"className\":\"field interact-widget\"},\"nodeType\":\"DOM\",\"type\":\"node\",\"instanceArgs\":{\"namespace\":\"html\",\"tag\":\"div\"},\"children\":[{\"props\":{},\"nodeType\":\"Scope\",\"type\":\"node\",\"instanceArgs\":{\"imports\":{\"data\":[{\"name\":\"knockout\",\"type\":\"js\",\"url\":\"\\/assetserver\\/bd369c9f3f65592d9de5e32611a3bd7919ce27e4-knockout.js\"},{\"name\":\"knockout_punches\",\"type\":\"js\",\"url\":\"\\/assetserver\\/3b50d12153ead1bb599ff862de1cdc44df7d6b87-knockout_punches.js\"},{\"name\":null,\"type\":\"js\",\"url\":\"\\/assetserver\\/aa3951d9fb8679dff984ddfbf8b5e84bb80c8a32-all.js\"},{\"name\":null,\"type\":\"css\",\"url\":\"\\/assetserver\\/4d4e4f0d7e5786bcd65343de06f7537c7cc0439b-style.css\"},{\"name\":null,\"type\":\"css\",\"url\":\"\\/assetserver\\/29cbe869a436f8975bf1b635e657ff2c60889af7-bulma_confined.min.css\"}],\"type\":\"async_block\"},\"id\":\"5575372336974442177\",\"handlers\":{\"changes\":[\"(function (val){return (val!=this.model[\\\"changes\\\"]()) ? (this.valueFromJulia[\\\"changes\\\"]=true, this.model[\\\"changes\\\"](val)) : undefined})\"],\"index\":[\"(function (val){return (val!=this.model[\\\"index\\\"]()) ? (this.valueFromJulia[\\\"index\\\"]=true, this.model[\\\"index\\\"](val)) : undefined})\"]},\"systemjs_options\":null,\"mount_callbacks\":[\"function () {\\n    var handler = (function (ko, koPunches) {\\n    ko.punches.enableAll();\\n    ko.bindingHandlers.numericValue = {\\n        init: function(element, valueAccessor, allBindings, data, context) {\\n            var stringified = ko.observable(ko.unwrap(valueAccessor()));\\n            stringified.subscribe(function(value) {\\n                var val = parseFloat(value);\\n                if (!isNaN(val)) {\\n                    valueAccessor()(val);\\n                }\\n            });\\n            valueAccessor().subscribe(function(value) {\\n                var str = JSON.stringify(value);\\n                if ((str == \\\"0\\\") && ([\\\"-0\\\", \\\"-0.\\\"].indexOf(stringified()) >= 0))\\n                     return;\\n                 if ([\\\"null\\\", \\\"\\\"].indexOf(str) >= 0)\\n                     return;\\n                stringified(str);\\n            });\\n            ko.applyBindingsToNode(\\n                element,\\n                {\\n                    value: stringified,\\n                    valueUpdate: allBindings.get('valueUpdate'),\\n                },\\n                context,\\n            );\\n        }\\n    };\\n    var json_data = {\\\"formatted_vals\\\":[\\\"0.1\\\",\\\"0.11\\\",\\\"0.12\\\",\\\"0.13\\\",\\\"0.14\\\",\\\"0.15\\\",\\\"0.16\\\",\\\"0.17\\\",\\\"0.18\\\",\\\"0.19\\\",\\\"0.2\\\",\\\"0.21\\\",\\\"0.22\\\",\\\"0.23\\\",\\\"0.24\\\",\\\"0.25\\\",\\\"0.26\\\",\\\"0.27\\\",\\\"0.28\\\",\\\"0.29\\\",\\\"0.3\\\",\\\"0.31\\\",\\\"0.32\\\",\\\"0.33\\\",\\\"0.34\\\",\\\"0.35\\\",\\\"0.36\\\",\\\"0.37\\\",\\\"0.38\\\",\\\"0.39\\\",\\\"0.4\\\",\\\"0.41\\\",\\\"0.42\\\",\\\"0.43\\\",\\\"0.44\\\",\\\"0.45\\\",\\\"0.46\\\",\\\"0.47\\\",\\\"0.48\\\",\\\"0.49\\\",\\\"0.5\\\",\\\"0.51\\\",\\\"0.52\\\",\\\"0.53\\\",\\\"0.54\\\",\\\"0.55\\\",\\\"0.56\\\",\\\"0.57\\\",\\\"0.58\\\",\\\"0.59\\\",\\\"0.6\\\",\\\"0.61\\\",\\\"0.62\\\",\\\"0.63\\\",\\\"0.64\\\",\\\"0.65\\\",\\\"0.66\\\",\\\"0.67\\\",\\\"0.68\\\",\\\"0.69\\\",\\\"0.7\\\",\\\"0.71\\\",\\\"0.72\\\",\\\"0.73\\\",\\\"0.74\\\",\\\"0.75\\\",\\\"0.76\\\",\\\"0.77\\\",\\\"0.78\\\",\\\"0.79\\\",\\\"0.8\\\",\\\"0.81\\\",\\\"0.82\\\",\\\"0.83\\\",\\\"0.84\\\",\\\"0.85\\\",\\\"0.86\\\",\\\"0.87\\\",\\\"0.88\\\",\\\"0.89\\\",\\\"0.9\\\",\\\"0.91\\\",\\\"0.92\\\",\\\"0.93\\\",\\\"0.94\\\",\\\"0.95\\\",\\\"0.96\\\",\\\"0.97\\\",\\\"0.98\\\",\\\"0.99\\\",\\\"1.0\\\",\\\"1.01\\\",\\\"1.02\\\",\\\"1.03\\\",\\\"1.04\\\",\\\"1.05\\\",\\\"1.06\\\",\\\"1.07\\\",\\\"1.08\\\",\\\"1.09\\\",\\\"1.1\\\",\\\"1.11\\\",\\\"1.12\\\",\\\"1.13\\\",\\\"1.14\\\",\\\"1.15\\\",\\\"1.16\\\",\\\"1.17\\\",\\\"1.18\\\",\\\"1.19\\\",\\\"1.2\\\",\\\"1.21\\\",\\\"1.22\\\",\\\"1.23\\\",\\\"1.24\\\",\\\"1.25\\\",\\\"1.26\\\",\\\"1.27\\\",\\\"1.28\\\",\\\"1.29\\\",\\\"1.3\\\",\\\"1.31\\\",\\\"1.32\\\",\\\"1.33\\\",\\\"1.34\\\",\\\"1.35\\\",\\\"1.36\\\",\\\"1.37\\\",\\\"1.38\\\",\\\"1.39\\\",\\\"1.4\\\",\\\"1.41\\\",\\\"1.42\\\",\\\"1.43\\\",\\\"1.44\\\",\\\"1.45\\\",\\\"1.46\\\",\\\"1.47\\\",\\\"1.48\\\",\\\"1.49\\\",\\\"1.5\\\",\\\"1.51\\\",\\\"1.52\\\",\\\"1.53\\\",\\\"1.54\\\",\\\"1.55\\\",\\\"1.56\\\",\\\"1.57\\\",\\\"1.58\\\",\\\"1.59\\\",\\\"1.6\\\",\\\"1.61\\\",\\\"1.62\\\",\\\"1.63\\\",\\\"1.64\\\",\\\"1.65\\\",\\\"1.66\\\",\\\"1.67\\\",\\\"1.68\\\",\\\"1.69\\\",\\\"1.7\\\",\\\"1.71\\\",\\\"1.72\\\",\\\"1.73\\\",\\\"1.74\\\",\\\"1.75\\\",\\\"1.76\\\",\\\"1.77\\\",\\\"1.78\\\",\\\"1.79\\\",\\\"1.8\\\",\\\"1.81\\\",\\\"1.82\\\",\\\"1.83\\\",\\\"1.84\\\",\\\"1.85\\\",\\\"1.86\\\",\\\"1.87\\\",\\\"1.88\\\",\\\"1.89\\\",\\\"1.9\\\",\\\"1.91\\\",\\\"1.92\\\",\\\"1.93\\\",\\\"1.94\\\",\\\"1.95\\\",\\\"1.96\\\",\\\"1.97\\\",\\\"1.98\\\",\\\"1.99\\\",\\\"2.0\\\"],\\\"changes\\\":WebIO.getval({\\\"name\\\":\\\"changes\\\",\\\"scope\\\":\\\"5575372336974442177\\\",\\\"id\\\":\\\"ob_48\\\",\\\"type\\\":\\\"observable\\\"}),\\\"index\\\":WebIO.getval({\\\"name\\\":\\\"index\\\",\\\"scope\\\":\\\"5575372336974442177\\\",\\\"id\\\":\\\"ob_47\\\",\\\"type\\\":\\\"observable\\\"})};\\n    var self = this;\\n    function AppViewModel() {\\n        for (var key in json_data) {\\n            var el = json_data[key];\\n            this[key] = Array.isArray(el) ? ko.observableArray(el) : ko.observable(el);\\n        }\\n        \\n        [this[\\\"formatted_val\\\"]=ko.computed(    function(){\\n        return this.formatted_vals()[parseInt(this.index())-(1)];\\n    }\\n,this)]\\n        [this[\\\"changes\\\"].subscribe((function (val){!(this.valueFromJulia[\\\"changes\\\"]) ? (WebIO.setval({\\\"name\\\":\\\"changes\\\",\\\"scope\\\":\\\"5575372336974442177\\\",\\\"id\\\":\\\"ob_48\\\",\\\"type\\\":\\\"observable\\\"},val)) : undefined; return this.valueFromJulia[\\\"changes\\\"]=false}),self),this[\\\"index\\\"].subscribe((function (val){!(this.valueFromJulia[\\\"index\\\"]) ? (WebIO.setval({\\\"name\\\":\\\"index\\\",\\\"scope\\\":\\\"5575372336974442177\\\",\\\"id\\\":\\\"ob_47\\\",\\\"type\\\":\\\"observable\\\"},val)) : undefined; return this.valueFromJulia[\\\"index\\\"]=false}),self)]\\n        \\n    }\\n    self.model = new AppViewModel();\\n    self.valueFromJulia = {};\\n    for (var key in json_data) {\\n        self.valueFromJulia[key] = false;\\n    }\\n    ko.applyBindings(self.model, self.dom);\\n}\\n);\\n    (WebIO.importBlock({\\\"data\\\":[{\\\"name\\\":\\\"knockout\\\",\\\"type\\\":\\\"js\\\",\\\"url\\\":\\\"\\/assetserver\\/bd369c9f3f65592d9de5e32611a3bd7919ce27e4-knockout.js\\\"},{\\\"name\\\":\\\"knockout_punches\\\",\\\"type\\\":\\\"js\\\",\\\"url\\\":\\\"\\/assetserver\\/3b50d12153ead1bb599ff862de1cdc44df7d6b87-knockout_punches.js\\\"}],\\\"type\\\":\\\"async_block\\\"})).then((imports) => handler.apply(this, imports));\\n}\\n\"],\"observables\":{\"changes\":{\"sync\":false,\"id\":\"ob_48\",\"value\":0},\"index\":{\"sync\":true,\"id\":\"ob_47\",\"value\":21}}},\"children\":[{\"props\":{\"className\":\"interact-flex-row interact-widget\"},\"nodeType\":\"DOM\",\"type\":\"node\",\"instanceArgs\":{\"namespace\":\"html\",\"tag\":\"div\"},\"children\":[{\"props\":{\"className\":\"interact-flex-row-left\"},\"nodeType\":\"DOM\",\"type\":\"node\",\"instanceArgs\":{\"namespace\":\"html\",\"tag\":\"div\"},\"children\":[{\"props\":{\"className\":\"interact \",\"style\":{\"padding\":\"5px 10px 0px 10px\"}},\"nodeType\":\"DOM\",\"type\":\"node\",\"instanceArgs\":{\"namespace\":\"html\",\"tag\":\"label\"},\"children\":[\"α21\"]}]},{\"props\":{\"className\":\"interact-flex-row-center\"},\"nodeType\":\"DOM\",\"type\":\"node\",\"instanceArgs\":{\"namespace\":\"html\",\"tag\":\"div\"},\"children\":[{\"props\":{\"max\":191,\"min\":1,\"attributes\":{\"type\":\"range\",\"data-bind\":\"numericValue: index, valueUpdate: 'input', event: {change: function (){this.changes(this.changes()+1)}}\",\"orient\":\"horizontal\"},\"step\":1,\"className\":\"slider slider is-fullwidth\",\"style\":{}},\"nodeType\":\"DOM\",\"type\":\"node\",\"instanceArgs\":{\"namespace\":\"html\",\"tag\":\"input\"},\"children\":[]}]},{\"props\":{\"className\":\"interact-flex-row-right\"},\"nodeType\":\"DOM\",\"type\":\"node\",\"instanceArgs\":{\"namespace\":\"html\",\"tag\":\"div\"},\"children\":[{\"props\":{\"attributes\":{\"data-bind\":\"text: formatted_val\"}},\"nodeType\":\"DOM\",\"type\":\"node\",\"instanceArgs\":{\"namespace\":\"html\",\"tag\":\"p\"},\"children\":[]}]}]}]}]},{\"props\":{\"className\":\"field interact-widget\"},\"nodeType\":\"DOM\",\"type\":\"node\",\"instanceArgs\":{\"namespace\":\"html\",\"tag\":\"div\"},\"children\":[{\"props\":{},\"nodeType\":\"Scope\",\"type\":\"node\",\"instanceArgs\":{\"imports\":{\"data\":[{\"name\":\"knockout\",\"type\":\"js\",\"url\":\"\\/assetserver\\/bd369c9f3f65592d9de5e32611a3bd7919ce27e4-knockout.js\"},{\"name\":\"knockout_punches\",\"type\":\"js\",\"url\":\"\\/assetserver\\/3b50d12153ead1bb599ff862de1cdc44df7d6b87-knockout_punches.js\"},{\"name\":null,\"type\":\"js\",\"url\":\"\\/assetserver\\/aa3951d9fb8679dff984ddfbf8b5e84bb80c8a32-all.js\"},{\"name\":null,\"type\":\"css\",\"url\":\"\\/assetserver\\/4d4e4f0d7e5786bcd65343de06f7537c7cc0439b-style.css\"},{\"name\":null,\"type\":\"css\",\"url\":\"\\/assetserver\\/29cbe869a436f8975bf1b635e657ff2c60889af7-bulma_confined.min.css\"}],\"type\":\"async_block\"},\"id\":\"11841928071573098154\",\"handlers\":{\"changes\":[\"(function (val){return (val!=this.model[\\\"changes\\\"]()) ? (this.valueFromJulia[\\\"changes\\\"]=true, this.model[\\\"changes\\\"](val)) : undefined})\"],\"index\":[\"(function (val){return (val!=this.model[\\\"index\\\"]()) ? (this.valueFromJulia[\\\"index\\\"]=true, this.model[\\\"index\\\"](val)) : undefined})\"]},\"systemjs_options\":null,\"mount_callbacks\":[\"function () {\\n    var handler = (function (ko, koPunches) {\\n    ko.punches.enableAll();\\n    ko.bindingHandlers.numericValue = {\\n        init: function(element, valueAccessor, allBindings, data, context) {\\n            var stringified = ko.observable(ko.unwrap(valueAccessor()));\\n            stringified.subscribe(function(value) {\\n                var val = parseFloat(value);\\n                if (!isNaN(val)) {\\n                    valueAccessor()(val);\\n                }\\n            });\\n            valueAccessor().subscribe(function(value) {\\n                var str = JSON.stringify(value);\\n                if ((str == \\\"0\\\") && ([\\\"-0\\\", \\\"-0.\\\"].indexOf(stringified()) >= 0))\\n                     return;\\n                 if ([\\\"null\\\", \\\"\\\"].indexOf(str) >= 0)\\n                     return;\\n                stringified(str);\\n            });\\n            ko.applyBindingsToNode(\\n                element,\\n                {\\n                    value: stringified,\\n                    valueUpdate: allBindings.get('valueUpdate'),\\n                },\\n                context,\\n            );\\n        }\\n    };\\n    var json_data = {\\\"formatted_vals\\\":[\\\"0.1\\\",\\\"0.11\\\",\\\"0.12\\\",\\\"0.13\\\",\\\"0.14\\\",\\\"0.15\\\",\\\"0.16\\\",\\\"0.17\\\",\\\"0.18\\\",\\\"0.19\\\",\\\"0.2\\\",\\\"0.21\\\",\\\"0.22\\\",\\\"0.23\\\",\\\"0.24\\\",\\\"0.25\\\",\\\"0.26\\\",\\\"0.27\\\",\\\"0.28\\\",\\\"0.29\\\",\\\"0.3\\\",\\\"0.31\\\",\\\"0.32\\\",\\\"0.33\\\",\\\"0.34\\\",\\\"0.35\\\",\\\"0.36\\\",\\\"0.37\\\",\\\"0.38\\\",\\\"0.39\\\",\\\"0.4\\\",\\\"0.41\\\",\\\"0.42\\\",\\\"0.43\\\",\\\"0.44\\\",\\\"0.45\\\",\\\"0.46\\\",\\\"0.47\\\",\\\"0.48\\\",\\\"0.49\\\",\\\"0.5\\\",\\\"0.51\\\",\\\"0.52\\\",\\\"0.53\\\",\\\"0.54\\\",\\\"0.55\\\",\\\"0.56\\\",\\\"0.57\\\",\\\"0.58\\\",\\\"0.59\\\",\\\"0.6\\\",\\\"0.61\\\",\\\"0.62\\\",\\\"0.63\\\",\\\"0.64\\\",\\\"0.65\\\",\\\"0.66\\\",\\\"0.67\\\",\\\"0.68\\\",\\\"0.69\\\",\\\"0.7\\\",\\\"0.71\\\",\\\"0.72\\\",\\\"0.73\\\",\\\"0.74\\\",\\\"0.75\\\",\\\"0.76\\\",\\\"0.77\\\",\\\"0.78\\\",\\\"0.79\\\",\\\"0.8\\\",\\\"0.81\\\",\\\"0.82\\\",\\\"0.83\\\",\\\"0.84\\\",\\\"0.85\\\",\\\"0.86\\\",\\\"0.87\\\",\\\"0.88\\\",\\\"0.89\\\",\\\"0.9\\\",\\\"0.91\\\",\\\"0.92\\\",\\\"0.93\\\",\\\"0.94\\\",\\\"0.95\\\",\\\"0.96\\\",\\\"0.97\\\",\\\"0.98\\\",\\\"0.99\\\",\\\"1.0\\\",\\\"1.01\\\",\\\"1.02\\\",\\\"1.03\\\",\\\"1.04\\\",\\\"1.05\\\",\\\"1.06\\\",\\\"1.07\\\",\\\"1.08\\\",\\\"1.09\\\",\\\"1.1\\\",\\\"1.11\\\",\\\"1.12\\\",\\\"1.13\\\",\\\"1.14\\\",\\\"1.15\\\",\\\"1.16\\\",\\\"1.17\\\",\\\"1.18\\\",\\\"1.19\\\",\\\"1.2\\\",\\\"1.21\\\",\\\"1.22\\\",\\\"1.23\\\",\\\"1.24\\\",\\\"1.25\\\",\\\"1.26\\\",\\\"1.27\\\",\\\"1.28\\\",\\\"1.29\\\",\\\"1.3\\\",\\\"1.31\\\",\\\"1.32\\\",\\\"1.33\\\",\\\"1.34\\\",\\\"1.35\\\",\\\"1.36\\\",\\\"1.37\\\",\\\"1.38\\\",\\\"1.39\\\",\\\"1.4\\\",\\\"1.41\\\",\\\"1.42\\\",\\\"1.43\\\",\\\"1.44\\\",\\\"1.45\\\",\\\"1.46\\\",\\\"1.47\\\",\\\"1.48\\\",\\\"1.49\\\",\\\"1.5\\\",\\\"1.51\\\",\\\"1.52\\\",\\\"1.53\\\",\\\"1.54\\\",\\\"1.55\\\",\\\"1.56\\\",\\\"1.57\\\",\\\"1.58\\\",\\\"1.59\\\",\\\"1.6\\\",\\\"1.61\\\",\\\"1.62\\\",\\\"1.63\\\",\\\"1.64\\\",\\\"1.65\\\",\\\"1.66\\\",\\\"1.67\\\",\\\"1.68\\\",\\\"1.69\\\",\\\"1.7\\\",\\\"1.71\\\",\\\"1.72\\\",\\\"1.73\\\",\\\"1.74\\\",\\\"1.75\\\",\\\"1.76\\\",\\\"1.77\\\",\\\"1.78\\\",\\\"1.79\\\",\\\"1.8\\\",\\\"1.81\\\",\\\"1.82\\\",\\\"1.83\\\",\\\"1.84\\\",\\\"1.85\\\",\\\"1.86\\\",\\\"1.87\\\",\\\"1.88\\\",\\\"1.89\\\",\\\"1.9\\\",\\\"1.91\\\",\\\"1.92\\\",\\\"1.93\\\",\\\"1.94\\\",\\\"1.95\\\",\\\"1.96\\\",\\\"1.97\\\",\\\"1.98\\\",\\\"1.99\\\",\\\"2.0\\\",\\\"2.01\\\",\\\"2.02\\\",\\\"2.03\\\",\\\"2.04\\\",\\\"2.05\\\",\\\"2.06\\\",\\\"2.07\\\",\\\"2.08\\\",\\\"2.09\\\",\\\"2.1\\\",\\\"2.11\\\",\\\"2.12\\\",\\\"2.13\\\",\\\"2.14\\\",\\\"2.15\\\",\\\"2.16\\\",\\\"2.17\\\",\\\"2.18\\\",\\\"2.19\\\",\\\"2.2\\\",\\\"2.21\\\",\\\"2.22\\\",\\\"2.23\\\",\\\"2.24\\\",\\\"2.25\\\",\\\"2.26\\\",\\\"2.27\\\",\\\"2.28\\\",\\\"2.29\\\",\\\"2.3\\\",\\\"2.31\\\",\\\"2.32\\\",\\\"2.33\\\",\\\"2.34\\\",\\\"2.35\\\",\\\"2.36\\\",\\\"2.37\\\",\\\"2.38\\\",\\\"2.39\\\",\\\"2.4\\\",\\\"2.41\\\",\\\"2.42\\\",\\\"2.43\\\",\\\"2.44\\\",\\\"2.45\\\",\\\"2.46\\\",\\\"2.47\\\",\\\"2.48\\\",\\\"2.49\\\",\\\"2.5\\\",\\\"2.51\\\",\\\"2.52\\\",\\\"2.53\\\",\\\"2.54\\\",\\\"2.55\\\",\\\"2.56\\\",\\\"2.57\\\",\\\"2.58\\\",\\\"2.59\\\",\\\"2.6\\\",\\\"2.61\\\",\\\"2.62\\\",\\\"2.63\\\",\\\"2.64\\\",\\\"2.65\\\",\\\"2.66\\\",\\\"2.67\\\",\\\"2.68\\\",\\\"2.69\\\",\\\"2.7\\\",\\\"2.71\\\",\\\"2.72\\\",\\\"2.73\\\",\\\"2.74\\\",\\\"2.75\\\",\\\"2.76\\\",\\\"2.77\\\",\\\"2.78\\\",\\\"2.79\\\",\\\"2.8\\\",\\\"2.81\\\",\\\"2.82\\\",\\\"2.83\\\",\\\"2.84\\\",\\\"2.85\\\",\\\"2.86\\\",\\\"2.87\\\",\\\"2.88\\\",\\\"2.89\\\",\\\"2.9\\\",\\\"2.91\\\",\\\"2.92\\\",\\\"2.93\\\",\\\"2.94\\\",\\\"2.95\\\",\\\"2.96\\\",\\\"2.97\\\",\\\"2.98\\\",\\\"2.99\\\",\\\"3.0\\\"],\\\"changes\\\":WebIO.getval({\\\"name\\\":\\\"changes\\\",\\\"scope\\\":\\\"11841928071573098154\\\",\\\"id\\\":\\\"ob_51\\\",\\\"type\\\":\\\"observable\\\"}),\\\"index\\\":WebIO.getval({\\\"name\\\":\\\"index\\\",\\\"scope\\\":\\\"11841928071573098154\\\",\\\"id\\\":\\\"ob_50\\\",\\\"type\\\":\\\"observable\\\"})};\\n    var self = this;\\n    function AppViewModel() {\\n        for (var key in json_data) {\\n            var el = json_data[key];\\n            this[key] = Array.isArray(el) ? ko.observableArray(el) : ko.observable(el);\\n        }\\n        \\n        [this[\\\"formatted_val\\\"]=ko.computed(    function(){\\n        return this.formatted_vals()[parseInt(this.index())-(1)];\\n    }\\n,this)]\\n        [this[\\\"changes\\\"].subscribe((function (val){!(this.valueFromJulia[\\\"changes\\\"]) ? (WebIO.setval({\\\"name\\\":\\\"changes\\\",\\\"scope\\\":\\\"11841928071573098154\\\",\\\"id\\\":\\\"ob_51\\\",\\\"type\\\":\\\"observable\\\"},val)) : undefined; return this.valueFromJulia[\\\"changes\\\"]=false}),self),this[\\\"index\\\"].subscribe((function (val){!(this.valueFromJulia[\\\"index\\\"]) ? (WebIO.setval({\\\"name\\\":\\\"index\\\",\\\"scope\\\":\\\"11841928071573098154\\\",\\\"id\\\":\\\"ob_50\\\",\\\"type\\\":\\\"observable\\\"},val)) : undefined; return this.valueFromJulia[\\\"index\\\"]=false}),self)]\\n        \\n    }\\n    self.model = new AppViewModel();\\n    self.valueFromJulia = {};\\n    for (var key in json_data) {\\n        self.valueFromJulia[key] = false;\\n    }\\n    ko.applyBindings(self.model, self.dom);\\n}\\n);\\n    (WebIO.importBlock({\\\"data\\\":[{\\\"name\\\":\\\"knockout\\\",\\\"type\\\":\\\"js\\\",\\\"url\\\":\\\"\\/assetserver\\/bd369c9f3f65592d9de5e32611a3bd7919ce27e4-knockout.js\\\"},{\\\"name\\\":\\\"knockout_punches\\\",\\\"type\\\":\\\"js\\\",\\\"url\\\":\\\"\\/assetserver\\/3b50d12153ead1bb599ff862de1cdc44df7d6b87-knockout_punches.js\\\"}],\\\"type\\\":\\\"async_block\\\"})).then((imports) => handler.apply(this, imports));\\n}\\n\"],\"observables\":{\"changes\":{\"sync\":false,\"id\":\"ob_51\",\"value\":0},\"index\":{\"sync\":true,\"id\":\"ob_50\",\"value\":141}}},\"children\":[{\"props\":{\"className\":\"interact-flex-row interact-widget\"},\"nodeType\":\"DOM\",\"type\":\"node\",\"instanceArgs\":{\"namespace\":\"html\",\"tag\":\"div\"},\"children\":[{\"props\":{\"className\":\"interact-flex-row-left\"},\"nodeType\":\"DOM\",\"type\":\"node\",\"instanceArgs\":{\"namespace\":\"html\",\"tag\":\"div\"},\"children\":[{\"props\":{\"className\":\"interact \",\"style\":{\"padding\":\"5px 10px 0px 10px\"}},\"nodeType\":\"DOM\",\"type\":\"node\",\"instanceArgs\":{\"namespace\":\"html\",\"tag\":\"label\"},\"children\":[\"K1\"]}]},{\"props\":{\"className\":\"interact-flex-row-center\"},\"nodeType\":\"DOM\",\"type\":\"node\",\"instanceArgs\":{\"namespace\":\"html\",\"tag\":\"div\"},\"children\":[{\"props\":{\"max\":291,\"min\":1,\"attributes\":{\"type\":\"range\",\"data-bind\":\"numericValue: index, valueUpdate: 'input', event: {change: function (){this.changes(this.changes()+1)}}\",\"orient\":\"horizontal\"},\"step\":1,\"className\":\"slider slider is-fullwidth\",\"style\":{}},\"nodeType\":\"DOM\",\"type\":\"node\",\"instanceArgs\":{\"namespace\":\"html\",\"tag\":\"input\"},\"children\":[]}]},{\"props\":{\"className\":\"interact-flex-row-right\"},\"nodeType\":\"DOM\",\"type\":\"node\",\"instanceArgs\":{\"namespace\":\"html\",\"tag\":\"div\"},\"children\":[{\"props\":{\"attributes\":{\"data-bind\":\"text: formatted_val\"}},\"nodeType\":\"DOM\",\"type\":\"node\",\"instanceArgs\":{\"namespace\":\"html\",\"tag\":\"p\"},\"children\":[]}]}]}]}]},{\"props\":{\"className\":\"field interact-widget\"},\"nodeType\":\"DOM\",\"type\":\"node\",\"instanceArgs\":{\"namespace\":\"html\",\"tag\":\"div\"},\"children\":[{\"props\":{},\"nodeType\":\"Scope\",\"type\":\"node\",\"instanceArgs\":{\"imports\":{\"data\":[{\"name\":\"knockout\",\"type\":\"js\",\"url\":\"\\/assetserver\\/bd369c9f3f65592d9de5e32611a3bd7919ce27e4-knockout.js\"},{\"name\":\"knockout_punches\",\"type\":\"js\",\"url\":\"\\/assetserver\\/3b50d12153ead1bb599ff862de1cdc44df7d6b87-knockout_punches.js\"},{\"name\":null,\"type\":\"js\",\"url\":\"\\/assetserver\\/aa3951d9fb8679dff984ddfbf8b5e84bb80c8a32-all.js\"},{\"name\":null,\"type\":\"css\",\"url\":\"\\/assetserver\\/4d4e4f0d7e5786bcd65343de06f7537c7cc0439b-style.css\"},{\"name\":null,\"type\":\"css\",\"url\":\"\\/assetserver\\/29cbe869a436f8975bf1b635e657ff2c60889af7-bulma_confined.min.css\"}],\"type\":\"async_block\"},\"id\":\"449194311925730872\",\"handlers\":{\"changes\":[\"(function (val){return (val!=this.model[\\\"changes\\\"]()) ? (this.valueFromJulia[\\\"changes\\\"]=true, this.model[\\\"changes\\\"](val)) : undefined})\"],\"index\":[\"(function (val){return (val!=this.model[\\\"index\\\"]()) ? (this.valueFromJulia[\\\"index\\\"]=true, this.model[\\\"index\\\"](val)) : undefined})\"]},\"systemjs_options\":null,\"mount_callbacks\":[\"function () {\\n    var handler = (function (ko, koPunches) {\\n    ko.punches.enableAll();\\n    ko.bindingHandlers.numericValue = {\\n        init: function(element, valueAccessor, allBindings, data, context) {\\n            var stringified = ko.observable(ko.unwrap(valueAccessor()));\\n            stringified.subscribe(function(value) {\\n                var val = parseFloat(value);\\n                if (!isNaN(val)) {\\n                    valueAccessor()(val);\\n                }\\n            });\\n            valueAccessor().subscribe(function(value) {\\n                var str = JSON.stringify(value);\\n                if ((str == \\\"0\\\") && ([\\\"-0\\\", \\\"-0.\\\"].indexOf(stringified()) >= 0))\\n                     return;\\n                 if ([\\\"null\\\", \\\"\\\"].indexOf(str) >= 0)\\n                     return;\\n                stringified(str);\\n            });\\n            ko.applyBindingsToNode(\\n                element,\\n                {\\n                    value: stringified,\\n                    valueUpdate: allBindings.get('valueUpdate'),\\n                },\\n                context,\\n            );\\n        }\\n    };\\n    var json_data = {\\\"formatted_vals\\\":[\\\"0.1\\\",\\\"0.11\\\",\\\"0.12\\\",\\\"0.13\\\",\\\"0.14\\\",\\\"0.15\\\",\\\"0.16\\\",\\\"0.17\\\",\\\"0.18\\\",\\\"0.19\\\",\\\"0.2\\\",\\\"0.21\\\",\\\"0.22\\\",\\\"0.23\\\",\\\"0.24\\\",\\\"0.25\\\",\\\"0.26\\\",\\\"0.27\\\",\\\"0.28\\\",\\\"0.29\\\",\\\"0.3\\\",\\\"0.31\\\",\\\"0.32\\\",\\\"0.33\\\",\\\"0.34\\\",\\\"0.35\\\",\\\"0.36\\\",\\\"0.37\\\",\\\"0.38\\\",\\\"0.39\\\",\\\"0.4\\\",\\\"0.41\\\",\\\"0.42\\\",\\\"0.43\\\",\\\"0.44\\\",\\\"0.45\\\",\\\"0.46\\\",\\\"0.47\\\",\\\"0.48\\\",\\\"0.49\\\",\\\"0.5\\\",\\\"0.51\\\",\\\"0.52\\\",\\\"0.53\\\",\\\"0.54\\\",\\\"0.55\\\",\\\"0.56\\\",\\\"0.57\\\",\\\"0.58\\\",\\\"0.59\\\",\\\"0.6\\\",\\\"0.61\\\",\\\"0.62\\\",\\\"0.63\\\",\\\"0.64\\\",\\\"0.65\\\",\\\"0.66\\\",\\\"0.67\\\",\\\"0.68\\\",\\\"0.69\\\",\\\"0.7\\\",\\\"0.71\\\",\\\"0.72\\\",\\\"0.73\\\",\\\"0.74\\\",\\\"0.75\\\",\\\"0.76\\\",\\\"0.77\\\",\\\"0.78\\\",\\\"0.79\\\",\\\"0.8\\\",\\\"0.81\\\",\\\"0.82\\\",\\\"0.83\\\",\\\"0.84\\\",\\\"0.85\\\",\\\"0.86\\\",\\\"0.87\\\",\\\"0.88\\\",\\\"0.89\\\",\\\"0.9\\\",\\\"0.91\\\",\\\"0.92\\\",\\\"0.93\\\",\\\"0.94\\\",\\\"0.95\\\",\\\"0.96\\\",\\\"0.97\\\",\\\"0.98\\\",\\\"0.99\\\",\\\"1.0\\\",\\\"1.01\\\",\\\"1.02\\\",\\\"1.03\\\",\\\"1.04\\\",\\\"1.05\\\",\\\"1.06\\\",\\\"1.07\\\",\\\"1.08\\\",\\\"1.09\\\",\\\"1.1\\\",\\\"1.11\\\",\\\"1.12\\\",\\\"1.13\\\",\\\"1.14\\\",\\\"1.15\\\",\\\"1.16\\\",\\\"1.17\\\",\\\"1.18\\\",\\\"1.19\\\",\\\"1.2\\\",\\\"1.21\\\",\\\"1.22\\\",\\\"1.23\\\",\\\"1.24\\\",\\\"1.25\\\",\\\"1.26\\\",\\\"1.27\\\",\\\"1.28\\\",\\\"1.29\\\",\\\"1.3\\\",\\\"1.31\\\",\\\"1.32\\\",\\\"1.33\\\",\\\"1.34\\\",\\\"1.35\\\",\\\"1.36\\\",\\\"1.37\\\",\\\"1.38\\\",\\\"1.39\\\",\\\"1.4\\\",\\\"1.41\\\",\\\"1.42\\\",\\\"1.43\\\",\\\"1.44\\\",\\\"1.45\\\",\\\"1.46\\\",\\\"1.47\\\",\\\"1.48\\\",\\\"1.49\\\",\\\"1.5\\\",\\\"1.51\\\",\\\"1.52\\\",\\\"1.53\\\",\\\"1.54\\\",\\\"1.55\\\",\\\"1.56\\\",\\\"1.57\\\",\\\"1.58\\\",\\\"1.59\\\",\\\"1.6\\\",\\\"1.61\\\",\\\"1.62\\\",\\\"1.63\\\",\\\"1.64\\\",\\\"1.65\\\",\\\"1.66\\\",\\\"1.67\\\",\\\"1.68\\\",\\\"1.69\\\",\\\"1.7\\\",\\\"1.71\\\",\\\"1.72\\\",\\\"1.73\\\",\\\"1.74\\\",\\\"1.75\\\",\\\"1.76\\\",\\\"1.77\\\",\\\"1.78\\\",\\\"1.79\\\",\\\"1.8\\\",\\\"1.81\\\",\\\"1.82\\\",\\\"1.83\\\",\\\"1.84\\\",\\\"1.85\\\",\\\"1.86\\\",\\\"1.87\\\",\\\"1.88\\\",\\\"1.89\\\",\\\"1.9\\\",\\\"1.91\\\",\\\"1.92\\\",\\\"1.93\\\",\\\"1.94\\\",\\\"1.95\\\",\\\"1.96\\\",\\\"1.97\\\",\\\"1.98\\\",\\\"1.99\\\",\\\"2.0\\\",\\\"2.01\\\",\\\"2.02\\\",\\\"2.03\\\",\\\"2.04\\\",\\\"2.05\\\",\\\"2.06\\\",\\\"2.07\\\",\\\"2.08\\\",\\\"2.09\\\",\\\"2.1\\\",\\\"2.11\\\",\\\"2.12\\\",\\\"2.13\\\",\\\"2.14\\\",\\\"2.15\\\",\\\"2.16\\\",\\\"2.17\\\",\\\"2.18\\\",\\\"2.19\\\",\\\"2.2\\\",\\\"2.21\\\",\\\"2.22\\\",\\\"2.23\\\",\\\"2.24\\\",\\\"2.25\\\",\\\"2.26\\\",\\\"2.27\\\",\\\"2.28\\\",\\\"2.29\\\",\\\"2.3\\\",\\\"2.31\\\",\\\"2.32\\\",\\\"2.33\\\",\\\"2.34\\\",\\\"2.35\\\",\\\"2.36\\\",\\\"2.37\\\",\\\"2.38\\\",\\\"2.39\\\",\\\"2.4\\\",\\\"2.41\\\",\\\"2.42\\\",\\\"2.43\\\",\\\"2.44\\\",\\\"2.45\\\",\\\"2.46\\\",\\\"2.47\\\",\\\"2.48\\\",\\\"2.49\\\",\\\"2.5\\\",\\\"2.51\\\",\\\"2.52\\\",\\\"2.53\\\",\\\"2.54\\\",\\\"2.55\\\",\\\"2.56\\\",\\\"2.57\\\",\\\"2.58\\\",\\\"2.59\\\",\\\"2.6\\\",\\\"2.61\\\",\\\"2.62\\\",\\\"2.63\\\",\\\"2.64\\\",\\\"2.65\\\",\\\"2.66\\\",\\\"2.67\\\",\\\"2.68\\\",\\\"2.69\\\",\\\"2.7\\\",\\\"2.71\\\",\\\"2.72\\\",\\\"2.73\\\",\\\"2.74\\\",\\\"2.75\\\",\\\"2.76\\\",\\\"2.77\\\",\\\"2.78\\\",\\\"2.79\\\",\\\"2.8\\\",\\\"2.81\\\",\\\"2.82\\\",\\\"2.83\\\",\\\"2.84\\\",\\\"2.85\\\",\\\"2.86\\\",\\\"2.87\\\",\\\"2.88\\\",\\\"2.89\\\",\\\"2.9\\\",\\\"2.91\\\",\\\"2.92\\\",\\\"2.93\\\",\\\"2.94\\\",\\\"2.95\\\",\\\"2.96\\\",\\\"2.97\\\",\\\"2.98\\\",\\\"2.99\\\",\\\"3.0\\\"],\\\"changes\\\":WebIO.getval({\\\"name\\\":\\\"changes\\\",\\\"scope\\\":\\\"449194311925730872\\\",\\\"id\\\":\\\"ob_54\\\",\\\"type\\\":\\\"observable\\\"}),\\\"index\\\":WebIO.getval({\\\"name\\\":\\\"index\\\",\\\"scope\\\":\\\"449194311925730872\\\",\\\"id\\\":\\\"ob_53\\\",\\\"type\\\":\\\"observable\\\"})};\\n    var self = this;\\n    function AppViewModel() {\\n        for (var key in json_data) {\\n            var el = json_data[key];\\n            this[key] = Array.isArray(el) ? ko.observableArray(el) : ko.observable(el);\\n        }\\n        \\n        [this[\\\"formatted_val\\\"]=ko.computed(    function(){\\n        return this.formatted_vals()[parseInt(this.index())-(1)];\\n    }\\n,this)]\\n        [this[\\\"changes\\\"].subscribe((function (val){!(this.valueFromJulia[\\\"changes\\\"]) ? (WebIO.setval({\\\"name\\\":\\\"changes\\\",\\\"scope\\\":\\\"449194311925730872\\\",\\\"id\\\":\\\"ob_54\\\",\\\"type\\\":\\\"observable\\\"},val)) : undefined; return this.valueFromJulia[\\\"changes\\\"]=false}),self),this[\\\"index\\\"].subscribe((function (val){!(this.valueFromJulia[\\\"index\\\"]) ? (WebIO.setval({\\\"name\\\":\\\"index\\\",\\\"scope\\\":\\\"449194311925730872\\\",\\\"id\\\":\\\"ob_53\\\",\\\"type\\\":\\\"observable\\\"},val)) : undefined; return this.valueFromJulia[\\\"index\\\"]=false}),self)]\\n        \\n    }\\n    self.model = new AppViewModel();\\n    self.valueFromJulia = {};\\n    for (var key in json_data) {\\n        self.valueFromJulia[key] = false;\\n    }\\n    ko.applyBindings(self.model, self.dom);\\n}\\n);\\n    (WebIO.importBlock({\\\"data\\\":[{\\\"name\\\":\\\"knockout\\\",\\\"type\\\":\\\"js\\\",\\\"url\\\":\\\"\\/assetserver\\/bd369c9f3f65592d9de5e32611a3bd7919ce27e4-knockout.js\\\"},{\\\"name\\\":\\\"knockout_punches\\\",\\\"type\\\":\\\"js\\\",\\\"url\\\":\\\"\\/assetserver\\/3b50d12153ead1bb599ff862de1cdc44df7d6b87-knockout_punches.js\\\"}],\\\"type\\\":\\\"async_block\\\"})).then((imports) => handler.apply(this, imports));\\n}\\n\"],\"observables\":{\"changes\":{\"sync\":false,\"id\":\"ob_54\",\"value\":0},\"index\":{\"sync\":true,\"id\":\"ob_53\",\"value\":91}}},\"children\":[{\"props\":{\"className\":\"interact-flex-row interact-widget\"},\"nodeType\":\"DOM\",\"type\":\"node\",\"instanceArgs\":{\"namespace\":\"html\",\"tag\":\"div\"},\"children\":[{\"props\":{\"className\":\"interact-flex-row-left\"},\"nodeType\":\"DOM\",\"type\":\"node\",\"instanceArgs\":{\"namespace\":\"html\",\"tag\":\"div\"},\"children\":[{\"props\":{\"className\":\"interact \",\"style\":{\"padding\":\"5px 10px 0px 10px\"}},\"nodeType\":\"DOM\",\"type\":\"node\",\"instanceArgs\":{\"namespace\":\"html\",\"tag\":\"label\"},\"children\":[\"K2\"]}]},{\"props\":{\"className\":\"interact-flex-row-center\"},\"nodeType\":\"DOM\",\"type\":\"node\",\"instanceArgs\":{\"namespace\":\"html\",\"tag\":\"div\"},\"children\":[{\"props\":{\"max\":291,\"min\":1,\"attributes\":{\"type\":\"range\",\"data-bind\":\"numericValue: index, valueUpdate: 'input', event: {change: function (){this.changes(this.changes()+1)}}\",\"orient\":\"horizontal\"},\"step\":1,\"className\":\"slider slider is-fullwidth\",\"style\":{}},\"nodeType\":\"DOM\",\"type\":\"node\",\"instanceArgs\":{\"namespace\":\"html\",\"tag\":\"input\"},\"children\":[]}]},{\"props\":{\"className\":\"interact-flex-row-right\"},\"nodeType\":\"DOM\",\"type\":\"node\",\"instanceArgs\":{\"namespace\":\"html\",\"tag\":\"div\"},\"children\":[{\"props\":{\"attributes\":{\"data-bind\":\"text: formatted_val\"}},\"nodeType\":\"DOM\",\"type\":\"node\",\"instanceArgs\":{\"namespace\":\"html\",\"tag\":\"p\"},\"children\":[]}]}]}]}]},{\"props\":{\"className\":\"field interact-widget\"},\"nodeType\":\"DOM\",\"type\":\"node\",\"instanceArgs\":{\"namespace\":\"html\",\"tag\":\"div\"},\"children\":[{\"props\":{},\"nodeType\":\"Scope\",\"type\":\"node\",\"instanceArgs\":{\"imports\":{\"data\":[{\"name\":\"knockout\",\"type\":\"js\",\"url\":\"\\/assetserver\\/bd369c9f3f65592d9de5e32611a3bd7919ce27e4-knockout.js\"},{\"name\":\"knockout_punches\",\"type\":\"js\",\"url\":\"\\/assetserver\\/3b50d12153ead1bb599ff862de1cdc44df7d6b87-knockout_punches.js\"},{\"name\":null,\"type\":\"js\",\"url\":\"\\/assetserver\\/aa3951d9fb8679dff984ddfbf8b5e84bb80c8a32-all.js\"},{\"name\":null,\"type\":\"css\",\"url\":\"\\/assetserver\\/4d4e4f0d7e5786bcd65343de06f7537c7cc0439b-style.css\"},{\"name\":null,\"type\":\"css\",\"url\":\"\\/assetserver\\/29cbe869a436f8975bf1b635e657ff2c60889af7-bulma_confined.min.css\"}],\"type\":\"async_block\"},\"id\":\"11878974999193548570\",\"handlers\":{\"changes\":[\"(function (val){return (val!=this.model[\\\"changes\\\"]()) ? (this.valueFromJulia[\\\"changes\\\"]=true, this.model[\\\"changes\\\"](val)) : undefined})\"],\"index\":[\"(function (val){return (val!=this.model[\\\"index\\\"]()) ? (this.valueFromJulia[\\\"index\\\"]=true, this.model[\\\"index\\\"](val)) : undefined})\"]},\"systemjs_options\":null,\"mount_callbacks\":[\"function () {\\n    var handler = (function (ko, koPunches) {\\n    ko.punches.enableAll();\\n    ko.bindingHandlers.numericValue = {\\n        init: function(element, valueAccessor, allBindings, data, context) {\\n            var stringified = ko.observable(ko.unwrap(valueAccessor()));\\n            stringified.subscribe(function(value) {\\n                var val = parseFloat(value);\\n                if (!isNaN(val)) {\\n                    valueAccessor()(val);\\n                }\\n            });\\n            valueAccessor().subscribe(function(value) {\\n                var str = JSON.stringify(value);\\n                if ((str == \\\"0\\\") && ([\\\"-0\\\", \\\"-0.\\\"].indexOf(stringified()) >= 0))\\n                     return;\\n                 if ([\\\"null\\\", \\\"\\\"].indexOf(str) >= 0)\\n                     return;\\n                stringified(str);\\n            });\\n            ko.applyBindingsToNode(\\n                element,\\n                {\\n                    value: stringified,\\n                    valueUpdate: allBindings.get('valueUpdate'),\\n                },\\n                context,\\n            );\\n        }\\n    };\\n    var json_data = {\\\"formatted_vals\\\":[\\\"0.1\\\",\\\"0.11\\\",\\\"0.12\\\",\\\"0.13\\\",\\\"0.14\\\",\\\"0.15\\\",\\\"0.16\\\",\\\"0.17\\\",\\\"0.18\\\",\\\"0.19\\\",\\\"0.2\\\",\\\"0.21\\\",\\\"0.22\\\",\\\"0.23\\\",\\\"0.24\\\",\\\"0.25\\\",\\\"0.26\\\",\\\"0.27\\\",\\\"0.28\\\",\\\"0.29\\\",\\\"0.3\\\",\\\"0.31\\\",\\\"0.32\\\",\\\"0.33\\\",\\\"0.34\\\",\\\"0.35\\\",\\\"0.36\\\",\\\"0.37\\\",\\\"0.38\\\",\\\"0.39\\\",\\\"0.4\\\",\\\"0.41\\\",\\\"0.42\\\",\\\"0.43\\\",\\\"0.44\\\",\\\"0.45\\\",\\\"0.46\\\",\\\"0.47\\\",\\\"0.48\\\",\\\"0.49\\\",\\\"0.5\\\",\\\"0.51\\\",\\\"0.52\\\",\\\"0.53\\\",\\\"0.54\\\",\\\"0.55\\\",\\\"0.56\\\",\\\"0.57\\\",\\\"0.58\\\",\\\"0.59\\\",\\\"0.6\\\",\\\"0.61\\\",\\\"0.62\\\",\\\"0.63\\\",\\\"0.64\\\",\\\"0.65\\\",\\\"0.66\\\",\\\"0.67\\\",\\\"0.68\\\",\\\"0.69\\\",\\\"0.7\\\",\\\"0.71\\\",\\\"0.72\\\",\\\"0.73\\\",\\\"0.74\\\",\\\"0.75\\\",\\\"0.76\\\",\\\"0.77\\\",\\\"0.78\\\",\\\"0.79\\\",\\\"0.8\\\",\\\"0.81\\\",\\\"0.82\\\",\\\"0.83\\\",\\\"0.84\\\",\\\"0.85\\\",\\\"0.86\\\",\\\"0.87\\\",\\\"0.88\\\",\\\"0.89\\\",\\\"0.9\\\",\\\"0.91\\\",\\\"0.92\\\",\\\"0.93\\\",\\\"0.94\\\",\\\"0.95\\\",\\\"0.96\\\",\\\"0.97\\\",\\\"0.98\\\",\\\"0.99\\\",\\\"1.0\\\",\\\"1.01\\\",\\\"1.02\\\",\\\"1.03\\\",\\\"1.04\\\",\\\"1.05\\\",\\\"1.06\\\",\\\"1.07\\\",\\\"1.08\\\",\\\"1.09\\\",\\\"1.1\\\",\\\"1.11\\\",\\\"1.12\\\",\\\"1.13\\\",\\\"1.14\\\",\\\"1.15\\\",\\\"1.16\\\",\\\"1.17\\\",\\\"1.18\\\",\\\"1.19\\\",\\\"1.2\\\",\\\"1.21\\\",\\\"1.22\\\",\\\"1.23\\\",\\\"1.24\\\",\\\"1.25\\\",\\\"1.26\\\",\\\"1.27\\\",\\\"1.28\\\",\\\"1.29\\\",\\\"1.3\\\",\\\"1.31\\\",\\\"1.32\\\",\\\"1.33\\\",\\\"1.34\\\",\\\"1.35\\\",\\\"1.36\\\",\\\"1.37\\\",\\\"1.38\\\",\\\"1.39\\\",\\\"1.4\\\",\\\"1.41\\\",\\\"1.42\\\",\\\"1.43\\\",\\\"1.44\\\",\\\"1.45\\\",\\\"1.46\\\",\\\"1.47\\\",\\\"1.48\\\",\\\"1.49\\\",\\\"1.5\\\",\\\"1.51\\\",\\\"1.52\\\",\\\"1.53\\\",\\\"1.54\\\",\\\"1.55\\\",\\\"1.56\\\",\\\"1.57\\\",\\\"1.58\\\",\\\"1.59\\\",\\\"1.6\\\",\\\"1.61\\\",\\\"1.62\\\",\\\"1.63\\\",\\\"1.64\\\",\\\"1.65\\\",\\\"1.66\\\",\\\"1.67\\\",\\\"1.68\\\",\\\"1.69\\\",\\\"1.7\\\",\\\"1.71\\\",\\\"1.72\\\",\\\"1.73\\\",\\\"1.74\\\",\\\"1.75\\\",\\\"1.76\\\",\\\"1.77\\\",\\\"1.78\\\",\\\"1.79\\\",\\\"1.8\\\",\\\"1.81\\\",\\\"1.82\\\",\\\"1.83\\\",\\\"1.84\\\",\\\"1.85\\\",\\\"1.86\\\",\\\"1.87\\\",\\\"1.88\\\",\\\"1.89\\\",\\\"1.9\\\",\\\"1.91\\\",\\\"1.92\\\",\\\"1.93\\\",\\\"1.94\\\",\\\"1.95\\\",\\\"1.96\\\",\\\"1.97\\\",\\\"1.98\\\",\\\"1.99\\\",\\\"2.0\\\",\\\"2.01\\\",\\\"2.02\\\",\\\"2.03\\\",\\\"2.04\\\",\\\"2.05\\\",\\\"2.06\\\",\\\"2.07\\\",\\\"2.08\\\",\\\"2.09\\\",\\\"2.1\\\",\\\"2.11\\\",\\\"2.12\\\",\\\"2.13\\\",\\\"2.14\\\",\\\"2.15\\\",\\\"2.16\\\",\\\"2.17\\\",\\\"2.18\\\",\\\"2.19\\\",\\\"2.2\\\",\\\"2.21\\\",\\\"2.22\\\",\\\"2.23\\\",\\\"2.24\\\",\\\"2.25\\\",\\\"2.26\\\",\\\"2.27\\\",\\\"2.28\\\",\\\"2.29\\\",\\\"2.3\\\",\\\"2.31\\\",\\\"2.32\\\",\\\"2.33\\\",\\\"2.34\\\",\\\"2.35\\\",\\\"2.36\\\",\\\"2.37\\\",\\\"2.38\\\",\\\"2.39\\\",\\\"2.4\\\",\\\"2.41\\\",\\\"2.42\\\",\\\"2.43\\\",\\\"2.44\\\",\\\"2.45\\\",\\\"2.46\\\",\\\"2.47\\\",\\\"2.48\\\",\\\"2.49\\\",\\\"2.5\\\",\\\"2.51\\\",\\\"2.52\\\",\\\"2.53\\\",\\\"2.54\\\",\\\"2.55\\\",\\\"2.56\\\",\\\"2.57\\\",\\\"2.58\\\",\\\"2.59\\\",\\\"2.6\\\",\\\"2.61\\\",\\\"2.62\\\",\\\"2.63\\\",\\\"2.64\\\",\\\"2.65\\\",\\\"2.66\\\",\\\"2.67\\\",\\\"2.68\\\",\\\"2.69\\\",\\\"2.7\\\",\\\"2.71\\\",\\\"2.72\\\",\\\"2.73\\\",\\\"2.74\\\",\\\"2.75\\\",\\\"2.76\\\",\\\"2.77\\\",\\\"2.78\\\",\\\"2.79\\\",\\\"2.8\\\",\\\"2.81\\\",\\\"2.82\\\",\\\"2.83\\\",\\\"2.84\\\",\\\"2.85\\\",\\\"2.86\\\",\\\"2.87\\\",\\\"2.88\\\",\\\"2.89\\\",\\\"2.9\\\",\\\"2.91\\\",\\\"2.92\\\",\\\"2.93\\\",\\\"2.94\\\",\\\"2.95\\\",\\\"2.96\\\",\\\"2.97\\\",\\\"2.98\\\",\\\"2.99\\\",\\\"3.0\\\",\\\"3.01\\\",\\\"3.02\\\",\\\"3.03\\\",\\\"3.04\\\",\\\"3.05\\\",\\\"3.06\\\",\\\"3.07\\\",\\\"3.08\\\",\\\"3.09\\\",\\\"3.1\\\",\\\"3.11\\\",\\\"3.12\\\",\\\"3.13\\\",\\\"3.14\\\",\\\"3.15\\\",\\\"3.16\\\",\\\"3.17\\\",\\\"3.18\\\",\\\"3.19\\\",\\\"3.2\\\",\\\"3.21\\\",\\\"3.22\\\",\\\"3.23\\\",\\\"3.24\\\",\\\"3.25\\\",\\\"3.26\\\",\\\"3.27\\\",\\\"3.28\\\",\\\"3.29\\\",\\\"3.3\\\",\\\"3.31\\\",\\\"3.32\\\",\\\"3.33\\\",\\\"3.34\\\",\\\"3.35\\\",\\\"3.36\\\",\\\"3.37\\\",\\\"3.38\\\",\\\"3.39\\\",\\\"3.4\\\",\\\"3.41\\\",\\\"3.42\\\",\\\"3.43\\\",\\\"3.44\\\",\\\"3.45\\\",\\\"3.46\\\",\\\"3.47\\\",\\\"3.48\\\",\\\"3.49\\\",\\\"3.5\\\",\\\"3.51\\\",\\\"3.52\\\",\\\"3.53\\\",\\\"3.54\\\",\\\"3.55\\\",\\\"3.56\\\",\\\"3.57\\\",\\\"3.58\\\",\\\"3.59\\\",\\\"3.6\\\",\\\"3.61\\\",\\\"3.62\\\",\\\"3.63\\\",\\\"3.64\\\",\\\"3.65\\\",\\\"3.66\\\",\\\"3.67\\\",\\\"3.68\\\",\\\"3.69\\\",\\\"3.7\\\",\\\"3.71\\\",\\\"3.72\\\",\\\"3.73\\\",\\\"3.74\\\",\\\"3.75\\\",\\\"3.76\\\",\\\"3.77\\\",\\\"3.78\\\",\\\"3.79\\\",\\\"3.8\\\",\\\"3.81\\\",\\\"3.82\\\",\\\"3.83\\\",\\\"3.84\\\",\\\"3.85\\\",\\\"3.86\\\",\\\"3.87\\\",\\\"3.88\\\",\\\"3.89\\\",\\\"3.9\\\",\\\"3.91\\\",\\\"3.92\\\",\\\"3.93\\\",\\\"3.94\\\",\\\"3.95\\\",\\\"3.96\\\",\\\"3.97\\\",\\\"3.98\\\",\\\"3.99\\\",\\\"4.0\\\",\\\"4.01\\\",\\\"4.02\\\",\\\"4.03\\\",\\\"4.04\\\",\\\"4.05\\\",\\\"4.06\\\",\\\"4.07\\\",\\\"4.08\\\",\\\"4.09\\\",\\\"4.1\\\",\\\"4.11\\\",\\\"4.12\\\",\\\"4.13\\\",\\\"4.14\\\",\\\"4.15\\\",\\\"4.16\\\",\\\"4.17\\\",\\\"4.18\\\",\\\"4.19\\\",\\\"4.2\\\",\\\"4.21\\\",\\\"4.22\\\",\\\"4.23\\\",\\\"4.24\\\",\\\"4.25\\\",\\\"4.26\\\",\\\"4.27\\\",\\\"4.28\\\",\\\"4.29\\\",\\\"4.3\\\",\\\"4.31\\\",\\\"4.32\\\",\\\"4.33\\\",\\\"4.34\\\",\\\"4.35\\\",\\\"4.36\\\",\\\"4.37\\\",\\\"4.38\\\",\\\"4.39\\\",\\\"4.4\\\",\\\"4.41\\\",\\\"4.42\\\",\\\"4.43\\\",\\\"4.44\\\",\\\"4.45\\\",\\\"4.46\\\",\\\"4.47\\\",\\\"4.48\\\",\\\"4.49\\\",\\\"4.5\\\",\\\"4.51\\\",\\\"4.52\\\",\\\"4.53\\\",\\\"4.54\\\",\\\"4.55\\\",\\\"4.56\\\",\\\"4.57\\\",\\\"4.58\\\",\\\"4.59\\\",\\\"4.6\\\",\\\"4.61\\\",\\\"4.62\\\",\\\"4.63\\\",\\\"4.64\\\",\\\"4.65\\\",\\\"4.66\\\",\\\"4.67\\\",\\\"4.68\\\",\\\"4.69\\\",\\\"4.7\\\",\\\"4.71\\\",\\\"4.72\\\",\\\"4.73\\\",\\\"4.74\\\",\\\"4.75\\\",\\\"4.76\\\",\\\"4.77\\\",\\\"4.78\\\",\\\"4.79\\\",\\\"4.8\\\",\\\"4.81\\\",\\\"4.82\\\",\\\"4.83\\\",\\\"4.84\\\",\\\"4.85\\\",\\\"4.86\\\",\\\"4.87\\\",\\\"4.88\\\",\\\"4.89\\\",\\\"4.9\\\",\\\"4.91\\\",\\\"4.92\\\",\\\"4.93\\\",\\\"4.94\\\",\\\"4.95\\\",\\\"4.96\\\",\\\"4.97\\\",\\\"4.98\\\",\\\"4.99\\\",\\\"5.0\\\",\\\"5.01\\\",\\\"5.02\\\",\\\"5.03\\\",\\\"5.04\\\",\\\"5.05\\\",\\\"5.06\\\",\\\"5.07\\\",\\\"5.08\\\",\\\"5.09\\\",\\\"5.1\\\",\\\"5.11\\\",\\\"5.12\\\",\\\"5.13\\\",\\\"5.14\\\",\\\"5.15\\\",\\\"5.16\\\",\\\"5.17\\\",\\\"5.18\\\",\\\"5.19\\\",\\\"5.2\\\",\\\"5.21\\\",\\\"5.22\\\",\\\"5.23\\\",\\\"5.24\\\",\\\"5.25\\\",\\\"5.26\\\",\\\"5.27\\\",\\\"5.28\\\",\\\"5.29\\\",\\\"5.3\\\",\\\"5.31\\\",\\\"5.32\\\",\\\"5.33\\\",\\\"5.34\\\",\\\"5.35\\\",\\\"5.36\\\",\\\"5.37\\\",\\\"5.38\\\",\\\"5.39\\\",\\\"5.4\\\",\\\"5.41\\\",\\\"5.42\\\",\\\"5.43\\\",\\\"5.44\\\",\\\"5.45\\\",\\\"5.46\\\",\\\"5.47\\\",\\\"5.48\\\",\\\"5.49\\\",\\\"5.5\\\",\\\"5.51\\\",\\\"5.52\\\",\\\"5.53\\\",\\\"5.54\\\",\\\"5.55\\\",\\\"5.56\\\",\\\"5.57\\\",\\\"5.58\\\",\\\"5.59\\\",\\\"5.6\\\",\\\"5.61\\\",\\\"5.62\\\",\\\"5.63\\\",\\\"5.64\\\",\\\"5.65\\\",\\\"5.66\\\",\\\"5.67\\\",\\\"5.68\\\",\\\"5.69\\\",\\\"5.7\\\",\\\"5.71\\\",\\\"5.72\\\",\\\"5.73\\\",\\\"5.74\\\",\\\"5.75\\\",\\\"5.76\\\",\\\"5.77\\\",\\\"5.78\\\",\\\"5.79\\\",\\\"5.8\\\",\\\"5.81\\\",\\\"5.82\\\",\\\"5.83\\\",\\\"5.84\\\",\\\"5.85\\\",\\\"5.86\\\",\\\"5.87\\\",\\\"5.88\\\",\\\"5.89\\\",\\\"5.9\\\",\\\"5.91\\\",\\\"5.92\\\",\\\"5.93\\\",\\\"5.94\\\",\\\"5.95\\\",\\\"5.96\\\",\\\"5.97\\\",\\\"5.98\\\",\\\"5.99\\\",\\\"6.0\\\",\\\"6.01\\\",\\\"6.02\\\",\\\"6.03\\\",\\\"6.04\\\",\\\"6.05\\\",\\\"6.06\\\",\\\"6.07\\\",\\\"6.08\\\",\\\"6.09\\\",\\\"6.1\\\",\\\"6.11\\\",\\\"6.12\\\",\\\"6.13\\\",\\\"6.14\\\",\\\"6.15\\\",\\\"6.16\\\",\\\"6.17\\\",\\\"6.18\\\",\\\"6.19\\\",\\\"6.2\\\",\\\"6.21\\\",\\\"6.22\\\",\\\"6.23\\\",\\\"6.24\\\",\\\"6.25\\\",\\\"6.26\\\",\\\"6.27\\\",\\\"6.28\\\",\\\"6.29\\\",\\\"6.3\\\",\\\"6.31\\\",\\\"6.32\\\",\\\"6.33\\\",\\\"6.34\\\",\\\"6.35\\\",\\\"6.36\\\",\\\"6.37\\\",\\\"6.38\\\",\\\"6.39\\\",\\\"6.4\\\",\\\"6.41\\\",\\\"6.42\\\",\\\"6.43\\\",\\\"6.44\\\",\\\"6.45\\\",\\\"6.46\\\",\\\"6.47\\\",\\\"6.48\\\",\\\"6.49\\\",\\\"6.5\\\",\\\"6.51\\\",\\\"6.52\\\",\\\"6.53\\\",\\\"6.54\\\",\\\"6.55\\\",\\\"6.56\\\",\\\"6.57\\\",\\\"6.58\\\",\\\"6.59\\\",\\\"6.6\\\",\\\"6.61\\\",\\\"6.62\\\",\\\"6.63\\\",\\\"6.64\\\",\\\"6.65\\\",\\\"6.66\\\",\\\"6.67\\\",\\\"6.68\\\",\\\"6.69\\\",\\\"6.7\\\",\\\"6.71\\\",\\\"6.72\\\",\\\"6.73\\\",\\\"6.74\\\",\\\"6.75\\\",\\\"6.76\\\",\\\"6.77\\\",\\\"6.78\\\",\\\"6.79\\\",\\\"6.8\\\",\\\"6.81\\\",\\\"6.82\\\",\\\"6.83\\\",\\\"6.84\\\",\\\"6.85\\\",\\\"6.86\\\",\\\"6.87\\\",\\\"6.88\\\",\\\"6.89\\\",\\\"6.9\\\",\\\"6.91\\\",\\\"6.92\\\",\\\"6.93\\\",\\\"6.94\\\",\\\"6.95\\\",\\\"6.96\\\",\\\"6.97\\\",\\\"6.98\\\",\\\"6.99\\\",\\\"7.0\\\",\\\"7.01\\\",\\\"7.02\\\",\\\"7.03\\\",\\\"7.04\\\",\\\"7.05\\\",\\\"7.06\\\",\\\"7.07\\\",\\\"7.08\\\",\\\"7.09\\\",\\\"7.1\\\",\\\"7.11\\\",\\\"7.12\\\",\\\"7.13\\\",\\\"7.14\\\",\\\"7.15\\\",\\\"7.16\\\",\\\"7.17\\\",\\\"7.18\\\",\\\"7.19\\\",\\\"7.2\\\",\\\"7.21\\\",\\\"7.22\\\",\\\"7.23\\\",\\\"7.24\\\",\\\"7.25\\\",\\\"7.26\\\",\\\"7.27\\\",\\\"7.28\\\",\\\"7.29\\\",\\\"7.3\\\",\\\"7.31\\\",\\\"7.32\\\",\\\"7.33\\\",\\\"7.34\\\",\\\"7.35\\\",\\\"7.36\\\",\\\"7.37\\\",\\\"7.38\\\",\\\"7.39\\\",\\\"7.4\\\",\\\"7.41\\\",\\\"7.42\\\",\\\"7.43\\\",\\\"7.44\\\",\\\"7.45\\\",\\\"7.46\\\",\\\"7.47\\\",\\\"7.48\\\",\\\"7.49\\\",\\\"7.5\\\",\\\"7.51\\\",\\\"7.52\\\",\\\"7.53\\\",\\\"7.54\\\",\\\"7.55\\\",\\\"7.56\\\",\\\"7.57\\\",\\\"7.58\\\",\\\"7.59\\\",\\\"7.6\\\",\\\"7.61\\\",\\\"7.62\\\",\\\"7.63\\\",\\\"7.64\\\",\\\"7.65\\\",\\\"7.66\\\",\\\"7.67\\\",\\\"7.68\\\",\\\"7.69\\\",\\\"7.7\\\",\\\"7.71\\\",\\\"7.72\\\",\\\"7.73\\\",\\\"7.74\\\",\\\"7.75\\\",\\\"7.76\\\",\\\"7.77\\\",\\\"7.78\\\",\\\"7.79\\\",\\\"7.8\\\",\\\"7.81\\\",\\\"7.82\\\",\\\"7.83\\\",\\\"7.84\\\",\\\"7.85\\\",\\\"7.86\\\",\\\"7.87\\\",\\\"7.88\\\",\\\"7.89\\\",\\\"7.9\\\",\\\"7.91\\\",\\\"7.92\\\",\\\"7.93\\\",\\\"7.94\\\",\\\"7.95\\\",\\\"7.96\\\",\\\"7.97\\\",\\\"7.98\\\",\\\"7.99\\\",\\\"8.0\\\",\\\"8.01\\\",\\\"8.02\\\",\\\"8.03\\\",\\\"8.04\\\",\\\"8.05\\\",\\\"8.06\\\",\\\"8.07\\\",\\\"8.08\\\",\\\"8.09\\\",\\\"8.1\\\",\\\"8.11\\\",\\\"8.12\\\",\\\"8.13\\\",\\\"8.14\\\",\\\"8.15\\\",\\\"8.16\\\",\\\"8.17\\\",\\\"8.18\\\",\\\"8.19\\\",\\\"8.2\\\",\\\"8.21\\\",\\\"8.22\\\",\\\"8.23\\\",\\\"8.24\\\",\\\"8.25\\\",\\\"8.26\\\",\\\"8.27\\\",\\\"8.28\\\",\\\"8.29\\\",\\\"8.3\\\",\\\"8.31\\\",\\\"8.32\\\",\\\"8.33\\\",\\\"8.34\\\",\\\"8.35\\\",\\\"8.36\\\",\\\"8.37\\\",\\\"8.38\\\",\\\"8.39\\\",\\\"8.4\\\",\\\"8.41\\\",\\\"8.42\\\",\\\"8.43\\\",\\\"8.44\\\",\\\"8.45\\\",\\\"8.46\\\",\\\"8.47\\\",\\\"8.48\\\",\\\"8.49\\\",\\\"8.5\\\",\\\"8.51\\\",\\\"8.52\\\",\\\"8.53\\\",\\\"8.54\\\",\\\"8.55\\\",\\\"8.56\\\",\\\"8.57\\\",\\\"8.58\\\",\\\"8.59\\\",\\\"8.6\\\",\\\"8.61\\\",\\\"8.62\\\",\\\"8.63\\\",\\\"8.64\\\",\\\"8.65\\\",\\\"8.66\\\",\\\"8.67\\\",\\\"8.68\\\",\\\"8.69\\\",\\\"8.7\\\",\\\"8.71\\\",\\\"8.72\\\",\\\"8.73\\\",\\\"8.74\\\",\\\"8.75\\\",\\\"8.76\\\",\\\"8.77\\\",\\\"8.78\\\",\\\"8.79\\\",\\\"8.8\\\",\\\"8.81\\\",\\\"8.82\\\",\\\"8.83\\\",\\\"8.84\\\",\\\"8.85\\\",\\\"8.86\\\",\\\"8.87\\\",\\\"8.88\\\",\\\"8.89\\\",\\\"8.9\\\",\\\"8.91\\\",\\\"8.92\\\",\\\"8.93\\\",\\\"8.94\\\",\\\"8.95\\\",\\\"8.96\\\",\\\"8.97\\\",\\\"8.98\\\",\\\"8.99\\\",\\\"9.0\\\",\\\"9.01\\\",\\\"9.02\\\",\\\"9.03\\\",\\\"9.04\\\",\\\"9.05\\\",\\\"9.06\\\",\\\"9.07\\\",\\\"9.08\\\",\\\"9.09\\\",\\\"9.1\\\",\\\"9.11\\\",\\\"9.12\\\",\\\"9.13\\\",\\\"9.14\\\",\\\"9.15\\\",\\\"9.16\\\",\\\"9.17\\\",\\\"9.18\\\",\\\"9.19\\\",\\\"9.2\\\",\\\"9.21\\\",\\\"9.22\\\",\\\"9.23\\\",\\\"9.24\\\",\\\"9.25\\\",\\\"9.26\\\",\\\"9.27\\\",\\\"9.28\\\",\\\"9.29\\\",\\\"9.3\\\",\\\"9.31\\\",\\\"9.32\\\",\\\"9.33\\\",\\\"9.34\\\",\\\"9.35\\\",\\\"9.36\\\",\\\"9.37\\\",\\\"9.38\\\",\\\"9.39\\\",\\\"9.4\\\",\\\"9.41\\\",\\\"9.42\\\",\\\"9.43\\\",\\\"9.44\\\",\\\"9.45\\\",\\\"9.46\\\",\\\"9.47\\\",\\\"9.48\\\",\\\"9.49\\\",\\\"9.5\\\",\\\"9.51\\\",\\\"9.52\\\",\\\"9.53\\\",\\\"9.54\\\",\\\"9.55\\\",\\\"9.56\\\",\\\"9.57\\\",\\\"9.58\\\",\\\"9.59\\\",\\\"9.6\\\",\\\"9.61\\\",\\\"9.62\\\",\\\"9.63\\\",\\\"9.64\\\",\\\"9.65\\\",\\\"9.66\\\",\\\"9.67\\\",\\\"9.68\\\",\\\"9.69\\\",\\\"9.7\\\",\\\"9.71\\\",\\\"9.72\\\",\\\"9.73\\\",\\\"9.74\\\",\\\"9.75\\\",\\\"9.76\\\",\\\"9.77\\\",\\\"9.78\\\",\\\"9.79\\\",\\\"9.8\\\",\\\"9.81\\\",\\\"9.82\\\",\\\"9.83\\\",\\\"9.84\\\",\\\"9.85\\\",\\\"9.86\\\",\\\"9.87\\\",\\\"9.88\\\",\\\"9.89\\\",\\\"9.9\\\",\\\"9.91\\\",\\\"9.92\\\",\\\"9.93\\\",\\\"9.94\\\",\\\"9.95\\\",\\\"9.96\\\",\\\"9.97\\\",\\\"9.98\\\",\\\"9.99\\\",\\\"10.0\\\"],\\\"changes\\\":WebIO.getval({\\\"name\\\":\\\"changes\\\",\\\"scope\\\":\\\"11878974999193548570\\\",\\\"id\\\":\\\"ob_57\\\",\\\"type\\\":\\\"observable\\\"}),\\\"index\\\":WebIO.getval({\\\"name\\\":\\\"index\\\",\\\"scope\\\":\\\"11878974999193548570\\\",\\\"id\\\":\\\"ob_56\\\",\\\"type\\\":\\\"observable\\\"})};\\n    var self = this;\\n    function AppViewModel() {\\n        for (var key in json_data) {\\n            var el = json_data[key];\\n            this[key] = Array.isArray(el) ? ko.observableArray(el) : ko.observable(el);\\n        }\\n        \\n        [this[\\\"formatted_val\\\"]=ko.computed(    function(){\\n        return this.formatted_vals()[parseInt(this.index())-(1)];\\n    }\\n,this)]\\n        [this[\\\"changes\\\"].subscribe((function (val){!(this.valueFromJulia[\\\"changes\\\"]) ? (WebIO.setval({\\\"name\\\":\\\"changes\\\",\\\"scope\\\":\\\"11878974999193548570\\\",\\\"id\\\":\\\"ob_57\\\",\\\"type\\\":\\\"observable\\\"},val)) : undefined; return this.valueFromJulia[\\\"changes\\\"]=false}),self),this[\\\"index\\\"].subscribe((function (val){!(this.valueFromJulia[\\\"index\\\"]) ? (WebIO.setval({\\\"name\\\":\\\"index\\\",\\\"scope\\\":\\\"11878974999193548570\\\",\\\"id\\\":\\\"ob_56\\\",\\\"type\\\":\\\"observable\\\"},val)) : undefined; return this.valueFromJulia[\\\"index\\\"]=false}),self)]\\n        \\n    }\\n    self.model = new AppViewModel();\\n    self.valueFromJulia = {};\\n    for (var key in json_data) {\\n        self.valueFromJulia[key] = false;\\n    }\\n    ko.applyBindings(self.model, self.dom);\\n}\\n);\\n    (WebIO.importBlock({\\\"data\\\":[{\\\"name\\\":\\\"knockout\\\",\\\"type\\\":\\\"js\\\",\\\"url\\\":\\\"\\/assetserver\\/bd369c9f3f65592d9de5e32611a3bd7919ce27e4-knockout.js\\\"},{\\\"name\\\":\\\"knockout_punches\\\",\\\"type\\\":\\\"js\\\",\\\"url\\\":\\\"\\/assetserver\\/3b50d12153ead1bb599ff862de1cdc44df7d6b87-knockout_punches.js\\\"}],\\\"type\\\":\\\"async_block\\\"})).then((imports) => handler.apply(this, imports));\\n}\\n\"],\"observables\":{\"changes\":{\"sync\":false,\"id\":\"ob_57\",\"value\":0},\"index\":{\"sync\":true,\"id\":\"ob_56\",\"value\":91}}},\"children\":[{\"props\":{\"className\":\"interact-flex-row interact-widget\"},\"nodeType\":\"DOM\",\"type\":\"node\",\"instanceArgs\":{\"namespace\":\"html\",\"tag\":\"div\"},\"children\":[{\"props\":{\"className\":\"interact-flex-row-left\"},\"nodeType\":\"DOM\",\"type\":\"node\",\"instanceArgs\":{\"namespace\":\"html\",\"tag\":\"div\"},\"children\":[{\"props\":{\"className\":\"interact \",\"style\":{\"padding\":\"5px 10px 0px 10px\"}},\"nodeType\":\"DOM\",\"type\":\"node\",\"instanceArgs\":{\"namespace\":\"html\",\"tag\":\"label\"},\"children\":[\"r1\"]}]},{\"props\":{\"className\":\"interact-flex-row-center\"},\"nodeType\":\"DOM\",\"type\":\"node\",\"instanceArgs\":{\"namespace\":\"html\",\"tag\":\"div\"},\"children\":[{\"props\":{\"max\":991,\"min\":1,\"attributes\":{\"type\":\"range\",\"data-bind\":\"numericValue: index, valueUpdate: 'input', event: {change: function (){this.changes(this.changes()+1)}}\",\"orient\":\"horizontal\"},\"step\":1,\"className\":\"slider slider is-fullwidth\",\"style\":{}},\"nodeType\":\"DOM\",\"type\":\"node\",\"instanceArgs\":{\"namespace\":\"html\",\"tag\":\"input\"},\"children\":[]}]},{\"props\":{\"className\":\"interact-flex-row-right\"},\"nodeType\":\"DOM\",\"type\":\"node\",\"instanceArgs\":{\"namespace\":\"html\",\"tag\":\"div\"},\"children\":[{\"props\":{\"attributes\":{\"data-bind\":\"text: formatted_val\"}},\"nodeType\":\"DOM\",\"type\":\"node\",\"instanceArgs\":{\"namespace\":\"html\",\"tag\":\"p\"},\"children\":[]}]}]}]}]},{\"props\":{\"className\":\"field interact-widget\"},\"nodeType\":\"DOM\",\"type\":\"node\",\"instanceArgs\":{\"namespace\":\"html\",\"tag\":\"div\"},\"children\":[{\"props\":{},\"nodeType\":\"Scope\",\"type\":\"node\",\"instanceArgs\":{\"imports\":{\"data\":[{\"name\":\"knockout\",\"type\":\"js\",\"url\":\"\\/assetserver\\/bd369c9f3f65592d9de5e32611a3bd7919ce27e4-knockout.js\"},{\"name\":\"knockout_punches\",\"type\":\"js\",\"url\":\"\\/assetserver\\/3b50d12153ead1bb599ff862de1cdc44df7d6b87-knockout_punches.js\"},{\"name\":null,\"type\":\"js\",\"url\":\"\\/assetserver\\/aa3951d9fb8679dff984ddfbf8b5e84bb80c8a32-all.js\"},{\"name\":null,\"type\":\"css\",\"url\":\"\\/assetserver\\/4d4e4f0d7e5786bcd65343de06f7537c7cc0439b-style.css\"},{\"name\":null,\"type\":\"css\",\"url\":\"\\/assetserver\\/29cbe869a436f8975bf1b635e657ff2c60889af7-bulma_confined.min.css\"}],\"type\":\"async_block\"},\"id\":\"10647274643376008625\",\"handlers\":{\"changes\":[\"(function (val){return (val!=this.model[\\\"changes\\\"]()) ? (this.valueFromJulia[\\\"changes\\\"]=true, this.model[\\\"changes\\\"](val)) : undefined})\"],\"index\":[\"(function (val){return (val!=this.model[\\\"index\\\"]()) ? (this.valueFromJulia[\\\"index\\\"]=true, this.model[\\\"index\\\"](val)) : undefined})\"]},\"systemjs_options\":null,\"mount_callbacks\":[\"function () {\\n    var handler = (function (ko, koPunches) {\\n    ko.punches.enableAll();\\n    ko.bindingHandlers.numericValue = {\\n        init: function(element, valueAccessor, allBindings, data, context) {\\n            var stringified = ko.observable(ko.unwrap(valueAccessor()));\\n            stringified.subscribe(function(value) {\\n                var val = parseFloat(value);\\n                if (!isNaN(val)) {\\n                    valueAccessor()(val);\\n                }\\n            });\\n            valueAccessor().subscribe(function(value) {\\n                var str = JSON.stringify(value);\\n                if ((str == \\\"0\\\") && ([\\\"-0\\\", \\\"-0.\\\"].indexOf(stringified()) >= 0))\\n                     return;\\n                 if ([\\\"null\\\", \\\"\\\"].indexOf(str) >= 0)\\n                     return;\\n                stringified(str);\\n            });\\n            ko.applyBindingsToNode(\\n                element,\\n                {\\n                    value: stringified,\\n                    valueUpdate: allBindings.get('valueUpdate'),\\n                },\\n                context,\\n            );\\n        }\\n    };\\n    var json_data = {\\\"formatted_vals\\\":[\\\"0.1\\\",\\\"0.11\\\",\\\"0.12\\\",\\\"0.13\\\",\\\"0.14\\\",\\\"0.15\\\",\\\"0.16\\\",\\\"0.17\\\",\\\"0.18\\\",\\\"0.19\\\",\\\"0.2\\\",\\\"0.21\\\",\\\"0.22\\\",\\\"0.23\\\",\\\"0.24\\\",\\\"0.25\\\",\\\"0.26\\\",\\\"0.27\\\",\\\"0.28\\\",\\\"0.29\\\",\\\"0.3\\\",\\\"0.31\\\",\\\"0.32\\\",\\\"0.33\\\",\\\"0.34\\\",\\\"0.35\\\",\\\"0.36\\\",\\\"0.37\\\",\\\"0.38\\\",\\\"0.39\\\",\\\"0.4\\\",\\\"0.41\\\",\\\"0.42\\\",\\\"0.43\\\",\\\"0.44\\\",\\\"0.45\\\",\\\"0.46\\\",\\\"0.47\\\",\\\"0.48\\\",\\\"0.49\\\",\\\"0.5\\\",\\\"0.51\\\",\\\"0.52\\\",\\\"0.53\\\",\\\"0.54\\\",\\\"0.55\\\",\\\"0.56\\\",\\\"0.57\\\",\\\"0.58\\\",\\\"0.59\\\",\\\"0.6\\\",\\\"0.61\\\",\\\"0.62\\\",\\\"0.63\\\",\\\"0.64\\\",\\\"0.65\\\",\\\"0.66\\\",\\\"0.67\\\",\\\"0.68\\\",\\\"0.69\\\",\\\"0.7\\\",\\\"0.71\\\",\\\"0.72\\\",\\\"0.73\\\",\\\"0.74\\\",\\\"0.75\\\",\\\"0.76\\\",\\\"0.77\\\",\\\"0.78\\\",\\\"0.79\\\",\\\"0.8\\\",\\\"0.81\\\",\\\"0.82\\\",\\\"0.83\\\",\\\"0.84\\\",\\\"0.85\\\",\\\"0.86\\\",\\\"0.87\\\",\\\"0.88\\\",\\\"0.89\\\",\\\"0.9\\\",\\\"0.91\\\",\\\"0.92\\\",\\\"0.93\\\",\\\"0.94\\\",\\\"0.95\\\",\\\"0.96\\\",\\\"0.97\\\",\\\"0.98\\\",\\\"0.99\\\",\\\"1.0\\\",\\\"1.01\\\",\\\"1.02\\\",\\\"1.03\\\",\\\"1.04\\\",\\\"1.05\\\",\\\"1.06\\\",\\\"1.07\\\",\\\"1.08\\\",\\\"1.09\\\",\\\"1.1\\\",\\\"1.11\\\",\\\"1.12\\\",\\\"1.13\\\",\\\"1.14\\\",\\\"1.15\\\",\\\"1.16\\\",\\\"1.17\\\",\\\"1.18\\\",\\\"1.19\\\",\\\"1.2\\\",\\\"1.21\\\",\\\"1.22\\\",\\\"1.23\\\",\\\"1.24\\\",\\\"1.25\\\",\\\"1.26\\\",\\\"1.27\\\",\\\"1.28\\\",\\\"1.29\\\",\\\"1.3\\\",\\\"1.31\\\",\\\"1.32\\\",\\\"1.33\\\",\\\"1.34\\\",\\\"1.35\\\",\\\"1.36\\\",\\\"1.37\\\",\\\"1.38\\\",\\\"1.39\\\",\\\"1.4\\\",\\\"1.41\\\",\\\"1.42\\\",\\\"1.43\\\",\\\"1.44\\\",\\\"1.45\\\",\\\"1.46\\\",\\\"1.47\\\",\\\"1.48\\\",\\\"1.49\\\",\\\"1.5\\\",\\\"1.51\\\",\\\"1.52\\\",\\\"1.53\\\",\\\"1.54\\\",\\\"1.55\\\",\\\"1.56\\\",\\\"1.57\\\",\\\"1.58\\\",\\\"1.59\\\",\\\"1.6\\\",\\\"1.61\\\",\\\"1.62\\\",\\\"1.63\\\",\\\"1.64\\\",\\\"1.65\\\",\\\"1.66\\\",\\\"1.67\\\",\\\"1.68\\\",\\\"1.69\\\",\\\"1.7\\\",\\\"1.71\\\",\\\"1.72\\\",\\\"1.73\\\",\\\"1.74\\\",\\\"1.75\\\",\\\"1.76\\\",\\\"1.77\\\",\\\"1.78\\\",\\\"1.79\\\",\\\"1.8\\\",\\\"1.81\\\",\\\"1.82\\\",\\\"1.83\\\",\\\"1.84\\\",\\\"1.85\\\",\\\"1.86\\\",\\\"1.87\\\",\\\"1.88\\\",\\\"1.89\\\",\\\"1.9\\\",\\\"1.91\\\",\\\"1.92\\\",\\\"1.93\\\",\\\"1.94\\\",\\\"1.95\\\",\\\"1.96\\\",\\\"1.97\\\",\\\"1.98\\\",\\\"1.99\\\",\\\"2.0\\\",\\\"2.01\\\",\\\"2.02\\\",\\\"2.03\\\",\\\"2.04\\\",\\\"2.05\\\",\\\"2.06\\\",\\\"2.07\\\",\\\"2.08\\\",\\\"2.09\\\",\\\"2.1\\\",\\\"2.11\\\",\\\"2.12\\\",\\\"2.13\\\",\\\"2.14\\\",\\\"2.15\\\",\\\"2.16\\\",\\\"2.17\\\",\\\"2.18\\\",\\\"2.19\\\",\\\"2.2\\\",\\\"2.21\\\",\\\"2.22\\\",\\\"2.23\\\",\\\"2.24\\\",\\\"2.25\\\",\\\"2.26\\\",\\\"2.27\\\",\\\"2.28\\\",\\\"2.29\\\",\\\"2.3\\\",\\\"2.31\\\",\\\"2.32\\\",\\\"2.33\\\",\\\"2.34\\\",\\\"2.35\\\",\\\"2.36\\\",\\\"2.37\\\",\\\"2.38\\\",\\\"2.39\\\",\\\"2.4\\\",\\\"2.41\\\",\\\"2.42\\\",\\\"2.43\\\",\\\"2.44\\\",\\\"2.45\\\",\\\"2.46\\\",\\\"2.47\\\",\\\"2.48\\\",\\\"2.49\\\",\\\"2.5\\\",\\\"2.51\\\",\\\"2.52\\\",\\\"2.53\\\",\\\"2.54\\\",\\\"2.55\\\",\\\"2.56\\\",\\\"2.57\\\",\\\"2.58\\\",\\\"2.59\\\",\\\"2.6\\\",\\\"2.61\\\",\\\"2.62\\\",\\\"2.63\\\",\\\"2.64\\\",\\\"2.65\\\",\\\"2.66\\\",\\\"2.67\\\",\\\"2.68\\\",\\\"2.69\\\",\\\"2.7\\\",\\\"2.71\\\",\\\"2.72\\\",\\\"2.73\\\",\\\"2.74\\\",\\\"2.75\\\",\\\"2.76\\\",\\\"2.77\\\",\\\"2.78\\\",\\\"2.79\\\",\\\"2.8\\\",\\\"2.81\\\",\\\"2.82\\\",\\\"2.83\\\",\\\"2.84\\\",\\\"2.85\\\",\\\"2.86\\\",\\\"2.87\\\",\\\"2.88\\\",\\\"2.89\\\",\\\"2.9\\\",\\\"2.91\\\",\\\"2.92\\\",\\\"2.93\\\",\\\"2.94\\\",\\\"2.95\\\",\\\"2.96\\\",\\\"2.97\\\",\\\"2.98\\\",\\\"2.99\\\",\\\"3.0\\\",\\\"3.01\\\",\\\"3.02\\\",\\\"3.03\\\",\\\"3.04\\\",\\\"3.05\\\",\\\"3.06\\\",\\\"3.07\\\",\\\"3.08\\\",\\\"3.09\\\",\\\"3.1\\\",\\\"3.11\\\",\\\"3.12\\\",\\\"3.13\\\",\\\"3.14\\\",\\\"3.15\\\",\\\"3.16\\\",\\\"3.17\\\",\\\"3.18\\\",\\\"3.19\\\",\\\"3.2\\\",\\\"3.21\\\",\\\"3.22\\\",\\\"3.23\\\",\\\"3.24\\\",\\\"3.25\\\",\\\"3.26\\\",\\\"3.27\\\",\\\"3.28\\\",\\\"3.29\\\",\\\"3.3\\\",\\\"3.31\\\",\\\"3.32\\\",\\\"3.33\\\",\\\"3.34\\\",\\\"3.35\\\",\\\"3.36\\\",\\\"3.37\\\",\\\"3.38\\\",\\\"3.39\\\",\\\"3.4\\\",\\\"3.41\\\",\\\"3.42\\\",\\\"3.43\\\",\\\"3.44\\\",\\\"3.45\\\",\\\"3.46\\\",\\\"3.47\\\",\\\"3.48\\\",\\\"3.49\\\",\\\"3.5\\\",\\\"3.51\\\",\\\"3.52\\\",\\\"3.53\\\",\\\"3.54\\\",\\\"3.55\\\",\\\"3.56\\\",\\\"3.57\\\",\\\"3.58\\\",\\\"3.59\\\",\\\"3.6\\\",\\\"3.61\\\",\\\"3.62\\\",\\\"3.63\\\",\\\"3.64\\\",\\\"3.65\\\",\\\"3.66\\\",\\\"3.67\\\",\\\"3.68\\\",\\\"3.69\\\",\\\"3.7\\\",\\\"3.71\\\",\\\"3.72\\\",\\\"3.73\\\",\\\"3.74\\\",\\\"3.75\\\",\\\"3.76\\\",\\\"3.77\\\",\\\"3.78\\\",\\\"3.79\\\",\\\"3.8\\\",\\\"3.81\\\",\\\"3.82\\\",\\\"3.83\\\",\\\"3.84\\\",\\\"3.85\\\",\\\"3.86\\\",\\\"3.87\\\",\\\"3.88\\\",\\\"3.89\\\",\\\"3.9\\\",\\\"3.91\\\",\\\"3.92\\\",\\\"3.93\\\",\\\"3.94\\\",\\\"3.95\\\",\\\"3.96\\\",\\\"3.97\\\",\\\"3.98\\\",\\\"3.99\\\",\\\"4.0\\\",\\\"4.01\\\",\\\"4.02\\\",\\\"4.03\\\",\\\"4.04\\\",\\\"4.05\\\",\\\"4.06\\\",\\\"4.07\\\",\\\"4.08\\\",\\\"4.09\\\",\\\"4.1\\\",\\\"4.11\\\",\\\"4.12\\\",\\\"4.13\\\",\\\"4.14\\\",\\\"4.15\\\",\\\"4.16\\\",\\\"4.17\\\",\\\"4.18\\\",\\\"4.19\\\",\\\"4.2\\\",\\\"4.21\\\",\\\"4.22\\\",\\\"4.23\\\",\\\"4.24\\\",\\\"4.25\\\",\\\"4.26\\\",\\\"4.27\\\",\\\"4.28\\\",\\\"4.29\\\",\\\"4.3\\\",\\\"4.31\\\",\\\"4.32\\\",\\\"4.33\\\",\\\"4.34\\\",\\\"4.35\\\",\\\"4.36\\\",\\\"4.37\\\",\\\"4.38\\\",\\\"4.39\\\",\\\"4.4\\\",\\\"4.41\\\",\\\"4.42\\\",\\\"4.43\\\",\\\"4.44\\\",\\\"4.45\\\",\\\"4.46\\\",\\\"4.47\\\",\\\"4.48\\\",\\\"4.49\\\",\\\"4.5\\\",\\\"4.51\\\",\\\"4.52\\\",\\\"4.53\\\",\\\"4.54\\\",\\\"4.55\\\",\\\"4.56\\\",\\\"4.57\\\",\\\"4.58\\\",\\\"4.59\\\",\\\"4.6\\\",\\\"4.61\\\",\\\"4.62\\\",\\\"4.63\\\",\\\"4.64\\\",\\\"4.65\\\",\\\"4.66\\\",\\\"4.67\\\",\\\"4.68\\\",\\\"4.69\\\",\\\"4.7\\\",\\\"4.71\\\",\\\"4.72\\\",\\\"4.73\\\",\\\"4.74\\\",\\\"4.75\\\",\\\"4.76\\\",\\\"4.77\\\",\\\"4.78\\\",\\\"4.79\\\",\\\"4.8\\\",\\\"4.81\\\",\\\"4.82\\\",\\\"4.83\\\",\\\"4.84\\\",\\\"4.85\\\",\\\"4.86\\\",\\\"4.87\\\",\\\"4.88\\\",\\\"4.89\\\",\\\"4.9\\\",\\\"4.91\\\",\\\"4.92\\\",\\\"4.93\\\",\\\"4.94\\\",\\\"4.95\\\",\\\"4.96\\\",\\\"4.97\\\",\\\"4.98\\\",\\\"4.99\\\",\\\"5.0\\\",\\\"5.01\\\",\\\"5.02\\\",\\\"5.03\\\",\\\"5.04\\\",\\\"5.05\\\",\\\"5.06\\\",\\\"5.07\\\",\\\"5.08\\\",\\\"5.09\\\",\\\"5.1\\\",\\\"5.11\\\",\\\"5.12\\\",\\\"5.13\\\",\\\"5.14\\\",\\\"5.15\\\",\\\"5.16\\\",\\\"5.17\\\",\\\"5.18\\\",\\\"5.19\\\",\\\"5.2\\\",\\\"5.21\\\",\\\"5.22\\\",\\\"5.23\\\",\\\"5.24\\\",\\\"5.25\\\",\\\"5.26\\\",\\\"5.27\\\",\\\"5.28\\\",\\\"5.29\\\",\\\"5.3\\\",\\\"5.31\\\",\\\"5.32\\\",\\\"5.33\\\",\\\"5.34\\\",\\\"5.35\\\",\\\"5.36\\\",\\\"5.37\\\",\\\"5.38\\\",\\\"5.39\\\",\\\"5.4\\\",\\\"5.41\\\",\\\"5.42\\\",\\\"5.43\\\",\\\"5.44\\\",\\\"5.45\\\",\\\"5.46\\\",\\\"5.47\\\",\\\"5.48\\\",\\\"5.49\\\",\\\"5.5\\\",\\\"5.51\\\",\\\"5.52\\\",\\\"5.53\\\",\\\"5.54\\\",\\\"5.55\\\",\\\"5.56\\\",\\\"5.57\\\",\\\"5.58\\\",\\\"5.59\\\",\\\"5.6\\\",\\\"5.61\\\",\\\"5.62\\\",\\\"5.63\\\",\\\"5.64\\\",\\\"5.65\\\",\\\"5.66\\\",\\\"5.67\\\",\\\"5.68\\\",\\\"5.69\\\",\\\"5.7\\\",\\\"5.71\\\",\\\"5.72\\\",\\\"5.73\\\",\\\"5.74\\\",\\\"5.75\\\",\\\"5.76\\\",\\\"5.77\\\",\\\"5.78\\\",\\\"5.79\\\",\\\"5.8\\\",\\\"5.81\\\",\\\"5.82\\\",\\\"5.83\\\",\\\"5.84\\\",\\\"5.85\\\",\\\"5.86\\\",\\\"5.87\\\",\\\"5.88\\\",\\\"5.89\\\",\\\"5.9\\\",\\\"5.91\\\",\\\"5.92\\\",\\\"5.93\\\",\\\"5.94\\\",\\\"5.95\\\",\\\"5.96\\\",\\\"5.97\\\",\\\"5.98\\\",\\\"5.99\\\",\\\"6.0\\\",\\\"6.01\\\",\\\"6.02\\\",\\\"6.03\\\",\\\"6.04\\\",\\\"6.05\\\",\\\"6.06\\\",\\\"6.07\\\",\\\"6.08\\\",\\\"6.09\\\",\\\"6.1\\\",\\\"6.11\\\",\\\"6.12\\\",\\\"6.13\\\",\\\"6.14\\\",\\\"6.15\\\",\\\"6.16\\\",\\\"6.17\\\",\\\"6.18\\\",\\\"6.19\\\",\\\"6.2\\\",\\\"6.21\\\",\\\"6.22\\\",\\\"6.23\\\",\\\"6.24\\\",\\\"6.25\\\",\\\"6.26\\\",\\\"6.27\\\",\\\"6.28\\\",\\\"6.29\\\",\\\"6.3\\\",\\\"6.31\\\",\\\"6.32\\\",\\\"6.33\\\",\\\"6.34\\\",\\\"6.35\\\",\\\"6.36\\\",\\\"6.37\\\",\\\"6.38\\\",\\\"6.39\\\",\\\"6.4\\\",\\\"6.41\\\",\\\"6.42\\\",\\\"6.43\\\",\\\"6.44\\\",\\\"6.45\\\",\\\"6.46\\\",\\\"6.47\\\",\\\"6.48\\\",\\\"6.49\\\",\\\"6.5\\\",\\\"6.51\\\",\\\"6.52\\\",\\\"6.53\\\",\\\"6.54\\\",\\\"6.55\\\",\\\"6.56\\\",\\\"6.57\\\",\\\"6.58\\\",\\\"6.59\\\",\\\"6.6\\\",\\\"6.61\\\",\\\"6.62\\\",\\\"6.63\\\",\\\"6.64\\\",\\\"6.65\\\",\\\"6.66\\\",\\\"6.67\\\",\\\"6.68\\\",\\\"6.69\\\",\\\"6.7\\\",\\\"6.71\\\",\\\"6.72\\\",\\\"6.73\\\",\\\"6.74\\\",\\\"6.75\\\",\\\"6.76\\\",\\\"6.77\\\",\\\"6.78\\\",\\\"6.79\\\",\\\"6.8\\\",\\\"6.81\\\",\\\"6.82\\\",\\\"6.83\\\",\\\"6.84\\\",\\\"6.85\\\",\\\"6.86\\\",\\\"6.87\\\",\\\"6.88\\\",\\\"6.89\\\",\\\"6.9\\\",\\\"6.91\\\",\\\"6.92\\\",\\\"6.93\\\",\\\"6.94\\\",\\\"6.95\\\",\\\"6.96\\\",\\\"6.97\\\",\\\"6.98\\\",\\\"6.99\\\",\\\"7.0\\\",\\\"7.01\\\",\\\"7.02\\\",\\\"7.03\\\",\\\"7.04\\\",\\\"7.05\\\",\\\"7.06\\\",\\\"7.07\\\",\\\"7.08\\\",\\\"7.09\\\",\\\"7.1\\\",\\\"7.11\\\",\\\"7.12\\\",\\\"7.13\\\",\\\"7.14\\\",\\\"7.15\\\",\\\"7.16\\\",\\\"7.17\\\",\\\"7.18\\\",\\\"7.19\\\",\\\"7.2\\\",\\\"7.21\\\",\\\"7.22\\\",\\\"7.23\\\",\\\"7.24\\\",\\\"7.25\\\",\\\"7.26\\\",\\\"7.27\\\",\\\"7.28\\\",\\\"7.29\\\",\\\"7.3\\\",\\\"7.31\\\",\\\"7.32\\\",\\\"7.33\\\",\\\"7.34\\\",\\\"7.35\\\",\\\"7.36\\\",\\\"7.37\\\",\\\"7.38\\\",\\\"7.39\\\",\\\"7.4\\\",\\\"7.41\\\",\\\"7.42\\\",\\\"7.43\\\",\\\"7.44\\\",\\\"7.45\\\",\\\"7.46\\\",\\\"7.47\\\",\\\"7.48\\\",\\\"7.49\\\",\\\"7.5\\\",\\\"7.51\\\",\\\"7.52\\\",\\\"7.53\\\",\\\"7.54\\\",\\\"7.55\\\",\\\"7.56\\\",\\\"7.57\\\",\\\"7.58\\\",\\\"7.59\\\",\\\"7.6\\\",\\\"7.61\\\",\\\"7.62\\\",\\\"7.63\\\",\\\"7.64\\\",\\\"7.65\\\",\\\"7.66\\\",\\\"7.67\\\",\\\"7.68\\\",\\\"7.69\\\",\\\"7.7\\\",\\\"7.71\\\",\\\"7.72\\\",\\\"7.73\\\",\\\"7.74\\\",\\\"7.75\\\",\\\"7.76\\\",\\\"7.77\\\",\\\"7.78\\\",\\\"7.79\\\",\\\"7.8\\\",\\\"7.81\\\",\\\"7.82\\\",\\\"7.83\\\",\\\"7.84\\\",\\\"7.85\\\",\\\"7.86\\\",\\\"7.87\\\",\\\"7.88\\\",\\\"7.89\\\",\\\"7.9\\\",\\\"7.91\\\",\\\"7.92\\\",\\\"7.93\\\",\\\"7.94\\\",\\\"7.95\\\",\\\"7.96\\\",\\\"7.97\\\",\\\"7.98\\\",\\\"7.99\\\",\\\"8.0\\\",\\\"8.01\\\",\\\"8.02\\\",\\\"8.03\\\",\\\"8.04\\\",\\\"8.05\\\",\\\"8.06\\\",\\\"8.07\\\",\\\"8.08\\\",\\\"8.09\\\",\\\"8.1\\\",\\\"8.11\\\",\\\"8.12\\\",\\\"8.13\\\",\\\"8.14\\\",\\\"8.15\\\",\\\"8.16\\\",\\\"8.17\\\",\\\"8.18\\\",\\\"8.19\\\",\\\"8.2\\\",\\\"8.21\\\",\\\"8.22\\\",\\\"8.23\\\",\\\"8.24\\\",\\\"8.25\\\",\\\"8.26\\\",\\\"8.27\\\",\\\"8.28\\\",\\\"8.29\\\",\\\"8.3\\\",\\\"8.31\\\",\\\"8.32\\\",\\\"8.33\\\",\\\"8.34\\\",\\\"8.35\\\",\\\"8.36\\\",\\\"8.37\\\",\\\"8.38\\\",\\\"8.39\\\",\\\"8.4\\\",\\\"8.41\\\",\\\"8.42\\\",\\\"8.43\\\",\\\"8.44\\\",\\\"8.45\\\",\\\"8.46\\\",\\\"8.47\\\",\\\"8.48\\\",\\\"8.49\\\",\\\"8.5\\\",\\\"8.51\\\",\\\"8.52\\\",\\\"8.53\\\",\\\"8.54\\\",\\\"8.55\\\",\\\"8.56\\\",\\\"8.57\\\",\\\"8.58\\\",\\\"8.59\\\",\\\"8.6\\\",\\\"8.61\\\",\\\"8.62\\\",\\\"8.63\\\",\\\"8.64\\\",\\\"8.65\\\",\\\"8.66\\\",\\\"8.67\\\",\\\"8.68\\\",\\\"8.69\\\",\\\"8.7\\\",\\\"8.71\\\",\\\"8.72\\\",\\\"8.73\\\",\\\"8.74\\\",\\\"8.75\\\",\\\"8.76\\\",\\\"8.77\\\",\\\"8.78\\\",\\\"8.79\\\",\\\"8.8\\\",\\\"8.81\\\",\\\"8.82\\\",\\\"8.83\\\",\\\"8.84\\\",\\\"8.85\\\",\\\"8.86\\\",\\\"8.87\\\",\\\"8.88\\\",\\\"8.89\\\",\\\"8.9\\\",\\\"8.91\\\",\\\"8.92\\\",\\\"8.93\\\",\\\"8.94\\\",\\\"8.95\\\",\\\"8.96\\\",\\\"8.97\\\",\\\"8.98\\\",\\\"8.99\\\",\\\"9.0\\\",\\\"9.01\\\",\\\"9.02\\\",\\\"9.03\\\",\\\"9.04\\\",\\\"9.05\\\",\\\"9.06\\\",\\\"9.07\\\",\\\"9.08\\\",\\\"9.09\\\",\\\"9.1\\\",\\\"9.11\\\",\\\"9.12\\\",\\\"9.13\\\",\\\"9.14\\\",\\\"9.15\\\",\\\"9.16\\\",\\\"9.17\\\",\\\"9.18\\\",\\\"9.19\\\",\\\"9.2\\\",\\\"9.21\\\",\\\"9.22\\\",\\\"9.23\\\",\\\"9.24\\\",\\\"9.25\\\",\\\"9.26\\\",\\\"9.27\\\",\\\"9.28\\\",\\\"9.29\\\",\\\"9.3\\\",\\\"9.31\\\",\\\"9.32\\\",\\\"9.33\\\",\\\"9.34\\\",\\\"9.35\\\",\\\"9.36\\\",\\\"9.37\\\",\\\"9.38\\\",\\\"9.39\\\",\\\"9.4\\\",\\\"9.41\\\",\\\"9.42\\\",\\\"9.43\\\",\\\"9.44\\\",\\\"9.45\\\",\\\"9.46\\\",\\\"9.47\\\",\\\"9.48\\\",\\\"9.49\\\",\\\"9.5\\\",\\\"9.51\\\",\\\"9.52\\\",\\\"9.53\\\",\\\"9.54\\\",\\\"9.55\\\",\\\"9.56\\\",\\\"9.57\\\",\\\"9.58\\\",\\\"9.59\\\",\\\"9.6\\\",\\\"9.61\\\",\\\"9.62\\\",\\\"9.63\\\",\\\"9.64\\\",\\\"9.65\\\",\\\"9.66\\\",\\\"9.67\\\",\\\"9.68\\\",\\\"9.69\\\",\\\"9.7\\\",\\\"9.71\\\",\\\"9.72\\\",\\\"9.73\\\",\\\"9.74\\\",\\\"9.75\\\",\\\"9.76\\\",\\\"9.77\\\",\\\"9.78\\\",\\\"9.79\\\",\\\"9.8\\\",\\\"9.81\\\",\\\"9.82\\\",\\\"9.83\\\",\\\"9.84\\\",\\\"9.85\\\",\\\"9.86\\\",\\\"9.87\\\",\\\"9.88\\\",\\\"9.89\\\",\\\"9.9\\\",\\\"9.91\\\",\\\"9.92\\\",\\\"9.93\\\",\\\"9.94\\\",\\\"9.95\\\",\\\"9.96\\\",\\\"9.97\\\",\\\"9.98\\\",\\\"9.99\\\",\\\"10.0\\\"],\\\"changes\\\":WebIO.getval({\\\"name\\\":\\\"changes\\\",\\\"scope\\\":\\\"10647274643376008625\\\",\\\"id\\\":\\\"ob_60\\\",\\\"type\\\":\\\"observable\\\"}),\\\"index\\\":WebIO.getval({\\\"name\\\":\\\"index\\\",\\\"scope\\\":\\\"10647274643376008625\\\",\\\"id\\\":\\\"ob_59\\\",\\\"type\\\":\\\"observable\\\"})};\\n    var self = this;\\n    function AppViewModel() {\\n        for (var key in json_data) {\\n            var el = json_data[key];\\n            this[key] = Array.isArray(el) ? ko.observableArray(el) : ko.observable(el);\\n        }\\n        \\n        [this[\\\"formatted_val\\\"]=ko.computed(    function(){\\n        return this.formatted_vals()[parseInt(this.index())-(1)];\\n    }\\n,this)]\\n        [this[\\\"changes\\\"].subscribe((function (val){!(this.valueFromJulia[\\\"changes\\\"]) ? (WebIO.setval({\\\"name\\\":\\\"changes\\\",\\\"scope\\\":\\\"10647274643376008625\\\",\\\"id\\\":\\\"ob_60\\\",\\\"type\\\":\\\"observable\\\"},val)) : undefined; return this.valueFromJulia[\\\"changes\\\"]=false}),self),this[\\\"index\\\"].subscribe((function (val){!(this.valueFromJulia[\\\"index\\\"]) ? (WebIO.setval({\\\"name\\\":\\\"index\\\",\\\"scope\\\":\\\"10647274643376008625\\\",\\\"id\\\":\\\"ob_59\\\",\\\"type\\\":\\\"observable\\\"},val)) : undefined; return this.valueFromJulia[\\\"index\\\"]=false}),self)]\\n        \\n    }\\n    self.model = new AppViewModel();\\n    self.valueFromJulia = {};\\n    for (var key in json_data) {\\n        self.valueFromJulia[key] = false;\\n    }\\n    ko.applyBindings(self.model, self.dom);\\n}\\n);\\n    (WebIO.importBlock({\\\"data\\\":[{\\\"name\\\":\\\"knockout\\\",\\\"type\\\":\\\"js\\\",\\\"url\\\":\\\"\\/assetserver\\/bd369c9f3f65592d9de5e32611a3bd7919ce27e4-knockout.js\\\"},{\\\"name\\\":\\\"knockout_punches\\\",\\\"type\\\":\\\"js\\\",\\\"url\\\":\\\"\\/assetserver\\/3b50d12153ead1bb599ff862de1cdc44df7d6b87-knockout_punches.js\\\"}],\\\"type\\\":\\\"async_block\\\"})).then((imports) => handler.apply(this, imports));\\n}\\n\"],\"observables\":{\"changes\":{\"sync\":false,\"id\":\"ob_60\",\"value\":0},\"index\":{\"sync\":true,\"id\":\"ob_59\",\"value\":191}}},\"children\":[{\"props\":{\"className\":\"interact-flex-row interact-widget\"},\"nodeType\":\"DOM\",\"type\":\"node\",\"instanceArgs\":{\"namespace\":\"html\",\"tag\":\"div\"},\"children\":[{\"props\":{\"className\":\"interact-flex-row-left\"},\"nodeType\":\"DOM\",\"type\":\"node\",\"instanceArgs\":{\"namespace\":\"html\",\"tag\":\"div\"},\"children\":[{\"props\":{\"className\":\"interact \",\"style\":{\"padding\":\"5px 10px 0px 10px\"}},\"nodeType\":\"DOM\",\"type\":\"node\",\"instanceArgs\":{\"namespace\":\"html\",\"tag\":\"label\"},\"children\":[\"r2\"]}]},{\"props\":{\"className\":\"interact-flex-row-center\"},\"nodeType\":\"DOM\",\"type\":\"node\",\"instanceArgs\":{\"namespace\":\"html\",\"tag\":\"div\"},\"children\":[{\"props\":{\"max\":991,\"min\":1,\"attributes\":{\"type\":\"range\",\"data-bind\":\"numericValue: index, valueUpdate: 'input', event: {change: function (){this.changes(this.changes()+1)}}\",\"orient\":\"horizontal\"},\"step\":1,\"className\":\"slider slider is-fullwidth\",\"style\":{}},\"nodeType\":\"DOM\",\"type\":\"node\",\"instanceArgs\":{\"namespace\":\"html\",\"tag\":\"input\"},\"children\":[]}]},{\"props\":{\"className\":\"interact-flex-row-right\"},\"nodeType\":\"DOM\",\"type\":\"node\",\"instanceArgs\":{\"namespace\":\"html\",\"tag\":\"div\"},\"children\":[{\"props\":{\"attributes\":{\"data-bind\":\"text: formatted_val\"}},\"nodeType\":\"DOM\",\"type\":\"node\",\"instanceArgs\":{\"namespace\":\"html\",\"tag\":\"p\"},\"children\":[]}]}]}]}]},{\"props\":{},\"nodeType\":\"Scope\",\"type\":\"node\",\"instanceArgs\":{\"imports\":{\"data\":[],\"type\":\"async_block\"},\"id\":\"2520622600683785191\",\"handlers\":{},\"systemjs_options\":null,\"mount_callbacks\":[],\"observables\":{\"obs-node\":{\"sync\":false,\"id\":\"ob_64\",\"value\":{\"props\":{\"className\":\"interact-flex-row interact-widget\"},\"nodeType\":\"DOM\",\"type\":\"node\",\"instanceArgs\":{\"namespace\":\"html\",\"tag\":\"div\"},\"children\":[{\"props\":{\"setInnerHtml\":\"<img src='data:image\\/png;base64,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'><\\/img>\"},\"nodeType\":\"DOM\",\"type\":\"node\",\"instanceArgs\":{\"namespace\":\"html\",\"tag\":\"div\"},\"children\":[]}]}}}},\"children\":[{\"props\":{},\"nodeType\":\"ObservableNode\",\"type\":\"node\",\"instanceArgs\":{\"id\":\"ob_64\",\"name\":\"obs-node\"},\"children\":[]}]}]},\n",
       "            window,\n",
       "        );\n",
       "    } else {\n",
       "        document\n",
       "            .querySelector('[data-webio-mountpoint=\"17498327555768521166\"]')\n",
       "            .innerHTML = (\n",
       "                '<strong>WebIO not detected. Please read ' +\n",
       "                '<a href=\"https://juliagizmos.github.io/WebIO.jl/latest/troubleshooting/not-detected/\">the troubleshooting guide</a> ' +\n",
       "                'for more information on how to resolve this issue.' +\n",
       "                '</strong>'\n",
       "            );\n",
       "    }\n",
       "    </script>\n",
       "</div>\n"
      ],
      "text/plain": [
       "Node{WebIO.DOM}(WebIO.DOM(:html, :div), Any[Node{DOM}(DOM(:html, :div), Any[Scope(Node{DOM}(DOM(:html, :div), Any[Node{DOM}(DOM(:html, :div), Any[Node{DOM}(DOM(:html, :label), Any[\"α12\"], Dict{Symbol,Any}(:className=>\"interact \",:style=>Dict{Any,Any}(:padding=>\"5px 10px 0px 10px\")))], Dict{Symbol,Any}(:className=>\"interact-flex-row-left\")), Node{DOM}(DOM(:html, :div), Any[Node{DOM}(DOM(:html, :input), Any[], Dict{Symbol,Any}(:max=>191,:min=>1,:attributes=>Dict{Any,Any}(:type=>\"range\",Symbol(\"data-bind\")=>\"numericValue: index, valueUpdate: 'input', event: {change: function (){this.changes(this.changes()+1)}}\",\"orient\"=>\"horizontal\"),:step=>1,:className=>\"slider slider is-fullwidth\",:style=>Dict{Any,Any}()))], Dict{Symbol,Any}(:className=>\"interact-flex-row-center\")), Node{DOM}(DOM(:html, :div), Any[Node{DOM}(DOM(:html, :p), Any[], Dict{Symbol,Any}(:attributes=>Dict(\"data-bind\"=>\"text: formatted_val\")))], Dict{Symbol,Any}(:className=>\"interact-flex-row-right\"))], Dict{Symbol,Any}(:className=>\"interact-flex-row interact-widget\")), Dict{String,Tuple{Observables.AbstractObservable,Union{Nothing, Bool}}}(\"changes\"=>(Observable{Int64} with 1 listeners. Value:\n",
       "0, nothing),\"index\"=>(Observable{Any} with 2 listeners. Value:\n",
       "71, nothing)), Set(String[]), nothing, Asset[Asset(\"js\", \"knockout\", \"C:\\\\Users\\\\gabrielgellner\\\\.julia\\\\packages\\\\Knockout\\\\1sDlc\\\\src\\\\..\\\\assets\\\\knockout.js\"), Asset(\"js\", \"knockout_punches\", \"C:\\\\Users\\\\gabrielgellner\\\\.julia\\\\packages\\\\Knockout\\\\1sDlc\\\\src\\\\..\\\\assets\\\\knockout_punches.js\"), Asset(\"js\", nothing, \"C:\\\\Users\\\\gabrielgellner\\\\.julia\\\\packages\\\\InteractBase\\\\9mFwe\\\\src\\\\..\\\\assets\\\\all.js\"), Asset(\"css\", nothing, \"C:\\\\Users\\\\gabrielgellner\\\\.julia\\\\packages\\\\InteractBase\\\\9mFwe\\\\src\\\\..\\\\assets\\\\style.css\"), Asset(\"css\", nothing, \"C:\\\\Users\\\\gabrielgellner\\\\.julia\\\\packages\\\\Interact\\\\SbgIk\\\\src\\\\..\\\\assets\\\\bulma_confined.min.css\")], Dict{Any,Any}(\"changes\"=>Any[JSString(\"(function (val){return (val!=this.model[\\\"changes\\\"]()) ? (this.valueFromJulia[\\\"changes\\\"]=true, this.model[\\\"changes\\\"](val)) : undefined})\")],\"index\"=>Any[JSString(\"(function (val){return (val!=this.model[\\\"index\\\"]()) ? (this.valueFromJulia[\\\"index\\\"]=true, this.model[\\\"index\\\"](val)) : undefined})\")]), ConnectionPool(Channel{Any}(sz_max:32,sz_curr:0), Set(AbstractConnection[]), Condition(Any[Task (runnable) @0x0000000037f81430])), WebIO.JSString[JSString(\"function () {\\n    var handler = (function (ko, koPunches) {\\n    ko.punches.enableAll();\\n    ko.bindingHandlers.numericValue = {\\n        init: function(element, valueAccessor, allBindings, data, context) {\\n            var stringified = ko.observable(ko.unwrap(valueAccessor()));\\n            stringified.subscribe(function(value) {\\n                var val = parseFloat(value);\\n                if (!isNaN(val)) {\\n                    valueAccessor()(val);\\n                }\\n            });\\n            valueAccessor().subscribe(function(value) {\\n                var str = JSON.stringify(value);\\n                if ((str == \\\"0\\\") && ([\\\"-0\\\", \\\"-0.\\\"].indexOf(stringified()) >= 0))\\n                     return;\\n                 if ([\\\"null\\\", \\\"\\\"].indexOf(str) >= 0)\\n                     return;\\n                stringified(str);\\n            });\\n            ko.applyBindingsToNode(\\n                element,\\n                {\\n                    value: stringified,\\n                    valueUpdate: allBindings.get('valueUpdate'),\\n                },\\n                context,\\n            );\\n        }\\n    };\\n    var json_data = {\\\"formatted_vals\\\":[\\\"0.1\\\",\\\"0.11\\\",\\\"0.12\\\",\\\"0.13\\\",\\\"0.14\\\",\\\"0.15\\\",\\\"0.16\\\",\\\"0.17\\\",\\\"0.18\\\",\\\"0.19\\\",\\\"0.2\\\",\\\"0.21\\\",\\\"0.22\\\",\\\"0.23\\\",\\\"0.24\\\",\\\"0.25\\\",\\\"0.26\\\",\\\"0.27\\\",\\\"0.28\\\",\\\"0.29\\\",\\\"0.3\\\",\\\"0.31\\\",\\\"0.32\\\",\\\"0.33\\\",\\\"0.34\\\",\\\"0.35\\\",\\\"0.36\\\",\\\"0.37\\\",\\\"0.38\\\",\\\"0.39\\\",\\\"0.4\\\",\\\"0.41\\\",\\\"0.42\\\",\\\"0.43\\\",\\\"0.44\\\",\\\"0.45\\\",\\\"0.46\\\",\\\"0.47\\\",\\\"0.48\\\",\\\"0.49\\\",\\\"0.5\\\",\\\"0.51\\\",\\\"0.52\\\",\\\"0.53\\\",\\\"0.54\\\",\\\"0.55\\\",\\\"0.56\\\",\\\"0.57\\\",\\\"0.58\\\",\\\"0.59\\\",\\\"0.6\\\",\\\"0.61\\\",\\\"0.62\\\",\\\"0.63\\\",\\\"0.64\\\",\\\"0.65\\\",\\\"0.66\\\",\\\"0.67\\\",\\\"0.68\\\",\\\"0.69\\\",\\\"0.7\\\",\\\"0.71\\\",\\\"0.72\\\",\\\"0.73\\\",\\\"0.74\\\",\\\"0.75\\\",\\\"0.76\\\",\\\"0.77\\\",\\\"0.78\\\",\\\"0.79\\\",\\\"0.8\\\",\\\"0.81\\\",\\\"0.82\\\",\\\"0.83\\\",\\\"0.84\\\",\\\"0.85\\\",\\\"0.86\\\",\\\"0.87\\\",\\\"0.88\\\",\\\"0.89\\\",\\\"0.9\\\",\\\"0.91\\\",\\\"0.92\\\",\\\"0.93\\\",\\\"0.94\\\",\\\"0.95\\\",\\\"0.96\\\",\\\"0.97\\\",\\\"0.98\\\",\\\"0.99\\\",\\\"1.0\\\",\\\"1.01\\\",\\\"1.02\\\",\\\"1.03\\\",\\\"1.04\\\",\\\"1.05\\\",\\\"1.06\\\",\\\"1.07\\\",\\\"1.08\\\",\\\"1.09\\\",\\\"1.1\\\",\\\"1.11\\\",\\\"1.12\\\",\\\"1.13\\\",\\\"1.14\\\",\\\"1.15\\\",\\\"1.16\\\",\\\"1.17\\\",\\\"1.18\\\",\\\"1.19\\\",\\\"1.2\\\",\\\"1.21\\\",\\\"1.22\\\",\\\"1.23\\\",\\\"1.24\\\",\\\"1.25\\\",\\\"1.26\\\",\\\"1.27\\\",\\\"1.28\\\",\\\"1.29\\\",\\\"1.3\\\",\\\"1.31\\\",\\\"1.32\\\",\\\"1.33\\\",\\\"1.34\\\",\\\"1.35\\\",\\\"1.36\\\",\\\"1.37\\\",\\\"1.38\\\",\\\"1.39\\\",\\\"1.4\\\",\\\"1.41\\\",\\\"1.42\\\",\\\"1.43\\\",\\\"1.44\\\",\\\"1.45\\\",\\\"1.46\\\",\\\"1.47\\\",\\\"1.48\\\",\\\"1.49\\\",\\\"1.5\\\",\\\"1.51\\\",\\\"1.52\\\",\\\"1.53\\\",\\\"1.54\\\",\\\"1.55\\\",\\\"1.56\\\",\\\"1.57\\\",\\\"1.58\\\",\\\"1.59\\\",\\\"1.6\\\",\\\"1.61\\\",\\\"1.62\\\",\\\"1.63\\\",\\\"1.64\\\",\\\"1.65\\\",\\\"1.66\\\",\\\"1.67\\\",\\\"1.68\\\",\\\"1.69\\\",\\\"1.7\\\",\\\"1.71\\\",\\\"1.72\\\",\\\"1.73\\\",\\\"1.74\\\",\\\"1.75\\\",\\\"1.76\\\",\\\"1.77\\\",\\\"1.78\\\",\\\"1.79\\\",\\\"1.8\\\",\\\"1.81\\\",\\\"1.82\\\",\\\"1.83\\\",\\\"1.84\\\",\\\"1.85\\\",\\\"1.86\\\",\\\"1.87\\\",\\\"1.88\\\",\\\"1.89\\\",\\\"1.9\\\",\\\"1.91\\\",\\\"1.92\\\",\\\"1.93\\\",\\\"1.94\\\",\\\"1.95\\\",\\\"1.96\\\",\\\"1.97\\\",\\\"1.98\\\",\\\"1.99\\\",\\\"2.0\\\"],\\\"changes\\\":WebIO.getval({\\\"name\\\":\\\"changes\\\",\\\"scope\\\":\\\"15777858450175548464\\\",\\\"id\\\":\\\"ob_45\\\",\\\"type\\\":\\\"observable\\\"}),\\\"index\\\":WebIO.getval({\\\"name\\\":\\\"index\\\",\\\"scope\\\":\\\"15777858450175548464\\\",\\\"id\\\":\\\"ob_44\\\",\\\"type\\\":\\\"observable\\\"})};\\n    var self = this;\\n    function AppViewModel() {\\n        for (var key in json_data) {\\n            var el = json_data[key];\\n            this[key] = Array.isArray(el) ? ko.observableArray(el) : ko.observable(el);\\n        }\\n        \\n        [this[\\\"formatted_val\\\"]=ko.computed(    function(){\\n        return this.formatted_vals()[parseInt(this.index())-(1)];\\n    }\\n,this)]\\n        [this[\\\"changes\\\"].subscribe((function (val){!(this.valueFromJulia[\\\"changes\\\"]) ? (WebIO.setval({\\\"name\\\":\\\"changes\\\",\\\"scope\\\":\\\"15777858450175548464\\\",\\\"id\\\":\\\"ob_45\\\",\\\"type\\\":\\\"observable\\\"},val)) : undefined; return this.valueFromJulia[\\\"changes\\\"]=false}),self),this[\\\"index\\\"].subscribe((function (val){!(this.valueFromJulia[\\\"index\\\"]) ? (WebIO.setval({\\\"name\\\":\\\"index\\\",\\\"scope\\\":\\\"15777858450175548464\\\",\\\"id\\\":\\\"ob_44\\\",\\\"type\\\":\\\"observable\\\"},val)) : undefined; return this.valueFromJulia[\\\"index\\\"]=false}),self)]\\n        \\n    }\\n    self.model = new AppViewModel();\\n    self.valueFromJulia = {};\\n    for (var key in json_data) {\\n        self.valueFromJulia[key] = false;\\n    }\\n    ko.applyBindings(self.model, self.dom);\\n}\\n);\\n    (WebIO.importBlock({\\\"data\\\":[{\\\"name\\\":\\\"knockout\\\",\\\"type\\\":\\\"js\\\",\\\"url\\\":\\\"/assetserver/bd369c9f3f65592d9de5e32611a3bd7919ce27e4-knockout.js\\\"},{\\\"name\\\":\\\"knockout_punches\\\",\\\"type\\\":\\\"js\\\",\\\"url\\\":\\\"/assetserver/3b50d12153ead1bb599ff862de1cdc44df7d6b87-knockout_punches.js\\\"}],\\\"type\\\":\\\"async_block\\\"})).then((imports) => handler.apply(this, imports));\\n}\\n\")])], Dict{Symbol,Any}(:className=>\"field interact-widget\")), Node{DOM}(DOM(:html, :div), Any[Scope(Node{DOM}(DOM(:html, :div), Any[Node{DOM}(DOM(:html, :div), Any[Node{DOM}(DOM(:html, :label), Any[\"α21\"], Dict{Symbol,Any}(:className=>\"interact \",:style=>Dict{Any,Any}(:padding=>\"5px 10px 0px 10px\")))], Dict{Symbol,Any}(:className=>\"interact-flex-row-left\")), Node{DOM}(DOM(:html, :div), Any[Node{DOM}(DOM(:html, :input), Any[], Dict{Symbol,Any}(:max=>191,:min=>1,:attributes=>Dict{Any,Any}(:type=>\"range\",Symbol(\"data-bind\")=>\"numericValue: index, valueUpdate: 'input', event: {change: function (){this.changes(this.changes()+1)}}\",\"orient\"=>\"horizontal\"),:step=>1,:className=>\"slider slider is-fullwidth\",:style=>Dict{Any,Any}()))], Dict{Symbol,Any}(:className=>\"interact-flex-row-center\")), Node{DOM}(DOM(:html, :div), Any[Node{DOM}(DOM(:html, :p), Any[], Dict{Symbol,Any}(:attributes=>Dict(\"data-bind\"=>\"text: formatted_val\")))], Dict{Symbol,Any}(:className=>\"interact-flex-row-right\"))], Dict{Symbol,Any}(:className=>\"interact-flex-row interact-widget\")), Dict{String,Tuple{Observables.AbstractObservable,Union{Nothing, Bool}}}(\"changes\"=>(Observable{Int64} with 1 listeners. Value:\n",
       "0, nothing),\"index\"=>(Observable{Any} with 2 listeners. Value:\n",
       "21, nothing)), Set(String[]), nothing, Asset[Asset(\"js\", \"knockout\", \"C:\\\\Users\\\\gabrielgellner\\\\.julia\\\\packages\\\\Knockout\\\\1sDlc\\\\src\\\\..\\\\assets\\\\knockout.js\"), Asset(\"js\", \"knockout_punches\", \"C:\\\\Users\\\\gabrielgellner\\\\.julia\\\\packages\\\\Knockout\\\\1sDlc\\\\src\\\\..\\\\assets\\\\knockout_punches.js\"), Asset(\"js\", nothing, \"C:\\\\Users\\\\gabrielgellner\\\\.julia\\\\packages\\\\InteractBase\\\\9mFwe\\\\src\\\\..\\\\assets\\\\all.js\"), Asset(\"css\", nothing, \"C:\\\\Users\\\\gabrielgellner\\\\.julia\\\\packages\\\\InteractBase\\\\9mFwe\\\\src\\\\..\\\\assets\\\\style.css\"), Asset(\"css\", nothing, \"C:\\\\Users\\\\gabrielgellner\\\\.julia\\\\packages\\\\Interact\\\\SbgIk\\\\src\\\\..\\\\assets\\\\bulma_confined.min.css\")], Dict{Any,Any}(\"changes\"=>Any[JSString(\"(function (val){return (val!=this.model[\\\"changes\\\"]()) ? (this.valueFromJulia[\\\"changes\\\"]=true, this.model[\\\"changes\\\"](val)) : undefined})\")],\"index\"=>Any[JSString(\"(function (val){return (val!=this.model[\\\"index\\\"]()) ? (this.valueFromJulia[\\\"index\\\"]=true, this.model[\\\"index\\\"](val)) : undefined})\")]), ConnectionPool(Channel{Any}(sz_max:32,sz_curr:0), Set(AbstractConnection[]), Condition(Any[Task (runnable) @0x00000000387f8010])), WebIO.JSString[JSString(\"function () {\\n    var handler = (function (ko, koPunches) {\\n    ko.punches.enableAll();\\n    ko.bindingHandlers.numericValue = {\\n        init: function(element, valueAccessor, allBindings, data, context) {\\n            var stringified = ko.observable(ko.unwrap(valueAccessor()));\\n            stringified.subscribe(function(value) {\\n                var val = parseFloat(value);\\n                if (!isNaN(val)) {\\n                    valueAccessor()(val);\\n                }\\n            });\\n            valueAccessor().subscribe(function(value) {\\n                var str = JSON.stringify(value);\\n                if ((str == \\\"0\\\") && ([\\\"-0\\\", \\\"-0.\\\"].indexOf(stringified()) >= 0))\\n                     return;\\n                 if ([\\\"null\\\", \\\"\\\"].indexOf(str) >= 0)\\n                     return;\\n                stringified(str);\\n            });\\n            ko.applyBindingsToNode(\\n                element,\\n                {\\n                    value: stringified,\\n                    valueUpdate: allBindings.get('valueUpdate'),\\n                },\\n                context,\\n            );\\n        }\\n    };\\n    var json_data = {\\\"formatted_vals\\\":[\\\"0.1\\\",\\\"0.11\\\",\\\"0.12\\\",\\\"0.13\\\",\\\"0.14\\\",\\\"0.15\\\",\\\"0.16\\\",\\\"0.17\\\",\\\"0.18\\\",\\\"0.19\\\",\\\"0.2\\\",\\\"0.21\\\",\\\"0.22\\\",\\\"0.23\\\",\\\"0.24\\\",\\\"0.25\\\",\\\"0.26\\\",\\\"0.27\\\",\\\"0.28\\\",\\\"0.29\\\",\\\"0.3\\\",\\\"0.31\\\",\\\"0.32\\\",\\\"0.33\\\",\\\"0.34\\\",\\\"0.35\\\",\\\"0.36\\\",\\\"0.37\\\",\\\"0.38\\\",\\\"0.39\\\",\\\"0.4\\\",\\\"0.41\\\",\\\"0.42\\\",\\\"0.43\\\",\\\"0.44\\\",\\\"0.45\\\",\\\"0.46\\\",\\\"0.47\\\",\\\"0.48\\\",\\\"0.49\\\",\\\"0.5\\\",\\\"0.51\\\",\\\"0.52\\\",\\\"0.53\\\",\\\"0.54\\\",\\\"0.55\\\",\\\"0.56\\\",\\\"0.57\\\",\\\"0.58\\\",\\\"0.59\\\",\\\"0.6\\\",\\\"0.61\\\",\\\"0.62\\\",\\\"0.63\\\",\\\"0.64\\\",\\\"0.65\\\",\\\"0.66\\\",\\\"0.67\\\",\\\"0.68\\\",\\\"0.69\\\",\\\"0.7\\\",\\\"0.71\\\",\\\"0.72\\\",\\\"0.73\\\",\\\"0.74\\\",\\\"0.75\\\",\\\"0.76\\\",\\\"0.77\\\",\\\"0.78\\\",\\\"0.79\\\",\\\"0.8\\\",\\\"0.81\\\",\\\"0.82\\\",\\\"0.83\\\",\\\"0.84\\\",\\\"0.85\\\",\\\"0.86\\\",\\\"0.87\\\",\\\"0.88\\\",\\\"0.89\\\",\\\"0.9\\\",\\\"0.91\\\",\\\"0.92\\\",\\\"0.93\\\",\\\"0.94\\\",\\\"0.95\\\",\\\"0.96\\\",\\\"0.97\\\",\\\"0.98\\\",\\\"0.99\\\",\\\"1.0\\\",\\\"1.01\\\",\\\"1.02\\\",\\\"1.03\\\",\\\"1.04\\\",\\\"1.05\\\",\\\"1.06\\\",\\\"1.07\\\",\\\"1.08\\\",\\\"1.09\\\",\\\"1.1\\\",\\\"1.11\\\",\\\"1.12\\\",\\\"1.13\\\",\\\"1.14\\\",\\\"1.15\\\",\\\"1.16\\\",\\\"1.17\\\",\\\"1.18\\\",\\\"1.19\\\",\\\"1.2\\\",\\\"1.21\\\",\\\"1.22\\\",\\\"1.23\\\",\\\"1.24\\\",\\\"1.25\\\",\\\"1.26\\\",\\\"1.27\\\",\\\"1.28\\\",\\\"1.29\\\",\\\"1.3\\\",\\\"1.31\\\",\\\"1.32\\\",\\\"1.33\\\",\\\"1.34\\\",\\\"1.35\\\",\\\"1.36\\\",\\\"1.37\\\",\\\"1.38\\\",\\\"1.39\\\",\\\"1.4\\\",\\\"1.41\\\",\\\"1.42\\\",\\\"1.43\\\",\\\"1.44\\\",\\\"1.45\\\",\\\"1.46\\\",\\\"1.47\\\",\\\"1.48\\\",\\\"1.49\\\",\\\"1.5\\\",\\\"1.51\\\",\\\"1.52\\\",\\\"1.53\\\",\\\"1.54\\\",\\\"1.55\\\",\\\"1.56\\\",\\\"1.57\\\",\\\"1.58\\\",\\\"1.59\\\",\\\"1.6\\\",\\\"1.61\\\",\\\"1.62\\\",\\\"1.63\\\",\\\"1.64\\\",\\\"1.65\\\",\\\"1.66\\\",\\\"1.67\\\",\\\"1.68\\\",\\\"1.69\\\",\\\"1.7\\\",\\\"1.71\\\",\\\"1.72\\\",\\\"1.73\\\",\\\"1.74\\\",\\\"1.75\\\",\\\"1.76\\\",\\\"1.77\\\",\\\"1.78\\\",\\\"1.79\\\",\\\"1.8\\\",\\\"1.81\\\",\\\"1.82\\\",\\\"1.83\\\",\\\"1.84\\\",\\\"1.85\\\",\\\"1.86\\\",\\\"1.87\\\",\\\"1.88\\\",\\\"1.89\\\",\\\"1.9\\\",\\\"1.91\\\",\\\"1.92\\\",\\\"1.93\\\",\\\"1.94\\\",\\\"1.95\\\",\\\"1.96\\\",\\\"1.97\\\",\\\"1.98\\\",\\\"1.99\\\",\\\"2.0\\\"],\\\"changes\\\":WebIO.getval({\\\"name\\\":\\\"changes\\\",\\\"scope\\\":\\\"5575372336974442177\\\",\\\"id\\\":\\\"ob_48\\\",\\\"type\\\":\\\"observable\\\"}),\\\"index\\\":WebIO.getval({\\\"name\\\":\\\"index\\\",\\\"scope\\\":\\\"5575372336974442177\\\",\\\"id\\\":\\\"ob_47\\\",\\\"type\\\":\\\"observable\\\"})};\\n    var self = this;\\n    function AppViewModel() {\\n        for (var key in json_data) {\\n            var el = json_data[key];\\n            this[key] = Array.isArray(el) ? ko.observableArray(el) : ko.observable(el);\\n        }\\n        \\n        [this[\\\"formatted_val\\\"]=ko.computed(    function(){\\n        return this.formatted_vals()[parseInt(this.index())-(1)];\\n    }\\n,this)]\\n        [this[\\\"changes\\\"].subscribe((function (val){!(this.valueFromJulia[\\\"changes\\\"]) ? (WebIO.setval({\\\"name\\\":\\\"changes\\\",\\\"scope\\\":\\\"5575372336974442177\\\",\\\"id\\\":\\\"ob_48\\\",\\\"type\\\":\\\"observable\\\"},val)) : undefined; return this.valueFromJulia[\\\"changes\\\"]=false}),self),this[\\\"index\\\"].subscribe((function (val){!(this.valueFromJulia[\\\"index\\\"]) ? (WebIO.setval({\\\"name\\\":\\\"index\\\",\\\"scope\\\":\\\"5575372336974442177\\\",\\\"id\\\":\\\"ob_47\\\",\\\"type\\\":\\\"observable\\\"},val)) : undefined; return this.valueFromJulia[\\\"index\\\"]=false}),self)]\\n        \\n    }\\n    self.model = new AppViewModel();\\n    self.valueFromJulia = {};\\n    for (var key in json_data) {\\n        self.valueFromJulia[key] = false;\\n    }\\n    ko.applyBindings(self.model, self.dom);\\n}\\n);\\n    (WebIO.importBlock({\\\"data\\\":[{\\\"name\\\":\\\"knockout\\\",\\\"type\\\":\\\"js\\\",\\\"url\\\":\\\"/assetserver/bd369c9f3f65592d9de5e32611a3bd7919ce27e4-knockout.js\\\"},{\\\"name\\\":\\\"knockout_punches\\\",\\\"type\\\":\\\"js\\\",\\\"url\\\":\\\"/assetserver/3b50d12153ead1bb599ff862de1cdc44df7d6b87-knockout_punches.js\\\"}],\\\"type\\\":\\\"async_block\\\"})).then((imports) => handler.apply(this, imports));\\n}\\n\")])], Dict{Symbol,Any}(:className=>\"field interact-widget\")), Node{DOM}(DOM(:html, :div), Any[Scope(Node{DOM}(DOM(:html, :div), Any[Node{DOM}(DOM(:html, :div), Any[Node{DOM}(DOM(:html, :label), Any[\"K1\"], Dict{Symbol,Any}(:className=>\"interact \",:style=>Dict{Any,Any}(:padding=>\"5px 10px 0px 10px\")))], Dict{Symbol,Any}(:className=>\"interact-flex-row-left\")), Node{DOM}(DOM(:html, :div), Any[Node{DOM}(DOM(:html, :input), Any[], Dict{Symbol,Any}(:max=>291,:min=>1,:attributes=>Dict{Any,Any}(:type=>\"range\",Symbol(\"data-bind\")=>\"numericValue: index, valueUpdate: 'input', event: {change: function (){this.changes(this.changes()+1)}}\",\"orient\"=>\"horizontal\"),:step=>1,:className=>\"slider slider is-fullwidth\",:style=>Dict{Any,Any}()))], Dict{Symbol,Any}(:className=>\"interact-flex-row-center\")), Node{DOM}(DOM(:html, :div), Any[Node{DOM}(DOM(:html, :p), Any[], Dict{Symbol,Any}(:attributes=>Dict(\"data-bind\"=>\"text: formatted_val\")))], Dict{Symbol,Any}(:className=>\"interact-flex-row-right\"))], Dict{Symbol,Any}(:className=>\"interact-flex-row interact-widget\")), Dict{String,Tuple{Observables.AbstractObservable,Union{Nothing, Bool}}}(\"changes\"=>(Observable{Int64} with 1 listeners. Value:\n",
       "0, nothing),\"index\"=>(Observable{Any} with 2 listeners. Value:\n",
       "141, nothing)), Set(String[]), nothing, Asset[Asset(\"js\", \"knockout\", \"C:\\\\Users\\\\gabrielgellner\\\\.julia\\\\packages\\\\Knockout\\\\1sDlc\\\\src\\\\..\\\\assets\\\\knockout.js\"), Asset(\"js\", \"knockout_punches\", \"C:\\\\Users\\\\gabrielgellner\\\\.julia\\\\packages\\\\Knockout\\\\1sDlc\\\\src\\\\..\\\\assets\\\\knockout_punches.js\"), Asset(\"js\", nothing, \"C:\\\\Users\\\\gabrielgellner\\\\.julia\\\\packages\\\\InteractBase\\\\9mFwe\\\\src\\\\..\\\\assets\\\\all.js\"), Asset(\"css\", nothing, \"C:\\\\Users\\\\gabrielgellner\\\\.julia\\\\packages\\\\InteractBase\\\\9mFwe\\\\src\\\\..\\\\assets\\\\style.css\"), Asset(\"css\", nothing, \"C:\\\\Users\\\\gabrielgellner\\\\.julia\\\\packages\\\\Interact\\\\SbgIk\\\\src\\\\..\\\\assets\\\\bulma_confined.min.css\")], Dict{Any,Any}(\"changes\"=>Any[JSString(\"(function (val){return (val!=this.model[\\\"changes\\\"]()) ? (this.valueFromJulia[\\\"changes\\\"]=true, this.model[\\\"changes\\\"](val)) : undefined})\")],\"index\"=>Any[JSString(\"(function (val){return (val!=this.model[\\\"index\\\"]()) ? (this.valueFromJulia[\\\"index\\\"]=true, this.model[\\\"index\\\"](val)) : undefined})\")]), ConnectionPool(Channel{Any}(sz_max:32,sz_curr:0), Set(AbstractConnection[]), Condition(Any[Task (runnable) @0x00000000387f82f0])), WebIO.JSString[JSString(\"function () {\\n    var handler = (function (ko, koPunches) {\\n    ko.punches.enableAll();\\n    ko.bindingHandlers.numericValue = {\\n        init: function(element, valueAccessor, allBindings, data, context) {\\n            var stringified = ko.observable(ko.unwrap(valueAccessor()));\\n            stringified.subscribe(function(value) {\\n                var val = parseFloat(value);\\n                if (!isNaN(val)) {\\n                    valueAccessor()(val);\\n                }\\n            });\\n            valueAccessor().subscribe(function(value) {\\n                var str = JSON.stringify(value);\\n                if ((str == \\\"0\\\") && ([\\\"-0\\\", \\\"-0.\\\"].indexOf(stringified()) >= 0))\\n                     return;\\n                 if ([\\\"null\\\", \\\"\\\"].indexOf(str) >= 0)\\n                     return;\\n                stringified(str);\\n            });\\n            ko.applyBindingsToNode(\\n                element,\\n                {\\n                    value: stringified,\\n                    valueUpdate: allBindings.get('valueUpdate'),\\n                },\\n                context,\\n            );\\n        }\\n    };\\n    var json_data = {\\\"formatted_vals\\\":[\\\"0.1\\\",\\\"0.11\\\",\\\"0.12\\\",\\\"0.13\\\",\\\"0.14\\\",\\\"0.15\\\",\\\"0.16\\\",\\\"0.17\\\",\\\"0.18\\\",\\\"0.19\\\",\\\"0.2\\\",\\\"0.21\\\",\\\"0.22\\\",\\\"0.23\\\",\\\"0.24\\\",\\\"0.25\\\",\\\"0.26\\\",\\\"0.27\\\",\\\"0.28\\\",\\\"0.29\\\",\\\"0.3\\\",\\\"0.31\\\",\\\"0.32\\\",\\\"0.33\\\",\\\"0.34\\\",\\\"0.35\\\",\\\"0.36\\\",\\\"0.37\\\",\\\"0.38\\\",\\\"0.39\\\",\\\"0.4\\\",\\\"0.41\\\",\\\"0.42\\\",\\\"0.43\\\",\\\"0.44\\\",\\\"0.45\\\",\\\"0.46\\\",\\\"0.47\\\",\\\"0.48\\\",\\\"0.49\\\",\\\"0.5\\\",\\\"0.51\\\",\\\"0.52\\\",\\\"0.53\\\",\\\"0.54\\\",\\\"0.55\\\",\\\"0.56\\\",\\\"0.57\\\",\\\"0.58\\\",\\\"0.59\\\",\\\"0.6\\\",\\\"0.61\\\",\\\"0.62\\\",\\\"0.63\\\",\\\"0.64\\\",\\\"0.65\\\",\\\"0.66\\\",\\\"0.67\\\",\\\"0.68\\\",\\\"0.69\\\",\\\"0.7\\\",\\\"0.71\\\",\\\"0.72\\\",\\\"0.73\\\",\\\"0.74\\\",\\\"0.75\\\",\\\"0.76\\\",\\\"0.77\\\",\\\"0.78\\\",\\\"0.79\\\",\\\"0.8\\\",\\\"0.81\\\",\\\"0.82\\\",\\\"0.83\\\",\\\"0.84\\\",\\\"0.85\\\",\\\"0.86\\\",\\\"0.87\\\",\\\"0.88\\\",\\\"0.89\\\",\\\"0.9\\\",\\\"0.91\\\",\\\"0.92\\\",\\\"0.93\\\",\\\"0.94\\\",\\\"0.95\\\",\\\"0.96\\\",\\\"0.97\\\",\\\"0.98\\\",\\\"0.99\\\",\\\"1.0\\\",\\\"1.01\\\",\\\"1.02\\\",\\\"1.03\\\",\\\"1.04\\\",\\\"1.05\\\",\\\"1.06\\\",\\\"1.07\\\",\\\"1.08\\\",\\\"1.09\\\",\\\"1.1\\\",\\\"1.11\\\",\\\"1.12\\\",\\\"1.13\\\",\\\"1.14\\\",\\\"1.15\\\",\\\"1.16\\\",\\\"1.17\\\",\\\"1.18\\\",\\\"1.19\\\",\\\"1.2\\\",\\\"1.21\\\",\\\"1.22\\\",\\\"1.23\\\",\\\"1.24\\\",\\\"1.25\\\",\\\"1.26\\\",\\\"1.27\\\",\\\"1.28\\\",\\\"1.29\\\",\\\"1.3\\\",\\\"1.31\\\",\\\"1.32\\\",\\\"1.33\\\",\\\"1.34\\\",\\\"1.35\\\",\\\"1.36\\\",\\\"1.37\\\",\\\"1.38\\\",\\\"1.39\\\",\\\"1.4\\\",\\\"1.41\\\",\\\"1.42\\\",\\\"1.43\\\",\\\"1.44\\\",\\\"1.45\\\",\\\"1.46\\\",\\\"1.47\\\",\\\"1.48\\\",\\\"1.49\\\",\\\"1.5\\\",\\\"1.51\\\",\\\"1.52\\\",\\\"1.53\\\",\\\"1.54\\\",\\\"1.55\\\",\\\"1.56\\\",\\\"1.57\\\",\\\"1.58\\\",\\\"1.59\\\",\\\"1.6\\\",\\\"1.61\\\",\\\"1.62\\\",\\\"1.63\\\",\\\"1.64\\\",\\\"1.65\\\",\\\"1.66\\\",\\\"1.67\\\",\\\"1.68\\\",\\\"1.69\\\",\\\"1.7\\\",\\\"1.71\\\",\\\"1.72\\\",\\\"1.73\\\",\\\"1.74\\\",\\\"1.75\\\",\\\"1.76\\\",\\\"1.77\\\",\\\"1.78\\\",\\\"1.79\\\",\\\"1.8\\\",\\\"1.81\\\",\\\"1.82\\\",\\\"1.83\\\",\\\"1.84\\\",\\\"1.85\\\",\\\"1.86\\\",\\\"1.87\\\",\\\"1.88\\\",\\\"1.89\\\",\\\"1.9\\\",\\\"1.91\\\",\\\"1.92\\\",\\\"1.93\\\",\\\"1.94\\\",\\\"1.95\\\",\\\"1.96\\\",\\\"1.97\\\",\\\"1.98\\\",\\\"1.99\\\",\\\"2.0\\\",\\\"2.01\\\",\\\"2.02\\\",\\\"2.03\\\",\\\"2.04\\\",\\\"2.05\\\",\\\"2.06\\\",\\\"2.07\\\",\\\"2.08\\\",\\\"2.09\\\",\\\"2.1\\\",\\\"2.11\\\",\\\"2.12\\\",\\\"2.13\\\",\\\"2.14\\\",\\\"2.15\\\",\\\"2.16\\\",\\\"2.17\\\",\\\"2.18\\\",\\\"2.19\\\",\\\"2.2\\\",\\\"2.21\\\",\\\"2.22\\\",\\\"2.23\\\",\\\"2.24\\\",\\\"2.25\\\",\\\"2.26\\\",\\\"2.27\\\",\\\"2.28\\\",\\\"2.29\\\",\\\"2.3\\\",\\\"2.31\\\",\\\"2.32\\\",\\\"2.33\\\",\\\"2.34\\\",\\\"2.35\\\",\\\"2.36\\\",\\\"2.37\\\",\\\"2.38\\\",\\\"2.39\\\",\\\"2.4\\\",\\\"2.41\\\",\\\"2.42\\\",\\\"2.43\\\",\\\"2.44\\\",\\\"2.45\\\",\\\"2.46\\\",\\\"2.47\\\",\\\"2.48\\\",\\\"2.49\\\",\\\"2.5\\\",\\\"2.51\\\",\\\"2.52\\\",\\\"2.53\\\",\\\"2.54\\\",\\\"2.55\\\",\\\"2.56\\\",\\\"2.57\\\",\\\"2.58\\\",\\\"2.59\\\",\\\"2.6\\\",\\\"2.61\\\",\\\"2.62\\\",\\\"2.63\\\",\\\"2.64\\\",\\\"2.65\\\",\\\"2.66\\\",\\\"2.67\\\",\\\"2.68\\\",\\\"2.69\\\",\\\"2.7\\\",\\\"2.71\\\",\\\"2.72\\\",\\\"2.73\\\",\\\"2.74\\\",\\\"2.75\\\",\\\"2.76\\\",\\\"2.77\\\",\\\"2.78\\\",\\\"2.79\\\",\\\"2.8\\\",\\\"2.81\\\",\\\"2.82\\\",\\\"2.83\\\",\\\"2.84\\\",\\\"2.85\\\",\\\"2.86\\\",\\\"2.87\\\",\\\"2.88\\\",\\\"2.89\\\",\\\"2.9\\\",\\\"2.91\\\",\\\"2.92\\\",\\\"2.93\\\",\\\"2.94\\\",\\\"2.95\\\",\\\"2.96\\\",\\\"2.97\\\",\\\"2.98\\\",\\\"2.99\\\",\\\"3.0\\\"],\\\"changes\\\":WebIO.getval({\\\"name\\\":\\\"changes\\\",\\\"scope\\\":\\\"11841928071573098154\\\",\\\"id\\\":\\\"ob_51\\\",\\\"type\\\":\\\"observable\\\"}),\\\"index\\\":WebIO.getval({\\\"name\\\":\\\"index\\\",\\\"scope\\\":\\\"11841928071573098154\\\",\\\"id\\\":\\\"ob_50\\\",\\\"type\\\":\\\"observable\\\"})};\\n    var self = this;\\n    function AppViewModel() {\\n        for (var key in json_data) {\\n            var el = json_data[key];\\n            this[key] = Array.isArray(el) ? ko.observableArray(el) : ko.observable(el);\\n        }\\n        \\n        [this[\\\"formatted_val\\\"]=ko.computed(    function(){\\n        return this.formatted_vals()[parseInt(this.index())-(1)];\\n    }\\n,this)]\\n        [this[\\\"changes\\\"].subscribe((function (val){!(this.valueFromJulia[\\\"changes\\\"]) ? (WebIO.setval({\\\"name\\\":\\\"changes\\\",\\\"scope\\\":\\\"11841928071573098154\\\",\\\"id\\\":\\\"ob_51\\\",\\\"type\\\":\\\"observable\\\"},val)) : undefined; return this.valueFromJulia[\\\"changes\\\"]=false}),self),this[\\\"index\\\"].subscribe((function (val){!(this.valueFromJulia[\\\"index\\\"]) ? (WebIO.setval({\\\"name\\\":\\\"index\\\",\\\"scope\\\":\\\"11841928071573098154\\\",\\\"id\\\":\\\"ob_50\\\",\\\"type\\\":\\\"observable\\\"},val)) : undefined; return this.valueFromJulia[\\\"index\\\"]=false}),self)]\\n        \\n    }\\n    self.model = new AppViewModel();\\n    self.valueFromJulia = {};\\n    for (var key in json_data) {\\n        self.valueFromJulia[key] = false;\\n    }\\n    ko.applyBindings(self.model, self.dom);\\n}\\n);\\n    (WebIO.importBlock({\\\"data\\\":[{\\\"name\\\":\\\"knockout\\\",\\\"type\\\":\\\"js\\\",\\\"url\\\":\\\"/assetserver/bd369c9f3f65592d9de5e32611a3bd7919ce27e4-knockout.js\\\"},{\\\"name\\\":\\\"knockout_punches\\\",\\\"type\\\":\\\"js\\\",\\\"url\\\":\\\"/assetserver/3b50d12153ead1bb599ff862de1cdc44df7d6b87-knockout_punches.js\\\"}],\\\"type\\\":\\\"async_block\\\"})).then((imports) => handler.apply(this, imports));\\n}\\n\")])], Dict{Symbol,Any}(:className=>\"field interact-widget\")), Node{DOM}(DOM(:html, :div), Any[Scope(Node{DOM}(DOM(:html, :div), Any[Node{DOM}(DOM(:html, :div), Any[Node{DOM}(DOM(:html, :label), Any[\"K2\"], Dict{Symbol,Any}(:className=>\"interact \",:style=>Dict{Any,Any}(:padding=>\"5px 10px 0px 10px\")))], Dict{Symbol,Any}(:className=>\"interact-flex-row-left\")), Node{DOM}(DOM(:html, :div), Any[Node{DOM}(DOM(:html, :input), Any[], Dict{Symbol,Any}(:max=>291,:min=>1,:attributes=>Dict{Any,Any}(:type=>\"range\",Symbol(\"data-bind\")=>\"numericValue: index, valueUpdate: 'input', event: {change: function (){this.changes(this.changes()+1)}}\",\"orient\"=>\"horizontal\"),:step=>1,:className=>\"slider slider is-fullwidth\",:style=>Dict{Any,Any}()))], Dict{Symbol,Any}(:className=>\"interact-flex-row-center\")), Node{DOM}(DOM(:html, :div), Any[Node{DOM}(DOM(:html, :p), Any[], Dict{Symbol,Any}(:attributes=>Dict(\"data-bind\"=>\"text: formatted_val\")))], Dict{Symbol,Any}(:className=>\"interact-flex-row-right\"))], Dict{Symbol,Any}(:className=>\"interact-flex-row interact-widget\")), Dict{String,Tuple{Observables.AbstractObservable,Union{Nothing, Bool}}}(\"changes\"=>(Observable{Int64} with 1 listeners. Value:\n",
       "0, nothing),\"index\"=>(Observable{Any} with 2 listeners. Value:\n",
       "91, nothing)), Set(String[]), nothing, Asset[Asset(\"js\", \"knockout\", \"C:\\\\Users\\\\gabrielgellner\\\\.julia\\\\packages\\\\Knockout\\\\1sDlc\\\\src\\\\..\\\\assets\\\\knockout.js\"), Asset(\"js\", \"knockout_punches\", \"C:\\\\Users\\\\gabrielgellner\\\\.julia\\\\packages\\\\Knockout\\\\1sDlc\\\\src\\\\..\\\\assets\\\\knockout_punches.js\"), Asset(\"js\", nothing, \"C:\\\\Users\\\\gabrielgellner\\\\.julia\\\\packages\\\\InteractBase\\\\9mFwe\\\\src\\\\..\\\\assets\\\\all.js\"), Asset(\"css\", nothing, \"C:\\\\Users\\\\gabrielgellner\\\\.julia\\\\packages\\\\InteractBase\\\\9mFwe\\\\src\\\\..\\\\assets\\\\style.css\"), Asset(\"css\", nothing, \"C:\\\\Users\\\\gabrielgellner\\\\.julia\\\\packages\\\\Interact\\\\SbgIk\\\\src\\\\..\\\\assets\\\\bulma_confined.min.css\")], Dict{Any,Any}(\"changes\"=>Any[JSString(\"(function (val){return (val!=this.model[\\\"changes\\\"]()) ? (this.valueFromJulia[\\\"changes\\\"]=true, this.model[\\\"changes\\\"](val)) : undefined})\")],\"index\"=>Any[JSString(\"(function (val){return (val!=this.model[\\\"index\\\"]()) ? (this.valueFromJulia[\\\"index\\\"]=true, this.model[\\\"index\\\"](val)) : undefined})\")]), ConnectionPool(Channel{Any}(sz_max:32,sz_curr:0), Set(AbstractConnection[]), Condition(Any[Task (runnable) @0x0000000039468010])), WebIO.JSString[JSString(\"function () {\\n    var handler = (function (ko, koPunches) {\\n    ko.punches.enableAll();\\n    ko.bindingHandlers.numericValue = {\\n        init: function(element, valueAccessor, allBindings, data, context) {\\n            var stringified = ko.observable(ko.unwrap(valueAccessor()));\\n            stringified.subscribe(function(value) {\\n                var val = parseFloat(value);\\n                if (!isNaN(val)) {\\n                    valueAccessor()(val);\\n                }\\n            });\\n            valueAccessor().subscribe(function(value) {\\n                var str = JSON.stringify(value);\\n                if ((str == \\\"0\\\") && ([\\\"-0\\\", \\\"-0.\\\"].indexOf(stringified()) >= 0))\\n                     return;\\n                 if ([\\\"null\\\", \\\"\\\"].indexOf(str) >= 0)\\n                     return;\\n                stringified(str);\\n            });\\n            ko.applyBindingsToNode(\\n                element,\\n                {\\n                    value: stringified,\\n                    valueUpdate: allBindings.get('valueUpdate'),\\n                },\\n                context,\\n            );\\n        }\\n    };\\n    var json_data = {\\\"formatted_vals\\\":[\\\"0.1\\\",\\\"0.11\\\",\\\"0.12\\\",\\\"0.13\\\",\\\"0.14\\\",\\\"0.15\\\",\\\"0.16\\\",\\\"0.17\\\",\\\"0.18\\\",\\\"0.19\\\",\\\"0.2\\\",\\\"0.21\\\",\\\"0.22\\\",\\\"0.23\\\",\\\"0.24\\\",\\\"0.25\\\",\\\"0.26\\\",\\\"0.27\\\",\\\"0.28\\\",\\\"0.29\\\",\\\"0.3\\\",\\\"0.31\\\",\\\"0.32\\\",\\\"0.33\\\",\\\"0.34\\\",\\\"0.35\\\",\\\"0.36\\\",\\\"0.37\\\",\\\"0.38\\\",\\\"0.39\\\",\\\"0.4\\\",\\\"0.41\\\",\\\"0.42\\\",\\\"0.43\\\",\\\"0.44\\\",\\\"0.45\\\",\\\"0.46\\\",\\\"0.47\\\",\\\"0.48\\\",\\\"0.49\\\",\\\"0.5\\\",\\\"0.51\\\",\\\"0.52\\\",\\\"0.53\\\",\\\"0.54\\\",\\\"0.55\\\",\\\"0.56\\\",\\\"0.57\\\",\\\"0.58\\\",\\\"0.59\\\",\\\"0.6\\\",\\\"0.61\\\",\\\"0.62\\\",\\\"0.63\\\",\\\"0.64\\\",\\\"0.65\\\",\\\"0.66\\\",\\\"0.67\\\",\\\"0.68\\\",\\\"0.69\\\",\\\"0.7\\\",\\\"0.71\\\",\\\"0.72\\\",\\\"0.73\\\",\\\"0.74\\\",\\\"0.75\\\",\\\"0.76\\\",\\\"0.77\\\",\\\"0.78\\\",\\\"0.79\\\",\\\"0.8\\\",\\\"0.81\\\",\\\"0.82\\\",\\\"0.83\\\",\\\"0.84\\\",\\\"0.85\\\",\\\"0.86\\\",\\\"0.87\\\",\\\"0.88\\\",\\\"0.89\\\",\\\"0.9\\\",\\\"0.91\\\",\\\"0.92\\\",\\\"0.93\\\",\\\"0.94\\\",\\\"0.95\\\",\\\"0.96\\\",\\\"0.97\\\",\\\"0.98\\\",\\\"0.99\\\",\\\"1.0\\\",\\\"1.01\\\",\\\"1.02\\\",\\\"1.03\\\",\\\"1.04\\\",\\\"1.05\\\",\\\"1.06\\\",\\\"1.07\\\",\\\"1.08\\\",\\\"1.09\\\",\\\"1.1\\\",\\\"1.11\\\",\\\"1.12\\\",\\\"1.13\\\",\\\"1.14\\\",\\\"1.15\\\",\\\"1.16\\\",\\\"1.17\\\",\\\"1.18\\\",\\\"1.19\\\",\\\"1.2\\\",\\\"1.21\\\",\\\"1.22\\\",\\\"1.23\\\",\\\"1.24\\\",\\\"1.25\\\",\\\"1.26\\\",\\\"1.27\\\",\\\"1.28\\\",\\\"1.29\\\",\\\"1.3\\\",\\\"1.31\\\",\\\"1.32\\\",\\\"1.33\\\",\\\"1.34\\\",\\\"1.35\\\",\\\"1.36\\\",\\\"1.37\\\",\\\"1.38\\\",\\\"1.39\\\",\\\"1.4\\\",\\\"1.41\\\",\\\"1.42\\\",\\\"1.43\\\",\\\"1.44\\\",\\\"1.45\\\",\\\"1.46\\\",\\\"1.47\\\",\\\"1.48\\\",\\\"1.49\\\",\\\"1.5\\\",\\\"1.51\\\",\\\"1.52\\\",\\\"1.53\\\",\\\"1.54\\\",\\\"1.55\\\",\\\"1.56\\\",\\\"1.57\\\",\\\"1.58\\\",\\\"1.59\\\",\\\"1.6\\\",\\\"1.61\\\",\\\"1.62\\\",\\\"1.63\\\",\\\"1.64\\\",\\\"1.65\\\",\\\"1.66\\\",\\\"1.67\\\",\\\"1.68\\\",\\\"1.69\\\",\\\"1.7\\\",\\\"1.71\\\",\\\"1.72\\\",\\\"1.73\\\",\\\"1.74\\\",\\\"1.75\\\",\\\"1.76\\\",\\\"1.77\\\",\\\"1.78\\\",\\\"1.79\\\",\\\"1.8\\\",\\\"1.81\\\",\\\"1.82\\\",\\\"1.83\\\",\\\"1.84\\\",\\\"1.85\\\",\\\"1.86\\\",\\\"1.87\\\",\\\"1.88\\\",\\\"1.89\\\",\\\"1.9\\\",\\\"1.91\\\",\\\"1.92\\\",\\\"1.93\\\",\\\"1.94\\\",\\\"1.95\\\",\\\"1.96\\\",\\\"1.97\\\",\\\"1.98\\\",\\\"1.99\\\",\\\"2.0\\\",\\\"2.01\\\",\\\"2.02\\\",\\\"2.03\\\",\\\"2.04\\\",\\\"2.05\\\",\\\"2.06\\\",\\\"2.07\\\",\\\"2.08\\\",\\\"2.09\\\",\\\"2.1\\\",\\\"2.11\\\",\\\"2.12\\\",\\\"2.13\\\",\\\"2.14\\\",\\\"2.15\\\",\\\"2.16\\\",\\\"2.17\\\",\\\"2.18\\\",\\\"2.19\\\",\\\"2.2\\\",\\\"2.21\\\",\\\"2.22\\\",\\\"2.23\\\",\\\"2.24\\\",\\\"2.25\\\",\\\"2.26\\\",\\\"2.27\\\",\\\"2.28\\\",\\\"2.29\\\",\\\"2.3\\\",\\\"2.31\\\",\\\"2.32\\\",\\\"2.33\\\",\\\"2.34\\\",\\\"2.35\\\",\\\"2.36\\\",\\\"2.37\\\",\\\"2.38\\\",\\\"2.39\\\",\\\"2.4\\\",\\\"2.41\\\",\\\"2.42\\\",\\\"2.43\\\",\\\"2.44\\\",\\\"2.45\\\",\\\"2.46\\\",\\\"2.47\\\",\\\"2.48\\\",\\\"2.49\\\",\\\"2.5\\\",\\\"2.51\\\",\\\"2.52\\\",\\\"2.53\\\",\\\"2.54\\\",\\\"2.55\\\",\\\"2.56\\\",\\\"2.57\\\",\\\"2.58\\\",\\\"2.59\\\",\\\"2.6\\\",\\\"2.61\\\",\\\"2.62\\\",\\\"2.63\\\",\\\"2.64\\\",\\\"2.65\\\",\\\"2.66\\\",\\\"2.67\\\",\\\"2.68\\\",\\\"2.69\\\",\\\"2.7\\\",\\\"2.71\\\",\\\"2.72\\\",\\\"2.73\\\",\\\"2.74\\\",\\\"2.75\\\",\\\"2.76\\\",\\\"2.77\\\",\\\"2.78\\\",\\\"2.79\\\",\\\"2.8\\\",\\\"2.81\\\",\\\"2.82\\\",\\\"2.83\\\",\\\"2.84\\\",\\\"2.85\\\",\\\"2.86\\\",\\\"2.87\\\",\\\"2.88\\\",\\\"2.89\\\",\\\"2.9\\\",\\\"2.91\\\",\\\"2.92\\\",\\\"2.93\\\",\\\"2.94\\\",\\\"2.95\\\",\\\"2.96\\\",\\\"2.97\\\",\\\"2.98\\\",\\\"2.99\\\",\\\"3.0\\\"],\\\"changes\\\":WebIO.getval({\\\"name\\\":\\\"changes\\\",\\\"scope\\\":\\\"449194311925730872\\\",\\\"id\\\":\\\"ob_54\\\",\\\"type\\\":\\\"observable\\\"}),\\\"index\\\":WebIO.getval({\\\"name\\\":\\\"index\\\",\\\"scope\\\":\\\"449194311925730872\\\",\\\"id\\\":\\\"ob_53\\\",\\\"type\\\":\\\"observable\\\"})};\\n    var self = this;\\n    function AppViewModel() {\\n        for (var key in json_data) {\\n            var el = json_data[key];\\n            this[key] = Array.isArray(el) ? ko.observableArray(el) : ko.observable(el);\\n        }\\n        \\n        [this[\\\"formatted_val\\\"]=ko.computed(    function(){\\n        return this.formatted_vals()[parseInt(this.index())-(1)];\\n    }\\n,this)]\\n        [this[\\\"changes\\\"].subscribe((function (val){!(this.valueFromJulia[\\\"changes\\\"]) ? (WebIO.setval({\\\"name\\\":\\\"changes\\\",\\\"scope\\\":\\\"449194311925730872\\\",\\\"id\\\":\\\"ob_54\\\",\\\"type\\\":\\\"observable\\\"},val)) : undefined; return this.valueFromJulia[\\\"changes\\\"]=false}),self),this[\\\"index\\\"].subscribe((function (val){!(this.valueFromJulia[\\\"index\\\"]) ? (WebIO.setval({\\\"name\\\":\\\"index\\\",\\\"scope\\\":\\\"449194311925730872\\\",\\\"id\\\":\\\"ob_53\\\",\\\"type\\\":\\\"observable\\\"},val)) : undefined; return this.valueFromJulia[\\\"index\\\"]=false}),self)]\\n        \\n    }\\n    self.model = new AppViewModel();\\n    self.valueFromJulia = {};\\n    for (var key in json_data) {\\n        self.valueFromJulia[key] = false;\\n    }\\n    ko.applyBindings(self.model, self.dom);\\n}\\n);\\n    (WebIO.importBlock({\\\"data\\\":[{\\\"name\\\":\\\"knockout\\\",\\\"type\\\":\\\"js\\\",\\\"url\\\":\\\"/assetserver/bd369c9f3f65592d9de5e32611a3bd7919ce27e4-knockout.js\\\"},{\\\"name\\\":\\\"knockout_punches\\\",\\\"type\\\":\\\"js\\\",\\\"url\\\":\\\"/assetserver/3b50d12153ead1bb599ff862de1cdc44df7d6b87-knockout_punches.js\\\"}],\\\"type\\\":\\\"async_block\\\"})).then((imports) => handler.apply(this, imports));\\n}\\n\")])], Dict{Symbol,Any}(:className=>\"field interact-widget\")), Node{DOM}(DOM(:html, :div), Any[Scope(Node{DOM}(DOM(:html, :div), Any[Node{DOM}(DOM(:html, :div), Any[Node{DOM}(DOM(:html, :label), Any[\"r1\"], Dict{Symbol,Any}(:className=>\"interact \",:style=>Dict{Any,Any}(:padding=>\"5px 10px 0px 10px\")))], Dict{Symbol,Any}(:className=>\"interact-flex-row-left\")), Node{DOM}(DOM(:html, :div), Any[Node{DOM}(DOM(:html, :input), Any[], Dict{Symbol,Any}(:max=>991,:min=>1,:attributes=>Dict{Any,Any}(:type=>\"range\",Symbol(\"data-bind\")=>\"numericValue: index, valueUpdate: 'input', event: {change: function (){this.changes(this.changes()+1)}}\",\"orient\"=>\"horizontal\"),:step=>1,:className=>\"slider slider is-fullwidth\",:style=>Dict{Any,Any}()))], Dict{Symbol,Any}(:className=>\"interact-flex-row-center\")), Node{DOM}(DOM(:html, :div), Any[Node{DOM}(DOM(:html, :p), Any[], Dict{Symbol,Any}(:attributes=>Dict(\"data-bind\"=>\"text: formatted_val\")))], Dict{Symbol,Any}(:className=>\"interact-flex-row-right\"))], Dict{Symbol,Any}(:className=>\"interact-flex-row interact-widget\")), Dict{String,Tuple{Observables.AbstractObservable,Union{Nothing, Bool}}}(\"changes\"=>(Observable{Int64} with 1 listeners. Value:\n",
       "0, nothing),\"index\"=>(Observable{Any} with 2 listeners. Value:\n",
       "91, nothing)), Set(String[]), nothing, Asset[Asset(\"js\", \"knockout\", \"C:\\\\Users\\\\gabrielgellner\\\\.julia\\\\packages\\\\Knockout\\\\1sDlc\\\\src\\\\..\\\\assets\\\\knockout.js\"), Asset(\"js\", \"knockout_punches\", \"C:\\\\Users\\\\gabrielgellner\\\\.julia\\\\packages\\\\Knockout\\\\1sDlc\\\\src\\\\..\\\\assets\\\\knockout_punches.js\"), Asset(\"js\", nothing, \"C:\\\\Users\\\\gabrielgellner\\\\.julia\\\\packages\\\\InteractBase\\\\9mFwe\\\\src\\\\..\\\\assets\\\\all.js\"), Asset(\"css\", nothing, \"C:\\\\Users\\\\gabrielgellner\\\\.julia\\\\packages\\\\InteractBase\\\\9mFwe\\\\src\\\\..\\\\assets\\\\style.css\"), Asset(\"css\", nothing, \"C:\\\\Users\\\\gabrielgellner\\\\.julia\\\\packages\\\\Interact\\\\SbgIk\\\\src\\\\..\\\\assets\\\\bulma_confined.min.css\")], Dict{Any,Any}(\"changes\"=>Any[JSString(\"(function (val){return (val!=this.model[\\\"changes\\\"]()) ? (this.valueFromJulia[\\\"changes\\\"]=true, this.model[\\\"changes\\\"](val)) : undefined})\")],\"index\"=>Any[JSString(\"(function (val){return (val!=this.model[\\\"index\\\"]()) ? (this.valueFromJulia[\\\"index\\\"]=true, this.model[\\\"index\\\"](val)) : undefined})\")]), ConnectionPool(Channel{Any}(sz_max:32,sz_curr:0), Set(AbstractConnection[]), Condition(Any[Task (runnable) @0x00000000394688b0])), WebIO.JSString[JSString(\"function () {\\n    var handler = (function (ko, koPunches) {\\n    ko.punches.enableAll();\\n    ko.bindingHandlers.numericValue = {\\n        init: function(element, valueAccessor, allBindings, data, context) {\\n            var stringified = ko.observable(ko.unwrap(valueAccessor()));\\n            stringified.subscribe(function(value) {\\n                var val = parseFloat(value);\\n                if (!isNaN(val)) {\\n                    valueAccessor()(val);\\n                }\\n            });\\n            valueAccessor().subscribe(function(value) {\\n                var str = JSON.stringify(value);\\n                if ((str == \\\"0\\\") && ([\\\"-0\\\", \\\"-0.\\\"].indexOf(stringified()) >= 0))\\n                     return;\\n                 if ([\\\"null\\\", \\\"\\\"].indexOf(str) >= 0)\\n                     return;\\n                stringified(str);\\n            });\\n            ko.applyBindingsToNode(\\n                element,\\n                {\\n                    value: stringified,\\n                    valueUpdate: allBindings.get('valueUpdate'),\\n                },\\n                context,\\n            );\\n        }\\n    };\\n    var json_data = {\\\"formatted_vals\\\":[\\\"0.1\\\",\\\"0.11\\\",\\\"0.12\\\",\\\"0.13\\\",\\\"0.14\\\",\\\"0.15\\\",\\\"0.16\\\",\\\"0.17\\\",\\\"0.18\\\",\\\"0.19\\\",\\\"0.2\\\",\\\"0.21\\\",\\\"0.22\\\",\\\"0.23\\\",\\\"0.24\\\",\\\"0.25\\\",\\\"0.26\\\",\\\"0.27\\\",\\\"0.28\\\",\\\"0.29\\\",\\\"0.3\\\",\\\"0.31\\\",\\\"0.32\\\",\\\"0.33\\\",\\\"0.34\\\",\\\"0.35\\\",\\\"0.36\\\",\\\"0.37\\\",\\\"0.38\\\",\\\"0.39\\\",\\\"0.4\\\",\\\"0.41\\\",\\\"0.42\\\",\\\"0.43\\\",\\\"0.44\\\",\\\"0.45\\\",\\\"0.46\\\",\\\"0.47\\\",\\\"0.48\\\",\\\"0.49\\\",\\\"0.5\\\",\\\"0.51\\\",\\\"0.52\\\",\\\"0.53\\\",\\\"0.54\\\",\\\"0.55\\\",\\\"0.56\\\",\\\"0.57\\\",\\\"0.58\\\",\\\"0.59\\\",\\\"0.6\\\",\\\"0.61\\\",\\\"0.62\\\",\\\"0.63\\\",\\\"0.64\\\",\\\"0.65\\\",\\\"0.66\\\",\\\"0.67\\\",\\\"0.68\\\",\\\"0.69\\\",\\\"0.7\\\",\\\"0.71\\\",\\\"0.72\\\",\\\"0.73\\\",\\\"0.74\\\",\\\"0.75\\\",\\\"0.76\\\",\\\"0.77\\\",\\\"0.78\\\",\\\"0.79\\\",\\\"0.8\\\",\\\"0.81\\\",\\\"0.82\\\",\\\"0.83\\\",\\\"0.84\\\",\\\"0.85\\\",\\\"0.86\\\",\\\"0.87\\\",\\\"0.88\\\",\\\"0.89\\\",\\\"0.9\\\",\\\"0.91\\\",\\\"0.92\\\",\\\"0.93\\\",\\\"0.94\\\",\\\"0.95\\\",\\\"0.96\\\",\\\"0.97\\\",\\\"0.98\\\",\\\"0.99\\\",\\\"1.0\\\",\\\"1.01\\\",\\\"1.02\\\",\\\"1.03\\\",\\\"1.04\\\",\\\"1.05\\\",\\\"1.06\\\",\\\"1.07\\\",\\\"1.08\\\",\\\"1.09\\\",\\\"1.1\\\",\\\"1.11\\\",\\\"1.12\\\",\\\"1.13\\\",\\\"1.14\\\",\\\"1.15\\\",\\\"1.16\\\",\\\"1.17\\\",\\\"1.18\\\",\\\"1.19\\\",\\\"1.2\\\",\\\"1.21\\\",\\\"1.22\\\",\\\"1.23\\\",\\\"1.24\\\",\\\"1.25\\\",\\\"1.26\\\",\\\"1.27\\\",\\\"1.28\\\",\\\"1.29\\\",\\\"1.3\\\",\\\"1.31\\\",\\\"1.32\\\",\\\"1.33\\\",\\\"1.34\\\",\\\"1.35\\\",\\\"1.36\\\",\\\"1.37\\\",\\\"1.38\\\",\\\"1.39\\\",\\\"1.4\\\",\\\"1.41\\\",\\\"1.42\\\",\\\"1.43\\\",\\\"1.44\\\",\\\"1.45\\\",\\\"1.46\\\",\\\"1.47\\\",\\\"1.48\\\",\\\"1.49\\\",\\\"1.5\\\",\\\"1.51\\\",\\\"1.52\\\",\\\"1.53\\\",\\\"1.54\\\",\\\"1.55\\\",\\\"1.56\\\",\\\"1.57\\\",\\\"1.58\\\",\\\"1.59\\\",\\\"1.6\\\",\\\"1.61\\\",\\\"1.62\\\",\\\"1.63\\\",\\\"1.64\\\",\\\"1.65\\\",\\\"1.66\\\",\\\"1.67\\\",\\\"1.68\\\",\\\"1.69\\\",\\\"1.7\\\",\\\"1.71\\\",\\\"1.72\\\",\\\"1.73\\\",\\\"1.74\\\",\\\"1.75\\\",\\\"1.76\\\",\\\"1.77\\\",\\\"1.78\\\",\\\"1.79\\\",\\\"1.8\\\",\\\"1.81\\\",\\\"1.82\\\",\\\"1.83\\\",\\\"1.84\\\",\\\"1.85\\\",\\\"1.86\\\",\\\"1.87\\\",\\\"1.88\\\",\\\"1.89\\\",\\\"1.9\\\",\\\"1.91\\\",\\\"1.92\\\",\\\"1.93\\\",\\\"1.94\\\",\\\"1.95\\\",\\\"1.96\\\",\\\"1.97\\\",\\\"1.98\\\",\\\"1.99\\\",\\\"2.0\\\",\\\"2.01\\\",\\\"2.02\\\",\\\"2.03\\\",\\\"2.04\\\",\\\"2.05\\\",\\\"2.06\\\",\\\"2.07\\\",\\\"2.08\\\",\\\"2.09\\\",\\\"2.1\\\",\\\"2.11\\\",\\\"2.12\\\",\\\"2.13\\\",\\\"2.14\\\",\\\"2.15\\\",\\\"2.16\\\",\\\"2.17\\\",\\\"2.18\\\",\\\"2.19\\\",\\\"2.2\\\",\\\"2.21\\\",\\\"2.22\\\",\\\"2.23\\\",\\\"2.24\\\",\\\"2.25\\\",\\\"2.26\\\",\\\"2.27\\\",\\\"2.28\\\",\\\"2.29\\\",\\\"2.3\\\",\\\"2.31\\\",\\\"2.32\\\",\\\"2.33\\\",\\\"2.34\\\",\\\"2.35\\\",\\\"2.36\\\",\\\"2.37\\\",\\\"2.38\\\",\\\"2.39\\\",\\\"2.4\\\",\\\"2.41\\\",\\\"2.42\\\",\\\"2.43\\\",\\\"2.44\\\",\\\"2.45\\\",\\\"2.46\\\",\\\"2.47\\\",\\\"2.48\\\",\\\"2.49\\\",\\\"2.5\\\",\\\"2.51\\\",\\\"2.52\\\",\\\"2.53\\\",\\\"2.54\\\",\\\"2.55\\\",\\\"2.56\\\",\\\"2.57\\\",\\\"2.58\\\",\\\"2.59\\\",\\\"2.6\\\",\\\"2.61\\\",\\\"2.62\\\",\\\"2.63\\\",\\\"2.64\\\",\\\"2.65\\\",\\\"2.66\\\",\\\"2.67\\\",\\\"2.68\\\",\\\"2.69\\\",\\\"2.7\\\",\\\"2.71\\\",\\\"2.72\\\",\\\"2.73\\\",\\\"2.74\\\",\\\"2.75\\\",\\\"2.76\\\",\\\"2.77\\\",\\\"2.78\\\",\\\"2.79\\\",\\\"2.8\\\",\\\"2.81\\\",\\\"2.82\\\",\\\"2.83\\\",\\\"2.84\\\",\\\"2.85\\\",\\\"2.86\\\",\\\"2.87\\\",\\\"2.88\\\",\\\"2.89\\\",\\\"2.9\\\",\\\"2.91\\\",\\\"2.92\\\",\\\"2.93\\\",\\\"2.94\\\",\\\"2.95\\\",\\\"2.96\\\",\\\"2.97\\\",\\\"2.98\\\",\\\"2.99\\\",\\\"3.0\\\",\\\"3.01\\\",\\\"3.02\\\",\\\"3.03\\\",\\\"3.04\\\",\\\"3.05\\\",\\\"3.06\\\",\\\"3.07\\\",\\\"3.08\\\",\\\"3.09\\\",\\\"3.1\\\",\\\"3.11\\\",\\\"3.12\\\",\\\"3.13\\\",\\\"3.14\\\",\\\"3.15\\\",\\\"3.16\\\",\\\"3.17\\\",\\\"3.18\\\",\\\"3.19\\\",\\\"3.2\\\",\\\"3.21\\\",\\\"3.22\\\",\\\"3.23\\\",\\\"3.24\\\",\\\"3.25\\\",\\\"3.26\\\",\\\"3.27\\\",\\\"3.28\\\",\\\"3.29\\\",\\\"3.3\\\",\\\"3.31\\\",\\\"3.32\\\",\\\"3.33\\\",\\\"3.34\\\",\\\"3.35\\\",\\\"3.36\\\",\\\"3.37\\\",\\\"3.38\\\",\\\"3.39\\\",\\\"3.4\\\",\\\"3.41\\\",\\\"3.42\\\",\\\"3.43\\\",\\\"3.44\\\",\\\"3.45\\\",\\\"3.46\\\",\\\"3.47\\\",\\\"3.48\\\",\\\"3.49\\\",\\\"3.5\\\",\\\"3.51\\\",\\\"3.52\\\",\\\"3.53\\\",\\\"3.54\\\",\\\"3.55\\\",\\\"3.56\\\",\\\"3.57\\\",\\\"3.58\\\",\\\"3.59\\\",\\\"3.6\\\",\\\"3.61\\\",\\\"3.62\\\",\\\"3.63\\\",\\\"3.64\\\",\\\"3.65\\\",\\\"3.66\\\",\\\"3.67\\\",\\\"3.68\\\",\\\"3.69\\\",\\\"3.7\\\",\\\"3.71\\\",\\\"3.72\\\",\\\"3.73\\\",\\\"3.74\\\",\\\"3.75\\\",\\\"3.76\\\",\\\"3.77\\\",\\\"3.78\\\",\\\"3.79\\\",\\\"3.8\\\",\\\"3.81\\\",\\\"3.82\\\",\\\"3.83\\\",\\\"3.84\\\",\\\"3.85\\\",\\\"3.86\\\",\\\"3.87\\\",\\\"3.88\\\",\\\"3.89\\\",\\\"3.9\\\",\\\"3.91\\\",\\\"3.92\\\",\\\"3.93\\\",\\\"3.94\\\",\\\"3.95\\\",\\\"3.96\\\",\\\"3.97\\\",\\\"3.98\\\",\\\"3.99\\\",\\\"4.0\\\",\\\"4.01\\\",\\\"4.02\\\",\\\"4.03\\\",\\\"4.04\\\",\\\"4.05\\\",\\\"4.06\\\",\\\"4.07\\\",\\\"4.08\\\",\\\"4.09\\\",\\\"4.1\\\",\\\"4.11\\\",\\\"4.12\\\",\\\"4.13\\\",\\\"4.14\\\",\\\"4.15\\\",\\\"4.16\\\",\\\"4.17\\\",\\\"4.18\\\",\\\"4.19\\\",\\\"4.2\\\",\\\"4.21\\\",\\\"4.22\\\",\\\"4.23\\\",\\\"4.24\\\",\\\"4.25\\\",\\\"4.26\\\",\\\"4.27\\\",\\\"4.28\\\",\\\"4.29\\\",\\\"4.3\\\",\\\"4.31\\\",\\\"4.32\\\",\\\"4.33\\\",\\\"4.34\\\",\\\"4.35\\\",\\\"4.36\\\",\\\"4.37\\\",\\\"4.38\\\",\\\"4.39\\\",\\\"4.4\\\",\\\"4.41\\\",\\\"4.42\\\",\\\"4.43\\\",\\\"4.44\\\",\\\"4.45\\\",\\\"4.46\\\",\\\"4.47\\\",\\\"4.48\\\",\\\"4.49\\\",\\\"4.5\\\",\\\"4.51\\\",\\\"4.52\\\",\\\"4.53\\\",\\\"4.54\\\",\\\"4.55\\\",\\\"4.56\\\",\\\"4.57\\\",\\\"4.58\\\",\\\"4.59\\\",\\\"4.6\\\",\\\"4.61\\\",\\\"4.62\\\",\\\"4.63\\\",\\\"4.64\\\",\\\"4.65\\\",\\\"4.66\\\",\\\"4.67\\\",\\\"4.68\\\",\\\"4.69\\\",\\\"4.7\\\",\\\"4.71\\\",\\\"4.72\\\",\\\"4.73\\\",\\\"4.74\\\",\\\"4.75\\\",\\\"4.76\\\",\\\"4.77\\\",\\\"4.78\\\",\\\"4.79\\\",\\\"4.8\\\",\\\"4.81\\\",\\\"4.82\\\",\\\"4.83\\\",\\\"4.84\\\",\\\"4.85\\\",\\\"4.86\\\",\\\"4.87\\\",\\\"4.88\\\",\\\"4.89\\\",\\\"4.9\\\",\\\"4.91\\\",\\\"4.92\\\",\\\"4.93\\\",\\\"4.94\\\",\\\"4.95\\\",\\\"4.96\\\",\\\"4.97\\\",\\\"4.98\\\",\\\"4.99\\\",\\\"5.0\\\",\\\"5.01\\\",\\\"5.02\\\",\\\"5.03\\\",\\\"5.04\\\",\\\"5.05\\\",\\\"5.06\\\",\\\"5.07\\\",\\\"5.08\\\",\\\"5.09\\\",\\\"5.1\\\",\\\"5.11\\\",\\\"5.12\\\",\\\"5.13\\\",\\\"5.14\\\",\\\"5.15\\\",\\\"5.16\\\",\\\"5.17\\\",\\\"5.18\\\",\\\"5.19\\\",\\\"5.2\\\",\\\"5.21\\\",\\\"5.22\\\",\\\"5.23\\\",\\\"5.24\\\",\\\"5.25\\\",\\\"5.26\\\",\\\"5.27\\\",\\\"5.28\\\",\\\"5.29\\\",\\\"5.3\\\",\\\"5.31\\\",\\\"5.32\\\",\\\"5.33\\\",\\\"5.34\\\",\\\"5.35\\\",\\\"5.36\\\",\\\"5.37\\\",\\\"5.38\\\",\\\"5.39\\\",\\\"5.4\\\",\\\"5.41\\\",\\\"5.42\\\",\\\"5.43\\\",\\\"5.44\\\",\\\"5.45\\\",\\\"5.46\\\",\\\"5.47\\\",\\\"5.48\\\",\\\"5.49\\\",\\\"5.5\\\",\\\"5.51\\\",\\\"5.52\\\",\\\"5.53\\\",\\\"5.54\\\",\\\"5.55\\\",\\\"5.56\\\",\\\"5.57\\\",\\\"5.58\\\",\\\"5.59\\\",\\\"5.6\\\",\\\"5.61\\\",\\\"5.62\\\",\\\"5.63\\\",\\\"5.64\\\",\\\"5.65\\\",\\\"5.66\\\",\\\"5.67\\\",\\\"5.68\\\",\\\"5.69\\\",\\\"5.7\\\",\\\"5.71\\\",\\\"5.72\\\",\\\"5.73\\\",\\\"5.74\\\",\\\"5.75\\\",\\\"5.76\\\",\\\"5.77\\\",\\\"5.78\\\",\\\"5.79\\\",\\\"5.8\\\",\\\"5.81\\\",\\\"5.82\\\",\\\"5.83\\\",\\\"5.84\\\",\\\"5.85\\\",\\\"5.86\\\",\\\"5.87\\\",\\\"5.88\\\",\\\"5.89\\\",\\\"5.9\\\",\\\"5.91\\\",\\\"5.92\\\",\\\"5.93\\\",\\\"5.94\\\",\\\"5.95\\\",\\\"5.96\\\",\\\"5.97\\\",\\\"5.98\\\",\\\"5.99\\\",\\\"6.0\\\",\\\"6.01\\\",\\\"6.02\\\",\\\"6.03\\\",\\\"6.04\\\",\\\"6.05\\\",\\\"6.06\\\",\\\"6.07\\\",\\\"6.08\\\",\\\"6.09\\\",\\\"6.1\\\",\\\"6.11\\\",\\\"6.12\\\",\\\"6.13\\\",\\\"6.14\\\",\\\"6.15\\\",\\\"6.16\\\",\\\"6.17\\\",\\\"6.18\\\",\\\"6.19\\\",\\\"6.2\\\",\\\"6.21\\\",\\\"6.22\\\",\\\"6.23\\\",\\\"6.24\\\",\\\"6.25\\\",\\\"6.26\\\",\\\"6.27\\\",\\\"6.28\\\",\\\"6.29\\\",\\\"6.3\\\",\\\"6.31\\\",\\\"6.32\\\",\\\"6.33\\\",\\\"6.34\\\",\\\"6.35\\\",\\\"6.36\\\",\\\"6.37\\\",\\\"6.38\\\",\\\"6.39\\\",\\\"6.4\\\",\\\"6.41\\\",\\\"6.42\\\",\\\"6.43\\\",\\\"6.44\\\",\\\"6.45\\\",\\\"6.46\\\",\\\"6.47\\\",\\\"6.48\\\",\\\"6.49\\\",\\\"6.5\\\",\\\"6.51\\\",\\\"6.52\\\",\\\"6.53\\\",\\\"6.54\\\",\\\"6.55\\\",\\\"6.56\\\",\\\"6.57\\\",\\\"6.58\\\",\\\"6.59\\\",\\\"6.6\\\",\\\"6.61\\\",\\\"6.62\\\",\\\"6.63\\\",\\\"6.64\\\",\\\"6.65\\\",\\\"6.66\\\",\\\"6.67\\\",\\\"6.68\\\",\\\"6.69\\\",\\\"6.7\\\",\\\"6.71\\\",\\\"6.72\\\",\\\"6.73\\\",\\\"6.74\\\",\\\"6.75\\\",\\\"6.76\\\",\\\"6.77\\\",\\\"6.78\\\",\\\"6.79\\\",\\\"6.8\\\",\\\"6.81\\\",\\\"6.82\\\",\\\"6.83\\\",\\\"6.84\\\",\\\"6.85\\\",\\\"6.86\\\",\\\"6.87\\\",\\\"6.88\\\",\\\"6.89\\\",\\\"6.9\\\",\\\"6.91\\\",\\\"6.92\\\",\\\"6.93\\\",\\\"6.94\\\",\\\"6.95\\\",\\\"6.96\\\",\\\"6.97\\\",\\\"6.98\\\",\\\"6.99\\\",\\\"7.0\\\",\\\"7.01\\\",\\\"7.02\\\",\\\"7.03\\\",\\\"7.04\\\",\\\"7.05\\\",\\\"7.06\\\",\\\"7.07\\\",\\\"7.08\\\",\\\"7.09\\\",\\\"7.1\\\",\\\"7.11\\\",\\\"7.12\\\",\\\"7.13\\\",\\\"7.14\\\",\\\"7.15\\\",\\\"7.16\\\",\\\"7.17\\\",\\\"7.18\\\",\\\"7.19\\\",\\\"7.2\\\",\\\"7.21\\\",\\\"7.22\\\",\\\"7.23\\\",\\\"7.24\\\",\\\"7.25\\\",\\\"7.26\\\",\\\"7.27\\\",\\\"7.28\\\",\\\"7.29\\\",\\\"7.3\\\",\\\"7.31\\\",\\\"7.32\\\",\\\"7.33\\\",\\\"7.34\\\",\\\"7.35\\\",\\\"7.36\\\",\\\"7.37\\\",\\\"7.38\\\",\\\"7.39\\\",\\\"7.4\\\",\\\"7.41\\\",\\\"7.42\\\",\\\"7.43\\\",\\\"7.44\\\",\\\"7.45\\\",\\\"7.46\\\",\\\"7.47\\\",\\\"7.48\\\",\\\"7.49\\\",\\\"7.5\\\",\\\"7.51\\\",\\\"7.52\\\",\\\"7.53\\\",\\\"7.54\\\",\\\"7.55\\\",\\\"7.56\\\",\\\"7.57\\\",\\\"7.58\\\",\\\"7.59\\\",\\\"7.6\\\",\\\"7.61\\\",\\\"7.62\\\",\\\"7.63\\\",\\\"7.64\\\",\\\"7.65\\\",\\\"7.66\\\",\\\"7.67\\\",\\\"7.68\\\",\\\"7.69\\\",\\\"7.7\\\",\\\"7.71\\\",\\\"7.72\\\",\\\"7.73\\\",\\\"7.74\\\",\\\"7.75\\\",\\\"7.76\\\",\\\"7.77\\\",\\\"7.78\\\",\\\"7.79\\\",\\\"7.8\\\",\\\"7.81\\\",\\\"7.82\\\",\\\"7.83\\\",\\\"7.84\\\",\\\"7.85\\\",\\\"7.86\\\",\\\"7.87\\\",\\\"7.88\\\",\\\"7.89\\\",\\\"7.9\\\",\\\"7.91\\\",\\\"7.92\\\",\\\"7.93\\\",\\\"7.94\\\",\\\"7.95\\\",\\\"7.96\\\",\\\"7.97\\\",\\\"7.98\\\",\\\"7.99\\\",\\\"8.0\\\",\\\"8.01\\\",\\\"8.02\\\",\\\"8.03\\\",\\\"8.04\\\",\\\"8.05\\\",\\\"8.06\\\",\\\"8.07\\\",\\\"8.08\\\",\\\"8.09\\\",\\\"8.1\\\",\\\"8.11\\\",\\\"8.12\\\",\\\"8.13\\\",\\\"8.14\\\",\\\"8.15\\\",\\\"8.16\\\",\\\"8.17\\\",\\\"8.18\\\",\\\"8.19\\\",\\\"8.2\\\",\\\"8.21\\\",\\\"8.22\\\",\\\"8.23\\\",\\\"8.24\\\",\\\"8.25\\\",\\\"8.26\\\",\\\"8.27\\\",\\\"8.28\\\",\\\"8.29\\\",\\\"8.3\\\",\\\"8.31\\\",\\\"8.32\\\",\\\"8.33\\\",\\\"8.34\\\",\\\"8.35\\\",\\\"8.36\\\",\\\"8.37\\\",\\\"8.38\\\",\\\"8.39\\\",\\\"8.4\\\",\\\"8.41\\\",\\\"8.42\\\",\\\"8.43\\\",\\\"8.44\\\",\\\"8.45\\\",\\\"8.46\\\",\\\"8.47\\\",\\\"8.48\\\",\\\"8.49\\\",\\\"8.5\\\",\\\"8.51\\\",\\\"8.52\\\",\\\"8.53\\\",\\\"8.54\\\",\\\"8.55\\\",\\\"8.56\\\",\\\"8.57\\\",\\\"8.58\\\",\\\"8.59\\\",\\\"8.6\\\",\\\"8.61\\\",\\\"8.62\\\",\\\"8.63\\\",\\\"8.64\\\",\\\"8.65\\\",\\\"8.66\\\",\\\"8.67\\\",\\\"8.68\\\",\\\"8.69\\\",\\\"8.7\\\",\\\"8.71\\\",\\\"8.72\\\",\\\"8.73\\\",\\\"8.74\\\",\\\"8.75\\\",\\\"8.76\\\",\\\"8.77\\\",\\\"8.78\\\",\\\"8.79\\\",\\\"8.8\\\",\\\"8.81\\\",\\\"8.82\\\",\\\"8.83\\\",\\\"8.84\\\",\\\"8.85\\\",\\\"8.86\\\",\\\"8.87\\\",\\\"8.88\\\",\\\"8.89\\\",\\\"8.9\\\",\\\"8.91\\\",\\\"8.92\\\",\\\"8.93\\\",\\\"8.94\\\",\\\"8.95\\\",\\\"8.96\\\",\\\"8.97\\\",\\\"8.98\\\",\\\"8.99\\\",\\\"9.0\\\",\\\"9.01\\\",\\\"9.02\\\",\\\"9.03\\\",\\\"9.04\\\",\\\"9.05\\\",\\\"9.06\\\",\\\"9.07\\\",\\\"9.08\\\",\\\"9.09\\\",\\\"9.1\\\",\\\"9.11\\\",\\\"9.12\\\",\\\"9.13\\\",\\\"9.14\\\",\\\"9.15\\\",\\\"9.16\\\",\\\"9.17\\\",\\\"9.18\\\",\\\"9.19\\\",\\\"9.2\\\",\\\"9.21\\\",\\\"9.22\\\",\\\"9.23\\\",\\\"9.24\\\",\\\"9.25\\\",\\\"9.26\\\",\\\"9.27\\\",\\\"9.28\\\",\\\"9.29\\\",\\\"9.3\\\",\\\"9.31\\\",\\\"9.32\\\",\\\"9.33\\\",\\\"9.34\\\",\\\"9.35\\\",\\\"9.36\\\",\\\"9.37\\\",\\\"9.38\\\",\\\"9.39\\\",\\\"9.4\\\",\\\"9.41\\\",\\\"9.42\\\",\\\"9.43\\\",\\\"9.44\\\",\\\"9.45\\\",\\\"9.46\\\",\\\"9.47\\\",\\\"9.48\\\",\\\"9.49\\\",\\\"9.5\\\",\\\"9.51\\\",\\\"9.52\\\",\\\"9.53\\\",\\\"9.54\\\",\\\"9.55\\\",\\\"9.56\\\",\\\"9.57\\\",\\\"9.58\\\",\\\"9.59\\\",\\\"9.6\\\",\\\"9.61\\\",\\\"9.62\\\",\\\"9.63\\\",\\\"9.64\\\",\\\"9.65\\\",\\\"9.66\\\",\\\"9.67\\\",\\\"9.68\\\",\\\"9.69\\\",\\\"9.7\\\",\\\"9.71\\\",\\\"9.72\\\",\\\"9.73\\\",\\\"9.74\\\",\\\"9.75\\\",\\\"9.76\\\",\\\"9.77\\\",\\\"9.78\\\",\\\"9.79\\\",\\\"9.8\\\",\\\"9.81\\\",\\\"9.82\\\",\\\"9.83\\\",\\\"9.84\\\",\\\"9.85\\\",\\\"9.86\\\",\\\"9.87\\\",\\\"9.88\\\",\\\"9.89\\\",\\\"9.9\\\",\\\"9.91\\\",\\\"9.92\\\",\\\"9.93\\\",\\\"9.94\\\",\\\"9.95\\\",\\\"9.96\\\",\\\"9.97\\\",\\\"9.98\\\",\\\"9.99\\\",\\\"10.0\\\"],\\\"changes\\\":WebIO.getval({\\\"name\\\":\\\"changes\\\",\\\"scope\\\":\\\"11878974999193548570\\\",\\\"id\\\":\\\"ob_57\\\",\\\"type\\\":\\\"observable\\\"}),\\\"index\\\":WebIO.getval({\\\"name\\\":\\\"index\\\",\\\"scope\\\":\\\"11878974999193548570\\\",\\\"id\\\":\\\"ob_56\\\",\\\"type\\\":\\\"observable\\\"})};\\n    var self = this;\\n    function AppViewModel() {\\n        for (var key in json_data) {\\n            var el = json_data[key];\\n            this[key] = Array.isArray(el) ? ko.observableArray(el) : ko.observable(el);\\n        }\\n        \\n        [this[\\\"formatted_val\\\"]=ko.computed(    function(){\\n        return this.formatted_vals()[parseInt(this.index())-(1)];\\n    }\\n,this)]\\n        [this[\\\"changes\\\"].subscribe((function (val){!(this.valueFromJulia[\\\"changes\\\"]) ? (WebIO.setval({\\\"name\\\":\\\"changes\\\",\\\"scope\\\":\\\"11878974999193548570\\\",\\\"id\\\":\\\"ob_57\\\",\\\"type\\\":\\\"observable\\\"},val)) : undefined; return this.valueFromJulia[\\\"changes\\\"]=false}),self),this[\\\"index\\\"].subscribe((function (val){!(this.valueFromJulia[\\\"index\\\"]) ? (WebIO.setval({\\\"name\\\":\\\"index\\\",\\\"scope\\\":\\\"11878974999193548570\\\",\\\"id\\\":\\\"ob_56\\\",\\\"type\\\":\\\"observable\\\"},val)) : undefined; return this.valueFromJulia[\\\"index\\\"]=false}),self)]\\n        \\n    }\\n    self.model = new AppViewModel();\\n    self.valueFromJulia = {};\\n    for (var key in json_data) {\\n        self.valueFromJulia[key] = false;\\n    }\\n    ko.applyBindings(self.model, self.dom);\\n}\\n);\\n    (WebIO.importBlock({\\\"data\\\":[{\\\"name\\\":\\\"knockout\\\",\\\"type\\\":\\\"js\\\",\\\"url\\\":\\\"/assetserver/bd369c9f3f65592d9de5e32611a3bd7919ce27e4-knockout.js\\\"},{\\\"name\\\":\\\"knockout_punches\\\",\\\"type\\\":\\\"js\\\",\\\"url\\\":\\\"/assetserver/3b50d12153ead1bb599ff862de1cdc44df7d6b87-knockout_punches.js\\\"}],\\\"type\\\":\\\"async_block\\\"})).then((imports) => handler.apply(this, imports));\\n}\\n\")])], Dict{Symbol,Any}(:className=>\"field interact-widget\")), Node{DOM}(DOM(:html, :div), Any[Scope(Node{DOM}(DOM(:html, :div), Any[Node{DOM}(DOM(:html, :div), Any[Node{DOM}(DOM(:html, :label), Any[\"r2\"], Dict{Symbol,Any}(:className=>\"interact \",:style=>Dict{Any,Any}(:padding=>\"5px 10px 0px 10px\")))], Dict{Symbol,Any}(:className=>\"interact-flex-row-left\")), Node{DOM}(DOM(:html, :div), Any[Node{DOM}(DOM(:html, :input), Any[], Dict{Symbol,Any}(:max=>991,:min=>1,:attributes=>Dict{Any,Any}(:type=>\"range\",Symbol(\"data-bind\")=>\"numericValue: index, valueUpdate: 'input', event: {change: function (){this.changes(this.changes()+1)}}\",\"orient\"=>\"horizontal\"),:step=>1,:className=>\"slider slider is-fullwidth\",:style=>Dict{Any,Any}()))], Dict{Symbol,Any}(:className=>\"interact-flex-row-center\")), Node{DOM}(DOM(:html, :div), Any[Node{DOM}(DOM(:html, :p), Any[], Dict{Symbol,Any}(:attributes=>Dict(\"data-bind\"=>\"text: formatted_val\")))], Dict{Symbol,Any}(:className=>\"interact-flex-row-right\"))], Dict{Symbol,Any}(:className=>\"interact-flex-row interact-widget\")), Dict{String,Tuple{Observables.AbstractObservable,Union{Nothing, Bool}}}(\"changes\"=>(Observable{Int64} with 1 listeners. Value:\n",
       "0, nothing),\"index\"=>(Observable{Any} with 2 listeners. Value:\n",
       "191, nothing)), Set(String[]), nothing, Asset[Asset(\"js\", \"knockout\", \"C:\\\\Users\\\\gabrielgellner\\\\.julia\\\\packages\\\\Knockout\\\\1sDlc\\\\src\\\\..\\\\assets\\\\knockout.js\"), Asset(\"js\", \"knockout_punches\", \"C:\\\\Users\\\\gabrielgellner\\\\.julia\\\\packages\\\\Knockout\\\\1sDlc\\\\src\\\\..\\\\assets\\\\knockout_punches.js\"), Asset(\"js\", nothing, \"C:\\\\Users\\\\gabrielgellner\\\\.julia\\\\packages\\\\InteractBase\\\\9mFwe\\\\src\\\\..\\\\assets\\\\all.js\"), Asset(\"css\", nothing, \"C:\\\\Users\\\\gabrielgellner\\\\.julia\\\\packages\\\\InteractBase\\\\9mFwe\\\\src\\\\..\\\\assets\\\\style.css\"), Asset(\"css\", nothing, \"C:\\\\Users\\\\gabrielgellner\\\\.julia\\\\packages\\\\Interact\\\\SbgIk\\\\src\\\\..\\\\assets\\\\bulma_confined.min.css\")], Dict{Any,Any}(\"changes\"=>Any[JSString(\"(function (val){return (val!=this.model[\\\"changes\\\"]()) ? (this.valueFromJulia[\\\"changes\\\"]=true, this.model[\\\"changes\\\"](val)) : undefined})\")],\"index\"=>Any[JSString(\"(function (val){return (val!=this.model[\\\"index\\\"]()) ? (this.valueFromJulia[\\\"index\\\"]=true, this.model[\\\"index\\\"](val)) : undefined})\")]), ConnectionPool(Channel{Any}(sz_max:32,sz_curr:0), Set(AbstractConnection[]), Condition(Any[Task (runnable) @0x0000000039469150])), WebIO.JSString[JSString(\"function () {\\n    var handler = (function (ko, koPunches) {\\n    ko.punches.enableAll();\\n    ko.bindingHandlers.numericValue = {\\n        init: function(element, valueAccessor, allBindings, data, context) {\\n            var stringified = ko.observable(ko.unwrap(valueAccessor()));\\n            stringified.subscribe(function(value) {\\n                var val = parseFloat(value);\\n                if (!isNaN(val)) {\\n                    valueAccessor()(val);\\n                }\\n            });\\n            valueAccessor().subscribe(function(value) {\\n                var str = JSON.stringify(value);\\n                if ((str == \\\"0\\\") && ([\\\"-0\\\", \\\"-0.\\\"].indexOf(stringified()) >= 0))\\n                     return;\\n                 if ([\\\"null\\\", \\\"\\\"].indexOf(str) >= 0)\\n                     return;\\n                stringified(str);\\n            });\\n            ko.applyBindingsToNode(\\n                element,\\n                {\\n                    value: stringified,\\n                    valueUpdate: allBindings.get('valueUpdate'),\\n                },\\n                context,\\n            );\\n        }\\n    };\\n    var json_data = {\\\"formatted_vals\\\":[\\\"0.1\\\",\\\"0.11\\\",\\\"0.12\\\",\\\"0.13\\\",\\\"0.14\\\",\\\"0.15\\\",\\\"0.16\\\",\\\"0.17\\\",\\\"0.18\\\",\\\"0.19\\\",\\\"0.2\\\",\\\"0.21\\\",\\\"0.22\\\",\\\"0.23\\\",\\\"0.24\\\",\\\"0.25\\\",\\\"0.26\\\",\\\"0.27\\\",\\\"0.28\\\",\\\"0.29\\\",\\\"0.3\\\",\\\"0.31\\\",\\\"0.32\\\",\\\"0.33\\\",\\\"0.34\\\",\\\"0.35\\\",\\\"0.36\\\",\\\"0.37\\\",\\\"0.38\\\",\\\"0.39\\\",\\\"0.4\\\",\\\"0.41\\\",\\\"0.42\\\",\\\"0.43\\\",\\\"0.44\\\",\\\"0.45\\\",\\\"0.46\\\",\\\"0.47\\\",\\\"0.48\\\",\\\"0.49\\\",\\\"0.5\\\",\\\"0.51\\\",\\\"0.52\\\",\\\"0.53\\\",\\\"0.54\\\",\\\"0.55\\\",\\\"0.56\\\",\\\"0.57\\\",\\\"0.58\\\",\\\"0.59\\\",\\\"0.6\\\",\\\"0.61\\\",\\\"0.62\\\",\\\"0.63\\\",\\\"0.64\\\",\\\"0.65\\\",\\\"0.66\\\",\\\"0.67\\\",\\\"0.68\\\",\\\"0.69\\\",\\\"0.7\\\",\\\"0.71\\\",\\\"0.72\\\",\\\"0.73\\\",\\\"0.74\\\",\\\"0.75\\\",\\\"0.76\\\",\\\"0.77\\\",\\\"0.78\\\",\\\"0.79\\\",\\\"0.8\\\",\\\"0.81\\\",\\\"0.82\\\",\\\"0.83\\\",\\\"0.84\\\",\\\"0.85\\\",\\\"0.86\\\",\\\"0.87\\\",\\\"0.88\\\",\\\"0.89\\\",\\\"0.9\\\",\\\"0.91\\\",\\\"0.92\\\",\\\"0.93\\\",\\\"0.94\\\",\\\"0.95\\\",\\\"0.96\\\",\\\"0.97\\\",\\\"0.98\\\",\\\"0.99\\\",\\\"1.0\\\",\\\"1.01\\\",\\\"1.02\\\",\\\"1.03\\\",\\\"1.04\\\",\\\"1.05\\\",\\\"1.06\\\",\\\"1.07\\\",\\\"1.08\\\",\\\"1.09\\\",\\\"1.1\\\",\\\"1.11\\\",\\\"1.12\\\",\\\"1.13\\\",\\\"1.14\\\",\\\"1.15\\\",\\\"1.16\\\",\\\"1.17\\\",\\\"1.18\\\",\\\"1.19\\\",\\\"1.2\\\",\\\"1.21\\\",\\\"1.22\\\",\\\"1.23\\\",\\\"1.24\\\",\\\"1.25\\\",\\\"1.26\\\",\\\"1.27\\\",\\\"1.28\\\",\\\"1.29\\\",\\\"1.3\\\",\\\"1.31\\\",\\\"1.32\\\",\\\"1.33\\\",\\\"1.34\\\",\\\"1.35\\\",\\\"1.36\\\",\\\"1.37\\\",\\\"1.38\\\",\\\"1.39\\\",\\\"1.4\\\",\\\"1.41\\\",\\\"1.42\\\",\\\"1.43\\\",\\\"1.44\\\",\\\"1.45\\\",\\\"1.46\\\",\\\"1.47\\\",\\\"1.48\\\",\\\"1.49\\\",\\\"1.5\\\",\\\"1.51\\\",\\\"1.52\\\",\\\"1.53\\\",\\\"1.54\\\",\\\"1.55\\\",\\\"1.56\\\",\\\"1.57\\\",\\\"1.58\\\",\\\"1.59\\\",\\\"1.6\\\",\\\"1.61\\\",\\\"1.62\\\",\\\"1.63\\\",\\\"1.64\\\",\\\"1.65\\\",\\\"1.66\\\",\\\"1.67\\\",\\\"1.68\\\",\\\"1.69\\\",\\\"1.7\\\",\\\"1.71\\\",\\\"1.72\\\",\\\"1.73\\\",\\\"1.74\\\",\\\"1.75\\\",\\\"1.76\\\",\\\"1.77\\\",\\\"1.78\\\",\\\"1.79\\\",\\\"1.8\\\",\\\"1.81\\\",\\\"1.82\\\",\\\"1.83\\\",\\\"1.84\\\",\\\"1.85\\\",\\\"1.86\\\",\\\"1.87\\\",\\\"1.88\\\",\\\"1.89\\\",\\\"1.9\\\",\\\"1.91\\\",\\\"1.92\\\",\\\"1.93\\\",\\\"1.94\\\",\\\"1.95\\\",\\\"1.96\\\",\\\"1.97\\\",\\\"1.98\\\",\\\"1.99\\\",\\\"2.0\\\",\\\"2.01\\\",\\\"2.02\\\",\\\"2.03\\\",\\\"2.04\\\",\\\"2.05\\\",\\\"2.06\\\",\\\"2.07\\\",\\\"2.08\\\",\\\"2.09\\\",\\\"2.1\\\",\\\"2.11\\\",\\\"2.12\\\",\\\"2.13\\\",\\\"2.14\\\",\\\"2.15\\\",\\\"2.16\\\",\\\"2.17\\\",\\\"2.18\\\",\\\"2.19\\\",\\\"2.2\\\",\\\"2.21\\\",\\\"2.22\\\",\\\"2.23\\\",\\\"2.24\\\",\\\"2.25\\\",\\\"2.26\\\",\\\"2.27\\\",\\\"2.28\\\",\\\"2.29\\\",\\\"2.3\\\",\\\"2.31\\\",\\\"2.32\\\",\\\"2.33\\\",\\\"2.34\\\",\\\"2.35\\\",\\\"2.36\\\",\\\"2.37\\\",\\\"2.38\\\",\\\"2.39\\\",\\\"2.4\\\",\\\"2.41\\\",\\\"2.42\\\",\\\"2.43\\\",\\\"2.44\\\",\\\"2.45\\\",\\\"2.46\\\",\\\"2.47\\\",\\\"2.48\\\",\\\"2.49\\\",\\\"2.5\\\",\\\"2.51\\\",\\\"2.52\\\",\\\"2.53\\\",\\\"2.54\\\",\\\"2.55\\\",\\\"2.56\\\",\\\"2.57\\\",\\\"2.58\\\",\\\"2.59\\\",\\\"2.6\\\",\\\"2.61\\\",\\\"2.62\\\",\\\"2.63\\\",\\\"2.64\\\",\\\"2.65\\\",\\\"2.66\\\",\\\"2.67\\\",\\\"2.68\\\",\\\"2.69\\\",\\\"2.7\\\",\\\"2.71\\\",\\\"2.72\\\",\\\"2.73\\\",\\\"2.74\\\",\\\"2.75\\\",\\\"2.76\\\",\\\"2.77\\\",\\\"2.78\\\",\\\"2.79\\\",\\\"2.8\\\",\\\"2.81\\\",\\\"2.82\\\",\\\"2.83\\\",\\\"2.84\\\",\\\"2.85\\\",\\\"2.86\\\",\\\"2.87\\\",\\\"2.88\\\",\\\"2.89\\\",\\\"2.9\\\",\\\"2.91\\\",\\\"2.92\\\",\\\"2.93\\\",\\\"2.94\\\",\\\"2.95\\\",\\\"2.96\\\",\\\"2.97\\\",\\\"2.98\\\",\\\"2.99\\\",\\\"3.0\\\",\\\"3.01\\\",\\\"3.02\\\",\\\"3.03\\\",\\\"3.04\\\",\\\"3.05\\\",\\\"3.06\\\",\\\"3.07\\\",\\\"3.08\\\",\\\"3.09\\\",\\\"3.1\\\",\\\"3.11\\\",\\\"3.12\\\",\\\"3.13\\\",\\\"3.14\\\",\\\"3.15\\\",\\\"3.16\\\",\\\"3.17\\\",\\\"3.18\\\",\\\"3.19\\\",\\\"3.2\\\",\\\"3.21\\\",\\\"3.22\\\",\\\"3.23\\\",\\\"3.24\\\",\\\"3.25\\\",\\\"3.26\\\",\\\"3.27\\\",\\\"3.28\\\",\\\"3.29\\\",\\\"3.3\\\",\\\"3.31\\\",\\\"3.32\\\",\\\"3.33\\\",\\\"3.34\\\",\\\"3.35\\\",\\\"3.36\\\",\\\"3.37\\\",\\\"3.38\\\",\\\"3.39\\\",\\\"3.4\\\",\\\"3.41\\\",\\\"3.42\\\",\\\"3.43\\\",\\\"3.44\\\",\\\"3.45\\\",\\\"3.46\\\",\\\"3.47\\\",\\\"3.48\\\",\\\"3.49\\\",\\\"3.5\\\",\\\"3.51\\\",\\\"3.52\\\",\\\"3.53\\\",\\\"3.54\\\",\\\"3.55\\\",\\\"3.56\\\",\\\"3.57\\\",\\\"3.58\\\",\\\"3.59\\\",\\\"3.6\\\",\\\"3.61\\\",\\\"3.62\\\",\\\"3.63\\\",\\\"3.64\\\",\\\"3.65\\\",\\\"3.66\\\",\\\"3.67\\\",\\\"3.68\\\",\\\"3.69\\\",\\\"3.7\\\",\\\"3.71\\\",\\\"3.72\\\",\\\"3.73\\\",\\\"3.74\\\",\\\"3.75\\\",\\\"3.76\\\",\\\"3.77\\\",\\\"3.78\\\",\\\"3.79\\\",\\\"3.8\\\",\\\"3.81\\\",\\\"3.82\\\",\\\"3.83\\\",\\\"3.84\\\",\\\"3.85\\\",\\\"3.86\\\",\\\"3.87\\\",\\\"3.88\\\",\\\"3.89\\\",\\\"3.9\\\",\\\"3.91\\\",\\\"3.92\\\",\\\"3.93\\\",\\\"3.94\\\",\\\"3.95\\\",\\\"3.96\\\",\\\"3.97\\\",\\\"3.98\\\",\\\"3.99\\\",\\\"4.0\\\",\\\"4.01\\\",\\\"4.02\\\",\\\"4.03\\\",\\\"4.04\\\",\\\"4.05\\\",\\\"4.06\\\",\\\"4.07\\\",\\\"4.08\\\",\\\"4.09\\\",\\\"4.1\\\",\\\"4.11\\\",\\\"4.12\\\",\\\"4.13\\\",\\\"4.14\\\",\\\"4.15\\\",\\\"4.16\\\",\\\"4.17\\\",\\\"4.18\\\",\\\"4.19\\\",\\\"4.2\\\",\\\"4.21\\\",\\\"4.22\\\",\\\"4.23\\\",\\\"4.24\\\",\\\"4.25\\\",\\\"4.26\\\",\\\"4.27\\\",\\\"4.28\\\",\\\"4.29\\\",\\\"4.3\\\",\\\"4.31\\\",\\\"4.32\\\",\\\"4.33\\\",\\\"4.34\\\",\\\"4.35\\\",\\\"4.36\\\",\\\"4.37\\\",\\\"4.38\\\",\\\"4.39\\\",\\\"4.4\\\",\\\"4.41\\\",\\\"4.42\\\",\\\"4.43\\\",\\\"4.44\\\",\\\"4.45\\\",\\\"4.46\\\",\\\"4.47\\\",\\\"4.48\\\",\\\"4.49\\\",\\\"4.5\\\",\\\"4.51\\\",\\\"4.52\\\",\\\"4.53\\\",\\\"4.54\\\",\\\"4.55\\\",\\\"4.56\\\",\\\"4.57\\\",\\\"4.58\\\",\\\"4.59\\\",\\\"4.6\\\",\\\"4.61\\\",\\\"4.62\\\",\\\"4.63\\\",\\\"4.64\\\",\\\"4.65\\\",\\\"4.66\\\",\\\"4.67\\\",\\\"4.68\\\",\\\"4.69\\\",\\\"4.7\\\",\\\"4.71\\\",\\\"4.72\\\",\\\"4.73\\\",\\\"4.74\\\",\\\"4.75\\\",\\\"4.76\\\",\\\"4.77\\\",\\\"4.78\\\",\\\"4.79\\\",\\\"4.8\\\",\\\"4.81\\\",\\\"4.82\\\",\\\"4.83\\\",\\\"4.84\\\",\\\"4.85\\\",\\\"4.86\\\",\\\"4.87\\\",\\\"4.88\\\",\\\"4.89\\\",\\\"4.9\\\",\\\"4.91\\\",\\\"4.92\\\",\\\"4.93\\\",\\\"4.94\\\",\\\"4.95\\\",\\\"4.96\\\",\\\"4.97\\\",\\\"4.98\\\",\\\"4.99\\\",\\\"5.0\\\",\\\"5.01\\\",\\\"5.02\\\",\\\"5.03\\\",\\\"5.04\\\",\\\"5.05\\\",\\\"5.06\\\",\\\"5.07\\\",\\\"5.08\\\",\\\"5.09\\\",\\\"5.1\\\",\\\"5.11\\\",\\\"5.12\\\",\\\"5.13\\\",\\\"5.14\\\",\\\"5.15\\\",\\\"5.16\\\",\\\"5.17\\\",\\\"5.18\\\",\\\"5.19\\\",\\\"5.2\\\",\\\"5.21\\\",\\\"5.22\\\",\\\"5.23\\\",\\\"5.24\\\",\\\"5.25\\\",\\\"5.26\\\",\\\"5.27\\\",\\\"5.28\\\",\\\"5.29\\\",\\\"5.3\\\",\\\"5.31\\\",\\\"5.32\\\",\\\"5.33\\\",\\\"5.34\\\",\\\"5.35\\\",\\\"5.36\\\",\\\"5.37\\\",\\\"5.38\\\",\\\"5.39\\\",\\\"5.4\\\",\\\"5.41\\\",\\\"5.42\\\",\\\"5.43\\\",\\\"5.44\\\",\\\"5.45\\\",\\\"5.46\\\",\\\"5.47\\\",\\\"5.48\\\",\\\"5.49\\\",\\\"5.5\\\",\\\"5.51\\\",\\\"5.52\\\",\\\"5.53\\\",\\\"5.54\\\",\\\"5.55\\\",\\\"5.56\\\",\\\"5.57\\\",\\\"5.58\\\",\\\"5.59\\\",\\\"5.6\\\",\\\"5.61\\\",\\\"5.62\\\",\\\"5.63\\\",\\\"5.64\\\",\\\"5.65\\\",\\\"5.66\\\",\\\"5.67\\\",\\\"5.68\\\",\\\"5.69\\\",\\\"5.7\\\",\\\"5.71\\\",\\\"5.72\\\",\\\"5.73\\\",\\\"5.74\\\",\\\"5.75\\\",\\\"5.76\\\",\\\"5.77\\\",\\\"5.78\\\",\\\"5.79\\\",\\\"5.8\\\",\\\"5.81\\\",\\\"5.82\\\",\\\"5.83\\\",\\\"5.84\\\",\\\"5.85\\\",\\\"5.86\\\",\\\"5.87\\\",\\\"5.88\\\",\\\"5.89\\\",\\\"5.9\\\",\\\"5.91\\\",\\\"5.92\\\",\\\"5.93\\\",\\\"5.94\\\",\\\"5.95\\\",\\\"5.96\\\",\\\"5.97\\\",\\\"5.98\\\",\\\"5.99\\\",\\\"6.0\\\",\\\"6.01\\\",\\\"6.02\\\",\\\"6.03\\\",\\\"6.04\\\",\\\"6.05\\\",\\\"6.06\\\",\\\"6.07\\\",\\\"6.08\\\",\\\"6.09\\\",\\\"6.1\\\",\\\"6.11\\\",\\\"6.12\\\",\\\"6.13\\\",\\\"6.14\\\",\\\"6.15\\\",\\\"6.16\\\",\\\"6.17\\\",\\\"6.18\\\",\\\"6.19\\\",\\\"6.2\\\",\\\"6.21\\\",\\\"6.22\\\",\\\"6.23\\\",\\\"6.24\\\",\\\"6.25\\\",\\\"6.26\\\",\\\"6.27\\\",\\\"6.28\\\",\\\"6.29\\\",\\\"6.3\\\",\\\"6.31\\\",\\\"6.32\\\",\\\"6.33\\\",\\\"6.34\\\",\\\"6.35\\\",\\\"6.36\\\",\\\"6.37\\\",\\\"6.38\\\",\\\"6.39\\\",\\\"6.4\\\",\\\"6.41\\\",\\\"6.42\\\",\\\"6.43\\\",\\\"6.44\\\",\\\"6.45\\\",\\\"6.46\\\",\\\"6.47\\\",\\\"6.48\\\",\\\"6.49\\\",\\\"6.5\\\",\\\"6.51\\\",\\\"6.52\\\",\\\"6.53\\\",\\\"6.54\\\",\\\"6.55\\\",\\\"6.56\\\",\\\"6.57\\\",\\\"6.58\\\",\\\"6.59\\\",\\\"6.6\\\",\\\"6.61\\\",\\\"6.62\\\",\\\"6.63\\\",\\\"6.64\\\",\\\"6.65\\\",\\\"6.66\\\",\\\"6.67\\\",\\\"6.68\\\",\\\"6.69\\\",\\\"6.7\\\",\\\"6.71\\\",\\\"6.72\\\",\\\"6.73\\\",\\\"6.74\\\",\\\"6.75\\\",\\\"6.76\\\",\\\"6.77\\\",\\\"6.78\\\",\\\"6.79\\\",\\\"6.8\\\",\\\"6.81\\\",\\\"6.82\\\",\\\"6.83\\\",\\\"6.84\\\",\\\"6.85\\\",\\\"6.86\\\",\\\"6.87\\\",\\\"6.88\\\",\\\"6.89\\\",\\\"6.9\\\",\\\"6.91\\\",\\\"6.92\\\",\\\"6.93\\\",\\\"6.94\\\",\\\"6.95\\\",\\\"6.96\\\",\\\"6.97\\\",\\\"6.98\\\",\\\"6.99\\\",\\\"7.0\\\",\\\"7.01\\\",\\\"7.02\\\",\\\"7.03\\\",\\\"7.04\\\",\\\"7.05\\\",\\\"7.06\\\",\\\"7.07\\\",\\\"7.08\\\",\\\"7.09\\\",\\\"7.1\\\",\\\"7.11\\\",\\\"7.12\\\",\\\"7.13\\\",\\\"7.14\\\",\\\"7.15\\\",\\\"7.16\\\",\\\"7.17\\\",\\\"7.18\\\",\\\"7.19\\\",\\\"7.2\\\",\\\"7.21\\\",\\\"7.22\\\",\\\"7.23\\\",\\\"7.24\\\",\\\"7.25\\\",\\\"7.26\\\",\\\"7.27\\\",\\\"7.28\\\",\\\"7.29\\\",\\\"7.3\\\",\\\"7.31\\\",\\\"7.32\\\",\\\"7.33\\\",\\\"7.34\\\",\\\"7.35\\\",\\\"7.36\\\",\\\"7.37\\\",\\\"7.38\\\",\\\"7.39\\\",\\\"7.4\\\",\\\"7.41\\\",\\\"7.42\\\",\\\"7.43\\\",\\\"7.44\\\",\\\"7.45\\\",\\\"7.46\\\",\\\"7.47\\\",\\\"7.48\\\",\\\"7.49\\\",\\\"7.5\\\",\\\"7.51\\\",\\\"7.52\\\",\\\"7.53\\\",\\\"7.54\\\",\\\"7.55\\\",\\\"7.56\\\",\\\"7.57\\\",\\\"7.58\\\",\\\"7.59\\\",\\\"7.6\\\",\\\"7.61\\\",\\\"7.62\\\",\\\"7.63\\\",\\\"7.64\\\",\\\"7.65\\\",\\\"7.66\\\",\\\"7.67\\\",\\\"7.68\\\",\\\"7.69\\\",\\\"7.7\\\",\\\"7.71\\\",\\\"7.72\\\",\\\"7.73\\\",\\\"7.74\\\",\\\"7.75\\\",\\\"7.76\\\",\\\"7.77\\\",\\\"7.78\\\",\\\"7.79\\\",\\\"7.8\\\",\\\"7.81\\\",\\\"7.82\\\",\\\"7.83\\\",\\\"7.84\\\",\\\"7.85\\\",\\\"7.86\\\",\\\"7.87\\\",\\\"7.88\\\",\\\"7.89\\\",\\\"7.9\\\",\\\"7.91\\\",\\\"7.92\\\",\\\"7.93\\\",\\\"7.94\\\",\\\"7.95\\\",\\\"7.96\\\",\\\"7.97\\\",\\\"7.98\\\",\\\"7.99\\\",\\\"8.0\\\",\\\"8.01\\\",\\\"8.02\\\",\\\"8.03\\\",\\\"8.04\\\",\\\"8.05\\\",\\\"8.06\\\",\\\"8.07\\\",\\\"8.08\\\",\\\"8.09\\\",\\\"8.1\\\",\\\"8.11\\\",\\\"8.12\\\",\\\"8.13\\\",\\\"8.14\\\",\\\"8.15\\\",\\\"8.16\\\",\\\"8.17\\\",\\\"8.18\\\",\\\"8.19\\\",\\\"8.2\\\",\\\"8.21\\\",\\\"8.22\\\",\\\"8.23\\\",\\\"8.24\\\",\\\"8.25\\\",\\\"8.26\\\",\\\"8.27\\\",\\\"8.28\\\",\\\"8.29\\\",\\\"8.3\\\",\\\"8.31\\\",\\\"8.32\\\",\\\"8.33\\\",\\\"8.34\\\",\\\"8.35\\\",\\\"8.36\\\",\\\"8.37\\\",\\\"8.38\\\",\\\"8.39\\\",\\\"8.4\\\",\\\"8.41\\\",\\\"8.42\\\",\\\"8.43\\\",\\\"8.44\\\",\\\"8.45\\\",\\\"8.46\\\",\\\"8.47\\\",\\\"8.48\\\",\\\"8.49\\\",\\\"8.5\\\",\\\"8.51\\\",\\\"8.52\\\",\\\"8.53\\\",\\\"8.54\\\",\\\"8.55\\\",\\\"8.56\\\",\\\"8.57\\\",\\\"8.58\\\",\\\"8.59\\\",\\\"8.6\\\",\\\"8.61\\\",\\\"8.62\\\",\\\"8.63\\\",\\\"8.64\\\",\\\"8.65\\\",\\\"8.66\\\",\\\"8.67\\\",\\\"8.68\\\",\\\"8.69\\\",\\\"8.7\\\",\\\"8.71\\\",\\\"8.72\\\",\\\"8.73\\\",\\\"8.74\\\",\\\"8.75\\\",\\\"8.76\\\",\\\"8.77\\\",\\\"8.78\\\",\\\"8.79\\\",\\\"8.8\\\",\\\"8.81\\\",\\\"8.82\\\",\\\"8.83\\\",\\\"8.84\\\",\\\"8.85\\\",\\\"8.86\\\",\\\"8.87\\\",\\\"8.88\\\",\\\"8.89\\\",\\\"8.9\\\",\\\"8.91\\\",\\\"8.92\\\",\\\"8.93\\\",\\\"8.94\\\",\\\"8.95\\\",\\\"8.96\\\",\\\"8.97\\\",\\\"8.98\\\",\\\"8.99\\\",\\\"9.0\\\",\\\"9.01\\\",\\\"9.02\\\",\\\"9.03\\\",\\\"9.04\\\",\\\"9.05\\\",\\\"9.06\\\",\\\"9.07\\\",\\\"9.08\\\",\\\"9.09\\\",\\\"9.1\\\",\\\"9.11\\\",\\\"9.12\\\",\\\"9.13\\\",\\\"9.14\\\",\\\"9.15\\\",\\\"9.16\\\",\\\"9.17\\\",\\\"9.18\\\",\\\"9.19\\\",\\\"9.2\\\",\\\"9.21\\\",\\\"9.22\\\",\\\"9.23\\\",\\\"9.24\\\",\\\"9.25\\\",\\\"9.26\\\",\\\"9.27\\\",\\\"9.28\\\",\\\"9.29\\\",\\\"9.3\\\",\\\"9.31\\\",\\\"9.32\\\",\\\"9.33\\\",\\\"9.34\\\",\\\"9.35\\\",\\\"9.36\\\",\\\"9.37\\\",\\\"9.38\\\",\\\"9.39\\\",\\\"9.4\\\",\\\"9.41\\\",\\\"9.42\\\",\\\"9.43\\\",\\\"9.44\\\",\\\"9.45\\\",\\\"9.46\\\",\\\"9.47\\\",\\\"9.48\\\",\\\"9.49\\\",\\\"9.5\\\",\\\"9.51\\\",\\\"9.52\\\",\\\"9.53\\\",\\\"9.54\\\",\\\"9.55\\\",\\\"9.56\\\",\\\"9.57\\\",\\\"9.58\\\",\\\"9.59\\\",\\\"9.6\\\",\\\"9.61\\\",\\\"9.62\\\",\\\"9.63\\\",\\\"9.64\\\",\\\"9.65\\\",\\\"9.66\\\",\\\"9.67\\\",\\\"9.68\\\",\\\"9.69\\\",\\\"9.7\\\",\\\"9.71\\\",\\\"9.72\\\",\\\"9.73\\\",\\\"9.74\\\",\\\"9.75\\\",\\\"9.76\\\",\\\"9.77\\\",\\\"9.78\\\",\\\"9.79\\\",\\\"9.8\\\",\\\"9.81\\\",\\\"9.82\\\",\\\"9.83\\\",\\\"9.84\\\",\\\"9.85\\\",\\\"9.86\\\",\\\"9.87\\\",\\\"9.88\\\",\\\"9.89\\\",\\\"9.9\\\",\\\"9.91\\\",\\\"9.92\\\",\\\"9.93\\\",\\\"9.94\\\",\\\"9.95\\\",\\\"9.96\\\",\\\"9.97\\\",\\\"9.98\\\",\\\"9.99\\\",\\\"10.0\\\"],\\\"changes\\\":WebIO.getval({\\\"name\\\":\\\"changes\\\",\\\"scope\\\":\\\"10647274643376008625\\\",\\\"id\\\":\\\"ob_60\\\",\\\"type\\\":\\\"observable\\\"}),\\\"index\\\":WebIO.getval({\\\"name\\\":\\\"index\\\",\\\"scope\\\":\\\"10647274643376008625\\\",\\\"id\\\":\\\"ob_59\\\",\\\"type\\\":\\\"observable\\\"})};\\n    var self = this;\\n    function AppViewModel() {\\n        for (var key in json_data) {\\n            var el = json_data[key];\\n            this[key] = Array.isArray(el) ? ko.observableArray(el) : ko.observable(el);\\n        }\\n        \\n        [this[\\\"formatted_val\\\"]=ko.computed(    function(){\\n        return this.formatted_vals()[parseInt(this.index())-(1)];\\n    }\\n,this)]\\n        [this[\\\"changes\\\"].subscribe((function (val){!(this.valueFromJulia[\\\"changes\\\"]) ? (WebIO.setval({\\\"name\\\":\\\"changes\\\",\\\"scope\\\":\\\"10647274643376008625\\\",\\\"id\\\":\\\"ob_60\\\",\\\"type\\\":\\\"observable\\\"},val)) : undefined; return this.valueFromJulia[\\\"changes\\\"]=false}),self),this[\\\"index\\\"].subscribe((function (val){!(this.valueFromJulia[\\\"index\\\"]) ? (WebIO.setval({\\\"name\\\":\\\"index\\\",\\\"scope\\\":\\\"10647274643376008625\\\",\\\"id\\\":\\\"ob_59\\\",\\\"type\\\":\\\"observable\\\"},val)) : undefined; return this.valueFromJulia[\\\"index\\\"]=false}),self)]\\n        \\n    }\\n    self.model = new AppViewModel();\\n    self.valueFromJulia = {};\\n    for (var key in json_data) {\\n        self.valueFromJulia[key] = false;\\n    }\\n    ko.applyBindings(self.model, self.dom);\\n}\\n);\\n    (WebIO.importBlock({\\\"data\\\":[{\\\"name\\\":\\\"knockout\\\",\\\"type\\\":\\\"js\\\",\\\"url\\\":\\\"/assetserver/bd369c9f3f65592d9de5e32611a3bd7919ce27e4-knockout.js\\\"},{\\\"name\\\":\\\"knockout_punches\\\",\\\"type\\\":\\\"js\\\",\\\"url\\\":\\\"/assetserver/3b50d12153ead1bb599ff862de1cdc44df7d6b87-knockout_punches.js\\\"}],\\\"type\\\":\\\"async_block\\\"})).then((imports) => handler.apply(this, imports));\\n}\\n\")])], Dict{Symbol,Any}(:className=>\"field interact-widget\")), Observable{Any} with 0 listeners. Value:\n",
       "Node{DOM}(DOM(:html, :div), Any[Figure(PyObject <Figure size 600x300 with 1 Axes>)], Dict{Symbol,Any}(:className=>\"interact-flex-row interact-widget\"))], Dict{Symbol,Any}())"
      ]
     },
     "execution_count": 6,
     "metadata": {
      "application/vnd.webio.node+json": {
       "kernelId": "e9d64544-b9f9-425c-ba9f-49be700952c3"
      }
     },
     "output_type": "execute_result"
    }
   ],
   "source": [
    "u0 = [0.5, 0.5]\n",
    "t_span = (0.0, 100.0)\n",
    "\n",
    "f1 = figure()\n",
    "@manipulate for α12 in slider(0.1:0.01:2.0; label = \"α12\", value = 0.8), \n",
    "                α21 in slider(0.1:0.01:2.0; label = \"α21\", value = 0.3), \n",
    "                K1 in slider(0.1:0.01:3.0; label = \"K1\", value = 1.5), \n",
    "                K2 in slider(0.1:0.01:3.0; label = \"K2\", value = 1.0),\n",
    "                r1 in slider(0.1:0.01:10.0; label = \"r1\", value = 1.0),\n",
    "                r2 in slider(0.1:0.01:10.0; label = \"r2\", value = 2.0)\n",
    "    p = LVPar(α12 = α12, α21 = α21, K1 = K1, K2 = K2, r1 = r1, r2 = r2)\n",
    "    prob = ODEProblem(lv_comp, u0, t_span, p)\n",
    "    sol = solve(prob, reltol = 1e-8)\n",
    "    withfig(f1, clear = true) do\n",
    "        plot(sol.t, sol.u)\n",
    "    end\n",
    "    #plot(sol)\n",
    "    #xlabel!(\"time\")\n",
    "    #ylabel!(\"Density\")\n",
    "end"
   ]
  },
  {
   "cell_type": "markdown",
   "metadata": {},
   "source": [
    "# Equilibria and Isoclines"
   ]
  },
  {
   "cell_type": "markdown",
   "metadata": {},
   "source": [
    "From the above equations we can generate the Jacobian:"
   ]
  },
  {
   "cell_type": "code",
   "execution_count": 7,
   "metadata": {},
   "outputs": [
    {
     "data": {
      "text/plain": [
       "jac (generic function with 1 method)"
      ]
     },
     "execution_count": 7,
     "metadata": {},
     "output_type": "execute_result"
    }
   ],
   "source": [
    "# Make a numerical (not symbolic version using the ForwardDiff.jl library. This is what you will want to do most of the time)\n",
    "jac(u, p) = ForwardDiff.jacobian(u -> lv_comp(u, p, NaN), u)"
   ]
  },
  {
   "cell_type": "code",
   "execution_count": 8,
   "metadata": {},
   "outputs": [
    {
     "data": {
      "text/plain": [
       "2×2 Array{Float64,2}:\n",
       "  0.0666667  -0.266667\n",
       " -0.3        -0.3     "
      ]
     },
     "execution_count": 8,
     "metadata": {},
     "output_type": "execute_result"
    }
   ],
   "source": [
    "# Here we have the jacobian evaluated at the point `u = [0.5, 0.5]`, with the parameter set `par`\n",
    "jac([0.5, 0.5], LVPar())"
   ]
  },
  {
   "cell_type": "markdown",
   "metadata": {},
   "source": [
    "First solve for $f_1$ and $f_2$ to determine when functions are equal to 0 (i.e., when $du_1/dt$ and $du_2/dt = 0$). These are known as the isoclines, or nullclines, and describe the set of solutions when $u_1$ and $u_2$ do not change."
   ]
  },
  {
   "cell_type": "code",
   "execution_count": 9,
   "metadata": {},
   "outputs": [
    {
     "name": "stderr",
     "output_type": "stream",
     "text": [
      "┌ Info: Recompiling stale cache file C:\\Users\\gabrielgellner\\.julia\\compiled\\v1.1\\SymPy\\KzewI.ji for SymPy [24249f21-da20-56a4-8eb1-6a02cf4ae2e6]\n",
      "└ @ Base loading.jl:1184\n",
      "WARNING: using SymPy.solve in module Main conflicts with an existing identifier.\n"
     ]
    }
   ],
   "source": [
    "# We need to use a library for Symbolic calculations, a very common one is SymPy from the python language. Luckily Julia\n",
    "# has excellent support for it.\n",
    "using SymPy"
   ]
  },
  {
   "cell_type": "code",
   "execution_count": 12,
   "metadata": {},
   "outputs": [],
   "source": [
    "# We want to deal with all of these as symbolic variables, which are not the default type in Julia, unlike Mathematica.\n",
    "@vars u1 u2\n",
    "@vars r1 r2 a12 a21 K1 K2\n",
    "# We need to make a symbolic parameter list, as `LVPar` is numeric\n",
    "spar = Dict(\n",
    "    :α12 => a12,\n",
    "    :α21 => a21,\n",
    "    :r1 => r1,\n",
    "    :r2 => r2,\n",
    "    :K1 => K1,\n",
    "    :K2 => K2);"
   ]
  },
  {
   "cell_type": "code",
   "execution_count": 13,
   "metadata": {},
   "outputs": [
    {
     "data": {
      "text/latex": [
       "\\[ \\left[ \\begin{array}{r}r_{1} u_{1} \\left(1 - \\frac{a_{12} u_{2} + u_{1}}{K_{1}}\\right)\\\\r_{2} u_{2} \\left(1 - \\frac{a_{21} u_{1} + u_{2}}{K_{2}}\\right)\\end{array} \\right] \\]"
      ],
      "text/plain": [
       "2-element Array{Sym,1}:\n",
       " r1*u1*(1 - (a12*u2 + u1)/K1)\n",
       " r2*u2*(1 - (a21*u1 + u2)/K2)"
      ]
     },
     "execution_count": 13,
     "metadata": {},
     "output_type": "execute_result"
    }
   ],
   "source": [
    "# we need to make symbolic versions of the model equations. We do this by calling the function with the symbolic parameters.\n",
    "# the last parameter could be anythign as the time (`t`) argument is not used. I have set it to `NaN` which is a name for\n",
    "# not a number.\n",
    "f1, f2 = lv_comp([u1, u2], spar, NaN)"
   ]
  },
  {
   "cell_type": "code",
   "execution_count": 14,
   "metadata": {},
   "outputs": [
    {
     "data": {
      "text/latex": [
       "\\[ \\left[ \\begin{array}{r}0\\\\K_{1} - a_{12} u_{2}\\end{array} \\right] \\]"
      ],
      "text/plain": [
       "2-element Array{Sym,1}:\n",
       "           0\n",
       " K1 - a12*u2"
      ]
     },
     "execution_count": 14,
     "metadata": {},
     "output_type": "execute_result"
    }
   ],
   "source": [
    "sympy.solve(f1, u1)"
   ]
  },
  {
   "cell_type": "code",
   "execution_count": 15,
   "metadata": {},
   "outputs": [
    {
     "data": {
      "text/latex": [
       "\\[ \\left[ \\begin{array}{r}\\frac{K_{1} - u_{1}}{a_{12}}\\end{array} \\right] \\]"
      ],
      "text/plain": [
       "1-element Array{Sym,1}:\n",
       " (K1 - u1)/a12"
      ]
     },
     "execution_count": 15,
     "metadata": {},
     "output_type": "execute_result"
    }
   ],
   "source": [
    "sympy.solve(f1, u2)"
   ]
  },
  {
   "cell_type": "code",
   "execution_count": 16,
   "metadata": {},
   "outputs": [
    {
     "data": {
      "text/latex": [
       "\\[ \\left[ \\begin{array}{r}\\frac{K_{2} - u_{2}}{a_{21}}\\end{array} \\right] \\]"
      ],
      "text/plain": [
       "1-element Array{Sym,1}:\n",
       " (K2 - u2)/a21"
      ]
     },
     "execution_count": 16,
     "metadata": {},
     "output_type": "execute_result"
    }
   ],
   "source": [
    "sympy.solve(f2, u1)"
   ]
  },
  {
   "cell_type": "code",
   "execution_count": 17,
   "metadata": {},
   "outputs": [
    {
     "data": {
      "text/latex": [
       "\\[ \\left[ \\begin{array}{r}0\\\\K_{2} - a_{21} u_{1}\\end{array} \\right] \\]"
      ],
      "text/plain": [
       "2-element Array{Sym,1}:\n",
       "           0\n",
       " K2 - a21*u1"
      ]
     },
     "execution_count": 17,
     "metadata": {},
     "output_type": "execute_result"
    }
   ],
   "source": [
    "sympy.solve(f2, u2)"
   ]
  },
  {
   "cell_type": "markdown",
   "metadata": {},
   "source": [
    "We want to solve our equations for $u_1$ so that we can plot the isoclines as a function of $u_1$ ($u_1$ on the y-axis), but here I am keeping all possible solutions, with respect to both $u_1$ and $u_2$. You should be able to see that the first two solutions ($u_1 = K_1 - \\alpha_{12}u_2$ and $u_2 = (K_1 - u_1)/\\alpha_{12}$) are equivalent.\n",
    "\n",
    "The solutions $u_1 = K_1 - \\alpha_{12}u_2$ and $u_1 = (K_2 - u_2)/\\alpha_{21}$ are the equations for our isoclines for $du_1/dt = 0$ and $du_2/dt = 0$, respectively. We can find the interior equilibrium where these lines intersect (i.e., both $u_1$ and $u_2$ do not change). In this case we get one interior equilibrium, but note that in more complicated models we can get more interior equilibria."
   ]
  },
  {
   "cell_type": "markdown",
   "metadata": {},
   "source": [
    "## Now plot the isoclines\n",
    "We will again use the `manipulate` function to see how our parameters change the isoclines. This can immediately tell us a lot about our equilibria and stability."
   ]
  },
  {
   "cell_type": "code",
   "execution_count": 18,
   "metadata": {},
   "outputs": [
    {
     "data": {
      "text/plain": [
       "iso2 (generic function with 1 method)"
      ]
     },
     "execution_count": 18,
     "metadata": {},
     "output_type": "execute_result"
    }
   ],
   "source": [
    "function iso1(u2, p)\n",
    "    @unpack α12, K1 = p\n",
    "    return K1 - α12 * u2 / K1\n",
    "end\n",
    "\n",
    "function iso2(u2, p)\n",
    "    @unpack α21, K2 = p\n",
    "    return (K2 - u2) / α21\n",
    "end"
   ]
  },
  {
   "cell_type": "code",
   "execution_count": 19,
   "metadata": {},
   "outputs": [
    {
     "data": {
      "application/vnd.webio.node+json": {
       "children": [
        {
         "children": [
          {
           "children": [
            {
             "children": [
              {
               "children": [
                {
                 "children": [
                  "α12"
                 ],
                 "instanceArgs": {
                  "namespace": "html",
                  "tag": "label"
                 },
                 "nodeType": "DOM",
                 "props": {
                  "className": "interact ",
                  "style": {
                   "padding": "5px 10px 0px 10px"
                  }
                 },
                 "type": "node"
                }
               ],
               "instanceArgs": {
                "namespace": "html",
                "tag": "div"
               },
               "nodeType": "DOM",
               "props": {
                "className": "interact-flex-row-left"
               },
               "type": "node"
              },
              {
               "children": [
                {
                 "children": [],
                 "instanceArgs": {
                  "namespace": "html",
                  "tag": "input"
                 },
                 "nodeType": "DOM",
                 "props": {
                  "attributes": {
                   "data-bind": "numericValue: index, valueUpdate: 'input', event: {change: function (){this.changes(this.changes()+1)}}",
                   "orient": "horizontal",
                   "type": "range"
                  },
                  "className": "slider slider is-fullwidth",
                  "max": 91,
                  "min": 1,
                  "step": 1,
                  "style": {}
                 },
                 "type": "node"
                }
               ],
               "instanceArgs": {
                "namespace": "html",
                "tag": "div"
               },
               "nodeType": "DOM",
               "props": {
                "className": "interact-flex-row-center"
               },
               "type": "node"
              },
              {
               "children": [
                {
                 "children": [],
                 "instanceArgs": {
                  "namespace": "html",
                  "tag": "p"
                 },
                 "nodeType": "DOM",
                 "props": {
                  "attributes": {
                   "data-bind": "text: formatted_val"
                  }
                 },
                 "type": "node"
                }
               ],
               "instanceArgs": {
                "namespace": "html",
                "tag": "div"
               },
               "nodeType": "DOM",
               "props": {
                "className": "interact-flex-row-right"
               },
               "type": "node"
              }
             ],
             "instanceArgs": {
              "namespace": "html",
              "tag": "div"
             },
             "nodeType": "DOM",
             "props": {
              "className": "interact-flex-row interact-widget"
             },
             "type": "node"
            }
           ],
           "instanceArgs": {
            "handlers": {
             "changes": [
              "(function (val){return (val!=this.model[\"changes\"]()) ? (this.valueFromJulia[\"changes\"]=true, this.model[\"changes\"](val)) : undefined})"
             ],
             "index": [
              "(function (val){return (val!=this.model[\"index\"]()) ? (this.valueFromJulia[\"index\"]=true, this.model[\"index\"](val)) : undefined})"
             ]
            },
            "id": "5823615678787335423",
            "imports": {
             "data": [
              {
               "name": "knockout",
               "type": "js",
               "url": "/assetserver/bd369c9f3f65592d9de5e32611a3bd7919ce27e4-knockout.js"
              },
              {
               "name": "knockout_punches",
               "type": "js",
               "url": "/assetserver/3b50d12153ead1bb599ff862de1cdc44df7d6b87-knockout_punches.js"
              },
              {
               "name": null,
               "type": "js",
               "url": "/assetserver/aa3951d9fb8679dff984ddfbf8b5e84bb80c8a32-all.js"
              },
              {
               "name": null,
               "type": "css",
               "url": "/assetserver/4d4e4f0d7e5786bcd65343de06f7537c7cc0439b-style.css"
              },
              {
               "name": null,
               "type": "css",
               "url": "/assetserver/29cbe869a436f8975bf1b635e657ff2c60889af7-bulma_confined.min.css"
              }
             ],
             "type": "async_block"
            },
            "mount_callbacks": [
             "function () {\n    var handler = (function (ko, koPunches) {\n    ko.punches.enableAll();\n    ko.bindingHandlers.numericValue = {\n        init: function(element, valueAccessor, allBindings, data, context) {\n            var stringified = ko.observable(ko.unwrap(valueAccessor()));\n            stringified.subscribe(function(value) {\n                var val = parseFloat(value);\n                if (!isNaN(val)) {\n                    valueAccessor()(val);\n                }\n            });\n            valueAccessor().subscribe(function(value) {\n                var str = JSON.stringify(value);\n                if ((str == \"0\") && ([\"-0\", \"-0.\"].indexOf(stringified()) >= 0))\n                     return;\n                 if ([\"null\", \"\"].indexOf(str) >= 0)\n                     return;\n                stringified(str);\n            });\n            ko.applyBindingsToNode(\n                element,\n                {\n                    value: stringified,\n                    valueUpdate: allBindings.get('valueUpdate'),\n                },\n                context,\n            );\n        }\n    };\n    var json_data = {\"formatted_vals\":[\"0.1\",\"0.11\",\"0.12\",\"0.13\",\"0.14\",\"0.15\",\"0.16\",\"0.17\",\"0.18\",\"0.19\",\"0.2\",\"0.21\",\"0.22\",\"0.23\",\"0.24\",\"0.25\",\"0.26\",\"0.27\",\"0.28\",\"0.29\",\"0.3\",\"0.31\",\"0.32\",\"0.33\",\"0.34\",\"0.35\",\"0.36\",\"0.37\",\"0.38\",\"0.39\",\"0.4\",\"0.41\",\"0.42\",\"0.43\",\"0.44\",\"0.45\",\"0.46\",\"0.47\",\"0.48\",\"0.49\",\"0.5\",\"0.51\",\"0.52\",\"0.53\",\"0.54\",\"0.55\",\"0.56\",\"0.57\",\"0.58\",\"0.59\",\"0.6\",\"0.61\",\"0.62\",\"0.63\",\"0.64\",\"0.65\",\"0.66\",\"0.67\",\"0.68\",\"0.69\",\"0.7\",\"0.71\",\"0.72\",\"0.73\",\"0.74\",\"0.75\",\"0.76\",\"0.77\",\"0.78\",\"0.79\",\"0.8\",\"0.81\",\"0.82\",\"0.83\",\"0.84\",\"0.85\",\"0.86\",\"0.87\",\"0.88\",\"0.89\",\"0.9\",\"0.91\",\"0.92\",\"0.93\",\"0.94\",\"0.95\",\"0.96\",\"0.97\",\"0.98\",\"0.99\",\"1.0\"],\"changes\":WebIO.getval({\"name\":\"changes\",\"scope\":\"5823615678787335423\",\"id\":\"ob_69\",\"type\":\"observable\"}),\"index\":WebIO.getval({\"name\":\"index\",\"scope\":\"5823615678787335423\",\"id\":\"ob_68\",\"type\":\"observable\"})};\n    var self = this;\n    function AppViewModel() {\n        for (var key in json_data) {\n            var el = json_data[key];\n            this[key] = Array.isArray(el) ? ko.observableArray(el) : ko.observable(el);\n        }\n        \n        [this[\"formatted_val\"]=ko.computed(    function(){\n        return this.formatted_vals()[parseInt(this.index())-(1)];\n    }\n,this)]\n        [this[\"changes\"].subscribe((function (val){!(this.valueFromJulia[\"changes\"]) ? (WebIO.setval({\"name\":\"changes\",\"scope\":\"5823615678787335423\",\"id\":\"ob_69\",\"type\":\"observable\"},val)) : undefined; return this.valueFromJulia[\"changes\"]=false}),self),this[\"index\"].subscribe((function (val){!(this.valueFromJulia[\"index\"]) ? (WebIO.setval({\"name\":\"index\",\"scope\":\"5823615678787335423\",\"id\":\"ob_68\",\"type\":\"observable\"},val)) : undefined; return this.valueFromJulia[\"index\"]=false}),self)]\n        \n    }\n    self.model = new AppViewModel();\n    self.valueFromJulia = {};\n    for (var key in json_data) {\n        self.valueFromJulia[key] = false;\n    }\n    ko.applyBindings(self.model, self.dom);\n}\n);\n    (WebIO.importBlock({\"data\":[{\"name\":\"knockout\",\"type\":\"js\",\"url\":\"/assetserver/bd369c9f3f65592d9de5e32611a3bd7919ce27e4-knockout.js\"},{\"name\":\"knockout_punches\",\"type\":\"js\",\"url\":\"/assetserver/3b50d12153ead1bb599ff862de1cdc44df7d6b87-knockout_punches.js\"}],\"type\":\"async_block\"})).then((imports) => handler.apply(this, imports));\n}\n"
            ],
            "observables": {
             "changes": {
              "id": "ob_69",
              "sync": false,
              "value": 0
             },
             "index": {
              "id": "ob_68",
              "sync": true,
              "value": 71
             }
            },
            "systemjs_options": null
           },
           "nodeType": "Scope",
           "props": {},
           "type": "node"
          }
         ],
         "instanceArgs": {
          "namespace": "html",
          "tag": "div"
         },
         "nodeType": "DOM",
         "props": {
          "className": "field interact-widget"
         },
         "type": "node"
        },
        {
         "children": [
          {
           "children": [
            {
             "children": [
              {
               "children": [
                {
                 "children": [
                  "α21"
                 ],
                 "instanceArgs": {
                  "namespace": "html",
                  "tag": "label"
                 },
                 "nodeType": "DOM",
                 "props": {
                  "className": "interact ",
                  "style": {
                   "padding": "5px 10px 0px 10px"
                  }
                 },
                 "type": "node"
                }
               ],
               "instanceArgs": {
                "namespace": "html",
                "tag": "div"
               },
               "nodeType": "DOM",
               "props": {
                "className": "interact-flex-row-left"
               },
               "type": "node"
              },
              {
               "children": [
                {
                 "children": [],
                 "instanceArgs": {
                  "namespace": "html",
                  "tag": "input"
                 },
                 "nodeType": "DOM",
                 "props": {
                  "attributes": {
                   "data-bind": "numericValue: index, valueUpdate: 'input', event: {change: function (){this.changes(this.changes()+1)}}",
                   "orient": "horizontal",
                   "type": "range"
                  },
                  "className": "slider slider is-fullwidth",
                  "max": 91,
                  "min": 1,
                  "step": 1,
                  "style": {}
                 },
                 "type": "node"
                }
               ],
               "instanceArgs": {
                "namespace": "html",
                "tag": "div"
               },
               "nodeType": "DOM",
               "props": {
                "className": "interact-flex-row-center"
               },
               "type": "node"
              },
              {
               "children": [
                {
                 "children": [],
                 "instanceArgs": {
                  "namespace": "html",
                  "tag": "p"
                 },
                 "nodeType": "DOM",
                 "props": {
                  "attributes": {
                   "data-bind": "text: formatted_val"
                  }
                 },
                 "type": "node"
                }
               ],
               "instanceArgs": {
                "namespace": "html",
                "tag": "div"
               },
               "nodeType": "DOM",
               "props": {
                "className": "interact-flex-row-right"
               },
               "type": "node"
              }
             ],
             "instanceArgs": {
              "namespace": "html",
              "tag": "div"
             },
             "nodeType": "DOM",
             "props": {
              "className": "interact-flex-row interact-widget"
             },
             "type": "node"
            }
           ],
           "instanceArgs": {
            "handlers": {
             "changes": [
              "(function (val){return (val!=this.model[\"changes\"]()) ? (this.valueFromJulia[\"changes\"]=true, this.model[\"changes\"](val)) : undefined})"
             ],
             "index": [
              "(function (val){return (val!=this.model[\"index\"]()) ? (this.valueFromJulia[\"index\"]=true, this.model[\"index\"](val)) : undefined})"
             ]
            },
            "id": "1077752603725190799",
            "imports": {
             "data": [
              {
               "name": "knockout",
               "type": "js",
               "url": "/assetserver/bd369c9f3f65592d9de5e32611a3bd7919ce27e4-knockout.js"
              },
              {
               "name": "knockout_punches",
               "type": "js",
               "url": "/assetserver/3b50d12153ead1bb599ff862de1cdc44df7d6b87-knockout_punches.js"
              },
              {
               "name": null,
               "type": "js",
               "url": "/assetserver/aa3951d9fb8679dff984ddfbf8b5e84bb80c8a32-all.js"
              },
              {
               "name": null,
               "type": "css",
               "url": "/assetserver/4d4e4f0d7e5786bcd65343de06f7537c7cc0439b-style.css"
              },
              {
               "name": null,
               "type": "css",
               "url": "/assetserver/29cbe869a436f8975bf1b635e657ff2c60889af7-bulma_confined.min.css"
              }
             ],
             "type": "async_block"
            },
            "mount_callbacks": [
             "function () {\n    var handler = (function (ko, koPunches) {\n    ko.punches.enableAll();\n    ko.bindingHandlers.numericValue = {\n        init: function(element, valueAccessor, allBindings, data, context) {\n            var stringified = ko.observable(ko.unwrap(valueAccessor()));\n            stringified.subscribe(function(value) {\n                var val = parseFloat(value);\n                if (!isNaN(val)) {\n                    valueAccessor()(val);\n                }\n            });\n            valueAccessor().subscribe(function(value) {\n                var str = JSON.stringify(value);\n                if ((str == \"0\") && ([\"-0\", \"-0.\"].indexOf(stringified()) >= 0))\n                     return;\n                 if ([\"null\", \"\"].indexOf(str) >= 0)\n                     return;\n                stringified(str);\n            });\n            ko.applyBindingsToNode(\n                element,\n                {\n                    value: stringified,\n                    valueUpdate: allBindings.get('valueUpdate'),\n                },\n                context,\n            );\n        }\n    };\n    var json_data = {\"formatted_vals\":[\"0.1\",\"0.11\",\"0.12\",\"0.13\",\"0.14\",\"0.15\",\"0.16\",\"0.17\",\"0.18\",\"0.19\",\"0.2\",\"0.21\",\"0.22\",\"0.23\",\"0.24\",\"0.25\",\"0.26\",\"0.27\",\"0.28\",\"0.29\",\"0.3\",\"0.31\",\"0.32\",\"0.33\",\"0.34\",\"0.35\",\"0.36\",\"0.37\",\"0.38\",\"0.39\",\"0.4\",\"0.41\",\"0.42\",\"0.43\",\"0.44\",\"0.45\",\"0.46\",\"0.47\",\"0.48\",\"0.49\",\"0.5\",\"0.51\",\"0.52\",\"0.53\",\"0.54\",\"0.55\",\"0.56\",\"0.57\",\"0.58\",\"0.59\",\"0.6\",\"0.61\",\"0.62\",\"0.63\",\"0.64\",\"0.65\",\"0.66\",\"0.67\",\"0.68\",\"0.69\",\"0.7\",\"0.71\",\"0.72\",\"0.73\",\"0.74\",\"0.75\",\"0.76\",\"0.77\",\"0.78\",\"0.79\",\"0.8\",\"0.81\",\"0.82\",\"0.83\",\"0.84\",\"0.85\",\"0.86\",\"0.87\",\"0.88\",\"0.89\",\"0.9\",\"0.91\",\"0.92\",\"0.93\",\"0.94\",\"0.95\",\"0.96\",\"0.97\",\"0.98\",\"0.99\",\"1.0\"],\"changes\":WebIO.getval({\"name\":\"changes\",\"scope\":\"1077752603725190799\",\"id\":\"ob_72\",\"type\":\"observable\"}),\"index\":WebIO.getval({\"name\":\"index\",\"scope\":\"1077752603725190799\",\"id\":\"ob_71\",\"type\":\"observable\"})};\n    var self = this;\n    function AppViewModel() {\n        for (var key in json_data) {\n            var el = json_data[key];\n            this[key] = Array.isArray(el) ? ko.observableArray(el) : ko.observable(el);\n        }\n        \n        [this[\"formatted_val\"]=ko.computed(    function(){\n        return this.formatted_vals()[parseInt(this.index())-(1)];\n    }\n,this)]\n        [this[\"changes\"].subscribe((function (val){!(this.valueFromJulia[\"changes\"]) ? (WebIO.setval({\"name\":\"changes\",\"scope\":\"1077752603725190799\",\"id\":\"ob_72\",\"type\":\"observable\"},val)) : undefined; return this.valueFromJulia[\"changes\"]=false}),self),this[\"index\"].subscribe((function (val){!(this.valueFromJulia[\"index\"]) ? (WebIO.setval({\"name\":\"index\",\"scope\":\"1077752603725190799\",\"id\":\"ob_71\",\"type\":\"observable\"},val)) : undefined; return this.valueFromJulia[\"index\"]=false}),self)]\n        \n    }\n    self.model = new AppViewModel();\n    self.valueFromJulia = {};\n    for (var key in json_data) {\n        self.valueFromJulia[key] = false;\n    }\n    ko.applyBindings(self.model, self.dom);\n}\n);\n    (WebIO.importBlock({\"data\":[{\"name\":\"knockout\",\"type\":\"js\",\"url\":\"/assetserver/bd369c9f3f65592d9de5e32611a3bd7919ce27e4-knockout.js\"},{\"name\":\"knockout_punches\",\"type\":\"js\",\"url\":\"/assetserver/3b50d12153ead1bb599ff862de1cdc44df7d6b87-knockout_punches.js\"}],\"type\":\"async_block\"})).then((imports) => handler.apply(this, imports));\n}\n"
            ],
            "observables": {
             "changes": {
              "id": "ob_72",
              "sync": false,
              "value": 0
             },
             "index": {
              "id": "ob_71",
              "sync": true,
              "value": 21
             }
            },
            "systemjs_options": null
           },
           "nodeType": "Scope",
           "props": {},
           "type": "node"
          }
         ],
         "instanceArgs": {
          "namespace": "html",
          "tag": "div"
         },
         "nodeType": "DOM",
         "props": {
          "className": "field interact-widget"
         },
         "type": "node"
        },
        {
         "children": [
          {
           "children": [
            {
             "children": [
              {
               "children": [
                {
                 "children": [
                  "K1"
                 ],
                 "instanceArgs": {
                  "namespace": "html",
                  "tag": "label"
                 },
                 "nodeType": "DOM",
                 "props": {
                  "className": "interact ",
                  "style": {
                   "padding": "5px 10px 0px 10px"
                  }
                 },
                 "type": "node"
                }
               ],
               "instanceArgs": {
                "namespace": "html",
                "tag": "div"
               },
               "nodeType": "DOM",
               "props": {
                "className": "interact-flex-row-left"
               },
               "type": "node"
              },
              {
               "children": [
                {
                 "children": [],
                 "instanceArgs": {
                  "namespace": "html",
                  "tag": "input"
                 },
                 "nodeType": "DOM",
                 "props": {
                  "attributes": {
                   "data-bind": "numericValue: index, valueUpdate: 'input', event: {change: function (){this.changes(this.changes()+1)}}",
                   "orient": "horizontal",
                   "type": "range"
                  },
                  "className": "slider slider is-fullwidth",
                  "max": 191,
                  "min": 1,
                  "step": 1,
                  "style": {}
                 },
                 "type": "node"
                }
               ],
               "instanceArgs": {
                "namespace": "html",
                "tag": "div"
               },
               "nodeType": "DOM",
               "props": {
                "className": "interact-flex-row-center"
               },
               "type": "node"
              },
              {
               "children": [
                {
                 "children": [],
                 "instanceArgs": {
                  "namespace": "html",
                  "tag": "p"
                 },
                 "nodeType": "DOM",
                 "props": {
                  "attributes": {
                   "data-bind": "text: formatted_val"
                  }
                 },
                 "type": "node"
                }
               ],
               "instanceArgs": {
                "namespace": "html",
                "tag": "div"
               },
               "nodeType": "DOM",
               "props": {
                "className": "interact-flex-row-right"
               },
               "type": "node"
              }
             ],
             "instanceArgs": {
              "namespace": "html",
              "tag": "div"
             },
             "nodeType": "DOM",
             "props": {
              "className": "interact-flex-row interact-widget"
             },
             "type": "node"
            }
           ],
           "instanceArgs": {
            "handlers": {
             "changes": [
              "(function (val){return (val!=this.model[\"changes\"]()) ? (this.valueFromJulia[\"changes\"]=true, this.model[\"changes\"](val)) : undefined})"
             ],
             "index": [
              "(function (val){return (val!=this.model[\"index\"]()) ? (this.valueFromJulia[\"index\"]=true, this.model[\"index\"](val)) : undefined})"
             ]
            },
            "id": "8147604509531143161",
            "imports": {
             "data": [
              {
               "name": "knockout",
               "type": "js",
               "url": "/assetserver/bd369c9f3f65592d9de5e32611a3bd7919ce27e4-knockout.js"
              },
              {
               "name": "knockout_punches",
               "type": "js",
               "url": "/assetserver/3b50d12153ead1bb599ff862de1cdc44df7d6b87-knockout_punches.js"
              },
              {
               "name": null,
               "type": "js",
               "url": "/assetserver/aa3951d9fb8679dff984ddfbf8b5e84bb80c8a32-all.js"
              },
              {
               "name": null,
               "type": "css",
               "url": "/assetserver/4d4e4f0d7e5786bcd65343de06f7537c7cc0439b-style.css"
              },
              {
               "name": null,
               "type": "css",
               "url": "/assetserver/29cbe869a436f8975bf1b635e657ff2c60889af7-bulma_confined.min.css"
              }
             ],
             "type": "async_block"
            },
            "mount_callbacks": [
             "function () {\n    var handler = (function (ko, koPunches) {\n    ko.punches.enableAll();\n    ko.bindingHandlers.numericValue = {\n        init: function(element, valueAccessor, allBindings, data, context) {\n            var stringified = ko.observable(ko.unwrap(valueAccessor()));\n            stringified.subscribe(function(value) {\n                var val = parseFloat(value);\n                if (!isNaN(val)) {\n                    valueAccessor()(val);\n                }\n            });\n            valueAccessor().subscribe(function(value) {\n                var str = JSON.stringify(value);\n                if ((str == \"0\") && ([\"-0\", \"-0.\"].indexOf(stringified()) >= 0))\n                     return;\n                 if ([\"null\", \"\"].indexOf(str) >= 0)\n                     return;\n                stringified(str);\n            });\n            ko.applyBindingsToNode(\n                element,\n                {\n                    value: stringified,\n                    valueUpdate: allBindings.get('valueUpdate'),\n                },\n                context,\n            );\n        }\n    };\n    var json_data = {\"formatted_vals\":[\"0.1\",\"0.11\",\"0.12\",\"0.13\",\"0.14\",\"0.15\",\"0.16\",\"0.17\",\"0.18\",\"0.19\",\"0.2\",\"0.21\",\"0.22\",\"0.23\",\"0.24\",\"0.25\",\"0.26\",\"0.27\",\"0.28\",\"0.29\",\"0.3\",\"0.31\",\"0.32\",\"0.33\",\"0.34\",\"0.35\",\"0.36\",\"0.37\",\"0.38\",\"0.39\",\"0.4\",\"0.41\",\"0.42\",\"0.43\",\"0.44\",\"0.45\",\"0.46\",\"0.47\",\"0.48\",\"0.49\",\"0.5\",\"0.51\",\"0.52\",\"0.53\",\"0.54\",\"0.55\",\"0.56\",\"0.57\",\"0.58\",\"0.59\",\"0.6\",\"0.61\",\"0.62\",\"0.63\",\"0.64\",\"0.65\",\"0.66\",\"0.67\",\"0.68\",\"0.69\",\"0.7\",\"0.71\",\"0.72\",\"0.73\",\"0.74\",\"0.75\",\"0.76\",\"0.77\",\"0.78\",\"0.79\",\"0.8\",\"0.81\",\"0.82\",\"0.83\",\"0.84\",\"0.85\",\"0.86\",\"0.87\",\"0.88\",\"0.89\",\"0.9\",\"0.91\",\"0.92\",\"0.93\",\"0.94\",\"0.95\",\"0.96\",\"0.97\",\"0.98\",\"0.99\",\"1.0\",\"1.01\",\"1.02\",\"1.03\",\"1.04\",\"1.05\",\"1.06\",\"1.07\",\"1.08\",\"1.09\",\"1.1\",\"1.11\",\"1.12\",\"1.13\",\"1.14\",\"1.15\",\"1.16\",\"1.17\",\"1.18\",\"1.19\",\"1.2\",\"1.21\",\"1.22\",\"1.23\",\"1.24\",\"1.25\",\"1.26\",\"1.27\",\"1.28\",\"1.29\",\"1.3\",\"1.31\",\"1.32\",\"1.33\",\"1.34\",\"1.35\",\"1.36\",\"1.37\",\"1.38\",\"1.39\",\"1.4\",\"1.41\",\"1.42\",\"1.43\",\"1.44\",\"1.45\",\"1.46\",\"1.47\",\"1.48\",\"1.49\",\"1.5\",\"1.51\",\"1.52\",\"1.53\",\"1.54\",\"1.55\",\"1.56\",\"1.57\",\"1.58\",\"1.59\",\"1.6\",\"1.61\",\"1.62\",\"1.63\",\"1.64\",\"1.65\",\"1.66\",\"1.67\",\"1.68\",\"1.69\",\"1.7\",\"1.71\",\"1.72\",\"1.73\",\"1.74\",\"1.75\",\"1.76\",\"1.77\",\"1.78\",\"1.79\",\"1.8\",\"1.81\",\"1.82\",\"1.83\",\"1.84\",\"1.85\",\"1.86\",\"1.87\",\"1.88\",\"1.89\",\"1.9\",\"1.91\",\"1.92\",\"1.93\",\"1.94\",\"1.95\",\"1.96\",\"1.97\",\"1.98\",\"1.99\",\"2.0\"],\"changes\":WebIO.getval({\"name\":\"changes\",\"scope\":\"8147604509531143161\",\"id\":\"ob_75\",\"type\":\"observable\"}),\"index\":WebIO.getval({\"name\":\"index\",\"scope\":\"8147604509531143161\",\"id\":\"ob_74\",\"type\":\"observable\"})};\n    var self = this;\n    function AppViewModel() {\n        for (var key in json_data) {\n            var el = json_data[key];\n            this[key] = Array.isArray(el) ? ko.observableArray(el) : ko.observable(el);\n        }\n        \n        [this[\"formatted_val\"]=ko.computed(    function(){\n        return this.formatted_vals()[parseInt(this.index())-(1)];\n    }\n,this)]\n        [this[\"changes\"].subscribe((function (val){!(this.valueFromJulia[\"changes\"]) ? (WebIO.setval({\"name\":\"changes\",\"scope\":\"8147604509531143161\",\"id\":\"ob_75\",\"type\":\"observable\"},val)) : undefined; return this.valueFromJulia[\"changes\"]=false}),self),this[\"index\"].subscribe((function (val){!(this.valueFromJulia[\"index\"]) ? (WebIO.setval({\"name\":\"index\",\"scope\":\"8147604509531143161\",\"id\":\"ob_74\",\"type\":\"observable\"},val)) : undefined; return this.valueFromJulia[\"index\"]=false}),self)]\n        \n    }\n    self.model = new AppViewModel();\n    self.valueFromJulia = {};\n    for (var key in json_data) {\n        self.valueFromJulia[key] = false;\n    }\n    ko.applyBindings(self.model, self.dom);\n}\n);\n    (WebIO.importBlock({\"data\":[{\"name\":\"knockout\",\"type\":\"js\",\"url\":\"/assetserver/bd369c9f3f65592d9de5e32611a3bd7919ce27e4-knockout.js\"},{\"name\":\"knockout_punches\",\"type\":\"js\",\"url\":\"/assetserver/3b50d12153ead1bb599ff862de1cdc44df7d6b87-knockout_punches.js\"}],\"type\":\"async_block\"})).then((imports) => handler.apply(this, imports));\n}\n"
            ],
            "observables": {
             "changes": {
              "id": "ob_75",
              "sync": false,
              "value": 0
             },
             "index": {
              "id": "ob_74",
              "sync": true,
              "value": 141
             }
            },
            "systemjs_options": null
           },
           "nodeType": "Scope",
           "props": {},
           "type": "node"
          }
         ],
         "instanceArgs": {
          "namespace": "html",
          "tag": "div"
         },
         "nodeType": "DOM",
         "props": {
          "className": "field interact-widget"
         },
         "type": "node"
        },
        {
         "children": [
          {
           "children": [
            {
             "children": [
              {
               "children": [
                {
                 "children": [
                  "K2"
                 ],
                 "instanceArgs": {
                  "namespace": "html",
                  "tag": "label"
                 },
                 "nodeType": "DOM",
                 "props": {
                  "className": "interact ",
                  "style": {
                   "padding": "5px 10px 0px 10px"
                  }
                 },
                 "type": "node"
                }
               ],
               "instanceArgs": {
                "namespace": "html",
                "tag": "div"
               },
               "nodeType": "DOM",
               "props": {
                "className": "interact-flex-row-left"
               },
               "type": "node"
              },
              {
               "children": [
                {
                 "children": [],
                 "instanceArgs": {
                  "namespace": "html",
                  "tag": "input"
                 },
                 "nodeType": "DOM",
                 "props": {
                  "attributes": {
                   "data-bind": "numericValue: index, valueUpdate: 'input', event: {change: function (){this.changes(this.changes()+1)}}",
                   "orient": "horizontal",
                   "type": "range"
                  },
                  "className": "slider slider is-fullwidth",
                  "max": 191,
                  "min": 1,
                  "step": 1,
                  "style": {}
                 },
                 "type": "node"
                }
               ],
               "instanceArgs": {
                "namespace": "html",
                "tag": "div"
               },
               "nodeType": "DOM",
               "props": {
                "className": "interact-flex-row-center"
               },
               "type": "node"
              },
              {
               "children": [
                {
                 "children": [],
                 "instanceArgs": {
                  "namespace": "html",
                  "tag": "p"
                 },
                 "nodeType": "DOM",
                 "props": {
                  "attributes": {
                   "data-bind": "text: formatted_val"
                  }
                 },
                 "type": "node"
                }
               ],
               "instanceArgs": {
                "namespace": "html",
                "tag": "div"
               },
               "nodeType": "DOM",
               "props": {
                "className": "interact-flex-row-right"
               },
               "type": "node"
              }
             ],
             "instanceArgs": {
              "namespace": "html",
              "tag": "div"
             },
             "nodeType": "DOM",
             "props": {
              "className": "interact-flex-row interact-widget"
             },
             "type": "node"
            }
           ],
           "instanceArgs": {
            "handlers": {
             "changes": [
              "(function (val){return (val!=this.model[\"changes\"]()) ? (this.valueFromJulia[\"changes\"]=true, this.model[\"changes\"](val)) : undefined})"
             ],
             "index": [
              "(function (val){return (val!=this.model[\"index\"]()) ? (this.valueFromJulia[\"index\"]=true, this.model[\"index\"](val)) : undefined})"
             ]
            },
            "id": "11504457538403858619",
            "imports": {
             "data": [
              {
               "name": "knockout",
               "type": "js",
               "url": "/assetserver/bd369c9f3f65592d9de5e32611a3bd7919ce27e4-knockout.js"
              },
              {
               "name": "knockout_punches",
               "type": "js",
               "url": "/assetserver/3b50d12153ead1bb599ff862de1cdc44df7d6b87-knockout_punches.js"
              },
              {
               "name": null,
               "type": "js",
               "url": "/assetserver/aa3951d9fb8679dff984ddfbf8b5e84bb80c8a32-all.js"
              },
              {
               "name": null,
               "type": "css",
               "url": "/assetserver/4d4e4f0d7e5786bcd65343de06f7537c7cc0439b-style.css"
              },
              {
               "name": null,
               "type": "css",
               "url": "/assetserver/29cbe869a436f8975bf1b635e657ff2c60889af7-bulma_confined.min.css"
              }
             ],
             "type": "async_block"
            },
            "mount_callbacks": [
             "function () {\n    var handler = (function (ko, koPunches) {\n    ko.punches.enableAll();\n    ko.bindingHandlers.numericValue = {\n        init: function(element, valueAccessor, allBindings, data, context) {\n            var stringified = ko.observable(ko.unwrap(valueAccessor()));\n            stringified.subscribe(function(value) {\n                var val = parseFloat(value);\n                if (!isNaN(val)) {\n                    valueAccessor()(val);\n                }\n            });\n            valueAccessor().subscribe(function(value) {\n                var str = JSON.stringify(value);\n                if ((str == \"0\") && ([\"-0\", \"-0.\"].indexOf(stringified()) >= 0))\n                     return;\n                 if ([\"null\", \"\"].indexOf(str) >= 0)\n                     return;\n                stringified(str);\n            });\n            ko.applyBindingsToNode(\n                element,\n                {\n                    value: stringified,\n                    valueUpdate: allBindings.get('valueUpdate'),\n                },\n                context,\n            );\n        }\n    };\n    var json_data = {\"formatted_vals\":[\"0.1\",\"0.11\",\"0.12\",\"0.13\",\"0.14\",\"0.15\",\"0.16\",\"0.17\",\"0.18\",\"0.19\",\"0.2\",\"0.21\",\"0.22\",\"0.23\",\"0.24\",\"0.25\",\"0.26\",\"0.27\",\"0.28\",\"0.29\",\"0.3\",\"0.31\",\"0.32\",\"0.33\",\"0.34\",\"0.35\",\"0.36\",\"0.37\",\"0.38\",\"0.39\",\"0.4\",\"0.41\",\"0.42\",\"0.43\",\"0.44\",\"0.45\",\"0.46\",\"0.47\",\"0.48\",\"0.49\",\"0.5\",\"0.51\",\"0.52\",\"0.53\",\"0.54\",\"0.55\",\"0.56\",\"0.57\",\"0.58\",\"0.59\",\"0.6\",\"0.61\",\"0.62\",\"0.63\",\"0.64\",\"0.65\",\"0.66\",\"0.67\",\"0.68\",\"0.69\",\"0.7\",\"0.71\",\"0.72\",\"0.73\",\"0.74\",\"0.75\",\"0.76\",\"0.77\",\"0.78\",\"0.79\",\"0.8\",\"0.81\",\"0.82\",\"0.83\",\"0.84\",\"0.85\",\"0.86\",\"0.87\",\"0.88\",\"0.89\",\"0.9\",\"0.91\",\"0.92\",\"0.93\",\"0.94\",\"0.95\",\"0.96\",\"0.97\",\"0.98\",\"0.99\",\"1.0\",\"1.01\",\"1.02\",\"1.03\",\"1.04\",\"1.05\",\"1.06\",\"1.07\",\"1.08\",\"1.09\",\"1.1\",\"1.11\",\"1.12\",\"1.13\",\"1.14\",\"1.15\",\"1.16\",\"1.17\",\"1.18\",\"1.19\",\"1.2\",\"1.21\",\"1.22\",\"1.23\",\"1.24\",\"1.25\",\"1.26\",\"1.27\",\"1.28\",\"1.29\",\"1.3\",\"1.31\",\"1.32\",\"1.33\",\"1.34\",\"1.35\",\"1.36\",\"1.37\",\"1.38\",\"1.39\",\"1.4\",\"1.41\",\"1.42\",\"1.43\",\"1.44\",\"1.45\",\"1.46\",\"1.47\",\"1.48\",\"1.49\",\"1.5\",\"1.51\",\"1.52\",\"1.53\",\"1.54\",\"1.55\",\"1.56\",\"1.57\",\"1.58\",\"1.59\",\"1.6\",\"1.61\",\"1.62\",\"1.63\",\"1.64\",\"1.65\",\"1.66\",\"1.67\",\"1.68\",\"1.69\",\"1.7\",\"1.71\",\"1.72\",\"1.73\",\"1.74\",\"1.75\",\"1.76\",\"1.77\",\"1.78\",\"1.79\",\"1.8\",\"1.81\",\"1.82\",\"1.83\",\"1.84\",\"1.85\",\"1.86\",\"1.87\",\"1.88\",\"1.89\",\"1.9\",\"1.91\",\"1.92\",\"1.93\",\"1.94\",\"1.95\",\"1.96\",\"1.97\",\"1.98\",\"1.99\",\"2.0\"],\"changes\":WebIO.getval({\"name\":\"changes\",\"scope\":\"11504457538403858619\",\"id\":\"ob_78\",\"type\":\"observable\"}),\"index\":WebIO.getval({\"name\":\"index\",\"scope\":\"11504457538403858619\",\"id\":\"ob_77\",\"type\":\"observable\"})};\n    var self = this;\n    function AppViewModel() {\n        for (var key in json_data) {\n            var el = json_data[key];\n            this[key] = Array.isArray(el) ? ko.observableArray(el) : ko.observable(el);\n        }\n        \n        [this[\"formatted_val\"]=ko.computed(    function(){\n        return this.formatted_vals()[parseInt(this.index())-(1)];\n    }\n,this)]\n        [this[\"changes\"].subscribe((function (val){!(this.valueFromJulia[\"changes\"]) ? (WebIO.setval({\"name\":\"changes\",\"scope\":\"11504457538403858619\",\"id\":\"ob_78\",\"type\":\"observable\"},val)) : undefined; return this.valueFromJulia[\"changes\"]=false}),self),this[\"index\"].subscribe((function (val){!(this.valueFromJulia[\"index\"]) ? (WebIO.setval({\"name\":\"index\",\"scope\":\"11504457538403858619\",\"id\":\"ob_77\",\"type\":\"observable\"},val)) : undefined; return this.valueFromJulia[\"index\"]=false}),self)]\n        \n    }\n    self.model = new AppViewModel();\n    self.valueFromJulia = {};\n    for (var key in json_data) {\n        self.valueFromJulia[key] = false;\n    }\n    ko.applyBindings(self.model, self.dom);\n}\n);\n    (WebIO.importBlock({\"data\":[{\"name\":\"knockout\",\"type\":\"js\",\"url\":\"/assetserver/bd369c9f3f65592d9de5e32611a3bd7919ce27e4-knockout.js\"},{\"name\":\"knockout_punches\",\"type\":\"js\",\"url\":\"/assetserver/3b50d12153ead1bb599ff862de1cdc44df7d6b87-knockout_punches.js\"}],\"type\":\"async_block\"})).then((imports) => handler.apply(this, imports));\n}\n"
            ],
            "observables": {
             "changes": {
              "id": "ob_78",
              "sync": false,
              "value": 0
             },
             "index": {
              "id": "ob_77",
              "sync": true,
              "value": 91
             }
            },
            "systemjs_options": null
           },
           "nodeType": "Scope",
           "props": {},
           "type": "node"
          }
         ],
         "instanceArgs": {
          "namespace": "html",
          "tag": "div"
         },
         "nodeType": "DOM",
         "props": {
          "className": "field interact-widget"
         },
         "type": "node"
        },
        {
         "children": [
          {
           "children": [],
           "instanceArgs": {
            "id": "ob_84",
            "name": "obs-node"
           },
           "nodeType": "ObservableNode",
           "props": {},
           "type": "node"
          }
         ],
         "instanceArgs": {
          "handlers": {},
          "id": "16980968245920648104",
          "imports": {
           "data": [],
           "type": "async_block"
          },
          "mount_callbacks": [],
          "observables": {
           "obs-node": {
            "id": "ob_84",
            "sync": false,
            "value": {
             "children": [
              {
               "children": [],
               "instanceArgs": {
                "namespace": "html",
                "tag": "div"
               },
               "nodeType": "DOM",
               "props": {
                "setInnerHtml": "<img src='data:image/png;base64,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'></img>"
               },
               "type": "node"
              }
             ],
             "instanceArgs": {
              "namespace": "html",
              "tag": "div"
             },
             "nodeType": "DOM",
             "props": {
              "className": "interact-flex-row interact-widget"
             },
             "type": "node"
            }
           }
          },
          "systemjs_options": null
         },
         "nodeType": "Scope",
         "props": {},
         "type": "node"
        }
       ],
       "instanceArgs": {
        "namespace": "html",
        "tag": "div"
       },
       "nodeType": "DOM",
       "props": {},
       "type": "node"
      },
      "text/html": [
       "<div\n",
       "    class=\"webio-mountpoint\"\n",
       "    data-webio-mountpoint=\"6596046957014115184\"\n",
       ">\n",
       "    <script>\n",
       "    if (window.require && require.defined && require.defined(\"nbextensions/webio-jupyter-notebook\")) {\n",
       "        console.log(\"Jupyter WebIO extension detected, not mounting.\");\n",
       "    } else if (window.WebIO) {\n",
       "        WebIO.mount(\n",
       "            document.querySelector('[data-webio-mountpoint=\"6596046957014115184\"]'),\n",
       "            {\"props\":{},\"nodeType\":\"DOM\",\"type\":\"node\",\"instanceArgs\":{\"namespace\":\"html\",\"tag\":\"div\"},\"children\":[{\"props\":{\"className\":\"field interact-widget\"},\"nodeType\":\"DOM\",\"type\":\"node\",\"instanceArgs\":{\"namespace\":\"html\",\"tag\":\"div\"},\"children\":[{\"props\":{},\"nodeType\":\"Scope\",\"type\":\"node\",\"instanceArgs\":{\"imports\":{\"data\":[{\"name\":\"knockout\",\"type\":\"js\",\"url\":\"\\/assetserver\\/bd369c9f3f65592d9de5e32611a3bd7919ce27e4-knockout.js\"},{\"name\":\"knockout_punches\",\"type\":\"js\",\"url\":\"\\/assetserver\\/3b50d12153ead1bb599ff862de1cdc44df7d6b87-knockout_punches.js\"},{\"name\":null,\"type\":\"js\",\"url\":\"\\/assetserver\\/aa3951d9fb8679dff984ddfbf8b5e84bb80c8a32-all.js\"},{\"name\":null,\"type\":\"css\",\"url\":\"\\/assetserver\\/4d4e4f0d7e5786bcd65343de06f7537c7cc0439b-style.css\"},{\"name\":null,\"type\":\"css\",\"url\":\"\\/assetserver\\/29cbe869a436f8975bf1b635e657ff2c60889af7-bulma_confined.min.css\"}],\"type\":\"async_block\"},\"id\":\"5823615678787335423\",\"handlers\":{\"changes\":[\"(function (val){return (val!=this.model[\\\"changes\\\"]()) ? (this.valueFromJulia[\\\"changes\\\"]=true, this.model[\\\"changes\\\"](val)) : undefined})\"],\"index\":[\"(function (val){return (val!=this.model[\\\"index\\\"]()) ? (this.valueFromJulia[\\\"index\\\"]=true, this.model[\\\"index\\\"](val)) : undefined})\"]},\"systemjs_options\":null,\"mount_callbacks\":[\"function () {\\n    var handler = (function (ko, koPunches) {\\n    ko.punches.enableAll();\\n    ko.bindingHandlers.numericValue = {\\n        init: function(element, valueAccessor, allBindings, data, context) {\\n            var stringified = ko.observable(ko.unwrap(valueAccessor()));\\n            stringified.subscribe(function(value) {\\n                var val = parseFloat(value);\\n                if (!isNaN(val)) {\\n                    valueAccessor()(val);\\n                }\\n            });\\n            valueAccessor().subscribe(function(value) {\\n                var str = JSON.stringify(value);\\n                if ((str == \\\"0\\\") && ([\\\"-0\\\", \\\"-0.\\\"].indexOf(stringified()) >= 0))\\n                     return;\\n                 if ([\\\"null\\\", \\\"\\\"].indexOf(str) >= 0)\\n                     return;\\n                stringified(str);\\n            });\\n            ko.applyBindingsToNode(\\n                element,\\n                {\\n                    value: stringified,\\n                    valueUpdate: allBindings.get('valueUpdate'),\\n                },\\n                context,\\n            );\\n        }\\n    };\\n    var json_data = {\\\"formatted_vals\\\":[\\\"0.1\\\",\\\"0.11\\\",\\\"0.12\\\",\\\"0.13\\\",\\\"0.14\\\",\\\"0.15\\\",\\\"0.16\\\",\\\"0.17\\\",\\\"0.18\\\",\\\"0.19\\\",\\\"0.2\\\",\\\"0.21\\\",\\\"0.22\\\",\\\"0.23\\\",\\\"0.24\\\",\\\"0.25\\\",\\\"0.26\\\",\\\"0.27\\\",\\\"0.28\\\",\\\"0.29\\\",\\\"0.3\\\",\\\"0.31\\\",\\\"0.32\\\",\\\"0.33\\\",\\\"0.34\\\",\\\"0.35\\\",\\\"0.36\\\",\\\"0.37\\\",\\\"0.38\\\",\\\"0.39\\\",\\\"0.4\\\",\\\"0.41\\\",\\\"0.42\\\",\\\"0.43\\\",\\\"0.44\\\",\\\"0.45\\\",\\\"0.46\\\",\\\"0.47\\\",\\\"0.48\\\",\\\"0.49\\\",\\\"0.5\\\",\\\"0.51\\\",\\\"0.52\\\",\\\"0.53\\\",\\\"0.54\\\",\\\"0.55\\\",\\\"0.56\\\",\\\"0.57\\\",\\\"0.58\\\",\\\"0.59\\\",\\\"0.6\\\",\\\"0.61\\\",\\\"0.62\\\",\\\"0.63\\\",\\\"0.64\\\",\\\"0.65\\\",\\\"0.66\\\",\\\"0.67\\\",\\\"0.68\\\",\\\"0.69\\\",\\\"0.7\\\",\\\"0.71\\\",\\\"0.72\\\",\\\"0.73\\\",\\\"0.74\\\",\\\"0.75\\\",\\\"0.76\\\",\\\"0.77\\\",\\\"0.78\\\",\\\"0.79\\\",\\\"0.8\\\",\\\"0.81\\\",\\\"0.82\\\",\\\"0.83\\\",\\\"0.84\\\",\\\"0.85\\\",\\\"0.86\\\",\\\"0.87\\\",\\\"0.88\\\",\\\"0.89\\\",\\\"0.9\\\",\\\"0.91\\\",\\\"0.92\\\",\\\"0.93\\\",\\\"0.94\\\",\\\"0.95\\\",\\\"0.96\\\",\\\"0.97\\\",\\\"0.98\\\",\\\"0.99\\\",\\\"1.0\\\"],\\\"changes\\\":WebIO.getval({\\\"name\\\":\\\"changes\\\",\\\"scope\\\":\\\"5823615678787335423\\\",\\\"id\\\":\\\"ob_69\\\",\\\"type\\\":\\\"observable\\\"}),\\\"index\\\":WebIO.getval({\\\"name\\\":\\\"index\\\",\\\"scope\\\":\\\"5823615678787335423\\\",\\\"id\\\":\\\"ob_68\\\",\\\"type\\\":\\\"observable\\\"})};\\n    var self = this;\\n    function AppViewModel() {\\n        for (var key in json_data) {\\n            var el = json_data[key];\\n            this[key] = Array.isArray(el) ? ko.observableArray(el) : ko.observable(el);\\n        }\\n        \\n        [this[\\\"formatted_val\\\"]=ko.computed(    function(){\\n        return this.formatted_vals()[parseInt(this.index())-(1)];\\n    }\\n,this)]\\n        [this[\\\"changes\\\"].subscribe((function (val){!(this.valueFromJulia[\\\"changes\\\"]) ? (WebIO.setval({\\\"name\\\":\\\"changes\\\",\\\"scope\\\":\\\"5823615678787335423\\\",\\\"id\\\":\\\"ob_69\\\",\\\"type\\\":\\\"observable\\\"},val)) : undefined; return this.valueFromJulia[\\\"changes\\\"]=false}),self),this[\\\"index\\\"].subscribe((function (val){!(this.valueFromJulia[\\\"index\\\"]) ? (WebIO.setval({\\\"name\\\":\\\"index\\\",\\\"scope\\\":\\\"5823615678787335423\\\",\\\"id\\\":\\\"ob_68\\\",\\\"type\\\":\\\"observable\\\"},val)) : undefined; return this.valueFromJulia[\\\"index\\\"]=false}),self)]\\n        \\n    }\\n    self.model = new AppViewModel();\\n    self.valueFromJulia = {};\\n    for (var key in json_data) {\\n        self.valueFromJulia[key] = false;\\n    }\\n    ko.applyBindings(self.model, self.dom);\\n}\\n);\\n    (WebIO.importBlock({\\\"data\\\":[{\\\"name\\\":\\\"knockout\\\",\\\"type\\\":\\\"js\\\",\\\"url\\\":\\\"\\/assetserver\\/bd369c9f3f65592d9de5e32611a3bd7919ce27e4-knockout.js\\\"},{\\\"name\\\":\\\"knockout_punches\\\",\\\"type\\\":\\\"js\\\",\\\"url\\\":\\\"\\/assetserver\\/3b50d12153ead1bb599ff862de1cdc44df7d6b87-knockout_punches.js\\\"}],\\\"type\\\":\\\"async_block\\\"})).then((imports) => handler.apply(this, imports));\\n}\\n\"],\"observables\":{\"changes\":{\"sync\":false,\"id\":\"ob_69\",\"value\":0},\"index\":{\"sync\":true,\"id\":\"ob_68\",\"value\":71}}},\"children\":[{\"props\":{\"className\":\"interact-flex-row interact-widget\"},\"nodeType\":\"DOM\",\"type\":\"node\",\"instanceArgs\":{\"namespace\":\"html\",\"tag\":\"div\"},\"children\":[{\"props\":{\"className\":\"interact-flex-row-left\"},\"nodeType\":\"DOM\",\"type\":\"node\",\"instanceArgs\":{\"namespace\":\"html\",\"tag\":\"div\"},\"children\":[{\"props\":{\"className\":\"interact \",\"style\":{\"padding\":\"5px 10px 0px 10px\"}},\"nodeType\":\"DOM\",\"type\":\"node\",\"instanceArgs\":{\"namespace\":\"html\",\"tag\":\"label\"},\"children\":[\"α12\"]}]},{\"props\":{\"className\":\"interact-flex-row-center\"},\"nodeType\":\"DOM\",\"type\":\"node\",\"instanceArgs\":{\"namespace\":\"html\",\"tag\":\"div\"},\"children\":[{\"props\":{\"max\":91,\"min\":1,\"attributes\":{\"type\":\"range\",\"data-bind\":\"numericValue: index, valueUpdate: 'input', event: {change: function (){this.changes(this.changes()+1)}}\",\"orient\":\"horizontal\"},\"step\":1,\"className\":\"slider slider is-fullwidth\",\"style\":{}},\"nodeType\":\"DOM\",\"type\":\"node\",\"instanceArgs\":{\"namespace\":\"html\",\"tag\":\"input\"},\"children\":[]}]},{\"props\":{\"className\":\"interact-flex-row-right\"},\"nodeType\":\"DOM\",\"type\":\"node\",\"instanceArgs\":{\"namespace\":\"html\",\"tag\":\"div\"},\"children\":[{\"props\":{\"attributes\":{\"data-bind\":\"text: formatted_val\"}},\"nodeType\":\"DOM\",\"type\":\"node\",\"instanceArgs\":{\"namespace\":\"html\",\"tag\":\"p\"},\"children\":[]}]}]}]}]},{\"props\":{\"className\":\"field interact-widget\"},\"nodeType\":\"DOM\",\"type\":\"node\",\"instanceArgs\":{\"namespace\":\"html\",\"tag\":\"div\"},\"children\":[{\"props\":{},\"nodeType\":\"Scope\",\"type\":\"node\",\"instanceArgs\":{\"imports\":{\"data\":[{\"name\":\"knockout\",\"type\":\"js\",\"url\":\"\\/assetserver\\/bd369c9f3f65592d9de5e32611a3bd7919ce27e4-knockout.js\"},{\"name\":\"knockout_punches\",\"type\":\"js\",\"url\":\"\\/assetserver\\/3b50d12153ead1bb599ff862de1cdc44df7d6b87-knockout_punches.js\"},{\"name\":null,\"type\":\"js\",\"url\":\"\\/assetserver\\/aa3951d9fb8679dff984ddfbf8b5e84bb80c8a32-all.js\"},{\"name\":null,\"type\":\"css\",\"url\":\"\\/assetserver\\/4d4e4f0d7e5786bcd65343de06f7537c7cc0439b-style.css\"},{\"name\":null,\"type\":\"css\",\"url\":\"\\/assetserver\\/29cbe869a436f8975bf1b635e657ff2c60889af7-bulma_confined.min.css\"}],\"type\":\"async_block\"},\"id\":\"1077752603725190799\",\"handlers\":{\"changes\":[\"(function (val){return (val!=this.model[\\\"changes\\\"]()) ? (this.valueFromJulia[\\\"changes\\\"]=true, this.model[\\\"changes\\\"](val)) : undefined})\"],\"index\":[\"(function (val){return (val!=this.model[\\\"index\\\"]()) ? (this.valueFromJulia[\\\"index\\\"]=true, this.model[\\\"index\\\"](val)) : undefined})\"]},\"systemjs_options\":null,\"mount_callbacks\":[\"function () {\\n    var handler = (function (ko, koPunches) {\\n    ko.punches.enableAll();\\n    ko.bindingHandlers.numericValue = {\\n        init: function(element, valueAccessor, allBindings, data, context) {\\n            var stringified = ko.observable(ko.unwrap(valueAccessor()));\\n            stringified.subscribe(function(value) {\\n                var val = parseFloat(value);\\n                if (!isNaN(val)) {\\n                    valueAccessor()(val);\\n                }\\n            });\\n            valueAccessor().subscribe(function(value) {\\n                var str = JSON.stringify(value);\\n                if ((str == \\\"0\\\") && ([\\\"-0\\\", \\\"-0.\\\"].indexOf(stringified()) >= 0))\\n                     return;\\n                 if ([\\\"null\\\", \\\"\\\"].indexOf(str) >= 0)\\n                     return;\\n                stringified(str);\\n            });\\n            ko.applyBindingsToNode(\\n                element,\\n                {\\n                    value: stringified,\\n                    valueUpdate: allBindings.get('valueUpdate'),\\n                },\\n                context,\\n            );\\n        }\\n    };\\n    var json_data = {\\\"formatted_vals\\\":[\\\"0.1\\\",\\\"0.11\\\",\\\"0.12\\\",\\\"0.13\\\",\\\"0.14\\\",\\\"0.15\\\",\\\"0.16\\\",\\\"0.17\\\",\\\"0.18\\\",\\\"0.19\\\",\\\"0.2\\\",\\\"0.21\\\",\\\"0.22\\\",\\\"0.23\\\",\\\"0.24\\\",\\\"0.25\\\",\\\"0.26\\\",\\\"0.27\\\",\\\"0.28\\\",\\\"0.29\\\",\\\"0.3\\\",\\\"0.31\\\",\\\"0.32\\\",\\\"0.33\\\",\\\"0.34\\\",\\\"0.35\\\",\\\"0.36\\\",\\\"0.37\\\",\\\"0.38\\\",\\\"0.39\\\",\\\"0.4\\\",\\\"0.41\\\",\\\"0.42\\\",\\\"0.43\\\",\\\"0.44\\\",\\\"0.45\\\",\\\"0.46\\\",\\\"0.47\\\",\\\"0.48\\\",\\\"0.49\\\",\\\"0.5\\\",\\\"0.51\\\",\\\"0.52\\\",\\\"0.53\\\",\\\"0.54\\\",\\\"0.55\\\",\\\"0.56\\\",\\\"0.57\\\",\\\"0.58\\\",\\\"0.59\\\",\\\"0.6\\\",\\\"0.61\\\",\\\"0.62\\\",\\\"0.63\\\",\\\"0.64\\\",\\\"0.65\\\",\\\"0.66\\\",\\\"0.67\\\",\\\"0.68\\\",\\\"0.69\\\",\\\"0.7\\\",\\\"0.71\\\",\\\"0.72\\\",\\\"0.73\\\",\\\"0.74\\\",\\\"0.75\\\",\\\"0.76\\\",\\\"0.77\\\",\\\"0.78\\\",\\\"0.79\\\",\\\"0.8\\\",\\\"0.81\\\",\\\"0.82\\\",\\\"0.83\\\",\\\"0.84\\\",\\\"0.85\\\",\\\"0.86\\\",\\\"0.87\\\",\\\"0.88\\\",\\\"0.89\\\",\\\"0.9\\\",\\\"0.91\\\",\\\"0.92\\\",\\\"0.93\\\",\\\"0.94\\\",\\\"0.95\\\",\\\"0.96\\\",\\\"0.97\\\",\\\"0.98\\\",\\\"0.99\\\",\\\"1.0\\\"],\\\"changes\\\":WebIO.getval({\\\"name\\\":\\\"changes\\\",\\\"scope\\\":\\\"1077752603725190799\\\",\\\"id\\\":\\\"ob_72\\\",\\\"type\\\":\\\"observable\\\"}),\\\"index\\\":WebIO.getval({\\\"name\\\":\\\"index\\\",\\\"scope\\\":\\\"1077752603725190799\\\",\\\"id\\\":\\\"ob_71\\\",\\\"type\\\":\\\"observable\\\"})};\\n    var self = this;\\n    function AppViewModel() {\\n        for (var key in json_data) {\\n            var el = json_data[key];\\n            this[key] = Array.isArray(el) ? ko.observableArray(el) : ko.observable(el);\\n        }\\n        \\n        [this[\\\"formatted_val\\\"]=ko.computed(    function(){\\n        return this.formatted_vals()[parseInt(this.index())-(1)];\\n    }\\n,this)]\\n        [this[\\\"changes\\\"].subscribe((function (val){!(this.valueFromJulia[\\\"changes\\\"]) ? (WebIO.setval({\\\"name\\\":\\\"changes\\\",\\\"scope\\\":\\\"1077752603725190799\\\",\\\"id\\\":\\\"ob_72\\\",\\\"type\\\":\\\"observable\\\"},val)) : undefined; return this.valueFromJulia[\\\"changes\\\"]=false}),self),this[\\\"index\\\"].subscribe((function (val){!(this.valueFromJulia[\\\"index\\\"]) ? (WebIO.setval({\\\"name\\\":\\\"index\\\",\\\"scope\\\":\\\"1077752603725190799\\\",\\\"id\\\":\\\"ob_71\\\",\\\"type\\\":\\\"observable\\\"},val)) : undefined; return this.valueFromJulia[\\\"index\\\"]=false}),self)]\\n        \\n    }\\n    self.model = new AppViewModel();\\n    self.valueFromJulia = {};\\n    for (var key in json_data) {\\n        self.valueFromJulia[key] = false;\\n    }\\n    ko.applyBindings(self.model, self.dom);\\n}\\n);\\n    (WebIO.importBlock({\\\"data\\\":[{\\\"name\\\":\\\"knockout\\\",\\\"type\\\":\\\"js\\\",\\\"url\\\":\\\"\\/assetserver\\/bd369c9f3f65592d9de5e32611a3bd7919ce27e4-knockout.js\\\"},{\\\"name\\\":\\\"knockout_punches\\\",\\\"type\\\":\\\"js\\\",\\\"url\\\":\\\"\\/assetserver\\/3b50d12153ead1bb599ff862de1cdc44df7d6b87-knockout_punches.js\\\"}],\\\"type\\\":\\\"async_block\\\"})).then((imports) => handler.apply(this, imports));\\n}\\n\"],\"observables\":{\"changes\":{\"sync\":false,\"id\":\"ob_72\",\"value\":0},\"index\":{\"sync\":true,\"id\":\"ob_71\",\"value\":21}}},\"children\":[{\"props\":{\"className\":\"interact-flex-row interact-widget\"},\"nodeType\":\"DOM\",\"type\":\"node\",\"instanceArgs\":{\"namespace\":\"html\",\"tag\":\"div\"},\"children\":[{\"props\":{\"className\":\"interact-flex-row-left\"},\"nodeType\":\"DOM\",\"type\":\"node\",\"instanceArgs\":{\"namespace\":\"html\",\"tag\":\"div\"},\"children\":[{\"props\":{\"className\":\"interact \",\"style\":{\"padding\":\"5px 10px 0px 10px\"}},\"nodeType\":\"DOM\",\"type\":\"node\",\"instanceArgs\":{\"namespace\":\"html\",\"tag\":\"label\"},\"children\":[\"α21\"]}]},{\"props\":{\"className\":\"interact-flex-row-center\"},\"nodeType\":\"DOM\",\"type\":\"node\",\"instanceArgs\":{\"namespace\":\"html\",\"tag\":\"div\"},\"children\":[{\"props\":{\"max\":91,\"min\":1,\"attributes\":{\"type\":\"range\",\"data-bind\":\"numericValue: index, valueUpdate: 'input', event: {change: function (){this.changes(this.changes()+1)}}\",\"orient\":\"horizontal\"},\"step\":1,\"className\":\"slider slider is-fullwidth\",\"style\":{}},\"nodeType\":\"DOM\",\"type\":\"node\",\"instanceArgs\":{\"namespace\":\"html\",\"tag\":\"input\"},\"children\":[]}]},{\"props\":{\"className\":\"interact-flex-row-right\"},\"nodeType\":\"DOM\",\"type\":\"node\",\"instanceArgs\":{\"namespace\":\"html\",\"tag\":\"div\"},\"children\":[{\"props\":{\"attributes\":{\"data-bind\":\"text: formatted_val\"}},\"nodeType\":\"DOM\",\"type\":\"node\",\"instanceArgs\":{\"namespace\":\"html\",\"tag\":\"p\"},\"children\":[]}]}]}]}]},{\"props\":{\"className\":\"field interact-widget\"},\"nodeType\":\"DOM\",\"type\":\"node\",\"instanceArgs\":{\"namespace\":\"html\",\"tag\":\"div\"},\"children\":[{\"props\":{},\"nodeType\":\"Scope\",\"type\":\"node\",\"instanceArgs\":{\"imports\":{\"data\":[{\"name\":\"knockout\",\"type\":\"js\",\"url\":\"\\/assetserver\\/bd369c9f3f65592d9de5e32611a3bd7919ce27e4-knockout.js\"},{\"name\":\"knockout_punches\",\"type\":\"js\",\"url\":\"\\/assetserver\\/3b50d12153ead1bb599ff862de1cdc44df7d6b87-knockout_punches.js\"},{\"name\":null,\"type\":\"js\",\"url\":\"\\/assetserver\\/aa3951d9fb8679dff984ddfbf8b5e84bb80c8a32-all.js\"},{\"name\":null,\"type\":\"css\",\"url\":\"\\/assetserver\\/4d4e4f0d7e5786bcd65343de06f7537c7cc0439b-style.css\"},{\"name\":null,\"type\":\"css\",\"url\":\"\\/assetserver\\/29cbe869a436f8975bf1b635e657ff2c60889af7-bulma_confined.min.css\"}],\"type\":\"async_block\"},\"id\":\"8147604509531143161\",\"handlers\":{\"changes\":[\"(function (val){return (val!=this.model[\\\"changes\\\"]()) ? (this.valueFromJulia[\\\"changes\\\"]=true, this.model[\\\"changes\\\"](val)) : undefined})\"],\"index\":[\"(function (val){return (val!=this.model[\\\"index\\\"]()) ? (this.valueFromJulia[\\\"index\\\"]=true, this.model[\\\"index\\\"](val)) : undefined})\"]},\"systemjs_options\":null,\"mount_callbacks\":[\"function () {\\n    var handler = (function (ko, koPunches) {\\n    ko.punches.enableAll();\\n    ko.bindingHandlers.numericValue = {\\n        init: function(element, valueAccessor, allBindings, data, context) {\\n            var stringified = ko.observable(ko.unwrap(valueAccessor()));\\n            stringified.subscribe(function(value) {\\n                var val = parseFloat(value);\\n                if (!isNaN(val)) {\\n                    valueAccessor()(val);\\n                }\\n            });\\n            valueAccessor().subscribe(function(value) {\\n                var str = JSON.stringify(value);\\n                if ((str == \\\"0\\\") && ([\\\"-0\\\", \\\"-0.\\\"].indexOf(stringified()) >= 0))\\n                     return;\\n                 if ([\\\"null\\\", \\\"\\\"].indexOf(str) >= 0)\\n                     return;\\n                stringified(str);\\n            });\\n            ko.applyBindingsToNode(\\n                element,\\n                {\\n                    value: stringified,\\n                    valueUpdate: allBindings.get('valueUpdate'),\\n                },\\n                context,\\n            );\\n        }\\n    };\\n    var json_data = {\\\"formatted_vals\\\":[\\\"0.1\\\",\\\"0.11\\\",\\\"0.12\\\",\\\"0.13\\\",\\\"0.14\\\",\\\"0.15\\\",\\\"0.16\\\",\\\"0.17\\\",\\\"0.18\\\",\\\"0.19\\\",\\\"0.2\\\",\\\"0.21\\\",\\\"0.22\\\",\\\"0.23\\\",\\\"0.24\\\",\\\"0.25\\\",\\\"0.26\\\",\\\"0.27\\\",\\\"0.28\\\",\\\"0.29\\\",\\\"0.3\\\",\\\"0.31\\\",\\\"0.32\\\",\\\"0.33\\\",\\\"0.34\\\",\\\"0.35\\\",\\\"0.36\\\",\\\"0.37\\\",\\\"0.38\\\",\\\"0.39\\\",\\\"0.4\\\",\\\"0.41\\\",\\\"0.42\\\",\\\"0.43\\\",\\\"0.44\\\",\\\"0.45\\\",\\\"0.46\\\",\\\"0.47\\\",\\\"0.48\\\",\\\"0.49\\\",\\\"0.5\\\",\\\"0.51\\\",\\\"0.52\\\",\\\"0.53\\\",\\\"0.54\\\",\\\"0.55\\\",\\\"0.56\\\",\\\"0.57\\\",\\\"0.58\\\",\\\"0.59\\\",\\\"0.6\\\",\\\"0.61\\\",\\\"0.62\\\",\\\"0.63\\\",\\\"0.64\\\",\\\"0.65\\\",\\\"0.66\\\",\\\"0.67\\\",\\\"0.68\\\",\\\"0.69\\\",\\\"0.7\\\",\\\"0.71\\\",\\\"0.72\\\",\\\"0.73\\\",\\\"0.74\\\",\\\"0.75\\\",\\\"0.76\\\",\\\"0.77\\\",\\\"0.78\\\",\\\"0.79\\\",\\\"0.8\\\",\\\"0.81\\\",\\\"0.82\\\",\\\"0.83\\\",\\\"0.84\\\",\\\"0.85\\\",\\\"0.86\\\",\\\"0.87\\\",\\\"0.88\\\",\\\"0.89\\\",\\\"0.9\\\",\\\"0.91\\\",\\\"0.92\\\",\\\"0.93\\\",\\\"0.94\\\",\\\"0.95\\\",\\\"0.96\\\",\\\"0.97\\\",\\\"0.98\\\",\\\"0.99\\\",\\\"1.0\\\",\\\"1.01\\\",\\\"1.02\\\",\\\"1.03\\\",\\\"1.04\\\",\\\"1.05\\\",\\\"1.06\\\",\\\"1.07\\\",\\\"1.08\\\",\\\"1.09\\\",\\\"1.1\\\",\\\"1.11\\\",\\\"1.12\\\",\\\"1.13\\\",\\\"1.14\\\",\\\"1.15\\\",\\\"1.16\\\",\\\"1.17\\\",\\\"1.18\\\",\\\"1.19\\\",\\\"1.2\\\",\\\"1.21\\\",\\\"1.22\\\",\\\"1.23\\\",\\\"1.24\\\",\\\"1.25\\\",\\\"1.26\\\",\\\"1.27\\\",\\\"1.28\\\",\\\"1.29\\\",\\\"1.3\\\",\\\"1.31\\\",\\\"1.32\\\",\\\"1.33\\\",\\\"1.34\\\",\\\"1.35\\\",\\\"1.36\\\",\\\"1.37\\\",\\\"1.38\\\",\\\"1.39\\\",\\\"1.4\\\",\\\"1.41\\\",\\\"1.42\\\",\\\"1.43\\\",\\\"1.44\\\",\\\"1.45\\\",\\\"1.46\\\",\\\"1.47\\\",\\\"1.48\\\",\\\"1.49\\\",\\\"1.5\\\",\\\"1.51\\\",\\\"1.52\\\",\\\"1.53\\\",\\\"1.54\\\",\\\"1.55\\\",\\\"1.56\\\",\\\"1.57\\\",\\\"1.58\\\",\\\"1.59\\\",\\\"1.6\\\",\\\"1.61\\\",\\\"1.62\\\",\\\"1.63\\\",\\\"1.64\\\",\\\"1.65\\\",\\\"1.66\\\",\\\"1.67\\\",\\\"1.68\\\",\\\"1.69\\\",\\\"1.7\\\",\\\"1.71\\\",\\\"1.72\\\",\\\"1.73\\\",\\\"1.74\\\",\\\"1.75\\\",\\\"1.76\\\",\\\"1.77\\\",\\\"1.78\\\",\\\"1.79\\\",\\\"1.8\\\",\\\"1.81\\\",\\\"1.82\\\",\\\"1.83\\\",\\\"1.84\\\",\\\"1.85\\\",\\\"1.86\\\",\\\"1.87\\\",\\\"1.88\\\",\\\"1.89\\\",\\\"1.9\\\",\\\"1.91\\\",\\\"1.92\\\",\\\"1.93\\\",\\\"1.94\\\",\\\"1.95\\\",\\\"1.96\\\",\\\"1.97\\\",\\\"1.98\\\",\\\"1.99\\\",\\\"2.0\\\"],\\\"changes\\\":WebIO.getval({\\\"name\\\":\\\"changes\\\",\\\"scope\\\":\\\"8147604509531143161\\\",\\\"id\\\":\\\"ob_75\\\",\\\"type\\\":\\\"observable\\\"}),\\\"index\\\":WebIO.getval({\\\"name\\\":\\\"index\\\",\\\"scope\\\":\\\"8147604509531143161\\\",\\\"id\\\":\\\"ob_74\\\",\\\"type\\\":\\\"observable\\\"})};\\n    var self = this;\\n    function AppViewModel() {\\n        for (var key in json_data) {\\n            var el = json_data[key];\\n            this[key] = Array.isArray(el) ? ko.observableArray(el) : ko.observable(el);\\n        }\\n        \\n        [this[\\\"formatted_val\\\"]=ko.computed(    function(){\\n        return this.formatted_vals()[parseInt(this.index())-(1)];\\n    }\\n,this)]\\n        [this[\\\"changes\\\"].subscribe((function (val){!(this.valueFromJulia[\\\"changes\\\"]) ? (WebIO.setval({\\\"name\\\":\\\"changes\\\",\\\"scope\\\":\\\"8147604509531143161\\\",\\\"id\\\":\\\"ob_75\\\",\\\"type\\\":\\\"observable\\\"},val)) : undefined; return this.valueFromJulia[\\\"changes\\\"]=false}),self),this[\\\"index\\\"].subscribe((function (val){!(this.valueFromJulia[\\\"index\\\"]) ? (WebIO.setval({\\\"name\\\":\\\"index\\\",\\\"scope\\\":\\\"8147604509531143161\\\",\\\"id\\\":\\\"ob_74\\\",\\\"type\\\":\\\"observable\\\"},val)) : undefined; return this.valueFromJulia[\\\"index\\\"]=false}),self)]\\n        \\n    }\\n    self.model = new AppViewModel();\\n    self.valueFromJulia = {};\\n    for (var key in json_data) {\\n        self.valueFromJulia[key] = false;\\n    }\\n    ko.applyBindings(self.model, self.dom);\\n}\\n);\\n    (WebIO.importBlock({\\\"data\\\":[{\\\"name\\\":\\\"knockout\\\",\\\"type\\\":\\\"js\\\",\\\"url\\\":\\\"\\/assetserver\\/bd369c9f3f65592d9de5e32611a3bd7919ce27e4-knockout.js\\\"},{\\\"name\\\":\\\"knockout_punches\\\",\\\"type\\\":\\\"js\\\",\\\"url\\\":\\\"\\/assetserver\\/3b50d12153ead1bb599ff862de1cdc44df7d6b87-knockout_punches.js\\\"}],\\\"type\\\":\\\"async_block\\\"})).then((imports) => handler.apply(this, imports));\\n}\\n\"],\"observables\":{\"changes\":{\"sync\":false,\"id\":\"ob_75\",\"value\":0},\"index\":{\"sync\":true,\"id\":\"ob_74\",\"value\":141}}},\"children\":[{\"props\":{\"className\":\"interact-flex-row interact-widget\"},\"nodeType\":\"DOM\",\"type\":\"node\",\"instanceArgs\":{\"namespace\":\"html\",\"tag\":\"div\"},\"children\":[{\"props\":{\"className\":\"interact-flex-row-left\"},\"nodeType\":\"DOM\",\"type\":\"node\",\"instanceArgs\":{\"namespace\":\"html\",\"tag\":\"div\"},\"children\":[{\"props\":{\"className\":\"interact \",\"style\":{\"padding\":\"5px 10px 0px 10px\"}},\"nodeType\":\"DOM\",\"type\":\"node\",\"instanceArgs\":{\"namespace\":\"html\",\"tag\":\"label\"},\"children\":[\"K1\"]}]},{\"props\":{\"className\":\"interact-flex-row-center\"},\"nodeType\":\"DOM\",\"type\":\"node\",\"instanceArgs\":{\"namespace\":\"html\",\"tag\":\"div\"},\"children\":[{\"props\":{\"max\":191,\"min\":1,\"attributes\":{\"type\":\"range\",\"data-bind\":\"numericValue: index, valueUpdate: 'input', event: {change: function (){this.changes(this.changes()+1)}}\",\"orient\":\"horizontal\"},\"step\":1,\"className\":\"slider slider is-fullwidth\",\"style\":{}},\"nodeType\":\"DOM\",\"type\":\"node\",\"instanceArgs\":{\"namespace\":\"html\",\"tag\":\"input\"},\"children\":[]}]},{\"props\":{\"className\":\"interact-flex-row-right\"},\"nodeType\":\"DOM\",\"type\":\"node\",\"instanceArgs\":{\"namespace\":\"html\",\"tag\":\"div\"},\"children\":[{\"props\":{\"attributes\":{\"data-bind\":\"text: formatted_val\"}},\"nodeType\":\"DOM\",\"type\":\"node\",\"instanceArgs\":{\"namespace\":\"html\",\"tag\":\"p\"},\"children\":[]}]}]}]}]},{\"props\":{\"className\":\"field interact-widget\"},\"nodeType\":\"DOM\",\"type\":\"node\",\"instanceArgs\":{\"namespace\":\"html\",\"tag\":\"div\"},\"children\":[{\"props\":{},\"nodeType\":\"Scope\",\"type\":\"node\",\"instanceArgs\":{\"imports\":{\"data\":[{\"name\":\"knockout\",\"type\":\"js\",\"url\":\"\\/assetserver\\/bd369c9f3f65592d9de5e32611a3bd7919ce27e4-knockout.js\"},{\"name\":\"knockout_punches\",\"type\":\"js\",\"url\":\"\\/assetserver\\/3b50d12153ead1bb599ff862de1cdc44df7d6b87-knockout_punches.js\"},{\"name\":null,\"type\":\"js\",\"url\":\"\\/assetserver\\/aa3951d9fb8679dff984ddfbf8b5e84bb80c8a32-all.js\"},{\"name\":null,\"type\":\"css\",\"url\":\"\\/assetserver\\/4d4e4f0d7e5786bcd65343de06f7537c7cc0439b-style.css\"},{\"name\":null,\"type\":\"css\",\"url\":\"\\/assetserver\\/29cbe869a436f8975bf1b635e657ff2c60889af7-bulma_confined.min.css\"}],\"type\":\"async_block\"},\"id\":\"11504457538403858619\",\"handlers\":{\"changes\":[\"(function (val){return (val!=this.model[\\\"changes\\\"]()) ? (this.valueFromJulia[\\\"changes\\\"]=true, this.model[\\\"changes\\\"](val)) : undefined})\"],\"index\":[\"(function (val){return (val!=this.model[\\\"index\\\"]()) ? (this.valueFromJulia[\\\"index\\\"]=true, this.model[\\\"index\\\"](val)) : undefined})\"]},\"systemjs_options\":null,\"mount_callbacks\":[\"function () {\\n    var handler = (function (ko, koPunches) {\\n    ko.punches.enableAll();\\n    ko.bindingHandlers.numericValue = {\\n        init: function(element, valueAccessor, allBindings, data, context) {\\n            var stringified = ko.observable(ko.unwrap(valueAccessor()));\\n            stringified.subscribe(function(value) {\\n                var val = parseFloat(value);\\n                if (!isNaN(val)) {\\n                    valueAccessor()(val);\\n                }\\n            });\\n            valueAccessor().subscribe(function(value) {\\n                var str = JSON.stringify(value);\\n                if ((str == \\\"0\\\") && ([\\\"-0\\\", \\\"-0.\\\"].indexOf(stringified()) >= 0))\\n                     return;\\n                 if ([\\\"null\\\", \\\"\\\"].indexOf(str) >= 0)\\n                     return;\\n                stringified(str);\\n            });\\n            ko.applyBindingsToNode(\\n                element,\\n                {\\n                    value: stringified,\\n                    valueUpdate: allBindings.get('valueUpdate'),\\n                },\\n                context,\\n            );\\n        }\\n    };\\n    var json_data = {\\\"formatted_vals\\\":[\\\"0.1\\\",\\\"0.11\\\",\\\"0.12\\\",\\\"0.13\\\",\\\"0.14\\\",\\\"0.15\\\",\\\"0.16\\\",\\\"0.17\\\",\\\"0.18\\\",\\\"0.19\\\",\\\"0.2\\\",\\\"0.21\\\",\\\"0.22\\\",\\\"0.23\\\",\\\"0.24\\\",\\\"0.25\\\",\\\"0.26\\\",\\\"0.27\\\",\\\"0.28\\\",\\\"0.29\\\",\\\"0.3\\\",\\\"0.31\\\",\\\"0.32\\\",\\\"0.33\\\",\\\"0.34\\\",\\\"0.35\\\",\\\"0.36\\\",\\\"0.37\\\",\\\"0.38\\\",\\\"0.39\\\",\\\"0.4\\\",\\\"0.41\\\",\\\"0.42\\\",\\\"0.43\\\",\\\"0.44\\\",\\\"0.45\\\",\\\"0.46\\\",\\\"0.47\\\",\\\"0.48\\\",\\\"0.49\\\",\\\"0.5\\\",\\\"0.51\\\",\\\"0.52\\\",\\\"0.53\\\",\\\"0.54\\\",\\\"0.55\\\",\\\"0.56\\\",\\\"0.57\\\",\\\"0.58\\\",\\\"0.59\\\",\\\"0.6\\\",\\\"0.61\\\",\\\"0.62\\\",\\\"0.63\\\",\\\"0.64\\\",\\\"0.65\\\",\\\"0.66\\\",\\\"0.67\\\",\\\"0.68\\\",\\\"0.69\\\",\\\"0.7\\\",\\\"0.71\\\",\\\"0.72\\\",\\\"0.73\\\",\\\"0.74\\\",\\\"0.75\\\",\\\"0.76\\\",\\\"0.77\\\",\\\"0.78\\\",\\\"0.79\\\",\\\"0.8\\\",\\\"0.81\\\",\\\"0.82\\\",\\\"0.83\\\",\\\"0.84\\\",\\\"0.85\\\",\\\"0.86\\\",\\\"0.87\\\",\\\"0.88\\\",\\\"0.89\\\",\\\"0.9\\\",\\\"0.91\\\",\\\"0.92\\\",\\\"0.93\\\",\\\"0.94\\\",\\\"0.95\\\",\\\"0.96\\\",\\\"0.97\\\",\\\"0.98\\\",\\\"0.99\\\",\\\"1.0\\\",\\\"1.01\\\",\\\"1.02\\\",\\\"1.03\\\",\\\"1.04\\\",\\\"1.05\\\",\\\"1.06\\\",\\\"1.07\\\",\\\"1.08\\\",\\\"1.09\\\",\\\"1.1\\\",\\\"1.11\\\",\\\"1.12\\\",\\\"1.13\\\",\\\"1.14\\\",\\\"1.15\\\",\\\"1.16\\\",\\\"1.17\\\",\\\"1.18\\\",\\\"1.19\\\",\\\"1.2\\\",\\\"1.21\\\",\\\"1.22\\\",\\\"1.23\\\",\\\"1.24\\\",\\\"1.25\\\",\\\"1.26\\\",\\\"1.27\\\",\\\"1.28\\\",\\\"1.29\\\",\\\"1.3\\\",\\\"1.31\\\",\\\"1.32\\\",\\\"1.33\\\",\\\"1.34\\\",\\\"1.35\\\",\\\"1.36\\\",\\\"1.37\\\",\\\"1.38\\\",\\\"1.39\\\",\\\"1.4\\\",\\\"1.41\\\",\\\"1.42\\\",\\\"1.43\\\",\\\"1.44\\\",\\\"1.45\\\",\\\"1.46\\\",\\\"1.47\\\",\\\"1.48\\\",\\\"1.49\\\",\\\"1.5\\\",\\\"1.51\\\",\\\"1.52\\\",\\\"1.53\\\",\\\"1.54\\\",\\\"1.55\\\",\\\"1.56\\\",\\\"1.57\\\",\\\"1.58\\\",\\\"1.59\\\",\\\"1.6\\\",\\\"1.61\\\",\\\"1.62\\\",\\\"1.63\\\",\\\"1.64\\\",\\\"1.65\\\",\\\"1.66\\\",\\\"1.67\\\",\\\"1.68\\\",\\\"1.69\\\",\\\"1.7\\\",\\\"1.71\\\",\\\"1.72\\\",\\\"1.73\\\",\\\"1.74\\\",\\\"1.75\\\",\\\"1.76\\\",\\\"1.77\\\",\\\"1.78\\\",\\\"1.79\\\",\\\"1.8\\\",\\\"1.81\\\",\\\"1.82\\\",\\\"1.83\\\",\\\"1.84\\\",\\\"1.85\\\",\\\"1.86\\\",\\\"1.87\\\",\\\"1.88\\\",\\\"1.89\\\",\\\"1.9\\\",\\\"1.91\\\",\\\"1.92\\\",\\\"1.93\\\",\\\"1.94\\\",\\\"1.95\\\",\\\"1.96\\\",\\\"1.97\\\",\\\"1.98\\\",\\\"1.99\\\",\\\"2.0\\\"],\\\"changes\\\":WebIO.getval({\\\"name\\\":\\\"changes\\\",\\\"scope\\\":\\\"11504457538403858619\\\",\\\"id\\\":\\\"ob_78\\\",\\\"type\\\":\\\"observable\\\"}),\\\"index\\\":WebIO.getval({\\\"name\\\":\\\"index\\\",\\\"scope\\\":\\\"11504457538403858619\\\",\\\"id\\\":\\\"ob_77\\\",\\\"type\\\":\\\"observable\\\"})};\\n    var self = this;\\n    function AppViewModel() {\\n        for (var key in json_data) {\\n            var el = json_data[key];\\n            this[key] = Array.isArray(el) ? ko.observableArray(el) : ko.observable(el);\\n        }\\n        \\n        [this[\\\"formatted_val\\\"]=ko.computed(    function(){\\n        return this.formatted_vals()[parseInt(this.index())-(1)];\\n    }\\n,this)]\\n        [this[\\\"changes\\\"].subscribe((function (val){!(this.valueFromJulia[\\\"changes\\\"]) ? (WebIO.setval({\\\"name\\\":\\\"changes\\\",\\\"scope\\\":\\\"11504457538403858619\\\",\\\"id\\\":\\\"ob_78\\\",\\\"type\\\":\\\"observable\\\"},val)) : undefined; return this.valueFromJulia[\\\"changes\\\"]=false}),self),this[\\\"index\\\"].subscribe((function (val){!(this.valueFromJulia[\\\"index\\\"]) ? (WebIO.setval({\\\"name\\\":\\\"index\\\",\\\"scope\\\":\\\"11504457538403858619\\\",\\\"id\\\":\\\"ob_77\\\",\\\"type\\\":\\\"observable\\\"},val)) : undefined; return this.valueFromJulia[\\\"index\\\"]=false}),self)]\\n        \\n    }\\n    self.model = new AppViewModel();\\n    self.valueFromJulia = {};\\n    for (var key in json_data) {\\n        self.valueFromJulia[key] = false;\\n    }\\n    ko.applyBindings(self.model, self.dom);\\n}\\n);\\n    (WebIO.importBlock({\\\"data\\\":[{\\\"name\\\":\\\"knockout\\\",\\\"type\\\":\\\"js\\\",\\\"url\\\":\\\"\\/assetserver\\/bd369c9f3f65592d9de5e32611a3bd7919ce27e4-knockout.js\\\"},{\\\"name\\\":\\\"knockout_punches\\\",\\\"type\\\":\\\"js\\\",\\\"url\\\":\\\"\\/assetserver\\/3b50d12153ead1bb599ff862de1cdc44df7d6b87-knockout_punches.js\\\"}],\\\"type\\\":\\\"async_block\\\"})).then((imports) => handler.apply(this, imports));\\n}\\n\"],\"observables\":{\"changes\":{\"sync\":false,\"id\":\"ob_78\",\"value\":0},\"index\":{\"sync\":true,\"id\":\"ob_77\",\"value\":91}}},\"children\":[{\"props\":{\"className\":\"interact-flex-row interact-widget\"},\"nodeType\":\"DOM\",\"type\":\"node\",\"instanceArgs\":{\"namespace\":\"html\",\"tag\":\"div\"},\"children\":[{\"props\":{\"className\":\"interact-flex-row-left\"},\"nodeType\":\"DOM\",\"type\":\"node\",\"instanceArgs\":{\"namespace\":\"html\",\"tag\":\"div\"},\"children\":[{\"props\":{\"className\":\"interact \",\"style\":{\"padding\":\"5px 10px 0px 10px\"}},\"nodeType\":\"DOM\",\"type\":\"node\",\"instanceArgs\":{\"namespace\":\"html\",\"tag\":\"label\"},\"children\":[\"K2\"]}]},{\"props\":{\"className\":\"interact-flex-row-center\"},\"nodeType\":\"DOM\",\"type\":\"node\",\"instanceArgs\":{\"namespace\":\"html\",\"tag\":\"div\"},\"children\":[{\"props\":{\"max\":191,\"min\":1,\"attributes\":{\"type\":\"range\",\"data-bind\":\"numericValue: index, valueUpdate: 'input', event: {change: function (){this.changes(this.changes()+1)}}\",\"orient\":\"horizontal\"},\"step\":1,\"className\":\"slider slider is-fullwidth\",\"style\":{}},\"nodeType\":\"DOM\",\"type\":\"node\",\"instanceArgs\":{\"namespace\":\"html\",\"tag\":\"input\"},\"children\":[]}]},{\"props\":{\"className\":\"interact-flex-row-right\"},\"nodeType\":\"DOM\",\"type\":\"node\",\"instanceArgs\":{\"namespace\":\"html\",\"tag\":\"div\"},\"children\":[{\"props\":{\"attributes\":{\"data-bind\":\"text: formatted_val\"}},\"nodeType\":\"DOM\",\"type\":\"node\",\"instanceArgs\":{\"namespace\":\"html\",\"tag\":\"p\"},\"children\":[]}]}]}]}]},{\"props\":{},\"nodeType\":\"Scope\",\"type\":\"node\",\"instanceArgs\":{\"imports\":{\"data\":[],\"type\":\"async_block\"},\"id\":\"5178612146731613900\",\"handlers\":{},\"systemjs_options\":null,\"mount_callbacks\":[],\"observables\":{\"obs-node\":{\"sync\":false,\"id\":\"ob_82\",\"value\":{\"props\":{\"className\":\"interact-flex-row interact-widget\"},\"nodeType\":\"DOM\",\"type\":\"node\",\"instanceArgs\":{\"namespace\":\"html\",\"tag\":\"div\"},\"children\":[{\"props\":{\"setInnerHtml\":\"<img src='data:image\\/png;base64,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'><\\/img>\"},\"nodeType\":\"DOM\",\"type\":\"node\",\"instanceArgs\":{\"namespace\":\"html\",\"tag\":\"div\"},\"children\":[]}]}}}},\"children\":[{\"props\":{},\"nodeType\":\"ObservableNode\",\"type\":\"node\",\"instanceArgs\":{\"id\":\"ob_82\",\"name\":\"obs-node\"},\"children\":[]}]}]},\n",
       "            window,\n",
       "        );\n",
       "    } else {\n",
       "        document\n",
       "            .querySelector('[data-webio-mountpoint=\"6596046957014115184\"]')\n",
       "            .innerHTML = (\n",
       "                '<strong>WebIO not detected. Please read ' +\n",
       "                '<a href=\"https://juliagizmos.github.io/WebIO.jl/latest/troubleshooting/not-detected/\">the troubleshooting guide</a> ' +\n",
       "                'for more information on how to resolve this issue.' +\n",
       "                '</strong>'\n",
       "            );\n",
       "    }\n",
       "    </script>\n",
       "</div>\n"
      ],
      "text/plain": [
       "Node{WebIO.DOM}(WebIO.DOM(:html, :div), Any[Node{DOM}(DOM(:html, :div), Any[Scope(Node{DOM}(DOM(:html, :div), Any[Node{DOM}(DOM(:html, :div), Any[Node{DOM}(DOM(:html, :label), Any[\"α12\"], Dict{Symbol,Any}(:className=>\"interact \",:style=>Dict{Any,Any}(:padding=>\"5px 10px 0px 10px\")))], Dict{Symbol,Any}(:className=>\"interact-flex-row-left\")), Node{DOM}(DOM(:html, :div), Any[Node{DOM}(DOM(:html, :input), Any[], Dict{Symbol,Any}(:max=>91,:min=>1,:attributes=>Dict{Any,Any}(:type=>\"range\",Symbol(\"data-bind\")=>\"numericValue: index, valueUpdate: 'input', event: {change: function (){this.changes(this.changes()+1)}}\",\"orient\"=>\"horizontal\"),:step=>1,:className=>\"slider slider is-fullwidth\",:style=>Dict{Any,Any}()))], Dict{Symbol,Any}(:className=>\"interact-flex-row-center\")), Node{DOM}(DOM(:html, :div), Any[Node{DOM}(DOM(:html, :p), Any[], Dict{Symbol,Any}(:attributes=>Dict(\"data-bind\"=>\"text: formatted_val\")))], Dict{Symbol,Any}(:className=>\"interact-flex-row-right\"))], Dict{Symbol,Any}(:className=>\"interact-flex-row interact-widget\")), Dict{String,Tuple{Observables.AbstractObservable,Union{Nothing, Bool}}}(\"changes\"=>(Observable{Int64} with 1 listeners. Value:\n",
       "0, nothing),\"index\"=>(Observable{Any} with 2 listeners. Value:\n",
       "71, nothing)), Set(String[]), nothing, Asset[Asset(\"js\", \"knockout\", \"C:\\\\Users\\\\gabrielgellner\\\\.julia\\\\packages\\\\Knockout\\\\1sDlc\\\\src\\\\..\\\\assets\\\\knockout.js\"), Asset(\"js\", \"knockout_punches\", \"C:\\\\Users\\\\gabrielgellner\\\\.julia\\\\packages\\\\Knockout\\\\1sDlc\\\\src\\\\..\\\\assets\\\\knockout_punches.js\"), Asset(\"js\", nothing, \"C:\\\\Users\\\\gabrielgellner\\\\.julia\\\\packages\\\\InteractBase\\\\9mFwe\\\\src\\\\..\\\\assets\\\\all.js\"), Asset(\"css\", nothing, \"C:\\\\Users\\\\gabrielgellner\\\\.julia\\\\packages\\\\InteractBase\\\\9mFwe\\\\src\\\\..\\\\assets\\\\style.css\"), Asset(\"css\", nothing, \"C:\\\\Users\\\\gabrielgellner\\\\.julia\\\\packages\\\\Interact\\\\SbgIk\\\\src\\\\..\\\\assets\\\\bulma_confined.min.css\")], Dict{Any,Any}(\"changes\"=>Any[JSString(\"(function (val){return (val!=this.model[\\\"changes\\\"]()) ? (this.valueFromJulia[\\\"changes\\\"]=true, this.model[\\\"changes\\\"](val)) : undefined})\")],\"index\"=>Any[JSString(\"(function (val){return (val!=this.model[\\\"index\\\"]()) ? (this.valueFromJulia[\\\"index\\\"]=true, this.model[\\\"index\\\"](val)) : undefined})\")]), ConnectionPool(Channel{Any}(sz_max:32,sz_curr:0), Set(AbstractConnection[]), Condition(Any[Task (runnable) @0x0000000037dbf0f0])), WebIO.JSString[JSString(\"function () {\\n    var handler = (function (ko, koPunches) {\\n    ko.punches.enableAll();\\n    ko.bindingHandlers.numericValue = {\\n        init: function(element, valueAccessor, allBindings, data, context) {\\n            var stringified = ko.observable(ko.unwrap(valueAccessor()));\\n            stringified.subscribe(function(value) {\\n                var val = parseFloat(value);\\n                if (!isNaN(val)) {\\n                    valueAccessor()(val);\\n                }\\n            });\\n            valueAccessor().subscribe(function(value) {\\n                var str = JSON.stringify(value);\\n                if ((str == \\\"0\\\") && ([\\\"-0\\\", \\\"-0.\\\"].indexOf(stringified()) >= 0))\\n                     return;\\n                 if ([\\\"null\\\", \\\"\\\"].indexOf(str) >= 0)\\n                     return;\\n                stringified(str);\\n            });\\n            ko.applyBindingsToNode(\\n                element,\\n                {\\n                    value: stringified,\\n                    valueUpdate: allBindings.get('valueUpdate'),\\n                },\\n                context,\\n            );\\n        }\\n    };\\n    var json_data = {\\\"formatted_vals\\\":[\\\"0.1\\\",\\\"0.11\\\",\\\"0.12\\\",\\\"0.13\\\",\\\"0.14\\\",\\\"0.15\\\",\\\"0.16\\\",\\\"0.17\\\",\\\"0.18\\\",\\\"0.19\\\",\\\"0.2\\\",\\\"0.21\\\",\\\"0.22\\\",\\\"0.23\\\",\\\"0.24\\\",\\\"0.25\\\",\\\"0.26\\\",\\\"0.27\\\",\\\"0.28\\\",\\\"0.29\\\",\\\"0.3\\\",\\\"0.31\\\",\\\"0.32\\\",\\\"0.33\\\",\\\"0.34\\\",\\\"0.35\\\",\\\"0.36\\\",\\\"0.37\\\",\\\"0.38\\\",\\\"0.39\\\",\\\"0.4\\\",\\\"0.41\\\",\\\"0.42\\\",\\\"0.43\\\",\\\"0.44\\\",\\\"0.45\\\",\\\"0.46\\\",\\\"0.47\\\",\\\"0.48\\\",\\\"0.49\\\",\\\"0.5\\\",\\\"0.51\\\",\\\"0.52\\\",\\\"0.53\\\",\\\"0.54\\\",\\\"0.55\\\",\\\"0.56\\\",\\\"0.57\\\",\\\"0.58\\\",\\\"0.59\\\",\\\"0.6\\\",\\\"0.61\\\",\\\"0.62\\\",\\\"0.63\\\",\\\"0.64\\\",\\\"0.65\\\",\\\"0.66\\\",\\\"0.67\\\",\\\"0.68\\\",\\\"0.69\\\",\\\"0.7\\\",\\\"0.71\\\",\\\"0.72\\\",\\\"0.73\\\",\\\"0.74\\\",\\\"0.75\\\",\\\"0.76\\\",\\\"0.77\\\",\\\"0.78\\\",\\\"0.79\\\",\\\"0.8\\\",\\\"0.81\\\",\\\"0.82\\\",\\\"0.83\\\",\\\"0.84\\\",\\\"0.85\\\",\\\"0.86\\\",\\\"0.87\\\",\\\"0.88\\\",\\\"0.89\\\",\\\"0.9\\\",\\\"0.91\\\",\\\"0.92\\\",\\\"0.93\\\",\\\"0.94\\\",\\\"0.95\\\",\\\"0.96\\\",\\\"0.97\\\",\\\"0.98\\\",\\\"0.99\\\",\\\"1.0\\\"],\\\"changes\\\":WebIO.getval({\\\"name\\\":\\\"changes\\\",\\\"scope\\\":\\\"5823615678787335423\\\",\\\"id\\\":\\\"ob_69\\\",\\\"type\\\":\\\"observable\\\"}),\\\"index\\\":WebIO.getval({\\\"name\\\":\\\"index\\\",\\\"scope\\\":\\\"5823615678787335423\\\",\\\"id\\\":\\\"ob_68\\\",\\\"type\\\":\\\"observable\\\"})};\\n    var self = this;\\n    function AppViewModel() {\\n        for (var key in json_data) {\\n            var el = json_data[key];\\n            this[key] = Array.isArray(el) ? ko.observableArray(el) : ko.observable(el);\\n        }\\n        \\n        [this[\\\"formatted_val\\\"]=ko.computed(    function(){\\n        return this.formatted_vals()[parseInt(this.index())-(1)];\\n    }\\n,this)]\\n        [this[\\\"changes\\\"].subscribe((function (val){!(this.valueFromJulia[\\\"changes\\\"]) ? (WebIO.setval({\\\"name\\\":\\\"changes\\\",\\\"scope\\\":\\\"5823615678787335423\\\",\\\"id\\\":\\\"ob_69\\\",\\\"type\\\":\\\"observable\\\"},val)) : undefined; return this.valueFromJulia[\\\"changes\\\"]=false}),self),this[\\\"index\\\"].subscribe((function (val){!(this.valueFromJulia[\\\"index\\\"]) ? (WebIO.setval({\\\"name\\\":\\\"index\\\",\\\"scope\\\":\\\"5823615678787335423\\\",\\\"id\\\":\\\"ob_68\\\",\\\"type\\\":\\\"observable\\\"},val)) : undefined; return this.valueFromJulia[\\\"index\\\"]=false}),self)]\\n        \\n    }\\n    self.model = new AppViewModel();\\n    self.valueFromJulia = {};\\n    for (var key in json_data) {\\n        self.valueFromJulia[key] = false;\\n    }\\n    ko.applyBindings(self.model, self.dom);\\n}\\n);\\n    (WebIO.importBlock({\\\"data\\\":[{\\\"name\\\":\\\"knockout\\\",\\\"type\\\":\\\"js\\\",\\\"url\\\":\\\"/assetserver/bd369c9f3f65592d9de5e32611a3bd7919ce27e4-knockout.js\\\"},{\\\"name\\\":\\\"knockout_punches\\\",\\\"type\\\":\\\"js\\\",\\\"url\\\":\\\"/assetserver/3b50d12153ead1bb599ff862de1cdc44df7d6b87-knockout_punches.js\\\"}],\\\"type\\\":\\\"async_block\\\"})).then((imports) => handler.apply(this, imports));\\n}\\n\")])], Dict{Symbol,Any}(:className=>\"field interact-widget\")), Node{DOM}(DOM(:html, :div), Any[Scope(Node{DOM}(DOM(:html, :div), Any[Node{DOM}(DOM(:html, :div), Any[Node{DOM}(DOM(:html, :label), Any[\"α21\"], Dict{Symbol,Any}(:className=>\"interact \",:style=>Dict{Any,Any}(:padding=>\"5px 10px 0px 10px\")))], Dict{Symbol,Any}(:className=>\"interact-flex-row-left\")), Node{DOM}(DOM(:html, :div), Any[Node{DOM}(DOM(:html, :input), Any[], Dict{Symbol,Any}(:max=>91,:min=>1,:attributes=>Dict{Any,Any}(:type=>\"range\",Symbol(\"data-bind\")=>\"numericValue: index, valueUpdate: 'input', event: {change: function (){this.changes(this.changes()+1)}}\",\"orient\"=>\"horizontal\"),:step=>1,:className=>\"slider slider is-fullwidth\",:style=>Dict{Any,Any}()))], Dict{Symbol,Any}(:className=>\"interact-flex-row-center\")), Node{DOM}(DOM(:html, :div), Any[Node{DOM}(DOM(:html, :p), Any[], Dict{Symbol,Any}(:attributes=>Dict(\"data-bind\"=>\"text: formatted_val\")))], Dict{Symbol,Any}(:className=>\"interact-flex-row-right\"))], Dict{Symbol,Any}(:className=>\"interact-flex-row interact-widget\")), Dict{String,Tuple{Observables.AbstractObservable,Union{Nothing, Bool}}}(\"changes\"=>(Observable{Int64} with 1 listeners. Value:\n",
       "0, nothing),\"index\"=>(Observable{Any} with 2 listeners. Value:\n",
       "21, nothing)), Set(String[]), nothing, Asset[Asset(\"js\", \"knockout\", \"C:\\\\Users\\\\gabrielgellner\\\\.julia\\\\packages\\\\Knockout\\\\1sDlc\\\\src\\\\..\\\\assets\\\\knockout.js\"), Asset(\"js\", \"knockout_punches\", \"C:\\\\Users\\\\gabrielgellner\\\\.julia\\\\packages\\\\Knockout\\\\1sDlc\\\\src\\\\..\\\\assets\\\\knockout_punches.js\"), Asset(\"js\", nothing, \"C:\\\\Users\\\\gabrielgellner\\\\.julia\\\\packages\\\\InteractBase\\\\9mFwe\\\\src\\\\..\\\\assets\\\\all.js\"), Asset(\"css\", nothing, \"C:\\\\Users\\\\gabrielgellner\\\\.julia\\\\packages\\\\InteractBase\\\\9mFwe\\\\src\\\\..\\\\assets\\\\style.css\"), Asset(\"css\", nothing, \"C:\\\\Users\\\\gabrielgellner\\\\.julia\\\\packages\\\\Interact\\\\SbgIk\\\\src\\\\..\\\\assets\\\\bulma_confined.min.css\")], Dict{Any,Any}(\"changes\"=>Any[JSString(\"(function (val){return (val!=this.model[\\\"changes\\\"]()) ? (this.valueFromJulia[\\\"changes\\\"]=true, this.model[\\\"changes\\\"](val)) : undefined})\")],\"index\"=>Any[JSString(\"(function (val){return (val!=this.model[\\\"index\\\"]()) ? (this.valueFromJulia[\\\"index\\\"]=true, this.model[\\\"index\\\"](val)) : undefined})\")]), ConnectionPool(Channel{Any}(sz_max:32,sz_curr:0), Set(AbstractConnection[]), Condition(Any[Task (runnable) @0x0000000012df3c70])), WebIO.JSString[JSString(\"function () {\\n    var handler = (function (ko, koPunches) {\\n    ko.punches.enableAll();\\n    ko.bindingHandlers.numericValue = {\\n        init: function(element, valueAccessor, allBindings, data, context) {\\n            var stringified = ko.observable(ko.unwrap(valueAccessor()));\\n            stringified.subscribe(function(value) {\\n                var val = parseFloat(value);\\n                if (!isNaN(val)) {\\n                    valueAccessor()(val);\\n                }\\n            });\\n            valueAccessor().subscribe(function(value) {\\n                var str = JSON.stringify(value);\\n                if ((str == \\\"0\\\") && ([\\\"-0\\\", \\\"-0.\\\"].indexOf(stringified()) >= 0))\\n                     return;\\n                 if ([\\\"null\\\", \\\"\\\"].indexOf(str) >= 0)\\n                     return;\\n                stringified(str);\\n            });\\n            ko.applyBindingsToNode(\\n                element,\\n                {\\n                    value: stringified,\\n                    valueUpdate: allBindings.get('valueUpdate'),\\n                },\\n                context,\\n            );\\n        }\\n    };\\n    var json_data = {\\\"formatted_vals\\\":[\\\"0.1\\\",\\\"0.11\\\",\\\"0.12\\\",\\\"0.13\\\",\\\"0.14\\\",\\\"0.15\\\",\\\"0.16\\\",\\\"0.17\\\",\\\"0.18\\\",\\\"0.19\\\",\\\"0.2\\\",\\\"0.21\\\",\\\"0.22\\\",\\\"0.23\\\",\\\"0.24\\\",\\\"0.25\\\",\\\"0.26\\\",\\\"0.27\\\",\\\"0.28\\\",\\\"0.29\\\",\\\"0.3\\\",\\\"0.31\\\",\\\"0.32\\\",\\\"0.33\\\",\\\"0.34\\\",\\\"0.35\\\",\\\"0.36\\\",\\\"0.37\\\",\\\"0.38\\\",\\\"0.39\\\",\\\"0.4\\\",\\\"0.41\\\",\\\"0.42\\\",\\\"0.43\\\",\\\"0.44\\\",\\\"0.45\\\",\\\"0.46\\\",\\\"0.47\\\",\\\"0.48\\\",\\\"0.49\\\",\\\"0.5\\\",\\\"0.51\\\",\\\"0.52\\\",\\\"0.53\\\",\\\"0.54\\\",\\\"0.55\\\",\\\"0.56\\\",\\\"0.57\\\",\\\"0.58\\\",\\\"0.59\\\",\\\"0.6\\\",\\\"0.61\\\",\\\"0.62\\\",\\\"0.63\\\",\\\"0.64\\\",\\\"0.65\\\",\\\"0.66\\\",\\\"0.67\\\",\\\"0.68\\\",\\\"0.69\\\",\\\"0.7\\\",\\\"0.71\\\",\\\"0.72\\\",\\\"0.73\\\",\\\"0.74\\\",\\\"0.75\\\",\\\"0.76\\\",\\\"0.77\\\",\\\"0.78\\\",\\\"0.79\\\",\\\"0.8\\\",\\\"0.81\\\",\\\"0.82\\\",\\\"0.83\\\",\\\"0.84\\\",\\\"0.85\\\",\\\"0.86\\\",\\\"0.87\\\",\\\"0.88\\\",\\\"0.89\\\",\\\"0.9\\\",\\\"0.91\\\",\\\"0.92\\\",\\\"0.93\\\",\\\"0.94\\\",\\\"0.95\\\",\\\"0.96\\\",\\\"0.97\\\",\\\"0.98\\\",\\\"0.99\\\",\\\"1.0\\\"],\\\"changes\\\":WebIO.getval({\\\"name\\\":\\\"changes\\\",\\\"scope\\\":\\\"1077752603725190799\\\",\\\"id\\\":\\\"ob_72\\\",\\\"type\\\":\\\"observable\\\"}),\\\"index\\\":WebIO.getval({\\\"name\\\":\\\"index\\\",\\\"scope\\\":\\\"1077752603725190799\\\",\\\"id\\\":\\\"ob_71\\\",\\\"type\\\":\\\"observable\\\"})};\\n    var self = this;\\n    function AppViewModel() {\\n        for (var key in json_data) {\\n            var el = json_data[key];\\n            this[key] = Array.isArray(el) ? ko.observableArray(el) : ko.observable(el);\\n        }\\n        \\n        [this[\\\"formatted_val\\\"]=ko.computed(    function(){\\n        return this.formatted_vals()[parseInt(this.index())-(1)];\\n    }\\n,this)]\\n        [this[\\\"changes\\\"].subscribe((function (val){!(this.valueFromJulia[\\\"changes\\\"]) ? (WebIO.setval({\\\"name\\\":\\\"changes\\\",\\\"scope\\\":\\\"1077752603725190799\\\",\\\"id\\\":\\\"ob_72\\\",\\\"type\\\":\\\"observable\\\"},val)) : undefined; return this.valueFromJulia[\\\"changes\\\"]=false}),self),this[\\\"index\\\"].subscribe((function (val){!(this.valueFromJulia[\\\"index\\\"]) ? (WebIO.setval({\\\"name\\\":\\\"index\\\",\\\"scope\\\":\\\"1077752603725190799\\\",\\\"id\\\":\\\"ob_71\\\",\\\"type\\\":\\\"observable\\\"},val)) : undefined; return this.valueFromJulia[\\\"index\\\"]=false}),self)]\\n        \\n    }\\n    self.model = new AppViewModel();\\n    self.valueFromJulia = {};\\n    for (var key in json_data) {\\n        self.valueFromJulia[key] = false;\\n    }\\n    ko.applyBindings(self.model, self.dom);\\n}\\n);\\n    (WebIO.importBlock({\\\"data\\\":[{\\\"name\\\":\\\"knockout\\\",\\\"type\\\":\\\"js\\\",\\\"url\\\":\\\"/assetserver/bd369c9f3f65592d9de5e32611a3bd7919ce27e4-knockout.js\\\"},{\\\"name\\\":\\\"knockout_punches\\\",\\\"type\\\":\\\"js\\\",\\\"url\\\":\\\"/assetserver/3b50d12153ead1bb599ff862de1cdc44df7d6b87-knockout_punches.js\\\"}],\\\"type\\\":\\\"async_block\\\"})).then((imports) => handler.apply(this, imports));\\n}\\n\")])], Dict{Symbol,Any}(:className=>\"field interact-widget\")), Node{DOM}(DOM(:html, :div), Any[Scope(Node{DOM}(DOM(:html, :div), Any[Node{DOM}(DOM(:html, :div), Any[Node{DOM}(DOM(:html, :label), Any[\"K1\"], Dict{Symbol,Any}(:className=>\"interact \",:style=>Dict{Any,Any}(:padding=>\"5px 10px 0px 10px\")))], Dict{Symbol,Any}(:className=>\"interact-flex-row-left\")), Node{DOM}(DOM(:html, :div), Any[Node{DOM}(DOM(:html, :input), Any[], Dict{Symbol,Any}(:max=>191,:min=>1,:attributes=>Dict{Any,Any}(:type=>\"range\",Symbol(\"data-bind\")=>\"numericValue: index, valueUpdate: 'input', event: {change: function (){this.changes(this.changes()+1)}}\",\"orient\"=>\"horizontal\"),:step=>1,:className=>\"slider slider is-fullwidth\",:style=>Dict{Any,Any}()))], Dict{Symbol,Any}(:className=>\"interact-flex-row-center\")), Node{DOM}(DOM(:html, :div), Any[Node{DOM}(DOM(:html, :p), Any[], Dict{Symbol,Any}(:attributes=>Dict(\"data-bind\"=>\"text: formatted_val\")))], Dict{Symbol,Any}(:className=>\"interact-flex-row-right\"))], Dict{Symbol,Any}(:className=>\"interact-flex-row interact-widget\")), Dict{String,Tuple{Observables.AbstractObservable,Union{Nothing, Bool}}}(\"changes\"=>(Observable{Int64} with 1 listeners. Value:\n",
       "0, nothing),\"index\"=>(Observable{Any} with 2 listeners. Value:\n",
       "141, nothing)), Set(String[]), nothing, Asset[Asset(\"js\", \"knockout\", \"C:\\\\Users\\\\gabrielgellner\\\\.julia\\\\packages\\\\Knockout\\\\1sDlc\\\\src\\\\..\\\\assets\\\\knockout.js\"), Asset(\"js\", \"knockout_punches\", \"C:\\\\Users\\\\gabrielgellner\\\\.julia\\\\packages\\\\Knockout\\\\1sDlc\\\\src\\\\..\\\\assets\\\\knockout_punches.js\"), Asset(\"js\", nothing, \"C:\\\\Users\\\\gabrielgellner\\\\.julia\\\\packages\\\\InteractBase\\\\9mFwe\\\\src\\\\..\\\\assets\\\\all.js\"), Asset(\"css\", nothing, \"C:\\\\Users\\\\gabrielgellner\\\\.julia\\\\packages\\\\InteractBase\\\\9mFwe\\\\src\\\\..\\\\assets\\\\style.css\"), Asset(\"css\", nothing, \"C:\\\\Users\\\\gabrielgellner\\\\.julia\\\\packages\\\\Interact\\\\SbgIk\\\\src\\\\..\\\\assets\\\\bulma_confined.min.css\")], Dict{Any,Any}(\"changes\"=>Any[JSString(\"(function (val){return (val!=this.model[\\\"changes\\\"]()) ? (this.valueFromJulia[\\\"changes\\\"]=true, this.model[\\\"changes\\\"](val)) : undefined})\")],\"index\"=>Any[JSString(\"(function (val){return (val!=this.model[\\\"index\\\"]()) ? (this.valueFromJulia[\\\"index\\\"]=true, this.model[\\\"index\\\"](val)) : undefined})\")]), ConnectionPool(Channel{Any}(sz_max:32,sz_curr:0), Set(AbstractConnection[]), Condition(Any[Task (runnable) @0x0000000037db85d0])), WebIO.JSString[JSString(\"function () {\\n    var handler = (function (ko, koPunches) {\\n    ko.punches.enableAll();\\n    ko.bindingHandlers.numericValue = {\\n        init: function(element, valueAccessor, allBindings, data, context) {\\n            var stringified = ko.observable(ko.unwrap(valueAccessor()));\\n            stringified.subscribe(function(value) {\\n                var val = parseFloat(value);\\n                if (!isNaN(val)) {\\n                    valueAccessor()(val);\\n                }\\n            });\\n            valueAccessor().subscribe(function(value) {\\n                var str = JSON.stringify(value);\\n                if ((str == \\\"0\\\") && ([\\\"-0\\\", \\\"-0.\\\"].indexOf(stringified()) >= 0))\\n                     return;\\n                 if ([\\\"null\\\", \\\"\\\"].indexOf(str) >= 0)\\n                     return;\\n                stringified(str);\\n            });\\n            ko.applyBindingsToNode(\\n                element,\\n                {\\n                    value: stringified,\\n                    valueUpdate: allBindings.get('valueUpdate'),\\n                },\\n                context,\\n            );\\n        }\\n    };\\n    var json_data = {\\\"formatted_vals\\\":[\\\"0.1\\\",\\\"0.11\\\",\\\"0.12\\\",\\\"0.13\\\",\\\"0.14\\\",\\\"0.15\\\",\\\"0.16\\\",\\\"0.17\\\",\\\"0.18\\\",\\\"0.19\\\",\\\"0.2\\\",\\\"0.21\\\",\\\"0.22\\\",\\\"0.23\\\",\\\"0.24\\\",\\\"0.25\\\",\\\"0.26\\\",\\\"0.27\\\",\\\"0.28\\\",\\\"0.29\\\",\\\"0.3\\\",\\\"0.31\\\",\\\"0.32\\\",\\\"0.33\\\",\\\"0.34\\\",\\\"0.35\\\",\\\"0.36\\\",\\\"0.37\\\",\\\"0.38\\\",\\\"0.39\\\",\\\"0.4\\\",\\\"0.41\\\",\\\"0.42\\\",\\\"0.43\\\",\\\"0.44\\\",\\\"0.45\\\",\\\"0.46\\\",\\\"0.47\\\",\\\"0.48\\\",\\\"0.49\\\",\\\"0.5\\\",\\\"0.51\\\",\\\"0.52\\\",\\\"0.53\\\",\\\"0.54\\\",\\\"0.55\\\",\\\"0.56\\\",\\\"0.57\\\",\\\"0.58\\\",\\\"0.59\\\",\\\"0.6\\\",\\\"0.61\\\",\\\"0.62\\\",\\\"0.63\\\",\\\"0.64\\\",\\\"0.65\\\",\\\"0.66\\\",\\\"0.67\\\",\\\"0.68\\\",\\\"0.69\\\",\\\"0.7\\\",\\\"0.71\\\",\\\"0.72\\\",\\\"0.73\\\",\\\"0.74\\\",\\\"0.75\\\",\\\"0.76\\\",\\\"0.77\\\",\\\"0.78\\\",\\\"0.79\\\",\\\"0.8\\\",\\\"0.81\\\",\\\"0.82\\\",\\\"0.83\\\",\\\"0.84\\\",\\\"0.85\\\",\\\"0.86\\\",\\\"0.87\\\",\\\"0.88\\\",\\\"0.89\\\",\\\"0.9\\\",\\\"0.91\\\",\\\"0.92\\\",\\\"0.93\\\",\\\"0.94\\\",\\\"0.95\\\",\\\"0.96\\\",\\\"0.97\\\",\\\"0.98\\\",\\\"0.99\\\",\\\"1.0\\\",\\\"1.01\\\",\\\"1.02\\\",\\\"1.03\\\",\\\"1.04\\\",\\\"1.05\\\",\\\"1.06\\\",\\\"1.07\\\",\\\"1.08\\\",\\\"1.09\\\",\\\"1.1\\\",\\\"1.11\\\",\\\"1.12\\\",\\\"1.13\\\",\\\"1.14\\\",\\\"1.15\\\",\\\"1.16\\\",\\\"1.17\\\",\\\"1.18\\\",\\\"1.19\\\",\\\"1.2\\\",\\\"1.21\\\",\\\"1.22\\\",\\\"1.23\\\",\\\"1.24\\\",\\\"1.25\\\",\\\"1.26\\\",\\\"1.27\\\",\\\"1.28\\\",\\\"1.29\\\",\\\"1.3\\\",\\\"1.31\\\",\\\"1.32\\\",\\\"1.33\\\",\\\"1.34\\\",\\\"1.35\\\",\\\"1.36\\\",\\\"1.37\\\",\\\"1.38\\\",\\\"1.39\\\",\\\"1.4\\\",\\\"1.41\\\",\\\"1.42\\\",\\\"1.43\\\",\\\"1.44\\\",\\\"1.45\\\",\\\"1.46\\\",\\\"1.47\\\",\\\"1.48\\\",\\\"1.49\\\",\\\"1.5\\\",\\\"1.51\\\",\\\"1.52\\\",\\\"1.53\\\",\\\"1.54\\\",\\\"1.55\\\",\\\"1.56\\\",\\\"1.57\\\",\\\"1.58\\\",\\\"1.59\\\",\\\"1.6\\\",\\\"1.61\\\",\\\"1.62\\\",\\\"1.63\\\",\\\"1.64\\\",\\\"1.65\\\",\\\"1.66\\\",\\\"1.67\\\",\\\"1.68\\\",\\\"1.69\\\",\\\"1.7\\\",\\\"1.71\\\",\\\"1.72\\\",\\\"1.73\\\",\\\"1.74\\\",\\\"1.75\\\",\\\"1.76\\\",\\\"1.77\\\",\\\"1.78\\\",\\\"1.79\\\",\\\"1.8\\\",\\\"1.81\\\",\\\"1.82\\\",\\\"1.83\\\",\\\"1.84\\\",\\\"1.85\\\",\\\"1.86\\\",\\\"1.87\\\",\\\"1.88\\\",\\\"1.89\\\",\\\"1.9\\\",\\\"1.91\\\",\\\"1.92\\\",\\\"1.93\\\",\\\"1.94\\\",\\\"1.95\\\",\\\"1.96\\\",\\\"1.97\\\",\\\"1.98\\\",\\\"1.99\\\",\\\"2.0\\\"],\\\"changes\\\":WebIO.getval({\\\"name\\\":\\\"changes\\\",\\\"scope\\\":\\\"8147604509531143161\\\",\\\"id\\\":\\\"ob_75\\\",\\\"type\\\":\\\"observable\\\"}),\\\"index\\\":WebIO.getval({\\\"name\\\":\\\"index\\\",\\\"scope\\\":\\\"8147604509531143161\\\",\\\"id\\\":\\\"ob_74\\\",\\\"type\\\":\\\"observable\\\"})};\\n    var self = this;\\n    function AppViewModel() {\\n        for (var key in json_data) {\\n            var el = json_data[key];\\n            this[key] = Array.isArray(el) ? ko.observableArray(el) : ko.observable(el);\\n        }\\n        \\n        [this[\\\"formatted_val\\\"]=ko.computed(    function(){\\n        return this.formatted_vals()[parseInt(this.index())-(1)];\\n    }\\n,this)]\\n        [this[\\\"changes\\\"].subscribe((function (val){!(this.valueFromJulia[\\\"changes\\\"]) ? (WebIO.setval({\\\"name\\\":\\\"changes\\\",\\\"scope\\\":\\\"8147604509531143161\\\",\\\"id\\\":\\\"ob_75\\\",\\\"type\\\":\\\"observable\\\"},val)) : undefined; return this.valueFromJulia[\\\"changes\\\"]=false}),self),this[\\\"index\\\"].subscribe((function (val){!(this.valueFromJulia[\\\"index\\\"]) ? (WebIO.setval({\\\"name\\\":\\\"index\\\",\\\"scope\\\":\\\"8147604509531143161\\\",\\\"id\\\":\\\"ob_74\\\",\\\"type\\\":\\\"observable\\\"},val)) : undefined; return this.valueFromJulia[\\\"index\\\"]=false}),self)]\\n        \\n    }\\n    self.model = new AppViewModel();\\n    self.valueFromJulia = {};\\n    for (var key in json_data) {\\n        self.valueFromJulia[key] = false;\\n    }\\n    ko.applyBindings(self.model, self.dom);\\n}\\n);\\n    (WebIO.importBlock({\\\"data\\\":[{\\\"name\\\":\\\"knockout\\\",\\\"type\\\":\\\"js\\\",\\\"url\\\":\\\"/assetserver/bd369c9f3f65592d9de5e32611a3bd7919ce27e4-knockout.js\\\"},{\\\"name\\\":\\\"knockout_punches\\\",\\\"type\\\":\\\"js\\\",\\\"url\\\":\\\"/assetserver/3b50d12153ead1bb599ff862de1cdc44df7d6b87-knockout_punches.js\\\"}],\\\"type\\\":\\\"async_block\\\"})).then((imports) => handler.apply(this, imports));\\n}\\n\")])], Dict{Symbol,Any}(:className=>\"field interact-widget\")), Node{DOM}(DOM(:html, :div), Any[Scope(Node{DOM}(DOM(:html, :div), Any[Node{DOM}(DOM(:html, :div), Any[Node{DOM}(DOM(:html, :label), Any[\"K2\"], Dict{Symbol,Any}(:className=>\"interact \",:style=>Dict{Any,Any}(:padding=>\"5px 10px 0px 10px\")))], Dict{Symbol,Any}(:className=>\"interact-flex-row-left\")), Node{DOM}(DOM(:html, :div), Any[Node{DOM}(DOM(:html, :input), Any[], Dict{Symbol,Any}(:max=>191,:min=>1,:attributes=>Dict{Any,Any}(:type=>\"range\",Symbol(\"data-bind\")=>\"numericValue: index, valueUpdate: 'input', event: {change: function (){this.changes(this.changes()+1)}}\",\"orient\"=>\"horizontal\"),:step=>1,:className=>\"slider slider is-fullwidth\",:style=>Dict{Any,Any}()))], Dict{Symbol,Any}(:className=>\"interact-flex-row-center\")), Node{DOM}(DOM(:html, :div), Any[Node{DOM}(DOM(:html, :p), Any[], Dict{Symbol,Any}(:attributes=>Dict(\"data-bind\"=>\"text: formatted_val\")))], Dict{Symbol,Any}(:className=>\"interact-flex-row-right\"))], Dict{Symbol,Any}(:className=>\"interact-flex-row interact-widget\")), Dict{String,Tuple{Observables.AbstractObservable,Union{Nothing, Bool}}}(\"changes\"=>(Observable{Int64} with 1 listeners. Value:\n",
       "0, nothing),\"index\"=>(Observable{Any} with 2 listeners. Value:\n",
       "91, nothing)), Set(String[]), nothing, Asset[Asset(\"js\", \"knockout\", \"C:\\\\Users\\\\gabrielgellner\\\\.julia\\\\packages\\\\Knockout\\\\1sDlc\\\\src\\\\..\\\\assets\\\\knockout.js\"), Asset(\"js\", \"knockout_punches\", \"C:\\\\Users\\\\gabrielgellner\\\\.julia\\\\packages\\\\Knockout\\\\1sDlc\\\\src\\\\..\\\\assets\\\\knockout_punches.js\"), Asset(\"js\", nothing, \"C:\\\\Users\\\\gabrielgellner\\\\.julia\\\\packages\\\\InteractBase\\\\9mFwe\\\\src\\\\..\\\\assets\\\\all.js\"), Asset(\"css\", nothing, \"C:\\\\Users\\\\gabrielgellner\\\\.julia\\\\packages\\\\InteractBase\\\\9mFwe\\\\src\\\\..\\\\assets\\\\style.css\"), Asset(\"css\", nothing, \"C:\\\\Users\\\\gabrielgellner\\\\.julia\\\\packages\\\\Interact\\\\SbgIk\\\\src\\\\..\\\\assets\\\\bulma_confined.min.css\")], Dict{Any,Any}(\"changes\"=>Any[JSString(\"(function (val){return (val!=this.model[\\\"changes\\\"]()) ? (this.valueFromJulia[\\\"changes\\\"]=true, this.model[\\\"changes\\\"](val)) : undefined})\")],\"index\"=>Any[JSString(\"(function (val){return (val!=this.model[\\\"index\\\"]()) ? (this.valueFromJulia[\\\"index\\\"]=true, this.model[\\\"index\\\"](val)) : undefined})\")]), ConnectionPool(Channel{Any}(sz_max:32,sz_curr:0), Set(AbstractConnection[]), Condition(Any[Task (runnable) @0x0000000037db9710])), WebIO.JSString[JSString(\"function () {\\n    var handler = (function (ko, koPunches) {\\n    ko.punches.enableAll();\\n    ko.bindingHandlers.numericValue = {\\n        init: function(element, valueAccessor, allBindings, data, context) {\\n            var stringified = ko.observable(ko.unwrap(valueAccessor()));\\n            stringified.subscribe(function(value) {\\n                var val = parseFloat(value);\\n                if (!isNaN(val)) {\\n                    valueAccessor()(val);\\n                }\\n            });\\n            valueAccessor().subscribe(function(value) {\\n                var str = JSON.stringify(value);\\n                if ((str == \\\"0\\\") && ([\\\"-0\\\", \\\"-0.\\\"].indexOf(stringified()) >= 0))\\n                     return;\\n                 if ([\\\"null\\\", \\\"\\\"].indexOf(str) >= 0)\\n                     return;\\n                stringified(str);\\n            });\\n            ko.applyBindingsToNode(\\n                element,\\n                {\\n                    value: stringified,\\n                    valueUpdate: allBindings.get('valueUpdate'),\\n                },\\n                context,\\n            );\\n        }\\n    };\\n    var json_data = {\\\"formatted_vals\\\":[\\\"0.1\\\",\\\"0.11\\\",\\\"0.12\\\",\\\"0.13\\\",\\\"0.14\\\",\\\"0.15\\\",\\\"0.16\\\",\\\"0.17\\\",\\\"0.18\\\",\\\"0.19\\\",\\\"0.2\\\",\\\"0.21\\\",\\\"0.22\\\",\\\"0.23\\\",\\\"0.24\\\",\\\"0.25\\\",\\\"0.26\\\",\\\"0.27\\\",\\\"0.28\\\",\\\"0.29\\\",\\\"0.3\\\",\\\"0.31\\\",\\\"0.32\\\",\\\"0.33\\\",\\\"0.34\\\",\\\"0.35\\\",\\\"0.36\\\",\\\"0.37\\\",\\\"0.38\\\",\\\"0.39\\\",\\\"0.4\\\",\\\"0.41\\\",\\\"0.42\\\",\\\"0.43\\\",\\\"0.44\\\",\\\"0.45\\\",\\\"0.46\\\",\\\"0.47\\\",\\\"0.48\\\",\\\"0.49\\\",\\\"0.5\\\",\\\"0.51\\\",\\\"0.52\\\",\\\"0.53\\\",\\\"0.54\\\",\\\"0.55\\\",\\\"0.56\\\",\\\"0.57\\\",\\\"0.58\\\",\\\"0.59\\\",\\\"0.6\\\",\\\"0.61\\\",\\\"0.62\\\",\\\"0.63\\\",\\\"0.64\\\",\\\"0.65\\\",\\\"0.66\\\",\\\"0.67\\\",\\\"0.68\\\",\\\"0.69\\\",\\\"0.7\\\",\\\"0.71\\\",\\\"0.72\\\",\\\"0.73\\\",\\\"0.74\\\",\\\"0.75\\\",\\\"0.76\\\",\\\"0.77\\\",\\\"0.78\\\",\\\"0.79\\\",\\\"0.8\\\",\\\"0.81\\\",\\\"0.82\\\",\\\"0.83\\\",\\\"0.84\\\",\\\"0.85\\\",\\\"0.86\\\",\\\"0.87\\\",\\\"0.88\\\",\\\"0.89\\\",\\\"0.9\\\",\\\"0.91\\\",\\\"0.92\\\",\\\"0.93\\\",\\\"0.94\\\",\\\"0.95\\\",\\\"0.96\\\",\\\"0.97\\\",\\\"0.98\\\",\\\"0.99\\\",\\\"1.0\\\",\\\"1.01\\\",\\\"1.02\\\",\\\"1.03\\\",\\\"1.04\\\",\\\"1.05\\\",\\\"1.06\\\",\\\"1.07\\\",\\\"1.08\\\",\\\"1.09\\\",\\\"1.1\\\",\\\"1.11\\\",\\\"1.12\\\",\\\"1.13\\\",\\\"1.14\\\",\\\"1.15\\\",\\\"1.16\\\",\\\"1.17\\\",\\\"1.18\\\",\\\"1.19\\\",\\\"1.2\\\",\\\"1.21\\\",\\\"1.22\\\",\\\"1.23\\\",\\\"1.24\\\",\\\"1.25\\\",\\\"1.26\\\",\\\"1.27\\\",\\\"1.28\\\",\\\"1.29\\\",\\\"1.3\\\",\\\"1.31\\\",\\\"1.32\\\",\\\"1.33\\\",\\\"1.34\\\",\\\"1.35\\\",\\\"1.36\\\",\\\"1.37\\\",\\\"1.38\\\",\\\"1.39\\\",\\\"1.4\\\",\\\"1.41\\\",\\\"1.42\\\",\\\"1.43\\\",\\\"1.44\\\",\\\"1.45\\\",\\\"1.46\\\",\\\"1.47\\\",\\\"1.48\\\",\\\"1.49\\\",\\\"1.5\\\",\\\"1.51\\\",\\\"1.52\\\",\\\"1.53\\\",\\\"1.54\\\",\\\"1.55\\\",\\\"1.56\\\",\\\"1.57\\\",\\\"1.58\\\",\\\"1.59\\\",\\\"1.6\\\",\\\"1.61\\\",\\\"1.62\\\",\\\"1.63\\\",\\\"1.64\\\",\\\"1.65\\\",\\\"1.66\\\",\\\"1.67\\\",\\\"1.68\\\",\\\"1.69\\\",\\\"1.7\\\",\\\"1.71\\\",\\\"1.72\\\",\\\"1.73\\\",\\\"1.74\\\",\\\"1.75\\\",\\\"1.76\\\",\\\"1.77\\\",\\\"1.78\\\",\\\"1.79\\\",\\\"1.8\\\",\\\"1.81\\\",\\\"1.82\\\",\\\"1.83\\\",\\\"1.84\\\",\\\"1.85\\\",\\\"1.86\\\",\\\"1.87\\\",\\\"1.88\\\",\\\"1.89\\\",\\\"1.9\\\",\\\"1.91\\\",\\\"1.92\\\",\\\"1.93\\\",\\\"1.94\\\",\\\"1.95\\\",\\\"1.96\\\",\\\"1.97\\\",\\\"1.98\\\",\\\"1.99\\\",\\\"2.0\\\"],\\\"changes\\\":WebIO.getval({\\\"name\\\":\\\"changes\\\",\\\"scope\\\":\\\"11504457538403858619\\\",\\\"id\\\":\\\"ob_78\\\",\\\"type\\\":\\\"observable\\\"}),\\\"index\\\":WebIO.getval({\\\"name\\\":\\\"index\\\",\\\"scope\\\":\\\"11504457538403858619\\\",\\\"id\\\":\\\"ob_77\\\",\\\"type\\\":\\\"observable\\\"})};\\n    var self = this;\\n    function AppViewModel() {\\n        for (var key in json_data) {\\n            var el = json_data[key];\\n            this[key] = Array.isArray(el) ? ko.observableArray(el) : ko.observable(el);\\n        }\\n        \\n        [this[\\\"formatted_val\\\"]=ko.computed(    function(){\\n        return this.formatted_vals()[parseInt(this.index())-(1)];\\n    }\\n,this)]\\n        [this[\\\"changes\\\"].subscribe((function (val){!(this.valueFromJulia[\\\"changes\\\"]) ? (WebIO.setval({\\\"name\\\":\\\"changes\\\",\\\"scope\\\":\\\"11504457538403858619\\\",\\\"id\\\":\\\"ob_78\\\",\\\"type\\\":\\\"observable\\\"},val)) : undefined; return this.valueFromJulia[\\\"changes\\\"]=false}),self),this[\\\"index\\\"].subscribe((function (val){!(this.valueFromJulia[\\\"index\\\"]) ? (WebIO.setval({\\\"name\\\":\\\"index\\\",\\\"scope\\\":\\\"11504457538403858619\\\",\\\"id\\\":\\\"ob_77\\\",\\\"type\\\":\\\"observable\\\"},val)) : undefined; return this.valueFromJulia[\\\"index\\\"]=false}),self)]\\n        \\n    }\\n    self.model = new AppViewModel();\\n    self.valueFromJulia = {};\\n    for (var key in json_data) {\\n        self.valueFromJulia[key] = false;\\n    }\\n    ko.applyBindings(self.model, self.dom);\\n}\\n);\\n    (WebIO.importBlock({\\\"data\\\":[{\\\"name\\\":\\\"knockout\\\",\\\"type\\\":\\\"js\\\",\\\"url\\\":\\\"/assetserver/bd369c9f3f65592d9de5e32611a3bd7919ce27e4-knockout.js\\\"},{\\\"name\\\":\\\"knockout_punches\\\",\\\"type\\\":\\\"js\\\",\\\"url\\\":\\\"/assetserver/3b50d12153ead1bb599ff862de1cdc44df7d6b87-knockout_punches.js\\\"}],\\\"type\\\":\\\"async_block\\\"})).then((imports) => handler.apply(this, imports));\\n}\\n\")])], Dict{Symbol,Any}(:className=>\"field interact-widget\")), Observable{Any} with 0 listeners. Value:\n",
       "Node{DOM}(DOM(:html, :div), Any[Figure(PyObject <Figure size 640x480 with 1 Axes>)], Dict{Symbol,Any}(:className=>\"interact-flex-row interact-widget\"))], Dict{Symbol,Any}())"
      ]
     },
     "execution_count": 19,
     "metadata": {
      "application/vnd.webio.node+json": {
       "kernelId": "e9d64544-b9f9-425c-ba9f-49be700952c3"
      }
     },
     "output_type": "execute_result"
    }
   ],
   "source": [
    "f1 = figure()\n",
    "u2s = range(0, 5, length = 100)\n",
    "@manipulate for α12 in slider(0.1:0.01:1.0; label = \"α12\", value = 0.8), \n",
    "                α21 in slider(0.1:0.01:1.0; label = \"α21\", value = 0.3), \n",
    "                K1 in slider(0.1:0.01:2.0; label = \"K1\", value = 1.5), \n",
    "                K2 in slider(0.1:0.01:2.0; label = \"K2\", value = 1.0)\n",
    "    p = LVPar(α12 = α12, α21 = α21, K1 = K1, K2 = K2)\n",
    "    withfig(f1, clear = true) do\n",
    "        plot(u2s, [iso1(u2, p) for u2 in u2s], label = \"u1 = 0\")\n",
    "        plot(u2s, [iso2(u2, p) for u2 in u2s], label = \"u2 = 0\")\n",
    "        xlim(0, 3)\n",
    "        ylim(0, 5)\n",
    "        xlabel(\"u2\")\n",
    "        ylabel(\"u1\")\n",
    "    end\n",
    "end"
   ]
  },
  {
   "cell_type": "code",
   "execution_count": null,
   "metadata": {},
   "outputs": [],
   "source": []
  }
 ],
 "metadata": {
  "@webio": {
   "lastCommId": "119c5d3a11c34b4c8379681f4c339758",
   "lastKernelId": "e9d64544-b9f9-425c-ba9f-49be700952c3"
  },
  "kernelspec": {
   "display_name": "Julia 1.1.1",
   "language": "julia",
   "name": "julia-1.1"
  },
  "language_info": {
   "file_extension": ".jl",
   "mimetype": "application/julia",
   "name": "julia",
   "version": "1.1.1"
  }
 },
 "nbformat": 4,
 "nbformat_minor": 2
}
