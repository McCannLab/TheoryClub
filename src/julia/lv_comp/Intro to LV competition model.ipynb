{
 "cells": [
  {
   "cell_type": "markdown",
   "metadata": {},
   "source": [
    "# Introduction to Lotka-Volterra Competition"
   ]
  },
  {
   "cell_type": "code",
   "execution_count": 61,
   "metadata": {},
   "outputs": [],
   "source": [
    "using Parameters\n",
    "using DifferentialEquations\n",
    "using ForwardDiff\n",
    "using PyPlot\n",
    "using Interact"
   ]
  },
  {
   "cell_type": "markdown",
   "metadata": {},
   "source": [
    "# Introduction/Overview\n",
    "This notebook is simply looking at the two species L-V competiti9on model. Here, we are exploring the geometry and dynamics of this model."
   ]
  },
  {
   "cell_type": "markdown",
   "metadata": {},
   "source": [
    "# Model and Equilibria\n",
    "The model we will use is the classical LV competition model:"
   ]
  },
  {
   "cell_type": "code",
   "execution_count": 3,
   "metadata": {},
   "outputs": [
    {
     "data": {
      "text/plain": [
       "lv_comp (generic function with 2 methods)"
      ]
     },
     "execution_count": 3,
     "metadata": {},
     "output_type": "execute_result"
    }
   ],
   "source": [
    "# Inplace definition (the `du` array is passed to the function and changed), the default way to define this in Julia.\n",
    "function lv_comp(du, u, p, t)\n",
    "    @unpack r1, r2, α12, α21, K1, K2 = p\n",
    "    du[1] = u[1] * r1 * (1 - (u[1] + α12 * u[2]) / K1)\n",
    "    du[2] = u[2] * r2 * (1 - (u[2] + α21 * u[1]) / K2)\n",
    "    return\n",
    "end\n",
    "\n",
    "# Make a version that allocates the output `du`, useful for symbolic calculations\n",
    "function lv_comp(u, p, t)\n",
    "    du = similar(u)\n",
    "    lv_comp(du, u, p, t)\n",
    "    return du\n",
    "end"
   ]
  },
  {
   "cell_type": "markdown",
   "metadata": {},
   "source": [
    "# Model Parameters"
   ]
  },
  {
   "cell_type": "code",
   "execution_count": 4,
   "metadata": {},
   "outputs": [
    {
     "data": {
      "text/plain": [
       "LVPar"
      ]
     },
     "execution_count": 4,
     "metadata": {},
     "output_type": "execute_result"
    }
   ],
   "source": [
    "@with_kw mutable struct LVPar\n",
    "    α12 = 0.8\n",
    "    α21 = 0.3\n",
    "    r1 = 1.0\n",
    "    r2 = 2.0\n",
    "    K1 = 1.5\n",
    "    K2 = 1.0\n",
    "end"
   ]
  },
  {
   "cell_type": "code",
   "execution_count": 10,
   "metadata": {},
   "outputs": [
    {
     "data": {
      "text/plain": [
       "1.5"
      ]
     },
     "execution_count": 10,
     "metadata": {},
     "output_type": "execute_result"
    }
   ],
   "source": [
    "p1=LVPar()\n",
    "p1.K1"
   ]
  },
  {
   "cell_type": "markdown",
   "metadata": {},
   "source": [
    "# Evaluationg the model -- time series"
   ]
  },
  {
   "cell_type": "code",
   "execution_count": 60,
   "metadata": {},
   "outputs": [
    {
     "data": {
      "image/png": "[encoded data removed]",
      "text/plain": [
       "Figure(PyObject <Figure size 640x480 with 1 Axes>)"
      ]
     },
     "execution_count": 60,
     "metadata": {},
     "output_type": "execute_result"
    }
   ],
   "source": [
    "u0 = [0.5, 0.5]\n",
    "t_span = (0.0, 100.0)\n",
    "\n",
    "f1 = figure()\n",
    "    p = LVPar(α12 = 1.1)\n",
    "    prob = ODEProblem(lv_comp, u0, t_span, p)\n",
    "    sol = solve(prob, reltol = 1e-8)\n",
    "    withfig(f1, clear = true) do\n",
    "        plot(sol.t, sol.u)\n",
    "    xlabel(\"time\")\n",
    "    ylabel(\"densities\")\n",
    "    legend((\"u1\",\"u2\"))\n",
    "    end\n",
    "    #plot(sol)\n",
    "    #xlabel!(\"time\")\n",
    "    #ylabel!(\"Density\")"
   ]
  },
  {
   "cell_type": "code",
   "execution_count": 62,
   "metadata": {},
   "outputs": [
    {
     "data": {
      "application/vnd.webio.node+json": {
       "children": [
        {
         "children": [
          {
           "children": [
            {
             "children": [
              {
               "children": [
                {
                 "children": [
                  "α12"
                 ],
                 "instanceArgs": {
                  "namespace": "html",
                  "tag": "label"
                 },
                 "nodeType": "DOM",
                 "props": {
                  "className": "interact ",
                  "style": {
                   "padding": "5px 10px 0px 10px"
                  }
                 },
                 "type": "node"
                }
               ],
               "instanceArgs": {
                "namespace": "html",
                "tag": "div"
               },
               "nodeType": "DOM",
               "props": {
                "className": "interact-flex-row-left"
               },
               "type": "node"
              },
              {
               "children": [
                {
                 "children": [],
                 "instanceArgs": {
                  "namespace": "html",
                  "tag": "input"
                 },
                 "nodeType": "DOM",
                 "props": {
                  "attributes": {
                   "data-bind": "numericValue: index, valueUpdate: 'input', event: {change: function (){this.changes(this.changes()+1)}}",
                   "orient": "horizontal",
                   "type": "range"
                  },
                  "className": "slider slider is-fullwidth",
                  "max": 191,
                  "min": 1,
                  "step": 1,
                  "style": {}
                 },
                 "type": "node"
                }
               ],
               "instanceArgs": {
                "namespace": "html",
                "tag": "div"
               },
               "nodeType": "DOM",
               "props": {
                "className": "interact-flex-row-center"
               },
               "type": "node"
              },
              {
               "children": [
                {
                 "children": [],
                 "instanceArgs": {
                  "namespace": "html",
                  "tag": "p"
                 },
                 "nodeType": "DOM",
                 "props": {
                  "attributes": {
                   "data-bind": "text: formatted_val"
                  }
                 },
                 "type": "node"
                }
               ],
               "instanceArgs": {
                "namespace": "html",
                "tag": "div"
               },
               "nodeType": "DOM",
               "props": {
                "className": "interact-flex-row-right"
               },
               "type": "node"
              }
             ],
             "instanceArgs": {
              "namespace": "html",
              "tag": "div"
             },
             "nodeType": "DOM",
             "props": {
              "className": "interact-flex-row interact-widget"
             },
             "type": "node"
            }
           ],
           "instanceArgs": {
            "handlers": {
             "changes": [
              "(function (val){return (val!=this.model[\"changes\"]()) ? (this.valueFromJulia[\"changes\"]=true, this.model[\"changes\"](val)) : undefined})"
             ],
             "index": [
              "(function (val){return (val!=this.model[\"index\"]()) ? (this.valueFromJulia[\"index\"]=true, this.model[\"index\"](val)) : undefined})"
             ]
            },
            "id": "1800928353263303848",
            "imports": {
             "data": [
              {
               "name": "knockout",
               "type": "js",
               "url": "/assetserver/acf0924a365e010bf6a3eb46a136f582bb3d7da4-knockout.js"
              },
              {
               "name": "knockout_punches",
               "type": "js",
               "url": "/assetserver/5ea3afb6d7dd7ccff78b8ae481a9e30e62bf0288-knockout_punches.js"
              },
              {
               "name": null,
               "type": "js",
               "url": "/assetserver/203a4ea09144c577795449fdf0a4f24f8980ee5c-all.js"
              },
              {
               "name": null,
               "type": "css",
               "url": "/assetserver/36431373a4cd66cfad626b36ea93570e5a68faba-style.css"
              },
              {
               "name": null,
               "type": "css",
               "url": "/assetserver/081949f489b194aeef4b21cd890d5b3ac8bb08a5-bulma_confined.min.css"
              }
             ],
             "type": "async_block"
            },
            "mount_callbacks": [
             "function () {\n    var handler = (function (ko, koPunches) {\n    ko.punches.enableAll();\n    ko.bindingHandlers.numericValue = {\n        init: function(element, valueAccessor, allBindings, data, context) {\n            var stringified = ko.observable(ko.unwrap(valueAccessor()));\n            stringified.subscribe(function(value) {\n                var val = parseFloat(value);\n                if (!isNaN(val)) {\n                    valueAccessor()(val);\n                }\n            });\n            valueAccessor().subscribe(function(value) {\n                var str = JSON.stringify(value);\n                if ((str == \"0\") && ([\"-0\", \"-0.\"].indexOf(stringified()) >= 0))\n                     return;\n                 if ([\"null\", \"\"].indexOf(str) >= 0)\n                     return;\n                stringified(str);\n            });\n            ko.applyBindingsToNode(\n                element,\n                {\n                    value: stringified,\n                    valueUpdate: allBindings.get('valueUpdate'),\n                },\n                context,\n            );\n        }\n    };\n    var json_data = {\"formatted_vals\":[\"0.1\",\"0.11\",\"0.12\",\"0.13\",\"0.14\",\"0.15\",\"0.16\",\"0.17\",\"0.18\",\"0.19\",\"0.2\",\"0.21\",\"0.22\",\"0.23\",\"0.24\",\"0.25\",\"0.26\",\"0.27\",\"0.28\",\"0.29\",\"0.3\",\"0.31\",\"0.32\",\"0.33\",\"0.34\",\"0.35\",\"0.36\",\"0.37\",\"0.38\",\"0.39\",\"0.4\",\"0.41\",\"0.42\",\"0.43\",\"0.44\",\"0.45\",\"0.46\",\"0.47\",\"0.48\",\"0.49\",\"0.5\",\"0.51\",\"0.52\",\"0.53\",\"0.54\",\"0.55\",\"0.56\",\"0.57\",\"0.58\",\"0.59\",\"0.6\",\"0.61\",\"0.62\",\"0.63\",\"0.64\",\"0.65\",\"0.66\",\"0.67\",\"0.68\",\"0.69\",\"0.7\",\"0.71\",\"0.72\",\"0.73\",\"0.74\",\"0.75\",\"0.76\",\"0.77\",\"0.78\",\"0.79\",\"0.8\",\"0.81\",\"0.82\",\"0.83\",\"0.84\",\"0.85\",\"0.86\",\"0.87\",\"0.88\",\"0.89\",\"0.9\",\"0.91\",\"0.92\",\"0.93\",\"0.94\",\"0.95\",\"0.96\",\"0.97\",\"0.98\",\"0.99\",\"1.0\",\"1.01\",\"1.02\",\"1.03\",\"1.04\",\"1.05\",\"1.06\",\"1.07\",\"1.08\",\"1.09\",\"1.1\",\"1.11\",\"1.12\",\"1.13\",\"1.14\",\"1.15\",\"1.16\",\"1.17\",\"1.18\",\"1.19\",\"1.2\",\"1.21\",\"1.22\",\"1.23\",\"1.24\",\"1.25\",\"1.26\",\"1.27\",\"1.28\",\"1.29\",\"1.3\",\"1.31\",\"1.32\",\"1.33\",\"1.34\",\"1.35\",\"1.36\",\"1.37\",\"1.38\",\"1.39\",\"1.4\",\"1.41\",\"1.42\",\"1.43\",\"1.44\",\"1.45\",\"1.46\",\"1.47\",\"1.48\",\"1.49\",\"1.5\",\"1.51\",\"1.52\",\"1.53\",\"1.54\",\"1.55\",\"1.56\",\"1.57\",\"1.58\",\"1.59\",\"1.6\",\"1.61\",\"1.62\",\"1.63\",\"1.64\",\"1.65\",\"1.66\",\"1.67\",\"1.68\",\"1.69\",\"1.7\",\"1.71\",\"1.72\",\"1.73\",\"1.74\",\"1.75\",\"1.76\",\"1.77\",\"1.78\",\"1.79\",\"1.8\",\"1.81\",\"1.82\",\"1.83\",\"1.84\",\"1.85\",\"1.86\",\"1.87\",\"1.88\",\"1.89\",\"1.9\",\"1.91\",\"1.92\",\"1.93\",\"1.94\",\"1.95\",\"1.96\",\"1.97\",\"1.98\",\"1.99\",\"2.0\"],\"changes\":WebIO.getval({\"name\":\"changes\",\"scope\":\"1800928353263303848\",\"id\":\"ob_45\",\"type\":\"observable\"}),\"index\":WebIO.getval({\"name\":\"index\",\"scope\":\"1800928353263303848\",\"id\":\"ob_44\",\"type\":\"observable\"})};\n    var self = this;\n    function AppViewModel() {\n        for (var key in json_data) {\n            var el = json_data[key];\n            this[key] = Array.isArray(el) ? ko.observableArray(el) : ko.observable(el);\n        }\n        \n        [this[\"formatted_val\"]=ko.computed(    function(){\n        return this.formatted_vals()[parseInt(this.index())-(1)];\n    }\n,this)]\n        [this[\"changes\"].subscribe((function (val){!(this.valueFromJulia[\"changes\"]) ? (WebIO.setval({\"name\":\"changes\",\"scope\":\"1800928353263303848\",\"id\":\"ob_45\",\"type\":\"observable\"},val)) : undefined; return this.valueFromJulia[\"changes\"]=false}),self),this[\"index\"].subscribe((function (val){!(this.valueFromJulia[\"index\"]) ? (WebIO.setval({\"name\":\"index\",\"scope\":\"1800928353263303848\",\"id\":\"ob_44\",\"type\":\"observable\"},val)) : undefined; return this.valueFromJulia[\"index\"]=false}),self)]\n        \n    }\n    self.model = new AppViewModel();\n    self.valueFromJulia = {};\n    for (var key in json_data) {\n        self.valueFromJulia[key] = false;\n    }\n    ko.applyBindings(self.model, self.dom);\n}\n);\n    (WebIO.importBlock({\"data\":[{\"name\":\"knockout\",\"type\":\"js\",\"url\":\"/assetserver/acf0924a365e010bf6a3eb46a136f582bb3d7da4-knockout.js\"},{\"name\":\"knockout_punches\",\"type\":\"js\",\"url\":\"/assetserver/5ea3afb6d7dd7ccff78b8ae481a9e30e62bf0288-knockout_punches.js\"}],\"type\":\"async_block\"})).then((imports) => handler.apply(this, imports));\n}\n"
            ],
            "observables": {
             "changes": {
              "id": "ob_45",
              "sync": false,
              "value": 0
             },
             "index": {
              "id": "ob_44",
              "sync": true,
              "value": 71
             }
            },
            "systemjs_options": null
           },
           "nodeType": "Scope",
           "props": {},
           "type": "node"
          }
         ],
         "instanceArgs": {
          "namespace": "html",
          "tag": "div"
         },
         "nodeType": "DOM",
         "props": {
          "className": "field interact-widget"
         },
         "type": "node"
        },
        {
         "children": [
          {
           "children": [
            {
             "children": [
              {
               "children": [
                {
                 "children": [
                  "α21"
                 ],
                 "instanceArgs": {
                  "namespace": "html",
                  "tag": "label"
                 },
                 "nodeType": "DOM",
                 "props": {
                  "className": "interact ",
                  "style": {
                   "padding": "5px 10px 0px 10px"
                  }
                 },
                 "type": "node"
                }
               ],
               "instanceArgs": {
                "namespace": "html",
                "tag": "div"
               },
               "nodeType": "DOM",
               "props": {
                "className": "interact-flex-row-left"
               },
               "type": "node"
              },
              {
               "children": [
                {
                 "children": [],
                 "instanceArgs": {
                  "namespace": "html",
                  "tag": "input"
                 },
                 "nodeType": "DOM",
                 "props": {
                  "attributes": {
                   "data-bind": "numericValue: index, valueUpdate: 'input', event: {change: function (){this.changes(this.changes()+1)}}",
                   "orient": "horizontal",
                   "type": "range"
                  },
                  "className": "slider slider is-fullwidth",
                  "max": 191,
                  "min": 1,
                  "step": 1,
                  "style": {}
                 },
                 "type": "node"
                }
               ],
               "instanceArgs": {
                "namespace": "html",
                "tag": "div"
               },
               "nodeType": "DOM",
               "props": {
                "className": "interact-flex-row-center"
               },
               "type": "node"
              },
              {
               "children": [
                {
                 "children": [],
                 "instanceArgs": {
                  "namespace": "html",
                  "tag": "p"
                 },
                 "nodeType": "DOM",
                 "props": {
                  "attributes": {
                   "data-bind": "text: formatted_val"
                  }
                 },
                 "type": "node"
                }
               ],
               "instanceArgs": {
                "namespace": "html",
                "tag": "div"
               },
               "nodeType": "DOM",
               "props": {
                "className": "interact-flex-row-right"
               },
               "type": "node"
              }
             ],
             "instanceArgs": {
              "namespace": "html",
              "tag": "div"
             },
             "nodeType": "DOM",
             "props": {
              "className": "interact-flex-row interact-widget"
             },
             "type": "node"
            }
           ],
           "instanceArgs": {
            "handlers": {
             "changes": [
              "(function (val){return (val!=this.model[\"changes\"]()) ? (this.valueFromJulia[\"changes\"]=true, this.model[\"changes\"](val)) : undefined})"
             ],
             "index": [
              "(function (val){return (val!=this.model[\"index\"]()) ? (this.valueFromJulia[\"index\"]=true, this.model[\"index\"](val)) : undefined})"
             ]
            },
            "id": "17684240501038199874",
            "imports": {
             "data": [
              {
               "name": "knockout",
               "type": "js",
               "url": "/assetserver/acf0924a365e010bf6a3eb46a136f582bb3d7da4-knockout.js"
              },
              {
               "name": "knockout_punches",
               "type": "js",
               "url": "/assetserver/5ea3afb6d7dd7ccff78b8ae481a9e30e62bf0288-knockout_punches.js"
              },
              {
               "name": null,
               "type": "js",
               "url": "/assetserver/203a4ea09144c577795449fdf0a4f24f8980ee5c-all.js"
              },
              {
               "name": null,
               "type": "css",
               "url": "/assetserver/36431373a4cd66cfad626b36ea93570e5a68faba-style.css"
              },
              {
               "name": null,
               "type": "css",
               "url": "/assetserver/081949f489b194aeef4b21cd890d5b3ac8bb08a5-bulma_confined.min.css"
              }
             ],
             "type": "async_block"
            },
            "mount_callbacks": [
             "function () {\n    var handler = (function (ko, koPunches) {\n    ko.punches.enableAll();\n    ko.bindingHandlers.numericValue = {\n        init: function(element, valueAccessor, allBindings, data, context) {\n            var stringified = ko.observable(ko.unwrap(valueAccessor()));\n            stringified.subscribe(function(value) {\n                var val = parseFloat(value);\n                if (!isNaN(val)) {\n                    valueAccessor()(val);\n                }\n            });\n            valueAccessor().subscribe(function(value) {\n                var str = JSON.stringify(value);\n                if ((str == \"0\") && ([\"-0\", \"-0.\"].indexOf(stringified()) >= 0))\n                     return;\n                 if ([\"null\", \"\"].indexOf(str) >= 0)\n                     return;\n                stringified(str);\n            });\n            ko.applyBindingsToNode(\n                element,\n                {\n                    value: stringified,\n                    valueUpdate: allBindings.get('valueUpdate'),\n                },\n                context,\n            );\n        }\n    };\n    var json_data = {\"formatted_vals\":[\"0.1\",\"0.11\",\"0.12\",\"0.13\",\"0.14\",\"0.15\",\"0.16\",\"0.17\",\"0.18\",\"0.19\",\"0.2\",\"0.21\",\"0.22\",\"0.23\",\"0.24\",\"0.25\",\"0.26\",\"0.27\",\"0.28\",\"0.29\",\"0.3\",\"0.31\",\"0.32\",\"0.33\",\"0.34\",\"0.35\",\"0.36\",\"0.37\",\"0.38\",\"0.39\",\"0.4\",\"0.41\",\"0.42\",\"0.43\",\"0.44\",\"0.45\",\"0.46\",\"0.47\",\"0.48\",\"0.49\",\"0.5\",\"0.51\",\"0.52\",\"0.53\",\"0.54\",\"0.55\",\"0.56\",\"0.57\",\"0.58\",\"0.59\",\"0.6\",\"0.61\",\"0.62\",\"0.63\",\"0.64\",\"0.65\",\"0.66\",\"0.67\",\"0.68\",\"0.69\",\"0.7\",\"0.71\",\"0.72\",\"0.73\",\"0.74\",\"0.75\",\"0.76\",\"0.77\",\"0.78\",\"0.79\",\"0.8\",\"0.81\",\"0.82\",\"0.83\",\"0.84\",\"0.85\",\"0.86\",\"0.87\",\"0.88\",\"0.89\",\"0.9\",\"0.91\",\"0.92\",\"0.93\",\"0.94\",\"0.95\",\"0.96\",\"0.97\",\"0.98\",\"0.99\",\"1.0\",\"1.01\",\"1.02\",\"1.03\",\"1.04\",\"1.05\",\"1.06\",\"1.07\",\"1.08\",\"1.09\",\"1.1\",\"1.11\",\"1.12\",\"1.13\",\"1.14\",\"1.15\",\"1.16\",\"1.17\",\"1.18\",\"1.19\",\"1.2\",\"1.21\",\"1.22\",\"1.23\",\"1.24\",\"1.25\",\"1.26\",\"1.27\",\"1.28\",\"1.29\",\"1.3\",\"1.31\",\"1.32\",\"1.33\",\"1.34\",\"1.35\",\"1.36\",\"1.37\",\"1.38\",\"1.39\",\"1.4\",\"1.41\",\"1.42\",\"1.43\",\"1.44\",\"1.45\",\"1.46\",\"1.47\",\"1.48\",\"1.49\",\"1.5\",\"1.51\",\"1.52\",\"1.53\",\"1.54\",\"1.55\",\"1.56\",\"1.57\",\"1.58\",\"1.59\",\"1.6\",\"1.61\",\"1.62\",\"1.63\",\"1.64\",\"1.65\",\"1.66\",\"1.67\",\"1.68\",\"1.69\",\"1.7\",\"1.71\",\"1.72\",\"1.73\",\"1.74\",\"1.75\",\"1.76\",\"1.77\",\"1.78\",\"1.79\",\"1.8\",\"1.81\",\"1.82\",\"1.83\",\"1.84\",\"1.85\",\"1.86\",\"1.87\",\"1.88\",\"1.89\",\"1.9\",\"1.91\",\"1.92\",\"1.93\",\"1.94\",\"1.95\",\"1.96\",\"1.97\",\"1.98\",\"1.99\",\"2.0\"],\"changes\":WebIO.getval({\"name\":\"changes\",\"scope\":\"17684240501038199874\",\"id\":\"ob_48\",\"type\":\"observable\"}),\"index\":WebIO.getval({\"name\":\"index\",\"scope\":\"17684240501038199874\",\"id\":\"ob_47\",\"type\":\"observable\"})};\n    var self = this;\n    function AppViewModel() {\n        for (var key in json_data) {\n            var el = json_data[key];\n            this[key] = Array.isArray(el) ? ko.observableArray(el) : ko.observable(el);\n        }\n        \n        [this[\"formatted_val\"]=ko.computed(    function(){\n        return this.formatted_vals()[parseInt(this.index())-(1)];\n    }\n,this)]\n        [this[\"changes\"].subscribe((function (val){!(this.valueFromJulia[\"changes\"]) ? (WebIO.setval({\"name\":\"changes\",\"scope\":\"17684240501038199874\",\"id\":\"ob_48\",\"type\":\"observable\"},val)) : undefined; return this.valueFromJulia[\"changes\"]=false}),self),this[\"index\"].subscribe((function (val){!(this.valueFromJulia[\"index\"]) ? (WebIO.setval({\"name\":\"index\",\"scope\":\"17684240501038199874\",\"id\":\"ob_47\",\"type\":\"observable\"},val)) : undefined; return this.valueFromJulia[\"index\"]=false}),self)]\n        \n    }\n    self.model = new AppViewModel();\n    self.valueFromJulia = {};\n    for (var key in json_data) {\n        self.valueFromJulia[key] = false;\n    }\n    ko.applyBindings(self.model, self.dom);\n}\n);\n    (WebIO.importBlock({\"data\":[{\"name\":\"knockout\",\"type\":\"js\",\"url\":\"/assetserver/acf0924a365e010bf6a3eb46a136f582bb3d7da4-knockout.js\"},{\"name\":\"knockout_punches\",\"type\":\"js\",\"url\":\"/assetserver/5ea3afb6d7dd7ccff78b8ae481a9e30e62bf0288-knockout_punches.js\"}],\"type\":\"async_block\"})).then((imports) => handler.apply(this, imports));\n}\n"
            ],
            "observables": {
             "changes": {
              "id": "ob_48",
              "sync": false,
              "value": 0
             },
             "index": {
              "id": "ob_47",
              "sync": true,
              "value": 21
             }
            },
            "systemjs_options": null
           },
           "nodeType": "Scope",
           "props": {},
           "type": "node"
          }
         ],
         "instanceArgs": {
          "namespace": "html",
          "tag": "div"
         },
         "nodeType": "DOM",
         "props": {
          "className": "field interact-widget"
         },
         "type": "node"
        },
        {
         "children": [
          {
           "children": [
            {
             "children": [
              {
               "children": [
                {
                 "children": [
                  "K1"
                 ],
                 "instanceArgs": {
                  "namespace": "html",
                  "tag": "label"
                 },
                 "nodeType": "DOM",
                 "props": {
                  "className": "interact ",
                  "style": {
                   "padding": "5px 10px 0px 10px"
                  }
                 },
                 "type": "node"
                }
               ],
               "instanceArgs": {
                "namespace": "html",
                "tag": "div"
               },
               "nodeType": "DOM",
               "props": {
                "className": "interact-flex-row-left"
               },
               "type": "node"
              },
              {
               "children": [
                {
                 "children": [],
                 "instanceArgs": {
                  "namespace": "html",
                  "tag": "input"
                 },
                 "nodeType": "DOM",
                 "props": {
                  "attributes": {
                   "data-bind": "numericValue: index, valueUpdate: 'input', event: {change: function (){this.changes(this.changes()+1)}}",
                   "orient": "horizontal",
                   "type": "range"
                  },
                  "className": "slider slider is-fullwidth",
                  "max": 291,
                  "min": 1,
                  "step": 1,
                  "style": {}
                 },
                 "type": "node"
                }
               ],
               "instanceArgs": {
                "namespace": "html",
                "tag": "div"
               },
               "nodeType": "DOM",
               "props": {
                "className": "interact-flex-row-center"
               },
               "type": "node"
              },
              {
               "children": [
                {
                 "children": [],
                 "instanceArgs": {
                  "namespace": "html",
                  "tag": "p"
                 },
                 "nodeType": "DOM",
                 "props": {
                  "attributes": {
                   "data-bind": "text: formatted_val"
                  }
                 },
                 "type": "node"
                }
               ],
               "instanceArgs": {
                "namespace": "html",
                "tag": "div"
               },
               "nodeType": "DOM",
               "props": {
                "className": "interact-flex-row-right"
               },
               "type": "node"
              }
             ],
             "instanceArgs": {
              "namespace": "html",
              "tag": "div"
             },
             "nodeType": "DOM",
             "props": {
              "className": "interact-flex-row interact-widget"
             },
             "type": "node"
            }
           ],
           "instanceArgs": {
            "handlers": {
             "changes": [
              "(function (val){return (val!=this.model[\"changes\"]()) ? (this.valueFromJulia[\"changes\"]=true, this.model[\"changes\"](val)) : undefined})"
             ],
             "index": [
              "(function (val){return (val!=this.model[\"index\"]()) ? (this.valueFromJulia[\"index\"]=true, this.model[\"index\"](val)) : undefined})"
             ]
            },
            "id": "16955282998197289645",
            "imports": {
             "data": [
              {
               "name": "knockout",
               "type": "js",
               "url": "/assetserver/acf0924a365e010bf6a3eb46a136f582bb3d7da4-knockout.js"
              },
              {
               "name": "knockout_punches",
               "type": "js",
               "url": "/assetserver/5ea3afb6d7dd7ccff78b8ae481a9e30e62bf0288-knockout_punches.js"
              },
              {
               "name": null,
               "type": "js",
               "url": "/assetserver/203a4ea09144c577795449fdf0a4f24f8980ee5c-all.js"
              },
              {
               "name": null,
               "type": "css",
               "url": "/assetserver/36431373a4cd66cfad626b36ea93570e5a68faba-style.css"
              },
              {
               "name": null,
               "type": "css",
               "url": "/assetserver/081949f489b194aeef4b21cd890d5b3ac8bb08a5-bulma_confined.min.css"
              }
             ],
             "type": "async_block"
            },
            "mount_callbacks": [
             "function () {\n    var handler = (function (ko, koPunches) {\n    ko.punches.enableAll();\n    ko.bindingHandlers.numericValue = {\n        init: function(element, valueAccessor, allBindings, data, context) {\n            var stringified = ko.observable(ko.unwrap(valueAccessor()));\n            stringified.subscribe(function(value) {\n                var val = parseFloat(value);\n                if (!isNaN(val)) {\n                    valueAccessor()(val);\n                }\n            });\n            valueAccessor().subscribe(function(value) {\n                var str = JSON.stringify(value);\n                if ((str == \"0\") && ([\"-0\", \"-0.\"].indexOf(stringified()) >= 0))\n                     return;\n                 if ([\"null\", \"\"].indexOf(str) >= 0)\n                     return;\n                stringified(str);\n            });\n            ko.applyBindingsToNode(\n                element,\n                {\n                    value: stringified,\n                    valueUpdate: allBindings.get('valueUpdate'),\n                },\n                context,\n            );\n        }\n    };\n    var json_data = {\"formatted_vals\":[\"0.1\",\"0.11\",\"0.12\",\"0.13\",\"0.14\",\"0.15\",\"0.16\",\"0.17\",\"0.18\",\"0.19\",\"0.2\",\"0.21\",\"0.22\",\"0.23\",\"0.24\",\"0.25\",\"0.26\",\"0.27\",\"0.28\",\"0.29\",\"0.3\",\"0.31\",\"0.32\",\"0.33\",\"0.34\",\"0.35\",\"0.36\",\"0.37\",\"0.38\",\"0.39\",\"0.4\",\"0.41\",\"0.42\",\"0.43\",\"0.44\",\"0.45\",\"0.46\",\"0.47\",\"0.48\",\"0.49\",\"0.5\",\"0.51\",\"0.52\",\"0.53\",\"0.54\",\"0.55\",\"0.56\",\"0.57\",\"0.58\",\"0.59\",\"0.6\",\"0.61\",\"0.62\",\"0.63\",\"0.64\",\"0.65\",\"0.66\",\"0.67\",\"0.68\",\"0.69\",\"0.7\",\"0.71\",\"0.72\",\"0.73\",\"0.74\",\"0.75\",\"0.76\",\"0.77\",\"0.78\",\"0.79\",\"0.8\",\"0.81\",\"0.82\",\"0.83\",\"0.84\",\"0.85\",\"0.86\",\"0.87\",\"0.88\",\"0.89\",\"0.9\",\"0.91\",\"0.92\",\"0.93\",\"0.94\",\"0.95\",\"0.96\",\"0.97\",\"0.98\",\"0.99\",\"1.0\",\"1.01\",\"1.02\",\"1.03\",\"1.04\",\"1.05\",\"1.06\",\"1.07\",\"1.08\",\"1.09\",\"1.1\",\"1.11\",\"1.12\",\"1.13\",\"1.14\",\"1.15\",\"1.16\",\"1.17\",\"1.18\",\"1.19\",\"1.2\",\"1.21\",\"1.22\",\"1.23\",\"1.24\",\"1.25\",\"1.26\",\"1.27\",\"1.28\",\"1.29\",\"1.3\",\"1.31\",\"1.32\",\"1.33\",\"1.34\",\"1.35\",\"1.36\",\"1.37\",\"1.38\",\"1.39\",\"1.4\",\"1.41\",\"1.42\",\"1.43\",\"1.44\",\"1.45\",\"1.46\",\"1.47\",\"1.48\",\"1.49\",\"1.5\",\"1.51\",\"1.52\",\"1.53\",\"1.54\",\"1.55\",\"1.56\",\"1.57\",\"1.58\",\"1.59\",\"1.6\",\"1.61\",\"1.62\",\"1.63\",\"1.64\",\"1.65\",\"1.66\",\"1.67\",\"1.68\",\"1.69\",\"1.7\",\"1.71\",\"1.72\",\"1.73\",\"1.74\",\"1.75\",\"1.76\",\"1.77\",\"1.78\",\"1.79\",\"1.8\",\"1.81\",\"1.82\",\"1.83\",\"1.84\",\"1.85\",\"1.86\",\"1.87\",\"1.88\",\"1.89\",\"1.9\",\"1.91\",\"1.92\",\"1.93\",\"1.94\",\"1.95\",\"1.96\",\"1.97\",\"1.98\",\"1.99\",\"2.0\",\"2.01\",\"2.02\",\"2.03\",\"2.04\",\"2.05\",\"2.06\",\"2.07\",\"2.08\",\"2.09\",\"2.1\",\"2.11\",\"2.12\",\"2.13\",\"2.14\",\"2.15\",\"2.16\",\"2.17\",\"2.18\",\"2.19\",\"2.2\",\"2.21\",\"2.22\",\"2.23\",\"2.24\",\"2.25\",\"2.26\",\"2.27\",\"2.28\",\"2.29\",\"2.3\",\"2.31\",\"2.32\",\"2.33\",\"2.34\",\"2.35\",\"2.36\",\"2.37\",\"2.38\",\"2.39\",\"2.4\",\"2.41\",\"2.42\",\"2.43\",\"2.44\",\"2.45\",\"2.46\",\"2.47\",\"2.48\",\"2.49\",\"2.5\",\"2.51\",\"2.52\",\"2.53\",\"2.54\",\"2.55\",\"2.56\",\"2.57\",\"2.58\",\"2.59\",\"2.6\",\"2.61\",\"2.62\",\"2.63\",\"2.64\",\"2.65\",\"2.66\",\"2.67\",\"2.68\",\"2.69\",\"2.7\",\"2.71\",\"2.72\",\"2.73\",\"2.74\",\"2.75\",\"2.76\",\"2.77\",\"2.78\",\"2.79\",\"2.8\",\"2.81\",\"2.82\",\"2.83\",\"2.84\",\"2.85\",\"2.86\",\"2.87\",\"2.88\",\"2.89\",\"2.9\",\"2.91\",\"2.92\",\"2.93\",\"2.94\",\"2.95\",\"2.96\",\"2.97\",\"2.98\",\"2.99\",\"3.0\"],\"changes\":WebIO.getval({\"name\":\"changes\",\"scope\":\"16955282998197289645\",\"id\":\"ob_51\",\"type\":\"observable\"}),\"index\":WebIO.getval({\"name\":\"index\",\"scope\":\"16955282998197289645\",\"id\":\"ob_50\",\"type\":\"observable\"})};\n    var self = this;\n    function AppViewModel() {\n        for (var key in json_data) {\n            var el = json_data[key];\n            this[key] = Array.isArray(el) ? ko.observableArray(el) : ko.observable(el);\n        }\n        \n        [this[\"formatted_val\"]=ko.computed(    function(){\n        return this.formatted_vals()[parseInt(this.index())-(1)];\n    }\n,this)]\n        [this[\"changes\"].subscribe((function (val){!(this.valueFromJulia[\"changes\"]) ? (WebIO.setval({\"name\":\"changes\",\"scope\":\"16955282998197289645\",\"id\":\"ob_51\",\"type\":\"observable\"},val)) : undefined; return this.valueFromJulia[\"changes\"]=false}),self),this[\"index\"].subscribe((function (val){!(this.valueFromJulia[\"index\"]) ? (WebIO.setval({\"name\":\"index\",\"scope\":\"16955282998197289645\",\"id\":\"ob_50\",\"type\":\"observable\"},val)) : undefined; return this.valueFromJulia[\"index\"]=false}),self)]\n        \n    }\n    self.model = new AppViewModel();\n    self.valueFromJulia = {};\n    for (var key in json_data) {\n        self.valueFromJulia[key] = false;\n    }\n    ko.applyBindings(self.model, self.dom);\n}\n);\n    (WebIO.importBlock({\"data\":[{\"name\":\"knockout\",\"type\":\"js\",\"url\":\"/assetserver/acf0924a365e010bf6a3eb46a136f582bb3d7da4-knockout.js\"},{\"name\":\"knockout_punches\",\"type\":\"js\",\"url\":\"/assetserver/5ea3afb6d7dd7ccff78b8ae481a9e30e62bf0288-knockout_punches.js\"}],\"type\":\"async_block\"})).then((imports) => handler.apply(this, imports));\n}\n"
            ],
            "observables": {
             "changes": {
              "id": "ob_51",
              "sync": false,
              "value": 0
             },
             "index": {
              "id": "ob_50",
              "sync": true,
              "value": 141
             }
            },
            "systemjs_options": null
           },
           "nodeType": "Scope",
           "props": {},
           "type": "node"
          }
         ],
         "instanceArgs": {
          "namespace": "html",
          "tag": "div"
         },
         "nodeType": "DOM",
         "props": {
          "className": "field interact-widget"
         },
         "type": "node"
        },
        {
         "children": [
          {
           "children": [
            {
             "children": [
              {
               "children": [
                {
                 "children": [
                  "K2"
                 ],
                 "instanceArgs": {
                  "namespace": "html",
                  "tag": "label"
                 },
                 "nodeType": "DOM",
                 "props": {
                  "className": "interact ",
                  "style": {
                   "padding": "5px 10px 0px 10px"
                  }
                 },
                 "type": "node"
                }
               ],
               "instanceArgs": {
                "namespace": "html",
                "tag": "div"
               },
               "nodeType": "DOM",
               "props": {
                "className": "interact-flex-row-left"
               },
               "type": "node"
              },
              {
               "children": [
                {
                 "children": [],
                 "instanceArgs": {
                  "namespace": "html",
                  "tag": "input"
                 },
                 "nodeType": "DOM",
                 "props": {
                  "attributes": {
                   "data-bind": "numericValue: index, valueUpdate: 'input', event: {change: function (){this.changes(this.changes()+1)}}",
                   "orient": "horizontal",
                   "type": "range"
                  },
                  "className": "slider slider is-fullwidth",
                  "max": 291,
                  "min": 1,
                  "step": 1,
                  "style": {}
                 },
                 "type": "node"
                }
               ],
               "instanceArgs": {
                "namespace": "html",
                "tag": "div"
               },
               "nodeType": "DOM",
               "props": {
                "className": "interact-flex-row-center"
               },
               "type": "node"
              },
              {
               "children": [
                {
                 "children": [],
                 "instanceArgs": {
                  "namespace": "html",
                  "tag": "p"
                 },
                 "nodeType": "DOM",
                 "props": {
                  "attributes": {
                   "data-bind": "text: formatted_val"
                  }
                 },
                 "type": "node"
                }
               ],
               "instanceArgs": {
                "namespace": "html",
                "tag": "div"
               },
               "nodeType": "DOM",
               "props": {
                "className": "interact-flex-row-right"
               },
               "type": "node"
              }
             ],
             "instanceArgs": {
              "namespace": "html",
              "tag": "div"
             },
             "nodeType": "DOM",
             "props": {
              "className": "interact-flex-row interact-widget"
             },
             "type": "node"
            }
           ],
           "instanceArgs": {
            "handlers": {
             "changes": [
              "(function (val){return (val!=this.model[\"changes\"]()) ? (this.valueFromJulia[\"changes\"]=true, this.model[\"changes\"](val)) : undefined})"
             ],
             "index": [
              "(function (val){return (val!=this.model[\"index\"]()) ? (this.valueFromJulia[\"index\"]=true, this.model[\"index\"](val)) : undefined})"
             ]
            },
            "id": "8811060909830195705",
            "imports": {
             "data": [
              {
               "name": "knockout",
               "type": "js",
               "url": "/assetserver/acf0924a365e010bf6a3eb46a136f582bb3d7da4-knockout.js"
              },
              {
               "name": "knockout_punches",
               "type": "js",
               "url": "/assetserver/5ea3afb6d7dd7ccff78b8ae481a9e30e62bf0288-knockout_punches.js"
              },
              {
               "name": null,
               "type": "js",
               "url": "/assetserver/203a4ea09144c577795449fdf0a4f24f8980ee5c-all.js"
              },
              {
               "name": null,
               "type": "css",
               "url": "/assetserver/36431373a4cd66cfad626b36ea93570e5a68faba-style.css"
              },
              {
               "name": null,
               "type": "css",
               "url": "/assetserver/081949f489b194aeef4b21cd890d5b3ac8bb08a5-bulma_confined.min.css"
              }
             ],
             "type": "async_block"
            },
            "mount_callbacks": [
             "function () {\n    var handler = (function (ko, koPunches) {\n    ko.punches.enableAll();\n    ko.bindingHandlers.numericValue = {\n        init: function(element, valueAccessor, allBindings, data, context) {\n            var stringified = ko.observable(ko.unwrap(valueAccessor()));\n            stringified.subscribe(function(value) {\n                var val = parseFloat(value);\n                if (!isNaN(val)) {\n                    valueAccessor()(val);\n                }\n            });\n            valueAccessor().subscribe(function(value) {\n                var str = JSON.stringify(value);\n                if ((str == \"0\") && ([\"-0\", \"-0.\"].indexOf(stringified()) >= 0))\n                     return;\n                 if ([\"null\", \"\"].indexOf(str) >= 0)\n                     return;\n                stringified(str);\n            });\n            ko.applyBindingsToNode(\n                element,\n                {\n                    value: stringified,\n                    valueUpdate: allBindings.get('valueUpdate'),\n                },\n                context,\n            );\n        }\n    };\n    var json_data = {\"formatted_vals\":[\"0.1\",\"0.11\",\"0.12\",\"0.13\",\"0.14\",\"0.15\",\"0.16\",\"0.17\",\"0.18\",\"0.19\",\"0.2\",\"0.21\",\"0.22\",\"0.23\",\"0.24\",\"0.25\",\"0.26\",\"0.27\",\"0.28\",\"0.29\",\"0.3\",\"0.31\",\"0.32\",\"0.33\",\"0.34\",\"0.35\",\"0.36\",\"0.37\",\"0.38\",\"0.39\",\"0.4\",\"0.41\",\"0.42\",\"0.43\",\"0.44\",\"0.45\",\"0.46\",\"0.47\",\"0.48\",\"0.49\",\"0.5\",\"0.51\",\"0.52\",\"0.53\",\"0.54\",\"0.55\",\"0.56\",\"0.57\",\"0.58\",\"0.59\",\"0.6\",\"0.61\",\"0.62\",\"0.63\",\"0.64\",\"0.65\",\"0.66\",\"0.67\",\"0.68\",\"0.69\",\"0.7\",\"0.71\",\"0.72\",\"0.73\",\"0.74\",\"0.75\",\"0.76\",\"0.77\",\"0.78\",\"0.79\",\"0.8\",\"0.81\",\"0.82\",\"0.83\",\"0.84\",\"0.85\",\"0.86\",\"0.87\",\"0.88\",\"0.89\",\"0.9\",\"0.91\",\"0.92\",\"0.93\",\"0.94\",\"0.95\",\"0.96\",\"0.97\",\"0.98\",\"0.99\",\"1.0\",\"1.01\",\"1.02\",\"1.03\",\"1.04\",\"1.05\",\"1.06\",\"1.07\",\"1.08\",\"1.09\",\"1.1\",\"1.11\",\"1.12\",\"1.13\",\"1.14\",\"1.15\",\"1.16\",\"1.17\",\"1.18\",\"1.19\",\"1.2\",\"1.21\",\"1.22\",\"1.23\",\"1.24\",\"1.25\",\"1.26\",\"1.27\",\"1.28\",\"1.29\",\"1.3\",\"1.31\",\"1.32\",\"1.33\",\"1.34\",\"1.35\",\"1.36\",\"1.37\",\"1.38\",\"1.39\",\"1.4\",\"1.41\",\"1.42\",\"1.43\",\"1.44\",\"1.45\",\"1.46\",\"1.47\",\"1.48\",\"1.49\",\"1.5\",\"1.51\",\"1.52\",\"1.53\",\"1.54\",\"1.55\",\"1.56\",\"1.57\",\"1.58\",\"1.59\",\"1.6\",\"1.61\",\"1.62\",\"1.63\",\"1.64\",\"1.65\",\"1.66\",\"1.67\",\"1.68\",\"1.69\",\"1.7\",\"1.71\",\"1.72\",\"1.73\",\"1.74\",\"1.75\",\"1.76\",\"1.77\",\"1.78\",\"1.79\",\"1.8\",\"1.81\",\"1.82\",\"1.83\",\"1.84\",\"1.85\",\"1.86\",\"1.87\",\"1.88\",\"1.89\",\"1.9\",\"1.91\",\"1.92\",\"1.93\",\"1.94\",\"1.95\",\"1.96\",\"1.97\",\"1.98\",\"1.99\",\"2.0\",\"2.01\",\"2.02\",\"2.03\",\"2.04\",\"2.05\",\"2.06\",\"2.07\",\"2.08\",\"2.09\",\"2.1\",\"2.11\",\"2.12\",\"2.13\",\"2.14\",\"2.15\",\"2.16\",\"2.17\",\"2.18\",\"2.19\",\"2.2\",\"2.21\",\"2.22\",\"2.23\",\"2.24\",\"2.25\",\"2.26\",\"2.27\",\"2.28\",\"2.29\",\"2.3\",\"2.31\",\"2.32\",\"2.33\",\"2.34\",\"2.35\",\"2.36\",\"2.37\",\"2.38\",\"2.39\",\"2.4\",\"2.41\",\"2.42\",\"2.43\",\"2.44\",\"2.45\",\"2.46\",\"2.47\",\"2.48\",\"2.49\",\"2.5\",\"2.51\",\"2.52\",\"2.53\",\"2.54\",\"2.55\",\"2.56\",\"2.57\",\"2.58\",\"2.59\",\"2.6\",\"2.61\",\"2.62\",\"2.63\",\"2.64\",\"2.65\",\"2.66\",\"2.67\",\"2.68\",\"2.69\",\"2.7\",\"2.71\",\"2.72\",\"2.73\",\"2.74\",\"2.75\",\"2.76\",\"2.77\",\"2.78\",\"2.79\",\"2.8\",\"2.81\",\"2.82\",\"2.83\",\"2.84\",\"2.85\",\"2.86\",\"2.87\",\"2.88\",\"2.89\",\"2.9\",\"2.91\",\"2.92\",\"2.93\",\"2.94\",\"2.95\",\"2.96\",\"2.97\",\"2.98\",\"2.99\",\"3.0\"],\"changes\":WebIO.getval({\"name\":\"changes\",\"scope\":\"8811060909830195705\",\"id\":\"ob_54\",\"type\":\"observable\"}),\"index\":WebIO.getval({\"name\":\"index\",\"scope\":\"8811060909830195705\",\"id\":\"ob_53\",\"type\":\"observable\"})};\n    var self = this;\n    function AppViewModel() {\n        for (var key in json_data) {\n            var el = json_data[key];\n            this[key] = Array.isArray(el) ? ko.observableArray(el) : ko.observable(el);\n        }\n        \n        [this[\"formatted_val\"]=ko.computed(    function(){\n        return this.formatted_vals()[parseInt(this.index())-(1)];\n    }\n,this)]\n        [this[\"changes\"].subscribe((function (val){!(this.valueFromJulia[\"changes\"]) ? (WebIO.setval({\"name\":\"changes\",\"scope\":\"8811060909830195705\",\"id\":\"ob_54\",\"type\":\"observable\"},val)) : undefined; return this.valueFromJulia[\"changes\"]=false}),self),this[\"index\"].subscribe((function (val){!(this.valueFromJulia[\"index\"]) ? (WebIO.setval({\"name\":\"index\",\"scope\":\"8811060909830195705\",\"id\":\"ob_53\",\"type\":\"observable\"},val)) : undefined; return this.valueFromJulia[\"index\"]=false}),self)]\n        \n    }\n    self.model = new AppViewModel();\n    self.valueFromJulia = {};\n    for (var key in json_data) {\n        self.valueFromJulia[key] = false;\n    }\n    ko.applyBindings(self.model, self.dom);\n}\n);\n    (WebIO.importBlock({\"data\":[{\"name\":\"knockout\",\"type\":\"js\",\"url\":\"/assetserver/acf0924a365e010bf6a3eb46a136f582bb3d7da4-knockout.js\"},{\"name\":\"knockout_punches\",\"type\":\"js\",\"url\":\"/assetserver/5ea3afb6d7dd7ccff78b8ae481a9e30e62bf0288-knockout_punches.js\"}],\"type\":\"async_block\"})).then((imports) => handler.apply(this, imports));\n}\n"
            ],
            "observables": {
             "changes": {
              "id": "ob_54",
              "sync": false,
              "value": 0
             },
             "index": {
              "id": "ob_53",
              "sync": true,
              "value": 91
             }
            },
            "systemjs_options": null
           },
           "nodeType": "Scope",
           "props": {},
           "type": "node"
          }
         ],
         "instanceArgs": {
          "namespace": "html",
          "tag": "div"
         },
         "nodeType": "DOM",
         "props": {
          "className": "field interact-widget"
         },
         "type": "node"
        },
        {
         "children": [
          {
           "children": [
            {
             "children": [
              {
               "children": [
                {
                 "children": [
                  "r1"
                 ],
                 "instanceArgs": {
                  "namespace": "html",
                  "tag": "label"
                 },
                 "nodeType": "DOM",
                 "props": {
                  "className": "interact ",
                  "style": {
                   "padding": "5px 10px 0px 10px"
                  }
                 },
                 "type": "node"
                }
               ],
               "instanceArgs": {
                "namespace": "html",
                "tag": "div"
               },
               "nodeType": "DOM",
               "props": {
                "className": "interact-flex-row-left"
               },
               "type": "node"
              },
              {
               "children": [
                {
                 "children": [],
                 "instanceArgs": {
                  "namespace": "html",
                  "tag": "input"
                 },
                 "nodeType": "DOM",
                 "props": {
                  "attributes": {
                   "data-bind": "numericValue: index, valueUpdate: 'input', event: {change: function (){this.changes(this.changes()+1)}}",
                   "orient": "horizontal",
                   "type": "range"
                  },
                  "className": "slider slider is-fullwidth",
                  "max": 991,
                  "min": 1,
                  "step": 1,
                  "style": {}
                 },
                 "type": "node"
                }
               ],
               "instanceArgs": {
                "namespace": "html",
                "tag": "div"
               },
               "nodeType": "DOM",
               "props": {
                "className": "interact-flex-row-center"
               },
               "type": "node"
              },
              {
               "children": [
                {
                 "children": [],
                 "instanceArgs": {
                  "namespace": "html",
                  "tag": "p"
                 },
                 "nodeType": "DOM",
                 "props": {
                  "attributes": {
                   "data-bind": "text: formatted_val"
                  }
                 },
                 "type": "node"
                }
               ],
               "instanceArgs": {
                "namespace": "html",
                "tag": "div"
               },
               "nodeType": "DOM",
               "props": {
                "className": "interact-flex-row-right"
               },
               "type": "node"
              }
             ],
             "instanceArgs": {
              "namespace": "html",
              "tag": "div"
             },
             "nodeType": "DOM",
             "props": {
              "className": "interact-flex-row interact-widget"
             },
             "type": "node"
            }
           ],
           "instanceArgs": {
            "handlers": {
             "changes": [
              "(function (val){return (val!=this.model[\"changes\"]()) ? (this.valueFromJulia[\"changes\"]=true, this.model[\"changes\"](val)) : undefined})"
             ],
             "index": [
              "(function (val){return (val!=this.model[\"index\"]()) ? (this.valueFromJulia[\"index\"]=true, this.model[\"index\"](val)) : undefined})"
             ]
            },
            "id": "13559480925185307429",
            "imports": {
             "data": [
              {
               "name": "knockout",
               "type": "js",
               "url": "/assetserver/acf0924a365e010bf6a3eb46a136f582bb3d7da4-knockout.js"
              },
              {
               "name": "knockout_punches",
               "type": "js",
               "url": "/assetserver/5ea3afb6d7dd7ccff78b8ae481a9e30e62bf0288-knockout_punches.js"
              },
              {
               "name": null,
               "type": "js",
               "url": "/assetserver/203a4ea09144c577795449fdf0a4f24f8980ee5c-all.js"
              },
              {
               "name": null,
               "type": "css",
               "url": "/assetserver/36431373a4cd66cfad626b36ea93570e5a68faba-style.css"
              },
              {
               "name": null,
               "type": "css",
               "url": "/assetserver/081949f489b194aeef4b21cd890d5b3ac8bb08a5-bulma_confined.min.css"
              }
             ],
             "type": "async_block"
            },
            "mount_callbacks": [
             "function () {\n    var handler = (function (ko, koPunches) {\n    ko.punches.enableAll();\n    ko.bindingHandlers.numericValue = {\n        init: function(element, valueAccessor, allBindings, data, context) {\n            var stringified = ko.observable(ko.unwrap(valueAccessor()));\n            stringified.subscribe(function(value) {\n                var val = parseFloat(value);\n                if (!isNaN(val)) {\n                    valueAccessor()(val);\n                }\n            });\n            valueAccessor().subscribe(function(value) {\n                var str = JSON.stringify(value);\n                if ((str == \"0\") && ([\"-0\", \"-0.\"].indexOf(stringified()) >= 0))\n                     return;\n                 if ([\"null\", \"\"].indexOf(str) >= 0)\n                     return;\n                stringified(str);\n            });\n            ko.applyBindingsToNode(\n                element,\n                {\n                    value: stringified,\n                    valueUpdate: allBindings.get('valueUpdate'),\n                },\n                context,\n            );\n        }\n    };\n    var json_data = {\"formatted_vals\":[\"0.1\",\"0.11\",\"0.12\",\"0.13\",\"0.14\",\"0.15\",\"0.16\",\"0.17\",\"0.18\",\"0.19\",\"0.2\",\"0.21\",\"0.22\",\"0.23\",\"0.24\",\"0.25\",\"0.26\",\"0.27\",\"0.28\",\"0.29\",\"0.3\",\"0.31\",\"0.32\",\"0.33\",\"0.34\",\"0.35\",\"0.36\",\"0.37\",\"0.38\",\"0.39\",\"0.4\",\"0.41\",\"0.42\",\"0.43\",\"0.44\",\"0.45\",\"0.46\",\"0.47\",\"0.48\",\"0.49\",\"0.5\",\"0.51\",\"0.52\",\"0.53\",\"0.54\",\"0.55\",\"0.56\",\"0.57\",\"0.58\",\"0.59\",\"0.6\",\"0.61\",\"0.62\",\"0.63\",\"0.64\",\"0.65\",\"0.66\",\"0.67\",\"0.68\",\"0.69\",\"0.7\",\"0.71\",\"0.72\",\"0.73\",\"0.74\",\"0.75\",\"0.76\",\"0.77\",\"0.78\",\"0.79\",\"0.8\",\"0.81\",\"0.82\",\"0.83\",\"0.84\",\"0.85\",\"0.86\",\"0.87\",\"0.88\",\"0.89\",\"0.9\",\"0.91\",\"0.92\",\"0.93\",\"0.94\",\"0.95\",\"0.96\",\"0.97\",\"0.98\",\"0.99\",\"1.0\",\"1.01\",\"1.02\",\"1.03\",\"1.04\",\"1.05\",\"1.06\",\"1.07\",\"1.08\",\"1.09\",\"1.1\",\"1.11\",\"1.12\",\"1.13\",\"1.14\",\"1.15\",\"1.16\",\"1.17\",\"1.18\",\"1.19\",\"1.2\",\"1.21\",\"1.22\",\"1.23\",\"1.24\",\"1.25\",\"1.26\",\"1.27\",\"1.28\",\"1.29\",\"1.3\",\"1.31\",\"1.32\",\"1.33\",\"1.34\",\"1.35\",\"1.36\",\"1.37\",\"1.38\",\"1.39\",\"1.4\",\"1.41\",\"1.42\",\"1.43\",\"1.44\",\"1.45\",\"1.46\",\"1.47\",\"1.48\",\"1.49\",\"1.5\",\"1.51\",\"1.52\",\"1.53\",\"1.54\",\"1.55\",\"1.56\",\"1.57\",\"1.58\",\"1.59\",\"1.6\",\"1.61\",\"1.62\",\"1.63\",\"1.64\",\"1.65\",\"1.66\",\"1.67\",\"1.68\",\"1.69\",\"1.7\",\"1.71\",\"1.72\",\"1.73\",\"1.74\",\"1.75\",\"1.76\",\"1.77\",\"1.78\",\"1.79\",\"1.8\",\"1.81\",\"1.82\",\"1.83\",\"1.84\",\"1.85\",\"1.86\",\"1.87\",\"1.88\",\"1.89\",\"1.9\",\"1.91\",\"1.92\",\"1.93\",\"1.94\",\"1.95\",\"1.96\",\"1.97\",\"1.98\",\"1.99\",\"2.0\",\"2.01\",\"2.02\",\"2.03\",\"2.04\",\"2.05\",\"2.06\",\"2.07\",\"2.08\",\"2.09\",\"2.1\",\"2.11\",\"2.12\",\"2.13\",\"2.14\",\"2.15\",\"2.16\",\"2.17\",\"2.18\",\"2.19\",\"2.2\",\"2.21\",\"2.22\",\"2.23\",\"2.24\",\"2.25\",\"2.26\",\"2.27\",\"2.28\",\"2.29\",\"2.3\",\"2.31\",\"2.32\",\"2.33\",\"2.34\",\"2.35\",\"2.36\",\"2.37\",\"2.38\",\"2.39\",\"2.4\",\"2.41\",\"2.42\",\"2.43\",\"2.44\",\"2.45\",\"2.46\",\"2.47\",\"2.48\",\"2.49\",\"2.5\",\"2.51\",\"2.52\",\"2.53\",\"2.54\",\"2.55\",\"2.56\",\"2.57\",\"2.58\",\"2.59\",\"2.6\",\"2.61\",\"2.62\",\"2.63\",\"2.64\",\"2.65\",\"2.66\",\"2.67\",\"2.68\",\"2.69\",\"2.7\",\"2.71\",\"2.72\",\"2.73\",\"2.74\",\"2.75\",\"2.76\",\"2.77\",\"2.78\",\"2.79\",\"2.8\",\"2.81\",\"2.82\",\"2.83\",\"2.84\",\"2.85\",\"2.86\",\"2.87\",\"2.88\",\"2.89\",\"2.9\",\"2.91\",\"2.92\",\"2.93\",\"2.94\",\"2.95\",\"2.96\",\"2.97\",\"2.98\",\"2.99\",\"3.0\",\"3.01\",\"3.02\",\"3.03\",\"3.04\",\"3.05\",\"3.06\",\"3.07\",\"3.08\",\"3.09\",\"3.1\",\"3.11\",\"3.12\",\"3.13\",\"3.14\",\"3.15\",\"3.16\",\"3.17\",\"3.18\",\"3.19\",\"3.2\",\"3.21\",\"3.22\",\"3.23\",\"3.24\",\"3.25\",\"3.26\",\"3.27\",\"3.28\",\"3.29\",\"3.3\",\"3.31\",\"3.32\",\"3.33\",\"3.34\",\"3.35\",\"3.36\",\"3.37\",\"3.38\",\"3.39\",\"3.4\",\"3.41\",\"3.42\",\"3.43\",\"3.44\",\"3.45\",\"3.46\",\"3.47\",\"3.48\",\"3.49\",\"3.5\",\"3.51\",\"3.52\",\"3.53\",\"3.54\",\"3.55\",\"3.56\",\"3.57\",\"3.58\",\"3.59\",\"3.6\",\"3.61\",\"3.62\",\"3.63\",\"3.64\",\"3.65\",\"3.66\",\"3.67\",\"3.68\",\"3.69\",\"3.7\",\"3.71\",\"3.72\",\"3.73\",\"3.74\",\"3.75\",\"3.76\",\"3.77\",\"3.78\",\"3.79\",\"3.8\",\"3.81\",\"3.82\",\"3.83\",\"3.84\",\"3.85\",\"3.86\",\"3.87\",\"3.88\",\"3.89\",\"3.9\",\"3.91\",\"3.92\",\"3.93\",\"3.94\",\"3.95\",\"3.96\",\"3.97\",\"3.98\",\"3.99\",\"4.0\",\"4.01\",\"4.02\",\"4.03\",\"4.04\",\"4.05\",\"4.06\",\"4.07\",\"4.08\",\"4.09\",\"4.1\",\"4.11\",\"4.12\",\"4.13\",\"4.14\",\"4.15\",\"4.16\",\"4.17\",\"4.18\",\"4.19\",\"4.2\",\"4.21\",\"4.22\",\"4.23\",\"4.24\",\"4.25\",\"4.26\",\"4.27\",\"4.28\",\"4.29\",\"4.3\",\"4.31\",\"4.32\",\"4.33\",\"4.34\",\"4.35\",\"4.36\",\"4.37\",\"4.38\",\"4.39\",\"4.4\",\"4.41\",\"4.42\",\"4.43\",\"4.44\",\"4.45\",\"4.46\",\"4.47\",\"4.48\",\"4.49\",\"4.5\",\"4.51\",\"4.52\",\"4.53\",\"4.54\",\"4.55\",\"4.56\",\"4.57\",\"4.58\",\"4.59\",\"4.6\",\"4.61\",\"4.62\",\"4.63\",\"4.64\",\"4.65\",\"4.66\",\"4.67\",\"4.68\",\"4.69\",\"4.7\",\"4.71\",\"4.72\",\"4.73\",\"4.74\",\"4.75\",\"4.76\",\"4.77\",\"4.78\",\"4.79\",\"4.8\",\"4.81\",\"4.82\",\"4.83\",\"4.84\",\"4.85\",\"4.86\",\"4.87\",\"4.88\",\"4.89\",\"4.9\",\"4.91\",\"4.92\",\"4.93\",\"4.94\",\"4.95\",\"4.96\",\"4.97\",\"4.98\",\"4.99\",\"5.0\",\"5.01\",\"5.02\",\"5.03\",\"5.04\",\"5.05\",\"5.06\",\"5.07\",\"5.08\",\"5.09\",\"5.1\",\"5.11\",\"5.12\",\"5.13\",\"5.14\",\"5.15\",\"5.16\",\"5.17\",\"5.18\",\"5.19\",\"5.2\",\"5.21\",\"5.22\",\"5.23\",\"5.24\",\"5.25\",\"5.26\",\"5.27\",\"5.28\",\"5.29\",\"5.3\",\"5.31\",\"5.32\",\"5.33\",\"5.34\",\"5.35\",\"5.36\",\"5.37\",\"5.38\",\"5.39\",\"5.4\",\"5.41\",\"5.42\",\"5.43\",\"5.44\",\"5.45\",\"5.46\",\"5.47\",\"5.48\",\"5.49\",\"5.5\",\"5.51\",\"5.52\",\"5.53\",\"5.54\",\"5.55\",\"5.56\",\"5.57\",\"5.58\",\"5.59\",\"5.6\",\"5.61\",\"5.62\",\"5.63\",\"5.64\",\"5.65\",\"5.66\",\"5.67\",\"5.68\",\"5.69\",\"5.7\",\"5.71\",\"5.72\",\"5.73\",\"5.74\",\"5.75\",\"5.76\",\"5.77\",\"5.78\",\"5.79\",\"5.8\",\"5.81\",\"5.82\",\"5.83\",\"5.84\",\"5.85\",\"5.86\",\"5.87\",\"5.88\",\"5.89\",\"5.9\",\"5.91\",\"5.92\",\"5.93\",\"5.94\",\"5.95\",\"5.96\",\"5.97\",\"5.98\",\"5.99\",\"6.0\",\"6.01\",\"6.02\",\"6.03\",\"6.04\",\"6.05\",\"6.06\",\"6.07\",\"6.08\",\"6.09\",\"6.1\",\"6.11\",\"6.12\",\"6.13\",\"6.14\",\"6.15\",\"6.16\",\"6.17\",\"6.18\",\"6.19\",\"6.2\",\"6.21\",\"6.22\",\"6.23\",\"6.24\",\"6.25\",\"6.26\",\"6.27\",\"6.28\",\"6.29\",\"6.3\",\"6.31\",\"6.32\",\"6.33\",\"6.34\",\"6.35\",\"6.36\",\"6.37\",\"6.38\",\"6.39\",\"6.4\",\"6.41\",\"6.42\",\"6.43\",\"6.44\",\"6.45\",\"6.46\",\"6.47\",\"6.48\",\"6.49\",\"6.5\",\"6.51\",\"6.52\",\"6.53\",\"6.54\",\"6.55\",\"6.56\",\"6.57\",\"6.58\",\"6.59\",\"6.6\",\"6.61\",\"6.62\",\"6.63\",\"6.64\",\"6.65\",\"6.66\",\"6.67\",\"6.68\",\"6.69\",\"6.7\",\"6.71\",\"6.72\",\"6.73\",\"6.74\",\"6.75\",\"6.76\",\"6.77\",\"6.78\",\"6.79\",\"6.8\",\"6.81\",\"6.82\",\"6.83\",\"6.84\",\"6.85\",\"6.86\",\"6.87\",\"6.88\",\"6.89\",\"6.9\",\"6.91\",\"6.92\",\"6.93\",\"6.94\",\"6.95\",\"6.96\",\"6.97\",\"6.98\",\"6.99\",\"7.0\",\"7.01\",\"7.02\",\"7.03\",\"7.04\",\"7.05\",\"7.06\",\"7.07\",\"7.08\",\"7.09\",\"7.1\",\"7.11\",\"7.12\",\"7.13\",\"7.14\",\"7.15\",\"7.16\",\"7.17\",\"7.18\",\"7.19\",\"7.2\",\"7.21\",\"7.22\",\"7.23\",\"7.24\",\"7.25\",\"7.26\",\"7.27\",\"7.28\",\"7.29\",\"7.3\",\"7.31\",\"7.32\",\"7.33\",\"7.34\",\"7.35\",\"7.36\",\"7.37\",\"7.38\",\"7.39\",\"7.4\",\"7.41\",\"7.42\",\"7.43\",\"7.44\",\"7.45\",\"7.46\",\"7.47\",\"7.48\",\"7.49\",\"7.5\",\"7.51\",\"7.52\",\"7.53\",\"7.54\",\"7.55\",\"7.56\",\"7.57\",\"7.58\",\"7.59\",\"7.6\",\"7.61\",\"7.62\",\"7.63\",\"7.64\",\"7.65\",\"7.66\",\"7.67\",\"7.68\",\"7.69\",\"7.7\",\"7.71\",\"7.72\",\"7.73\",\"7.74\",\"7.75\",\"7.76\",\"7.77\",\"7.78\",\"7.79\",\"7.8\",\"7.81\",\"7.82\",\"7.83\",\"7.84\",\"7.85\",\"7.86\",\"7.87\",\"7.88\",\"7.89\",\"7.9\",\"7.91\",\"7.92\",\"7.93\",\"7.94\",\"7.95\",\"7.96\",\"7.97\",\"7.98\",\"7.99\",\"8.0\",\"8.01\",\"8.02\",\"8.03\",\"8.04\",\"8.05\",\"8.06\",\"8.07\",\"8.08\",\"8.09\",\"8.1\",\"8.11\",\"8.12\",\"8.13\",\"8.14\",\"8.15\",\"8.16\",\"8.17\",\"8.18\",\"8.19\",\"8.2\",\"8.21\",\"8.22\",\"8.23\",\"8.24\",\"8.25\",\"8.26\",\"8.27\",\"8.28\",\"8.29\",\"8.3\",\"8.31\",\"8.32\",\"8.33\",\"8.34\",\"8.35\",\"8.36\",\"8.37\",\"8.38\",\"8.39\",\"8.4\",\"8.41\",\"8.42\",\"8.43\",\"8.44\",\"8.45\",\"8.46\",\"8.47\",\"8.48\",\"8.49\",\"8.5\",\"8.51\",\"8.52\",\"8.53\",\"8.54\",\"8.55\",\"8.56\",\"8.57\",\"8.58\",\"8.59\",\"8.6\",\"8.61\",\"8.62\",\"8.63\",\"8.64\",\"8.65\",\"8.66\",\"8.67\",\"8.68\",\"8.69\",\"8.7\",\"8.71\",\"8.72\",\"8.73\",\"8.74\",\"8.75\",\"8.76\",\"8.77\",\"8.78\",\"8.79\",\"8.8\",\"8.81\",\"8.82\",\"8.83\",\"8.84\",\"8.85\",\"8.86\",\"8.87\",\"8.88\",\"8.89\",\"8.9\",\"8.91\",\"8.92\",\"8.93\",\"8.94\",\"8.95\",\"8.96\",\"8.97\",\"8.98\",\"8.99\",\"9.0\",\"9.01\",\"9.02\",\"9.03\",\"9.04\",\"9.05\",\"9.06\",\"9.07\",\"9.08\",\"9.09\",\"9.1\",\"9.11\",\"9.12\",\"9.13\",\"9.14\",\"9.15\",\"9.16\",\"9.17\",\"9.18\",\"9.19\",\"9.2\",\"9.21\",\"9.22\",\"9.23\",\"9.24\",\"9.25\",\"9.26\",\"9.27\",\"9.28\",\"9.29\",\"9.3\",\"9.31\",\"9.32\",\"9.33\",\"9.34\",\"9.35\",\"9.36\",\"9.37\",\"9.38\",\"9.39\",\"9.4\",\"9.41\",\"9.42\",\"9.43\",\"9.44\",\"9.45\",\"9.46\",\"9.47\",\"9.48\",\"9.49\",\"9.5\",\"9.51\",\"9.52\",\"9.53\",\"9.54\",\"9.55\",\"9.56\",\"9.57\",\"9.58\",\"9.59\",\"9.6\",\"9.61\",\"9.62\",\"9.63\",\"9.64\",\"9.65\",\"9.66\",\"9.67\",\"9.68\",\"9.69\",\"9.7\",\"9.71\",\"9.72\",\"9.73\",\"9.74\",\"9.75\",\"9.76\",\"9.77\",\"9.78\",\"9.79\",\"9.8\",\"9.81\",\"9.82\",\"9.83\",\"9.84\",\"9.85\",\"9.86\",\"9.87\",\"9.88\",\"9.89\",\"9.9\",\"9.91\",\"9.92\",\"9.93\",\"9.94\",\"9.95\",\"9.96\",\"9.97\",\"9.98\",\"9.99\",\"10.0\"],\"changes\":WebIO.getval({\"name\":\"changes\",\"scope\":\"13559480925185307429\",\"id\":\"ob_57\",\"type\":\"observable\"}),\"index\":WebIO.getval({\"name\":\"index\",\"scope\":\"13559480925185307429\",\"id\":\"ob_56\",\"type\":\"observable\"})};\n    var self = this;\n    function AppViewModel() {\n        for (var key in json_data) {\n            var el = json_data[key];\n            this[key] = Array.isArray(el) ? ko.observableArray(el) : ko.observable(el);\n        }\n        \n        [this[\"formatted_val\"]=ko.computed(    function(){\n        return this.formatted_vals()[parseInt(this.index())-(1)];\n    }\n,this)]\n        [this[\"changes\"].subscribe((function (val){!(this.valueFromJulia[\"changes\"]) ? (WebIO.setval({\"name\":\"changes\",\"scope\":\"13559480925185307429\",\"id\":\"ob_57\",\"type\":\"observable\"},val)) : undefined; return this.valueFromJulia[\"changes\"]=false}),self),this[\"index\"].subscribe((function (val){!(this.valueFromJulia[\"index\"]) ? (WebIO.setval({\"name\":\"index\",\"scope\":\"13559480925185307429\",\"id\":\"ob_56\",\"type\":\"observable\"},val)) : undefined; return this.valueFromJulia[\"index\"]=false}),self)]\n        \n    }\n    self.model = new AppViewModel();\n    self.valueFromJulia = {};\n    for (var key in json_data) {\n        self.valueFromJulia[key] = false;\n    }\n    ko.applyBindings(self.model, self.dom);\n}\n);\n    (WebIO.importBlock({\"data\":[{\"name\":\"knockout\",\"type\":\"js\",\"url\":\"/assetserver/acf0924a365e010bf6a3eb46a136f582bb3d7da4-knockout.js\"},{\"name\":\"knockout_punches\",\"type\":\"js\",\"url\":\"/assetserver/5ea3afb6d7dd7ccff78b8ae481a9e30e62bf0288-knockout_punches.js\"}],\"type\":\"async_block\"})).then((imports) => handler.apply(this, imports));\n}\n"
            ],
            "observables": {
             "changes": {
              "id": "ob_57",
              "sync": false,
              "value": 0
             },
             "index": {
              "id": "ob_56",
              "sync": true,
              "value": 91
             }
            },
            "systemjs_options": null
           },
           "nodeType": "Scope",
           "props": {},
           "type": "node"
          }
         ],
         "instanceArgs": {
          "namespace": "html",
          "tag": "div"
         },
         "nodeType": "DOM",
         "props": {
          "className": "field interact-widget"
         },
         "type": "node"
        },
        {
         "children": [
          {
           "children": [
            {
             "children": [
              {
               "children": [
                {
                 "children": [
                  "r2"
                 ],
                 "instanceArgs": {
                  "namespace": "html",
                  "tag": "label"
                 },
                 "nodeType": "DOM",
                 "props": {
                  "className": "interact ",
                  "style": {
                   "padding": "5px 10px 0px 10px"
                  }
                 },
                 "type": "node"
                }
               ],
               "instanceArgs": {
                "namespace": "html",
                "tag": "div"
               },
               "nodeType": "DOM",
               "props": {
                "className": "interact-flex-row-left"
               },
               "type": "node"
              },
              {
               "children": [
                {
                 "children": [],
                 "instanceArgs": {
                  "namespace": "html",
                  "tag": "input"
                 },
                 "nodeType": "DOM",
                 "props": {
                  "attributes": {
                   "data-bind": "numericValue: index, valueUpdate: 'input', event: {change: function (){this.changes(this.changes()+1)}}",
                   "orient": "horizontal",
                   "type": "range"
                  },
                  "className": "slider slider is-fullwidth",
                  "max": 991,
                  "min": 1,
                  "step": 1,
                  "style": {}
                 },
                 "type": "node"
                }
               ],
               "instanceArgs": {
                "namespace": "html",
                "tag": "div"
               },
               "nodeType": "DOM",
               "props": {
                "className": "interact-flex-row-center"
               },
               "type": "node"
              },
              {
               "children": [
                {
                 "children": [],
                 "instanceArgs": {
                  "namespace": "html",
                  "tag": "p"
                 },
                 "nodeType": "DOM",
                 "props": {
                  "attributes": {
                   "data-bind": "text: formatted_val"
                  }
                 },
                 "type": "node"
                }
               ],
               "instanceArgs": {
                "namespace": "html",
                "tag": "div"
               },
               "nodeType": "DOM",
               "props": {
                "className": "interact-flex-row-right"
               },
               "type": "node"
              }
             ],
             "instanceArgs": {
              "namespace": "html",
              "tag": "div"
             },
             "nodeType": "DOM",
             "props": {
              "className": "interact-flex-row interact-widget"
             },
             "type": "node"
            }
           ],
           "instanceArgs": {
            "handlers": {
             "changes": [
              "(function (val){return (val!=this.model[\"changes\"]()) ? (this.valueFromJulia[\"changes\"]=true, this.model[\"changes\"](val)) : undefined})"
             ],
             "index": [
              "(function (val){return (val!=this.model[\"index\"]()) ? (this.valueFromJulia[\"index\"]=true, this.model[\"index\"](val)) : undefined})"
             ]
            },
            "id": "16257199187827486630",
            "imports": {
             "data": [
              {
               "name": "knockout",
               "type": "js",
               "url": "/assetserver/acf0924a365e010bf6a3eb46a136f582bb3d7da4-knockout.js"
              },
              {
               "name": "knockout_punches",
               "type": "js",
               "url": "/assetserver/5ea3afb6d7dd7ccff78b8ae481a9e30e62bf0288-knockout_punches.js"
              },
              {
               "name": null,
               "type": "js",
               "url": "/assetserver/203a4ea09144c577795449fdf0a4f24f8980ee5c-all.js"
              },
              {
               "name": null,
               "type": "css",
               "url": "/assetserver/36431373a4cd66cfad626b36ea93570e5a68faba-style.css"
              },
              {
               "name": null,
               "type": "css",
               "url": "/assetserver/081949f489b194aeef4b21cd890d5b3ac8bb08a5-bulma_confined.min.css"
              }
             ],
             "type": "async_block"
            },
            "mount_callbacks": [
             "function () {\n    var handler = (function (ko, koPunches) {\n    ko.punches.enableAll();\n    ko.bindingHandlers.numericValue = {\n        init: function(element, valueAccessor, allBindings, data, context) {\n            var stringified = ko.observable(ko.unwrap(valueAccessor()));\n            stringified.subscribe(function(value) {\n                var val = parseFloat(value);\n                if (!isNaN(val)) {\n                    valueAccessor()(val);\n                }\n            });\n            valueAccessor().subscribe(function(value) {\n                var str = JSON.stringify(value);\n                if ((str == \"0\") && ([\"-0\", \"-0.\"].indexOf(stringified()) >= 0))\n                     return;\n                 if ([\"null\", \"\"].indexOf(str) >= 0)\n                     return;\n                stringified(str);\n            });\n            ko.applyBindingsToNode(\n                element,\n                {\n                    value: stringified,\n                    valueUpdate: allBindings.get('valueUpdate'),\n                },\n                context,\n            );\n        }\n    };\n    var json_data = {\"formatted_vals\":[\"0.1\",\"0.11\",\"0.12\",\"0.13\",\"0.14\",\"0.15\",\"0.16\",\"0.17\",\"0.18\",\"0.19\",\"0.2\",\"0.21\",\"0.22\",\"0.23\",\"0.24\",\"0.25\",\"0.26\",\"0.27\",\"0.28\",\"0.29\",\"0.3\",\"0.31\",\"0.32\",\"0.33\",\"0.34\",\"0.35\",\"0.36\",\"0.37\",\"0.38\",\"0.39\",\"0.4\",\"0.41\",\"0.42\",\"0.43\",\"0.44\",\"0.45\",\"0.46\",\"0.47\",\"0.48\",\"0.49\",\"0.5\",\"0.51\",\"0.52\",\"0.53\",\"0.54\",\"0.55\",\"0.56\",\"0.57\",\"0.58\",\"0.59\",\"0.6\",\"0.61\",\"0.62\",\"0.63\",\"0.64\",\"0.65\",\"0.66\",\"0.67\",\"0.68\",\"0.69\",\"0.7\",\"0.71\",\"0.72\",\"0.73\",\"0.74\",\"0.75\",\"0.76\",\"0.77\",\"0.78\",\"0.79\",\"0.8\",\"0.81\",\"0.82\",\"0.83\",\"0.84\",\"0.85\",\"0.86\",\"0.87\",\"0.88\",\"0.89\",\"0.9\",\"0.91\",\"0.92\",\"0.93\",\"0.94\",\"0.95\",\"0.96\",\"0.97\",\"0.98\",\"0.99\",\"1.0\",\"1.01\",\"1.02\",\"1.03\",\"1.04\",\"1.05\",\"1.06\",\"1.07\",\"1.08\",\"1.09\",\"1.1\",\"1.11\",\"1.12\",\"1.13\",\"1.14\",\"1.15\",\"1.16\",\"1.17\",\"1.18\",\"1.19\",\"1.2\",\"1.21\",\"1.22\",\"1.23\",\"1.24\",\"1.25\",\"1.26\",\"1.27\",\"1.28\",\"1.29\",\"1.3\",\"1.31\",\"1.32\",\"1.33\",\"1.34\",\"1.35\",\"1.36\",\"1.37\",\"1.38\",\"1.39\",\"1.4\",\"1.41\",\"1.42\",\"1.43\",\"1.44\",\"1.45\",\"1.46\",\"1.47\",\"1.48\",\"1.49\",\"1.5\",\"1.51\",\"1.52\",\"1.53\",\"1.54\",\"1.55\",\"1.56\",\"1.57\",\"1.58\",\"1.59\",\"1.6\",\"1.61\",\"1.62\",\"1.63\",\"1.64\",\"1.65\",\"1.66\",\"1.67\",\"1.68\",\"1.69\",\"1.7\",\"1.71\",\"1.72\",\"1.73\",\"1.74\",\"1.75\",\"1.76\",\"1.77\",\"1.78\",\"1.79\",\"1.8\",\"1.81\",\"1.82\",\"1.83\",\"1.84\",\"1.85\",\"1.86\",\"1.87\",\"1.88\",\"1.89\",\"1.9\",\"1.91\",\"1.92\",\"1.93\",\"1.94\",\"1.95\",\"1.96\",\"1.97\",\"1.98\",\"1.99\",\"2.0\",\"2.01\",\"2.02\",\"2.03\",\"2.04\",\"2.05\",\"2.06\",\"2.07\",\"2.08\",\"2.09\",\"2.1\",\"2.11\",\"2.12\",\"2.13\",\"2.14\",\"2.15\",\"2.16\",\"2.17\",\"2.18\",\"2.19\",\"2.2\",\"2.21\",\"2.22\",\"2.23\",\"2.24\",\"2.25\",\"2.26\",\"2.27\",\"2.28\",\"2.29\",\"2.3\",\"2.31\",\"2.32\",\"2.33\",\"2.34\",\"2.35\",\"2.36\",\"2.37\",\"2.38\",\"2.39\",\"2.4\",\"2.41\",\"2.42\",\"2.43\",\"2.44\",\"2.45\",\"2.46\",\"2.47\",\"2.48\",\"2.49\",\"2.5\",\"2.51\",\"2.52\",\"2.53\",\"2.54\",\"2.55\",\"2.56\",\"2.57\",\"2.58\",\"2.59\",\"2.6\",\"2.61\",\"2.62\",\"2.63\",\"2.64\",\"2.65\",\"2.66\",\"2.67\",\"2.68\",\"2.69\",\"2.7\",\"2.71\",\"2.72\",\"2.73\",\"2.74\",\"2.75\",\"2.76\",\"2.77\",\"2.78\",\"2.79\",\"2.8\",\"2.81\",\"2.82\",\"2.83\",\"2.84\",\"2.85\",\"2.86\",\"2.87\",\"2.88\",\"2.89\",\"2.9\",\"2.91\",\"2.92\",\"2.93\",\"2.94\",\"2.95\",\"2.96\",\"2.97\",\"2.98\",\"2.99\",\"3.0\",\"3.01\",\"3.02\",\"3.03\",\"3.04\",\"3.05\",\"3.06\",\"3.07\",\"3.08\",\"3.09\",\"3.1\",\"3.11\",\"3.12\",\"3.13\",\"3.14\",\"3.15\",\"3.16\",\"3.17\",\"3.18\",\"3.19\",\"3.2\",\"3.21\",\"3.22\",\"3.23\",\"3.24\",\"3.25\",\"3.26\",\"3.27\",\"3.28\",\"3.29\",\"3.3\",\"3.31\",\"3.32\",\"3.33\",\"3.34\",\"3.35\",\"3.36\",\"3.37\",\"3.38\",\"3.39\",\"3.4\",\"3.41\",\"3.42\",\"3.43\",\"3.44\",\"3.45\",\"3.46\",\"3.47\",\"3.48\",\"3.49\",\"3.5\",\"3.51\",\"3.52\",\"3.53\",\"3.54\",\"3.55\",\"3.56\",\"3.57\",\"3.58\",\"3.59\",\"3.6\",\"3.61\",\"3.62\",\"3.63\",\"3.64\",\"3.65\",\"3.66\",\"3.67\",\"3.68\",\"3.69\",\"3.7\",\"3.71\",\"3.72\",\"3.73\",\"3.74\",\"3.75\",\"3.76\",\"3.77\",\"3.78\",\"3.79\",\"3.8\",\"3.81\",\"3.82\",\"3.83\",\"3.84\",\"3.85\",\"3.86\",\"3.87\",\"3.88\",\"3.89\",\"3.9\",\"3.91\",\"3.92\",\"3.93\",\"3.94\",\"3.95\",\"3.96\",\"3.97\",\"3.98\",\"3.99\",\"4.0\",\"4.01\",\"4.02\",\"4.03\",\"4.04\",\"4.05\",\"4.06\",\"4.07\",\"4.08\",\"4.09\",\"4.1\",\"4.11\",\"4.12\",\"4.13\",\"4.14\",\"4.15\",\"4.16\",\"4.17\",\"4.18\",\"4.19\",\"4.2\",\"4.21\",\"4.22\",\"4.23\",\"4.24\",\"4.25\",\"4.26\",\"4.27\",\"4.28\",\"4.29\",\"4.3\",\"4.31\",\"4.32\",\"4.33\",\"4.34\",\"4.35\",\"4.36\",\"4.37\",\"4.38\",\"4.39\",\"4.4\",\"4.41\",\"4.42\",\"4.43\",\"4.44\",\"4.45\",\"4.46\",\"4.47\",\"4.48\",\"4.49\",\"4.5\",\"4.51\",\"4.52\",\"4.53\",\"4.54\",\"4.55\",\"4.56\",\"4.57\",\"4.58\",\"4.59\",\"4.6\",\"4.61\",\"4.62\",\"4.63\",\"4.64\",\"4.65\",\"4.66\",\"4.67\",\"4.68\",\"4.69\",\"4.7\",\"4.71\",\"4.72\",\"4.73\",\"4.74\",\"4.75\",\"4.76\",\"4.77\",\"4.78\",\"4.79\",\"4.8\",\"4.81\",\"4.82\",\"4.83\",\"4.84\",\"4.85\",\"4.86\",\"4.87\",\"4.88\",\"4.89\",\"4.9\",\"4.91\",\"4.92\",\"4.93\",\"4.94\",\"4.95\",\"4.96\",\"4.97\",\"4.98\",\"4.99\",\"5.0\",\"5.01\",\"5.02\",\"5.03\",\"5.04\",\"5.05\",\"5.06\",\"5.07\",\"5.08\",\"5.09\",\"5.1\",\"5.11\",\"5.12\",\"5.13\",\"5.14\",\"5.15\",\"5.16\",\"5.17\",\"5.18\",\"5.19\",\"5.2\",\"5.21\",\"5.22\",\"5.23\",\"5.24\",\"5.25\",\"5.26\",\"5.27\",\"5.28\",\"5.29\",\"5.3\",\"5.31\",\"5.32\",\"5.33\",\"5.34\",\"5.35\",\"5.36\",\"5.37\",\"5.38\",\"5.39\",\"5.4\",\"5.41\",\"5.42\",\"5.43\",\"5.44\",\"5.45\",\"5.46\",\"5.47\",\"5.48\",\"5.49\",\"5.5\",\"5.51\",\"5.52\",\"5.53\",\"5.54\",\"5.55\",\"5.56\",\"5.57\",\"5.58\",\"5.59\",\"5.6\",\"5.61\",\"5.62\",\"5.63\",\"5.64\",\"5.65\",\"5.66\",\"5.67\",\"5.68\",\"5.69\",\"5.7\",\"5.71\",\"5.72\",\"5.73\",\"5.74\",\"5.75\",\"5.76\",\"5.77\",\"5.78\",\"5.79\",\"5.8\",\"5.81\",\"5.82\",\"5.83\",\"5.84\",\"5.85\",\"5.86\",\"5.87\",\"5.88\",\"5.89\",\"5.9\",\"5.91\",\"5.92\",\"5.93\",\"5.94\",\"5.95\",\"5.96\",\"5.97\",\"5.98\",\"5.99\",\"6.0\",\"6.01\",\"6.02\",\"6.03\",\"6.04\",\"6.05\",\"6.06\",\"6.07\",\"6.08\",\"6.09\",\"6.1\",\"6.11\",\"6.12\",\"6.13\",\"6.14\",\"6.15\",\"6.16\",\"6.17\",\"6.18\",\"6.19\",\"6.2\",\"6.21\",\"6.22\",\"6.23\",\"6.24\",\"6.25\",\"6.26\",\"6.27\",\"6.28\",\"6.29\",\"6.3\",\"6.31\",\"6.32\",\"6.33\",\"6.34\",\"6.35\",\"6.36\",\"6.37\",\"6.38\",\"6.39\",\"6.4\",\"6.41\",\"6.42\",\"6.43\",\"6.44\",\"6.45\",\"6.46\",\"6.47\",\"6.48\",\"6.49\",\"6.5\",\"6.51\",\"6.52\",\"6.53\",\"6.54\",\"6.55\",\"6.56\",\"6.57\",\"6.58\",\"6.59\",\"6.6\",\"6.61\",\"6.62\",\"6.63\",\"6.64\",\"6.65\",\"6.66\",\"6.67\",\"6.68\",\"6.69\",\"6.7\",\"6.71\",\"6.72\",\"6.73\",\"6.74\",\"6.75\",\"6.76\",\"6.77\",\"6.78\",\"6.79\",\"6.8\",\"6.81\",\"6.82\",\"6.83\",\"6.84\",\"6.85\",\"6.86\",\"6.87\",\"6.88\",\"6.89\",\"6.9\",\"6.91\",\"6.92\",\"6.93\",\"6.94\",\"6.95\",\"6.96\",\"6.97\",\"6.98\",\"6.99\",\"7.0\",\"7.01\",\"7.02\",\"7.03\",\"7.04\",\"7.05\",\"7.06\",\"7.07\",\"7.08\",\"7.09\",\"7.1\",\"7.11\",\"7.12\",\"7.13\",\"7.14\",\"7.15\",\"7.16\",\"7.17\",\"7.18\",\"7.19\",\"7.2\",\"7.21\",\"7.22\",\"7.23\",\"7.24\",\"7.25\",\"7.26\",\"7.27\",\"7.28\",\"7.29\",\"7.3\",\"7.31\",\"7.32\",\"7.33\",\"7.34\",\"7.35\",\"7.36\",\"7.37\",\"7.38\",\"7.39\",\"7.4\",\"7.41\",\"7.42\",\"7.43\",\"7.44\",\"7.45\",\"7.46\",\"7.47\",\"7.48\",\"7.49\",\"7.5\",\"7.51\",\"7.52\",\"7.53\",\"7.54\",\"7.55\",\"7.56\",\"7.57\",\"7.58\",\"7.59\",\"7.6\",\"7.61\",\"7.62\",\"7.63\",\"7.64\",\"7.65\",\"7.66\",\"7.67\",\"7.68\",\"7.69\",\"7.7\",\"7.71\",\"7.72\",\"7.73\",\"7.74\",\"7.75\",\"7.76\",\"7.77\",\"7.78\",\"7.79\",\"7.8\",\"7.81\",\"7.82\",\"7.83\",\"7.84\",\"7.85\",\"7.86\",\"7.87\",\"7.88\",\"7.89\",\"7.9\",\"7.91\",\"7.92\",\"7.93\",\"7.94\",\"7.95\",\"7.96\",\"7.97\",\"7.98\",\"7.99\",\"8.0\",\"8.01\",\"8.02\",\"8.03\",\"8.04\",\"8.05\",\"8.06\",\"8.07\",\"8.08\",\"8.09\",\"8.1\",\"8.11\",\"8.12\",\"8.13\",\"8.14\",\"8.15\",\"8.16\",\"8.17\",\"8.18\",\"8.19\",\"8.2\",\"8.21\",\"8.22\",\"8.23\",\"8.24\",\"8.25\",\"8.26\",\"8.27\",\"8.28\",\"8.29\",\"8.3\",\"8.31\",\"8.32\",\"8.33\",\"8.34\",\"8.35\",\"8.36\",\"8.37\",\"8.38\",\"8.39\",\"8.4\",\"8.41\",\"8.42\",\"8.43\",\"8.44\",\"8.45\",\"8.46\",\"8.47\",\"8.48\",\"8.49\",\"8.5\",\"8.51\",\"8.52\",\"8.53\",\"8.54\",\"8.55\",\"8.56\",\"8.57\",\"8.58\",\"8.59\",\"8.6\",\"8.61\",\"8.62\",\"8.63\",\"8.64\",\"8.65\",\"8.66\",\"8.67\",\"8.68\",\"8.69\",\"8.7\",\"8.71\",\"8.72\",\"8.73\",\"8.74\",\"8.75\",\"8.76\",\"8.77\",\"8.78\",\"8.79\",\"8.8\",\"8.81\",\"8.82\",\"8.83\",\"8.84\",\"8.85\",\"8.86\",\"8.87\",\"8.88\",\"8.89\",\"8.9\",\"8.91\",\"8.92\",\"8.93\",\"8.94\",\"8.95\",\"8.96\",\"8.97\",\"8.98\",\"8.99\",\"9.0\",\"9.01\",\"9.02\",\"9.03\",\"9.04\",\"9.05\",\"9.06\",\"9.07\",\"9.08\",\"9.09\",\"9.1\",\"9.11\",\"9.12\",\"9.13\",\"9.14\",\"9.15\",\"9.16\",\"9.17\",\"9.18\",\"9.19\",\"9.2\",\"9.21\",\"9.22\",\"9.23\",\"9.24\",\"9.25\",\"9.26\",\"9.27\",\"9.28\",\"9.29\",\"9.3\",\"9.31\",\"9.32\",\"9.33\",\"9.34\",\"9.35\",\"9.36\",\"9.37\",\"9.38\",\"9.39\",\"9.4\",\"9.41\",\"9.42\",\"9.43\",\"9.44\",\"9.45\",\"9.46\",\"9.47\",\"9.48\",\"9.49\",\"9.5\",\"9.51\",\"9.52\",\"9.53\",\"9.54\",\"9.55\",\"9.56\",\"9.57\",\"9.58\",\"9.59\",\"9.6\",\"9.61\",\"9.62\",\"9.63\",\"9.64\",\"9.65\",\"9.66\",\"9.67\",\"9.68\",\"9.69\",\"9.7\",\"9.71\",\"9.72\",\"9.73\",\"9.74\",\"9.75\",\"9.76\",\"9.77\",\"9.78\",\"9.79\",\"9.8\",\"9.81\",\"9.82\",\"9.83\",\"9.84\",\"9.85\",\"9.86\",\"9.87\",\"9.88\",\"9.89\",\"9.9\",\"9.91\",\"9.92\",\"9.93\",\"9.94\",\"9.95\",\"9.96\",\"9.97\",\"9.98\",\"9.99\",\"10.0\"],\"changes\":WebIO.getval({\"name\":\"changes\",\"scope\":\"16257199187827486630\",\"id\":\"ob_60\",\"type\":\"observable\"}),\"index\":WebIO.getval({\"name\":\"index\",\"scope\":\"16257199187827486630\",\"id\":\"ob_59\",\"type\":\"observable\"})};\n    var self = this;\n    function AppViewModel() {\n        for (var key in json_data) {\n            var el = json_data[key];\n            this[key] = Array.isArray(el) ? ko.observableArray(el) : ko.observable(el);\n        }\n        \n        [this[\"formatted_val\"]=ko.computed(    function(){\n        return this.formatted_vals()[parseInt(this.index())-(1)];\n    }\n,this)]\n        [this[\"changes\"].subscribe((function (val){!(this.valueFromJulia[\"changes\"]) ? (WebIO.setval({\"name\":\"changes\",\"scope\":\"16257199187827486630\",\"id\":\"ob_60\",\"type\":\"observable\"},val)) : undefined; return this.valueFromJulia[\"changes\"]=false}),self),this[\"index\"].subscribe((function (val){!(this.valueFromJulia[\"index\"]) ? (WebIO.setval({\"name\":\"index\",\"scope\":\"16257199187827486630\",\"id\":\"ob_59\",\"type\":\"observable\"},val)) : undefined; return this.valueFromJulia[\"index\"]=false}),self)]\n        \n    }\n    self.model = new AppViewModel();\n    self.valueFromJulia = {};\n    for (var key in json_data) {\n        self.valueFromJulia[key] = false;\n    }\n    ko.applyBindings(self.model, self.dom);\n}\n);\n    (WebIO.importBlock({\"data\":[{\"name\":\"knockout\",\"type\":\"js\",\"url\":\"/assetserver/acf0924a365e010bf6a3eb46a136f582bb3d7da4-knockout.js\"},{\"name\":\"knockout_punches\",\"type\":\"js\",\"url\":\"/assetserver/5ea3afb6d7dd7ccff78b8ae481a9e30e62bf0288-knockout_punches.js\"}],\"type\":\"async_block\"})).then((imports) => handler.apply(this, imports));\n}\n"
            ],
            "observables": {
             "changes": {
              "id": "ob_60",
              "sync": false,
              "value": 0
             },
             "index": {
              "id": "ob_59",
              "sync": true,
              "value": 191
             }
            },
            "systemjs_options": null
           },
           "nodeType": "Scope",
           "props": {},
           "type": "node"
          }
         ],
         "instanceArgs": {
          "namespace": "html",
          "tag": "div"
         },
         "nodeType": "DOM",
         "props": {
          "className": "field interact-widget"
         },
         "type": "node"
        },
        {
         "children": [
          {
           "children": [],
           "instanceArgs": {
            "id": "ob_66",
            "name": "obs-node"
           },
           "nodeType": "ObservableNode",
           "props": {},
           "type": "node"
          }
         ],
         "instanceArgs": {
          "handlers": {},
          "id": "3465774641138556525",
          "imports": {
           "data": [],
           "type": "async_block"
          },
          "mount_callbacks": [],
          "observables": {
           "obs-node": {
            "id": "ob_66",
            "sync": false,
            "value": {
             "children": [
              {
               "children": [],
               "instanceArgs": {
                "namespace": "html",
                "tag": "div"
               },
               "nodeType": "DOM",
               "props": {
                "setInnerHtml": "<img src='data:image/png;base64,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'></img>"
               },
               "type": "node"
              }
             ],
             "instanceArgs": {
              "namespace": "html",
              "tag": "div"
             },
             "nodeType": "DOM",
             "props": {
              "className": "interact-flex-row interact-widget"
             },
             "type": "node"
            }
           }
          },
          "systemjs_options": null
         },
         "nodeType": "Scope",
         "props": {},
         "type": "node"
        }
       ],
       "instanceArgs": {
        "namespace": "html",
        "tag": "div"
       },
       "nodeType": "DOM",
       "props": {},
       "type": "node"
      },
      "text/html": [
       "<div\n",
       "    class=\"webio-mountpoint\"\n",
       "    data-webio-mountpoint=\"4285213306900904802\"\n",
       ">\n",
       "    <script>\n",
       "    if (window.require && require.defined && require.defined(\"nbextensions/webio-jupyter-notebook\")) {\n",
       "        console.log(\"Jupyter WebIO extension detected, not mounting.\");\n",
       "    } else if (window.WebIO) {\n",
       "        WebIO.mount(\n",
       "            document.querySelector('[data-webio-mountpoint=\"4285213306900904802\"]'),\n",
       "            {\"props\":{},\"nodeType\":\"DOM\",\"type\":\"node\",\"instanceArgs\":{\"namespace\":\"html\",\"tag\":\"div\"},\"children\":[{\"props\":{\"className\":\"field interact-widget\"},\"nodeType\":\"DOM\",\"type\":\"node\",\"instanceArgs\":{\"namespace\":\"html\",\"tag\":\"div\"},\"children\":[{\"props\":{},\"nodeType\":\"Scope\",\"type\":\"node\",\"instanceArgs\":{\"imports\":{\"data\":[{\"name\":\"knockout\",\"type\":\"js\",\"url\":\"\\/assetserver\\/acf0924a365e010bf6a3eb46a136f582bb3d7da4-knockout.js\"},{\"name\":\"knockout_punches\",\"type\":\"js\",\"url\":\"\\/assetserver\\/5ea3afb6d7dd7ccff78b8ae481a9e30e62bf0288-knockout_punches.js\"},{\"name\":null,\"type\":\"js\",\"url\":\"\\/assetserver\\/203a4ea09144c577795449fdf0a4f24f8980ee5c-all.js\"},{\"name\":null,\"type\":\"css\",\"url\":\"\\/assetserver\\/36431373a4cd66cfad626b36ea93570e5a68faba-style.css\"},{\"name\":null,\"type\":\"css\",\"url\":\"\\/assetserver\\/081949f489b194aeef4b21cd890d5b3ac8bb08a5-bulma_confined.min.css\"}],\"type\":\"async_block\"},\"id\":\"1800928353263303848\",\"handlers\":{\"changes\":[\"(function (val){return (val!=this.model[\\\"changes\\\"]()) ? (this.valueFromJulia[\\\"changes\\\"]=true, this.model[\\\"changes\\\"](val)) : undefined})\"],\"index\":[\"(function (val){return (val!=this.model[\\\"index\\\"]()) ? (this.valueFromJulia[\\\"index\\\"]=true, this.model[\\\"index\\\"](val)) : undefined})\"]},\"systemjs_options\":null,\"mount_callbacks\":[\"function () {\\n    var handler = (function (ko, koPunches) {\\n    ko.punches.enableAll();\\n    ko.bindingHandlers.numericValue = {\\n        init: function(element, valueAccessor, allBindings, data, context) {\\n            var stringified = ko.observable(ko.unwrap(valueAccessor()));\\n            stringified.subscribe(function(value) {\\n                var val = parseFloat(value);\\n                if (!isNaN(val)) {\\n                    valueAccessor()(val);\\n                }\\n            });\\n            valueAccessor().subscribe(function(value) {\\n                var str = JSON.stringify(value);\\n                if ((str == \\\"0\\\") && ([\\\"-0\\\", \\\"-0.\\\"].indexOf(stringified()) >= 0))\\n                     return;\\n                 if ([\\\"null\\\", \\\"\\\"].indexOf(str) >= 0)\\n                     return;\\n                stringified(str);\\n            });\\n            ko.applyBindingsToNode(\\n                element,\\n                {\\n                    value: stringified,\\n                    valueUpdate: allBindings.get('valueUpdate'),\\n                },\\n                context,\\n            );\\n        }\\n    };\\n    var json_data = {\\\"formatted_vals\\\":[\\\"0.1\\\",\\\"0.11\\\",\\\"0.12\\\",\\\"0.13\\\",\\\"0.14\\\",\\\"0.15\\\",\\\"0.16\\\",\\\"0.17\\\",\\\"0.18\\\",\\\"0.19\\\",\\\"0.2\\\",\\\"0.21\\\",\\\"0.22\\\",\\\"0.23\\\",\\\"0.24\\\",\\\"0.25\\\",\\\"0.26\\\",\\\"0.27\\\",\\\"0.28\\\",\\\"0.29\\\",\\\"0.3\\\",\\\"0.31\\\",\\\"0.32\\\",\\\"0.33\\\",\\\"0.34\\\",\\\"0.35\\\",\\\"0.36\\\",\\\"0.37\\\",\\\"0.38\\\",\\\"0.39\\\",\\\"0.4\\\",\\\"0.41\\\",\\\"0.42\\\",\\\"0.43\\\",\\\"0.44\\\",\\\"0.45\\\",\\\"0.46\\\",\\\"0.47\\\",\\\"0.48\\\",\\\"0.49\\\",\\\"0.5\\\",\\\"0.51\\\",\\\"0.52\\\",\\\"0.53\\\",\\\"0.54\\\",\\\"0.55\\\",\\\"0.56\\\",\\\"0.57\\\",\\\"0.58\\\",\\\"0.59\\\",\\\"0.6\\\",\\\"0.61\\\",\\\"0.62\\\",\\\"0.63\\\",\\\"0.64\\\",\\\"0.65\\\",\\\"0.66\\\",\\\"0.67\\\",\\\"0.68\\\",\\\"0.69\\\",\\\"0.7\\\",\\\"0.71\\\",\\\"0.72\\\",\\\"0.73\\\",\\\"0.74\\\",\\\"0.75\\\",\\\"0.76\\\",\\\"0.77\\\",\\\"0.78\\\",\\\"0.79\\\",\\\"0.8\\\",\\\"0.81\\\",\\\"0.82\\\",\\\"0.83\\\",\\\"0.84\\\",\\\"0.85\\\",\\\"0.86\\\",\\\"0.87\\\",\\\"0.88\\\",\\\"0.89\\\",\\\"0.9\\\",\\\"0.91\\\",\\\"0.92\\\",\\\"0.93\\\",\\\"0.94\\\",\\\"0.95\\\",\\\"0.96\\\",\\\"0.97\\\",\\\"0.98\\\",\\\"0.99\\\",\\\"1.0\\\",\\\"1.01\\\",\\\"1.02\\\",\\\"1.03\\\",\\\"1.04\\\",\\\"1.05\\\",\\\"1.06\\\",\\\"1.07\\\",\\\"1.08\\\",\\\"1.09\\\",\\\"1.1\\\",\\\"1.11\\\",\\\"1.12\\\",\\\"1.13\\\",\\\"1.14\\\",\\\"1.15\\\",\\\"1.16\\\",\\\"1.17\\\",\\\"1.18\\\",\\\"1.19\\\",\\\"1.2\\\",\\\"1.21\\\",\\\"1.22\\\",\\\"1.23\\\",\\\"1.24\\\",\\\"1.25\\\",\\\"1.26\\\",\\\"1.27\\\",\\\"1.28\\\",\\\"1.29\\\",\\\"1.3\\\",\\\"1.31\\\",\\\"1.32\\\",\\\"1.33\\\",\\\"1.34\\\",\\\"1.35\\\",\\\"1.36\\\",\\\"1.37\\\",\\\"1.38\\\",\\\"1.39\\\",\\\"1.4\\\",\\\"1.41\\\",\\\"1.42\\\",\\\"1.43\\\",\\\"1.44\\\",\\\"1.45\\\",\\\"1.46\\\",\\\"1.47\\\",\\\"1.48\\\",\\\"1.49\\\",\\\"1.5\\\",\\\"1.51\\\",\\\"1.52\\\",\\\"1.53\\\",\\\"1.54\\\",\\\"1.55\\\",\\\"1.56\\\",\\\"1.57\\\",\\\"1.58\\\",\\\"1.59\\\",\\\"1.6\\\",\\\"1.61\\\",\\\"1.62\\\",\\\"1.63\\\",\\\"1.64\\\",\\\"1.65\\\",\\\"1.66\\\",\\\"1.67\\\",\\\"1.68\\\",\\\"1.69\\\",\\\"1.7\\\",\\\"1.71\\\",\\\"1.72\\\",\\\"1.73\\\",\\\"1.74\\\",\\\"1.75\\\",\\\"1.76\\\",\\\"1.77\\\",\\\"1.78\\\",\\\"1.79\\\",\\\"1.8\\\",\\\"1.81\\\",\\\"1.82\\\",\\\"1.83\\\",\\\"1.84\\\",\\\"1.85\\\",\\\"1.86\\\",\\\"1.87\\\",\\\"1.88\\\",\\\"1.89\\\",\\\"1.9\\\",\\\"1.91\\\",\\\"1.92\\\",\\\"1.93\\\",\\\"1.94\\\",\\\"1.95\\\",\\\"1.96\\\",\\\"1.97\\\",\\\"1.98\\\",\\\"1.99\\\",\\\"2.0\\\"],\\\"changes\\\":WebIO.getval({\\\"name\\\":\\\"changes\\\",\\\"scope\\\":\\\"1800928353263303848\\\",\\\"id\\\":\\\"ob_45\\\",\\\"type\\\":\\\"observable\\\"}),\\\"index\\\":WebIO.getval({\\\"name\\\":\\\"index\\\",\\\"scope\\\":\\\"1800928353263303848\\\",\\\"id\\\":\\\"ob_44\\\",\\\"type\\\":\\\"observable\\\"})};\\n    var self = this;\\n    function AppViewModel() {\\n        for (var key in json_data) {\\n            var el = json_data[key];\\n            this[key] = Array.isArray(el) ? ko.observableArray(el) : ko.observable(el);\\n        }\\n        \\n        [this[\\\"formatted_val\\\"]=ko.computed(    function(){\\n        return this.formatted_vals()[parseInt(this.index())-(1)];\\n    }\\n,this)]\\n        [this[\\\"changes\\\"].subscribe((function (val){!(this.valueFromJulia[\\\"changes\\\"]) ? (WebIO.setval({\\\"name\\\":\\\"changes\\\",\\\"scope\\\":\\\"1800928353263303848\\\",\\\"id\\\":\\\"ob_45\\\",\\\"type\\\":\\\"observable\\\"},val)) : undefined; return this.valueFromJulia[\\\"changes\\\"]=false}),self),this[\\\"index\\\"].subscribe((function (val){!(this.valueFromJulia[\\\"index\\\"]) ? (WebIO.setval({\\\"name\\\":\\\"index\\\",\\\"scope\\\":\\\"1800928353263303848\\\",\\\"id\\\":\\\"ob_44\\\",\\\"type\\\":\\\"observable\\\"},val)) : undefined; return this.valueFromJulia[\\\"index\\\"]=false}),self)]\\n        \\n    }\\n    self.model = new AppViewModel();\\n    self.valueFromJulia = {};\\n    for (var key in json_data) {\\n        self.valueFromJulia[key] = false;\\n    }\\n    ko.applyBindings(self.model, self.dom);\\n}\\n);\\n    (WebIO.importBlock({\\\"data\\\":[{\\\"name\\\":\\\"knockout\\\",\\\"type\\\":\\\"js\\\",\\\"url\\\":\\\"\\/assetserver\\/acf0924a365e010bf6a3eb46a136f582bb3d7da4-knockout.js\\\"},{\\\"name\\\":\\\"knockout_punches\\\",\\\"type\\\":\\\"js\\\",\\\"url\\\":\\\"\\/assetserver\\/5ea3afb6d7dd7ccff78b8ae481a9e30e62bf0288-knockout_punches.js\\\"}],\\\"type\\\":\\\"async_block\\\"})).then((imports) => handler.apply(this, imports));\\n}\\n\"],\"observables\":{\"changes\":{\"sync\":false,\"id\":\"ob_45\",\"value\":0},\"index\":{\"sync\":true,\"id\":\"ob_44\",\"value\":71}}},\"children\":[{\"props\":{\"className\":\"interact-flex-row interact-widget\"},\"nodeType\":\"DOM\",\"type\":\"node\",\"instanceArgs\":{\"namespace\":\"html\",\"tag\":\"div\"},\"children\":[{\"props\":{\"className\":\"interact-flex-row-left\"},\"nodeType\":\"DOM\",\"type\":\"node\",\"instanceArgs\":{\"namespace\":\"html\",\"tag\":\"div\"},\"children\":[{\"props\":{\"className\":\"interact \",\"style\":{\"padding\":\"5px 10px 0px 10px\"}},\"nodeType\":\"DOM\",\"type\":\"node\",\"instanceArgs\":{\"namespace\":\"html\",\"tag\":\"label\"},\"children\":[\"α12\"]}]},{\"props\":{\"className\":\"interact-flex-row-center\"},\"nodeType\":\"DOM\",\"type\":\"node\",\"instanceArgs\":{\"namespace\":\"html\",\"tag\":\"div\"},\"children\":[{\"props\":{\"max\":191,\"min\":1,\"attributes\":{\"type\":\"range\",\"data-bind\":\"numericValue: index, valueUpdate: 'input', event: {change: function (){this.changes(this.changes()+1)}}\",\"orient\":\"horizontal\"},\"step\":1,\"className\":\"slider slider is-fullwidth\",\"style\":{}},\"nodeType\":\"DOM\",\"type\":\"node\",\"instanceArgs\":{\"namespace\":\"html\",\"tag\":\"input\"},\"children\":[]}]},{\"props\":{\"className\":\"interact-flex-row-right\"},\"nodeType\":\"DOM\",\"type\":\"node\",\"instanceArgs\":{\"namespace\":\"html\",\"tag\":\"div\"},\"children\":[{\"props\":{\"attributes\":{\"data-bind\":\"text: formatted_val\"}},\"nodeType\":\"DOM\",\"type\":\"node\",\"instanceArgs\":{\"namespace\":\"html\",\"tag\":\"p\"},\"children\":[]}]}]}]}]},{\"props\":{\"className\":\"field interact-widget\"},\"nodeType\":\"DOM\",\"type\":\"node\",\"instanceArgs\":{\"namespace\":\"html\",\"tag\":\"div\"},\"children\":[{\"props\":{},\"nodeType\":\"Scope\",\"type\":\"node\",\"instanceArgs\":{\"imports\":{\"data\":[{\"name\":\"knockout\",\"type\":\"js\",\"url\":\"\\/assetserver\\/acf0924a365e010bf6a3eb46a136f582bb3d7da4-knockout.js\"},{\"name\":\"knockout_punches\",\"type\":\"js\",\"url\":\"\\/assetserver\\/5ea3afb6d7dd7ccff78b8ae481a9e30e62bf0288-knockout_punches.js\"},{\"name\":null,\"type\":\"js\",\"url\":\"\\/assetserver\\/203a4ea09144c577795449fdf0a4f24f8980ee5c-all.js\"},{\"name\":null,\"type\":\"css\",\"url\":\"\\/assetserver\\/36431373a4cd66cfad626b36ea93570e5a68faba-style.css\"},{\"name\":null,\"type\":\"css\",\"url\":\"\\/assetserver\\/081949f489b194aeef4b21cd890d5b3ac8bb08a5-bulma_confined.min.css\"}],\"type\":\"async_block\"},\"id\":\"17684240501038199874\",\"handlers\":{\"changes\":[\"(function (val){return (val!=this.model[\\\"changes\\\"]()) ? (this.valueFromJulia[\\\"changes\\\"]=true, this.model[\\\"changes\\\"](val)) : undefined})\"],\"index\":[\"(function (val){return (val!=this.model[\\\"index\\\"]()) ? (this.valueFromJulia[\\\"index\\\"]=true, this.model[\\\"index\\\"](val)) : undefined})\"]},\"systemjs_options\":null,\"mount_callbacks\":[\"function () {\\n    var handler = (function (ko, koPunches) {\\n    ko.punches.enableAll();\\n    ko.bindingHandlers.numericValue = {\\n        init: function(element, valueAccessor, allBindings, data, context) {\\n            var stringified = ko.observable(ko.unwrap(valueAccessor()));\\n            stringified.subscribe(function(value) {\\n                var val = parseFloat(value);\\n                if (!isNaN(val)) {\\n                    valueAccessor()(val);\\n                }\\n            });\\n            valueAccessor().subscribe(function(value) {\\n                var str = JSON.stringify(value);\\n                if ((str == \\\"0\\\") && ([\\\"-0\\\", \\\"-0.\\\"].indexOf(stringified()) >= 0))\\n                     return;\\n                 if ([\\\"null\\\", \\\"\\\"].indexOf(str) >= 0)\\n                     return;\\n                stringified(str);\\n            });\\n            ko.applyBindingsToNode(\\n                element,\\n                {\\n                    value: stringified,\\n                    valueUpdate: allBindings.get('valueUpdate'),\\n                },\\n                context,\\n            );\\n        }\\n    };\\n    var json_data = {\\\"formatted_vals\\\":[\\\"0.1\\\",\\\"0.11\\\",\\\"0.12\\\",\\\"0.13\\\",\\\"0.14\\\",\\\"0.15\\\",\\\"0.16\\\",\\\"0.17\\\",\\\"0.18\\\",\\\"0.19\\\",\\\"0.2\\\",\\\"0.21\\\",\\\"0.22\\\",\\\"0.23\\\",\\\"0.24\\\",\\\"0.25\\\",\\\"0.26\\\",\\\"0.27\\\",\\\"0.28\\\",\\\"0.29\\\",\\\"0.3\\\",\\\"0.31\\\",\\\"0.32\\\",\\\"0.33\\\",\\\"0.34\\\",\\\"0.35\\\",\\\"0.36\\\",\\\"0.37\\\",\\\"0.38\\\",\\\"0.39\\\",\\\"0.4\\\",\\\"0.41\\\",\\\"0.42\\\",\\\"0.43\\\",\\\"0.44\\\",\\\"0.45\\\",\\\"0.46\\\",\\\"0.47\\\",\\\"0.48\\\",\\\"0.49\\\",\\\"0.5\\\",\\\"0.51\\\",\\\"0.52\\\",\\\"0.53\\\",\\\"0.54\\\",\\\"0.55\\\",\\\"0.56\\\",\\\"0.57\\\",\\\"0.58\\\",\\\"0.59\\\",\\\"0.6\\\",\\\"0.61\\\",\\\"0.62\\\",\\\"0.63\\\",\\\"0.64\\\",\\\"0.65\\\",\\\"0.66\\\",\\\"0.67\\\",\\\"0.68\\\",\\\"0.69\\\",\\\"0.7\\\",\\\"0.71\\\",\\\"0.72\\\",\\\"0.73\\\",\\\"0.74\\\",\\\"0.75\\\",\\\"0.76\\\",\\\"0.77\\\",\\\"0.78\\\",\\\"0.79\\\",\\\"0.8\\\",\\\"0.81\\\",\\\"0.82\\\",\\\"0.83\\\",\\\"0.84\\\",\\\"0.85\\\",\\\"0.86\\\",\\\"0.87\\\",\\\"0.88\\\",\\\"0.89\\\",\\\"0.9\\\",\\\"0.91\\\",\\\"0.92\\\",\\\"0.93\\\",\\\"0.94\\\",\\\"0.95\\\",\\\"0.96\\\",\\\"0.97\\\",\\\"0.98\\\",\\\"0.99\\\",\\\"1.0\\\",\\\"1.01\\\",\\\"1.02\\\",\\\"1.03\\\",\\\"1.04\\\",\\\"1.05\\\",\\\"1.06\\\",\\\"1.07\\\",\\\"1.08\\\",\\\"1.09\\\",\\\"1.1\\\",\\\"1.11\\\",\\\"1.12\\\",\\\"1.13\\\",\\\"1.14\\\",\\\"1.15\\\",\\\"1.16\\\",\\\"1.17\\\",\\\"1.18\\\",\\\"1.19\\\",\\\"1.2\\\",\\\"1.21\\\",\\\"1.22\\\",\\\"1.23\\\",\\\"1.24\\\",\\\"1.25\\\",\\\"1.26\\\",\\\"1.27\\\",\\\"1.28\\\",\\\"1.29\\\",\\\"1.3\\\",\\\"1.31\\\",\\\"1.32\\\",\\\"1.33\\\",\\\"1.34\\\",\\\"1.35\\\",\\\"1.36\\\",\\\"1.37\\\",\\\"1.38\\\",\\\"1.39\\\",\\\"1.4\\\",\\\"1.41\\\",\\\"1.42\\\",\\\"1.43\\\",\\\"1.44\\\",\\\"1.45\\\",\\\"1.46\\\",\\\"1.47\\\",\\\"1.48\\\",\\\"1.49\\\",\\\"1.5\\\",\\\"1.51\\\",\\\"1.52\\\",\\\"1.53\\\",\\\"1.54\\\",\\\"1.55\\\",\\\"1.56\\\",\\\"1.57\\\",\\\"1.58\\\",\\\"1.59\\\",\\\"1.6\\\",\\\"1.61\\\",\\\"1.62\\\",\\\"1.63\\\",\\\"1.64\\\",\\\"1.65\\\",\\\"1.66\\\",\\\"1.67\\\",\\\"1.68\\\",\\\"1.69\\\",\\\"1.7\\\",\\\"1.71\\\",\\\"1.72\\\",\\\"1.73\\\",\\\"1.74\\\",\\\"1.75\\\",\\\"1.76\\\",\\\"1.77\\\",\\\"1.78\\\",\\\"1.79\\\",\\\"1.8\\\",\\\"1.81\\\",\\\"1.82\\\",\\\"1.83\\\",\\\"1.84\\\",\\\"1.85\\\",\\\"1.86\\\",\\\"1.87\\\",\\\"1.88\\\",\\\"1.89\\\",\\\"1.9\\\",\\\"1.91\\\",\\\"1.92\\\",\\\"1.93\\\",\\\"1.94\\\",\\\"1.95\\\",\\\"1.96\\\",\\\"1.97\\\",\\\"1.98\\\",\\\"1.99\\\",\\\"2.0\\\"],\\\"changes\\\":WebIO.getval({\\\"name\\\":\\\"changes\\\",\\\"scope\\\":\\\"17684240501038199874\\\",\\\"id\\\":\\\"ob_48\\\",\\\"type\\\":\\\"observable\\\"}),\\\"index\\\":WebIO.getval({\\\"name\\\":\\\"index\\\",\\\"scope\\\":\\\"17684240501038199874\\\",\\\"id\\\":\\\"ob_47\\\",\\\"type\\\":\\\"observable\\\"})};\\n    var self = this;\\n    function AppViewModel() {\\n        for (var key in json_data) {\\n            var el = json_data[key];\\n            this[key] = Array.isArray(el) ? ko.observableArray(el) : ko.observable(el);\\n        }\\n        \\n        [this[\\\"formatted_val\\\"]=ko.computed(    function(){\\n        return this.formatted_vals()[parseInt(this.index())-(1)];\\n    }\\n,this)]\\n        [this[\\\"changes\\\"].subscribe((function (val){!(this.valueFromJulia[\\\"changes\\\"]) ? (WebIO.setval({\\\"name\\\":\\\"changes\\\",\\\"scope\\\":\\\"17684240501038199874\\\",\\\"id\\\":\\\"ob_48\\\",\\\"type\\\":\\\"observable\\\"},val)) : undefined; return this.valueFromJulia[\\\"changes\\\"]=false}),self),this[\\\"index\\\"].subscribe((function (val){!(this.valueFromJulia[\\\"index\\\"]) ? (WebIO.setval({\\\"name\\\":\\\"index\\\",\\\"scope\\\":\\\"17684240501038199874\\\",\\\"id\\\":\\\"ob_47\\\",\\\"type\\\":\\\"observable\\\"},val)) : undefined; return this.valueFromJulia[\\\"index\\\"]=false}),self)]\\n        \\n    }\\n    self.model = new AppViewModel();\\n    self.valueFromJulia = {};\\n    for (var key in json_data) {\\n        self.valueFromJulia[key] = false;\\n    }\\n    ko.applyBindings(self.model, self.dom);\\n}\\n);\\n    (WebIO.importBlock({\\\"data\\\":[{\\\"name\\\":\\\"knockout\\\",\\\"type\\\":\\\"js\\\",\\\"url\\\":\\\"\\/assetserver\\/acf0924a365e010bf6a3eb46a136f582bb3d7da4-knockout.js\\\"},{\\\"name\\\":\\\"knockout_punches\\\",\\\"type\\\":\\\"js\\\",\\\"url\\\":\\\"\\/assetserver\\/5ea3afb6d7dd7ccff78b8ae481a9e30e62bf0288-knockout_punches.js\\\"}],\\\"type\\\":\\\"async_block\\\"})).then((imports) => handler.apply(this, imports));\\n}\\n\"],\"observables\":{\"changes\":{\"sync\":false,\"id\":\"ob_48\",\"value\":0},\"index\":{\"sync\":true,\"id\":\"ob_47\",\"value\":21}}},\"children\":[{\"props\":{\"className\":\"interact-flex-row interact-widget\"},\"nodeType\":\"DOM\",\"type\":\"node\",\"instanceArgs\":{\"namespace\":\"html\",\"tag\":\"div\"},\"children\":[{\"props\":{\"className\":\"interact-flex-row-left\"},\"nodeType\":\"DOM\",\"type\":\"node\",\"instanceArgs\":{\"namespace\":\"html\",\"tag\":\"div\"},\"children\":[{\"props\":{\"className\":\"interact \",\"style\":{\"padding\":\"5px 10px 0px 10px\"}},\"nodeType\":\"DOM\",\"type\":\"node\",\"instanceArgs\":{\"namespace\":\"html\",\"tag\":\"label\"},\"children\":[\"α21\"]}]},{\"props\":{\"className\":\"interact-flex-row-center\"},\"nodeType\":\"DOM\",\"type\":\"node\",\"instanceArgs\":{\"namespace\":\"html\",\"tag\":\"div\"},\"children\":[{\"props\":{\"max\":191,\"min\":1,\"attributes\":{\"type\":\"range\",\"data-bind\":\"numericValue: index, valueUpdate: 'input', event: {change: function (){this.changes(this.changes()+1)}}\",\"orient\":\"horizontal\"},\"step\":1,\"className\":\"slider slider is-fullwidth\",\"style\":{}},\"nodeType\":\"DOM\",\"type\":\"node\",\"instanceArgs\":{\"namespace\":\"html\",\"tag\":\"input\"},\"children\":[]}]},{\"props\":{\"className\":\"interact-flex-row-right\"},\"nodeType\":\"DOM\",\"type\":\"node\",\"instanceArgs\":{\"namespace\":\"html\",\"tag\":\"div\"},\"children\":[{\"props\":{\"attributes\":{\"data-bind\":\"text: formatted_val\"}},\"nodeType\":\"DOM\",\"type\":\"node\",\"instanceArgs\":{\"namespace\":\"html\",\"tag\":\"p\"},\"children\":[]}]}]}]}]},{\"props\":{\"className\":\"field interact-widget\"},\"nodeType\":\"DOM\",\"type\":\"node\",\"instanceArgs\":{\"namespace\":\"html\",\"tag\":\"div\"},\"children\":[{\"props\":{},\"nodeType\":\"Scope\",\"type\":\"node\",\"instanceArgs\":{\"imports\":{\"data\":[{\"name\":\"knockout\",\"type\":\"js\",\"url\":\"\\/assetserver\\/acf0924a365e010bf6a3eb46a136f582bb3d7da4-knockout.js\"},{\"name\":\"knockout_punches\",\"type\":\"js\",\"url\":\"\\/assetserver\\/5ea3afb6d7dd7ccff78b8ae481a9e30e62bf0288-knockout_punches.js\"},{\"name\":null,\"type\":\"js\",\"url\":\"\\/assetserver\\/203a4ea09144c577795449fdf0a4f24f8980ee5c-all.js\"},{\"name\":null,\"type\":\"css\",\"url\":\"\\/assetserver\\/36431373a4cd66cfad626b36ea93570e5a68faba-style.css\"},{\"name\":null,\"type\":\"css\",\"url\":\"\\/assetserver\\/081949f489b194aeef4b21cd890d5b3ac8bb08a5-bulma_confined.min.css\"}],\"type\":\"async_block\"},\"id\":\"16955282998197289645\",\"handlers\":{\"changes\":[\"(function (val){return (val!=this.model[\\\"changes\\\"]()) ? (this.valueFromJulia[\\\"changes\\\"]=true, this.model[\\\"changes\\\"](val)) : undefined})\"],\"index\":[\"(function (val){return (val!=this.model[\\\"index\\\"]()) ? (this.valueFromJulia[\\\"index\\\"]=true, this.model[\\\"index\\\"](val)) : undefined})\"]},\"systemjs_options\":null,\"mount_callbacks\":[\"function () {\\n    var handler = (function (ko, koPunches) {\\n    ko.punches.enableAll();\\n    ko.bindingHandlers.numericValue = {\\n        init: function(element, valueAccessor, allBindings, data, context) {\\n            var stringified = ko.observable(ko.unwrap(valueAccessor()));\\n            stringified.subscribe(function(value) {\\n                var val = parseFloat(value);\\n                if (!isNaN(val)) {\\n                    valueAccessor()(val);\\n                }\\n            });\\n            valueAccessor().subscribe(function(value) {\\n                var str = JSON.stringify(value);\\n                if ((str == \\\"0\\\") && ([\\\"-0\\\", \\\"-0.\\\"].indexOf(stringified()) >= 0))\\n                     return;\\n                 if ([\\\"null\\\", \\\"\\\"].indexOf(str) >= 0)\\n                     return;\\n                stringified(str);\\n            });\\n            ko.applyBindingsToNode(\\n                element,\\n                {\\n                    value: stringified,\\n                    valueUpdate: allBindings.get('valueUpdate'),\\n                },\\n                context,\\n            );\\n        }\\n    };\\n    var json_data = {\\\"formatted_vals\\\":[\\\"0.1\\\",\\\"0.11\\\",\\\"0.12\\\",\\\"0.13\\\",\\\"0.14\\\",\\\"0.15\\\",\\\"0.16\\\",\\\"0.17\\\",\\\"0.18\\\",\\\"0.19\\\",\\\"0.2\\\",\\\"0.21\\\",\\\"0.22\\\",\\\"0.23\\\",\\\"0.24\\\",\\\"0.25\\\",\\\"0.26\\\",\\\"0.27\\\",\\\"0.28\\\",\\\"0.29\\\",\\\"0.3\\\",\\\"0.31\\\",\\\"0.32\\\",\\\"0.33\\\",\\\"0.34\\\",\\\"0.35\\\",\\\"0.36\\\",\\\"0.37\\\",\\\"0.38\\\",\\\"0.39\\\",\\\"0.4\\\",\\\"0.41\\\",\\\"0.42\\\",\\\"0.43\\\",\\\"0.44\\\",\\\"0.45\\\",\\\"0.46\\\",\\\"0.47\\\",\\\"0.48\\\",\\\"0.49\\\",\\\"0.5\\\",\\\"0.51\\\",\\\"0.52\\\",\\\"0.53\\\",\\\"0.54\\\",\\\"0.55\\\",\\\"0.56\\\",\\\"0.57\\\",\\\"0.58\\\",\\\"0.59\\\",\\\"0.6\\\",\\\"0.61\\\",\\\"0.62\\\",\\\"0.63\\\",\\\"0.64\\\",\\\"0.65\\\",\\\"0.66\\\",\\\"0.67\\\",\\\"0.68\\\",\\\"0.69\\\",\\\"0.7\\\",\\\"0.71\\\",\\\"0.72\\\",\\\"0.73\\\",\\\"0.74\\\",\\\"0.75\\\",\\\"0.76\\\",\\\"0.77\\\",\\\"0.78\\\",\\\"0.79\\\",\\\"0.8\\\",\\\"0.81\\\",\\\"0.82\\\",\\\"0.83\\\",\\\"0.84\\\",\\\"0.85\\\",\\\"0.86\\\",\\\"0.87\\\",\\\"0.88\\\",\\\"0.89\\\",\\\"0.9\\\",\\\"0.91\\\",\\\"0.92\\\",\\\"0.93\\\",\\\"0.94\\\",\\\"0.95\\\",\\\"0.96\\\",\\\"0.97\\\",\\\"0.98\\\",\\\"0.99\\\",\\\"1.0\\\",\\\"1.01\\\",\\\"1.02\\\",\\\"1.03\\\",\\\"1.04\\\",\\\"1.05\\\",\\\"1.06\\\",\\\"1.07\\\",\\\"1.08\\\",\\\"1.09\\\",\\\"1.1\\\",\\\"1.11\\\",\\\"1.12\\\",\\\"1.13\\\",\\\"1.14\\\",\\\"1.15\\\",\\\"1.16\\\",\\\"1.17\\\",\\\"1.18\\\",\\\"1.19\\\",\\\"1.2\\\",\\\"1.21\\\",\\\"1.22\\\",\\\"1.23\\\",\\\"1.24\\\",\\\"1.25\\\",\\\"1.26\\\",\\\"1.27\\\",\\\"1.28\\\",\\\"1.29\\\",\\\"1.3\\\",\\\"1.31\\\",\\\"1.32\\\",\\\"1.33\\\",\\\"1.34\\\",\\\"1.35\\\",\\\"1.36\\\",\\\"1.37\\\",\\\"1.38\\\",\\\"1.39\\\",\\\"1.4\\\",\\\"1.41\\\",\\\"1.42\\\",\\\"1.43\\\",\\\"1.44\\\",\\\"1.45\\\",\\\"1.46\\\",\\\"1.47\\\",\\\"1.48\\\",\\\"1.49\\\",\\\"1.5\\\",\\\"1.51\\\",\\\"1.52\\\",\\\"1.53\\\",\\\"1.54\\\",\\\"1.55\\\",\\\"1.56\\\",\\\"1.57\\\",\\\"1.58\\\",\\\"1.59\\\",\\\"1.6\\\",\\\"1.61\\\",\\\"1.62\\\",\\\"1.63\\\",\\\"1.64\\\",\\\"1.65\\\",\\\"1.66\\\",\\\"1.67\\\",\\\"1.68\\\",\\\"1.69\\\",\\\"1.7\\\",\\\"1.71\\\",\\\"1.72\\\",\\\"1.73\\\",\\\"1.74\\\",\\\"1.75\\\",\\\"1.76\\\",\\\"1.77\\\",\\\"1.78\\\",\\\"1.79\\\",\\\"1.8\\\",\\\"1.81\\\",\\\"1.82\\\",\\\"1.83\\\",\\\"1.84\\\",\\\"1.85\\\",\\\"1.86\\\",\\\"1.87\\\",\\\"1.88\\\",\\\"1.89\\\",\\\"1.9\\\",\\\"1.91\\\",\\\"1.92\\\",\\\"1.93\\\",\\\"1.94\\\",\\\"1.95\\\",\\\"1.96\\\",\\\"1.97\\\",\\\"1.98\\\",\\\"1.99\\\",\\\"2.0\\\",\\\"2.01\\\",\\\"2.02\\\",\\\"2.03\\\",\\\"2.04\\\",\\\"2.05\\\",\\\"2.06\\\",\\\"2.07\\\",\\\"2.08\\\",\\\"2.09\\\",\\\"2.1\\\",\\\"2.11\\\",\\\"2.12\\\",\\\"2.13\\\",\\\"2.14\\\",\\\"2.15\\\",\\\"2.16\\\",\\\"2.17\\\",\\\"2.18\\\",\\\"2.19\\\",\\\"2.2\\\",\\\"2.21\\\",\\\"2.22\\\",\\\"2.23\\\",\\\"2.24\\\",\\\"2.25\\\",\\\"2.26\\\",\\\"2.27\\\",\\\"2.28\\\",\\\"2.29\\\",\\\"2.3\\\",\\\"2.31\\\",\\\"2.32\\\",\\\"2.33\\\",\\\"2.34\\\",\\\"2.35\\\",\\\"2.36\\\",\\\"2.37\\\",\\\"2.38\\\",\\\"2.39\\\",\\\"2.4\\\",\\\"2.41\\\",\\\"2.42\\\",\\\"2.43\\\",\\\"2.44\\\",\\\"2.45\\\",\\\"2.46\\\",\\\"2.47\\\",\\\"2.48\\\",\\\"2.49\\\",\\\"2.5\\\",\\\"2.51\\\",\\\"2.52\\\",\\\"2.53\\\",\\\"2.54\\\",\\\"2.55\\\",\\\"2.56\\\",\\\"2.57\\\",\\\"2.58\\\",\\\"2.59\\\",\\\"2.6\\\",\\\"2.61\\\",\\\"2.62\\\",\\\"2.63\\\",\\\"2.64\\\",\\\"2.65\\\",\\\"2.66\\\",\\\"2.67\\\",\\\"2.68\\\",\\\"2.69\\\",\\\"2.7\\\",\\\"2.71\\\",\\\"2.72\\\",\\\"2.73\\\",\\\"2.74\\\",\\\"2.75\\\",\\\"2.76\\\",\\\"2.77\\\",\\\"2.78\\\",\\\"2.79\\\",\\\"2.8\\\",\\\"2.81\\\",\\\"2.82\\\",\\\"2.83\\\",\\\"2.84\\\",\\\"2.85\\\",\\\"2.86\\\",\\\"2.87\\\",\\\"2.88\\\",\\\"2.89\\\",\\\"2.9\\\",\\\"2.91\\\",\\\"2.92\\\",\\\"2.93\\\",\\\"2.94\\\",\\\"2.95\\\",\\\"2.96\\\",\\\"2.97\\\",\\\"2.98\\\",\\\"2.99\\\",\\\"3.0\\\"],\\\"changes\\\":WebIO.getval({\\\"name\\\":\\\"changes\\\",\\\"scope\\\":\\\"16955282998197289645\\\",\\\"id\\\":\\\"ob_51\\\",\\\"type\\\":\\\"observable\\\"}),\\\"index\\\":WebIO.getval({\\\"name\\\":\\\"index\\\",\\\"scope\\\":\\\"16955282998197289645\\\",\\\"id\\\":\\\"ob_50\\\",\\\"type\\\":\\\"observable\\\"})};\\n    var self = this;\\n    function AppViewModel() {\\n        for (var key in json_data) {\\n            var el = json_data[key];\\n            this[key] = Array.isArray(el) ? ko.observableArray(el) : ko.observable(el);\\n        }\\n        \\n        [this[\\\"formatted_val\\\"]=ko.computed(    function(){\\n        return this.formatted_vals()[parseInt(this.index())-(1)];\\n    }\\n,this)]\\n        [this[\\\"changes\\\"].subscribe((function (val){!(this.valueFromJulia[\\\"changes\\\"]) ? (WebIO.setval({\\\"name\\\":\\\"changes\\\",\\\"scope\\\":\\\"16955282998197289645\\\",\\\"id\\\":\\\"ob_51\\\",\\\"type\\\":\\\"observable\\\"},val)) : undefined; return this.valueFromJulia[\\\"changes\\\"]=false}),self),this[\\\"index\\\"].subscribe((function (val){!(this.valueFromJulia[\\\"index\\\"]) ? (WebIO.setval({\\\"name\\\":\\\"index\\\",\\\"scope\\\":\\\"16955282998197289645\\\",\\\"id\\\":\\\"ob_50\\\",\\\"type\\\":\\\"observable\\\"},val)) : undefined; return this.valueFromJulia[\\\"index\\\"]=false}),self)]\\n        \\n    }\\n    self.model = new AppViewModel();\\n    self.valueFromJulia = {};\\n    for (var key in json_data) {\\n        self.valueFromJulia[key] = false;\\n    }\\n    ko.applyBindings(self.model, self.dom);\\n}\\n);\\n    (WebIO.importBlock({\\\"data\\\":[{\\\"name\\\":\\\"knockout\\\",\\\"type\\\":\\\"js\\\",\\\"url\\\":\\\"\\/assetserver\\/acf0924a365e010bf6a3eb46a136f582bb3d7da4-knockout.js\\\"},{\\\"name\\\":\\\"knockout_punches\\\",\\\"type\\\":\\\"js\\\",\\\"url\\\":\\\"\\/assetserver\\/5ea3afb6d7dd7ccff78b8ae481a9e30e62bf0288-knockout_punches.js\\\"}],\\\"type\\\":\\\"async_block\\\"})).then((imports) => handler.apply(this, imports));\\n}\\n\"],\"observables\":{\"changes\":{\"sync\":false,\"id\":\"ob_51\",\"value\":0},\"index\":{\"sync\":true,\"id\":\"ob_50\",\"value\":141}}},\"children\":[{\"props\":{\"className\":\"interact-flex-row interact-widget\"},\"nodeType\":\"DOM\",\"type\":\"node\",\"instanceArgs\":{\"namespace\":\"html\",\"tag\":\"div\"},\"children\":[{\"props\":{\"className\":\"interact-flex-row-left\"},\"nodeType\":\"DOM\",\"type\":\"node\",\"instanceArgs\":{\"namespace\":\"html\",\"tag\":\"div\"},\"children\":[{\"props\":{\"className\":\"interact \",\"style\":{\"padding\":\"5px 10px 0px 10px\"}},\"nodeType\":\"DOM\",\"type\":\"node\",\"instanceArgs\":{\"namespace\":\"html\",\"tag\":\"label\"},\"children\":[\"K1\"]}]},{\"props\":{\"className\":\"interact-flex-row-center\"},\"nodeType\":\"DOM\",\"type\":\"node\",\"instanceArgs\":{\"namespace\":\"html\",\"tag\":\"div\"},\"children\":[{\"props\":{\"max\":291,\"min\":1,\"attributes\":{\"type\":\"range\",\"data-bind\":\"numericValue: index, valueUpdate: 'input', event: {change: function (){this.changes(this.changes()+1)}}\",\"orient\":\"horizontal\"},\"step\":1,\"className\":\"slider slider is-fullwidth\",\"style\":{}},\"nodeType\":\"DOM\",\"type\":\"node\",\"instanceArgs\":{\"namespace\":\"html\",\"tag\":\"input\"},\"children\":[]}]},{\"props\":{\"className\":\"interact-flex-row-right\"},\"nodeType\":\"DOM\",\"type\":\"node\",\"instanceArgs\":{\"namespace\":\"html\",\"tag\":\"div\"},\"children\":[{\"props\":{\"attributes\":{\"data-bind\":\"text: formatted_val\"}},\"nodeType\":\"DOM\",\"type\":\"node\",\"instanceArgs\":{\"namespace\":\"html\",\"tag\":\"p\"},\"children\":[]}]}]}]}]},{\"props\":{\"className\":\"field interact-widget\"},\"nodeType\":\"DOM\",\"type\":\"node\",\"instanceArgs\":{\"namespace\":\"html\",\"tag\":\"div\"},\"children\":[{\"props\":{},\"nodeType\":\"Scope\",\"type\":\"node\",\"instanceArgs\":{\"imports\":{\"data\":[{\"name\":\"knockout\",\"type\":\"js\",\"url\":\"\\/assetserver\\/acf0924a365e010bf6a3eb46a136f582bb3d7da4-knockout.js\"},{\"name\":\"knockout_punches\",\"type\":\"js\",\"url\":\"\\/assetserver\\/5ea3afb6d7dd7ccff78b8ae481a9e30e62bf0288-knockout_punches.js\"},{\"name\":null,\"type\":\"js\",\"url\":\"\\/assetserver\\/203a4ea09144c577795449fdf0a4f24f8980ee5c-all.js\"},{\"name\":null,\"type\":\"css\",\"url\":\"\\/assetserver\\/36431373a4cd66cfad626b36ea93570e5a68faba-style.css\"},{\"name\":null,\"type\":\"css\",\"url\":\"\\/assetserver\\/081949f489b194aeef4b21cd890d5b3ac8bb08a5-bulma_confined.min.css\"}],\"type\":\"async_block\"},\"id\":\"8811060909830195705\",\"handlers\":{\"changes\":[\"(function (val){return (val!=this.model[\\\"changes\\\"]()) ? (this.valueFromJulia[\\\"changes\\\"]=true, this.model[\\\"changes\\\"](val)) : undefined})\"],\"index\":[\"(function (val){return (val!=this.model[\\\"index\\\"]()) ? (this.valueFromJulia[\\\"index\\\"]=true, this.model[\\\"index\\\"](val)) : undefined})\"]},\"systemjs_options\":null,\"mount_callbacks\":[\"function () {\\n    var handler = (function (ko, koPunches) {\\n    ko.punches.enableAll();\\n    ko.bindingHandlers.numericValue = {\\n        init: function(element, valueAccessor, allBindings, data, context) {\\n            var stringified = ko.observable(ko.unwrap(valueAccessor()));\\n            stringified.subscribe(function(value) {\\n                var val = parseFloat(value);\\n                if (!isNaN(val)) {\\n                    valueAccessor()(val);\\n                }\\n            });\\n            valueAccessor().subscribe(function(value) {\\n                var str = JSON.stringify(value);\\n                if ((str == \\\"0\\\") && ([\\\"-0\\\", \\\"-0.\\\"].indexOf(stringified()) >= 0))\\n                     return;\\n                 if ([\\\"null\\\", \\\"\\\"].indexOf(str) >= 0)\\n                     return;\\n                stringified(str);\\n            });\\n            ko.applyBindingsToNode(\\n                element,\\n                {\\n                    value: stringified,\\n                    valueUpdate: allBindings.get('valueUpdate'),\\n                },\\n                context,\\n            );\\n        }\\n    };\\n    var json_data = {\\\"formatted_vals\\\":[\\\"0.1\\\",\\\"0.11\\\",\\\"0.12\\\",\\\"0.13\\\",\\\"0.14\\\",\\\"0.15\\\",\\\"0.16\\\",\\\"0.17\\\",\\\"0.18\\\",\\\"0.19\\\",\\\"0.2\\\",\\\"0.21\\\",\\\"0.22\\\",\\\"0.23\\\",\\\"0.24\\\",\\\"0.25\\\",\\\"0.26\\\",\\\"0.27\\\",\\\"0.28\\\",\\\"0.29\\\",\\\"0.3\\\",\\\"0.31\\\",\\\"0.32\\\",\\\"0.33\\\",\\\"0.34\\\",\\\"0.35\\\",\\\"0.36\\\",\\\"0.37\\\",\\\"0.38\\\",\\\"0.39\\\",\\\"0.4\\\",\\\"0.41\\\",\\\"0.42\\\",\\\"0.43\\\",\\\"0.44\\\",\\\"0.45\\\",\\\"0.46\\\",\\\"0.47\\\",\\\"0.48\\\",\\\"0.49\\\",\\\"0.5\\\",\\\"0.51\\\",\\\"0.52\\\",\\\"0.53\\\",\\\"0.54\\\",\\\"0.55\\\",\\\"0.56\\\",\\\"0.57\\\",\\\"0.58\\\",\\\"0.59\\\",\\\"0.6\\\",\\\"0.61\\\",\\\"0.62\\\",\\\"0.63\\\",\\\"0.64\\\",\\\"0.65\\\",\\\"0.66\\\",\\\"0.67\\\",\\\"0.68\\\",\\\"0.69\\\",\\\"0.7\\\",\\\"0.71\\\",\\\"0.72\\\",\\\"0.73\\\",\\\"0.74\\\",\\\"0.75\\\",\\\"0.76\\\",\\\"0.77\\\",\\\"0.78\\\",\\\"0.79\\\",\\\"0.8\\\",\\\"0.81\\\",\\\"0.82\\\",\\\"0.83\\\",\\\"0.84\\\",\\\"0.85\\\",\\\"0.86\\\",\\\"0.87\\\",\\\"0.88\\\",\\\"0.89\\\",\\\"0.9\\\",\\\"0.91\\\",\\\"0.92\\\",\\\"0.93\\\",\\\"0.94\\\",\\\"0.95\\\",\\\"0.96\\\",\\\"0.97\\\",\\\"0.98\\\",\\\"0.99\\\",\\\"1.0\\\",\\\"1.01\\\",\\\"1.02\\\",\\\"1.03\\\",\\\"1.04\\\",\\\"1.05\\\",\\\"1.06\\\",\\\"1.07\\\",\\\"1.08\\\",\\\"1.09\\\",\\\"1.1\\\",\\\"1.11\\\",\\\"1.12\\\",\\\"1.13\\\",\\\"1.14\\\",\\\"1.15\\\",\\\"1.16\\\",\\\"1.17\\\",\\\"1.18\\\",\\\"1.19\\\",\\\"1.2\\\",\\\"1.21\\\",\\\"1.22\\\",\\\"1.23\\\",\\\"1.24\\\",\\\"1.25\\\",\\\"1.26\\\",\\\"1.27\\\",\\\"1.28\\\",\\\"1.29\\\",\\\"1.3\\\",\\\"1.31\\\",\\\"1.32\\\",\\\"1.33\\\",\\\"1.34\\\",\\\"1.35\\\",\\\"1.36\\\",\\\"1.37\\\",\\\"1.38\\\",\\\"1.39\\\",\\\"1.4\\\",\\\"1.41\\\",\\\"1.42\\\",\\\"1.43\\\",\\\"1.44\\\",\\\"1.45\\\",\\\"1.46\\\",\\\"1.47\\\",\\\"1.48\\\",\\\"1.49\\\",\\\"1.5\\\",\\\"1.51\\\",\\\"1.52\\\",\\\"1.53\\\",\\\"1.54\\\",\\\"1.55\\\",\\\"1.56\\\",\\\"1.57\\\",\\\"1.58\\\",\\\"1.59\\\",\\\"1.6\\\",\\\"1.61\\\",\\\"1.62\\\",\\\"1.63\\\",\\\"1.64\\\",\\\"1.65\\\",\\\"1.66\\\",\\\"1.67\\\",\\\"1.68\\\",\\\"1.69\\\",\\\"1.7\\\",\\\"1.71\\\",\\\"1.72\\\",\\\"1.73\\\",\\\"1.74\\\",\\\"1.75\\\",\\\"1.76\\\",\\\"1.77\\\",\\\"1.78\\\",\\\"1.79\\\",\\\"1.8\\\",\\\"1.81\\\",\\\"1.82\\\",\\\"1.83\\\",\\\"1.84\\\",\\\"1.85\\\",\\\"1.86\\\",\\\"1.87\\\",\\\"1.88\\\",\\\"1.89\\\",\\\"1.9\\\",\\\"1.91\\\",\\\"1.92\\\",\\\"1.93\\\",\\\"1.94\\\",\\\"1.95\\\",\\\"1.96\\\",\\\"1.97\\\",\\\"1.98\\\",\\\"1.99\\\",\\\"2.0\\\",\\\"2.01\\\",\\\"2.02\\\",\\\"2.03\\\",\\\"2.04\\\",\\\"2.05\\\",\\\"2.06\\\",\\\"2.07\\\",\\\"2.08\\\",\\\"2.09\\\",\\\"2.1\\\",\\\"2.11\\\",\\\"2.12\\\",\\\"2.13\\\",\\\"2.14\\\",\\\"2.15\\\",\\\"2.16\\\",\\\"2.17\\\",\\\"2.18\\\",\\\"2.19\\\",\\\"2.2\\\",\\\"2.21\\\",\\\"2.22\\\",\\\"2.23\\\",\\\"2.24\\\",\\\"2.25\\\",\\\"2.26\\\",\\\"2.27\\\",\\\"2.28\\\",\\\"2.29\\\",\\\"2.3\\\",\\\"2.31\\\",\\\"2.32\\\",\\\"2.33\\\",\\\"2.34\\\",\\\"2.35\\\",\\\"2.36\\\",\\\"2.37\\\",\\\"2.38\\\",\\\"2.39\\\",\\\"2.4\\\",\\\"2.41\\\",\\\"2.42\\\",\\\"2.43\\\",\\\"2.44\\\",\\\"2.45\\\",\\\"2.46\\\",\\\"2.47\\\",\\\"2.48\\\",\\\"2.49\\\",\\\"2.5\\\",\\\"2.51\\\",\\\"2.52\\\",\\\"2.53\\\",\\\"2.54\\\",\\\"2.55\\\",\\\"2.56\\\",\\\"2.57\\\",\\\"2.58\\\",\\\"2.59\\\",\\\"2.6\\\",\\\"2.61\\\",\\\"2.62\\\",\\\"2.63\\\",\\\"2.64\\\",\\\"2.65\\\",\\\"2.66\\\",\\\"2.67\\\",\\\"2.68\\\",\\\"2.69\\\",\\\"2.7\\\",\\\"2.71\\\",\\\"2.72\\\",\\\"2.73\\\",\\\"2.74\\\",\\\"2.75\\\",\\\"2.76\\\",\\\"2.77\\\",\\\"2.78\\\",\\\"2.79\\\",\\\"2.8\\\",\\\"2.81\\\",\\\"2.82\\\",\\\"2.83\\\",\\\"2.84\\\",\\\"2.85\\\",\\\"2.86\\\",\\\"2.87\\\",\\\"2.88\\\",\\\"2.89\\\",\\\"2.9\\\",\\\"2.91\\\",\\\"2.92\\\",\\\"2.93\\\",\\\"2.94\\\",\\\"2.95\\\",\\\"2.96\\\",\\\"2.97\\\",\\\"2.98\\\",\\\"2.99\\\",\\\"3.0\\\"],\\\"changes\\\":WebIO.getval({\\\"name\\\":\\\"changes\\\",\\\"scope\\\":\\\"8811060909830195705\\\",\\\"id\\\":\\\"ob_54\\\",\\\"type\\\":\\\"observable\\\"}),\\\"index\\\":WebIO.getval({\\\"name\\\":\\\"index\\\",\\\"scope\\\":\\\"8811060909830195705\\\",\\\"id\\\":\\\"ob_53\\\",\\\"type\\\":\\\"observable\\\"})};\\n    var self = this;\\n    function AppViewModel() {\\n        for (var key in json_data) {\\n            var el = json_data[key];\\n            this[key] = Array.isArray(el) ? ko.observableArray(el) : ko.observable(el);\\n        }\\n        \\n        [this[\\\"formatted_val\\\"]=ko.computed(    function(){\\n        return this.formatted_vals()[parseInt(this.index())-(1)];\\n    }\\n,this)]\\n        [this[\\\"changes\\\"].subscribe((function (val){!(this.valueFromJulia[\\\"changes\\\"]) ? (WebIO.setval({\\\"name\\\":\\\"changes\\\",\\\"scope\\\":\\\"8811060909830195705\\\",\\\"id\\\":\\\"ob_54\\\",\\\"type\\\":\\\"observable\\\"},val)) : undefined; return this.valueFromJulia[\\\"changes\\\"]=false}),self),this[\\\"index\\\"].subscribe((function (val){!(this.valueFromJulia[\\\"index\\\"]) ? (WebIO.setval({\\\"name\\\":\\\"index\\\",\\\"scope\\\":\\\"8811060909830195705\\\",\\\"id\\\":\\\"ob_53\\\",\\\"type\\\":\\\"observable\\\"},val)) : undefined; return this.valueFromJulia[\\\"index\\\"]=false}),self)]\\n        \\n    }\\n    self.model = new AppViewModel();\\n    self.valueFromJulia = {};\\n    for (var key in json_data) {\\n        self.valueFromJulia[key] = false;\\n    }\\n    ko.applyBindings(self.model, self.dom);\\n}\\n);\\n    (WebIO.importBlock({\\\"data\\\":[{\\\"name\\\":\\\"knockout\\\",\\\"type\\\":\\\"js\\\",\\\"url\\\":\\\"\\/assetserver\\/acf0924a365e010bf6a3eb46a136f582bb3d7da4-knockout.js\\\"},{\\\"name\\\":\\\"knockout_punches\\\",\\\"type\\\":\\\"js\\\",\\\"url\\\":\\\"\\/assetserver\\/5ea3afb6d7dd7ccff78b8ae481a9e30e62bf0288-knockout_punches.js\\\"}],\\\"type\\\":\\\"async_block\\\"})).then((imports) => handler.apply(this, imports));\\n}\\n\"],\"observables\":{\"changes\":{\"sync\":false,\"id\":\"ob_54\",\"value\":0},\"index\":{\"sync\":true,\"id\":\"ob_53\",\"value\":91}}},\"children\":[{\"props\":{\"className\":\"interact-flex-row interact-widget\"},\"nodeType\":\"DOM\",\"type\":\"node\",\"instanceArgs\":{\"namespace\":\"html\",\"tag\":\"div\"},\"children\":[{\"props\":{\"className\":\"interact-flex-row-left\"},\"nodeType\":\"DOM\",\"type\":\"node\",\"instanceArgs\":{\"namespace\":\"html\",\"tag\":\"div\"},\"children\":[{\"props\":{\"className\":\"interact \",\"style\":{\"padding\":\"5px 10px 0px 10px\"}},\"nodeType\":\"DOM\",\"type\":\"node\",\"instanceArgs\":{\"namespace\":\"html\",\"tag\":\"label\"},\"children\":[\"K2\"]}]},{\"props\":{\"className\":\"interact-flex-row-center\"},\"nodeType\":\"DOM\",\"type\":\"node\",\"instanceArgs\":{\"namespace\":\"html\",\"tag\":\"div\"},\"children\":[{\"props\":{\"max\":291,\"min\":1,\"attributes\":{\"type\":\"range\",\"data-bind\":\"numericValue: index, valueUpdate: 'input', event: {change: function (){this.changes(this.changes()+1)}}\",\"orient\":\"horizontal\"},\"step\":1,\"className\":\"slider slider is-fullwidth\",\"style\":{}},\"nodeType\":\"DOM\",\"type\":\"node\",\"instanceArgs\":{\"namespace\":\"html\",\"tag\":\"input\"},\"children\":[]}]},{\"props\":{\"className\":\"interact-flex-row-right\"},\"nodeType\":\"DOM\",\"type\":\"node\",\"instanceArgs\":{\"namespace\":\"html\",\"tag\":\"div\"},\"children\":[{\"props\":{\"attributes\":{\"data-bind\":\"text: formatted_val\"}},\"nodeType\":\"DOM\",\"type\":\"node\",\"instanceArgs\":{\"namespace\":\"html\",\"tag\":\"p\"},\"children\":[]}]}]}]}]},{\"props\":{\"className\":\"field interact-widget\"},\"nodeType\":\"DOM\",\"type\":\"node\",\"instanceArgs\":{\"namespace\":\"html\",\"tag\":\"div\"},\"children\":[{\"props\":{},\"nodeType\":\"Scope\",\"type\":\"node\",\"instanceArgs\":{\"imports\":{\"data\":[{\"name\":\"knockout\",\"type\":\"js\",\"url\":\"\\/assetserver\\/acf0924a365e010bf6a3eb46a136f582bb3d7da4-knockout.js\"},{\"name\":\"knockout_punches\",\"type\":\"js\",\"url\":\"\\/assetserver\\/5ea3afb6d7dd7ccff78b8ae481a9e30e62bf0288-knockout_punches.js\"},{\"name\":null,\"type\":\"js\",\"url\":\"\\/assetserver\\/203a4ea09144c577795449fdf0a4f24f8980ee5c-all.js\"},{\"name\":null,\"type\":\"css\",\"url\":\"\\/assetserver\\/36431373a4cd66cfad626b36ea93570e5a68faba-style.css\"},{\"name\":null,\"type\":\"css\",\"url\":\"\\/assetserver\\/081949f489b194aeef4b21cd890d5b3ac8bb08a5-bulma_confined.min.css\"}],\"type\":\"async_block\"},\"id\":\"13559480925185307429\",\"handlers\":{\"changes\":[\"(function (val){return (val!=this.model[\\\"changes\\\"]()) ? (this.valueFromJulia[\\\"changes\\\"]=true, this.model[\\\"changes\\\"](val)) : undefined})\"],\"index\":[\"(function (val){return (val!=this.model[\\\"index\\\"]()) ? (this.valueFromJulia[\\\"index\\\"]=true, this.model[\\\"index\\\"](val)) : undefined})\"]},\"systemjs_options\":null,\"mount_callbacks\":[\"function () {\\n    var handler = (function (ko, koPunches) {\\n    ko.punches.enableAll();\\n    ko.bindingHandlers.numericValue = {\\n        init: function(element, valueAccessor, allBindings, data, context) {\\n            var stringified = ko.observable(ko.unwrap(valueAccessor()));\\n            stringified.subscribe(function(value) {\\n                var val = parseFloat(value);\\n                if (!isNaN(val)) {\\n                    valueAccessor()(val);\\n                }\\n            });\\n            valueAccessor().subscribe(function(value) {\\n                var str = JSON.stringify(value);\\n                if ((str == \\\"0\\\") && ([\\\"-0\\\", \\\"-0.\\\"].indexOf(stringified()) >= 0))\\n                     return;\\n                 if ([\\\"null\\\", \\\"\\\"].indexOf(str) >= 0)\\n                     return;\\n                stringified(str);\\n            });\\n            ko.applyBindingsToNode(\\n                element,\\n                {\\n                    value: stringified,\\n                    valueUpdate: allBindings.get('valueUpdate'),\\n                },\\n                context,\\n            );\\n        }\\n    };\\n    var json_data = {\\\"formatted_vals\\\":[\\\"0.1\\\",\\\"0.11\\\",\\\"0.12\\\",\\\"0.13\\\",\\\"0.14\\\",\\\"0.15\\\",\\\"0.16\\\",\\\"0.17\\\",\\\"0.18\\\",\\\"0.19\\\",\\\"0.2\\\",\\\"0.21\\\",\\\"0.22\\\",\\\"0.23\\\",\\\"0.24\\\",\\\"0.25\\\",\\\"0.26\\\",\\\"0.27\\\",\\\"0.28\\\",\\\"0.29\\\",\\\"0.3\\\",\\\"0.31\\\",\\\"0.32\\\",\\\"0.33\\\",\\\"0.34\\\",\\\"0.35\\\",\\\"0.36\\\",\\\"0.37\\\",\\\"0.38\\\",\\\"0.39\\\",\\\"0.4\\\",\\\"0.41\\\",\\\"0.42\\\",\\\"0.43\\\",\\\"0.44\\\",\\\"0.45\\\",\\\"0.46\\\",\\\"0.47\\\",\\\"0.48\\\",\\\"0.49\\\",\\\"0.5\\\",\\\"0.51\\\",\\\"0.52\\\",\\\"0.53\\\",\\\"0.54\\\",\\\"0.55\\\",\\\"0.56\\\",\\\"0.57\\\",\\\"0.58\\\",\\\"0.59\\\",\\\"0.6\\\",\\\"0.61\\\",\\\"0.62\\\",\\\"0.63\\\",\\\"0.64\\\",\\\"0.65\\\",\\\"0.66\\\",\\\"0.67\\\",\\\"0.68\\\",\\\"0.69\\\",\\\"0.7\\\",\\\"0.71\\\",\\\"0.72\\\",\\\"0.73\\\",\\\"0.74\\\",\\\"0.75\\\",\\\"0.76\\\",\\\"0.77\\\",\\\"0.78\\\",\\\"0.79\\\",\\\"0.8\\\",\\\"0.81\\\",\\\"0.82\\\",\\\"0.83\\\",\\\"0.84\\\",\\\"0.85\\\",\\\"0.86\\\",\\\"0.87\\\",\\\"0.88\\\",\\\"0.89\\\",\\\"0.9\\\",\\\"0.91\\\",\\\"0.92\\\",\\\"0.93\\\",\\\"0.94\\\",\\\"0.95\\\",\\\"0.96\\\",\\\"0.97\\\",\\\"0.98\\\",\\\"0.99\\\",\\\"1.0\\\",\\\"1.01\\\",\\\"1.02\\\",\\\"1.03\\\",\\\"1.04\\\",\\\"1.05\\\",\\\"1.06\\\",\\\"1.07\\\",\\\"1.08\\\",\\\"1.09\\\",\\\"1.1\\\",\\\"1.11\\\",\\\"1.12\\\",\\\"1.13\\\",\\\"1.14\\\",\\\"1.15\\\",\\\"1.16\\\",\\\"1.17\\\",\\\"1.18\\\",\\\"1.19\\\",\\\"1.2\\\",\\\"1.21\\\",\\\"1.22\\\",\\\"1.23\\\",\\\"1.24\\\",\\\"1.25\\\",\\\"1.26\\\",\\\"1.27\\\",\\\"1.28\\\",\\\"1.29\\\",\\\"1.3\\\",\\\"1.31\\\",\\\"1.32\\\",\\\"1.33\\\",\\\"1.34\\\",\\\"1.35\\\",\\\"1.36\\\",\\\"1.37\\\",\\\"1.38\\\",\\\"1.39\\\",\\\"1.4\\\",\\\"1.41\\\",\\\"1.42\\\",\\\"1.43\\\",\\\"1.44\\\",\\\"1.45\\\",\\\"1.46\\\",\\\"1.47\\\",\\\"1.48\\\",\\\"1.49\\\",\\\"1.5\\\",\\\"1.51\\\",\\\"1.52\\\",\\\"1.53\\\",\\\"1.54\\\",\\\"1.55\\\",\\\"1.56\\\",\\\"1.57\\\",\\\"1.58\\\",\\\"1.59\\\",\\\"1.6\\\",\\\"1.61\\\",\\\"1.62\\\",\\\"1.63\\\",\\\"1.64\\\",\\\"1.65\\\",\\\"1.66\\\",\\\"1.67\\\",\\\"1.68\\\",\\\"1.69\\\",\\\"1.7\\\",\\\"1.71\\\",\\\"1.72\\\",\\\"1.73\\\",\\\"1.74\\\",\\\"1.75\\\",\\\"1.76\\\",\\\"1.77\\\",\\\"1.78\\\",\\\"1.79\\\",\\\"1.8\\\",\\\"1.81\\\",\\\"1.82\\\",\\\"1.83\\\",\\\"1.84\\\",\\\"1.85\\\",\\\"1.86\\\",\\\"1.87\\\",\\\"1.88\\\",\\\"1.89\\\",\\\"1.9\\\",\\\"1.91\\\",\\\"1.92\\\",\\\"1.93\\\",\\\"1.94\\\",\\\"1.95\\\",\\\"1.96\\\",\\\"1.97\\\",\\\"1.98\\\",\\\"1.99\\\",\\\"2.0\\\",\\\"2.01\\\",\\\"2.02\\\",\\\"2.03\\\",\\\"2.04\\\",\\\"2.05\\\",\\\"2.06\\\",\\\"2.07\\\",\\\"2.08\\\",\\\"2.09\\\",\\\"2.1\\\",\\\"2.11\\\",\\\"2.12\\\",\\\"2.13\\\",\\\"2.14\\\",\\\"2.15\\\",\\\"2.16\\\",\\\"2.17\\\",\\\"2.18\\\",\\\"2.19\\\",\\\"2.2\\\",\\\"2.21\\\",\\\"2.22\\\",\\\"2.23\\\",\\\"2.24\\\",\\\"2.25\\\",\\\"2.26\\\",\\\"2.27\\\",\\\"2.28\\\",\\\"2.29\\\",\\\"2.3\\\",\\\"2.31\\\",\\\"2.32\\\",\\\"2.33\\\",\\\"2.34\\\",\\\"2.35\\\",\\\"2.36\\\",\\\"2.37\\\",\\\"2.38\\\",\\\"2.39\\\",\\\"2.4\\\",\\\"2.41\\\",\\\"2.42\\\",\\\"2.43\\\",\\\"2.44\\\",\\\"2.45\\\",\\\"2.46\\\",\\\"2.47\\\",\\\"2.48\\\",\\\"2.49\\\",\\\"2.5\\\",\\\"2.51\\\",\\\"2.52\\\",\\\"2.53\\\",\\\"2.54\\\",\\\"2.55\\\",\\\"2.56\\\",\\\"2.57\\\",\\\"2.58\\\",\\\"2.59\\\",\\\"2.6\\\",\\\"2.61\\\",\\\"2.62\\\",\\\"2.63\\\",\\\"2.64\\\",\\\"2.65\\\",\\\"2.66\\\",\\\"2.67\\\",\\\"2.68\\\",\\\"2.69\\\",\\\"2.7\\\",\\\"2.71\\\",\\\"2.72\\\",\\\"2.73\\\",\\\"2.74\\\",\\\"2.75\\\",\\\"2.76\\\",\\\"2.77\\\",\\\"2.78\\\",\\\"2.79\\\",\\\"2.8\\\",\\\"2.81\\\",\\\"2.82\\\",\\\"2.83\\\",\\\"2.84\\\",\\\"2.85\\\",\\\"2.86\\\",\\\"2.87\\\",\\\"2.88\\\",\\\"2.89\\\",\\\"2.9\\\",\\\"2.91\\\",\\\"2.92\\\",\\\"2.93\\\",\\\"2.94\\\",\\\"2.95\\\",\\\"2.96\\\",\\\"2.97\\\",\\\"2.98\\\",\\\"2.99\\\",\\\"3.0\\\",\\\"3.01\\\",\\\"3.02\\\",\\\"3.03\\\",\\\"3.04\\\",\\\"3.05\\\",\\\"3.06\\\",\\\"3.07\\\",\\\"3.08\\\",\\\"3.09\\\",\\\"3.1\\\",\\\"3.11\\\",\\\"3.12\\\",\\\"3.13\\\",\\\"3.14\\\",\\\"3.15\\\",\\\"3.16\\\",\\\"3.17\\\",\\\"3.18\\\",\\\"3.19\\\",\\\"3.2\\\",\\\"3.21\\\",\\\"3.22\\\",\\\"3.23\\\",\\\"3.24\\\",\\\"3.25\\\",\\\"3.26\\\",\\\"3.27\\\",\\\"3.28\\\",\\\"3.29\\\",\\\"3.3\\\",\\\"3.31\\\",\\\"3.32\\\",\\\"3.33\\\",\\\"3.34\\\",\\\"3.35\\\",\\\"3.36\\\",\\\"3.37\\\",\\\"3.38\\\",\\\"3.39\\\",\\\"3.4\\\",\\\"3.41\\\",\\\"3.42\\\",\\\"3.43\\\",\\\"3.44\\\",\\\"3.45\\\",\\\"3.46\\\",\\\"3.47\\\",\\\"3.48\\\",\\\"3.49\\\",\\\"3.5\\\",\\\"3.51\\\",\\\"3.52\\\",\\\"3.53\\\",\\\"3.54\\\",\\\"3.55\\\",\\\"3.56\\\",\\\"3.57\\\",\\\"3.58\\\",\\\"3.59\\\",\\\"3.6\\\",\\\"3.61\\\",\\\"3.62\\\",\\\"3.63\\\",\\\"3.64\\\",\\\"3.65\\\",\\\"3.66\\\",\\\"3.67\\\",\\\"3.68\\\",\\\"3.69\\\",\\\"3.7\\\",\\\"3.71\\\",\\\"3.72\\\",\\\"3.73\\\",\\\"3.74\\\",\\\"3.75\\\",\\\"3.76\\\",\\\"3.77\\\",\\\"3.78\\\",\\\"3.79\\\",\\\"3.8\\\",\\\"3.81\\\",\\\"3.82\\\",\\\"3.83\\\",\\\"3.84\\\",\\\"3.85\\\",\\\"3.86\\\",\\\"3.87\\\",\\\"3.88\\\",\\\"3.89\\\",\\\"3.9\\\",\\\"3.91\\\",\\\"3.92\\\",\\\"3.93\\\",\\\"3.94\\\",\\\"3.95\\\",\\\"3.96\\\",\\\"3.97\\\",\\\"3.98\\\",\\\"3.99\\\",\\\"4.0\\\",\\\"4.01\\\",\\\"4.02\\\",\\\"4.03\\\",\\\"4.04\\\",\\\"4.05\\\",\\\"4.06\\\",\\\"4.07\\\",\\\"4.08\\\",\\\"4.09\\\",\\\"4.1\\\",\\\"4.11\\\",\\\"4.12\\\",\\\"4.13\\\",\\\"4.14\\\",\\\"4.15\\\",\\\"4.16\\\",\\\"4.17\\\",\\\"4.18\\\",\\\"4.19\\\",\\\"4.2\\\",\\\"4.21\\\",\\\"4.22\\\",\\\"4.23\\\",\\\"4.24\\\",\\\"4.25\\\",\\\"4.26\\\",\\\"4.27\\\",\\\"4.28\\\",\\\"4.29\\\",\\\"4.3\\\",\\\"4.31\\\",\\\"4.32\\\",\\\"4.33\\\",\\\"4.34\\\",\\\"4.35\\\",\\\"4.36\\\",\\\"4.37\\\",\\\"4.38\\\",\\\"4.39\\\",\\\"4.4\\\",\\\"4.41\\\",\\\"4.42\\\",\\\"4.43\\\",\\\"4.44\\\",\\\"4.45\\\",\\\"4.46\\\",\\\"4.47\\\",\\\"4.48\\\",\\\"4.49\\\",\\\"4.5\\\",\\\"4.51\\\",\\\"4.52\\\",\\\"4.53\\\",\\\"4.54\\\",\\\"4.55\\\",\\\"4.56\\\",\\\"4.57\\\",\\\"4.58\\\",\\\"4.59\\\",\\\"4.6\\\",\\\"4.61\\\",\\\"4.62\\\",\\\"4.63\\\",\\\"4.64\\\",\\\"4.65\\\",\\\"4.66\\\",\\\"4.67\\\",\\\"4.68\\\",\\\"4.69\\\",\\\"4.7\\\",\\\"4.71\\\",\\\"4.72\\\",\\\"4.73\\\",\\\"4.74\\\",\\\"4.75\\\",\\\"4.76\\\",\\\"4.77\\\",\\\"4.78\\\",\\\"4.79\\\",\\\"4.8\\\",\\\"4.81\\\",\\\"4.82\\\",\\\"4.83\\\",\\\"4.84\\\",\\\"4.85\\\",\\\"4.86\\\",\\\"4.87\\\",\\\"4.88\\\",\\\"4.89\\\",\\\"4.9\\\",\\\"4.91\\\",\\\"4.92\\\",\\\"4.93\\\",\\\"4.94\\\",\\\"4.95\\\",\\\"4.96\\\",\\\"4.97\\\",\\\"4.98\\\",\\\"4.99\\\",\\\"5.0\\\",\\\"5.01\\\",\\\"5.02\\\",\\\"5.03\\\",\\\"5.04\\\",\\\"5.05\\\",\\\"5.06\\\",\\\"5.07\\\",\\\"5.08\\\",\\\"5.09\\\",\\\"5.1\\\",\\\"5.11\\\",\\\"5.12\\\",\\\"5.13\\\",\\\"5.14\\\",\\\"5.15\\\",\\\"5.16\\\",\\\"5.17\\\",\\\"5.18\\\",\\\"5.19\\\",\\\"5.2\\\",\\\"5.21\\\",\\\"5.22\\\",\\\"5.23\\\",\\\"5.24\\\",\\\"5.25\\\",\\\"5.26\\\",\\\"5.27\\\",\\\"5.28\\\",\\\"5.29\\\",\\\"5.3\\\",\\\"5.31\\\",\\\"5.32\\\",\\\"5.33\\\",\\\"5.34\\\",\\\"5.35\\\",\\\"5.36\\\",\\\"5.37\\\",\\\"5.38\\\",\\\"5.39\\\",\\\"5.4\\\",\\\"5.41\\\",\\\"5.42\\\",\\\"5.43\\\",\\\"5.44\\\",\\\"5.45\\\",\\\"5.46\\\",\\\"5.47\\\",\\\"5.48\\\",\\\"5.49\\\",\\\"5.5\\\",\\\"5.51\\\",\\\"5.52\\\",\\\"5.53\\\",\\\"5.54\\\",\\\"5.55\\\",\\\"5.56\\\",\\\"5.57\\\",\\\"5.58\\\",\\\"5.59\\\",\\\"5.6\\\",\\\"5.61\\\",\\\"5.62\\\",\\\"5.63\\\",\\\"5.64\\\",\\\"5.65\\\",\\\"5.66\\\",\\\"5.67\\\",\\\"5.68\\\",\\\"5.69\\\",\\\"5.7\\\",\\\"5.71\\\",\\\"5.72\\\",\\\"5.73\\\",\\\"5.74\\\",\\\"5.75\\\",\\\"5.76\\\",\\\"5.77\\\",\\\"5.78\\\",\\\"5.79\\\",\\\"5.8\\\",\\\"5.81\\\",\\\"5.82\\\",\\\"5.83\\\",\\\"5.84\\\",\\\"5.85\\\",\\\"5.86\\\",\\\"5.87\\\",\\\"5.88\\\",\\\"5.89\\\",\\\"5.9\\\",\\\"5.91\\\",\\\"5.92\\\",\\\"5.93\\\",\\\"5.94\\\",\\\"5.95\\\",\\\"5.96\\\",\\\"5.97\\\",\\\"5.98\\\",\\\"5.99\\\",\\\"6.0\\\",\\\"6.01\\\",\\\"6.02\\\",\\\"6.03\\\",\\\"6.04\\\",\\\"6.05\\\",\\\"6.06\\\",\\\"6.07\\\",\\\"6.08\\\",\\\"6.09\\\",\\\"6.1\\\",\\\"6.11\\\",\\\"6.12\\\",\\\"6.13\\\",\\\"6.14\\\",\\\"6.15\\\",\\\"6.16\\\",\\\"6.17\\\",\\\"6.18\\\",\\\"6.19\\\",\\\"6.2\\\",\\\"6.21\\\",\\\"6.22\\\",\\\"6.23\\\",\\\"6.24\\\",\\\"6.25\\\",\\\"6.26\\\",\\\"6.27\\\",\\\"6.28\\\",\\\"6.29\\\",\\\"6.3\\\",\\\"6.31\\\",\\\"6.32\\\",\\\"6.33\\\",\\\"6.34\\\",\\\"6.35\\\",\\\"6.36\\\",\\\"6.37\\\",\\\"6.38\\\",\\\"6.39\\\",\\\"6.4\\\",\\\"6.41\\\",\\\"6.42\\\",\\\"6.43\\\",\\\"6.44\\\",\\\"6.45\\\",\\\"6.46\\\",\\\"6.47\\\",\\\"6.48\\\",\\\"6.49\\\",\\\"6.5\\\",\\\"6.51\\\",\\\"6.52\\\",\\\"6.53\\\",\\\"6.54\\\",\\\"6.55\\\",\\\"6.56\\\",\\\"6.57\\\",\\\"6.58\\\",\\\"6.59\\\",\\\"6.6\\\",\\\"6.61\\\",\\\"6.62\\\",\\\"6.63\\\",\\\"6.64\\\",\\\"6.65\\\",\\\"6.66\\\",\\\"6.67\\\",\\\"6.68\\\",\\\"6.69\\\",\\\"6.7\\\",\\\"6.71\\\",\\\"6.72\\\",\\\"6.73\\\",\\\"6.74\\\",\\\"6.75\\\",\\\"6.76\\\",\\\"6.77\\\",\\\"6.78\\\",\\\"6.79\\\",\\\"6.8\\\",\\\"6.81\\\",\\\"6.82\\\",\\\"6.83\\\",\\\"6.84\\\",\\\"6.85\\\",\\\"6.86\\\",\\\"6.87\\\",\\\"6.88\\\",\\\"6.89\\\",\\\"6.9\\\",\\\"6.91\\\",\\\"6.92\\\",\\\"6.93\\\",\\\"6.94\\\",\\\"6.95\\\",\\\"6.96\\\",\\\"6.97\\\",\\\"6.98\\\",\\\"6.99\\\",\\\"7.0\\\",\\\"7.01\\\",\\\"7.02\\\",\\\"7.03\\\",\\\"7.04\\\",\\\"7.05\\\",\\\"7.06\\\",\\\"7.07\\\",\\\"7.08\\\",\\\"7.09\\\",\\\"7.1\\\",\\\"7.11\\\",\\\"7.12\\\",\\\"7.13\\\",\\\"7.14\\\",\\\"7.15\\\",\\\"7.16\\\",\\\"7.17\\\",\\\"7.18\\\",\\\"7.19\\\",\\\"7.2\\\",\\\"7.21\\\",\\\"7.22\\\",\\\"7.23\\\",\\\"7.24\\\",\\\"7.25\\\",\\\"7.26\\\",\\\"7.27\\\",\\\"7.28\\\",\\\"7.29\\\",\\\"7.3\\\",\\\"7.31\\\",\\\"7.32\\\",\\\"7.33\\\",\\\"7.34\\\",\\\"7.35\\\",\\\"7.36\\\",\\\"7.37\\\",\\\"7.38\\\",\\\"7.39\\\",\\\"7.4\\\",\\\"7.41\\\",\\\"7.42\\\",\\\"7.43\\\",\\\"7.44\\\",\\\"7.45\\\",\\\"7.46\\\",\\\"7.47\\\",\\\"7.48\\\",\\\"7.49\\\",\\\"7.5\\\",\\\"7.51\\\",\\\"7.52\\\",\\\"7.53\\\",\\\"7.54\\\",\\\"7.55\\\",\\\"7.56\\\",\\\"7.57\\\",\\\"7.58\\\",\\\"7.59\\\",\\\"7.6\\\",\\\"7.61\\\",\\\"7.62\\\",\\\"7.63\\\",\\\"7.64\\\",\\\"7.65\\\",\\\"7.66\\\",\\\"7.67\\\",\\\"7.68\\\",\\\"7.69\\\",\\\"7.7\\\",\\\"7.71\\\",\\\"7.72\\\",\\\"7.73\\\",\\\"7.74\\\",\\\"7.75\\\",\\\"7.76\\\",\\\"7.77\\\",\\\"7.78\\\",\\\"7.79\\\",\\\"7.8\\\",\\\"7.81\\\",\\\"7.82\\\",\\\"7.83\\\",\\\"7.84\\\",\\\"7.85\\\",\\\"7.86\\\",\\\"7.87\\\",\\\"7.88\\\",\\\"7.89\\\",\\\"7.9\\\",\\\"7.91\\\",\\\"7.92\\\",\\\"7.93\\\",\\\"7.94\\\",\\\"7.95\\\",\\\"7.96\\\",\\\"7.97\\\",\\\"7.98\\\",\\\"7.99\\\",\\\"8.0\\\",\\\"8.01\\\",\\\"8.02\\\",\\\"8.03\\\",\\\"8.04\\\",\\\"8.05\\\",\\\"8.06\\\",\\\"8.07\\\",\\\"8.08\\\",\\\"8.09\\\",\\\"8.1\\\",\\\"8.11\\\",\\\"8.12\\\",\\\"8.13\\\",\\\"8.14\\\",\\\"8.15\\\",\\\"8.16\\\",\\\"8.17\\\",\\\"8.18\\\",\\\"8.19\\\",\\\"8.2\\\",\\\"8.21\\\",\\\"8.22\\\",\\\"8.23\\\",\\\"8.24\\\",\\\"8.25\\\",\\\"8.26\\\",\\\"8.27\\\",\\\"8.28\\\",\\\"8.29\\\",\\\"8.3\\\",\\\"8.31\\\",\\\"8.32\\\",\\\"8.33\\\",\\\"8.34\\\",\\\"8.35\\\",\\\"8.36\\\",\\\"8.37\\\",\\\"8.38\\\",\\\"8.39\\\",\\\"8.4\\\",\\\"8.41\\\",\\\"8.42\\\",\\\"8.43\\\",\\\"8.44\\\",\\\"8.45\\\",\\\"8.46\\\",\\\"8.47\\\",\\\"8.48\\\",\\\"8.49\\\",\\\"8.5\\\",\\\"8.51\\\",\\\"8.52\\\",\\\"8.53\\\",\\\"8.54\\\",\\\"8.55\\\",\\\"8.56\\\",\\\"8.57\\\",\\\"8.58\\\",\\\"8.59\\\",\\\"8.6\\\",\\\"8.61\\\",\\\"8.62\\\",\\\"8.63\\\",\\\"8.64\\\",\\\"8.65\\\",\\\"8.66\\\",\\\"8.67\\\",\\\"8.68\\\",\\\"8.69\\\",\\\"8.7\\\",\\\"8.71\\\",\\\"8.72\\\",\\\"8.73\\\",\\\"8.74\\\",\\\"8.75\\\",\\\"8.76\\\",\\\"8.77\\\",\\\"8.78\\\",\\\"8.79\\\",\\\"8.8\\\",\\\"8.81\\\",\\\"8.82\\\",\\\"8.83\\\",\\\"8.84\\\",\\\"8.85\\\",\\\"8.86\\\",\\\"8.87\\\",\\\"8.88\\\",\\\"8.89\\\",\\\"8.9\\\",\\\"8.91\\\",\\\"8.92\\\",\\\"8.93\\\",\\\"8.94\\\",\\\"8.95\\\",\\\"8.96\\\",\\\"8.97\\\",\\\"8.98\\\",\\\"8.99\\\",\\\"9.0\\\",\\\"9.01\\\",\\\"9.02\\\",\\\"9.03\\\",\\\"9.04\\\",\\\"9.05\\\",\\\"9.06\\\",\\\"9.07\\\",\\\"9.08\\\",\\\"9.09\\\",\\\"9.1\\\",\\\"9.11\\\",\\\"9.12\\\",\\\"9.13\\\",\\\"9.14\\\",\\\"9.15\\\",\\\"9.16\\\",\\\"9.17\\\",\\\"9.18\\\",\\\"9.19\\\",\\\"9.2\\\",\\\"9.21\\\",\\\"9.22\\\",\\\"9.23\\\",\\\"9.24\\\",\\\"9.25\\\",\\\"9.26\\\",\\\"9.27\\\",\\\"9.28\\\",\\\"9.29\\\",\\\"9.3\\\",\\\"9.31\\\",\\\"9.32\\\",\\\"9.33\\\",\\\"9.34\\\",\\\"9.35\\\",\\\"9.36\\\",\\\"9.37\\\",\\\"9.38\\\",\\\"9.39\\\",\\\"9.4\\\",\\\"9.41\\\",\\\"9.42\\\",\\\"9.43\\\",\\\"9.44\\\",\\\"9.45\\\",\\\"9.46\\\",\\\"9.47\\\",\\\"9.48\\\",\\\"9.49\\\",\\\"9.5\\\",\\\"9.51\\\",\\\"9.52\\\",\\\"9.53\\\",\\\"9.54\\\",\\\"9.55\\\",\\\"9.56\\\",\\\"9.57\\\",\\\"9.58\\\",\\\"9.59\\\",\\\"9.6\\\",\\\"9.61\\\",\\\"9.62\\\",\\\"9.63\\\",\\\"9.64\\\",\\\"9.65\\\",\\\"9.66\\\",\\\"9.67\\\",\\\"9.68\\\",\\\"9.69\\\",\\\"9.7\\\",\\\"9.71\\\",\\\"9.72\\\",\\\"9.73\\\",\\\"9.74\\\",\\\"9.75\\\",\\\"9.76\\\",\\\"9.77\\\",\\\"9.78\\\",\\\"9.79\\\",\\\"9.8\\\",\\\"9.81\\\",\\\"9.82\\\",\\\"9.83\\\",\\\"9.84\\\",\\\"9.85\\\",\\\"9.86\\\",\\\"9.87\\\",\\\"9.88\\\",\\\"9.89\\\",\\\"9.9\\\",\\\"9.91\\\",\\\"9.92\\\",\\\"9.93\\\",\\\"9.94\\\",\\\"9.95\\\",\\\"9.96\\\",\\\"9.97\\\",\\\"9.98\\\",\\\"9.99\\\",\\\"10.0\\\"],\\\"changes\\\":WebIO.getval({\\\"name\\\":\\\"changes\\\",\\\"scope\\\":\\\"13559480925185307429\\\",\\\"id\\\":\\\"ob_57\\\",\\\"type\\\":\\\"observable\\\"}),\\\"index\\\":WebIO.getval({\\\"name\\\":\\\"index\\\",\\\"scope\\\":\\\"13559480925185307429\\\",\\\"id\\\":\\\"ob_56\\\",\\\"type\\\":\\\"observable\\\"})};\\n    var self = this;\\n    function AppViewModel() {\\n        for (var key in json_data) {\\n            var el = json_data[key];\\n            this[key] = Array.isArray(el) ? ko.observableArray(el) : ko.observable(el);\\n        }\\n        \\n        [this[\\\"formatted_val\\\"]=ko.computed(    function(){\\n        return this.formatted_vals()[parseInt(this.index())-(1)];\\n    }\\n,this)]\\n        [this[\\\"changes\\\"].subscribe((function (val){!(this.valueFromJulia[\\\"changes\\\"]) ? (WebIO.setval({\\\"name\\\":\\\"changes\\\",\\\"scope\\\":\\\"13559480925185307429\\\",\\\"id\\\":\\\"ob_57\\\",\\\"type\\\":\\\"observable\\\"},val)) : undefined; return this.valueFromJulia[\\\"changes\\\"]=false}),self),this[\\\"index\\\"].subscribe((function (val){!(this.valueFromJulia[\\\"index\\\"]) ? (WebIO.setval({\\\"name\\\":\\\"index\\\",\\\"scope\\\":\\\"13559480925185307429\\\",\\\"id\\\":\\\"ob_56\\\",\\\"type\\\":\\\"observable\\\"},val)) : undefined; return this.valueFromJulia[\\\"index\\\"]=false}),self)]\\n        \\n    }\\n    self.model = new AppViewModel();\\n    self.valueFromJulia = {};\\n    for (var key in json_data) {\\n        self.valueFromJulia[key] = false;\\n    }\\n    ko.applyBindings(self.model, self.dom);\\n}\\n);\\n    (WebIO.importBlock({\\\"data\\\":[{\\\"name\\\":\\\"knockout\\\",\\\"type\\\":\\\"js\\\",\\\"url\\\":\\\"\\/assetserver\\/acf0924a365e010bf6a3eb46a136f582bb3d7da4-knockout.js\\\"},{\\\"name\\\":\\\"knockout_punches\\\",\\\"type\\\":\\\"js\\\",\\\"url\\\":\\\"\\/assetserver\\/5ea3afb6d7dd7ccff78b8ae481a9e30e62bf0288-knockout_punches.js\\\"}],\\\"type\\\":\\\"async_block\\\"})).then((imports) => handler.apply(this, imports));\\n}\\n\"],\"observables\":{\"changes\":{\"sync\":false,\"id\":\"ob_57\",\"value\":0},\"index\":{\"sync\":true,\"id\":\"ob_56\",\"value\":91}}},\"children\":[{\"props\":{\"className\":\"interact-flex-row interact-widget\"},\"nodeType\":\"DOM\",\"type\":\"node\",\"instanceArgs\":{\"namespace\":\"html\",\"tag\":\"div\"},\"children\":[{\"props\":{\"className\":\"interact-flex-row-left\"},\"nodeType\":\"DOM\",\"type\":\"node\",\"instanceArgs\":{\"namespace\":\"html\",\"tag\":\"div\"},\"children\":[{\"props\":{\"className\":\"interact \",\"style\":{\"padding\":\"5px 10px 0px 10px\"}},\"nodeType\":\"DOM\",\"type\":\"node\",\"instanceArgs\":{\"namespace\":\"html\",\"tag\":\"label\"},\"children\":[\"r1\"]}]},{\"props\":{\"className\":\"interact-flex-row-center\"},\"nodeType\":\"DOM\",\"type\":\"node\",\"instanceArgs\":{\"namespace\":\"html\",\"tag\":\"div\"},\"children\":[{\"props\":{\"max\":991,\"min\":1,\"attributes\":{\"type\":\"range\",\"data-bind\":\"numericValue: index, valueUpdate: 'input', event: {change: function (){this.changes(this.changes()+1)}}\",\"orient\":\"horizontal\"},\"step\":1,\"className\":\"slider slider is-fullwidth\",\"style\":{}},\"nodeType\":\"DOM\",\"type\":\"node\",\"instanceArgs\":{\"namespace\":\"html\",\"tag\":\"input\"},\"children\":[]}]},{\"props\":{\"className\":\"interact-flex-row-right\"},\"nodeType\":\"DOM\",\"type\":\"node\",\"instanceArgs\":{\"namespace\":\"html\",\"tag\":\"div\"},\"children\":[{\"props\":{\"attributes\":{\"data-bind\":\"text: formatted_val\"}},\"nodeType\":\"DOM\",\"type\":\"node\",\"instanceArgs\":{\"namespace\":\"html\",\"tag\":\"p\"},\"children\":[]}]}]}]}]},{\"props\":{\"className\":\"field interact-widget\"},\"nodeType\":\"DOM\",\"type\":\"node\",\"instanceArgs\":{\"namespace\":\"html\",\"tag\":\"div\"},\"children\":[{\"props\":{},\"nodeType\":\"Scope\",\"type\":\"node\",\"instanceArgs\":{\"imports\":{\"data\":[{\"name\":\"knockout\",\"type\":\"js\",\"url\":\"\\/assetserver\\/acf0924a365e010bf6a3eb46a136f582bb3d7da4-knockout.js\"},{\"name\":\"knockout_punches\",\"type\":\"js\",\"url\":\"\\/assetserver\\/5ea3afb6d7dd7ccff78b8ae481a9e30e62bf0288-knockout_punches.js\"},{\"name\":null,\"type\":\"js\",\"url\":\"\\/assetserver\\/203a4ea09144c577795449fdf0a4f24f8980ee5c-all.js\"},{\"name\":null,\"type\":\"css\",\"url\":\"\\/assetserver\\/36431373a4cd66cfad626b36ea93570e5a68faba-style.css\"},{\"name\":null,\"type\":\"css\",\"url\":\"\\/assetserver\\/081949f489b194aeef4b21cd890d5b3ac8bb08a5-bulma_confined.min.css\"}],\"type\":\"async_block\"},\"id\":\"16257199187827486630\",\"handlers\":{\"changes\":[\"(function (val){return (val!=this.model[\\\"changes\\\"]()) ? (this.valueFromJulia[\\\"changes\\\"]=true, this.model[\\\"changes\\\"](val)) : undefined})\"],\"index\":[\"(function (val){return (val!=this.model[\\\"index\\\"]()) ? (this.valueFromJulia[\\\"index\\\"]=true, this.model[\\\"index\\\"](val)) : undefined})\"]},\"systemjs_options\":null,\"mount_callbacks\":[\"function () {\\n    var handler = (function (ko, koPunches) {\\n    ko.punches.enableAll();\\n    ko.bindingHandlers.numericValue = {\\n        init: function(element, valueAccessor, allBindings, data, context) {\\n            var stringified = ko.observable(ko.unwrap(valueAccessor()));\\n            stringified.subscribe(function(value) {\\n                var val = parseFloat(value);\\n                if (!isNaN(val)) {\\n                    valueAccessor()(val);\\n                }\\n            });\\n            valueAccessor().subscribe(function(value) {\\n                var str = JSON.stringify(value);\\n                if ((str == \\\"0\\\") && ([\\\"-0\\\", \\\"-0.\\\"].indexOf(stringified()) >= 0))\\n                     return;\\n                 if ([\\\"null\\\", \\\"\\\"].indexOf(str) >= 0)\\n                     return;\\n                stringified(str);\\n            });\\n            ko.applyBindingsToNode(\\n                element,\\n                {\\n                    value: stringified,\\n                    valueUpdate: allBindings.get('valueUpdate'),\\n                },\\n                context,\\n            );\\n        }\\n    };\\n    var json_data = {\\\"formatted_vals\\\":[\\\"0.1\\\",\\\"0.11\\\",\\\"0.12\\\",\\\"0.13\\\",\\\"0.14\\\",\\\"0.15\\\",\\\"0.16\\\",\\\"0.17\\\",\\\"0.18\\\",\\\"0.19\\\",\\\"0.2\\\",\\\"0.21\\\",\\\"0.22\\\",\\\"0.23\\\",\\\"0.24\\\",\\\"0.25\\\",\\\"0.26\\\",\\\"0.27\\\",\\\"0.28\\\",\\\"0.29\\\",\\\"0.3\\\",\\\"0.31\\\",\\\"0.32\\\",\\\"0.33\\\",\\\"0.34\\\",\\\"0.35\\\",\\\"0.36\\\",\\\"0.37\\\",\\\"0.38\\\",\\\"0.39\\\",\\\"0.4\\\",\\\"0.41\\\",\\\"0.42\\\",\\\"0.43\\\",\\\"0.44\\\",\\\"0.45\\\",\\\"0.46\\\",\\\"0.47\\\",\\\"0.48\\\",\\\"0.49\\\",\\\"0.5\\\",\\\"0.51\\\",\\\"0.52\\\",\\\"0.53\\\",\\\"0.54\\\",\\\"0.55\\\",\\\"0.56\\\",\\\"0.57\\\",\\\"0.58\\\",\\\"0.59\\\",\\\"0.6\\\",\\\"0.61\\\",\\\"0.62\\\",\\\"0.63\\\",\\\"0.64\\\",\\\"0.65\\\",\\\"0.66\\\",\\\"0.67\\\",\\\"0.68\\\",\\\"0.69\\\",\\\"0.7\\\",\\\"0.71\\\",\\\"0.72\\\",\\\"0.73\\\",\\\"0.74\\\",\\\"0.75\\\",\\\"0.76\\\",\\\"0.77\\\",\\\"0.78\\\",\\\"0.79\\\",\\\"0.8\\\",\\\"0.81\\\",\\\"0.82\\\",\\\"0.83\\\",\\\"0.84\\\",\\\"0.85\\\",\\\"0.86\\\",\\\"0.87\\\",\\\"0.88\\\",\\\"0.89\\\",\\\"0.9\\\",\\\"0.91\\\",\\\"0.92\\\",\\\"0.93\\\",\\\"0.94\\\",\\\"0.95\\\",\\\"0.96\\\",\\\"0.97\\\",\\\"0.98\\\",\\\"0.99\\\",\\\"1.0\\\",\\\"1.01\\\",\\\"1.02\\\",\\\"1.03\\\",\\\"1.04\\\",\\\"1.05\\\",\\\"1.06\\\",\\\"1.07\\\",\\\"1.08\\\",\\\"1.09\\\",\\\"1.1\\\",\\\"1.11\\\",\\\"1.12\\\",\\\"1.13\\\",\\\"1.14\\\",\\\"1.15\\\",\\\"1.16\\\",\\\"1.17\\\",\\\"1.18\\\",\\\"1.19\\\",\\\"1.2\\\",\\\"1.21\\\",\\\"1.22\\\",\\\"1.23\\\",\\\"1.24\\\",\\\"1.25\\\",\\\"1.26\\\",\\\"1.27\\\",\\\"1.28\\\",\\\"1.29\\\",\\\"1.3\\\",\\\"1.31\\\",\\\"1.32\\\",\\\"1.33\\\",\\\"1.34\\\",\\\"1.35\\\",\\\"1.36\\\",\\\"1.37\\\",\\\"1.38\\\",\\\"1.39\\\",\\\"1.4\\\",\\\"1.41\\\",\\\"1.42\\\",\\\"1.43\\\",\\\"1.44\\\",\\\"1.45\\\",\\\"1.46\\\",\\\"1.47\\\",\\\"1.48\\\",\\\"1.49\\\",\\\"1.5\\\",\\\"1.51\\\",\\\"1.52\\\",\\\"1.53\\\",\\\"1.54\\\",\\\"1.55\\\",\\\"1.56\\\",\\\"1.57\\\",\\\"1.58\\\",\\\"1.59\\\",\\\"1.6\\\",\\\"1.61\\\",\\\"1.62\\\",\\\"1.63\\\",\\\"1.64\\\",\\\"1.65\\\",\\\"1.66\\\",\\\"1.67\\\",\\\"1.68\\\",\\\"1.69\\\",\\\"1.7\\\",\\\"1.71\\\",\\\"1.72\\\",\\\"1.73\\\",\\\"1.74\\\",\\\"1.75\\\",\\\"1.76\\\",\\\"1.77\\\",\\\"1.78\\\",\\\"1.79\\\",\\\"1.8\\\",\\\"1.81\\\",\\\"1.82\\\",\\\"1.83\\\",\\\"1.84\\\",\\\"1.85\\\",\\\"1.86\\\",\\\"1.87\\\",\\\"1.88\\\",\\\"1.89\\\",\\\"1.9\\\",\\\"1.91\\\",\\\"1.92\\\",\\\"1.93\\\",\\\"1.94\\\",\\\"1.95\\\",\\\"1.96\\\",\\\"1.97\\\",\\\"1.98\\\",\\\"1.99\\\",\\\"2.0\\\",\\\"2.01\\\",\\\"2.02\\\",\\\"2.03\\\",\\\"2.04\\\",\\\"2.05\\\",\\\"2.06\\\",\\\"2.07\\\",\\\"2.08\\\",\\\"2.09\\\",\\\"2.1\\\",\\\"2.11\\\",\\\"2.12\\\",\\\"2.13\\\",\\\"2.14\\\",\\\"2.15\\\",\\\"2.16\\\",\\\"2.17\\\",\\\"2.18\\\",\\\"2.19\\\",\\\"2.2\\\",\\\"2.21\\\",\\\"2.22\\\",\\\"2.23\\\",\\\"2.24\\\",\\\"2.25\\\",\\\"2.26\\\",\\\"2.27\\\",\\\"2.28\\\",\\\"2.29\\\",\\\"2.3\\\",\\\"2.31\\\",\\\"2.32\\\",\\\"2.33\\\",\\\"2.34\\\",\\\"2.35\\\",\\\"2.36\\\",\\\"2.37\\\",\\\"2.38\\\",\\\"2.39\\\",\\\"2.4\\\",\\\"2.41\\\",\\\"2.42\\\",\\\"2.43\\\",\\\"2.44\\\",\\\"2.45\\\",\\\"2.46\\\",\\\"2.47\\\",\\\"2.48\\\",\\\"2.49\\\",\\\"2.5\\\",\\\"2.51\\\",\\\"2.52\\\",\\\"2.53\\\",\\\"2.54\\\",\\\"2.55\\\",\\\"2.56\\\",\\\"2.57\\\",\\\"2.58\\\",\\\"2.59\\\",\\\"2.6\\\",\\\"2.61\\\",\\\"2.62\\\",\\\"2.63\\\",\\\"2.64\\\",\\\"2.65\\\",\\\"2.66\\\",\\\"2.67\\\",\\\"2.68\\\",\\\"2.69\\\",\\\"2.7\\\",\\\"2.71\\\",\\\"2.72\\\",\\\"2.73\\\",\\\"2.74\\\",\\\"2.75\\\",\\\"2.76\\\",\\\"2.77\\\",\\\"2.78\\\",\\\"2.79\\\",\\\"2.8\\\",\\\"2.81\\\",\\\"2.82\\\",\\\"2.83\\\",\\\"2.84\\\",\\\"2.85\\\",\\\"2.86\\\",\\\"2.87\\\",\\\"2.88\\\",\\\"2.89\\\",\\\"2.9\\\",\\\"2.91\\\",\\\"2.92\\\",\\\"2.93\\\",\\\"2.94\\\",\\\"2.95\\\",\\\"2.96\\\",\\\"2.97\\\",\\\"2.98\\\",\\\"2.99\\\",\\\"3.0\\\",\\\"3.01\\\",\\\"3.02\\\",\\\"3.03\\\",\\\"3.04\\\",\\\"3.05\\\",\\\"3.06\\\",\\\"3.07\\\",\\\"3.08\\\",\\\"3.09\\\",\\\"3.1\\\",\\\"3.11\\\",\\\"3.12\\\",\\\"3.13\\\",\\\"3.14\\\",\\\"3.15\\\",\\\"3.16\\\",\\\"3.17\\\",\\\"3.18\\\",\\\"3.19\\\",\\\"3.2\\\",\\\"3.21\\\",\\\"3.22\\\",\\\"3.23\\\",\\\"3.24\\\",\\\"3.25\\\",\\\"3.26\\\",\\\"3.27\\\",\\\"3.28\\\",\\\"3.29\\\",\\\"3.3\\\",\\\"3.31\\\",\\\"3.32\\\",\\\"3.33\\\",\\\"3.34\\\",\\\"3.35\\\",\\\"3.36\\\",\\\"3.37\\\",\\\"3.38\\\",\\\"3.39\\\",\\\"3.4\\\",\\\"3.41\\\",\\\"3.42\\\",\\\"3.43\\\",\\\"3.44\\\",\\\"3.45\\\",\\\"3.46\\\",\\\"3.47\\\",\\\"3.48\\\",\\\"3.49\\\",\\\"3.5\\\",\\\"3.51\\\",\\\"3.52\\\",\\\"3.53\\\",\\\"3.54\\\",\\\"3.55\\\",\\\"3.56\\\",\\\"3.57\\\",\\\"3.58\\\",\\\"3.59\\\",\\\"3.6\\\",\\\"3.61\\\",\\\"3.62\\\",\\\"3.63\\\",\\\"3.64\\\",\\\"3.65\\\",\\\"3.66\\\",\\\"3.67\\\",\\\"3.68\\\",\\\"3.69\\\",\\\"3.7\\\",\\\"3.71\\\",\\\"3.72\\\",\\\"3.73\\\",\\\"3.74\\\",\\\"3.75\\\",\\\"3.76\\\",\\\"3.77\\\",\\\"3.78\\\",\\\"3.79\\\",\\\"3.8\\\",\\\"3.81\\\",\\\"3.82\\\",\\\"3.83\\\",\\\"3.84\\\",\\\"3.85\\\",\\\"3.86\\\",\\\"3.87\\\",\\\"3.88\\\",\\\"3.89\\\",\\\"3.9\\\",\\\"3.91\\\",\\\"3.92\\\",\\\"3.93\\\",\\\"3.94\\\",\\\"3.95\\\",\\\"3.96\\\",\\\"3.97\\\",\\\"3.98\\\",\\\"3.99\\\",\\\"4.0\\\",\\\"4.01\\\",\\\"4.02\\\",\\\"4.03\\\",\\\"4.04\\\",\\\"4.05\\\",\\\"4.06\\\",\\\"4.07\\\",\\\"4.08\\\",\\\"4.09\\\",\\\"4.1\\\",\\\"4.11\\\",\\\"4.12\\\",\\\"4.13\\\",\\\"4.14\\\",\\\"4.15\\\",\\\"4.16\\\",\\\"4.17\\\",\\\"4.18\\\",\\\"4.19\\\",\\\"4.2\\\",\\\"4.21\\\",\\\"4.22\\\",\\\"4.23\\\",\\\"4.24\\\",\\\"4.25\\\",\\\"4.26\\\",\\\"4.27\\\",\\\"4.28\\\",\\\"4.29\\\",\\\"4.3\\\",\\\"4.31\\\",\\\"4.32\\\",\\\"4.33\\\",\\\"4.34\\\",\\\"4.35\\\",\\\"4.36\\\",\\\"4.37\\\",\\\"4.38\\\",\\\"4.39\\\",\\\"4.4\\\",\\\"4.41\\\",\\\"4.42\\\",\\\"4.43\\\",\\\"4.44\\\",\\\"4.45\\\",\\\"4.46\\\",\\\"4.47\\\",\\\"4.48\\\",\\\"4.49\\\",\\\"4.5\\\",\\\"4.51\\\",\\\"4.52\\\",\\\"4.53\\\",\\\"4.54\\\",\\\"4.55\\\",\\\"4.56\\\",\\\"4.57\\\",\\\"4.58\\\",\\\"4.59\\\",\\\"4.6\\\",\\\"4.61\\\",\\\"4.62\\\",\\\"4.63\\\",\\\"4.64\\\",\\\"4.65\\\",\\\"4.66\\\",\\\"4.67\\\",\\\"4.68\\\",\\\"4.69\\\",\\\"4.7\\\",\\\"4.71\\\",\\\"4.72\\\",\\\"4.73\\\",\\\"4.74\\\",\\\"4.75\\\",\\\"4.76\\\",\\\"4.77\\\",\\\"4.78\\\",\\\"4.79\\\",\\\"4.8\\\",\\\"4.81\\\",\\\"4.82\\\",\\\"4.83\\\",\\\"4.84\\\",\\\"4.85\\\",\\\"4.86\\\",\\\"4.87\\\",\\\"4.88\\\",\\\"4.89\\\",\\\"4.9\\\",\\\"4.91\\\",\\\"4.92\\\",\\\"4.93\\\",\\\"4.94\\\",\\\"4.95\\\",\\\"4.96\\\",\\\"4.97\\\",\\\"4.98\\\",\\\"4.99\\\",\\\"5.0\\\",\\\"5.01\\\",\\\"5.02\\\",\\\"5.03\\\",\\\"5.04\\\",\\\"5.05\\\",\\\"5.06\\\",\\\"5.07\\\",\\\"5.08\\\",\\\"5.09\\\",\\\"5.1\\\",\\\"5.11\\\",\\\"5.12\\\",\\\"5.13\\\",\\\"5.14\\\",\\\"5.15\\\",\\\"5.16\\\",\\\"5.17\\\",\\\"5.18\\\",\\\"5.19\\\",\\\"5.2\\\",\\\"5.21\\\",\\\"5.22\\\",\\\"5.23\\\",\\\"5.24\\\",\\\"5.25\\\",\\\"5.26\\\",\\\"5.27\\\",\\\"5.28\\\",\\\"5.29\\\",\\\"5.3\\\",\\\"5.31\\\",\\\"5.32\\\",\\\"5.33\\\",\\\"5.34\\\",\\\"5.35\\\",\\\"5.36\\\",\\\"5.37\\\",\\\"5.38\\\",\\\"5.39\\\",\\\"5.4\\\",\\\"5.41\\\",\\\"5.42\\\",\\\"5.43\\\",\\\"5.44\\\",\\\"5.45\\\",\\\"5.46\\\",\\\"5.47\\\",\\\"5.48\\\",\\\"5.49\\\",\\\"5.5\\\",\\\"5.51\\\",\\\"5.52\\\",\\\"5.53\\\",\\\"5.54\\\",\\\"5.55\\\",\\\"5.56\\\",\\\"5.57\\\",\\\"5.58\\\",\\\"5.59\\\",\\\"5.6\\\",\\\"5.61\\\",\\\"5.62\\\",\\\"5.63\\\",\\\"5.64\\\",\\\"5.65\\\",\\\"5.66\\\",\\\"5.67\\\",\\\"5.68\\\",\\\"5.69\\\",\\\"5.7\\\",\\\"5.71\\\",\\\"5.72\\\",\\\"5.73\\\",\\\"5.74\\\",\\\"5.75\\\",\\\"5.76\\\",\\\"5.77\\\",\\\"5.78\\\",\\\"5.79\\\",\\\"5.8\\\",\\\"5.81\\\",\\\"5.82\\\",\\\"5.83\\\",\\\"5.84\\\",\\\"5.85\\\",\\\"5.86\\\",\\\"5.87\\\",\\\"5.88\\\",\\\"5.89\\\",\\\"5.9\\\",\\\"5.91\\\",\\\"5.92\\\",\\\"5.93\\\",\\\"5.94\\\",\\\"5.95\\\",\\\"5.96\\\",\\\"5.97\\\",\\\"5.98\\\",\\\"5.99\\\",\\\"6.0\\\",\\\"6.01\\\",\\\"6.02\\\",\\\"6.03\\\",\\\"6.04\\\",\\\"6.05\\\",\\\"6.06\\\",\\\"6.07\\\",\\\"6.08\\\",\\\"6.09\\\",\\\"6.1\\\",\\\"6.11\\\",\\\"6.12\\\",\\\"6.13\\\",\\\"6.14\\\",\\\"6.15\\\",\\\"6.16\\\",\\\"6.17\\\",\\\"6.18\\\",\\\"6.19\\\",\\\"6.2\\\",\\\"6.21\\\",\\\"6.22\\\",\\\"6.23\\\",\\\"6.24\\\",\\\"6.25\\\",\\\"6.26\\\",\\\"6.27\\\",\\\"6.28\\\",\\\"6.29\\\",\\\"6.3\\\",\\\"6.31\\\",\\\"6.32\\\",\\\"6.33\\\",\\\"6.34\\\",\\\"6.35\\\",\\\"6.36\\\",\\\"6.37\\\",\\\"6.38\\\",\\\"6.39\\\",\\\"6.4\\\",\\\"6.41\\\",\\\"6.42\\\",\\\"6.43\\\",\\\"6.44\\\",\\\"6.45\\\",\\\"6.46\\\",\\\"6.47\\\",\\\"6.48\\\",\\\"6.49\\\",\\\"6.5\\\",\\\"6.51\\\",\\\"6.52\\\",\\\"6.53\\\",\\\"6.54\\\",\\\"6.55\\\",\\\"6.56\\\",\\\"6.57\\\",\\\"6.58\\\",\\\"6.59\\\",\\\"6.6\\\",\\\"6.61\\\",\\\"6.62\\\",\\\"6.63\\\",\\\"6.64\\\",\\\"6.65\\\",\\\"6.66\\\",\\\"6.67\\\",\\\"6.68\\\",\\\"6.69\\\",\\\"6.7\\\",\\\"6.71\\\",\\\"6.72\\\",\\\"6.73\\\",\\\"6.74\\\",\\\"6.75\\\",\\\"6.76\\\",\\\"6.77\\\",\\\"6.78\\\",\\\"6.79\\\",\\\"6.8\\\",\\\"6.81\\\",\\\"6.82\\\",\\\"6.83\\\",\\\"6.84\\\",\\\"6.85\\\",\\\"6.86\\\",\\\"6.87\\\",\\\"6.88\\\",\\\"6.89\\\",\\\"6.9\\\",\\\"6.91\\\",\\\"6.92\\\",\\\"6.93\\\",\\\"6.94\\\",\\\"6.95\\\",\\\"6.96\\\",\\\"6.97\\\",\\\"6.98\\\",\\\"6.99\\\",\\\"7.0\\\",\\\"7.01\\\",\\\"7.02\\\",\\\"7.03\\\",\\\"7.04\\\",\\\"7.05\\\",\\\"7.06\\\",\\\"7.07\\\",\\\"7.08\\\",\\\"7.09\\\",\\\"7.1\\\",\\\"7.11\\\",\\\"7.12\\\",\\\"7.13\\\",\\\"7.14\\\",\\\"7.15\\\",\\\"7.16\\\",\\\"7.17\\\",\\\"7.18\\\",\\\"7.19\\\",\\\"7.2\\\",\\\"7.21\\\",\\\"7.22\\\",\\\"7.23\\\",\\\"7.24\\\",\\\"7.25\\\",\\\"7.26\\\",\\\"7.27\\\",\\\"7.28\\\",\\\"7.29\\\",\\\"7.3\\\",\\\"7.31\\\",\\\"7.32\\\",\\\"7.33\\\",\\\"7.34\\\",\\\"7.35\\\",\\\"7.36\\\",\\\"7.37\\\",\\\"7.38\\\",\\\"7.39\\\",\\\"7.4\\\",\\\"7.41\\\",\\\"7.42\\\",\\\"7.43\\\",\\\"7.44\\\",\\\"7.45\\\",\\\"7.46\\\",\\\"7.47\\\",\\\"7.48\\\",\\\"7.49\\\",\\\"7.5\\\",\\\"7.51\\\",\\\"7.52\\\",\\\"7.53\\\",\\\"7.54\\\",\\\"7.55\\\",\\\"7.56\\\",\\\"7.57\\\",\\\"7.58\\\",\\\"7.59\\\",\\\"7.6\\\",\\\"7.61\\\",\\\"7.62\\\",\\\"7.63\\\",\\\"7.64\\\",\\\"7.65\\\",\\\"7.66\\\",\\\"7.67\\\",\\\"7.68\\\",\\\"7.69\\\",\\\"7.7\\\",\\\"7.71\\\",\\\"7.72\\\",\\\"7.73\\\",\\\"7.74\\\",\\\"7.75\\\",\\\"7.76\\\",\\\"7.77\\\",\\\"7.78\\\",\\\"7.79\\\",\\\"7.8\\\",\\\"7.81\\\",\\\"7.82\\\",\\\"7.83\\\",\\\"7.84\\\",\\\"7.85\\\",\\\"7.86\\\",\\\"7.87\\\",\\\"7.88\\\",\\\"7.89\\\",\\\"7.9\\\",\\\"7.91\\\",\\\"7.92\\\",\\\"7.93\\\",\\\"7.94\\\",\\\"7.95\\\",\\\"7.96\\\",\\\"7.97\\\",\\\"7.98\\\",\\\"7.99\\\",\\\"8.0\\\",\\\"8.01\\\",\\\"8.02\\\",\\\"8.03\\\",\\\"8.04\\\",\\\"8.05\\\",\\\"8.06\\\",\\\"8.07\\\",\\\"8.08\\\",\\\"8.09\\\",\\\"8.1\\\",\\\"8.11\\\",\\\"8.12\\\",\\\"8.13\\\",\\\"8.14\\\",\\\"8.15\\\",\\\"8.16\\\",\\\"8.17\\\",\\\"8.18\\\",\\\"8.19\\\",\\\"8.2\\\",\\\"8.21\\\",\\\"8.22\\\",\\\"8.23\\\",\\\"8.24\\\",\\\"8.25\\\",\\\"8.26\\\",\\\"8.27\\\",\\\"8.28\\\",\\\"8.29\\\",\\\"8.3\\\",\\\"8.31\\\",\\\"8.32\\\",\\\"8.33\\\",\\\"8.34\\\",\\\"8.35\\\",\\\"8.36\\\",\\\"8.37\\\",\\\"8.38\\\",\\\"8.39\\\",\\\"8.4\\\",\\\"8.41\\\",\\\"8.42\\\",\\\"8.43\\\",\\\"8.44\\\",\\\"8.45\\\",\\\"8.46\\\",\\\"8.47\\\",\\\"8.48\\\",\\\"8.49\\\",\\\"8.5\\\",\\\"8.51\\\",\\\"8.52\\\",\\\"8.53\\\",\\\"8.54\\\",\\\"8.55\\\",\\\"8.56\\\",\\\"8.57\\\",\\\"8.58\\\",\\\"8.59\\\",\\\"8.6\\\",\\\"8.61\\\",\\\"8.62\\\",\\\"8.63\\\",\\\"8.64\\\",\\\"8.65\\\",\\\"8.66\\\",\\\"8.67\\\",\\\"8.68\\\",\\\"8.69\\\",\\\"8.7\\\",\\\"8.71\\\",\\\"8.72\\\",\\\"8.73\\\",\\\"8.74\\\",\\\"8.75\\\",\\\"8.76\\\",\\\"8.77\\\",\\\"8.78\\\",\\\"8.79\\\",\\\"8.8\\\",\\\"8.81\\\",\\\"8.82\\\",\\\"8.83\\\",\\\"8.84\\\",\\\"8.85\\\",\\\"8.86\\\",\\\"8.87\\\",\\\"8.88\\\",\\\"8.89\\\",\\\"8.9\\\",\\\"8.91\\\",\\\"8.92\\\",\\\"8.93\\\",\\\"8.94\\\",\\\"8.95\\\",\\\"8.96\\\",\\\"8.97\\\",\\\"8.98\\\",\\\"8.99\\\",\\\"9.0\\\",\\\"9.01\\\",\\\"9.02\\\",\\\"9.03\\\",\\\"9.04\\\",\\\"9.05\\\",\\\"9.06\\\",\\\"9.07\\\",\\\"9.08\\\",\\\"9.09\\\",\\\"9.1\\\",\\\"9.11\\\",\\\"9.12\\\",\\\"9.13\\\",\\\"9.14\\\",\\\"9.15\\\",\\\"9.16\\\",\\\"9.17\\\",\\\"9.18\\\",\\\"9.19\\\",\\\"9.2\\\",\\\"9.21\\\",\\\"9.22\\\",\\\"9.23\\\",\\\"9.24\\\",\\\"9.25\\\",\\\"9.26\\\",\\\"9.27\\\",\\\"9.28\\\",\\\"9.29\\\",\\\"9.3\\\",\\\"9.31\\\",\\\"9.32\\\",\\\"9.33\\\",\\\"9.34\\\",\\\"9.35\\\",\\\"9.36\\\",\\\"9.37\\\",\\\"9.38\\\",\\\"9.39\\\",\\\"9.4\\\",\\\"9.41\\\",\\\"9.42\\\",\\\"9.43\\\",\\\"9.44\\\",\\\"9.45\\\",\\\"9.46\\\",\\\"9.47\\\",\\\"9.48\\\",\\\"9.49\\\",\\\"9.5\\\",\\\"9.51\\\",\\\"9.52\\\",\\\"9.53\\\",\\\"9.54\\\",\\\"9.55\\\",\\\"9.56\\\",\\\"9.57\\\",\\\"9.58\\\",\\\"9.59\\\",\\\"9.6\\\",\\\"9.61\\\",\\\"9.62\\\",\\\"9.63\\\",\\\"9.64\\\",\\\"9.65\\\",\\\"9.66\\\",\\\"9.67\\\",\\\"9.68\\\",\\\"9.69\\\",\\\"9.7\\\",\\\"9.71\\\",\\\"9.72\\\",\\\"9.73\\\",\\\"9.74\\\",\\\"9.75\\\",\\\"9.76\\\",\\\"9.77\\\",\\\"9.78\\\",\\\"9.79\\\",\\\"9.8\\\",\\\"9.81\\\",\\\"9.82\\\",\\\"9.83\\\",\\\"9.84\\\",\\\"9.85\\\",\\\"9.86\\\",\\\"9.87\\\",\\\"9.88\\\",\\\"9.89\\\",\\\"9.9\\\",\\\"9.91\\\",\\\"9.92\\\",\\\"9.93\\\",\\\"9.94\\\",\\\"9.95\\\",\\\"9.96\\\",\\\"9.97\\\",\\\"9.98\\\",\\\"9.99\\\",\\\"10.0\\\"],\\\"changes\\\":WebIO.getval({\\\"name\\\":\\\"changes\\\",\\\"scope\\\":\\\"16257199187827486630\\\",\\\"id\\\":\\\"ob_60\\\",\\\"type\\\":\\\"observable\\\"}),\\\"index\\\":WebIO.getval({\\\"name\\\":\\\"index\\\",\\\"scope\\\":\\\"16257199187827486630\\\",\\\"id\\\":\\\"ob_59\\\",\\\"type\\\":\\\"observable\\\"})};\\n    var self = this;\\n    function AppViewModel() {\\n        for (var key in json_data) {\\n            var el = json_data[key];\\n            this[key] = Array.isArray(el) ? ko.observableArray(el) : ko.observable(el);\\n        }\\n        \\n        [this[\\\"formatted_val\\\"]=ko.computed(    function(){\\n        return this.formatted_vals()[parseInt(this.index())-(1)];\\n    }\\n,this)]\\n        [this[\\\"changes\\\"].subscribe((function (val){!(this.valueFromJulia[\\\"changes\\\"]) ? (WebIO.setval({\\\"name\\\":\\\"changes\\\",\\\"scope\\\":\\\"16257199187827486630\\\",\\\"id\\\":\\\"ob_60\\\",\\\"type\\\":\\\"observable\\\"},val)) : undefined; return this.valueFromJulia[\\\"changes\\\"]=false}),self),this[\\\"index\\\"].subscribe((function (val){!(this.valueFromJulia[\\\"index\\\"]) ? (WebIO.setval({\\\"name\\\":\\\"index\\\",\\\"scope\\\":\\\"16257199187827486630\\\",\\\"id\\\":\\\"ob_59\\\",\\\"type\\\":\\\"observable\\\"},val)) : undefined; return this.valueFromJulia[\\\"index\\\"]=false}),self)]\\n        \\n    }\\n    self.model = new AppViewModel();\\n    self.valueFromJulia = {};\\n    for (var key in json_data) {\\n        self.valueFromJulia[key] = false;\\n    }\\n    ko.applyBindings(self.model, self.dom);\\n}\\n);\\n    (WebIO.importBlock({\\\"data\\\":[{\\\"name\\\":\\\"knockout\\\",\\\"type\\\":\\\"js\\\",\\\"url\\\":\\\"\\/assetserver\\/acf0924a365e010bf6a3eb46a136f582bb3d7da4-knockout.js\\\"},{\\\"name\\\":\\\"knockout_punches\\\",\\\"type\\\":\\\"js\\\",\\\"url\\\":\\\"\\/assetserver\\/5ea3afb6d7dd7ccff78b8ae481a9e30e62bf0288-knockout_punches.js\\\"}],\\\"type\\\":\\\"async_block\\\"})).then((imports) => handler.apply(this, imports));\\n}\\n\"],\"observables\":{\"changes\":{\"sync\":false,\"id\":\"ob_60\",\"value\":0},\"index\":{\"sync\":true,\"id\":\"ob_59\",\"value\":191}}},\"children\":[{\"props\":{\"className\":\"interact-flex-row interact-widget\"},\"nodeType\":\"DOM\",\"type\":\"node\",\"instanceArgs\":{\"namespace\":\"html\",\"tag\":\"div\"},\"children\":[{\"props\":{\"className\":\"interact-flex-row-left\"},\"nodeType\":\"DOM\",\"type\":\"node\",\"instanceArgs\":{\"namespace\":\"html\",\"tag\":\"div\"},\"children\":[{\"props\":{\"className\":\"interact \",\"style\":{\"padding\":\"5px 10px 0px 10px\"}},\"nodeType\":\"DOM\",\"type\":\"node\",\"instanceArgs\":{\"namespace\":\"html\",\"tag\":\"label\"},\"children\":[\"r2\"]}]},{\"props\":{\"className\":\"interact-flex-row-center\"},\"nodeType\":\"DOM\",\"type\":\"node\",\"instanceArgs\":{\"namespace\":\"html\",\"tag\":\"div\"},\"children\":[{\"props\":{\"max\":991,\"min\":1,\"attributes\":{\"type\":\"range\",\"data-bind\":\"numericValue: index, valueUpdate: 'input', event: {change: function (){this.changes(this.changes()+1)}}\",\"orient\":\"horizontal\"},\"step\":1,\"className\":\"slider slider is-fullwidth\",\"style\":{}},\"nodeType\":\"DOM\",\"type\":\"node\",\"instanceArgs\":{\"namespace\":\"html\",\"tag\":\"input\"},\"children\":[]}]},{\"props\":{\"className\":\"interact-flex-row-right\"},\"nodeType\":\"DOM\",\"type\":\"node\",\"instanceArgs\":{\"namespace\":\"html\",\"tag\":\"div\"},\"children\":[{\"props\":{\"attributes\":{\"data-bind\":\"text: formatted_val\"}},\"nodeType\":\"DOM\",\"type\":\"node\",\"instanceArgs\":{\"namespace\":\"html\",\"tag\":\"p\"},\"children\":[]}]}]}]}]},{\"props\":{},\"nodeType\":\"Scope\",\"type\":\"node\",\"instanceArgs\":{\"imports\":{\"data\":[],\"type\":\"async_block\"},\"id\":\"1468403372040098637\",\"handlers\":{},\"systemjs_options\":null,\"mount_callbacks\":[],\"observables\":{\"obs-node\":{\"sync\":false,\"id\":\"ob_64\",\"value\":{\"props\":{\"className\":\"interact-flex-row interact-widget\"},\"nodeType\":\"DOM\",\"type\":\"node\",\"instanceArgs\":{\"namespace\":\"html\",\"tag\":\"div\"},\"children\":[{\"props\":{\"setInnerHtml\":\"<img src='data:image\\/png;base64,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'><\\/img>\"},\"nodeType\":\"DOM\",\"type\":\"node\",\"instanceArgs\":{\"namespace\":\"html\",\"tag\":\"div\"},\"children\":[]}]}}}},\"children\":[{\"props\":{},\"nodeType\":\"ObservableNode\",\"type\":\"node\",\"instanceArgs\":{\"id\":\"ob_64\",\"name\":\"obs-node\"},\"children\":[]}]}]},\n",
       "            window,\n",
       "        );\n",
       "    } else {\n",
       "        document\n",
       "            .querySelector('[data-webio-mountpoint=\"4285213306900904802\"]')\n",
       "            .innerHTML = (\n",
       "                '<strong>WebIO not detected. Please read ' +\n",
       "                '<a href=\"https://juliagizmos.github.io/WebIO.jl/latest/troubleshooting/not-detected/\">the troubleshooting guide</a> ' +\n",
       "                'for more information on how to resolve this issue.' +\n",
       "                '</strong>'\n",
       "            );\n",
       "    }\n",
       "    </script>\n",
       "</div>\n"
      ],
      "text/plain": [
       "Node{WebIO.DOM}(WebIO.DOM(:html, :div), Any[Node{WebIO.DOM}(WebIO.DOM(:html, :div), Any[Scope(Node{WebIO.DOM}(WebIO.DOM(:html, :div), Any[Node{WebIO.DOM}(WebIO.DOM(:html, :div), Any[Node{WebIO.DOM}(WebIO.DOM(:html, :label), Any[\"α12\"], Dict{Symbol,Any}(:className => \"interact \",:style => Dict{Any,Any}(:padding => \"5px 10px 0px 10px\")))], Dict{Symbol,Any}(:className => \"interact-flex-row-left\")), Node{WebIO.DOM}(WebIO.DOM(:html, :div), Any[Node{WebIO.DOM}(WebIO.DOM(:html, :input), Any[], Dict{Symbol,Any}(:max => 191,:min => 1,:attributes => Dict{Any,Any}(:type => \"range\",Symbol(\"data-bind\") => \"numericValue: index, valueUpdate: 'input', event: {change: function (){this.changes(this.changes()+1)}}\",\"orient\" => \"horizontal\"),:step => 1,:className => \"slider slider is-fullwidth\",:style => Dict{Any,Any}()))], Dict{Symbol,Any}(:className => \"interact-flex-row-center\")), Node{WebIO.DOM}(WebIO.DOM(:html, :div), Any[Node{WebIO.DOM}(WebIO.DOM(:html, :p), Any[], Dict{Symbol,Any}(:attributes => Dict(\"data-bind\" => \"text: formatted_val\")))], Dict{Symbol,Any}(:className => \"interact-flex-row-right\"))], Dict{Symbol,Any}(:className => \"interact-flex-row interact-widget\")), Dict{String,Tuple{Observables.AbstractObservable,Union{Nothing, Bool}}}(\"changes\" => (Observable{Int64} with 1 listeners. Value:\n",
       "0, nothing),\"index\" => (Observable{Any} with 2 listeners. Value:\n",
       "71, nothing)), Set(String[]), nothing, Asset[Asset(\"js\", \"knockout\", \"/Users/carlingbieg/.julia/packages/Knockout/1sDlc/src/../assets/knockout.js\"), Asset(\"js\", \"knockout_punches\", \"/Users/carlingbieg/.julia/packages/Knockout/1sDlc/src/../assets/knockout_punches.js\"), Asset(\"js\", nothing, \"/Users/carlingbieg/.julia/packages/InteractBase/9mFwe/src/../assets/all.js\"), Asset(\"css\", nothing, \"/Users/carlingbieg/.julia/packages/InteractBase/9mFwe/src/../assets/style.css\"), Asset(\"css\", nothing, \"/Users/carlingbieg/.julia/packages/Interact/SbgIk/src/../assets/bulma_confined.min.css\")], Dict{Any,Any}(\"changes\" => Any[WebIO.JSString(\"(function (val){return (val!=this.model[\\\"changes\\\"]()) ? (this.valueFromJulia[\\\"changes\\\"]=true, this.model[\\\"changes\\\"](val)) : undefined})\")],\"index\" => Any[WebIO.JSString(\"(function (val){return (val!=this.model[\\\"index\\\"]()) ? (this.valueFromJulia[\\\"index\\\"]=true, this.model[\\\"index\\\"](val)) : undefined})\")]), WebIO.ConnectionPool(Channel{Any}(sz_max:32,sz_curr:0), Set(AbstractConnection[]), Base.GenericCondition{Base.AlwaysLockedST}(Base.InvasiveLinkedList{Task}(Task (runnable) @0x0000000134a31210, Task (runnable) @0x0000000134a31210), Base.AlwaysLockedST(1))), WebIO.JSString[WebIO.JSString(\"function () {\\n    var handler = (function (ko, koPunches) {\\n    ko.punches.enableAll();\\n    ko.bindingHandlers.numericValue = {\\n        init: function(element, valueAccessor, allBindings, data, context) {\\n            var stringified = ko.observable(ko.unwrap(valueAccessor()));\\n            stringified.subscribe(function(value) {\\n                var val = parseFloat(value);\\n                if (!isNaN(val)) {\\n                    valueAccessor()(val);\\n                }\\n            });\\n            valueAccessor().subscribe(function(value) {\\n                var str = JSON.stringify(value);\\n                if ((str == \\\"0\\\") && ([\\\"-0\\\", \\\"-0.\\\"].indexOf(stringified()) >= 0))\\n                     return;\\n                 if ([\\\"null\\\", \\\"\\\"].indexOf(str) >= 0)\\n                     return;\\n                stringified(str);\\n            });\\n            ko.applyBindingsToNode(\\n                element,\\n                {\\n                    value: stringified,\\n                    valueUpdate: allBindings.get('valueUpdate'),\\n                },\\n                context,\\n            );\\n        }\\n    };\\n    var json_data = {\\\"formatted_vals\\\":[\\\"0.1\\\",\\\"0.11\\\",\\\"0.12\\\",\\\"0.13\\\",\\\"0.14\\\",\\\"0.15\\\",\\\"0.16\\\",\\\"0.17\\\",\\\"0.18\\\",\\\"0.19\\\",\\\"0.2\\\",\\\"0.21\\\",\\\"0.22\\\",\\\"0.23\\\",\\\"0.24\\\",\\\"0.25\\\",\\\"0.26\\\",\\\"0.27\\\",\\\"0.28\\\",\\\"0.29\\\",\\\"0.3\\\",\\\"0.31\\\",\\\"0.32\\\",\\\"0.33\\\",\\\"0.34\\\",\\\"0.35\\\",\\\"0.36\\\",\\\"0.37\\\",\\\"0.38\\\",\\\"0.39\\\",\\\"0.4\\\",\\\"0.41\\\",\\\"0.42\\\",\\\"0.43\\\",\\\"0.44\\\",\\\"0.45\\\",\\\"0.46\\\",\\\"0.47\\\",\\\"0.48\\\",\\\"0.49\\\",\\\"0.5\\\",\\\"0.51\\\",\\\"0.52\\\",\\\"0.53\\\",\\\"0.54\\\",\\\"0.55\\\",\\\"0.56\\\",\\\"0.57\\\",\\\"0.58\\\",\\\"0.59\\\",\\\"0.6\\\",\\\"0.61\\\",\\\"0.62\\\",\\\"0.63\\\",\\\"0.64\\\",\\\"0.65\\\",\\\"0.66\\\",\\\"0.67\\\",\\\"0.68\\\",\\\"0.69\\\",\\\"0.7\\\",\\\"0.71\\\",\\\"0.72\\\",\\\"0.73\\\",\\\"0.74\\\",\\\"0.75\\\",\\\"0.76\\\",\\\"0.77\\\",\\\"0.78\\\",\\\"0.79\\\",\\\"0.8\\\",\\\"0.81\\\",\\\"0.82\\\",\\\"0.83\\\",\\\"0.84\\\",\\\"0.85\\\",\\\"0.86\\\",\\\"0.87\\\",\\\"0.88\\\",\\\"0.89\\\",\\\"0.9\\\",\\\"0.91\\\",\\\"0.92\\\",\\\"0.93\\\",\\\"0.94\\\",\\\"0.95\\\",\\\"0.96\\\",\\\"0.97\\\",\\\"0.98\\\",\\\"0.99\\\",\\\"1.0\\\",\\\"1.01\\\",\\\"1.02\\\",\\\"1.03\\\",\\\"1.04\\\",\\\"1.05\\\",\\\"1.06\\\",\\\"1.07\\\",\\\"1.08\\\",\\\"1.09\\\",\\\"1.1\\\",\\\"1.11\\\",\\\"1.12\\\",\\\"1.13\\\",\\\"1.14\\\",\\\"1.15\\\",\\\"1.16\\\",\\\"1.17\\\",\\\"1.18\\\",\\\"1.19\\\",\\\"1.2\\\",\\\"1.21\\\",\\\"1.22\\\",\\\"1.23\\\",\\\"1.24\\\",\\\"1.25\\\",\\\"1.26\\\",\\\"1.27\\\",\\\"1.28\\\",\\\"1.29\\\",\\\"1.3\\\",\\\"1.31\\\",\\\"1.32\\\",\\\"1.33\\\",\\\"1.34\\\",\\\"1.35\\\",\\\"1.36\\\",\\\"1.37\\\",\\\"1.38\\\",\\\"1.39\\\",\\\"1.4\\\",\\\"1.41\\\",\\\"1.42\\\",\\\"1.43\\\",\\\"1.44\\\",\\\"1.45\\\",\\\"1.46\\\",\\\"1.47\\\",\\\"1.48\\\",\\\"1.49\\\",\\\"1.5\\\",\\\"1.51\\\",\\\"1.52\\\",\\\"1.53\\\",\\\"1.54\\\",\\\"1.55\\\",\\\"1.56\\\",\\\"1.57\\\",\\\"1.58\\\",\\\"1.59\\\",\\\"1.6\\\",\\\"1.61\\\",\\\"1.62\\\",\\\"1.63\\\",\\\"1.64\\\",\\\"1.65\\\",\\\"1.66\\\",\\\"1.67\\\",\\\"1.68\\\",\\\"1.69\\\",\\\"1.7\\\",\\\"1.71\\\",\\\"1.72\\\",\\\"1.73\\\",\\\"1.74\\\",\\\"1.75\\\",\\\"1.76\\\",\\\"1.77\\\",\\\"1.78\\\",\\\"1.79\\\",\\\"1.8\\\",\\\"1.81\\\",\\\"1.82\\\",\\\"1.83\\\",\\\"1.84\\\",\\\"1.85\\\",\\\"1.86\\\",\\\"1.87\\\",\\\"1.88\\\",\\\"1.89\\\",\\\"1.9\\\",\\\"1.91\\\",\\\"1.92\\\",\\\"1.93\\\",\\\"1.94\\\",\\\"1.95\\\",\\\"1.96\\\",\\\"1.97\\\",\\\"1.98\\\",\\\"1.99\\\",\\\"2.0\\\"],\\\"changes\\\":WebIO.getval({\\\"name\\\":\\\"changes\\\",\\\"scope\\\":\\\"1800928353263303848\\\",\\\"id\\\":\\\"ob_45\\\",\\\"type\\\":\\\"observable\\\"}),\\\"index\\\":WebIO.getval({\\\"name\\\":\\\"index\\\",\\\"scope\\\":\\\"1800928353263303848\\\",\\\"id\\\":\\\"ob_44\\\",\\\"type\\\":\\\"observable\\\"})};\\n    var self = this;\\n    function AppViewModel() {\\n        for (var key in json_data) {\\n            var el = json_data[key];\\n            this[key] = Array.isArray(el) ? ko.observableArray(el) : ko.observable(el);\\n        }\\n        \\n        [this[\\\"formatted_val\\\"]=ko.computed(    function(){\\n        return this.formatted_vals()[parseInt(this.index())-(1)];\\n    }\\n,this)]\\n        [this[\\\"changes\\\"].subscribe((function (val){!(this.valueFromJulia[\\\"changes\\\"]) ? (WebIO.setval({\\\"name\\\":\\\"changes\\\",\\\"scope\\\":\\\"1800928353263303848\\\",\\\"id\\\":\\\"ob_45\\\",\\\"type\\\":\\\"observable\\\"},val)) : undefined; return this.valueFromJulia[\\\"changes\\\"]=false}),self),this[\\\"index\\\"].subscribe((function (val){!(this.valueFromJulia[\\\"index\\\"]) ? (WebIO.setval({\\\"name\\\":\\\"index\\\",\\\"scope\\\":\\\"1800928353263303848\\\",\\\"id\\\":\\\"ob_44\\\",\\\"type\\\":\\\"observable\\\"},val)) : undefined; return this.valueFromJulia[\\\"index\\\"]=false}),self)]\\n        \\n    }\\n    self.model = new AppViewModel();\\n    self.valueFromJulia = {};\\n    for (var key in json_data) {\\n        self.valueFromJulia[key] = false;\\n    }\\n    ko.applyBindings(self.model, self.dom);\\n}\\n);\\n    (WebIO.importBlock({\\\"data\\\":[{\\\"name\\\":\\\"knockout\\\",\\\"type\\\":\\\"js\\\",\\\"url\\\":\\\"/assetserver/acf0924a365e010bf6a3eb46a136f582bb3d7da4-knockout.js\\\"},{\\\"name\\\":\\\"knockout_punches\\\",\\\"type\\\":\\\"js\\\",\\\"url\\\":\\\"/assetserver/5ea3afb6d7dd7ccff78b8ae481a9e30e62bf0288-knockout_punches.js\\\"}],\\\"type\\\":\\\"async_block\\\"})).then((imports) => handler.apply(this, imports));\\n}\\n\")])], Dict{Symbol,Any}(:className => \"field interact-widget\")), Node{WebIO.DOM}(WebIO.DOM(:html, :div), Any[Scope(Node{WebIO.DOM}(WebIO.DOM(:html, :div), Any[Node{WebIO.DOM}(WebIO.DOM(:html, :div), Any[Node{WebIO.DOM}(WebIO.DOM(:html, :label), Any[\"α21\"], Dict{Symbol,Any}(:className => \"interact \",:style => Dict{Any,Any}(:padding => \"5px 10px 0px 10px\")))], Dict{Symbol,Any}(:className => \"interact-flex-row-left\")), Node{WebIO.DOM}(WebIO.DOM(:html, :div), Any[Node{WebIO.DOM}(WebIO.DOM(:html, :input), Any[], Dict{Symbol,Any}(:max => 191,:min => 1,:attributes => Dict{Any,Any}(:type => \"range\",Symbol(\"data-bind\") => \"numericValue: index, valueUpdate: 'input', event: {change: function (){this.changes(this.changes()+1)}}\",\"orient\" => \"horizontal\"),:step => 1,:className => \"slider slider is-fullwidth\",:style => Dict{Any,Any}()))], Dict{Symbol,Any}(:className => \"interact-flex-row-center\")), Node{WebIO.DOM}(WebIO.DOM(:html, :div), Any[Node{WebIO.DOM}(WebIO.DOM(:html, :p), Any[], Dict{Symbol,Any}(:attributes => Dict(\"data-bind\" => \"text: formatted_val\")))], Dict{Symbol,Any}(:className => \"interact-flex-row-right\"))], Dict{Symbol,Any}(:className => \"interact-flex-row interact-widget\")), Dict{String,Tuple{Observables.AbstractObservable,Union{Nothing, Bool}}}(\"changes\" => (Observable{Int64} with 1 listeners. Value:\n",
       "0, nothing),\"index\" => (Observable{Any} with 2 listeners. Value:\n",
       "21, nothing)), Set(String[]), nothing, Asset[Asset(\"js\", \"knockout\", \"/Users/carlingbieg/.julia/packages/Knockout/1sDlc/src/../assets/knockout.js\"), Asset(\"js\", \"knockout_punches\", \"/Users/carlingbieg/.julia/packages/Knockout/1sDlc/src/../assets/knockout_punches.js\"), Asset(\"js\", nothing, \"/Users/carlingbieg/.julia/packages/InteractBase/9mFwe/src/../assets/all.js\"), Asset(\"css\", nothing, \"/Users/carlingbieg/.julia/packages/InteractBase/9mFwe/src/../assets/style.css\"), Asset(\"css\", nothing, \"/Users/carlingbieg/.julia/packages/Interact/SbgIk/src/../assets/bulma_confined.min.css\")], Dict{Any,Any}(\"changes\" => Any[WebIO.JSString(\"(function (val){return (val!=this.model[\\\"changes\\\"]()) ? (this.valueFromJulia[\\\"changes\\\"]=true, this.model[\\\"changes\\\"](val)) : undefined})\")],\"index\" => Any[WebIO.JSString(\"(function (val){return (val!=this.model[\\\"index\\\"]()) ? (this.valueFromJulia[\\\"index\\\"]=true, this.model[\\\"index\\\"](val)) : undefined})\")]), WebIO.ConnectionPool(Channel{Any}(sz_max:32,sz_curr:0), Set(AbstractConnection[]), Base.GenericCondition{Base.AlwaysLockedST}(Base.InvasiveLinkedList{Task}(Task (runnable) @0x0000000134a3f3d0, Task (runnable) @0x0000000134a3f3d0), Base.AlwaysLockedST(1))), WebIO.JSString[WebIO.JSString(\"function () {\\n    var handler = (function (ko, koPunches) {\\n    ko.punches.enableAll();\\n    ko.bindingHandlers.numericValue = {\\n        init: function(element, valueAccessor, allBindings, data, context) {\\n            var stringified = ko.observable(ko.unwrap(valueAccessor()));\\n            stringified.subscribe(function(value) {\\n                var val = parseFloat(value);\\n                if (!isNaN(val)) {\\n                    valueAccessor()(val);\\n                }\\n            });\\n            valueAccessor().subscribe(function(value) {\\n                var str = JSON.stringify(value);\\n                if ((str == \\\"0\\\") && ([\\\"-0\\\", \\\"-0.\\\"].indexOf(stringified()) >= 0))\\n                     return;\\n                 if ([\\\"null\\\", \\\"\\\"].indexOf(str) >= 0)\\n                     return;\\n                stringified(str);\\n            });\\n            ko.applyBindingsToNode(\\n                element,\\n                {\\n                    value: stringified,\\n                    valueUpdate: allBindings.get('valueUpdate'),\\n                },\\n                context,\\n            );\\n        }\\n    };\\n    var json_data = {\\\"formatted_vals\\\":[\\\"0.1\\\",\\\"0.11\\\",\\\"0.12\\\",\\\"0.13\\\",\\\"0.14\\\",\\\"0.15\\\",\\\"0.16\\\",\\\"0.17\\\",\\\"0.18\\\",\\\"0.19\\\",\\\"0.2\\\",\\\"0.21\\\",\\\"0.22\\\",\\\"0.23\\\",\\\"0.24\\\",\\\"0.25\\\",\\\"0.26\\\",\\\"0.27\\\",\\\"0.28\\\",\\\"0.29\\\",\\\"0.3\\\",\\\"0.31\\\",\\\"0.32\\\",\\\"0.33\\\",\\\"0.34\\\",\\\"0.35\\\",\\\"0.36\\\",\\\"0.37\\\",\\\"0.38\\\",\\\"0.39\\\",\\\"0.4\\\",\\\"0.41\\\",\\\"0.42\\\",\\\"0.43\\\",\\\"0.44\\\",\\\"0.45\\\",\\\"0.46\\\",\\\"0.47\\\",\\\"0.48\\\",\\\"0.49\\\",\\\"0.5\\\",\\\"0.51\\\",\\\"0.52\\\",\\\"0.53\\\",\\\"0.54\\\",\\\"0.55\\\",\\\"0.56\\\",\\\"0.57\\\",\\\"0.58\\\",\\\"0.59\\\",\\\"0.6\\\",\\\"0.61\\\",\\\"0.62\\\",\\\"0.63\\\",\\\"0.64\\\",\\\"0.65\\\",\\\"0.66\\\",\\\"0.67\\\",\\\"0.68\\\",\\\"0.69\\\",\\\"0.7\\\",\\\"0.71\\\",\\\"0.72\\\",\\\"0.73\\\",\\\"0.74\\\",\\\"0.75\\\",\\\"0.76\\\",\\\"0.77\\\",\\\"0.78\\\",\\\"0.79\\\",\\\"0.8\\\",\\\"0.81\\\",\\\"0.82\\\",\\\"0.83\\\",\\\"0.84\\\",\\\"0.85\\\",\\\"0.86\\\",\\\"0.87\\\",\\\"0.88\\\",\\\"0.89\\\",\\\"0.9\\\",\\\"0.91\\\",\\\"0.92\\\",\\\"0.93\\\",\\\"0.94\\\",\\\"0.95\\\",\\\"0.96\\\",\\\"0.97\\\",\\\"0.98\\\",\\\"0.99\\\",\\\"1.0\\\",\\\"1.01\\\",\\\"1.02\\\",\\\"1.03\\\",\\\"1.04\\\",\\\"1.05\\\",\\\"1.06\\\",\\\"1.07\\\",\\\"1.08\\\",\\\"1.09\\\",\\\"1.1\\\",\\\"1.11\\\",\\\"1.12\\\",\\\"1.13\\\",\\\"1.14\\\",\\\"1.15\\\",\\\"1.16\\\",\\\"1.17\\\",\\\"1.18\\\",\\\"1.19\\\",\\\"1.2\\\",\\\"1.21\\\",\\\"1.22\\\",\\\"1.23\\\",\\\"1.24\\\",\\\"1.25\\\",\\\"1.26\\\",\\\"1.27\\\",\\\"1.28\\\",\\\"1.29\\\",\\\"1.3\\\",\\\"1.31\\\",\\\"1.32\\\",\\\"1.33\\\",\\\"1.34\\\",\\\"1.35\\\",\\\"1.36\\\",\\\"1.37\\\",\\\"1.38\\\",\\\"1.39\\\",\\\"1.4\\\",\\\"1.41\\\",\\\"1.42\\\",\\\"1.43\\\",\\\"1.44\\\",\\\"1.45\\\",\\\"1.46\\\",\\\"1.47\\\",\\\"1.48\\\",\\\"1.49\\\",\\\"1.5\\\",\\\"1.51\\\",\\\"1.52\\\",\\\"1.53\\\",\\\"1.54\\\",\\\"1.55\\\",\\\"1.56\\\",\\\"1.57\\\",\\\"1.58\\\",\\\"1.59\\\",\\\"1.6\\\",\\\"1.61\\\",\\\"1.62\\\",\\\"1.63\\\",\\\"1.64\\\",\\\"1.65\\\",\\\"1.66\\\",\\\"1.67\\\",\\\"1.68\\\",\\\"1.69\\\",\\\"1.7\\\",\\\"1.71\\\",\\\"1.72\\\",\\\"1.73\\\",\\\"1.74\\\",\\\"1.75\\\",\\\"1.76\\\",\\\"1.77\\\",\\\"1.78\\\",\\\"1.79\\\",\\\"1.8\\\",\\\"1.81\\\",\\\"1.82\\\",\\\"1.83\\\",\\\"1.84\\\",\\\"1.85\\\",\\\"1.86\\\",\\\"1.87\\\",\\\"1.88\\\",\\\"1.89\\\",\\\"1.9\\\",\\\"1.91\\\",\\\"1.92\\\",\\\"1.93\\\",\\\"1.94\\\",\\\"1.95\\\",\\\"1.96\\\",\\\"1.97\\\",\\\"1.98\\\",\\\"1.99\\\",\\\"2.0\\\"],\\\"changes\\\":WebIO.getval({\\\"name\\\":\\\"changes\\\",\\\"scope\\\":\\\"17684240501038199874\\\",\\\"id\\\":\\\"ob_48\\\",\\\"type\\\":\\\"observable\\\"}),\\\"index\\\":WebIO.getval({\\\"name\\\":\\\"index\\\",\\\"scope\\\":\\\"17684240501038199874\\\",\\\"id\\\":\\\"ob_47\\\",\\\"type\\\":\\\"observable\\\"})};\\n    var self = this;\\n    function AppViewModel() {\\n        for (var key in json_data) {\\n            var el = json_data[key];\\n            this[key] = Array.isArray(el) ? ko.observableArray(el) : ko.observable(el);\\n        }\\n        \\n        [this[\\\"formatted_val\\\"]=ko.computed(    function(){\\n        return this.formatted_vals()[parseInt(this.index())-(1)];\\n    }\\n,this)]\\n        [this[\\\"changes\\\"].subscribe((function (val){!(this.valueFromJulia[\\\"changes\\\"]) ? (WebIO.setval({\\\"name\\\":\\\"changes\\\",\\\"scope\\\":\\\"17684240501038199874\\\",\\\"id\\\":\\\"ob_48\\\",\\\"type\\\":\\\"observable\\\"},val)) : undefined; return this.valueFromJulia[\\\"changes\\\"]=false}),self),this[\\\"index\\\"].subscribe((function (val){!(this.valueFromJulia[\\\"index\\\"]) ? (WebIO.setval({\\\"name\\\":\\\"index\\\",\\\"scope\\\":\\\"17684240501038199874\\\",\\\"id\\\":\\\"ob_47\\\",\\\"type\\\":\\\"observable\\\"},val)) : undefined; return this.valueFromJulia[\\\"index\\\"]=false}),self)]\\n        \\n    }\\n    self.model = new AppViewModel();\\n    self.valueFromJulia = {};\\n    for (var key in json_data) {\\n        self.valueFromJulia[key] = false;\\n    }\\n    ko.applyBindings(self.model, self.dom);\\n}\\n);\\n    (WebIO.importBlock({\\\"data\\\":[{\\\"name\\\":\\\"knockout\\\",\\\"type\\\":\\\"js\\\",\\\"url\\\":\\\"/assetserver/acf0924a365e010bf6a3eb46a136f582bb3d7da4-knockout.js\\\"},{\\\"name\\\":\\\"knockout_punches\\\",\\\"type\\\":\\\"js\\\",\\\"url\\\":\\\"/assetserver/5ea3afb6d7dd7ccff78b8ae481a9e30e62bf0288-knockout_punches.js\\\"}],\\\"type\\\":\\\"async_block\\\"})).then((imports) => handler.apply(this, imports));\\n}\\n\")])], Dict{Symbol,Any}(:className => \"field interact-widget\")), Node{WebIO.DOM}(WebIO.DOM(:html, :div), Any[Scope(Node{WebIO.DOM}(WebIO.DOM(:html, :div), Any[Node{WebIO.DOM}(WebIO.DOM(:html, :div), Any[Node{WebIO.DOM}(WebIO.DOM(:html, :label), Any[\"K1\"], Dict{Symbol,Any}(:className => \"interact \",:style => Dict{Any,Any}(:padding => \"5px 10px 0px 10px\")))], Dict{Symbol,Any}(:className => \"interact-flex-row-left\")), Node{WebIO.DOM}(WebIO.DOM(:html, :div), Any[Node{WebIO.DOM}(WebIO.DOM(:html, :input), Any[], Dict{Symbol,Any}(:max => 291,:min => 1,:attributes => Dict{Any,Any}(:type => \"range\",Symbol(\"data-bind\") => \"numericValue: index, valueUpdate: 'input', event: {change: function (){this.changes(this.changes()+1)}}\",\"orient\" => \"horizontal\"),:step => 1,:className => \"slider slider is-fullwidth\",:style => Dict{Any,Any}()))], Dict{Symbol,Any}(:className => \"interact-flex-row-center\")), Node{WebIO.DOM}(WebIO.DOM(:html, :div), Any[Node{WebIO.DOM}(WebIO.DOM(:html, :p), Any[], Dict{Symbol,Any}(:attributes => Dict(\"data-bind\" => \"text: formatted_val\")))], Dict{Symbol,Any}(:className => \"interact-flex-row-right\"))], Dict{Symbol,Any}(:className => \"interact-flex-row interact-widget\")), Dict{String,Tuple{Observables.AbstractObservable,Union{Nothing, Bool}}}(\"changes\" => (Observable{Int64} with 1 listeners. Value:\n",
       "0, nothing),\"index\" => (Observable{Any} with 2 listeners. Value:\n",
       "141, nothing)), Set(String[]), nothing, Asset[Asset(\"js\", \"knockout\", \"/Users/carlingbieg/.julia/packages/Knockout/1sDlc/src/../assets/knockout.js\"), Asset(\"js\", \"knockout_punches\", \"/Users/carlingbieg/.julia/packages/Knockout/1sDlc/src/../assets/knockout_punches.js\"), Asset(\"js\", nothing, \"/Users/carlingbieg/.julia/packages/InteractBase/9mFwe/src/../assets/all.js\"), Asset(\"css\", nothing, \"/Users/carlingbieg/.julia/packages/InteractBase/9mFwe/src/../assets/style.css\"), Asset(\"css\", nothing, \"/Users/carlingbieg/.julia/packages/Interact/SbgIk/src/../assets/bulma_confined.min.css\")], Dict{Any,Any}(\"changes\" => Any[WebIO.JSString(\"(function (val){return (val!=this.model[\\\"changes\\\"]()) ? (this.valueFromJulia[\\\"changes\\\"]=true, this.model[\\\"changes\\\"](val)) : undefined})\")],\"index\" => Any[WebIO.JSString(\"(function (val){return (val!=this.model[\\\"index\\\"]()) ? (this.valueFromJulia[\\\"index\\\"]=true, this.model[\\\"index\\\"](val)) : undefined})\")]), WebIO.ConnectionPool(Channel{Any}(sz_max:32,sz_curr:0), Set(AbstractConnection[]), Base.GenericCondition{Base.AlwaysLockedST}(Base.InvasiveLinkedList{Task}(Task (runnable) @0x0000000134a3f850, Task (runnable) @0x0000000134a3f850), Base.AlwaysLockedST(1))), WebIO.JSString[WebIO.JSString(\"function () {\\n    var handler = (function (ko, koPunches) {\\n    ko.punches.enableAll();\\n    ko.bindingHandlers.numericValue = {\\n        init: function(element, valueAccessor, allBindings, data, context) {\\n            var stringified = ko.observable(ko.unwrap(valueAccessor()));\\n            stringified.subscribe(function(value) {\\n                var val = parseFloat(value);\\n                if (!isNaN(val)) {\\n                    valueAccessor()(val);\\n                }\\n            });\\n            valueAccessor().subscribe(function(value) {\\n                var str = JSON.stringify(value);\\n                if ((str == \\\"0\\\") && ([\\\"-0\\\", \\\"-0.\\\"].indexOf(stringified()) >= 0))\\n                     return;\\n                 if ([\\\"null\\\", \\\"\\\"].indexOf(str) >= 0)\\n                     return;\\n                stringified(str);\\n            });\\n            ko.applyBindingsToNode(\\n                element,\\n                {\\n                    value: stringified,\\n                    valueUpdate: allBindings.get('valueUpdate'),\\n                },\\n                context,\\n            );\\n        }\\n    };\\n    var json_data = {\\\"formatted_vals\\\":[\\\"0.1\\\",\\\"0.11\\\",\\\"0.12\\\",\\\"0.13\\\",\\\"0.14\\\",\\\"0.15\\\",\\\"0.16\\\",\\\"0.17\\\",\\\"0.18\\\",\\\"0.19\\\",\\\"0.2\\\",\\\"0.21\\\",\\\"0.22\\\",\\\"0.23\\\",\\\"0.24\\\",\\\"0.25\\\",\\\"0.26\\\",\\\"0.27\\\",\\\"0.28\\\",\\\"0.29\\\",\\\"0.3\\\",\\\"0.31\\\",\\\"0.32\\\",\\\"0.33\\\",\\\"0.34\\\",\\\"0.35\\\",\\\"0.36\\\",\\\"0.37\\\",\\\"0.38\\\",\\\"0.39\\\",\\\"0.4\\\",\\\"0.41\\\",\\\"0.42\\\",\\\"0.43\\\",\\\"0.44\\\",\\\"0.45\\\",\\\"0.46\\\",\\\"0.47\\\",\\\"0.48\\\",\\\"0.49\\\",\\\"0.5\\\",\\\"0.51\\\",\\\"0.52\\\",\\\"0.53\\\",\\\"0.54\\\",\\\"0.55\\\",\\\"0.56\\\",\\\"0.57\\\",\\\"0.58\\\",\\\"0.59\\\",\\\"0.6\\\",\\\"0.61\\\",\\\"0.62\\\",\\\"0.63\\\",\\\"0.64\\\",\\\"0.65\\\",\\\"0.66\\\",\\\"0.67\\\",\\\"0.68\\\",\\\"0.69\\\",\\\"0.7\\\",\\\"0.71\\\",\\\"0.72\\\",\\\"0.73\\\",\\\"0.74\\\",\\\"0.75\\\",\\\"0.76\\\",\\\"0.77\\\",\\\"0.78\\\",\\\"0.79\\\",\\\"0.8\\\",\\\"0.81\\\",\\\"0.82\\\",\\\"0.83\\\",\\\"0.84\\\",\\\"0.85\\\",\\\"0.86\\\",\\\"0.87\\\",\\\"0.88\\\",\\\"0.89\\\",\\\"0.9\\\",\\\"0.91\\\",\\\"0.92\\\",\\\"0.93\\\",\\\"0.94\\\",\\\"0.95\\\",\\\"0.96\\\",\\\"0.97\\\",\\\"0.98\\\",\\\"0.99\\\",\\\"1.0\\\",\\\"1.01\\\",\\\"1.02\\\",\\\"1.03\\\",\\\"1.04\\\",\\\"1.05\\\",\\\"1.06\\\",\\\"1.07\\\",\\\"1.08\\\",\\\"1.09\\\",\\\"1.1\\\",\\\"1.11\\\",\\\"1.12\\\",\\\"1.13\\\",\\\"1.14\\\",\\\"1.15\\\",\\\"1.16\\\",\\\"1.17\\\",\\\"1.18\\\",\\\"1.19\\\",\\\"1.2\\\",\\\"1.21\\\",\\\"1.22\\\",\\\"1.23\\\",\\\"1.24\\\",\\\"1.25\\\",\\\"1.26\\\",\\\"1.27\\\",\\\"1.28\\\",\\\"1.29\\\",\\\"1.3\\\",\\\"1.31\\\",\\\"1.32\\\",\\\"1.33\\\",\\\"1.34\\\",\\\"1.35\\\",\\\"1.36\\\",\\\"1.37\\\",\\\"1.38\\\",\\\"1.39\\\",\\\"1.4\\\",\\\"1.41\\\",\\\"1.42\\\",\\\"1.43\\\",\\\"1.44\\\",\\\"1.45\\\",\\\"1.46\\\",\\\"1.47\\\",\\\"1.48\\\",\\\"1.49\\\",\\\"1.5\\\",\\\"1.51\\\",\\\"1.52\\\",\\\"1.53\\\",\\\"1.54\\\",\\\"1.55\\\",\\\"1.56\\\",\\\"1.57\\\",\\\"1.58\\\",\\\"1.59\\\",\\\"1.6\\\",\\\"1.61\\\",\\\"1.62\\\",\\\"1.63\\\",\\\"1.64\\\",\\\"1.65\\\",\\\"1.66\\\",\\\"1.67\\\",\\\"1.68\\\",\\\"1.69\\\",\\\"1.7\\\",\\\"1.71\\\",\\\"1.72\\\",\\\"1.73\\\",\\\"1.74\\\",\\\"1.75\\\",\\\"1.76\\\",\\\"1.77\\\",\\\"1.78\\\",\\\"1.79\\\",\\\"1.8\\\",\\\"1.81\\\",\\\"1.82\\\",\\\"1.83\\\",\\\"1.84\\\",\\\"1.85\\\",\\\"1.86\\\",\\\"1.87\\\",\\\"1.88\\\",\\\"1.89\\\",\\\"1.9\\\",\\\"1.91\\\",\\\"1.92\\\",\\\"1.93\\\",\\\"1.94\\\",\\\"1.95\\\",\\\"1.96\\\",\\\"1.97\\\",\\\"1.98\\\",\\\"1.99\\\",\\\"2.0\\\",\\\"2.01\\\",\\\"2.02\\\",\\\"2.03\\\",\\\"2.04\\\",\\\"2.05\\\",\\\"2.06\\\",\\\"2.07\\\",\\\"2.08\\\",\\\"2.09\\\",\\\"2.1\\\",\\\"2.11\\\",\\\"2.12\\\",\\\"2.13\\\",\\\"2.14\\\",\\\"2.15\\\",\\\"2.16\\\",\\\"2.17\\\",\\\"2.18\\\",\\\"2.19\\\",\\\"2.2\\\",\\\"2.21\\\",\\\"2.22\\\",\\\"2.23\\\",\\\"2.24\\\",\\\"2.25\\\",\\\"2.26\\\",\\\"2.27\\\",\\\"2.28\\\",\\\"2.29\\\",\\\"2.3\\\",\\\"2.31\\\",\\\"2.32\\\",\\\"2.33\\\",\\\"2.34\\\",\\\"2.35\\\",\\\"2.36\\\",\\\"2.37\\\",\\\"2.38\\\",\\\"2.39\\\",\\\"2.4\\\",\\\"2.41\\\",\\\"2.42\\\",\\\"2.43\\\",\\\"2.44\\\",\\\"2.45\\\",\\\"2.46\\\",\\\"2.47\\\",\\\"2.48\\\",\\\"2.49\\\",\\\"2.5\\\",\\\"2.51\\\",\\\"2.52\\\",\\\"2.53\\\",\\\"2.54\\\",\\\"2.55\\\",\\\"2.56\\\",\\\"2.57\\\",\\\"2.58\\\",\\\"2.59\\\",\\\"2.6\\\",\\\"2.61\\\",\\\"2.62\\\",\\\"2.63\\\",\\\"2.64\\\",\\\"2.65\\\",\\\"2.66\\\",\\\"2.67\\\",\\\"2.68\\\",\\\"2.69\\\",\\\"2.7\\\",\\\"2.71\\\",\\\"2.72\\\",\\\"2.73\\\",\\\"2.74\\\",\\\"2.75\\\",\\\"2.76\\\",\\\"2.77\\\",\\\"2.78\\\",\\\"2.79\\\",\\\"2.8\\\",\\\"2.81\\\",\\\"2.82\\\",\\\"2.83\\\",\\\"2.84\\\",\\\"2.85\\\",\\\"2.86\\\",\\\"2.87\\\",\\\"2.88\\\",\\\"2.89\\\",\\\"2.9\\\",\\\"2.91\\\",\\\"2.92\\\",\\\"2.93\\\",\\\"2.94\\\",\\\"2.95\\\",\\\"2.96\\\",\\\"2.97\\\",\\\"2.98\\\",\\\"2.99\\\",\\\"3.0\\\"],\\\"changes\\\":WebIO.getval({\\\"name\\\":\\\"changes\\\",\\\"scope\\\":\\\"16955282998197289645\\\",\\\"id\\\":\\\"ob_51\\\",\\\"type\\\":\\\"observable\\\"}),\\\"index\\\":WebIO.getval({\\\"name\\\":\\\"index\\\",\\\"scope\\\":\\\"16955282998197289645\\\",\\\"id\\\":\\\"ob_50\\\",\\\"type\\\":\\\"observable\\\"})};\\n    var self = this;\\n    function AppViewModel() {\\n        for (var key in json_data) {\\n            var el = json_data[key];\\n            this[key] = Array.isArray(el) ? ko.observableArray(el) : ko.observable(el);\\n        }\\n        \\n        [this[\\\"formatted_val\\\"]=ko.computed(    function(){\\n        return this.formatted_vals()[parseInt(this.index())-(1)];\\n    }\\n,this)]\\n        [this[\\\"changes\\\"].subscribe((function (val){!(this.valueFromJulia[\\\"changes\\\"]) ? (WebIO.setval({\\\"name\\\":\\\"changes\\\",\\\"scope\\\":\\\"16955282998197289645\\\",\\\"id\\\":\\\"ob_51\\\",\\\"type\\\":\\\"observable\\\"},val)) : undefined; return this.valueFromJulia[\\\"changes\\\"]=false}),self),this[\\\"index\\\"].subscribe((function (val){!(this.valueFromJulia[\\\"index\\\"]) ? (WebIO.setval({\\\"name\\\":\\\"index\\\",\\\"scope\\\":\\\"16955282998197289645\\\",\\\"id\\\":\\\"ob_50\\\",\\\"type\\\":\\\"observable\\\"},val)) : undefined; return this.valueFromJulia[\\\"index\\\"]=false}),self)]\\n        \\n    }\\n    self.model = new AppViewModel();\\n    self.valueFromJulia = {};\\n    for (var key in json_data) {\\n        self.valueFromJulia[key] = false;\\n    }\\n    ko.applyBindings(self.model, self.dom);\\n}\\n);\\n    (WebIO.importBlock({\\\"data\\\":[{\\\"name\\\":\\\"knockout\\\",\\\"type\\\":\\\"js\\\",\\\"url\\\":\\\"/assetserver/acf0924a365e010bf6a3eb46a136f582bb3d7da4-knockout.js\\\"},{\\\"name\\\":\\\"knockout_punches\\\",\\\"type\\\":\\\"js\\\",\\\"url\\\":\\\"/assetserver/5ea3afb6d7dd7ccff78b8ae481a9e30e62bf0288-knockout_punches.js\\\"}],\\\"type\\\":\\\"async_block\\\"})).then((imports) => handler.apply(this, imports));\\n}\\n\")])], Dict{Symbol,Any}(:className => \"field interact-widget\")), Node{WebIO.DOM}(WebIO.DOM(:html, :div), Any[Scope(Node{WebIO.DOM}(WebIO.DOM(:html, :div), Any[Node{WebIO.DOM}(WebIO.DOM(:html, :div), Any[Node{WebIO.DOM}(WebIO.DOM(:html, :label), Any[\"K2\"], Dict{Symbol,Any}(:className => \"interact \",:style => Dict{Any,Any}(:padding => \"5px 10px 0px 10px\")))], Dict{Symbol,Any}(:className => \"interact-flex-row-left\")), Node{WebIO.DOM}(WebIO.DOM(:html, :div), Any[Node{WebIO.DOM}(WebIO.DOM(:html, :input), Any[], Dict{Symbol,Any}(:max => 291,:min => 1,:attributes => Dict{Any,Any}(:type => \"range\",Symbol(\"data-bind\") => \"numericValue: index, valueUpdate: 'input', event: {change: function (){this.changes(this.changes()+1)}}\",\"orient\" => \"horizontal\"),:step => 1,:className => \"slider slider is-fullwidth\",:style => Dict{Any,Any}()))], Dict{Symbol,Any}(:className => \"interact-flex-row-center\")), Node{WebIO.DOM}(WebIO.DOM(:html, :div), Any[Node{WebIO.DOM}(WebIO.DOM(:html, :p), Any[], Dict{Symbol,Any}(:attributes => Dict(\"data-bind\" => \"text: formatted_val\")))], Dict{Symbol,Any}(:className => \"interact-flex-row-right\"))], Dict{Symbol,Any}(:className => \"interact-flex-row interact-widget\")), Dict{String,Tuple{Observables.AbstractObservable,Union{Nothing, Bool}}}(\"changes\" => (Observable{Int64} with 1 listeners. Value:\n",
       "0, nothing),\"index\" => (Observable{Any} with 2 listeners. Value:\n",
       "91, nothing)), Set(String[]), nothing, Asset[Asset(\"js\", \"knockout\", \"/Users/carlingbieg/.julia/packages/Knockout/1sDlc/src/../assets/knockout.js\"), Asset(\"js\", \"knockout_punches\", \"/Users/carlingbieg/.julia/packages/Knockout/1sDlc/src/../assets/knockout_punches.js\"), Asset(\"js\", nothing, \"/Users/carlingbieg/.julia/packages/InteractBase/9mFwe/src/../assets/all.js\"), Asset(\"css\", nothing, \"/Users/carlingbieg/.julia/packages/InteractBase/9mFwe/src/../assets/style.css\"), Asset(\"css\", nothing, \"/Users/carlingbieg/.julia/packages/Interact/SbgIk/src/../assets/bulma_confined.min.css\")], Dict{Any,Any}(\"changes\" => Any[WebIO.JSString(\"(function (val){return (val!=this.model[\\\"changes\\\"]()) ? (this.valueFromJulia[\\\"changes\\\"]=true, this.model[\\\"changes\\\"](val)) : undefined})\")],\"index\" => Any[WebIO.JSString(\"(function (val){return (val!=this.model[\\\"index\\\"]()) ? (this.valueFromJulia[\\\"index\\\"]=true, this.model[\\\"index\\\"](val)) : undefined})\")]), WebIO.ConnectionPool(Channel{Any}(sz_max:32,sz_curr:0), Set(AbstractConnection[]), Base.GenericCondition{Base.AlwaysLockedST}(Base.InvasiveLinkedList{Task}(Task (runnable) @0x0000000134a3fcd0, Task (runnable) @0x0000000134a3fcd0), Base.AlwaysLockedST(1))), WebIO.JSString[WebIO.JSString(\"function () {\\n    var handler = (function (ko, koPunches) {\\n    ko.punches.enableAll();\\n    ko.bindingHandlers.numericValue = {\\n        init: function(element, valueAccessor, allBindings, data, context) {\\n            var stringified = ko.observable(ko.unwrap(valueAccessor()));\\n            stringified.subscribe(function(value) {\\n                var val = parseFloat(value);\\n                if (!isNaN(val)) {\\n                    valueAccessor()(val);\\n                }\\n            });\\n            valueAccessor().subscribe(function(value) {\\n                var str = JSON.stringify(value);\\n                if ((str == \\\"0\\\") && ([\\\"-0\\\", \\\"-0.\\\"].indexOf(stringified()) >= 0))\\n                     return;\\n                 if ([\\\"null\\\", \\\"\\\"].indexOf(str) >= 0)\\n                     return;\\n                stringified(str);\\n            });\\n            ko.applyBindingsToNode(\\n                element,\\n                {\\n                    value: stringified,\\n                    valueUpdate: allBindings.get('valueUpdate'),\\n                },\\n                context,\\n            );\\n        }\\n    };\\n    var json_data = {\\\"formatted_vals\\\":[\\\"0.1\\\",\\\"0.11\\\",\\\"0.12\\\",\\\"0.13\\\",\\\"0.14\\\",\\\"0.15\\\",\\\"0.16\\\",\\\"0.17\\\",\\\"0.18\\\",\\\"0.19\\\",\\\"0.2\\\",\\\"0.21\\\",\\\"0.22\\\",\\\"0.23\\\",\\\"0.24\\\",\\\"0.25\\\",\\\"0.26\\\",\\\"0.27\\\",\\\"0.28\\\",\\\"0.29\\\",\\\"0.3\\\",\\\"0.31\\\",\\\"0.32\\\",\\\"0.33\\\",\\\"0.34\\\",\\\"0.35\\\",\\\"0.36\\\",\\\"0.37\\\",\\\"0.38\\\",\\\"0.39\\\",\\\"0.4\\\",\\\"0.41\\\",\\\"0.42\\\",\\\"0.43\\\",\\\"0.44\\\",\\\"0.45\\\",\\\"0.46\\\",\\\"0.47\\\",\\\"0.48\\\",\\\"0.49\\\",\\\"0.5\\\",\\\"0.51\\\",\\\"0.52\\\",\\\"0.53\\\",\\\"0.54\\\",\\\"0.55\\\",\\\"0.56\\\",\\\"0.57\\\",\\\"0.58\\\",\\\"0.59\\\",\\\"0.6\\\",\\\"0.61\\\",\\\"0.62\\\",\\\"0.63\\\",\\\"0.64\\\",\\\"0.65\\\",\\\"0.66\\\",\\\"0.67\\\",\\\"0.68\\\",\\\"0.69\\\",\\\"0.7\\\",\\\"0.71\\\",\\\"0.72\\\",\\\"0.73\\\",\\\"0.74\\\",\\\"0.75\\\",\\\"0.76\\\",\\\"0.77\\\",\\\"0.78\\\",\\\"0.79\\\",\\\"0.8\\\",\\\"0.81\\\",\\\"0.82\\\",\\\"0.83\\\",\\\"0.84\\\",\\\"0.85\\\",\\\"0.86\\\",\\\"0.87\\\",\\\"0.88\\\",\\\"0.89\\\",\\\"0.9\\\",\\\"0.91\\\",\\\"0.92\\\",\\\"0.93\\\",\\\"0.94\\\",\\\"0.95\\\",\\\"0.96\\\",\\\"0.97\\\",\\\"0.98\\\",\\\"0.99\\\",\\\"1.0\\\",\\\"1.01\\\",\\\"1.02\\\",\\\"1.03\\\",\\\"1.04\\\",\\\"1.05\\\",\\\"1.06\\\",\\\"1.07\\\",\\\"1.08\\\",\\\"1.09\\\",\\\"1.1\\\",\\\"1.11\\\",\\\"1.12\\\",\\\"1.13\\\",\\\"1.14\\\",\\\"1.15\\\",\\\"1.16\\\",\\\"1.17\\\",\\\"1.18\\\",\\\"1.19\\\",\\\"1.2\\\",\\\"1.21\\\",\\\"1.22\\\",\\\"1.23\\\",\\\"1.24\\\",\\\"1.25\\\",\\\"1.26\\\",\\\"1.27\\\",\\\"1.28\\\",\\\"1.29\\\",\\\"1.3\\\",\\\"1.31\\\",\\\"1.32\\\",\\\"1.33\\\",\\\"1.34\\\",\\\"1.35\\\",\\\"1.36\\\",\\\"1.37\\\",\\\"1.38\\\",\\\"1.39\\\",\\\"1.4\\\",\\\"1.41\\\",\\\"1.42\\\",\\\"1.43\\\",\\\"1.44\\\",\\\"1.45\\\",\\\"1.46\\\",\\\"1.47\\\",\\\"1.48\\\",\\\"1.49\\\",\\\"1.5\\\",\\\"1.51\\\",\\\"1.52\\\",\\\"1.53\\\",\\\"1.54\\\",\\\"1.55\\\",\\\"1.56\\\",\\\"1.57\\\",\\\"1.58\\\",\\\"1.59\\\",\\\"1.6\\\",\\\"1.61\\\",\\\"1.62\\\",\\\"1.63\\\",\\\"1.64\\\",\\\"1.65\\\",\\\"1.66\\\",\\\"1.67\\\",\\\"1.68\\\",\\\"1.69\\\",\\\"1.7\\\",\\\"1.71\\\",\\\"1.72\\\",\\\"1.73\\\",\\\"1.74\\\",\\\"1.75\\\",\\\"1.76\\\",\\\"1.77\\\",\\\"1.78\\\",\\\"1.79\\\",\\\"1.8\\\",\\\"1.81\\\",\\\"1.82\\\",\\\"1.83\\\",\\\"1.84\\\",\\\"1.85\\\",\\\"1.86\\\",\\\"1.87\\\",\\\"1.88\\\",\\\"1.89\\\",\\\"1.9\\\",\\\"1.91\\\",\\\"1.92\\\",\\\"1.93\\\",\\\"1.94\\\",\\\"1.95\\\",\\\"1.96\\\",\\\"1.97\\\",\\\"1.98\\\",\\\"1.99\\\",\\\"2.0\\\",\\\"2.01\\\",\\\"2.02\\\",\\\"2.03\\\",\\\"2.04\\\",\\\"2.05\\\",\\\"2.06\\\",\\\"2.07\\\",\\\"2.08\\\",\\\"2.09\\\",\\\"2.1\\\",\\\"2.11\\\",\\\"2.12\\\",\\\"2.13\\\",\\\"2.14\\\",\\\"2.15\\\",\\\"2.16\\\",\\\"2.17\\\",\\\"2.18\\\",\\\"2.19\\\",\\\"2.2\\\",\\\"2.21\\\",\\\"2.22\\\",\\\"2.23\\\",\\\"2.24\\\",\\\"2.25\\\",\\\"2.26\\\",\\\"2.27\\\",\\\"2.28\\\",\\\"2.29\\\",\\\"2.3\\\",\\\"2.31\\\",\\\"2.32\\\",\\\"2.33\\\",\\\"2.34\\\",\\\"2.35\\\",\\\"2.36\\\",\\\"2.37\\\",\\\"2.38\\\",\\\"2.39\\\",\\\"2.4\\\",\\\"2.41\\\",\\\"2.42\\\",\\\"2.43\\\",\\\"2.44\\\",\\\"2.45\\\",\\\"2.46\\\",\\\"2.47\\\",\\\"2.48\\\",\\\"2.49\\\",\\\"2.5\\\",\\\"2.51\\\",\\\"2.52\\\",\\\"2.53\\\",\\\"2.54\\\",\\\"2.55\\\",\\\"2.56\\\",\\\"2.57\\\",\\\"2.58\\\",\\\"2.59\\\",\\\"2.6\\\",\\\"2.61\\\",\\\"2.62\\\",\\\"2.63\\\",\\\"2.64\\\",\\\"2.65\\\",\\\"2.66\\\",\\\"2.67\\\",\\\"2.68\\\",\\\"2.69\\\",\\\"2.7\\\",\\\"2.71\\\",\\\"2.72\\\",\\\"2.73\\\",\\\"2.74\\\",\\\"2.75\\\",\\\"2.76\\\",\\\"2.77\\\",\\\"2.78\\\",\\\"2.79\\\",\\\"2.8\\\",\\\"2.81\\\",\\\"2.82\\\",\\\"2.83\\\",\\\"2.84\\\",\\\"2.85\\\",\\\"2.86\\\",\\\"2.87\\\",\\\"2.88\\\",\\\"2.89\\\",\\\"2.9\\\",\\\"2.91\\\",\\\"2.92\\\",\\\"2.93\\\",\\\"2.94\\\",\\\"2.95\\\",\\\"2.96\\\",\\\"2.97\\\",\\\"2.98\\\",\\\"2.99\\\",\\\"3.0\\\"],\\\"changes\\\":WebIO.getval({\\\"name\\\":\\\"changes\\\",\\\"scope\\\":\\\"8811060909830195705\\\",\\\"id\\\":\\\"ob_54\\\",\\\"type\\\":\\\"observable\\\"}),\\\"index\\\":WebIO.getval({\\\"name\\\":\\\"index\\\",\\\"scope\\\":\\\"8811060909830195705\\\",\\\"id\\\":\\\"ob_53\\\",\\\"type\\\":\\\"observable\\\"})};\\n    var self = this;\\n    function AppViewModel() {\\n        for (var key in json_data) {\\n            var el = json_data[key];\\n            this[key] = Array.isArray(el) ? ko.observableArray(el) : ko.observable(el);\\n        }\\n        \\n        [this[\\\"formatted_val\\\"]=ko.computed(    function(){\\n        return this.formatted_vals()[parseInt(this.index())-(1)];\\n    }\\n,this)]\\n        [this[\\\"changes\\\"].subscribe((function (val){!(this.valueFromJulia[\\\"changes\\\"]) ? (WebIO.setval({\\\"name\\\":\\\"changes\\\",\\\"scope\\\":\\\"8811060909830195705\\\",\\\"id\\\":\\\"ob_54\\\",\\\"type\\\":\\\"observable\\\"},val)) : undefined; return this.valueFromJulia[\\\"changes\\\"]=false}),self),this[\\\"index\\\"].subscribe((function (val){!(this.valueFromJulia[\\\"index\\\"]) ? (WebIO.setval({\\\"name\\\":\\\"index\\\",\\\"scope\\\":\\\"8811060909830195705\\\",\\\"id\\\":\\\"ob_53\\\",\\\"type\\\":\\\"observable\\\"},val)) : undefined; return this.valueFromJulia[\\\"index\\\"]=false}),self)]\\n        \\n    }\\n    self.model = new AppViewModel();\\n    self.valueFromJulia = {};\\n    for (var key in json_data) {\\n        self.valueFromJulia[key] = false;\\n    }\\n    ko.applyBindings(self.model, self.dom);\\n}\\n);\\n    (WebIO.importBlock({\\\"data\\\":[{\\\"name\\\":\\\"knockout\\\",\\\"type\\\":\\\"js\\\",\\\"url\\\":\\\"/assetserver/acf0924a365e010bf6a3eb46a136f582bb3d7da4-knockout.js\\\"},{\\\"name\\\":\\\"knockout_punches\\\",\\\"type\\\":\\\"js\\\",\\\"url\\\":\\\"/assetserver/5ea3afb6d7dd7ccff78b8ae481a9e30e62bf0288-knockout_punches.js\\\"}],\\\"type\\\":\\\"async_block\\\"})).then((imports) => handler.apply(this, imports));\\n}\\n\")])], Dict{Symbol,Any}(:className => \"field interact-widget\")), Node{WebIO.DOM}(WebIO.DOM(:html, :div), Any[Scope(Node{WebIO.DOM}(WebIO.DOM(:html, :div), Any[Node{WebIO.DOM}(WebIO.DOM(:html, :div), Any[Node{WebIO.DOM}(WebIO.DOM(:html, :label), Any[\"r1\"], Dict{Symbol,Any}(:className => \"interact \",:style => Dict{Any,Any}(:padding => \"5px 10px 0px 10px\")))], Dict{Symbol,Any}(:className => \"interact-flex-row-left\")), Node{WebIO.DOM}(WebIO.DOM(:html, :div), Any[Node{WebIO.DOM}(WebIO.DOM(:html, :input), Any[], Dict{Symbol,Any}(:max => 991,:min => 1,:attributes => Dict{Any,Any}(:type => \"range\",Symbol(\"data-bind\") => \"numericValue: index, valueUpdate: 'input', event: {change: function (){this.changes(this.changes()+1)}}\",\"orient\" => \"horizontal\"),:step => 1,:className => \"slider slider is-fullwidth\",:style => Dict{Any,Any}()))], Dict{Symbol,Any}(:className => \"interact-flex-row-center\")), Node{WebIO.DOM}(WebIO.DOM(:html, :div), Any[Node{WebIO.DOM}(WebIO.DOM(:html, :p), Any[], Dict{Symbol,Any}(:attributes => Dict(\"data-bind\" => \"text: formatted_val\")))], Dict{Symbol,Any}(:className => \"interact-flex-row-right\"))], Dict{Symbol,Any}(:className => \"interact-flex-row interact-widget\")), Dict{String,Tuple{Observables.AbstractObservable,Union{Nothing, Bool}}}(\"changes\" => (Observable{Int64} with 1 listeners. Value:\n",
       "0, nothing),\"index\" => (Observable{Any} with 2 listeners. Value:\n",
       "91, nothing)), Set(String[]), nothing, Asset[Asset(\"js\", \"knockout\", \"/Users/carlingbieg/.julia/packages/Knockout/1sDlc/src/../assets/knockout.js\"), Asset(\"js\", \"knockout_punches\", \"/Users/carlingbieg/.julia/packages/Knockout/1sDlc/src/../assets/knockout_punches.js\"), Asset(\"js\", nothing, \"/Users/carlingbieg/.julia/packages/InteractBase/9mFwe/src/../assets/all.js\"), Asset(\"css\", nothing, \"/Users/carlingbieg/.julia/packages/InteractBase/9mFwe/src/../assets/style.css\"), Asset(\"css\", nothing, \"/Users/carlingbieg/.julia/packages/Interact/SbgIk/src/../assets/bulma_confined.min.css\")], Dict{Any,Any}(\"changes\" => Any[WebIO.JSString(\"(function (val){return (val!=this.model[\\\"changes\\\"]()) ? (this.valueFromJulia[\\\"changes\\\"]=true, this.model[\\\"changes\\\"](val)) : undefined})\")],\"index\" => Any[WebIO.JSString(\"(function (val){return (val!=this.model[\\\"index\\\"]()) ? (this.valueFromJulia[\\\"index\\\"]=true, this.model[\\\"index\\\"](val)) : undefined})\")]), WebIO.ConnectionPool(Channel{Any}(sz_max:32,sz_curr:0), Set(AbstractConnection[]), Base.GenericCondition{Base.AlwaysLockedST}(Base.InvasiveLinkedList{Task}(Task (runnable) @0x0000000134a4d8d0, Task (runnable) @0x0000000134a4d8d0), Base.AlwaysLockedST(1))), WebIO.JSString[WebIO.JSString(\"function () {\\n    var handler = (function (ko, koPunches) {\\n    ko.punches.enableAll();\\n    ko.bindingHandlers.numericValue = {\\n        init: function(element, valueAccessor, allBindings, data, context) {\\n            var stringified = ko.observable(ko.unwrap(valueAccessor()));\\n            stringified.subscribe(function(value) {\\n                var val = parseFloat(value);\\n                if (!isNaN(val)) {\\n                    valueAccessor()(val);\\n                }\\n            });\\n            valueAccessor().subscribe(function(value) {\\n                var str = JSON.stringify(value);\\n                if ((str == \\\"0\\\") && ([\\\"-0\\\", \\\"-0.\\\"].indexOf(stringified()) >= 0))\\n                     return;\\n                 if ([\\\"null\\\", \\\"\\\"].indexOf(str) >= 0)\\n                     return;\\n                stringified(str);\\n            });\\n            ko.applyBindingsToNode(\\n                element,\\n                {\\n                    value: stringified,\\n                    valueUpdate: allBindings.get('valueUpdate'),\\n                },\\n                context,\\n            );\\n        }\\n    };\\n    var json_data = {\\\"formatted_vals\\\":[\\\"0.1\\\",\\\"0.11\\\",\\\"0.12\\\",\\\"0.13\\\",\\\"0.14\\\",\\\"0.15\\\",\\\"0.16\\\",\\\"0.17\\\",\\\"0.18\\\",\\\"0.19\\\",\\\"0.2\\\",\\\"0.21\\\",\\\"0.22\\\",\\\"0.23\\\",\\\"0.24\\\",\\\"0.25\\\",\\\"0.26\\\",\\\"0.27\\\",\\\"0.28\\\",\\\"0.29\\\",\\\"0.3\\\",\\\"0.31\\\",\\\"0.32\\\",\\\"0.33\\\",\\\"0.34\\\",\\\"0.35\\\",\\\"0.36\\\",\\\"0.37\\\",\\\"0.38\\\",\\\"0.39\\\",\\\"0.4\\\",\\\"0.41\\\",\\\"0.42\\\",\\\"0.43\\\",\\\"0.44\\\",\\\"0.45\\\",\\\"0.46\\\",\\\"0.47\\\",\\\"0.48\\\",\\\"0.49\\\",\\\"0.5\\\",\\\"0.51\\\",\\\"0.52\\\",\\\"0.53\\\",\\\"0.54\\\",\\\"0.55\\\",\\\"0.56\\\",\\\"0.57\\\",\\\"0.58\\\",\\\"0.59\\\",\\\"0.6\\\",\\\"0.61\\\",\\\"0.62\\\",\\\"0.63\\\",\\\"0.64\\\",\\\"0.65\\\",\\\"0.66\\\",\\\"0.67\\\",\\\"0.68\\\",\\\"0.69\\\",\\\"0.7\\\",\\\"0.71\\\",\\\"0.72\\\",\\\"0.73\\\",\\\"0.74\\\",\\\"0.75\\\",\\\"0.76\\\",\\\"0.77\\\",\\\"0.78\\\",\\\"0.79\\\",\\\"0.8\\\",\\\"0.81\\\",\\\"0.82\\\",\\\"0.83\\\",\\\"0.84\\\",\\\"0.85\\\",\\\"0.86\\\",\\\"0.87\\\",\\\"0.88\\\",\\\"0.89\\\",\\\"0.9\\\",\\\"0.91\\\",\\\"0.92\\\",\\\"0.93\\\",\\\"0.94\\\",\\\"0.95\\\",\\\"0.96\\\",\\\"0.97\\\",\\\"0.98\\\",\\\"0.99\\\",\\\"1.0\\\",\\\"1.01\\\",\\\"1.02\\\",\\\"1.03\\\",\\\"1.04\\\",\\\"1.05\\\",\\\"1.06\\\",\\\"1.07\\\",\\\"1.08\\\",\\\"1.09\\\",\\\"1.1\\\",\\\"1.11\\\",\\\"1.12\\\",\\\"1.13\\\",\\\"1.14\\\",\\\"1.15\\\",\\\"1.16\\\",\\\"1.17\\\",\\\"1.18\\\",\\\"1.19\\\",\\\"1.2\\\",\\\"1.21\\\",\\\"1.22\\\",\\\"1.23\\\",\\\"1.24\\\",\\\"1.25\\\",\\\"1.26\\\",\\\"1.27\\\",\\\"1.28\\\",\\\"1.29\\\",\\\"1.3\\\",\\\"1.31\\\",\\\"1.32\\\",\\\"1.33\\\",\\\"1.34\\\",\\\"1.35\\\",\\\"1.36\\\",\\\"1.37\\\",\\\"1.38\\\",\\\"1.39\\\",\\\"1.4\\\",\\\"1.41\\\",\\\"1.42\\\",\\\"1.43\\\",\\\"1.44\\\",\\\"1.45\\\",\\\"1.46\\\",\\\"1.47\\\",\\\"1.48\\\",\\\"1.49\\\",\\\"1.5\\\",\\\"1.51\\\",\\\"1.52\\\",\\\"1.53\\\",\\\"1.54\\\",\\\"1.55\\\",\\\"1.56\\\",\\\"1.57\\\",\\\"1.58\\\",\\\"1.59\\\",\\\"1.6\\\",\\\"1.61\\\",\\\"1.62\\\",\\\"1.63\\\",\\\"1.64\\\",\\\"1.65\\\",\\\"1.66\\\",\\\"1.67\\\",\\\"1.68\\\",\\\"1.69\\\",\\\"1.7\\\",\\\"1.71\\\",\\\"1.72\\\",\\\"1.73\\\",\\\"1.74\\\",\\\"1.75\\\",\\\"1.76\\\",\\\"1.77\\\",\\\"1.78\\\",\\\"1.79\\\",\\\"1.8\\\",\\\"1.81\\\",\\\"1.82\\\",\\\"1.83\\\",\\\"1.84\\\",\\\"1.85\\\",\\\"1.86\\\",\\\"1.87\\\",\\\"1.88\\\",\\\"1.89\\\",\\\"1.9\\\",\\\"1.91\\\",\\\"1.92\\\",\\\"1.93\\\",\\\"1.94\\\",\\\"1.95\\\",\\\"1.96\\\",\\\"1.97\\\",\\\"1.98\\\",\\\"1.99\\\",\\\"2.0\\\",\\\"2.01\\\",\\\"2.02\\\",\\\"2.03\\\",\\\"2.04\\\",\\\"2.05\\\",\\\"2.06\\\",\\\"2.07\\\",\\\"2.08\\\",\\\"2.09\\\",\\\"2.1\\\",\\\"2.11\\\",\\\"2.12\\\",\\\"2.13\\\",\\\"2.14\\\",\\\"2.15\\\",\\\"2.16\\\",\\\"2.17\\\",\\\"2.18\\\",\\\"2.19\\\",\\\"2.2\\\",\\\"2.21\\\",\\\"2.22\\\",\\\"2.23\\\",\\\"2.24\\\",\\\"2.25\\\",\\\"2.26\\\",\\\"2.27\\\",\\\"2.28\\\",\\\"2.29\\\",\\\"2.3\\\",\\\"2.31\\\",\\\"2.32\\\",\\\"2.33\\\",\\\"2.34\\\",\\\"2.35\\\",\\\"2.36\\\",\\\"2.37\\\",\\\"2.38\\\",\\\"2.39\\\",\\\"2.4\\\",\\\"2.41\\\",\\\"2.42\\\",\\\"2.43\\\",\\\"2.44\\\",\\\"2.45\\\",\\\"2.46\\\",\\\"2.47\\\",\\\"2.48\\\",\\\"2.49\\\",\\\"2.5\\\",\\\"2.51\\\",\\\"2.52\\\",\\\"2.53\\\",\\\"2.54\\\",\\\"2.55\\\",\\\"2.56\\\",\\\"2.57\\\",\\\"2.58\\\",\\\"2.59\\\",\\\"2.6\\\",\\\"2.61\\\",\\\"2.62\\\",\\\"2.63\\\",\\\"2.64\\\",\\\"2.65\\\",\\\"2.66\\\",\\\"2.67\\\",\\\"2.68\\\",\\\"2.69\\\",\\\"2.7\\\",\\\"2.71\\\",\\\"2.72\\\",\\\"2.73\\\",\\\"2.74\\\",\\\"2.75\\\",\\\"2.76\\\",\\\"2.77\\\",\\\"2.78\\\",\\\"2.79\\\",\\\"2.8\\\",\\\"2.81\\\",\\\"2.82\\\",\\\"2.83\\\",\\\"2.84\\\",\\\"2.85\\\",\\\"2.86\\\",\\\"2.87\\\",\\\"2.88\\\",\\\"2.89\\\",\\\"2.9\\\",\\\"2.91\\\",\\\"2.92\\\",\\\"2.93\\\",\\\"2.94\\\",\\\"2.95\\\",\\\"2.96\\\",\\\"2.97\\\",\\\"2.98\\\",\\\"2.99\\\",\\\"3.0\\\",\\\"3.01\\\",\\\"3.02\\\",\\\"3.03\\\",\\\"3.04\\\",\\\"3.05\\\",\\\"3.06\\\",\\\"3.07\\\",\\\"3.08\\\",\\\"3.09\\\",\\\"3.1\\\",\\\"3.11\\\",\\\"3.12\\\",\\\"3.13\\\",\\\"3.14\\\",\\\"3.15\\\",\\\"3.16\\\",\\\"3.17\\\",\\\"3.18\\\",\\\"3.19\\\",\\\"3.2\\\",\\\"3.21\\\",\\\"3.22\\\",\\\"3.23\\\",\\\"3.24\\\",\\\"3.25\\\",\\\"3.26\\\",\\\"3.27\\\",\\\"3.28\\\",\\\"3.29\\\",\\\"3.3\\\",\\\"3.31\\\",\\\"3.32\\\",\\\"3.33\\\",\\\"3.34\\\",\\\"3.35\\\",\\\"3.36\\\",\\\"3.37\\\",\\\"3.38\\\",\\\"3.39\\\",\\\"3.4\\\",\\\"3.41\\\",\\\"3.42\\\",\\\"3.43\\\",\\\"3.44\\\",\\\"3.45\\\",\\\"3.46\\\",\\\"3.47\\\",\\\"3.48\\\",\\\"3.49\\\",\\\"3.5\\\",\\\"3.51\\\",\\\"3.52\\\",\\\"3.53\\\",\\\"3.54\\\",\\\"3.55\\\",\\\"3.56\\\",\\\"3.57\\\",\\\"3.58\\\",\\\"3.59\\\",\\\"3.6\\\",\\\"3.61\\\",\\\"3.62\\\",\\\"3.63\\\",\\\"3.64\\\",\\\"3.65\\\",\\\"3.66\\\",\\\"3.67\\\",\\\"3.68\\\",\\\"3.69\\\",\\\"3.7\\\",\\\"3.71\\\",\\\"3.72\\\",\\\"3.73\\\",\\\"3.74\\\",\\\"3.75\\\",\\\"3.76\\\",\\\"3.77\\\",\\\"3.78\\\",\\\"3.79\\\",\\\"3.8\\\",\\\"3.81\\\",\\\"3.82\\\",\\\"3.83\\\",\\\"3.84\\\",\\\"3.85\\\",\\\"3.86\\\",\\\"3.87\\\",\\\"3.88\\\",\\\"3.89\\\",\\\"3.9\\\",\\\"3.91\\\",\\\"3.92\\\",\\\"3.93\\\",\\\"3.94\\\",\\\"3.95\\\",\\\"3.96\\\",\\\"3.97\\\",\\\"3.98\\\",\\\"3.99\\\",\\\"4.0\\\",\\\"4.01\\\",\\\"4.02\\\",\\\"4.03\\\",\\\"4.04\\\",\\\"4.05\\\",\\\"4.06\\\",\\\"4.07\\\",\\\"4.08\\\",\\\"4.09\\\",\\\"4.1\\\",\\\"4.11\\\",\\\"4.12\\\",\\\"4.13\\\",\\\"4.14\\\",\\\"4.15\\\",\\\"4.16\\\",\\\"4.17\\\",\\\"4.18\\\",\\\"4.19\\\",\\\"4.2\\\",\\\"4.21\\\",\\\"4.22\\\",\\\"4.23\\\",\\\"4.24\\\",\\\"4.25\\\",\\\"4.26\\\",\\\"4.27\\\",\\\"4.28\\\",\\\"4.29\\\",\\\"4.3\\\",\\\"4.31\\\",\\\"4.32\\\",\\\"4.33\\\",\\\"4.34\\\",\\\"4.35\\\",\\\"4.36\\\",\\\"4.37\\\",\\\"4.38\\\",\\\"4.39\\\",\\\"4.4\\\",\\\"4.41\\\",\\\"4.42\\\",\\\"4.43\\\",\\\"4.44\\\",\\\"4.45\\\",\\\"4.46\\\",\\\"4.47\\\",\\\"4.48\\\",\\\"4.49\\\",\\\"4.5\\\",\\\"4.51\\\",\\\"4.52\\\",\\\"4.53\\\",\\\"4.54\\\",\\\"4.55\\\",\\\"4.56\\\",\\\"4.57\\\",\\\"4.58\\\",\\\"4.59\\\",\\\"4.6\\\",\\\"4.61\\\",\\\"4.62\\\",\\\"4.63\\\",\\\"4.64\\\",\\\"4.65\\\",\\\"4.66\\\",\\\"4.67\\\",\\\"4.68\\\",\\\"4.69\\\",\\\"4.7\\\",\\\"4.71\\\",\\\"4.72\\\",\\\"4.73\\\",\\\"4.74\\\",\\\"4.75\\\",\\\"4.76\\\",\\\"4.77\\\",\\\"4.78\\\",\\\"4.79\\\",\\\"4.8\\\",\\\"4.81\\\",\\\"4.82\\\",\\\"4.83\\\",\\\"4.84\\\",\\\"4.85\\\",\\\"4.86\\\",\\\"4.87\\\",\\\"4.88\\\",\\\"4.89\\\",\\\"4.9\\\",\\\"4.91\\\",\\\"4.92\\\",\\\"4.93\\\",\\\"4.94\\\",\\\"4.95\\\",\\\"4.96\\\",\\\"4.97\\\",\\\"4.98\\\",\\\"4.99\\\",\\\"5.0\\\",\\\"5.01\\\",\\\"5.02\\\",\\\"5.03\\\",\\\"5.04\\\",\\\"5.05\\\",\\\"5.06\\\",\\\"5.07\\\",\\\"5.08\\\",\\\"5.09\\\",\\\"5.1\\\",\\\"5.11\\\",\\\"5.12\\\",\\\"5.13\\\",\\\"5.14\\\",\\\"5.15\\\",\\\"5.16\\\",\\\"5.17\\\",\\\"5.18\\\",\\\"5.19\\\",\\\"5.2\\\",\\\"5.21\\\",\\\"5.22\\\",\\\"5.23\\\",\\\"5.24\\\",\\\"5.25\\\",\\\"5.26\\\",\\\"5.27\\\",\\\"5.28\\\",\\\"5.29\\\",\\\"5.3\\\",\\\"5.31\\\",\\\"5.32\\\",\\\"5.33\\\",\\\"5.34\\\",\\\"5.35\\\",\\\"5.36\\\",\\\"5.37\\\",\\\"5.38\\\",\\\"5.39\\\",\\\"5.4\\\",\\\"5.41\\\",\\\"5.42\\\",\\\"5.43\\\",\\\"5.44\\\",\\\"5.45\\\",\\\"5.46\\\",\\\"5.47\\\",\\\"5.48\\\",\\\"5.49\\\",\\\"5.5\\\",\\\"5.51\\\",\\\"5.52\\\",\\\"5.53\\\",\\\"5.54\\\",\\\"5.55\\\",\\\"5.56\\\",\\\"5.57\\\",\\\"5.58\\\",\\\"5.59\\\",\\\"5.6\\\",\\\"5.61\\\",\\\"5.62\\\",\\\"5.63\\\",\\\"5.64\\\",\\\"5.65\\\",\\\"5.66\\\",\\\"5.67\\\",\\\"5.68\\\",\\\"5.69\\\",\\\"5.7\\\",\\\"5.71\\\",\\\"5.72\\\",\\\"5.73\\\",\\\"5.74\\\",\\\"5.75\\\",\\\"5.76\\\",\\\"5.77\\\",\\\"5.78\\\",\\\"5.79\\\",\\\"5.8\\\",\\\"5.81\\\",\\\"5.82\\\",\\\"5.83\\\",\\\"5.84\\\",\\\"5.85\\\",\\\"5.86\\\",\\\"5.87\\\",\\\"5.88\\\",\\\"5.89\\\",\\\"5.9\\\",\\\"5.91\\\",\\\"5.92\\\",\\\"5.93\\\",\\\"5.94\\\",\\\"5.95\\\",\\\"5.96\\\",\\\"5.97\\\",\\\"5.98\\\",\\\"5.99\\\",\\\"6.0\\\",\\\"6.01\\\",\\\"6.02\\\",\\\"6.03\\\",\\\"6.04\\\",\\\"6.05\\\",\\\"6.06\\\",\\\"6.07\\\",\\\"6.08\\\",\\\"6.09\\\",\\\"6.1\\\",\\\"6.11\\\",\\\"6.12\\\",\\\"6.13\\\",\\\"6.14\\\",\\\"6.15\\\",\\\"6.16\\\",\\\"6.17\\\",\\\"6.18\\\",\\\"6.19\\\",\\\"6.2\\\",\\\"6.21\\\",\\\"6.22\\\",\\\"6.23\\\",\\\"6.24\\\",\\\"6.25\\\",\\\"6.26\\\",\\\"6.27\\\",\\\"6.28\\\",\\\"6.29\\\",\\\"6.3\\\",\\\"6.31\\\",\\\"6.32\\\",\\\"6.33\\\",\\\"6.34\\\",\\\"6.35\\\",\\\"6.36\\\",\\\"6.37\\\",\\\"6.38\\\",\\\"6.39\\\",\\\"6.4\\\",\\\"6.41\\\",\\\"6.42\\\",\\\"6.43\\\",\\\"6.44\\\",\\\"6.45\\\",\\\"6.46\\\",\\\"6.47\\\",\\\"6.48\\\",\\\"6.49\\\",\\\"6.5\\\",\\\"6.51\\\",\\\"6.52\\\",\\\"6.53\\\",\\\"6.54\\\",\\\"6.55\\\",\\\"6.56\\\",\\\"6.57\\\",\\\"6.58\\\",\\\"6.59\\\",\\\"6.6\\\",\\\"6.61\\\",\\\"6.62\\\",\\\"6.63\\\",\\\"6.64\\\",\\\"6.65\\\",\\\"6.66\\\",\\\"6.67\\\",\\\"6.68\\\",\\\"6.69\\\",\\\"6.7\\\",\\\"6.71\\\",\\\"6.72\\\",\\\"6.73\\\",\\\"6.74\\\",\\\"6.75\\\",\\\"6.76\\\",\\\"6.77\\\",\\\"6.78\\\",\\\"6.79\\\",\\\"6.8\\\",\\\"6.81\\\",\\\"6.82\\\",\\\"6.83\\\",\\\"6.84\\\",\\\"6.85\\\",\\\"6.86\\\",\\\"6.87\\\",\\\"6.88\\\",\\\"6.89\\\",\\\"6.9\\\",\\\"6.91\\\",\\\"6.92\\\",\\\"6.93\\\",\\\"6.94\\\",\\\"6.95\\\",\\\"6.96\\\",\\\"6.97\\\",\\\"6.98\\\",\\\"6.99\\\",\\\"7.0\\\",\\\"7.01\\\",\\\"7.02\\\",\\\"7.03\\\",\\\"7.04\\\",\\\"7.05\\\",\\\"7.06\\\",\\\"7.07\\\",\\\"7.08\\\",\\\"7.09\\\",\\\"7.1\\\",\\\"7.11\\\",\\\"7.12\\\",\\\"7.13\\\",\\\"7.14\\\",\\\"7.15\\\",\\\"7.16\\\",\\\"7.17\\\",\\\"7.18\\\",\\\"7.19\\\",\\\"7.2\\\",\\\"7.21\\\",\\\"7.22\\\",\\\"7.23\\\",\\\"7.24\\\",\\\"7.25\\\",\\\"7.26\\\",\\\"7.27\\\",\\\"7.28\\\",\\\"7.29\\\",\\\"7.3\\\",\\\"7.31\\\",\\\"7.32\\\",\\\"7.33\\\",\\\"7.34\\\",\\\"7.35\\\",\\\"7.36\\\",\\\"7.37\\\",\\\"7.38\\\",\\\"7.39\\\",\\\"7.4\\\",\\\"7.41\\\",\\\"7.42\\\",\\\"7.43\\\",\\\"7.44\\\",\\\"7.45\\\",\\\"7.46\\\",\\\"7.47\\\",\\\"7.48\\\",\\\"7.49\\\",\\\"7.5\\\",\\\"7.51\\\",\\\"7.52\\\",\\\"7.53\\\",\\\"7.54\\\",\\\"7.55\\\",\\\"7.56\\\",\\\"7.57\\\",\\\"7.58\\\",\\\"7.59\\\",\\\"7.6\\\",\\\"7.61\\\",\\\"7.62\\\",\\\"7.63\\\",\\\"7.64\\\",\\\"7.65\\\",\\\"7.66\\\",\\\"7.67\\\",\\\"7.68\\\",\\\"7.69\\\",\\\"7.7\\\",\\\"7.71\\\",\\\"7.72\\\",\\\"7.73\\\",\\\"7.74\\\",\\\"7.75\\\",\\\"7.76\\\",\\\"7.77\\\",\\\"7.78\\\",\\\"7.79\\\",\\\"7.8\\\",\\\"7.81\\\",\\\"7.82\\\",\\\"7.83\\\",\\\"7.84\\\",\\\"7.85\\\",\\\"7.86\\\",\\\"7.87\\\",\\\"7.88\\\",\\\"7.89\\\",\\\"7.9\\\",\\\"7.91\\\",\\\"7.92\\\",\\\"7.93\\\",\\\"7.94\\\",\\\"7.95\\\",\\\"7.96\\\",\\\"7.97\\\",\\\"7.98\\\",\\\"7.99\\\",\\\"8.0\\\",\\\"8.01\\\",\\\"8.02\\\",\\\"8.03\\\",\\\"8.04\\\",\\\"8.05\\\",\\\"8.06\\\",\\\"8.07\\\",\\\"8.08\\\",\\\"8.09\\\",\\\"8.1\\\",\\\"8.11\\\",\\\"8.12\\\",\\\"8.13\\\",\\\"8.14\\\",\\\"8.15\\\",\\\"8.16\\\",\\\"8.17\\\",\\\"8.18\\\",\\\"8.19\\\",\\\"8.2\\\",\\\"8.21\\\",\\\"8.22\\\",\\\"8.23\\\",\\\"8.24\\\",\\\"8.25\\\",\\\"8.26\\\",\\\"8.27\\\",\\\"8.28\\\",\\\"8.29\\\",\\\"8.3\\\",\\\"8.31\\\",\\\"8.32\\\",\\\"8.33\\\",\\\"8.34\\\",\\\"8.35\\\",\\\"8.36\\\",\\\"8.37\\\",\\\"8.38\\\",\\\"8.39\\\",\\\"8.4\\\",\\\"8.41\\\",\\\"8.42\\\",\\\"8.43\\\",\\\"8.44\\\",\\\"8.45\\\",\\\"8.46\\\",\\\"8.47\\\",\\\"8.48\\\",\\\"8.49\\\",\\\"8.5\\\",\\\"8.51\\\",\\\"8.52\\\",\\\"8.53\\\",\\\"8.54\\\",\\\"8.55\\\",\\\"8.56\\\",\\\"8.57\\\",\\\"8.58\\\",\\\"8.59\\\",\\\"8.6\\\",\\\"8.61\\\",\\\"8.62\\\",\\\"8.63\\\",\\\"8.64\\\",\\\"8.65\\\",\\\"8.66\\\",\\\"8.67\\\",\\\"8.68\\\",\\\"8.69\\\",\\\"8.7\\\",\\\"8.71\\\",\\\"8.72\\\",\\\"8.73\\\",\\\"8.74\\\",\\\"8.75\\\",\\\"8.76\\\",\\\"8.77\\\",\\\"8.78\\\",\\\"8.79\\\",\\\"8.8\\\",\\\"8.81\\\",\\\"8.82\\\",\\\"8.83\\\",\\\"8.84\\\",\\\"8.85\\\",\\\"8.86\\\",\\\"8.87\\\",\\\"8.88\\\",\\\"8.89\\\",\\\"8.9\\\",\\\"8.91\\\",\\\"8.92\\\",\\\"8.93\\\",\\\"8.94\\\",\\\"8.95\\\",\\\"8.96\\\",\\\"8.97\\\",\\\"8.98\\\",\\\"8.99\\\",\\\"9.0\\\",\\\"9.01\\\",\\\"9.02\\\",\\\"9.03\\\",\\\"9.04\\\",\\\"9.05\\\",\\\"9.06\\\",\\\"9.07\\\",\\\"9.08\\\",\\\"9.09\\\",\\\"9.1\\\",\\\"9.11\\\",\\\"9.12\\\",\\\"9.13\\\",\\\"9.14\\\",\\\"9.15\\\",\\\"9.16\\\",\\\"9.17\\\",\\\"9.18\\\",\\\"9.19\\\",\\\"9.2\\\",\\\"9.21\\\",\\\"9.22\\\",\\\"9.23\\\",\\\"9.24\\\",\\\"9.25\\\",\\\"9.26\\\",\\\"9.27\\\",\\\"9.28\\\",\\\"9.29\\\",\\\"9.3\\\",\\\"9.31\\\",\\\"9.32\\\",\\\"9.33\\\",\\\"9.34\\\",\\\"9.35\\\",\\\"9.36\\\",\\\"9.37\\\",\\\"9.38\\\",\\\"9.39\\\",\\\"9.4\\\",\\\"9.41\\\",\\\"9.42\\\",\\\"9.43\\\",\\\"9.44\\\",\\\"9.45\\\",\\\"9.46\\\",\\\"9.47\\\",\\\"9.48\\\",\\\"9.49\\\",\\\"9.5\\\",\\\"9.51\\\",\\\"9.52\\\",\\\"9.53\\\",\\\"9.54\\\",\\\"9.55\\\",\\\"9.56\\\",\\\"9.57\\\",\\\"9.58\\\",\\\"9.59\\\",\\\"9.6\\\",\\\"9.61\\\",\\\"9.62\\\",\\\"9.63\\\",\\\"9.64\\\",\\\"9.65\\\",\\\"9.66\\\",\\\"9.67\\\",\\\"9.68\\\",\\\"9.69\\\",\\\"9.7\\\",\\\"9.71\\\",\\\"9.72\\\",\\\"9.73\\\",\\\"9.74\\\",\\\"9.75\\\",\\\"9.76\\\",\\\"9.77\\\",\\\"9.78\\\",\\\"9.79\\\",\\\"9.8\\\",\\\"9.81\\\",\\\"9.82\\\",\\\"9.83\\\",\\\"9.84\\\",\\\"9.85\\\",\\\"9.86\\\",\\\"9.87\\\",\\\"9.88\\\",\\\"9.89\\\",\\\"9.9\\\",\\\"9.91\\\",\\\"9.92\\\",\\\"9.93\\\",\\\"9.94\\\",\\\"9.95\\\",\\\"9.96\\\",\\\"9.97\\\",\\\"9.98\\\",\\\"9.99\\\",\\\"10.0\\\"],\\\"changes\\\":WebIO.getval({\\\"name\\\":\\\"changes\\\",\\\"scope\\\":\\\"13559480925185307429\\\",\\\"id\\\":\\\"ob_57\\\",\\\"type\\\":\\\"observable\\\"}),\\\"index\\\":WebIO.getval({\\\"name\\\":\\\"index\\\",\\\"scope\\\":\\\"13559480925185307429\\\",\\\"id\\\":\\\"ob_56\\\",\\\"type\\\":\\\"observable\\\"})};\\n    var self = this;\\n    function AppViewModel() {\\n        for (var key in json_data) {\\n            var el = json_data[key];\\n            this[key] = Array.isArray(el) ? ko.observableArray(el) : ko.observable(el);\\n        }\\n        \\n        [this[\\\"formatted_val\\\"]=ko.computed(    function(){\\n        return this.formatted_vals()[parseInt(this.index())-(1)];\\n    }\\n,this)]\\n        [this[\\\"changes\\\"].subscribe((function (val){!(this.valueFromJulia[\\\"changes\\\"]) ? (WebIO.setval({\\\"name\\\":\\\"changes\\\",\\\"scope\\\":\\\"13559480925185307429\\\",\\\"id\\\":\\\"ob_57\\\",\\\"type\\\":\\\"observable\\\"},val)) : undefined; return this.valueFromJulia[\\\"changes\\\"]=false}),self),this[\\\"index\\\"].subscribe((function (val){!(this.valueFromJulia[\\\"index\\\"]) ? (WebIO.setval({\\\"name\\\":\\\"index\\\",\\\"scope\\\":\\\"13559480925185307429\\\",\\\"id\\\":\\\"ob_56\\\",\\\"type\\\":\\\"observable\\\"},val)) : undefined; return this.valueFromJulia[\\\"index\\\"]=false}),self)]\\n        \\n    }\\n    self.model = new AppViewModel();\\n    self.valueFromJulia = {};\\n    for (var key in json_data) {\\n        self.valueFromJulia[key] = false;\\n    }\\n    ko.applyBindings(self.model, self.dom);\\n}\\n);\\n    (WebIO.importBlock({\\\"data\\\":[{\\\"name\\\":\\\"knockout\\\",\\\"type\\\":\\\"js\\\",\\\"url\\\":\\\"/assetserver/acf0924a365e010bf6a3eb46a136f582bb3d7da4-knockout.js\\\"},{\\\"name\\\":\\\"knockout_punches\\\",\\\"type\\\":\\\"js\\\",\\\"url\\\":\\\"/assetserver/5ea3afb6d7dd7ccff78b8ae481a9e30e62bf0288-knockout_punches.js\\\"}],\\\"type\\\":\\\"async_block\\\"})).then((imports) => handler.apply(this, imports));\\n}\\n\")])], Dict{Symbol,Any}(:className => \"field interact-widget\")), Node{WebIO.DOM}(WebIO.DOM(:html, :div), Any[Scope(Node{WebIO.DOM}(WebIO.DOM(:html, :div), Any[Node{WebIO.DOM}(WebIO.DOM(:html, :div), Any[Node{WebIO.DOM}(WebIO.DOM(:html, :label), Any[\"r2\"], Dict{Symbol,Any}(:className => \"interact \",:style => Dict{Any,Any}(:padding => \"5px 10px 0px 10px\")))], Dict{Symbol,Any}(:className => \"interact-flex-row-left\")), Node{WebIO.DOM}(WebIO.DOM(:html, :div), Any[Node{WebIO.DOM}(WebIO.DOM(:html, :input), Any[], Dict{Symbol,Any}(:max => 991,:min => 1,:attributes => Dict{Any,Any}(:type => \"range\",Symbol(\"data-bind\") => \"numericValue: index, valueUpdate: 'input', event: {change: function (){this.changes(this.changes()+1)}}\",\"orient\" => \"horizontal\"),:step => 1,:className => \"slider slider is-fullwidth\",:style => Dict{Any,Any}()))], Dict{Symbol,Any}(:className => \"interact-flex-row-center\")), Node{WebIO.DOM}(WebIO.DOM(:html, :div), Any[Node{WebIO.DOM}(WebIO.DOM(:html, :p), Any[], Dict{Symbol,Any}(:attributes => Dict(\"data-bind\" => \"text: formatted_val\")))], Dict{Symbol,Any}(:className => \"interact-flex-row-right\"))], Dict{Symbol,Any}(:className => \"interact-flex-row interact-widget\")), Dict{String,Tuple{Observables.AbstractObservable,Union{Nothing, Bool}}}(\"changes\" => (Observable{Int64} with 1 listeners. Value:\n",
       "0, nothing),\"index\" => (Observable{Any} with 2 listeners. Value:\n",
       "191, nothing)), Set(String[]), nothing, Asset[Asset(\"js\", \"knockout\", \"/Users/carlingbieg/.julia/packages/Knockout/1sDlc/src/../assets/knockout.js\"), Asset(\"js\", \"knockout_punches\", \"/Users/carlingbieg/.julia/packages/Knockout/1sDlc/src/../assets/knockout_punches.js\"), Asset(\"js\", nothing, \"/Users/carlingbieg/.julia/packages/InteractBase/9mFwe/src/../assets/all.js\"), Asset(\"css\", nothing, \"/Users/carlingbieg/.julia/packages/InteractBase/9mFwe/src/../assets/style.css\"), Asset(\"css\", nothing, \"/Users/carlingbieg/.julia/packages/Interact/SbgIk/src/../assets/bulma_confined.min.css\")], Dict{Any,Any}(\"changes\" => Any[WebIO.JSString(\"(function (val){return (val!=this.model[\\\"changes\\\"]()) ? (this.valueFromJulia[\\\"changes\\\"]=true, this.model[\\\"changes\\\"](val)) : undefined})\")],\"index\" => Any[WebIO.JSString(\"(function (val){return (val!=this.model[\\\"index\\\"]()) ? (this.valueFromJulia[\\\"index\\\"]=true, this.model[\\\"index\\\"](val)) : undefined})\")]), WebIO.ConnectionPool(Channel{Any}(sz_max:32,sz_curr:0), Set(AbstractConnection[]), Base.GenericCondition{Base.AlwaysLockedST}(Base.InvasiveLinkedList{Task}(Task (runnable) @0x000000012e046d10, Task (runnable) @0x000000012e046d10), Base.AlwaysLockedST(1))), WebIO.JSString[WebIO.JSString(\"function () {\\n    var handler = (function (ko, koPunches) {\\n    ko.punches.enableAll();\\n    ko.bindingHandlers.numericValue = {\\n        init: function(element, valueAccessor, allBindings, data, context) {\\n            var stringified = ko.observable(ko.unwrap(valueAccessor()));\\n            stringified.subscribe(function(value) {\\n                var val = parseFloat(value);\\n                if (!isNaN(val)) {\\n                    valueAccessor()(val);\\n                }\\n            });\\n            valueAccessor().subscribe(function(value) {\\n                var str = JSON.stringify(value);\\n                if ((str == \\\"0\\\") && ([\\\"-0\\\", \\\"-0.\\\"].indexOf(stringified()) >= 0))\\n                     return;\\n                 if ([\\\"null\\\", \\\"\\\"].indexOf(str) >= 0)\\n                     return;\\n                stringified(str);\\n            });\\n            ko.applyBindingsToNode(\\n                element,\\n                {\\n                    value: stringified,\\n                    valueUpdate: allBindings.get('valueUpdate'),\\n                },\\n                context,\\n            );\\n        }\\n    };\\n    var json_data = {\\\"formatted_vals\\\":[\\\"0.1\\\",\\\"0.11\\\",\\\"0.12\\\",\\\"0.13\\\",\\\"0.14\\\",\\\"0.15\\\",\\\"0.16\\\",\\\"0.17\\\",\\\"0.18\\\",\\\"0.19\\\",\\\"0.2\\\",\\\"0.21\\\",\\\"0.22\\\",\\\"0.23\\\",\\\"0.24\\\",\\\"0.25\\\",\\\"0.26\\\",\\\"0.27\\\",\\\"0.28\\\",\\\"0.29\\\",\\\"0.3\\\",\\\"0.31\\\",\\\"0.32\\\",\\\"0.33\\\",\\\"0.34\\\",\\\"0.35\\\",\\\"0.36\\\",\\\"0.37\\\",\\\"0.38\\\",\\\"0.39\\\",\\\"0.4\\\",\\\"0.41\\\",\\\"0.42\\\",\\\"0.43\\\",\\\"0.44\\\",\\\"0.45\\\",\\\"0.46\\\",\\\"0.47\\\",\\\"0.48\\\",\\\"0.49\\\",\\\"0.5\\\",\\\"0.51\\\",\\\"0.52\\\",\\\"0.53\\\",\\\"0.54\\\",\\\"0.55\\\",\\\"0.56\\\",\\\"0.57\\\",\\\"0.58\\\",\\\"0.59\\\",\\\"0.6\\\",\\\"0.61\\\",\\\"0.62\\\",\\\"0.63\\\",\\\"0.64\\\",\\\"0.65\\\",\\\"0.66\\\",\\\"0.67\\\",\\\"0.68\\\",\\\"0.69\\\",\\\"0.7\\\",\\\"0.71\\\",\\\"0.72\\\",\\\"0.73\\\",\\\"0.74\\\",\\\"0.75\\\",\\\"0.76\\\",\\\"0.77\\\",\\\"0.78\\\",\\\"0.79\\\",\\\"0.8\\\",\\\"0.81\\\",\\\"0.82\\\",\\\"0.83\\\",\\\"0.84\\\",\\\"0.85\\\",\\\"0.86\\\",\\\"0.87\\\",\\\"0.88\\\",\\\"0.89\\\",\\\"0.9\\\",\\\"0.91\\\",\\\"0.92\\\",\\\"0.93\\\",\\\"0.94\\\",\\\"0.95\\\",\\\"0.96\\\",\\\"0.97\\\",\\\"0.98\\\",\\\"0.99\\\",\\\"1.0\\\",\\\"1.01\\\",\\\"1.02\\\",\\\"1.03\\\",\\\"1.04\\\",\\\"1.05\\\",\\\"1.06\\\",\\\"1.07\\\",\\\"1.08\\\",\\\"1.09\\\",\\\"1.1\\\",\\\"1.11\\\",\\\"1.12\\\",\\\"1.13\\\",\\\"1.14\\\",\\\"1.15\\\",\\\"1.16\\\",\\\"1.17\\\",\\\"1.18\\\",\\\"1.19\\\",\\\"1.2\\\",\\\"1.21\\\",\\\"1.22\\\",\\\"1.23\\\",\\\"1.24\\\",\\\"1.25\\\",\\\"1.26\\\",\\\"1.27\\\",\\\"1.28\\\",\\\"1.29\\\",\\\"1.3\\\",\\\"1.31\\\",\\\"1.32\\\",\\\"1.33\\\",\\\"1.34\\\",\\\"1.35\\\",\\\"1.36\\\",\\\"1.37\\\",\\\"1.38\\\",\\\"1.39\\\",\\\"1.4\\\",\\\"1.41\\\",\\\"1.42\\\",\\\"1.43\\\",\\\"1.44\\\",\\\"1.45\\\",\\\"1.46\\\",\\\"1.47\\\",\\\"1.48\\\",\\\"1.49\\\",\\\"1.5\\\",\\\"1.51\\\",\\\"1.52\\\",\\\"1.53\\\",\\\"1.54\\\",\\\"1.55\\\",\\\"1.56\\\",\\\"1.57\\\",\\\"1.58\\\",\\\"1.59\\\",\\\"1.6\\\",\\\"1.61\\\",\\\"1.62\\\",\\\"1.63\\\",\\\"1.64\\\",\\\"1.65\\\",\\\"1.66\\\",\\\"1.67\\\",\\\"1.68\\\",\\\"1.69\\\",\\\"1.7\\\",\\\"1.71\\\",\\\"1.72\\\",\\\"1.73\\\",\\\"1.74\\\",\\\"1.75\\\",\\\"1.76\\\",\\\"1.77\\\",\\\"1.78\\\",\\\"1.79\\\",\\\"1.8\\\",\\\"1.81\\\",\\\"1.82\\\",\\\"1.83\\\",\\\"1.84\\\",\\\"1.85\\\",\\\"1.86\\\",\\\"1.87\\\",\\\"1.88\\\",\\\"1.89\\\",\\\"1.9\\\",\\\"1.91\\\",\\\"1.92\\\",\\\"1.93\\\",\\\"1.94\\\",\\\"1.95\\\",\\\"1.96\\\",\\\"1.97\\\",\\\"1.98\\\",\\\"1.99\\\",\\\"2.0\\\",\\\"2.01\\\",\\\"2.02\\\",\\\"2.03\\\",\\\"2.04\\\",\\\"2.05\\\",\\\"2.06\\\",\\\"2.07\\\",\\\"2.08\\\",\\\"2.09\\\",\\\"2.1\\\",\\\"2.11\\\",\\\"2.12\\\",\\\"2.13\\\",\\\"2.14\\\",\\\"2.15\\\",\\\"2.16\\\",\\\"2.17\\\",\\\"2.18\\\",\\\"2.19\\\",\\\"2.2\\\",\\\"2.21\\\",\\\"2.22\\\",\\\"2.23\\\",\\\"2.24\\\",\\\"2.25\\\",\\\"2.26\\\",\\\"2.27\\\",\\\"2.28\\\",\\\"2.29\\\",\\\"2.3\\\",\\\"2.31\\\",\\\"2.32\\\",\\\"2.33\\\",\\\"2.34\\\",\\\"2.35\\\",\\\"2.36\\\",\\\"2.37\\\",\\\"2.38\\\",\\\"2.39\\\",\\\"2.4\\\",\\\"2.41\\\",\\\"2.42\\\",\\\"2.43\\\",\\\"2.44\\\",\\\"2.45\\\",\\\"2.46\\\",\\\"2.47\\\",\\\"2.48\\\",\\\"2.49\\\",\\\"2.5\\\",\\\"2.51\\\",\\\"2.52\\\",\\\"2.53\\\",\\\"2.54\\\",\\\"2.55\\\",\\\"2.56\\\",\\\"2.57\\\",\\\"2.58\\\",\\\"2.59\\\",\\\"2.6\\\",\\\"2.61\\\",\\\"2.62\\\",\\\"2.63\\\",\\\"2.64\\\",\\\"2.65\\\",\\\"2.66\\\",\\\"2.67\\\",\\\"2.68\\\",\\\"2.69\\\",\\\"2.7\\\",\\\"2.71\\\",\\\"2.72\\\",\\\"2.73\\\",\\\"2.74\\\",\\\"2.75\\\",\\\"2.76\\\",\\\"2.77\\\",\\\"2.78\\\",\\\"2.79\\\",\\\"2.8\\\",\\\"2.81\\\",\\\"2.82\\\",\\\"2.83\\\",\\\"2.84\\\",\\\"2.85\\\",\\\"2.86\\\",\\\"2.87\\\",\\\"2.88\\\",\\\"2.89\\\",\\\"2.9\\\",\\\"2.91\\\",\\\"2.92\\\",\\\"2.93\\\",\\\"2.94\\\",\\\"2.95\\\",\\\"2.96\\\",\\\"2.97\\\",\\\"2.98\\\",\\\"2.99\\\",\\\"3.0\\\",\\\"3.01\\\",\\\"3.02\\\",\\\"3.03\\\",\\\"3.04\\\",\\\"3.05\\\",\\\"3.06\\\",\\\"3.07\\\",\\\"3.08\\\",\\\"3.09\\\",\\\"3.1\\\",\\\"3.11\\\",\\\"3.12\\\",\\\"3.13\\\",\\\"3.14\\\",\\\"3.15\\\",\\\"3.16\\\",\\\"3.17\\\",\\\"3.18\\\",\\\"3.19\\\",\\\"3.2\\\",\\\"3.21\\\",\\\"3.22\\\",\\\"3.23\\\",\\\"3.24\\\",\\\"3.25\\\",\\\"3.26\\\",\\\"3.27\\\",\\\"3.28\\\",\\\"3.29\\\",\\\"3.3\\\",\\\"3.31\\\",\\\"3.32\\\",\\\"3.33\\\",\\\"3.34\\\",\\\"3.35\\\",\\\"3.36\\\",\\\"3.37\\\",\\\"3.38\\\",\\\"3.39\\\",\\\"3.4\\\",\\\"3.41\\\",\\\"3.42\\\",\\\"3.43\\\",\\\"3.44\\\",\\\"3.45\\\",\\\"3.46\\\",\\\"3.47\\\",\\\"3.48\\\",\\\"3.49\\\",\\\"3.5\\\",\\\"3.51\\\",\\\"3.52\\\",\\\"3.53\\\",\\\"3.54\\\",\\\"3.55\\\",\\\"3.56\\\",\\\"3.57\\\",\\\"3.58\\\",\\\"3.59\\\",\\\"3.6\\\",\\\"3.61\\\",\\\"3.62\\\",\\\"3.63\\\",\\\"3.64\\\",\\\"3.65\\\",\\\"3.66\\\",\\\"3.67\\\",\\\"3.68\\\",\\\"3.69\\\",\\\"3.7\\\",\\\"3.71\\\",\\\"3.72\\\",\\\"3.73\\\",\\\"3.74\\\",\\\"3.75\\\",\\\"3.76\\\",\\\"3.77\\\",\\\"3.78\\\",\\\"3.79\\\",\\\"3.8\\\",\\\"3.81\\\",\\\"3.82\\\",\\\"3.83\\\",\\\"3.84\\\",\\\"3.85\\\",\\\"3.86\\\",\\\"3.87\\\",\\\"3.88\\\",\\\"3.89\\\",\\\"3.9\\\",\\\"3.91\\\",\\\"3.92\\\",\\\"3.93\\\",\\\"3.94\\\",\\\"3.95\\\",\\\"3.96\\\",\\\"3.97\\\",\\\"3.98\\\",\\\"3.99\\\",\\\"4.0\\\",\\\"4.01\\\",\\\"4.02\\\",\\\"4.03\\\",\\\"4.04\\\",\\\"4.05\\\",\\\"4.06\\\",\\\"4.07\\\",\\\"4.08\\\",\\\"4.09\\\",\\\"4.1\\\",\\\"4.11\\\",\\\"4.12\\\",\\\"4.13\\\",\\\"4.14\\\",\\\"4.15\\\",\\\"4.16\\\",\\\"4.17\\\",\\\"4.18\\\",\\\"4.19\\\",\\\"4.2\\\",\\\"4.21\\\",\\\"4.22\\\",\\\"4.23\\\",\\\"4.24\\\",\\\"4.25\\\",\\\"4.26\\\",\\\"4.27\\\",\\\"4.28\\\",\\\"4.29\\\",\\\"4.3\\\",\\\"4.31\\\",\\\"4.32\\\",\\\"4.33\\\",\\\"4.34\\\",\\\"4.35\\\",\\\"4.36\\\",\\\"4.37\\\",\\\"4.38\\\",\\\"4.39\\\",\\\"4.4\\\",\\\"4.41\\\",\\\"4.42\\\",\\\"4.43\\\",\\\"4.44\\\",\\\"4.45\\\",\\\"4.46\\\",\\\"4.47\\\",\\\"4.48\\\",\\\"4.49\\\",\\\"4.5\\\",\\\"4.51\\\",\\\"4.52\\\",\\\"4.53\\\",\\\"4.54\\\",\\\"4.55\\\",\\\"4.56\\\",\\\"4.57\\\",\\\"4.58\\\",\\\"4.59\\\",\\\"4.6\\\",\\\"4.61\\\",\\\"4.62\\\",\\\"4.63\\\",\\\"4.64\\\",\\\"4.65\\\",\\\"4.66\\\",\\\"4.67\\\",\\\"4.68\\\",\\\"4.69\\\",\\\"4.7\\\",\\\"4.71\\\",\\\"4.72\\\",\\\"4.73\\\",\\\"4.74\\\",\\\"4.75\\\",\\\"4.76\\\",\\\"4.77\\\",\\\"4.78\\\",\\\"4.79\\\",\\\"4.8\\\",\\\"4.81\\\",\\\"4.82\\\",\\\"4.83\\\",\\\"4.84\\\",\\\"4.85\\\",\\\"4.86\\\",\\\"4.87\\\",\\\"4.88\\\",\\\"4.89\\\",\\\"4.9\\\",\\\"4.91\\\",\\\"4.92\\\",\\\"4.93\\\",\\\"4.94\\\",\\\"4.95\\\",\\\"4.96\\\",\\\"4.97\\\",\\\"4.98\\\",\\\"4.99\\\",\\\"5.0\\\",\\\"5.01\\\",\\\"5.02\\\",\\\"5.03\\\",\\\"5.04\\\",\\\"5.05\\\",\\\"5.06\\\",\\\"5.07\\\",\\\"5.08\\\",\\\"5.09\\\",\\\"5.1\\\",\\\"5.11\\\",\\\"5.12\\\",\\\"5.13\\\",\\\"5.14\\\",\\\"5.15\\\",\\\"5.16\\\",\\\"5.17\\\",\\\"5.18\\\",\\\"5.19\\\",\\\"5.2\\\",\\\"5.21\\\",\\\"5.22\\\",\\\"5.23\\\",\\\"5.24\\\",\\\"5.25\\\",\\\"5.26\\\",\\\"5.27\\\",\\\"5.28\\\",\\\"5.29\\\",\\\"5.3\\\",\\\"5.31\\\",\\\"5.32\\\",\\\"5.33\\\",\\\"5.34\\\",\\\"5.35\\\",\\\"5.36\\\",\\\"5.37\\\",\\\"5.38\\\",\\\"5.39\\\",\\\"5.4\\\",\\\"5.41\\\",\\\"5.42\\\",\\\"5.43\\\",\\\"5.44\\\",\\\"5.45\\\",\\\"5.46\\\",\\\"5.47\\\",\\\"5.48\\\",\\\"5.49\\\",\\\"5.5\\\",\\\"5.51\\\",\\\"5.52\\\",\\\"5.53\\\",\\\"5.54\\\",\\\"5.55\\\",\\\"5.56\\\",\\\"5.57\\\",\\\"5.58\\\",\\\"5.59\\\",\\\"5.6\\\",\\\"5.61\\\",\\\"5.62\\\",\\\"5.63\\\",\\\"5.64\\\",\\\"5.65\\\",\\\"5.66\\\",\\\"5.67\\\",\\\"5.68\\\",\\\"5.69\\\",\\\"5.7\\\",\\\"5.71\\\",\\\"5.72\\\",\\\"5.73\\\",\\\"5.74\\\",\\\"5.75\\\",\\\"5.76\\\",\\\"5.77\\\",\\\"5.78\\\",\\\"5.79\\\",\\\"5.8\\\",\\\"5.81\\\",\\\"5.82\\\",\\\"5.83\\\",\\\"5.84\\\",\\\"5.85\\\",\\\"5.86\\\",\\\"5.87\\\",\\\"5.88\\\",\\\"5.89\\\",\\\"5.9\\\",\\\"5.91\\\",\\\"5.92\\\",\\\"5.93\\\",\\\"5.94\\\",\\\"5.95\\\",\\\"5.96\\\",\\\"5.97\\\",\\\"5.98\\\",\\\"5.99\\\",\\\"6.0\\\",\\\"6.01\\\",\\\"6.02\\\",\\\"6.03\\\",\\\"6.04\\\",\\\"6.05\\\",\\\"6.06\\\",\\\"6.07\\\",\\\"6.08\\\",\\\"6.09\\\",\\\"6.1\\\",\\\"6.11\\\",\\\"6.12\\\",\\\"6.13\\\",\\\"6.14\\\",\\\"6.15\\\",\\\"6.16\\\",\\\"6.17\\\",\\\"6.18\\\",\\\"6.19\\\",\\\"6.2\\\",\\\"6.21\\\",\\\"6.22\\\",\\\"6.23\\\",\\\"6.24\\\",\\\"6.25\\\",\\\"6.26\\\",\\\"6.27\\\",\\\"6.28\\\",\\\"6.29\\\",\\\"6.3\\\",\\\"6.31\\\",\\\"6.32\\\",\\\"6.33\\\",\\\"6.34\\\",\\\"6.35\\\",\\\"6.36\\\",\\\"6.37\\\",\\\"6.38\\\",\\\"6.39\\\",\\\"6.4\\\",\\\"6.41\\\",\\\"6.42\\\",\\\"6.43\\\",\\\"6.44\\\",\\\"6.45\\\",\\\"6.46\\\",\\\"6.47\\\",\\\"6.48\\\",\\\"6.49\\\",\\\"6.5\\\",\\\"6.51\\\",\\\"6.52\\\",\\\"6.53\\\",\\\"6.54\\\",\\\"6.55\\\",\\\"6.56\\\",\\\"6.57\\\",\\\"6.58\\\",\\\"6.59\\\",\\\"6.6\\\",\\\"6.61\\\",\\\"6.62\\\",\\\"6.63\\\",\\\"6.64\\\",\\\"6.65\\\",\\\"6.66\\\",\\\"6.67\\\",\\\"6.68\\\",\\\"6.69\\\",\\\"6.7\\\",\\\"6.71\\\",\\\"6.72\\\",\\\"6.73\\\",\\\"6.74\\\",\\\"6.75\\\",\\\"6.76\\\",\\\"6.77\\\",\\\"6.78\\\",\\\"6.79\\\",\\\"6.8\\\",\\\"6.81\\\",\\\"6.82\\\",\\\"6.83\\\",\\\"6.84\\\",\\\"6.85\\\",\\\"6.86\\\",\\\"6.87\\\",\\\"6.88\\\",\\\"6.89\\\",\\\"6.9\\\",\\\"6.91\\\",\\\"6.92\\\",\\\"6.93\\\",\\\"6.94\\\",\\\"6.95\\\",\\\"6.96\\\",\\\"6.97\\\",\\\"6.98\\\",\\\"6.99\\\",\\\"7.0\\\",\\\"7.01\\\",\\\"7.02\\\",\\\"7.03\\\",\\\"7.04\\\",\\\"7.05\\\",\\\"7.06\\\",\\\"7.07\\\",\\\"7.08\\\",\\\"7.09\\\",\\\"7.1\\\",\\\"7.11\\\",\\\"7.12\\\",\\\"7.13\\\",\\\"7.14\\\",\\\"7.15\\\",\\\"7.16\\\",\\\"7.17\\\",\\\"7.18\\\",\\\"7.19\\\",\\\"7.2\\\",\\\"7.21\\\",\\\"7.22\\\",\\\"7.23\\\",\\\"7.24\\\",\\\"7.25\\\",\\\"7.26\\\",\\\"7.27\\\",\\\"7.28\\\",\\\"7.29\\\",\\\"7.3\\\",\\\"7.31\\\",\\\"7.32\\\",\\\"7.33\\\",\\\"7.34\\\",\\\"7.35\\\",\\\"7.36\\\",\\\"7.37\\\",\\\"7.38\\\",\\\"7.39\\\",\\\"7.4\\\",\\\"7.41\\\",\\\"7.42\\\",\\\"7.43\\\",\\\"7.44\\\",\\\"7.45\\\",\\\"7.46\\\",\\\"7.47\\\",\\\"7.48\\\",\\\"7.49\\\",\\\"7.5\\\",\\\"7.51\\\",\\\"7.52\\\",\\\"7.53\\\",\\\"7.54\\\",\\\"7.55\\\",\\\"7.56\\\",\\\"7.57\\\",\\\"7.58\\\",\\\"7.59\\\",\\\"7.6\\\",\\\"7.61\\\",\\\"7.62\\\",\\\"7.63\\\",\\\"7.64\\\",\\\"7.65\\\",\\\"7.66\\\",\\\"7.67\\\",\\\"7.68\\\",\\\"7.69\\\",\\\"7.7\\\",\\\"7.71\\\",\\\"7.72\\\",\\\"7.73\\\",\\\"7.74\\\",\\\"7.75\\\",\\\"7.76\\\",\\\"7.77\\\",\\\"7.78\\\",\\\"7.79\\\",\\\"7.8\\\",\\\"7.81\\\",\\\"7.82\\\",\\\"7.83\\\",\\\"7.84\\\",\\\"7.85\\\",\\\"7.86\\\",\\\"7.87\\\",\\\"7.88\\\",\\\"7.89\\\",\\\"7.9\\\",\\\"7.91\\\",\\\"7.92\\\",\\\"7.93\\\",\\\"7.94\\\",\\\"7.95\\\",\\\"7.96\\\",\\\"7.97\\\",\\\"7.98\\\",\\\"7.99\\\",\\\"8.0\\\",\\\"8.01\\\",\\\"8.02\\\",\\\"8.03\\\",\\\"8.04\\\",\\\"8.05\\\",\\\"8.06\\\",\\\"8.07\\\",\\\"8.08\\\",\\\"8.09\\\",\\\"8.1\\\",\\\"8.11\\\",\\\"8.12\\\",\\\"8.13\\\",\\\"8.14\\\",\\\"8.15\\\",\\\"8.16\\\",\\\"8.17\\\",\\\"8.18\\\",\\\"8.19\\\",\\\"8.2\\\",\\\"8.21\\\",\\\"8.22\\\",\\\"8.23\\\",\\\"8.24\\\",\\\"8.25\\\",\\\"8.26\\\",\\\"8.27\\\",\\\"8.28\\\",\\\"8.29\\\",\\\"8.3\\\",\\\"8.31\\\",\\\"8.32\\\",\\\"8.33\\\",\\\"8.34\\\",\\\"8.35\\\",\\\"8.36\\\",\\\"8.37\\\",\\\"8.38\\\",\\\"8.39\\\",\\\"8.4\\\",\\\"8.41\\\",\\\"8.42\\\",\\\"8.43\\\",\\\"8.44\\\",\\\"8.45\\\",\\\"8.46\\\",\\\"8.47\\\",\\\"8.48\\\",\\\"8.49\\\",\\\"8.5\\\",\\\"8.51\\\",\\\"8.52\\\",\\\"8.53\\\",\\\"8.54\\\",\\\"8.55\\\",\\\"8.56\\\",\\\"8.57\\\",\\\"8.58\\\",\\\"8.59\\\",\\\"8.6\\\",\\\"8.61\\\",\\\"8.62\\\",\\\"8.63\\\",\\\"8.64\\\",\\\"8.65\\\",\\\"8.66\\\",\\\"8.67\\\",\\\"8.68\\\",\\\"8.69\\\",\\\"8.7\\\",\\\"8.71\\\",\\\"8.72\\\",\\\"8.73\\\",\\\"8.74\\\",\\\"8.75\\\",\\\"8.76\\\",\\\"8.77\\\",\\\"8.78\\\",\\\"8.79\\\",\\\"8.8\\\",\\\"8.81\\\",\\\"8.82\\\",\\\"8.83\\\",\\\"8.84\\\",\\\"8.85\\\",\\\"8.86\\\",\\\"8.87\\\",\\\"8.88\\\",\\\"8.89\\\",\\\"8.9\\\",\\\"8.91\\\",\\\"8.92\\\",\\\"8.93\\\",\\\"8.94\\\",\\\"8.95\\\",\\\"8.96\\\",\\\"8.97\\\",\\\"8.98\\\",\\\"8.99\\\",\\\"9.0\\\",\\\"9.01\\\",\\\"9.02\\\",\\\"9.03\\\",\\\"9.04\\\",\\\"9.05\\\",\\\"9.06\\\",\\\"9.07\\\",\\\"9.08\\\",\\\"9.09\\\",\\\"9.1\\\",\\\"9.11\\\",\\\"9.12\\\",\\\"9.13\\\",\\\"9.14\\\",\\\"9.15\\\",\\\"9.16\\\",\\\"9.17\\\",\\\"9.18\\\",\\\"9.19\\\",\\\"9.2\\\",\\\"9.21\\\",\\\"9.22\\\",\\\"9.23\\\",\\\"9.24\\\",\\\"9.25\\\",\\\"9.26\\\",\\\"9.27\\\",\\\"9.28\\\",\\\"9.29\\\",\\\"9.3\\\",\\\"9.31\\\",\\\"9.32\\\",\\\"9.33\\\",\\\"9.34\\\",\\\"9.35\\\",\\\"9.36\\\",\\\"9.37\\\",\\\"9.38\\\",\\\"9.39\\\",\\\"9.4\\\",\\\"9.41\\\",\\\"9.42\\\",\\\"9.43\\\",\\\"9.44\\\",\\\"9.45\\\",\\\"9.46\\\",\\\"9.47\\\",\\\"9.48\\\",\\\"9.49\\\",\\\"9.5\\\",\\\"9.51\\\",\\\"9.52\\\",\\\"9.53\\\",\\\"9.54\\\",\\\"9.55\\\",\\\"9.56\\\",\\\"9.57\\\",\\\"9.58\\\",\\\"9.59\\\",\\\"9.6\\\",\\\"9.61\\\",\\\"9.62\\\",\\\"9.63\\\",\\\"9.64\\\",\\\"9.65\\\",\\\"9.66\\\",\\\"9.67\\\",\\\"9.68\\\",\\\"9.69\\\",\\\"9.7\\\",\\\"9.71\\\",\\\"9.72\\\",\\\"9.73\\\",\\\"9.74\\\",\\\"9.75\\\",\\\"9.76\\\",\\\"9.77\\\",\\\"9.78\\\",\\\"9.79\\\",\\\"9.8\\\",\\\"9.81\\\",\\\"9.82\\\",\\\"9.83\\\",\\\"9.84\\\",\\\"9.85\\\",\\\"9.86\\\",\\\"9.87\\\",\\\"9.88\\\",\\\"9.89\\\",\\\"9.9\\\",\\\"9.91\\\",\\\"9.92\\\",\\\"9.93\\\",\\\"9.94\\\",\\\"9.95\\\",\\\"9.96\\\",\\\"9.97\\\",\\\"9.98\\\",\\\"9.99\\\",\\\"10.0\\\"],\\\"changes\\\":WebIO.getval({\\\"name\\\":\\\"changes\\\",\\\"scope\\\":\\\"16257199187827486630\\\",\\\"id\\\":\\\"ob_60\\\",\\\"type\\\":\\\"observable\\\"}),\\\"index\\\":WebIO.getval({\\\"name\\\":\\\"index\\\",\\\"scope\\\":\\\"16257199187827486630\\\",\\\"id\\\":\\\"ob_59\\\",\\\"type\\\":\\\"observable\\\"})};\\n    var self = this;\\n    function AppViewModel() {\\n        for (var key in json_data) {\\n            var el = json_data[key];\\n            this[key] = Array.isArray(el) ? ko.observableArray(el) : ko.observable(el);\\n        }\\n        \\n        [this[\\\"formatted_val\\\"]=ko.computed(    function(){\\n        return this.formatted_vals()[parseInt(this.index())-(1)];\\n    }\\n,this)]\\n        [this[\\\"changes\\\"].subscribe((function (val){!(this.valueFromJulia[\\\"changes\\\"]) ? (WebIO.setval({\\\"name\\\":\\\"changes\\\",\\\"scope\\\":\\\"16257199187827486630\\\",\\\"id\\\":\\\"ob_60\\\",\\\"type\\\":\\\"observable\\\"},val)) : undefined; return this.valueFromJulia[\\\"changes\\\"]=false}),self),this[\\\"index\\\"].subscribe((function (val){!(this.valueFromJulia[\\\"index\\\"]) ? (WebIO.setval({\\\"name\\\":\\\"index\\\",\\\"scope\\\":\\\"16257199187827486630\\\",\\\"id\\\":\\\"ob_59\\\",\\\"type\\\":\\\"observable\\\"},val)) : undefined; return this.valueFromJulia[\\\"index\\\"]=false}),self)]\\n        \\n    }\\n    self.model = new AppViewModel();\\n    self.valueFromJulia = {};\\n    for (var key in json_data) {\\n        self.valueFromJulia[key] = false;\\n    }\\n    ko.applyBindings(self.model, self.dom);\\n}\\n);\\n    (WebIO.importBlock({\\\"data\\\":[{\\\"name\\\":\\\"knockout\\\",\\\"type\\\":\\\"js\\\",\\\"url\\\":\\\"/assetserver/acf0924a365e010bf6a3eb46a136f582bb3d7da4-knockout.js\\\"},{\\\"name\\\":\\\"knockout_punches\\\",\\\"type\\\":\\\"js\\\",\\\"url\\\":\\\"/assetserver/5ea3afb6d7dd7ccff78b8ae481a9e30e62bf0288-knockout_punches.js\\\"}],\\\"type\\\":\\\"async_block\\\"})).then((imports) => handler.apply(this, imports));\\n}\\n\")])], Dict{Symbol,Any}(:className => \"field interact-widget\")), Observable{Any} with 0 listeners. Value:\n",
       "Node{WebIO.DOM}(WebIO.DOM(:html, :div), Any[Figure(PyObject <Figure size 640x480 with 1 Axes>)], Dict{Symbol,Any}(:className => \"interact-flex-row interact-widget\"))], Dict{Symbol,Any}())"
      ]
     },
     "execution_count": 62,
     "metadata": {},
     "output_type": "execute_result"
    }
   ],
   "source": [
    "u0 = [0.5, 0.5]\n",
    "t_span = (0.0, 100.0)\n",
    "\n",
    "f1 = figure()\n",
    "@manipulate for α12 in slider(0.1:0.01:2.0; label = \"α12\", value = 0.8), \n",
    "                α21 in slider(0.1:0.01:2.0; label = \"α21\", value = 0.3), \n",
    "                K1 in slider(0.1:0.01:3.0; label = \"K1\", value = 1.5), \n",
    "                K2 in slider(0.1:0.01:3.0; label = \"K2\", value = 1.0),\n",
    "                r1 in slider(0.1:0.01:10.0; label = \"r1\", value = 1.0),\n",
    "                r2 in slider(0.1:0.01:10.0; label = \"r2\", value = 2.0)\n",
    "    p = LVPar(α12 = α12, α21 = α21, K1 = K1, K2 = K2, r1 = r1, r2 = r2)\n",
    "    prob = ODEProblem(lv_comp, u0, t_span, p)\n",
    "    sol = solve(prob, reltol = 1e-8)\n",
    "    withfig(f1, clear = true) do\n",
    "        plot(sol.t, sol.u)\n",
    "    end\n",
    "    #plot(sol)\n",
    "    #xlabel!(\"time\")\n",
    "    #ylabel!(\"Density\")\n",
    "end"
   ]
  },
  {
   "cell_type": "markdown",
   "metadata": {},
   "source": [
    "\n",
    "# Equilibria and Isoclines"
   ]
  },
  {
   "cell_type": "markdown",
   "metadata": {},
   "source": [
    "From the above equations we can generate the Jacobian:"
   ]
  },
  {
   "cell_type": "code",
   "execution_count": 7,
   "metadata": {},
   "outputs": [
    {
     "data": {
      "text/plain": [
       "jac (generic function with 1 method)"
      ]
     },
     "execution_count": 7,
     "metadata": {},
     "output_type": "execute_result"
    }
   ],
   "source": [
    "# Make a numerical (not symbolic version using the ForwardDiff.jl library. This is what you will want to do most of the time)\n",
    "jac(u, p) = ForwardDiff.jacobian(u -> lv_comp(u, p, NaN), u)"
   ]
  },
  {
   "cell_type": "code",
   "execution_count": 8,
   "metadata": {},
   "outputs": [
    {
     "data": {
      "text/plain": [
       "2×2 Array{Float64,2}:\n",
       "  0.0666667  -0.266667\n",
       " -0.3        -0.3     "
      ]
     },
     "execution_count": 8,
     "metadata": {},
     "output_type": "execute_result"
    }
   ],
   "source": [
    "# Here we have the jacobian evaluated at the point `u = [0.5, 0.5]`, with the parameter set `par`\n",
    "jac([0.5, 0.5], LVPar())"
   ]
  },
  {
   "cell_type": "markdown",
   "metadata": {},
   "source": [
    "First solve for $f_1$ and $f_2$ to determine when functions are equal to 0 (i.e., when $du_1/dt$ and $du_2/dt = 0$). These are known as the isoclines, or nullclines, and describe the set of solutions when $u_1$ and $u_2$ do not change."
   ]
  },
  {
   "cell_type": "code",
   "execution_count": 9,
   "metadata": {},
   "outputs": [
    {
     "name": "stderr",
     "output_type": "stream",
     "text": [
      "┌ Info: Recompiling stale cache file C:\\Users\\gabrielgellner\\.julia\\compiled\\v1.1\\SymPy\\KzewI.ji for SymPy [24249f21-da20-56a4-8eb1-6a02cf4ae2e6]\n",
      "└ @ Base loading.jl:1184\n",
      "WARNING: using SymPy.solve in module Main conflicts with an existing identifier.\n"
     ]
    }
   ],
   "source": [
    "# We need to use a library for Symbolic calculations, a very common one is SymPy from the python language. Luckily Julia\n",
    "# has excellent support for it.\n",
    "using SymPy"
   ]
  },
  {
   "cell_type": "code",
   "execution_count": 12,
   "metadata": {},
   "outputs": [],
   "source": [
    "# We want to deal with all of these as symbolic variables, which are not the default type in Julia, unlike Mathematica.\n",
    "@vars u1 u2\n",
    "@vars r1 r2 a12 a21 K1 K2\n",
    "# We need to make a symbolic parameter list, as `LVPar` is numeric\n",
    "spar = Dict(\n",
    "    :α12 => a12,\n",
    "    :α21 => a21,\n",
    "    :r1 => r1,\n",
    "    :r2 => r2,\n",
    "    :K1 => K1,\n",
    "    :K2 => K2);"
   ]
  },
  {
   "cell_type": "code",
   "execution_count": 13,
   "metadata": {},
   "outputs": [
    {
     "data": {
      "text/latex": [
       "\\[ \\left[ \\begin{array}{r}r_{1} u_{1} \\left(1 - \\frac{a_{12} u_{2} + u_{1}}{K_{1}}\\right)\\\\r_{2} u_{2} \\left(1 - \\frac{a_{21} u_{1} + u_{2}}{K_{2}}\\right)\\end{array} \\right] \\]"
      ],
      "text/plain": [
       "2-element Array{Sym,1}:\n",
       " r1*u1*(1 - (a12*u2 + u1)/K1)\n",
       " r2*u2*(1 - (a21*u1 + u2)/K2)"
      ]
     },
     "execution_count": 13,
     "metadata": {},
     "output_type": "execute_result"
    }
   ],
   "source": [
    "# we need to make symbolic versions of the model equations. We do this by calling the function with the symbolic parameters.\n",
    "# the last parameter could be anythign as the time (`t`) argument is not used. I have set it to `NaN` which is a name for\n",
    "# not a number.\n",
    "f1, f2 = lv_comp([u1, u2], spar, NaN)"
   ]
  },
  {
   "cell_type": "code",
   "execution_count": 14,
   "metadata": {},
   "outputs": [
    {
     "data": {
      "text/latex": [
       "\\[ \\left[ \\begin{array}{r}0\\\\K_{1} - a_{12} u_{2}\\end{array} \\right] \\]"
      ],
      "text/plain": [
       "2-element Array{Sym,1}:\n",
       "           0\n",
       " K1 - a12*u2"
      ]
     },
     "execution_count": 14,
     "metadata": {},
     "output_type": "execute_result"
    }
   ],
   "source": [
    "sympy.solve(f1, u1)"
   ]
  },
  {
   "cell_type": "code",
   "execution_count": 15,
   "metadata": {},
   "outputs": [
    {
     "data": {
      "text/latex": [
       "\\[ \\left[ \\begin{array}{r}\\frac{K_{1} - u_{1}}{a_{12}}\\end{array} \\right] \\]"
      ],
      "text/plain": [
       "1-element Array{Sym,1}:\n",
       " (K1 - u1)/a12"
      ]
     },
     "execution_count": 15,
     "metadata": {},
     "output_type": "execute_result"
    }
   ],
   "source": [
    "sympy.solve(f1, u2)"
   ]
  },
  {
   "cell_type": "code",
   "execution_count": 16,
   "metadata": {},
   "outputs": [
    {
     "data": {
      "text/latex": [
       "\\[ \\left[ \\begin{array}{r}\\frac{K_{2} - u_{2}}{a_{21}}\\end{array} \\right] \\]"
      ],
      "text/plain": [
       "1-element Array{Sym,1}:\n",
       " (K2 - u2)/a21"
      ]
     },
     "execution_count": 16,
     "metadata": {},
     "output_type": "execute_result"
    }
   ],
   "source": [
    "sympy.solve(f2, u1)"
   ]
  },
  {
   "cell_type": "code",
   "execution_count": 17,
   "metadata": {},
   "outputs": [
    {
     "data": {
      "text/latex": [
       "\\[ \\left[ \\begin{array}{r}0\\\\K_{2} - a_{21} u_{1}\\end{array} \\right] \\]"
      ],
      "text/plain": [
       "2-element Array{Sym,1}:\n",
       "           0\n",
       " K2 - a21*u1"
      ]
     },
     "execution_count": 17,
     "metadata": {},
     "output_type": "execute_result"
    }
   ],
   "source": [
    "sympy.solve(f2, u2)"
   ]
  },
  {
   "cell_type": "markdown",
   "metadata": {},
   "source": [
    "We want to solve our equations for $u_1$ so that we can plot the isoclines as a function of $u_1$ ($u_1$ on the y-axis), but here I am keeping all possible solutions, with respect to both $u_1$ and $u_2$. You should be able to see that the first two solutions ($u_1 = K_1 - \\alpha_{12}u_2$ and $u_2 = (K_1 - u_1)/\\alpha_{12}$) are equivalent.\n",
    "\n",
    "The solutions $u_1 = K_1 - \\alpha_{12}u_2$ and $u_1 = (K_2 - u_2)/\\alpha_{21}$ are the equations for our isoclines for $du_1/dt = 0$ and $du_2/dt = 0$, respectively. We can find the interior equilibrium where these lines intersect (i.e., both $u_1$ and $u_2$ do not change). In this case we get one interior equilibrium, but note that in more complicated models we can get more interior equilibria."
   ]
  },
  {
   "cell_type": "markdown",
   "metadata": {},
   "source": [
    "## Now plot the isoclines\n",
    "We will again use the `manipulate` function to see how our parameters change the isoclines. This can immediately tell us a lot about our equilibria and stability."
   ]
  },
  {
   "cell_type": "code",
   "execution_count": 52,
   "metadata": {},
   "outputs": [
    {
     "data": {
      "text/plain": [
       "iso2 (generic function with 1 method)"
      ]
     },
     "execution_count": 52,
     "metadata": {},
     "output_type": "execute_result"
    }
   ],
   "source": [
    "function iso1(u2, p)\n",
    "    @unpack α12, K1 = p\n",
    "    return K1 - α12 * u2 / K1\n",
    "end\n",
    "\n",
    "function iso2(u2, p)\n",
    "    @unpack α21, K2 = p\n",
    "    return (K2 - u2) / α21\n",
    "end"
   ]
  },
  {
   "cell_type": "code",
   "execution_count": 53,
   "metadata": {},
   "outputs": [
    {
     "data": {
      "application/vnd.webio.node+json": {
       "children": [
        {
         "children": [
          {
           "children": [
            {
             "children": [
              {
               "children": [
                {
                 "children": [
                  "α12"
                 ],
                 "instanceArgs": {
                  "namespace": "html",
                  "tag": "label"
                 },
                 "nodeType": "DOM",
                 "props": {
                  "className": "interact ",
                  "style": {
                   "padding": "5px 10px 0px 10px"
                  }
                 },
                 "type": "node"
                }
               ],
               "instanceArgs": {
                "namespace": "html",
                "tag": "div"
               },
               "nodeType": "DOM",
               "props": {
                "className": "interact-flex-row-left"
               },
               "type": "node"
              },
              {
               "children": [
                {
                 "children": [],
                 "instanceArgs": {
                  "namespace": "html",
                  "tag": "input"
                 },
                 "nodeType": "DOM",
                 "props": {
                  "attributes": {
                   "data-bind": "numericValue: index, valueUpdate: 'input', event: {change: function (){this.changes(this.changes()+1)}}",
                   "orient": "horizontal",
                   "type": "range"
                  },
                  "className": "slider slider is-fullwidth",
                  "max": 91,
                  "min": 1,
                  "step": 1,
                  "style": {}
                 },
                 "type": "node"
                }
               ],
               "instanceArgs": {
                "namespace": "html",
                "tag": "div"
               },
               "nodeType": "DOM",
               "props": {
                "className": "interact-flex-row-center"
               },
               "type": "node"
              },
              {
               "children": [
                {
                 "children": [],
                 "instanceArgs": {
                  "namespace": "html",
                  "tag": "p"
                 },
                 "nodeType": "DOM",
                 "props": {
                  "attributes": {
                   "data-bind": "text: formatted_val"
                  }
                 },
                 "type": "node"
                }
               ],
               "instanceArgs": {
                "namespace": "html",
                "tag": "div"
               },
               "nodeType": "DOM",
               "props": {
                "className": "interact-flex-row-right"
               },
               "type": "node"
              }
             ],
             "instanceArgs": {
              "namespace": "html",
              "tag": "div"
             },
             "nodeType": "DOM",
             "props": {
              "className": "interact-flex-row interact-widget"
             },
             "type": "node"
            }
           ],
           "instanceArgs": {
            "handlers": {
             "changes": [
              "(function (val){return (val!=this.model[\"changes\"]()) ? (this.valueFromJulia[\"changes\"]=true, this.model[\"changes\"](val)) : undefined})"
             ],
             "index": [
              "(function (val){return (val!=this.model[\"index\"]()) ? (this.valueFromJulia[\"index\"]=true, this.model[\"index\"](val)) : undefined})"
             ]
            },
            "id": "10312091352813917633",
            "imports": {
             "data": [
              {
               "name": "knockout",
               "type": "js",
               "url": "/assetserver/acf0924a365e010bf6a3eb46a136f582bb3d7da4-knockout.js"
              },
              {
               "name": "knockout_punches",
               "type": "js",
               "url": "/assetserver/5ea3afb6d7dd7ccff78b8ae481a9e30e62bf0288-knockout_punches.js"
              },
              {
               "name": null,
               "type": "js",
               "url": "/assetserver/203a4ea09144c577795449fdf0a4f24f8980ee5c-all.js"
              },
              {
               "name": null,
               "type": "css",
               "url": "/assetserver/36431373a4cd66cfad626b36ea93570e5a68faba-style.css"
              },
              {
               "name": null,
               "type": "css",
               "url": "/assetserver/081949f489b194aeef4b21cd890d5b3ac8bb08a5-bulma_confined.min.css"
              }
             ],
             "type": "async_block"
            },
            "mount_callbacks": [
             "function () {\n    var handler = (function (ko, koPunches) {\n    ko.punches.enableAll();\n    ko.bindingHandlers.numericValue = {\n        init: function(element, valueAccessor, allBindings, data, context) {\n            var stringified = ko.observable(ko.unwrap(valueAccessor()));\n            stringified.subscribe(function(value) {\n                var val = parseFloat(value);\n                if (!isNaN(val)) {\n                    valueAccessor()(val);\n                }\n            });\n            valueAccessor().subscribe(function(value) {\n                var str = JSON.stringify(value);\n                if ((str == \"0\") && ([\"-0\", \"-0.\"].indexOf(stringified()) >= 0))\n                     return;\n                 if ([\"null\", \"\"].indexOf(str) >= 0)\n                     return;\n                stringified(str);\n            });\n            ko.applyBindingsToNode(\n                element,\n                {\n                    value: stringified,\n                    valueUpdate: allBindings.get('valueUpdate'),\n                },\n                context,\n            );\n        }\n    };\n    var json_data = {\"formatted_vals\":[\"0.1\",\"0.11\",\"0.12\",\"0.13\",\"0.14\",\"0.15\",\"0.16\",\"0.17\",\"0.18\",\"0.19\",\"0.2\",\"0.21\",\"0.22\",\"0.23\",\"0.24\",\"0.25\",\"0.26\",\"0.27\",\"0.28\",\"0.29\",\"0.3\",\"0.31\",\"0.32\",\"0.33\",\"0.34\",\"0.35\",\"0.36\",\"0.37\",\"0.38\",\"0.39\",\"0.4\",\"0.41\",\"0.42\",\"0.43\",\"0.44\",\"0.45\",\"0.46\",\"0.47\",\"0.48\",\"0.49\",\"0.5\",\"0.51\",\"0.52\",\"0.53\",\"0.54\",\"0.55\",\"0.56\",\"0.57\",\"0.58\",\"0.59\",\"0.6\",\"0.61\",\"0.62\",\"0.63\",\"0.64\",\"0.65\",\"0.66\",\"0.67\",\"0.68\",\"0.69\",\"0.7\",\"0.71\",\"0.72\",\"0.73\",\"0.74\",\"0.75\",\"0.76\",\"0.77\",\"0.78\",\"0.79\",\"0.8\",\"0.81\",\"0.82\",\"0.83\",\"0.84\",\"0.85\",\"0.86\",\"0.87\",\"0.88\",\"0.89\",\"0.9\",\"0.91\",\"0.92\",\"0.93\",\"0.94\",\"0.95\",\"0.96\",\"0.97\",\"0.98\",\"0.99\",\"1.0\"],\"changes\":WebIO.getval({\"name\":\"changes\",\"scope\":\"10312091352813917633\",\"id\":\"ob_27\",\"type\":\"observable\"}),\"index\":WebIO.getval({\"name\":\"index\",\"scope\":\"10312091352813917633\",\"id\":\"ob_26\",\"type\":\"observable\"})};\n    var self = this;\n    function AppViewModel() {\n        for (var key in json_data) {\n            var el = json_data[key];\n            this[key] = Array.isArray(el) ? ko.observableArray(el) : ko.observable(el);\n        }\n        \n        [this[\"formatted_val\"]=ko.computed(    function(){\n        return this.formatted_vals()[parseInt(this.index())-(1)];\n    }\n,this)]\n        [this[\"changes\"].subscribe((function (val){!(this.valueFromJulia[\"changes\"]) ? (WebIO.setval({\"name\":\"changes\",\"scope\":\"10312091352813917633\",\"id\":\"ob_27\",\"type\":\"observable\"},val)) : undefined; return this.valueFromJulia[\"changes\"]=false}),self),this[\"index\"].subscribe((function (val){!(this.valueFromJulia[\"index\"]) ? (WebIO.setval({\"name\":\"index\",\"scope\":\"10312091352813917633\",\"id\":\"ob_26\",\"type\":\"observable\"},val)) : undefined; return this.valueFromJulia[\"index\"]=false}),self)]\n        \n    }\n    self.model = new AppViewModel();\n    self.valueFromJulia = {};\n    for (var key in json_data) {\n        self.valueFromJulia[key] = false;\n    }\n    ko.applyBindings(self.model, self.dom);\n}\n);\n    (WebIO.importBlock({\"data\":[{\"name\":\"knockout\",\"type\":\"js\",\"url\":\"/assetserver/acf0924a365e010bf6a3eb46a136f582bb3d7da4-knockout.js\"},{\"name\":\"knockout_punches\",\"type\":\"js\",\"url\":\"/assetserver/5ea3afb6d7dd7ccff78b8ae481a9e30e62bf0288-knockout_punches.js\"}],\"type\":\"async_block\"})).then((imports) => handler.apply(this, imports));\n}\n"
            ],
            "observables": {
             "changes": {
              "id": "ob_27",
              "sync": false,
              "value": 0
             },
             "index": {
              "id": "ob_26",
              "sync": true,
              "value": 71
             }
            },
            "systemjs_options": null
           },
           "nodeType": "Scope",
           "props": {},
           "type": "node"
          }
         ],
         "instanceArgs": {
          "namespace": "html",
          "tag": "div"
         },
         "nodeType": "DOM",
         "props": {
          "className": "field interact-widget"
         },
         "type": "node"
        },
        {
         "children": [
          {
           "children": [
            {
             "children": [
              {
               "children": [
                {
                 "children": [
                  "α21"
                 ],
                 "instanceArgs": {
                  "namespace": "html",
                  "tag": "label"
                 },
                 "nodeType": "DOM",
                 "props": {
                  "className": "interact ",
                  "style": {
                   "padding": "5px 10px 0px 10px"
                  }
                 },
                 "type": "node"
                }
               ],
               "instanceArgs": {
                "namespace": "html",
                "tag": "div"
               },
               "nodeType": "DOM",
               "props": {
                "className": "interact-flex-row-left"
               },
               "type": "node"
              },
              {
               "children": [
                {
                 "children": [],
                 "instanceArgs": {
                  "namespace": "html",
                  "tag": "input"
                 },
                 "nodeType": "DOM",
                 "props": {
                  "attributes": {
                   "data-bind": "numericValue: index, valueUpdate: 'input', event: {change: function (){this.changes(this.changes()+1)}}",
                   "orient": "horizontal",
                   "type": "range"
                  },
                  "className": "slider slider is-fullwidth",
                  "max": 91,
                  "min": 1,
                  "step": 1,
                  "style": {}
                 },
                 "type": "node"
                }
               ],
               "instanceArgs": {
                "namespace": "html",
                "tag": "div"
               },
               "nodeType": "DOM",
               "props": {
                "className": "interact-flex-row-center"
               },
               "type": "node"
              },
              {
               "children": [
                {
                 "children": [],
                 "instanceArgs": {
                  "namespace": "html",
                  "tag": "p"
                 },
                 "nodeType": "DOM",
                 "props": {
                  "attributes": {
                   "data-bind": "text: formatted_val"
                  }
                 },
                 "type": "node"
                }
               ],
               "instanceArgs": {
                "namespace": "html",
                "tag": "div"
               },
               "nodeType": "DOM",
               "props": {
                "className": "interact-flex-row-right"
               },
               "type": "node"
              }
             ],
             "instanceArgs": {
              "namespace": "html",
              "tag": "div"
             },
             "nodeType": "DOM",
             "props": {
              "className": "interact-flex-row interact-widget"
             },
             "type": "node"
            }
           ],
           "instanceArgs": {
            "handlers": {
             "changes": [
              "(function (val){return (val!=this.model[\"changes\"]()) ? (this.valueFromJulia[\"changes\"]=true, this.model[\"changes\"](val)) : undefined})"
             ],
             "index": [
              "(function (val){return (val!=this.model[\"index\"]()) ? (this.valueFromJulia[\"index\"]=true, this.model[\"index\"](val)) : undefined})"
             ]
            },
            "id": "15475757110861760376",
            "imports": {
             "data": [
              {
               "name": "knockout",
               "type": "js",
               "url": "/assetserver/acf0924a365e010bf6a3eb46a136f582bb3d7da4-knockout.js"
              },
              {
               "name": "knockout_punches",
               "type": "js",
               "url": "/assetserver/5ea3afb6d7dd7ccff78b8ae481a9e30e62bf0288-knockout_punches.js"
              },
              {
               "name": null,
               "type": "js",
               "url": "/assetserver/203a4ea09144c577795449fdf0a4f24f8980ee5c-all.js"
              },
              {
               "name": null,
               "type": "css",
               "url": "/assetserver/36431373a4cd66cfad626b36ea93570e5a68faba-style.css"
              },
              {
               "name": null,
               "type": "css",
               "url": "/assetserver/081949f489b194aeef4b21cd890d5b3ac8bb08a5-bulma_confined.min.css"
              }
             ],
             "type": "async_block"
            },
            "mount_callbacks": [
             "function () {\n    var handler = (function (ko, koPunches) {\n    ko.punches.enableAll();\n    ko.bindingHandlers.numericValue = {\n        init: function(element, valueAccessor, allBindings, data, context) {\n            var stringified = ko.observable(ko.unwrap(valueAccessor()));\n            stringified.subscribe(function(value) {\n                var val = parseFloat(value);\n                if (!isNaN(val)) {\n                    valueAccessor()(val);\n                }\n            });\n            valueAccessor().subscribe(function(value) {\n                var str = JSON.stringify(value);\n                if ((str == \"0\") && ([\"-0\", \"-0.\"].indexOf(stringified()) >= 0))\n                     return;\n                 if ([\"null\", \"\"].indexOf(str) >= 0)\n                     return;\n                stringified(str);\n            });\n            ko.applyBindingsToNode(\n                element,\n                {\n                    value: stringified,\n                    valueUpdate: allBindings.get('valueUpdate'),\n                },\n                context,\n            );\n        }\n    };\n    var json_data = {\"formatted_vals\":[\"0.1\",\"0.11\",\"0.12\",\"0.13\",\"0.14\",\"0.15\",\"0.16\",\"0.17\",\"0.18\",\"0.19\",\"0.2\",\"0.21\",\"0.22\",\"0.23\",\"0.24\",\"0.25\",\"0.26\",\"0.27\",\"0.28\",\"0.29\",\"0.3\",\"0.31\",\"0.32\",\"0.33\",\"0.34\",\"0.35\",\"0.36\",\"0.37\",\"0.38\",\"0.39\",\"0.4\",\"0.41\",\"0.42\",\"0.43\",\"0.44\",\"0.45\",\"0.46\",\"0.47\",\"0.48\",\"0.49\",\"0.5\",\"0.51\",\"0.52\",\"0.53\",\"0.54\",\"0.55\",\"0.56\",\"0.57\",\"0.58\",\"0.59\",\"0.6\",\"0.61\",\"0.62\",\"0.63\",\"0.64\",\"0.65\",\"0.66\",\"0.67\",\"0.68\",\"0.69\",\"0.7\",\"0.71\",\"0.72\",\"0.73\",\"0.74\",\"0.75\",\"0.76\",\"0.77\",\"0.78\",\"0.79\",\"0.8\",\"0.81\",\"0.82\",\"0.83\",\"0.84\",\"0.85\",\"0.86\",\"0.87\",\"0.88\",\"0.89\",\"0.9\",\"0.91\",\"0.92\",\"0.93\",\"0.94\",\"0.95\",\"0.96\",\"0.97\",\"0.98\",\"0.99\",\"1.0\"],\"changes\":WebIO.getval({\"name\":\"changes\",\"scope\":\"15475757110861760376\",\"id\":\"ob_30\",\"type\":\"observable\"}),\"index\":WebIO.getval({\"name\":\"index\",\"scope\":\"15475757110861760376\",\"id\":\"ob_29\",\"type\":\"observable\"})};\n    var self = this;\n    function AppViewModel() {\n        for (var key in json_data) {\n            var el = json_data[key];\n            this[key] = Array.isArray(el) ? ko.observableArray(el) : ko.observable(el);\n        }\n        \n        [this[\"formatted_val\"]=ko.computed(    function(){\n        return this.formatted_vals()[parseInt(this.index())-(1)];\n    }\n,this)]\n        [this[\"changes\"].subscribe((function (val){!(this.valueFromJulia[\"changes\"]) ? (WebIO.setval({\"name\":\"changes\",\"scope\":\"15475757110861760376\",\"id\":\"ob_30\",\"type\":\"observable\"},val)) : undefined; return this.valueFromJulia[\"changes\"]=false}),self),this[\"index\"].subscribe((function (val){!(this.valueFromJulia[\"index\"]) ? (WebIO.setval({\"name\":\"index\",\"scope\":\"15475757110861760376\",\"id\":\"ob_29\",\"type\":\"observable\"},val)) : undefined; return this.valueFromJulia[\"index\"]=false}),self)]\n        \n    }\n    self.model = new AppViewModel();\n    self.valueFromJulia = {};\n    for (var key in json_data) {\n        self.valueFromJulia[key] = false;\n    }\n    ko.applyBindings(self.model, self.dom);\n}\n);\n    (WebIO.importBlock({\"data\":[{\"name\":\"knockout\",\"type\":\"js\",\"url\":\"/assetserver/acf0924a365e010bf6a3eb46a136f582bb3d7da4-knockout.js\"},{\"name\":\"knockout_punches\",\"type\":\"js\",\"url\":\"/assetserver/5ea3afb6d7dd7ccff78b8ae481a9e30e62bf0288-knockout_punches.js\"}],\"type\":\"async_block\"})).then((imports) => handler.apply(this, imports));\n}\n"
            ],
            "observables": {
             "changes": {
              "id": "ob_30",
              "sync": false,
              "value": 0
             },
             "index": {
              "id": "ob_29",
              "sync": true,
              "value": 21
             }
            },
            "systemjs_options": null
           },
           "nodeType": "Scope",
           "props": {},
           "type": "node"
          }
         ],
         "instanceArgs": {
          "namespace": "html",
          "tag": "div"
         },
         "nodeType": "DOM",
         "props": {
          "className": "field interact-widget"
         },
         "type": "node"
        },
        {
         "children": [
          {
           "children": [
            {
             "children": [
              {
               "children": [
                {
                 "children": [
                  "K1"
                 ],
                 "instanceArgs": {
                  "namespace": "html",
                  "tag": "label"
                 },
                 "nodeType": "DOM",
                 "props": {
                  "className": "interact ",
                  "style": {
                   "padding": "5px 10px 0px 10px"
                  }
                 },
                 "type": "node"
                }
               ],
               "instanceArgs": {
                "namespace": "html",
                "tag": "div"
               },
               "nodeType": "DOM",
               "props": {
                "className": "interact-flex-row-left"
               },
               "type": "node"
              },
              {
               "children": [
                {
                 "children": [],
                 "instanceArgs": {
                  "namespace": "html",
                  "tag": "input"
                 },
                 "nodeType": "DOM",
                 "props": {
                  "attributes": {
                   "data-bind": "numericValue: index, valueUpdate: 'input', event: {change: function (){this.changes(this.changes()+1)}}",
                   "orient": "horizontal",
                   "type": "range"
                  },
                  "className": "slider slider is-fullwidth",
                  "max": 191,
                  "min": 1,
                  "step": 1,
                  "style": {}
                 },
                 "type": "node"
                }
               ],
               "instanceArgs": {
                "namespace": "html",
                "tag": "div"
               },
               "nodeType": "DOM",
               "props": {
                "className": "interact-flex-row-center"
               },
               "type": "node"
              },
              {
               "children": [
                {
                 "children": [],
                 "instanceArgs": {
                  "namespace": "html",
                  "tag": "p"
                 },
                 "nodeType": "DOM",
                 "props": {
                  "attributes": {
                   "data-bind": "text: formatted_val"
                  }
                 },
                 "type": "node"
                }
               ],
               "instanceArgs": {
                "namespace": "html",
                "tag": "div"
               },
               "nodeType": "DOM",
               "props": {
                "className": "interact-flex-row-right"
               },
               "type": "node"
              }
             ],
             "instanceArgs": {
              "namespace": "html",
              "tag": "div"
             },
             "nodeType": "DOM",
             "props": {
              "className": "interact-flex-row interact-widget"
             },
             "type": "node"
            }
           ],
           "instanceArgs": {
            "handlers": {
             "changes": [
              "(function (val){return (val!=this.model[\"changes\"]()) ? (this.valueFromJulia[\"changes\"]=true, this.model[\"changes\"](val)) : undefined})"
             ],
             "index": [
              "(function (val){return (val!=this.model[\"index\"]()) ? (this.valueFromJulia[\"index\"]=true, this.model[\"index\"](val)) : undefined})"
             ]
            },
            "id": "12174460662957082479",
            "imports": {
             "data": [
              {
               "name": "knockout",
               "type": "js",
               "url": "/assetserver/acf0924a365e010bf6a3eb46a136f582bb3d7da4-knockout.js"
              },
              {
               "name": "knockout_punches",
               "type": "js",
               "url": "/assetserver/5ea3afb6d7dd7ccff78b8ae481a9e30e62bf0288-knockout_punches.js"
              },
              {
               "name": null,
               "type": "js",
               "url": "/assetserver/203a4ea09144c577795449fdf0a4f24f8980ee5c-all.js"
              },
              {
               "name": null,
               "type": "css",
               "url": "/assetserver/36431373a4cd66cfad626b36ea93570e5a68faba-style.css"
              },
              {
               "name": null,
               "type": "css",
               "url": "/assetserver/081949f489b194aeef4b21cd890d5b3ac8bb08a5-bulma_confined.min.css"
              }
             ],
             "type": "async_block"
            },
            "mount_callbacks": [
             "function () {\n    var handler = (function (ko, koPunches) {\n    ko.punches.enableAll();\n    ko.bindingHandlers.numericValue = {\n        init: function(element, valueAccessor, allBindings, data, context) {\n            var stringified = ko.observable(ko.unwrap(valueAccessor()));\n            stringified.subscribe(function(value) {\n                var val = parseFloat(value);\n                if (!isNaN(val)) {\n                    valueAccessor()(val);\n                }\n            });\n            valueAccessor().subscribe(function(value) {\n                var str = JSON.stringify(value);\n                if ((str == \"0\") && ([\"-0\", \"-0.\"].indexOf(stringified()) >= 0))\n                     return;\n                 if ([\"null\", \"\"].indexOf(str) >= 0)\n                     return;\n                stringified(str);\n            });\n            ko.applyBindingsToNode(\n                element,\n                {\n                    value: stringified,\n                    valueUpdate: allBindings.get('valueUpdate'),\n                },\n                context,\n            );\n        }\n    };\n    var json_data = {\"formatted_vals\":[\"0.1\",\"0.11\",\"0.12\",\"0.13\",\"0.14\",\"0.15\",\"0.16\",\"0.17\",\"0.18\",\"0.19\",\"0.2\",\"0.21\",\"0.22\",\"0.23\",\"0.24\",\"0.25\",\"0.26\",\"0.27\",\"0.28\",\"0.29\",\"0.3\",\"0.31\",\"0.32\",\"0.33\",\"0.34\",\"0.35\",\"0.36\",\"0.37\",\"0.38\",\"0.39\",\"0.4\",\"0.41\",\"0.42\",\"0.43\",\"0.44\",\"0.45\",\"0.46\",\"0.47\",\"0.48\",\"0.49\",\"0.5\",\"0.51\",\"0.52\",\"0.53\",\"0.54\",\"0.55\",\"0.56\",\"0.57\",\"0.58\",\"0.59\",\"0.6\",\"0.61\",\"0.62\",\"0.63\",\"0.64\",\"0.65\",\"0.66\",\"0.67\",\"0.68\",\"0.69\",\"0.7\",\"0.71\",\"0.72\",\"0.73\",\"0.74\",\"0.75\",\"0.76\",\"0.77\",\"0.78\",\"0.79\",\"0.8\",\"0.81\",\"0.82\",\"0.83\",\"0.84\",\"0.85\",\"0.86\",\"0.87\",\"0.88\",\"0.89\",\"0.9\",\"0.91\",\"0.92\",\"0.93\",\"0.94\",\"0.95\",\"0.96\",\"0.97\",\"0.98\",\"0.99\",\"1.0\",\"1.01\",\"1.02\",\"1.03\",\"1.04\",\"1.05\",\"1.06\",\"1.07\",\"1.08\",\"1.09\",\"1.1\",\"1.11\",\"1.12\",\"1.13\",\"1.14\",\"1.15\",\"1.16\",\"1.17\",\"1.18\",\"1.19\",\"1.2\",\"1.21\",\"1.22\",\"1.23\",\"1.24\",\"1.25\",\"1.26\",\"1.27\",\"1.28\",\"1.29\",\"1.3\",\"1.31\",\"1.32\",\"1.33\",\"1.34\",\"1.35\",\"1.36\",\"1.37\",\"1.38\",\"1.39\",\"1.4\",\"1.41\",\"1.42\",\"1.43\",\"1.44\",\"1.45\",\"1.46\",\"1.47\",\"1.48\",\"1.49\",\"1.5\",\"1.51\",\"1.52\",\"1.53\",\"1.54\",\"1.55\",\"1.56\",\"1.57\",\"1.58\",\"1.59\",\"1.6\",\"1.61\",\"1.62\",\"1.63\",\"1.64\",\"1.65\",\"1.66\",\"1.67\",\"1.68\",\"1.69\",\"1.7\",\"1.71\",\"1.72\",\"1.73\",\"1.74\",\"1.75\",\"1.76\",\"1.77\",\"1.78\",\"1.79\",\"1.8\",\"1.81\",\"1.82\",\"1.83\",\"1.84\",\"1.85\",\"1.86\",\"1.87\",\"1.88\",\"1.89\",\"1.9\",\"1.91\",\"1.92\",\"1.93\",\"1.94\",\"1.95\",\"1.96\",\"1.97\",\"1.98\",\"1.99\",\"2.0\"],\"changes\":WebIO.getval({\"name\":\"changes\",\"scope\":\"12174460662957082479\",\"id\":\"ob_33\",\"type\":\"observable\"}),\"index\":WebIO.getval({\"name\":\"index\",\"scope\":\"12174460662957082479\",\"id\":\"ob_32\",\"type\":\"observable\"})};\n    var self = this;\n    function AppViewModel() {\n        for (var key in json_data) {\n            var el = json_data[key];\n            this[key] = Array.isArray(el) ? ko.observableArray(el) : ko.observable(el);\n        }\n        \n        [this[\"formatted_val\"]=ko.computed(    function(){\n        return this.formatted_vals()[parseInt(this.index())-(1)];\n    }\n,this)]\n        [this[\"changes\"].subscribe((function (val){!(this.valueFromJulia[\"changes\"]) ? (WebIO.setval({\"name\":\"changes\",\"scope\":\"12174460662957082479\",\"id\":\"ob_33\",\"type\":\"observable\"},val)) : undefined; return this.valueFromJulia[\"changes\"]=false}),self),this[\"index\"].subscribe((function (val){!(this.valueFromJulia[\"index\"]) ? (WebIO.setval({\"name\":\"index\",\"scope\":\"12174460662957082479\",\"id\":\"ob_32\",\"type\":\"observable\"},val)) : undefined; return this.valueFromJulia[\"index\"]=false}),self)]\n        \n    }\n    self.model = new AppViewModel();\n    self.valueFromJulia = {};\n    for (var key in json_data) {\n        self.valueFromJulia[key] = false;\n    }\n    ko.applyBindings(self.model, self.dom);\n}\n);\n    (WebIO.importBlock({\"data\":[{\"name\":\"knockout\",\"type\":\"js\",\"url\":\"/assetserver/acf0924a365e010bf6a3eb46a136f582bb3d7da4-knockout.js\"},{\"name\":\"knockout_punches\",\"type\":\"js\",\"url\":\"/assetserver/5ea3afb6d7dd7ccff78b8ae481a9e30e62bf0288-knockout_punches.js\"}],\"type\":\"async_block\"})).then((imports) => handler.apply(this, imports));\n}\n"
            ],
            "observables": {
             "changes": {
              "id": "ob_33",
              "sync": false,
              "value": 0
             },
             "index": {
              "id": "ob_32",
              "sync": true,
              "value": 141
             }
            },
            "systemjs_options": null
           },
           "nodeType": "Scope",
           "props": {},
           "type": "node"
          }
         ],
         "instanceArgs": {
          "namespace": "html",
          "tag": "div"
         },
         "nodeType": "DOM",
         "props": {
          "className": "field interact-widget"
         },
         "type": "node"
        },
        {
         "children": [
          {
           "children": [
            {
             "children": [
              {
               "children": [
                {
                 "children": [
                  "K2"
                 ],
                 "instanceArgs": {
                  "namespace": "html",
                  "tag": "label"
                 },
                 "nodeType": "DOM",
                 "props": {
                  "className": "interact ",
                  "style": {
                   "padding": "5px 10px 0px 10px"
                  }
                 },
                 "type": "node"
                }
               ],
               "instanceArgs": {
                "namespace": "html",
                "tag": "div"
               },
               "nodeType": "DOM",
               "props": {
                "className": "interact-flex-row-left"
               },
               "type": "node"
              },
              {
               "children": [
                {
                 "children": [],
                 "instanceArgs": {
                  "namespace": "html",
                  "tag": "input"
                 },
                 "nodeType": "DOM",
                 "props": {
                  "attributes": {
                   "data-bind": "numericValue: index, valueUpdate: 'input', event: {change: function (){this.changes(this.changes()+1)}}",
                   "orient": "horizontal",
                   "type": "range"
                  },
                  "className": "slider slider is-fullwidth",
                  "max": 191,
                  "min": 1,
                  "step": 1,
                  "style": {}
                 },
                 "type": "node"
                }
               ],
               "instanceArgs": {
                "namespace": "html",
                "tag": "div"
               },
               "nodeType": "DOM",
               "props": {
                "className": "interact-flex-row-center"
               },
               "type": "node"
              },
              {
               "children": [
                {
                 "children": [],
                 "instanceArgs": {
                  "namespace": "html",
                  "tag": "p"
                 },
                 "nodeType": "DOM",
                 "props": {
                  "attributes": {
                   "data-bind": "text: formatted_val"
                  }
                 },
                 "type": "node"
                }
               ],
               "instanceArgs": {
                "namespace": "html",
                "tag": "div"
               },
               "nodeType": "DOM",
               "props": {
                "className": "interact-flex-row-right"
               },
               "type": "node"
              }
             ],
             "instanceArgs": {
              "namespace": "html",
              "tag": "div"
             },
             "nodeType": "DOM",
             "props": {
              "className": "interact-flex-row interact-widget"
             },
             "type": "node"
            }
           ],
           "instanceArgs": {
            "handlers": {
             "changes": [
              "(function (val){return (val!=this.model[\"changes\"]()) ? (this.valueFromJulia[\"changes\"]=true, this.model[\"changes\"](val)) : undefined})"
             ],
             "index": [
              "(function (val){return (val!=this.model[\"index\"]()) ? (this.valueFromJulia[\"index\"]=true, this.model[\"index\"](val)) : undefined})"
             ]
            },
            "id": "9937568254509816097",
            "imports": {
             "data": [
              {
               "name": "knockout",
               "type": "js",
               "url": "/assetserver/acf0924a365e010bf6a3eb46a136f582bb3d7da4-knockout.js"
              },
              {
               "name": "knockout_punches",
               "type": "js",
               "url": "/assetserver/5ea3afb6d7dd7ccff78b8ae481a9e30e62bf0288-knockout_punches.js"
              },
              {
               "name": null,
               "type": "js",
               "url": "/assetserver/203a4ea09144c577795449fdf0a4f24f8980ee5c-all.js"
              },
              {
               "name": null,
               "type": "css",
               "url": "/assetserver/36431373a4cd66cfad626b36ea93570e5a68faba-style.css"
              },
              {
               "name": null,
               "type": "css",
               "url": "/assetserver/081949f489b194aeef4b21cd890d5b3ac8bb08a5-bulma_confined.min.css"
              }
             ],
             "type": "async_block"
            },
            "mount_callbacks": [
             "function () {\n    var handler = (function (ko, koPunches) {\n    ko.punches.enableAll();\n    ko.bindingHandlers.numericValue = {\n        init: function(element, valueAccessor, allBindings, data, context) {\n            var stringified = ko.observable(ko.unwrap(valueAccessor()));\n            stringified.subscribe(function(value) {\n                var val = parseFloat(value);\n                if (!isNaN(val)) {\n                    valueAccessor()(val);\n                }\n            });\n            valueAccessor().subscribe(function(value) {\n                var str = JSON.stringify(value);\n                if ((str == \"0\") && ([\"-0\", \"-0.\"].indexOf(stringified()) >= 0))\n                     return;\n                 if ([\"null\", \"\"].indexOf(str) >= 0)\n                     return;\n                stringified(str);\n            });\n            ko.applyBindingsToNode(\n                element,\n                {\n                    value: stringified,\n                    valueUpdate: allBindings.get('valueUpdate'),\n                },\n                context,\n            );\n        }\n    };\n    var json_data = {\"formatted_vals\":[\"0.1\",\"0.11\",\"0.12\",\"0.13\",\"0.14\",\"0.15\",\"0.16\",\"0.17\",\"0.18\",\"0.19\",\"0.2\",\"0.21\",\"0.22\",\"0.23\",\"0.24\",\"0.25\",\"0.26\",\"0.27\",\"0.28\",\"0.29\",\"0.3\",\"0.31\",\"0.32\",\"0.33\",\"0.34\",\"0.35\",\"0.36\",\"0.37\",\"0.38\",\"0.39\",\"0.4\",\"0.41\",\"0.42\",\"0.43\",\"0.44\",\"0.45\",\"0.46\",\"0.47\",\"0.48\",\"0.49\",\"0.5\",\"0.51\",\"0.52\",\"0.53\",\"0.54\",\"0.55\",\"0.56\",\"0.57\",\"0.58\",\"0.59\",\"0.6\",\"0.61\",\"0.62\",\"0.63\",\"0.64\",\"0.65\",\"0.66\",\"0.67\",\"0.68\",\"0.69\",\"0.7\",\"0.71\",\"0.72\",\"0.73\",\"0.74\",\"0.75\",\"0.76\",\"0.77\",\"0.78\",\"0.79\",\"0.8\",\"0.81\",\"0.82\",\"0.83\",\"0.84\",\"0.85\",\"0.86\",\"0.87\",\"0.88\",\"0.89\",\"0.9\",\"0.91\",\"0.92\",\"0.93\",\"0.94\",\"0.95\",\"0.96\",\"0.97\",\"0.98\",\"0.99\",\"1.0\",\"1.01\",\"1.02\",\"1.03\",\"1.04\",\"1.05\",\"1.06\",\"1.07\",\"1.08\",\"1.09\",\"1.1\",\"1.11\",\"1.12\",\"1.13\",\"1.14\",\"1.15\",\"1.16\",\"1.17\",\"1.18\",\"1.19\",\"1.2\",\"1.21\",\"1.22\",\"1.23\",\"1.24\",\"1.25\",\"1.26\",\"1.27\",\"1.28\",\"1.29\",\"1.3\",\"1.31\",\"1.32\",\"1.33\",\"1.34\",\"1.35\",\"1.36\",\"1.37\",\"1.38\",\"1.39\",\"1.4\",\"1.41\",\"1.42\",\"1.43\",\"1.44\",\"1.45\",\"1.46\",\"1.47\",\"1.48\",\"1.49\",\"1.5\",\"1.51\",\"1.52\",\"1.53\",\"1.54\",\"1.55\",\"1.56\",\"1.57\",\"1.58\",\"1.59\",\"1.6\",\"1.61\",\"1.62\",\"1.63\",\"1.64\",\"1.65\",\"1.66\",\"1.67\",\"1.68\",\"1.69\",\"1.7\",\"1.71\",\"1.72\",\"1.73\",\"1.74\",\"1.75\",\"1.76\",\"1.77\",\"1.78\",\"1.79\",\"1.8\",\"1.81\",\"1.82\",\"1.83\",\"1.84\",\"1.85\",\"1.86\",\"1.87\",\"1.88\",\"1.89\",\"1.9\",\"1.91\",\"1.92\",\"1.93\",\"1.94\",\"1.95\",\"1.96\",\"1.97\",\"1.98\",\"1.99\",\"2.0\"],\"changes\":WebIO.getval({\"name\":\"changes\",\"scope\":\"9937568254509816097\",\"id\":\"ob_36\",\"type\":\"observable\"}),\"index\":WebIO.getval({\"name\":\"index\",\"scope\":\"9937568254509816097\",\"id\":\"ob_35\",\"type\":\"observable\"})};\n    var self = this;\n    function AppViewModel() {\n        for (var key in json_data) {\n            var el = json_data[key];\n            this[key] = Array.isArray(el) ? ko.observableArray(el) : ko.observable(el);\n        }\n        \n        [this[\"formatted_val\"]=ko.computed(    function(){\n        return this.formatted_vals()[parseInt(this.index())-(1)];\n    }\n,this)]\n        [this[\"changes\"].subscribe((function (val){!(this.valueFromJulia[\"changes\"]) ? (WebIO.setval({\"name\":\"changes\",\"scope\":\"9937568254509816097\",\"id\":\"ob_36\",\"type\":\"observable\"},val)) : undefined; return this.valueFromJulia[\"changes\"]=false}),self),this[\"index\"].subscribe((function (val){!(this.valueFromJulia[\"index\"]) ? (WebIO.setval({\"name\":\"index\",\"scope\":\"9937568254509816097\",\"id\":\"ob_35\",\"type\":\"observable\"},val)) : undefined; return this.valueFromJulia[\"index\"]=false}),self)]\n        \n    }\n    self.model = new AppViewModel();\n    self.valueFromJulia = {};\n    for (var key in json_data) {\n        self.valueFromJulia[key] = false;\n    }\n    ko.applyBindings(self.model, self.dom);\n}\n);\n    (WebIO.importBlock({\"data\":[{\"name\":\"knockout\",\"type\":\"js\",\"url\":\"/assetserver/acf0924a365e010bf6a3eb46a136f582bb3d7da4-knockout.js\"},{\"name\":\"knockout_punches\",\"type\":\"js\",\"url\":\"/assetserver/5ea3afb6d7dd7ccff78b8ae481a9e30e62bf0288-knockout_punches.js\"}],\"type\":\"async_block\"})).then((imports) => handler.apply(this, imports));\n}\n"
            ],
            "observables": {
             "changes": {
              "id": "ob_36",
              "sync": false,
              "value": 0
             },
             "index": {
              "id": "ob_35",
              "sync": true,
              "value": 91
             }
            },
            "systemjs_options": null
           },
           "nodeType": "Scope",
           "props": {},
           "type": "node"
          }
         ],
         "instanceArgs": {
          "namespace": "html",
          "tag": "div"
         },
         "nodeType": "DOM",
         "props": {
          "className": "field interact-widget"
         },
         "type": "node"
        },
        {
         "children": [
          {
           "children": [],
           "instanceArgs": {
            "id": "ob_42",
            "name": "obs-node"
           },
           "nodeType": "ObservableNode",
           "props": {},
           "type": "node"
          }
         ],
         "instanceArgs": {
          "handlers": {},
          "id": "16273467949810615988",
          "imports": {
           "data": [],
           "type": "async_block"
          },
          "mount_callbacks": [],
          "observables": {
           "obs-node": {
            "id": "ob_42",
            "sync": false,
            "value": {
             "children": [
              {
               "children": [],
               "instanceArgs": {
                "namespace": "html",
                "tag": "div"
               },
               "nodeType": "DOM",
               "props": {
                "setInnerHtml": "<img src='data:image/png;base64,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'></img>"
               },
               "type": "node"
              }
             ],
             "instanceArgs": {
              "namespace": "html",
              "tag": "div"
             },
             "nodeType": "DOM",
             "props": {
              "className": "interact-flex-row interact-widget"
             },
             "type": "node"
            }
           }
          },
          "systemjs_options": null
         },
         "nodeType": "Scope",
         "props": {},
         "type": "node"
        }
       ],
       "instanceArgs": {
        "namespace": "html",
        "tag": "div"
       },
       "nodeType": "DOM",
       "props": {},
       "type": "node"
      },
      "text/html": [
       "<div\n",
       "    class=\"webio-mountpoint\"\n",
       "    data-webio-mountpoint=\"3478258739959412670\"\n",
       ">\n",
       "    <script>\n",
       "    if (window.require && require.defined && require.defined(\"nbextensions/webio-jupyter-notebook\")) {\n",
       "        console.log(\"Jupyter WebIO extension detected, not mounting.\");\n",
       "    } else if (window.WebIO) {\n",
       "        WebIO.mount(\n",
       "            document.querySelector('[data-webio-mountpoint=\"3478258739959412670\"]'),\n",
       "            {\"props\":{},\"nodeType\":\"DOM\",\"type\":\"node\",\"instanceArgs\":{\"namespace\":\"html\",\"tag\":\"div\"},\"children\":[{\"props\":{\"className\":\"field interact-widget\"},\"nodeType\":\"DOM\",\"type\":\"node\",\"instanceArgs\":{\"namespace\":\"html\",\"tag\":\"div\"},\"children\":[{\"props\":{},\"nodeType\":\"Scope\",\"type\":\"node\",\"instanceArgs\":{\"imports\":{\"data\":[{\"name\":\"knockout\",\"type\":\"js\",\"url\":\"\\/assetserver\\/acf0924a365e010bf6a3eb46a136f582bb3d7da4-knockout.js\"},{\"name\":\"knockout_punches\",\"type\":\"js\",\"url\":\"\\/assetserver\\/5ea3afb6d7dd7ccff78b8ae481a9e30e62bf0288-knockout_punches.js\"},{\"name\":null,\"type\":\"js\",\"url\":\"\\/assetserver\\/203a4ea09144c577795449fdf0a4f24f8980ee5c-all.js\"},{\"name\":null,\"type\":\"css\",\"url\":\"\\/assetserver\\/36431373a4cd66cfad626b36ea93570e5a68faba-style.css\"},{\"name\":null,\"type\":\"css\",\"url\":\"\\/assetserver\\/081949f489b194aeef4b21cd890d5b3ac8bb08a5-bulma_confined.min.css\"}],\"type\":\"async_block\"},\"id\":\"10312091352813917633\",\"handlers\":{\"changes\":[\"(function (val){return (val!=this.model[\\\"changes\\\"]()) ? (this.valueFromJulia[\\\"changes\\\"]=true, this.model[\\\"changes\\\"](val)) : undefined})\"],\"index\":[\"(function (val){return (val!=this.model[\\\"index\\\"]()) ? (this.valueFromJulia[\\\"index\\\"]=true, this.model[\\\"index\\\"](val)) : undefined})\"]},\"systemjs_options\":null,\"mount_callbacks\":[\"function () {\\n    var handler = (function (ko, koPunches) {\\n    ko.punches.enableAll();\\n    ko.bindingHandlers.numericValue = {\\n        init: function(element, valueAccessor, allBindings, data, context) {\\n            var stringified = ko.observable(ko.unwrap(valueAccessor()));\\n            stringified.subscribe(function(value) {\\n                var val = parseFloat(value);\\n                if (!isNaN(val)) {\\n                    valueAccessor()(val);\\n                }\\n            });\\n            valueAccessor().subscribe(function(value) {\\n                var str = JSON.stringify(value);\\n                if ((str == \\\"0\\\") && ([\\\"-0\\\", \\\"-0.\\\"].indexOf(stringified()) >= 0))\\n                     return;\\n                 if ([\\\"null\\\", \\\"\\\"].indexOf(str) >= 0)\\n                     return;\\n                stringified(str);\\n            });\\n            ko.applyBindingsToNode(\\n                element,\\n                {\\n                    value: stringified,\\n                    valueUpdate: allBindings.get('valueUpdate'),\\n                },\\n                context,\\n            );\\n        }\\n    };\\n    var json_data = {\\\"formatted_vals\\\":[\\\"0.1\\\",\\\"0.11\\\",\\\"0.12\\\",\\\"0.13\\\",\\\"0.14\\\",\\\"0.15\\\",\\\"0.16\\\",\\\"0.17\\\",\\\"0.18\\\",\\\"0.19\\\",\\\"0.2\\\",\\\"0.21\\\",\\\"0.22\\\",\\\"0.23\\\",\\\"0.24\\\",\\\"0.25\\\",\\\"0.26\\\",\\\"0.27\\\",\\\"0.28\\\",\\\"0.29\\\",\\\"0.3\\\",\\\"0.31\\\",\\\"0.32\\\",\\\"0.33\\\",\\\"0.34\\\",\\\"0.35\\\",\\\"0.36\\\",\\\"0.37\\\",\\\"0.38\\\",\\\"0.39\\\",\\\"0.4\\\",\\\"0.41\\\",\\\"0.42\\\",\\\"0.43\\\",\\\"0.44\\\",\\\"0.45\\\",\\\"0.46\\\",\\\"0.47\\\",\\\"0.48\\\",\\\"0.49\\\",\\\"0.5\\\",\\\"0.51\\\",\\\"0.52\\\",\\\"0.53\\\",\\\"0.54\\\",\\\"0.55\\\",\\\"0.56\\\",\\\"0.57\\\",\\\"0.58\\\",\\\"0.59\\\",\\\"0.6\\\",\\\"0.61\\\",\\\"0.62\\\",\\\"0.63\\\",\\\"0.64\\\",\\\"0.65\\\",\\\"0.66\\\",\\\"0.67\\\",\\\"0.68\\\",\\\"0.69\\\",\\\"0.7\\\",\\\"0.71\\\",\\\"0.72\\\",\\\"0.73\\\",\\\"0.74\\\",\\\"0.75\\\",\\\"0.76\\\",\\\"0.77\\\",\\\"0.78\\\",\\\"0.79\\\",\\\"0.8\\\",\\\"0.81\\\",\\\"0.82\\\",\\\"0.83\\\",\\\"0.84\\\",\\\"0.85\\\",\\\"0.86\\\",\\\"0.87\\\",\\\"0.88\\\",\\\"0.89\\\",\\\"0.9\\\",\\\"0.91\\\",\\\"0.92\\\",\\\"0.93\\\",\\\"0.94\\\",\\\"0.95\\\",\\\"0.96\\\",\\\"0.97\\\",\\\"0.98\\\",\\\"0.99\\\",\\\"1.0\\\"],\\\"changes\\\":WebIO.getval({\\\"name\\\":\\\"changes\\\",\\\"scope\\\":\\\"10312091352813917633\\\",\\\"id\\\":\\\"ob_27\\\",\\\"type\\\":\\\"observable\\\"}),\\\"index\\\":WebIO.getval({\\\"name\\\":\\\"index\\\",\\\"scope\\\":\\\"10312091352813917633\\\",\\\"id\\\":\\\"ob_26\\\",\\\"type\\\":\\\"observable\\\"})};\\n    var self = this;\\n    function AppViewModel() {\\n        for (var key in json_data) {\\n            var el = json_data[key];\\n            this[key] = Array.isArray(el) ? ko.observableArray(el) : ko.observable(el);\\n        }\\n        \\n        [this[\\\"formatted_val\\\"]=ko.computed(    function(){\\n        return this.formatted_vals()[parseInt(this.index())-(1)];\\n    }\\n,this)]\\n        [this[\\\"changes\\\"].subscribe((function (val){!(this.valueFromJulia[\\\"changes\\\"]) ? (WebIO.setval({\\\"name\\\":\\\"changes\\\",\\\"scope\\\":\\\"10312091352813917633\\\",\\\"id\\\":\\\"ob_27\\\",\\\"type\\\":\\\"observable\\\"},val)) : undefined; return this.valueFromJulia[\\\"changes\\\"]=false}),self),this[\\\"index\\\"].subscribe((function (val){!(this.valueFromJulia[\\\"index\\\"]) ? (WebIO.setval({\\\"name\\\":\\\"index\\\",\\\"scope\\\":\\\"10312091352813917633\\\",\\\"id\\\":\\\"ob_26\\\",\\\"type\\\":\\\"observable\\\"},val)) : undefined; return this.valueFromJulia[\\\"index\\\"]=false}),self)]\\n        \\n    }\\n    self.model = new AppViewModel();\\n    self.valueFromJulia = {};\\n    for (var key in json_data) {\\n        self.valueFromJulia[key] = false;\\n    }\\n    ko.applyBindings(self.model, self.dom);\\n}\\n);\\n    (WebIO.importBlock({\\\"data\\\":[{\\\"name\\\":\\\"knockout\\\",\\\"type\\\":\\\"js\\\",\\\"url\\\":\\\"\\/assetserver\\/acf0924a365e010bf6a3eb46a136f582bb3d7da4-knockout.js\\\"},{\\\"name\\\":\\\"knockout_punches\\\",\\\"type\\\":\\\"js\\\",\\\"url\\\":\\\"\\/assetserver\\/5ea3afb6d7dd7ccff78b8ae481a9e30e62bf0288-knockout_punches.js\\\"}],\\\"type\\\":\\\"async_block\\\"})).then((imports) => handler.apply(this, imports));\\n}\\n\"],\"observables\":{\"changes\":{\"sync\":false,\"id\":\"ob_27\",\"value\":0},\"index\":{\"sync\":true,\"id\":\"ob_26\",\"value\":71}}},\"children\":[{\"props\":{\"className\":\"interact-flex-row interact-widget\"},\"nodeType\":\"DOM\",\"type\":\"node\",\"instanceArgs\":{\"namespace\":\"html\",\"tag\":\"div\"},\"children\":[{\"props\":{\"className\":\"interact-flex-row-left\"},\"nodeType\":\"DOM\",\"type\":\"node\",\"instanceArgs\":{\"namespace\":\"html\",\"tag\":\"div\"},\"children\":[{\"props\":{\"className\":\"interact \",\"style\":{\"padding\":\"5px 10px 0px 10px\"}},\"nodeType\":\"DOM\",\"type\":\"node\",\"instanceArgs\":{\"namespace\":\"html\",\"tag\":\"label\"},\"children\":[\"α12\"]}]},{\"props\":{\"className\":\"interact-flex-row-center\"},\"nodeType\":\"DOM\",\"type\":\"node\",\"instanceArgs\":{\"namespace\":\"html\",\"tag\":\"div\"},\"children\":[{\"props\":{\"max\":91,\"min\":1,\"attributes\":{\"type\":\"range\",\"data-bind\":\"numericValue: index, valueUpdate: 'input', event: {change: function (){this.changes(this.changes()+1)}}\",\"orient\":\"horizontal\"},\"step\":1,\"className\":\"slider slider is-fullwidth\",\"style\":{}},\"nodeType\":\"DOM\",\"type\":\"node\",\"instanceArgs\":{\"namespace\":\"html\",\"tag\":\"input\"},\"children\":[]}]},{\"props\":{\"className\":\"interact-flex-row-right\"},\"nodeType\":\"DOM\",\"type\":\"node\",\"instanceArgs\":{\"namespace\":\"html\",\"tag\":\"div\"},\"children\":[{\"props\":{\"attributes\":{\"data-bind\":\"text: formatted_val\"}},\"nodeType\":\"DOM\",\"type\":\"node\",\"instanceArgs\":{\"namespace\":\"html\",\"tag\":\"p\"},\"children\":[]}]}]}]}]},{\"props\":{\"className\":\"field interact-widget\"},\"nodeType\":\"DOM\",\"type\":\"node\",\"instanceArgs\":{\"namespace\":\"html\",\"tag\":\"div\"},\"children\":[{\"props\":{},\"nodeType\":\"Scope\",\"type\":\"node\",\"instanceArgs\":{\"imports\":{\"data\":[{\"name\":\"knockout\",\"type\":\"js\",\"url\":\"\\/assetserver\\/acf0924a365e010bf6a3eb46a136f582bb3d7da4-knockout.js\"},{\"name\":\"knockout_punches\",\"type\":\"js\",\"url\":\"\\/assetserver\\/5ea3afb6d7dd7ccff78b8ae481a9e30e62bf0288-knockout_punches.js\"},{\"name\":null,\"type\":\"js\",\"url\":\"\\/assetserver\\/203a4ea09144c577795449fdf0a4f24f8980ee5c-all.js\"},{\"name\":null,\"type\":\"css\",\"url\":\"\\/assetserver\\/36431373a4cd66cfad626b36ea93570e5a68faba-style.css\"},{\"name\":null,\"type\":\"css\",\"url\":\"\\/assetserver\\/081949f489b194aeef4b21cd890d5b3ac8bb08a5-bulma_confined.min.css\"}],\"type\":\"async_block\"},\"id\":\"15475757110861760376\",\"handlers\":{\"changes\":[\"(function (val){return (val!=this.model[\\\"changes\\\"]()) ? (this.valueFromJulia[\\\"changes\\\"]=true, this.model[\\\"changes\\\"](val)) : undefined})\"],\"index\":[\"(function (val){return (val!=this.model[\\\"index\\\"]()) ? (this.valueFromJulia[\\\"index\\\"]=true, this.model[\\\"index\\\"](val)) : undefined})\"]},\"systemjs_options\":null,\"mount_callbacks\":[\"function () {\\n    var handler = (function (ko, koPunches) {\\n    ko.punches.enableAll();\\n    ko.bindingHandlers.numericValue = {\\n        init: function(element, valueAccessor, allBindings, data, context) {\\n            var stringified = ko.observable(ko.unwrap(valueAccessor()));\\n            stringified.subscribe(function(value) {\\n                var val = parseFloat(value);\\n                if (!isNaN(val)) {\\n                    valueAccessor()(val);\\n                }\\n            });\\n            valueAccessor().subscribe(function(value) {\\n                var str = JSON.stringify(value);\\n                if ((str == \\\"0\\\") && ([\\\"-0\\\", \\\"-0.\\\"].indexOf(stringified()) >= 0))\\n                     return;\\n                 if ([\\\"null\\\", \\\"\\\"].indexOf(str) >= 0)\\n                     return;\\n                stringified(str);\\n            });\\n            ko.applyBindingsToNode(\\n                element,\\n                {\\n                    value: stringified,\\n                    valueUpdate: allBindings.get('valueUpdate'),\\n                },\\n                context,\\n            );\\n        }\\n    };\\n    var json_data = {\\\"formatted_vals\\\":[\\\"0.1\\\",\\\"0.11\\\",\\\"0.12\\\",\\\"0.13\\\",\\\"0.14\\\",\\\"0.15\\\",\\\"0.16\\\",\\\"0.17\\\",\\\"0.18\\\",\\\"0.19\\\",\\\"0.2\\\",\\\"0.21\\\",\\\"0.22\\\",\\\"0.23\\\",\\\"0.24\\\",\\\"0.25\\\",\\\"0.26\\\",\\\"0.27\\\",\\\"0.28\\\",\\\"0.29\\\",\\\"0.3\\\",\\\"0.31\\\",\\\"0.32\\\",\\\"0.33\\\",\\\"0.34\\\",\\\"0.35\\\",\\\"0.36\\\",\\\"0.37\\\",\\\"0.38\\\",\\\"0.39\\\",\\\"0.4\\\",\\\"0.41\\\",\\\"0.42\\\",\\\"0.43\\\",\\\"0.44\\\",\\\"0.45\\\",\\\"0.46\\\",\\\"0.47\\\",\\\"0.48\\\",\\\"0.49\\\",\\\"0.5\\\",\\\"0.51\\\",\\\"0.52\\\",\\\"0.53\\\",\\\"0.54\\\",\\\"0.55\\\",\\\"0.56\\\",\\\"0.57\\\",\\\"0.58\\\",\\\"0.59\\\",\\\"0.6\\\",\\\"0.61\\\",\\\"0.62\\\",\\\"0.63\\\",\\\"0.64\\\",\\\"0.65\\\",\\\"0.66\\\",\\\"0.67\\\",\\\"0.68\\\",\\\"0.69\\\",\\\"0.7\\\",\\\"0.71\\\",\\\"0.72\\\",\\\"0.73\\\",\\\"0.74\\\",\\\"0.75\\\",\\\"0.76\\\",\\\"0.77\\\",\\\"0.78\\\",\\\"0.79\\\",\\\"0.8\\\",\\\"0.81\\\",\\\"0.82\\\",\\\"0.83\\\",\\\"0.84\\\",\\\"0.85\\\",\\\"0.86\\\",\\\"0.87\\\",\\\"0.88\\\",\\\"0.89\\\",\\\"0.9\\\",\\\"0.91\\\",\\\"0.92\\\",\\\"0.93\\\",\\\"0.94\\\",\\\"0.95\\\",\\\"0.96\\\",\\\"0.97\\\",\\\"0.98\\\",\\\"0.99\\\",\\\"1.0\\\"],\\\"changes\\\":WebIO.getval({\\\"name\\\":\\\"changes\\\",\\\"scope\\\":\\\"15475757110861760376\\\",\\\"id\\\":\\\"ob_30\\\",\\\"type\\\":\\\"observable\\\"}),\\\"index\\\":WebIO.getval({\\\"name\\\":\\\"index\\\",\\\"scope\\\":\\\"15475757110861760376\\\",\\\"id\\\":\\\"ob_29\\\",\\\"type\\\":\\\"observable\\\"})};\\n    var self = this;\\n    function AppViewModel() {\\n        for (var key in json_data) {\\n            var el = json_data[key];\\n            this[key] = Array.isArray(el) ? ko.observableArray(el) : ko.observable(el);\\n        }\\n        \\n        [this[\\\"formatted_val\\\"]=ko.computed(    function(){\\n        return this.formatted_vals()[parseInt(this.index())-(1)];\\n    }\\n,this)]\\n        [this[\\\"changes\\\"].subscribe((function (val){!(this.valueFromJulia[\\\"changes\\\"]) ? (WebIO.setval({\\\"name\\\":\\\"changes\\\",\\\"scope\\\":\\\"15475757110861760376\\\",\\\"id\\\":\\\"ob_30\\\",\\\"type\\\":\\\"observable\\\"},val)) : undefined; return this.valueFromJulia[\\\"changes\\\"]=false}),self),this[\\\"index\\\"].subscribe((function (val){!(this.valueFromJulia[\\\"index\\\"]) ? (WebIO.setval({\\\"name\\\":\\\"index\\\",\\\"scope\\\":\\\"15475757110861760376\\\",\\\"id\\\":\\\"ob_29\\\",\\\"type\\\":\\\"observable\\\"},val)) : undefined; return this.valueFromJulia[\\\"index\\\"]=false}),self)]\\n        \\n    }\\n    self.model = new AppViewModel();\\n    self.valueFromJulia = {};\\n    for (var key in json_data) {\\n        self.valueFromJulia[key] = false;\\n    }\\n    ko.applyBindings(self.model, self.dom);\\n}\\n);\\n    (WebIO.importBlock({\\\"data\\\":[{\\\"name\\\":\\\"knockout\\\",\\\"type\\\":\\\"js\\\",\\\"url\\\":\\\"\\/assetserver\\/acf0924a365e010bf6a3eb46a136f582bb3d7da4-knockout.js\\\"},{\\\"name\\\":\\\"knockout_punches\\\",\\\"type\\\":\\\"js\\\",\\\"url\\\":\\\"\\/assetserver\\/5ea3afb6d7dd7ccff78b8ae481a9e30e62bf0288-knockout_punches.js\\\"}],\\\"type\\\":\\\"async_block\\\"})).then((imports) => handler.apply(this, imports));\\n}\\n\"],\"observables\":{\"changes\":{\"sync\":false,\"id\":\"ob_30\",\"value\":0},\"index\":{\"sync\":true,\"id\":\"ob_29\",\"value\":21}}},\"children\":[{\"props\":{\"className\":\"interact-flex-row interact-widget\"},\"nodeType\":\"DOM\",\"type\":\"node\",\"instanceArgs\":{\"namespace\":\"html\",\"tag\":\"div\"},\"children\":[{\"props\":{\"className\":\"interact-flex-row-left\"},\"nodeType\":\"DOM\",\"type\":\"node\",\"instanceArgs\":{\"namespace\":\"html\",\"tag\":\"div\"},\"children\":[{\"props\":{\"className\":\"interact \",\"style\":{\"padding\":\"5px 10px 0px 10px\"}},\"nodeType\":\"DOM\",\"type\":\"node\",\"instanceArgs\":{\"namespace\":\"html\",\"tag\":\"label\"},\"children\":[\"α21\"]}]},{\"props\":{\"className\":\"interact-flex-row-center\"},\"nodeType\":\"DOM\",\"type\":\"node\",\"instanceArgs\":{\"namespace\":\"html\",\"tag\":\"div\"},\"children\":[{\"props\":{\"max\":91,\"min\":1,\"attributes\":{\"type\":\"range\",\"data-bind\":\"numericValue: index, valueUpdate: 'input', event: {change: function (){this.changes(this.changes()+1)}}\",\"orient\":\"horizontal\"},\"step\":1,\"className\":\"slider slider is-fullwidth\",\"style\":{}},\"nodeType\":\"DOM\",\"type\":\"node\",\"instanceArgs\":{\"namespace\":\"html\",\"tag\":\"input\"},\"children\":[]}]},{\"props\":{\"className\":\"interact-flex-row-right\"},\"nodeType\":\"DOM\",\"type\":\"node\",\"instanceArgs\":{\"namespace\":\"html\",\"tag\":\"div\"},\"children\":[{\"props\":{\"attributes\":{\"data-bind\":\"text: formatted_val\"}},\"nodeType\":\"DOM\",\"type\":\"node\",\"instanceArgs\":{\"namespace\":\"html\",\"tag\":\"p\"},\"children\":[]}]}]}]}]},{\"props\":{\"className\":\"field interact-widget\"},\"nodeType\":\"DOM\",\"type\":\"node\",\"instanceArgs\":{\"namespace\":\"html\",\"tag\":\"div\"},\"children\":[{\"props\":{},\"nodeType\":\"Scope\",\"type\":\"node\",\"instanceArgs\":{\"imports\":{\"data\":[{\"name\":\"knockout\",\"type\":\"js\",\"url\":\"\\/assetserver\\/acf0924a365e010bf6a3eb46a136f582bb3d7da4-knockout.js\"},{\"name\":\"knockout_punches\",\"type\":\"js\",\"url\":\"\\/assetserver\\/5ea3afb6d7dd7ccff78b8ae481a9e30e62bf0288-knockout_punches.js\"},{\"name\":null,\"type\":\"js\",\"url\":\"\\/assetserver\\/203a4ea09144c577795449fdf0a4f24f8980ee5c-all.js\"},{\"name\":null,\"type\":\"css\",\"url\":\"\\/assetserver\\/36431373a4cd66cfad626b36ea93570e5a68faba-style.css\"},{\"name\":null,\"type\":\"css\",\"url\":\"\\/assetserver\\/081949f489b194aeef4b21cd890d5b3ac8bb08a5-bulma_confined.min.css\"}],\"type\":\"async_block\"},\"id\":\"12174460662957082479\",\"handlers\":{\"changes\":[\"(function (val){return (val!=this.model[\\\"changes\\\"]()) ? (this.valueFromJulia[\\\"changes\\\"]=true, this.model[\\\"changes\\\"](val)) : undefined})\"],\"index\":[\"(function (val){return (val!=this.model[\\\"index\\\"]()) ? (this.valueFromJulia[\\\"index\\\"]=true, this.model[\\\"index\\\"](val)) : undefined})\"]},\"systemjs_options\":null,\"mount_callbacks\":[\"function () {\\n    var handler = (function (ko, koPunches) {\\n    ko.punches.enableAll();\\n    ko.bindingHandlers.numericValue = {\\n        init: function(element, valueAccessor, allBindings, data, context) {\\n            var stringified = ko.observable(ko.unwrap(valueAccessor()));\\n            stringified.subscribe(function(value) {\\n                var val = parseFloat(value);\\n                if (!isNaN(val)) {\\n                    valueAccessor()(val);\\n                }\\n            });\\n            valueAccessor().subscribe(function(value) {\\n                var str = JSON.stringify(value);\\n                if ((str == \\\"0\\\") && ([\\\"-0\\\", \\\"-0.\\\"].indexOf(stringified()) >= 0))\\n                     return;\\n                 if ([\\\"null\\\", \\\"\\\"].indexOf(str) >= 0)\\n                     return;\\n                stringified(str);\\n            });\\n            ko.applyBindingsToNode(\\n                element,\\n                {\\n                    value: stringified,\\n                    valueUpdate: allBindings.get('valueUpdate'),\\n                },\\n                context,\\n            );\\n        }\\n    };\\n    var json_data = {\\\"formatted_vals\\\":[\\\"0.1\\\",\\\"0.11\\\",\\\"0.12\\\",\\\"0.13\\\",\\\"0.14\\\",\\\"0.15\\\",\\\"0.16\\\",\\\"0.17\\\",\\\"0.18\\\",\\\"0.19\\\",\\\"0.2\\\",\\\"0.21\\\",\\\"0.22\\\",\\\"0.23\\\",\\\"0.24\\\",\\\"0.25\\\",\\\"0.26\\\",\\\"0.27\\\",\\\"0.28\\\",\\\"0.29\\\",\\\"0.3\\\",\\\"0.31\\\",\\\"0.32\\\",\\\"0.33\\\",\\\"0.34\\\",\\\"0.35\\\",\\\"0.36\\\",\\\"0.37\\\",\\\"0.38\\\",\\\"0.39\\\",\\\"0.4\\\",\\\"0.41\\\",\\\"0.42\\\",\\\"0.43\\\",\\\"0.44\\\",\\\"0.45\\\",\\\"0.46\\\",\\\"0.47\\\",\\\"0.48\\\",\\\"0.49\\\",\\\"0.5\\\",\\\"0.51\\\",\\\"0.52\\\",\\\"0.53\\\",\\\"0.54\\\",\\\"0.55\\\",\\\"0.56\\\",\\\"0.57\\\",\\\"0.58\\\",\\\"0.59\\\",\\\"0.6\\\",\\\"0.61\\\",\\\"0.62\\\",\\\"0.63\\\",\\\"0.64\\\",\\\"0.65\\\",\\\"0.66\\\",\\\"0.67\\\",\\\"0.68\\\",\\\"0.69\\\",\\\"0.7\\\",\\\"0.71\\\",\\\"0.72\\\",\\\"0.73\\\",\\\"0.74\\\",\\\"0.75\\\",\\\"0.76\\\",\\\"0.77\\\",\\\"0.78\\\",\\\"0.79\\\",\\\"0.8\\\",\\\"0.81\\\",\\\"0.82\\\",\\\"0.83\\\",\\\"0.84\\\",\\\"0.85\\\",\\\"0.86\\\",\\\"0.87\\\",\\\"0.88\\\",\\\"0.89\\\",\\\"0.9\\\",\\\"0.91\\\",\\\"0.92\\\",\\\"0.93\\\",\\\"0.94\\\",\\\"0.95\\\",\\\"0.96\\\",\\\"0.97\\\",\\\"0.98\\\",\\\"0.99\\\",\\\"1.0\\\",\\\"1.01\\\",\\\"1.02\\\",\\\"1.03\\\",\\\"1.04\\\",\\\"1.05\\\",\\\"1.06\\\",\\\"1.07\\\",\\\"1.08\\\",\\\"1.09\\\",\\\"1.1\\\",\\\"1.11\\\",\\\"1.12\\\",\\\"1.13\\\",\\\"1.14\\\",\\\"1.15\\\",\\\"1.16\\\",\\\"1.17\\\",\\\"1.18\\\",\\\"1.19\\\",\\\"1.2\\\",\\\"1.21\\\",\\\"1.22\\\",\\\"1.23\\\",\\\"1.24\\\",\\\"1.25\\\",\\\"1.26\\\",\\\"1.27\\\",\\\"1.28\\\",\\\"1.29\\\",\\\"1.3\\\",\\\"1.31\\\",\\\"1.32\\\",\\\"1.33\\\",\\\"1.34\\\",\\\"1.35\\\",\\\"1.36\\\",\\\"1.37\\\",\\\"1.38\\\",\\\"1.39\\\",\\\"1.4\\\",\\\"1.41\\\",\\\"1.42\\\",\\\"1.43\\\",\\\"1.44\\\",\\\"1.45\\\",\\\"1.46\\\",\\\"1.47\\\",\\\"1.48\\\",\\\"1.49\\\",\\\"1.5\\\",\\\"1.51\\\",\\\"1.52\\\",\\\"1.53\\\",\\\"1.54\\\",\\\"1.55\\\",\\\"1.56\\\",\\\"1.57\\\",\\\"1.58\\\",\\\"1.59\\\",\\\"1.6\\\",\\\"1.61\\\",\\\"1.62\\\",\\\"1.63\\\",\\\"1.64\\\",\\\"1.65\\\",\\\"1.66\\\",\\\"1.67\\\",\\\"1.68\\\",\\\"1.69\\\",\\\"1.7\\\",\\\"1.71\\\",\\\"1.72\\\",\\\"1.73\\\",\\\"1.74\\\",\\\"1.75\\\",\\\"1.76\\\",\\\"1.77\\\",\\\"1.78\\\",\\\"1.79\\\",\\\"1.8\\\",\\\"1.81\\\",\\\"1.82\\\",\\\"1.83\\\",\\\"1.84\\\",\\\"1.85\\\",\\\"1.86\\\",\\\"1.87\\\",\\\"1.88\\\",\\\"1.89\\\",\\\"1.9\\\",\\\"1.91\\\",\\\"1.92\\\",\\\"1.93\\\",\\\"1.94\\\",\\\"1.95\\\",\\\"1.96\\\",\\\"1.97\\\",\\\"1.98\\\",\\\"1.99\\\",\\\"2.0\\\"],\\\"changes\\\":WebIO.getval({\\\"name\\\":\\\"changes\\\",\\\"scope\\\":\\\"12174460662957082479\\\",\\\"id\\\":\\\"ob_33\\\",\\\"type\\\":\\\"observable\\\"}),\\\"index\\\":WebIO.getval({\\\"name\\\":\\\"index\\\",\\\"scope\\\":\\\"12174460662957082479\\\",\\\"id\\\":\\\"ob_32\\\",\\\"type\\\":\\\"observable\\\"})};\\n    var self = this;\\n    function AppViewModel() {\\n        for (var key in json_data) {\\n            var el = json_data[key];\\n            this[key] = Array.isArray(el) ? ko.observableArray(el) : ko.observable(el);\\n        }\\n        \\n        [this[\\\"formatted_val\\\"]=ko.computed(    function(){\\n        return this.formatted_vals()[parseInt(this.index())-(1)];\\n    }\\n,this)]\\n        [this[\\\"changes\\\"].subscribe((function (val){!(this.valueFromJulia[\\\"changes\\\"]) ? (WebIO.setval({\\\"name\\\":\\\"changes\\\",\\\"scope\\\":\\\"12174460662957082479\\\",\\\"id\\\":\\\"ob_33\\\",\\\"type\\\":\\\"observable\\\"},val)) : undefined; return this.valueFromJulia[\\\"changes\\\"]=false}),self),this[\\\"index\\\"].subscribe((function (val){!(this.valueFromJulia[\\\"index\\\"]) ? (WebIO.setval({\\\"name\\\":\\\"index\\\",\\\"scope\\\":\\\"12174460662957082479\\\",\\\"id\\\":\\\"ob_32\\\",\\\"type\\\":\\\"observable\\\"},val)) : undefined; return this.valueFromJulia[\\\"index\\\"]=false}),self)]\\n        \\n    }\\n    self.model = new AppViewModel();\\n    self.valueFromJulia = {};\\n    for (var key in json_data) {\\n        self.valueFromJulia[key] = false;\\n    }\\n    ko.applyBindings(self.model, self.dom);\\n}\\n);\\n    (WebIO.importBlock({\\\"data\\\":[{\\\"name\\\":\\\"knockout\\\",\\\"type\\\":\\\"js\\\",\\\"url\\\":\\\"\\/assetserver\\/acf0924a365e010bf6a3eb46a136f582bb3d7da4-knockout.js\\\"},{\\\"name\\\":\\\"knockout_punches\\\",\\\"type\\\":\\\"js\\\",\\\"url\\\":\\\"\\/assetserver\\/5ea3afb6d7dd7ccff78b8ae481a9e30e62bf0288-knockout_punches.js\\\"}],\\\"type\\\":\\\"async_block\\\"})).then((imports) => handler.apply(this, imports));\\n}\\n\"],\"observables\":{\"changes\":{\"sync\":false,\"id\":\"ob_33\",\"value\":0},\"index\":{\"sync\":true,\"id\":\"ob_32\",\"value\":141}}},\"children\":[{\"props\":{\"className\":\"interact-flex-row interact-widget\"},\"nodeType\":\"DOM\",\"type\":\"node\",\"instanceArgs\":{\"namespace\":\"html\",\"tag\":\"div\"},\"children\":[{\"props\":{\"className\":\"interact-flex-row-left\"},\"nodeType\":\"DOM\",\"type\":\"node\",\"instanceArgs\":{\"namespace\":\"html\",\"tag\":\"div\"},\"children\":[{\"props\":{\"className\":\"interact \",\"style\":{\"padding\":\"5px 10px 0px 10px\"}},\"nodeType\":\"DOM\",\"type\":\"node\",\"instanceArgs\":{\"namespace\":\"html\",\"tag\":\"label\"},\"children\":[\"K1\"]}]},{\"props\":{\"className\":\"interact-flex-row-center\"},\"nodeType\":\"DOM\",\"type\":\"node\",\"instanceArgs\":{\"namespace\":\"html\",\"tag\":\"div\"},\"children\":[{\"props\":{\"max\":191,\"min\":1,\"attributes\":{\"type\":\"range\",\"data-bind\":\"numericValue: index, valueUpdate: 'input', event: {change: function (){this.changes(this.changes()+1)}}\",\"orient\":\"horizontal\"},\"step\":1,\"className\":\"slider slider is-fullwidth\",\"style\":{}},\"nodeType\":\"DOM\",\"type\":\"node\",\"instanceArgs\":{\"namespace\":\"html\",\"tag\":\"input\"},\"children\":[]}]},{\"props\":{\"className\":\"interact-flex-row-right\"},\"nodeType\":\"DOM\",\"type\":\"node\",\"instanceArgs\":{\"namespace\":\"html\",\"tag\":\"div\"},\"children\":[{\"props\":{\"attributes\":{\"data-bind\":\"text: formatted_val\"}},\"nodeType\":\"DOM\",\"type\":\"node\",\"instanceArgs\":{\"namespace\":\"html\",\"tag\":\"p\"},\"children\":[]}]}]}]}]},{\"props\":{\"className\":\"field interact-widget\"},\"nodeType\":\"DOM\",\"type\":\"node\",\"instanceArgs\":{\"namespace\":\"html\",\"tag\":\"div\"},\"children\":[{\"props\":{},\"nodeType\":\"Scope\",\"type\":\"node\",\"instanceArgs\":{\"imports\":{\"data\":[{\"name\":\"knockout\",\"type\":\"js\",\"url\":\"\\/assetserver\\/acf0924a365e010bf6a3eb46a136f582bb3d7da4-knockout.js\"},{\"name\":\"knockout_punches\",\"type\":\"js\",\"url\":\"\\/assetserver\\/5ea3afb6d7dd7ccff78b8ae481a9e30e62bf0288-knockout_punches.js\"},{\"name\":null,\"type\":\"js\",\"url\":\"\\/assetserver\\/203a4ea09144c577795449fdf0a4f24f8980ee5c-all.js\"},{\"name\":null,\"type\":\"css\",\"url\":\"\\/assetserver\\/36431373a4cd66cfad626b36ea93570e5a68faba-style.css\"},{\"name\":null,\"type\":\"css\",\"url\":\"\\/assetserver\\/081949f489b194aeef4b21cd890d5b3ac8bb08a5-bulma_confined.min.css\"}],\"type\":\"async_block\"},\"id\":\"9937568254509816097\",\"handlers\":{\"changes\":[\"(function (val){return (val!=this.model[\\\"changes\\\"]()) ? (this.valueFromJulia[\\\"changes\\\"]=true, this.model[\\\"changes\\\"](val)) : undefined})\"],\"index\":[\"(function (val){return (val!=this.model[\\\"index\\\"]()) ? (this.valueFromJulia[\\\"index\\\"]=true, this.model[\\\"index\\\"](val)) : undefined})\"]},\"systemjs_options\":null,\"mount_callbacks\":[\"function () {\\n    var handler = (function (ko, koPunches) {\\n    ko.punches.enableAll();\\n    ko.bindingHandlers.numericValue = {\\n        init: function(element, valueAccessor, allBindings, data, context) {\\n            var stringified = ko.observable(ko.unwrap(valueAccessor()));\\n            stringified.subscribe(function(value) {\\n                var val = parseFloat(value);\\n                if (!isNaN(val)) {\\n                    valueAccessor()(val);\\n                }\\n            });\\n            valueAccessor().subscribe(function(value) {\\n                var str = JSON.stringify(value);\\n                if ((str == \\\"0\\\") && ([\\\"-0\\\", \\\"-0.\\\"].indexOf(stringified()) >= 0))\\n                     return;\\n                 if ([\\\"null\\\", \\\"\\\"].indexOf(str) >= 0)\\n                     return;\\n                stringified(str);\\n            });\\n            ko.applyBindingsToNode(\\n                element,\\n                {\\n                    value: stringified,\\n                    valueUpdate: allBindings.get('valueUpdate'),\\n                },\\n                context,\\n            );\\n        }\\n    };\\n    var json_data = {\\\"formatted_vals\\\":[\\\"0.1\\\",\\\"0.11\\\",\\\"0.12\\\",\\\"0.13\\\",\\\"0.14\\\",\\\"0.15\\\",\\\"0.16\\\",\\\"0.17\\\",\\\"0.18\\\",\\\"0.19\\\",\\\"0.2\\\",\\\"0.21\\\",\\\"0.22\\\",\\\"0.23\\\",\\\"0.24\\\",\\\"0.25\\\",\\\"0.26\\\",\\\"0.27\\\",\\\"0.28\\\",\\\"0.29\\\",\\\"0.3\\\",\\\"0.31\\\",\\\"0.32\\\",\\\"0.33\\\",\\\"0.34\\\",\\\"0.35\\\",\\\"0.36\\\",\\\"0.37\\\",\\\"0.38\\\",\\\"0.39\\\",\\\"0.4\\\",\\\"0.41\\\",\\\"0.42\\\",\\\"0.43\\\",\\\"0.44\\\",\\\"0.45\\\",\\\"0.46\\\",\\\"0.47\\\",\\\"0.48\\\",\\\"0.49\\\",\\\"0.5\\\",\\\"0.51\\\",\\\"0.52\\\",\\\"0.53\\\",\\\"0.54\\\",\\\"0.55\\\",\\\"0.56\\\",\\\"0.57\\\",\\\"0.58\\\",\\\"0.59\\\",\\\"0.6\\\",\\\"0.61\\\",\\\"0.62\\\",\\\"0.63\\\",\\\"0.64\\\",\\\"0.65\\\",\\\"0.66\\\",\\\"0.67\\\",\\\"0.68\\\",\\\"0.69\\\",\\\"0.7\\\",\\\"0.71\\\",\\\"0.72\\\",\\\"0.73\\\",\\\"0.74\\\",\\\"0.75\\\",\\\"0.76\\\",\\\"0.77\\\",\\\"0.78\\\",\\\"0.79\\\",\\\"0.8\\\",\\\"0.81\\\",\\\"0.82\\\",\\\"0.83\\\",\\\"0.84\\\",\\\"0.85\\\",\\\"0.86\\\",\\\"0.87\\\",\\\"0.88\\\",\\\"0.89\\\",\\\"0.9\\\",\\\"0.91\\\",\\\"0.92\\\",\\\"0.93\\\",\\\"0.94\\\",\\\"0.95\\\",\\\"0.96\\\",\\\"0.97\\\",\\\"0.98\\\",\\\"0.99\\\",\\\"1.0\\\",\\\"1.01\\\",\\\"1.02\\\",\\\"1.03\\\",\\\"1.04\\\",\\\"1.05\\\",\\\"1.06\\\",\\\"1.07\\\",\\\"1.08\\\",\\\"1.09\\\",\\\"1.1\\\",\\\"1.11\\\",\\\"1.12\\\",\\\"1.13\\\",\\\"1.14\\\",\\\"1.15\\\",\\\"1.16\\\",\\\"1.17\\\",\\\"1.18\\\",\\\"1.19\\\",\\\"1.2\\\",\\\"1.21\\\",\\\"1.22\\\",\\\"1.23\\\",\\\"1.24\\\",\\\"1.25\\\",\\\"1.26\\\",\\\"1.27\\\",\\\"1.28\\\",\\\"1.29\\\",\\\"1.3\\\",\\\"1.31\\\",\\\"1.32\\\",\\\"1.33\\\",\\\"1.34\\\",\\\"1.35\\\",\\\"1.36\\\",\\\"1.37\\\",\\\"1.38\\\",\\\"1.39\\\",\\\"1.4\\\",\\\"1.41\\\",\\\"1.42\\\",\\\"1.43\\\",\\\"1.44\\\",\\\"1.45\\\",\\\"1.46\\\",\\\"1.47\\\",\\\"1.48\\\",\\\"1.49\\\",\\\"1.5\\\",\\\"1.51\\\",\\\"1.52\\\",\\\"1.53\\\",\\\"1.54\\\",\\\"1.55\\\",\\\"1.56\\\",\\\"1.57\\\",\\\"1.58\\\",\\\"1.59\\\",\\\"1.6\\\",\\\"1.61\\\",\\\"1.62\\\",\\\"1.63\\\",\\\"1.64\\\",\\\"1.65\\\",\\\"1.66\\\",\\\"1.67\\\",\\\"1.68\\\",\\\"1.69\\\",\\\"1.7\\\",\\\"1.71\\\",\\\"1.72\\\",\\\"1.73\\\",\\\"1.74\\\",\\\"1.75\\\",\\\"1.76\\\",\\\"1.77\\\",\\\"1.78\\\",\\\"1.79\\\",\\\"1.8\\\",\\\"1.81\\\",\\\"1.82\\\",\\\"1.83\\\",\\\"1.84\\\",\\\"1.85\\\",\\\"1.86\\\",\\\"1.87\\\",\\\"1.88\\\",\\\"1.89\\\",\\\"1.9\\\",\\\"1.91\\\",\\\"1.92\\\",\\\"1.93\\\",\\\"1.94\\\",\\\"1.95\\\",\\\"1.96\\\",\\\"1.97\\\",\\\"1.98\\\",\\\"1.99\\\",\\\"2.0\\\"],\\\"changes\\\":WebIO.getval({\\\"name\\\":\\\"changes\\\",\\\"scope\\\":\\\"9937568254509816097\\\",\\\"id\\\":\\\"ob_36\\\",\\\"type\\\":\\\"observable\\\"}),\\\"index\\\":WebIO.getval({\\\"name\\\":\\\"index\\\",\\\"scope\\\":\\\"9937568254509816097\\\",\\\"id\\\":\\\"ob_35\\\",\\\"type\\\":\\\"observable\\\"})};\\n    var self = this;\\n    function AppViewModel() {\\n        for (var key in json_data) {\\n            var el = json_data[key];\\n            this[key] = Array.isArray(el) ? ko.observableArray(el) : ko.observable(el);\\n        }\\n        \\n        [this[\\\"formatted_val\\\"]=ko.computed(    function(){\\n        return this.formatted_vals()[parseInt(this.index())-(1)];\\n    }\\n,this)]\\n        [this[\\\"changes\\\"].subscribe((function (val){!(this.valueFromJulia[\\\"changes\\\"]) ? (WebIO.setval({\\\"name\\\":\\\"changes\\\",\\\"scope\\\":\\\"9937568254509816097\\\",\\\"id\\\":\\\"ob_36\\\",\\\"type\\\":\\\"observable\\\"},val)) : undefined; return this.valueFromJulia[\\\"changes\\\"]=false}),self),this[\\\"index\\\"].subscribe((function (val){!(this.valueFromJulia[\\\"index\\\"]) ? (WebIO.setval({\\\"name\\\":\\\"index\\\",\\\"scope\\\":\\\"9937568254509816097\\\",\\\"id\\\":\\\"ob_35\\\",\\\"type\\\":\\\"observable\\\"},val)) : undefined; return this.valueFromJulia[\\\"index\\\"]=false}),self)]\\n        \\n    }\\n    self.model = new AppViewModel();\\n    self.valueFromJulia = {};\\n    for (var key in json_data) {\\n        self.valueFromJulia[key] = false;\\n    }\\n    ko.applyBindings(self.model, self.dom);\\n}\\n);\\n    (WebIO.importBlock({\\\"data\\\":[{\\\"name\\\":\\\"knockout\\\",\\\"type\\\":\\\"js\\\",\\\"url\\\":\\\"\\/assetserver\\/acf0924a365e010bf6a3eb46a136f582bb3d7da4-knockout.js\\\"},{\\\"name\\\":\\\"knockout_punches\\\",\\\"type\\\":\\\"js\\\",\\\"url\\\":\\\"\\/assetserver\\/5ea3afb6d7dd7ccff78b8ae481a9e30e62bf0288-knockout_punches.js\\\"}],\\\"type\\\":\\\"async_block\\\"})).then((imports) => handler.apply(this, imports));\\n}\\n\"],\"observables\":{\"changes\":{\"sync\":false,\"id\":\"ob_36\",\"value\":0},\"index\":{\"sync\":true,\"id\":\"ob_35\",\"value\":91}}},\"children\":[{\"props\":{\"className\":\"interact-flex-row interact-widget\"},\"nodeType\":\"DOM\",\"type\":\"node\",\"instanceArgs\":{\"namespace\":\"html\",\"tag\":\"div\"},\"children\":[{\"props\":{\"className\":\"interact-flex-row-left\"},\"nodeType\":\"DOM\",\"type\":\"node\",\"instanceArgs\":{\"namespace\":\"html\",\"tag\":\"div\"},\"children\":[{\"props\":{\"className\":\"interact \",\"style\":{\"padding\":\"5px 10px 0px 10px\"}},\"nodeType\":\"DOM\",\"type\":\"node\",\"instanceArgs\":{\"namespace\":\"html\",\"tag\":\"label\"},\"children\":[\"K2\"]}]},{\"props\":{\"className\":\"interact-flex-row-center\"},\"nodeType\":\"DOM\",\"type\":\"node\",\"instanceArgs\":{\"namespace\":\"html\",\"tag\":\"div\"},\"children\":[{\"props\":{\"max\":191,\"min\":1,\"attributes\":{\"type\":\"range\",\"data-bind\":\"numericValue: index, valueUpdate: 'input', event: {change: function (){this.changes(this.changes()+1)}}\",\"orient\":\"horizontal\"},\"step\":1,\"className\":\"slider slider is-fullwidth\",\"style\":{}},\"nodeType\":\"DOM\",\"type\":\"node\",\"instanceArgs\":{\"namespace\":\"html\",\"tag\":\"input\"},\"children\":[]}]},{\"props\":{\"className\":\"interact-flex-row-right\"},\"nodeType\":\"DOM\",\"type\":\"node\",\"instanceArgs\":{\"namespace\":\"html\",\"tag\":\"div\"},\"children\":[{\"props\":{\"attributes\":{\"data-bind\":\"text: formatted_val\"}},\"nodeType\":\"DOM\",\"type\":\"node\",\"instanceArgs\":{\"namespace\":\"html\",\"tag\":\"p\"},\"children\":[]}]}]}]}]},{\"props\":{},\"nodeType\":\"Scope\",\"type\":\"node\",\"instanceArgs\":{\"imports\":{\"data\":[],\"type\":\"async_block\"},\"id\":\"11914065701284548218\",\"handlers\":{},\"systemjs_options\":null,\"mount_callbacks\":[],\"observables\":{\"obs-node\":{\"sync\":false,\"id\":\"ob_40\",\"value\":{\"props\":{\"className\":\"interact-flex-row interact-widget\"},\"nodeType\":\"DOM\",\"type\":\"node\",\"instanceArgs\":{\"namespace\":\"html\",\"tag\":\"div\"},\"children\":[{\"props\":{\"setInnerHtml\":\"<img src='data:image\\/png;base64,iVBORw0KGgoAAAANSUhEUgAAAjUAAAG2CAYAAACH2XdzAAAABHNCSVQICAgIfAhkiAAAAAlwSFlzAAAPYQAAD2EBqD+naQAAADh0RVh0U29mdHdhcmUAbWF0cGxvdGxpYiB2ZXJzaW9uMy4xLjEsIGh0dHA6Ly9tYXRwbG90bGliLm9yZy8QZhcZAAAgAElEQVR4nO3deXhU5d3\\/8c9MVrJNMhA2syIVZJMtLAouoGirrfh0XygubUVxoTzWilZFbYv96dOnm1C3aqtPtVVEUeuCFdCqQAJBQBYRs7Evk8xkX8\\/vjxMGJxmWhEnOzMn7dV25ejK5Z\\/LNaZx8uO\\/vObfDMAxDAAAAEc5pdQEAAAChQKgBAAC2QKgBAAC2QKgBAAC2QKgBAAC2QKgBAAC2QKgBAAC2QKgBAAC2QKgBAAC2QKgBAAC2YGmoWbhwoRwOR8BH\\/\\/79rSwJAABEqGirCxg+fLjeeecd\\/+dRUVEWVgMAACKV5aEmOjqa2RkAAHDaLA81O3fu1MCBAxUXF6eJEyfq17\\/+tQYNGhR0bH19verr6\\/2ft7S0yOPxqHfv3nI4HN1VMgAAOA2GYaiyslIDBw6U0xm6ThiHYRhGyF6tg9544w3V1NTorLPO0oEDB\\/TLX\\/5S27dv1yeffKLevXu3G79w4ULdd999FlQKAABCraysTBkZGSF7PUtDTVvV1dU688wzdfvtt2v+\\/Pntvt52psbr9SorK0tlZWVKSUnpzlIBAEAn+Xw+ZWZmqqKiQi6XK2Sva\\/ny0xclJiZq5MiR2rlzZ9Cvx8XFKS4urt3jKSkphBoAACJMqFtHwuo+NfX19dq2bZsGDBhgdSkAACDCWBpqbrvtNq1evVpFRUVau3atvvGNb8jn82n27NlWlgUAACKQpctPu3fv1ne\\/+10dPnxY6enpmjRpktasWaPs7GwrywIAABHI0lDz\\/PPPW\\/ntAQCAjYRVTw0AAEBnEWoAAIAtEGoAAIAtEGoAAIAtEGoAAIAtEGoAAIAtEGoAAIAtEGoAAIAtEGoAAIAtEGoAAIAtEGoAAIAtEGoAAIAtEGoAAIAtEGoAAIAtEGoAAIAtEGoAAIAtEGoAAIAtEGoAAIAtEGoAAIAtEGoAAIAtEGoAAIAtEGoAAIAtEGoAAIAtEGoAAIAtEGoAAIAtEGoAAIAtEGoAAIAtEGoAAIAtEGoAAIAtEGoAAIAtEGoAAIAtEGoAAIAtEGoAAIAtEGoAAIAtEGoAAIAtEGoAAIAtEGoAAIAtEGoAAIAtEGoAAIAtEGoAAIAtEGoAAIAtEGoAAIAtEGoAAIAtEGoAAIAtEGoAAIAtEGoAAIAtEGoAAIAtEGoAAIAtEGoAAIAtEGoAAIAtEGoAAIAtEGoAAIAtEGoAAIAtEGoAAIAtEGoAAIAtEGoAAIAtEGoAAIAtEGoAAIAtEGoAAIAtEGoAAIAtEGoAAIAtEGoAAIAtEGoAAIAthE2oWbRokRwOh+bNm2d1KQAAIAKFRajJz8\\/XY489plGjRlldCgAAiFCWh5qqqip9\\/\\/vf1+OPP660tDSrywEAABHK8lAzd+5cXX755br44otPOra+vl4+ny\\/gAwAAQJKirfzmzz\\/\\/vDZs2KD8\\/PxTGr9o0SLdd999XVwVAACIRJbN1JSVlenWW2\\/Vs88+q\\/j4+FN6zoIFC+T1ev0fZWVlXVwlAACIFA7DMAwrvvHLL7+sq666SlFRUf7Hmpub5XA45HQ6VV9fH\\/C1YHw+n1wul7xer1JSUrq6ZAAAEAJd9ffbsuWn6dOna\\/PmzQGPXXPNNRo6dKh+\\/vOfnzTQAAAAfJFloSY5OVkjRowIeCwxMVG9e\\/du9zgAAMDJWH71EwAAQChYevVTW6tWrbK6BAAAEKGYqQEAALZAqAEAALZAqAEAALZAqAEAALZAqAEAALZAqAEAALZAqAEAALZAqAEAALZAqAEAALZAqAEAALZAqAEAALZAqAEAALZAqAEAALZAqAEAALZAqAEAALZAqAEAALZAqAEAALZAqAEAALZAqAEAALZAqAEAALZAqAEAALZAqAEAALZAqAEAALZAqAEAALZAqAEAALZAqAEAALZAqAEAALZAqAEAALZAqAEAALZAqAEAALZAqAEAALZAqAEAALZAqAEAALZAqAEAALZAqAEAALZAqAEAALZAqAEAALZAqAEAALZAqAEAALZAqAEAALZAqAEAALZgj1DTVG91BQAAwGL2CDXv\\/9bqCgAAgMXsEWrWLJF2r7e6CgAAYCF7hBq1SC\\/PkRrrrC4EAABYxB6hJjFdOvyptPJXVlcCAAAsYo9Qc9lvzP\\/98I9S2TprawEAAJawR6g5a4Z0znclGdLLN0iNtVZXBAAAupk9Qo0kXbZISh4gHflMeveXVlcDAAC6mX1CTa806au\\/N48\\/ekQq+cjaegAAQLeyT6iRpLMulUb\\/QJIhvXKj1FBjdUUAAKCb2CvUSNKlv5JSzpA8n0v\\/vt\\/qagAAQDexX6jplSp97Q\\/m8dolUvF\\/rK0HAAB0C\\/uFGkkafLE09ofm8StzpYZqa+sBAABdzp6hRpJm\\/EpKyZDKi6UV91pdDQAA6GL2DTXxKdKVfzKP8x+Xit6zth4AANCl7BtqJOnMi6Rx15jHr8yV6iutrQcAAHQZe4caSZrxgOTKkipKpRX3WF0NAADoIvYPNXHJx5ahCv4i7XrX2noAAECXsH+okaRBF0h5PzaPX7lZqvNZWw8AAAi5nhFqJOnihVJajuTbLb39C4uLAQAAodZzQk1cknTlI+bxhr9Kn71jbT0AACCkek6okaScKdLEOebxKzdLtRXW1gMAAELG0lCzZMkSjRo1SikpKUpJSdHkyZP1xhtvdO03nX6P5B4kVe6V3rqra78XAADoNpaGmoyMDD344IMqKChQQUGBpk2bpiuvvFKffPJJ133T2ETpysWSHNLGZ6VP3+q67wUAALqNwzAMw+oivsjtduuhhx7Sddddd9KxPp9PLpdLXq9XKSkpHftGb94prXlESuovzV0j9UrrZMUAAKAjTuvv9wmETU9Nc3Oznn\\/+eVVXV2vy5MlBx9TX18vn8wV8dNq0X0i9B0tV+6U37uj86wAAgLBgeajZvHmzkpKSFBcXpzlz5mjZsmUaNmxY0LGLFi2Sy+Xyf2RmZnb+G8cmSDOXSA6ntOl5afu\\/Ov9aAADAcpYvPzU0NKi0tFQVFRVaunSpnnjiCa1evTposKmvr1d9fb3\\/c5\\/Pp8zMzNObvnr7bunDP0hJ\\/aQb10gJ7s7+KAAA4BR01fKT5aGmrYsvvlhnnnmmHn300ZOODclJaayTHp0qHf5UGvlN6etPdO51AADAKbF9T81RhmEEzMZ0uZh4aeafzWWozS9I217tvu8NAABCxtJQc+edd+r9999XcXGxNm\\/erLvuukurVq3S97\\/\\/\\/e4tJGOcdN6t5vFrP5Wqj3Tv9wcAAKfN0lBz4MABzZo1S0OGDNH06dO1du1avfnmm7rkkku6v5gLF0jpZ0vVh6R\\/3db93x8AAJyWsOup6YiQr8nt2SA9cbFkNEvf\\/Ks0fObpvyYAAAjQY3pqLHXGWGnqfPP49flS1SFr6wEAAKeMUNPW+bdL\\/UZINUfMYBO5E1kAAPQohJq2omOlmYslZ7S0bbn0yUtWVwQAAE4BoSaYAedI5\\/\\/MPH79NqnqoLX1AACAkyLUHM\\/U\\/5b6j5RqPeZl3ixDAQAQ1gg1xxMVY+4N5YyRtr9m3pgPAACELULNifQfKV3wc\\/P4Xz+TKvdbWw8AADguQs3JTJknDRgt1VVIr85jGQoAgDBFqDmZo8tQUbHSp29Im\\/5hdUUAACAIQs2p6DdMuvAO8\\/iN2yXfXmvrAQAA7RBqTtW5t0oDx0p1XunVW1mGAgAgzBBqTlVUdOsyVJy0821p49+trggAAHwBoaYj+g6VLrrTPH7zDsm7x9p6AACAH6Gmo869WcrIk+p90vKbWYYCACBMEGo6yhllLkNFx0u7\\/i1t+JvVFQEAABFqOqfPl6RpvzCP37pLqiizth4AAECo6bRJN0qZE6WGSmn5TSxDAQBgMUJNZzmjpCsXS9G9pM9XSQV\\/sboiAAB6NELN6egzWLr4XvP47bul8mJLywEAoCcj1JyuCddLWedKjdXSKzdJLS1WVwQAQI9EqDldTqd05Z+kmASp+H2p4EmrKwIAoEci1IRC7zOli+8zj1fcI3mKrK0HAIAeiFATKnk\\/knKmSo010itzWYYCAKCbEWpCxb8MlSiVfCCte8zqigAA6FEINaGUliPNuN88fmehdGSXldUAANCjhDTUlJeX629\\/6+HbBoy7Vsq9QGqqlV6+UWpptroiAAB6hJCGmtLSUl1zzTWhfMnIc3QZKjZJKlsjrf2z1RUBANAjdCjU+Hy+E35UVlZ2VZ2RJTVLuvRX5vG\\/75cO77S2HgAAeoDojgxOTU2Vw+E47tcNwzjh13uUsbOlra9Iu96VXr5BuvYtc2sFAADQJToUapKTk3XXXXdp4sSJQb++c+dOXX\\/99SEpLOI5HNLX\\/igtniztzpc+\\/KM0ZZ7VVQEAYFsdCjVjx46VJF1wwQVBv56amiqD3aqPcWVIl\\/7a3MV75a+lIV+W0odYXRUAALbUoZ6a733ve4qPjz\\/u1\\/v376977733tIuylTE\\/kAZfIjXXm8tQzU1WVwQAgC05jAieWvH5fHK5XPJ6vUpJSbG6nOPz7ZUemSTVe6Xp90pT51tdEQAAlumqv98dWn466v777z\\/h1++5555OFWNbKQOlLz9oztSsWiSddZnUb5jVVQEAYCudmqkZM2ZMwOeNjY0qKipSdHS0zjzzTG3YsCFkBZ5IxMzUSJJhSM99R\\/r0TWnAaOlH70hRMVZXBQBAtwurmZrCwsJ2j\\/l8Pl199dW66qqrTrsoW3I4pCt+Jy2eJO3bKH3wO+n8n1ldFQAAthGyOwqnpKTo\\/vvv19133x2ql7SflAHSVx4yj1f9Rtq\\/xdp6AACwkZBuk1BRUSGv1xvKl7Sfkd+Uhl4htTS2Xg3VaHVFAADYQqeWn\\/7whz8EfG4Yhvbt26dnnnlGl112WUgKsy2HQ7r8t1LJB9L+TdL7v5Uu\\/LnVVQEAEPE61Sicm5sb8LnT6VR6erqmTZumBQsWKDk5OWQFnkhENQq3tflFael1kjNa+vFKacAoqysCAKBbhFWjcFFRUcgK6LFGfN3cG2rbcnMZ6scrpehYq6sCACBihbSnBh1wdBkqobd0YIv0\\/sNWVwQAQEQj1FgpKV26\\/H\\/M4\\/celva2v1QeAACcGkKN1YZfZX4YzdLLN0pN9VZXBABARCLUhIOv\\/I+UmC4d3Cqt\\/o3V1QAAEJEINeEgsbd0xf+ax\\/\\/5X2nPemvrAQAgAhFqwsXZX5VGfEMyWsxlqMY6qysCACCiEGrCyVcekhL7Soe2m7t5AwCAU0aoCScJbumrvzOPP\\/yDVJZvbT0AAEQQQk24GXq5NOo7rctQN0iNtVZXBABARCDUhKMvPygl9ZeO7JTe\\/aXV1QAAEBEINeGoV5r01d+bxx89IpWusbYeAAAiAKEmXA25TBr9fUmGeTVUQ43VFQEAENYINeHs0l9LyQMlzy7p3QesrgYAgLBGqAlnvVKlr\\/3BPF6zRCr+wNp6AAAIY4SacPelS6QxsyQZ0is3Sg3VVlcEAEBYItREgkt\\/JaVkSOXF0jsLra4GAICwRKiJBPEu6co\\/msfrHpOK3rO2HgAAwhChJlKcOU0ad7V5\\/Mpcqb7K0nIAAAg3hJpIMuOXkitLqiiVVtxjdTUAAIQVQk0kiUs+tgxV8KS0a6W19QAAEEYINZFm0IVS3o\\/M4+U3S3U+K6sBACBsEGoi0cX3SanZkrdMevsXVlcDAEBYsDTULFq0SHl5eUpOTlbfvn01c+ZM7dixw8qSIkNckjRzsXm84a\\/SZ\\/+2th4AAMKApaFm9erVmjt3rtasWaMVK1aoqalJM2bMUHU1N5g7qZwp0oTrzePlN0t1XmvrAQDAYg7DMAyrizjq0KFD6tu3r1avXq3zzz\\/\\/pON9Pp9cLpe8Xq9SUlK6ocIw01AtLTlPKi+SxvxAuvIRqysCAOCkuurvd1j11Hi95myD2+0O+vX6+nr5fL6Ajx4tNrF1GcohFT4rffq21RUBAGCZsAk1hmFo\\/vz5mjJlikaMGBF0zKJFi+RyufwfmZmZ3VxlGMo+V5p0o3n86i1Sbbm19QAAYJGwCTU33XSTNm3apOeee+64YxYsWCCv1+v\\/KCsr68YKw9j0u6Xeg6XKfdKbd1pdDQAAlgiLUHPzzTdr+fLlWrlypTIyMo47Li4uTikpKQEfkBTTS7qydRnq479LO96wuiIAALqdpaHGMAzddNNNeumll\\/Tuu+8qNzfXynIiW9ZE6dybzONXb5VqPNbWAwBAN7M01MydO1fPPvus\\/v73vys5OVn79+\\/X\\/v37VVtba2VZkeuiu6Q+Z0lVB6Q377C6GgAAupWll3Q7HI6gjz\\/11FO6+uqrT\\/r8Hn9JdzC7C6QnL5GMFunb\\/yedfYXVFQEAEKCr\\/n5Hh+yVOiGMbpFjHxnjpXNvkT74nfTaPClrspTY2+qqAADocmHRKIwQu3CBlD5Uqj4kvfEzq6sBAKBbEGrsKCbevCmfI0raslTa+orVFQEA0OUINXZ1xjhpyjzz+LX5UvVha+sBAKCLEWrs7IKfS32HSTWHpdf\\/2+pqAADoUoQaO4uOk2YuMZehtr4sbXnJ6ooAAOgyhBq7GzhaOv828\\/j1\\/5aqDlpbDwAAXYRQ0xNMvU3qN1Kq9Uiv\\/VTiUnoAgA0RanqC6FjzaihntLT9NfOKKAAAbIZQ01MMGCWdf7t5\\/K\\/bpMoD1tYDAECIEWp6kqnzpf6jpNpylqEAALZDqOlJomKkq\\/4sOWOkHa9Lm\\/5pdUUAAIQMoaan6TdcuvDn5vEbP5N8+6ytBwCAECHU9ETn\\/VQaMFqq80qv3soyFADAFgg1PVFUtLkMFRUr7XxL+vg5qysCAOC0EWp6qr5nSxfdaR6\\/cYfk3WNtPQAAnCZCTU82+WZz48t6r\\/TqLSxDAQAiGqGmJ4uKNveGioqTPntHKnzG6ooAAOg0Qk1Plz5EmvYL8\\/itu6SKMmvrAQCgkwg1kCbPlTImSPU+afnNLEMBACISoQaSM8pchoqOlz5fKa1\\/2uqKAADoMEINTH0GS9PvMY\\/f\\/oVUXmJtPQAAdBChBsdMnCNlTZYaqqTlN0ktLVZXBADAKSPU4BhnlHTlI1J0L6noPangSasrAgDglBFqEKj3mdIl95nHK+6RPEXW1gMAwCki1KC9vB9L2VOkxhrpFZahAACRgVCD9pxO6co\\/STGJUsl\\/pPzHra4IAICTItQgOHfuF5ah7pWO7LK2HgAAToJQg+Mbf52Ue77UVCu9fKPU0mx1RQAAHJctQo3BHXC7htMpfe1PUmySVLZGWvtnqysCAOC4bBFqLnxolW54dr3+8p8ibdnjVXMLISdk0rKlGQ+Yx\\/++Xzq809p6AAA4DocRwdMcPp9PLpdLmfP+KWdcgv\\/xpLhojc1O04ScNE3I7a1RGS7Fx0RZWGmEMwzpmZnS56vMPaKufdO8pw0AAJ1w9O+31+tVSkpKyF7XFqHm3U1F2nq4SfnFHq0vLldlfVPAuNgop87JdCkvx628XLfGZacpJT7GoqojVEWZtHiy1FApXfKAdN4tVlcEAIhQhJoggp2U5hZD2\\/f7lF\\/kUX5xudYWeXS4qj7geU6HNLR\\/iibkuluDTpr6Jsdb8SNElg1\\/M3fxjoqT5rwvpQ+xuiIAQAQi1ARxKifFMAyVHKnRumJPa9DxqPhITbtxOb0T\\/DM5E3Lcyu6dIIfD0dU\\/QmQxDOn\\/viF99o50xjjp2relqGirqwIARBhCTRCdPSkHfXXKLy5XfrFH64o82rbfp7ZnIT05ThNy3MrLSVNerltD+6coyknIkXePuQxV75UuXihN+anVFQEAIgyhJohQnRRfXaPWl5RrXZE5m7Npt1cNzYFbAyTHR2tcdpryctyakOvWqAyX4qJ7aLNs4f9Jr9woRcVK178n9T3b6ooAABGEUBNEV52UusZmfVxWYc7kFJdrQ0m5qto2H0c7NTojVXm5ZtAZl52m5J7SfGwY0t+\\/Le18Sxo4RrruHZahAACnjFATRFedlLaamlu0fX+lOZNTbH4crmoIGON0SGcPSPHP5OTluJWeHNdlNVnOt09aPFGq80rT7pbOv83qigAAEYJQE0R3hZq2DMNQ0eHq1p4cszen1NO++Ti3T6LZk9MadLLcNms+\\/vh5adn1kjNGun611G+41RUBACIAoSYIq0JNMPu9df5ZnHVFHu04UNmu+bhfSlzATM6QfslyRnLzsWFIz39P2vEvqf8o6cfvSlE9ZAkOANBphJogwinUtOWtadT6UnMmZ13REW3e41Vjc+CpTomP1vgcd2vQSdPIM1IVGx1hO1dUHjCXoWrLpQvvlC78udUVAQDCHKEmiHAONW3VNTarsLTCP5uzoaRc1Q2Bu17HRTs1OjNVE3LN2ZyxWWlKjIuABtzNL0pLr5Oc0dKPV0oDRlldEQAgjBFqgoikUNNWU3OLtu7zfaH5uFye6sDm4yinQ8MHms3Hea33zOmdFIbNx4Yh\\/eMH0vbXpH4jzWWo6FirqwIAhClCTRCRHGraMgxDuw6Zzcf5RR6tK\\/Zod3ltu3Fnpice294hx62MtF7h0XxcdVB6ZKJU65HOv12adpfVFQEAwhShJgg7hZpg9lbU+huP84s9+vRAVbsxA1zxAds7fKlvknXNx1tekl68RnJEmbM1A0dbUwcAIKwRaoKwe6hpq7y6QQUlx7Z32LLHq6aWwP\\/7UhNiNL71zsd5uW6NPMOlmKhubD7+52xp68tS3+HST1ZK0WG4XAYAsBShJoieFmraqmlo0sbSCnOzzmKPNpRUqLYxsPk4PsapMZlp\\/pmcsdmpSojtwubj6sPmMlTNYWnqbdL0u7vuewEAIhKhJoieHmraamxu0Sd7ff6enIJij8prGgPGRDkdGnG0+bi1N8edGOKm3q2vSP\\/8obkM9aMV5o7eAAC0ItQEQag5sZYWQ7sOVZkzOUXmFVZ7Kto3Hw\\/um+S\\/V47ZfJxw+t\\/8xWulLUul9KHST1ZLMfGn\\/5oAAFsg1ARBqOm4PRW1\\/pmc\\/CKPdh5s33w80BXvn8WZkOvW4PRONB\\/XeMxlqOqD0pSfShcvDEn9AIDIR6gJglBz+jzVDSo4ur1Dcbm27PGquU3zcVpCjMZlmzM5E3J7a\\/jAlFNrPt7+urmNgsMpXbdCyhjfRT8FACCSEGqCINSEXk1DkwpLK7S2yJzJKSwrV11jS8CYXjFRGpudas7k5Lg1JitNvWKjgr\\/gSz+RNv1D6nOWdP17UkyvbvgpAADhjFATBKGm6zU0tWjLXm9rT47Zl+OtDWw+jnY6NOIM1xduCpim1ITW5uMaj7R4klR1QDr3ZmnGLy34KQAA4YRQEwShpvu1tBjaefCLzcce7fPWtRt3Vr8kf0\\/O1JYCuZf\\/UJJDuvYtKWti9xcOAAgbhJogCDXWMwxDu8uP3fl4XbFHnx+qbjduceLj+krzSvkSsnXo+\\/\\/WoIF9wmN7BwBAtyPUBEGoCU+Hq+pbm4\\/Nux9\\/stenxJYqvR13u\\/o7yvVk05e1OO46jc9J88\\/mDBuQoujuvPMxAMAyhJogCDWRoaq+SYWl5Tq04TX917Z5ajEc+nbD3co3hvrHJMZGaezR7R1y3BqTlar4mOM0HwMAIhqhJghCTQR6Za5U+KzqkrP1zOi\\/66OyWhUUe+SrawoYFhPl0MgzXP7tHcZnu+VKiLGoaABAKBFqgiDURKA6r7R4suTbI024XvrK\\/1NLi6EdByoDdiQ\\/4KsPeJrDIQ3plxywI3l\\/F3cpBoBIRKgJglAToT77t\\/Tsf5nHV78u5UwJ+LJhGCrz1AZcYfX54fbNx5nuXsrLcWti66XkuX0SaT4GgAhAqAmCUBPBXr1VWv+0lJot3fChFJd0wuGHKs3m43Wtsznb9vnU5sbH6pMU6+\\/JmZDr1tkDUhTV0e0dAABdjlATBKEmgtX5pCXnSt4yKe9H0uX\\/06GnV9Y1an2JeXVVflG5Nu6uUENT4J2Pk+KiNTY7TRNar7I6J5PmYwAIB4SaIAg1EW7XSumZmebxD1+RBl3Y6Zeqa2zW5j1ef0\\/O+uJyVdYHNh\\/HRjk1KuNY8\\/G4nDSlxNN8DADdzZah5r333tNDDz2k9evXa9++fVq2bJlmzpx5ys8n1NjAa\\/OlgiclV5Z044dSXHJIXra5xdD2\\/b7WnpxyrSv26FBl++bjof1TzJmc1qDTN4XmYwDoal319zs6ZK\\/UCdXV1TrnnHN0zTXX6Otf\\/7qVpcAql9wvfbZCqiiV3r5b+urvQvKyUU6Hhg90afhAl64+L1eGYajkSE1A83HxkRpt2+fTtn0+\\/fWjEklSdu8E\\/0adeblu5fROoPkYACJE2Cw\\/ORwOZmp6qqL3pb9eYR7\\/4CVp8PRu+bYHfXX+ux6vK\\/Jo236f2v7XkJ4cp7wv3Pl4aH+ajwHgdNly+emLTiXU1NfXq77+2BKCz+dTZmYmocYO\\/vUzad1jUkqGuQwV7+r2EnxHm4+LzJCzabdXDc2BzcfJcdEa94WQMyrDpbhomo8BoCNsufzUUYsWLdJ9991ndRnoChcvlHa+LZUXS2\\/dKV35SLeXkBIfo4uG9NVFQ\\/pKMpuPPy6rMGdyisu1ocRsPl6145BW7TgkSYqNdmp0Rqrycs2gMy47Tck0HwOAJZipQfgo+VB66iuSDOn7L0pfusTqigI0Nbdo+\\/5K\\/xVW+cUeHa5qCBjjdEhnD0jxz+Tk5biVnhxnUcUAEJ5YfgqCnhobenOBtGaxlDxQuvEjqVeq1RUdl2EYKjpc3dqTY\\/bmlHpq2o3L7ZMY0JeT5ab5GEDPxvITeoZpd0ufviV5dpnLUDMXW13RcTkcDg1KT9Kg9CR9Oy9LknTAV+efyVlX5NGOA5UqOlytosPV+mfBbklS3+Q4\\/yXkeTluDe2fLCfNxwBw2iydqamqqtJnn30mSRozZox++9vf6qKLLpLb7VZWVtZJn89MjU2VrpH+cpkkQ\\/reP6WzLrW6ok7z1jRqfemxmZxNuyvU2Bz4n1xyfLTGZ5v3ypmY6+8fLCEAABtdSURBVNbIM1IVG+20qGIA6Hq2XH5atWqVLrroonaPz549W08\\/\\/fRJn0+osbG37pI++pOU1F+au0bqlWZ1RSFR19isjWUV5hVWxR5tKClXdUNzwJi4aKdGZ6b6e3LGZqcpKY5JVQD2YctQc7oINTbWWCv9eap0ZKc06jvSfz1qdUVdoqm5RVv3+b7QfFwuT3X75uPhA12tPTlpGp\\/jVp8kmo8BRC5CTRCEGpsry5f+MkMyWqTv\\/F0aernVFXU5wzC061B160ad5mzO7vLaduMGpSf6e3Im5LqVkdaL5mMAEYNQEwShpgdYcY\\/0we+lxL7S3LVSgtvqirrdPm+t1rXeEDC\\/2KNPD1S1G9M\\/Jd5crmptQP5S3ySajwGELUJNEISaHqCxTnr0fOnwDmnkN6WvP2F1RZYrr25QQcmx7R227PGqqSXwP+PUhBiz+bh1D6sRA100HwMIG4SaIAg1PcTu9dKTF5vLUN96Rhr2NasrCis1DU3aWFqhdcUeFRSXa0NpuWraNB\\/Hxzg1JvPYbuRjslKVSPMxAIsQaoIg1PQg79wn\\/ee3UmK6dONaKbG31RWFrcbmFm3d6\\/PP5OQXe1Re0xgwJsrp0IiBKf6ZnLwct9yJsRZVDKCnIdQEQajpQZrqpUcvkA5tk4b\\/l\\/TNp6yuKGKYzcdVWltkNh\\/nF5drT0X75uPBfZP8V1jl5biVkZZgQbUAegJCTRCEmh5mb6H0+HTJaJa++bQ0\\/CqrK4pYeypq\\/VdX5Rd5tPNg++bjga54\\/yzOhFy3BqfTfAwgNAg1QRBqeqB3fym995CU0NtchkpKt7oiW\\/BUN6igdZPOdcXl2rLHq+Y2zcdpCTEal23e9Tgv163hA1MUE0XzMYCOI9QEQajpgZoapMcvkg5skc7+mvStv0ncnyXkahqaVFha4V+yKiwrV11jS8CYXjFRGpudas7k5Lg1JitNvWKjLKoYQCQh1ARBqOmh9n0sPT5NammSvv6kNPIbVldkew1NLdqy19vak2P25XhrA5uPo50OjTjD5d\\/eYXx2mtJoPgYQBKEmCEJND7bqQWnVInNPqBvXSsn9rK6oR2lpMbTzYJW\\/Jye\\/2KN93rp2487ql6TxrTM5E3LdGpjay4JqAYQbQk0QhJoerLnRXIbav1kacrn0nf9jGcpChmFod3lt6yyOeSn5rkPV7cadkdrLP5MzITdNZ6Ynsb0D0AMRaoIg1PRw+zdLj10ktTRK\\/\\/W4NOpbVleELzhSVa\\/84nJ\\/0Plkr69d87E7MVbjs9P8QWf4wBRF03wM2B6hJghCDbT6IWnlL6X4VOnGNVLKAKsrwnFU1TepsLTcfyl5YWmF6psCm48TYqM0NivNfxn5mKxUxcfQfAzYDaEmCEIN1NwoPXGxtG+jdNZl0nefZxkqQjQ0tWjzHq9\\/uaqg2CNfXVPAmJgoh0ae4fJv7zA+2y1XQoxFFQMIFUJNEIQaSJIObJUeu0BqbpBmLpFGf8\\/qitAJLS2GdhyoDNje4YCvPmCMwyEN6Zfs395hQo5b\\/V3xFlUMoLMINUEQauD3\\/v9I\\/75finNJc9dIKQOtrginyTAMlXlqA66w+vxw++bjTHcv\\/71y8nLdGtQnkeZjIMwRaoIg1MCvuUl68hJp7wZp8CXS919gGcqGDlXWq6C4dXuHYo+27vWpTe+x+iTFanz2sZmcswck03wMhBlCTRCEGgQ4uF169HypuV762h+lsT+0uiJ0scq6Rm0orfA3H28sq1BDm+bjxNgojc1O88\\/kjM6k+RiwGqEmCEIN2vng99KKe6S4FOmGD6XUTKsrQjeqb2rW5t1e\\/5JVQUm5Kts0H8dGOTUyw6W8HHMfq7HZaXL1ovkY6E6EmiAINWinpVn6y2XS7nXSoIukWctYhurBmlsM7dh\\/rPl4XbFHhyrbNx8P7Z+iCTlp\\/iWrvik0HwNdiVATBKEGQR3eKf15itRUJ33199K4q62uCGHCMAyVHKkJaD4uPlLTblx274SA5uOc3gk0HwMhRKgJglCD4\\/rwT9Lbd0mxSdKNH0mpWVZXhDB10Ffnv\\/PxuiKPtu33qe27YnpynPJyzJsC5uW4dfaAFEU5CTlAZxFqgiDU4LhamqWnviKVrZFyz5dmvSI5uQIGJ+era9T6knLzXjlFHm3a7VVDc2DzcXJctMblHLvz8agMl+KiaT4GThWhJghCDU7oyC5pyXlSU610+f9IeT+yuiJEoLrGZn1cVmHO5BSXa0NJuarq2zQfRzs1OiNVeblm0BmXnabkeJqPgeMh1ARBqMFJrfmz9ObPpZhE6cYPpbQcqytChGtqbtH2\\/ZXm1g4lHq0rKtfhqsDmY6dDOntAin8mJy\\/HrfTkOIsqBsIPoSYIQg1OqqVF+usVUskHUs5U6YfLWYZCSBmGoeIjNf575eQXe1QSpPk4t0+ivy9nQq5bWW6aj9FzEWqCINTglHiKzGWoxmrpyw9JE39idUWwuQO+Ov\\/+VeuKPNpxoLJd83Hf5Dj\\/JeR5OW4N6Z9M8zF6DEJNEIQanLJ1j0v\\/uk2KSZBu+EByD7K6IvQg3ppGrS81l6ryiz3atLtCjc2Bb73J8dEan33sXjkjaT6GjRFqgiDU4JS1tEh\\/+5pU\\/L6Uda509essQ8EydY3N2lh2bHuHDSXlqm5oDhgTF+3UOZmpmtjakzM2O01JcdEWVQyEFqEmCEINOqS8RFpyrtRQJV32oDTpBqsrAiSZzcfb9lVqbdER5Rd7VFBcriPVDQFjnA5p+EBXa09OmsbnuNUnieZjRCZCTRCEGnRYwV+k134qRfcyl6F6n2l1RUA7hmFo16Fq5bfe+XhdsUe7y2vbjRuUnujvyZmQ61ZGWi+ajxERCDVBEGrQYYYhPXOV9PlKKXOSdM2\\/JCd9Cwh\\/+7y1\\/ubj\\/KJy7ThQ2W5M\\/5T41p4cszfnrL7JctJ8jDBEqAmCUINOqSiTFk+WGiqlGb+Szr3J6oqADquoaVDB0e0dij3avNurppbAt3NXrxh\\/83Fejlsjz3ApNppeMliPUBMEoQadtv6v0qu3SNHx0vXvS+lnWV0RcFpqG5pVWFau\\/NYrrDaUlqumTfNxfIxTozNT\\/Rt1js1KUyLNx7AAoSYIQg06zTCkZ78u7fq3lJEnXfsWy1CwlcbmFm3d6\\/PfKye\\/2KPymsaAMVFOh4YPTPGHnLwct9yJsRZVjJ6EUBMEoQanxbvHXIaq90qX3C+dd6vVFQFdxmw+rtLa1o0684vLtaeiffPx4L5J\\/ius8nLcykhLsKBa2B2hJghCDU5b4bPSK3OlqDjp+vekvkOtrgjoNnsqao9t71Dk0c6DVe3GDHTF+2dxJuS6NTg9ieZjnDZCTRCEGpw2w5D+\\/i1p59vSwLHSdSukKHoM0DN5qhtU0Lp\\/1bricm3Z41Vzm+bjtIQYjcs+NpMz4gyXYqJoPkbHEGqCINQgJHx7pcWTpDqvNP0eaep\\/W10REBZqGppUWFrh78kpLK1QbWNg83GvmCiNyUr1z+SMyUpVQiz\\/MMCJEWqCINQgZDY+J708R3LGmMtQ\\/YZZXREQdhqbW7Rlj7e1+bhcBSUeVbRpPo52OjT8DJd5r5zWGwOm0XyMNgg1QRBqEDKGIT33XenTN6QBo6UfvSNFxVhdFRDWWloMfXao6gs3BfRor7eu3bgv9U1SXq7bv4\\/VwNReFlSLcEKoCYJQg5Cq3C89MlGqq5Au+oV0wc+srgiIOLvLa\\/wzOeuKjmjXoep2Y85I7aUJ\\/ubjNJ2ZnsT2Dj0MoSYIQg1CbtML0ks\\/MpehfrJS6j\\/S6oqAiHakql75rXc+zi\\/26JO9vnbNx+7EWI3PTvMHneEDUxRN87GtEWqCINQg5AxD+scPpO2vmYHmR+9K0fQDAKFSXd+kDaXl\\/kvJC0srVN\\/UEjAmITZKY7Nae3Jy0zQmM029Yrk5pp0QaoIg1KBLVB00l6FqPdIFd0gXLbC6IsC2GppatNnffOxRQbFHvrqmgDExUQ6NOMOlCbluTchxa3y2W64Eet4iGaEmCEINusyWpdKL10rOaOnH70oDzrG6IqBHaGkxtONAZcD2Dgd89QFjHA5pSL\\/k1pkcM+j0d8VbVDE6g1ATBKEGXcYwpBdmS1tfkfoOl36yimUowAKGYajMU+u\\/63F+iUefB2k+znT3MhuPW4POoD6JNB+HMUJNEIQadKmqQ9LiiVLNEen8n0nTfmF1RQAkHa6qV0HrFVZm87FXbXqP1ScpVuOzj83knD0gmebjMEKoCYJQgy73yTLphaslR5R575ozxlpdEYA2KusataG0wt98vLGsQg1tmo8TY6M0NjvNP5MzOjNV8TE0H1uFUBMEoQbd4oVrpE9ektLPlq5fLUXHWV0RgBOob2rW5t1e\\/5JVQUm5Kts0H8dGOTUyw+W\\/V864bLdcvWg+7i6EmiAINegW1UfMZajqQ9KU+dLF91pdEYAOaG4xtGN\\/pdYVHVF+cbnWFXt0qLJ98\\/HQ\\/inm9g6tS1Z9U2g+7iqEmiAINeg2214171\\/jcErXvSNljLO6IgCdZBiGSo7UHGs+Lvao+EhNu3HZvRMCmo9zeifQfBwihJogCDXoVkt\\/JG1+QepzlnT9+1IM\\/4oD7OKgr85\\/5+N1RR5t2+9T27+OfZLiNCH32EadZw9IUZSTkNMZhJogCDXoVjUeafEkqeqAdO4t0owHrK4IQBfx1TVqfUm5fybn4zKvGpoDm4+T46LN5uPW7R1GZbhoPj5FhJogCDXodtv\\/JT3\\/XXMZ6tq3pMwJVlcEoBvUNTZr0+5jdz5eX1Kuqvr2zcfnZLr8NwUcl52mlHiaj4Mh1ARBqIElls2RPn5O6j1YmvMfKaaX1RUB6GbNLYa27fP5N+pcV1Suw1WBzcfOo83HrTM5eblp6pvMsrVEqAmKUANL1JZLiydLlfukyTdJl\\/7K6ooAWMwwDBUfqfHfKye\\/2KOSIM3HOb0T\\/CFnQq5bWe6e2XxMqAmCUAPLfPq29PdvSnJI17whZU+2uiIAYeaAr86\\/f9W6Io92HKhs13zcNznOfwl5Xo5bQ\\/on94jmY0JNEIQaWOrludLGZyX3IGnOB1JsgtUVAQhj3tpGrS85tr3Dpt0VamwO\\/BOcHB+t8dnH7pUzMsOluGj7NR8TaoIg1MBStRXSknMl3x5p4g3Slx+0uiIAEaSusVkby45t77ChpFzVDc0BY+KinTonM9V\\/r5xx2WlKiou2qOLQIdQEQaiB5T57R3r26+bx1a9LOVOsrQdAxGpqbtG2fZUBNwU8Ut0QMMbpkIYNTAm4KWCfpMjbuoVQEwShBmFh+c3Shr9JaTnmMlRcktUVAbABwzD0+eHqgObjMk9tu3GD+iT6LyOfkONWprtX2Dcf2zrULF68WA899JD27dun4cOH63e\\/+52mTp160ucRahAW6nzm1VC+3VLej6XLH7a6IgA2td9bFzCTs31\\/Zbsx\\/VLiNCG3t38fq7P6JssZZs3Htg01\\/\\/jHPzRr1iwtXrxY5513nh599FE98cQT2rp1q7Kysk74XEINwsauldIzM83j2a9KuedbWw+AHsFb06iCEnMmZ12RR5t3e9XUEvhn3dUrxt98nJfj1sgzXIqNdlpUscm2oWbixIkaO3aslixZ4n\\/s7LPP1syZM7Vo0aITPpdQg7Dy2k+lgr9IqVnSDR9KcclWVwSgh6ltaFZhWbnyW6+w2lBarpo2zcfxMU6N\\/kLz8disNCV2c\\/OxLUNNQ0ODEhIS9MILL+iqq67yP37rrbdq48aNWr16dcD4+vp61dcfu2Oj1+tVVlaWysrKCDWwXn2l9OQlkne3NOYH0mVcDQXAWo3NLdq+z6cNpeVaX1KuwtIKldc0BoyJcjo0tH+yxmanaWxWmsZlpcrdxc3HPp9PmZmZqqiokMvlCtnrWnpd2OHDh9Xc3Kx+\\/foFPN6vXz\\/t37+\\/3fhFixbpvvvua\\/d4ZmZml9UIdM6S1g8ACH\\/Fkt604PseOXLEPqHmqLZd2oZhBO3cXrBggebPn+\\/\\/vKKiQtnZ2SotLQ3pSemJjqZmZr1OD+cxdDiXocO5DA3OY+gcXWlxu90hfV1LQ02fPn0UFRXVblbm4MGD7WZvJCkuLk5xce2nxFwuF79gIZKSksK5DAHOY+hwLkOHcxkanMfQcTpD27BsaftzbGysxo0bpxUrVgQ8vmLFCp177rkWVQUAACKR5ctP8+fP16xZszR+\\/HhNnjxZjz32mEpLSzVnzhyrSwMAABEkauHChQutLGDEiBHq3bu3fv3rX+vhhx9WbW2tnnnmGZ1zzjmn9PyoqChdeOGFio62PJ9FPM5laHAeQ4dzGTqcy9DgPIZOV5xLy+9TAwAAEArW3lIQAAAgRAg1AADAFgg1AADAFgg1AADAFsI+1CxevFi5ubmKj4\\/XuHHj9P77759w\\/NKlSzVs2DDFxcVp2LBhWrZsWTdVGv46ci6ffvppORyOdh91dXXdWHH4ee+99\\/TVr35VAwcOlMPh0Msvv3zS56xevVrjxo1TfHy8Bg0apD\\/\\/+c\\/dUGn46+i5XLVqVdDfye3bt3dTxeFp0aJFysvLU3Jysvr27auZM2dqx44dJ30e75WBOnMeeZ8MbsmSJRo1apT\\/JoWTJ0\\/WG2+8ccLnhOr3MaxDzT\\/+8Q\\/NmzdPd911lwoLCzV16lR9+ctfVmlpadDxH330kb797W9r1qxZ+vjjjzVr1ix961vf0tq1a7u58vDT0XMpmXfN3LdvX8BHfHx8N1Ydfqqrq3XOOefoT3\\/60ymNLyoq0le+8hVNnTpVhYWFuvPOO3XLLbdo6dKlXVxp+OvouTxqx44dAb+TX\\/rSl7qowsiwevVqzZ07V2vWrNGKFSvU1NSkGTNmqLq6+rjP4b2yvc6cR4n3yWAyMjL04IMPqqCgQAUFBZo2bZquvPJKffLJJ0HHh\\/T30QhjEyZMMObMmRPw2NChQ4077rgj6PhvfetbxmWXXRbw2KWXXmp85zvf6bIaI0VHz+VTTz1luFyu7igtYkkyli1bdsIxt99+uzF06NCAx66\\/\\/npj0qRJXVlaxDmVc7ly5UpDklFeXt5NVUWmgwcPGpKM1atXH3cM75UndyrnkffJU5eWlmY88cQTQb8Wyt\\/HsJ2paWho0Pr16zVjxoyAx2fMmKEPP\\/ww6HM++uijduMvvfTS447vKTpzLiWpqqpK2dnZysjI0BVXXKHCwsKuLtV2jvc7WVBQoMbGRouqimxjxozRgAEDNH36dK1cudLqcsKO1+uVpBNuFMh75cmdynmUeJ88mebmZj3\\/\\/POqrq7W5MmTg44J5e9j2Iaaw4cPq7m5ud3Glv369Wu3AeZR+\\/fv79D4nqIz53Lo0KF6+umntXz5cj333HOKj4\\/Xeeedp507d3ZHybZxvN\\/JpqYmHT582KKqItOAAQP02GOPaenSpXrppZc0ZMgQTZ8+Xe+9957VpYUNwzA0f\\/58TZkyRSNGjDjuON4rT+xUzyPvk8e3efNmJSUlKS4uTnPmzNGyZcs0bNiwoGND+fsY9vd5djgcAZ8bhtHusdMZ35N05NxMmjRJkyZN8n9+3nnnaezYsfrjH\\/+oP\\/zhD11ap90EO+\\/BHseJDRkyREOGDPF\\/PnnyZJWVlenhhx\\/W+eefb2Fl4eOmm27Spk2b9J\\/\\/\\/OekY3mvPL5TPY+8Tx7fkCFDtHHjRlVUVGjp0qWaPXu2Vq9efdxgE6rfx7CdqenTp4+ioqLaJbWDBw+2S3RH9e\\/fv0Pje4rOnMu2nE6n8vLy+BdIBx3vdzI6Olq9e\\/e2qCr7mDRpEr+TrW6++WYtX75cK1euVEZGxgnH8l55fB05j23xPnlMbGysBg8erPHjx2vRokU655xz9Pvf\\/z7o2FD+PoZtqImNjdW4ceO0YsWKgMdXrFihc889N+hzJk+e3G7822+\\/fdzxPUVnzmVbhmFo48aNGjBgQFeUaFvH+50cP368YmJiLKrKPgoLC3v876RhGLrpppv00ksv6d1331Vubu5Jn8N7ZXudOY\\/BXoP3yeAMw1B9fX3Qr4X097HDrcXd6PnnnzdiYmKMJ5980ti6dasxb948IzEx0SguLjYMwzBmzZoVcPXOBx98YERFRRkPPvigsW3bNuPBBx80oqOjjTVr1lj1I4SNjp7LhQsXGm+++aaxa9cuo7Cw0LjmmmuM6OhoY+3atVb9CGGhsrLSKCwsNAoLCw1Jxm9\\/+1ujsLDQKCkpMQzDMO644w5j1qxZ\\/vGff\\/65kZCQYPz0pz81tm7dajz55JNGTEyM8eKLL1r1I4SNjp7L\\/\\/3f\\/zWWLVtmfPrpp8aWLVuMO+64w5BkLF261KofISzccMMNhsvlMlatWmXs27fP\\/1FTU+Mfw3vlyXXmPPI+GdyCBQuM9957zygqKjI2bdpk3HnnnYbT6TTefvttwzC69vcxrEONYRjGI488YmRnZxuxsbHG2LFjAy6vu+CCC4zZs2cHjH\\/hhReMIUOGGDExMcbQoUN7\\/BveF3XkXM6bN8\\/IysoyYmNjjfT0dGPGjBnGhx9+aEHV4eXoZcVtP46eu9mzZxsXXHBBwHNWrVpljBkzxoiNjTVycnKMJUuWdH\\/hYaij5\\/I3v\\/mNceaZZxrx8fFGWlqaMWXKFOP111+3pvgwEuwcSjKeeuop\\/xjeK0+uM+eR98ngrr32Wv\\/fmvT0dGP69On+QGMYXfv76DCM1q5FAACACBa2PTUAAAAdQagBAAC2QKgBAAC2QKgBAAC2QKgBAAC2QKgBAAC2QKgBAAC2QKgBAAC2QKgBELY8Ho9uvvlmDRkyRAkJCcrKytItt9wir9drdWkAwlC01QUAwPHs3btXe\\/fu1cMPP6xhw4appKREc+bM0d69e\\/Xiiy9aXR6AMMM2CQAslZOTo3nz5mnevHn+x0aPHq2ZM2dq4cKF7ca\\/8MIL+sEPfqDq6mpFR\\/PvMgDHsPwEIKJ4vV6lpKQQaAC0Q6gBEDGOHDmiBx54QNdff73VpQAIQ4QaABHB5\\/Pp8ssv17Bhw3TvvfdaXQ6AMESoAWApp9Optq19jY2NAZ9XVlbqsssuU1JSkpYtW6aYmJjuLBFAhCDUALBUenq69u3b5\\/\\/c5\\/OpqKgo4PMZM2YoNjZWy5cvV3x8vBVlAogAhBoAlpo2bZqeeeYZvf\\/++9qyZYtmz56tqKgoSeYMzYwZM1RdXa0nn3xSPp9P+\\/fv1\\/79+9Xc3Gxx5QDCDZcPALDUggUL9Pnnn+uKK66Qy+XSAw884J+pWb9+vdauXStJGjx4cMDzioqKlJOT093lAghj3KcGAADYAstPAADAFgg1AADAFgg1AADAFgg1AADAFgg1AADAFgg1AADAFgg1AADAFgg1AADAFgg1AADAFgg1AADAFgg1AADAFgg1AADAFv4\\/9s\\/welD2L8EAAAAASUVORK5CYII='><\\/img>\"},\"nodeType\":\"DOM\",\"type\":\"node\",\"instanceArgs\":{\"namespace\":\"html\",\"tag\":\"div\"},\"children\":[]}]}}}},\"children\":[{\"props\":{},\"nodeType\":\"ObservableNode\",\"type\":\"node\",\"instanceArgs\":{\"id\":\"ob_40\",\"name\":\"obs-node\"},\"children\":[]}]}]},\n",
       "            window,\n",
       "        );\n",
       "    } else {\n",
       "        document\n",
       "            .querySelector('[data-webio-mountpoint=\"3478258739959412670\"]')\n",
       "            .innerHTML = (\n",
       "                '<strong>WebIO not detected. Please read ' +\n",
       "                '<a href=\"https://juliagizmos.github.io/WebIO.jl/latest/troubleshooting/not-detected/\">the troubleshooting guide</a> ' +\n",
       "                'for more information on how to resolve this issue.' +\n",
       "                '</strong>'\n",
       "            );\n",
       "    }\n",
       "    </script>\n",
       "</div>\n"
      ],
      "text/plain": [
       "Node{WebIO.DOM}(WebIO.DOM(:html, :div), Any[Node{WebIO.DOM}(WebIO.DOM(:html, :div), Any[Scope(Node{WebIO.DOM}(WebIO.DOM(:html, :div), Any[Node{WebIO.DOM}(WebIO.DOM(:html, :div), Any[Node{WebIO.DOM}(WebIO.DOM(:html, :label), Any[\"α12\"], Dict{Symbol,Any}(:className => \"interact \",:style => Dict{Any,Any}(:padding => \"5px 10px 0px 10px\")))], Dict{Symbol,Any}(:className => \"interact-flex-row-left\")), Node{WebIO.DOM}(WebIO.DOM(:html, :div), Any[Node{WebIO.DOM}(WebIO.DOM(:html, :input), Any[], Dict{Symbol,Any}(:max => 91,:min => 1,:attributes => Dict{Any,Any}(:type => \"range\",Symbol(\"data-bind\") => \"numericValue: index, valueUpdate: 'input', event: {change: function (){this.changes(this.changes()+1)}}\",\"orient\" => \"horizontal\"),:step => 1,:className => \"slider slider is-fullwidth\",:style => Dict{Any,Any}()))], Dict{Symbol,Any}(:className => \"interact-flex-row-center\")), Node{WebIO.DOM}(WebIO.DOM(:html, :div), Any[Node{WebIO.DOM}(WebIO.DOM(:html, :p), Any[], Dict{Symbol,Any}(:attributes => Dict(\"data-bind\" => \"text: formatted_val\")))], Dict{Symbol,Any}(:className => \"interact-flex-row-right\"))], Dict{Symbol,Any}(:className => \"interact-flex-row interact-widget\")), Dict{String,Tuple{Observables.AbstractObservable,Union{Nothing, Bool}}}(\"changes\" => (Observable{Int64} with 1 listeners. Value:\n",
       "0, nothing),\"index\" => (Observable{Any} with 2 listeners. Value:\n",
       "71, nothing)), Set(String[]), nothing, Asset[Asset(\"js\", \"knockout\", \"/Users/carlingbieg/.julia/packages/Knockout/1sDlc/src/../assets/knockout.js\"), Asset(\"js\", \"knockout_punches\", \"/Users/carlingbieg/.julia/packages/Knockout/1sDlc/src/../assets/knockout_punches.js\"), Asset(\"js\", nothing, \"/Users/carlingbieg/.julia/packages/InteractBase/9mFwe/src/../assets/all.js\"), Asset(\"css\", nothing, \"/Users/carlingbieg/.julia/packages/InteractBase/9mFwe/src/../assets/style.css\"), Asset(\"css\", nothing, \"/Users/carlingbieg/.julia/packages/Interact/SbgIk/src/../assets/bulma_confined.min.css\")], Dict{Any,Any}(\"changes\" => Any[WebIO.JSString(\"(function (val){return (val!=this.model[\\\"changes\\\"]()) ? (this.valueFromJulia[\\\"changes\\\"]=true, this.model[\\\"changes\\\"](val)) : undefined})\")],\"index\" => Any[WebIO.JSString(\"(function (val){return (val!=this.model[\\\"index\\\"]()) ? (this.valueFromJulia[\\\"index\\\"]=true, this.model[\\\"index\\\"](val)) : undefined})\")]), WebIO.ConnectionPool(Channel{Any}(sz_max:32,sz_curr:0), Set(AbstractConnection[]), Base.GenericCondition{Base.AlwaysLockedST}(Base.InvasiveLinkedList{Task}(Task (runnable) @0x000000012e046ad0, Task (runnable) @0x000000012e046ad0), Base.AlwaysLockedST(1))), WebIO.JSString[WebIO.JSString(\"function () {\\n    var handler = (function (ko, koPunches) {\\n    ko.punches.enableAll();\\n    ko.bindingHandlers.numericValue = {\\n        init: function(element, valueAccessor, allBindings, data, context) {\\n            var stringified = ko.observable(ko.unwrap(valueAccessor()));\\n            stringified.subscribe(function(value) {\\n                var val = parseFloat(value);\\n                if (!isNaN(val)) {\\n                    valueAccessor()(val);\\n                }\\n            });\\n            valueAccessor().subscribe(function(value) {\\n                var str = JSON.stringify(value);\\n                if ((str == \\\"0\\\") && ([\\\"-0\\\", \\\"-0.\\\"].indexOf(stringified()) >= 0))\\n                     return;\\n                 if ([\\\"null\\\", \\\"\\\"].indexOf(str) >= 0)\\n                     return;\\n                stringified(str);\\n            });\\n            ko.applyBindingsToNode(\\n                element,\\n                {\\n                    value: stringified,\\n                    valueUpdate: allBindings.get('valueUpdate'),\\n                },\\n                context,\\n            );\\n        }\\n    };\\n    var json_data = {\\\"formatted_vals\\\":[\\\"0.1\\\",\\\"0.11\\\",\\\"0.12\\\",\\\"0.13\\\",\\\"0.14\\\",\\\"0.15\\\",\\\"0.16\\\",\\\"0.17\\\",\\\"0.18\\\",\\\"0.19\\\",\\\"0.2\\\",\\\"0.21\\\",\\\"0.22\\\",\\\"0.23\\\",\\\"0.24\\\",\\\"0.25\\\",\\\"0.26\\\",\\\"0.27\\\",\\\"0.28\\\",\\\"0.29\\\",\\\"0.3\\\",\\\"0.31\\\",\\\"0.32\\\",\\\"0.33\\\",\\\"0.34\\\",\\\"0.35\\\",\\\"0.36\\\",\\\"0.37\\\",\\\"0.38\\\",\\\"0.39\\\",\\\"0.4\\\",\\\"0.41\\\",\\\"0.42\\\",\\\"0.43\\\",\\\"0.44\\\",\\\"0.45\\\",\\\"0.46\\\",\\\"0.47\\\",\\\"0.48\\\",\\\"0.49\\\",\\\"0.5\\\",\\\"0.51\\\",\\\"0.52\\\",\\\"0.53\\\",\\\"0.54\\\",\\\"0.55\\\",\\\"0.56\\\",\\\"0.57\\\",\\\"0.58\\\",\\\"0.59\\\",\\\"0.6\\\",\\\"0.61\\\",\\\"0.62\\\",\\\"0.63\\\",\\\"0.64\\\",\\\"0.65\\\",\\\"0.66\\\",\\\"0.67\\\",\\\"0.68\\\",\\\"0.69\\\",\\\"0.7\\\",\\\"0.71\\\",\\\"0.72\\\",\\\"0.73\\\",\\\"0.74\\\",\\\"0.75\\\",\\\"0.76\\\",\\\"0.77\\\",\\\"0.78\\\",\\\"0.79\\\",\\\"0.8\\\",\\\"0.81\\\",\\\"0.82\\\",\\\"0.83\\\",\\\"0.84\\\",\\\"0.85\\\",\\\"0.86\\\",\\\"0.87\\\",\\\"0.88\\\",\\\"0.89\\\",\\\"0.9\\\",\\\"0.91\\\",\\\"0.92\\\",\\\"0.93\\\",\\\"0.94\\\",\\\"0.95\\\",\\\"0.96\\\",\\\"0.97\\\",\\\"0.98\\\",\\\"0.99\\\",\\\"1.0\\\"],\\\"changes\\\":WebIO.getval({\\\"name\\\":\\\"changes\\\",\\\"scope\\\":\\\"10312091352813917633\\\",\\\"id\\\":\\\"ob_27\\\",\\\"type\\\":\\\"observable\\\"}),\\\"index\\\":WebIO.getval({\\\"name\\\":\\\"index\\\",\\\"scope\\\":\\\"10312091352813917633\\\",\\\"id\\\":\\\"ob_26\\\",\\\"type\\\":\\\"observable\\\"})};\\n    var self = this;\\n    function AppViewModel() {\\n        for (var key in json_data) {\\n            var el = json_data[key];\\n            this[key] = Array.isArray(el) ? ko.observableArray(el) : ko.observable(el);\\n        }\\n        \\n        [this[\\\"formatted_val\\\"]=ko.computed(    function(){\\n        return this.formatted_vals()[parseInt(this.index())-(1)];\\n    }\\n,this)]\\n        [this[\\\"changes\\\"].subscribe((function (val){!(this.valueFromJulia[\\\"changes\\\"]) ? (WebIO.setval({\\\"name\\\":\\\"changes\\\",\\\"scope\\\":\\\"10312091352813917633\\\",\\\"id\\\":\\\"ob_27\\\",\\\"type\\\":\\\"observable\\\"},val)) : undefined; return this.valueFromJulia[\\\"changes\\\"]=false}),self),this[\\\"index\\\"].subscribe((function (val){!(this.valueFromJulia[\\\"index\\\"]) ? (WebIO.setval({\\\"name\\\":\\\"index\\\",\\\"scope\\\":\\\"10312091352813917633\\\",\\\"id\\\":\\\"ob_26\\\",\\\"type\\\":\\\"observable\\\"},val)) : undefined; return this.valueFromJulia[\\\"index\\\"]=false}),self)]\\n        \\n    }\\n    self.model = new AppViewModel();\\n    self.valueFromJulia = {};\\n    for (var key in json_data) {\\n        self.valueFromJulia[key] = false;\\n    }\\n    ko.applyBindings(self.model, self.dom);\\n}\\n);\\n    (WebIO.importBlock({\\\"data\\\":[{\\\"name\\\":\\\"knockout\\\",\\\"type\\\":\\\"js\\\",\\\"url\\\":\\\"/assetserver/acf0924a365e010bf6a3eb46a136f582bb3d7da4-knockout.js\\\"},{\\\"name\\\":\\\"knockout_punches\\\",\\\"type\\\":\\\"js\\\",\\\"url\\\":\\\"/assetserver/5ea3afb6d7dd7ccff78b8ae481a9e30e62bf0288-knockout_punches.js\\\"}],\\\"type\\\":\\\"async_block\\\"})).then((imports) => handler.apply(this, imports));\\n}\\n\")])], Dict{Symbol,Any}(:className => \"field interact-widget\")), Node{WebIO.DOM}(WebIO.DOM(:html, :div), Any[Scope(Node{WebIO.DOM}(WebIO.DOM(:html, :div), Any[Node{WebIO.DOM}(WebIO.DOM(:html, :div), Any[Node{WebIO.DOM}(WebIO.DOM(:html, :label), Any[\"α21\"], Dict{Symbol,Any}(:className => \"interact \",:style => Dict{Any,Any}(:padding => \"5px 10px 0px 10px\")))], Dict{Symbol,Any}(:className => \"interact-flex-row-left\")), Node{WebIO.DOM}(WebIO.DOM(:html, :div), Any[Node{WebIO.DOM}(WebIO.DOM(:html, :input), Any[], Dict{Symbol,Any}(:max => 91,:min => 1,:attributes => Dict{Any,Any}(:type => \"range\",Symbol(\"data-bind\") => \"numericValue: index, valueUpdate: 'input', event: {change: function (){this.changes(this.changes()+1)}}\",\"orient\" => \"horizontal\"),:step => 1,:className => \"slider slider is-fullwidth\",:style => Dict{Any,Any}()))], Dict{Symbol,Any}(:className => \"interact-flex-row-center\")), Node{WebIO.DOM}(WebIO.DOM(:html, :div), Any[Node{WebIO.DOM}(WebIO.DOM(:html, :p), Any[], Dict{Symbol,Any}(:attributes => Dict(\"data-bind\" => \"text: formatted_val\")))], Dict{Symbol,Any}(:className => \"interact-flex-row-right\"))], Dict{Symbol,Any}(:className => \"interact-flex-row interact-widget\")), Dict{String,Tuple{Observables.AbstractObservable,Union{Nothing, Bool}}}(\"changes\" => (Observable{Int64} with 1 listeners. Value:\n",
       "0, nothing),\"index\" => (Observable{Any} with 2 listeners. Value:\n",
       "21, nothing)), Set(String[]), nothing, Asset[Asset(\"js\", \"knockout\", \"/Users/carlingbieg/.julia/packages/Knockout/1sDlc/src/../assets/knockout.js\"), Asset(\"js\", \"knockout_punches\", \"/Users/carlingbieg/.julia/packages/Knockout/1sDlc/src/../assets/knockout_punches.js\"), Asset(\"js\", nothing, \"/Users/carlingbieg/.julia/packages/InteractBase/9mFwe/src/../assets/all.js\"), Asset(\"css\", nothing, \"/Users/carlingbieg/.julia/packages/InteractBase/9mFwe/src/../assets/style.css\"), Asset(\"css\", nothing, \"/Users/carlingbieg/.julia/packages/Interact/SbgIk/src/../assets/bulma_confined.min.css\")], Dict{Any,Any}(\"changes\" => Any[WebIO.JSString(\"(function (val){return (val!=this.model[\\\"changes\\\"]()) ? (this.valueFromJulia[\\\"changes\\\"]=true, this.model[\\\"changes\\\"](val)) : undefined})\")],\"index\" => Any[WebIO.JSString(\"(function (val){return (val!=this.model[\\\"index\\\"]()) ? (this.valueFromJulia[\\\"index\\\"]=true, this.model[\\\"index\\\"](val)) : undefined})\")]), WebIO.ConnectionPool(Channel{Any}(sz_max:32,sz_curr:0), Set(AbstractConnection[]), Base.GenericCondition{Base.AlwaysLockedST}(Base.InvasiveLinkedList{Task}(Task (runnable) @0x000000012e046f50, Task (runnable) @0x000000012e046f50), Base.AlwaysLockedST(1))), WebIO.JSString[WebIO.JSString(\"function () {\\n    var handler = (function (ko, koPunches) {\\n    ko.punches.enableAll();\\n    ko.bindingHandlers.numericValue = {\\n        init: function(element, valueAccessor, allBindings, data, context) {\\n            var stringified = ko.observable(ko.unwrap(valueAccessor()));\\n            stringified.subscribe(function(value) {\\n                var val = parseFloat(value);\\n                if (!isNaN(val)) {\\n                    valueAccessor()(val);\\n                }\\n            });\\n            valueAccessor().subscribe(function(value) {\\n                var str = JSON.stringify(value);\\n                if ((str == \\\"0\\\") && ([\\\"-0\\\", \\\"-0.\\\"].indexOf(stringified()) >= 0))\\n                     return;\\n                 if ([\\\"null\\\", \\\"\\\"].indexOf(str) >= 0)\\n                     return;\\n                stringified(str);\\n            });\\n            ko.applyBindingsToNode(\\n                element,\\n                {\\n                    value: stringified,\\n                    valueUpdate: allBindings.get('valueUpdate'),\\n                },\\n                context,\\n            );\\n        }\\n    };\\n    var json_data = {\\\"formatted_vals\\\":[\\\"0.1\\\",\\\"0.11\\\",\\\"0.12\\\",\\\"0.13\\\",\\\"0.14\\\",\\\"0.15\\\",\\\"0.16\\\",\\\"0.17\\\",\\\"0.18\\\",\\\"0.19\\\",\\\"0.2\\\",\\\"0.21\\\",\\\"0.22\\\",\\\"0.23\\\",\\\"0.24\\\",\\\"0.25\\\",\\\"0.26\\\",\\\"0.27\\\",\\\"0.28\\\",\\\"0.29\\\",\\\"0.3\\\",\\\"0.31\\\",\\\"0.32\\\",\\\"0.33\\\",\\\"0.34\\\",\\\"0.35\\\",\\\"0.36\\\",\\\"0.37\\\",\\\"0.38\\\",\\\"0.39\\\",\\\"0.4\\\",\\\"0.41\\\",\\\"0.42\\\",\\\"0.43\\\",\\\"0.44\\\",\\\"0.45\\\",\\\"0.46\\\",\\\"0.47\\\",\\\"0.48\\\",\\\"0.49\\\",\\\"0.5\\\",\\\"0.51\\\",\\\"0.52\\\",\\\"0.53\\\",\\\"0.54\\\",\\\"0.55\\\",\\\"0.56\\\",\\\"0.57\\\",\\\"0.58\\\",\\\"0.59\\\",\\\"0.6\\\",\\\"0.61\\\",\\\"0.62\\\",\\\"0.63\\\",\\\"0.64\\\",\\\"0.65\\\",\\\"0.66\\\",\\\"0.67\\\",\\\"0.68\\\",\\\"0.69\\\",\\\"0.7\\\",\\\"0.71\\\",\\\"0.72\\\",\\\"0.73\\\",\\\"0.74\\\",\\\"0.75\\\",\\\"0.76\\\",\\\"0.77\\\",\\\"0.78\\\",\\\"0.79\\\",\\\"0.8\\\",\\\"0.81\\\",\\\"0.82\\\",\\\"0.83\\\",\\\"0.84\\\",\\\"0.85\\\",\\\"0.86\\\",\\\"0.87\\\",\\\"0.88\\\",\\\"0.89\\\",\\\"0.9\\\",\\\"0.91\\\",\\\"0.92\\\",\\\"0.93\\\",\\\"0.94\\\",\\\"0.95\\\",\\\"0.96\\\",\\\"0.97\\\",\\\"0.98\\\",\\\"0.99\\\",\\\"1.0\\\"],\\\"changes\\\":WebIO.getval({\\\"name\\\":\\\"changes\\\",\\\"scope\\\":\\\"15475757110861760376\\\",\\\"id\\\":\\\"ob_30\\\",\\\"type\\\":\\\"observable\\\"}),\\\"index\\\":WebIO.getval({\\\"name\\\":\\\"index\\\",\\\"scope\\\":\\\"15475757110861760376\\\",\\\"id\\\":\\\"ob_29\\\",\\\"type\\\":\\\"observable\\\"})};\\n    var self = this;\\n    function AppViewModel() {\\n        for (var key in json_data) {\\n            var el = json_data[key];\\n            this[key] = Array.isArray(el) ? ko.observableArray(el) : ko.observable(el);\\n        }\\n        \\n        [this[\\\"formatted_val\\\"]=ko.computed(    function(){\\n        return this.formatted_vals()[parseInt(this.index())-(1)];\\n    }\\n,this)]\\n        [this[\\\"changes\\\"].subscribe((function (val){!(this.valueFromJulia[\\\"changes\\\"]) ? (WebIO.setval({\\\"name\\\":\\\"changes\\\",\\\"scope\\\":\\\"15475757110861760376\\\",\\\"id\\\":\\\"ob_30\\\",\\\"type\\\":\\\"observable\\\"},val)) : undefined; return this.valueFromJulia[\\\"changes\\\"]=false}),self),this[\\\"index\\\"].subscribe((function (val){!(this.valueFromJulia[\\\"index\\\"]) ? (WebIO.setval({\\\"name\\\":\\\"index\\\",\\\"scope\\\":\\\"15475757110861760376\\\",\\\"id\\\":\\\"ob_29\\\",\\\"type\\\":\\\"observable\\\"},val)) : undefined; return this.valueFromJulia[\\\"index\\\"]=false}),self)]\\n        \\n    }\\n    self.model = new AppViewModel();\\n    self.valueFromJulia = {};\\n    for (var key in json_data) {\\n        self.valueFromJulia[key] = false;\\n    }\\n    ko.applyBindings(self.model, self.dom);\\n}\\n);\\n    (WebIO.importBlock({\\\"data\\\":[{\\\"name\\\":\\\"knockout\\\",\\\"type\\\":\\\"js\\\",\\\"url\\\":\\\"/assetserver/acf0924a365e010bf6a3eb46a136f582bb3d7da4-knockout.js\\\"},{\\\"name\\\":\\\"knockout_punches\\\",\\\"type\\\":\\\"js\\\",\\\"url\\\":\\\"/assetserver/5ea3afb6d7dd7ccff78b8ae481a9e30e62bf0288-knockout_punches.js\\\"}],\\\"type\\\":\\\"async_block\\\"})).then((imports) => handler.apply(this, imports));\\n}\\n\")])], Dict{Symbol,Any}(:className => \"field interact-widget\")), Node{WebIO.DOM}(WebIO.DOM(:html, :div), Any[Scope(Node{WebIO.DOM}(WebIO.DOM(:html, :div), Any[Node{WebIO.DOM}(WebIO.DOM(:html, :div), Any[Node{WebIO.DOM}(WebIO.DOM(:html, :label), Any[\"K1\"], Dict{Symbol,Any}(:className => \"interact \",:style => Dict{Any,Any}(:padding => \"5px 10px 0px 10px\")))], Dict{Symbol,Any}(:className => \"interact-flex-row-left\")), Node{WebIO.DOM}(WebIO.DOM(:html, :div), Any[Node{WebIO.DOM}(WebIO.DOM(:html, :input), Any[], Dict{Symbol,Any}(:max => 191,:min => 1,:attributes => Dict{Any,Any}(:type => \"range\",Symbol(\"data-bind\") => \"numericValue: index, valueUpdate: 'input', event: {change: function (){this.changes(this.changes()+1)}}\",\"orient\" => \"horizontal\"),:step => 1,:className => \"slider slider is-fullwidth\",:style => Dict{Any,Any}()))], Dict{Symbol,Any}(:className => \"interact-flex-row-center\")), Node{WebIO.DOM}(WebIO.DOM(:html, :div), Any[Node{WebIO.DOM}(WebIO.DOM(:html, :p), Any[], Dict{Symbol,Any}(:attributes => Dict(\"data-bind\" => \"text: formatted_val\")))], Dict{Symbol,Any}(:className => \"interact-flex-row-right\"))], Dict{Symbol,Any}(:className => \"interact-flex-row interact-widget\")), Dict{String,Tuple{Observables.AbstractObservable,Union{Nothing, Bool}}}(\"changes\" => (Observable{Int64} with 1 listeners. Value:\n",
       "0, nothing),\"index\" => (Observable{Any} with 2 listeners. Value:\n",
       "141, nothing)), Set(String[]), nothing, Asset[Asset(\"js\", \"knockout\", \"/Users/carlingbieg/.julia/packages/Knockout/1sDlc/src/../assets/knockout.js\"), Asset(\"js\", \"knockout_punches\", \"/Users/carlingbieg/.julia/packages/Knockout/1sDlc/src/../assets/knockout_punches.js\"), Asset(\"js\", nothing, \"/Users/carlingbieg/.julia/packages/InteractBase/9mFwe/src/../assets/all.js\"), Asset(\"css\", nothing, \"/Users/carlingbieg/.julia/packages/InteractBase/9mFwe/src/../assets/style.css\"), Asset(\"css\", nothing, \"/Users/carlingbieg/.julia/packages/Interact/SbgIk/src/../assets/bulma_confined.min.css\")], Dict{Any,Any}(\"changes\" => Any[WebIO.JSString(\"(function (val){return (val!=this.model[\\\"changes\\\"]()) ? (this.valueFromJulia[\\\"changes\\\"]=true, this.model[\\\"changes\\\"](val)) : undefined})\")],\"index\" => Any[WebIO.JSString(\"(function (val){return (val!=this.model[\\\"index\\\"]()) ? (this.valueFromJulia[\\\"index\\\"]=true, this.model[\\\"index\\\"](val)) : undefined})\")]), WebIO.ConnectionPool(Channel{Any}(sz_max:32,sz_curr:0), Set(AbstractConnection[]), Base.GenericCondition{Base.AlwaysLockedST}(Base.InvasiveLinkedList{Task}(Task (runnable) @0x000000013498c250, Task (runnable) @0x000000013498c250), Base.AlwaysLockedST(1))), WebIO.JSString[WebIO.JSString(\"function () {\\n    var handler = (function (ko, koPunches) {\\n    ko.punches.enableAll();\\n    ko.bindingHandlers.numericValue = {\\n        init: function(element, valueAccessor, allBindings, data, context) {\\n            var stringified = ko.observable(ko.unwrap(valueAccessor()));\\n            stringified.subscribe(function(value) {\\n                var val = parseFloat(value);\\n                if (!isNaN(val)) {\\n                    valueAccessor()(val);\\n                }\\n            });\\n            valueAccessor().subscribe(function(value) {\\n                var str = JSON.stringify(value);\\n                if ((str == \\\"0\\\") && ([\\\"-0\\\", \\\"-0.\\\"].indexOf(stringified()) >= 0))\\n                     return;\\n                 if ([\\\"null\\\", \\\"\\\"].indexOf(str) >= 0)\\n                     return;\\n                stringified(str);\\n            });\\n            ko.applyBindingsToNode(\\n                element,\\n                {\\n                    value: stringified,\\n                    valueUpdate: allBindings.get('valueUpdate'),\\n                },\\n                context,\\n            );\\n        }\\n    };\\n    var json_data = {\\\"formatted_vals\\\":[\\\"0.1\\\",\\\"0.11\\\",\\\"0.12\\\",\\\"0.13\\\",\\\"0.14\\\",\\\"0.15\\\",\\\"0.16\\\",\\\"0.17\\\",\\\"0.18\\\",\\\"0.19\\\",\\\"0.2\\\",\\\"0.21\\\",\\\"0.22\\\",\\\"0.23\\\",\\\"0.24\\\",\\\"0.25\\\",\\\"0.26\\\",\\\"0.27\\\",\\\"0.28\\\",\\\"0.29\\\",\\\"0.3\\\",\\\"0.31\\\",\\\"0.32\\\",\\\"0.33\\\",\\\"0.34\\\",\\\"0.35\\\",\\\"0.36\\\",\\\"0.37\\\",\\\"0.38\\\",\\\"0.39\\\",\\\"0.4\\\",\\\"0.41\\\",\\\"0.42\\\",\\\"0.43\\\",\\\"0.44\\\",\\\"0.45\\\",\\\"0.46\\\",\\\"0.47\\\",\\\"0.48\\\",\\\"0.49\\\",\\\"0.5\\\",\\\"0.51\\\",\\\"0.52\\\",\\\"0.53\\\",\\\"0.54\\\",\\\"0.55\\\",\\\"0.56\\\",\\\"0.57\\\",\\\"0.58\\\",\\\"0.59\\\",\\\"0.6\\\",\\\"0.61\\\",\\\"0.62\\\",\\\"0.63\\\",\\\"0.64\\\",\\\"0.65\\\",\\\"0.66\\\",\\\"0.67\\\",\\\"0.68\\\",\\\"0.69\\\",\\\"0.7\\\",\\\"0.71\\\",\\\"0.72\\\",\\\"0.73\\\",\\\"0.74\\\",\\\"0.75\\\",\\\"0.76\\\",\\\"0.77\\\",\\\"0.78\\\",\\\"0.79\\\",\\\"0.8\\\",\\\"0.81\\\",\\\"0.82\\\",\\\"0.83\\\",\\\"0.84\\\",\\\"0.85\\\",\\\"0.86\\\",\\\"0.87\\\",\\\"0.88\\\",\\\"0.89\\\",\\\"0.9\\\",\\\"0.91\\\",\\\"0.92\\\",\\\"0.93\\\",\\\"0.94\\\",\\\"0.95\\\",\\\"0.96\\\",\\\"0.97\\\",\\\"0.98\\\",\\\"0.99\\\",\\\"1.0\\\",\\\"1.01\\\",\\\"1.02\\\",\\\"1.03\\\",\\\"1.04\\\",\\\"1.05\\\",\\\"1.06\\\",\\\"1.07\\\",\\\"1.08\\\",\\\"1.09\\\",\\\"1.1\\\",\\\"1.11\\\",\\\"1.12\\\",\\\"1.13\\\",\\\"1.14\\\",\\\"1.15\\\",\\\"1.16\\\",\\\"1.17\\\",\\\"1.18\\\",\\\"1.19\\\",\\\"1.2\\\",\\\"1.21\\\",\\\"1.22\\\",\\\"1.23\\\",\\\"1.24\\\",\\\"1.25\\\",\\\"1.26\\\",\\\"1.27\\\",\\\"1.28\\\",\\\"1.29\\\",\\\"1.3\\\",\\\"1.31\\\",\\\"1.32\\\",\\\"1.33\\\",\\\"1.34\\\",\\\"1.35\\\",\\\"1.36\\\",\\\"1.37\\\",\\\"1.38\\\",\\\"1.39\\\",\\\"1.4\\\",\\\"1.41\\\",\\\"1.42\\\",\\\"1.43\\\",\\\"1.44\\\",\\\"1.45\\\",\\\"1.46\\\",\\\"1.47\\\",\\\"1.48\\\",\\\"1.49\\\",\\\"1.5\\\",\\\"1.51\\\",\\\"1.52\\\",\\\"1.53\\\",\\\"1.54\\\",\\\"1.55\\\",\\\"1.56\\\",\\\"1.57\\\",\\\"1.58\\\",\\\"1.59\\\",\\\"1.6\\\",\\\"1.61\\\",\\\"1.62\\\",\\\"1.63\\\",\\\"1.64\\\",\\\"1.65\\\",\\\"1.66\\\",\\\"1.67\\\",\\\"1.68\\\",\\\"1.69\\\",\\\"1.7\\\",\\\"1.71\\\",\\\"1.72\\\",\\\"1.73\\\",\\\"1.74\\\",\\\"1.75\\\",\\\"1.76\\\",\\\"1.77\\\",\\\"1.78\\\",\\\"1.79\\\",\\\"1.8\\\",\\\"1.81\\\",\\\"1.82\\\",\\\"1.83\\\",\\\"1.84\\\",\\\"1.85\\\",\\\"1.86\\\",\\\"1.87\\\",\\\"1.88\\\",\\\"1.89\\\",\\\"1.9\\\",\\\"1.91\\\",\\\"1.92\\\",\\\"1.93\\\",\\\"1.94\\\",\\\"1.95\\\",\\\"1.96\\\",\\\"1.97\\\",\\\"1.98\\\",\\\"1.99\\\",\\\"2.0\\\"],\\\"changes\\\":WebIO.getval({\\\"name\\\":\\\"changes\\\",\\\"scope\\\":\\\"12174460662957082479\\\",\\\"id\\\":\\\"ob_33\\\",\\\"type\\\":\\\"observable\\\"}),\\\"index\\\":WebIO.getval({\\\"name\\\":\\\"index\\\",\\\"scope\\\":\\\"12174460662957082479\\\",\\\"id\\\":\\\"ob_32\\\",\\\"type\\\":\\\"observable\\\"})};\\n    var self = this;\\n    function AppViewModel() {\\n        for (var key in json_data) {\\n            var el = json_data[key];\\n            this[key] = Array.isArray(el) ? ko.observableArray(el) : ko.observable(el);\\n        }\\n        \\n        [this[\\\"formatted_val\\\"]=ko.computed(    function(){\\n        return this.formatted_vals()[parseInt(this.index())-(1)];\\n    }\\n,this)]\\n        [this[\\\"changes\\\"].subscribe((function (val){!(this.valueFromJulia[\\\"changes\\\"]) ? (WebIO.setval({\\\"name\\\":\\\"changes\\\",\\\"scope\\\":\\\"12174460662957082479\\\",\\\"id\\\":\\\"ob_33\\\",\\\"type\\\":\\\"observable\\\"},val)) : undefined; return this.valueFromJulia[\\\"changes\\\"]=false}),self),this[\\\"index\\\"].subscribe((function (val){!(this.valueFromJulia[\\\"index\\\"]) ? (WebIO.setval({\\\"name\\\":\\\"index\\\",\\\"scope\\\":\\\"12174460662957082479\\\",\\\"id\\\":\\\"ob_32\\\",\\\"type\\\":\\\"observable\\\"},val)) : undefined; return this.valueFromJulia[\\\"index\\\"]=false}),self)]\\n        \\n    }\\n    self.model = new AppViewModel();\\n    self.valueFromJulia = {};\\n    for (var key in json_data) {\\n        self.valueFromJulia[key] = false;\\n    }\\n    ko.applyBindings(self.model, self.dom);\\n}\\n);\\n    (WebIO.importBlock({\\\"data\\\":[{\\\"name\\\":\\\"knockout\\\",\\\"type\\\":\\\"js\\\",\\\"url\\\":\\\"/assetserver/acf0924a365e010bf6a3eb46a136f582bb3d7da4-knockout.js\\\"},{\\\"name\\\":\\\"knockout_punches\\\",\\\"type\\\":\\\"js\\\",\\\"url\\\":\\\"/assetserver/5ea3afb6d7dd7ccff78b8ae481a9e30e62bf0288-knockout_punches.js\\\"}],\\\"type\\\":\\\"async_block\\\"})).then((imports) => handler.apply(this, imports));\\n}\\n\")])], Dict{Symbol,Any}(:className => \"field interact-widget\")), Node{WebIO.DOM}(WebIO.DOM(:html, :div), Any[Scope(Node{WebIO.DOM}(WebIO.DOM(:html, :div), Any[Node{WebIO.DOM}(WebIO.DOM(:html, :div), Any[Node{WebIO.DOM}(WebIO.DOM(:html, :label), Any[\"K2\"], Dict{Symbol,Any}(:className => \"interact \",:style => Dict{Any,Any}(:padding => \"5px 10px 0px 10px\")))], Dict{Symbol,Any}(:className => \"interact-flex-row-left\")), Node{WebIO.DOM}(WebIO.DOM(:html, :div), Any[Node{WebIO.DOM}(WebIO.DOM(:html, :input), Any[], Dict{Symbol,Any}(:max => 191,:min => 1,:attributes => Dict{Any,Any}(:type => \"range\",Symbol(\"data-bind\") => \"numericValue: index, valueUpdate: 'input', event: {change: function (){this.changes(this.changes()+1)}}\",\"orient\" => \"horizontal\"),:step => 1,:className => \"slider slider is-fullwidth\",:style => Dict{Any,Any}()))], Dict{Symbol,Any}(:className => \"interact-flex-row-center\")), Node{WebIO.DOM}(WebIO.DOM(:html, :div), Any[Node{WebIO.DOM}(WebIO.DOM(:html, :p), Any[], Dict{Symbol,Any}(:attributes => Dict(\"data-bind\" => \"text: formatted_val\")))], Dict{Symbol,Any}(:className => \"interact-flex-row-right\"))], Dict{Symbol,Any}(:className => \"interact-flex-row interact-widget\")), Dict{String,Tuple{Observables.AbstractObservable,Union{Nothing, Bool}}}(\"changes\" => (Observable{Int64} with 1 listeners. Value:\n",
       "0, nothing),\"index\" => (Observable{Any} with 2 listeners. Value:\n",
       "91, nothing)), Set(String[]), nothing, Asset[Asset(\"js\", \"knockout\", \"/Users/carlingbieg/.julia/packages/Knockout/1sDlc/src/../assets/knockout.js\"), Asset(\"js\", \"knockout_punches\", \"/Users/carlingbieg/.julia/packages/Knockout/1sDlc/src/../assets/knockout_punches.js\"), Asset(\"js\", nothing, \"/Users/carlingbieg/.julia/packages/InteractBase/9mFwe/src/../assets/all.js\"), Asset(\"css\", nothing, \"/Users/carlingbieg/.julia/packages/InteractBase/9mFwe/src/../assets/style.css\"), Asset(\"css\", nothing, \"/Users/carlingbieg/.julia/packages/Interact/SbgIk/src/../assets/bulma_confined.min.css\")], Dict{Any,Any}(\"changes\" => Any[WebIO.JSString(\"(function (val){return (val!=this.model[\\\"changes\\\"]()) ? (this.valueFromJulia[\\\"changes\\\"]=true, this.model[\\\"changes\\\"](val)) : undefined})\")],\"index\" => Any[WebIO.JSString(\"(function (val){return (val!=this.model[\\\"index\\\"]()) ? (this.valueFromJulia[\\\"index\\\"]=true, this.model[\\\"index\\\"](val)) : undefined})\")]), WebIO.ConnectionPool(Channel{Any}(sz_max:32,sz_curr:0), Set(AbstractConnection[]), Base.GenericCondition{Base.AlwaysLockedST}(Base.InvasiveLinkedList{Task}(Task (runnable) @0x000000013498c6d0, Task (runnable) @0x000000013498c6d0), Base.AlwaysLockedST(1))), WebIO.JSString[WebIO.JSString(\"function () {\\n    var handler = (function (ko, koPunches) {\\n    ko.punches.enableAll();\\n    ko.bindingHandlers.numericValue = {\\n        init: function(element, valueAccessor, allBindings, data, context) {\\n            var stringified = ko.observable(ko.unwrap(valueAccessor()));\\n            stringified.subscribe(function(value) {\\n                var val = parseFloat(value);\\n                if (!isNaN(val)) {\\n                    valueAccessor()(val);\\n                }\\n            });\\n            valueAccessor().subscribe(function(value) {\\n                var str = JSON.stringify(value);\\n                if ((str == \\\"0\\\") && ([\\\"-0\\\", \\\"-0.\\\"].indexOf(stringified()) >= 0))\\n                     return;\\n                 if ([\\\"null\\\", \\\"\\\"].indexOf(str) >= 0)\\n                     return;\\n                stringified(str);\\n            });\\n            ko.applyBindingsToNode(\\n                element,\\n                {\\n                    value: stringified,\\n                    valueUpdate: allBindings.get('valueUpdate'),\\n                },\\n                context,\\n            );\\n        }\\n    };\\n    var json_data = {\\\"formatted_vals\\\":[\\\"0.1\\\",\\\"0.11\\\",\\\"0.12\\\",\\\"0.13\\\",\\\"0.14\\\",\\\"0.15\\\",\\\"0.16\\\",\\\"0.17\\\",\\\"0.18\\\",\\\"0.19\\\",\\\"0.2\\\",\\\"0.21\\\",\\\"0.22\\\",\\\"0.23\\\",\\\"0.24\\\",\\\"0.25\\\",\\\"0.26\\\",\\\"0.27\\\",\\\"0.28\\\",\\\"0.29\\\",\\\"0.3\\\",\\\"0.31\\\",\\\"0.32\\\",\\\"0.33\\\",\\\"0.34\\\",\\\"0.35\\\",\\\"0.36\\\",\\\"0.37\\\",\\\"0.38\\\",\\\"0.39\\\",\\\"0.4\\\",\\\"0.41\\\",\\\"0.42\\\",\\\"0.43\\\",\\\"0.44\\\",\\\"0.45\\\",\\\"0.46\\\",\\\"0.47\\\",\\\"0.48\\\",\\\"0.49\\\",\\\"0.5\\\",\\\"0.51\\\",\\\"0.52\\\",\\\"0.53\\\",\\\"0.54\\\",\\\"0.55\\\",\\\"0.56\\\",\\\"0.57\\\",\\\"0.58\\\",\\\"0.59\\\",\\\"0.6\\\",\\\"0.61\\\",\\\"0.62\\\",\\\"0.63\\\",\\\"0.64\\\",\\\"0.65\\\",\\\"0.66\\\",\\\"0.67\\\",\\\"0.68\\\",\\\"0.69\\\",\\\"0.7\\\",\\\"0.71\\\",\\\"0.72\\\",\\\"0.73\\\",\\\"0.74\\\",\\\"0.75\\\",\\\"0.76\\\",\\\"0.77\\\",\\\"0.78\\\",\\\"0.79\\\",\\\"0.8\\\",\\\"0.81\\\",\\\"0.82\\\",\\\"0.83\\\",\\\"0.84\\\",\\\"0.85\\\",\\\"0.86\\\",\\\"0.87\\\",\\\"0.88\\\",\\\"0.89\\\",\\\"0.9\\\",\\\"0.91\\\",\\\"0.92\\\",\\\"0.93\\\",\\\"0.94\\\",\\\"0.95\\\",\\\"0.96\\\",\\\"0.97\\\",\\\"0.98\\\",\\\"0.99\\\",\\\"1.0\\\",\\\"1.01\\\",\\\"1.02\\\",\\\"1.03\\\",\\\"1.04\\\",\\\"1.05\\\",\\\"1.06\\\",\\\"1.07\\\",\\\"1.08\\\",\\\"1.09\\\",\\\"1.1\\\",\\\"1.11\\\",\\\"1.12\\\",\\\"1.13\\\",\\\"1.14\\\",\\\"1.15\\\",\\\"1.16\\\",\\\"1.17\\\",\\\"1.18\\\",\\\"1.19\\\",\\\"1.2\\\",\\\"1.21\\\",\\\"1.22\\\",\\\"1.23\\\",\\\"1.24\\\",\\\"1.25\\\",\\\"1.26\\\",\\\"1.27\\\",\\\"1.28\\\",\\\"1.29\\\",\\\"1.3\\\",\\\"1.31\\\",\\\"1.32\\\",\\\"1.33\\\",\\\"1.34\\\",\\\"1.35\\\",\\\"1.36\\\",\\\"1.37\\\",\\\"1.38\\\",\\\"1.39\\\",\\\"1.4\\\",\\\"1.41\\\",\\\"1.42\\\",\\\"1.43\\\",\\\"1.44\\\",\\\"1.45\\\",\\\"1.46\\\",\\\"1.47\\\",\\\"1.48\\\",\\\"1.49\\\",\\\"1.5\\\",\\\"1.51\\\",\\\"1.52\\\",\\\"1.53\\\",\\\"1.54\\\",\\\"1.55\\\",\\\"1.56\\\",\\\"1.57\\\",\\\"1.58\\\",\\\"1.59\\\",\\\"1.6\\\",\\\"1.61\\\",\\\"1.62\\\",\\\"1.63\\\",\\\"1.64\\\",\\\"1.65\\\",\\\"1.66\\\",\\\"1.67\\\",\\\"1.68\\\",\\\"1.69\\\",\\\"1.7\\\",\\\"1.71\\\",\\\"1.72\\\",\\\"1.73\\\",\\\"1.74\\\",\\\"1.75\\\",\\\"1.76\\\",\\\"1.77\\\",\\\"1.78\\\",\\\"1.79\\\",\\\"1.8\\\",\\\"1.81\\\",\\\"1.82\\\",\\\"1.83\\\",\\\"1.84\\\",\\\"1.85\\\",\\\"1.86\\\",\\\"1.87\\\",\\\"1.88\\\",\\\"1.89\\\",\\\"1.9\\\",\\\"1.91\\\",\\\"1.92\\\",\\\"1.93\\\",\\\"1.94\\\",\\\"1.95\\\",\\\"1.96\\\",\\\"1.97\\\",\\\"1.98\\\",\\\"1.99\\\",\\\"2.0\\\"],\\\"changes\\\":WebIO.getval({\\\"name\\\":\\\"changes\\\",\\\"scope\\\":\\\"9937568254509816097\\\",\\\"id\\\":\\\"ob_36\\\",\\\"type\\\":\\\"observable\\\"}),\\\"index\\\":WebIO.getval({\\\"name\\\":\\\"index\\\",\\\"scope\\\":\\\"9937568254509816097\\\",\\\"id\\\":\\\"ob_35\\\",\\\"type\\\":\\\"observable\\\"})};\\n    var self = this;\\n    function AppViewModel() {\\n        for (var key in json_data) {\\n            var el = json_data[key];\\n            this[key] = Array.isArray(el) ? ko.observableArray(el) : ko.observable(el);\\n        }\\n        \\n        [this[\\\"formatted_val\\\"]=ko.computed(    function(){\\n        return this.formatted_vals()[parseInt(this.index())-(1)];\\n    }\\n,this)]\\n        [this[\\\"changes\\\"].subscribe((function (val){!(this.valueFromJulia[\\\"changes\\\"]) ? (WebIO.setval({\\\"name\\\":\\\"changes\\\",\\\"scope\\\":\\\"9937568254509816097\\\",\\\"id\\\":\\\"ob_36\\\",\\\"type\\\":\\\"observable\\\"},val)) : undefined; return this.valueFromJulia[\\\"changes\\\"]=false}),self),this[\\\"index\\\"].subscribe((function (val){!(this.valueFromJulia[\\\"index\\\"]) ? (WebIO.setval({\\\"name\\\":\\\"index\\\",\\\"scope\\\":\\\"9937568254509816097\\\",\\\"id\\\":\\\"ob_35\\\",\\\"type\\\":\\\"observable\\\"},val)) : undefined; return this.valueFromJulia[\\\"index\\\"]=false}),self)]\\n        \\n    }\\n    self.model = new AppViewModel();\\n    self.valueFromJulia = {};\\n    for (var key in json_data) {\\n        self.valueFromJulia[key] = false;\\n    }\\n    ko.applyBindings(self.model, self.dom);\\n}\\n);\\n    (WebIO.importBlock({\\\"data\\\":[{\\\"name\\\":\\\"knockout\\\",\\\"type\\\":\\\"js\\\",\\\"url\\\":\\\"/assetserver/acf0924a365e010bf6a3eb46a136f582bb3d7da4-knockout.js\\\"},{\\\"name\\\":\\\"knockout_punches\\\",\\\"type\\\":\\\"js\\\",\\\"url\\\":\\\"/assetserver/5ea3afb6d7dd7ccff78b8ae481a9e30e62bf0288-knockout_punches.js\\\"}],\\\"type\\\":\\\"async_block\\\"})).then((imports) => handler.apply(this, imports));\\n}\\n\")])], Dict{Symbol,Any}(:className => \"field interact-widget\")), Observable{Any} with 0 listeners. Value:\n",
       "Node{WebIO.DOM}(WebIO.DOM(:html, :div), Any[Figure(PyObject <Figure size 640x480 with 1 Axes>)], Dict{Symbol,Any}(:className => \"interact-flex-row interact-widget\"))], Dict{Symbol,Any}())"
      ]
     },
     "execution_count": 53,
     "metadata": {},
     "output_type": "execute_result"
    }
   ],
   "source": [
    "f1 = figure()\n",
    "u2s = range(0, 5, length = 100)\n",
    "@manipulate for α12 in slider(0.1:0.01:1.0; label = \"α12\", value = 0.8), \n",
    "                α21 in slider(0.1:0.01:1.0; label = \"α21\", value = 0.3), \n",
    "                K1 in slider(0.1:0.01:2.0; label = \"K1\", value = 1.5), \n",
    "                K2 in slider(0.1:0.01:2.0; label = \"K2\", value = 1.0)\n",
    "    p = LVPar(α12 = α12, α21 = α21, K1 = K1, K2 = K2)\n",
    "    withfig(f1, clear = true) do\n",
    "        plot(u2s, [iso1(u2, p) for u2 in u2s], label = \"u1 = 0\")\n",
    "        plot(u2s, [iso2(u2, p) for u2 in u2s], label = \"u2 = 0\")\n",
    "        xlim(0, 3)\n",
    "        ylim(0, 5)\n",
    "        xlabel(\"u2\")\n",
    "        ylabel(\"u1\")\n",
    "    end\n",
    "end"
   ]
  },
  {
   "cell_type": "code",
   "execution_count": null,
   "metadata": {},
   "outputs": [],
   "source": []
  },
  {
   "cell_type": "code",
   "execution_count": 54,
   "metadata": {},
   "outputs": [
    {
     "data": {
      "image/png": "[encoded data removed]",
      "text/plain": [
       "Figure(PyObject <Figure size 640x480 with 1 Axes>)"
      ]
     },
     "execution_count": 54,
     "metadata": {},
     "output_type": "execute_result"
    }
   ],
   "source": [
    "f1 = figure()\n",
    "u2s = range(0, 5, length = 100)\n",
    "    p = LVPar()\n",
    "    withfig(f1, clear = true) do\n",
    "        plot(u2s, [iso1(u2, p) for u2 in u2s], label = \"u1 = 0\")\n",
    "        plot(u2s, [iso2(u2, p) for u2 in u2s], label = \"u2 = 0\")\n",
    "        xlim(0, 3)\n",
    "        ylim(0, 5)\n",
    "        xlabel(\"u2\")\n",
    "        ylabel(\"u1\")\n",
    "    end"
   ]
  },
  {
   "cell_type": "code",
   "execution_count": null,
   "metadata": {},
   "outputs": [],
   "source": []
  }
 ],
 "metadata": {
  "@webio": {
   "lastCommId": "119c5d3a11c34b4c8379681f4c339758",
   "lastKernelId": "e9d64544-b9f9-425c-ba9f-49be700952c3"
  },
  "kernelspec": {
   "display_name": "Julia 1.2.0",
   "language": "julia",
   "name": "julia-1.2"
  },
  "language_info": {
   "file_extension": ".jl",
   "mimetype": "application/julia",
   "name": "julia",
   "version": "1.2.0"
  }
 },
 "nbformat": 4,
 "nbformat_minor": 2
}
